{
 "cells": [
  {
   "cell_type": "code",
   "execution_count": 54,
   "metadata": {},
   "outputs": [
    {
     "name": "stdout",
     "output_type": "stream",
     "text": [
      "Requirement already satisfied: xlrd in /opt/homebrew/lib/python3.11/site-packages (2.0.1)\n",
      "\n",
      "\u001b[1m[\u001b[0m\u001b[34;49mnotice\u001b[0m\u001b[1;39;49m]\u001b[0m\u001b[39;49m A new release of pip is available: \u001b[0m\u001b[31;49m23.0.1\u001b[0m\u001b[39;49m -> \u001b[0m\u001b[32;49m23.1.2\u001b[0m\n",
      "\u001b[1m[\u001b[0m\u001b[34;49mnotice\u001b[0m\u001b[1;39;49m]\u001b[0m\u001b[39;49m To update, run: \u001b[0m\u001b[32;49mpython3.11 -m pip install --upgrade pip\u001b[0m\n"
     ]
    }
   ],
   "source": [
    "!pip install xlrd\n",
    "import pandas as pd\n",
    "import matplotlib\n",
    "import numpy as np"
   ]
  },
  {
   "cell_type": "code",
   "execution_count": 3,
   "metadata": {},
   "outputs": [
    {
     "data": {
      "text/html": [
       "<div>\n",
       "<style scoped>\n",
       "    .dataframe tbody tr th:only-of-type {\n",
       "        vertical-align: middle;\n",
       "    }\n",
       "\n",
       "    .dataframe tbody tr th {\n",
       "        vertical-align: top;\n",
       "    }\n",
       "\n",
       "    .dataframe thead th {\n",
       "        text-align: right;\n",
       "    }\n",
       "</style>\n",
       "<table border=\"1\" class=\"dataframe\">\n",
       "  <thead>\n",
       "    <tr style=\"text-align: right;\">\n",
       "      <th></th>\n",
       "      <th>Nombre Servicio de Salud</th>\n",
       "      <th>Nombre Establecimiento</th>\n",
       "      <th>Área Cuidados Intensivos Adultos</th>\n",
       "      <th>Área Cuidados Intermedios Adulto</th>\n",
       "      <th>Total Camas Críticas</th>\n",
       "      <th>Máxima cantidad de camas a aumetar</th>\n",
       "      <th>Costo de instalar una cama [MM$]</th>\n",
       "      <th>Costo de operación anual de una cama [MM$]</th>\n",
       "      <th>Costo diario GRD1 [MM$]</th>\n",
       "      <th>Costo diario GRD2 [MM$]</th>\n",
       "      <th>Costo diario GRD3 [MM$]</th>\n",
       "      <th>Costo diario GRD4 [MM$]</th>\n",
       "      <th>Costo diario GRD5 [MM$]</th>\n",
       "      <th>Costo diario GRD6 [MM$]</th>\n",
       "      <th>Costo diario GRD7 [MM$]</th>\n",
       "      <th>Costo diario GRD8 [MM$]</th>\n",
       "      <th>Costo diario GRD9 [MM$]</th>\n",
       "      <th>Costo diario GRD10 [MM$]</th>\n",
       "    </tr>\n",
       "  </thead>\n",
       "  <tbody>\n",
       "    <tr>\n",
       "      <th>0</th>\n",
       "      <td>Metropolitano Norte                           ...</td>\n",
       "      <td>Complejo Hospitalario San José</td>\n",
       "      <td>11</td>\n",
       "      <td>33</td>\n",
       "      <td>44</td>\n",
       "      <td>10</td>\n",
       "      <td>1407</td>\n",
       "      <td>47.2</td>\n",
       "      <td>0.593</td>\n",
       "      <td>0.509</td>\n",
       "      <td>0.367</td>\n",
       "      <td>0.492</td>\n",
       "      <td>0.524</td>\n",
       "      <td>0.405</td>\n",
       "      <td>0.571</td>\n",
       "      <td>0.474</td>\n",
       "      <td>0.498</td>\n",
       "      <td>0.305</td>\n",
       "    </tr>\n",
       "    <tr>\n",
       "      <th>1</th>\n",
       "      <td>Metropolitano Occidente                       ...</td>\n",
       "      <td>Hospital Adalberto Steeger (Talagante)</td>\n",
       "      <td>6</td>\n",
       "      <td>11</td>\n",
       "      <td>17</td>\n",
       "      <td>5</td>\n",
       "      <td>1263</td>\n",
       "      <td>62.1</td>\n",
       "      <td>0.493</td>\n",
       "      <td>0.357</td>\n",
       "      <td>0.429</td>\n",
       "      <td>0.382</td>\n",
       "      <td>0.469</td>\n",
       "      <td>0.386</td>\n",
       "      <td>0.543</td>\n",
       "      <td>0.362</td>\n",
       "      <td>0.564</td>\n",
       "      <td>0.333</td>\n",
       "    </tr>\n",
       "    <tr>\n",
       "      <th>2</th>\n",
       "      <td>Metropolitano Occidente                       ...</td>\n",
       "      <td>Hospital Dr. Félix Bulnes Cerda</td>\n",
       "      <td>3</td>\n",
       "      <td>6</td>\n",
       "      <td>9</td>\n",
       "      <td>5</td>\n",
       "      <td>1310</td>\n",
       "      <td>65.9</td>\n",
       "      <td>0.580</td>\n",
       "      <td>0.325</td>\n",
       "      <td>0.375</td>\n",
       "      <td>0.409</td>\n",
       "      <td>0.561</td>\n",
       "      <td>0.362</td>\n",
       "      <td>0.328</td>\n",
       "      <td>0.314</td>\n",
       "      <td>0.536</td>\n",
       "      <td>0.436</td>\n",
       "    </tr>\n",
       "    <tr>\n",
       "      <th>3</th>\n",
       "      <td>Metropolitano Occidente                       ...</td>\n",
       "      <td>Hospital San Juan de Dios</td>\n",
       "      <td>29</td>\n",
       "      <td>47</td>\n",
       "      <td>76</td>\n",
       "      <td>30</td>\n",
       "      <td>1066</td>\n",
       "      <td>39.2</td>\n",
       "      <td>0.482</td>\n",
       "      <td>0.554</td>\n",
       "      <td>0.564</td>\n",
       "      <td>0.331</td>\n",
       "      <td>0.438</td>\n",
       "      <td>0.509</td>\n",
       "      <td>0.544</td>\n",
       "      <td>0.410</td>\n",
       "      <td>0.441</td>\n",
       "      <td>0.359</td>\n",
       "    </tr>\n",
       "    <tr>\n",
       "      <th>4</th>\n",
       "      <td>Metropolitano Occidente                       ...</td>\n",
       "      <td>Instituto Traumatológico Dr. Teodoro Gebauer</td>\n",
       "      <td>12</td>\n",
       "      <td>6</td>\n",
       "      <td>18</td>\n",
       "      <td>5</td>\n",
       "      <td>1433</td>\n",
       "      <td>55.5</td>\n",
       "      <td>0.407</td>\n",
       "      <td>0.449</td>\n",
       "      <td>0.468</td>\n",
       "      <td>0.433</td>\n",
       "      <td>0.573</td>\n",
       "      <td>0.392</td>\n",
       "      <td>0.409</td>\n",
       "      <td>0.391</td>\n",
       "      <td>0.418</td>\n",
       "      <td>0.334</td>\n",
       "    </tr>\n",
       "  </tbody>\n",
       "</table>\n",
       "</div>"
      ],
      "text/plain": [
       "                            Nombre Servicio de Salud  \\\n",
       "0  Metropolitano Norte                           ...   \n",
       "1  Metropolitano Occidente                       ...   \n",
       "2  Metropolitano Occidente                       ...   \n",
       "3  Metropolitano Occidente                       ...   \n",
       "4  Metropolitano Occidente                       ...   \n",
       "\n",
       "                         Nombre Establecimiento  \\\n",
       "0                Complejo Hospitalario San José   \n",
       "1        Hospital Adalberto Steeger (Talagante)   \n",
       "2               Hospital Dr. Félix Bulnes Cerda   \n",
       "3                     Hospital San Juan de Dios   \n",
       "4  Instituto Traumatológico Dr. Teodoro Gebauer   \n",
       "\n",
       "   Área Cuidados Intensivos Adultos  Área Cuidados Intermedios Adulto  \\\n",
       "0                                11                                33   \n",
       "1                                 6                                11   \n",
       "2                                 3                                 6   \n",
       "3                                29                                47   \n",
       "4                                12                                 6   \n",
       "\n",
       "   Total Camas Críticas  Máxima cantidad de camas a aumetar  \\\n",
       "0                    44                                  10   \n",
       "1                    17                                   5   \n",
       "2                     9                                   5   \n",
       "3                    76                                  30   \n",
       "4                    18                                   5   \n",
       "\n",
       "   Costo de instalar una cama [MM$]  \\\n",
       "0                              1407   \n",
       "1                              1263   \n",
       "2                              1310   \n",
       "3                              1066   \n",
       "4                              1433   \n",
       "\n",
       "   Costo de operación anual de una cama [MM$]  Costo diario GRD1 [MM$]  \\\n",
       "0                                        47.2                    0.593   \n",
       "1                                        62.1                    0.493   \n",
       "2                                        65.9                    0.580   \n",
       "3                                        39.2                    0.482   \n",
       "4                                        55.5                    0.407   \n",
       "\n",
       "   Costo diario GRD2 [MM$]  Costo diario GRD3 [MM$]  Costo diario GRD4 [MM$]  \\\n",
       "0                    0.509                    0.367                    0.492   \n",
       "1                    0.357                    0.429                    0.382   \n",
       "2                    0.325                    0.375                    0.409   \n",
       "3                    0.554                    0.564                    0.331   \n",
       "4                    0.449                    0.468                    0.433   \n",
       "\n",
       "   Costo diario GRD5 [MM$]  Costo diario GRD6 [MM$]  Costo diario GRD7 [MM$]  \\\n",
       "0                    0.524                    0.405                    0.571   \n",
       "1                    0.469                    0.386                    0.543   \n",
       "2                    0.561                    0.362                    0.328   \n",
       "3                    0.438                    0.509                    0.544   \n",
       "4                    0.573                    0.392                    0.409   \n",
       "\n",
       "   Costo diario GRD8 [MM$]  Costo diario GRD9 [MM$]  Costo diario GRD10 [MM$]  \n",
       "0                    0.474                    0.498                     0.305  \n",
       "1                    0.362                    0.564                     0.333  \n",
       "2                    0.314                    0.536                     0.436  \n",
       "3                    0.410                    0.441                     0.359  \n",
       "4                    0.391                    0.418                     0.334  "
      ]
     },
     "execution_count": 3,
     "metadata": {},
     "output_type": "execute_result"
    }
   ],
   "source": [
    "Hosp_sheet = pd.read_excel('datos.xls', sheet_name='Hospitales')\n",
    "Hosp_sheet.head()"
   ]
  },
  {
   "cell_type": "code",
   "execution_count": 4,
   "metadata": {},
   "outputs": [
    {
     "data": {
      "text/html": [
       "<div>\n",
       "<style scoped>\n",
       "    .dataframe tbody tr th:only-of-type {\n",
       "        vertical-align: middle;\n",
       "    }\n",
       "\n",
       "    .dataframe tbody tr th {\n",
       "        vertical-align: top;\n",
       "    }\n",
       "\n",
       "    .dataframe thead th {\n",
       "        text-align: right;\n",
       "    }\n",
       "</style>\n",
       "<table border=\"1\" class=\"dataframe\">\n",
       "  <thead>\n",
       "    <tr style=\"text-align: right;\">\n",
       "      <th></th>\n",
       "      <th>Número de llegada</th>\n",
       "      <th>Hospital al que llega</th>\n",
       "      <th>GRD</th>\n",
       "      <th>Día de llegada</th>\n",
       "      <th>Día de salida</th>\n",
       "      <th>Estadia</th>\n",
       "    </tr>\n",
       "  </thead>\n",
       "  <tbody>\n",
       "    <tr>\n",
       "      <th>0</th>\n",
       "      <td>1</td>\n",
       "      <td>Instituto Traumatológico Dr. Teodoro Gebauer</td>\n",
       "      <td>GRD3</td>\n",
       "      <td>1</td>\n",
       "      <td>4</td>\n",
       "      <td>3</td>\n",
       "    </tr>\n",
       "    <tr>\n",
       "      <th>1</th>\n",
       "      <td>2</td>\n",
       "      <td>Hospital Clínico San Borja-Arriarán</td>\n",
       "      <td>GRD7</td>\n",
       "      <td>1</td>\n",
       "      <td>5</td>\n",
       "      <td>4</td>\n",
       "    </tr>\n",
       "    <tr>\n",
       "      <th>2</th>\n",
       "      <td>3</td>\n",
       "      <td>Hospital Dr. Luis Tisné B.</td>\n",
       "      <td>GRD7</td>\n",
       "      <td>1</td>\n",
       "      <td>5</td>\n",
       "      <td>4</td>\n",
       "    </tr>\n",
       "    <tr>\n",
       "      <th>3</th>\n",
       "      <td>4</td>\n",
       "      <td>Hospital Dr. Exequiel González Cortés</td>\n",
       "      <td>GRD10</td>\n",
       "      <td>1</td>\n",
       "      <td>11</td>\n",
       "      <td>10</td>\n",
       "    </tr>\n",
       "    <tr>\n",
       "      <th>4</th>\n",
       "      <td>5</td>\n",
       "      <td>Hospital Barros Luco Trudeau</td>\n",
       "      <td>GRD6</td>\n",
       "      <td>1</td>\n",
       "      <td>6</td>\n",
       "      <td>5</td>\n",
       "    </tr>\n",
       "  </tbody>\n",
       "</table>\n",
       "</div>"
      ],
      "text/plain": [
       "   Número de llegada                         Hospital al que llega    GRD  \\\n",
       "0                  1  Instituto Traumatológico Dr. Teodoro Gebauer   GRD3   \n",
       "1                  2           Hospital Clínico San Borja-Arriarán   GRD7   \n",
       "2                  3                    Hospital Dr. Luis Tisné B.   GRD7   \n",
       "3                  4         Hospital Dr. Exequiel González Cortés  GRD10   \n",
       "4                  5                  Hospital Barros Luco Trudeau   GRD6   \n",
       "\n",
       "   Día de llegada  Día de salida  Estadia  \n",
       "0               1              4        3  \n",
       "1               1              5        4  \n",
       "2               1              5        4  \n",
       "3               1             11       10  \n",
       "4               1              6        5  "
      ]
     },
     "execution_count": 4,
     "metadata": {},
     "output_type": "execute_result"
    }
   ],
   "source": [
    "Info_sheet = pd.read_excel('datos.xls', sheet_name='Información Histórica')\n",
    "Info_sheet.head()"
   ]
  },
  {
   "cell_type": "code",
   "execution_count": 5,
   "metadata": {},
   "outputs": [
    {
     "data": {
      "text/html": [
       "<div>\n",
       "<style scoped>\n",
       "    .dataframe tbody tr th:only-of-type {\n",
       "        vertical-align: middle;\n",
       "    }\n",
       "\n",
       "    .dataframe tbody tr th {\n",
       "        vertical-align: top;\n",
       "    }\n",
       "\n",
       "    .dataframe thead th {\n",
       "        text-align: right;\n",
       "    }\n",
       "</style>\n",
       "<table border=\"1\" class=\"dataframe\">\n",
       "  <thead>\n",
       "    <tr style=\"text-align: right;\">\n",
       "      <th></th>\n",
       "      <th>ID GRD</th>\n",
       "      <th>Nombre GRD</th>\n",
       "      <th>Costo resolución en Clínica Privada [MM$]</th>\n",
       "    </tr>\n",
       "  </thead>\n",
       "  <tbody>\n",
       "    <tr>\n",
       "      <th>0</th>\n",
       "      <td>GRD1</td>\n",
       "      <td>Coronario</td>\n",
       "      <td>7.917</td>\n",
       "    </tr>\n",
       "    <tr>\n",
       "      <th>1</th>\n",
       "      <td>GRD2</td>\n",
       "      <td>Hepático</td>\n",
       "      <td>3.417</td>\n",
       "    </tr>\n",
       "    <tr>\n",
       "      <th>2</th>\n",
       "      <td>GRD3</td>\n",
       "      <td>Respiratorio</td>\n",
       "      <td>2.915</td>\n",
       "    </tr>\n",
       "    <tr>\n",
       "      <th>3</th>\n",
       "      <td>GRD4</td>\n",
       "      <td>Renal</td>\n",
       "      <td>6.188</td>\n",
       "    </tr>\n",
       "    <tr>\n",
       "      <th>4</th>\n",
       "      <td>GRD5</td>\n",
       "      <td>Neurológico</td>\n",
       "      <td>6.782</td>\n",
       "    </tr>\n",
       "  </tbody>\n",
       "</table>\n",
       "</div>"
      ],
      "text/plain": [
       "  ID GRD    Nombre GRD  Costo resolución en Clínica Privada [MM$]\n",
       "0   GRD1     Coronario                                      7.917\n",
       "1   GRD2      Hepático                                      3.417\n",
       "2   GRD3  Respiratorio                                      2.915\n",
       "3   GRD4         Renal                                      6.188\n",
       "4   GRD5   Neurológico                                      6.782"
      ]
     },
     "execution_count": 5,
     "metadata": {},
     "output_type": "execute_result"
    }
   ],
   "source": [
    "GRD_sheet = pd.read_excel('datos.xls', sheet_name='GRD')\n",
    "GRD_sheet.head()"
   ]
  },
  {
   "attachments": {},
   "cell_type": "markdown",
   "metadata": {},
   "source": [
    "### Pregunta 1"
   ]
  },
  {
   "cell_type": "code",
   "execution_count": 41,
   "metadata": {},
   "outputs": [
    {
     "data": {
      "text/plain": [
       "3.0"
      ]
     },
     "execution_count": 41,
     "metadata": {},
     "output_type": "execute_result"
    }
   ],
   "source": [
    "apoyo1 = Info_sheet[(Info_sheet['Hospital al que llega'] == 'Hospital Del Salvador') & (Info_sheet['Día de llegada'] >= 420) & (Info_sheet['GRD'] == 'GRD9')]\n",
    "grouped_1 = apoyo1[['Día de llegada', 'Número de llegada']].groupby('Día de llegada').count()\n",
    "media_movil_1 = grouped_1['Número de llegada'].mean()\n",
    "media_movil_1"
   ]
  },
  {
   "attachments": {},
   "cell_type": "markdown",
   "metadata": {},
   "source": [
    "### Pregunta 2"
   ]
  },
  {
   "cell_type": "code",
   "execution_count": 42,
   "metadata": {},
   "outputs": [
    {
     "data": {
      "text/plain": [
       "11.8"
      ]
     },
     "execution_count": 42,
     "metadata": {},
     "output_type": "execute_result"
    }
   ],
   "source": [
    "apoyo2 = Info_sheet[(Info_sheet['Hospital al que llega'] == 'Hospital Del Salvador') & (Info_sheet['Día de llegada'] >= 420)]\n",
    "grouped_2 = apoyo2[['Día de llegada', 'Número de llegada']].groupby('Día de llegada').count()\n",
    "media_movil_2 = grouped_2['Número de llegada'].mean()\n",
    "media_movil_2"
   ]
  },
  {
   "attachments": {},
   "cell_type": "markdown",
   "metadata": {},
   "source": [
    "### Pregunta 3"
   ]
  },
  {
   "cell_type": "code",
   "execution_count": 43,
   "metadata": {},
   "outputs": [
    {
     "data": {
      "text/plain": [
       "148.6"
      ]
     },
     "execution_count": 43,
     "metadata": {},
     "output_type": "execute_result"
    }
   ],
   "source": [
    "apoyo3 = Info_sheet[(Info_sheet['Día de llegada'] >= 420)]\n",
    "grouped_3 = apoyo3[['Día de llegada', 'Número de llegada']].groupby('Día de llegada').count()\n",
    "media_movil_3 = grouped_3['Número de llegada'].mean()\n",
    "media_movil_3"
   ]
  },
  {
   "attachments": {},
   "cell_type": "markdown",
   "metadata": {},
   "source": [
    "### Pregunta 4"
   ]
  },
  {
   "cell_type": "code",
   "execution_count": 44,
   "metadata": {},
   "outputs": [
    {
     "name": "stdout",
     "output_type": "stream",
     "text": [
      "339.4000000000001\n",
      "-0.8000000000000002\n"
     ]
    }
   ],
   "source": [
    "from sklearn.linear_model import LinearRegression\n",
    "\n",
    "apoyo4 = Info_sheet[(Info_sheet['GRD'] == 'GRD9') & (Info_sheet['Hospital al que llega'] == 'Hospital Del Salvador') & (Info_sheet['Día de llegada'] >= 420)]\n",
    "apoyo4 = apoyo4[['Día de llegada', 'Número de llegada']].groupby('Día de llegada').count()\n",
    "apoyo4['Día de llegada'] = apoyo4.index.values\n",
    "apoyo4.loc[3] = [0, 423]\n",
    "apoyo4.loc[4] = [0, 424]\n",
    "apoyo4\n",
    "\n",
    "clf = LinearRegression().fit(apoyo4[['Día de llegada']], apoyo4[['Número de llegada']])\n",
    "\n",
    "intercept = clf.intercept_[0]\n",
    "coef = clf.coef_[0][0]\n",
    "\n",
    "print(intercept)\n",
    "print(coef)\n"
   ]
  },
  {
   "cell_type": "code",
   "execution_count": 45,
   "metadata": {},
   "outputs": [
    {
     "data": {
      "text/plain": [
       "-0.5999999999999659"
      ]
     },
     "execution_count": 45,
     "metadata": {},
     "output_type": "execute_result"
    }
   ],
   "source": [
    "425 * coef + intercept"
   ]
  },
  {
   "attachments": {},
   "cell_type": "markdown",
   "metadata": {},
   "source": [
    "### Pregunta 5"
   ]
  },
  {
   "cell_type": "code",
   "execution_count": 46,
   "metadata": {},
   "outputs": [
    {
     "name": "stdout",
     "output_type": "stream",
     "text": [
      "813.6\n",
      "-1.9000000000000001\n"
     ]
    }
   ],
   "source": [
    "from sklearn.linear_model import LinearRegression\n",
    "\n",
    "apoyo5 = Info_sheet[(Info_sheet['Hospital al que llega'] == 'Hospital Del Salvador') & (Info_sheet['Día de llegada'] >= 420)]\n",
    "apoyo5 = apoyo5[['Día de llegada', 'Número de llegada']].groupby('Día de llegada').count()\n",
    "apoyo5['Día de llegada'] = apoyo5.index.values\n",
    "apoyo5\n",
    "\n",
    "clf = LinearRegression().fit(apoyo5[['Día de llegada']], apoyo5[['Número de llegada']])\n",
    "\n",
    "intercept = clf.intercept_[0]\n",
    "coef = clf.coef_[0][0]\n",
    "\n",
    "print(intercept)\n",
    "print(coef)"
   ]
  },
  {
   "cell_type": "code",
   "execution_count": 47,
   "metadata": {},
   "outputs": [
    {
     "data": {
      "text/plain": [
       "6.100000000000023"
      ]
     },
     "execution_count": 47,
     "metadata": {},
     "output_type": "execute_result"
    }
   ],
   "source": [
    "425 * coef + intercept"
   ]
  },
  {
   "attachments": {},
   "cell_type": "markdown",
   "metadata": {},
   "source": [
    "### Pregunta 6"
   ]
  },
  {
   "cell_type": "code",
   "execution_count": 48,
   "metadata": {},
   "outputs": [
    {
     "name": "stdout",
     "output_type": "stream",
     "text": [
      "8673.000000000004\n",
      "-20.200000000000006\n"
     ]
    }
   ],
   "source": [
    "from sklearn.linear_model import LinearRegression\n",
    "\n",
    "apoyo6 = Info_sheet[(Info_sheet['Día de llegada'] >= 420)]\n",
    "apoyo6 = apoyo6[['Día de llegada', 'Número de llegada']].groupby('Día de llegada').count()\n",
    "apoyo6['Día de llegada'] = apoyo6.index.values\n",
    "apoyo6\n",
    "\n",
    "clf = LinearRegression().fit(apoyo6[['Día de llegada']], apoyo6[['Número de llegada']])\n",
    "\n",
    "intercept = clf.intercept_[0]\n",
    "coef = clf.coef_[0][0]\n",
    "\n",
    "print(intercept)\n",
    "print(coef)"
   ]
  },
  {
   "cell_type": "code",
   "execution_count": 49,
   "metadata": {},
   "outputs": [
    {
     "data": {
      "text/plain": [
       "88.00000000000182"
      ]
     },
     "execution_count": 49,
     "metadata": {},
     "output_type": "execute_result"
    }
   ],
   "source": [
    "coef * 425 + intercept"
   ]
  },
  {
   "attachments": {},
   "cell_type": "markdown",
   "metadata": {},
   "source": [
    "### Pregunta 7"
   ]
  },
  {
   "cell_type": "code",
   "execution_count": 66,
   "metadata": {},
   "outputs": [
    {
     "name": "stdout",
     "output_type": "stream",
     "text": [
      "8673.000000000004\n",
      "-20.200000000000006\n"
     ]
    }
   ],
   "source": [
    "apoyo7 = Info_sheet[(Info_sheet['Día de llegada'] >= 420)]\n",
    "apoyo7 = apoyo7[['Día de llegada', 'Número de llegada']].groupby('Día de llegada').count()\n",
    "apoyo7['Día de llegada'] = apoyo7.index.values\n",
    "apoyo7\n",
    "\n",
    "clf = LinearRegression().fit(apoyo7[['Día de llegada']], apoyo7[['Número de llegada']])\n",
    "\n",
    "intercept = clf.intercept_[0]\n",
    "coef = clf.coef_[0][0]\n",
    "\n",
    "print(intercept)\n",
    "print(coef)"
   ]
  },
  {
   "cell_type": "code",
   "execution_count": 67,
   "metadata": {},
   "outputs": [
    {
     "data": {
      "text/plain": [
       "[189.00000000000182,\n",
       " 168.8000000000011,\n",
       " 148.60000000000036,\n",
       " 128.40000000000146,\n",
       " 108.20000000000073]"
      ]
     },
     "execution_count": 67,
     "metadata": {},
     "output_type": "execute_result"
    }
   ],
   "source": [
    "\n",
    "est0 = 420 * coef + intercept\n",
    "est1 = 421 * coef + intercept\n",
    "est2 = 422 * coef + intercept\n",
    "est3 = 423 * coef + intercept\n",
    "est4 = 424 * coef + intercept\n",
    "\n",
    "estimation = [est0, est1, est2, est3, est4]\n",
    "estimation"
   ]
  },
  {
   "cell_type": "code",
   "execution_count": 87,
   "metadata": {},
   "outputs": [
    {
     "data": {
      "text/plain": [
       "[183, 159, 160, 159, 82]"
      ]
     },
     "execution_count": 87,
     "metadata": {},
     "output_type": "execute_result"
    }
   ],
   "source": [
    "estimation = [189, 169, 149, 128, 108]\n",
    "y_true = apoyo7[['Número de llegada']].values.tolist()\n",
    "y_true = list(map(lambda x: x[0], y_true))\n",
    "y_true"
   ]
  },
  {
   "cell_type": "code",
   "execution_count": 88,
   "metadata": {},
   "outputs": [
    {
     "data": {
      "text/plain": [
       "0.6824917856903373"
      ]
     },
     "execution_count": 88,
     "metadata": {},
     "output_type": "execute_result"
    }
   ],
   "source": [
    "from sklearn.metrics import r2_score\n",
    "\n",
    "r2_score(y_true, estimation)"
   ]
  },
  {
   "attachments": {},
   "cell_type": "markdown",
   "metadata": {},
   "source": [
    "### Pregunta 8"
   ]
  },
  {
   "cell_type": "code",
   "execution_count": 72,
   "metadata": {},
   "outputs": [
    {
     "name": "stdout",
     "output_type": "stream",
     "text": [
      "[183, 159, 160, 159, 82]\n",
      "[156, 123, 178, 200, 155]\n"
     ]
    },
    {
     "data": {
      "text/plain": [
       "-69"
      ]
     },
     "execution_count": 72,
     "metadata": {},
     "output_type": "execute_result"
    }
   ],
   "source": [
    "apoyo8 = Info_sheet[(Info_sheet['Día de llegada'] >= 420)]\n",
    "apoyo8 = apoyo8[['Día de llegada', 'Número de llegada']].groupby('Día de llegada').count()\n",
    "apoyo8['Día de llegada'] = apoyo8.index.values\n",
    "apoyo8\n",
    "\n",
    "y_true_8 = apoyo8[['Número de llegada']].values.tolist()\n",
    "y_true_8 = list(map(lambda x: x[0], y_true_8))\n",
    "estimacion_8 = [156, 123, 178, 200, 155]\n",
    "\n",
    "\n",
    "print(y_true_8)\n",
    "print(estimacion_8)\n",
    "\n",
    "error_total_8 = 0\n",
    "for i in range(5):\n",
    "    error_total_8 += y_true_8[i] - estimacion_8[i]\n",
    "\n",
    "\n",
    "error_total_8\n"
   ]
  },
  {
   "attachments": {},
   "cell_type": "markdown",
   "metadata": {},
   "source": [
    "### Pregunta 9"
   ]
  },
  {
   "cell_type": "code",
   "execution_count": 86,
   "metadata": {},
   "outputs": [
    {
     "name": "stdout",
     "output_type": "stream",
     "text": [
      "dia 422: 4160\n",
      "dia 423: 4170\n",
      "dia 424: 4180\n"
     ]
    }
   ],
   "source": [
    "coef9 = 10\n",
    "intercept9 = 60\n",
    "\n",
    "for i in range(422, 425):\n",
    "    print(f'dia {i}: {coef9 * i + intercept9}')"
   ]
  },
  {
   "attachments": {},
   "cell_type": "markdown",
   "metadata": {},
   "source": [
    "### Pregunta 10"
   ]
  },
  {
   "cell_type": "code",
   "execution_count": 76,
   "metadata": {},
   "outputs": [
    {
     "data": {
      "text/html": [
       "<div>\n",
       "<style scoped>\n",
       "    .dataframe tbody tr th:only-of-type {\n",
       "        vertical-align: middle;\n",
       "    }\n",
       "\n",
       "    .dataframe tbody tr th {\n",
       "        vertical-align: top;\n",
       "    }\n",
       "\n",
       "    .dataframe thead th {\n",
       "        text-align: right;\n",
       "    }\n",
       "</style>\n",
       "<table border=\"1\" class=\"dataframe\">\n",
       "  <thead>\n",
       "    <tr style=\"text-align: right;\">\n",
       "      <th></th>\n",
       "      <th>Nombre Servicio de Salud</th>\n",
       "      <th>Nombre Establecimiento</th>\n",
       "      <th>Área Cuidados Intensivos Adultos</th>\n",
       "      <th>Área Cuidados Intermedios Adulto</th>\n",
       "      <th>Total Camas Críticas</th>\n",
       "      <th>Máxima cantidad de camas a aumetar</th>\n",
       "      <th>Costo de instalar una cama [MM$]</th>\n",
       "      <th>Costo de operación anual de una cama [MM$]</th>\n",
       "      <th>Costo diario GRD1 [MM$]</th>\n",
       "      <th>Costo diario GRD2 [MM$]</th>\n",
       "      <th>Costo diario GRD3 [MM$]</th>\n",
       "      <th>Costo diario GRD4 [MM$]</th>\n",
       "      <th>Costo diario GRD5 [MM$]</th>\n",
       "      <th>Costo diario GRD6 [MM$]</th>\n",
       "      <th>Costo diario GRD7 [MM$]</th>\n",
       "      <th>Costo diario GRD8 [MM$]</th>\n",
       "      <th>Costo diario GRD9 [MM$]</th>\n",
       "      <th>Costo diario GRD10 [MM$]</th>\n",
       "    </tr>\n",
       "  </thead>\n",
       "  <tbody>\n",
       "    <tr>\n",
       "      <th>0</th>\n",
       "      <td>Metropolitano Norte                           ...</td>\n",
       "      <td>Complejo Hospitalario San José</td>\n",
       "      <td>11</td>\n",
       "      <td>33</td>\n",
       "      <td>44</td>\n",
       "      <td>10</td>\n",
       "      <td>1407</td>\n",
       "      <td>47.2</td>\n",
       "      <td>0.593</td>\n",
       "      <td>0.509</td>\n",
       "      <td>0.367</td>\n",
       "      <td>0.492</td>\n",
       "      <td>0.524</td>\n",
       "      <td>0.405</td>\n",
       "      <td>0.571</td>\n",
       "      <td>0.474</td>\n",
       "      <td>0.498</td>\n",
       "      <td>0.305</td>\n",
       "    </tr>\n",
       "    <tr>\n",
       "      <th>1</th>\n",
       "      <td>Metropolitano Occidente                       ...</td>\n",
       "      <td>Hospital Adalberto Steeger (Talagante)</td>\n",
       "      <td>6</td>\n",
       "      <td>11</td>\n",
       "      <td>17</td>\n",
       "      <td>5</td>\n",
       "      <td>1263</td>\n",
       "      <td>62.1</td>\n",
       "      <td>0.493</td>\n",
       "      <td>0.357</td>\n",
       "      <td>0.429</td>\n",
       "      <td>0.382</td>\n",
       "      <td>0.469</td>\n",
       "      <td>0.386</td>\n",
       "      <td>0.543</td>\n",
       "      <td>0.362</td>\n",
       "      <td>0.564</td>\n",
       "      <td>0.333</td>\n",
       "    </tr>\n",
       "    <tr>\n",
       "      <th>2</th>\n",
       "      <td>Metropolitano Occidente                       ...</td>\n",
       "      <td>Hospital Dr. Félix Bulnes Cerda</td>\n",
       "      <td>3</td>\n",
       "      <td>6</td>\n",
       "      <td>9</td>\n",
       "      <td>5</td>\n",
       "      <td>1310</td>\n",
       "      <td>65.9</td>\n",
       "      <td>0.580</td>\n",
       "      <td>0.325</td>\n",
       "      <td>0.375</td>\n",
       "      <td>0.409</td>\n",
       "      <td>0.561</td>\n",
       "      <td>0.362</td>\n",
       "      <td>0.328</td>\n",
       "      <td>0.314</td>\n",
       "      <td>0.536</td>\n",
       "      <td>0.436</td>\n",
       "    </tr>\n",
       "    <tr>\n",
       "      <th>3</th>\n",
       "      <td>Metropolitano Occidente                       ...</td>\n",
       "      <td>Hospital San Juan de Dios</td>\n",
       "      <td>29</td>\n",
       "      <td>47</td>\n",
       "      <td>76</td>\n",
       "      <td>30</td>\n",
       "      <td>1066</td>\n",
       "      <td>39.2</td>\n",
       "      <td>0.482</td>\n",
       "      <td>0.554</td>\n",
       "      <td>0.564</td>\n",
       "      <td>0.331</td>\n",
       "      <td>0.438</td>\n",
       "      <td>0.509</td>\n",
       "      <td>0.544</td>\n",
       "      <td>0.410</td>\n",
       "      <td>0.441</td>\n",
       "      <td>0.359</td>\n",
       "    </tr>\n",
       "    <tr>\n",
       "      <th>4</th>\n",
       "      <td>Metropolitano Occidente                       ...</td>\n",
       "      <td>Instituto Traumatológico Dr. Teodoro Gebauer</td>\n",
       "      <td>12</td>\n",
       "      <td>6</td>\n",
       "      <td>18</td>\n",
       "      <td>5</td>\n",
       "      <td>1433</td>\n",
       "      <td>55.5</td>\n",
       "      <td>0.407</td>\n",
       "      <td>0.449</td>\n",
       "      <td>0.468</td>\n",
       "      <td>0.433</td>\n",
       "      <td>0.573</td>\n",
       "      <td>0.392</td>\n",
       "      <td>0.409</td>\n",
       "      <td>0.391</td>\n",
       "      <td>0.418</td>\n",
       "      <td>0.334</td>\n",
       "    </tr>\n",
       "  </tbody>\n",
       "</table>\n",
       "</div>"
      ],
      "text/plain": [
       "                            Nombre Servicio de Salud  \\\n",
       "0  Metropolitano Norte                           ...   \n",
       "1  Metropolitano Occidente                       ...   \n",
       "2  Metropolitano Occidente                       ...   \n",
       "3  Metropolitano Occidente                       ...   \n",
       "4  Metropolitano Occidente                       ...   \n",
       "\n",
       "                         Nombre Establecimiento  \\\n",
       "0                Complejo Hospitalario San José   \n",
       "1        Hospital Adalberto Steeger (Talagante)   \n",
       "2               Hospital Dr. Félix Bulnes Cerda   \n",
       "3                     Hospital San Juan de Dios   \n",
       "4  Instituto Traumatológico Dr. Teodoro Gebauer   \n",
       "\n",
       "   Área Cuidados Intensivos Adultos  Área Cuidados Intermedios Adulto  \\\n",
       "0                                11                                33   \n",
       "1                                 6                                11   \n",
       "2                                 3                                 6   \n",
       "3                                29                                47   \n",
       "4                                12                                 6   \n",
       "\n",
       "   Total Camas Críticas  Máxima cantidad de camas a aumetar  \\\n",
       "0                    44                                  10   \n",
       "1                    17                                   5   \n",
       "2                     9                                   5   \n",
       "3                    76                                  30   \n",
       "4                    18                                   5   \n",
       "\n",
       "   Costo de instalar una cama [MM$]  \\\n",
       "0                              1407   \n",
       "1                              1263   \n",
       "2                              1310   \n",
       "3                              1066   \n",
       "4                              1433   \n",
       "\n",
       "   Costo de operación anual de una cama [MM$]  Costo diario GRD1 [MM$]  \\\n",
       "0                                        47.2                    0.593   \n",
       "1                                        62.1                    0.493   \n",
       "2                                        65.9                    0.580   \n",
       "3                                        39.2                    0.482   \n",
       "4                                        55.5                    0.407   \n",
       "\n",
       "   Costo diario GRD2 [MM$]  Costo diario GRD3 [MM$]  Costo diario GRD4 [MM$]  \\\n",
       "0                    0.509                    0.367                    0.492   \n",
       "1                    0.357                    0.429                    0.382   \n",
       "2                    0.325                    0.375                    0.409   \n",
       "3                    0.554                    0.564                    0.331   \n",
       "4                    0.449                    0.468                    0.433   \n",
       "\n",
       "   Costo diario GRD5 [MM$]  Costo diario GRD6 [MM$]  Costo diario GRD7 [MM$]  \\\n",
       "0                    0.524                    0.405                    0.571   \n",
       "1                    0.469                    0.386                    0.543   \n",
       "2                    0.561                    0.362                    0.328   \n",
       "3                    0.438                    0.509                    0.544   \n",
       "4                    0.573                    0.392                    0.409   \n",
       "\n",
       "   Costo diario GRD8 [MM$]  Costo diario GRD9 [MM$]  Costo diario GRD10 [MM$]  \n",
       "0                    0.474                    0.498                     0.305  \n",
       "1                    0.362                    0.564                     0.333  \n",
       "2                    0.314                    0.536                     0.436  \n",
       "3                    0.410                    0.441                     0.359  \n",
       "4                    0.391                    0.418                     0.334  "
      ]
     },
     "execution_count": 76,
     "metadata": {},
     "output_type": "execute_result"
    }
   ],
   "source": [
    "Hosp_sheet.head()"
   ]
  },
  {
   "cell_type": "code",
   "execution_count": 84,
   "metadata": {},
   "outputs": [
    {
     "name": "stdout",
     "output_type": "stream",
     "text": [
      " Camas disponibles en el Establecimiento Complejo Hospitalario San José son 44\n",
      " Camas disponibles en el Establecimiento Hospital Adalberto Steeger (Talagante) son 17\n",
      " Camas disponibles en el Establecimiento Hospital Dr. Félix Bulnes Cerda son 9\n",
      " Camas disponibles en el Establecimiento Hospital San Juan de Dios son 76\n",
      " Camas disponibles en el Establecimiento Instituto Traumatológico Dr. Teodoro Gebauer son 18\n",
      " Camas disponibles en el Establecimiento Hospital Clínico San Borja-Arriarán son 43\n",
      " Camas disponibles en el Establecimiento Hospital de Urgencia Asistencia Pública Dr. Alejandro del Río son 44\n",
      " Camas disponibles en el Establecimiento Hospital el Carmen son 18\n",
      " Camas disponibles en el Establecimiento Hospital Del Salvador son 46\n",
      " Camas disponibles en el Establecimiento Hospital Dr. Luis Tisné B. son 24\n",
      " Camas disponibles en el Establecimiento Instituto de Neurocirugía Dr. Alfonso Asenjo son 23\n",
      " Camas disponibles en el Establecimiento Instituto Nacional de Enfermedades Respiratorias y Cirugía Torácica son 44\n",
      " Camas disponibles en el Establecimiento Hospital Barros Luco Trudeau son 74\n",
      " Camas disponibles en el Establecimiento Hospital de Enfermedades Infecciosas Dr. Lucio Córdova son 20\n",
      " Camas disponibles en el Establecimiento Hospital Dr. Exequiel González Cortés son 31\n",
      " Camas disponibles en el Establecimiento Hospital El Pino son 32\n",
      " Camas disponibles en el Establecimiento Hospital Parroquial de San Bernardo       son 16\n",
      " Camas disponibles en el Establecimiento Complejo Hospitalario Dr. Sótero del Río   son 55\n",
      " Camas disponibles en el Establecimiento Hospital Clínico de la Florida son 24\n",
      " Camas disponibles en el Establecimiento Hospital Metropolitano ( ex Militar ) son 32\n",
      " Camas disponibles en el Establecimiento Hospital Padre Alberto Hurtado (San Ramón) son 16\n"
     ]
    }
   ],
   "source": [
    "\n",
    "i = 0\n",
    "\n",
    "for elemento in Hosp_sheet[\"Nombre Establecimiento\"]:\n",
    "\n",
    "    apoyo10 = Hosp_sheet.loc[Hosp_sheet[\"Nombre Establecimiento\"] == elemento]\n",
    "\n",
    "    camas = apoyo10[\"Total Camas Críticas\"]\n",
    "\n",
    "    print(f\" Camas disponibles en el Establecimiento {elemento} son {camas[i]}\")\n",
    "\n",
    "    i +=1"
   ]
  },
  {
   "cell_type": "code",
   "execution_count": null,
   "metadata": {},
   "outputs": [],
   "source": []
  }
 ],
 "metadata": {
  "kernelspec": {
   "display_name": "Python 3",
   "language": "python",
   "name": "python3"
  },
  "language_info": {
   "codemirror_mode": {
    "name": "ipython",
    "version": 3
   },
   "file_extension": ".py",
   "mimetype": "text/x-python",
   "name": "python",
   "nbconvert_exporter": "python",
   "pygments_lexer": "ipython3",
   "version": "3.11.3"
  },
  "orig_nbformat": 4,
  "vscode": {
   "interpreter": {
    "hash": "b0fa6594d8f4cbf19f97940f81e996739fb7646882a419484c72d19e05852a7e"
   }
  }
 },
 "nbformat": 4,
 "nbformat_minor": 2
}
