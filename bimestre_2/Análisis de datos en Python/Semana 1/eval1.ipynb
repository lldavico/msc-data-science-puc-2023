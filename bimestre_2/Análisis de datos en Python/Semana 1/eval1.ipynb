{
 "cells": [
  {
   "cell_type": "code",
   "execution_count": null,
   "metadata": {},
   "outputs": [],
   "source": []
  }
 ],
 "metadata": {
  "kernelspec": {
   "display_name": "Python 3",
   "language": "python",
   "name": "python3"
  },
  "language_info": {
   "name": "python",
   "version": "3.9.12"
  },
  "orig_nbformat": 4,
  "vscode": {
   "interpreter": {
    "hash": "486fa3dd6c666c5c8e48548af06066058fadab3f53231278f3a35dfe63e511b3"
   }
  }
 },
 "nbformat": 4,
 "nbformat_minor": 2
}
