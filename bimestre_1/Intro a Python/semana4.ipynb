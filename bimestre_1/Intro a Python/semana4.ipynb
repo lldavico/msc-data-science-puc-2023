{
 "cells": [
  {
   "cell_type": "code",
   "execution_count": 28,
   "id": "52534d3f",
   "metadata": {},
   "outputs": [],
   "source": [
    "poema = ['Mis', 'pasos', 'en', 'esta', 'calle', 'Resuenan', 'En', 'otra', 'calle', 'Donde', 'Oigo', 'mis', 'pasos', 'Pasar', 'en', 'esta', 'calle', 'Donde', 'Sólo', 'es', 'real', 'la', 'niebla']"
   ]
  },
  {
   "cell_type": "code",
   "execution_count": 29,
   "id": "aaf12d44",
   "metadata": {},
   "outputs": [],
   "source": [
    "prohibidas = set( ['calle', 'mis', 'pasos'] )"
   ]
  },
  {
   "cell_type": "code",
   "execution_count": 30,
   "id": "249c71f9",
   "metadata": {},
   "outputs": [],
   "source": [
    "for palabra in prohibidas:\n",
    "    while palabra in poema:\n",
    "        poema.remove(palabra)"
   ]
  },
  {
   "cell_type": "code",
   "execution_count": 31,
   "id": "6ea0e940",
   "metadata": {},
   "outputs": [
    {
     "data": {
      "text/plain": [
       "17"
      ]
     },
     "execution_count": 31,
     "metadata": {},
     "output_type": "execute_result"
    }
   ],
   "source": [
    "len(poema)"
   ]
  },
  {
   "cell_type": "code",
   "execution_count": 32,
   "id": "97cc9499",
   "metadata": {},
   "outputs": [
    {
     "data": {
      "text/plain": [
       "{3, 5, 8}"
      ]
     },
     "execution_count": 32,
     "metadata": {},
     "output_type": "execute_result"
    }
   ],
   "source": [
    "a = set([3,4,5,7])\n",
    "b = set([4,7,8])\n",
    "c = a ^ b\n",
    "c"
   ]
  },
  {
   "cell_type": "code",
   "execution_count": 33,
   "id": "dc1c16d1",
   "metadata": {},
   "outputs": [
    {
     "data": {
      "text/plain": [
       "{3, 4, 5, 7, 8}"
      ]
     },
     "execution_count": 33,
     "metadata": {},
     "output_type": "execute_result"
    }
   ],
   "source": [
    "c = a | b\n",
    "c"
   ]
  },
  {
   "cell_type": "code",
   "execution_count": 34,
   "id": "8df12a41",
   "metadata": {},
   "outputs": [
    {
     "data": {
      "text/plain": [
       "{4, 7}"
      ]
     },
     "execution_count": 34,
     "metadata": {},
     "output_type": "execute_result"
    }
   ],
   "source": [
    "c = a & b\n",
    "c"
   ]
  },
  {
   "cell_type": "code",
   "execution_count": 35,
   "id": "29bf6655",
   "metadata": {},
   "outputs": [
    {
     "data": {
      "text/plain": [
       "{3, 5}"
      ]
     },
     "execution_count": 35,
     "metadata": {},
     "output_type": "execute_result"
    }
   ],
   "source": [
    "c = a - b\n",
    "c"
   ]
  },
  {
   "cell_type": "code",
   "execution_count": 36,
   "id": "15e2e052",
   "metadata": {},
   "outputs": [],
   "source": [
    "lista = [1,2,1,1,5,6,4,4,4,6,7,5,1,1,7,7,7,2,1,2]"
   ]
  },
  {
   "cell_type": "code",
   "execution_count": 39,
   "id": "b0df0024",
   "metadata": {},
   "outputs": [
    {
     "name": "stdout",
     "output_type": "stream",
     "text": [
      "{1: 6, 2: 3, 4: 3, 5: 2, 6: 2, 7: 4}\n"
     ]
    }
   ],
   "source": [
    "d = dict()\n",
    "for num in set(lista):\n",
    "    d[num] = lista.count(num)\n",
    "print(d)"
   ]
  },
  {
   "cell_type": "markdown",
   "id": "7901a58a",
   "metadata": {},
   "source": [
    "# Sumativo semana 4"
   ]
  },
  {
   "cell_type": "code",
   "execution_count": 120,
   "id": "7c5bda16",
   "metadata": {},
   "outputs": [
    {
     "data": {
      "text/plain": [
       "{'fecha_compra': '30-05-22',\n",
       " 'precio': 12000,\n",
       " 'productos': {'Leche': 2, 'Chocolate': 1, 'Arroz': 5}}"
      ]
     },
     "execution_count": 120,
     "metadata": {},
     "output_type": "execute_result"
    }
   ],
   "source": [
    "boleta_ejemplo = {\n",
    "    'fecha_compra' : '30-05-22',\n",
    "    'precio' : 12000,\n",
    "    'productos' : {\n",
    "        'Leche' : 2,\n",
    "        'Chocolate': 1,\n",
    "        'Arroz': 5\n",
    "    }\n",
    "}\n",
    "boleta_ejemplo"
   ]
  },
  {
   "cell_type": "code",
   "execution_count": 144,
   "id": "f66077a5",
   "metadata": {},
   "outputs": [],
   "source": [
    "boletas = [{'fecha_compra': '11-06-22', 'precio': 15000, 'productos': {'Mantequilla': 4}}, \n",
    "           {'fecha_compra': '25-06-22', 'precio': 18000, 'productos': {'Leche': 4, 'Huevos': 3}}, \n",
    "           {'fecha_compra': '12-05-22', 'precio': 19000, 'productos': {'Leche': 5, 'Pan': 3, 'Chocolate': 4}}, \n",
    "           {'fecha_compra': '23-06-22', 'precio': 18000, 'productos': {'Pan': 6, 'Chocolate': 3, 'Mantequilla': 2}}, \n",
    "           {'fecha_compra': '24-05-22', 'precio': 15000, 'productos': {'Leche': 2, 'Huevos': 2, 'Azucar': 3, 'Pan': 5}}]"
   ]
  },
  {
   "cell_type": "code",
   "execution_count": 145,
   "id": "7f0a6899",
   "metadata": {},
   "outputs": [],
   "source": [
    "def precio_total(boletas):\n",
    "    suma = sum(map(lambda x: x['precio'], boletas))\n",
    "    return suma\n",
    "\n",
    "def precio_mes(boletas):\n",
    "    grouped_dict = dict()\n",
    "    for boleta in boletas:\n",
    "        _, month, year = boleta['fecha_compra'].split(\"-\")\n",
    "        year_month_key = f\"{month}-{year}\"\n",
    "        if year_month_key in grouped_dict.keys():\n",
    "            grouped_dict[year_month_key] += boleta['precio']\n",
    "        else:\n",
    "            grouped_dict[year_month_key] = boleta['precio']\n",
    "\n",
    "    return grouped_dict\n",
    "\n",
    "def productos_frecuentes(boletas):\n",
    "    total_boletas = len(boletas)\n",
    "    \n",
    "    frec_compra_productos = dict()\n",
    "    productos_frecuentes = set()\n",
    "    \n",
    "    for boleta in boletas:\n",
    "        productos = list(boleta['productos'].keys())\n",
    "        for producto in productos:\n",
    "            if producto not in frec_compra_productos.keys():\n",
    "                frec_compra_productos[producto] = 1\n",
    "            else:\n",
    "                frec_compra_productos[producto] += 1\n",
    "    \n",
    "    for producto, frec in frec_compra_productos.items():\n",
    "        if frec >= (total_boletas / 2):\n",
    "            productos_frecuentes.add(producto)\n",
    "    \n",
    "    return productos_frecuentes"
   ]
  },
  {
   "cell_type": "code",
   "execution_count": 146,
   "id": "2bfae707",
   "metadata": {},
   "outputs": [
    {
     "data": {
      "text/plain": [
       "85000"
      ]
     },
     "execution_count": 146,
     "metadata": {},
     "output_type": "execute_result"
    }
   ],
   "source": [
    "precio_total = precio_total(boletas)\n",
    "precio_total"
   ]
  },
  {
   "cell_type": "code",
   "execution_count": 147,
   "id": "700681ec",
   "metadata": {},
   "outputs": [
    {
     "data": {
      "text/plain": [
       "{'06-22': 51000, '05-22': 34000}"
      ]
     },
     "execution_count": 147,
     "metadata": {},
     "output_type": "execute_result"
    }
   ],
   "source": [
    "precio_mes = precio_mes(boletas)\n",
    "precio_mes"
   ]
  },
  {
   "cell_type": "code",
   "execution_count": 148,
   "id": "c556032a",
   "metadata": {},
   "outputs": [
    {
     "data": {
      "text/plain": [
       "{'Leche', 'Pan'}"
      ]
     },
     "execution_count": 148,
     "metadata": {},
     "output_type": "execute_result"
    }
   ],
   "source": [
    "productos_frecuentes = productos_frecuentes(boletas)\n",
    "productos_frecuentes"
   ]
  },
  {
   "cell_type": "code",
   "execution_count": null,
   "id": "d042db01",
   "metadata": {},
   "outputs": [],
   "source": []
  }
 ],
 "metadata": {
  "kernelspec": {
   "display_name": "Python 3 (ipykernel)",
   "language": "python",
   "name": "python3"
  },
  "language_info": {
   "codemirror_mode": {
    "name": "ipython",
    "version": 3
   },
   "file_extension": ".py",
   "mimetype": "text/x-python",
   "name": "python",
   "nbconvert_exporter": "python",
   "pygments_lexer": "ipython3",
   "version": "3.11.2"
  }
 },
 "nbformat": 4,
 "nbformat_minor": 5
}
