{
 "cells": [
  {
   "cell_type": "markdown",
   "id": "65846203",
   "metadata": {},
   "source": [
    "## 1."
   ]
  },
  {
   "cell_type": "code",
   "execution_count": 1,
   "id": "0ea5b6a7",
   "metadata": {},
   "outputs": [],
   "source": [
    "vuelos = [ ['Origen', 'Destino', 'precio', 'asientos disponibles', 'Fecha'],\n",
    "['Santiago', 'Puerto Montt', 35000, 30, '11 Enero 2023'],\n",
    "['Santiago', 'Concepción', 30000, 40, '20 Febrero 2023'],\n",
    "['Santiago', 'Puerto Montt', 28000, 2, '19 Enero 2023'],\n",
    "['Santiago', 'Puerto Montt', 12000, 100, '20 Mayo 2023'],\n",
    "['Antofagasta', 'Santiago', 27000, 14, '18 Abril 2023' ]\n",
    "]"
   ]
  },
  {
   "cell_type": "code",
   "execution_count": 9,
   "id": "63f298a6",
   "metadata": {},
   "outputs": [
    {
     "name": "stdout",
     "output_type": "stream",
     "text": [
      "['Origen', 'Destino', 'precio', 'asientos disponibles', 'Fecha']\n",
      "['Santiago', 'Puerto Montt', 35000, 30, '11 Enero 2023']\n",
      "['Santiago', 'Puerto Montt', 12000, 100, '20 Mayo 2023']\n"
     ]
    }
   ],
   "source": [
    "from collections import deque\n",
    "\n",
    "def vuelos_disponibles(vuelos, origen, destino, pasajeros):\n",
    "    vuelos = deque(vuelos)\n",
    "    disponible = [vuelos.popleft()]   \n",
    "    for vuelo in vuelos:\n",
    "        if vuelo[0] == origen and vuelo[1] == destino and vuelo[3] >= pasajeros:\n",
    "            disponible.append(vuelo)\n",
    "    return disponible"
   ]
  },
  {
   "cell_type": "markdown",
   "id": "1a1fea08",
   "metadata": {},
   "source": [
    "## 2."
   ]
  },
  {
   "cell_type": "code",
   "execution_count": 21,
   "id": "abd75bad",
   "metadata": {},
   "outputs": [
    {
     "data": {
      "text/plain": [
       "[['palabra', '32', '50', '70'],\n",
       " ['cod1go', 'pelea2', '12', '50s'],\n",
       " ['111a111', 'aqui', 'no', 'si', 'si', 'si', 'si'],\n",
       " ['6', '7', '8', '9', '10']]"
      ]
     },
     "execution_count": 21,
     "metadata": {},
     "output_type": "execute_result"
    }
   ],
   "source": [
    "lista = [\n",
    "['palabra', '32', '50', '70'],\n",
    "['cod1go', 'pelea2', '12', '50s'],\n",
    "['111a111', 'aqui', 'no', 'si', 'si', 'si', 'si'],\n",
    "['6', '7', '8', '9', '10']\n",
    "]\n",
    "lista"
   ]
  },
  {
   "cell_type": "code",
   "execution_count": 22,
   "id": "7639b4fb",
   "metadata": {},
   "outputs": [
    {
     "data": {
      "text/plain": [
       "[['palabra', 32, 50, 70],\n",
       " ['cod1go', 'pelea2', 12, '50s'],\n",
       " ['111a111', 'aqui', 'no', 'si', 'si', 'si', 'si'],\n",
       " [6, 7, 8, 9, 10]]"
      ]
     },
     "execution_count": 22,
     "metadata": {},
     "output_type": "execute_result"
    }
   ],
   "source": [
    "from collections import deque\n",
    "\n",
    "def arreglar_lista(lista):\n",
    "    for i in range(len(lista)):\n",
    "        for j in range(len(lista[i])):\n",
    "            if lista[i][j].isnumeric():\n",
    "                lista[i][j] = int(lista[i][j])\n",
    "    \n",
    "    return lista\n",
    "\n",
    "lista_arreglada = arreglar_lista(lista)\n",
    "\n",
    "lista_arreglada"
   ]
  },
  {
   "cell_type": "markdown",
   "id": "9a63552a",
   "metadata": {},
   "source": [
    "## 3."
   ]
  },
  {
   "cell_type": "code",
   "execution_count": 35,
   "id": "5f216395",
   "metadata": {},
   "outputs": [],
   "source": [
    "lista = [\n",
    "['Numero alumno', 'Nota final', 'Nombre', 'Color favorito'],\n",
    "[16848, 5.7, 'Alicia', 'Rojo'],\n",
    "[19845, 4.8, 'Marco', 'Verde'],\n",
    "[19515, 6.2, 'Federico', 'Azul']\n",
    "]\n",
    "\n"
   ]
  },
  {
   "cell_type": "code",
   "execution_count": 36,
   "id": "fe601835",
   "metadata": {},
   "outputs": [],
   "source": [
    "def notas_alumnos(lista):\n",
    "    name_key = 'Nombre'\n",
    "    grade_key = 'Nota final'\n",
    "    header = lista[0]\n",
    "    \n",
    "    name_index = header.index(name_key)\n",
    "    grade_index = header.index(grade_key)\n",
    "    \n",
    "    lista_notas = [(alumno[name_index], alumno[grade_index]) for alumno in lista[1:]]\n",
    "    return lista_notas\n",
    "    "
   ]
  },
  {
   "cell_type": "code",
   "execution_count": 37,
   "id": "8639c56d",
   "metadata": {},
   "outputs": [
    {
     "name": "stdout",
     "output_type": "stream",
     "text": [
      "[('Alicia', 5.7), ('Marco', 4.8), ('Federico', 6.2)]\n"
     ]
    }
   ],
   "source": [
    "print(notas_alumnos(lista))"
   ]
  },
  {
   "cell_type": "markdown",
   "id": "6b00febc",
   "metadata": {},
   "source": [
    "## 4."
   ]
  },
  {
   "cell_type": "code",
   "execution_count": 53,
   "id": "b7e9f089",
   "metadata": {},
   "outputs": [],
   "source": [
    "paises = [\n",
    "[0, 'España', 'Madrid'],\n",
    "[2, 'Alemania', 'Berlin'],\n",
    "[1, 'Francia', 'Paris'],\n",
    "[3, 'Italia', 'Roma']\n",
    "]"
   ]
  },
  {
   "cell_type": "code",
   "execution_count": 43,
   "id": "b53adca8",
   "metadata": {},
   "outputs": [],
   "source": [
    "belleza = [\n",
    "[2, 0.57],\n",
    "[1, 0.81],\n",
    "[3, 0.68],\n",
    "[0, 0.62]\n",
    "]"
   ]
  },
  {
   "cell_type": "code",
   "execution_count": 58,
   "id": "c97d0614",
   "metadata": {},
   "outputs": [],
   "source": [
    "def paises_bellos(paises, belleza):\n",
    "    \n",
    "    # Se ordena por indice de belleza\n",
    "    belleza.sort(key=lambda x: x[1], reverse=True)\n",
    "    \n",
    "    pais_indice = list()\n",
    "    \n",
    "    for id_pais, indice in belleza:\n",
    "        for _id, nombre, _ in paises:\n",
    "            if id_pais == _id:\n",
    "                pais_indice.append((nombre, indice))\n",
    "                break\n",
    "\n",
    "    return pais_indice\n",
    "    \n",
    "    "
   ]
  },
  {
   "cell_type": "code",
   "execution_count": 59,
   "id": "ba09d28e",
   "metadata": {},
   "outputs": [
    {
     "data": {
      "text/plain": [
       "[('Francia', 0.81), ('Italia', 0.68), ('España', 0.62), ('Alemania', 0.57)]"
      ]
     },
     "execution_count": 59,
     "metadata": {},
     "output_type": "execute_result"
    }
   ],
   "source": [
    "paises_ordenados = paises_bellos(paises, belleza)\n",
    "paises_ordenados"
   ]
  },
  {
   "cell_type": "code",
   "execution_count": null,
   "id": "ce729118",
   "metadata": {},
   "outputs": [],
   "source": []
  }
 ],
 "metadata": {
  "kernelspec": {
   "display_name": "Python 3 (ipykernel)",
   "language": "python",
   "name": "python3"
  },
  "language_info": {
   "codemirror_mode": {
    "name": "ipython",
    "version": 3
   },
   "file_extension": ".py",
   "mimetype": "text/x-python",
   "name": "python",
   "nbconvert_exporter": "python",
   "pygments_lexer": "ipython3",
   "version": "3.11.2"
  }
 },
 "nbformat": 4,
 "nbformat_minor": 5
}
