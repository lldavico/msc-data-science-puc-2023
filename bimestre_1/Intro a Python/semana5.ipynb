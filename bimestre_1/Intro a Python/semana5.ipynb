{
 "cells": [
  {
   "attachments": {},
   "cell_type": "markdown",
   "metadata": {},
   "source": [
    "### Pregunta 1"
   ]
  },
  {
   "cell_type": "code",
   "execution_count": 43,
   "metadata": {},
   "outputs": [],
   "source": [
    "class Planta:\n",
    "\n",
    "    def __init__(self, especie, altura):\n",
    "        self.especie = especie\n",
    "        self.altura = altura"
   ]
  },
  {
   "cell_type": "code",
   "execution_count": 44,
   "metadata": {},
   "outputs": [
    {
     "name": "stdout",
     "output_type": "stream",
     "text": [
      "Washingtonia filifera\n",
      "15\n"
     ]
    }
   ],
   "source": [
    "a = Planta( 'Washingtonia filifera', 15 )\n",
    "print(a.especie)\n",
    "print(a.altura)"
   ]
  },
  {
   "attachments": {},
   "cell_type": "markdown",
   "metadata": {},
   "source": [
    "### Pregunta 2"
   ]
  },
  {
   "cell_type": "code",
   "execution_count": 46,
   "metadata": {},
   "outputs": [],
   "source": [
    "class Casa:\n",
    "\n",
    "    def __init__(self, direccion, piezas, baños, metros_cuadrados, urbana):\n",
    "        self.direccion = direccion\n",
    "        self.piezas = piezas\n",
    "        self.baños = baños\n",
    "        self.metros_cuadrados = metros_cuadrados\n",
    "        self.urbana = urbana\n",
    "\n",
    "    def precio(self):\n",
    "        precio = (self.piezas + self.baños) * self.metros_cuadrados\n",
    "        if self.urbana:\n",
    "            precio += 100\n",
    "        return precio"
   ]
  },
  {
   "cell_type": "code",
   "execution_count": 47,
   "metadata": {},
   "outputs": [
    {
     "name": "stdout",
     "output_type": "stream",
     "text": [
      "140.0\n",
      "225.0\n"
     ]
    }
   ],
   "source": [
    "c1 = Casa('Frente al mall 321', 1, 1.0, 20, True)\n",
    "c2 = Casa('Frente al lago 123', 2, 2.5, 50, False)\n",
    "\n",
    "print( c1.precio() )\n",
    "print( c2.precio() )"
   ]
  },
  {
   "attachments": {},
   "cell_type": "markdown",
   "metadata": {},
   "source": [
    "### Pregunta 3"
   ]
  },
  {
   "cell_type": "code",
   "execution_count": 53,
   "metadata": {},
   "outputs": [],
   "source": [
    "class Menu:\n",
    "\n",
    "    def __init__(self, comidas, precios):\n",
    "        self.comidas = comidas\n",
    "        self.precios = precios\n",
    "\n",
    "    def __str__(self):\n",
    "        total_comidas = len(self.comidas)\n",
    "        string = \"\"\n",
    "        for i in range(total_comidas):\n",
    "            string += f\"{self.comidas[i]}: {str(self.precios[i])}\"\n",
    "            if (i + 1) < total_comidas:\n",
    "                string += \"\\n\"\n",
    "\n",
    "        return string\n",
    "        "
   ]
  },
  {
   "cell_type": "code",
   "execution_count": 54,
   "metadata": {},
   "outputs": [
    {
     "name": "stdout",
     "output_type": "stream",
     "text": [
      "Pato a la mostaza: 20000\n",
      "Hamburguesa: 8000\n",
      "Ensalada: 6000\n",
      "Lasagna: 9000\n"
     ]
    }
   ],
   "source": [
    "comidas = ['Pato a la mostaza', 'Hamburguesa', 'Ensalada', 'Lasagna']\n",
    "precios = [20000, 8000, 6000, 9000]\n",
    "menu = Menu(comidas, precios)\n",
    "\n",
    "print(menu)"
   ]
  },
  {
   "attachments": {},
   "cell_type": "markdown",
   "metadata": {},
   "source": [
    "### Pregunta 4"
   ]
  },
  {
   "cell_type": "code",
   "execution_count": 55,
   "metadata": {},
   "outputs": [],
   "source": [
    "class Enemigo:\n",
    "\n",
    "    def __init__(self, nombre, vida, fuerza_ataque):\n",
    "        self.nombre = nombre\n",
    "        self.vida = vida\n",
    "        self.fuerza_ataque = fuerza_ataque\n",
    "\n",
    "    def recibir_ataque(self, daño):\n",
    "        self.vida = self.vida - daño if (self.vida - daño) >= 0 else 0\n",
    "\n",
    "    def atacar(self, otro):\n",
    "        otro.vida = otro.vida - self.fuerza_ataque if (otro.vida - self.fuerza_ataque) >= 0 else 0\n",
    "\n",
    "    def __str__(self):\n",
    "        return f\"{self.nombre} - {str(self.vida)}\"\n",
    "        "
   ]
  },
  {
   "cell_type": "code",
   "execution_count": 56,
   "metadata": {},
   "outputs": [
    {
     "name": "stdout",
     "output_type": "stream",
     "text": [
      "Esqueleto - 8\n",
      "Zombie - 10\n",
      "Esqueleto - 3\n",
      "Zombie - 4\n",
      "Zombie - 0\n"
     ]
    }
   ],
   "source": [
    "a = Enemigo( 'Esqueleto', 8, 6 )\n",
    "b = Enemigo( 'Zombie', 10, 5 )\n",
    "print(a)\n",
    "print(b)\n",
    "\n",
    "a.recibir_ataque(5)\n",
    "print(a)\n",
    "\n",
    "a.atacar(b)\n",
    "print(b)\n",
    "\n",
    "a.atacar(b)\n",
    "print(b)"
   ]
  },
  {
   "cell_type": "code",
   "execution_count": null,
   "metadata": {},
   "outputs": [],
   "source": []
  }
 ],
 "metadata": {
  "kernelspec": {
   "display_name": "Python 3",
   "language": "python",
   "name": "python3"
  },
  "language_info": {
   "codemirror_mode": {
    "name": "ipython",
    "version": 3
   },
   "file_extension": ".py",
   "mimetype": "text/x-python",
   "name": "python",
   "nbconvert_exporter": "python",
   "pygments_lexer": "ipython3",
   "version": "3.11.2"
  },
  "orig_nbformat": 4,
  "vscode": {
   "interpreter": {
    "hash": "b0fa6594d8f4cbf19f97940f81e996739fb7646882a419484c72d19e05852a7e"
   }
  }
 },
 "nbformat": 4,
 "nbformat_minor": 2
}
