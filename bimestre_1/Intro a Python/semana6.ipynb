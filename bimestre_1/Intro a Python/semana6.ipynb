{
 "cells": [
  {
   "cell_type": "code",
   "execution_count": 1,
   "metadata": {},
   "outputs": [],
   "source": [
    "class Libro:\n",
    "    def __init__(self, t, a, g):\n",
    "        self.titulo = t\n",
    "        self.autor = a\n",
    "        self.genero = g\n",
    "    def __str__(self):\n",
    "        return self.titulo\n",
    "\n",
    "L1 = Libro('Harry Potter', 'J. K. Rowling', 'Fantasía')\n",
    "L2 = Libro('Juego de tronos', 'George R. R. Martin', 'Novela')\n",
    "L3 = Libro('El señor de los anillos', 'J. R. R. Tolkien', 'Novela')\n",
    "\n",
    "biblioteca = [L1, L2, L3]"
   ]
  },
  {
   "cell_type": "code",
   "execution_count": 2,
   "metadata": {},
   "outputs": [
    {
     "data": {
      "text/plain": [
       "[<__main__.Libro at 0x10623b850>,\n",
       " <__main__.Libro at 0x105d119d0>,\n",
       " <__main__.Libro at 0x105d22550>]"
      ]
     },
     "execution_count": 2,
     "metadata": {},
     "output_type": "execute_result"
    }
   ],
   "source": [
    "biblioteca"
   ]
  },
  {
   "cell_type": "code",
   "execution_count": 3,
   "metadata": {},
   "outputs": [],
   "source": [
    "class Mascota:\n",
    "    def __init__(self, n, h):\n",
    "        self.nombre = n\n",
    "        self.dueño = h\n",
    "\n",
    "class Humano:\n",
    "    def __init__(self, n):\n",
    "        self.nombre = n\n",
    "\n",
    "humano = Humano('Alex')\n",
    "perro = Mascota('Rex' , humano)"
   ]
  },
  {
   "attachments": {},
   "cell_type": "markdown",
   "metadata": {},
   "source": [
    "# Semana 6"
   ]
  },
  {
   "attachments": {},
   "cell_type": "markdown",
   "metadata": {},
   "source": [
    "### Pregunta 1"
   ]
  },
  {
   "cell_type": "code",
   "execution_count": 5,
   "metadata": {},
   "outputs": [],
   "source": [
    "class Envio:\n",
    "    def __init__(self, emisor, receptor):\n",
    "        self.emisor = emisor\n",
    "        self.receptor = receptor\n",
    "\n",
    "    def enviar(self):\n",
    "        pass"
   ]
  },
  {
   "cell_type": "code",
   "execution_count": null,
   "metadata": {},
   "outputs": [],
   "source": [
    "# RECORDATORIO: \n",
    "# NO DEBEN DEFINIR LA CLASE ENVIO\n",
    "class Carta(Envio):\n",
    "    def __init__(self, emisor, receptor):\n",
    "        super().__init__(emisor, receptor)\n",
    "        self.estampilla = False\n",
    "\n",
    "    def poner_estampilla(self):\n",
    "        self.estampilla = True\n",
    "\n",
    "    def enviar(self):\n",
    "        if self.estampilla:\n",
    "            super().enviar()\n",
    "\n",
    "\n",
    "class Paquete(Envio):\n",
    "    def __init__(self, emisor, receptor, max_volumen):\n",
    "        super().__init__(emisor, receptor)\n",
    "        self.max_volumen = max_volumen\n",
    "        self.peso = 0\n",
    "        self.volumen = 0\n",
    "        self.abierto = True\n",
    "\n",
    "    def agregar_producto(self, peso, volumen):\n",
    "        if not self.abierto:\n",
    "            self.abierto = True\n",
    "        self.peso += peso\n",
    "        self.volumen += volumen\n",
    "\n",
    "    def cerrar(self):\n",
    "        if self.volumen < self.max_volumen:\n",
    "            self.abierto = False\n",
    "\n",
    "    def enviar(self):\n",
    "        if not self.abierto and self.peso <= 30:\n",
    "            super().enviar()"
   ]
  }
 ],
 "metadata": {
  "kernelspec": {
   "display_name": "Python 3",
   "language": "python",
   "name": "python3"
  },
  "language_info": {
   "codemirror_mode": {
    "name": "ipython",
    "version": 3
   },
   "file_extension": ".py",
   "mimetype": "text/x-python",
   "name": "python",
   "nbconvert_exporter": "python",
   "pygments_lexer": "ipython3",
   "version": "3.11.2"
  },
  "orig_nbformat": 4,
  "vscode": {
   "interpreter": {
    "hash": "b0fa6594d8f4cbf19f97940f81e996739fb7646882a419484c72d19e05852a7e"
   }
  }
 },
 "nbformat": 4,
 "nbformat_minor": 2
}
