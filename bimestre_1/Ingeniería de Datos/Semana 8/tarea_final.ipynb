{
  "cells": [
    {
      "cell_type": "markdown",
      "metadata": {
        "id": "8BXXue8KDsQz"
      },
      "source": [
        "# Trabajo final -- formulario de carga de datos y respuestas\n",
        "\n",
        "En este notebook pueden ingresar sus respuestas a las preguntas del trabajo final y asegurarse que sus comandos SQL funcionan de manera adecuada.\n",
        "\n",
        "**IMPORTANTE**: **Debes entregar tu notebook ejecutado según tus últimos cambios ya que se revisarán los resultados en base a lo que salga ejecutado del notebook.**\n",
        "\n",
        "En el menú superior de google colab > Entorno de ejecución > Ejecutar todo,  tienes la opción de ejecutar todas las celdas del notebook. Puedes realizar esta acción antes de entregar tu tarea para asegurarte de que tus últimos cambios en el código sean los ejecutados.\n"
      ]
    },
    {
      "cell_type": "markdown",
      "metadata": {
        "id": "-GIMqhcTEPx1"
      },
      "source": [
        "\n",
        "\n",
        "### Cargar SQLite y subir la base de datos a Google Colab\n",
        "\n",
        "Cómo siempre, para poder ocupar el notebook, lo deben subir a https://colab.research.google.com\n",
        "\n",
        "Luego, ejecutando el siguiente campo, se crea una instancia de servidor SQLite, se creará el esquema vista en el enunciado, y se cargarán los datos desde un google drive."
      ]
    },
    {
      "cell_type": "code",
      "execution_count": 112,
      "metadata": {
        "id": "OVSDhz3-hrku"
      },
      "outputs": [
        {
          "name": "stdout",
          "output_type": "stream",
          "text": [
            "The operation couldn’t be completed. Unable to locate a Java Runtime.\n",
            "Please visit http://www.java.com for information on installing Java.\n",
            "\n",
            "/bin/bash: service: command not found\n",
            "sudo: unknown user: postgres\n",
            "sudo: error initializing audit plugin sudoers_audit\n",
            "Requirement already satisfied: SQLAlchemy==1.4.46 in /Users/ldavico/.pyenv/versions/3.9.12/lib/python3.9/site-packages (1.4.46)\n",
            "\u001b[33mWARNING: You are using pip version 22.0.4; however, version 23.1.2 is available.\n",
            "You should consider upgrading via the '/Users/ldavico/.pyenv/versions/3.9.12/bin/python3.9 -m pip install --upgrade pip' command.\u001b[0m\u001b[33m\n",
            "\u001b[0mRequirement already satisfied: ipython-sql==0.4.1 in /Users/ldavico/.pyenv/versions/3.9.12/lib/python3.9/site-packages (0.4.1)\n",
            "Requirement already satisfied: sqlalchemy>=0.6.7 in /Users/ldavico/.pyenv/versions/3.9.12/lib/python3.9/site-packages (from ipython-sql==0.4.1) (1.4.46)\n",
            "Requirement already satisfied: prettytable<1 in /Users/ldavico/.pyenv/versions/3.9.12/lib/python3.9/site-packages (from ipython-sql==0.4.1) (0.7.2)\n",
            "Requirement already satisfied: sqlparse in /Users/ldavico/.pyenv/versions/3.9.12/lib/python3.9/site-packages (from ipython-sql==0.4.1) (0.4.4)\n",
            "Requirement already satisfied: ipython-genutils>=0.1.0 in /Users/ldavico/.pyenv/versions/3.9.12/lib/python3.9/site-packages (from ipython-sql==0.4.1) (0.2.0)\n",
            "Requirement already satisfied: ipython>=1.0 in /Users/ldavico/.pyenv/versions/3.9.12/lib/python3.9/site-packages (from ipython-sql==0.4.1) (8.11.0)\n",
            "Requirement already satisfied: six in /Users/ldavico/.pyenv/versions/3.9.12/lib/python3.9/site-packages (from ipython-sql==0.4.1) (1.16.0)\n",
            "Requirement already satisfied: pygments>=2.4.0 in /Users/ldavico/.pyenv/versions/3.9.12/lib/python3.9/site-packages (from ipython>=1.0->ipython-sql==0.4.1) (2.14.0)\n",
            "Requirement already satisfied: stack-data in /Users/ldavico/.pyenv/versions/3.9.12/lib/python3.9/site-packages (from ipython>=1.0->ipython-sql==0.4.1) (0.6.2)\n",
            "Requirement already satisfied: appnope in /Users/ldavico/.pyenv/versions/3.9.12/lib/python3.9/site-packages (from ipython>=1.0->ipython-sql==0.4.1) (0.1.3)\n",
            "Requirement already satisfied: pickleshare in /Users/ldavico/.pyenv/versions/3.9.12/lib/python3.9/site-packages (from ipython>=1.0->ipython-sql==0.4.1) (0.7.5)\n",
            "Requirement already satisfied: backcall in /Users/ldavico/.pyenv/versions/3.9.12/lib/python3.9/site-packages (from ipython>=1.0->ipython-sql==0.4.1) (0.2.0)\n",
            "Requirement already satisfied: prompt-toolkit!=3.0.37,<3.1.0,>=3.0.30 in /Users/ldavico/.pyenv/versions/3.9.12/lib/python3.9/site-packages (from ipython>=1.0->ipython-sql==0.4.1) (3.0.38)\n",
            "Requirement already satisfied: decorator in /Users/ldavico/.pyenv/versions/3.9.12/lib/python3.9/site-packages (from ipython>=1.0->ipython-sql==0.4.1) (5.1.1)\n",
            "Requirement already satisfied: traitlets>=5 in /Users/ldavico/.pyenv/versions/3.9.12/lib/python3.9/site-packages (from ipython>=1.0->ipython-sql==0.4.1) (5.9.0)\n",
            "Requirement already satisfied: jedi>=0.16 in /Users/ldavico/.pyenv/versions/3.9.12/lib/python3.9/site-packages (from ipython>=1.0->ipython-sql==0.4.1) (0.18.2)\n",
            "Requirement already satisfied: matplotlib-inline in /Users/ldavico/.pyenv/versions/3.9.12/lib/python3.9/site-packages (from ipython>=1.0->ipython-sql==0.4.1) (0.1.6)\n",
            "Requirement already satisfied: pexpect>4.3 in /Users/ldavico/.pyenv/versions/3.9.12/lib/python3.9/site-packages (from ipython>=1.0->ipython-sql==0.4.1) (4.8.0)\n",
            "Requirement already satisfied: parso<0.9.0,>=0.8.0 in /Users/ldavico/.pyenv/versions/3.9.12/lib/python3.9/site-packages (from jedi>=0.16->ipython>=1.0->ipython-sql==0.4.1) (0.8.3)\n",
            "Requirement already satisfied: ptyprocess>=0.5 in /Users/ldavico/.pyenv/versions/3.9.12/lib/python3.9/site-packages (from pexpect>4.3->ipython>=1.0->ipython-sql==0.4.1) (0.7.0)\n",
            "Requirement already satisfied: wcwidth in /Users/ldavico/.pyenv/versions/3.9.12/lib/python3.9/site-packages (from prompt-toolkit!=3.0.37,<3.1.0,>=3.0.30->ipython>=1.0->ipython-sql==0.4.1) (0.2.6)\n",
            "Requirement already satisfied: asttokens>=2.1.0 in /Users/ldavico/.pyenv/versions/3.9.12/lib/python3.9/site-packages (from stack-data->ipython>=1.0->ipython-sql==0.4.1) (2.2.1)\n",
            "Requirement already satisfied: pure-eval in /Users/ldavico/.pyenv/versions/3.9.12/lib/python3.9/site-packages (from stack-data->ipython>=1.0->ipython-sql==0.4.1) (0.2.2)\n",
            "Requirement already satisfied: executing>=1.2.0 in /Users/ldavico/.pyenv/versions/3.9.12/lib/python3.9/site-packages (from stack-data->ipython>=1.0->ipython-sql==0.4.1) (1.2.0)\n",
            "\u001b[33mWARNING: You are using pip version 22.0.4; however, version 23.1.2 is available.\n",
            "You should consider upgrading via the '/Users/ldavico/.pyenv/versions/3.9.12/bin/python3.9 -m pip install --upgrade pip' command.\u001b[0m\u001b[33m\n",
            "\u001b[0mThe sql extension is already loaded. To reload it, use:\n",
            "  %reload_ext sql\n",
            "--2023-05-13 17:24:11--  https://drive.google.com/uc?export=download&id=14puII6h6V45QY_FwRsgY_g86y7hf9IcE\n",
            "Resolviendo drive.google.com (drive.google.com)... 142.250.0.139, 142.250.0.101, 142.250.0.113, ...\n",
            "Conectando con drive.google.com (drive.google.com)[142.250.0.139]:443... conectado.\n",
            "Petición HTTP enviada, esperando respuesta... 303 See Other\n",
            "Localización: https://doc-08-88-docs.googleusercontent.com/docs/securesc/ha0ro937gcuc7l7deffksulhg5h7mbp1/v8i4q629a79kuq7aocjnjb2shik4lapl/1684013025000/10980901926740711681/*/14puII6h6V45QY_FwRsgY_g86y7hf9IcE?e=download&uuid=83dc7aba-8118-45f7-943f-0d934c22f04f [siguiendo]\n",
            "Aviso: no se admiten comodines en HTTP.\n",
            "--2023-05-13 17:24:12--  https://doc-08-88-docs.googleusercontent.com/docs/securesc/ha0ro937gcuc7l7deffksulhg5h7mbp1/v8i4q629a79kuq7aocjnjb2shik4lapl/1684013025000/10980901926740711681/*/14puII6h6V45QY_FwRsgY_g86y7hf9IcE?e=download&uuid=83dc7aba-8118-45f7-943f-0d934c22f04f\n",
            "Resolviendo doc-08-88-docs.googleusercontent.com (doc-08-88-docs.googleusercontent.com)... 142.250.0.132\n",
            "Conectando con doc-08-88-docs.googleusercontent.com (doc-08-88-docs.googleusercontent.com)[142.250.0.132]:443... conectado.\n",
            "Petición HTTP enviada, esperando respuesta... 200 OK\n",
            "Longitud: 126976 (124K) [application/octet-stream]\n",
            "Grabando a: «datos_T3.db»\n",
            "\n",
            "datos_T3.db         100%[===================>] 124.00K  --.-KB/s    en 0.001s  \n",
            "\n",
            "2023-05-13 17:24:13 (82.9 MB/s) - «datos_T3.db» guardado [126976/126976]\n",
            "\n",
            "--2023-05-13 17:24:13--  https://drive.google.com/uc?export=download&id=1ntPogacmnWcpePtYA6vX_ZCb30873wtL\n",
            "Resolviendo drive.google.com (drive.google.com)... 142.250.0.101, 142.250.0.113, 142.250.0.138, ...\n",
            "Conectando con drive.google.com (drive.google.com)[142.250.0.101]:443... conectado.\n",
            "Petición HTTP enviada, esperando respuesta... 303 See Other\n",
            "Localización: https://doc-0c-60-docs.googleusercontent.com/docs/securesc/ha0ro937gcuc7l7deffksulhg5h7mbp1/dtkgal86upor1o7m21jdt3rrqqgrkd71/1684013025000/10639173405617917244/*/1ntPogacmnWcpePtYA6vX_ZCb30873wtL?e=download&uuid=7b8e48c7-0685-4bfd-81d9-66d541a07d54 [siguiendo]\n",
            "Aviso: no se admiten comodines en HTTP.\n",
            "--2023-05-13 17:24:14--  https://doc-0c-60-docs.googleusercontent.com/docs/securesc/ha0ro937gcuc7l7deffksulhg5h7mbp1/dtkgal86upor1o7m21jdt3rrqqgrkd71/1684013025000/10639173405617917244/*/1ntPogacmnWcpePtYA6vX_ZCb30873wtL?e=download&uuid=7b8e48c7-0685-4bfd-81d9-66d541a07d54\n",
            "Resolviendo doc-0c-60-docs.googleusercontent.com (doc-0c-60-docs.googleusercontent.com)... 172.217.192.132\n",
            "Conectando con doc-0c-60-docs.googleusercontent.com (doc-0c-60-docs.googleusercontent.com)[172.217.192.132]:443... conectado.\n",
            "Petición HTTP enviada, esperando respuesta... 200 OK\n",
            "Longitud: 1309 (1.3K) [text/csv]\n",
            "Grabando a: «Ciudad.csv»\n",
            "\n",
            "Ciudad.csv          100%[===================>]   1.28K  --.-KB/s    en 0s      \n",
            "\n",
            "2023-05-13 17:24:14 (32.0 MB/s) - «Ciudad.csv» guardado [1309/1309]\n",
            "\n",
            "--2023-05-13 17:24:15--  https://drive.google.com/uc?export=download&id=1MWHx372JwSYyWkD7Jtv4WJNDBOvdrqSg\n",
            "Resolviendo drive.google.com (drive.google.com)... 142.250.0.101, 142.250.0.113, 142.250.0.138, ...\n",
            "Conectando con drive.google.com (drive.google.com)[142.250.0.101]:443... conectado.\n",
            "Petición HTTP enviada, esperando respuesta... 303 See Other\n",
            "Localización: https://doc-0s-60-docs.googleusercontent.com/docs/securesc/ha0ro937gcuc7l7deffksulhg5h7mbp1/a8j1pcipnciljnhggoh11ik12r273tvs/1684013025000/10639173405617917244/*/1MWHx372JwSYyWkD7Jtv4WJNDBOvdrqSg?e=download&uuid=dc301726-8de2-482c-aa61-051f7d6184c6 [siguiendo]\n",
            "Aviso: no se admiten comodines en HTTP.\n",
            "--2023-05-13 17:24:15--  https://doc-0s-60-docs.googleusercontent.com/docs/securesc/ha0ro937gcuc7l7deffksulhg5h7mbp1/a8j1pcipnciljnhggoh11ik12r273tvs/1684013025000/10639173405617917244/*/1MWHx372JwSYyWkD7Jtv4WJNDBOvdrqSg?e=download&uuid=dc301726-8de2-482c-aa61-051f7d6184c6\n",
            "Resolviendo doc-0s-60-docs.googleusercontent.com (doc-0s-60-docs.googleusercontent.com)... 142.250.0.132\n",
            "Conectando con doc-0s-60-docs.googleusercontent.com (doc-0s-60-docs.googleusercontent.com)[142.250.0.132]:443... conectado.\n",
            "Petición HTTP enviada, esperando respuesta... 200 OK\n",
            "Longitud: 936 [text/csv]\n",
            "Grabando a: «Pais.csv»\n",
            "\n",
            "Pais.csv            100%[===================>]     936  --.-KB/s    en 0.001s  \n",
            "\n",
            "2023-05-13 17:24:16 (767 KB/s) - «Pais.csv» guardado [936/936]\n",
            "\n",
            "--2023-05-13 17:24:16--  https://drive.google.com/uc?export=download&id=1aDxin4Y1cgZ43jVcIC_6_mz4_FdFoWmN\n",
            "Resolviendo drive.google.com (drive.google.com)... 142.250.0.101, 142.250.0.113, 142.250.0.138, ...\n",
            "Conectando con drive.google.com (drive.google.com)[142.250.0.101]:443... conectado.\n",
            "Petición HTTP enviada, esperando respuesta... 303 See Other\n",
            "Localización: https://doc-0c-60-docs.googleusercontent.com/docs/securesc/ha0ro937gcuc7l7deffksulhg5h7mbp1/oceo0hnkmthepln8o91c7hkhmd8lc9nu/1684013025000/10639173405617917244/*/1aDxin4Y1cgZ43jVcIC_6_mz4_FdFoWmN?e=download&uuid=8c7a2dc3-3f6c-4647-a719-e65324ce469d [siguiendo]\n",
            "Aviso: no se admiten comodines en HTTP.\n",
            "--2023-05-13 17:24:16--  https://doc-0c-60-docs.googleusercontent.com/docs/securesc/ha0ro937gcuc7l7deffksulhg5h7mbp1/oceo0hnkmthepln8o91c7hkhmd8lc9nu/1684013025000/10639173405617917244/*/1aDxin4Y1cgZ43jVcIC_6_mz4_FdFoWmN?e=download&uuid=8c7a2dc3-3f6c-4647-a719-e65324ce469d\n",
            "Resolviendo doc-0c-60-docs.googleusercontent.com (doc-0c-60-docs.googleusercontent.com)... 142.250.0.132\n",
            "Conectando con doc-0c-60-docs.googleusercontent.com (doc-0c-60-docs.googleusercontent.com)[142.250.0.132]:443... conectado.\n",
            "Petición HTTP enviada, esperando respuesta... 200 OK\n",
            "Longitud: 474 [text/csv]\n",
            "Grabando a: «CiudadPais.csv»\n",
            "\n",
            "CiudadPais.csv      100%[===================>]     474  --.-KB/s    en 0s      \n",
            "\n",
            "2023-05-13 17:24:17 (9.23 MB/s) - «CiudadPais.csv» guardado [474/474]\n",
            "\n"
          ]
        }
      ],
      "source": [
        "# install\n",
        "!apt update\n",
        "!apt install postgresql postgresql-contrib &>log\n",
        "!service postgresql start\n",
        "!sudo -u postgres psql -c \"CREATE USER root WITH SUPERUSER\"\n",
        "# pin package versions for google colab compatibility\n",
        "!pip install SQLAlchemy==1.4.46\n",
        "!pip install ipython-sql==0.4.1\n",
        "%load_ext sql\n",
        "\n",
        "# Cargamos SQL y la base de datos:\n",
        "!wget -O datos_T3.db --no-check-certificate https://drive.google.com/uc\\?export\\=download\\&id\\=14puII6h6V45QY_FwRsgY_g86y7hf9IcE\n",
        "\n",
        "%sql sqlite:///datos_T3.db\n",
        "\n",
        "# Descargamos los csv:\n",
        "!wget -O Ciudad.csv --no-check-certificate https://drive.google.com/uc\\?export\\=download\\&id\\=1ntPogacmnWcpePtYA6vX_ZCb30873wtL\n",
        "!wget -O Pais.csv --no-check-certificate https://drive.google.com/uc\\?export\\=download\\&id\\=1MWHx372JwSYyWkD7Jtv4WJNDBOvdrqSg\n",
        "!wget -O CiudadPais.csv --no-check-certificate https://drive.google.com/uc\\?export\\=download\\&id\\=1aDxin4Y1cgZ43jVcIC_6_mz4_FdFoWmN\n",
        "\n",
        "# Importamos Pandas:\n",
        "import pandas as pd\n"
      ]
    },
    {
      "attachments": {},
      "cell_type": "markdown",
      "metadata": {
        "id": "Pwj39cMXFB9b"
      },
      "source": [
        "## Pregunta 1\n",
        "\n",
        "En esta primera pregunta, te pedimos ejecutar la primera celda del  notebook para configurar el entorno de SQL, y descargar la base de datos de tareas 2/3  además de los tres archivos CSV.\n",
        "\n",
        "Luego, te pedimos crear las tablas nuevas con los atributos adecuados (los nombres deben coincidir con los nombres de la especificación de arriba, y los tipos de atributos los debes asignar tú). Para guiar un poco tu diseño de distintos tipos de atributos, te dejamos dos ejemplos con tipos de datos especificados:\n",
        "\n",
        "```\n",
        "Persona(rut VARCHAR(100) PRIMARY KEY, nombre VARCHAR(100), correo VARCHAR(100), telefono VARCHAR(100));\n",
        "\n",
        "Paises(pid INT PRIMARY KEY, nombre VARCHAR(100));\n",
        "```\n",
        "\n",
        "Para esto, debes escribir un comando del tipo `CREATE TABLE…` en SQL para cada tabla marcada con *** en la especificación de arriba. El punto del ejercicio es modificar tu base de datos tal que al final de la tarea contenga los datos necesarios. Quiere decir que, algunas tablas se mantienen como están (por ejemplo Persona) y algunas se pueden borrar al final del ejercicio.\n",
        "\n",
        "**Importante**: No te olvides de especificar las llaves primarias y foráneas. Por ejemplo, tenemos que IDCiudad es una llave foránea en la tabla LugarNuevo (para Ciudades), o que rut es la llave foránea en Participa.\n",
        "\n"
      ]
    },
    {
      "attachments": {},
      "cell_type": "markdown",
      "metadata": {},
      "source": [
        "### Respuesta"
      ]
    },
    {
      "attachments": {},
      "cell_type": "markdown",
      "metadata": {},
      "source": [
        "Instanciamos el cursor"
      ]
    },
    {
      "cell_type": "code",
      "execution_count": 113,
      "metadata": {
        "id": "8ZECs_9rhjNH"
      },
      "outputs": [],
      "source": [
        "# Creamos el cursor\n",
        "import sqlite3\n",
        "\n",
        "conn = sqlite3.connect( 'datos_T3.db'  )\n",
        "conn.text_factory = lambda x: str(x, 'utf-8' )\n",
        "curr = conn.cursor( )\n"
      ]
    },
    {
      "attachments": {},
      "cell_type": "markdown",
      "metadata": {},
      "source": [
        "Creamos las tablas"
      ]
    },
    {
      "cell_type": "code",
      "execution_count": 114,
      "metadata": {
        "id": "70P9iLamtiuN"
      },
      "outputs": [
        {
          "data": {
            "text/plain": [
              "<sqlite3.Cursor at 0x1075d3110>"
            ]
          },
          "execution_count": 114,
          "metadata": {},
          "output_type": "execute_result"
        }
      ],
      "source": [
        "# Taller\n",
        "curr.execute('''\n",
        "        CREATE TABLE IF NOT EXISTS Taller(\n",
        "        id INTEGER NOT NULL PRIMARY KEY,\n",
        "        nombreTaller VARCHAR(100),\n",
        "        nombreProfesor VARCHAR(100),\n",
        "        fecha DATE,\n",
        "        hora TIME,\n",
        "        valor INTEGER,\n",
        "        duracion INTEGER\n",
        "        )\n",
        "    ''')\n",
        "\n",
        "# Deportivo\n",
        "curr.execute('''\n",
        "        CREATE TABLE IF NOT EXISTS Deportivo(\n",
        "        id INTEGER NOT NULL PRIMARY KEY,\n",
        "        deporte VARCHAR(100),\n",
        "        nrEquipos INTEGER,\n",
        "        nrPersonas INTEGER,\n",
        "        FOREIGN KEY (id) REFERENCES Taller(id)\n",
        "        )\n",
        "    ''')\n",
        "\n",
        "# Instrumental\n",
        "curr.execute('''\n",
        "        CREATE TABLE IF NOT EXISTS Instrumental(\n",
        "        id INTEGER NOT NULL PRIMARY KEY,\n",
        "        instrumento VARCHAR(100),\n",
        "        nrInstrumentos INTEGER,\n",
        "        FOREIGN KEY (id) REFERENCES Taller(id)\n",
        "        )\n",
        "    ''')\n",
        "\n",
        "# Pais\n",
        "curr.execute('''\n",
        "        CREATE TABLE IF NOT EXISTS Pais(\n",
        "        id INTEGER NOT NULL PRIMARY KEY,\n",
        "        nombrePais VARCHAR(100)\n",
        "        )\n",
        "    ''')\n",
        "\n",
        "# Ciudad\n",
        "curr.execute('''\n",
        "        CREATE TABLE IF NOT EXISTS Ciudad(\n",
        "        id INTEGER NOT NULL PRIMARY KEY,\n",
        "        NombreCiudad VARCHAR(100),\n",
        "        idPais INTEGER NOT NULL,\n",
        "        FOREIGN KEY (idPais) REFERENCES Pais(id)\n",
        "        )\n",
        "    ''')\n",
        "\n",
        "# LugarNuevo\n",
        "curr.execute('''\n",
        "        CREATE TABLE IF NOT EXISTS LugarNuevo(\n",
        "        id INTEGER NOT NULL PRIMARY KEY,\n",
        "        calle VARCHAR(100),\n",
        "        numero INTEGER,\n",
        "        codigo VARCHAR(100),\n",
        "        IDCiudad INTEGER NOT NULL,\n",
        "        FOREIGN KEY (IDCiudad) REFERENCES Ciudad(id)\n",
        "        )\n",
        "    ''')\n"
      ]
    },
    {
      "attachments": {},
      "cell_type": "markdown",
      "metadata": {},
      "source": [
        "Chequeamos que estén correctos los esquemas recién creados"
      ]
    },
    {
      "cell_type": "code",
      "execution_count": 115,
      "metadata": {},
      "outputs": [
        {
          "name": "stdout",
          "output_type": "stream",
          "text": [
            "CREATE TABLE Taller(\n",
            "        id INTEGER NOT NULL PRIMARY KEY,\n",
            "        nombreTaller VARCHAR(100),\n",
            "        nombreProfesor VARCHAR(100),\n",
            "        fecha DATE,\n",
            "        hora TIME,\n",
            "        valor INTEGER,\n",
            "        duracion INTEGER\n",
            "        )\n",
            "CREATE TABLE Deportivo(\n",
            "        id INTEGER NOT NULL PRIMARY KEY,\n",
            "        deporte VARCHAR(100),\n",
            "        nrEquipos INTEGER,\n",
            "        nrPersonas INTEGER,\n",
            "        FOREIGN KEY (id) REFERENCES Taller(id)\n",
            "        )\n",
            "CREATE TABLE Instrumental(\n",
            "        id INTEGER NOT NULL PRIMARY KEY,\n",
            "        instrumento VARCHAR(100),\n",
            "        nrInstrumentos INTEGER,\n",
            "        FOREIGN KEY (id) REFERENCES Taller(id)\n",
            "        )\n",
            "CREATE TABLE Pais(\n",
            "        id INTEGER NOT NULL PRIMARY KEY,\n",
            "        nombrePais VARCHAR(100)\n",
            "        )\n",
            "CREATE TABLE Ciudad(\n",
            "        id INTEGER NOT NULL PRIMARY KEY,\n",
            "        NombreCiudad VARCHAR(100),\n",
            "        idPais INTEGER NOT NULL,\n",
            "        FOREIGN KEY (idPais) REFERENCES Pais(id)\n",
            "        )\n",
            "CREATE TABLE LugarNuevo(\n",
            "        id INTEGER NOT NULL PRIMARY KEY,\n",
            "        calle VARCHAR(100),\n",
            "        numero INTEGER,\n",
            "        codigo VARCHAR(100),\n",
            "        IDCiudad INTEGER NOT NULL,\n",
            "        FOREIGN KEY (IDCiudad) REFERENCES Ciudad(id)\n",
            "        )\n"
          ]
        }
      ],
      "source": [
        "# Taller\n",
        "curr.execute('''\n",
        "    SELECT sql \n",
        "    FROM sqlite_schema \n",
        "    WHERE tbl_name = 'Taller';\n",
        "''')\n",
        "\n",
        "schema = curr.fetchall()\n",
        "print(schema[0][0])\n",
        "\n",
        "# Deportivo\n",
        "curr.execute('''\n",
        "    SELECT sql \n",
        "    FROM sqlite_schema \n",
        "    WHERE tbl_name = 'Deportivo';\n",
        "''')\n",
        "\n",
        "schema = curr.fetchall()\n",
        "print(schema[0][0])\n",
        "\n",
        "# Instrumental\n",
        "curr.execute('''\n",
        "    SELECT sql \n",
        "    FROM sqlite_schema \n",
        "    WHERE tbl_name = 'Instrumental';\n",
        "''')\n",
        "\n",
        "schema = curr.fetchall()\n",
        "print(schema[0][0])\n",
        "\n",
        "# Pais\n",
        "curr.execute('''\n",
        "    SELECT sql \n",
        "    FROM sqlite_schema \n",
        "    WHERE tbl_name = 'Pais';\n",
        "''')\n",
        "\n",
        "schema = curr.fetchall()\n",
        "print(schema[0][0])\n",
        "\n",
        "# Ciudad\n",
        "curr.execute('''\n",
        "    SELECT sql \n",
        "    FROM sqlite_schema \n",
        "    WHERE tbl_name = 'Ciudad';\n",
        "''')\n",
        "\n",
        "schema = curr.fetchall()\n",
        "print(schema[0][0])\n",
        "\n",
        "# LugarNuevo\n",
        "curr.execute('''\n",
        "    SELECT sql \n",
        "    FROM sqlite_schema \n",
        "    WHERE tbl_name = 'LugarNuevo';\n",
        "''')\n",
        "\n",
        "schema = curr.fetchall()\n",
        "print(schema[0][0])"
      ]
    },
    {
      "attachments": {},
      "cell_type": "markdown",
      "metadata": {},
      "source": [
        "Chequeamos los esquemas de las otras tablas para revisar que todo esté en orden"
      ]
    },
    {
      "cell_type": "code",
      "execution_count": 116,
      "metadata": {
        "id": "7Q3k5Kp-ti1y"
      },
      "outputs": [
        {
          "name": "stdout",
          "output_type": "stream",
          "text": [
            "CREATE TABLE Persona(nombre VARCHAR(100), rut VARCHAR(100) PRIMARY KEY, telefono VARCHAR(100), correo VARCHAR(100))\n",
            "CREATE TABLE Participa(rut VARCHAR(100), idTaller INT, FOREIGN KEY (rut) REFERENCES Persona(rut), PRIMARY KEY (rut, idTaller))\n",
            "CREATE TABLE EstaEn(idTaller INT PRIMARY KEY, idLugar INT, FOREIGN KEY (idLugar) REFERENCES Lugar(idLugar))\n"
          ]
        }
      ],
      "source": [
        "# Persona\n",
        "curr.execute('''\n",
        "    SELECT sql \n",
        "    FROM sqlite_schema \n",
        "    WHERE tbl_name = 'Persona';\n",
        "''')\n",
        "\n",
        "persona_schema = curr.fetchall()\n",
        "print(persona_schema[0][0])\n",
        "\n",
        "# Participa\n",
        "curr.execute('''\n",
        "    SELECT sql \n",
        "    FROM sqlite_schema \n",
        "    WHERE tbl_name = 'Participa';\n",
        "''')\n",
        "\n",
        "participa_schema = curr.fetchall()\n",
        "print(participa_schema[0][0])\n",
        "\n",
        "# EstaEn\n",
        "curr.execute('''\n",
        "    SELECT sql \n",
        "    FROM sqlite_schema \n",
        "    WHERE tbl_name = 'EstaEn';\n",
        "''')\n",
        "\n",
        "estaen_schema = curr.fetchall()\n",
        "print(estaen_schema[0][0])"
      ]
    },
    {
      "attachments": {},
      "cell_type": "markdown",
      "metadata": {
        "id": "yB4d1b1KFw3v"
      },
      "source": [
        "## Pregunta 2\n",
        "\n",
        "Inserta a las tablas `Taller`, `Deportivo` e `Instumental` los datos que se piden según su esquema, desde las tablas `TallerDeportivo` y `TallerInstrumental` que ya existen en tu base de datos.\n",
        "\n",
        "Para esto puedes ocupar SQL, Pandas, Python, lo que sea. Una buena alternativa se propone en el siguiente link: https://www.w3schools.com/sql/sql_insert_into_select.asp\n",
        "\n",
        "También pueden ver el siguiente link: https://stackoverflow.com/questions/71362727/python-sqlite3-insert-data-from-for-loop (si siguen esta forma, recuerden hacer commit a la connection luego de ejecutar el INSERT INTO )"
      ]
    },
    {
      "attachments": {},
      "cell_type": "markdown",
      "metadata": {},
      "source": [
        "### Respuesta"
      ]
    },
    {
      "attachments": {},
      "cell_type": "markdown",
      "metadata": {},
      "source": [
        "Primero veremos lo que tienen las tablas **TallerDeportivo** y **TallerInstrumental**"
      ]
    },
    {
      "cell_type": "code",
      "execution_count": 117,
      "metadata": {
        "id": "NcLY99I3F32R"
      },
      "outputs": [
        {
          "data": {
            "text/html": [
              "<div>\n",
              "<style scoped>\n",
              "    .dataframe tbody tr th:only-of-type {\n",
              "        vertical-align: middle;\n",
              "    }\n",
              "\n",
              "    .dataframe tbody tr th {\n",
              "        vertical-align: top;\n",
              "    }\n",
              "\n",
              "    .dataframe thead th {\n",
              "        text-align: right;\n",
              "    }\n",
              "</style>\n",
              "<table border=\"1\" class=\"dataframe\">\n",
              "  <thead>\n",
              "    <tr style=\"text-align: right;\">\n",
              "      <th></th>\n",
              "      <th>id</th>\n",
              "      <th>nombreTaller</th>\n",
              "      <th>nombreProfesor</th>\n",
              "      <th>fecha</th>\n",
              "      <th>hora</th>\n",
              "      <th>valor</th>\n",
              "      <th>duracion</th>\n",
              "      <th>deporte</th>\n",
              "      <th>nrEquipos</th>\n",
              "      <th>nrPersonas</th>\n",
              "    </tr>\n",
              "  </thead>\n",
              "  <tbody>\n",
              "    <tr>\n",
              "      <th>0</th>\n",
              "      <td>1</td>\n",
              "      <td>Taller deportivo 1</td>\n",
              "      <td>Felicia Rivera</td>\n",
              "      <td>2023-03-24</td>\n",
              "      <td>17:00</td>\n",
              "      <td>8</td>\n",
              "      <td>1.0</td>\n",
              "      <td>Handbol</td>\n",
              "      <td>2</td>\n",
              "      <td>7</td>\n",
              "    </tr>\n",
              "    <tr>\n",
              "      <th>1</th>\n",
              "      <td>2</td>\n",
              "      <td>Taller deportivo 2</td>\n",
              "      <td>Tyler Ferguson</td>\n",
              "      <td>2023-05-09</td>\n",
              "      <td>11:00</td>\n",
              "      <td>8</td>\n",
              "      <td>1.5</td>\n",
              "      <td>Handbol</td>\n",
              "      <td>2</td>\n",
              "      <td>7</td>\n",
              "    </tr>\n",
              "    <tr>\n",
              "      <th>2</th>\n",
              "      <td>3</td>\n",
              "      <td>Taller deportivo 3</td>\n",
              "      <td>Chris Bryant</td>\n",
              "      <td>2023-01-16</td>\n",
              "      <td>15:00</td>\n",
              "      <td>6</td>\n",
              "      <td>2.0</td>\n",
              "      <td>Voleibol</td>\n",
              "      <td>2</td>\n",
              "      <td>6</td>\n",
              "    </tr>\n",
              "    <tr>\n",
              "      <th>3</th>\n",
              "      <td>4</td>\n",
              "      <td>Taller deportivo 4</td>\n",
              "      <td>Gregg Thompson</td>\n",
              "      <td>2023-03-22</td>\n",
              "      <td>13:00</td>\n",
              "      <td>8</td>\n",
              "      <td>2.0</td>\n",
              "      <td>Handbol</td>\n",
              "      <td>2</td>\n",
              "      <td>7</td>\n",
              "    </tr>\n",
              "    <tr>\n",
              "      <th>4</th>\n",
              "      <td>5</td>\n",
              "      <td>Taller deportivo 5</td>\n",
              "      <td>Joanna Washington</td>\n",
              "      <td>2022-06-30</td>\n",
              "      <td>13:00</td>\n",
              "      <td>2</td>\n",
              "      <td>2.0</td>\n",
              "      <td>Voleibol</td>\n",
              "      <td>2</td>\n",
              "      <td>6</td>\n",
              "    </tr>\n",
              "  </tbody>\n",
              "</table>\n",
              "</div>"
            ],
            "text/plain": [
              "   id        nombreTaller     nombreProfesor       fecha   hora  valor  \\\n",
              "0   1  Taller deportivo 1     Felicia Rivera  2023-03-24  17:00      8   \n",
              "1   2  Taller deportivo 2     Tyler Ferguson  2023-05-09  11:00      8   \n",
              "2   3  Taller deportivo 3       Chris Bryant  2023-01-16  15:00      6   \n",
              "3   4  Taller deportivo 4     Gregg Thompson  2023-03-22  13:00      8   \n",
              "4   5  Taller deportivo 5  Joanna Washington  2022-06-30  13:00      2   \n",
              "\n",
              "   duracion   deporte  nrEquipos nrPersonas  \n",
              "0       1.0   Handbol          2          7  \n",
              "1       1.5   Handbol          2          7  \n",
              "2       2.0  Voleibol          2          6  \n",
              "3       2.0   Handbol          2          7  \n",
              "4       2.0  Voleibol          2          6  "
            ]
          },
          "execution_count": 117,
          "metadata": {},
          "output_type": "execute_result"
        }
      ],
      "source": [
        "# TallerDeportivo\n",
        "curr.execute('''\n",
        "    SELECT * \n",
        "    FROM TallerDeportivo\n",
        "''')\n",
        "\n",
        "tallerDeportivo = pd.DataFrame(curr.fetchall(), columns=[\"id\",\"nombreTaller\", \"nombreProfesor\", \n",
        "\"fecha\",\"hora\",\"valor\",\"duracion\",\"deporte\",\"nrEquipos\", \"nrPersonas\"])\n",
        "tallerDeportivo.head()"
      ]
    },
    {
      "cell_type": "code",
      "execution_count": 118,
      "metadata": {
        "id": "WZnPL48lto3i"
      },
      "outputs": [
        {
          "data": {
            "text/html": [
              "<div>\n",
              "<style scoped>\n",
              "    .dataframe tbody tr th:only-of-type {\n",
              "        vertical-align: middle;\n",
              "    }\n",
              "\n",
              "    .dataframe tbody tr th {\n",
              "        vertical-align: top;\n",
              "    }\n",
              "\n",
              "    .dataframe thead th {\n",
              "        text-align: right;\n",
              "    }\n",
              "</style>\n",
              "<table border=\"1\" class=\"dataframe\">\n",
              "  <thead>\n",
              "    <tr style=\"text-align: right;\">\n",
              "      <th></th>\n",
              "      <th>id</th>\n",
              "      <th>nombreTaller</th>\n",
              "      <th>nombreProfesor</th>\n",
              "      <th>fecha</th>\n",
              "      <th>hora</th>\n",
              "      <th>valor</th>\n",
              "      <th>duracion</th>\n",
              "      <th>instrumento</th>\n",
              "      <th>nrInstrumentos</th>\n",
              "    </tr>\n",
              "  </thead>\n",
              "  <tbody>\n",
              "    <tr>\n",
              "      <th>0</th>\n",
              "      <td>101</td>\n",
              "      <td>Taller Instrumental 1</td>\n",
              "      <td>Mr. Michael Mcguire</td>\n",
              "      <td>2022-11-03</td>\n",
              "      <td>11:00</td>\n",
              "      <td>4</td>\n",
              "      <td>1.0</td>\n",
              "      <td>Trompeta</td>\n",
              "      <td>12</td>\n",
              "    </tr>\n",
              "    <tr>\n",
              "      <th>1</th>\n",
              "      <td>102</td>\n",
              "      <td>Taller Instrumental 2</td>\n",
              "      <td>Cameron Evans</td>\n",
              "      <td>2022-01-04</td>\n",
              "      <td>15:00</td>\n",
              "      <td>3</td>\n",
              "      <td>1.5</td>\n",
              "      <td>Bajo</td>\n",
              "      <td>2</td>\n",
              "    </tr>\n",
              "    <tr>\n",
              "      <th>2</th>\n",
              "      <td>103</td>\n",
              "      <td>Taller Instrumental 3</td>\n",
              "      <td>Sheila Lewis</td>\n",
              "      <td>2022-04-04</td>\n",
              "      <td>13:00</td>\n",
              "      <td>8</td>\n",
              "      <td>1.5</td>\n",
              "      <td>Guitarra</td>\n",
              "      <td>4</td>\n",
              "    </tr>\n",
              "    <tr>\n",
              "      <th>3</th>\n",
              "      <td>104</td>\n",
              "      <td>Taller Instrumental 4</td>\n",
              "      <td>Ebony Smith</td>\n",
              "      <td>2022-10-25</td>\n",
              "      <td>14:00</td>\n",
              "      <td>3</td>\n",
              "      <td>1.0</td>\n",
              "      <td>Guitarra</td>\n",
              "      <td>4</td>\n",
              "    </tr>\n",
              "    <tr>\n",
              "      <th>4</th>\n",
              "      <td>105</td>\n",
              "      <td>Taller Instrumental 5</td>\n",
              "      <td>Jose Powell</td>\n",
              "      <td>2022-05-09</td>\n",
              "      <td>17:00</td>\n",
              "      <td>5</td>\n",
              "      <td>1.5</td>\n",
              "      <td>Bajo</td>\n",
              "      <td>21</td>\n",
              "    </tr>\n",
              "  </tbody>\n",
              "</table>\n",
              "</div>"
            ],
            "text/plain": [
              "    id           nombreTaller       nombreProfesor       fecha   hora  valor  \\\n",
              "0  101  Taller Instrumental 1  Mr. Michael Mcguire  2022-11-03  11:00      4   \n",
              "1  102  Taller Instrumental 2        Cameron Evans  2022-01-04  15:00      3   \n",
              "2  103  Taller Instrumental 3         Sheila Lewis  2022-04-04  13:00      8   \n",
              "3  104  Taller Instrumental 4          Ebony Smith  2022-10-25  14:00      3   \n",
              "4  105  Taller Instrumental 5          Jose Powell  2022-05-09  17:00      5   \n",
              "\n",
              "   duracion instrumento  nrInstrumentos  \n",
              "0       1.0    Trompeta              12  \n",
              "1       1.5        Bajo               2  \n",
              "2       1.5    Guitarra               4  \n",
              "3       1.0    Guitarra               4  \n",
              "4       1.5        Bajo              21  "
            ]
          },
          "execution_count": 118,
          "metadata": {},
          "output_type": "execute_result"
        }
      ],
      "source": [
        "# TallerInstrumental\n",
        "curr.execute('''\n",
        "    SELECT * \n",
        "    FROM TallerInstrumental\n",
        "''')\n",
        "\n",
        "tallerInstrumental = pd.DataFrame(curr.fetchall(), columns=[\"id\",\"nombreTaller\", \"nombreProfesor\", \n",
        "\"fecha\",\"hora\",\"valor\",\"duracion\",\"instrumento\",\"nrInstrumentos\"])\n",
        "tallerInstrumental.head()"
      ]
    },
    {
      "attachments": {},
      "cell_type": "markdown",
      "metadata": {},
      "source": [
        "Ahora, procedemos a cargar los datos primero en **Taller** y luego en **Deportivo** e **Instrumental**."
      ]
    },
    {
      "cell_type": "code",
      "execution_count": 119,
      "metadata": {
        "id": "zZb_I2B4tryF"
      },
      "outputs": [
        {
          "data": {
            "text/html": [
              "<div>\n",
              "<style scoped>\n",
              "    .dataframe tbody tr th:only-of-type {\n",
              "        vertical-align: middle;\n",
              "    }\n",
              "\n",
              "    .dataframe tbody tr th {\n",
              "        vertical-align: top;\n",
              "    }\n",
              "\n",
              "    .dataframe thead th {\n",
              "        text-align: right;\n",
              "    }\n",
              "</style>\n",
              "<table border=\"1\" class=\"dataframe\">\n",
              "  <thead>\n",
              "    <tr style=\"text-align: right;\">\n",
              "      <th></th>\n",
              "      <th>id</th>\n",
              "      <th>nombreTaller</th>\n",
              "      <th>nombreProfesor</th>\n",
              "      <th>fecha</th>\n",
              "      <th>hora</th>\n",
              "      <th>valor</th>\n",
              "      <th>duracion</th>\n",
              "    </tr>\n",
              "  </thead>\n",
              "  <tbody>\n",
              "    <tr>\n",
              "      <th>0</th>\n",
              "      <td>1</td>\n",
              "      <td>Taller deportivo 1</td>\n",
              "      <td>Felicia Rivera</td>\n",
              "      <td>2023-03-24</td>\n",
              "      <td>17:00</td>\n",
              "      <td>8</td>\n",
              "      <td>1.0</td>\n",
              "    </tr>\n",
              "    <tr>\n",
              "      <th>1</th>\n",
              "      <td>2</td>\n",
              "      <td>Taller deportivo 2</td>\n",
              "      <td>Tyler Ferguson</td>\n",
              "      <td>2023-05-09</td>\n",
              "      <td>11:00</td>\n",
              "      <td>8</td>\n",
              "      <td>1.5</td>\n",
              "    </tr>\n",
              "    <tr>\n",
              "      <th>2</th>\n",
              "      <td>3</td>\n",
              "      <td>Taller deportivo 3</td>\n",
              "      <td>Chris Bryant</td>\n",
              "      <td>2023-01-16</td>\n",
              "      <td>15:00</td>\n",
              "      <td>6</td>\n",
              "      <td>2.0</td>\n",
              "    </tr>\n",
              "    <tr>\n",
              "      <th>3</th>\n",
              "      <td>4</td>\n",
              "      <td>Taller deportivo 4</td>\n",
              "      <td>Gregg Thompson</td>\n",
              "      <td>2023-03-22</td>\n",
              "      <td>13:00</td>\n",
              "      <td>8</td>\n",
              "      <td>2.0</td>\n",
              "    </tr>\n",
              "    <tr>\n",
              "      <th>4</th>\n",
              "      <td>5</td>\n",
              "      <td>Taller deportivo 5</td>\n",
              "      <td>Joanna Washington</td>\n",
              "      <td>2022-06-30</td>\n",
              "      <td>13:00</td>\n",
              "      <td>2</td>\n",
              "      <td>2.0</td>\n",
              "    </tr>\n",
              "    <tr>\n",
              "      <th>...</th>\n",
              "      <td>...</td>\n",
              "      <td>...</td>\n",
              "      <td>...</td>\n",
              "      <td>...</td>\n",
              "      <td>...</td>\n",
              "      <td>...</td>\n",
              "      <td>...</td>\n",
              "    </tr>\n",
              "    <tr>\n",
              "      <th>195</th>\n",
              "      <td>196</td>\n",
              "      <td>Taller Instrumental 96</td>\n",
              "      <td>Matthew Bates</td>\n",
              "      <td>2022-05-23</td>\n",
              "      <td>15:00</td>\n",
              "      <td>2</td>\n",
              "      <td>1.5</td>\n",
              "    </tr>\n",
              "    <tr>\n",
              "      <th>196</th>\n",
              "      <td>197</td>\n",
              "      <td>Taller Instrumental 97</td>\n",
              "      <td>Belinda Harper</td>\n",
              "      <td>2023-03-04</td>\n",
              "      <td>14:00</td>\n",
              "      <td>4</td>\n",
              "      <td>2.0</td>\n",
              "    </tr>\n",
              "    <tr>\n",
              "      <th>197</th>\n",
              "      <td>198</td>\n",
              "      <td>Taller Instrumental 98</td>\n",
              "      <td>Kerry Stevenson</td>\n",
              "      <td>2022-08-09</td>\n",
              "      <td>17:00</td>\n",
              "      <td>3</td>\n",
              "      <td>2.0</td>\n",
              "    </tr>\n",
              "    <tr>\n",
              "      <th>198</th>\n",
              "      <td>199</td>\n",
              "      <td>Taller Instrumental 99</td>\n",
              "      <td>Derrick Lee</td>\n",
              "      <td>2021-10-08</td>\n",
              "      <td>17:00</td>\n",
              "      <td>10</td>\n",
              "      <td>1.0</td>\n",
              "    </tr>\n",
              "    <tr>\n",
              "      <th>199</th>\n",
              "      <td>200</td>\n",
              "      <td>Taller Instrumental 100</td>\n",
              "      <td>Thomas Harvey</td>\n",
              "      <td>2023-06-12</td>\n",
              "      <td>15:00</td>\n",
              "      <td>6</td>\n",
              "      <td>1.5</td>\n",
              "    </tr>\n",
              "  </tbody>\n",
              "</table>\n",
              "<p>200 rows × 7 columns</p>\n",
              "</div>"
            ],
            "text/plain": [
              "      id             nombreTaller     nombreProfesor       fecha   hora  \\\n",
              "0      1       Taller deportivo 1     Felicia Rivera  2023-03-24  17:00   \n",
              "1      2       Taller deportivo 2     Tyler Ferguson  2023-05-09  11:00   \n",
              "2      3       Taller deportivo 3       Chris Bryant  2023-01-16  15:00   \n",
              "3      4       Taller deportivo 4     Gregg Thompson  2023-03-22  13:00   \n",
              "4      5       Taller deportivo 5  Joanna Washington  2022-06-30  13:00   \n",
              "..   ...                      ...                ...         ...    ...   \n",
              "195  196   Taller Instrumental 96      Matthew Bates  2022-05-23  15:00   \n",
              "196  197   Taller Instrumental 97     Belinda Harper  2023-03-04  14:00   \n",
              "197  198   Taller Instrumental 98    Kerry Stevenson  2022-08-09  17:00   \n",
              "198  199   Taller Instrumental 99        Derrick Lee  2021-10-08  17:00   \n",
              "199  200  Taller Instrumental 100      Thomas Harvey  2023-06-12  15:00   \n",
              "\n",
              "     valor  duracion  \n",
              "0        8       1.0  \n",
              "1        8       1.5  \n",
              "2        6       2.0  \n",
              "3        8       2.0  \n",
              "4        2       2.0  \n",
              "..     ...       ...  \n",
              "195      2       1.5  \n",
              "196      4       2.0  \n",
              "197      3       2.0  \n",
              "198     10       1.0  \n",
              "199      6       1.5  \n",
              "\n",
              "[200 rows x 7 columns]"
            ]
          },
          "execution_count": 119,
          "metadata": {},
          "output_type": "execute_result"
        }
      ],
      "source": [
        "cols_taller = [\"id\", \"nombreTaller\", \"nombreProfesor\", \"fecha\", \"hora\", \"valor\", \"duracion\"]\n",
        "df_deportivo = tallerDeportivo[cols_taller]\n",
        "df_instrumental = tallerInstrumental[cols_taller]\n",
        "df_instrumental.head()\n",
        "\n",
        "# Creamos un dataframe unico de taller\n",
        "df_taller = df_deportivo.merge(df_instrumental, how='outer')\n",
        "df_taller.head(200)"
      ]
    },
    {
      "attachments": {},
      "cell_type": "markdown",
      "metadata": {},
      "source": [
        "Llenamos la tabla **Taller** con la información del dataframe. **SOLO EJECUTAR UNA VEZ**, ya que el id debe ser unico y si ya existe se violará la restricción y el código arrojará una excepción. Se puede modificar el atributo *if_exists* con el valor *'replace'* si se quiere evitar este comportamiento."
      ]
    },
    {
      "cell_type": "code",
      "execution_count": 120,
      "metadata": {},
      "outputs": [
        {
          "data": {
            "text/plain": [
              "200"
            ]
          },
          "execution_count": 120,
          "metadata": {},
          "output_type": "execute_result"
        }
      ],
      "source": [
        "df_taller.to_sql(\n",
        "    \"Taller\",\n",
        "    con=conn,\n",
        "    if_exists='append',\n",
        "    index=False\n",
        ")"
      ]
    },
    {
      "attachments": {},
      "cell_type": "markdown",
      "metadata": {},
      "source": [
        "Ahora llenamos las tablas **Deportivo** e **Instrumental**"
      ]
    },
    {
      "cell_type": "code",
      "execution_count": 121,
      "metadata": {},
      "outputs": [
        {
          "name": "stdout",
          "output_type": "stream",
          "text": [
            "   id   deporte  nrEquipos nrPersonas\n",
            "0   1   Handbol          2          7\n",
            "1   2   Handbol          2          7\n",
            "2   3  Voleibol          2          6\n",
            "3   4   Handbol          2          7\n",
            "4   5  Voleibol          2          6\n",
            "    id instrumento  nrInstrumentos\n",
            "0  101    Trompeta              12\n",
            "1  102        Bajo               2\n",
            "2  103    Guitarra               4\n",
            "3  104    Guitarra               4\n",
            "4  105        Bajo              21\n"
          ]
        }
      ],
      "source": [
        "# Deportivo\n",
        "cols_deportivo = [\"id\", \"deporte\", \"nrEquipos\", \"nrPersonas\"]\n",
        "df_deportivo_short = tallerDeportivo[cols_deportivo]\n",
        "\n",
        "# Instrumental\n",
        "cols_instrumental = [\"id\", \"instrumento\", \"nrInstrumentos\"]\n",
        "df_instrumental_short = tallerInstrumental[cols_instrumental]\n",
        "\n",
        "print(df_deportivo_short.head())\n",
        "print(df_instrumental_short.head())"
      ]
    },
    {
      "cell_type": "code",
      "execution_count": 122,
      "metadata": {},
      "outputs": [
        {
          "data": {
            "text/plain": [
              "100"
            ]
          },
          "execution_count": 122,
          "metadata": {},
          "output_type": "execute_result"
        }
      ],
      "source": [
        "df_deportivo_short.to_sql(\n",
        "    \"Deportivo\",\n",
        "    con=conn,\n",
        "    if_exists='append',\n",
        "    index=False\n",
        ")"
      ]
    },
    {
      "cell_type": "code",
      "execution_count": 123,
      "metadata": {},
      "outputs": [
        {
          "data": {
            "text/plain": [
              "100"
            ]
          },
          "execution_count": 123,
          "metadata": {},
          "output_type": "execute_result"
        }
      ],
      "source": [
        "df_instrumental_short.to_sql(\n",
        "    \"Instrumental\",\n",
        "    con=conn,\n",
        "    if_exists='append',\n",
        "    index=False\n",
        ")"
      ]
    },
    {
      "cell_type": "markdown",
      "metadata": {
        "id": "1BE14L8ltbi6"
      },
      "source": [
        "Finalmente, ejecuta las siguientes celdas para corroborar que los datos se hayan cargado de forma correcta:"
      ]
    },
    {
      "cell_type": "code",
      "execution_count": 124,
      "metadata": {
        "id": "nPyMJFKVtVXS"
      },
      "outputs": [
        {
          "name": "stdout",
          "output_type": "stream",
          "text": [
            " * sqlite:///datos_T3.db\n",
            "Done.\n"
          ]
        },
        {
          "data": {
            "text/html": [
              "<table>\n",
              "    <tr>\n",
              "        <th>id</th>\n",
              "        <th>nombreTaller</th>\n",
              "        <th>nombreProfesor</th>\n",
              "        <th>fecha</th>\n",
              "        <th>hora</th>\n",
              "        <th>valor</th>\n",
              "        <th>duracion</th>\n",
              "    </tr>\n",
              "    <tr>\n",
              "        <td>1</td>\n",
              "        <td>Taller deportivo 1</td>\n",
              "        <td>Felicia Rivera</td>\n",
              "        <td>2023-03-24</td>\n",
              "        <td>17:00</td>\n",
              "        <td>8</td>\n",
              "        <td>1</td>\n",
              "    </tr>\n",
              "    <tr>\n",
              "        <td>2</td>\n",
              "        <td>Taller deportivo 2</td>\n",
              "        <td>Tyler Ferguson</td>\n",
              "        <td>2023-05-09</td>\n",
              "        <td>11:00</td>\n",
              "        <td>8</td>\n",
              "        <td>1.5</td>\n",
              "    </tr>\n",
              "    <tr>\n",
              "        <td>3</td>\n",
              "        <td>Taller deportivo 3</td>\n",
              "        <td>Chris Bryant</td>\n",
              "        <td>2023-01-16</td>\n",
              "        <td>15:00</td>\n",
              "        <td>6</td>\n",
              "        <td>2</td>\n",
              "    </tr>\n",
              "    <tr>\n",
              "        <td>4</td>\n",
              "        <td>Taller deportivo 4</td>\n",
              "        <td>Gregg Thompson</td>\n",
              "        <td>2023-03-22</td>\n",
              "        <td>13:00</td>\n",
              "        <td>8</td>\n",
              "        <td>2</td>\n",
              "    </tr>\n",
              "    <tr>\n",
              "        <td>5</td>\n",
              "        <td>Taller deportivo 5</td>\n",
              "        <td>Joanna Washington</td>\n",
              "        <td>2022-06-30</td>\n",
              "        <td>13:00</td>\n",
              "        <td>2</td>\n",
              "        <td>2</td>\n",
              "    </tr>\n",
              "</table>"
            ],
            "text/plain": [
              "[(1, 'Taller deportivo 1', 'Felicia Rivera', '2023-03-24', '17:00', 8, 1),\n",
              " (2, 'Taller deportivo 2', 'Tyler Ferguson', '2023-05-09', '11:00', 8, 1.5),\n",
              " (3, 'Taller deportivo 3', 'Chris Bryant', '2023-01-16', '15:00', 6, 2),\n",
              " (4, 'Taller deportivo 4', 'Gregg Thompson', '2023-03-22', '13:00', 8, 2),\n",
              " (5, 'Taller deportivo 5', 'Joanna Washington', '2022-06-30', '13:00', 2, 2)]"
            ]
          },
          "execution_count": 124,
          "metadata": {},
          "output_type": "execute_result"
        }
      ],
      "source": [
        "%%sql\n",
        "\n",
        "SELECT * FROM Taller LIMIT 5"
      ]
    },
    {
      "cell_type": "code",
      "execution_count": 125,
      "metadata": {
        "id": "lasuwtA9tXsu"
      },
      "outputs": [
        {
          "name": "stdout",
          "output_type": "stream",
          "text": [
            " * sqlite:///datos_T3.db\n",
            "Done.\n"
          ]
        },
        {
          "data": {
            "text/html": [
              "<table>\n",
              "    <tr>\n",
              "        <th>id</th>\n",
              "        <th>deporte</th>\n",
              "        <th>nrEquipos</th>\n",
              "        <th>nrPersonas</th>\n",
              "    </tr>\n",
              "    <tr>\n",
              "        <td>1</td>\n",
              "        <td>Handbol</td>\n",
              "        <td>2</td>\n",
              "        <td>7</td>\n",
              "    </tr>\n",
              "    <tr>\n",
              "        <td>2</td>\n",
              "        <td>Handbol</td>\n",
              "        <td>2</td>\n",
              "        <td>7</td>\n",
              "    </tr>\n",
              "    <tr>\n",
              "        <td>3</td>\n",
              "        <td>Voleibol</td>\n",
              "        <td>2</td>\n",
              "        <td>6</td>\n",
              "    </tr>\n",
              "    <tr>\n",
              "        <td>4</td>\n",
              "        <td>Handbol</td>\n",
              "        <td>2</td>\n",
              "        <td>7</td>\n",
              "    </tr>\n",
              "    <tr>\n",
              "        <td>5</td>\n",
              "        <td>Voleibol</td>\n",
              "        <td>2</td>\n",
              "        <td>6</td>\n",
              "    </tr>\n",
              "    <tr>\n",
              "        <td>6</td>\n",
              "        <td>Fútbol</td>\n",
              "        <td>2</td>\n",
              "        <td>11</td>\n",
              "    </tr>\n",
              "    <tr>\n",
              "        <td>7</td>\n",
              "        <td>Zumba</td>\n",
              "        <td>1</td>\n",
              "        <td></td>\n",
              "    </tr>\n",
              "    <tr>\n",
              "        <td>8</td>\n",
              "        <td>Zumba</td>\n",
              "        <td>1</td>\n",
              "        <td></td>\n",
              "    </tr>\n",
              "    <tr>\n",
              "        <td>9</td>\n",
              "        <td>Handbol</td>\n",
              "        <td>2</td>\n",
              "        <td>7</td>\n",
              "    </tr>\n",
              "    <tr>\n",
              "        <td>10</td>\n",
              "        <td>Zumba</td>\n",
              "        <td>1</td>\n",
              "        <td></td>\n",
              "    </tr>\n",
              "</table>"
            ],
            "text/plain": [
              "[(1, 'Handbol', 2, 7),\n",
              " (2, 'Handbol', 2, 7),\n",
              " (3, 'Voleibol', 2, 6),\n",
              " (4, 'Handbol', 2, 7),\n",
              " (5, 'Voleibol', 2, 6),\n",
              " (6, 'Fútbol', 2, 11),\n",
              " (7, 'Zumba', 1, ''),\n",
              " (8, 'Zumba', 1, ''),\n",
              " (9, 'Handbol', 2, 7),\n",
              " (10, 'Zumba', 1, '')]"
            ]
          },
          "execution_count": 125,
          "metadata": {},
          "output_type": "execute_result"
        }
      ],
      "source": [
        "%%sql\n",
        "SELECT * FROM Deportivo LIMIT 10"
      ]
    },
    {
      "cell_type": "code",
      "execution_count": 126,
      "metadata": {
        "id": "TvVr3LvitYKr"
      },
      "outputs": [
        {
          "name": "stdout",
          "output_type": "stream",
          "text": [
            " * sqlite:///datos_T3.db\n",
            "Done.\n"
          ]
        },
        {
          "data": {
            "text/html": [
              "<table>\n",
              "    <tr>\n",
              "        <th>id</th>\n",
              "        <th>instrumento</th>\n",
              "        <th>nrInstrumentos</th>\n",
              "    </tr>\n",
              "    <tr>\n",
              "        <td>101</td>\n",
              "        <td>Trompeta</td>\n",
              "        <td>12</td>\n",
              "    </tr>\n",
              "    <tr>\n",
              "        <td>102</td>\n",
              "        <td>Bajo</td>\n",
              "        <td>2</td>\n",
              "    </tr>\n",
              "    <tr>\n",
              "        <td>103</td>\n",
              "        <td>Guitarra</td>\n",
              "        <td>4</td>\n",
              "    </tr>\n",
              "    <tr>\n",
              "        <td>104</td>\n",
              "        <td>Guitarra</td>\n",
              "        <td>4</td>\n",
              "    </tr>\n",
              "    <tr>\n",
              "        <td>105</td>\n",
              "        <td>Bajo</td>\n",
              "        <td>21</td>\n",
              "    </tr>\n",
              "    <tr>\n",
              "        <td>106</td>\n",
              "        <td>Violín</td>\n",
              "        <td>10</td>\n",
              "    </tr>\n",
              "    <tr>\n",
              "        <td>107</td>\n",
              "        <td>Trompeta</td>\n",
              "        <td>4</td>\n",
              "    </tr>\n",
              "    <tr>\n",
              "        <td>108</td>\n",
              "        <td>Batería</td>\n",
              "        <td>10</td>\n",
              "    </tr>\n",
              "    <tr>\n",
              "        <td>109</td>\n",
              "        <td>Piano</td>\n",
              "        <td>5</td>\n",
              "    </tr>\n",
              "    <tr>\n",
              "        <td>110</td>\n",
              "        <td>Bajo</td>\n",
              "        <td>9</td>\n",
              "    </tr>\n",
              "</table>"
            ],
            "text/plain": [
              "[(101, 'Trompeta', 12),\n",
              " (102, 'Bajo', 2),\n",
              " (103, 'Guitarra', 4),\n",
              " (104, 'Guitarra', 4),\n",
              " (105, 'Bajo', 21),\n",
              " (106, 'Violín', 10),\n",
              " (107, 'Trompeta', 4),\n",
              " (108, 'Batería', 10),\n",
              " (109, 'Piano', 5),\n",
              " (110, 'Bajo', 9)]"
            ]
          },
          "execution_count": 126,
          "metadata": {},
          "output_type": "execute_result"
        }
      ],
      "source": [
        "%%sql\n",
        "SELECT * FROM Instrumental LIMIT 10"
      ]
    },
    {
      "attachments": {},
      "cell_type": "markdown",
      "metadata": {
        "id": "5ajnI5m7F9pI"
      },
      "source": [
        "## Pregunta 3\n",
        "\n",
        "Ocupando los 3 csv entregados, llena las tablas `País` y `Ciudad` del esquema nuevo. Para esto, hay que hacer un join entre los csv. De nuevo, esto lo puedes hacer con Pandas (cargando los tres CSV a SQL)  o con Python.\n",
        "\n",
        "Aquí puedes cargar los csvs en Pandas, y luego ocupar este tutorial para cargar datos desde un dataframe a una tabla SQL: https://datacarpentry.org/python-ecology-lesson/09-working-with-sql/index.html\n",
        "\n",
        "Alternativamente, lo más fácil sería cargar datos desde un csv directamente a sqlite, como se explica aquí: https://www.sqlitetutorial.net/sqlite-import-csv/\n",
        " (pero para esto, debes tener sqlite3 instalado en tu computador)\n",
        "\n",
        "Otro link que puede ser de utilidad es el siguiente: https://kontext.tech/article/633/pandas-save-dataframe-to-sqlite"
      ]
    },
    {
      "attachments": {},
      "cell_type": "markdown",
      "metadata": {},
      "source": [
        "### Respuesta"
      ]
    },
    {
      "attachments": {},
      "cell_type": "markdown",
      "metadata": {},
      "source": [
        "Cargamos a DataFrame los 3 csvs. En el caso del Dataframe *df_ciudad*, este ya contendrá los datos correctos."
      ]
    },
    {
      "cell_type": "code",
      "execution_count": 127,
      "metadata": {
        "id": "dz23KWdDGU-n"
      },
      "outputs": [],
      "source": [
        "raw_df_ciudad = pd.read_csv(\"Ciudad.csv\", sep=\";\")"
      ]
    },
    {
      "cell_type": "code",
      "execution_count": 128,
      "metadata": {
        "id": "COsFE6eutvlu"
      },
      "outputs": [],
      "source": [
        "df_pais = pd.read_csv(\"Pais.csv\", sep=\";\")"
      ]
    },
    {
      "cell_type": "code",
      "execution_count": 129,
      "metadata": {
        "id": "VhGQvnTGt1k0"
      },
      "outputs": [],
      "source": [
        "df_ciudad_pais = pd.read_csv(\"CiudadPais.csv\", sep=\";\")"
      ]
    },
    {
      "attachments": {},
      "cell_type": "markdown",
      "metadata": {},
      "source": [
        "Hacemos un join entre los dataframe *df_ciudad* y *df_ciudad_pais* para asignar el ID del pais a la ciudad en cuestion"
      ]
    },
    {
      "cell_type": "code",
      "execution_count": 130,
      "metadata": {},
      "outputs": [
        {
          "data": {
            "text/html": [
              "<div>\n",
              "<style scoped>\n",
              "    .dataframe tbody tr th:only-of-type {\n",
              "        vertical-align: middle;\n",
              "    }\n",
              "\n",
              "    .dataframe tbody tr th {\n",
              "        vertical-align: top;\n",
              "    }\n",
              "\n",
              "    .dataframe thead th {\n",
              "        text-align: right;\n",
              "    }\n",
              "</style>\n",
              "<table border=\"1\" class=\"dataframe\">\n",
              "  <thead>\n",
              "    <tr style=\"text-align: right;\">\n",
              "      <th></th>\n",
              "      <th>idCiudad</th>\n",
              "      <th>nombreCiudad</th>\n",
              "      <th>idPais</th>\n",
              "    </tr>\n",
              "  </thead>\n",
              "  <tbody>\n",
              "    <tr>\n",
              "      <th>0</th>\n",
              "      <td>1</td>\n",
              "      <td>Santiago</td>\n",
              "      <td>1</td>\n",
              "    </tr>\n",
              "    <tr>\n",
              "      <th>1</th>\n",
              "      <td>2</td>\n",
              "      <td>Valparaíso</td>\n",
              "      <td>1</td>\n",
              "    </tr>\n",
              "    <tr>\n",
              "      <th>2</th>\n",
              "      <td>3</td>\n",
              "      <td>Concepción</td>\n",
              "      <td>1</td>\n",
              "    </tr>\n",
              "    <tr>\n",
              "      <th>3</th>\n",
              "      <td>4</td>\n",
              "      <td>Calama</td>\n",
              "      <td>1</td>\n",
              "    </tr>\n",
              "    <tr>\n",
              "      <th>4</th>\n",
              "      <td>5</td>\n",
              "      <td>Buenos Aires</td>\n",
              "      <td>2</td>\n",
              "    </tr>\n",
              "  </tbody>\n",
              "</table>\n",
              "</div>"
            ],
            "text/plain": [
              "   idCiudad  nombreCiudad  idPais\n",
              "0         1      Santiago       1\n",
              "1         2    Valparaíso       1\n",
              "2         3    Concepción       1\n",
              "3         4        Calama       1\n",
              "4         5  Buenos Aires       2"
            ]
          },
          "execution_count": 130,
          "metadata": {},
          "output_type": "execute_result"
        }
      ],
      "source": [
        "df_ciudad = raw_df_ciudad.merge(df_ciudad_pais, how='inner', on=\"idCiudad\") \n",
        "df_ciudad.head()"
      ]
    },
    {
      "attachments": {},
      "cell_type": "markdown",
      "metadata": {},
      "source": [
        "Finalmente, modificamos los nombres de las columnas para los dataframe y que estos calcen con el modelo de datos. Luego, procedemos a llenar la tabla **Pais** y luego la tabla **Ciudad**"
      ]
    },
    {
      "cell_type": "code",
      "execution_count": 131,
      "metadata": {},
      "outputs": [],
      "source": [
        "# Renombramos columnas\n",
        "cols_pais_mapping = {\"idPais\": \"id\"}\n",
        "cols_ciudad_mapping = {\"idCiudad\": \"id\", \"nombreCiudad\": \"NombreCiudad\"}\n",
        "\n",
        "df_pais.rename(columns=cols_pais_mapping, inplace=True)\n",
        "df_ciudad.rename(columns=cols_ciudad_mapping, inplace=True)"
      ]
    },
    {
      "cell_type": "code",
      "execution_count": 132,
      "metadata": {},
      "outputs": [
        {
          "data": {
            "text/html": [
              "<div>\n",
              "<style scoped>\n",
              "    .dataframe tbody tr th:only-of-type {\n",
              "        vertical-align: middle;\n",
              "    }\n",
              "\n",
              "    .dataframe tbody tr th {\n",
              "        vertical-align: top;\n",
              "    }\n",
              "\n",
              "    .dataframe thead th {\n",
              "        text-align: right;\n",
              "    }\n",
              "</style>\n",
              "<table border=\"1\" class=\"dataframe\">\n",
              "  <thead>\n",
              "    <tr style=\"text-align: right;\">\n",
              "      <th></th>\n",
              "      <th>id</th>\n",
              "      <th>nombrePais</th>\n",
              "    </tr>\n",
              "  </thead>\n",
              "  <tbody>\n",
              "    <tr>\n",
              "      <th>0</th>\n",
              "      <td>1</td>\n",
              "      <td>Chile</td>\n",
              "    </tr>\n",
              "    <tr>\n",
              "      <th>1</th>\n",
              "      <td>2</td>\n",
              "      <td>Argentina</td>\n",
              "    </tr>\n",
              "    <tr>\n",
              "      <th>2</th>\n",
              "      <td>3</td>\n",
              "      <td>Brasil</td>\n",
              "    </tr>\n",
              "    <tr>\n",
              "      <th>3</th>\n",
              "      <td>4</td>\n",
              "      <td>Perú</td>\n",
              "    </tr>\n",
              "    <tr>\n",
              "      <th>4</th>\n",
              "      <td>5</td>\n",
              "      <td>México</td>\n",
              "    </tr>\n",
              "  </tbody>\n",
              "</table>\n",
              "</div>"
            ],
            "text/plain": [
              "   id nombrePais\n",
              "0   1      Chile\n",
              "1   2  Argentina\n",
              "2   3     Brasil\n",
              "3   4       Perú\n",
              "4   5     México"
            ]
          },
          "execution_count": 132,
          "metadata": {},
          "output_type": "execute_result"
        }
      ],
      "source": [
        "df_pais.head()"
      ]
    },
    {
      "cell_type": "code",
      "execution_count": 133,
      "metadata": {},
      "outputs": [
        {
          "data": {
            "text/html": [
              "<div>\n",
              "<style scoped>\n",
              "    .dataframe tbody tr th:only-of-type {\n",
              "        vertical-align: middle;\n",
              "    }\n",
              "\n",
              "    .dataframe tbody tr th {\n",
              "        vertical-align: top;\n",
              "    }\n",
              "\n",
              "    .dataframe thead th {\n",
              "        text-align: right;\n",
              "    }\n",
              "</style>\n",
              "<table border=\"1\" class=\"dataframe\">\n",
              "  <thead>\n",
              "    <tr style=\"text-align: right;\">\n",
              "      <th></th>\n",
              "      <th>id</th>\n",
              "      <th>NombreCiudad</th>\n",
              "      <th>idPais</th>\n",
              "    </tr>\n",
              "  </thead>\n",
              "  <tbody>\n",
              "    <tr>\n",
              "      <th>0</th>\n",
              "      <td>1</td>\n",
              "      <td>Santiago</td>\n",
              "      <td>1</td>\n",
              "    </tr>\n",
              "    <tr>\n",
              "      <th>1</th>\n",
              "      <td>2</td>\n",
              "      <td>Valparaíso</td>\n",
              "      <td>1</td>\n",
              "    </tr>\n",
              "    <tr>\n",
              "      <th>2</th>\n",
              "      <td>3</td>\n",
              "      <td>Concepción</td>\n",
              "      <td>1</td>\n",
              "    </tr>\n",
              "    <tr>\n",
              "      <th>3</th>\n",
              "      <td>4</td>\n",
              "      <td>Calama</td>\n",
              "      <td>1</td>\n",
              "    </tr>\n",
              "    <tr>\n",
              "      <th>4</th>\n",
              "      <td>5</td>\n",
              "      <td>Buenos Aires</td>\n",
              "      <td>2</td>\n",
              "    </tr>\n",
              "  </tbody>\n",
              "</table>\n",
              "</div>"
            ],
            "text/plain": [
              "   id  NombreCiudad  idPais\n",
              "0   1      Santiago       1\n",
              "1   2    Valparaíso       1\n",
              "2   3    Concepción       1\n",
              "3   4        Calama       1\n",
              "4   5  Buenos Aires       2"
            ]
          },
          "execution_count": 133,
          "metadata": {},
          "output_type": "execute_result"
        }
      ],
      "source": [
        "df_ciudad.head()"
      ]
    },
    {
      "attachments": {},
      "cell_type": "markdown",
      "metadata": {},
      "source": [
        "Finalmente, llenamos las tablas almacenados en nuestra base de datos"
      ]
    },
    {
      "cell_type": "code",
      "execution_count": 134,
      "metadata": {},
      "outputs": [
        {
          "data": {
            "text/plain": [
              "60"
            ]
          },
          "execution_count": 134,
          "metadata": {},
          "output_type": "execute_result"
        }
      ],
      "source": [
        "df_pais.to_sql(\n",
        "    \"Pais\",\n",
        "    con=conn,\n",
        "    if_exists='append',\n",
        "    index=False\n",
        ")"
      ]
    },
    {
      "cell_type": "code",
      "execution_count": 135,
      "metadata": {},
      "outputs": [
        {
          "data": {
            "text/plain": [
              "82"
            ]
          },
          "execution_count": 135,
          "metadata": {},
          "output_type": "execute_result"
        }
      ],
      "source": [
        "df_ciudad.to_sql(\n",
        "    \"Ciudad\",\n",
        "    con=conn,\n",
        "    if_exists='append',\n",
        "    index=False\n",
        ")"
      ]
    },
    {
      "cell_type": "markdown",
      "metadata": {
        "id": "5DK56yuQt19D"
      },
      "source": [
        "Finalmente, ejecuta las siguientes celdas para corroborar que los datos se hayan cargado de forma correcta:"
      ]
    },
    {
      "cell_type": "code",
      "execution_count": 136,
      "metadata": {
        "id": "zmZ1qtNRtvwR"
      },
      "outputs": [
        {
          "name": "stdout",
          "output_type": "stream",
          "text": [
            " * sqlite:///datos_T3.db\n",
            "Done.\n"
          ]
        },
        {
          "data": {
            "text/html": [
              "<table>\n",
              "    <tr>\n",
              "        <th>id</th>\n",
              "        <th>nombrePais</th>\n",
              "    </tr>\n",
              "    <tr>\n",
              "        <td>1</td>\n",
              "        <td>Chile</td>\n",
              "    </tr>\n",
              "    <tr>\n",
              "        <td>2</td>\n",
              "        <td>Argentina</td>\n",
              "    </tr>\n",
              "    <tr>\n",
              "        <td>3</td>\n",
              "        <td>Brasil</td>\n",
              "    </tr>\n",
              "    <tr>\n",
              "        <td>4</td>\n",
              "        <td>Perú</td>\n",
              "    </tr>\n",
              "    <tr>\n",
              "        <td>5</td>\n",
              "        <td>México</td>\n",
              "    </tr>\n",
              "</table>"
            ],
            "text/plain": [
              "[(1, 'Chile'), (2, 'Argentina'), (3, 'Brasil'), (4, 'Perú'), (5, 'México')]"
            ]
          },
          "execution_count": 136,
          "metadata": {},
          "output_type": "execute_result"
        }
      ],
      "source": [
        "%%sql\n",
        "SELECT * FROM Pais limit 5"
      ]
    },
    {
      "cell_type": "code",
      "execution_count": 137,
      "metadata": {
        "id": "-l8_1U0ctyhl"
      },
      "outputs": [
        {
          "name": "stdout",
          "output_type": "stream",
          "text": [
            " * sqlite:///datos_T3.db\n",
            "Done.\n"
          ]
        },
        {
          "data": {
            "text/html": [
              "<table>\n",
              "    <tr>\n",
              "        <th>id</th>\n",
              "        <th>NombreCiudad</th>\n",
              "        <th>idPais</th>\n",
              "    </tr>\n",
              "    <tr>\n",
              "        <td>1</td>\n",
              "        <td>Santiago</td>\n",
              "        <td>1</td>\n",
              "    </tr>\n",
              "    <tr>\n",
              "        <td>2</td>\n",
              "        <td>Valparaíso</td>\n",
              "        <td>1</td>\n",
              "    </tr>\n",
              "    <tr>\n",
              "        <td>3</td>\n",
              "        <td>Concepción</td>\n",
              "        <td>1</td>\n",
              "    </tr>\n",
              "    <tr>\n",
              "        <td>4</td>\n",
              "        <td>Calama</td>\n",
              "        <td>1</td>\n",
              "    </tr>\n",
              "    <tr>\n",
              "        <td>5</td>\n",
              "        <td>Buenos Aires</td>\n",
              "        <td>2</td>\n",
              "    </tr>\n",
              "</table>"
            ],
            "text/plain": [
              "[(1, 'Santiago', 1),\n",
              " (2, 'Valparaíso', 1),\n",
              " (3, 'Concepción', 1),\n",
              " (4, 'Calama', 1),\n",
              " (5, 'Buenos Aires', 2)]"
            ]
          },
          "execution_count": 137,
          "metadata": {},
          "output_type": "execute_result"
        }
      ],
      "source": [
        "%%sql\n",
        "SELECT * FROM Ciudad limit 5"
      ]
    },
    {
      "attachments": {},
      "cell_type": "markdown",
      "metadata": {
        "id": "7OyQmth3GgJi"
      },
      "source": [
        "## Pregunta 4\n",
        "\n",
        "Llena la tabla LugarNuevo de tu esquema con los datos que se piden. Para esto necesitas ocupar la tabla Lugar (que viene en la base de datos anterior)  y las tablas Ciudad y País (o los CSVs si prefieres). \n",
        "\n",
        "Debes tener cuidado al cruzar la información de las ciudades proveniente de la base de datos anterior con las ciudades que vienen de los archivos nuevos, ya que no todas las ciudades tendrán lugares asociados en la base de datos anterior. La idea es que no queden nulos en tu base de datos.\n",
        "\n",
        "\n",
        "Quizás te puede servir este link https://datatofish.com/sql-to-pandas-dataframe/"
      ]
    },
    {
      "attachments": {},
      "cell_type": "markdown",
      "metadata": {},
      "source": [
        "### Respuesta"
      ]
    },
    {
      "attachments": {},
      "cell_type": "markdown",
      "metadata": {},
      "source": [
        "Creamos el Dataframe con los datos de **Lugar**."
      ]
    },
    {
      "cell_type": "code",
      "execution_count": 138,
      "metadata": {},
      "outputs": [
        {
          "data": {
            "text/html": [
              "<div>\n",
              "<style scoped>\n",
              "    .dataframe tbody tr th:only-of-type {\n",
              "        vertical-align: middle;\n",
              "    }\n",
              "\n",
              "    .dataframe tbody tr th {\n",
              "        vertical-align: top;\n",
              "    }\n",
              "\n",
              "    .dataframe thead th {\n",
              "        text-align: right;\n",
              "    }\n",
              "</style>\n",
              "<table border=\"1\" class=\"dataframe\">\n",
              "  <thead>\n",
              "    <tr style=\"text-align: right;\">\n",
              "      <th></th>\n",
              "      <th>id</th>\n",
              "      <th>calle</th>\n",
              "      <th>numero</th>\n",
              "      <th>codigo</th>\n",
              "      <th>nombreCiudad</th>\n",
              "      <th>nombrePais</th>\n",
              "    </tr>\n",
              "  </thead>\n",
              "  <tbody>\n",
              "    <tr>\n",
              "      <th>0</th>\n",
              "      <td>1</td>\n",
              "      <td>8517 White Circle Suite 464West Christine, WY ...</td>\n",
              "      <td>54408</td>\n",
              "      <td>92721</td>\n",
              "      <td>Glorialand</td>\n",
              "      <td>Syrian Arab Republic</td>\n",
              "    </tr>\n",
              "    <tr>\n",
              "      <th>1</th>\n",
              "      <td>2</td>\n",
              "      <td>0394 Thompson Radial Apt. 440Martinburgh, WI 6...</td>\n",
              "      <td>58837</td>\n",
              "      <td>29150</td>\n",
              "      <td>Jacquelineborough</td>\n",
              "      <td>Saint Vincent and the Grenadines</td>\n",
              "    </tr>\n",
              "    <tr>\n",
              "      <th>2</th>\n",
              "      <td>3</td>\n",
              "      <td>1241 Stevens Extension Suite 769Lopezshire, KS...</td>\n",
              "      <td>23470</td>\n",
              "      <td>49883</td>\n",
              "      <td>Troyberg</td>\n",
              "      <td>Bosnia and Herzegovina</td>\n",
              "    </tr>\n",
              "    <tr>\n",
              "      <th>3</th>\n",
              "      <td>4</td>\n",
              "      <td>3031 Moore FallNorth Amandafort, HI 10818</td>\n",
              "      <td>74384</td>\n",
              "      <td>91003</td>\n",
              "      <td>East Eileenton</td>\n",
              "      <td>Palestinian Territory</td>\n",
              "    </tr>\n",
              "    <tr>\n",
              "      <th>4</th>\n",
              "      <td>5</td>\n",
              "      <td>028 Julia StreamBarbaraburgh, FL 62048</td>\n",
              "      <td>126</td>\n",
              "      <td>75538</td>\n",
              "      <td>Port Katherineport</td>\n",
              "      <td>Marshall Islands</td>\n",
              "    </tr>\n",
              "  </tbody>\n",
              "</table>\n",
              "</div>"
            ],
            "text/plain": [
              "   id                                              calle  numero  codigo  \\\n",
              "0   1  8517 White Circle Suite 464West Christine, WY ...   54408   92721   \n",
              "1   2  0394 Thompson Radial Apt. 440Martinburgh, WI 6...   58837   29150   \n",
              "2   3  1241 Stevens Extension Suite 769Lopezshire, KS...   23470   49883   \n",
              "3   4          3031 Moore FallNorth Amandafort, HI 10818   74384   91003   \n",
              "4   5             028 Julia StreamBarbaraburgh, FL 62048     126   75538   \n",
              "\n",
              "         nombreCiudad                        nombrePais  \n",
              "0          Glorialand              Syrian Arab Republic  \n",
              "1   Jacquelineborough  Saint Vincent and the Grenadines  \n",
              "2            Troyberg            Bosnia and Herzegovina  \n",
              "3      East Eileenton             Palestinian Territory  \n",
              "4  Port Katherineport                  Marshall Islands  "
            ]
          },
          "execution_count": 138,
          "metadata": {},
          "output_type": "execute_result"
        }
      ],
      "source": [
        "curr.execute('''\n",
        "    SELECT * \n",
        "    FROM Lugar\n",
        "''')\n",
        "\n",
        "df_lugar = pd.DataFrame(curr.fetchall(), columns=[\"id\", \"calle\", \"numero\", \"codigo\", \"nombreCiudad\", \"nombrePais\"])\n",
        "df_lugar.head()"
      ]
    },
    {
      "attachments": {},
      "cell_type": "markdown",
      "metadata": {},
      "source": [
        "Hacemos un INNER JOIN con el DataFrame *df_ciudad* por medio de las columnas *nombreCiudad* y *NombreCiudad* y *nombrePais*. Utilizamos un INNER JOIN para no dar paso a nulos."
      ]
    },
    {
      "cell_type": "code",
      "execution_count": 139,
      "metadata": {
        "id": "lQOBVFpoGn0R"
      },
      "outputs": [
        {
          "data": {
            "text/html": [
              "<div>\n",
              "<style scoped>\n",
              "    .dataframe tbody tr th:only-of-type {\n",
              "        vertical-align: middle;\n",
              "    }\n",
              "\n",
              "    .dataframe tbody tr th {\n",
              "        vertical-align: top;\n",
              "    }\n",
              "\n",
              "    .dataframe thead th {\n",
              "        text-align: right;\n",
              "    }\n",
              "</style>\n",
              "<table border=\"1\" class=\"dataframe\">\n",
              "  <thead>\n",
              "    <tr style=\"text-align: right;\">\n",
              "      <th></th>\n",
              "      <th>id_x</th>\n",
              "      <th>calle</th>\n",
              "      <th>numero</th>\n",
              "      <th>codigo</th>\n",
              "      <th>nombreCiudad</th>\n",
              "      <th>nombrePais</th>\n",
              "      <th>idCiudad</th>\n",
              "      <th>idPais</th>\n",
              "      <th>id_y</th>\n",
              "    </tr>\n",
              "  </thead>\n",
              "  <tbody>\n",
              "    <tr>\n",
              "      <th>0</th>\n",
              "      <td>1</td>\n",
              "      <td>8517 White Circle Suite 464West Christine, WY ...</td>\n",
              "      <td>54408</td>\n",
              "      <td>92721</td>\n",
              "      <td>Glorialand</td>\n",
              "      <td>Syrian Arab Republic</td>\n",
              "      <td>23</td>\n",
              "      <td>8</td>\n",
              "      <td>8</td>\n",
              "    </tr>\n",
              "    <tr>\n",
              "      <th>1</th>\n",
              "      <td>2</td>\n",
              "      <td>0394 Thompson Radial Apt. 440Martinburgh, WI 6...</td>\n",
              "      <td>58837</td>\n",
              "      <td>29150</td>\n",
              "      <td>Jacquelineborough</td>\n",
              "      <td>Saint Vincent and the Grenadines</td>\n",
              "      <td>24</td>\n",
              "      <td>9</td>\n",
              "      <td>9</td>\n",
              "    </tr>\n",
              "    <tr>\n",
              "      <th>2</th>\n",
              "      <td>58</td>\n",
              "      <td>8492 Jennifer MillNorth Rayhaven, MI 57576</td>\n",
              "      <td>8480</td>\n",
              "      <td>91557</td>\n",
              "      <td>Port Mary</td>\n",
              "      <td>Saint Vincent and the Grenadines</td>\n",
              "      <td>80</td>\n",
              "      <td>9</td>\n",
              "      <td>9</td>\n",
              "    </tr>\n",
              "    <tr>\n",
              "      <th>3</th>\n",
              "      <td>3</td>\n",
              "      <td>1241 Stevens Extension Suite 769Lopezshire, KS...</td>\n",
              "      <td>23470</td>\n",
              "      <td>49883</td>\n",
              "      <td>Troyberg</td>\n",
              "      <td>Bosnia and Herzegovina</td>\n",
              "      <td>25</td>\n",
              "      <td>10</td>\n",
              "      <td>10</td>\n",
              "    </tr>\n",
              "    <tr>\n",
              "      <th>4</th>\n",
              "      <td>4</td>\n",
              "      <td>3031 Moore FallNorth Amandafort, HI 10818</td>\n",
              "      <td>74384</td>\n",
              "      <td>91003</td>\n",
              "      <td>East Eileenton</td>\n",
              "      <td>Palestinian Territory</td>\n",
              "      <td>26</td>\n",
              "      <td>11</td>\n",
              "      <td>11</td>\n",
              "    </tr>\n",
              "  </tbody>\n",
              "</table>\n",
              "</div>"
            ],
            "text/plain": [
              "   id_x                                              calle  numero  codigo  \\\n",
              "0     1  8517 White Circle Suite 464West Christine, WY ...   54408   92721   \n",
              "1     2  0394 Thompson Radial Apt. 440Martinburgh, WI 6...   58837   29150   \n",
              "2    58         8492 Jennifer MillNorth Rayhaven, MI 57576    8480   91557   \n",
              "3     3  1241 Stevens Extension Suite 769Lopezshire, KS...   23470   49883   \n",
              "4     4          3031 Moore FallNorth Amandafort, HI 10818   74384   91003   \n",
              "\n",
              "        nombreCiudad                        nombrePais  idCiudad  idPais  id_y  \n",
              "0         Glorialand              Syrian Arab Republic        23       8     8  \n",
              "1  Jacquelineborough  Saint Vincent and the Grenadines        24       9     9  \n",
              "2          Port Mary  Saint Vincent and the Grenadines        80       9     9  \n",
              "3           Troyberg            Bosnia and Herzegovina        25      10    10  \n",
              "4     East Eileenton             Palestinian Territory        26      11    11  "
            ]
          },
          "execution_count": 139,
          "metadata": {},
          "output_type": "execute_result"
        }
      ],
      "source": [
        "df_ciudad_renamed = df_ciudad.rename(columns={\"NombreCiudad\": \"nombreCiudad\", \"id\": \"idCiudad\"})\n",
        "df_pais_renamed = df_ciudad.rename(columns={\"id\": \"idPais\"})\n",
        "\n",
        "\n",
        "\n",
        "df_lugar_ciudad_pais = df_lugar.merge(df_ciudad_renamed, how='inner', on=[\"nombreCiudad\"]).merge(df_pais, how='inner', on=[\"nombrePais\"])\n",
        "df_lugar_ciudad_pais.head()"
      ]
    },
    {
      "attachments": {},
      "cell_type": "markdown",
      "metadata": {},
      "source": [
        "Ahora formateamos la pregunta según está definida en nuestro esquema **LugarNuevo**:"
      ]
    },
    {
      "cell_type": "code",
      "execution_count": 140,
      "metadata": {
        "id": "40ASUO1Lt8bh"
      },
      "outputs": [
        {
          "data": {
            "text/html": [
              "<div>\n",
              "<style scoped>\n",
              "    .dataframe tbody tr th:only-of-type {\n",
              "        vertical-align: middle;\n",
              "    }\n",
              "\n",
              "    .dataframe tbody tr th {\n",
              "        vertical-align: top;\n",
              "    }\n",
              "\n",
              "    .dataframe thead th {\n",
              "        text-align: right;\n",
              "    }\n",
              "</style>\n",
              "<table border=\"1\" class=\"dataframe\">\n",
              "  <thead>\n",
              "    <tr style=\"text-align: right;\">\n",
              "      <th></th>\n",
              "      <th>id</th>\n",
              "      <th>calle</th>\n",
              "      <th>numero</th>\n",
              "      <th>codigo</th>\n",
              "      <th>IDCiudad</th>\n",
              "    </tr>\n",
              "  </thead>\n",
              "  <tbody>\n",
              "    <tr>\n",
              "      <th>0</th>\n",
              "      <td>1</td>\n",
              "      <td>8517 White Circle Suite 464West Christine, WY ...</td>\n",
              "      <td>54408</td>\n",
              "      <td>92721</td>\n",
              "      <td>23</td>\n",
              "    </tr>\n",
              "    <tr>\n",
              "      <th>1</th>\n",
              "      <td>2</td>\n",
              "      <td>0394 Thompson Radial Apt. 440Martinburgh, WI 6...</td>\n",
              "      <td>58837</td>\n",
              "      <td>29150</td>\n",
              "      <td>24</td>\n",
              "    </tr>\n",
              "    <tr>\n",
              "      <th>2</th>\n",
              "      <td>58</td>\n",
              "      <td>8492 Jennifer MillNorth Rayhaven, MI 57576</td>\n",
              "      <td>8480</td>\n",
              "      <td>91557</td>\n",
              "      <td>80</td>\n",
              "    </tr>\n",
              "    <tr>\n",
              "      <th>3</th>\n",
              "      <td>3</td>\n",
              "      <td>1241 Stevens Extension Suite 769Lopezshire, KS...</td>\n",
              "      <td>23470</td>\n",
              "      <td>49883</td>\n",
              "      <td>25</td>\n",
              "    </tr>\n",
              "    <tr>\n",
              "      <th>4</th>\n",
              "      <td>4</td>\n",
              "      <td>3031 Moore FallNorth Amandafort, HI 10818</td>\n",
              "      <td>74384</td>\n",
              "      <td>91003</td>\n",
              "      <td>26</td>\n",
              "    </tr>\n",
              "  </tbody>\n",
              "</table>\n",
              "</div>"
            ],
            "text/plain": [
              "   id                                              calle  numero  codigo  \\\n",
              "0   1  8517 White Circle Suite 464West Christine, WY ...   54408   92721   \n",
              "1   2  0394 Thompson Radial Apt. 440Martinburgh, WI 6...   58837   29150   \n",
              "2  58         8492 Jennifer MillNorth Rayhaven, MI 57576    8480   91557   \n",
              "3   3  1241 Stevens Extension Suite 769Lopezshire, KS...   23470   49883   \n",
              "4   4          3031 Moore FallNorth Amandafort, HI 10818   74384   91003   \n",
              "\n",
              "   IDCiudad  \n",
              "0        23  \n",
              "1        24  \n",
              "2        80  \n",
              "3        25  \n",
              "4        26  "
            ]
          },
          "execution_count": 140,
          "metadata": {},
          "output_type": "execute_result"
        }
      ],
      "source": [
        "cols_lugarnuevo = [\"id\", \"calle\", \"numero\", \"codigo\", \"IDCiudad\"]\n",
        "cols_lugar = [\"id_x\", \"calle\", \"numero\", \"codigo\", \"idCiudad\"]\n",
        "\n",
        "cols = dict(zip(cols_lugar, cols_lugarnuevo))\n",
        "\n",
        "df_lugar_ciudad_pais = df_lugar_ciudad_pais.rename(columns=cols)\n",
        "df_lugarnuevo = df_lugar_ciudad_pais[cols_lugarnuevo]\n",
        "\n",
        "df_lugarnuevo.head()"
      ]
    },
    {
      "attachments": {},
      "cell_type": "markdown",
      "metadata": {},
      "source": [
        "Llenamos la tabla **LugarNuevo**:"
      ]
    },
    {
      "cell_type": "code",
      "execution_count": 141,
      "metadata": {
        "id": "q6SAEciZt8k9"
      },
      "outputs": [
        {
          "data": {
            "text/plain": [
              "60"
            ]
          },
          "execution_count": 141,
          "metadata": {},
          "output_type": "execute_result"
        }
      ],
      "source": [
        "df_lugarnuevo.to_sql(\n",
        "    \"LugarNuevo\",\n",
        "    con=conn,\n",
        "    if_exists='append',\n",
        "    index=False\n",
        ")"
      ]
    },
    {
      "cell_type": "markdown",
      "metadata": {
        "id": "aaYqxxbNt_9u"
      },
      "source": [
        "Finalmente, ejecuta la siguiente celda para corroborar que los datos se hayan cargado de forma correcta:"
      ]
    },
    {
      "cell_type": "code",
      "execution_count": 142,
      "metadata": {
        "id": "jaczJHa6t9dF"
      },
      "outputs": [
        {
          "name": "stdout",
          "output_type": "stream",
          "text": [
            " * sqlite:///datos_T3.db\n",
            "Done.\n"
          ]
        },
        {
          "data": {
            "text/html": [
              "<table>\n",
              "    <tr>\n",
              "        <th>id</th>\n",
              "        <th>calle</th>\n",
              "        <th>numero</th>\n",
              "        <th>codigo</th>\n",
              "        <th>IDCiudad</th>\n",
              "    </tr>\n",
              "    <tr>\n",
              "        <td>1</td>\n",
              "        <td>8517 White Circle Suite 464West Christine, WY 25833</td>\n",
              "        <td>54408</td>\n",
              "        <td>92721</td>\n",
              "        <td>23</td>\n",
              "    </tr>\n",
              "    <tr>\n",
              "        <td>2</td>\n",
              "        <td>0394 Thompson Radial Apt. 440Martinburgh, WI 61668</td>\n",
              "        <td>58837</td>\n",
              "        <td>29150</td>\n",
              "        <td>24</td>\n",
              "    </tr>\n",
              "    <tr>\n",
              "        <td>3</td>\n",
              "        <td>1241 Stevens Extension Suite 769Lopezshire, KS 78903</td>\n",
              "        <td>23470</td>\n",
              "        <td>49883</td>\n",
              "        <td>25</td>\n",
              "    </tr>\n",
              "    <tr>\n",
              "        <td>4</td>\n",
              "        <td>3031 Moore FallNorth Amandafort, HI 10818</td>\n",
              "        <td>74384</td>\n",
              "        <td>91003</td>\n",
              "        <td>26</td>\n",
              "    </tr>\n",
              "    <tr>\n",
              "        <td>5</td>\n",
              "        <td>028 Julia StreamBarbaraburgh, FL 62048</td>\n",
              "        <td>126</td>\n",
              "        <td>75538</td>\n",
              "        <td>27</td>\n",
              "    </tr>\n",
              "</table>"
            ],
            "text/plain": [
              "[(1, '8517 White Circle Suite 464West Christine, WY 25833', 54408, '92721', 23),\n",
              " (2, '0394 Thompson Radial Apt. 440Martinburgh, WI 61668', 58837, '29150', 24),\n",
              " (3, '1241 Stevens Extension Suite 769Lopezshire, KS 78903', 23470, '49883', 25),\n",
              " (4, '3031 Moore FallNorth Amandafort, HI 10818', 74384, '91003', 26),\n",
              " (5, '028 Julia StreamBarbaraburgh, FL 62048', 126, '75538', 27)]"
            ]
          },
          "execution_count": 142,
          "metadata": {},
          "output_type": "execute_result"
        }
      ],
      "source": [
        "%%sql\n",
        "SELECT * FROM LugarNuevo limit 5"
      ]
    },
    {
      "attachments": {},
      "cell_type": "markdown",
      "metadata": {
        "id": "VqoJcVwnjJHu"
      },
      "source": [
        "## Pregunta 5\n",
        "\n",
        "Ahora que terminamos la carga de datos en las tablas nuevas, es tiempo de limpiar nuestra base de datos. Para esto te pedimos borrar las tablas: `Lugar`, `TallerInstrumental` y `TallerDeportivo` de la base de datos antigua."
      ]
    },
    {
      "attachments": {},
      "cell_type": "markdown",
      "metadata": {},
      "source": [
        "### Respuesta"
      ]
    },
    {
      "attachments": {},
      "cell_type": "markdown",
      "metadata": {},
      "source": [
        "Borramos **Lugar**"
      ]
    },
    {
      "cell_type": "code",
      "execution_count": 143,
      "metadata": {
        "id": "rLhDXnkYku0n"
      },
      "outputs": [
        {
          "name": "stdout",
          "output_type": "stream",
          "text": [
            " * sqlite:///datos_T3.db\n",
            "Done.\n"
          ]
        },
        {
          "data": {
            "text/plain": [
              "[]"
            ]
          },
          "execution_count": 143,
          "metadata": {},
          "output_type": "execute_result"
        }
      ],
      "source": [
        "%%sql\n",
        "\n",
        "DROP TABLE IF EXISTS Lugar;"
      ]
    },
    {
      "attachments": {},
      "cell_type": "markdown",
      "metadata": {},
      "source": [
        "Borramos **TallerInstrumental**"
      ]
    },
    {
      "cell_type": "code",
      "execution_count": 144,
      "metadata": {
        "id": "fcM0Qrx3uGKY"
      },
      "outputs": [
        {
          "name": "stdout",
          "output_type": "stream",
          "text": [
            " * sqlite:///datos_T3.db\n",
            "Done.\n"
          ]
        },
        {
          "data": {
            "text/plain": [
              "[]"
            ]
          },
          "execution_count": 144,
          "metadata": {},
          "output_type": "execute_result"
        }
      ],
      "source": [
        "%%sql\n",
        "\n",
        "DROP TABLE IF EXISTS TallerInstrumental;"
      ]
    },
    {
      "attachments": {},
      "cell_type": "markdown",
      "metadata": {},
      "source": [
        "Borramos **TallerDeportivo**"
      ]
    },
    {
      "cell_type": "code",
      "execution_count": 145,
      "metadata": {
        "id": "1HKHMv-RuGRS"
      },
      "outputs": [
        {
          "name": "stdout",
          "output_type": "stream",
          "text": [
            " * sqlite:///datos_T3.db\n",
            "Done.\n"
          ]
        },
        {
          "data": {
            "text/plain": [
              "[]"
            ]
          },
          "execution_count": 145,
          "metadata": {},
          "output_type": "execute_result"
        }
      ],
      "source": [
        "%%sql\n",
        "\n",
        "DROP TABLE IF EXISTS TallerDeportivo;"
      ]
    },
    {
      "cell_type": "markdown",
      "metadata": {
        "id": "duN7vzUVuKot"
      },
      "source": [
        "Finalmente, ejecuta las siguientes celdas para corroborar que las tablas se hayan eliminado de forma correcta. Si es que una tabla se borró correctamente, la ejecución de la consulta te debería devolver el siguiente error:\n",
        "```\n",
        "* sqlite:///datos_T3.db\n",
        "(sqlite3.OperationalError) no such table: NombreTabla):\n",
        "```"
      ]
    },
    {
      "cell_type": "code",
      "execution_count": 146,
      "metadata": {
        "id": "hte2XArnuGu9"
      },
      "outputs": [
        {
          "name": "stdout",
          "output_type": "stream",
          "text": [
            " * sqlite:///datos_T3.db\n",
            "(sqlite3.OperationalError) no such table: Lugar\n",
            "[SQL: SELECT * FROM Lugar]\n",
            "(Background on this error at: https://sqlalche.me/e/14/e3q8)\n"
          ]
        }
      ],
      "source": [
        "%%sql\n",
        "SELECT * FROM Lugar"
      ]
    },
    {
      "cell_type": "code",
      "execution_count": 147,
      "metadata": {
        "id": "LOs5GbNJuHWh"
      },
      "outputs": [
        {
          "name": "stdout",
          "output_type": "stream",
          "text": [
            " * sqlite:///datos_T3.db\n",
            "(sqlite3.OperationalError) no such table: TallerDeportivo\n",
            "[SQL: SELECT * FROM TallerDeportivo]\n",
            "(Background on this error at: https://sqlalche.me/e/14/e3q8)\n"
          ]
        }
      ],
      "source": [
        "%%sql\n",
        "SELECT * FROM TallerDeportivo"
      ]
    },
    {
      "cell_type": "code",
      "execution_count": 148,
      "metadata": {
        "id": "Ptj31rkNuHYm"
      },
      "outputs": [
        {
          "name": "stdout",
          "output_type": "stream",
          "text": [
            " * sqlite:///datos_T3.db\n",
            "(sqlite3.OperationalError) no such table: TallerInstrumental\n",
            "[SQL: SELECT * FROM TallerInstrumental]\n",
            "(Background on this error at: https://sqlalche.me/e/14/e3q8)\n"
          ]
        }
      ],
      "source": [
        "%%sql\n",
        "SELECT * FROM TallerInstrumental"
      ]
    },
    {
      "cell_type": "markdown",
      "metadata": {
        "id": "bHLUX6EDJKzl"
      },
      "source": [
        "## Pregunta 6\n",
        "\n",
        "Con nuestra base de datos lista, podemos hacer un poco de análisis de los datos. En esta pregunta, te pedimos escribir una consulta SQL que ordene los talleres deportivos según la participación. Quiere decir, debes devolver **id del taller, nombre del taller, nombre del deporte y la cantidad de gente distinta que participa en este taller**, ordenado de forma descendente."
      ]
    },
    {
      "attachments": {},
      "cell_type": "markdown",
      "metadata": {},
      "source": [
        "### Respuesta"
      ]
    },
    {
      "attachments": {},
      "cell_type": "markdown",
      "metadata": {},
      "source": [
        "Para esta consulta, debemos agrupar **Deportivo** segun **Participa**, con un INNER JOIN, descartando aquellos talleres en que no haya participación. Luego debemos hacer un INNER JOIN entre la tabla resultante y **Taller** para obtener el nombre del taller."
      ]
    },
    {
      "cell_type": "code",
      "execution_count": 149,
      "metadata": {
        "colab": {
          "base_uri": "https://localhost:8080/"
        },
        "collapsed": true,
        "id": "8VFsYhe4JK_S",
        "outputId": "3fbf7b10-c7fe-476e-c77c-597e04102f9b"
      },
      "outputs": [
        {
          "name": "stdout",
          "output_type": "stream",
          "text": [
            " * sqlite:///datos_T3.db\n",
            "Done.\n"
          ]
        },
        {
          "data": {
            "text/html": [
              "<table>\n",
              "    <tr>\n",
              "        <th>idTaller</th>\n",
              "        <th>nombreTaller</th>\n",
              "        <th>deporte</th>\n",
              "        <th>participacion</th>\n",
              "    </tr>\n",
              "    <tr>\n",
              "        <td>76</td>\n",
              "        <td>Taller deportivo 76</td>\n",
              "        <td>Fútbol</td>\n",
              "        <td>9</td>\n",
              "    </tr>\n",
              "    <tr>\n",
              "        <td>89</td>\n",
              "        <td>Taller deportivo 89</td>\n",
              "        <td>Fútbol</td>\n",
              "        <td>5</td>\n",
              "    </tr>\n",
              "    <tr>\n",
              "        <td>66</td>\n",
              "        <td>Taller deportivo 66</td>\n",
              "        <td>Fútbol</td>\n",
              "        <td>4</td>\n",
              "    </tr>\n",
              "    <tr>\n",
              "        <td>92</td>\n",
              "        <td>Taller deportivo 92</td>\n",
              "        <td>Fútbol</td>\n",
              "        <td>3</td>\n",
              "    </tr>\n",
              "    <tr>\n",
              "        <td>85</td>\n",
              "        <td>Taller deportivo 85</td>\n",
              "        <td>Voleibol</td>\n",
              "        <td>3</td>\n",
              "    </tr>\n",
              "    <tr>\n",
              "        <td>59</td>\n",
              "        <td>Taller deportivo 59</td>\n",
              "        <td>Voleibol</td>\n",
              "        <td>3</td>\n",
              "    </tr>\n",
              "    <tr>\n",
              "        <td>37</td>\n",
              "        <td>Taller deportivo 37</td>\n",
              "        <td>Handbol</td>\n",
              "        <td>3</td>\n",
              "    </tr>\n",
              "    <tr>\n",
              "        <td>35</td>\n",
              "        <td>Taller deportivo 35</td>\n",
              "        <td>Basquetbol</td>\n",
              "        <td>3</td>\n",
              "    </tr>\n",
              "    <tr>\n",
              "        <td>33</td>\n",
              "        <td>Taller deportivo 33</td>\n",
              "        <td>Basquetbol</td>\n",
              "        <td>3</td>\n",
              "    </tr>\n",
              "    <tr>\n",
              "        <td>32</td>\n",
              "        <td>Taller deportivo 32</td>\n",
              "        <td>Fútbol</td>\n",
              "        <td>3</td>\n",
              "    </tr>\n",
              "    <tr>\n",
              "        <td>28</td>\n",
              "        <td>Taller deportivo 28</td>\n",
              "        <td>Voleibol</td>\n",
              "        <td>3</td>\n",
              "    </tr>\n",
              "    <tr>\n",
              "        <td>15</td>\n",
              "        <td>Taller deportivo 15</td>\n",
              "        <td>Basquetbol</td>\n",
              "        <td>3</td>\n",
              "    </tr>\n",
              "    <tr>\n",
              "        <td>98</td>\n",
              "        <td>Taller deportivo 98</td>\n",
              "        <td>Zumba</td>\n",
              "        <td>2</td>\n",
              "    </tr>\n",
              "    <tr>\n",
              "        <td>94</td>\n",
              "        <td>Taller deportivo 94</td>\n",
              "        <td>Basquetbol</td>\n",
              "        <td>2</td>\n",
              "    </tr>\n",
              "    <tr>\n",
              "        <td>83</td>\n",
              "        <td>Taller deportivo 83</td>\n",
              "        <td>Zumba</td>\n",
              "        <td>2</td>\n",
              "    </tr>\n",
              "    <tr>\n",
              "        <td>79</td>\n",
              "        <td>Taller deportivo 79</td>\n",
              "        <td>Zumba</td>\n",
              "        <td>2</td>\n",
              "    </tr>\n",
              "    <tr>\n",
              "        <td>71</td>\n",
              "        <td>Taller deportivo 71</td>\n",
              "        <td>Handbol</td>\n",
              "        <td>2</td>\n",
              "    </tr>\n",
              "    <tr>\n",
              "        <td>61</td>\n",
              "        <td>Taller deportivo 61</td>\n",
              "        <td>Basquetbol</td>\n",
              "        <td>2</td>\n",
              "    </tr>\n",
              "    <tr>\n",
              "        <td>56</td>\n",
              "        <td>Taller deportivo 56</td>\n",
              "        <td>Basquetbol</td>\n",
              "        <td>2</td>\n",
              "    </tr>\n",
              "    <tr>\n",
              "        <td>54</td>\n",
              "        <td>Taller deportivo 54</td>\n",
              "        <td>Basquetbol</td>\n",
              "        <td>2</td>\n",
              "    </tr>\n",
              "    <tr>\n",
              "        <td>45</td>\n",
              "        <td>Taller deportivo 45</td>\n",
              "        <td>Basquetbol</td>\n",
              "        <td>2</td>\n",
              "    </tr>\n",
              "    <tr>\n",
              "        <td>41</td>\n",
              "        <td>Taller deportivo 41</td>\n",
              "        <td>Fútbol</td>\n",
              "        <td>2</td>\n",
              "    </tr>\n",
              "    <tr>\n",
              "        <td>39</td>\n",
              "        <td>Taller deportivo 39</td>\n",
              "        <td>Zumba</td>\n",
              "        <td>2</td>\n",
              "    </tr>\n",
              "    <tr>\n",
              "        <td>36</td>\n",
              "        <td>Taller deportivo 36</td>\n",
              "        <td>Handbol</td>\n",
              "        <td>2</td>\n",
              "    </tr>\n",
              "    <tr>\n",
              "        <td>26</td>\n",
              "        <td>Taller deportivo 26</td>\n",
              "        <td>Basquetbol</td>\n",
              "        <td>2</td>\n",
              "    </tr>\n",
              "    <tr>\n",
              "        <td>13</td>\n",
              "        <td>Taller deportivo 13</td>\n",
              "        <td>Zumba</td>\n",
              "        <td>2</td>\n",
              "    </tr>\n",
              "    <tr>\n",
              "        <td>11</td>\n",
              "        <td>Taller deportivo 11</td>\n",
              "        <td>Basquetbol</td>\n",
              "        <td>2</td>\n",
              "    </tr>\n",
              "    <tr>\n",
              "        <td>6</td>\n",
              "        <td>Taller deportivo 6</td>\n",
              "        <td>Fútbol</td>\n",
              "        <td>2</td>\n",
              "    </tr>\n",
              "    <tr>\n",
              "        <td>5</td>\n",
              "        <td>Taller deportivo 5</td>\n",
              "        <td>Voleibol</td>\n",
              "        <td>2</td>\n",
              "    </tr>\n",
              "    <tr>\n",
              "        <td>4</td>\n",
              "        <td>Taller deportivo 4</td>\n",
              "        <td>Handbol</td>\n",
              "        <td>2</td>\n",
              "    </tr>\n",
              "    <tr>\n",
              "        <td>2</td>\n",
              "        <td>Taller deportivo 2</td>\n",
              "        <td>Handbol</td>\n",
              "        <td>2</td>\n",
              "    </tr>\n",
              "    <tr>\n",
              "        <td>95</td>\n",
              "        <td>Taller deportivo 95</td>\n",
              "        <td>Basquetbol</td>\n",
              "        <td>1</td>\n",
              "    </tr>\n",
              "    <tr>\n",
              "        <td>87</td>\n",
              "        <td>Taller deportivo 87</td>\n",
              "        <td>Voleibol</td>\n",
              "        <td>1</td>\n",
              "    </tr>\n",
              "    <tr>\n",
              "        <td>81</td>\n",
              "        <td>Taller deportivo 81</td>\n",
              "        <td>Handbol</td>\n",
              "        <td>1</td>\n",
              "    </tr>\n",
              "    <tr>\n",
              "        <td>75</td>\n",
              "        <td>Taller deportivo 75</td>\n",
              "        <td>Basquetbol</td>\n",
              "        <td>1</td>\n",
              "    </tr>\n",
              "    <tr>\n",
              "        <td>74</td>\n",
              "        <td>Taller deportivo 74</td>\n",
              "        <td>Fútbol</td>\n",
              "        <td>1</td>\n",
              "    </tr>\n",
              "    <tr>\n",
              "        <td>72</td>\n",
              "        <td>Taller deportivo 72</td>\n",
              "        <td>Voleibol</td>\n",
              "        <td>1</td>\n",
              "    </tr>\n",
              "    <tr>\n",
              "        <td>70</td>\n",
              "        <td>Taller deportivo 70</td>\n",
              "        <td>Zumba</td>\n",
              "        <td>1</td>\n",
              "    </tr>\n",
              "    <tr>\n",
              "        <td>68</td>\n",
              "        <td>Taller deportivo 68</td>\n",
              "        <td>Zumba</td>\n",
              "        <td>1</td>\n",
              "    </tr>\n",
              "    <tr>\n",
              "        <td>67</td>\n",
              "        <td>Taller deportivo 67</td>\n",
              "        <td>Fútbol</td>\n",
              "        <td>1</td>\n",
              "    </tr>\n",
              "    <tr>\n",
              "        <td>64</td>\n",
              "        <td>Taller deportivo 64</td>\n",
              "        <td>Handbol</td>\n",
              "        <td>1</td>\n",
              "    </tr>\n",
              "    <tr>\n",
              "        <td>58</td>\n",
              "        <td>Taller deportivo 58</td>\n",
              "        <td>Zumba</td>\n",
              "        <td>1</td>\n",
              "    </tr>\n",
              "    <tr>\n",
              "        <td>52</td>\n",
              "        <td>Taller deportivo 52</td>\n",
              "        <td>Fútbol</td>\n",
              "        <td>1</td>\n",
              "    </tr>\n",
              "    <tr>\n",
              "        <td>51</td>\n",
              "        <td>Taller deportivo 51</td>\n",
              "        <td>Fútbol</td>\n",
              "        <td>1</td>\n",
              "    </tr>\n",
              "    <tr>\n",
              "        <td>49</td>\n",
              "        <td>Taller deportivo 49</td>\n",
              "        <td>Voleibol</td>\n",
              "        <td>1</td>\n",
              "    </tr>\n",
              "    <tr>\n",
              "        <td>47</td>\n",
              "        <td>Taller deportivo 47</td>\n",
              "        <td>Fútbol</td>\n",
              "        <td>1</td>\n",
              "    </tr>\n",
              "    <tr>\n",
              "        <td>40</td>\n",
              "        <td>Taller deportivo 40</td>\n",
              "        <td>Handbol</td>\n",
              "        <td>1</td>\n",
              "    </tr>\n",
              "    <tr>\n",
              "        <td>38</td>\n",
              "        <td>Taller deportivo 38</td>\n",
              "        <td>Basquetbol</td>\n",
              "        <td>1</td>\n",
              "    </tr>\n",
              "    <tr>\n",
              "        <td>29</td>\n",
              "        <td>Taller deportivo 29</td>\n",
              "        <td>Zumba</td>\n",
              "        <td>1</td>\n",
              "    </tr>\n",
              "    <tr>\n",
              "        <td>27</td>\n",
              "        <td>Taller deportivo 27</td>\n",
              "        <td>Zumba</td>\n",
              "        <td>1</td>\n",
              "    </tr>\n",
              "    <tr>\n",
              "        <td>24</td>\n",
              "        <td>Taller deportivo 24</td>\n",
              "        <td>Handbol</td>\n",
              "        <td>1</td>\n",
              "    </tr>\n",
              "    <tr>\n",
              "        <td>22</td>\n",
              "        <td>Taller deportivo 22</td>\n",
              "        <td>Voleibol</td>\n",
              "        <td>1</td>\n",
              "    </tr>\n",
              "    <tr>\n",
              "        <td>20</td>\n",
              "        <td>Taller deportivo 20</td>\n",
              "        <td>Handbol</td>\n",
              "        <td>1</td>\n",
              "    </tr>\n",
              "    <tr>\n",
              "        <td>19</td>\n",
              "        <td>Taller deportivo 19</td>\n",
              "        <td>Handbol</td>\n",
              "        <td>1</td>\n",
              "    </tr>\n",
              "    <tr>\n",
              "        <td>18</td>\n",
              "        <td>Taller deportivo 18</td>\n",
              "        <td>Basquetbol</td>\n",
              "        <td>1</td>\n",
              "    </tr>\n",
              "    <tr>\n",
              "        <td>17</td>\n",
              "        <td>Taller deportivo 17</td>\n",
              "        <td>Handbol</td>\n",
              "        <td>1</td>\n",
              "    </tr>\n",
              "    <tr>\n",
              "        <td>16</td>\n",
              "        <td>Taller deportivo 16</td>\n",
              "        <td>Voleibol</td>\n",
              "        <td>1</td>\n",
              "    </tr>\n",
              "    <tr>\n",
              "        <td>14</td>\n",
              "        <td>Taller deportivo 14</td>\n",
              "        <td>Voleibol</td>\n",
              "        <td>1</td>\n",
              "    </tr>\n",
              "    <tr>\n",
              "        <td>12</td>\n",
              "        <td>Taller deportivo 12</td>\n",
              "        <td>Zumba</td>\n",
              "        <td>1</td>\n",
              "    </tr>\n",
              "    <tr>\n",
              "        <td>9</td>\n",
              "        <td>Taller deportivo 9</td>\n",
              "        <td>Handbol</td>\n",
              "        <td>1</td>\n",
              "    </tr>\n",
              "    <tr>\n",
              "        <td>3</td>\n",
              "        <td>Taller deportivo 3</td>\n",
              "        <td>Voleibol</td>\n",
              "        <td>1</td>\n",
              "    </tr>\n",
              "</table>"
            ],
            "text/plain": [
              "[(76, 'Taller deportivo 76', 'Fútbol', 9),\n",
              " (89, 'Taller deportivo 89', 'Fútbol', 5),\n",
              " (66, 'Taller deportivo 66', 'Fútbol', 4),\n",
              " (92, 'Taller deportivo 92', 'Fútbol', 3),\n",
              " (85, 'Taller deportivo 85', 'Voleibol', 3),\n",
              " (59, 'Taller deportivo 59', 'Voleibol', 3),\n",
              " (37, 'Taller deportivo 37', 'Handbol', 3),\n",
              " (35, 'Taller deportivo 35', 'Basquetbol', 3),\n",
              " (33, 'Taller deportivo 33', 'Basquetbol', 3),\n",
              " (32, 'Taller deportivo 32', 'Fútbol', 3),\n",
              " (28, 'Taller deportivo 28', 'Voleibol', 3),\n",
              " (15, 'Taller deportivo 15', 'Basquetbol', 3),\n",
              " (98, 'Taller deportivo 98', 'Zumba', 2),\n",
              " (94, 'Taller deportivo 94', 'Basquetbol', 2),\n",
              " (83, 'Taller deportivo 83', 'Zumba', 2),\n",
              " (79, 'Taller deportivo 79', 'Zumba', 2),\n",
              " (71, 'Taller deportivo 71', 'Handbol', 2),\n",
              " (61, 'Taller deportivo 61', 'Basquetbol', 2),\n",
              " (56, 'Taller deportivo 56', 'Basquetbol', 2),\n",
              " (54, 'Taller deportivo 54', 'Basquetbol', 2),\n",
              " (45, 'Taller deportivo 45', 'Basquetbol', 2),\n",
              " (41, 'Taller deportivo 41', 'Fútbol', 2),\n",
              " (39, 'Taller deportivo 39', 'Zumba', 2),\n",
              " (36, 'Taller deportivo 36', 'Handbol', 2),\n",
              " (26, 'Taller deportivo 26', 'Basquetbol', 2),\n",
              " (13, 'Taller deportivo 13', 'Zumba', 2),\n",
              " (11, 'Taller deportivo 11', 'Basquetbol', 2),\n",
              " (6, 'Taller deportivo 6', 'Fútbol', 2),\n",
              " (5, 'Taller deportivo 5', 'Voleibol', 2),\n",
              " (4, 'Taller deportivo 4', 'Handbol', 2),\n",
              " (2, 'Taller deportivo 2', 'Handbol', 2),\n",
              " (95, 'Taller deportivo 95', 'Basquetbol', 1),\n",
              " (87, 'Taller deportivo 87', 'Voleibol', 1),\n",
              " (81, 'Taller deportivo 81', 'Handbol', 1),\n",
              " (75, 'Taller deportivo 75', 'Basquetbol', 1),\n",
              " (74, 'Taller deportivo 74', 'Fútbol', 1),\n",
              " (72, 'Taller deportivo 72', 'Voleibol', 1),\n",
              " (70, 'Taller deportivo 70', 'Zumba', 1),\n",
              " (68, 'Taller deportivo 68', 'Zumba', 1),\n",
              " (67, 'Taller deportivo 67', 'Fútbol', 1),\n",
              " (64, 'Taller deportivo 64', 'Handbol', 1),\n",
              " (58, 'Taller deportivo 58', 'Zumba', 1),\n",
              " (52, 'Taller deportivo 52', 'Fútbol', 1),\n",
              " (51, 'Taller deportivo 51', 'Fútbol', 1),\n",
              " (49, 'Taller deportivo 49', 'Voleibol', 1),\n",
              " (47, 'Taller deportivo 47', 'Fútbol', 1),\n",
              " (40, 'Taller deportivo 40', 'Handbol', 1),\n",
              " (38, 'Taller deportivo 38', 'Basquetbol', 1),\n",
              " (29, 'Taller deportivo 29', 'Zumba', 1),\n",
              " (27, 'Taller deportivo 27', 'Zumba', 1),\n",
              " (24, 'Taller deportivo 24', 'Handbol', 1),\n",
              " (22, 'Taller deportivo 22', 'Voleibol', 1),\n",
              " (20, 'Taller deportivo 20', 'Handbol', 1),\n",
              " (19, 'Taller deportivo 19', 'Handbol', 1),\n",
              " (18, 'Taller deportivo 18', 'Basquetbol', 1),\n",
              " (17, 'Taller deportivo 17', 'Handbol', 1),\n",
              " (16, 'Taller deportivo 16', 'Voleibol', 1),\n",
              " (14, 'Taller deportivo 14', 'Voleibol', 1),\n",
              " (12, 'Taller deportivo 12', 'Zumba', 1),\n",
              " (9, 'Taller deportivo 9', 'Handbol', 1),\n",
              " (3, 'Taller deportivo 3', 'Voleibol', 1)]"
            ]
          },
          "execution_count": 149,
          "metadata": {},
          "output_type": "execute_result"
        }
      ],
      "source": [
        "%%sql\n",
        "\n",
        "SELECT Deportivo.id AS idTaller, Taller.nombreTaller, Deportivo.deporte, COUNT(DISTINCT Participa.rut) AS participacion\n",
        "FROM Deportivo\n",
        "INNER JOIN Participa\n",
        "ON Deportivo.id = Participa.idTaller\n",
        "INNER JOIN Taller\n",
        "ON Deportivo.id = Taller.id\n",
        "GROUP BY idTaller\n",
        "ORDER BY participacion DESC"
      ]
    },
    {
      "cell_type": "markdown",
      "metadata": {
        "id": "RtdDR4ICJLIM"
      },
      "source": [
        "## Pregunta 7 \n",
        "\n",
        "En esta pregunta debes escribir una consulta SQL que entregue el **nombre y país de la ciudad** donde se organiza la máxima cantidad de talleres instrumentales. Quiere decir, hay que calcular cuántos talleres instrumentales hay en cada ciudad, y devolver la(s) ciudad(es) dónde se alcanza el número máximo.\n"
      ]
    },
    {
      "attachments": {},
      "cell_type": "markdown",
      "metadata": {},
      "source": [
        "### Respuesta"
      ]
    },
    {
      "attachments": {},
      "cell_type": "markdown",
      "metadata": {},
      "source": [
        "Para esta consulta debemos agrupar **Ciudad** por la cantidad de talleres instrumentales que hayan en esta. Para esto debemos hacer un INNER JOIN entre **Pais**, **Ciudad**, **LugarNuevo**, **EstaEn** e **Instrumental**. Luego, obtener el maximo de la query."
      ]
    },
    {
      "attachments": {},
      "cell_type": "markdown",
      "metadata": {},
      "source": [
        "Primero, creamos una tabla que muestra la información de talleres instrumentales y sus lugares."
      ]
    },
    {
      "cell_type": "code",
      "execution_count": 150,
      "metadata": {
        "id": "VQULBgRhJLQo"
      },
      "outputs": [
        {
          "name": "stdout",
          "output_type": "stream",
          "text": [
            " * sqlite:///datos_T3.db\n",
            "Done.\n"
          ]
        },
        {
          "data": {
            "text/html": [
              "<table>\n",
              "    <tr>\n",
              "        <th>id</th>\n",
              "        <th>calle</th>\n",
              "        <th>numero</th>\n",
              "        <th>codigo</th>\n",
              "        <th>IDCiudad</th>\n",
              "        <th>idTaller</th>\n",
              "        <th>idLugar</th>\n",
              "        <th>id_1</th>\n",
              "        <th>instrumento</th>\n",
              "        <th>nrInstrumentos</th>\n",
              "    </tr>\n",
              "    <tr>\n",
              "        <td>49</td>\n",
              "        <td>72174 Meredith Camp Suite 094West Kimberlybury, TX 34755</td>\n",
              "        <td>9579</td>\n",
              "        <td>59956</td>\n",
              "        <td>71</td>\n",
              "        <td>101</td>\n",
              "        <td>49</td>\n",
              "        <td>101</td>\n",
              "        <td>Trompeta</td>\n",
              "        <td>12</td>\n",
              "    </tr>\n",
              "    <tr>\n",
              "        <td>27</td>\n",
              "        <td>7690 Claire Forges Suite 591Davidton, AK 87859</td>\n",
              "        <td>788</td>\n",
              "        <td>49601</td>\n",
              "        <td>49</td>\n",
              "        <td>102</td>\n",
              "        <td>27</td>\n",
              "        <td>102</td>\n",
              "        <td>Bajo</td>\n",
              "        <td>2</td>\n",
              "    </tr>\n",
              "    <tr>\n",
              "        <td>43</td>\n",
              "        <td>53985 Walker SpurJohnhaven, UT 73443</td>\n",
              "        <td>11940</td>\n",
              "        <td>90638</td>\n",
              "        <td>65</td>\n",
              "        <td>103</td>\n",
              "        <td>43</td>\n",
              "        <td>103</td>\n",
              "        <td>Guitarra</td>\n",
              "        <td>4</td>\n",
              "    </tr>\n",
              "    <tr>\n",
              "        <td>33</td>\n",
              "        <td>300 Samantha Trace Apt. 393Port Nicholas, MN 21996</td>\n",
              "        <td>56973</td>\n",
              "        <td>43907</td>\n",
              "        <td>55</td>\n",
              "        <td>104</td>\n",
              "        <td>33</td>\n",
              "        <td>104</td>\n",
              "        <td>Guitarra</td>\n",
              "        <td>4</td>\n",
              "    </tr>\n",
              "    <tr>\n",
              "        <td>34</td>\n",
              "        <td>5528 Gonzales Pike Apt. 637Wallacefort, MN 61797</td>\n",
              "        <td>730</td>\n",
              "        <td>30859</td>\n",
              "        <td>56</td>\n",
              "        <td>105</td>\n",
              "        <td>34</td>\n",
              "        <td>105</td>\n",
              "        <td>Bajo</td>\n",
              "        <td>21</td>\n",
              "    </tr>\n",
              "</table>"
            ],
            "text/plain": [
              "[(49, '72174 Meredith Camp Suite 094West Kimberlybury, TX 34755', 9579, '59956', 71, 101, 49, 101, 'Trompeta', 12),\n",
              " (27, '7690 Claire Forges Suite 591Davidton, AK 87859', 788, '49601', 49, 102, 27, 102, 'Bajo', 2),\n",
              " (43, '53985 Walker SpurJohnhaven, UT 73443', 11940, '90638', 65, 103, 43, 103, 'Guitarra', 4),\n",
              " (33, '300 Samantha Trace Apt. 393Port Nicholas, MN 21996', 56973, '43907', 55, 104, 33, 104, 'Guitarra', 4),\n",
              " (34, '5528 Gonzales Pike Apt. 637Wallacefort, MN 61797', 730, '30859', 56, 105, 34, 105, 'Bajo', 21)]"
            ]
          },
          "execution_count": 150,
          "metadata": {},
          "output_type": "execute_result"
        }
      ],
      "source": [
        "%%sql\n",
        "\n",
        "SELECT *\n",
        "FROM LugarNuevo\n",
        "INNER JOIN EstaEn\n",
        "ON LugarNuevo.id = EstaEn.idLugar\n",
        "INNER JOIN Instrumental\n",
        "ON EstaEn.idTaller = Instrumental.id\n",
        "LIMIT 5\n"
      ]
    },
    {
      "attachments": {},
      "cell_type": "markdown",
      "metadata": {},
      "source": [
        "Agrupamos por *LugarNuevo.id*, considerando la cantidad de talleres instrumentales que se realizan en este."
      ]
    },
    {
      "cell_type": "code",
      "execution_count": 151,
      "metadata": {},
      "outputs": [
        {
          "name": "stdout",
          "output_type": "stream",
          "text": [
            " * sqlite:///datos_T3.db\n",
            "Done.\n"
          ]
        },
        {
          "data": {
            "text/html": [
              "<table>\n",
              "    <tr>\n",
              "        <th>idLugarNuevo</th>\n",
              "        <th>totalInstrumentales</th>\n",
              "    </tr>\n",
              "    <tr>\n",
              "        <td>55</td>\n",
              "        <td>4</td>\n",
              "    </tr>\n",
              "    <tr>\n",
              "        <td>44</td>\n",
              "        <td>4</td>\n",
              "    </tr>\n",
              "    <tr>\n",
              "        <td>32</td>\n",
              "        <td>4</td>\n",
              "    </tr>\n",
              "    <tr>\n",
              "        <td>27</td>\n",
              "        <td>4</td>\n",
              "    </tr>\n",
              "    <tr>\n",
              "        <td>18</td>\n",
              "        <td>4</td>\n",
              "    </tr>\n",
              "    <tr>\n",
              "        <td>16</td>\n",
              "        <td>4</td>\n",
              "    </tr>\n",
              "    <tr>\n",
              "        <td>1</td>\n",
              "        <td>4</td>\n",
              "    </tr>\n",
              "    <tr>\n",
              "        <td>53</td>\n",
              "        <td>3</td>\n",
              "    </tr>\n",
              "    <tr>\n",
              "        <td>48</td>\n",
              "        <td>3</td>\n",
              "    </tr>\n",
              "    <tr>\n",
              "        <td>43</td>\n",
              "        <td>3</td>\n",
              "    </tr>\n",
              "</table>"
            ],
            "text/plain": [
              "[(55, 4),\n",
              " (44, 4),\n",
              " (32, 4),\n",
              " (27, 4),\n",
              " (18, 4),\n",
              " (16, 4),\n",
              " (1, 4),\n",
              " (53, 3),\n",
              " (48, 3),\n",
              " (43, 3)]"
            ]
          },
          "execution_count": 151,
          "metadata": {},
          "output_type": "execute_result"
        }
      ],
      "source": [
        "%%sql\n",
        "\n",
        "SELECT LugarNuevo.id AS idLugarNuevo, COUNT(Instrumental.id) as totalInstrumentales\n",
        "FROM LugarNuevo\n",
        "INNER JOIN EstaEn\n",
        "ON LugarNuevo.id = EstaEn.idLugar\n",
        "INNER JOIN Instrumental\n",
        "ON EstaEn.idTaller = Instrumental.id\n",
        "GROUP BY LugarNuevo.id\n",
        "ORDER BY totalInstrumentales DESC\n",
        "LIMIT 10"
      ]
    },
    {
      "attachments": {},
      "cell_type": "markdown",
      "metadata": {},
      "source": [
        "Como dato, vemos que la mayor cantidad de talleres instrumentales por lugar es 4. Buscamos los ID que tienen la máxima cantidad de talleres instrumentales."
      ]
    },
    {
      "cell_type": "code",
      "execution_count": 152,
      "metadata": {},
      "outputs": [
        {
          "name": "stdout",
          "output_type": "stream",
          "text": [
            " * sqlite:///datos_T3.db\n",
            "Done.\n"
          ]
        },
        {
          "data": {
            "text/html": [
              "<table>\n",
              "    <tr>\n",
              "        <th>idLugarNuevo</th>\n",
              "        <th>idCiudad</th>\n",
              "    </tr>\n",
              "    <tr>\n",
              "        <td>1</td>\n",
              "        <td>23</td>\n",
              "    </tr>\n",
              "    <tr>\n",
              "        <td>16</td>\n",
              "        <td>38</td>\n",
              "    </tr>\n",
              "    <tr>\n",
              "        <td>18</td>\n",
              "        <td>40</td>\n",
              "    </tr>\n",
              "    <tr>\n",
              "        <td>27</td>\n",
              "        <td>49</td>\n",
              "    </tr>\n",
              "    <tr>\n",
              "        <td>32</td>\n",
              "        <td>54</td>\n",
              "    </tr>\n",
              "    <tr>\n",
              "        <td>44</td>\n",
              "        <td>66</td>\n",
              "    </tr>\n",
              "    <tr>\n",
              "        <td>55</td>\n",
              "        <td>77</td>\n",
              "    </tr>\n",
              "</table>"
            ],
            "text/plain": [
              "[(1, 23), (16, 38), (18, 40), (27, 49), (32, 54), (44, 66), (55, 77)]"
            ]
          },
          "execution_count": 152,
          "metadata": {},
          "output_type": "execute_result"
        }
      ],
      "source": [
        "%%sql\n",
        "\n",
        "SELECT idLugarNuevo, idCiudad\n",
        "FROM (\n",
        "    SELECT LugarNuevo.id AS idLugarNuevo, LugarNuevo.IDCiudad AS idCiudad, COUNT(Instrumental.id) as totalInstrumentales\n",
        "    FROM LugarNuevo\n",
        "    INNER JOIN EstaEn\n",
        "    ON LugarNuevo.id = EstaEn.idLugar\n",
        "    INNER JOIN Instrumental\n",
        "    ON EstaEn.idTaller = Instrumental.id\n",
        "    GROUP BY LugarNuevo.id\n",
        ")\n",
        "WHERE totalInstrumentales = (\n",
        "    SELECT MAX(totalInstrumentales)\n",
        "    FROM (\n",
        "        SELECT LugarNuevo.id AS idLugarNuevo, COUNT(Instrumental.id) as totalInstrumentales\n",
        "        FROM LugarNuevo\n",
        "        INNER JOIN EstaEn\n",
        "        ON LugarNuevo.id = EstaEn.idLugar\n",
        "        INNER JOIN Instrumental\n",
        "        ON EstaEn.idTaller = Instrumental.id\n",
        "        GROUP BY LugarNuevo.id\n",
        "    )\n",
        ")"
      ]
    },
    {
      "attachments": {},
      "cell_type": "markdown",
      "metadata": {},
      "source": [
        "Finalmente, hacemos un INNER JOIN de esta tabla con las tablas **Ciudad** y **Pais**, para obtener así el nombre del país y de la ciudad donde se organizan más talleres instrumentales."
      ]
    },
    {
      "cell_type": "code",
      "execution_count": 153,
      "metadata": {},
      "outputs": [
        {
          "name": "stdout",
          "output_type": "stream",
          "text": [
            " * sqlite:///datos_T3.db\n",
            "Done.\n"
          ]
        },
        {
          "data": {
            "text/html": [
              "<table>\n",
              "    <tr>\n",
              "        <th>NombreCiudad</th>\n",
              "        <th>Pais</th>\n",
              "    </tr>\n",
              "    <tr>\n",
              "        <td>Olsonstad</td>\n",
              "        <td>Svalbard &amp; Jan Mayen Islands</td>\n",
              "    </tr>\n",
              "    <tr>\n",
              "        <td>North Andrewview</td>\n",
              "        <td>Sweden</td>\n",
              "    </tr>\n",
              "    <tr>\n",
              "        <td>West Joseph</td>\n",
              "        <td>Qatar</td>\n",
              "    </tr>\n",
              "    <tr>\n",
              "        <td>New Marissamouth</td>\n",
              "        <td>Turkey</td>\n",
              "    </tr>\n",
              "    <tr>\n",
              "        <td>Clinemouth</td>\n",
              "        <td>Martinique</td>\n",
              "    </tr>\n",
              "    <tr>\n",
              "        <td>South Markborough</td>\n",
              "        <td>Uruguay</td>\n",
              "    </tr>\n",
              "    <tr>\n",
              "        <td>Glorialand</td>\n",
              "        <td>Syrian Arab Republic</td>\n",
              "    </tr>\n",
              "</table>"
            ],
            "text/plain": [
              "[('Olsonstad', 'Svalbard & Jan Mayen Islands'),\n",
              " ('North Andrewview', 'Sweden'),\n",
              " ('West Joseph', 'Qatar'),\n",
              " ('New Marissamouth', 'Turkey'),\n",
              " ('Clinemouth', 'Martinique'),\n",
              " ('South Markborough', 'Uruguay'),\n",
              " ('Glorialand', 'Syrian Arab Republic')]"
            ]
          },
          "execution_count": 153,
          "metadata": {},
          "output_type": "execute_result"
        }
      ],
      "source": [
        "%%sql\n",
        "\n",
        "\n",
        "SELECT Ciudad.NombreCiudad, Pais.nombrePais as Pais\n",
        "FROM Pais\n",
        "INNER JOIN Ciudad\n",
        "ON Pais.id = Ciudad.idPais\n",
        "INNER JOIN (\n",
        "    SELECT idLugarNuevo, idCiudad\n",
        "    FROM (\n",
        "        SELECT LugarNuevo.id AS idLugarNuevo, LugarNuevo.IDCiudad AS idCiudad, COUNT(Instrumental.id) as totalInstrumentales\n",
        "        FROM LugarNuevo\n",
        "        INNER JOIN EstaEn\n",
        "        ON LugarNuevo.id = EstaEn.idLugar\n",
        "        INNER JOIN Instrumental\n",
        "        ON EstaEn.idTaller = Instrumental.id\n",
        "        GROUP BY LugarNuevo.id\n",
        "        ORDER BY totalInstrumentales DESC\n",
        "    )\n",
        "    WHERE totalInstrumentales = (\n",
        "        SELECT MAX(totalInstrumentales)\n",
        "        FROM (\n",
        "            SELECT LugarNuevo.id AS idLugarNuevo, COUNT(Instrumental.id) as totalInstrumentales\n",
        "            FROM LugarNuevo\n",
        "            INNER JOIN EstaEn\n",
        "            ON LugarNuevo.id = EstaEn.idLugar\n",
        "            INNER JOIN Instrumental\n",
        "            ON EstaEn.idTaller = Instrumental.id\n",
        "            GROUP BY LugarNuevo.id\n",
        "            ORDER BY totalInstrumentales DESC\n",
        "        )\n",
        "    )\n",
        ") AS IDsLugaresConMasInstrumentales\n",
        "ON Ciudad.id = IDsLugaresConMasInstrumentales.idCiudad\n"
      ]
    },
    {
      "cell_type": "markdown",
      "metadata": {
        "id": "qXujz0_-KIRc"
      },
      "source": [
        "## Pregunta 8 \n",
        "\n",
        "En esta pregunta queremos saber los nombres de los países con la cantidad máxima de lugares con al menos 2 talleres deportivos (2 o más) organizados en estos lugares. Quiere decir, para cada lugar hay que ver si hay al menos 2 talleres deportivos en él, y se necesita devolver **el país con la cantidad maxima de lugares** con esta propiedad."
      ]
    },
    {
      "attachments": {},
      "cell_type": "markdown",
      "metadata": {},
      "source": [
        "### Respuesta"
      ]
    },
    {
      "attachments": {},
      "cell_type": "markdown",
      "metadata": {},
      "source": [
        "Primero, agrupamos la cantidad de talleres deportivos por ID de **LugarNuevo**. Similar a la pregunta anterior, también debemos ocupar la tabla **EstaEn**. Filtramos por todos los lugares que tengan 2 o más talleres deportivos."
      ]
    },
    {
      "cell_type": "code",
      "execution_count": 154,
      "metadata": {
        "id": "THPoqjevjMr7"
      },
      "outputs": [
        {
          "name": "stdout",
          "output_type": "stream",
          "text": [
            " * sqlite:///datos_T3.db\n",
            "Done.\n"
          ]
        },
        {
          "data": {
            "text/html": [
              "<table>\n",
              "    <tr>\n",
              "        <th>idLugarNuevo</th>\n",
              "        <th>totalDeportivos</th>\n",
              "    </tr>\n",
              "    <tr>\n",
              "        <td>33</td>\n",
              "        <td>5</td>\n",
              "    </tr>\n",
              "    <tr>\n",
              "        <td>1</td>\n",
              "        <td>5</td>\n",
              "    </tr>\n",
              "    <tr>\n",
              "        <td>46</td>\n",
              "        <td>4</td>\n",
              "    </tr>\n",
              "    <tr>\n",
              "        <td>43</td>\n",
              "        <td>4</td>\n",
              "    </tr>\n",
              "    <tr>\n",
              "        <td>32</td>\n",
              "        <td>4</td>\n",
              "    </tr>\n",
              "    <tr>\n",
              "        <td>2</td>\n",
              "        <td>4</td>\n",
              "    </tr>\n",
              "    <tr>\n",
              "        <td>57</td>\n",
              "        <td>3</td>\n",
              "    </tr>\n",
              "    <tr>\n",
              "        <td>56</td>\n",
              "        <td>3</td>\n",
              "    </tr>\n",
              "    <tr>\n",
              "        <td>53</td>\n",
              "        <td>3</td>\n",
              "    </tr>\n",
              "    <tr>\n",
              "        <td>44</td>\n",
              "        <td>3</td>\n",
              "    </tr>\n",
              "    <tr>\n",
              "        <td>42</td>\n",
              "        <td>3</td>\n",
              "    </tr>\n",
              "    <tr>\n",
              "        <td>37</td>\n",
              "        <td>3</td>\n",
              "    </tr>\n",
              "    <tr>\n",
              "        <td>30</td>\n",
              "        <td>3</td>\n",
              "    </tr>\n",
              "    <tr>\n",
              "        <td>54</td>\n",
              "        <td>2</td>\n",
              "    </tr>\n",
              "    <tr>\n",
              "        <td>52</td>\n",
              "        <td>2</td>\n",
              "    </tr>\n",
              "    <tr>\n",
              "        <td>51</td>\n",
              "        <td>2</td>\n",
              "    </tr>\n",
              "    <tr>\n",
              "        <td>50</td>\n",
              "        <td>2</td>\n",
              "    </tr>\n",
              "    <tr>\n",
              "        <td>41</td>\n",
              "        <td>2</td>\n",
              "    </tr>\n",
              "    <tr>\n",
              "        <td>40</td>\n",
              "        <td>2</td>\n",
              "    </tr>\n",
              "    <tr>\n",
              "        <td>38</td>\n",
              "        <td>2</td>\n",
              "    </tr>\n",
              "    <tr>\n",
              "        <td>36</td>\n",
              "        <td>2</td>\n",
              "    </tr>\n",
              "    <tr>\n",
              "        <td>34</td>\n",
              "        <td>2</td>\n",
              "    </tr>\n",
              "    <tr>\n",
              "        <td>31</td>\n",
              "        <td>2</td>\n",
              "    </tr>\n",
              "    <tr>\n",
              "        <td>27</td>\n",
              "        <td>2</td>\n",
              "    </tr>\n",
              "    <tr>\n",
              "        <td>26</td>\n",
              "        <td>2</td>\n",
              "    </tr>\n",
              "    <tr>\n",
              "        <td>20</td>\n",
              "        <td>2</td>\n",
              "    </tr>\n",
              "    <tr>\n",
              "        <td>18</td>\n",
              "        <td>2</td>\n",
              "    </tr>\n",
              "    <tr>\n",
              "        <td>14</td>\n",
              "        <td>2</td>\n",
              "    </tr>\n",
              "    <tr>\n",
              "        <td>13</td>\n",
              "        <td>2</td>\n",
              "    </tr>\n",
              "    <tr>\n",
              "        <td>9</td>\n",
              "        <td>2</td>\n",
              "    </tr>\n",
              "    <tr>\n",
              "        <td>8</td>\n",
              "        <td>2</td>\n",
              "    </tr>\n",
              "    <tr>\n",
              "        <td>6</td>\n",
              "        <td>2</td>\n",
              "    </tr>\n",
              "    <tr>\n",
              "        <td>4</td>\n",
              "        <td>2</td>\n",
              "    </tr>\n",
              "</table>"
            ],
            "text/plain": [
              "[(33, 5),\n",
              " (1, 5),\n",
              " (46, 4),\n",
              " (43, 4),\n",
              " (32, 4),\n",
              " (2, 4),\n",
              " (57, 3),\n",
              " (56, 3),\n",
              " (53, 3),\n",
              " (44, 3),\n",
              " (42, 3),\n",
              " (37, 3),\n",
              " (30, 3),\n",
              " (54, 2),\n",
              " (52, 2),\n",
              " (51, 2),\n",
              " (50, 2),\n",
              " (41, 2),\n",
              " (40, 2),\n",
              " (38, 2),\n",
              " (36, 2),\n",
              " (34, 2),\n",
              " (31, 2),\n",
              " (27, 2),\n",
              " (26, 2),\n",
              " (20, 2),\n",
              " (18, 2),\n",
              " (14, 2),\n",
              " (13, 2),\n",
              " (9, 2),\n",
              " (8, 2),\n",
              " (6, 2),\n",
              " (4, 2)]"
            ]
          },
          "execution_count": 154,
          "metadata": {},
          "output_type": "execute_result"
        }
      ],
      "source": [
        "%%sql\n",
        "\n",
        "SELECT LugarNuevo.id AS idLugarNuevo, COUNT(Deportivo.id) as totalDeportivos\n",
        "FROM LugarNuevo\n",
        "INNER JOIN EstaEn\n",
        "ON LugarNuevo.id = EstaEn.idLugar\n",
        "INNER JOIN Deportivo\n",
        "ON EstaEn.idTaller = Deportivo.id\n",
        "GROUP BY LugarNuevo.id\n",
        "HAVING totalDeportivos >= 2\n",
        "ORDER BY totalDeportivos DESC\n",
        "LIMIT 50\n"
      ]
    },
    {
      "attachments": {},
      "cell_type": "markdown",
      "metadata": {},
      "source": [
        "Hacemos un INNER JOIN con **Ciudad** y **Pais** para obtener los ID de los paises de estos lugares."
      ]
    },
    {
      "cell_type": "code",
      "execution_count": 155,
      "metadata": {},
      "outputs": [
        {
          "name": "stdout",
          "output_type": "stream",
          "text": [
            " * sqlite:///datos_T3.db\n",
            "Done.\n"
          ]
        },
        {
          "data": {
            "text/html": [
              "<table>\n",
              "    <tr>\n",
              "        <th>Pais</th>\n",
              "        <th>idCiudad</th>\n",
              "        <th>idLugarNuevo</th>\n",
              "        <th>totalDeportivos</th>\n",
              "    </tr>\n",
              "    <tr>\n",
              "        <td>Syrian Arab Republic</td>\n",
              "        <td>23</td>\n",
              "        <td>1</td>\n",
              "        <td>5</td>\n",
              "    </tr>\n",
              "    <tr>\n",
              "        <td>Saint Vincent and the Grenadines</td>\n",
              "        <td>24</td>\n",
              "        <td>2</td>\n",
              "        <td>4</td>\n",
              "    </tr>\n",
              "    <tr>\n",
              "        <td>Palestinian Territory</td>\n",
              "        <td>26</td>\n",
              "        <td>4</td>\n",
              "        <td>2</td>\n",
              "    </tr>\n",
              "    <tr>\n",
              "        <td>Israel</td>\n",
              "        <td>28</td>\n",
              "        <td>6</td>\n",
              "        <td>2</td>\n",
              "    </tr>\n",
              "    <tr>\n",
              "        <td>United States Minor Outlying Islands</td>\n",
              "        <td>30</td>\n",
              "        <td>8</td>\n",
              "        <td>2</td>\n",
              "    </tr>\n",
              "    <tr>\n",
              "        <td>Holy See (Vatican City State)</td>\n",
              "        <td>31</td>\n",
              "        <td>9</td>\n",
              "        <td>2</td>\n",
              "    </tr>\n",
              "    <tr>\n",
              "        <td>Niger</td>\n",
              "        <td>35</td>\n",
              "        <td>13</td>\n",
              "        <td>2</td>\n",
              "    </tr>\n",
              "    <tr>\n",
              "        <td>Estonia</td>\n",
              "        <td>36</td>\n",
              "        <td>14</td>\n",
              "        <td>2</td>\n",
              "    </tr>\n",
              "    <tr>\n",
              "        <td>Martinique</td>\n",
              "        <td>40</td>\n",
              "        <td>18</td>\n",
              "        <td>2</td>\n",
              "    </tr>\n",
              "    <tr>\n",
              "        <td>Cuba</td>\n",
              "        <td>42</td>\n",
              "        <td>20</td>\n",
              "        <td>2</td>\n",
              "    </tr>\n",
              "</table>"
            ],
            "text/plain": [
              "[('Syrian Arab Republic', 23, 1, 5),\n",
              " ('Saint Vincent and the Grenadines', 24, 2, 4),\n",
              " ('Palestinian Territory', 26, 4, 2),\n",
              " ('Israel', 28, 6, 2),\n",
              " ('United States Minor Outlying Islands', 30, 8, 2),\n",
              " ('Holy See (Vatican City State)', 31, 9, 2),\n",
              " ('Niger', 35, 13, 2),\n",
              " ('Estonia', 36, 14, 2),\n",
              " ('Martinique', 40, 18, 2),\n",
              " ('Cuba', 42, 20, 2)]"
            ]
          },
          "execution_count": 155,
          "metadata": {},
          "output_type": "execute_result"
        }
      ],
      "source": [
        "%%sql\n",
        "\n",
        "SELECT Pais.nombrePais AS Pais, Ciudad.id AS idCiudad, idLugarNuevo, totalDeportivos\n",
        "FROM Pais\n",
        "INNER JOIN Ciudad\n",
        "ON Pais.id = Ciudad.idPais\n",
        "INNER JOIN (\n",
        "    SELECT LugarNuevo.id AS idLugarNuevo, LugarNuevo.idCiudad AS idCiudad, COUNT(Deportivo.id) as totalDeportivos\n",
        "    FROM LugarNuevo\n",
        "    INNER JOIN EstaEn\n",
        "    ON LugarNuevo.id = EstaEn.idLugar\n",
        "    INNER JOIN Deportivo\n",
        "    ON EstaEn.idTaller = Deportivo.id\n",
        "    GROUP BY LugarNuevo.id\n",
        "    HAVING totalDeportivos >= 2\n",
        ") AS LugarCon2oMas\n",
        "ON Ciudad.id = LugarCon2oMas.idCiudad\n",
        "LIMIT 10\n"
      ]
    },
    {
      "attachments": {},
      "cell_type": "markdown",
      "metadata": {},
      "source": [
        "De la tabla anterior, agrupamos cada país junto al total de sus lugares."
      ]
    },
    {
      "cell_type": "code",
      "execution_count": 156,
      "metadata": {},
      "outputs": [
        {
          "name": "stdout",
          "output_type": "stream",
          "text": [
            " * sqlite:///datos_T3.db\n",
            "Done.\n"
          ]
        },
        {
          "data": {
            "text/html": [
              "<table>\n",
              "    <tr>\n",
              "        <th>idPais</th>\n",
              "        <th>Pais</th>\n",
              "        <th>TotalLugares</th>\n",
              "    </tr>\n",
              "    <tr>\n",
              "        <td>8</td>\n",
              "        <td>Syrian Arab Republic</td>\n",
              "        <td>1</td>\n",
              "    </tr>\n",
              "    <tr>\n",
              "        <td>9</td>\n",
              "        <td>Saint Vincent and the Grenadines</td>\n",
              "        <td>1</td>\n",
              "    </tr>\n",
              "    <tr>\n",
              "        <td>11</td>\n",
              "        <td>Palestinian Territory</td>\n",
              "        <td>1</td>\n",
              "    </tr>\n",
              "    <tr>\n",
              "        <td>13</td>\n",
              "        <td>Israel</td>\n",
              "        <td>1</td>\n",
              "    </tr>\n",
              "    <tr>\n",
              "        <td>15</td>\n",
              "        <td>United States Minor Outlying Islands</td>\n",
              "        <td>1</td>\n",
              "    </tr>\n",
              "    <tr>\n",
              "        <td>16</td>\n",
              "        <td>Holy See (Vatican City State)</td>\n",
              "        <td>1</td>\n",
              "    </tr>\n",
              "    <tr>\n",
              "        <td>19</td>\n",
              "        <td>Niger</td>\n",
              "        <td>1</td>\n",
              "    </tr>\n",
              "    <tr>\n",
              "        <td>20</td>\n",
              "        <td>Estonia</td>\n",
              "        <td>1</td>\n",
              "    </tr>\n",
              "    <tr>\n",
              "        <td>21</td>\n",
              "        <td>Martinique</td>\n",
              "        <td>1</td>\n",
              "    </tr>\n",
              "    <tr>\n",
              "        <td>25</td>\n",
              "        <td>Cuba</td>\n",
              "        <td>1</td>\n",
              "    </tr>\n",
              "    <tr>\n",
              "        <td>28</td>\n",
              "        <td>Bahrain</td>\n",
              "        <td>1</td>\n",
              "    </tr>\n",
              "    <tr>\n",
              "        <td>31</td>\n",
              "        <td>Falkland Islands (Malvinas)</td>\n",
              "        <td>1</td>\n",
              "    </tr>\n",
              "    <tr>\n",
              "        <td>32</td>\n",
              "        <td>Turkey</td>\n",
              "        <td>1</td>\n",
              "    </tr>\n",
              "    <tr>\n",
              "        <td>34</td>\n",
              "        <td>Uganda</td>\n",
              "        <td>1</td>\n",
              "    </tr>\n",
              "    <tr>\n",
              "        <td>35</td>\n",
              "        <td>Niue</td>\n",
              "        <td>1</td>\n",
              "    </tr>\n",
              "    <tr>\n",
              "        <td>36</td>\n",
              "        <td>Qatar</td>\n",
              "        <td>1</td>\n",
              "    </tr>\n",
              "    <tr>\n",
              "        <td>37</td>\n",
              "        <td>Japan</td>\n",
              "        <td>1</td>\n",
              "    </tr>\n",
              "    <tr>\n",
              "        <td>38</td>\n",
              "        <td>Aruba</td>\n",
              "        <td>2</td>\n",
              "    </tr>\n",
              "    <tr>\n",
              "        <td>40</td>\n",
              "        <td>Lebanon</td>\n",
              "        <td>1</td>\n",
              "    </tr>\n",
              "    <tr>\n",
              "        <td>41</td>\n",
              "        <td>Honduras</td>\n",
              "        <td>1</td>\n",
              "    </tr>\n",
              "    <tr>\n",
              "        <td>43</td>\n",
              "        <td>Eritrea</td>\n",
              "        <td>1</td>\n",
              "    </tr>\n",
              "    <tr>\n",
              "        <td>44</td>\n",
              "        <td>Nepal</td>\n",
              "        <td>1</td>\n",
              "    </tr>\n",
              "    <tr>\n",
              "        <td>45</td>\n",
              "        <td>Somalia</td>\n",
              "        <td>1</td>\n",
              "    </tr>\n",
              "    <tr>\n",
              "        <td>46</td>\n",
              "        <td>Puerto Rico</td>\n",
              "        <td>1</td>\n",
              "    </tr>\n",
              "    <tr>\n",
              "        <td>47</td>\n",
              "        <td>Sweden</td>\n",
              "        <td>1</td>\n",
              "    </tr>\n",
              "    <tr>\n",
              "        <td>49</td>\n",
              "        <td>Cambodia</td>\n",
              "        <td>1</td>\n",
              "    </tr>\n",
              "    <tr>\n",
              "        <td>53</td>\n",
              "        <td>Slovenia</td>\n",
              "        <td>1</td>\n",
              "    </tr>\n",
              "    <tr>\n",
              "        <td>54</td>\n",
              "        <td>French Guiana</td>\n",
              "        <td>1</td>\n",
              "    </tr>\n",
              "    <tr>\n",
              "        <td>55</td>\n",
              "        <td>Netherlands</td>\n",
              "        <td>1</td>\n",
              "    </tr>\n",
              "    <tr>\n",
              "        <td>56</td>\n",
              "        <td>Liechtenstein</td>\n",
              "        <td>1</td>\n",
              "    </tr>\n",
              "    <tr>\n",
              "        <td>58</td>\n",
              "        <td>Swaziland</td>\n",
              "        <td>1</td>\n",
              "    </tr>\n",
              "    <tr>\n",
              "        <td>59</td>\n",
              "        <td>Saint Barthelemy</td>\n",
              "        <td>1</td>\n",
              "    </tr>\n",
              "</table>"
            ],
            "text/plain": [
              "[(8, 'Syrian Arab Republic', 1),\n",
              " (9, 'Saint Vincent and the Grenadines', 1),\n",
              " (11, 'Palestinian Territory', 1),\n",
              " (13, 'Israel', 1),\n",
              " (15, 'United States Minor Outlying Islands', 1),\n",
              " (16, 'Holy See (Vatican City State)', 1),\n",
              " (19, 'Niger', 1),\n",
              " (20, 'Estonia', 1),\n",
              " (21, 'Martinique', 1),\n",
              " (25, 'Cuba', 1),\n",
              " (28, 'Bahrain', 1),\n",
              " (31, 'Falkland Islands (Malvinas)', 1),\n",
              " (32, 'Turkey', 1),\n",
              " (34, 'Uganda', 1),\n",
              " (35, 'Niue', 1),\n",
              " (36, 'Qatar', 1),\n",
              " (37, 'Japan', 1),\n",
              " (38, 'Aruba', 2),\n",
              " (40, 'Lebanon', 1),\n",
              " (41, 'Honduras', 1),\n",
              " (43, 'Eritrea', 1),\n",
              " (44, 'Nepal', 1),\n",
              " (45, 'Somalia', 1),\n",
              " (46, 'Puerto Rico', 1),\n",
              " (47, 'Sweden', 1),\n",
              " (49, 'Cambodia', 1),\n",
              " (53, 'Slovenia', 1),\n",
              " (54, 'French Guiana', 1),\n",
              " (55, 'Netherlands', 1),\n",
              " (56, 'Liechtenstein', 1),\n",
              " (58, 'Swaziland', 1),\n",
              " (59, 'Saint Barthelemy', 1)]"
            ]
          },
          "execution_count": 156,
          "metadata": {},
          "output_type": "execute_result"
        }
      ],
      "source": [
        "%%sql\n",
        "\n",
        "SELECT idPais, Pais, COUNT(idLugarNuevo) AS TotalLugares\n",
        "FROM (\n",
        "    SELECT Pais.id AS idPais, Pais.nombrePais AS Pais, Ciudad.id AS idCiudad, idLugarNuevo, totalDeportivos\n",
        "    FROM Pais\n",
        "    INNER JOIN Ciudad\n",
        "    ON Pais.id = Ciudad.idPais\n",
        "    INNER JOIN (\n",
        "        SELECT LugarNuevo.id AS idLugarNuevo, LugarNuevo.idCiudad AS idCiudad, COUNT(Deportivo.id) as totalDeportivos\n",
        "        FROM LugarNuevo\n",
        "        INNER JOIN EstaEn\n",
        "        ON LugarNuevo.id = EstaEn.idLugar\n",
        "        INNER JOIN Deportivo\n",
        "        ON EstaEn.idTaller = Deportivo.id\n",
        "        GROUP BY LugarNuevo.id\n",
        "        HAVING totalDeportivos >= 2\n",
        "    ) AS LugarCon2oMas\n",
        "    ON Ciudad.id = LugarCon2oMas.idCiudad\n",
        ")\n",
        "GROUP BY idPais\n"
      ]
    },
    {
      "attachments": {},
      "cell_type": "markdown",
      "metadata": {},
      "source": [
        "Finalmente, obtenemos el(los) nombre(s) de los pais(es) con mayor cantidad de lugar que cumplen la condición de tener dos o más talleres deportivos."
      ]
    },
    {
      "cell_type": "code",
      "execution_count": 157,
      "metadata": {},
      "outputs": [
        {
          "name": "stdout",
          "output_type": "stream",
          "text": [
            " * sqlite:///datos_T3.db\n",
            "Done.\n"
          ]
        },
        {
          "data": {
            "text/html": [
              "<table>\n",
              "    <tr>\n",
              "        <th>Pais</th>\n",
              "    </tr>\n",
              "    <tr>\n",
              "        <td>Aruba</td>\n",
              "    </tr>\n",
              "</table>"
            ],
            "text/plain": [
              "[('Aruba',)]"
            ]
          },
          "execution_count": 157,
          "metadata": {},
          "output_type": "execute_result"
        }
      ],
      "source": [
        "%%sql\n",
        "\n",
        "SELECT Pais\n",
        "FROM (\n",
        "    SELECT idPais, Pais, COUNT(idLugarNuevo) AS TotalLugares\n",
        "    FROM (\n",
        "        SELECT Pais.id AS idPais, Pais.nombrePais AS Pais, Ciudad.id AS idCiudad, idLugarNuevo, totalDeportivos\n",
        "        FROM Pais\n",
        "        INNER JOIN Ciudad\n",
        "        ON Pais.id = Ciudad.idPais\n",
        "        INNER JOIN (\n",
        "            SELECT LugarNuevo.id AS idLugarNuevo, LugarNuevo.idCiudad AS idCiudad, COUNT(Deportivo.id) as totalDeportivos\n",
        "            FROM LugarNuevo\n",
        "            INNER JOIN EstaEn\n",
        "            ON LugarNuevo.id = EstaEn.idLugar\n",
        "            INNER JOIN Deportivo\n",
        "            ON EstaEn.idTaller = Deportivo.id\n",
        "            GROUP BY LugarNuevo.id\n",
        "            HAVING totalDeportivos >= 2\n",
        "        ) AS LugarCon2oMas\n",
        "        ON Ciudad.id = LugarCon2oMas.idCiudad\n",
        "    )\n",
        "    GROUP BY idPais\n",
        ")\n",
        "WHERE TotalLugares = (\n",
        "    SELECT MAX(TotalLugares)\n",
        "    FROM (\n",
        "        SELECT idPais, Pais, COUNT(idLugarNuevo) AS TotalLugares\n",
        "        FROM (\n",
        "            SELECT Pais.id AS idPais, Pais.nombrePais AS Pais, Ciudad.id AS idCiudad, idLugarNuevo, totalDeportivos\n",
        "            FROM Pais\n",
        "            INNER JOIN Ciudad\n",
        "            ON Pais.id = Ciudad.idPais\n",
        "            INNER JOIN (\n",
        "                SELECT LugarNuevo.id AS idLugarNuevo, LugarNuevo.idCiudad AS idCiudad, COUNT(Deportivo.id) as totalDeportivos\n",
        "                FROM LugarNuevo\n",
        "                INNER JOIN EstaEn\n",
        "                ON LugarNuevo.id = EstaEn.idLugar\n",
        "                INNER JOIN Deportivo\n",
        "                ON EstaEn.idTaller = Deportivo.id\n",
        "                GROUP BY LugarNuevo.id\n",
        "                HAVING totalDeportivos >= 2\n",
        "            ) AS LugarCon2oMas\n",
        "            ON Ciudad.id = LugarCon2oMas.idCiudad\n",
        "        )\n",
        "        GROUP BY idPais\n",
        "    )\n",
        ")"
      ]
    },
    {
      "cell_type": "code",
      "execution_count": null,
      "metadata": {},
      "outputs": [],
      "source": []
    }
  ],
  "metadata": {
    "colab": {
      "provenance": []
    },
    "kernelspec": {
      "display_name": "Python 3",
      "language": "python",
      "name": "python3"
    },
    "language_info": {
      "codemirror_mode": {
        "name": "ipython",
        "version": 3
      },
      "file_extension": ".py",
      "mimetype": "text/x-python",
      "name": "python",
      "nbconvert_exporter": "python",
      "pygments_lexer": "ipython3",
      "version": "3.9.12"
    },
    "vscode": {
      "interpreter": {
        "hash": "486fa3dd6c666c5c8e48548af06066058fadab3f53231278f3a35dfe63e511b3"
      }
    }
  },
  "nbformat": 4,
  "nbformat_minor": 0
}
