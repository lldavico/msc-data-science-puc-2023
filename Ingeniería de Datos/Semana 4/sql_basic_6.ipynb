{
  "cells": [
    {
      "cell_type": "markdown",
      "metadata": {
        "id": "Os12g4Zas4BD"
      },
      "source": [
        "# Valores nulos en SQL\n",
        "### **Ingeniería de datos**\n",
        "**Profesor: Domagoj Vrgoč**\n",
        "\n",
        "### Introducción\n",
        "\n",
        "En esta clase continuaremos con nuestro análisis de la base de datos de actores y peliculas. Esta vey revisaremos que ocurre al tener valores nulos en nuestra base de datos.\n",
        "\n",
        "### Requisitos\n",
        "\n",
        "Para esta actividad, así como en todas las actividades de SQL, vamos a utilizar *Google colab* (https://colab.research.google.com), que es un entorno virtual permitiendo armar un servidor de bases de datos, y conectarse con este servidor. Para la conexión ocuparemos la herramienta llamada Jupyter Notebooks. Esta herramienta permite conectarse con un servidor SQL de la misma manera cómo hacerlo a través de la consola en un servidor local. \n",
        "\n",
        "El motor de bases de datos que ocuparemos en este curso se llama PostgreSQL, y uno siempre puede instalarlo localmente en su computador. Idea de ocupar Google colab es saltarse este paso, y no tener problemas con instalar, habilitar, o correr un motor de bases de datos.\n",
        "\n",
        "Por lo tanto, para una actividad de SQL, en este curso siempre ocuparemos Jupyter Notebooks con Google colab. Para esto, se les entregará un archivo con extensión .ipynb, cual hay que subir a la plataforma Google Colab. Al inicio del tutorial mostraremos cómo funciona este proceso.\n",
        "\n",
        "\n",
        "### Esquema\n",
        "\n",
        "Para esta actividad, de nuevo trabajaremos con el siguiente esquema:\n",
        "\n",
        "- `Peliculas(pid, pnombre, paño, pcategoria, pcalificacion, pdirector)`\n",
        "\n",
        "- `Actores(aid, anombre, aedad)`\n",
        "\n",
        "- `actuo_en(aid, pid, rol)`\n",
        "\n",
        "Este esquema corresponde a películas, actores, y la información de los roles interpretados por una actor en una película.\n",
        "\n",
        "Las llaves en nuestro caso son:\n",
        "1. `pid`, para `Peliculas`\n",
        "2. `aid` para `Actores`\n",
        "3. `(aid,pid,rol)` para `actuo_en`.\n",
        "\n",
        "Es importante notar que en este caso `rol` forma parte de la llave primaria de la relación `actuo_en`, dado que debemos modelar el caso donde un actor juega dos roles distintos en una misma película."
      ]
    },
    {
      "cell_type": "markdown",
      "source": [
        "## Tutorial"
      ],
      "metadata": {
        "id": "mJhvB6to1wAs"
      }
    },
    {
      "cell_type": "markdown",
      "source": [
        "Lo primero que hay que hacer es subir este notebook a https://colab.research.google.com"
      ],
      "metadata": {
        "id": "bCL5WNkeKdZy"
      }
    },
    {
      "cell_type": "markdown",
      "metadata": {
        "id": "zIDNR35Vs4BH"
      },
      "source": [
        "### Iniciar el servidor\n",
        "\n",
        "Para iniciar el servidor virtual, *instalar* la base de datos postgres debe correr el siguiente bloque:"
      ]
    },
    {
      "cell_type": "code",
      "execution_count": null,
      "metadata": {
        "id": "IOpVhaGMs4BI"
      },
      "outputs": [],
      "source": [
        "# install\n",
        "!apt update\n",
        "!apt install postgresql postgresql-contrib &>log\n",
        "!service postgresql start\n",
        "!sudo -u postgres psql -c \"CREATE USER root WITH SUPERUSER\"\n",
        "# set connection\n",
        "%load_ext sql\n",
        "%config SqlMagic.feedback=False \n",
        "%config SqlMagic.autopandas=True\n",
        "%sql postgresql+psycopg2://@/postgres"
      ]
    },
    {
      "cell_type": "markdown",
      "source": [
        "### Creando la base de datos\n",
        "\n",
        "Para crear y poblar nuestra base de datos, corramo el siguiente bloque de código:"
      ],
      "metadata": {
        "id": "NM8hPxHcLCY9"
      }
    },
    {
      "cell_type": "code",
      "source": [
        "%%sql\n",
        "\n",
        "DROP TABLE IF EXISTS Peliculas;\n",
        "DROP TABLE IF EXISTS Actores;\n",
        "DROP TABLE IF EXISTS Actuo_En;\n",
        "\n",
        "CREATE TABLE IF NOT EXISTS Peliculas(\n",
        "    pid int PRIMARY KEY,\n",
        "    pnombre varchar(30),\n",
        "    paño int,\n",
        "    pcategoria varchar(30),\n",
        "    pcalificacion float,\n",
        "    pdirector varchar(30)\n",
        ");\n",
        "\n",
        "CREATE TABLE Actores(\n",
        "    aid int PRIMARY KEY,\n",
        "    anombre varchar(30),\n",
        "    aedad int\n",
        ");\n",
        "\n",
        "CREATE TABLE actuo_en(\n",
        "    aid int,\n",
        "    pid int,\n",
        "    rol varchar(30),\n",
        "    PRIMARY KEY (aid,pid,rol)\n",
        ");\n",
        "\n",
        "INSERT INTO Peliculas VALUES(1,'Avengers:Endgame',2019,'SciFi',8.4,'Brothers Russo');\n",
        "INSERT INTO Peliculas VALUES(2,'Captain America: Civil War',2016,'SciFi',NULL,'Brothers Russo');\n",
        "INSERT INTO Peliculas VALUES(3,'Iron Man',2008,'SciFi',9.1,'John Favreu');\n",
        "INSERT INTO Peliculas VALUES(4,'Batman: The Dark Knight',2008,'Thriller',8.3,'Christoper Nolan');\n",
        "INSERT INTO Peliculas VALUES(5,'Batman: The Dark Knight Rises',2012,'Thriller',NULL,'Christoper Nolan');\n",
        "INSERT INTO Peliculas VALUES(6,'Interstellar',2014,'Drama',8.4,'Christoper Nolan');\n",
        "INSERT INTO Peliculas VALUES(7,'Sherlock Holmes',2009,'Mystery',7.8,'Guy Ritchie');\n",
        "INSERT INTO Peliculas VALUES(8,'Avengers: Age of Ultron',NULL,'SciFi',8.3,'Joss Whedon');\n",
        "INSERT INTO Peliculas VALUES(9,'Doctor Strange',2016,'SciFi',8.8,'Scott Derrickson');\n",
        "\n",
        "INSERT INTO Actores VALUES(1,'Robert Downey Jr.',57);\n",
        "INSERT INTO Actores VALUES(2,'Scarlett Johansson',37);\n",
        "INSERT INTO Actores VALUES(3,'Chris Evans',NULL);\n",
        "INSERT INTO Actores VALUES(4,'Christian Bale',48);\n",
        "INSERT INTO Actores VALUES(5,'Anne Hathaway',NULL);\n",
        "INSERT INTO Actores VALUES(6,'Paul Bettany',50);\n",
        "INSERT INTO Actores VALUES(7,'Benedict Cumberbatch',45);\n",
        "\n",
        "INSERT INTO actuo_en VALUES(1,1,'Tony Stark');\n",
        "INSERT INTO actuo_en VALUES(1,2,'Tony Stark');\n",
        "INSERT INTO actuo_en VALUES(1,3,'Tony Stark');\n",
        "INSERT INTO actuo_en VALUES(1,7,'Sherlock Holmes');\n",
        "INSERT INTO actuo_en VALUES(2,1,'Natasha Romanoff');\n",
        "INSERT INTO actuo_en VALUES(2,2,'Natasha Romanoff');\n",
        "INSERT INTO actuo_en VALUES(3,1,'Steve Rogers');\n",
        "INSERT INTO actuo_en VALUES(3,2,'Steve Rogers');\n",
        "INSERT INTO actuo_en VALUES(4,4,'Bruce Wayne');\n",
        "INSERT INTO actuo_en VALUES(4,5,'Bruce Wayne');\n",
        "INSERT INTO actuo_en VALUES(5,5,'Selina Kyle');\n",
        "INSERT INTO actuo_en VALUES(5,6,'Amelia Brand');\n",
        "INSERT INTO actuo_en VALUES(6,8,'J.A.R.V.I.S.');\n",
        "INSERT INTO actuo_en VALUES(6,8,'Vision');\n",
        "INSERT INTO actuo_en VALUES(7,9,'Doctor Strange');\n",
        "INSERT INTO actuo_en VALUES(7,9,'Dormammu');\n",
        "INSERT INTO actuo_en VALUES(1,8,'Tony Stark');\n",
        "INSERT INTO actuo_en VALUES(3,8,'Steve Rogers');\n",
        "INSERT INTO actuo_en VALUES(2,8,'Natasha Romanoff');\n",
        "INSERT INTO actuo_en VALUES(6,3,'J.A.R.V.I.S.');\n"
      ],
      "metadata": {
        "id": "O05KcO5iT0S8"
      },
      "execution_count": null,
      "outputs": []
    },
    {
      "cell_type": "markdown",
      "source": [
        "Ahora podemos visualizar el contenido de las tablas:"
      ],
      "metadata": {
        "id": "dE4R4mCyUTWX"
      }
    },
    {
      "cell_type": "code",
      "source": [
        "%%sql\n",
        "\n",
        "SELECT * FROM Peliculas;"
      ],
      "metadata": {
        "id": "7CKP34DvUWJe"
      },
      "execution_count": null,
      "outputs": []
    },
    {
      "cell_type": "code",
      "source": [
        "%%sql\n",
        "\n",
        "SELECT * FROM Actores;"
      ],
      "metadata": {
        "id": "mWh32ByiUf7H"
      },
      "execution_count": null,
      "outputs": []
    },
    {
      "cell_type": "code",
      "source": [
        "%%sql\n",
        "\n",
        "SELECT * FROM actuo_en;"
      ],
      "metadata": {
        "id": "SyrsPx_HUh70"
      },
      "execution_count": null,
      "outputs": []
    },
    {
      "cell_type": "markdown",
      "source": [
        "### Analizando la base de datos con consultas anidadas\n",
        "\n",
        "Como podemos ver, ahora nuestra base de datos cuenta con algunos valores nulos. En este turorial ilustraremos que pasa con nuestras consultas en este caso, y ilustraremos unos comportamientos inesperados que pueden ocurrir."
      ],
      "metadata": {
        "id": "FIECP53JI8rh"
      }
    },
    {
      "cell_type": "markdown",
      "source": [
        "### Pregunta 1\n",
        "\n",
        "empezaremos analizando las películas. Primero, nos interesaría recuperar todas las películas de la categoría `SciFi` con la calificación mayor a mínima califiación entre todas las películas. Intuitivamente, uno espera que con esto recuperaremos todas las películas `SciFi`:"
      ],
      "metadata": {
        "id": "7yxMppYZebX3"
      }
    },
    {
      "cell_type": "code",
      "source": [
        "%%sql\n",
        "\n",
        "SELECT pnombre\n",
        "FROM Peliculas\n",
        "WHERE pcategoria = 'SciFi' AND \n",
        "      pcalificacion >= (\n",
        "                        SELECT MIN(P2.pcalificacion)\n",
        "                        FROM Peliculas AS P2\n",
        "                        )\n"
      ],
      "metadata": {
        "id": "nOKtBOGgVAsa"
      },
      "execution_count": null,
      "outputs": []
    },
    {
      "cell_type": "markdown",
      "source": [
        "Cómo podemos observar, la película `Captain America: Civil War` no aparece en el listado. Esto ocurre por dos razones:\n",
        "1. Porque la subconsulta calculando la mínima calificación ignora a los nulos, y devuelve el número 7.8.\n",
        "2. Al hacer la comparación con pcalificacion y el mínimo devuelto por la consulta, los valores nulos hacen el resultado `unknown`."
      ],
      "metadata": {
        "id": "Z5z4Ne-dVc6a"
      }
    },
    {
      "cell_type": "markdown",
      "source": [
        "### Pregunta 2\n",
        "\n",
        "Ocupando subconsultas puede resultar en comportamiento incluso más extraño en la presencia de los nulos. Por ejemplo, intentemos ahora encontrar los actores cuya edad es menor que la edad de cualquier actor que aparece en una película `Thriller`. Para esto ocuparemos consultas anidadas:"
      ],
      "metadata": {
        "id": "_W5RHuClWIs9"
      }
    },
    {
      "cell_type": "code",
      "source": [
        "%%sql\n",
        "\n",
        "SELECT A1.anombre\n",
        "FROM Actores AS A1\n",
        "WHERE A1.aedad < ALL (\n",
        "                     SELECT A2.aedad\n",
        "                     FROM ACTORES AS A2, Peliculas, Actuo_En\n",
        "                     WHERE A2.aid = Actuo_En.aid AND \n",
        "                           Actuo_En.pid = Peliculas.pid AND\n",
        "                           Peliculas.pcategoria = 'Thriller'\n",
        "                     ) "
      ],
      "metadata": {
        "id": "vbxzT7tDWSBF"
      },
      "execution_count": null,
      "outputs": []
    },
    {
      "cell_type": "markdown",
      "source": [
        "Aquí la consulta anidada simplemente recupera las edades de todos los actores que aparecen en una película `SciFi`, y la consulta exterior compara la edad de actor con esta lista de valores. El problema es que el actor `Chris Evans` tiene valor `NULL` cómo su edad, y aparece en una película `SciFi`. Por lo tanto, al comparar la edad de cualquier actor con este valor nulo, no podemos conseguir true cómo el resultado, y por lo tanto no se devuelve ningun resultado.\n",
        "\n",
        "Para excluir los nulos desde esta comparación, podemos modificar nuestra consulta de la siguiente manera:"
      ],
      "metadata": {
        "id": "GaOAM8XyXWtE"
      }
    },
    {
      "cell_type": "code",
      "source": [
        "%%sql\n",
        "\n",
        "SELECT A1.anombre\n",
        "FROM Actores AS A1\n",
        "WHERE A1.aedad < ALL (\n",
        "                     SELECT A2.aedad\n",
        "                     FROM ACTORES AS A2, Peliculas, Actuo_En\n",
        "                     WHERE A2.aid = Actuo_En.aid AND \n",
        "                           Actuo_En.pid = Peliculas.pid AND\n",
        "                           Peliculas.pcategoria = 'Thriller' AND\n",
        "                           A2.aedad IS NOT NULL\n",
        "                     ) "
      ],
      "metadata": {
        "id": "YRaGHbBsjB-l"
      },
      "execution_count": null,
      "outputs": []
    },
    {
      "cell_type": "markdown",
      "source": [
        "Alternativamente, lo mismo podemos realizar con el operador `MIN`, dado que este ignora a los valores nulos:"
      ],
      "metadata": {
        "id": "S_P88y9HknuX"
      }
    },
    {
      "cell_type": "code",
      "source": [
        "%%sql\n",
        "\n",
        "SELECT A1.anombre\n",
        "FROM Actores AS A1\n",
        "WHERE A1.aedad < (\n",
        "                     SELECT MIN(A2.aedad)\n",
        "                     FROM ACTORES AS A2, Peliculas, Actuo_En\n",
        "                     WHERE A2.aid = Actuo_En.aid AND \n",
        "                           Actuo_En.pid = Peliculas.pid AND\n",
        "                           Peliculas.pcategoria = 'Thriller'\n",
        "                 ) "
      ],
      "metadata": {
        "id": "jamskoRZkvVW"
      },
      "execution_count": null,
      "outputs": []
    },
    {
      "cell_type": "markdown",
      "source": [
        "### Pregunta 3\n",
        "\n",
        "Ahora exploraremos que ocurre cuando intentamos calcular la sma de edades de todos los actores en cada película. Esto podemos realizar de la siguiente forma:"
      ],
      "metadata": {
        "id": "MHZy2n2RYOyV"
      }
    },
    {
      "cell_type": "code",
      "source": [
        "%%sql\n",
        "\n",
        "SELECT Peliculas.pid, Peliculas.pnombre, SUM(Actores.aedad)\n",
        "FROM Peliculas, Actores, actuo_en\n",
        "WHERE Peliculas.pid = actuo_en.pid AND actuo_en.aid = Actores.aid\n",
        "GROUP BY Peliculas.pid, Peliculas.pnombre\n",
        "ORDER BY Peliculas.pid;"
      ],
      "metadata": {
        "id": "3hy7gLOTYtds"
      },
      "execution_count": null,
      "outputs": []
    },
    {
      "cell_type": "markdown",
      "source": [
        "Aquí podemos observar que el operador `SUM` simplemente ignora a los valores nulos. La única exepción es la película `Interstellar`, dónde solo tenemos una actriz registrada para esta película, y su edad es un valor `NULL`.\n",
        "\n",
        "Pese que esto puede aparecer un comportamiento razonable, ignorar campos con nulos puede resultar en comportamiento inesperado. Por ejemplo, si decidimos computar el promedio de edad de actores por película a mano (sumando sus edades, y dividienvo con en número de actores), podemos recibir distinto resultado que ocupando la funcción `AVG`.\n",
        "\n",
        "Ilustremos esto ahora:\n"
      ],
      "metadata": {
        "id": "2rUrjb51VN4v"
      }
    },
    {
      "cell_type": "code",
      "source": [
        "%%sql\n",
        "\n",
        "SELECT Peliculas.pid, Peliculas.pnombre, SUM(Actores.aedad), COUNT(DISTINCT Actores.aid), SUM(Actores.aedad)/COUNT(DISTINCT Actores.aid)\n",
        "FROM Peliculas, Actores, actuo_en\n",
        "WHERE Peliculas.pid = actuo_en.pid AND actuo_en.aid = Actores.aid\n",
        "GROUP BY Peliculas.pid, Peliculas.pnombre\n",
        "ORDER BY Peliculas.pid;"
      ],
      "metadata": {
        "id": "mjyYT4WpVz8Z"
      },
      "execution_count": null,
      "outputs": []
    },
    {
      "cell_type": "markdown",
      "source": [
        "Observen que aquí si contamos los actores sin la edad especificada. Por otro lado, ocupando el operador `AVG` recibiremos:"
      ],
      "metadata": {
        "id": "mliO9r-GV5iE"
      }
    },
    {
      "cell_type": "code",
      "source": [
        "%%sql\n",
        "\n",
        "SELECT Peliculas.pid, Peliculas.pnombre, AVG(Actores.aedad)\n",
        "FROM Peliculas, Actores, actuo_en\n",
        "WHERE Peliculas.pid = actuo_en.pid AND actuo_en.aid = Actores.aid\n",
        "GROUP BY Peliculas.pid, Peliculas.pnombre\n",
        "ORDER BY Peliculas.pid;"
      ],
      "metadata": {
        "id": "yTAzhlibnbFH"
      },
      "execution_count": null,
      "outputs": []
    },
    {
      "cell_type": "markdown",
      "source": [
        "La diferencia aquí es que al ignorar la fila con el valor nulo, por ejemplo en la película `Avengers:Endgame`, el operador AVG divide la suma de edades no nulos con 2 y no con 3, qué es el número total de los actores en esta película."
      ],
      "metadata": {
        "id": "eNzpClArnqod"
      }
    },
    {
      "cell_type": "markdown",
      "source": [
        "### Pregunta 4\n",
        "\n",
        "Pese a comportamiento extraño que pueden causar, nulos son útiles en muchos escenarios. Uno de estos es preservación de la infromación. Considere ahora que a nuestra tabla `Peliculas` insertamos la siguiente tupla:"
      ],
      "metadata": {
        "id": "wQjrjQwvXpG7"
      }
    },
    {
      "cell_type": "code",
      "source": [
        "%%sql\n",
        "\n",
        "INSERT INTO Peliculas VALUES(10,'Morbius',2022,'SciFi',NULL,'Daniel Espinosa');\n",
        "\n",
        "SELECT *\n",
        "FROM Peliculas;"
      ],
      "metadata": {
        "id": "bwrxZoHfXw0r"
      },
      "execution_count": null,
      "outputs": []
    },
    {
      "cell_type": "markdown",
      "source": [
        "Para la nueva película que insertamos todvía no tenemos actores ingresados en la tabla `Actuo_En`.\n",
        "\n",
        "Considere ahora el escenario dónde nos gustaría generar una tabla que contiene cada película, junto con los id de los actores que actuan en ella Intuitivamente, esto podemos hacer con la siguiente consulta:"
      ],
      "metadata": {
        "id": "IYovjXrsYoUO"
      }
    },
    {
      "cell_type": "code",
      "source": [
        "%%sql\n",
        "\n",
        "SELECT Peliculas.pnombre, actuo_en.aid\n",
        "FROM Peliculas, actuo_en\n",
        "WHERE Peliculas.pid = actuo_en.pid\n",
        "ORDER BY Peliculas.pnombre, actuo_en.aid;"
      ],
      "metadata": {
        "id": "w8PHQPvprdoy"
      },
      "execution_count": null,
      "outputs": []
    },
    {
      "cell_type": "markdown",
      "source": [
        "Aquí podemos observar que ya no contamos con la información de la película `Morbius`. El problema aquí es que al hacer el join entre `Peliculas` y `Actuo_En`, no podemos realizar un join con la película `Morbius`, dado que no tenemos actores registrados para esta película.\n",
        "\n",
        "En el caso que queremos todavía disponer de esta información, podemos ocupar un join especial que se llama `LEFT OUTTER JOIN`. Efectivamente, este join nos dice que cuando uno puede realizar el join lo realiza, pero cuando una tupla de la relación de la izquierda del join no puede hacer join con ninguna tupla de la relación de la derecha, los campos faltantes se llenan con nulos. Noten que cuando una tupla sí hace el join, esto no ocurre. En nuestro ejemplo podemos ocupar:"
      ],
      "metadata": {
        "id": "OPO_H7qLrxAj"
      }
    },
    {
      "cell_type": "code",
      "source": [
        "%%sql\n",
        "\n",
        "SELECT Peliculas.pnombre, actuo_en.aid\n",
        "FROM Peliculas LEFT OUTER JOIN actuo_en ON Peliculas.pid = actuo_en.pid\n",
        "ORDER BY Peliculas.pnombre, actuo_en.aid;"
      ],
      "metadata": {
        "id": "KoTj0k1NY2jZ"
      },
      "execution_count": null,
      "outputs": []
    },
    {
      "cell_type": "markdown",
      "source": [
        "Cómo podemos observar, la película `Morbius` ahora si aparece en nuestro resultado.\n",
        "\n",
        "En general, la sintáxis de left outter join es:\n",
        "\n",
        "`Tabla1 LEFT OUTER JOIN Tabla 2 ON Tabla1.atr1 = Tabla2.atr2, Tabla1.atr3 = Tabla2.atr4, ... `\n",
        "\n",
        "Aquí `Tabla1` es la tabla del lado izquierdo, `Tabla2` la tabla de la derecha, y al poder hacer join de una tupla de `Tabla1` con una tupla de `Tabla2`, este resultado se retorna. Si `Tabla1` contiene una tupla que no puede hacer join con ninguna tupla de la `Tabla2`, los valores que faltan para el join se llennan con nulos.\n",
        "\n",
        "En SQL existen dos tipos de outter joins adicionales:\n",
        "- `RIGHT OUTTER JOIN`, que cambia el rol de las relaciones del lado izquierdo y del lado derecho; y\n",
        "- `FULL OUTTER JOIN`, que combina los `LEFT y RIGHT OUTTER JOIN`.\n",
        "\n",
        "Para aprender más sobre outter joins, se sugiere consultar el libro del curso, o el siguiente link: https://en.wikipedia.org/wiki/Join_(SQL)#Outer_join"
      ],
      "metadata": {
        "id": "Q1vapMQvSoH6"
      }
    },
    {
      "cell_type": "markdown",
      "source": [
        "### Resumen\n",
        "\n",
        "En este tutorial revisamos las cosas que pueden ocurrir al ocupar valores nulos en una base de datos. Adicionalmente, también explicamos el concepto de OUTTER JOINS, que son una forma de hacer joins que se aprovecha de la presencia de valores nulos."
      ],
      "metadata": {
        "id": "mm79BNVrL4hc"
      }
    }
  ],
  "metadata": {
    "kernelspec": {
      "display_name": "Python 3",
      "language": "python",
      "name": "python3"
    },
    "language_info": {
      "codemirror_mode": {
        "name": "ipython",
        "version": 3
      },
      "file_extension": ".py",
      "mimetype": "text/x-python",
      "name": "python",
      "nbconvert_exporter": "python",
      "pygments_lexer": "ipython3",
      "version": "3.8.10"
    },
    "colab": {
      "name": "Copia de T8.ipynb",
      "provenance": [],
      "toc_visible": true,
      "collapsed_sections": []
    }
  },
  "nbformat": 4,
  "nbformat_minor": 0
}
