{
  "cells": [
    {
      "cell_type": "markdown",
      "metadata": {
        "id": "Os12g4Zas4BD"
      },
      "source": [
        "# Consultas anidadas en un caso de uso\n",
        "### **Ingeniería de datos**\n",
        "**Profesor: Domagoj Vrgoč**\n",
        "\n",
        "### Introducción\n",
        "\n",
        "En esta clase continuaremos con nuestro análisis de la base de datos de actores y peliculas. Para esto ocuparemos consultas anidadas y relacionadas.\n",
        "\n",
        "### Requisitos\n",
        "\n",
        "Para esta actividad, así como en todas las actividades de SQL, vamos a utilizar *Google colab* (https://colab.research.google.com), que es un entorno virtual permitiendo armar un servidor de bases de datos, y conectarse con este servidor. Para la conexión ocuparemos la herramienta llamada Jupyter Notebooks. Esta herramienta permite conectarse con un servidor SQL de la misma manera cómo hacerlo a través de la consola en un servidor local. \n",
        "\n",
        "El motor de bases de datos que ocuparemos en este curso se llama PostgreSQL, y uno siempre puede instalarlo localmente en su computador. Idea de ocupar Google colab es saltarse este paso, y no tener problemas con instalar, habilitar, o correr un motor de bases de datos.\n",
        "\n",
        "Por lo tanto, para una actividad de SQL, en este curso siempre ocuparemos Jupyter Notebooks con Google colab. Para esto, se les entregará un archivo con extensión .ipynb, cual hay que subir a la plataforma Google Colab. Al inicio del tutorial mostraremos cómo funciona este proceso.\n",
        "\n",
        "\n",
        "### Esquema\n",
        "\n",
        "Para esta actividad, de nuevo trabajaremos con el siguiente esquema:\n",
        "\n",
        "- `Peliculas(pid, pnombre, paño, pcategoria, pcalificacion, pdirector)`\n",
        "\n",
        "- `Actores(aid, anombre, aedad)`\n",
        "\n",
        "- `actuo_en(aid, pid, rol)`\n",
        "\n",
        "Este esquema corresponde a películas, actores, y la información de los roles interpretados por una actor en una película.\n",
        "\n",
        "Las llaves en nuestro caso son:\n",
        "1. `pid`, para `Peliculas`\n",
        "2. `aid` para `Actores`\n",
        "3. `(aid,pid,rol)` para `actuo_en`.\n",
        "\n",
        "Es importante notar que en este caso `rol` forma parte de la llave primaria de la relación `actuo_en`, dado que debemos modelar el caso donde un actor juega dos roles distintos en una misma película."
      ]
    },
    {
      "cell_type": "markdown",
      "source": [
        "## Tutorial"
      ],
      "metadata": {
        "id": "mJhvB6to1wAs"
      }
    },
    {
      "cell_type": "markdown",
      "source": [
        "Lo primero que hay que hacer es subir este notebook a https://colab.research.google.com"
      ],
      "metadata": {
        "id": "bCL5WNkeKdZy"
      }
    },
    {
      "cell_type": "markdown",
      "metadata": {
        "id": "zIDNR35Vs4BH"
      },
      "source": [
        "### Iniciar el servidor\n",
        "\n",
        "Para iniciar el servidor virtual, *instalar* la base de datos postgres debe correr el siguiente bloque:"
      ]
    },
    {
      "cell_type": "code",
      "execution_count": null,
      "metadata": {
        "id": "IOpVhaGMs4BI"
      },
      "outputs": [],
      "source": [
        "# install\n",
        "!apt update\n",
        "!apt install postgresql postgresql-contrib &>log\n",
        "!service postgresql start\n",
        "!sudo -u postgres psql -c \"CREATE USER root WITH SUPERUSER\"\n",
        "# set connection\n",
        "%load_ext sql\n",
        "%config SqlMagic.feedback=False \n",
        "%config SqlMagic.autopandas=True\n",
        "%sql postgresql+psycopg2://@/postgres"
      ]
    },
    {
      "cell_type": "markdown",
      "source": [
        "### Creando la base de datos\n",
        "\n",
        "Para crear y poblar nuestra base de datos, corramo el siguiente bloque de código:"
      ],
      "metadata": {
        "id": "NM8hPxHcLCY9"
      }
    },
    {
      "cell_type": "code",
      "source": [
        "%%sql\n",
        "\n",
        "DROP TABLE IF EXISTS Peliculas;\n",
        "DROP TABLE IF EXISTS Actores;\n",
        "DROP TABLE IF EXISTS Actuo_En;\n",
        "\n",
        "CREATE TABLE IF NOT EXISTS Peliculas(\n",
        "    pid int PRIMARY KEY,\n",
        "    pnombre varchar(30),\n",
        "    paño int,\n",
        "    pcategoria varchar(30),\n",
        "    pcalificacion float,\n",
        "    pdirector varchar(30)\n",
        ");\n",
        "\n",
        "CREATE TABLE Actores(\n",
        "    aid int PRIMARY KEY,\n",
        "    anombre varchar(30),\n",
        "    aedad int\n",
        ");\n",
        "\n",
        "CREATE TABLE actuo_en(\n",
        "    aid int,\n",
        "    pid int,\n",
        "    rol varchar(30),\n",
        "    PRIMARY KEY (aid,pid,rol)\n",
        ");\n",
        "\n",
        "INSERT INTO Peliculas VALUES(1,'Avengers:Endgame',2019,'SciFi',8.4,'Brothers Russo');\n",
        "INSERT INTO Peliculas VALUES(2,'Captain America: Civil War',2016,'SciFi',8.7,'Brothers Russo');\n",
        "INSERT INTO Peliculas VALUES(3,'Iron Man',2008,'SciFi',9.1,'John Favreu');\n",
        "INSERT INTO Peliculas VALUES(4,'Batman: The Dark Knight',2008,'Thriller',8.3,'Christoper Nolan');\n",
        "INSERT INTO Peliculas VALUES(5,'Batman: The Dark Knight Rises',2012,'Thriller',7.9,'Christoper Nolan');\n",
        "INSERT INTO Peliculas VALUES(6,'Interstellar',2014,'Drama',8.4,'Christoper Nolan');\n",
        "INSERT INTO Peliculas VALUES(7,'Sherlock Holmes',2009,'Mystery',7.8,'Guy Ritchie');\n",
        "INSERT INTO Peliculas VALUES(8,'Avengers: Age of Ultron',2015,'SciFi',8.3,'Joss Whedon');\n",
        "INSERT INTO Peliculas VALUES(9,'Doctor Strange',2016,'SciFi',8.8,'Scott Derrickson');\n",
        "\n",
        "INSERT INTO Actores VALUES(1,'Robert Downey Jr.',57);\n",
        "INSERT INTO Actores VALUES(2,'Scarlett Johansson',37);\n",
        "INSERT INTO Actores VALUES(3,'Chris Evans',40);\n",
        "INSERT INTO Actores VALUES(4,'Christian Bale',48);\n",
        "INSERT INTO Actores VALUES(5,'Anne Hathaway',39);\n",
        "INSERT INTO Actores VALUES(6,'Paul Bettany',50);\n",
        "INSERT INTO Actores VALUES(7,'Benedict Cumberbatch',45);\n",
        "\n",
        "INSERT INTO actuo_en VALUES(1,1,'Tony Stark');\n",
        "INSERT INTO actuo_en VALUES(1,2,'Tony Stark');\n",
        "INSERT INTO actuo_en VALUES(1,3,'Tony Stark');\n",
        "INSERT INTO actuo_en VALUES(1,7,'Sherlock Holmes');\n",
        "INSERT INTO actuo_en VALUES(2,1,'Natasha Romanoff');\n",
        "INSERT INTO actuo_en VALUES(2,2,'Natasha Romanoff');\n",
        "INSERT INTO actuo_en VALUES(3,1,'Steve Rogers');\n",
        "INSERT INTO actuo_en VALUES(3,2,'Steve Rogers');\n",
        "INSERT INTO actuo_en VALUES(4,4,'Bruce Wayne');\n",
        "INSERT INTO actuo_en VALUES(4,5,'Bruce Wayne');\n",
        "INSERT INTO actuo_en VALUES(5,5,'Selina Kyle');\n",
        "INSERT INTO actuo_en VALUES(5,6,'Amelia Brand');\n",
        "INSERT INTO actuo_en VALUES(6,8,'J.A.R.V.I.S.');\n",
        "INSERT INTO actuo_en VALUES(6,8,'Vision');\n",
        "INSERT INTO actuo_en VALUES(7,9,'Doctor Strange');\n",
        "INSERT INTO actuo_en VALUES(7,9,'Dormammu');\n",
        "INSERT INTO actuo_en VALUES(1,8,'Tony Stark');\n",
        "INSERT INTO actuo_en VALUES(3,8,'Steve Rogers');\n",
        "INSERT INTO actuo_en VALUES(2,8,'Natasha Romanoff');\n",
        "INSERT INTO actuo_en VALUES(6,3,'J.A.R.V.I.S.');\n"
      ],
      "metadata": {
        "id": "O05KcO5iT0S8"
      },
      "execution_count": null,
      "outputs": []
    },
    {
      "cell_type": "markdown",
      "source": [
        "Ahora podemos visualizar el contenido de las tablas:"
      ],
      "metadata": {
        "id": "dE4R4mCyUTWX"
      }
    },
    {
      "cell_type": "code",
      "source": [
        "%%sql\n",
        "\n",
        "SELECT * FROM Peliculas;"
      ],
      "metadata": {
        "id": "7CKP34DvUWJe"
      },
      "execution_count": null,
      "outputs": []
    },
    {
      "cell_type": "code",
      "source": [
        "%%sql\n",
        "\n",
        "SELECT * FROM Actores;"
      ],
      "metadata": {
        "id": "mWh32ByiUf7H"
      },
      "execution_count": null,
      "outputs": []
    },
    {
      "cell_type": "code",
      "source": [
        "%%sql\n",
        "\n",
        "SELECT * FROM actuo_en;"
      ],
      "metadata": {
        "id": "SyrsPx_HUh70"
      },
      "execution_count": null,
      "outputs": []
    },
    {
      "cell_type": "markdown",
      "source": [
        "### Analizando la base de datos con consultas anidadas\n",
        "\n",
        "Ahora que nos recordamos de los contenidos de nuestra base de datos, empezaremos analizarlos con consultas anidadas."
      ],
      "metadata": {
        "id": "FIECP53JI8rh"
      }
    },
    {
      "cell_type": "markdown",
      "source": [
        "### Pregunta 1\n",
        "\n",
        "Primero nos enfocaremos en la tabla `Películas` para conseguir la película de la categoría `SciFi` con la mayor calificación. Para esto, primero queremos encontrar cual es la mayor calificación de una película `SciFi`, lo que podemos hacer con una simple consulta de agregación:"
      ],
      "metadata": {
        "id": "7yxMppYZebX3"
      }
    },
    {
      "cell_type": "code",
      "source": [
        "%%sql\n",
        "\n",
        "SELECT MAX(pcalificacion)\n",
        "FROM Peliculas\n",
        "WHERE pcategoria = 'SciFi';"
      ],
      "metadata": {
        "id": "nOKtBOGgVAsa"
      },
      "execution_count": null,
      "outputs": []
    },
    {
      "cell_type": "markdown",
      "source": [
        "Para conseguir la película misma, ahora podemos ocupar el resultado de esta consulta en la claúsula `WHERE`:"
      ],
      "metadata": {
        "id": "Z5z4Ne-dVc6a"
      }
    },
    {
      "cell_type": "code",
      "source": [
        "%%sql\n",
        "\n",
        "SELECT P1.pnombre\n",
        "FROM Peliculas AS P1\n",
        "WHERE P1.pcategoria = 'SciFi' AND \n",
        "      P1.pcalificacion = (\n",
        "                          SELECT MAX(P2.pcalificacion)\n",
        "                          FROM Peliculas AS P2\n",
        "                          WHERE P2.pcategoria = 'SciFi'\n",
        "                         )"
      ],
      "metadata": {
        "id": "WY7m1AP8VoHc"
      },
      "execution_count": null,
      "outputs": []
    },
    {
      "cell_type": "markdown",
      "source": [
        "Noten que en la clusula `WHERE` también tenemos que validar que la película es de la categoría `SciFi`, en el caso que hay películas de distinta categoría con la misma calificación."
      ],
      "metadata": {
        "id": "qORJniHbShxk"
      }
    },
    {
      "cell_type": "markdown",
      "source": [
        "### Pregunta 2\n",
        "\n",
        "Subconsulta podemos combinar con joins también. Por ejemplo, si nos interesan los nombres de todos los actores actuando en la película con la mayor calificación, podemos escribir:"
      ],
      "metadata": {
        "id": "_W5RHuClWIs9"
      }
    },
    {
      "cell_type": "code",
      "source": [
        "%%sql\n",
        "\n",
        "SELECT Actores.anombre\n",
        "FROM Peliculas AS P1, Actores, Actuo_En\n",
        "WHERE P1.pid = Actuo_En.pid AND \n",
        "      Actuo_En.aid = Actores.aid AND\n",
        "      P1.pcalificacion = (\n",
        "                          SELECT MAX(P2.pcalificacion)\n",
        "                          FROM Peliculas AS P2\n",
        "                         )"
      ],
      "metadata": {
        "id": "vbxzT7tDWSBF"
      },
      "execution_count": null,
      "outputs": []
    },
    {
      "cell_type": "markdown",
      "source": [
        "Aquí la primera parte determina cual actor actua en cual película, y compara la calificación de cada película con la calificación máxima, obtenida con la consulta anidada."
      ],
      "metadata": {
        "id": "GaOAM8XyXWtE"
      }
    },
    {
      "cell_type": "markdown",
      "source": [
        "### Pregunta 3\n",
        "\n",
        "Una consulta puede tener más de una subconsulta anidada. Por ejemplo, si nos interesa el nombre de los actores que actuan en la película `SciFi` mejor calificada, y en la película de la categoría `Mystery` peor calificada, podemos primero computar la película `SciFi` mejor calificada, y la película `Mystery` peor calificada. La mejor película(s) `SciFi` ya computamos arriba. Para la peor película(s) `Mystery` ocuparemos:"
      ],
      "metadata": {
        "id": "MHZy2n2RYOyV"
      }
    },
    {
      "cell_type": "code",
      "source": [
        "%%sql\n",
        "\n",
        "SELECT P1.pnombre\n",
        "FROM Peliculas AS P1\n",
        "WHERE P1.pcategoria = 'Mystery' AND \n",
        "      P1.pcalificacion = (\n",
        "                          SELECT MIN(P2.pcalificacion)\n",
        "                          FROM Peliculas AS P2\n",
        "                          WHERE P2.pcategoria = 'Mystery'\n",
        "                         )"
      ],
      "metadata": {
        "id": "3hy7gLOTYtds"
      },
      "execution_count": null,
      "outputs": []
    },
    {
      "cell_type": "markdown",
      "source": [
        "Ahora estas dos tablas podemos ocupar en la claúsula `WHERE`:"
      ],
      "metadata": {
        "id": "2rUrjb51VN4v"
      }
    },
    {
      "cell_type": "code",
      "source": [
        "%%sql\n",
        "\n",
        "SELECT Actores.anombre\n",
        "FROM Actores, Actuo_En AS AE1, Actuo_En AS AE2\n",
        "WHERE Actores.aid = AE1.aid AND AE1.pid IN (SELECT P1.pid\n",
        "                                            FROM Peliculas AS P1\n",
        "                                            WHERE P1.pcategoria = 'SciFi' AND \n",
        "                                            P1.pcalificacion = (\n",
        "                                                              SELECT MAX(P2.pcalificacion)\n",
        "                                                              FROM Peliculas AS P2\n",
        "                                                              WHERE P2.pcategoria = 'SciFi'\n",
        "                                                              )) AND\n",
        "      Actores.aid = AE2.aid AND AE2.pid IN (\n",
        "                                            SELECT P3.pid\n",
        "                                            FROM Peliculas AS P3\n",
        "                                            WHERE P3.pcategoria = 'Mystery' AND \n",
        "                                            P3.pcalificacion = (\n",
        "                                                              SELECT MIN(P4.pcalificacion)\n",
        "                                                              FROM Peliculas AS P4\n",
        "                                                              WHERE P4.pcategoria = 'Mystery'\n",
        "                                                               ))"
      ],
      "metadata": {
        "id": "mjyYT4WpVz8Z"
      },
      "execution_count": null,
      "outputs": []
    },
    {
      "cell_type": "markdown",
      "source": [
        "Para validar que un actor actua en dos películas, debemos hacer un self-join de la tabla `Actuo_En`. Después, la parte `AE1` valida si el actor actua en la película `SciFi` con la mayor calificación, y la parte `AE2` si el actor actua en la película `Mystery` con la menor calificación."
      ],
      "metadata": {
        "id": "mliO9r-GV5iE"
      }
    },
    {
      "cell_type": "markdown",
      "source": [
        "### Pregunta 4\n",
        "\n",
        "Consideremos de nuevo la tabla `Pelicuas`. Ahora queremos, para cada categoría de la película, listar solo las películas cuya calificación es mayor que el promedia de las calificaciónes de las películas de su genero. Para esto, primero computaremos el promedio de calificaciones por categoría."
      ],
      "metadata": {
        "id": "wQjrjQwvXpG7"
      }
    },
    {
      "cell_type": "code",
      "source": [
        "%%sql\n",
        "\n",
        "SELECT Peliculas.pcategoria, AVG(Peliculas.pcalificacion)\n",
        "FROM Peliculas\n",
        "GROUP BY Peliculas.pcategoria;"
      ],
      "metadata": {
        "id": "bwrxZoHfXw0r"
      },
      "execution_count": null,
      "outputs": []
    },
    {
      "cell_type": "markdown",
      "source": [
        "Ahora ocuparemos una simplifiacion de esta consulta cómo una subconsulta para nuestro resultado final. Lo distinto aquí será que necesitaremos ocupar consultas relacionadas:"
      ],
      "metadata": {
        "id": "IYovjXrsYoUO"
      }
    },
    {
      "cell_type": "code",
      "source": [
        "%%sql\n",
        "\n",
        "SELECT P1.pcategoria, P1.pnombre\n",
        "FROM Peliculas AS P1\n",
        "WHERE P1.pcalificacion >= (\n",
        "                          SELECT AVG(P2.pcalificacion)\n",
        "                          FROM Peliculas AS P2\n",
        "                          WHERE P2.pcategoria = P1.pcategoria\n",
        "                          )\n",
        "ORDER BY P1.pcategoria;"
      ],
      "metadata": {
        "id": "KoTj0k1NY2jZ"
      },
      "execution_count": null,
      "outputs": []
    },
    {
      "cell_type": "markdown",
      "source": [
        "Lo qué ocurre aquí es que al calcular el promedio en la consulta anidada, consideraremos solo las películas de la misma categoría cómo la película `P1` de la consulta exterior. Finalmente, los resultados los entregamos ordenados por categoría de la película."
      ],
      "metadata": {
        "id": "Q1vapMQvSoH6"
      }
    },
    {
      "cell_type": "markdown",
      "source": [
        "### Pregunta 5\n",
        "\n",
        "Considere ahora la consulta que quiere listar todas las películas del actor que actua en la mayor cantidad de películas en nuestra base de datos. Para esto, primero queremos calcular el número de películas por actor:"
      ],
      "metadata": {
        "id": "Q0KSxWxsZsSN"
      }
    },
    {
      "cell_type": "code",
      "source": [
        "%%sql\n",
        "\n",
        "SELECT Actores.anombre, COUNT(DISTINCT actuo_en.pid) AS npeliculas\n",
        "FROM actuo_en, Actores\n",
        "WHERE actuo_en.aid = Actores.aid\n",
        "GROUP BY actuo_en.aid, Actores.anombre"
      ],
      "metadata": {
        "id": "PMrYabwCaIEK"
      },
      "execution_count": null,
      "outputs": []
    },
    {
      "cell_type": "markdown",
      "source": [
        "Para encontrar el máximo, podemos ocupar la siguiente consulta anidada:"
      ],
      "metadata": {
        "id": "CgBKNK9hbfx6"
      }
    },
    {
      "cell_type": "code",
      "source": [
        "%%sql\n",
        "\n",
        "SELECT MAX(ActorPelicula.npeliculas)\n",
        "FROM (\n",
        "    SELECT Actores.anombre, COUNT(DISTINCT actuo_en.pid) AS npeliculas\n",
        "    FROM actuo_en, Actores\n",
        "    WHERE actuo_en.aid = Actores.aid\n",
        "    GROUP BY actuo_en.aid, Actores.anombre\n",
        ") AS ActorPelicula"
      ],
      "metadata": {
        "id": "TGuYzigpbkfZ"
      },
      "execution_count": null,
      "outputs": []
    },
    {
      "cell_type": "markdown",
      "source": [
        "Finalmente, podemos ocupar la siguiente consulta con dos consultas anidadas para recuperar el nombre del actor:"
      ],
      "metadata": {
        "id": "l-Xc7lX8U8UE"
      }
    },
    {
      "cell_type": "code",
      "source": [
        "%%sql\n",
        "\n",
        "SELECT AP1.anombre\n",
        "FROM (\n",
        "    SELECT Actores.anombre, COUNT(DISTINCT actuo_en.pid) AS npeliculas\n",
        "    FROM actuo_en, Actores\n",
        "    WHERE actuo_en.aid = Actores.aid\n",
        "    GROUP BY actuo_en.aid, Actores.anombre\n",
        ") AS AP1\n",
        "WHERE AP1.npeliculas = (\n",
        "                        SELECT MAX(AP2.npeliculas)\n",
        "                        FROM (\n",
        "                              SELECT Actores.anombre, COUNT(DISTINCT actuo_en.pid) AS npeliculas\n",
        "                              FROM actuo_en, Actores\n",
        "                              WHERE actuo_en.aid = Actores.aid\n",
        "                              GROUP BY actuo_en.aid, Actores.anombre\n",
        "                              ) AS AP2\n",
        "                        )"
      ],
      "metadata": {
        "id": "DnoWO__FVGvz"
      },
      "execution_count": null,
      "outputs": []
    },
    {
      "cell_type": "markdown",
      "source": [
        "Aquí la primera consulta anidada, llamada `AP1`, contiene la información de número de películas por actor. Después la segunda consulta anidada, `AP2`, revisa que el número de películas de `AP1` es igual a máximo número de películas.\n",
        "\n",
        "Noten que no es suficiente solo ordenar los resultados de `AP1` y quedanos con la primera fila, dado que pueden existir dos o más actores con el mismo máximo número de películas. Para ilustrar esto, si cambiamos la consulta, y queremos devolver los nombres de los actores con más películas que el promedio de películas por actor, ahora tenemos:"
      ],
      "metadata": {
        "id": "aLCMO6NnV-If"
      }
    },
    {
      "cell_type": "code",
      "source": [
        "%%sql\n",
        "\n",
        "SELECT AP1.anombre\n",
        "FROM (\n",
        "    SELECT Actores.anombre, COUNT(DISTINCT actuo_en.pid) AS npeliculas\n",
        "    FROM actuo_en, Actores\n",
        "    WHERE actuo_en.aid = Actores.aid\n",
        "    GROUP BY actuo_en.aid, Actores.anombre\n",
        ") AS AP1\n",
        "WHERE AP1.npeliculas >= (\n",
        "                        SELECT AVG(AP2.npeliculas)\n",
        "                        FROM (\n",
        "                              SELECT Actores.anombre, COUNT(DISTINCT actuo_en.pid) AS npeliculas\n",
        "                              FROM actuo_en, Actores\n",
        "                              WHERE actuo_en.aid = Actores.aid\n",
        "                              GROUP BY actuo_en.aid, Actores.anombre\n",
        "                              ) AS AP2\n",
        "                        )"
      ],
      "metadata": {
        "id": "yjXEn7mcWnnc"
      },
      "execution_count": null,
      "outputs": []
    },
    {
      "cell_type": "markdown",
      "source": [
        "### Resumen\n",
        "\n",
        "En este tutorial aprendimos cómo analizar una base de datos de películas ocupando consultas anidadas, combinandolas con otras funcionalidades de SQL aprendidas a lo largo del curso."
      ],
      "metadata": {
        "id": "mm79BNVrL4hc"
      }
    }
  ],
  "metadata": {
    "kernelspec": {
      "display_name": "Python 3",
      "language": "python",
      "name": "python3"
    },
    "language_info": {
      "codemirror_mode": {
        "name": "ipython",
        "version": 3
      },
      "file_extension": ".py",
      "mimetype": "text/x-python",
      "name": "python",
      "nbconvert_exporter": "python",
      "pygments_lexer": "ipython3",
      "version": "3.8.10"
    },
    "colab": {
      "name": "Copia de T7.ipynb",
      "provenance": [],
      "toc_visible": true,
      "collapsed_sections": []
    }
  },
  "nbformat": 4,
  "nbformat_minor": 0
}
