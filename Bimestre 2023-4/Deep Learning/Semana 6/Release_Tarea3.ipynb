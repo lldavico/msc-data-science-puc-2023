{
  "cells": [
    {
      "cell_type": "markdown",
      "metadata": {
        "id": "0UiRuYzXClkp"
      },
      "source": [
        "**Tarea: Exploración y Construcción de una Red Neuronal Convolucional**\n",
        "\n",
        "**Objetivo:** Esta tarea tiene como objetivo principal familiarizarlos con el manejo y análisis de datos en un contexto de aprendizaje profundo, específicamente utilizando redes neuronales convolucionales (CNN). Además, se enfoca en el desarrollo de habilidades críticas para identificar y solucionar problemas en la arquitectura de una red neuronal.\n",
        "\n",
        "**Pasos a Seguir:**\n",
        "\n",
        "1. **Análisis Preliminar de los Datos:**\n",
        "   - **Identificación de Clases**: Investiguen cuántas clases diferentes están presentes en el conjunto de datos, será necesario para poder construir la arquitectura de la red.\n",
        "\n",
        "   - **Balance de Datos**: Determinen si los datos están balanceados entre estas clases. ¿Hay una cantidad similar de ejemplos para cada clase?\n",
        "   ¿Tienen el mismo tamaño todas las imagens?\n",
        "\n",
        "   - **Exploración de Canales de Color**: Examinen los canales de color de las imágenes. ¿Están en RGB, escala de grises, o algún otro formato?\n",
        "\n",
        "2. **Revisión y Corrección del Código:**\n",
        "   - **Lectura Detenida del Código**: Dediquen tiempo a leer cuidadosamente el código proporcionado. Noten que hay partes incompletas o errores que deberán ser capazes de identificar.\n",
        "\n",
        "   - **Implementación de Soluciones**: Basándose en los comentarios y en su comprensión del problema, completarán las partes faltantes del código.\n",
        "\n",
        "3. **Tareas Específicas en la Arquitectura de la Red:**\n",
        "   - **Mantenimiento de la Arquitectura Base**: La evaluación se centrará en si son capaces de completar correctamente la arquitectura de la red comparada con la solución.\n",
        "   - **Ajuste de la Arquitectura**: Aunque no necesitarán manejar hiperparámetros de entrenamiento, sí deberán ajustar aspectos de la arquitectura de la red. Esto incluye calcular las dimensiones correctas en las diferentes capas para asegurarse de que la red esté bien configurada.\n",
        "\n",
        "   - **Identificación de Transformaciones de Datos**: Tendrán que indentificar tres transformaciones que se deben aplicar a los datos para que el modelo funcione correctamente. Estas transformaciones pueden estar relacionadas con el preprocesamiento o la mejora de los datos.\n",
        "\n",
        "**Evaluación:**\n",
        "\n",
        "La evaluación se basará en la correcta implementación de la arquitectura de la red, la adecuada identificación y solución de los errores en el código, y la implementación efectiva de las transformaciones de datos necesarias."
      ]
    },
    {
      "cell_type": "code",
      "execution_count": 1,
      "metadata": {
        "id": "JT_MrBiE7X_M"
      },
      "outputs": [],
      "source": [
        "import os\n",
        "import torch\n",
        "from torchvision import datasets, transforms\n",
        "from torch.utils.data import DataLoader, random_split\n"
      ]
    },
    {
      "attachments": {},
      "cell_type": "markdown",
      "metadata": {
        "id": "V4FbPtdm8fM2"
      },
      "source": [
        "Si vamos trabajar con imagens blanco y negro, y que además de esto tienen distintos tamaños, es importante hacer cierto procesamiento de imagens antes de transformar en vectores y pasar a la red.\n",
        "\n",
        "\n",
        "\n",
        "hint 1:  Si las imagens son de tamaños distintos, podrá la red procesarla? Que debemos hacer? (100, 100) funcionará bien, usenló como tamaño!!\n",
        "\n",
        "hint 2: transforms.Grayscale les puede servir\n",
        "\n",
        "hint 3: $ 𝚽(mu,sigma) $\n",
        "\n",
        "el orden importa"
      ]
    },
    {
      "attachments": {},
      "cell_type": "markdown",
      "metadata": {},
      "source": [
        "#### Calculamos el total de clases, mu y sigma"
      ]
    },
    {
      "cell_type": "code",
      "execution_count": 2,
      "metadata": {},
      "outputs": [
        {
          "name": "stdout",
          "output_type": "stream",
          "text": [
            "Total imagenes: 10071\n",
            "Clases: {0, 1, 2, 3, 4, 5, 6, 7, 8, 9, 10, 11, 12, 13, 14, 15, 16, 17, 18}\n",
            "19\n",
            "mu: 0.999 | sigma: 0.0293\n"
          ]
        }
      ],
      "source": [
        "import numpy as np\n",
        "\n",
        "transform_grayscale = transforms.Compose([\n",
        "    transforms.Resize(size=(100, 100)),\n",
        "    transforms.Grayscale(num_output_channels=1),\n",
        "    transforms.ToTensor(),\n",
        "])\n",
        "\n",
        "dataset = datasets.ImageFolder(root='dataset_digits', transform=transform_grayscale)\n",
        "total_images = len(dataset)\n",
        "print('Total imagenes:', total_images)\n",
        "\n",
        "classes = set()\n",
        "pixels_ = list()\n",
        "for pixels, label in dataset:\n",
        "    classes = classes.union({label})\n",
        "    list_pixels = pixels[0][0].tolist()\n",
        "    pixels_ += list_pixels\n",
        "\n",
        "# Clases\n",
        "print('Clases:', classes)\n",
        "print(len(classes))\n",
        "\n",
        "# mu y sigma\n",
        "mu = np.round(np.mean(pixels_), 4)\n",
        "sigma = np.round(np.std(pixels_), 4)\n",
        "\n",
        "print(f'mu: {mu} | sigma: {sigma}')"
      ]
    },
    {
      "cell_type": "code",
      "execution_count": 3,
      "metadata": {},
      "outputs": [],
      "source": [
        "def load_and_split_dataset(data_dir, batch_size=128, train_split=0.8):\n",
        "\n",
        "    transform = transforms.Compose([\n",
        "        \n",
        "        #Que transformaciones faltan acá? 2 arriba de transforms.ToTensor()\n",
        "        transforms.Resize(size=(100, 100)), # se transforma la imagen a 100x100\n",
        "        transforms.Grayscale(num_output_channels=1), # se transforma a blancos y negros\n",
        "        transforms.ToTensor(),\n",
        "        # La faltante justo abajo\n",
        "        # your code here\n",
        "        transforms.Normalize(mean=[mu], std=[sigma])\n",
        "    ])\n",
        "\n",
        "    dataset = datasets.ImageFolder(root=data_dir, transform=transform)\n",
        "\n",
        "    train_size = int(train_split * len(dataset))\n",
        "    test_size = len(dataset) - train_size\n",
        "    train_dataset, test_dataset= random_split(dataset, [train_size, test_size])\n",
        "\n",
        "    train_loader = DataLoader(train_dataset, batch_size=batch_size, shuffle=True)\n",
        "    test_loader = DataLoader(test_dataset, batch_size=batch_size, shuffle=False)\n",
        "\n",
        "    return train_loader, test_loader, transform"
      ]
    },
    {
      "cell_type": "code",
      "execution_count": 4,
      "metadata": {
        "id": "PqDcDlH1B6HB"
      },
      "outputs": [],
      "source": [
        "data_dir = 'dataset_digits'  # Replace with your dataset's path\n",
        "train_loader, test_loader, transform = load_and_split_dataset(data_dir)\n"
      ]
    },
    {
      "cell_type": "markdown",
      "metadata": {
        "id": "AvblLlKS3wYO"
      },
      "source": [
        "Para calcular la dimensión de salida de una capa convolucional en una red neuronal, puedes usar la siguiente fórmula:\n",
        "\n",
        "$ \\text{Dimensión de salida} = \\left\\lfloor \\frac{\\text{Dimensión de entrada} - \\text{Kernel} + 2 \\times \\text{Padding}}{\\text{Stride}} \\right\\rfloor + 1 $\n",
        "\n",
        "Donde:\n",
        "- **Dimensión de entrada** es el tamaño (ancho o alto) de la imagen o mapa de características de entrada.\n",
        "- **Kernel** es el tamaño del kernel (o filtro) que estás utilizando.\n",
        "- **Stride** es el paso con el que se mueve el filtro sobre la imagen.\n",
        "- **Padding** es la cantidad de relleno que se añade alrededor de la entrada.\n",
        "- **Output Channel** es la cantidad de filtros que vamos crear.\n",
        "\n",
        "Esta fórmula se aplica tanto para el ancho como para el alto de la imagen o mapa de características de entrada, suponiendo que el stride y el padding son iguales en ambas dimensiones.\n",
        "\n",
        "Por ejemplo, si tienes una entrada de 32x32 (ancho x alto), un kernel de tamaño 3, un stride de 1 y un padding de 0, la dimensión de salida sería:\n",
        "\n",
        "$ \\text{Dimensión de salida} = \\left\\lfloor \\frac{32 - 3 + 2 \\times 0}{1} \\right\\rfloor + 1 = 30 $\n",
        "\n",
        "Así que obtendrías una salida de 30x30xOutput Channel.\n",
        "\n",
        "\n",
        "Recuerda que esta fórmula asume que estás trabajando con imágenes cuadradas y que el stride y el padding son iguales en ambas dimensiones. En casos más complejos, tendrías que aplicar la fórmula por separado para cada dimensión.\n",
        "\n",
        "Lo mismo será valido para el Max Pooling, pero acá debemos usar\n",
        "$ \\text{Dimensión de salida} = \\left\\lfloor \\frac{inputSize - kernel }{stride} \\right\\rfloor +1 $\n",
        "\n",
        "Así que por ejemplo, si tenemos que la salida anterior es 30x30, kernel = 2, stride = 2\n",
        "\n",
        "$ \\text{Dimensión de salida} = \\left\\lfloor \\frac{30 - 2 }{2} \\right\\rfloor +1 = 15$ como para nuestro caso la imagen tiene dimensiones cuadradas 15x15xOutput Channel esto seria la dimensión de salida.\n",
        "\n",
        " .\n",
        "\n",
        "Así que por ejemplo:\n",
        "\n",
        "Sea el vector de entrada con 10x10 (ancho x alto) y 3 canales de color,\n",
        "si tenemos una convolución que retorna 6 filtros, con tamaño de kernel =3x3, stride=1, padding =0\n",
        "\n",
        "$ \\text{Dimensión de salida} = \\left\\lfloor \\frac{10 - 3 + 2 \\times 0}{1} \\right\\rfloor + 1 = 8 $ dimensión total = 8 x 8 x 6\n",
        "\n",
        "si aplicamos un Max pooling de kernel=2, stride=2\n",
        "\n",
        "$ \\text{Dimensión de salida} = \\left\\lfloor \\frac{8 - 2 }{2} \\right\\rfloor +1 = 4$ dimensión total = 4 x 4 x 6\n",
        "\n",
        "\n",
        "Esto nos va servir para calcular correctamente la dimensión de la capa feedfoward, que debe ser igual a la dimensión de salida de la última capa convolucional."
      ]
    },
    {
      "attachments": {},
      "cell_type": "markdown",
      "metadata": {},
      "source": [
        "# EDITAR CELULA ABAJO, SOLAMENTE DONDE HAY COMENTARIOS, SEA YOUR CODE HERE o cualquier otro, LINEA 12, 20 ETC..."
      ]
    },
    {
      "cell_type": "code",
      "execution_count": 5,
      "metadata": {
        "id": "SxxRNEda66nL"
      },
      "outputs": [],
      "source": [
        "import torch\n",
        "import torch.nn as nn\n",
        "\n",
        "class AlexNetModified(nn.Module):\n",
        "    def __init__(self, num_classes: int = 1000, dropout: float = 0.5) -> None:\n",
        "        super().__init__()\n",
        "\n",
        "        self.num_classes = num_classes\n",
        "        \n",
        "        in_channels, out_channels, kernel_size, stride, padding = [3, 32, 9, 3, 2]\n",
        "        #Cambiar valor necesario, puede reemplazar directamente de la lista\n",
        "        # Esto es para corrigir el valor de la primera Conv2d\n",
        "        \n",
        "        # your code here\n",
        "        in_channels = 1\n",
        "        self.features = nn.Sequential(\n",
        "\n",
        "            # Existe um erro no primero bloque convolucional, imagens blanco y negro tienen la misma cantidad de canales que una imagen rgb?\n",
        "\n",
        "            \n",
        "            nn.Conv2d(in_channels=in_channels, \n",
        "                      out_channels=out_channels,\n",
        "                      kernel_size=kernel_size, \n",
        "                      stride=stride, padding=padding), # 32 x 32 x out_channels=32\n",
        "            \n",
        "            nn.ReLU(inplace=True),\n",
        "            nn.MaxPool2d(kernel_size=3, stride=2), # 15 x 15 x out_channels=32\n",
        "\n",
        "            nn.Conv2d(in_channels=32, out_channels=96, kernel_size=5, padding=2), # 15 x 15 x out_channels=96\n",
        "            nn.ReLU(inplace=True),\n",
        "            nn.MaxPool2d(kernel_size=3, stride=2), # 7 x 7 x out_channels=96\n",
        "            \n",
        "            # Acá falta una capa convolucional con kernel_size=3, padding=1, in_channels=?, out_channels=?\n",
        "            # your code here\n",
        "            nn.Conv2d(in_channels=96, out_channels=192, kernel_size=3, padding=1), # 7 x 7 x out_channels=192\n",
        "            nn.ReLU(inplace=True),\n",
        "            \n",
        "            nn.Conv2d(in_channels=192, out_channels=128, kernel_size=3, padding=1), # 7 x 7 x out_channels=128\n",
        "            nn.ReLU(inplace=True),\n",
        "            nn.Conv2d(in_channels=128, out_channels=128, kernel_size=3, padding=1), # 7 x 7 x out_channels=128\n",
        "            nn.ReLU(inplace=True),\n",
        "\n",
        "        )\n",
        "        \n",
        "        \n",
        "        dimension_capa_fully_connected = 7 * 7 * 128\n",
        "        #Deben cambiar el valor de arriba para que funcione la función de abajo\n",
        "        # your code here\n",
        "        self.classifier = nn.Sequential(\n",
        "            nn.Dropout(p=dropout),\n",
        "            # Que valor deveria venir en dimension_capa_fully_connected?\n",
        "            \n",
        "           \n",
        "            nn.Linear(dimension_capa_fully_connected, int(512)),\n",
        "\n",
        "            # Ahora es necesario activar nuestra nn.Linear,\n",
        "            # agregar dropout,\n",
        "            # agregar outra fully connected con valores de entrada 512, y 512 de salida\n",
        "            # aplicar otra ReLU a la capa creada, y por fin una capa fully connected(Linear) para predicir las clases\n",
        "            # your code here\n",
        "            nn.Dropout2d(p=dropout),\n",
        "            nn.Linear(512, 512),\n",
        "            nn.ReLU(inplace=True),\n",
        "            nn.Linear(512, num_classes)\n",
        "\n",
        "        )\n",
        "\n",
        "    def forward(self, x: torch.Tensor) -> torch.Tensor:\n",
        "        x = self.features(x)\n",
        "        x = torch.flatten(x, 1)\n",
        "        x = self.classifier(x)\n",
        "        return x\n",
        "\n"
      ]
    },
    {
      "cell_type": "markdown",
      "metadata": {},
      "source": [
        "# Si el código abajo funciona, provavelmente lograrón el 7."
      ]
    },
    {
      "cell_type": "code",
      "execution_count": 6,
      "metadata": {
        "id": "-Q_4EwMMbwnr"
      },
      "outputs": [],
      "source": [
        "import torch\n",
        "\n",
        "def train_model(model, train_loader, valid_loader, criterion, optimizer, num_epochs=5):\n",
        "    #device = torch.device(\"cuda\" if torch.cuda.is_available() else \"cpu\")\n",
        "    device = torch.device('mps')\n",
        "    model.to(device)\n",
        "\n",
        "    for epoch in range(num_epochs):\n",
        "        # Training Phase\n",
        "        model.train()\n",
        "        total_train_loss = 0\n",
        "        for inputs, labels in train_loader:\n",
        "            inputs, labels = inputs.to(device), labels.to(device)\n",
        "\n",
        "            # Zero the parameter gradients\n",
        "            optimizer.zero_grad()\n",
        "            # Forward\n",
        "            outputs = model(inputs)\n",
        "            loss = criterion(outputs, labels)\n",
        "            loss.backward()\n",
        "            optimizer.step()\n",
        "            total_train_loss += loss.item()\n",
        "\n",
        "        avg_train_loss = total_train_loss / len(train_loader)\n",
        "\n",
        "        # Validation Phase\n",
        "        model.eval()\n",
        "        total_valid_loss = 0\n",
        "        with torch.no_grad():\n",
        "            for inputs, labels in valid_loader:\n",
        "                inputs, labels = inputs.to(device), labels.to(device)\n",
        "\n",
        "                outputs = model(inputs)\n",
        "                loss = criterion(outputs, labels)\n",
        "                total_valid_loss += loss.item()\n",
        "\n",
        "        avg_valid_loss = total_valid_loss / len(valid_loader)\n",
        "\n",
        "        print(f'Epoch {epoch+1}/{num_epochs}, Train Loss: {avg_train_loss:.4f}, Validation Loss: {avg_valid_loss:.4f}')\n",
        "\n",
        "    return model\n"
      ]
    },
    {
      "cell_type": "code",
      "execution_count": 7,
      "metadata": {
        "colab": {
          "base_uri": "https://localhost:8080/"
        },
        "id": "XY2cG74WcLAI",
        "outputId": "cd2c670c-c321-4f3c-9fe6-460176323f94"
      },
      "outputs": [
        {
          "name": "stderr",
          "output_type": "stream",
          "text": [
            "/opt/homebrew/lib/python3.11/site-packages/torch/nn/functional.py:1345: UserWarning: dropout2d: Received a 2-D input to dropout2d, which is deprecated and will result in an error in a future release. To retain the behavior and silence this warning, please use dropout instead. Note that dropout2d exists to provide channel-wise dropout on inputs with 2 spatial dimensions, a channel dimension, and an optional batch dimension (i.e. 3D or 4D inputs).\n",
            "  warnings.warn(warn_msg)\n"
          ]
        },
        {
          "name": "stdout",
          "output_type": "stream",
          "text": [
            "Epoch 1/5, Train Loss: 3.0582, Validation Loss: 1.3369\n",
            "Epoch 2/5, Train Loss: 0.8862, Validation Loss: 0.3424\n",
            "Epoch 3/5, Train Loss: 0.4045, Validation Loss: 0.2502\n",
            "Epoch 4/5, Train Loss: 0.2188, Validation Loss: 0.2284\n",
            "Epoch 5/5, Train Loss: 0.1651, Validation Loss: 0.1166\n"
          ]
        }
      ],
      "source": [
        "\n",
        "#model = AlexNetModified(num_classes=19)\n",
        "model = AlexNetModified()\n",
        "criterion = nn.CrossEntropyLoss()\n",
        "optimizer = torch.optim.Adam(model.parameters(), lr=0.001)\n",
        "\n",
        "trained_model = train_model(model, train_loader, test_loader, criterion, optimizer, num_epochs=5)\n"
      ]
    },
    {
      "cell_type": "code",
      "execution_count": 8,
      "metadata": {
        "id": "52qx87IeuZJu"
      },
      "outputs": [],
      "source": [
        "import torch\n",
        "from sklearn.metrics import accuracy_score, precision_recall_fscore_support\n",
        "from torchvision import datasets, transforms\n",
        "import matplotlib.pyplot as plt\n",
        "\n",
        "\n",
        "def predict_and_evaluate(model, data_loader, device):\n",
        "    model.eval()\n",
        "    predictions, labels = [], []\n",
        "\n",
        "    with torch.no_grad():\n",
        "        for inputs, true_labels in data_loader:\n",
        "            inputs = inputs.to(device)\n",
        "            true_labels = true_labels.to(device)\n",
        "\n",
        "            outputs = model(inputs)\n",
        "            _, predicted = torch.max(outputs, 1)\n",
        "\n",
        "            predictions.extend(predicted.view(-1).cpu().numpy())\n",
        "            labels.extend(true_labels.view(-1).cpu().numpy())\n",
        "\n",
        "    # Calculate metrics\n",
        "    accuracy = accuracy_score(labels, predictions)\n",
        "    precision, recall, f1, _ = precision_recall_fscore_support(labels, predictions, average='weighted')\n",
        "\n",
        "    return predictions, labels, accuracy, precision, recall, f1\n"
      ]
    },
    {
      "cell_type": "code",
      "execution_count": 9,
      "metadata": {
        "colab": {
          "base_uri": "https://localhost:8080/"
        },
        "id": "QWjdlFjIufk9",
        "outputId": "28d5502e-b1f7-4062-d1fb-9224c87e09b5"
      },
      "outputs": [
        {
          "name": "stderr",
          "output_type": "stream",
          "text": [
            "/opt/homebrew/lib/python3.11/site-packages/torch/nn/functional.py:1345: UserWarning: dropout2d: Received a 2-D input to dropout2d, which is deprecated and will result in an error in a future release. To retain the behavior and silence this warning, please use dropout instead. Note that dropout2d exists to provide channel-wise dropout on inputs with 2 spatial dimensions, a channel dimension, and an optional batch dimension (i.e. 3D or 4D inputs).\n",
            "  warnings.warn(warn_msg)\n"
          ]
        },
        {
          "name": "stdout",
          "output_type": "stream",
          "text": [
            "Accuracy for real model: 0.9663, Precision: 0.9669, Recall: 0.9663, F1-Score: 0.9662\n"
          ]
        }
      ],
      "source": [
        "#device = torch.device(\"cuda\" if torch.cuda.is_available() else \"cpu\")\n",
        "device = torch.device('mps')\n",
        "model = trained_model.to(device)  # Your trained model\n",
        "\n",
        "# Get predictions and metrics\n",
        "predictions, labels, accuracy, precision, recall, f1 = predict_and_evaluate(model, test_loader, device)\n",
        "# Print metrics\n",
        "print(f'Accuracy for real model: {accuracy:.4f}, Precision: {precision:.4f}, Recall: {recall:.4f}, F1-Score: {f1:.4f}')\n",
        "\n"
      ]
    },
    {
      "cell_type": "code",
      "execution_count": 10,
      "metadata": {
        "colab": {
          "base_uri": "https://localhost:8080/",
          "height": 158
        },
        "id": "xOLLR4aTukds",
        "outputId": "1bbbf1b9-f7c2-4761-bef7-7d23dd1dfab5"
      },
      "outputs": [
        {
          "data": {
            "image/png": "[encoded data removed]",
            "text/plain": [
              "<Figure size 1200x800 with 10 Axes>"
            ]
          },
          "metadata": {},
          "output_type": "display_data"
        }
      ],
      "source": [
        "def show_predictions(data_loader, predictions, labels, class_names, num_images=10):\n",
        "    plt.figure(figsize=(12, 8))\n",
        "\n",
        "    for i in range(num_images):\n",
        "        inputs, _ = next(iter(data_loader))\n",
        "        plt.subplot(1, num_images, i + 1)\n",
        "        plt.imshow(inputs[i][0], cmap='gray')  # assuming grayscale images\n",
        "        plt.title(f'Pred: {class_names[predictions[i]]}\\nTrue: {class_names[labels[i]]}')\n",
        "        plt.axis('off')\n",
        "\n",
        "    plt.show()\n",
        "\n",
        "# Assuming you have a list of class names\n",
        "class_names = ['0', '1', '2', '3', '4', '5', '6', '7','8', '9', 'add', 'dec', 'dv', 'eq', 'mul', 'sub', 'x', 'y', 'z']\n",
        "\n",
        "# Display some predictions\n",
        "show_predictions(test_loader, predictions, labels, class_names)\n"
      ]
    },
    {
      "cell_type": "code",
      "execution_count": null,
      "metadata": {},
      "outputs": [],
      "source": []
    }
  ],
  "metadata": {
    "accelerator": "GPU",
    "colab": {
      "gpuType": "V100",
      "machine_shape": "hm",
      "provenance": []
    },
    "kernelspec": {
      "display_name": "Python 3",
      "language": "python",
      "name": "python3"
    },
    "language_info": {
      "codemirror_mode": {
        "name": "ipython",
        "version": 3
      },
      "file_extension": ".py",
      "mimetype": "text/x-python",
      "name": "python",
      "nbconvert_exporter": "python",
      "pygments_lexer": "ipython3",
      "version": "3.11.3"
    },
    "vscode": {
      "interpreter": {
        "hash": "573546c1eada8c60b27f5300df4435af9ba2007194c80719d45c24c6ea4a493c"
      }
    }
  },
  "nbformat": 4,
  "nbformat_minor": 0
}
