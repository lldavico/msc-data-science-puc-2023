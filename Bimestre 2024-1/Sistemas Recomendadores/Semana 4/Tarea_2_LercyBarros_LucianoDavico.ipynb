{
  "cells": [
    {
      "cell_type": "markdown",
      "metadata": {
        "id": "mACJbcW8T35p"
      },
      "source": [
        "\n",
        "\n",
        "**Profesor**: Denis Parra\n",
        "\n",
        "**Ayudante**: Álvaro Labarca.\n"
      ]
    },
    {
      "cell_type": "markdown",
      "metadata": {
        "id": "NC-ceGb8LRLT"
      },
      "source": [
        "# Tarea 2 - MAN3160"
      ]
    },
    {
      "cell_type": "markdown",
      "metadata": {
        "id": "lcqqkI9yZ2tL"
      },
      "source": [
        "En esta tarea, utilizaremos la librería Implicit vista en los tutoriales del curso para comparar el rendimiento de los modelos ALS y BPR.\n",
        "Para realizar la tarea, deberán leer y ejecutar todas las celdas del notebook y completar/responder las actividades que serán dadas."
      ]
    },
    {
      "cell_type": "markdown",
      "metadata": {
        "id": "eK1mH52g8mza"
      },
      "source": [
        "## Descarga del dataset"
      ]
    },
    {
      "cell_type": "markdown",
      "metadata": {
        "id": "GSEH7nJw6ecN"
      },
      "source": [
        "Al igual que en la tarea 1 y los tutoriales del curso, vamos a descargar el dataset [MovieLens-100k](https://grouplens.org/).\n",
        "\n",
        "Podemos descargar el dataset directamente con el comando wget."
      ]
    },
    {
      "cell_type": "code",
      "execution_count": null,
      "metadata": {
        "colab": {
          "base_uri": "https://localhost:8080/"
        },
        "id": "mPCUqeZNb2-D",
        "outputId": "d7692e18-a20b-49fe-e7fc-45287b80df30"
      },
      "outputs": [
        {
          "name": "stdout",
          "output_type": "stream",
          "text": [
            "Collecting wget\n",
            "  Downloading wget-3.2.zip (10 kB)\n",
            "  Preparing metadata (setup.py) ... \u001b[?25l\u001b[?25hdone\n",
            "Building wheels for collected packages: wget\n",
            "  Building wheel for wget (setup.py) ... \u001b[?25l\u001b[?25hdone\n",
            "  Created wheel for wget: filename=wget-3.2-py3-none-any.whl size=9656 sha256=456159c511dd42b16cc172e691d2eee82e0a5f5ebc230c9ee06e4cbc2d7d4630\n",
            "  Stored in directory: /root/.cache/pip/wheels/8b/f1/7f/5c94f0a7a505ca1c81cd1d9208ae2064675d97582078e6c769\n",
            "Successfully built wget\n",
            "Installing collected packages: wget\n",
            "Successfully installed wget-3.2\n",
            "Collecting zipfile36\n",
            "  Downloading zipfile36-0.1.3-py3-none-any.whl (20 kB)\n",
            "Installing collected packages: zipfile36\n",
            "Successfully installed zipfile36-0.1.3\n",
            "Collecting implicit\n",
            "  Downloading implicit-0.7.2-cp310-cp310-manylinux2014_x86_64.whl (8.9 MB)\n",
            "\u001b[2K     \u001b[90m━━━━━━━━━━━━━━━━━━━━━━━━━━━━━━━━━━━━━━━━\u001b[0m \u001b[32m8.9/8.9 MB\u001b[0m \u001b[31m53.0 MB/s\u001b[0m eta \u001b[36m0:00:00\u001b[0m\n",
            "\u001b[?25hRequirement already satisfied: numpy>=1.17.0 in /usr/local/lib/python3.10/dist-packages (from implicit) (1.25.2)\n",
            "Requirement already satisfied: scipy>=0.16 in /usr/local/lib/python3.10/dist-packages (from implicit) (1.11.4)\n",
            "Requirement already satisfied: tqdm>=4.27 in /usr/local/lib/python3.10/dist-packages (from implicit) (4.66.2)\n",
            "Requirement already satisfied: threadpoolctl in /usr/local/lib/python3.10/dist-packages (from implicit) (3.4.0)\n",
            "Installing collected packages: implicit\n",
            "Successfully installed implicit-0.7.2\n",
            "\n",
            "Saved under ml-100k.zip\n"
          ]
        }
      ],
      "source": [
        "!pip install wget\n",
        "!pip install zipfile36\n",
        "!pip3 install implicit --upgrade\n",
        "!python -m wget http://files.grouplens.org/datasets/movielens/ml-100k.zip"
      ]
    },
    {
      "cell_type": "code",
      "execution_count": 1,
      "metadata": {
        "id": "QsyZ8MVI8mzf"
      },
      "outputs": [],
      "source": [
        "import zipfile\n",
        "with zipfile.ZipFile(\"ml-100k.zip\", 'r') as zip_ref:\n",
        "    zip_ref.extractall(\".\")"
      ]
    },
    {
      "cell_type": "code",
      "execution_count": 2,
      "metadata": {
        "id": "OilHJBsw8mzg"
      },
      "outputs": [],
      "source": [
        "import pandas as pd\n",
        "import matplotlib.pyplot as plt\n",
        "import zipfile\n",
        "import numpy as np\n",
        "import implicit\n",
        "import scipy.sparse as sparse\n",
        "import time"
      ]
    },
    {
      "cell_type": "code",
      "execution_count": 3,
      "metadata": {
        "id": "ZjGe47htbMmF"
      },
      "outputs": [],
      "source": [
        "train_dir = \"ml-100k/u3.base\"\n",
        "test_dir = \"ml-100k/u3.test\""
      ]
    },
    {
      "cell_type": "code",
      "execution_count": 4,
      "metadata": {
        "colab": {
          "base_uri": "https://localhost:8080/",
          "height": 395
        },
        "id": "10N9GHcw5AeV",
        "outputId": "d47bb4cb-3e7a-4deb-b319-db4b77253324"
      },
      "outputs": [
        {
          "data": {
            "text/html": [
              "<div>\n",
              "<style scoped>\n",
              "    .dataframe tbody tr th:only-of-type {\n",
              "        vertical-align: middle;\n",
              "    }\n",
              "\n",
              "    .dataframe tbody tr th {\n",
              "        vertical-align: top;\n",
              "    }\n",
              "\n",
              "    .dataframe thead th {\n",
              "        text-align: right;\n",
              "    }\n",
              "</style>\n",
              "<table border=\"1\" class=\"dataframe\">\n",
              "  <thead>\n",
              "    <tr style=\"text-align: right;\">\n",
              "      <th></th>\n",
              "      <th>userid</th>\n",
              "      <th>itemid</th>\n",
              "      <th>rating</th>\n",
              "      <th>timestamp</th>\n",
              "    </tr>\n",
              "  </thead>\n",
              "  <tbody>\n",
              "    <tr>\n",
              "      <th>0</th>\n",
              "      <td>1</td>\n",
              "      <td>1</td>\n",
              "      <td>5</td>\n",
              "      <td>874965758</td>\n",
              "    </tr>\n",
              "    <tr>\n",
              "      <th>1</th>\n",
              "      <td>1</td>\n",
              "      <td>2</td>\n",
              "      <td>3</td>\n",
              "      <td>876893171</td>\n",
              "    </tr>\n",
              "    <tr>\n",
              "      <th>2</th>\n",
              "      <td>1</td>\n",
              "      <td>3</td>\n",
              "      <td>4</td>\n",
              "      <td>878542960</td>\n",
              "    </tr>\n",
              "    <tr>\n",
              "      <th>3</th>\n",
              "      <td>1</td>\n",
              "      <td>4</td>\n",
              "      <td>3</td>\n",
              "      <td>876893119</td>\n",
              "    </tr>\n",
              "    <tr>\n",
              "      <th>4</th>\n",
              "      <td>1</td>\n",
              "      <td>6</td>\n",
              "      <td>5</td>\n",
              "      <td>887431973</td>\n",
              "    </tr>\n",
              "  </tbody>\n",
              "</table>\n",
              "</div>"
            ],
            "text/plain": [
              "   userid  itemid  rating  timestamp\n",
              "0       1       1       5  874965758\n",
              "1       1       2       3  876893171\n",
              "2       1       3       4  878542960\n",
              "3       1       4       3  876893119\n",
              "4       1       6       5  887431973"
            ]
          },
          "metadata": {},
          "output_type": "display_data"
        },
        {
          "data": {
            "text/html": [
              "<div>\n",
              "<style scoped>\n",
              "    .dataframe tbody tr th:only-of-type {\n",
              "        vertical-align: middle;\n",
              "    }\n",
              "\n",
              "    .dataframe tbody tr th {\n",
              "        vertical-align: top;\n",
              "    }\n",
              "\n",
              "    .dataframe thead th {\n",
              "        text-align: right;\n",
              "    }\n",
              "</style>\n",
              "<table border=\"1\" class=\"dataframe\">\n",
              "  <thead>\n",
              "    <tr style=\"text-align: right;\">\n",
              "      <th></th>\n",
              "      <th>userid</th>\n",
              "      <th>itemid</th>\n",
              "      <th>rating</th>\n",
              "      <th>timestamp</th>\n",
              "    </tr>\n",
              "  </thead>\n",
              "  <tbody>\n",
              "    <tr>\n",
              "      <th>0</th>\n",
              "      <td>1</td>\n",
              "      <td>5</td>\n",
              "      <td>3</td>\n",
              "      <td>889751712</td>\n",
              "    </tr>\n",
              "    <tr>\n",
              "      <th>1</th>\n",
              "      <td>1</td>\n",
              "      <td>11</td>\n",
              "      <td>2</td>\n",
              "      <td>875072262</td>\n",
              "    </tr>\n",
              "    <tr>\n",
              "      <th>2</th>\n",
              "      <td>1</td>\n",
              "      <td>16</td>\n",
              "      <td>5</td>\n",
              "      <td>878543541</td>\n",
              "    </tr>\n",
              "    <tr>\n",
              "      <th>3</th>\n",
              "      <td>1</td>\n",
              "      <td>25</td>\n",
              "      <td>4</td>\n",
              "      <td>875071805</td>\n",
              "    </tr>\n",
              "    <tr>\n",
              "      <th>4</th>\n",
              "      <td>1</td>\n",
              "      <td>35</td>\n",
              "      <td>1</td>\n",
              "      <td>878542420</td>\n",
              "    </tr>\n",
              "  </tbody>\n",
              "</table>\n",
              "</div>"
            ],
            "text/plain": [
              "   userid  itemid  rating  timestamp\n",
              "0       1       5       3  889751712\n",
              "1       1      11       2  875072262\n",
              "2       1      16       5  878543541\n",
              "3       1      25       4  875071805\n",
              "4       1      35       1  878542420"
            ]
          },
          "metadata": {},
          "output_type": "display_data"
        }
      ],
      "source": [
        "import pandas as pd\n",
        "\n",
        "train_file = pd.read_csv(train_dir, sep='\\t', names = ['userid', 'itemid', 'rating', 'timestamp'], header=None)\n",
        "test_file = pd.read_csv(test_dir, sep='\\t', names=['userid', 'itemid', 'rating', 'timestamp'], header=None)\n",
        "display(train_file.head())\n",
        "display(test_file.head())\n",
        "\n"
      ]
    },
    {
      "cell_type": "code",
      "execution_count": 5,
      "metadata": {
        "colab": {
          "base_uri": "https://localhost:8080/",
          "height": 396
        },
        "id": "RTIlxnIf8mzq",
        "outputId": "66fa929c-cf8f-431b-fe83-cdf251558537"
      },
      "outputs": [
        {
          "data": {
            "text/html": [
              "<div>\n",
              "<style scoped>\n",
              "    .dataframe tbody tr th:only-of-type {\n",
              "        vertical-align: middle;\n",
              "    }\n",
              "\n",
              "    .dataframe tbody tr th {\n",
              "        vertical-align: top;\n",
              "    }\n",
              "\n",
              "    .dataframe thead th {\n",
              "        text-align: right;\n",
              "    }\n",
              "</style>\n",
              "<table border=\"1\" class=\"dataframe\">\n",
              "  <thead>\n",
              "    <tr style=\"text-align: right;\">\n",
              "      <th></th>\n",
              "      <th>title</th>\n",
              "      <th>release_date</th>\n",
              "      <th>video_release_date</th>\n",
              "      <th>IMDb_URL</th>\n",
              "      <th>unknown</th>\n",
              "      <th>Action</th>\n",
              "      <th>Adventure</th>\n",
              "      <th>Animation</th>\n",
              "      <th>Children</th>\n",
              "      <th>Comedy</th>\n",
              "      <th>Crime</th>\n",
              "      <th>Documentary</th>\n",
              "      <th>Drama</th>\n",
              "      <th>Fantasy</th>\n",
              "      <th>Film-Noir</th>\n",
              "      <th>Horror</th>\n",
              "      <th>Musical</th>\n",
              "      <th>Mystery</th>\n",
              "      <th>Romance</th>\n",
              "      <th>Sci-Fi</th>\n",
              "      <th>Thriller</th>\n",
              "      <th>War</th>\n",
              "      <th>Western</th>\n",
              "    </tr>\n",
              "    <tr>\n",
              "      <th>movieid</th>\n",
              "      <th></th>\n",
              "      <th></th>\n",
              "      <th></th>\n",
              "      <th></th>\n",
              "      <th></th>\n",
              "      <th></th>\n",
              "      <th></th>\n",
              "      <th></th>\n",
              "      <th></th>\n",
              "      <th></th>\n",
              "      <th></th>\n",
              "      <th></th>\n",
              "      <th></th>\n",
              "      <th></th>\n",
              "      <th></th>\n",
              "      <th></th>\n",
              "      <th></th>\n",
              "      <th></th>\n",
              "      <th></th>\n",
              "      <th></th>\n",
              "      <th></th>\n",
              "      <th></th>\n",
              "      <th></th>\n",
              "    </tr>\n",
              "  </thead>\n",
              "  <tbody>\n",
              "    <tr>\n",
              "      <th>1</th>\n",
              "      <td>Toy Story (1995)</td>\n",
              "      <td>01-Jan-1995</td>\n",
              "      <td>NaN</td>\n",
              "      <td>http://us.imdb.com/M/title-exact?Toy%20Story%2...</td>\n",
              "      <td>0</td>\n",
              "      <td>0</td>\n",
              "      <td>0</td>\n",
              "      <td>1</td>\n",
              "      <td>1</td>\n",
              "      <td>1</td>\n",
              "      <td>0</td>\n",
              "      <td>0</td>\n",
              "      <td>0</td>\n",
              "      <td>0</td>\n",
              "      <td>0</td>\n",
              "      <td>0</td>\n",
              "      <td>0</td>\n",
              "      <td>0</td>\n",
              "      <td>0</td>\n",
              "      <td>0</td>\n",
              "      <td>0</td>\n",
              "      <td>0</td>\n",
              "      <td>0</td>\n",
              "    </tr>\n",
              "    <tr>\n",
              "      <th>2</th>\n",
              "      <td>GoldenEye (1995)</td>\n",
              "      <td>01-Jan-1995</td>\n",
              "      <td>NaN</td>\n",
              "      <td>http://us.imdb.com/M/title-exact?GoldenEye%20(...</td>\n",
              "      <td>0</td>\n",
              "      <td>1</td>\n",
              "      <td>1</td>\n",
              "      <td>0</td>\n",
              "      <td>0</td>\n",
              "      <td>0</td>\n",
              "      <td>0</td>\n",
              "      <td>0</td>\n",
              "      <td>0</td>\n",
              "      <td>0</td>\n",
              "      <td>0</td>\n",
              "      <td>0</td>\n",
              "      <td>0</td>\n",
              "      <td>0</td>\n",
              "      <td>0</td>\n",
              "      <td>0</td>\n",
              "      <td>1</td>\n",
              "      <td>0</td>\n",
              "      <td>0</td>\n",
              "    </tr>\n",
              "    <tr>\n",
              "      <th>3</th>\n",
              "      <td>Four Rooms (1995)</td>\n",
              "      <td>01-Jan-1995</td>\n",
              "      <td>NaN</td>\n",
              "      <td>http://us.imdb.com/M/title-exact?Four%20Rooms%...</td>\n",
              "      <td>0</td>\n",
              "      <td>0</td>\n",
              "      <td>0</td>\n",
              "      <td>0</td>\n",
              "      <td>0</td>\n",
              "      <td>0</td>\n",
              "      <td>0</td>\n",
              "      <td>0</td>\n",
              "      <td>0</td>\n",
              "      <td>0</td>\n",
              "      <td>0</td>\n",
              "      <td>0</td>\n",
              "      <td>0</td>\n",
              "      <td>0</td>\n",
              "      <td>0</td>\n",
              "      <td>0</td>\n",
              "      <td>1</td>\n",
              "      <td>0</td>\n",
              "      <td>0</td>\n",
              "    </tr>\n",
              "    <tr>\n",
              "      <th>4</th>\n",
              "      <td>Get Shorty (1995)</td>\n",
              "      <td>01-Jan-1995</td>\n",
              "      <td>NaN</td>\n",
              "      <td>http://us.imdb.com/M/title-exact?Get%20Shorty%...</td>\n",
              "      <td>0</td>\n",
              "      <td>1</td>\n",
              "      <td>0</td>\n",
              "      <td>0</td>\n",
              "      <td>0</td>\n",
              "      <td>1</td>\n",
              "      <td>0</td>\n",
              "      <td>0</td>\n",
              "      <td>1</td>\n",
              "      <td>0</td>\n",
              "      <td>0</td>\n",
              "      <td>0</td>\n",
              "      <td>0</td>\n",
              "      <td>0</td>\n",
              "      <td>0</td>\n",
              "      <td>0</td>\n",
              "      <td>0</td>\n",
              "      <td>0</td>\n",
              "      <td>0</td>\n",
              "    </tr>\n",
              "    <tr>\n",
              "      <th>5</th>\n",
              "      <td>Copycat (1995)</td>\n",
              "      <td>01-Jan-1995</td>\n",
              "      <td>NaN</td>\n",
              "      <td>http://us.imdb.com/M/title-exact?Copycat%20(1995)</td>\n",
              "      <td>0</td>\n",
              "      <td>0</td>\n",
              "      <td>0</td>\n",
              "      <td>0</td>\n",
              "      <td>0</td>\n",
              "      <td>0</td>\n",
              "      <td>1</td>\n",
              "      <td>0</td>\n",
              "      <td>1</td>\n",
              "      <td>0</td>\n",
              "      <td>0</td>\n",
              "      <td>0</td>\n",
              "      <td>0</td>\n",
              "      <td>0</td>\n",
              "      <td>0</td>\n",
              "      <td>0</td>\n",
              "      <td>1</td>\n",
              "      <td>0</td>\n",
              "      <td>0</td>\n",
              "    </tr>\n",
              "  </tbody>\n",
              "</table>\n",
              "</div>"
            ],
            "text/plain": [
              "                     title release_date  video_release_date  \\\n",
              "movieid                                                       \n",
              "1         Toy Story (1995)  01-Jan-1995                 NaN   \n",
              "2         GoldenEye (1995)  01-Jan-1995                 NaN   \n",
              "3        Four Rooms (1995)  01-Jan-1995                 NaN   \n",
              "4        Get Shorty (1995)  01-Jan-1995                 NaN   \n",
              "5           Copycat (1995)  01-Jan-1995                 NaN   \n",
              "\n",
              "                                                  IMDb_URL  unknown  Action  \\\n",
              "movieid                                                                       \n",
              "1        http://us.imdb.com/M/title-exact?Toy%20Story%2...        0       0   \n",
              "2        http://us.imdb.com/M/title-exact?GoldenEye%20(...        0       1   \n",
              "3        http://us.imdb.com/M/title-exact?Four%20Rooms%...        0       0   \n",
              "4        http://us.imdb.com/M/title-exact?Get%20Shorty%...        0       1   \n",
              "5        http://us.imdb.com/M/title-exact?Copycat%20(1995)        0       0   \n",
              "\n",
              "         Adventure  Animation  Children  Comedy  Crime  Documentary  Drama  \\\n",
              "movieid                                                                      \n",
              "1                0          1         1       1      0            0      0   \n",
              "2                1          0         0       0      0            0      0   \n",
              "3                0          0         0       0      0            0      0   \n",
              "4                0          0         0       1      0            0      1   \n",
              "5                0          0         0       0      1            0      1   \n",
              "\n",
              "         Fantasy  Film-Noir  Horror  Musical  Mystery  Romance  Sci-Fi  \\\n",
              "movieid                                                                  \n",
              "1              0          0       0        0        0        0       0   \n",
              "2              0          0       0        0        0        0       0   \n",
              "3              0          0       0        0        0        0       0   \n",
              "4              0          0       0        0        0        0       0   \n",
              "5              0          0       0        0        0        0       0   \n",
              "\n",
              "         Thriller  War  Western  \n",
              "movieid                          \n",
              "1               0    0        0  \n",
              "2               1    0        0  \n",
              "3               1    0        0  \n",
              "4               0    0        0  \n",
              "5               1    0        0  "
            ]
          },
          "execution_count": 5,
          "metadata": {},
          "output_type": "execute_result"
        }
      ],
      "source": [
        "info_cols = [ 'movieid', 'title', 'release_date', 'video_release_date', 'IMDb_URL', \\\n",
        "              'unknown', 'Action', 'Adventure', 'Animation', 'Children', 'Comedy', \\\n",
        "              'Crime', 'Documentary', 'Drama', 'Fantasy', 'Film-Noir', 'Horror', \\\n",
        "              'Musical', 'Mystery', 'Romance', 'Sci-Fi', 'Thriller', 'War', 'Western' ]\n",
        "\n",
        "pd.options.display.max_columns = None\n",
        "\n",
        "info_file = pd.read_csv('ml-100k/u.item', sep='|', index_col = 0, names = info_cols, header=None, encoding='latin-1')\n",
        "\n",
        "info_file.head()"
      ]
    },
    {
      "cell_type": "markdown",
      "metadata": {
        "id": "2vxF8nBk8mzt"
      },
      "source": [
        "## Funciones"
      ]
    },
    {
      "cell_type": "code",
      "execution_count": 6,
      "metadata": {
        "id": "4X0i6u1Q8mzv"
      },
      "outputs": [],
      "source": [
        "# Definicion de métricas (No editar)\n",
        "# Obtenido de https://gist.github.com/bwhite/3726239\n",
        "\n",
        "def precision_at_k(r, k):\n",
        "    assert k >= 1\n",
        "    r = np.asarray(r)[:k] != 0\n",
        "    if r.size != k:\n",
        "        raise ValueError('Relevance score length < k')\n",
        "    return np.mean(r)\n",
        "\n",
        "def average_precision(r):\n",
        "    r = np.asarray(r) != 0\n",
        "    out = [precision_at_k(r, k + 1) for k in range(r.size) if r[k]]\n",
        "    if not out:\n",
        "        return 0.\n",
        "    return np.mean(out)\n",
        "\n",
        "def mean_average_precision(rs):\n",
        "    return np.mean([average_precision(r) for r in rs])\n",
        "\n",
        "def dcg_at_k(r, k):\n",
        "    r = np.asfarray(r)[:k]\n",
        "    if r.size:\n",
        "        return np.sum(np.subtract(np.power(2, r), 1) / np.log2(np.arange(2, r.size + 2)))\n",
        "    return 0.\n",
        "\n",
        "\n",
        "def ndcg_at_k(r, k):\n",
        "    idcg = dcg_at_k(sorted(r, reverse=True), k)\n",
        "\n",
        "    if not idcg:\n",
        "        return 0.\n",
        "    return dcg_at_k(r, k) / idcg"
      ]
    },
    {
      "cell_type": "code",
      "execution_count": 7,
      "metadata": {
        "id": "EbUlmhFN8mzx"
      },
      "outputs": [],
      "source": [
        "def evaluate_model(model, n):\n",
        "    mean_map = 0.\n",
        "    mean_ndcg = 0.\n",
        "    for u in user_items_test.keys():\n",
        "        rec = model.recommend(user_ids[u], user_item_matrix[user_ids[u]], n)[0]\n",
        "        rec = [itemset[r] for r in rec]\n",
        "        rel_vector = [np.isin(rec, user_items_test[u], assume_unique=True).astype(int)]\n",
        "        mean_map += mean_average_precision(rel_vector)\n",
        "        mean_ndcg += ndcg_at_k(rel_vector, n)\n",
        "\n",
        "    mean_map /= len(user_items_test)\n",
        "    mean_ndcg /= len(user_items_test)\n",
        "\n",
        "    return mean_map, mean_ndcg"
      ]
    },
    {
      "cell_type": "code",
      "execution_count": 8,
      "metadata": {
        "id": "c9Ym_wmT8mzy"
      },
      "outputs": [],
      "source": [
        "def show_recommendations(model, user, n):\n",
        "    recommendations = model.recommend(userid=user_ids[user], user_items=user_item_matrix[user_ids[user]], N=n)\n",
        "    return df_items.loc[recommendations[0]]['title']"
      ]
    },
    {
      "cell_type": "markdown",
      "metadata": {
        "id": "m6wpUKlD8m0A"
      },
      "source": [
        "# Actividades"
      ]
    },
    {
      "cell_type": "markdown",
      "metadata": {
        "id": "ylqxKuF6tsX2"
      },
      "source": [
        "### Actividad 1: Preparación del dataset\n",
        "\n",
        "Prepare el dataset para que este pueda ser utilizado por los algoritmos de la librería Implicit. (Puede utilizar de base los tutoriales del curso), hasta generar la matriz user_items en formato csr. Puede importar/utilizar cualquier librería adicional que desée."
      ]
    },
    {
      "cell_type": "markdown",
      "metadata": {
        "id": "G14TbCAeuk3G"
      },
      "source": [
        "#### Respuesta:\n",
        "\n",
        "Ingrese su respuesta en código a continuación. Puede utilizar todas las celdas de código que estime necesaria. Al finalizar, añada una celda de texto (Markdown en Jupyter) explicando qué contiene la matriz csr generada, qué representan sus columnas, sus filas y sus celdas internas."
      ]
    },
    {
      "cell_type": "code",
      "execution_count": 9,
      "metadata": {
        "colab": {
          "base_uri": "https://localhost:8080/",
          "height": 395
        },
        "id": "HiLk1lOH9p4j",
        "outputId": "616a7ca6-22d9-4ded-a68a-f8e9f0d38383"
      },
      "outputs": [
        {
          "data": {
            "text/html": [
              "<div>\n",
              "<style scoped>\n",
              "    .dataframe tbody tr th:only-of-type {\n",
              "        vertical-align: middle;\n",
              "    }\n",
              "\n",
              "    .dataframe tbody tr th {\n",
              "        vertical-align: top;\n",
              "    }\n",
              "\n",
              "    .dataframe thead th {\n",
              "        text-align: right;\n",
              "    }\n",
              "</style>\n",
              "<table border=\"1\" class=\"dataframe\">\n",
              "  <thead>\n",
              "    <tr style=\"text-align: right;\">\n",
              "      <th></th>\n",
              "      <th>userid</th>\n",
              "      <th>itemid</th>\n",
              "      <th>rating</th>\n",
              "      <th>timestamp</th>\n",
              "    </tr>\n",
              "  </thead>\n",
              "  <tbody>\n",
              "    <tr>\n",
              "      <th>0</th>\n",
              "      <td>1</td>\n",
              "      <td>1</td>\n",
              "      <td>1</td>\n",
              "      <td>874965758</td>\n",
              "    </tr>\n",
              "    <tr>\n",
              "      <th>1</th>\n",
              "      <td>1</td>\n",
              "      <td>2</td>\n",
              "      <td>1</td>\n",
              "      <td>876893171</td>\n",
              "    </tr>\n",
              "    <tr>\n",
              "      <th>2</th>\n",
              "      <td>1</td>\n",
              "      <td>3</td>\n",
              "      <td>1</td>\n",
              "      <td>878542960</td>\n",
              "    </tr>\n",
              "    <tr>\n",
              "      <th>3</th>\n",
              "      <td>1</td>\n",
              "      <td>4</td>\n",
              "      <td>1</td>\n",
              "      <td>876893119</td>\n",
              "    </tr>\n",
              "    <tr>\n",
              "      <th>4</th>\n",
              "      <td>1</td>\n",
              "      <td>6</td>\n",
              "      <td>1</td>\n",
              "      <td>887431973</td>\n",
              "    </tr>\n",
              "  </tbody>\n",
              "</table>\n",
              "</div>"
            ],
            "text/plain": [
              "   userid  itemid  rating  timestamp\n",
              "0       1       1       1  874965758\n",
              "1       1       2       1  876893171\n",
              "2       1       3       1  878542960\n",
              "3       1       4       1  876893119\n",
              "4       1       6       1  887431973"
            ]
          },
          "metadata": {},
          "output_type": "display_data"
        },
        {
          "data": {
            "text/html": [
              "<div>\n",
              "<style scoped>\n",
              "    .dataframe tbody tr th:only-of-type {\n",
              "        vertical-align: middle;\n",
              "    }\n",
              "\n",
              "    .dataframe tbody tr th {\n",
              "        vertical-align: top;\n",
              "    }\n",
              "\n",
              "    .dataframe thead th {\n",
              "        text-align: right;\n",
              "    }\n",
              "</style>\n",
              "<table border=\"1\" class=\"dataframe\">\n",
              "  <thead>\n",
              "    <tr style=\"text-align: right;\">\n",
              "      <th></th>\n",
              "      <th>userid</th>\n",
              "      <th>itemid</th>\n",
              "      <th>rating</th>\n",
              "      <th>timestamp</th>\n",
              "    </tr>\n",
              "  </thead>\n",
              "  <tbody>\n",
              "    <tr>\n",
              "      <th>0</th>\n",
              "      <td>1</td>\n",
              "      <td>5</td>\n",
              "      <td>1</td>\n",
              "      <td>889751712</td>\n",
              "    </tr>\n",
              "    <tr>\n",
              "      <th>1</th>\n",
              "      <td>1</td>\n",
              "      <td>11</td>\n",
              "      <td>0</td>\n",
              "      <td>875072262</td>\n",
              "    </tr>\n",
              "    <tr>\n",
              "      <th>2</th>\n",
              "      <td>1</td>\n",
              "      <td>16</td>\n",
              "      <td>1</td>\n",
              "      <td>878543541</td>\n",
              "    </tr>\n",
              "    <tr>\n",
              "      <th>3</th>\n",
              "      <td>1</td>\n",
              "      <td>25</td>\n",
              "      <td>1</td>\n",
              "      <td>875071805</td>\n",
              "    </tr>\n",
              "    <tr>\n",
              "      <th>4</th>\n",
              "      <td>1</td>\n",
              "      <td>35</td>\n",
              "      <td>0</td>\n",
              "      <td>878542420</td>\n",
              "    </tr>\n",
              "  </tbody>\n",
              "</table>\n",
              "</div>"
            ],
            "text/plain": [
              "   userid  itemid  rating  timestamp\n",
              "0       1       5       1  889751712\n",
              "1       1      11       0  875072262\n",
              "2       1      16       1  878543541\n",
              "3       1      25       1  875071805\n",
              "4       1      35       0  878542420"
            ]
          },
          "metadata": {},
          "output_type": "display_data"
        }
      ],
      "source": [
        "#Transformo las calificaciones, en el archivo de entrenamiento y test, para que sean implícitas de la siguiente manera:\n",
        "# rating >= 3 , relevante (1) y rating menor a 3 es no relevante (0)\n",
        "train_file.rating = [1 if x >=3 else 0 for x in train_file.rating]\n",
        "test_file.rating = [1 if x >= 3 else 0 for x in test_file.rating ]\n",
        "\n",
        "display(train_file.head())\n",
        "display(test_file.head())"
      ]
    },
    {
      "cell_type": "code",
      "execution_count": 10,
      "metadata": {
        "colab": {
          "base_uri": "https://localhost:8080/"
        },
        "id": "iytT_LvoPWFX",
        "outputId": "4722e2e8-d05b-46be-84f6-0bfbf7692342"
      },
      "outputs": [
        {
          "name": "stdout",
          "output_type": "stream",
          "text": [
            "Cantidad de valores únicos de usuarios en el conjunto de entrenamiento: 943\n",
            "Cantidad de valores únicos de items en el conjunto de entrenamiento: 1650\n",
            "Cantidad de valores únicos de usuarios en el conjunto de test: 869\n",
            "Cantidad de valores únicos de items en el conjunto de test: 1423\n"
          ]
        }
      ],
      "source": [
        "# Comprobar la cantidad de usuarios e items en los datos de entrenamiento y test\n",
        "\n",
        "unique_user_ids_train = train_file['userid'].unique()\n",
        "unique_item_ids_train = train_file['itemid'].unique()\n",
        "\n",
        "print(\"Cantidad de valores únicos de usuarios en el conjunto de entrenamiento:\", len(unique_user_ids_train))\n",
        "print(\"Cantidad de valores únicos de items en el conjunto de entrenamiento:\", len(unique_item_ids_train))\n",
        "\n",
        "unique_user_ids_test = test_file['userid'].unique()\n",
        "unique_item_ids_test = test_file['itemid'].unique()\n",
        "\n",
        "print(\"Cantidad de valores únicos de usuarios en el conjunto de test:\", len(unique_user_ids_test))\n",
        "print(\"Cantidad de valores únicos de items en el conjunto de test:\", len(unique_item_ids_test))"
      ]
    },
    {
      "cell_type": "code",
      "execution_count": 11,
      "metadata": {
        "id": "mTaZYbD3QdKF"
      },
      "outputs": [],
      "source": [
        "# Preprocesar los datos de entrenamiento a formato sparse\n",
        "\n",
        "# Inicializa un diccionario para almacenar los items que cada usuario ha interactuado\n",
        "user_items = {}\n",
        "\n",
        "# Inicializa un conjunto para almacenar todos los items únicos que aparecen en los datos\n",
        "itemset = set()\n",
        "\n",
        "# Recorre cada fila del dataframe 'df_train'\n",
        "for row in train_file.itertuples():\n",
        "    # Si el usuario (row[1]) no está en el diccionario user_items, añade el usuario con una lista vacía\n",
        "    if row[1] not in user_items:\n",
        "        user_items[row[1]] = []\n",
        "\n",
        "    # Añade el item (row[2]) a la lista de items del usuario correspondiente\n",
        "    user_items[row[1]].append(row[2])\n",
        "\n",
        "    # Añade el item a itemset, asegurando que todos los items sean únicos\n",
        "    itemset.add(row[2])\n",
        "\n",
        "# Convierte itemset en un array numpy ordenado\n",
        "itemset = np.sort(list(itemset))\n",
        "\n",
        "# Crea una matriz de ceros con dimensiones [número de usuarios] x [número de items únicos]\n",
        "sparse_matrix = np.zeros((len(user_items), len(itemset)))\n",
        "\n",
        "# Recorre los items de cada usuario para crear una fila en la matriz\n",
        "for i, items in enumerate(user_items.values()):\n",
        "    # Marca con 1 los items que el usuario ha interactuado en la matriz dispersa\n",
        "    sparse_matrix[i] = np.isin(itemset, items, assume_unique=True).astype(int)\n",
        "\n",
        "# Convierte la matriz de numpy a una matriz CSR (Compressed Sparse Row) para optimizar almacenamiento y operaciones\n",
        "user_item_matrix = sparse.csr_matrix(sparse_matrix)\n",
        "\n",
        "# Crea un diccionario para mapear IDs de usuarios a índices de filas en la matriz\n",
        "user_ids = {key: i for i, key in enumerate(user_items.keys())}\n",
        "\n",
        "# Crea un diccionario para mapear IDs de items a índices de columnas en la matriz\n",
        "items_ids = {key: i for i, key in enumerate(itemset)}"
      ]
    },
    {
      "cell_type": "code",
      "execution_count": 12,
      "metadata": {
        "colab": {
          "base_uri": "https://localhost:8080/"
        },
        "id": "-fUs6cn3Qo51",
        "outputId": "00cbe366-cbc0-4728-f387-c483f9f1b7d1"
      },
      "outputs": [
        {
          "name": "stdout",
          "output_type": "stream",
          "text": [
            "(943, 1650)\n",
            "(943, 1650)\n"
          ]
        }
      ],
      "source": [
        "# Tamaño de la matriz usuario-item y en formato sparse\n",
        "print(user_item_matrix.shape)\n",
        "print(sparse_matrix.shape)"
      ]
    },
    {
      "cell_type": "code",
      "execution_count": 13,
      "metadata": {
        "colab": {
          "base_uri": "https://localhost:8080/"
        },
        "id": "X8tWelrGCLHk",
        "outputId": "41ffb19e-c284-4182-a46b-e11590deb71f"
      },
      "outputs": [
        {
          "name": "stdout",
          "output_type": "stream",
          "text": [
            "[[1. 1. 1. 1. 0. 1. 1. 1. 1. 1. 0. 1. 1. 1. 1.]\n",
            " [1. 0. 0. 0. 0. 0. 0. 0. 0. 1. 0. 0. 1. 1. 0.]]\n",
            "  (0, 0)\t1.0\n",
            "  (0, 1)\t1.0\n",
            "  (0, 2)\t1.0\n",
            "  (0, 3)\t1.0\n",
            "  (0, 5)\t1.0\n",
            "  (0, 6)\t1.0\n",
            "  (0, 7)\t1.0\n",
            "  (0, 8)\t1.0\n",
            "  (0, 9)\t1.0\n",
            "  (0, 11)\t1.0\n",
            "  (0, 12)\t1.0\n",
            "  (0, 13)\t1.0\n",
            "  (0, 14)\t1.0\n",
            "  (1, 0)\t1.0\n",
            "  (1, 9)\t1.0\n",
            "  (1, 12)\t1.0\n",
            "  (1, 13)\t1.0\n"
          ]
        }
      ],
      "source": [
        "# Comparo el contenido de la matriz usuario item (sparse_matriz) y la matriz en formato sparse (user_item_matrix)\n",
        "\n",
        "print(sparse_matrix[0:2, 0:15])  #Muestro los primeros 15 items del primer y segundo usuario (fila 0 y 1)\n",
        "print(user_item_matrix[0:2, 0:15])  #Muestro los primeros 15 items del primer y segundo usuario (fila 0 y 1)\n",
        "\n"
      ]
    },
    {
      "cell_type": "markdown",
      "metadata": {
        "id": "by_0oKCOPz9B"
      },
      "source": [
        "La matriz usuario-item (llamada en este caso sparse.matrix) es una representación donde cada fila corresponde a un usuario y cada columna a un item o película. Un valor de 1 indica que el usuario considera relevante ese item (pues le puso una clificación mayor o igual a 3), mientras que un 0 indica lo contrario.\n",
        "\n",
        "Por otro lado, la matriz sparse (llamada user_item_matrix) optimiza el espacio al almacenar únicamente las posiciones de los elementos no nulos (unos en este caso) de la matriz original usuario-item. Por ejemplo, si en la posición (0,0) de la matriz usuario-item hay un 1, significa que el primer usuario considera relevante el primer item. En la matriz sparse, esta relación se representaría como una tupla (0,0). De manera similar, se almacenan las posiciones de los items relevantes para otros usuarios, evitando así almacenar todos los vectores binarios de usuarios para cada item.\n",
        "\n",
        "Por ejemplo, si el primer usuario considera relevantes los items 2, 3 y 4 (posiciones 1, 2 y 3 en la matriz usuario-item), en la matriz sparse se almacenarían las tuplas (0,1), (0,2) y (0,3) para indicar esta relación, mientras que los items irrelevantes para ese usuario no se almacenan, ahorrando espacio de almacenamiento. Como se observa en la matriz, el primer usuario no considera relevante el item 5 y por ello no se almacena la tupla (0,4). Luego se almacenan las tuplas (0,5), (0,6), (0,7), (0,8) y (0,9), pues los items 6,7,8,9 y 10 son relevantes para el primer usuario. Luego, el item 11 no es relevante y finalmente desde el 12 al 15 si lo son.\n",
        "\n",
        "Para el usuario 1 se guardan las coordenadas  (1, 0), (1, 9), (1, 12) y  (1, 13) pues los items relevantes para este usuario son el 1, 10, 13 y 14 como se observa en la segunda fila de la matriz usuario-item.\n"
      ]
    },
    {
      "cell_type": "markdown",
      "metadata": {
        "id": "qKHFLAfIusZm"
      },
      "source": [
        "### Actividad 2: Entrenamiento de modelo ALS\n",
        "\n",
        "Entrene el modelo ALS con el set de entrenamiento y realice un estudio de hiperparámetros sobre al menos 2 hiperparámetros del modelo. Despliegue el gráfico sobre la variación del rendimiento (en base a las métricas nDCG y MAP) según el valor del hiperparámetro y explique explícitamente la forma de los gráficos, las conclusiones obtenidas de ellos y la mejor combinación de hiperparámetros en su opinión. Registre y haga un gráfico del tiempo de entrenamiento de cada método. Se recomienda usar la librería _time_ para esto."
      ]
    },
    {
      "cell_type": "markdown",
      "metadata": {
        "id": "6cvPS9dX8m0I"
      },
      "source": [
        "#### Respuesta:\n",
        "\n",
        "Ingrese su respuesta continuación. Recuerde terminar su respuesta con una celda de código con sus conclusiones y respuestas."
      ]
    },
    {
      "cell_type": "code",
      "execution_count": 14,
      "metadata": {
        "colab": {
          "base_uri": "https://localhost:8080/"
        },
        "id": "YWudOBszldad",
        "outputId": "91bb400d-ad39-4d05-902f-389f8fed56f3"
      },
      "outputs": [
        {
          "name": "stdout",
          "output_type": "stream",
          "text": [
            "(866, 1301)\n",
            "(866, 1301)\n"
          ]
        }
      ],
      "source": [
        "# Creamos la matriz de usuario-item para el conjunto de test (prueba)\n",
        "\n",
        "# rating >= 3 es relevante (1) y rating menor a 3 es no relevante (0)\n",
        "df_test = test_file.copy()\n",
        "\n",
        "user_items_test = {}\n",
        "itemset_test = set()\n",
        "\n",
        "# Creamos un diccionario con los items de test para cada usuario\n",
        "for row in df_test.itertuples():\n",
        "    if row[3]:\n",
        "        if row[1] not in user_items_test:\n",
        "            user_items_test[row[1]] = []\n",
        "\n",
        "        user_items_test[row[1]].append(row[2])\n",
        "        itemset_test.add(row[2])\n",
        "\n",
        "itemset_test = np.sort(list(itemset_test))\n",
        "\n",
        "# Creamos la matriz csr user-item para los datos de test\n",
        "sparse_matrix_test = np.zeros((len(user_items_test), len(itemset_test)))\n",
        "\n",
        "for i, items in enumerate(user_items_test.values()):\n",
        "    sparse_matrix_test[i] = np.isin(itemset_test, items, assume_unique=True).astype(int)\n",
        "\n",
        "user_item_matrix_test = sparse.csr_matrix(sparse_matrix_test)\n",
        "\n",
        "print(user_item_matrix_test.shape)  #Dimension de la matriz sparse del conjunto de test\n",
        "print(sparse_matrix_test.shape)  #Dimension de la matriz sparse del conjunto de test"
      ]
    },
    {
      "cell_type": "code",
      "execution_count": 15,
      "metadata": {
        "id": "AVgTbfJeUpnG"
      },
      "outputs": [],
      "source": [
        "# Utilizamos los siguientes hiperparámetros para el entrenamiento de ALS:\n",
        "# Factores latentes\n",
        "# Factor de regularización\n",
        "\n",
        "factores_als = [i*5 for i in range(1, 11)]\n",
        "reg_fac_als = [0.01, 0.02, 0.05, 0.07, 0.1, 0.2, 0.5]\n"
      ]
    },
    {
      "cell_type": "code",
      "execution_count": 16,
      "metadata": {
        "id": "RYiJCatoWRIU"
      },
      "outputs": [],
      "source": [
        "# Creamos un decorador para calcular el tiempo de ejecución al entrenar un modelo\n",
        "import time\n",
        "\n",
        "def timer(func):\n",
        "    def wrapper(*args, **kwargs):\n",
        "        start = time.time()\n",
        "        result = func(*args, **kwargs)\n",
        "        end = time.time()\n",
        "        print(f\"Tiempo de ejecución (s): {end-start}\")\n",
        "        return result, end-start\n",
        "    return wrapper"
      ]
    },
    {
      "cell_type": "code",
      "execution_count": 17,
      "metadata": {
        "colab": {
          "base_uri": "https://localhost:8080/"
        },
        "id": "O8hNW1YEUtb9",
        "outputId": "4d6a084e-bbaa-4164-d00c-8cf57fd19805"
      },
      "outputs": [
        {
          "name": "stdout",
          "output_type": "stream",
          "text": [
            "Training model with 5 latent factors\n"
          ]
        },
        {
          "name": "stderr",
          "output_type": "stream",
          "text": [
            "/opt/homebrew/lib/python3.11/site-packages/implicit/cpu/als.py:95: RuntimeWarning: OpenBLAS is configured to use 10 threads. It is highly recommended to disable its internal threadpool by setting the environment variable 'OPENBLAS_NUM_THREADS=1' or by calling 'threadpoolctl.threadpool_limits(1, \"blas\")'. Having OpenBLAS use a threadpool can lead to severe performance issues here.\n",
            "  check_blas_config()\n"
          ]
        },
        {
          "name": "stdout",
          "output_type": "stream",
          "text": [
            "Tiempo de ejecución (s): 0.39282727241516113\n",
            "\n",
            "Training model with 10 latent factors\n",
            "Tiempo de ejecución (s): 0.21120309829711914\n",
            "\n",
            "Training model with 15 latent factors\n",
            "Tiempo de ejecución (s): 0.5241727828979492\n",
            "\n",
            "Training model with 20 latent factors\n",
            "Tiempo de ejecución (s): 0.46477794647216797\n",
            "\n",
            "Training model with 25 latent factors\n",
            "Tiempo de ejecución (s): 0.5493412017822266\n",
            "\n",
            "Training model with 30 latent factors\n",
            "Tiempo de ejecución (s): 0.5610208511352539\n",
            "\n",
            "Training model with 35 latent factors\n",
            "Tiempo de ejecución (s): 0.6851370334625244\n",
            "\n",
            "Training model with 40 latent factors\n",
            "Tiempo de ejecución (s): 0.6000618934631348\n",
            "\n",
            "Training model with 45 latent factors\n",
            "Tiempo de ejecución (s): 0.8279333114624023\n",
            "\n",
            "Training model with 50 latent factors\n",
            "Tiempo de ejecución (s): 1.3444278240203857\n",
            "\n",
            "Training model with 0.01 regularization factor\n",
            "Tiempo de ejecución (s): 1.6086599826812744\n",
            "\n",
            "Training model with 0.02 regularization factor\n",
            "Tiempo de ejecución (s): 1.8041272163391113\n",
            "\n",
            "Training model with 0.05 regularization factor\n",
            "Tiempo de ejecución (s): 1.896817922592163\n",
            "\n",
            "Training model with 0.07 regularization factor\n",
            "Tiempo de ejecución (s): 2.0068130493164062\n",
            "\n",
            "Training model with 0.1 regularization factor\n",
            "Tiempo de ejecución (s): 1.5154781341552734\n",
            "\n",
            "Training model with 0.2 regularization factor\n",
            "Tiempo de ejecución (s): 1.5501339435577393\n",
            "\n",
            "Training model with 0.5 regularization factor\n",
            "Tiempo de ejecución (s): 1.5903968811035156\n",
            "\n"
          ]
        }
      ],
      "source": [
        "# Creamos una función para entrenar un modelo y le aplicamos el decorador de tiempo\n",
        "@timer\n",
        "def train_model(model):\n",
        "    model.fit(user_item_matrix, show_progress=False)\n",
        "    return model\n",
        "\n",
        "# Entrenamos bajo los hiperparámetros definidos y evaluamos sobre una lista de recomendaciones de largo 10\n",
        "n = 10\n",
        "\n",
        "map_f_als = []\n",
        "ndcg_f_als = []\n",
        "\n",
        "map_rg_als = []\n",
        "ndcg_rg_als = []\n",
        "\n",
        "train_times_f_als = []\n",
        "train_times_rg_als = []\n",
        "\n",
        "for f in factores_als:\n",
        "    print('Training model with', f, 'latent factors')\n",
        "    model_als = implicit.als.AlternatingLeastSquares(factors=f)\n",
        "    model_als, train_time_f = train_model(model_als)\n",
        "    mmap, ndcg = evaluate_model(model_als, n)\n",
        "    map_f_als.append(mmap)\n",
        "    ndcg_f_als.append(ndcg)\n",
        "    train_times_f_als.append(train_time_f)\n",
        "    print('')\n",
        "\n",
        "for rg in reg_fac_als:\n",
        "    print('Training model with', rg, 'regularization factor')\n",
        "    model_als = implicit.als.AlternatingLeastSquares(regularization=rg)\n",
        "    model_als, train_time_rg = train_model(model_als)\n",
        "    mmap, ndcg = evaluate_model(model_als, n)\n",
        "    map_rg_als.append(mmap)\n",
        "    ndcg_rg_als.append(ndcg)\n",
        "    train_times_rg_als.append(train_time_rg)\n",
        "    print()"
      ]
    },
    {
      "cell_type": "code",
      "execution_count": 18,
      "metadata": {
        "colab": {
          "base_uri": "https://localhost:8080/",
          "height": 432
        },
        "id": "rU7TdcU-wDlZ",
        "outputId": "86d5f9cb-b356-41d0-92bb-6c8867de16f3"
      },
      "outputs": [
        {
          "data": {
            "image/png": "[encoded data removed]",
            "text/plain": [
              "<Figure size 1500x500 with 3 Axes>"
            ]
          },
          "metadata": {},
          "output_type": "display_data"
        }
      ],
      "source": [
        "# Crear el grafico para las dos metricas de rendimiento y el tiempo de entrenamiento\n",
        "fig, axs = plt.subplots(1, 3, figsize=(15, 5))\n",
        "\n",
        "# Grafico map\n",
        "axs[0].plot(factores_als, map_f_als, 'r-')\n",
        "axs[0].plot(factores_als, map_f_als, 'bo')\n",
        "axs[0].set_title('MAP vs Factores latentes en ALS')\n",
        "axs[0].set_xlabel('Factores latentes')\n",
        "axs[0].set_ylabel('MAP')\n",
        "\n",
        "# Grafico ndcg\n",
        "axs[1].plot(factores_als, ndcg_f_als, 'r-')\n",
        "axs[1].plot(factores_als, ndcg_f_als, 'bo')\n",
        "axs[1].set_title('nDCG vs Factores latentes en ALS')\n",
        "axs[1].set_xlabel('Factores latentes')\n",
        "axs[1].set_ylabel('nDCG')\n",
        "\n",
        "# Grafico time\n",
        "axs[2].plot(factores_als, train_times_f_als, 'r-')\n",
        "axs[2].plot(factores_als, train_times_f_als, 'bo')\n",
        "axs[2].set_xlabel('Factores latentes')\n",
        "axs[2].set_ylabel('Tiempo de entrenamiento (s)')\n",
        "axs[2].set_title('Tiempo de entrenamiento vs Factores latentes en ALS')\n",
        "\n",
        "\n",
        "# Ajustar el espaciado entre los subplots\n",
        "plt.tight_layout()\n",
        "\n",
        "# Mostrar el gráfico\n",
        "plt.show()"
      ]
    },
    {
      "cell_type": "markdown",
      "metadata": {
        "id": "nIVbCz4tY-bK"
      },
      "source": [
        "**Interpretación de los Gráficos de factores**\n",
        "\n",
        "Mean Average Precision (MAP) y Normalized Discounted Cumulative Gain (nDCG)son métricas para evaluar la calidad de los modelos. Un pico en estos gráficos puede indicar el punto óptimo donde el modelo logra un buen balance entre capacidad predictiva y sobreajuste.\n",
        "\n",
        "En los primeros gráficos se observa que entre al trabajar con un rango de entre 15 y 25 factores se logran buenos indicadores. Tanto para MAP como nDCG se puede ver claramente en esa cantidad de factores, manteniendo todo lo demás constante, el valor de las métricas es el mayor y por ende el ránking predicho tiene mejor desempeño. A partir de 30 factores, las métricas empeoran porque considerar un número mayor de factores introduce mas ruido que información. En el tercer gráfico se observa que el tiempo de entrenamiento aumenta con el número de factores. Un tiempo de entrenamiento alto no es conveniente. Se observa que con 20 factores latentes el tiempo de entrenamiento es menor que con 30. **En resumen, preferimos trabajar con 20 factores latentes**.\n",
        "\n",
        "Por otra parte, vemos que el tiempo de entrenamiento tiende a ser creciente según el aumento de factores, lo cual puede tener sentido ya que va estrechamente relacionado a la cantidad de operaciones matriciales, que aumentan el tiempo. De todas manera, el tiempo de proceso para 20 factores sigue dentro de lo bajo, pero podemos ver que ya sobre 45 factores latentes, el tiempo se comienza a disparar."
      ]
    },
    {
      "cell_type": "code",
      "execution_count": 19,
      "metadata": {
        "colab": {
          "base_uri": "https://localhost:8080/",
          "height": 418
        },
        "id": "EstyIjvDaA_e",
        "outputId": "b04d4f22-1346-41e5-ff34-9214c03ddc0c"
      },
      "outputs": [
        {
          "data": {
            "image/png": "[encoded data removed]",
            "text/plain": [
              "<Figure size 1500x500 with 3 Axes>"
            ]
          },
          "metadata": {},
          "output_type": "display_data"
        }
      ],
      "source": [
        "# Crear el grafico para las dos métricas de rendimiento y el tiempo de entrenamiento en funciòn del factor de regularizaciòn\n",
        "fig, axs = plt.subplots(1, 3, figsize=(15, 5))\n",
        "\n",
        "# Grafico map\n",
        "axs[0].plot(reg_fac_als, map_rg_als, 'r-')\n",
        "axs[0].plot(reg_fac_als, map_rg_als, 'bo')\n",
        "axs[0].set_title('MAP vs Parámetro de regularización en ALS')\n",
        "axs[0].set_xlabel('Parámetro de regularización')\n",
        "axs[0].set_ylabel('MAP')\n",
        "\n",
        "# Grafico ndcg\n",
        "axs[1].plot(reg_fac_als, ndcg_rg_als, 'r-')\n",
        "axs[1].plot(reg_fac_als, ndcg_rg_als, 'bo')\n",
        "axs[1].set_title('nDCG vs Parámetro de regularización en ALS')\n",
        "axs[1].set_xlabel('Parámetro de regularización')\n",
        "axs[1].set_ylabel('nDCG')\n",
        "\n",
        "# Grafico time\n",
        "axs[2].plot(reg_fac_als, train_times_rg_als, 'r-')\n",
        "axs[2].plot(reg_fac_als, train_times_rg_als, 'bo')\n",
        "axs[2].set_xlabel('Parámetro de regularización')\n",
        "axs[2].set_ylabel('Tiempo de entrenamiento (s)')\n",
        "axs[2].set_title('Tiempo de entrenamiento vs Parámetro de regularización en ALS')\n",
        "\n",
        "\n",
        "# Ajustar el espaciado entre los subplots\n",
        "plt.tight_layout()\n",
        "\n",
        "# Mostrar el gráfico\n",
        "plt.show()"
      ]
    },
    {
      "cell_type": "markdown",
      "metadata": {
        "id": "VdXOAy1cFY8Z"
      },
      "source": [
        "**Factor de regularización**\n",
        "Con respecto al factor de regularización, vemos que las métricas tienen variaciones muy bruscas y son muy sensibles a pequeñas variaciones en el factor.\n",
        "Se observa que **0.2 podría ser un buen valor** pues se maximizan ambas mètricas de evaluación con bajos tiempos de entrenamiento.\n",
        "\n",
        "\n",
        "##Conclusiones y Mejor Combinación de Hiperparámetros\n",
        "La elección de la mejor combinación de hiperparámetros depende de la importancia relativa del tiempo de entrenamiento frente al rendimiento del modelo (MAP y nDCG). También es importante tomar en cuenta que cada vez que el modelo es entrenado, se obtiene un resultado distinto, lo que dificulta un escenario óptimo para el análisis.\n",
        "\n",
        "Si el tiempo de entrenamiento es una consideración crítica, se optaría por aquel modelo que balancee un tiempo de entrenamiento razonable con un buen rendimiento.\n",
        "\n",
        "**En este caso, un número de factores alrededor de 20 con un factor de regularización de 0.2**\n"
      ]
    },
    {
      "cell_type": "markdown",
      "metadata": {
        "id": "uOjSTP7G8m0J"
      },
      "source": [
        "### Actividad 3: Entrenamiento de modelo BPR\n",
        "\n",
        "Repita el procedimiento de la Actividad 2 para el modelo BPR. Recuerde realizar un estudio de hiperparámetros sobre dos hiperparámetros distintos y exponer sus observaciones, elecciones como mejor combinación de hiperparámetros y realizar un análisis del tiempo de entrenamiento."
      ]
    },
    {
      "cell_type": "markdown",
      "metadata": {
        "id": "totPxDDM8m0K"
      },
      "source": [
        "#### Respuesta:\n",
        "\n",
        "Ingrese su respuesta continuación. Recuerde terminar su respuesta con una celda de código con sus conclusiones y respuestas."
      ]
    },
    {
      "cell_type": "code",
      "execution_count": 20,
      "metadata": {
        "id": "kj4fY0gm-IAl"
      },
      "outputs": [],
      "source": [
        "# Repetimos el mismo proceso pero para BPR\n",
        "# Utilizamos el mismo hiperparámetro de factores latentes para el entrenamiento de BPR pero ahora consideramos iteraciones\n",
        "# Factores latentes\n",
        "# Factor de regularización\n",
        "\n",
        "factores_bpr = [i*5 for i in range(1, 11)]\n",
        "reg_fac_bpr = [0.01, 0.02, 0.05, 0.07, 0.1, 0.2, 0.5, 0.8, 1]\n",
        "it_bpr = [i*10 for i in range(1, 11)]"
      ]
    },
    {
      "cell_type": "code",
      "execution_count": 21,
      "metadata": {
        "colab": {
          "base_uri": "https://localhost:8080/"
        },
        "id": "_ISmiyOdQpNJ",
        "outputId": "c53105a5-5aac-4adb-bf8e-622d797910ce"
      },
      "outputs": [
        {
          "name": "stdout",
          "output_type": "stream",
          "text": [
            "Training model with 5 latent factors\n",
            "Tiempo de ejecución (s): 0.843005895614624\n",
            "\n",
            "Training model with 10 latent factors\n",
            "Tiempo de ejecución (s): 0.9178149700164795\n",
            "\n",
            "Training model with 15 latent factors\n",
            "Tiempo de ejecución (s): 0.9526851177215576\n",
            "\n",
            "Training model with 20 latent factors\n",
            "Tiempo de ejecución (s): 0.9984798431396484\n",
            "\n",
            "Training model with 25 latent factors\n",
            "Tiempo de ejecución (s): 1.030465841293335\n",
            "\n",
            "Training model with 30 latent factors\n",
            "Tiempo de ejecución (s): 1.0350370407104492\n",
            "\n",
            "Training model with 35 latent factors\n",
            "Tiempo de ejecución (s): 1.2043447494506836\n",
            "\n",
            "Training model with 40 latent factors\n",
            "Tiempo de ejecución (s): 1.1631171703338623\n",
            "\n",
            "Training model with 45 latent factors\n",
            "Tiempo de ejecución (s): 1.339372158050537\n",
            "\n",
            "Training model with 50 latent factors\n",
            "Tiempo de ejecución (s): 1.3439300060272217\n",
            "\n",
            "Training model with 0.01 regularization factor\n",
            "Tiempo de ejecución (s): 1.7896859645843506\n",
            "\n",
            "Training model with 0.02 regularization factor\n",
            "Tiempo de ejecución (s): 1.7086520195007324\n",
            "\n",
            "Training model with 0.05 regularization factor\n",
            "Tiempo de ejecución (s): 1.76124906539917\n",
            "\n",
            "Training model with 0.07 regularization factor\n",
            "Tiempo de ejecución (s): 1.7275428771972656\n",
            "\n",
            "Training model with 0.1 regularization factor\n",
            "Tiempo de ejecución (s): 1.7224500179290771\n",
            "\n",
            "Training model with 0.2 regularization factor\n",
            "Tiempo de ejecución (s): 1.7996327877044678\n",
            "\n",
            "Training model with 0.5 regularization factor\n",
            "Tiempo de ejecución (s): 1.7231628894805908\n",
            "\n",
            "Training model with 0.8 regularization factor\n",
            "Tiempo de ejecución (s): 1.782015085220337\n",
            "\n",
            "Training model with 1 regularization factor\n",
            "Tiempo de ejecución (s): 1.8180391788482666\n",
            "\n",
            "Training model with 10 regularization factor\n",
            "Tiempo de ejecución (s): 0.20720386505126953\n",
            "\n",
            "Training model with 20 regularization factor\n",
            "Tiempo de ejecución (s): 0.4012470245361328\n",
            "\n",
            "Training model with 30 regularization factor\n",
            "Tiempo de ejecución (s): 0.5414941310882568\n",
            "\n",
            "Training model with 40 regularization factor\n",
            "Tiempo de ejecución (s): 0.7480390071868896\n",
            "\n",
            "Training model with 50 regularization factor\n",
            "Tiempo de ejecución (s): 0.8962030410766602\n",
            "\n",
            "Training model with 60 regularization factor\n",
            "Tiempo de ejecución (s): 1.1148569583892822\n",
            "\n",
            "Training model with 70 regularization factor\n",
            "Tiempo de ejecución (s): 1.3129549026489258\n",
            "\n",
            "Training model with 80 regularization factor\n",
            "Tiempo de ejecución (s): 1.526928186416626\n",
            "\n",
            "Training model with 90 regularization factor\n",
            "Tiempo de ejecución (s): 1.6391780376434326\n",
            "\n",
            "Training model with 100 regularization factor\n",
            "Tiempo de ejecución (s): 1.8512578010559082\n",
            "\n"
          ]
        }
      ],
      "source": [
        "# Creamos una función para entrenar un modelo y le aplicamos el decorador de tiempo\n",
        "@timer\n",
        "def train_model(model):\n",
        "    model.fit(user_item_matrix, show_progress=False)\n",
        "    return model\n",
        "\n",
        "# Entrenamos bajo los hiperparámetros definidos y evaluamos sobre una lista de recomendaciones de largo 10\n",
        "n = 10\n",
        "\n",
        "map_f_bpr = []\n",
        "ndcg_f_bpr = []\n",
        "\n",
        "map_rg_bpr = []\n",
        "ndcg_rg_bpr = []\n",
        "\n",
        "map_it_bpr = []\n",
        "ndcg_it_bpr = []\n",
        "\n",
        "train_times_f_bpr = []\n",
        "train_times_rg_bpr = []\n",
        "train_times_it_bpr = []\n",
        "\n",
        "for f in factores_bpr:\n",
        "    print('Training model with', f, 'latent factors')\n",
        "    model_bpr = implicit.bpr.BayesianPersonalizedRanking(factors=f)   #Ajusto modelo bpr en lugar de ALS\n",
        "    model_bpr, train_time_f = train_model(model_bpr)\n",
        "    mmap, ndcg = evaluate_model(model_bpr, n)\n",
        "    map_f_bpr.append(mmap)\n",
        "    ndcg_f_bpr.append(ndcg)\n",
        "    train_times_f_bpr.append(train_time_f)\n",
        "    print('')\n",
        "\n",
        "for rg in reg_fac_bpr:\n",
        "    print('Training model with', rg, 'regularization factor')\n",
        "    model_bpr = implicit.bpr.BayesianPersonalizedRanking(regularization=rg)   #Ajusto modelo bpr en lugar de ALS\n",
        "    model_bpr, train_time_rg = train_model(model_bpr)\n",
        "    mmap, ndcg = evaluate_model(model_als, n)\n",
        "    map_rg_bpr.append(mmap)\n",
        "    ndcg_rg_bpr.append(ndcg)\n",
        "    train_times_rg_bpr.append(train_time_rg)\n",
        "    print()\n",
        "\n",
        "for it in it_bpr:\n",
        "    print('Training model with', it, 'regularization factor')\n",
        "    model_bpr = implicit.bpr.BayesianPersonalizedRanking(iterations=it)\n",
        "    model_bpr, train_time_rg = train_model(model_bpr)\n",
        "    mmap, ndcg = evaluate_model(model_bpr, n)\n",
        "    map_it_bpr.append(mmap)\n",
        "    ndcg_it_bpr.append(ndcg)\n",
        "    train_times_it_bpr.append(train_time_rg)\n",
        "    print()\n"
      ]
    },
    {
      "cell_type": "code",
      "execution_count": 22,
      "metadata": {
        "colab": {
          "base_uri": "https://localhost:8080/",
          "height": 432
        },
        "id": "12_0TMs8-Uy4",
        "outputId": "5b8327f2-9a84-4408-b753-48a6d372f7c6"
      },
      "outputs": [
        {
          "data": {
            "image/png": "[encoded data removed]",
            "text/plain": [
              "<Figure size 1500x500 with 3 Axes>"
            ]
          },
          "metadata": {},
          "output_type": "display_data"
        }
      ],
      "source": [
        "# Crear el grafico para el modelo bpr, para las dos metricas de rendimiento y el tiempo de entrenamiento\n",
        "fig, axs = plt.subplots(1, 3, figsize=(15, 5))\n",
        "\n",
        "# Grafico map\n",
        "axs[0].plot(factores_bpr, map_f_bpr, 'r-')\n",
        "axs[0].plot(factores_bpr, map_f_bpr, 'bo')\n",
        "axs[0].set_title('MAP vs Factores latentes en bpr')\n",
        "axs[0].set_xlabel('Factores latentes')\n",
        "axs[0].set_ylabel('MAP')\n",
        "\n",
        "# Grafico ndcg\n",
        "axs[1].plot(factores_bpr, ndcg_f_bpr, 'r-')\n",
        "axs[1].plot(factores_bpr, ndcg_f_bpr, 'bo')\n",
        "axs[1].set_title('nDCG vs Factores latentes en bpr')\n",
        "axs[1].set_xlabel('Factores latentes')\n",
        "axs[1].set_ylabel('nDCG')\n",
        "\n",
        "# Grafico time\n",
        "axs[2].plot(factores_bpr, train_times_f_bpr, 'r-')\n",
        "axs[2].plot(factores_bpr, train_times_f_bpr, 'bo')\n",
        "axs[2].set_xlabel('Factores latentes')\n",
        "axs[2].set_ylabel('Tiempo de entrenamiento (s)')\n",
        "axs[2].set_title('Tiempo de entrenamiento vs Factores latentes en bpr')\n",
        "\n",
        "\n",
        "# Ajustar el espaciado entre los subplots\n",
        "plt.tight_layout()\n",
        "\n",
        "# Mostrar el gráfico\n",
        "plt.show()"
      ]
    },
    {
      "cell_type": "code",
      "execution_count": 23,
      "metadata": {
        "colab": {
          "base_uri": "https://localhost:8080/",
          "height": 527
        },
        "id": "mp2qHe6bKtuU",
        "outputId": "84b52213-3491-45c9-ee18-9c9af3b23d88"
      },
      "outputs": [
        {
          "data": {
            "image/png": "[encoded data removed]",
            "text/plain": [
              "<Figure size 1500x500 with 3 Axes>"
            ]
          },
          "metadata": {},
          "output_type": "display_data"
        }
      ],
      "source": [
        "# Crear el grafico para las dos métricas de rendimiento y el tiempo de entrenamiento en funciòn de las iteracciones\n",
        "fig, axs = plt.subplots(1, 3, figsize=(15, 5))\n",
        "\n",
        "# Grafico map\n",
        "axs[0].plot(it_bpr, map_it_bpr, 'r-')\n",
        "axs[0].plot(it_bpr, map_it_bpr, 'bo')\n",
        "axs[0].set_title('MAP vs Iteracciones en bpr')\n",
        "axs[0].set_xlabel('Iteracciones')\n",
        "axs[0].set_ylabel('MAP')\n",
        "\n",
        "# Grafico ndcg\n",
        "axs[1].plot(it_bpr, ndcg_it_bpr, 'r-')\n",
        "axs[1].plot(it_bpr, ndcg_it_bpr, 'bo')\n",
        "axs[1].set_title('nDCG vs Iteracciones en bpr')\n",
        "axs[1].set_xlabel('Iteracciones')\n",
        "axs[1].set_ylabel('nDCG')\n",
        "\n",
        "# Grafico time\n",
        "axs[2].plot(it_bpr, train_times_it_bpr, 'r-')\n",
        "axs[2].plot(it_bpr, train_times_it_bpr, 'bo')\n",
        "axs[2].set_xlabel('Iteracciones')\n",
        "axs[2].set_ylabel('Tiempo de entrenamiento (s)')\n",
        "axs[2].set_title('Tiempo de entrenamiento vs Iteracciones en bpr')\n",
        "\n",
        "\n",
        "# Ajustar el espaciado entre los subplots\n",
        "plt.tight_layout()\n",
        "\n",
        "# Mostrar el gráfico\n",
        "plt.show()"
      ]
    },
    {
      "cell_type": "markdown",
      "metadata": {
        "id": "mNIkvQOxLLlF"
      },
      "source": [
        "**Conclusiones**\n",
        "Con **15 factores latentes** se encuentran buenas métricas en el modelo bpr y tiempos de entrenamiento relativamente cortos. El nùmero de iteracciones que maximina las mètricas es del orden de 60. Si bien se observan tiempos de entrenamiento crecientes con el nùmero de interacciones, los tiempos se disparan a partir de 70 iteracciones. Aunque al trabajar con 60 iteracciones se debe aceptar tiempos mayores con un menor número de iteraciones, el valor no llega a ser excesivamente alto, lo que sugiere un equilibrio adecuado entre rendimiento y tiempo de entrenamiento para este valor específico de hiperparámetro. En resumen, se considera que trabajar con **60 iteracciones en el modelo bpr**."
      ]
    },
    {
      "cell_type": "code",
      "execution_count": null,
      "metadata": {
        "id": "FY9Z6kpUBO-f"
      },
      "outputs": [],
      "source": []
    },
    {
      "cell_type": "markdown",
      "metadata": {
        "id": "GXgQKowh8m0K"
      },
      "source": [
        "### Actividad 4: Comparación de modelos.\n",
        "\n",
        "Entrene modelos ALS y BPR con la combinación de hiperparámetros seleccionadas de las actividades 2 y 3. Genere una tabla exponiendo los resultados de ambos modelos al evaluarlos según nDCG@k y MAP@k proporcionadas (son libres de elegir el valor de k). Incluya también el valor del tiempo de entrenamiento empleado.\n",
        "\n",
        "Además, implemente y agregue a su tabla los resultados usando una métrica adicional estudiada en el curso. Esta métrica puede ser programada por ustedes o usando una función de una librería externa.\n",
        "\n",
        "Finalmente comente sobre los resultados de la tabla y concluya qué método entregó los mejores resultados para el set de datos utilizado."
      ]
    },
    {
      "cell_type": "markdown",
      "metadata": {
        "id": "g6zEV9fJ8m0L"
      },
      "source": [
        "#### Respuesta:\n",
        "\n",
        "Ingrese su respuesta continuación. Recuerde terminar su respuesta con una celda de código con sus conclusiones y respuestas."
      ]
    },
    {
      "cell_type": "code",
      "execution_count": 30,
      "metadata": {
        "id": "OBkIcdaqrHjh"
      },
      "outputs": [],
      "source": [
        "# Fijamos los valores óptimos de ALS y BPR encontrados anteriormente e instranciamos los modelos\n",
        "f_opt_als = 20\n",
        "rg_opt_als = 0.2\n",
        "f_opt_bpr = 15\n",
        "it_opt_bpr = 60\n",
        "\n",
        "opt_als = implicit.als.AlternatingLeastSquares(factors=f_opt_als, regularization=rg_opt_als)\n",
        "opt_bpr = implicit.bpr.BayesianPersonalizedRanking(factors=f_opt_bpr, iterations=it_opt_bpr)"
      ]
    },
    {
      "cell_type": "code",
      "execution_count": 31,
      "metadata": {
        "colab": {
          "base_uri": "https://localhost:8080/"
        },
        "id": "aVRY8hNXrN4S",
        "outputId": "1a5e6195-ec10-4f72-e38d-635404deae7f"
      },
      "outputs": [
        {
          "name": "stdout",
          "output_type": "stream",
          "text": [
            "Tiempo de ejecución (s): 0.2592031955718994\n",
            "Tiempo de ejecución (s): 0.5319020748138428\n"
          ]
        }
      ],
      "source": [
        "# Entrenamos los modelos con los valores óptimos\n",
        "opt_als, train_time_als = train_model(opt_als)\n",
        "opt_bpr, train_time_bpr = train_model(opt_bpr)"
      ]
    },
    {
      "cell_type": "code",
      "execution_count": 32,
      "metadata": {
        "id": "Hfo290c4rPwu"
      },
      "outputs": [],
      "source": [
        "# Evaluamos ambos modelos con 5 factores latentes, k = 5\n",
        "k = 5\n",
        "mmap_als, ndcg_als = evaluate_model(opt_als, k)\n",
        "mmap_bpr, ndcg_bpr = evaluate_model(opt_bpr, k)"
      ]
    },
    {
      "cell_type": "code",
      "execution_count": 33,
      "metadata": {
        "colab": {
          "base_uri": "https://localhost:8080/"
        },
        "id": "92eIYrJIyOZK",
        "outputId": "5ae37dd9-88a3-42d2-ffc4-a407d186612a"
      },
      "outputs": [
        {
          "name": "stdout",
          "output_type": "stream",
          "text": [
            "0.5775388119065942 0.8094688221709007\n",
            "0.4742879137798293 0.6997690531177829\n"
          ]
        }
      ],
      "source": [
        "print(mmap_als, ndcg_als)\n",
        "print(mmap_bpr, ndcg_bpr)"
      ]
    },
    {
      "cell_type": "code",
      "execution_count": 34,
      "metadata": {
        "colab": {
          "base_uri": "https://localhost:8080/"
        },
        "id": "i-hJ7kXlq8SM",
        "outputId": "e43da76e-af09-4a16-bf18-42e49a662c6f"
      },
      "outputs": [
        {
          "name": "stdout",
          "output_type": "stream",
          "text": [
            "AUC para ALS: 0.5035092676200534\n",
            "AUC para BPR: 0.5025275326142202\n"
          ]
        }
      ],
      "source": [
        "# Ahora, implementamos la métrica AUC para evaluar los recomendadores\n",
        "import implicit.evaluation\n",
        "\n",
        "def get_AUC_at_k(model, k):\n",
        "\n",
        "    auc = implicit.evaluation.AUC_at_k(model,\n",
        "                                       user_item_matrix,\n",
        "                                       user_item_matrix_test,\n",
        "                                       show_progress=False,\n",
        "                                       K=k\n",
        "                                    )\n",
        "    return auc\n",
        "\n",
        "# Evaluamos ambos modelos con k = 5\n",
        "k = 5\n",
        "auc_als = get_AUC_at_k(opt_als, k)\n",
        "auc_bpr = get_AUC_at_k(opt_bpr, k)\n",
        "\n",
        "print('AUC para ALS:', auc_als)\n",
        "print('AUC para BPR:', auc_bpr)\n"
      ]
    },
    {
      "cell_type": "code",
      "execution_count": 35,
      "metadata": {
        "colab": {
          "base_uri": "https://localhost:8080/",
          "height": 125
        },
        "id": "hxcniRhdz0k-",
        "outputId": "381f9bbf-5ed2-45df-baeb-fd3b79e0a337"
      },
      "outputs": [
        {
          "data": {
            "text/html": [
              "<div>\n",
              "<style scoped>\n",
              "    .dataframe tbody tr th:only-of-type {\n",
              "        vertical-align: middle;\n",
              "    }\n",
              "\n",
              "    .dataframe tbody tr th {\n",
              "        vertical-align: top;\n",
              "    }\n",
              "\n",
              "    .dataframe thead th {\n",
              "        text-align: right;\n",
              "    }\n",
              "</style>\n",
              "<table border=\"1\" class=\"dataframe\">\n",
              "  <thead>\n",
              "    <tr style=\"text-align: right;\">\n",
              "      <th></th>\n",
              "      <th>Modelo</th>\n",
              "      <th>MAP</th>\n",
              "      <th>nDCG</th>\n",
              "      <th>AUC</th>\n",
              "      <th>k</th>\n",
              "      <th>Tiempo de entrenamiento (s)</th>\n",
              "    </tr>\n",
              "  </thead>\n",
              "  <tbody>\n",
              "    <tr>\n",
              "      <th>0</th>\n",
              "      <td>ALS</td>\n",
              "      <td>0.577539</td>\n",
              "      <td>0.809469</td>\n",
              "      <td>0.503509</td>\n",
              "      <td>5</td>\n",
              "      <td>0.259203</td>\n",
              "    </tr>\n",
              "    <tr>\n",
              "      <th>1</th>\n",
              "      <td>BPR</td>\n",
              "      <td>0.474288</td>\n",
              "      <td>0.699769</td>\n",
              "      <td>0.502528</td>\n",
              "      <td>5</td>\n",
              "      <td>0.531902</td>\n",
              "    </tr>\n",
              "  </tbody>\n",
              "</table>\n",
              "</div>"
            ],
            "text/plain": [
              "  Modelo       MAP      nDCG       AUC  k  Tiempo de entrenamiento (s)\n",
              "0    ALS  0.577539  0.809469  0.503509  5                     0.259203\n",
              "1    BPR  0.474288  0.699769  0.502528  5                     0.531902"
            ]
          },
          "execution_count": 35,
          "metadata": {},
          "output_type": "execute_result"
        }
      ],
      "source": [
        "# Definimos una tabla con los resultados obtenidos de los modelos\n",
        "results = pd.DataFrame({'Modelo': ['ALS', 'BPR'],\n",
        "                        'MAP': [mmap_als, mmap_bpr],\n",
        "                        'nDCG': [ndcg_als, ndcg_bpr],\n",
        "                        'AUC': [auc_als, auc_bpr],\n",
        "                        'k': [k, k],\n",
        "                        'Tiempo de entrenamiento (s)': [train_time_als, train_time_bpr]})\n",
        "results"
      ]
    },
    {
      "cell_type": "markdown",
      "metadata": {
        "id": "rtYpcWcp0Cnb"
      },
      "source": [
        "Podemos ver en nuestro dataframe que el modelo ALS fue más efectivo que el modelo BPR en las métricas `nDCG` y `MAP`. Esto, ya que vemos mejores valores de MAP, nDCG para un `k=5`. Podemos decir en palabras simples que el recomendador `ALS` incluye más ítems en el top 5 que efectivamente están en el set de test, comparado con el recomendador `BPR`.\n",
        "\n",
        "Podemos ver también que en ambos casos tenemos un AUC en torno al 0.5, lo cual es bajo. Esto nos indica que ambos recomendadores prácticamente son similares a una recomendación aleatoria, con un itemset similar en el ránking. Esta métrica nos indica la proporción de tuplas de ítems ordenadas correctamente en el ránking. Ninguno de los modelos tiene capacidad para ordenar dentro del ránking de los 5 ítems con mejor recomendación si un ítem es mejor que otro con una alta precisión. Lo anterior puede deberse a que puede existir muchos ítems dentro de las recomendaciones que no calzan con el set de test. En el caso de `ALS`, el cual tiene mejores métricas, se podría pensar que si bien tenemos en promedio un porcentaje de 57% de aciertos dentro del top 5 (MAP), dichos ítems podrían estar desordenados con respecto al top 5 real, llevando entonces un AUC bajo. Algo similar parece estar ocurriendo con el recomendador `BPR`.\n",
        "\n",
        "Finalmente, vemos que el tiempo de entrenamiento es menor en `ALS` que en `BPR`, pero no lo suficiente para que sea determinante y sea una razón de peso para elegir entre uno y otro recomendador."
      ]
    },
    {
      "cell_type": "markdown",
      "metadata": {
        "id": "cr1r6mto8m0M"
      },
      "source": [
        "### Actividad 5: Comparación de modelos con modelo de feedback explícito.\n",
        "\n",
        "Programe y evalúe un método de filtrado colaborativo de su elección sobre el mismo dataset. Evalúe este sistema y compare su rendimiento con los métodos de ALS y BPR entrenados en actividades anteriores. Recuerde que no todas las métricas son aplicables a sistemas de feedback explícito e implícito, por esto, seleccione al menos una métrica que permita realizar esta comparación. Justifique sus elecciones y concluya en base a los resultados dados."
      ]
    },
    {
      "cell_type": "markdown",
      "metadata": {
        "id": "o3RvUpqI8m0N"
      },
      "source": [
        "#### Respuesta:\n",
        "\n",
        "Ingrese su respuesta continuación. Recuerde terminar su respuesta con una celda de código con sus conclusiones y respuestas."
      ]
    },
    {
      "cell_type": "code",
      "execution_count": 36,
      "metadata": {
        "colab": {
          "base_uri": "https://localhost:8080/"
        },
        "id": "3RqHBQeA5edE",
        "outputId": "e3a59481-b1d0-4d13-8e9c-a357244b0a6c"
      },
      "outputs": [
        {
          "name": "stdout",
          "output_type": "stream",
          "text": [
            "Collecting surprise\n",
            "  Downloading surprise-0.1-py2.py3-none-any.whl (1.8 kB)\n",
            "Collecting scikit-surprise\n",
            "  Downloading scikit-surprise-1.1.3.tar.gz (771 kB)\n",
            "\u001b[2K     \u001b[90m━━━━━━━━━━━━━━━━━━━━━━━━━━━━━━━━━━━━━━━\u001b[0m \u001b[32m772.0/772.0 kB\u001b[0m \u001b[31m1.3 MB/s\u001b[0m eta \u001b[36m0:00:00\u001b[0ma \u001b[36m0:00:01\u001b[0m\n",
            "\u001b[?25h  Preparing metadata (setup.py) ... \u001b[?25ldone\n",
            "\u001b[?25hRequirement already satisfied: joblib>=1.0.0 in /opt/homebrew/lib/python3.11/site-packages (from scikit-surprise->surprise) (1.2.0)\n",
            "Requirement already satisfied: numpy>=1.17.3 in /opt/homebrew/lib/python3.11/site-packages (from scikit-surprise->surprise) (1.23.5)\n",
            "Requirement already satisfied: scipy>=1.3.2 in /opt/homebrew/lib/python3.11/site-packages (from scikit-surprise->surprise) (1.10.1)\n",
            "Building wheels for collected packages: scikit-surprise\n",
            "  Building wheel for scikit-surprise (setup.py) ... \u001b[?25ldone\n",
            "\u001b[?25h  Created wheel for scikit-surprise: filename=scikit_surprise-1.1.3-cp311-cp311-macosx_13_0_arm64.whl size=1109116 sha256=82914a8854066220c4b110728b79926807bec9cec86fe9852cef0fe8e09f0314\n",
            "  Stored in directory: /Users/ldavico/Library/Caches/pip/wheels/f4/2b/26/e2a5eae55d3b7688995e66abe7f40473aac6c95ddd8ee174a8\n",
            "Successfully built scikit-surprise\n",
            "Installing collected packages: scikit-surprise, surprise\n",
            "Successfully installed scikit-surprise-1.1.3 surprise-0.1\n",
            "\n",
            "\u001b[1m[\u001b[0m\u001b[34;49mnotice\u001b[0m\u001b[1;39;49m]\u001b[0m\u001b[39;49m A new release of pip is available: \u001b[0m\u001b[31;49m23.0.1\u001b[0m\u001b[39;49m -> \u001b[0m\u001b[32;49m24.0\u001b[0m\n",
            "\u001b[1m[\u001b[0m\u001b[34;49mnotice\u001b[0m\u001b[1;39;49m]\u001b[0m\u001b[39;49m To update, run: \u001b[0m\u001b[32;49mpython3.11 -m pip install --upgrade pip\u001b[0m\n"
          ]
        }
      ],
      "source": [
        "!pip install surprise"
      ]
    },
    {
      "cell_type": "code",
      "execution_count": 37,
      "metadata": {
        "id": "MeUwFtSz4kKd"
      },
      "outputs": [],
      "source": [
        "# Utilizaremos el método FunkSVD, el cual es de filtrado colaborativo, y lo entrenaremos\n",
        "# Preparamos la data\n",
        "import surprise\n",
        "from surprise.model_selection import PredefinedKFold\n",
        "\n",
        "\n",
        "reader = surprise.Reader(line_format='user item rating timestamp', sep='\\t', rating_scale=(1,5))\n",
        "data = surprise.Dataset.load_from_folds([(train_dir, test_dir)], reader=reader)\n",
        "pkf = PredefinedKFold()\n",
        "trainset, testset = next(pkf.split(data))\n"
      ]
    },
    {
      "cell_type": "code",
      "execution_count": 38,
      "metadata": {
        "colab": {
          "base_uri": "https://localhost:8080/"
        },
        "id": "ZPwyxZqD4vyG",
        "outputId": "1c458de3-36ca-497c-fdd0-1f9b944a3507"
      },
      "outputs": [
        {
          "data": {
            "text/plain": [
              "<surprise.prediction_algorithms.matrix_factorization.SVD at 0x31eea9510>"
            ]
          },
          "execution_count": 38,
          "metadata": {},
          "output_type": "execute_result"
        }
      ],
      "source": [
        "# Importamos SVD y lo entrenamos\n",
        "from surprise.prediction_algorithms import SVD\n",
        "\n",
        "# definimos una semilla para poder replicar el resultado\n",
        "seed = 40\n",
        "\n",
        "funkSVD = SVD(random_state=seed)\n",
        "funkSVD.fit(trainset)"
      ]
    },
    {
      "cell_type": "code",
      "execution_count": 39,
      "metadata": {
        "id": "aY6SBfx46AWU"
      },
      "outputs": [],
      "source": [
        "# Obtenemos las predicciones\n",
        "predictions_funk = funkSVD.test(testset)"
      ]
    },
    {
      "cell_type": "code",
      "execution_count": null,
      "metadata": {},
      "outputs": [],
      "source": []
    },
    {
      "cell_type": "code",
      "execution_count": 40,
      "metadata": {
        "id": "fvhxFHvJ7tb3"
      },
      "outputs": [],
      "source": [
        "# Utilizamos la función para calcular nDCG a partir del FunkSVD, dado que es una métrica común a los tres recomendadores\n",
        "# Rescatado de la ayudantía 2\n",
        "\n",
        "# Define function to obtain nDCG scores\n",
        "def get_ndcg(surprise_predictions, k_highest_scores=None):\n",
        "    \"\"\"\n",
        "    Calculates the ndcg (normalized discounted cumulative gain) from surprise predictions, using sklearn.metrics.ndcg_score and scipy.sparse\n",
        "\n",
        "    Parameters:\n",
        "    surprise_predictions (List of surprise.prediction_algorithms.predictions.Prediction): list of predictions\n",
        "    k_highest_scores (positive integer): Only consider the highest k scores in the ranking. If None, use all.\n",
        "\n",
        "    Returns:\n",
        "    float in [0., 1.]: The averaged NDCG scores over all recommendations\n",
        "\n",
        "    \"\"\"\n",
        "\n",
        "    from sklearn.metrics import ndcg_score\n",
        "    from scipy import sparse\n",
        "\n",
        "    uids = [int(p.uid) for p in surprise_predictions ]\n",
        "    iids = [int(p.iid) for p in surprise_predictions ]\n",
        "    r_uis = [p.r_ui for p in surprise_predictions ]\n",
        "    ests = [p.est for p in surprise_predictions ]\n",
        "\n",
        "    assert(len(uids) == len(iids) == len(r_uis) == len(ests) )\n",
        "\n",
        "    sparse_preds = sparse.coo_matrix( (ests, (uids , iids )) )\n",
        "    sparse_vals = sparse.coo_matrix( (r_uis, (uids , iids )) )\n",
        "\n",
        "    dense_preds = sparse_preds.toarray()\n",
        "    dense_vals = sparse_vals.toarray()\n",
        "\n",
        "    return ndcg_score(y_true= dense_vals , y_score= dense_preds, k=k_highest_scores, ignore_ties=True)"
      ]
    },
    {
      "cell_type": "code",
      "execution_count": 41,
      "metadata": {
        "colab": {
          "base_uri": "https://localhost:8080/",
          "height": 70
        },
        "id": "OIUBGstR8BS_",
        "outputId": "9ef84e9c-bc8b-4bb3-f258-71260bc107b3"
      },
      "outputs": [
        {
          "name": "stdout",
          "output_type": "stream",
          "text": [
            "nDCG FunkSVD: 0.8859791058295942\n",
            "nDCG ALS: 0.8094688221709007\n"
          ]
        },
        {
          "data": {
            "text/plain": [
              "'nDCG BPR: 0.6997690531177829'"
            ]
          },
          "execution_count": 41,
          "metadata": {},
          "output_type": "execute_result"
        }
      ],
      "source": [
        "# Obtenemos el nDCG del FunkSVD para un k igual a 5, igual que los análisis anteriores\n",
        "ndcg_funk = get_ndcg(predictions_funk, k)\n",
        "print(f'nDCG FunkSVD: {ndcg_funk}')\n",
        "print (f'nDCG ALS: {ndcg_als}')\n",
        "(f'nDCG BPR: {ndcg_bpr}')"
      ]
    },
    {
      "cell_type": "code",
      "execution_count": null,
      "metadata": {
        "id": "jZJ6NMbW8hfp"
      },
      "outputs": [],
      "source": []
    },
    {
      "cell_type": "markdown",
      "metadata": {
        "id": "YUNslycDv6zu"
      },
      "source": [
        "Se obtiene una mejor métrica de rendimiento con el modelo FunkSVD con respecto a los modelos de recomendación implícitos (ALS y BPR).\n",
        "CG (Normalized Discounted Cumulative Gain) es una métrica comúnmente utilizada para evaluar la calidad de los sistemas de recomendación. Esta métrica tiene en cuenta la relevancia de los elementos recomendados y su posición en la lista de recomendaciones, penalizando los elementos no relevantes que estén en el ránking.\n",
        "\n",
        "La idea principal detrás de NDCG es que los elementos relevantes que aparecen más arriba en la lista de recomendaciones deberían recibir más peso que los elementos relevantes que aparecen más abajo. Esto se debe a que los usuarios tienden a prestar más atención a los primeros elementos de la lista.\n",
        "\n",
        "Para calcular NDCG, primero se calcula el DCG (Discounted Cumulative Gain) que mide la relevancia acumulativa de los elementos recomendados en una lista. El DCG se calcula sumando la relevancia de cada elemento dividida por el logaritmo del rango del elemento en la lista más uno.\n",
        "Luego, se calcula el IDCG (Ideal Discounted Cumulative Gain) que representa el DCG ideal que se obtendría si todos los elementos relevantes estuvieran en las primeras posiciones de la lista. El IDCG se calcula ordenando los elementos relevantes por relevancia y luego calculando el DCG sobre esa lista ordenada.\n",
        "\n",
        "Finalmente, el NDCG se calcula dividiendo el DCG por el IDCG. Un valor de NDCG cercano a 1 indica que el sistema de recomendación está proporcionando recomendaciones altamente relevantes y bien clasificadas, mientras que un valor cercano a 0 indica lo contrario.\n",
        "\n",
        "Como se mencionò anteriormente, el modelo FunkSVD parece estar dando mejores resultados que los modelos SVD (Singular Value Decomposition) y BPR (Bayesian Personalized Ranking).\n",
        "\n",
        "Estamos comparando sistemas de recomendaciones explícitas vs. implícitas (ALS y BPR). FunkSVD se utiliza comúnmente con datos de recomendaciones explícitas, donde las interacciones entre usuarios y elementos están acompañadas de una calificación numérica o alguna forma de retroalimentación explícita. Este tipo de datos proporciona información más directa sobre las preferencias de los usuarios. Para aplicar los modelos ALS y BPR realizamos una transformación asumiendo que los items con calificaciones mayores o iguales a 3 eran relevantes. Aquí de alguna manera perdimos informaciòn pues no logramos capturar la diversidad de las preferencias de los usuarios.\n",
        "\n",
        "Por otro lado, tenemos datos dispersos y en comparación con BPR y ALS, FunkSVD puede ser menos sensible a la dispersión de los datos, lo que significa que puede funcionar mejor cuando se tienen pocos datos por usuario. BPR, al ser un modelo de optimización basado en pares, puede requerir más datos para entrenarse de manera efectiva.\n"
      ]
    },
    {
      "cell_type": "markdown",
      "metadata": {},
      "source": []
    },
    {
      "cell_type": "code",
      "execution_count": null,
      "metadata": {},
      "outputs": [],
      "source": [
        "def binarize_array(array):\n",
        "    new_array = list(map(lambda x: 1 if x[0] >= 3 else 0, array))\n",
        "    return new_array"
      ]
    }
  ],
  "metadata": {
    "colab": {
      "provenance": []
    },
    "kernelspec": {
      "display_name": "Python 3 (ipykernel)",
      "language": "python",
      "name": "python3"
    },
    "language_info": {
      "codemirror_mode": {
        "name": "ipython",
        "version": 3
      },
      "file_extension": ".py",
      "mimetype": "text/x-python",
      "name": "python",
      "nbconvert_exporter": "python",
      "pygments_lexer": "ipython3",
      "version": "3.11.3"
    },
    "varInspector": {
      "cols": {
        "lenName": 16,
        "lenType": 16,
        "lenVar": 40
      },
      "kernels_config": {
        "python": {
          "delete_cmd_postfix": "",
          "delete_cmd_prefix": "del ",
          "library": "var_list.py",
          "varRefreshCmd": "print(var_dic_list())"
        },
        "r": {
          "delete_cmd_postfix": ") ",
          "delete_cmd_prefix": "rm(",
          "library": "var_list.r",
          "varRefreshCmd": "cat(var_dic_list()) "
        }
      },
      "types_to_exclude": [
        "module",
        "function",
        "builtin_function_or_method",
        "instance",
        "_Feature"
      ],
      "window_display": false
    }
  },
  "nbformat": 4,
  "nbformat_minor": 0
}
