{
 "cells": [
  {
   "cell_type": "markdown",
   "metadata": {
    "id": "-xFADzCKvytx"
   },
   "source": [
    "# Tutorial BPR con Implicit II\n",
    "\n",
    "MAN 3160 - Sistemas Recomendadores\n",
    "\n",
    "En este tutorial vamos revisar cómo afectan los hiperparámetros en el rendimiento de un método BPR.\n"
   ]
  },
  {
   "cell_type": "markdown",
   "metadata": {},
   "source": [
    "## Importar Librerías"
   ]
  },
  {
   "cell_type": "code",
   "execution_count": 1,
   "metadata": {},
   "outputs": [
    {
     "name": "stdout",
     "output_type": "stream",
     "text": [
      "Requirement already satisfied: wget in c:\\users\\alfi9\\appdata\\local\\programs\\python\\python39\\lib\\site-packages (3.2)\n"
     ]
    },
    {
     "name": "stderr",
     "output_type": "stream",
     "text": [
      "WARNING: Ignoring invalid distribution -rotobuf (c:\\users\\alfi9\\appdata\\local\\programs\\python\\python39\\lib\\site-packages)\n",
      "WARNING: Ignoring invalid distribution -rotobuf (c:\\users\\alfi9\\appdata\\local\\programs\\python\\python39\\lib\\site-packages)\n"
     ]
    },
    {
     "name": "stdout",
     "output_type": "stream",
     "text": [
      "Requirement already satisfied: zipfile36 in c:\\users\\alfi9\\appdata\\local\\programs\\python\\python39\\lib\\site-packages (0.1.3)\n"
     ]
    },
    {
     "name": "stderr",
     "output_type": "stream",
     "text": [
      "WARNING: Ignoring invalid distribution -rotobuf (c:\\users\\alfi9\\appdata\\local\\programs\\python\\python39\\lib\\site-packages)\n",
      "WARNING: Ignoring invalid distribution -rotobuf (c:\\users\\alfi9\\appdata\\local\\programs\\python\\python39\\lib\\site-packages)\n",
      "WARNING: Ignoring invalid distribution -rotobuf (c:\\users\\alfi9\\appdata\\local\\programs\\python\\python39\\lib\\site-packages)\n",
      "WARNING: Ignoring invalid distribution -rotobuf (c:\\users\\alfi9\\appdata\\local\\programs\\python\\python39\\lib\\site-packages)\n"
     ]
    },
    {
     "name": "stdout",
     "output_type": "stream",
     "text": [
      "Requirement already satisfied: implicit in c:\\users\\alfi9\\appdata\\local\\programs\\python\\python39\\lib\\site-packages (0.7.1)\n",
      "Requirement already satisfied: numpy in c:\\users\\alfi9\\appdata\\local\\programs\\python\\python39\\lib\\site-packages (from implicit) (1.22.1)\n",
      "Requirement already satisfied: scipy>=0.16 in c:\\users\\alfi9\\appdata\\local\\programs\\python\\python39\\lib\\site-packages (from implicit) (1.8.0)\n",
      "Requirement already satisfied: tqdm>=4.27 in c:\\users\\alfi9\\appdata\\local\\programs\\python\\python39\\lib\\site-packages (from implicit) (4.64.0)\n",
      "Requirement already satisfied: colorama in c:\\users\\alfi9\\appdata\\local\\programs\\python\\python39\\lib\\site-packages (from tqdm>=4.27->implicit) (0.4.4)\n"
     ]
    }
   ],
   "source": [
    "# Instalamos librerías para descarcar y descomprimir archivos.\n",
    "\n",
    "!pip install wget\n",
    "!pip install zipfile36\n",
    "!pip3 install implicit --upgrade"
   ]
  },
  {
   "cell_type": "code",
   "execution_count": 2,
   "metadata": {},
   "outputs": [
    {
     "name": "stderr",
     "output_type": "stream",
     "text": [
      "C:\\Users\\alfi9\\AppData\\Local\\Programs\\Python\\Python39\\lib\\site-packages\\tqdm\\auto.py:22: TqdmWarning: IProgress not found. Please update jupyter and ipywidgets. See https://ipywidgets.readthedocs.io/en/stable/user_install.html\n",
      "  from .autonotebook import tqdm as notebook_tqdm\n"
     ]
    }
   ],
   "source": [
    "import pandas as pd\n",
    "import matplotlib.pyplot as plt\n",
    "import zipfile\n",
    "import numpy as np\n",
    "import implicit\n",
    "import scipy.sparse as sparse"
   ]
  },
  {
   "cell_type": "markdown",
   "metadata": {},
   "source": [
    "## Entrenamiento de agente"
   ]
  },
  {
   "cell_type": "code",
   "execution_count": 3,
   "metadata": {},
   "outputs": [
    {
     "name": "stdout",
     "output_type": "stream",
     "text": [
      "\n",
      "Saved under ml-100k (11).zip\n"
     ]
    }
   ],
   "source": [
    "!python -m wget http://files.grouplens.org/datasets/movielens/ml-100k.zip"
   ]
  },
  {
   "cell_type": "code",
   "execution_count": 4,
   "metadata": {},
   "outputs": [],
   "source": [
    "with zipfile.ZipFile(\"ml-100k.zip\", 'r') as zip_ref:\n",
    "    zip_ref.extractall(\".\")"
   ]
  },
  {
   "cell_type": "code",
   "execution_count": 5,
   "metadata": {},
   "outputs": [],
   "source": [
    "dir_train = 'ml-100k'\n",
    "\n",
    "# Generamos los títulos de las columnas del archivo items.\n",
    "\n",
    "columns = ['movieid', 'title', 'release_date', 'video_release_date', \\\n",
    "           'IMDb_URL', 'unknown', 'Action', 'Adventure', 'Animation', \\\n",
    "           'Children', 'Comedy', 'Crime', 'Documentary', 'Drama', 'Fantasy', \\\n",
    "           'Film-Noir', 'Horror', 'Musical', 'Mystery', 'Romance', 'Sci-Fi', \\\n",
    "           'Thriller', 'War', 'Western']"
   ]
  },
  {
   "cell_type": "code",
   "execution_count": 6,
   "metadata": {},
   "outputs": [],
   "source": [
    "# Primero creamos el dataframe con los datos\n",
    "df_train = pd.read_csv(f'{dir_train}/u2.base',\n",
    "                         sep='\\t',\n",
    "                         names=['userid', 'itemid', 'rating', 'timestamp'],\n",
    "                         header=None)"
   ]
  },
  {
   "cell_type": "code",
   "execution_count": 7,
   "metadata": {},
   "outputs": [],
   "source": [
    "# rating >= 3 , relevante (1) y rating menor a 3 es no relevante (0)\n",
    "df_train.rating = [1 if x >= 3 else 0 for x in df_train.rating ]"
   ]
  },
  {
   "cell_type": "code",
   "execution_count": 8,
   "metadata": {},
   "outputs": [],
   "source": [
    "# Cargamos el dataset con los items\n",
    "df_items = pd.read_csv(f'{dir_train}/u.item',\n",
    "                        sep='|',\n",
    "                        index_col=0,\n",
    "                        names = columns,\n",
    "                        header=None,\n",
    "                        encoding='latin-1')"
   ]
  },
  {
   "cell_type": "code",
   "execution_count": 9,
   "metadata": {},
   "outputs": [],
   "source": [
    "user_items = {}\n",
    "itemset = set()\n",
    "\n",
    "for row in df_train.itertuples():\n",
    "    if row[3]:\n",
    "        if row[1] not in user_items:\n",
    "            user_items[row[1]] = []\n",
    "\n",
    "        user_items[row[1]].append(row[2])\n",
    "        itemset.add(row[2])\n",
    "\n",
    "itemset = np.sort(list(itemset))\n",
    "\n",
    "sparse_matrix = np.zeros((len(user_items), len(itemset)))\n",
    "\n",
    "for i, items in enumerate(user_items.values()):\n",
    "    sparse_matrix[i] = np.isin(itemset, items, assume_unique=True).astype(int)\n",
    "\n",
    "user_item_matrix = sparse.csr_matrix(sparse_matrix)\n",
    "\n",
    "user_ids = {key: i for i, key in enumerate(user_items.keys())}\n",
    "items_ids = {key: i for i, key in enumerate(itemset)}"
   ]
  },
  {
   "cell_type": "code",
   "execution_count": 10,
   "metadata": {},
   "outputs": [],
   "source": [
    "# Cargamos el dataset de testing\n",
    "df_test = pd.read_csv(f'{dir_train}/u2.test',\n",
    "                      sep='\\t',\n",
    "                      names=['userid', 'itemid', 'rating', 'timestamp'],\n",
    "                      header=None)\n",
    "\n",
    "\n",
    "# rating >= 3 es relevante (1) y rating menor a 3 es no relevante (0)\n",
    "df_test.rating = [1 if x >=3 else 0 for x in df_test.rating ]\n",
    "\n",
    "\n",
    "user_items_test = {}\n",
    "\n",
    "for row in df_test.itertuples():\n",
    "    if row[3] and row[1] in user_items: # Solo tomamos filas con rating (row[3]) = 1 y usuarios que tengan interacciones en el set de entrenamiento\n",
    "        if row[1] not in user_items_test:\n",
    "            user_items_test[row[1]] = []\n",
    "\n",
    "        user_items_test[row[1]].append(row[2])"
   ]
  },
  {
   "cell_type": "code",
   "execution_count": 11,
   "metadata": {},
   "outputs": [
    {
     "name": "stderr",
     "output_type": "stream",
     "text": [
      "100%|█████████████████████████████████████████████| 100/100 [00:00<00:00, 165.14it/s, train_auc=89.15%, skipped=23.09%]\n"
     ]
    }
   ],
   "source": [
    "\n",
    "model_bpr = implicit.bpr.BayesianPersonalizedRanking()\n",
    "model_bpr.fit(user_item_matrix)"
   ]
  },
  {
   "cell_type": "markdown",
   "metadata": {
    "id": "vjqFGDdzOJGc"
   },
   "source": [
    "### Métricas"
   ]
  },
  {
   "cell_type": "code",
   "execution_count": 12,
   "metadata": {
    "id": "fESMjaBBA8mx"
   },
   "outputs": [],
   "source": [
    "# Definicion de métricas (No editar)\n",
    "# Obtenido de https://gist.github.com/bwhite/3726239\n",
    "\n",
    "def precision_at_k(r, k):\n",
    "    assert k >= 1\n",
    "    r = np.asarray(r)[:k] != 0\n",
    "    if r.size != k:\n",
    "        raise ValueError('Relevance score length < k')\n",
    "    return np.mean(r)\n",
    "\n",
    "def average_precision(r):\n",
    "    r = np.asarray(r) != 0\n",
    "    out = [precision_at_k(r, k + 1) for k in range(r.size) if r[k]]\n",
    "    if not out:\n",
    "        return 0.\n",
    "    return np.mean(out)\n",
    "\n",
    "def mean_average_precision(rs):\n",
    "    return np.mean([average_precision(r) for r in rs])\n",
    "\n",
    "def dcg_at_k(r, k):\n",
    "    r = np.asfarray(r)[:k]\n",
    "    if r.size:\n",
    "        return np.sum(np.subtract(np.power(2, r), 1) / np.log2(np.arange(2, r.size + 2)))\n",
    "    return 0.\n",
    "\n",
    "\n",
    "def ndcg_at_k(r, k):\n",
    "    idcg = dcg_at_k(sorted(r, reverse=True), k)\n",
    "\n",
    "    if not idcg:\n",
    "        return 0.\n",
    "    return dcg_at_k(r, k) / idcg"
   ]
  },
  {
   "cell_type": "code",
   "execution_count": 13,
   "metadata": {
    "id": "VvM6ecOVrp7R"
   },
   "outputs": [],
   "source": [
    "def evaluate_model(model, n):\n",
    "    mean_map = 0.\n",
    "    mean_ndcg = 0.\n",
    "    for u in user_items_test.keys():\n",
    "        rec = model.recommend(user_ids[u], user_item_matrix[user_ids[u]], n)[0]\n",
    "        rec = [itemset[r] for r in rec]\n",
    "        rel_vector = [np.isin(rec, user_items_test[u], assume_unique=True).astype(int)]\n",
    "        mean_map += mean_average_precision(rel_vector)\n",
    "        mean_ndcg += ndcg_at_k(rel_vector, n)\n",
    "\n",
    "    mean_map /= len(user_items_test)\n",
    "    mean_ndcg /= len(user_items_test)\n",
    "\n",
    "    return mean_map, mean_ndcg"
   ]
  },
  {
   "cell_type": "code",
   "execution_count": 14,
   "metadata": {
    "id": "LevzqwMhteNA"
   },
   "outputs": [],
   "source": [
    "def show_recommendations(model, user, n):\n",
    "    recommendations = model.recommend(userid=user_ids[user], user_items=user_item_matrix[user_ids[user]], N=n)\n",
    "    return df_items.loc[recommendations[0]]['title']"
   ]
  },
  {
   "cell_type": "markdown",
   "metadata": {},
   "source": [
    "## Evaluación del modelo"
   ]
  },
  {
   "cell_type": "code",
   "execution_count": 15,
   "metadata": {},
   "outputs": [
    {
     "name": "stdout",
     "output_type": "stream",
     "text": [
      "map@5: 0.5126260683760677 \n",
      "ndcg@5: 0.7523076923076923\n",
      "map@10: 0.4710524182607519 \n",
      "ndcg@10: 0.8707692307692307\n",
      "map@15: 0.43530134765281264 \n",
      "ndcg@15: 0.9\n",
      "map@20: 0.4108770000943975 \n",
      "ndcg@20: 0.9353846153846154\n"
     ]
    }
   ],
   "source": [
    "for n in [5, 10, 15, 20]:\n",
    "    mmap, ndcg = evaluate_model(model_bpr, n)\n",
    "    print(f'map@{n}: {mmap} \\nndcg@{n}: {ndcg}')"
   ]
  },
  {
   "cell_type": "markdown",
   "metadata": {},
   "source": [
    "## Ajuste de hiperparámetros"
   ]
  },
  {
   "cell_type": "markdown",
   "metadata": {},
   "source": [
    "https://benfred.github.io/implicit/api/models/cpu/bpr.html"
   ]
  },
  {
   "cell_type": "code",
   "execution_count": 16,
   "metadata": {},
   "outputs": [
    {
     "name": "stderr",
     "output_type": "stream",
     "text": [
      "100%|█████████████████████████████████████████████| 100/100 [00:00<00:00, 353.70it/s, train_auc=81.99%, skipped=22.88%]\n",
      "100%|█████████████████████████████████████████████| 100/100 [00:00<00:00, 291.65it/s, train_auc=85.84%, skipped=22.24%]\n",
      "100%|█████████████████████████████████████████████| 100/100 [00:00<00:00, 307.55it/s, train_auc=87.34%, skipped=22.73%]\n",
      "100%|█████████████████████████████████████████████| 100/100 [00:00<00:00, 268.97it/s, train_auc=88.12%, skipped=22.55%]\n",
      "100%|█████████████████████████████████████████████| 100/100 [00:00<00:00, 281.68it/s, train_auc=89.02%, skipped=22.73%]\n",
      "100%|█████████████████████████████████████████████| 100/100 [00:00<00:00, 270.10it/s, train_auc=89.35%, skipped=22.70%]\n",
      "100%|█████████████████████████████████████████████| 100/100 [00:00<00:00, 256.62it/s, train_auc=89.48%, skipped=22.96%]\n",
      "100%|█████████████████████████████████████████████| 100/100 [00:00<00:00, 252.27it/s, train_auc=89.74%, skipped=22.72%]\n",
      "100%|█████████████████████████████████████████████| 100/100 [00:00<00:00, 234.37it/s, train_auc=89.59%, skipped=23.08%]\n",
      "100%|█████████████████████████████████████████████| 100/100 [00:00<00:00, 148.08it/s, train_auc=89.38%, skipped=22.81%]\n",
      "100%|█████████████████████████████████████████████| 100/100 [00:00<00:00, 205.04it/s, train_auc=89.65%, skipped=22.79%]\n",
      "100%|█████████████████████████████████████████████| 100/100 [00:00<00:00, 196.79it/s, train_auc=89.67%, skipped=22.83%]\n",
      "100%|█████████████████████████████████████████████| 100/100 [00:00<00:00, 123.92it/s, train_auc=89.64%, skipped=22.75%]\n",
      "100%|█████████████████████████████████████████████| 100/100 [00:00<00:00, 134.90it/s, train_auc=89.32%, skipped=22.79%]\n",
      "100%|███████████████████████████████████████████████| 10/10 [00:00<00:00, 140.76it/s, train_auc=55.36%, skipped=22.78%]\n",
      "100%|███████████████████████████████████████████████| 20/20 [00:00<00:00, 147.84it/s, train_auc=56.05%, skipped=22.65%]\n",
      "100%|███████████████████████████████████████████████| 30/30 [00:00<00:00, 109.98it/s, train_auc=71.60%, skipped=22.84%]\n",
      "100%|███████████████████████████████████████████████| 40/40 [00:00<00:00, 151.82it/s, train_auc=75.91%, skipped=22.63%]\n",
      "100%|███████████████████████████████████████████████| 50/50 [00:00<00:00, 133.22it/s, train_auc=79.27%, skipped=22.53%]\n",
      "100%|███████████████████████████████████████████████| 60/60 [00:00<00:00, 130.51it/s, train_auc=82.04%, skipped=22.80%]\n",
      "100%|███████████████████████████████████████████████| 70/70 [00:00<00:00, 139.19it/s, train_auc=84.23%, skipped=22.64%]\n",
      "100%|███████████████████████████████████████████████| 80/80 [00:00<00:00, 159.14it/s, train_auc=85.67%, skipped=22.78%]\n",
      "100%|███████████████████████████████████████████████| 90/90 [00:00<00:00, 167.62it/s, train_auc=87.53%, skipped=22.94%]\n",
      "100%|█████████████████████████████████████████████| 100/100 [00:00<00:00, 160.13it/s, train_auc=89.39%, skipped=22.78%]\n",
      "100%|█████████████████████████████████████████████| 110/110 [00:00<00:00, 160.33it/s, train_auc=90.60%, skipped=22.82%]\n",
      "100%|█████████████████████████████████████████████| 120/120 [00:00<00:00, 161.91it/s, train_auc=91.86%, skipped=22.85%]\n",
      "100%|█████████████████████████████████████████████| 130/130 [00:00<00:00, 157.72it/s, train_auc=92.96%, skipped=22.65%]\n",
      "100%|█████████████████████████████████████████████| 140/140 [00:00<00:00, 143.57it/s, train_auc=94.17%, skipped=22.68%]\n"
     ]
    }
   ],
   "source": [
    "factores = [i*5 for i in range(1, 15)]\n",
    "iteraciones = [i*10 for i in range(1, 15)]\n",
    "\n",
    "map_f = []\n",
    "ndcg_f = []\n",
    "\n",
    "map_it = []\n",
    "ndcg_it = []\n",
    "\n",
    "for f in factores:\n",
    "    model_bpr = implicit.bpr.BayesianPersonalizedRanking(factors=f)\n",
    "    model_bpr.fit(user_item_matrix)\n",
    "    mmap, ndcg = evaluate_model(model_bpr, 10)\n",
    "    map_f.append(mmap)\n",
    "    ndcg_f.append(ndcg)\n",
    "    \n",
    "for it in iteraciones:\n",
    "    model_bpr = implicit.bpr.BayesianPersonalizedRanking(iterations=it)\n",
    "    model_bpr.fit(user_item_matrix)\n",
    "    mmap, ndcg = evaluate_model(model_bpr, 10)\n",
    "    map_it.append(mmap)\n",
    "    ndcg_it.append(ndcg)\n"
   ]
  },
  {
   "cell_type": "code",
   "execution_count": 17,
   "metadata": {},
   "outputs": [
    {
     "data": {
      "image/png": "[encoded data removed]",
      "text/plain": [
       "<Figure size 640x480 with 1 Axes>"
      ]
     },
     "metadata": {},
     "output_type": "display_data"
    }
   ],
   "source": [
    "plt.plot(factores, map_f, 'r-')\n",
    "plt.plot(factores, map_f, 'bo')\n",
    "plt.show()"
   ]
  },
  {
   "cell_type": "code",
   "execution_count": 18,
   "metadata": {},
   "outputs": [
    {
     "data": {
      "image/png": "[encoded data removed]",
      "text/plain": [
       "<Figure size 640x480 with 1 Axes>"
      ]
     },
     "metadata": {},
     "output_type": "display_data"
    }
   ],
   "source": [
    "plt.plot(factores, ndcg_f, 'r-')\n",
    "plt.plot(factores, ndcg_f, 'bo')\n",
    "plt.show()"
   ]
  },
  {
   "cell_type": "code",
   "execution_count": 19,
   "metadata": {},
   "outputs": [
    {
     "data": {
      "image/png": "[encoded data removed]",
      "text/plain": [
       "<Figure size 640x480 with 1 Axes>"
      ]
     },
     "metadata": {},
     "output_type": "display_data"
    }
   ],
   "source": [
    "plt.plot(iteraciones, map_it, 'r-')\n",
    "plt.plot(iteraciones, map_it, 'bo')\n",
    "plt.show()"
   ]
  },
  {
   "cell_type": "code",
   "execution_count": 20,
   "metadata": {},
   "outputs": [
    {
     "data": {
      "image/png": "[encoded data removed]",
      "text/plain": [
       "<Figure size 640x480 with 1 Axes>"
      ]
     },
     "metadata": {},
     "output_type": "display_data"
    }
   ],
   "source": [
    "plt.plot(iteraciones, ndcg_it, 'r-')\n",
    "plt.plot(iteraciones, ndcg_it, 'bo')\n",
    "plt.show()"
   ]
  }
 ],
 "metadata": {
  "colab": {
   "provenance": []
  },
  "kernelspec": {
   "display_name": "Python 3 (ipykernel)",
   "language": "python",
   "name": "python3"
  },
  "language_info": {
   "codemirror_mode": {
    "name": "ipython",
    "version": 3
   },
   "file_extension": ".py",
   "mimetype": "text/x-python",
   "name": "python",
   "nbconvert_exporter": "python",
   "pygments_lexer": "ipython3",
   "version": "3.9.0"
  },
  "toc": {
   "base_numbering": 1,
   "nav_menu": {},
   "number_sections": true,
   "sideBar": true,
   "skip_h1_title": false,
   "title_cell": "Table of Contents",
   "title_sidebar": "Contents",
   "toc_cell": false,
   "toc_position": {},
   "toc_section_display": true,
   "toc_window_display": false
  },
  "widgets": {
   "application/vnd.jupyter.widget-state+json": {
    "065bb3bef4a34bbab8ef2f3c3832a4a2": {
     "model_module": "@jupyter-widgets/base",
     "model_module_version": "1.2.0",
     "model_name": "LayoutModel",
     "state": {
      "_model_module": "@jupyter-widgets/base",
      "_model_module_version": "1.2.0",
      "_model_name": "LayoutModel",
      "_view_count": null,
      "_view_module": "@jupyter-widgets/base",
      "_view_module_version": "1.2.0",
      "_view_name": "LayoutView",
      "align_content": null,
      "align_items": null,
      "align_self": null,
      "border": null,
      "bottom": null,
      "display": null,
      "flex": null,
      "flex_flow": null,
      "grid_area": null,
      "grid_auto_columns": null,
      "grid_auto_flow": null,
      "grid_auto_rows": null,
      "grid_column": null,
      "grid_gap": null,
      "grid_row": null,
      "grid_template_areas": null,
      "grid_template_columns": null,
      "grid_template_rows": null,
      "height": null,
      "justify_content": null,
      "justify_items": null,
      "left": null,
      "margin": null,
      "max_height": null,
      "max_width": null,
      "min_height": null,
      "min_width": null,
      "object_fit": null,
      "object_position": null,
      "order": null,
      "overflow": null,
      "overflow_x": null,
      "overflow_y": null,
      "padding": null,
      "right": null,
      "top": null,
      "visibility": null,
      "width": null
     }
    },
    "08694115d4e049109ca63c0aeb21166e": {
     "model_module": "@jupyter-widgets/controls",
     "model_module_version": "1.5.0",
     "model_name": "ProgressStyleModel",
     "state": {
      "_model_module": "@jupyter-widgets/controls",
      "_model_module_version": "1.5.0",
      "_model_name": "ProgressStyleModel",
      "_view_count": null,
      "_view_module": "@jupyter-widgets/base",
      "_view_module_version": "1.2.0",
      "_view_name": "StyleView",
      "bar_color": null,
      "description_width": ""
     }
    },
    "15a3f8c0e12a4983a0dd4d4d1d261d6e": {
     "model_module": "@jupyter-widgets/controls",
     "model_module_version": "1.5.0",
     "model_name": "DescriptionStyleModel",
     "state": {
      "_model_module": "@jupyter-widgets/controls",
      "_model_module_version": "1.5.0",
      "_model_name": "DescriptionStyleModel",
      "_view_count": null,
      "_view_module": "@jupyter-widgets/base",
      "_view_module_version": "1.2.0",
      "_view_name": "StyleView",
      "description_width": ""
     }
    },
    "22ce478e3e814c98a3f769e87cb36d53": {
     "model_module": "@jupyter-widgets/controls",
     "model_module_version": "1.5.0",
     "model_name": "HTMLModel",
     "state": {
      "_dom_classes": [],
      "_model_module": "@jupyter-widgets/controls",
      "_model_module_version": "1.5.0",
      "_model_name": "HTMLModel",
      "_view_count": null,
      "_view_module": "@jupyter-widgets/controls",
      "_view_module_version": "1.5.0",
      "_view_name": "HTMLView",
      "description": "",
      "description_tooltip": null,
      "layout": "IPY_MODEL_30cd6b03c29443f085137d385791dad6",
      "placeholder": "​",
      "style": "IPY_MODEL_15a3f8c0e12a4983a0dd4d4d1d261d6e",
      "value": " 40/40 [00:03&lt;00:00, 13.27it/s, train_auc=75.85%, skipped=24.49%]"
     }
    },
    "2bedab3b4c6242669116632eed1b2923": {
     "model_module": "@jupyter-widgets/controls",
     "model_module_version": "1.5.0",
     "model_name": "FloatProgressModel",
     "state": {
      "_dom_classes": [],
      "_model_module": "@jupyter-widgets/controls",
      "_model_module_version": "1.5.0",
      "_model_name": "FloatProgressModel",
      "_view_count": null,
      "_view_module": "@jupyter-widgets/controls",
      "_view_module_version": "1.5.0",
      "_view_name": "ProgressView",
      "bar_style": "success",
      "description": "",
      "description_tooltip": null,
      "layout": "IPY_MODEL_dcb7692a641f40908a63f2d42bd827f6",
      "max": 40,
      "min": 0,
      "orientation": "horizontal",
      "style": "IPY_MODEL_08694115d4e049109ca63c0aeb21166e",
      "value": 40
     }
    },
    "30cd6b03c29443f085137d385791dad6": {
     "model_module": "@jupyter-widgets/base",
     "model_module_version": "1.2.0",
     "model_name": "LayoutModel",
     "state": {
      "_model_module": "@jupyter-widgets/base",
      "_model_module_version": "1.2.0",
      "_model_name": "LayoutModel",
      "_view_count": null,
      "_view_module": "@jupyter-widgets/base",
      "_view_module_version": "1.2.0",
      "_view_name": "LayoutView",
      "align_content": null,
      "align_items": null,
      "align_self": null,
      "border": null,
      "bottom": null,
      "display": null,
      "flex": null,
      "flex_flow": null,
      "grid_area": null,
      "grid_auto_columns": null,
      "grid_auto_flow": null,
      "grid_auto_rows": null,
      "grid_column": null,
      "grid_gap": null,
      "grid_row": null,
      "grid_template_areas": null,
      "grid_template_columns": null,
      "grid_template_rows": null,
      "height": null,
      "justify_content": null,
      "justify_items": null,
      "left": null,
      "margin": null,
      "max_height": null,
      "max_width": null,
      "min_height": null,
      "min_width": null,
      "object_fit": null,
      "object_position": null,
      "order": null,
      "overflow": null,
      "overflow_x": null,
      "overflow_y": null,
      "padding": null,
      "right": null,
      "top": null,
      "visibility": null,
      "width": null
     }
    },
    "31682b08b4f24a22a67f765ce781eb63": {
     "model_module": "@jupyter-widgets/controls",
     "model_module_version": "1.5.0",
     "model_name": "HBoxModel",
     "state": {
      "_dom_classes": [],
      "_model_module": "@jupyter-widgets/controls",
      "_model_module_version": "1.5.0",
      "_model_name": "HBoxModel",
      "_view_count": null,
      "_view_module": "@jupyter-widgets/controls",
      "_view_module_version": "1.5.0",
      "_view_name": "HBoxView",
      "box_style": "",
      "children": [
       "IPY_MODEL_6cffd6817fad442a8c6055865a7a3ca3",
       "IPY_MODEL_5290262101ba4cafbbdc96ca69cb4dff",
       "IPY_MODEL_f050a1f323bf4ca3a21c7ff8b0f56f01"
      ],
      "layout": "IPY_MODEL_b47972aa90e34d619db1d0433ded96fe"
     }
    },
    "4030a4d1f8884bf395d7b7ca8002c3a2": {
     "model_module": "@jupyter-widgets/controls",
     "model_module_version": "1.5.0",
     "model_name": "HBoxModel",
     "state": {
      "_dom_classes": [],
      "_model_module": "@jupyter-widgets/controls",
      "_model_module_version": "1.5.0",
      "_model_name": "HBoxModel",
      "_view_count": null,
      "_view_module": "@jupyter-widgets/controls",
      "_view_module_version": "1.5.0",
      "_view_name": "HBoxView",
      "box_style": "",
      "children": [
       "IPY_MODEL_b443712c165c4c4b816967685fcdad7d",
       "IPY_MODEL_2bedab3b4c6242669116632eed1b2923",
       "IPY_MODEL_22ce478e3e814c98a3f769e87cb36d53"
      ],
      "layout": "IPY_MODEL_5fddbca398bc45a4ae5241611c89b221"
     }
    },
    "5290262101ba4cafbbdc96ca69cb4dff": {
     "model_module": "@jupyter-widgets/controls",
     "model_module_version": "1.5.0",
     "model_name": "FloatProgressModel",
     "state": {
      "_dom_classes": [],
      "_model_module": "@jupyter-widgets/controls",
      "_model_module_version": "1.5.0",
      "_model_name": "FloatProgressModel",
      "_view_count": null,
      "_view_module": "@jupyter-widgets/controls",
      "_view_module_version": "1.5.0",
      "_view_name": "ProgressView",
      "bar_style": "success",
      "description": "",
      "description_tooltip": null,
      "layout": "IPY_MODEL_065bb3bef4a34bbab8ef2f3c3832a4a2",
      "max": 10,
      "min": 0,
      "orientation": "horizontal",
      "style": "IPY_MODEL_7e03ed65a9aa4f85a4928f350f9d07e4",
      "value": 10
     }
    },
    "5fddbca398bc45a4ae5241611c89b221": {
     "model_module": "@jupyter-widgets/base",
     "model_module_version": "1.2.0",
     "model_name": "LayoutModel",
     "state": {
      "_model_module": "@jupyter-widgets/base",
      "_model_module_version": "1.2.0",
      "_model_name": "LayoutModel",
      "_view_count": null,
      "_view_module": "@jupyter-widgets/base",
      "_view_module_version": "1.2.0",
      "_view_name": "LayoutView",
      "align_content": null,
      "align_items": null,
      "align_self": null,
      "border": null,
      "bottom": null,
      "display": null,
      "flex": null,
      "flex_flow": null,
      "grid_area": null,
      "grid_auto_columns": null,
      "grid_auto_flow": null,
      "grid_auto_rows": null,
      "grid_column": null,
      "grid_gap": null,
      "grid_row": null,
      "grid_template_areas": null,
      "grid_template_columns": null,
      "grid_template_rows": null,
      "height": null,
      "justify_content": null,
      "justify_items": null,
      "left": null,
      "margin": null,
      "max_height": null,
      "max_width": null,
      "min_height": null,
      "min_width": null,
      "object_fit": null,
      "object_position": null,
      "order": null,
      "overflow": null,
      "overflow_x": null,
      "overflow_y": null,
      "padding": null,
      "right": null,
      "top": null,
      "visibility": null,
      "width": null
     }
    },
    "66ed84b7702f4e3a9fc1b264213638b1": {
     "model_module": "@jupyter-widgets/base",
     "model_module_version": "1.2.0",
     "model_name": "LayoutModel",
     "state": {
      "_model_module": "@jupyter-widgets/base",
      "_model_module_version": "1.2.0",
      "_model_name": "LayoutModel",
      "_view_count": null,
      "_view_module": "@jupyter-widgets/base",
      "_view_module_version": "1.2.0",
      "_view_name": "LayoutView",
      "align_content": null,
      "align_items": null,
      "align_self": null,
      "border": null,
      "bottom": null,
      "display": null,
      "flex": null,
      "flex_flow": null,
      "grid_area": null,
      "grid_auto_columns": null,
      "grid_auto_flow": null,
      "grid_auto_rows": null,
      "grid_column": null,
      "grid_gap": null,
      "grid_row": null,
      "grid_template_areas": null,
      "grid_template_columns": null,
      "grid_template_rows": null,
      "height": null,
      "justify_content": null,
      "justify_items": null,
      "left": null,
      "margin": null,
      "max_height": null,
      "max_width": null,
      "min_height": null,
      "min_width": null,
      "object_fit": null,
      "object_position": null,
      "order": null,
      "overflow": null,
      "overflow_x": null,
      "overflow_y": null,
      "padding": null,
      "right": null,
      "top": null,
      "visibility": null,
      "width": null
     }
    },
    "6cffd6817fad442a8c6055865a7a3ca3": {
     "model_module": "@jupyter-widgets/controls",
     "model_module_version": "1.5.0",
     "model_name": "HTMLModel",
     "state": {
      "_dom_classes": [],
      "_model_module": "@jupyter-widgets/controls",
      "_model_module_version": "1.5.0",
      "_model_name": "HTMLModel",
      "_view_count": null,
      "_view_module": "@jupyter-widgets/controls",
      "_view_module_version": "1.5.0",
      "_view_name": "HTMLView",
      "description": "",
      "description_tooltip": null,
      "layout": "IPY_MODEL_dbc96b10461e447e9e1f166f19848ce4",
      "placeholder": "​",
      "style": "IPY_MODEL_6fbc59bbb7da4a1a8fc90552383031e6",
      "value": "100%"
     }
    },
    "6fbc59bbb7da4a1a8fc90552383031e6": {
     "model_module": "@jupyter-widgets/controls",
     "model_module_version": "1.5.0",
     "model_name": "DescriptionStyleModel",
     "state": {
      "_model_module": "@jupyter-widgets/controls",
      "_model_module_version": "1.5.0",
      "_model_name": "DescriptionStyleModel",
      "_view_count": null,
      "_view_module": "@jupyter-widgets/base",
      "_view_module_version": "1.2.0",
      "_view_name": "StyleView",
      "description_width": ""
     }
    },
    "7e03ed65a9aa4f85a4928f350f9d07e4": {
     "model_module": "@jupyter-widgets/controls",
     "model_module_version": "1.5.0",
     "model_name": "ProgressStyleModel",
     "state": {
      "_model_module": "@jupyter-widgets/controls",
      "_model_module_version": "1.5.0",
      "_model_name": "ProgressStyleModel",
      "_view_count": null,
      "_view_module": "@jupyter-widgets/base",
      "_view_module_version": "1.2.0",
      "_view_name": "StyleView",
      "bar_color": null,
      "description_width": ""
     }
    },
    "b443712c165c4c4b816967685fcdad7d": {
     "model_module": "@jupyter-widgets/controls",
     "model_module_version": "1.5.0",
     "model_name": "HTMLModel",
     "state": {
      "_dom_classes": [],
      "_model_module": "@jupyter-widgets/controls",
      "_model_module_version": "1.5.0",
      "_model_name": "HTMLModel",
      "_view_count": null,
      "_view_module": "@jupyter-widgets/controls",
      "_view_module_version": "1.5.0",
      "_view_name": "HTMLView",
      "description": "",
      "description_tooltip": null,
      "layout": "IPY_MODEL_bd3f817134474d859695c1300e3f3d3f",
      "placeholder": "​",
      "style": "IPY_MODEL_d57aa26ad8a74612ae8c2a002e10dd95",
      "value": "100%"
     }
    },
    "b47972aa90e34d619db1d0433ded96fe": {
     "model_module": "@jupyter-widgets/base",
     "model_module_version": "1.2.0",
     "model_name": "LayoutModel",
     "state": {
      "_model_module": "@jupyter-widgets/base",
      "_model_module_version": "1.2.0",
      "_model_name": "LayoutModel",
      "_view_count": null,
      "_view_module": "@jupyter-widgets/base",
      "_view_module_version": "1.2.0",
      "_view_name": "LayoutView",
      "align_content": null,
      "align_items": null,
      "align_self": null,
      "border": null,
      "bottom": null,
      "display": null,
      "flex": null,
      "flex_flow": null,
      "grid_area": null,
      "grid_auto_columns": null,
      "grid_auto_flow": null,
      "grid_auto_rows": null,
      "grid_column": null,
      "grid_gap": null,
      "grid_row": null,
      "grid_template_areas": null,
      "grid_template_columns": null,
      "grid_template_rows": null,
      "height": null,
      "justify_content": null,
      "justify_items": null,
      "left": null,
      "margin": null,
      "max_height": null,
      "max_width": null,
      "min_height": null,
      "min_width": null,
      "object_fit": null,
      "object_position": null,
      "order": null,
      "overflow": null,
      "overflow_x": null,
      "overflow_y": null,
      "padding": null,
      "right": null,
      "top": null,
      "visibility": null,
      "width": null
     }
    },
    "bd3f817134474d859695c1300e3f3d3f": {
     "model_module": "@jupyter-widgets/base",
     "model_module_version": "1.2.0",
     "model_name": "LayoutModel",
     "state": {
      "_model_module": "@jupyter-widgets/base",
      "_model_module_version": "1.2.0",
      "_model_name": "LayoutModel",
      "_view_count": null,
      "_view_module": "@jupyter-widgets/base",
      "_view_module_version": "1.2.0",
      "_view_name": "LayoutView",
      "align_content": null,
      "align_items": null,
      "align_self": null,
      "border": null,
      "bottom": null,
      "display": null,
      "flex": null,
      "flex_flow": null,
      "grid_area": null,
      "grid_auto_columns": null,
      "grid_auto_flow": null,
      "grid_auto_rows": null,
      "grid_column": null,
      "grid_gap": null,
      "grid_row": null,
      "grid_template_areas": null,
      "grid_template_columns": null,
      "grid_template_rows": null,
      "height": null,
      "justify_content": null,
      "justify_items": null,
      "left": null,
      "margin": null,
      "max_height": null,
      "max_width": null,
      "min_height": null,
      "min_width": null,
      "object_fit": null,
      "object_position": null,
      "order": null,
      "overflow": null,
      "overflow_x": null,
      "overflow_y": null,
      "padding": null,
      "right": null,
      "top": null,
      "visibility": null,
      "width": null
     }
    },
    "d57aa26ad8a74612ae8c2a002e10dd95": {
     "model_module": "@jupyter-widgets/controls",
     "model_module_version": "1.5.0",
     "model_name": "DescriptionStyleModel",
     "state": {
      "_model_module": "@jupyter-widgets/controls",
      "_model_module_version": "1.5.0",
      "_model_name": "DescriptionStyleModel",
      "_view_count": null,
      "_view_module": "@jupyter-widgets/base",
      "_view_module_version": "1.2.0",
      "_view_name": "StyleView",
      "description_width": ""
     }
    },
    "dbc96b10461e447e9e1f166f19848ce4": {
     "model_module": "@jupyter-widgets/base",
     "model_module_version": "1.2.0",
     "model_name": "LayoutModel",
     "state": {
      "_model_module": "@jupyter-widgets/base",
      "_model_module_version": "1.2.0",
      "_model_name": "LayoutModel",
      "_view_count": null,
      "_view_module": "@jupyter-widgets/base",
      "_view_module_version": "1.2.0",
      "_view_name": "LayoutView",
      "align_content": null,
      "align_items": null,
      "align_self": null,
      "border": null,
      "bottom": null,
      "display": null,
      "flex": null,
      "flex_flow": null,
      "grid_area": null,
      "grid_auto_columns": null,
      "grid_auto_flow": null,
      "grid_auto_rows": null,
      "grid_column": null,
      "grid_gap": null,
      "grid_row": null,
      "grid_template_areas": null,
      "grid_template_columns": null,
      "grid_template_rows": null,
      "height": null,
      "justify_content": null,
      "justify_items": null,
      "left": null,
      "margin": null,
      "max_height": null,
      "max_width": null,
      "min_height": null,
      "min_width": null,
      "object_fit": null,
      "object_position": null,
      "order": null,
      "overflow": null,
      "overflow_x": null,
      "overflow_y": null,
      "padding": null,
      "right": null,
      "top": null,
      "visibility": null,
      "width": null
     }
    },
    "dcb7692a641f40908a63f2d42bd827f6": {
     "model_module": "@jupyter-widgets/base",
     "model_module_version": "1.2.0",
     "model_name": "LayoutModel",
     "state": {
      "_model_module": "@jupyter-widgets/base",
      "_model_module_version": "1.2.0",
      "_model_name": "LayoutModel",
      "_view_count": null,
      "_view_module": "@jupyter-widgets/base",
      "_view_module_version": "1.2.0",
      "_view_name": "LayoutView",
      "align_content": null,
      "align_items": null,
      "align_self": null,
      "border": null,
      "bottom": null,
      "display": null,
      "flex": null,
      "flex_flow": null,
      "grid_area": null,
      "grid_auto_columns": null,
      "grid_auto_flow": null,
      "grid_auto_rows": null,
      "grid_column": null,
      "grid_gap": null,
      "grid_row": null,
      "grid_template_areas": null,
      "grid_template_columns": null,
      "grid_template_rows": null,
      "height": null,
      "justify_content": null,
      "justify_items": null,
      "left": null,
      "margin": null,
      "max_height": null,
      "max_width": null,
      "min_height": null,
      "min_width": null,
      "object_fit": null,
      "object_position": null,
      "order": null,
      "overflow": null,
      "overflow_x": null,
      "overflow_y": null,
      "padding": null,
      "right": null,
      "top": null,
      "visibility": null,
      "width": null
     }
    },
    "e9688991c7db4e77a6c2e758bded7fcb": {
     "model_module": "@jupyter-widgets/controls",
     "model_module_version": "1.5.0",
     "model_name": "DescriptionStyleModel",
     "state": {
      "_model_module": "@jupyter-widgets/controls",
      "_model_module_version": "1.5.0",
      "_model_name": "DescriptionStyleModel",
      "_view_count": null,
      "_view_module": "@jupyter-widgets/base",
      "_view_module_version": "1.2.0",
      "_view_name": "StyleView",
      "description_width": ""
     }
    },
    "f050a1f323bf4ca3a21c7ff8b0f56f01": {
     "model_module": "@jupyter-widgets/controls",
     "model_module_version": "1.5.0",
     "model_name": "HTMLModel",
     "state": {
      "_dom_classes": [],
      "_model_module": "@jupyter-widgets/controls",
      "_model_module_version": "1.5.0",
      "_model_name": "HTMLModel",
      "_view_count": null,
      "_view_module": "@jupyter-widgets/controls",
      "_view_module_version": "1.5.0",
      "_view_name": "HTMLView",
      "description": "",
      "description_tooltip": null,
      "layout": "IPY_MODEL_66ed84b7702f4e3a9fc1b264213638b1",
      "placeholder": "​",
      "style": "IPY_MODEL_e9688991c7db4e77a6c2e758bded7fcb",
      "value": " 10/10 [00:03&lt;00:00,  3.51it/s]"
     }
    }
   }
  }
 },
 "nbformat": 4,
 "nbformat_minor": 1
}
