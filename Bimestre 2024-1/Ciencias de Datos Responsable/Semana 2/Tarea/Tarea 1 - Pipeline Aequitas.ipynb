{
 "cells": [
  {
   "cell_type": "code",
   "execution_count": 1,
   "metadata": {},
   "outputs": [],
   "source": [
    "%%capture\n",
    "!pip install aequitas"
   ]
  },
  {
   "cell_type": "code",
   "execution_count": 5,
   "metadata": {},
   "outputs": [],
   "source": [
    "from aequitas.group import Group"
   ]
  },
  {
   "cell_type": "code",
   "execution_count": 6,
   "metadata": {},
   "outputs": [],
   "source": [
    "import numpy as np\n",
    "\n",
    "import pandas as pd\n",
    "\n",
    "from sklearn.model_selection import train_test_split\n",
    "from sklearn.linear_model import LogisticRegressionCV"
   ]
  },
  {
   "cell_type": "code",
   "execution_count": null,
   "metadata": {},
   "outputs": [],
   "source": []
  },
  {
   "cell_type": "markdown",
   "metadata": {},
   "source": [
    "# Tarea 1: Pipeline Aequitas\n",
    "\n",
    "El objetivo de esta tarea es evaluar el uso del toolkit Aequitas para obtener métricas de grupo. En particular, trabajarán con los datos de riesgo crediticio alemán. A continuación se lista una descripción de los datos:\n",
    "\n",
    "**Columnas Numéricas**\n",
    "\n",
    "- `duration`: Duración en meses. Rango (4,72).\n",
    "- `credit_amount`: Cantidad de crédito solicitada. Rango (250, 18424) en DM - Marco alemán.\n",
    "- `installment_commitment`: Tasa de cuota en porcentaje del ingreso disponible. Rango (1,4).\n",
    "- `residence_since`: Tiempo de residencia actual. Rango (1,4).\n",
    "- `age`: Edad en años. Rango (19, 75).\n",
    "- `existing_credits`: Número de créditos existentes en este banco. Rango (1,4) en DM - Marco alemán.\n",
    "- `num_dependents`: Número de personas responsables de proveer el mantenimiento. Rango (1,2).\n",
    "\n",
    "**Columnas Categóricas**\n",
    "\n",
    "- `checking_status`: Valores `'0<=X<200', '<0', '>=200', 'no checking'`.\n",
    "- `credit_history`: Historial crediticio del solicitante. Valores `['all paid', 'critical/other existing credit', 'delayed previously', 'existing paid', 'no credits/all paid']`.\n",
    "- `purpose`: Motivo por el cual el solicitante solicitó un préstamo. Valores `['business', 'domestic appliance', 'education', 'furniture/equipment', 'new car', 'other', 'radio/tv', 'repairs', 'retraining', 'used car']`.\n",
    "- `savings_status`: Cuenta de ahorros/bonos. Valores `['100<=X<500', '500<=X<1000', '<100', '>=1000', 'no known savings']`.\n",
    "- `employment`: Empleo actual desde (en años). Valores `['1<=X<4', '4<=X<7', '<1', '>=7', 'unemployed']`.\n",
    "- `other_parties`: Otros deudores / garantes. Valores `['co applicant', 'guarantor', 'none']`.\n",
    "- `property_magnitude`: Bienes del solicitante. Valores `['car', 'life insurance', 'no known property', 'real estate']`.\n",
    "- `other_payment_plans`: Otros planes de pago a plazos. Valores `['bank', 'none', 'stores']`.\n",
    "- `housing`: Situación de vivienda del solicitante. Valores `['for free', 'own', 'rent']`.\n",
    "- `job`: Categorías de empleo definidas por el banco. Valores `['high qualif/self emp/mgmt', 'skilled', 'unemp/unskilled non res', 'unskilled resident']`.\n",
    "- `own_telephone`: Si hay un teléfono registrado a nombre del cliente. Valores `['none', 'yes']`.\n",
    "- `foreign_worker`: Variable protegida. Valores `['no', 'yes']`.\n",
    "- `sex`: Variable protegida. Valores `['female', 'male']`.\n",
    "- `marital_status`: Estado personal. Valores `['div/dep/mar', 'div/sep', 'mar/wid', 'single']`.\n",
    "\n",
    "**Etiqueta (variable objetivo)**\n",
    "\n",
    "- `credit-risk`: `'good'` (favorable) o `'bad'` (desfavorable).\n",
    "\n",
    "En este notebook se implementa, a partir de estos datos, un modelo simple de Regresión Logística el cual es utilizado para predecir el riesgo crediticio (bueno/malo), por lo tanto ustedes **NO DEBEN** implementar un modelo de clasificación, sino evaluar las métricas de grupo del modelo que se les entrega.\n",
    "\n",
    "Esta tarea es **individual**. "
   ]
  },
  {
   "cell_type": "code",
   "execution_count": 56,
   "metadata": {
    "deletable": false,
    "editable": false,
    "nbgrader": {
     "cell_type": "code",
     "checksum": "fd11600332df5af756d51e4eaeab38ff",
     "grade": false,
     "grade_id": "cell-93be295a1c36cc85",
     "locked": true,
     "schema_version": 3,
     "solution": false,
     "task": false
    }
   },
   "outputs": [],
   "source": [
    "# En esta celda de código se desarrolla el modelo de Regresión Logística.\n",
    "\n",
    "df = pd.read_csv('german_risk.csv')\n",
    "df1 = df.copy()\n",
    "\n",
    "# Binarización de algunas variables.\n",
    "\n",
    "df['sex'] = df['sex'].map({'male': 1, 'female': 0})\n",
    "df['age_cat'] = df['age_cat'].map({'aged': 1, 'young': 0})\n",
    "df['foreign_worker'] = df['foreign_worker'].map({'no': 1, 'yes': 0})\n",
    "df['credit-risk'] = df['credit-risk'].map({'good': 1, 'bad': 0})\n",
    "\n",
    "# Separamos X e Y.\n",
    "\n",
    "X = df.loc[:, df.columns != 'credit-risk']\n",
    "y = df.loc[:, df.columns == 'credit-risk']\n",
    "\n",
    "# Obtenemos variables dummies.\n",
    "\n",
    "catcols = X.select_dtypes(exclude='number').columns\n",
    "ignore = ['sex', 'age_cat', 'foreign_worker']\n",
    "for catcol in catcols:\n",
    "    if catcol in ignore:\n",
    "        pass\n",
    "    else:\n",
    "        dummies = pd.get_dummies(X[catcol])\n",
    "        X = pd.concat([X, dummies], axis=1).drop(columns=[catcol])\n",
    "\n",
    "\n",
    "# Datos de entrenamiento y prueba\n",
    "\n",
    "X_train, X_test, y_train, y_test = train_test_split(X, y, test_size=0.2, random_state=908)\n",
    "\n",
    "# No utilizaremos la edad\n",
    "\n",
    "X_train.drop(columns=['age'], inplace=True)\n",
    "X_test.drop(columns=['age'], inplace=True)\n",
    "\n",
    "# Regresión logística\n",
    "\n",
    "lr = LogisticRegressionCV(solver='liblinear', cv=10, random_state=908)\n",
    "lr.fit(X_train, np.ravel(y_train))\n",
    "\n",
    "# Predicciones del modelo\n",
    "\n",
    "y_pred_proba = lr.predict_proba(X_test)[:,1]\n",
    "y_pred = y_pred_proba >= 0.5\n",
    "\n",
    "# DataFrame Final\n",
    "\n",
    "to_eval = X_test.copy()\n",
    "to_eval['score'] = y_pred\n",
    "to_eval['label'] = y_test"
   ]
  },
  {
   "cell_type": "code",
   "execution_count": 57,
   "metadata": {},
   "outputs": [
    {
     "name": "stdout",
     "output_type": "stream",
     "text": [
      "<class 'pandas.core.frame.DataFrame'>\n",
      "Int64Index: 200 entries, 298 to 219\n",
      "Data columns (total 63 columns):\n",
      " #   Column                          Non-Null Count  Dtype  \n",
      "---  ------                          --------------  -----  \n",
      " 0   sex                             200 non-null    int64  \n",
      " 1   age_cat                         200 non-null    int64  \n",
      " 2   foreign_worker                  200 non-null    int64  \n",
      " 3   duration                        200 non-null    float64\n",
      " 4   credit_amount                   200 non-null    float64\n",
      " 5   installment_commitment          200 non-null    float64\n",
      " 6   residence_since                 200 non-null    float64\n",
      " 7   existing_credits                200 non-null    float64\n",
      " 8   num_dependents                  200 non-null    float64\n",
      " 9   0<=X<200                        200 non-null    uint8  \n",
      " 10  <0                              200 non-null    uint8  \n",
      " 11  >=200                           200 non-null    uint8  \n",
      " 12  no checking                     200 non-null    uint8  \n",
      " 13  all paid                        200 non-null    uint8  \n",
      " 14  critical/other existing credit  200 non-null    uint8  \n",
      " 15  delayed previously              200 non-null    uint8  \n",
      " 16  existing paid                   200 non-null    uint8  \n",
      " 17  no credits/all paid             200 non-null    uint8  \n",
      " 18  business                        200 non-null    uint8  \n",
      " 19  domestic appliance              200 non-null    uint8  \n",
      " 20  education                       200 non-null    uint8  \n",
      " 21  furniture/equipment             200 non-null    uint8  \n",
      " 22  new car                         200 non-null    uint8  \n",
      " 23  other                           200 non-null    uint8  \n",
      " 24  radio/tv                        200 non-null    uint8  \n",
      " 25  repairs                         200 non-null    uint8  \n",
      " 26  retraining                      200 non-null    uint8  \n",
      " 27  used car                        200 non-null    uint8  \n",
      " 28  100<=X<500                      200 non-null    uint8  \n",
      " 29  500<=X<1000                     200 non-null    uint8  \n",
      " 30  <100                            200 non-null    uint8  \n",
      " 31  >=1000                          200 non-null    uint8  \n",
      " 32  no known savings                200 non-null    uint8  \n",
      " 33  1<=X<4                          200 non-null    uint8  \n",
      " 34  4<=X<7                          200 non-null    uint8  \n",
      " 35  <1                              200 non-null    uint8  \n",
      " 36  >=7                             200 non-null    uint8  \n",
      " 37  unemployed                      200 non-null    uint8  \n",
      " 38  co applicant                    200 non-null    uint8  \n",
      " 39  guarantor                       200 non-null    uint8  \n",
      " 40  none                            200 non-null    uint8  \n",
      " 41  car                             200 non-null    uint8  \n",
      " 42  life insurance                  200 non-null    uint8  \n",
      " 43  no known property               200 non-null    uint8  \n",
      " 44  real estate                     200 non-null    uint8  \n",
      " 45  bank                            200 non-null    uint8  \n",
      " 46  none                            200 non-null    uint8  \n",
      " 47  stores                          200 non-null    uint8  \n",
      " 48  for free                        200 non-null    uint8  \n",
      " 49  own                             200 non-null    uint8  \n",
      " 50  rent                            200 non-null    uint8  \n",
      " 51  high qualif/self emp/mgmt       200 non-null    uint8  \n",
      " 52  skilled                         200 non-null    uint8  \n",
      " 53  unemp/unskilled non res         200 non-null    uint8  \n",
      " 54  unskilled resident              200 non-null    uint8  \n",
      " 55  none                            200 non-null    uint8  \n",
      " 56  yes                             200 non-null    uint8  \n",
      " 57  div/dep/mar                     200 non-null    uint8  \n",
      " 58  div/sep                         200 non-null    uint8  \n",
      " 59  mar/wid                         200 non-null    uint8  \n",
      " 60  single                          200 non-null    uint8  \n",
      " 61  score                           200 non-null    bool   \n",
      " 62  label                           200 non-null    int64  \n",
      "dtypes: bool(1), float64(6), int64(4), uint8(52)\n",
      "memory usage: 27.5 KB\n"
     ]
    }
   ],
   "source": [
    "to_eval.info()"
   ]
  },
  {
   "cell_type": "markdown",
   "metadata": {
    "deletable": false,
    "editable": false,
    "nbgrader": {
     "cell_type": "markdown",
     "checksum": "3a38550d84df5978d3f428843ca936e6",
     "grade": false,
     "grade_id": "cell-e045606644c3d9a9",
     "locked": true,
     "schema_version": 3,
     "solution": false,
     "task": false
    }
   },
   "source": [
    "## 1. Prepara los datos `to_eval` para poder evaluarlos con Aequitas.\n",
    "\n",
    "Para ello, define la función\n",
    "```python\n",
    "def pre_processing(to_eval):\n",
    "    ...\n",
    "    return df\n",
    "```\n",
    "que recibe los datos y los pre-procesa para utilizarlos en Aequitas. La función debe retornar el DataFrame obtenido. Puedes encontrar más detalles en la [documentación de Aequitas](https://dssg.github.io/aequitas/input_data.html#Input-data-for-Python-package). Utiliza los atributos `sex`, `age_cat` y `foreign_worker`. Asegúrese de mapear los valores de los distintos grupos a sus valores originales (i.e. `1` $\\rightarrow$ `male`). Use los mismos valores que en los datos originales."
   ]
  },
  {
   "cell_type": "code",
   "execution_count": 58,
   "metadata": {
    "deletable": false,
    "nbgrader": {
     "cell_type": "code",
     "checksum": "da6a9a2f700285d598ee3e99b1f74d08",
     "grade": false,
     "grade_id": "cell-65a16a7e3b76800f",
     "locked": false,
     "schema_version": 3,
     "solution": true,
     "task": false
    }
   },
   "outputs": [],
   "source": [
    "def pre_processing(to_eval):\n",
    "    # your code here\n",
    "    \"\"\"\n",
    "    Considerar transformaciones anteriores: \n",
    "    \n",
    "    df['sex'] = df['sex'].map({'male': 1, 'female': 0})\n",
    "    df['age_cat'] = df['age_cat'].map({'aged': 1, 'young': 0})\n",
    "    df['foreign_worker'] = df['foreign_worker'].map({'no': 1, 'yes': 0})\n",
    "    df['credit-risk'] = df['credit-risk'].map({'good': 1, 'bad': 0})    \n",
    "    \"\"\"\n",
    "    # Llevamos los valores a los datos originales\n",
    "    to_eval_original = to_eval.copy()\n",
    "    to_eval_original['sex'] = to_eval_original['sex'].map({1: 'male', 0: 'female'})\n",
    "    to_eval_original['age_cat'] = to_eval_original['age_cat'].map({1: 'aged', 0: 'young'})\n",
    "    to_eval_original['foreign_worker'] = to_eval_original['foreign_worker'].map({1: 'no', 0: 'yes'})\n",
    "    columns_to_use = ['sex', 'age_cat', 'foreign_worker', 'score', 'label']\n",
    "    to_eval_original = to_eval_original[columns_to_use]\n",
    "\n",
    "    # Transformamos para usar en Aequitas\n",
    "    [columns_to_use]\n",
    "    cat_cols = to_eval_original.select_dtypes(include='object').columns\n",
    "    for col in cat_cols:\n",
    "        to_eval_original[col] = to_eval_original[col].astype(str)\n",
    "\n",
    "    to_eval_original['label_value'] = to_eval_original['label']\n",
    "    to_eval_original.drop(columns='label', inplace=True)\n",
    "    to_eval_original['score'] = to_eval_original['score'].map({True: 1, False: 0})\n",
    "\n",
    "    return to_eval_original"
   ]
  },
  {
   "cell_type": "code",
   "execution_count": 59,
   "metadata": {
    "deletable": false,
    "editable": false,
    "nbgrader": {
     "cell_type": "code",
     "checksum": "8e23f1e8a4af2f84d6c11386f06d38d9",
     "grade": true,
     "grade_id": "cell-120be8bf94465161",
     "locked": true,
     "points": 1,
     "schema_version": 3,
     "solution": false,
     "task": false
    }
   },
   "outputs": [],
   "source": [
    "assert pre_processing(to_eval)['sex'].dtype == 'object'\n",
    "assert 'male' in pre_processing(to_eval)['sex'].unique()\n",
    "assert pre_processing(to_eval)['score'].dtype in ['int', 'float']"
   ]
  },
  {
   "cell_type": "markdown",
   "metadata": {
    "deletable": false,
    "editable": false,
    "nbgrader": {
     "cell_type": "markdown",
     "checksum": "b960fd4b35d8f8f9461b62b2575f7db3",
     "grade": false,
     "grade_id": "cell-e391532bbf266bc6",
     "locked": true,
     "schema_version": 3,
     "solution": false,
     "task": false
    }
   },
   "source": [
    "## 2. Calcula las métricas grupales con Aequitas.\n",
    "\n",
    "Para ello, utiliza la clase `Group()` de Aequitas. Define la función\n",
    "```python\n",
    "def group_metrics(to_eval):\n",
    "    ...\n",
    "    return df\n",
    "```\n",
    "que recibe el DataFrame ya pre-procesado en la pregunta anterior y retorna el DataFrame de las métricas grupales (fpr, fnr, fdr, for, etc)."
   ]
  },
  {
   "cell_type": "code",
   "execution_count": 62,
   "metadata": {
    "deletable": false,
    "nbgrader": {
     "cell_type": "code",
     "checksum": "ae7ad4b5aa2be2c97398430af775dbd3",
     "grade": false,
     "grade_id": "cell-7f0f57c60cd51f49",
     "locked": false,
     "schema_version": 3,
     "solution": true,
     "task": false
    }
   },
   "outputs": [],
   "source": [
    "def group_metrics(to_eval):\n",
    "    # your code here\n",
    "    bias = Group()\n",
    "    xtab, _ = bias.get_crosstabs(to_eval)\n",
    "    return xtab\n",
    "    "
   ]
  },
  {
   "cell_type": "code",
   "execution_count": 63,
   "metadata": {
    "deletable": false,
    "editable": false,
    "nbgrader": {
     "cell_type": "code",
     "checksum": "50d2314103270b996404cf6f412c8de0",
     "grade": true,
     "grade_id": "cell-c3d3d4531d9a2fb1",
     "locked": true,
     "points": 1,
     "schema_version": 3,
     "solution": false,
     "task": false
    }
   },
   "outputs": [],
   "source": [
    "# Tests\n",
    "female = group_metrics(pre_processing(to_eval)).query(\"attribute_value == 'female'\").reset_index(drop=True)\n",
    "male = group_metrics(pre_processing(to_eval)).query(\"attribute_value == 'male'\").reset_index(drop=True)\n",
    "\n",
    "assert group_metrics(pre_processing(to_eval)).shape == (6, 27)"
   ]
  },
  {
   "cell_type": "code",
   "execution_count": null,
   "metadata": {},
   "outputs": [],
   "source": []
  }
 ],
 "metadata": {
  "kernelspec": {
   "display_name": "Python 3",
   "language": "python",
   "name": "python3"
  },
  "language_info": {
   "codemirror_mode": {
    "name": "ipython",
    "version": 3
   },
   "file_extension": ".py",
   "mimetype": "text/x-python",
   "name": "python",
   "nbconvert_exporter": "python",
   "pygments_lexer": "ipython3",
   "version": "3.11.3"
  }
 },
 "nbformat": 4,
 "nbformat_minor": 4
}
