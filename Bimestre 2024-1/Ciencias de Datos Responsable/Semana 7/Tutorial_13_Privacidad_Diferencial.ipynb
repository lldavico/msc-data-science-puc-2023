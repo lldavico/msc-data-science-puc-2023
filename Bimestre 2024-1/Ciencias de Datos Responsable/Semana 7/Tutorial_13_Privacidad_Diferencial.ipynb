{
  "cells": [
    {
      "cell_type": "markdown",
      "metadata": {
        "id": "YrV8ShXlu_AJ"
      },
      "source": [
        "<center><h1>MCD: Ciencia de Datos Responsable</h1><center>\n",
        "<h2>Tutorial 13 - Privacidad Diferencial</h2>\n"
      ]
    },
    {
      "cell_type": "markdown",
      "metadata": {
        "id": "oWuivyTWvCbk"
      },
      "source": [
        "En este tutorial introduciremos el concepto de Privacidad Diferencial, técnica que tiene por objetivo proteger la privacidad de los datos mientras se preserva la utilidad de estos para ser analizados.\n",
        "\n",
        "## Introducción\n",
        "\n",
        "En sí, la privacidad diferencial constituye una promesa de los responsables de los datos:  \"No serás afectado de manera adversa o de otro modo al permitir que tus datos sean utilizados en cualquier estudio.\"\n",
        "\n",
        "Uno de los enfoques más simples para la privacidad diferencial es \"Randomized Response\" o respuesta aleatorizada o randomizada. Supongamos que necesitamos acceder a información sensible mediante una encuesta, por ejemplo, una encuesta sobre infidelidad. Es claro que muchas personas tenderán a negarse a responder esta encuesta si su privacidad no está garantizada. ¿Cómo podemos cuantificar qué fracción de la población es infiel (en este ejemplo), asegurando que la privacidad de los participantes estará a salvo?\n",
        "\n",
        "Vamos caso por caso. Tengamos en consideración que la respuesta a esta pregunta solo toma valores sí/no:\n",
        "\n",
        "- La primera opción sería recibir las respuestas verdaderas de cada encuestado; en este caso, la respuesta es igual a la verdad del encuestado y por ende no tenemos privacidad.\n",
        "\n",
        "- La segunda opción es que se responda sí/no de manera aleatoria, ambos con probabilidad 0,5. En este caso la privacidad es \"perfecta\", pues la respuesta **no tiene relación con la verdad**, es decir, no podemos deducir la verdadera situación de un encuestado viendo su respuesta, pues independiente de su verdad la probabilidad de responder sí o no es la misma. Por ende la encuesta pierde también su accuracy, y no es posible realizar inferencias a partir de esta.\n",
        "\n",
        "- Para la tercera opción, denotemos por $X_i$ (1: sí, 0: no) la verdad del encuestado, y por $Y_i$ (1: sí, 0: no) la respuesta de este. Pensemos en el siguiente esquema de respuesta:\n",
        "<center>\n",
        "$Y_i =\n",
        "\\begin{cases}\n",
        "  X_i, & \\text{con probabilidad } \\frac{1}{2} + \\gamma \\\\\n",
        "  1 - X_i , & \\text{con probabilidad } \\frac{1}{2} - \\gamma\n",
        "\\end{cases}$<center>"
      ]
    },
    {
      "cell_type": "markdown",
      "metadata": {
        "id": "a-fZLaYOz9nu"
      },
      "source": [
        "Es decir, el encuestado dice la verdad con probabilidad $\\frac{1}{2} + \\gamma$ y miente con probabilidad $\\frac{1}{2} - \\gamma$. Notemos que en este caso existe lo que llamamos \"negabilidad plausible\" pues si tomamos un valor de, por ejemplo $\\gamma = 0.25$ , la respuesta del encuestado será la verdad con probabilidad 0.75 y no será la verdad con probabilidad 0.25. Qué tan negable es la respuesta otorgada está relacionado directamente con el nivel de privacidad.\n",
        "\n",
        "## Aplicación de Randomized Response con lanzamiento de monedas.\n",
        "\n",
        "Consideremos nuevamente la pregunta: ¿Es usted infiel? y considere el siguiente esquema de respuesta:\n",
        "\n",
        "![Randomized Response Coin Flip](https://www.researchgate.net/publication/359729213/figure/fig1/AS:1141344529592321@1649129149405/Summary-of-randomized-response-method-with-unbiased-coins-ie-with-equal-1-2.png)\n",
        "\n",
        "Supongamos entonces que una persona ha sido infiel. ¿Con qué probabilidad responderá que ha sido infiel? Tenemos que:\n",
        "<center>\n",
        "$P(Y_i = 1 | X_i = 1) = P(Cara)\\cdot\\frac{1}{2} + P(Sello)$"
      ]
    },
    {
      "cell_type": "markdown",
      "metadata": {
        "id": "XseXDYEC30o5"
      },
      "source": [
        "<center>\n",
        "$\\Leftrightarrow P(Y_i = 1 | X_i = 1) = \\frac{1}{2}\\cdot\\frac{1}{2} + \\frac{1}{2} = 0.75$</center>\n",
        "\n",
        "\n",
        "De forma similar, podemos calcular la posibiilidad de que una persona diga que no ha sido infiel dado que sí lo ha sido:\n",
        "\n",
        "\n",
        "<center>\n",
        "$P(Y_i = 0 | X_i = 1) = P(Cara)\\cdot\\frac{1}{2} = 0.25$\n"
      ]
    },
    {
      "cell_type": "markdown",
      "metadata": {
        "id": "JQZc-YaA3BuT"
      },
      "source": [
        "Simulemos como sería el algoritmo de respuesta en este caso:"
      ]
    },
    {
      "cell_type": "code",
      "execution_count": null,
      "metadata": {
        "id": "9x6hnrGpu_SS"
      },
      "outputs": [],
      "source": [
        "import numpy as np\n",
        "\n",
        "def CoinFlipRR(X):\n",
        "\n",
        "  # Lanzamos la primera moneda\n",
        "  coin_1 = np.random.choice(['Cara', 'Sello'], p=[0.5, 0.5])\n",
        "\n",
        "  # Si la primera respuesta fue sello, se debe responder con la verdad.\n",
        "  if coin_1 == 'Sello':\n",
        "    y = X\n",
        "    return y\n",
        "\n",
        "  else:\n",
        "    coin_2 = np.random.choice(['Cara', 'Sello'], p=[0.5, 0.5])\n",
        "\n",
        "    # Supondremos que con cara se debe responder que sí, independiente de la verdad.\n",
        "    if coin_2 == 'Cara':\n",
        "      y = 1\n",
        "      return y\n",
        "\n",
        "    # Supondremos que con sello se debe responder que no, independiente de la verdad.\n",
        "    else:\n",
        "      y = 0\n",
        "      return y"
      ]
    },
    {
      "cell_type": "code",
      "execution_count": null,
      "metadata": {
        "colab": {
          "base_uri": "https://localhost:8080/"
        },
        "id": "8Ro2wkLI5MpK",
        "outputId": "9efda4c0-55d1-4df9-c696-a3ce36c59e43"
      },
      "outputs": [
        {
          "name": "stdout",
          "output_type": "stream",
          "text": [
            "Simulación de respuesta 1: 1\n",
            "Simulación de respuesta 2: 0\n",
            "Simulación de respuesta 3: 1\n",
            "Simulación de respuesta 4: 1\n",
            "Simulación de respuesta 5: 0\n",
            "Simulación de respuesta 6: 1\n",
            "Simulación de respuesta 7: 1\n",
            "Simulación de respuesta 8: 0\n",
            "Simulación de respuesta 9: 1\n",
            "Simulación de respuesta 10: 0\n"
          ]
        }
      ],
      "source": [
        "import time\n",
        "\n",
        "for i in range(10):\n",
        "  print(f'Simulación de respuesta {i + 1}: {CoinFlipRR(1)}')\n",
        "  time.sleep(0.5)"
      ]
    },
    {
      "cell_type": "markdown",
      "metadata": {
        "id": "wnG214iArOrv"
      },
      "source": [
        "## Estimación de las cantidades verdaderas.\n",
        "\n",
        "Ahora buscamos, a partir del número de respuestas recibidas, estimar las cantidades verdaderas (en este caso la proporción de personas infieles dentro de las encuestadas). Denotemos por $R_+$ la cantidad de encuestados que responden afirmativamente, $N_{-}$ la cantidad de encuestados que no ha sido infiel, $N_{+}$ la cantidad de encuestados que sí ha sido infiel y $n$ el total de encuestados. Luego tenemos que:\n",
        "\n",
        "$R_+ = 0.25\\cdot N_{-} + 0.75 \\cdot N_{+}$\n",
        "\n",
        "\n",
        "$\\Leftrightarrow R_+ = 0.25\\cdot(n-N_{+}) + 0.75\\cdot N_{+}$\n",
        "\n",
        "$\\Leftrightarrow R_+ = 0.25\\cdot n- 0.25 \\cdot N_{+} + 0.75\\cdot N_{+}$\n",
        "\n",
        "$\\Leftrightarrow R_+ = 0.25\\cdot n + 0.5\\cdot N_{+}$\n",
        "\n",
        "$\\Leftrightarrow 2\\cdot R_+ = 0.5\\cdot n + N_{+}$\n",
        "\n",
        "$\\Leftrightarrow N_{+} = 2 \\cdot R_{+} - 0.5 \\cdot n$\n",
        "\n",
        "donde $N_{+}$ es la estimación de la cantidad de encuestados que ha sido infiel. Luego, haciendo uso del método de Randomized Response, podemos estimar la proporción de los encuestados que es infiel asegurando cierto nivel de privacidad. Finalmente, cabe preguntarse ¿Cómo cuantificamos el nivel de privacidad otorgado por este método? Para ello debemos dar una definición más formal de privacidad diferencial.\n",
        "\n",
        "Diremos que un algoritmo $M$ (en este caso Randomized Response) es $\\epsilon$-diferencialmente privado si y solo si para cada par de inputs $X$ y $X'$ que difieren en un solo una entrada y para todos los outputs T plausibles tenemos que:\n",
        "\n",
        "<br>$P(M(X)\\in T) = e^\\epsilon P(M(X')\\in T)$</br>\n",
        "\n",
        "En nuestro caso de Randomized Response con una moneda, la condición quedaría como:\n",
        "\n",
        "<br>$P(Y=1|X=1) = e^\\epsilon P(Y=0|X=1)$</br>\n",
        "\n",
        "<br>$\\Leftrightarrow ln(\\frac{P(Y=1|X=1)}{P(Y=0|X=1)}) = \\epsilon$</br>\n",
        "\n",
        "\n",
        "\n"
      ]
    },
    {
      "cell_type": "markdown",
      "metadata": {
        "id": "iDmEnxTkxISU"
      },
      "source": [
        "Por lo que en este caso obtenemos:"
      ]
    },
    {
      "cell_type": "code",
      "execution_count": null,
      "metadata": {
        "colab": {
          "base_uri": "https://localhost:8080/"
        },
        "id": "6HVKPE-czOi4",
        "outputId": "bf2ed68d-cf85-4fed-a1a9-4e9657d37e45"
      },
      "outputs": [
        {
          "name": "stdout",
          "output_type": "stream",
          "text": [
            "Randomized Response es 1.0986122886681098-diferencialmente privado\n"
          ]
        }
      ],
      "source": [
        "epsilon = np.log(0.75 / 0.25)\n",
        "print(f'Randomized Response es {epsilon}-diferencialmente privado')"
      ]
    },
    {
      "cell_type": "markdown",
      "metadata": {
        "id": "4LcO2tIj3JiU"
      },
      "source": [
        "Algunas consideraciones:\n",
        "\n",
        "- Menores valores de epsilon implican una mayor privacidad.\n",
        "- El valor de epsilon debería ser pequeño, del orden de $10^{-1}$ o $10^0$."
      ]
    }
  ],
  "metadata": {
    "colab": {
      "provenance": []
    },
    "kernelspec": {
      "display_name": "Python 3",
      "name": "python3"
    },
    "language_info": {
      "name": "python",
      "version": "3.11.3"
    }
  },
  "nbformat": 4,
  "nbformat_minor": 0
}
