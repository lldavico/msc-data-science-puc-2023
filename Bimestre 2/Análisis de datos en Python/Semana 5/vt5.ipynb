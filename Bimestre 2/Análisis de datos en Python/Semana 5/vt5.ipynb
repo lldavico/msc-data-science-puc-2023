{
 "cells": [
  {
   "cell_type": "code",
   "execution_count": 1,
   "id": "b1cc248c",
   "metadata": {},
   "outputs": [],
   "source": [
    "import pandas as pd\n",
    "import numpy as np\n",
    "import glob\n",
    "import plotly.express as px\n",
    "import matplotlib.pyplot as plt\n",
    "plt.style.use('default')\n",
    "  \n",
    "# %matplotlib inline: only draw static\n",
    "# images in the notebookº\n",
    "%matplotlib inline\n",
    "\n",
    "import warnings\n",
    "warnings.filterwarnings('ignore')"
   ]
  },
  {
   "cell_type": "markdown",
   "id": "c929e960",
   "metadata": {},
   "source": [
    "## Carga de información"
   ]
  },
  {
   "cell_type": "code",
   "execution_count": 2,
   "id": "9c2b999c",
   "metadata": {},
   "outputs": [],
   "source": [
    "laliga2122 = pd.read_excel('LaLiga21 22.xlsx', )\n",
    "laliga2021 = pd.read_excel('LaLiga20 21.xlsx', )\n",
    "laliga1920 = pd.read_excel('LaLiga19 20.xlsx', )\n",
    "laliga1819 = pd.read_excel('LaLiga18 19.xlsx', )\n",
    "laliga1718 = pd.read_excel('LaLiga17 18.xlsx', )\n",
    "laliga1617 = pd.read_excel('LaLiga16 17.xlsx', )"
   ]
  },
  {
   "cell_type": "markdown",
   "id": "23ee6402",
   "metadata": {},
   "source": [
    "## Creando dataframes"
   ]
  },
  {
   "cell_type": "code",
   "execution_count": 3,
   "id": "b5a0e0f0",
   "metadata": {},
   "outputs": [],
   "source": [
    "laliga = laliga2122.dropna(how='all').append(laliga2021.dropna(how='all')\n",
    ").append(laliga1920.dropna(how='all')).append(laliga1819.dropna(how='all')\n",
    ").append(laliga1718.dropna(how='all')).append(laliga1617.dropna(how='all')).loc[:,\n",
    "['Wk','Date','Local','Score','Visitante', 'Attendance']]\n",
    "\n",
    "\n",
    "laliga['Attendance']= laliga['Attendance']*1000\n",
    "laliga['Torneo'] = 'Primera división'"
   ]
  },
  {
   "cell_type": "code",
   "execution_count": 4,
   "id": "f47fa22b",
   "metadata": {},
   "outputs": [
    {
     "data": {
      "text/html": [
       "<div>\n",
       "<style scoped>\n",
       "    .dataframe tbody tr th:only-of-type {\n",
       "        vertical-align: middle;\n",
       "    }\n",
       "\n",
       "    .dataframe tbody tr th {\n",
       "        vertical-align: top;\n",
       "    }\n",
       "\n",
       "    .dataframe thead th {\n",
       "        text-align: right;\n",
       "    }\n",
       "</style>\n",
       "<table border=\"1\" class=\"dataframe\">\n",
       "  <thead>\n",
       "    <tr style=\"text-align: right;\">\n",
       "      <th></th>\n",
       "      <th>Wk</th>\n",
       "      <th>Date</th>\n",
       "      <th>Local</th>\n",
       "      <th>Score</th>\n",
       "      <th>Visitante</th>\n",
       "      <th>Attendance</th>\n",
       "      <th>Torneo</th>\n",
       "    </tr>\n",
       "  </thead>\n",
       "  <tbody>\n",
       "    <tr>\n",
       "      <th>0</th>\n",
       "      <td>1.0</td>\n",
       "      <td>2021-08-13</td>\n",
       "      <td>Valencia</td>\n",
       "      <td>1–0</td>\n",
       "      <td>Getafe</td>\n",
       "      <td>9868.0</td>\n",
       "      <td>Primera división</td>\n",
       "    </tr>\n",
       "    <tr>\n",
       "      <th>1</th>\n",
       "      <td>1.0</td>\n",
       "      <td>2021-08-14</td>\n",
       "      <td>Cádiz</td>\n",
       "      <td>1–1</td>\n",
       "      <td>Levante</td>\n",
       "      <td>6941.0</td>\n",
       "      <td>Primera división</td>\n",
       "    </tr>\n",
       "    <tr>\n",
       "      <th>2</th>\n",
       "      <td>1.0</td>\n",
       "      <td>2021-08-14</td>\n",
       "      <td>Mallorca</td>\n",
       "      <td>1–1</td>\n",
       "      <td>Betis</td>\n",
       "      <td>6279.0</td>\n",
       "      <td>Primera división</td>\n",
       "    </tr>\n",
       "    <tr>\n",
       "      <th>3</th>\n",
       "      <td>1.0</td>\n",
       "      <td>2021-08-14</td>\n",
       "      <td>Osasuna</td>\n",
       "      <td>0–0</td>\n",
       "      <td>Espanyol</td>\n",
       "      <td>6715.0</td>\n",
       "      <td>Primera división</td>\n",
       "    </tr>\n",
       "    <tr>\n",
       "      <th>4</th>\n",
       "      <td>1.0</td>\n",
       "      <td>2021-08-14</td>\n",
       "      <td>Alavés</td>\n",
       "      <td>1–4</td>\n",
       "      <td>Real Madrid</td>\n",
       "      <td>3968.0</td>\n",
       "      <td>Primera división</td>\n",
       "    </tr>\n",
       "    <tr>\n",
       "      <th>...</th>\n",
       "      <td>...</td>\n",
       "      <td>...</td>\n",
       "      <td>...</td>\n",
       "      <td>...</td>\n",
       "      <td>...</td>\n",
       "      <td>...</td>\n",
       "      <td>...</td>\n",
       "    </tr>\n",
       "    <tr>\n",
       "      <th>415</th>\n",
       "      <td>38.0</td>\n",
       "      <td>2017-05-21</td>\n",
       "      <td>Valencia</td>\n",
       "      <td>1–3</td>\n",
       "      <td>Villarreal</td>\n",
       "      <td>33587.0</td>\n",
       "      <td>Primera división</td>\n",
       "    </tr>\n",
       "    <tr>\n",
       "      <th>416</th>\n",
       "      <td>38.0</td>\n",
       "      <td>2017-05-21</td>\n",
       "      <td>Atlético Madrid</td>\n",
       "      <td>3–1</td>\n",
       "      <td>Athletic Club</td>\n",
       "      <td>52314.0</td>\n",
       "      <td>Primera división</td>\n",
       "    </tr>\n",
       "    <tr>\n",
       "      <th>417</th>\n",
       "      <td>38.0</td>\n",
       "      <td>2017-05-21</td>\n",
       "      <td>Celta Vigo</td>\n",
       "      <td>2–2</td>\n",
       "      <td>Real Sociedad</td>\n",
       "      <td>14188.0</td>\n",
       "      <td>Primera división</td>\n",
       "    </tr>\n",
       "    <tr>\n",
       "      <th>418</th>\n",
       "      <td>38.0</td>\n",
       "      <td>2017-05-21</td>\n",
       "      <td>Barcelona</td>\n",
       "      <td>4–2</td>\n",
       "      <td>Eibar</td>\n",
       "      <td>74932.0</td>\n",
       "      <td>Primera división</td>\n",
       "    </tr>\n",
       "    <tr>\n",
       "      <th>419</th>\n",
       "      <td>38.0</td>\n",
       "      <td>2017-05-21</td>\n",
       "      <td>Málaga</td>\n",
       "      <td>0–2</td>\n",
       "      <td>Real Madrid</td>\n",
       "      <td>27855.0</td>\n",
       "      <td>Primera división</td>\n",
       "    </tr>\n",
       "  </tbody>\n",
       "</table>\n",
       "<p>2280 rows × 7 columns</p>\n",
       "</div>"
      ],
      "text/plain": [
       "       Wk       Date            Local Score      Visitante  Attendance  \\\n",
       "0     1.0 2021-08-13         Valencia   1–0         Getafe      9868.0   \n",
       "1     1.0 2021-08-14            Cádiz   1–1        Levante      6941.0   \n",
       "2     1.0 2021-08-14         Mallorca   1–1          Betis      6279.0   \n",
       "3     1.0 2021-08-14          Osasuna   0–0       Espanyol      6715.0   \n",
       "4     1.0 2021-08-14           Alavés   1–4    Real Madrid      3968.0   \n",
       "..    ...        ...              ...   ...            ...         ...   \n",
       "415  38.0 2017-05-21         Valencia   1–3     Villarreal     33587.0   \n",
       "416  38.0 2017-05-21  Atlético Madrid   3–1  Athletic Club     52314.0   \n",
       "417  38.0 2017-05-21       Celta Vigo   2–2  Real Sociedad     14188.0   \n",
       "418  38.0 2017-05-21        Barcelona   4–2          Eibar     74932.0   \n",
       "419  38.0 2017-05-21           Málaga   0–2    Real Madrid     27855.0   \n",
       "\n",
       "               Torneo  \n",
       "0    Primera división  \n",
       "1    Primera división  \n",
       "2    Primera división  \n",
       "3    Primera división  \n",
       "4    Primera división  \n",
       "..                ...  \n",
       "415  Primera división  \n",
       "416  Primera división  \n",
       "417  Primera división  \n",
       "418  Primera división  \n",
       "419  Primera división  \n",
       "\n",
       "[2280 rows x 7 columns]"
      ]
     },
     "execution_count": 4,
     "metadata": {},
     "output_type": "execute_result"
    }
   ],
   "source": [
    "partidos6t = pd.concat([laliga],axis = 0)\n",
    "partidos6t"
   ]
  },
  {
   "cell_type": "markdown",
   "id": "dede3249",
   "metadata": {},
   "source": [
    "## Creando nuevas columnas"
   ]
  },
  {
   "cell_type": "code",
   "execution_count": 5,
   "id": "81bc1228",
   "metadata": {},
   "outputs": [],
   "source": [
    "def golesvisita(marcador):\n",
    "    goles = marcador.split('–')\n",
    "    return int(goles[1])\n",
    "\n",
    "def goleslocal(marcador):\n",
    "    goles = marcador.split('–')\n",
    "    return int(goles[0])\n",
    "\n",
    "partidos6t['Goles Local'] = partidos6t['Score'].apply(goleslocal)\n",
    "partidos6t['Goles Visitante'] = partidos6t['Score'].apply(golesvisita)\n",
    "partidos6t['Total goles partido']= partidos6t['Goles Local']+partidos6t['Goles Visitante']"
   ]
  },
  {
   "cell_type": "code",
   "execution_count": 6,
   "id": "efeca9c6",
   "metadata": {},
   "outputs": [],
   "source": [
    "def torneo(año,mes):\n",
    "    if ((año==2016) & (mes<=12)|(año==2017) & (mes<8)):\n",
    "        return '16/17'\n",
    "    elif ((año==2017) & (mes<=12)|(año==2018) & (mes<8)):\n",
    "        return '17/18'\n",
    "    elif ((año==2018) & (mes<=12)|(año==2019) & (mes<8)):\n",
    "        return '18/19'\n",
    "    elif ((año==2019) & (mes<=12)|(año==2020) & (mes<9)):\n",
    "        return '19/20'\n",
    "    elif ((año==2020) & (mes<=12)|(año==2021) & (mes<8)):\n",
    "        return '20/21'\n",
    "    elif ((año==2021) & (mes<=12)|(año==2022) & (mes<8)):\n",
    "        return '21/22'\n",
    "\n",
    "    \n",
    "partidos6t['Año'] = partidos6t['Date'].dt.year\n",
    "partidos6t['Mes'] = partidos6t['Date'].dt.month\n",
    "partidos6t['Temporada'] = partidos6t.apply(lambda x: torneo(x['Año'],x['Mes']),axis = 1)"
   ]
  },
  {
   "cell_type": "code",
   "execution_count": 7,
   "id": "2be37dbe",
   "metadata": {},
   "outputs": [],
   "source": [
    "def resultado(string):\n",
    "    goles = string.split('–')\n",
    "    if int(goles[0])>int(goles[1]):\n",
    "        return 'Local'\n",
    "    if int(goles[0])<int(goles[1]):\n",
    "        return 'Visitante'\n",
    "    else: \n",
    "        return 'Empate'\n",
    "    \n",
    "def resultado_equipo(string, local, visita):\n",
    "    goles = string.split('–')\n",
    "    if int(goles[0])>int(goles[1]):\n",
    "        return local\n",
    "    if int(goles[0])<int(goles[1]):\n",
    "        return visita\n",
    "    else: \n",
    "        return 'Empate'\n",
    "    \n",
    "partidos6t['Resultado'] = partidos6t['Score'].apply(resultado)\n",
    "partidos6t['Ganador'] = partidos6t.apply(lambda x: resultado_equipo(x['Score'],x['Local'],x['Visitante']),axis=1)"
   ]
  },
  {
   "cell_type": "markdown",
   "id": "c96b1f74",
   "metadata": {},
   "source": [
    "## Tabla de posiciones hasta la fecha 33 (inclusive)"
   ]
  },
  {
   "cell_type": "code",
   "execution_count": 8,
   "id": "8eace37e",
   "metadata": {},
   "outputs": [],
   "source": [
    "ej2122 = partidos6t[(partidos6t['Temporada']=='21/22')&(partidos6t['Torneo']=='Primera división')]\n",
    "equip2122 = ej2122['Local'].unique().tolist()"
   ]
  },
  {
   "cell_type": "code",
   "execution_count": 9,
   "id": "8713c5e2",
   "metadata": {},
   "outputs": [],
   "source": [
    "def tabla_posicion(data,fecha,equipos):\n",
    "    tabla = {}\n",
    "    for equipo in equipos:\n",
    "        data_usar = data[(data['Wk']<=fecha)&((data['Local']==equipo)|(data['Visitante']==equipo))]\n",
    "        puntos = 0\n",
    "        for i in range(len(data_usar)):\n",
    "            ganador = str(data_usar.iloc[i]['Ganador'])\n",
    "            if ganador == equipo:\n",
    "                puntos += 3\n",
    "            if ganador == 'Empate':\n",
    "                puntos +=1\n",
    "        tabla[equipo] = puntos\n",
    "    df = pd.DataFrame([[key, tabla[key]] for key in tabla.keys()], columns=['Equipo', 'Puntos'])\n",
    "    df = df.sort_values(by='Puntos',ascending = False).reset_index()\n",
    "    return df[['Equipo','Puntos']]"
   ]
  },
  {
   "cell_type": "code",
   "execution_count": 10,
   "id": "854b8e50",
   "metadata": {},
   "outputs": [
    {
     "data": {
      "text/html": [
       "<div>\n",
       "<style scoped>\n",
       "    .dataframe tbody tr th:only-of-type {\n",
       "        vertical-align: middle;\n",
       "    }\n",
       "\n",
       "    .dataframe tbody tr th {\n",
       "        vertical-align: top;\n",
       "    }\n",
       "\n",
       "    .dataframe thead th {\n",
       "        text-align: right;\n",
       "    }\n",
       "</style>\n",
       "<table border=\"1\" class=\"dataframe\">\n",
       "  <thead>\n",
       "    <tr style=\"text-align: right;\">\n",
       "      <th></th>\n",
       "      <th>Equipo</th>\n",
       "      <th>Puntos</th>\n",
       "    </tr>\n",
       "  </thead>\n",
       "  <tbody>\n",
       "    <tr>\n",
       "      <th>0</th>\n",
       "      <td>Real Madrid</td>\n",
       "      <td>78</td>\n",
       "    </tr>\n",
       "    <tr>\n",
       "      <th>1</th>\n",
       "      <td>Barcelona</td>\n",
       "      <td>63</td>\n",
       "    </tr>\n",
       "    <tr>\n",
       "      <th>2</th>\n",
       "      <td>Sevilla</td>\n",
       "      <td>63</td>\n",
       "    </tr>\n",
       "    <tr>\n",
       "      <th>3</th>\n",
       "      <td>Atlético Madrid</td>\n",
       "      <td>61</td>\n",
       "    </tr>\n",
       "    <tr>\n",
       "      <th>4</th>\n",
       "      <td>Betis</td>\n",
       "      <td>57</td>\n",
       "    </tr>\n",
       "    <tr>\n",
       "      <th>5</th>\n",
       "      <td>Real Sociedad</td>\n",
       "      <td>55</td>\n",
       "    </tr>\n",
       "    <tr>\n",
       "      <th>6</th>\n",
       "      <td>Villarreal</td>\n",
       "      <td>52</td>\n",
       "    </tr>\n",
       "    <tr>\n",
       "      <th>7</th>\n",
       "      <td>Athletic Club</td>\n",
       "      <td>48</td>\n",
       "    </tr>\n",
       "    <tr>\n",
       "      <th>8</th>\n",
       "      <td>Osasuna</td>\n",
       "      <td>44</td>\n",
       "    </tr>\n",
       "    <tr>\n",
       "      <th>9</th>\n",
       "      <td>Valencia</td>\n",
       "      <td>42</td>\n",
       "    </tr>\n",
       "    <tr>\n",
       "      <th>10</th>\n",
       "      <td>Rayo Vallecano</td>\n",
       "      <td>40</td>\n",
       "    </tr>\n",
       "    <tr>\n",
       "      <th>11</th>\n",
       "      <td>Celta Vigo</td>\n",
       "      <td>39</td>\n",
       "    </tr>\n",
       "    <tr>\n",
       "      <th>12</th>\n",
       "      <td>Espanyol</td>\n",
       "      <td>39</td>\n",
       "    </tr>\n",
       "    <tr>\n",
       "      <th>13</th>\n",
       "      <td>Elche</td>\n",
       "      <td>38</td>\n",
       "    </tr>\n",
       "    <tr>\n",
       "      <th>14</th>\n",
       "      <td>Getafe</td>\n",
       "      <td>35</td>\n",
       "    </tr>\n",
       "    <tr>\n",
       "      <th>15</th>\n",
       "      <td>Mallorca</td>\n",
       "      <td>32</td>\n",
       "    </tr>\n",
       "    <tr>\n",
       "      <th>16</th>\n",
       "      <td>Cádiz</td>\n",
       "      <td>31</td>\n",
       "    </tr>\n",
       "    <tr>\n",
       "      <th>17</th>\n",
       "      <td>Granada</td>\n",
       "      <td>30</td>\n",
       "    </tr>\n",
       "    <tr>\n",
       "      <th>18</th>\n",
       "      <td>Alavés</td>\n",
       "      <td>25</td>\n",
       "    </tr>\n",
       "    <tr>\n",
       "      <th>19</th>\n",
       "      <td>Levante</td>\n",
       "      <td>25</td>\n",
       "    </tr>\n",
       "  </tbody>\n",
       "</table>\n",
       "</div>"
      ],
      "text/plain": [
       "             Equipo  Puntos\n",
       "0       Real Madrid      78\n",
       "1         Barcelona      63\n",
       "2           Sevilla      63\n",
       "3   Atlético Madrid      61\n",
       "4             Betis      57\n",
       "5     Real Sociedad      55\n",
       "6        Villarreal      52\n",
       "7     Athletic Club      48\n",
       "8           Osasuna      44\n",
       "9          Valencia      42\n",
       "10   Rayo Vallecano      40\n",
       "11       Celta Vigo      39\n",
       "12         Espanyol      39\n",
       "13            Elche      38\n",
       "14           Getafe      35\n",
       "15         Mallorca      32\n",
       "16            Cádiz      31\n",
       "17          Granada      30\n",
       "18           Alavés      25\n",
       "19          Levante      25"
      ]
     },
     "execution_count": 10,
     "metadata": {},
     "output_type": "execute_result"
    }
   ],
   "source": [
    "tabla_33 = tabla_posicion(ej2122,33,equip2122)\n",
    "tabla_33"
   ]
  },
  {
   "cell_type": "markdown",
   "id": "64b63b8f",
   "metadata": {},
   "source": [
    "## Gráfico con la evolución en la posición de un equipo cualquier, desde la fecha 1 a la fecha n (inclusive)"
   ]
  },
  {
   "cell_type": "markdown",
   "id": "9059c71f",
   "metadata": {},
   "source": [
    "Torneo y equipos a utilizar:"
   ]
  },
  {
   "cell_type": "code",
   "execution_count": 11,
   "id": "1048dae0",
   "metadata": {},
   "outputs": [],
   "source": [
    "ej2122 = partidos6t[(partidos6t['Temporada']=='21/22')&(partidos6t['Torneo']=='Primera división')]\n",
    "equip2122 = ej2122['Local'].unique().tolist()"
   ]
  },
  {
   "cell_type": "code",
   "execution_count": 12,
   "id": "6ede290a",
   "metadata": {},
   "outputs": [],
   "source": [
    "def tabla_posicion2(data,fecha,equipos,eq):\n",
    "    tabla = {}\n",
    "    for equipo in equipos:\n",
    "        data_usar = data[(data['Wk']<=fecha)&((data['Local']==equipo)|(data['Visitante']==equipo))]\n",
    "        puntos = 0\n",
    "        for i in range(len(data_usar)):\n",
    "            ganador = str(data_usar.iloc[i]['Ganador'])\n",
    "            if ganador == equipo:\n",
    "                puntos += 3\n",
    "            if ganador == 'Empate':\n",
    "                puntos +=1\n",
    "        tabla[equipo] = puntos\n",
    "    df = pd.DataFrame([[key, tabla[key]] for key in tabla.keys()], columns=['Equipo', 'Puntos'])\n",
    "    df = df.sort_values(by='Puntos',ascending = False).reset_index()\n",
    "    df = df[['Equipo','Puntos']]\n",
    "    pos = df[df['Equipo']==eq].index.values[0]\n",
    "    return pos+1"
   ]
  },
  {
   "cell_type": "code",
   "execution_count": 13,
   "id": "8333dbd9",
   "metadata": {},
   "outputs": [],
   "source": [
    "fechas = sorted(ej2122['Wk'].unique().tolist())"
   ]
  },
  {
   "cell_type": "markdown",
   "id": "813878d4",
   "metadata": {},
   "source": [
    "Fecha hasta que desea estudiar"
   ]
  },
  {
   "cell_type": "code",
   "execution_count": 14,
   "id": "bdf2bd57",
   "metadata": {},
   "outputs": [
    {
     "name": "stdout",
     "output_type": "stream",
     "text": [
      "Hasta que fecha le interesa estudiar la evolución de la posición: 38\n"
     ]
    }
   ],
   "source": [
    "fecha = int(input('Hasta que fecha le interesa estudiar la evolución de la posición: '))"
   ]
  },
  {
   "cell_type": "markdown",
   "id": "901618e0",
   "metadata": {},
   "source": [
    "Equipo a estudiar"
   ]
  },
  {
   "cell_type": "code",
   "execution_count": 15,
   "id": "ffb361bc",
   "metadata": {},
   "outputs": [
    {
     "name": "stdout",
     "output_type": "stream",
     "text": [
      "Que equipo desea estudiar? Betis\n"
     ]
    }
   ],
   "source": [
    "equipo = str(input('Que equipo desea estudiar? '))"
   ]
  },
  {
   "cell_type": "markdown",
   "id": "6ae6f36e",
   "metadata": {},
   "source": [
    "Creamos la evolución de posiciones"
   ]
  },
  {
   "cell_type": "code",
   "execution_count": 16,
   "id": "c17c05f5",
   "metadata": {},
   "outputs": [],
   "source": [
    "posiciones = []\n",
    "for fec in fechas:\n",
    "    pos = tabla_posicion2(ej2122,fec,equip2122,equipo)\n",
    "    posiciones.append(pos)\n",
    "    if fec == fecha:\n",
    "        break"
   ]
  },
  {
   "cell_type": "code",
   "execution_count": 17,
   "id": "873342e4",
   "metadata": {},
   "outputs": [
    {
     "data": {
      "text/plain": [
       "[15,\n",
       " 15,\n",
       " 17,\n",
       " 11,\n",
       " 13,\n",
       " 10,\n",
       " 7,\n",
       " 11,\n",
       " 8,\n",
       " 5,\n",
       " 4,\n",
       " 5,\n",
       " 5,\n",
       " 5,\n",
       " 5,\n",
       " 3,\n",
       " 3,\n",
       " 3,\n",
       " 3,\n",
       " 3,\n",
       " 3,\n",
       " 3,\n",
       " 3,\n",
       " 3,\n",
       " 3,\n",
       " 3,\n",
       " 5,\n",
       " 5,\n",
       " 5,\n",
       " 5,\n",
       " 5,\n",
       " 5,\n",
       " 5,\n",
       " 5,\n",
       " 5,\n",
       " 5,\n",
       " 5,\n",
       " 5]"
      ]
     },
     "execution_count": 17,
     "metadata": {},
     "output_type": "execute_result"
    }
   ],
   "source": [
    "posiciones"
   ]
  },
  {
   "cell_type": "markdown",
   "id": "adf9c687",
   "metadata": {},
   "source": [
    "Creamos el gráfico"
   ]
  },
  {
   "cell_type": "code",
   "execution_count": 18,
   "id": "21ade970",
   "metadata": {},
   "outputs": [
    {
     "data": {
      "image/png": "[encoded data removed]",
      "text/plain": [
       "<Figure size 1008x648 with 1 Axes>"
      ]
     },
     "metadata": {
      "needs_background": "light"
     },
     "output_type": "display_data"
    }
   ],
   "source": [
    "fig,ax = plt.subplots(figsize=(14, 9))\n",
    "\n",
    "ax.plot(fechas[:fecha], posiciones, color='green', linestyle='dashed', linewidth = 3,\n",
    "         marker='o', markerfacecolor='blue', markersize=8, label = equipo)\n",
    "ax.set_title('Evolución de la posición en función de la fecha')\n",
    "ax.set_ylabel('Posición')\n",
    "ax.set_xlabel('Fecha')\n",
    "plt.legend()\n",
    "plt.ylim(0,21)\n",
    "plt.xticks(range(1,fecha+1,1))\n",
    "plt.yticks(range(1,21,1))\n",
    "ax.invert_yaxis()\n",
    "plt.legend([equipo], loc='lower right')\n",
    "plt.show()"
   ]
  },
  {
   "cell_type": "code",
   "execution_count": null,
   "id": "ff6325f2",
   "metadata": {},
   "outputs": [],
   "source": []
  }
 ],
 "metadata": {
  "kernelspec": {
   "display_name": "Python 3 (ipykernel)",
   "language": "python",
   "name": "python3"
  },
  "language_info": {
   "codemirror_mode": {
    "name": "ipython",
    "version": 3
   },
   "file_extension": ".py",
   "mimetype": "text/x-python",
   "name": "python",
   "nbconvert_exporter": "python",
   "pygments_lexer": "ipython3",
   "version": "3.9.11"
  }
 },
 "nbformat": 4,
 "nbformat_minor": 5
}
