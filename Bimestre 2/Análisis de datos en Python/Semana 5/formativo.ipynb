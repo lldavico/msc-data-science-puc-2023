{
 "cells": [
  {
   "attachments": {},
   "cell_type": "markdown",
   "metadata": {},
   "source": [
    "# Formativo 1"
   ]
  },
  {
   "cell_type": "code",
   "execution_count": 2,
   "metadata": {},
   "outputs": [],
   "source": [
    "import os \n",
    "import pandas as pd\n",
    "import numpy as np\n",
    "import glob\n",
    "import plotly.express as px\n",
    "import matplotlib.pyplot as plt\n",
    "plt.style.use('default')\n",
    "  \n",
    "# %matplotlib inline: only draw static\n",
    "# images in the notebookº\n",
    "%matplotlib inline\n",
    "\n",
    "import warnings\n",
    "warnings.filterwarnings('ignore')"
   ]
  },
  {
   "cell_type": "code",
   "execution_count": 3,
   "metadata": {},
   "outputs": [],
   "source": [
    "laliga2122 = pd.read_excel('datos_liga/LaLiga21 22.xlsx', )\n",
    "laliga2021 = pd.read_excel('datos_liga/LaLiga20 21.xlsx', )\n",
    "laliga1920 = pd.read_excel('datos_liga/LaLiga19 20.xlsx', )\n",
    "laliga1819 = pd.read_excel('datos_liga/LaLiga18 19.xlsx', )\n",
    "laliga1718 = pd.read_excel('datos_liga/LaLiga17 18.xlsx', )\n",
    "laliga1617 = pd.read_excel('datos_liga/LaLiga16 17.xlsx', )"
   ]
  },
  {
   "cell_type": "code",
   "execution_count": 4,
   "metadata": {},
   "outputs": [],
   "source": [
    "laliga = laliga2122.dropna(how='all').append(laliga2021.dropna(how='all')\n",
    ").append(laliga1920.dropna(how='all')).append(laliga1819.dropna(how='all')\n",
    ").append(laliga1718.dropna(how='all')).append(laliga1617.dropna(how='all')).loc[:,\n",
    "['Wk','Date','Local','Score','Visitante', 'Attendance']]\n",
    "\n",
    "\n",
    "laliga['Attendance']= laliga['Attendance']*1000\n",
    "laliga['Torneo'] = 'Primera división'"
   ]
  },
  {
   "cell_type": "code",
   "execution_count": 5,
   "metadata": {},
   "outputs": [
    {
     "data": {
      "text/html": [
       "<div>\n",
       "<style scoped>\n",
       "    .dataframe tbody tr th:only-of-type {\n",
       "        vertical-align: middle;\n",
       "    }\n",
       "\n",
       "    .dataframe tbody tr th {\n",
       "        vertical-align: top;\n",
       "    }\n",
       "\n",
       "    .dataframe thead th {\n",
       "        text-align: right;\n",
       "    }\n",
       "</style>\n",
       "<table border=\"1\" class=\"dataframe\">\n",
       "  <thead>\n",
       "    <tr style=\"text-align: right;\">\n",
       "      <th></th>\n",
       "      <th>Wk</th>\n",
       "      <th>Date</th>\n",
       "      <th>Local</th>\n",
       "      <th>Score</th>\n",
       "      <th>Visitante</th>\n",
       "      <th>Attendance</th>\n",
       "      <th>Torneo</th>\n",
       "    </tr>\n",
       "  </thead>\n",
       "  <tbody>\n",
       "    <tr>\n",
       "      <th>0</th>\n",
       "      <td>1.0</td>\n",
       "      <td>2021-08-13</td>\n",
       "      <td>Valencia</td>\n",
       "      <td>1–0</td>\n",
       "      <td>Getafe</td>\n",
       "      <td>9868.0</td>\n",
       "      <td>Primera división</td>\n",
       "    </tr>\n",
       "    <tr>\n",
       "      <th>1</th>\n",
       "      <td>1.0</td>\n",
       "      <td>2021-08-14</td>\n",
       "      <td>Cádiz</td>\n",
       "      <td>1–1</td>\n",
       "      <td>Levante</td>\n",
       "      <td>6941.0</td>\n",
       "      <td>Primera división</td>\n",
       "    </tr>\n",
       "    <tr>\n",
       "      <th>2</th>\n",
       "      <td>1.0</td>\n",
       "      <td>2021-08-14</td>\n",
       "      <td>Mallorca</td>\n",
       "      <td>1–1</td>\n",
       "      <td>Betis</td>\n",
       "      <td>6279.0</td>\n",
       "      <td>Primera división</td>\n",
       "    </tr>\n",
       "    <tr>\n",
       "      <th>3</th>\n",
       "      <td>1.0</td>\n",
       "      <td>2021-08-14</td>\n",
       "      <td>Osasuna</td>\n",
       "      <td>0–0</td>\n",
       "      <td>Espanyol</td>\n",
       "      <td>6715.0</td>\n",
       "      <td>Primera división</td>\n",
       "    </tr>\n",
       "    <tr>\n",
       "      <th>4</th>\n",
       "      <td>1.0</td>\n",
       "      <td>2021-08-14</td>\n",
       "      <td>Alavés</td>\n",
       "      <td>1–4</td>\n",
       "      <td>Real Madrid</td>\n",
       "      <td>3968.0</td>\n",
       "      <td>Primera división</td>\n",
       "    </tr>\n",
       "    <tr>\n",
       "      <th>...</th>\n",
       "      <td>...</td>\n",
       "      <td>...</td>\n",
       "      <td>...</td>\n",
       "      <td>...</td>\n",
       "      <td>...</td>\n",
       "      <td>...</td>\n",
       "      <td>...</td>\n",
       "    </tr>\n",
       "    <tr>\n",
       "      <th>415</th>\n",
       "      <td>38.0</td>\n",
       "      <td>2017-05-21</td>\n",
       "      <td>Valencia</td>\n",
       "      <td>1–3</td>\n",
       "      <td>Villarreal</td>\n",
       "      <td>33587.0</td>\n",
       "      <td>Primera división</td>\n",
       "    </tr>\n",
       "    <tr>\n",
       "      <th>416</th>\n",
       "      <td>38.0</td>\n",
       "      <td>2017-05-21</td>\n",
       "      <td>Atlético Madrid</td>\n",
       "      <td>3–1</td>\n",
       "      <td>Athletic Club</td>\n",
       "      <td>52314.0</td>\n",
       "      <td>Primera división</td>\n",
       "    </tr>\n",
       "    <tr>\n",
       "      <th>417</th>\n",
       "      <td>38.0</td>\n",
       "      <td>2017-05-21</td>\n",
       "      <td>Celta Vigo</td>\n",
       "      <td>2–2</td>\n",
       "      <td>Real Sociedad</td>\n",
       "      <td>14188.0</td>\n",
       "      <td>Primera división</td>\n",
       "    </tr>\n",
       "    <tr>\n",
       "      <th>418</th>\n",
       "      <td>38.0</td>\n",
       "      <td>2017-05-21</td>\n",
       "      <td>Barcelona</td>\n",
       "      <td>4–2</td>\n",
       "      <td>Eibar</td>\n",
       "      <td>74932.0</td>\n",
       "      <td>Primera división</td>\n",
       "    </tr>\n",
       "    <tr>\n",
       "      <th>419</th>\n",
       "      <td>38.0</td>\n",
       "      <td>2017-05-21</td>\n",
       "      <td>Málaga</td>\n",
       "      <td>0–2</td>\n",
       "      <td>Real Madrid</td>\n",
       "      <td>27855.0</td>\n",
       "      <td>Primera división</td>\n",
       "    </tr>\n",
       "  </tbody>\n",
       "</table>\n",
       "<p>2280 rows × 7 columns</p>\n",
       "</div>"
      ],
      "text/plain": [
       "       Wk       Date            Local Score      Visitante  Attendance  \\\n",
       "0     1.0 2021-08-13         Valencia   1–0         Getafe      9868.0   \n",
       "1     1.0 2021-08-14            Cádiz   1–1        Levante      6941.0   \n",
       "2     1.0 2021-08-14         Mallorca   1–1          Betis      6279.0   \n",
       "3     1.0 2021-08-14          Osasuna   0–0       Espanyol      6715.0   \n",
       "4     1.0 2021-08-14           Alavés   1–4    Real Madrid      3968.0   \n",
       "..    ...        ...              ...   ...            ...         ...   \n",
       "415  38.0 2017-05-21         Valencia   1–3     Villarreal     33587.0   \n",
       "416  38.0 2017-05-21  Atlético Madrid   3–1  Athletic Club     52314.0   \n",
       "417  38.0 2017-05-21       Celta Vigo   2–2  Real Sociedad     14188.0   \n",
       "418  38.0 2017-05-21        Barcelona   4–2          Eibar     74932.0   \n",
       "419  38.0 2017-05-21           Málaga   0–2    Real Madrid     27855.0   \n",
       "\n",
       "               Torneo  \n",
       "0    Primera división  \n",
       "1    Primera división  \n",
       "2    Primera división  \n",
       "3    Primera división  \n",
       "4    Primera división  \n",
       "..                ...  \n",
       "415  Primera división  \n",
       "416  Primera división  \n",
       "417  Primera división  \n",
       "418  Primera división  \n",
       "419  Primera división  \n",
       "\n",
       "[2280 rows x 7 columns]"
      ]
     },
     "execution_count": 5,
     "metadata": {},
     "output_type": "execute_result"
    }
   ],
   "source": [
    "partidos6t = pd.concat([laliga],axis = 0)\n",
    "partidos6t"
   ]
  },
  {
   "cell_type": "code",
   "execution_count": 6,
   "metadata": {},
   "outputs": [],
   "source": [
    "def golesvisita(marcador):\n",
    "    goles = marcador.split('–')\n",
    "    return int(goles[1])\n",
    "\n",
    "def goleslocal(marcador):\n",
    "    goles = marcador.split('–')\n",
    "    return int(goles[0])\n",
    "\n",
    "partidos6t['Goles Local'] = partidos6t['Score'].apply(goleslocal)\n",
    "partidos6t['Goles Visitante'] = partidos6t['Score'].apply(golesvisita)\n",
    "partidos6t['Total goles partido']= partidos6t['Goles Local']+partidos6t['Goles Visitante']"
   ]
  },
  {
   "cell_type": "code",
   "execution_count": 7,
   "metadata": {},
   "outputs": [],
   "source": [
    "def torneo(año,mes):\n",
    "    if ((año==2016) & (mes<=12)|(año==2017) & (mes<8)):\n",
    "        return '16/17'\n",
    "    elif ((año==2017) & (mes<=12)|(año==2018) & (mes<8)):\n",
    "        return '17/18'\n",
    "    elif ((año==2018) & (mes<=12)|(año==2019) & (mes<8)):\n",
    "        return '18/19'\n",
    "    elif ((año==2019) & (mes<=12)|(año==2020) & (mes<9)):\n",
    "        return '19/20'\n",
    "    elif ((año==2020) & (mes<=12)|(año==2021) & (mes<8)):\n",
    "        return '20/21'\n",
    "    elif ((año==2021) & (mes<=12)|(año==2022) & (mes<8)):\n",
    "        return '21/22'\n",
    "\n",
    "    \n",
    "partidos6t['Año'] = partidos6t['Date'].dt.year\n",
    "partidos6t['Mes'] = partidos6t['Date'].dt.month\n",
    "partidos6t['Temporada'] = partidos6t.apply(lambda x: torneo(x['Año'],x['Mes']),axis = 1)"
   ]
  },
  {
   "cell_type": "code",
   "execution_count": 8,
   "metadata": {},
   "outputs": [],
   "source": [
    "def resultado(string):\n",
    "    goles = string.split('–')\n",
    "    if int(goles[0])>int(goles[1]):\n",
    "        return 'Local'\n",
    "    if int(goles[0])<int(goles[1]):\n",
    "        return 'Visitante'\n",
    "    else: \n",
    "        return 'Empate'\n",
    "    \n",
    "def resultado_equipo(string, local, visita):\n",
    "    goles = string.split('–')\n",
    "    if int(goles[0])>int(goles[1]):\n",
    "        return local\n",
    "    if int(goles[0])<int(goles[1]):\n",
    "        return visita\n",
    "    else: \n",
    "        return 'Empate'\n",
    "    \n",
    "partidos6t['Resultado'] = partidos6t['Score'].apply(resultado)\n",
    "partidos6t['Ganador'] = partidos6t.apply(lambda x: resultado_equipo(x['Score'],x['Local'],x['Visitante']),axis=1)"
   ]
  },
  {
   "cell_type": "code",
   "execution_count": 9,
   "metadata": {},
   "outputs": [],
   "source": [
    "ej2122 = partidos6t[(partidos6t['Temporada']=='21/22')&(partidos6t['Torneo']=='Primera división')]\n",
    "equip2122 = ej2122['Local'].unique().tolist()"
   ]
  },
  {
   "cell_type": "code",
   "execution_count": 10,
   "metadata": {},
   "outputs": [],
   "source": [
    "def tabla_posicion(data,fecha,equipos):\n",
    "    tabla = {}\n",
    "    for equipo in equipos:\n",
    "        data_usar = data[(data['Wk']<=fecha)&((data['Local']==equipo)|(data['Visitante']==equipo))]\n",
    "        puntos = 0\n",
    "        for i in range(len(data_usar)):\n",
    "            ganador = str(data_usar.iloc[i]['Ganador'])\n",
    "            if ganador == equipo:\n",
    "                puntos += 3\n",
    "            if ganador == 'Empate':\n",
    "                puntos +=1\n",
    "        tabla[equipo] = puntos\n",
    "    df = pd.DataFrame([[key, tabla[key]] for key in tabla.keys()], columns=['Equipo', 'Puntos'])\n",
    "    df = df.sort_values(by='Puntos',ascending = False).reset_index()\n",
    "    return df[['Equipo','Puntos']]"
   ]
  },
  {
   "cell_type": "code",
   "execution_count": 11,
   "metadata": {},
   "outputs": [
    {
     "data": {
      "text/html": [
       "<div>\n",
       "<style scoped>\n",
       "    .dataframe tbody tr th:only-of-type {\n",
       "        vertical-align: middle;\n",
       "    }\n",
       "\n",
       "    .dataframe tbody tr th {\n",
       "        vertical-align: top;\n",
       "    }\n",
       "\n",
       "    .dataframe thead th {\n",
       "        text-align: right;\n",
       "    }\n",
       "</style>\n",
       "<table border=\"1\" class=\"dataframe\">\n",
       "  <thead>\n",
       "    <tr style=\"text-align: right;\">\n",
       "      <th></th>\n",
       "      <th>Equipo</th>\n",
       "      <th>Puntos</th>\n",
       "    </tr>\n",
       "  </thead>\n",
       "  <tbody>\n",
       "    <tr>\n",
       "      <th>0</th>\n",
       "      <td>Real Madrid</td>\n",
       "      <td>81</td>\n",
       "    </tr>\n",
       "    <tr>\n",
       "      <th>1</th>\n",
       "      <td>Barcelona</td>\n",
       "      <td>69</td>\n",
       "    </tr>\n",
       "    <tr>\n",
       "      <th>2</th>\n",
       "      <td>Sevilla</td>\n",
       "      <td>65</td>\n",
       "    </tr>\n",
       "    <tr>\n",
       "      <th>3</th>\n",
       "      <td>Atlético Madrid</td>\n",
       "      <td>64</td>\n",
       "    </tr>\n",
       "    <tr>\n",
       "      <th>4</th>\n",
       "      <td>Betis</td>\n",
       "      <td>58</td>\n",
       "    </tr>\n",
       "    <tr>\n",
       "      <th>5</th>\n",
       "      <td>Real Sociedad</td>\n",
       "      <td>56</td>\n",
       "    </tr>\n",
       "    <tr>\n",
       "      <th>6</th>\n",
       "      <td>Villarreal</td>\n",
       "      <td>53</td>\n",
       "    </tr>\n",
       "    <tr>\n",
       "      <th>7</th>\n",
       "      <td>Athletic Club</td>\n",
       "      <td>52</td>\n",
       "    </tr>\n",
       "    <tr>\n",
       "      <th>8</th>\n",
       "      <td>Osasuna</td>\n",
       "      <td>46</td>\n",
       "    </tr>\n",
       "    <tr>\n",
       "      <th>9</th>\n",
       "      <td>Valencia</td>\n",
       "      <td>44</td>\n",
       "    </tr>\n",
       "    <tr>\n",
       "      <th>10</th>\n",
       "      <td>Celta Vigo</td>\n",
       "      <td>43</td>\n",
       "    </tr>\n",
       "    <tr>\n",
       "      <th>11</th>\n",
       "      <td>Rayo Vallecano</td>\n",
       "      <td>42</td>\n",
       "    </tr>\n",
       "    <tr>\n",
       "      <th>12</th>\n",
       "      <td>Espanyol</td>\n",
       "      <td>40</td>\n",
       "    </tr>\n",
       "    <tr>\n",
       "      <th>13</th>\n",
       "      <td>Elche</td>\n",
       "      <td>39</td>\n",
       "    </tr>\n",
       "    <tr>\n",
       "      <th>14</th>\n",
       "      <td>Getafe</td>\n",
       "      <td>37</td>\n",
       "    </tr>\n",
       "    <tr>\n",
       "      <th>15</th>\n",
       "      <td>Cádiz</td>\n",
       "      <td>35</td>\n",
       "    </tr>\n",
       "    <tr>\n",
       "      <th>16</th>\n",
       "      <td>Granada</td>\n",
       "      <td>34</td>\n",
       "    </tr>\n",
       "    <tr>\n",
       "      <th>17</th>\n",
       "      <td>Mallorca</td>\n",
       "      <td>32</td>\n",
       "    </tr>\n",
       "    <tr>\n",
       "      <th>18</th>\n",
       "      <td>Levante</td>\n",
       "      <td>29</td>\n",
       "    </tr>\n",
       "    <tr>\n",
       "      <th>19</th>\n",
       "      <td>Alavés</td>\n",
       "      <td>28</td>\n",
       "    </tr>\n",
       "  </tbody>\n",
       "</table>\n",
       "</div>"
      ],
      "text/plain": [
       "             Equipo  Puntos\n",
       "0       Real Madrid      81\n",
       "1         Barcelona      69\n",
       "2           Sevilla      65\n",
       "3   Atlético Madrid      64\n",
       "4             Betis      58\n",
       "5     Real Sociedad      56\n",
       "6        Villarreal      53\n",
       "7     Athletic Club      52\n",
       "8           Osasuna      46\n",
       "9          Valencia      44\n",
       "10       Celta Vigo      43\n",
       "11   Rayo Vallecano      42\n",
       "12         Espanyol      40\n",
       "13            Elche      39\n",
       "14           Getafe      37\n",
       "15            Cádiz      35\n",
       "16          Granada      34\n",
       "17         Mallorca      32\n",
       "18          Levante      29\n",
       "19           Alavés      28"
      ]
     },
     "execution_count": 11,
     "metadata": {},
     "output_type": "execute_result"
    }
   ],
   "source": [
    "tabla_33 = tabla_posicion(ej2122,35,equip2122)\n",
    "tabla_33"
   ]
  },
  {
   "cell_type": "code",
   "execution_count": 12,
   "metadata": {},
   "outputs": [],
   "source": [
    "def tabla_posicion2(data,fecha,equipos,eq):\n",
    "    tabla = {}\n",
    "    for equipo in equipos:\n",
    "        data_usar = data[(data['Wk']<=fecha)&((data['Local']==equipo)|(data['Visitante']==equipo))]\n",
    "        puntos = 0\n",
    "        for i in range(len(data_usar)):\n",
    "            ganador = str(data_usar.iloc[i]['Ganador'])\n",
    "            if ganador == equipo:\n",
    "                puntos += 3\n",
    "            if ganador == 'Empate':\n",
    "                puntos +=1\n",
    "        tabla[equipo] = puntos\n",
    "    df = pd.DataFrame([[key, tabla[key]] for key in tabla.keys()], columns=['Equipo', 'Puntos'])\n",
    "    df = df.sort_values(by='Puntos',ascending = False).reset_index()\n",
    "    df = df[['Equipo','Puntos']]\n",
    "    pos = df[df['Equipo']==eq].index.values[0]\n",
    "    return pos+1"
   ]
  },
  {
   "cell_type": "code",
   "execution_count": 13,
   "metadata": {},
   "outputs": [],
   "source": [
    "fechas = sorted(ej2122['Wk'].unique().tolist())"
   ]
  },
  {
   "cell_type": "code",
   "execution_count": 56,
   "metadata": {},
   "outputs": [],
   "source": [
    "equipos = ej2122['Local'].unique().tolist()"
   ]
  },
  {
   "cell_type": "code",
   "execution_count": 30,
   "metadata": {},
   "outputs": [],
   "source": [
    "equipo = 'Betis'\n",
    "fecha = 5"
   ]
  },
  {
   "cell_type": "code",
   "execution_count": 68,
   "metadata": {},
   "outputs": [],
   "source": [
    "posiciones = []\n",
    "for fec in fechas:\n",
    "    pos = tabla_posicion2(ej2122,fec,equip2122,equipo)\n",
    "    posiciones.append(pos)\n",
    "    if fec == fecha:\n",
    "        break"
   ]
  },
  {
   "cell_type": "code",
   "execution_count": 69,
   "metadata": {},
   "outputs": [
    {
     "data": {
      "text/plain": [
       "[15, 15, 17, 11, 13]"
      ]
     },
     "execution_count": 69,
     "metadata": {},
     "output_type": "execute_result"
    }
   ],
   "source": [
    "posiciones"
   ]
  },
  {
   "cell_type": "code",
   "execution_count": 71,
   "metadata": {},
   "outputs": [
    {
     "data": {
      "image/png": "[encoded data removed]",
      "text/plain": [
       "<Figure size 1400x900 with 1 Axes>"
      ]
     },
     "metadata": {},
     "output_type": "display_data"
    }
   ],
   "source": [
    "fig,ax = plt.subplots(figsize=(14, 9))\n",
    "\n",
    "ax.plot(fechas[:fecha], posiciones, color='green', linestyle='dashed', linewidth = 3,\n",
    "         marker='o', markerfacecolor='blue', markersize=8, label = equipo)\n",
    "ax.set_title('Evolución de la posición en función de la fecha')\n",
    "ax.set_ylabel('Posición')\n",
    "ax.set_xlabel('Fecha')\n",
    "plt.legend()\n",
    "plt.ylim(0,21)\n",
    "plt.xticks(range(1,fecha+1,1))\n",
    "plt.yticks(range(1,21,1))\n",
    "ax.invert_yaxis()\n",
    "plt.legend([equipo], loc='lower right')\n",
    "plt.show()"
   ]
  },
  {
   "attachments": {},
   "cell_type": "markdown",
   "metadata": {},
   "source": [
    "---\n",
    "# Formativo 1"
   ]
  },
  {
   "attachments": {},
   "cell_type": "markdown",
   "metadata": {},
   "source": [
    "# P1"
   ]
  },
  {
   "cell_type": "code",
   "execution_count": 78,
   "metadata": {},
   "outputs": [],
   "source": [
    "fecha = 38"
   ]
  },
  {
   "cell_type": "code",
   "execution_count": 83,
   "metadata": {},
   "outputs": [],
   "source": [
    "def get_positions_history(team, date, teams, data):\n",
    "    positions = []\n",
    "    for fec in fechas:\n",
    "        pos = tabla_posicion2(data,fec,teams,team)\n",
    "        positions.append(pos)\n",
    "        if fec == date:\n",
    "            break\n",
    "\n",
    "    return positions"
   ]
  },
  {
   "cell_type": "code",
   "execution_count": 123,
   "metadata": {},
   "outputs": [],
   "source": [
    "from random import sample\n",
    "\n",
    "def plot_positions(dates, date, positions):\n",
    "    fig,ax = plt.subplots(figsize=(14, 9))\n",
    "    teams = list(positions.keys())\n",
    "    colors = ['green', 'red', 'orange', 'blue', 'black']\n",
    "\n",
    "    for team, positions in positions.items():\n",
    "        color = sample(colors, 1)[0]\n",
    "        print(color, colors)\n",
    "        colors.remove(color)\n",
    "        ax.plot(dates[:date], positions, color=color, linestyle='dashed', linewidth = 3,\n",
    "                marker='o', markerfacecolor='blue', markersize=8, label = team)\n",
    "    #ax.plot(fechas[:fecha], posiciones_sevilla, color='red', linestyle='dashed', linewidth = 3,\n",
    "    #        marker='o', markerfacecolor='orange', markersize=8, label = 'Sevilla')\n",
    "    ax.set_title('Evolución de la posición en función de la fecha')\n",
    "    ax.set_ylabel('Posición')\n",
    "    ax.set_xlabel('Fecha')\n",
    "    plt.legend()\n",
    "    plt.ylim(0,21)\n",
    "    plt.xticks(range(1,date+1,1))\n",
    "    plt.yticks(range(1,21,1))\n",
    "    ax.invert_yaxis()\n",
    "    plt.legend(teams, loc='lower right')\n",
    "    plt.show()"
   ]
  },
  {
   "cell_type": "code",
   "execution_count": 129,
   "metadata": {},
   "outputs": [],
   "source": [
    "until_date = 23\n",
    "teams = ['Espanyol', 'Elche', 'Getafe']\n",
    "\n",
    "positions = {team: get_positions_history(team, until_date, equip2122, ej2122) for team in teams}"
   ]
  },
  {
   "cell_type": "code",
   "execution_count": 130,
   "metadata": {},
   "outputs": [
    {
     "name": "stdout",
     "output_type": "stream",
     "text": [
      "blue ['green', 'red', 'orange', 'blue', 'black']\n",
      "black ['green', 'red', 'orange', 'black']\n",
      "red ['green', 'red', 'orange']\n"
     ]
    },
    {
     "data": {
      "image/png": "[encoded data removed]",
      "text/plain": [
       "<Figure size 1400x900 with 1 Axes>"
      ]
     },
     "metadata": {},
     "output_type": "display_data"
    }
   ],
   "source": [
    "plot_positions(fechas, until_date, positions)"
   ]
  },
  {
   "attachments": {},
   "cell_type": "markdown",
   "metadata": {},
   "source": [
    "---\n",
    "# Sumativo"
   ]
  },
  {
   "cell_type": "code",
   "execution_count": 134,
   "metadata": {},
   "outputs": [
    {
     "data": {
      "text/html": [
       "<div>\n",
       "<style scoped>\n",
       "    .dataframe tbody tr th:only-of-type {\n",
       "        vertical-align: middle;\n",
       "    }\n",
       "\n",
       "    .dataframe tbody tr th {\n",
       "        vertical-align: top;\n",
       "    }\n",
       "\n",
       "    .dataframe thead th {\n",
       "        text-align: right;\n",
       "    }\n",
       "</style>\n",
       "<table border=\"1\" class=\"dataframe\">\n",
       "  <thead>\n",
       "    <tr style=\"text-align: right;\">\n",
       "      <th></th>\n",
       "      <th>Escuela</th>\n",
       "      <th>Ubicación en x</th>\n",
       "      <th>Ubicación en y</th>\n",
       "      <th>Tipo</th>\n",
       "      <th>Cantidad de estudiantes</th>\n",
       "    </tr>\n",
       "  </thead>\n",
       "  <tbody>\n",
       "    <tr>\n",
       "      <th>0</th>\n",
       "      <td>Escuela 1</td>\n",
       "      <td>93</td>\n",
       "      <td>63</td>\n",
       "      <td>Básica</td>\n",
       "      <td>507</td>\n",
       "    </tr>\n",
       "    <tr>\n",
       "      <th>1</th>\n",
       "      <td>Escuela 2</td>\n",
       "      <td>54</td>\n",
       "      <td>80</td>\n",
       "      <td>Completa</td>\n",
       "      <td>1120</td>\n",
       "    </tr>\n",
       "    <tr>\n",
       "      <th>2</th>\n",
       "      <td>Escuela 3</td>\n",
       "      <td>72</td>\n",
       "      <td>28</td>\n",
       "      <td>Media</td>\n",
       "      <td>519</td>\n",
       "    </tr>\n",
       "    <tr>\n",
       "      <th>3</th>\n",
       "      <td>Escuela 4</td>\n",
       "      <td>16</td>\n",
       "      <td>14</td>\n",
       "      <td>Media</td>\n",
       "      <td>829</td>\n",
       "    </tr>\n",
       "    <tr>\n",
       "      <th>4</th>\n",
       "      <td>Escuela 5</td>\n",
       "      <td>6</td>\n",
       "      <td>86</td>\n",
       "      <td>Completa</td>\n",
       "      <td>727</td>\n",
       "    </tr>\n",
       "    <tr>\n",
       "      <th>5</th>\n",
       "      <td>Escuela 6</td>\n",
       "      <td>24</td>\n",
       "      <td>7</td>\n",
       "      <td>Completa</td>\n",
       "      <td>996</td>\n",
       "    </tr>\n",
       "    <tr>\n",
       "      <th>6</th>\n",
       "      <td>Escuela 7</td>\n",
       "      <td>99</td>\n",
       "      <td>83</td>\n",
       "      <td>Básica</td>\n",
       "      <td>518</td>\n",
       "    </tr>\n",
       "    <tr>\n",
       "      <th>7</th>\n",
       "      <td>Escuela 8</td>\n",
       "      <td>89</td>\n",
       "      <td>22</td>\n",
       "      <td>Básica</td>\n",
       "      <td>1080</td>\n",
       "    </tr>\n",
       "    <tr>\n",
       "      <th>8</th>\n",
       "      <td>Escuela 9</td>\n",
       "      <td>63</td>\n",
       "      <td>57</td>\n",
       "      <td>Completa</td>\n",
       "      <td>930</td>\n",
       "    </tr>\n",
       "    <tr>\n",
       "      <th>9</th>\n",
       "      <td>Escuela 10</td>\n",
       "      <td>30</td>\n",
       "      <td>55</td>\n",
       "      <td>Completa</td>\n",
       "      <td>723</td>\n",
       "    </tr>\n",
       "    <tr>\n",
       "      <th>10</th>\n",
       "      <td>Escuela 11</td>\n",
       "      <td>13</td>\n",
       "      <td>91</td>\n",
       "      <td>Media</td>\n",
       "      <td>783</td>\n",
       "    </tr>\n",
       "    <tr>\n",
       "      <th>11</th>\n",
       "      <td>Escuela 12</td>\n",
       "      <td>67</td>\n",
       "      <td>41</td>\n",
       "      <td>Media</td>\n",
       "      <td>726</td>\n",
       "    </tr>\n",
       "    <tr>\n",
       "      <th>12</th>\n",
       "      <td>Escuela 13</td>\n",
       "      <td>41</td>\n",
       "      <td>27</td>\n",
       "      <td>Completa</td>\n",
       "      <td>1102</td>\n",
       "    </tr>\n",
       "    <tr>\n",
       "      <th>13</th>\n",
       "      <td>Escuela 14</td>\n",
       "      <td>55</td>\n",
       "      <td>21</td>\n",
       "      <td>Completa</td>\n",
       "      <td>1006</td>\n",
       "    </tr>\n",
       "    <tr>\n",
       "      <th>14</th>\n",
       "      <td>Escuela 15</td>\n",
       "      <td>7</td>\n",
       "      <td>28</td>\n",
       "      <td>Básica</td>\n",
       "      <td>868</td>\n",
       "    </tr>\n",
       "    <tr>\n",
       "      <th>15</th>\n",
       "      <td>Escuela 16</td>\n",
       "      <td>72</td>\n",
       "      <td>19</td>\n",
       "      <td>Básica</td>\n",
       "      <td>1064</td>\n",
       "    </tr>\n",
       "    <tr>\n",
       "      <th>16</th>\n",
       "      <td>Escuela 17</td>\n",
       "      <td>36</td>\n",
       "      <td>63</td>\n",
       "      <td>Básica</td>\n",
       "      <td>624</td>\n",
       "    </tr>\n",
       "    <tr>\n",
       "      <th>17</th>\n",
       "      <td>Escuela 18</td>\n",
       "      <td>6</td>\n",
       "      <td>14</td>\n",
       "      <td>Completa</td>\n",
       "      <td>718</td>\n",
       "    </tr>\n",
       "    <tr>\n",
       "      <th>18</th>\n",
       "      <td>Escuela 19</td>\n",
       "      <td>49</td>\n",
       "      <td>34</td>\n",
       "      <td>Completa</td>\n",
       "      <td>764</td>\n",
       "    </tr>\n",
       "    <tr>\n",
       "      <th>19</th>\n",
       "      <td>Escuela 20</td>\n",
       "      <td>19</td>\n",
       "      <td>83</td>\n",
       "      <td>Completa</td>\n",
       "      <td>720</td>\n",
       "    </tr>\n",
       "    <tr>\n",
       "      <th>20</th>\n",
       "      <td>Escuela 21</td>\n",
       "      <td>58</td>\n",
       "      <td>24</td>\n",
       "      <td>Básica</td>\n",
       "      <td>577</td>\n",
       "    </tr>\n",
       "    <tr>\n",
       "      <th>21</th>\n",
       "      <td>Escuela 22</td>\n",
       "      <td>53</td>\n",
       "      <td>13</td>\n",
       "      <td>Completa</td>\n",
       "      <td>916</td>\n",
       "    </tr>\n",
       "    <tr>\n",
       "      <th>22</th>\n",
       "      <td>Escuela 23</td>\n",
       "      <td>40</td>\n",
       "      <td>69</td>\n",
       "      <td>Completa</td>\n",
       "      <td>775</td>\n",
       "    </tr>\n",
       "    <tr>\n",
       "      <th>23</th>\n",
       "      <td>Escuela 24</td>\n",
       "      <td>77</td>\n",
       "      <td>46</td>\n",
       "      <td>Media</td>\n",
       "      <td>1126</td>\n",
       "    </tr>\n",
       "    <tr>\n",
       "      <th>24</th>\n",
       "      <td>Escuela 25</td>\n",
       "      <td>66</td>\n",
       "      <td>96</td>\n",
       "      <td>Básica</td>\n",
       "      <td>821</td>\n",
       "    </tr>\n",
       "    <tr>\n",
       "      <th>25</th>\n",
       "      <td>Escuela 26</td>\n",
       "      <td>91</td>\n",
       "      <td>91</td>\n",
       "      <td>Media</td>\n",
       "      <td>593</td>\n",
       "    </tr>\n",
       "    <tr>\n",
       "      <th>26</th>\n",
       "      <td>Escuela 27</td>\n",
       "      <td>60</td>\n",
       "      <td>44</td>\n",
       "      <td>Completa</td>\n",
       "      <td>506</td>\n",
       "    </tr>\n",
       "    <tr>\n",
       "      <th>27</th>\n",
       "      <td>Escuela 28</td>\n",
       "      <td>75</td>\n",
       "      <td>20</td>\n",
       "      <td>Completa</td>\n",
       "      <td>979</td>\n",
       "    </tr>\n",
       "  </tbody>\n",
       "</table>\n",
       "</div>"
      ],
      "text/plain": [
       "       Escuela  Ubicación en x  Ubicación en y      Tipo  \\\n",
       "0    Escuela 1              93              63    Básica   \n",
       "1    Escuela 2              54              80  Completa   \n",
       "2    Escuela 3              72              28     Media   \n",
       "3    Escuela 4              16              14     Media   \n",
       "4    Escuela 5               6              86  Completa   \n",
       "5    Escuela 6              24               7  Completa   \n",
       "6    Escuela 7              99              83    Básica   \n",
       "7    Escuela 8              89              22    Básica   \n",
       "8    Escuela 9              63              57  Completa   \n",
       "9   Escuela 10              30              55  Completa   \n",
       "10  Escuela 11              13              91     Media   \n",
       "11  Escuela 12              67              41     Media   \n",
       "12  Escuela 13              41              27  Completa   \n",
       "13  Escuela 14              55              21  Completa   \n",
       "14  Escuela 15               7              28    Básica   \n",
       "15  Escuela 16              72              19    Básica   \n",
       "16  Escuela 17              36              63    Básica   \n",
       "17  Escuela 18               6              14  Completa   \n",
       "18  Escuela 19              49              34  Completa   \n",
       "19  Escuela 20              19              83  Completa   \n",
       "20  Escuela 21              58              24    Básica   \n",
       "21  Escuela 22              53              13  Completa   \n",
       "22  Escuela 23              40              69  Completa   \n",
       "23  Escuela 24              77              46     Media   \n",
       "24  Escuela 25              66              96    Básica   \n",
       "25  Escuela 26              91              91     Media   \n",
       "26  Escuela 27              60              44  Completa   \n",
       "27  Escuela 28              75              20  Completa   \n",
       "\n",
       "    Cantidad de estudiantes  \n",
       "0                       507  \n",
       "1                      1120  \n",
       "2                       519  \n",
       "3                       829  \n",
       "4                       727  \n",
       "5                       996  \n",
       "6                       518  \n",
       "7                      1080  \n",
       "8                       930  \n",
       "9                       723  \n",
       "10                      783  \n",
       "11                      726  \n",
       "12                     1102  \n",
       "13                     1006  \n",
       "14                      868  \n",
       "15                     1064  \n",
       "16                      624  \n",
       "17                      718  \n",
       "18                      764  \n",
       "19                      720  \n",
       "20                      577  \n",
       "21                      916  \n",
       "22                      775  \n",
       "23                     1126  \n",
       "24                      821  \n",
       "25                      593  \n",
       "26                      506  \n",
       "27                      979  "
      ]
     },
     "execution_count": 134,
     "metadata": {},
     "output_type": "execute_result"
    }
   ],
   "source": [
    "escuelas = pd.read_excel('datos_liga/QS4.xlsx', sheet_name='Escuelas')\n",
    "escuelas"
   ]
  },
  {
   "cell_type": "code",
   "execution_count": 135,
   "metadata": {},
   "outputs": [
    {
     "data": {
      "text/html": [
       "<div>\n",
       "<style scoped>\n",
       "    .dataframe tbody tr th:only-of-type {\n",
       "        vertical-align: middle;\n",
       "    }\n",
       "\n",
       "    .dataframe tbody tr th {\n",
       "        vertical-align: top;\n",
       "    }\n",
       "\n",
       "    .dataframe thead th {\n",
       "        text-align: right;\n",
       "    }\n",
       "</style>\n",
       "<table border=\"1\" class=\"dataframe\">\n",
       "  <thead>\n",
       "    <tr style=\"text-align: right;\">\n",
       "      <th></th>\n",
       "      <th>Furgón</th>\n",
       "      <th>Escuela a la que pertenece</th>\n",
       "      <th>Capacidad del furgón</th>\n",
       "      <th>Costo transporte alumno/año [MM$]</th>\n",
       "    </tr>\n",
       "  </thead>\n",
       "  <tbody>\n",
       "    <tr>\n",
       "      <th>0</th>\n",
       "      <td>Furgón 1</td>\n",
       "      <td>Escuela 15</td>\n",
       "      <td>30</td>\n",
       "      <td>0.008</td>\n",
       "    </tr>\n",
       "    <tr>\n",
       "      <th>1</th>\n",
       "      <td>Furgón 2</td>\n",
       "      <td>Escuela 7</td>\n",
       "      <td>35</td>\n",
       "      <td>0.007</td>\n",
       "    </tr>\n",
       "    <tr>\n",
       "      <th>2</th>\n",
       "      <td>Furgón 3</td>\n",
       "      <td>Escuela 8</td>\n",
       "      <td>35</td>\n",
       "      <td>0.007</td>\n",
       "    </tr>\n",
       "    <tr>\n",
       "      <th>3</th>\n",
       "      <td>Furgón 4</td>\n",
       "      <td>Escuela 10</td>\n",
       "      <td>20</td>\n",
       "      <td>0.008</td>\n",
       "    </tr>\n",
       "    <tr>\n",
       "      <th>4</th>\n",
       "      <td>Furgón 5</td>\n",
       "      <td>Escuela 13</td>\n",
       "      <td>35</td>\n",
       "      <td>0.009</td>\n",
       "    </tr>\n",
       "    <tr>\n",
       "      <th>...</th>\n",
       "      <td>...</td>\n",
       "      <td>...</td>\n",
       "      <td>...</td>\n",
       "      <td>...</td>\n",
       "    </tr>\n",
       "    <tr>\n",
       "      <th>70</th>\n",
       "      <td>Furgón 71</td>\n",
       "      <td>Escuela 15</td>\n",
       "      <td>20</td>\n",
       "      <td>0.008</td>\n",
       "    </tr>\n",
       "    <tr>\n",
       "      <th>71</th>\n",
       "      <td>Furgón 72</td>\n",
       "      <td>Escuela 20</td>\n",
       "      <td>30</td>\n",
       "      <td>0.006</td>\n",
       "    </tr>\n",
       "    <tr>\n",
       "      <th>72</th>\n",
       "      <td>Furgón 73</td>\n",
       "      <td>Escuela 16</td>\n",
       "      <td>20</td>\n",
       "      <td>0.006</td>\n",
       "    </tr>\n",
       "    <tr>\n",
       "      <th>73</th>\n",
       "      <td>Furgón 74</td>\n",
       "      <td>Escuela 16</td>\n",
       "      <td>30</td>\n",
       "      <td>0.004</td>\n",
       "    </tr>\n",
       "    <tr>\n",
       "      <th>74</th>\n",
       "      <td>Furgón 75</td>\n",
       "      <td>Escuela 7</td>\n",
       "      <td>30</td>\n",
       "      <td>0.006</td>\n",
       "    </tr>\n",
       "  </tbody>\n",
       "</table>\n",
       "<p>75 rows × 4 columns</p>\n",
       "</div>"
      ],
      "text/plain": [
       "       Furgón Escuela a la que pertenece  Capacidad del furgón  \\\n",
       "0    Furgón 1                 Escuela 15                    30   \n",
       "1    Furgón 2                  Escuela 7                    35   \n",
       "2    Furgón 3                  Escuela 8                    35   \n",
       "3    Furgón 4                 Escuela 10                    20   \n",
       "4    Furgón 5                 Escuela 13                    35   \n",
       "..        ...                        ...                   ...   \n",
       "70  Furgón 71                 Escuela 15                    20   \n",
       "71  Furgón 72                 Escuela 20                    30   \n",
       "72  Furgón 73                 Escuela 16                    20   \n",
       "73  Furgón 74                 Escuela 16                    30   \n",
       "74  Furgón 75                  Escuela 7                    30   \n",
       "\n",
       "    Costo transporte alumno/año [MM$]  \n",
       "0                               0.008  \n",
       "1                               0.007  \n",
       "2                               0.007  \n",
       "3                               0.008  \n",
       "4                               0.009  \n",
       "..                                ...  \n",
       "70                              0.008  \n",
       "71                              0.006  \n",
       "72                              0.006  \n",
       "73                              0.004  \n",
       "74                              0.006  \n",
       "\n",
       "[75 rows x 4 columns]"
      ]
     },
     "execution_count": 135,
     "metadata": {},
     "output_type": "execute_result"
    }
   ],
   "source": [
    "furgones = pd.read_excel('datos_liga/QS4.xlsx', sheet_name='Furgones')\n",
    "furgones"
   ]
  },
  {
   "attachments": {},
   "cell_type": "markdown",
   "metadata": {},
   "source": [
    "# P1"
   ]
  },
  {
   "cell_type": "code",
   "execution_count": 142,
   "metadata": {},
   "outputs": [
    {
     "data": {
      "image/png": "[encoded data removed]",
      "text/plain": [
       "<Figure size 800x800 with 1 Axes>"
      ]
     },
     "metadata": {},
     "output_type": "display_data"
    }
   ],
   "source": [
    "escuelas[['Tipo','Cantidad de estudiantes']].groupby('Tipo').sum().plot.pie(y='Cantidad de estudiantes', figsize = (8,8))\n",
    "plt.ylabel('')\n",
    "plt.show()"
   ]
  },
  {
   "attachments": {},
   "cell_type": "markdown",
   "metadata": {},
   "source": [
    "# P2"
   ]
  },
  {
   "cell_type": "code",
   "execution_count": 145,
   "metadata": {},
   "outputs": [
    {
     "data": {
      "text/html": [
       "<div>\n",
       "<style scoped>\n",
       "    .dataframe tbody tr th:only-of-type {\n",
       "        vertical-align: middle;\n",
       "    }\n",
       "\n",
       "    .dataframe tbody tr th {\n",
       "        vertical-align: top;\n",
       "    }\n",
       "\n",
       "    .dataframe thead th {\n",
       "        text-align: right;\n",
       "    }\n",
       "</style>\n",
       "<table border=\"1\" class=\"dataframe\">\n",
       "  <thead>\n",
       "    <tr style=\"text-align: right;\">\n",
       "      <th></th>\n",
       "      <th>Furgón</th>\n",
       "    </tr>\n",
       "    <tr>\n",
       "      <th>Escuela a la que pertenece</th>\n",
       "      <th></th>\n",
       "    </tr>\n",
       "  </thead>\n",
       "  <tbody>\n",
       "    <tr>\n",
       "      <th>Escuela 1</th>\n",
       "      <td>1</td>\n",
       "    </tr>\n",
       "    <tr>\n",
       "      <th>Escuela 10</th>\n",
       "      <td>3</td>\n",
       "    </tr>\n",
       "    <tr>\n",
       "      <th>Escuela 11</th>\n",
       "      <td>5</td>\n",
       "    </tr>\n",
       "    <tr>\n",
       "      <th>Escuela 12</th>\n",
       "      <td>7</td>\n",
       "    </tr>\n",
       "    <tr>\n",
       "      <th>Escuela 13</th>\n",
       "      <td>2</td>\n",
       "    </tr>\n",
       "    <tr>\n",
       "      <th>Escuela 14</th>\n",
       "      <td>3</td>\n",
       "    </tr>\n",
       "    <tr>\n",
       "      <th>Escuela 15</th>\n",
       "      <td>8</td>\n",
       "    </tr>\n",
       "    <tr>\n",
       "      <th>Escuela 16</th>\n",
       "      <td>2</td>\n",
       "    </tr>\n",
       "    <tr>\n",
       "      <th>Escuela 17</th>\n",
       "      <td>2</td>\n",
       "    </tr>\n",
       "    <tr>\n",
       "      <th>Escuela 18</th>\n",
       "      <td>1</td>\n",
       "    </tr>\n",
       "    <tr>\n",
       "      <th>Escuela 19</th>\n",
       "      <td>5</td>\n",
       "    </tr>\n",
       "    <tr>\n",
       "      <th>Escuela 2</th>\n",
       "      <td>5</td>\n",
       "    </tr>\n",
       "    <tr>\n",
       "      <th>Escuela 20</th>\n",
       "      <td>7</td>\n",
       "    </tr>\n",
       "    <tr>\n",
       "      <th>Escuela 3</th>\n",
       "      <td>3</td>\n",
       "    </tr>\n",
       "    <tr>\n",
       "      <th>Escuela 4</th>\n",
       "      <td>6</td>\n",
       "    </tr>\n",
       "    <tr>\n",
       "      <th>Escuela 5</th>\n",
       "      <td>3</td>\n",
       "    </tr>\n",
       "    <tr>\n",
       "      <th>Escuela 6</th>\n",
       "      <td>5</td>\n",
       "    </tr>\n",
       "    <tr>\n",
       "      <th>Escuela 7</th>\n",
       "      <td>4</td>\n",
       "    </tr>\n",
       "    <tr>\n",
       "      <th>Escuela 8</th>\n",
       "      <td>2</td>\n",
       "    </tr>\n",
       "    <tr>\n",
       "      <th>Escuela 9</th>\n",
       "      <td>1</td>\n",
       "    </tr>\n",
       "  </tbody>\n",
       "</table>\n",
       "</div>"
      ],
      "text/plain": [
       "                            Furgón\n",
       "Escuela a la que pertenece        \n",
       "Escuela 1                        1\n",
       "Escuela 10                       3\n",
       "Escuela 11                       5\n",
       "Escuela 12                       7\n",
       "Escuela 13                       2\n",
       "Escuela 14                       3\n",
       "Escuela 15                       8\n",
       "Escuela 16                       2\n",
       "Escuela 17                       2\n",
       "Escuela 18                       1\n",
       "Escuela 19                       5\n",
       "Escuela 2                        5\n",
       "Escuela 20                       7\n",
       "Escuela 3                        3\n",
       "Escuela 4                        6\n",
       "Escuela 5                        3\n",
       "Escuela 6                        5\n",
       "Escuela 7                        4\n",
       "Escuela 8                        2\n",
       "Escuela 9                        1"
      ]
     },
     "execution_count": 145,
     "metadata": {},
     "output_type": "execute_result"
    }
   ],
   "source": [
    "p2 = furgones[['Furgón', 'Escuela a la que pertenece']].groupby('Escuela a la que pertenece').count()\n",
    "p2\n"
   ]
  },
  {
   "cell_type": "code",
   "execution_count": 146,
   "metadata": {},
   "outputs": [
    {
     "data": {
      "image/png": "[encoded data removed]",
      "text/plain": [
       "<Figure size 1000x700 with 1 Axes>"
      ]
     },
     "metadata": {},
     "output_type": "display_data"
    }
   ],
   "source": [
    "p2 = furgones[['Furgón', 'Escuela a la que pertenece']].groupby('Escuela a la que pertenece').count()\n",
    "p2['Conteo'] = p2.apply(lambda row: row.Furgón if row.Furgón < 5 else 5, axis = 1)\n",
    "p2.groupby([pd.cut(p2[\"Conteo\"], np.arange(0, 6, 1), include_lowest = True)]).count().plot(y = 'Conteo', kind='bar', figsize = (10,7))\n",
    "plt.ylabel('Cantidad de escuelas')\n",
    "plt.grid(alpha = 0.5)\n",
    "plt.show()"
   ]
  },
  {
   "cell_type": "code",
   "execution_count": 147,
   "metadata": {},
   "outputs": [
    {
     "data": {
      "text/html": [
       "<div>\n",
       "<style scoped>\n",
       "    .dataframe tbody tr th:only-of-type {\n",
       "        vertical-align: middle;\n",
       "    }\n",
       "\n",
       "    .dataframe tbody tr th {\n",
       "        vertical-align: top;\n",
       "    }\n",
       "\n",
       "    .dataframe thead th {\n",
       "        text-align: right;\n",
       "    }\n",
       "</style>\n",
       "<table border=\"1\" class=\"dataframe\">\n",
       "  <thead>\n",
       "    <tr style=\"text-align: right;\">\n",
       "      <th></th>\n",
       "      <th>Furgón</th>\n",
       "      <th>Conteo</th>\n",
       "    </tr>\n",
       "    <tr>\n",
       "      <th>Conteo</th>\n",
       "      <th></th>\n",
       "      <th></th>\n",
       "    </tr>\n",
       "  </thead>\n",
       "  <tbody>\n",
       "    <tr>\n",
       "      <th>(-0.001, 1.0]</th>\n",
       "      <td>3</td>\n",
       "      <td>3</td>\n",
       "    </tr>\n",
       "    <tr>\n",
       "      <th>(1.0, 2.0]</th>\n",
       "      <td>4</td>\n",
       "      <td>4</td>\n",
       "    </tr>\n",
       "    <tr>\n",
       "      <th>(2.0, 3.0]</th>\n",
       "      <td>4</td>\n",
       "      <td>4</td>\n",
       "    </tr>\n",
       "    <tr>\n",
       "      <th>(3.0, 4.0]</th>\n",
       "      <td>1</td>\n",
       "      <td>1</td>\n",
       "    </tr>\n",
       "    <tr>\n",
       "      <th>(4.0, 5.0]</th>\n",
       "      <td>8</td>\n",
       "      <td>8</td>\n",
       "    </tr>\n",
       "  </tbody>\n",
       "</table>\n",
       "</div>"
      ],
      "text/plain": [
       "               Furgón  Conteo\n",
       "Conteo                       \n",
       "(-0.001, 1.0]       3       3\n",
       "(1.0, 2.0]          4       4\n",
       "(2.0, 3.0]          4       4\n",
       "(3.0, 4.0]          1       1\n",
       "(4.0, 5.0]          8       8"
      ]
     },
     "execution_count": 147,
     "metadata": {},
     "output_type": "execute_result"
    }
   ],
   "source": [
    "p2.groupby([pd.cut(p2[\"Conteo\"], np.arange(0, 6, 1), include_lowest = True)]).count()"
   ]
  },
  {
   "cell_type": "code",
   "execution_count": 148,
   "metadata": {},
   "outputs": [
    {
     "data": {
      "text/html": [
       "<div>\n",
       "<style scoped>\n",
       "    .dataframe tbody tr th:only-of-type {\n",
       "        vertical-align: middle;\n",
       "    }\n",
       "\n",
       "    .dataframe tbody tr th {\n",
       "        vertical-align: top;\n",
       "    }\n",
       "\n",
       "    .dataframe thead th {\n",
       "        text-align: right;\n",
       "    }\n",
       "</style>\n",
       "<table border=\"1\" class=\"dataframe\">\n",
       "  <thead>\n",
       "    <tr style=\"text-align: right;\">\n",
       "      <th></th>\n",
       "      <th>Furgón</th>\n",
       "      <th>Conteo</th>\n",
       "    </tr>\n",
       "    <tr>\n",
       "      <th>Escuela a la que pertenece</th>\n",
       "      <th></th>\n",
       "      <th></th>\n",
       "    </tr>\n",
       "  </thead>\n",
       "  <tbody>\n",
       "    <tr>\n",
       "      <th>Escuela 1</th>\n",
       "      <td>1</td>\n",
       "      <td>1</td>\n",
       "    </tr>\n",
       "    <tr>\n",
       "      <th>Escuela 10</th>\n",
       "      <td>3</td>\n",
       "      <td>3</td>\n",
       "    </tr>\n",
       "    <tr>\n",
       "      <th>Escuela 11</th>\n",
       "      <td>5</td>\n",
       "      <td>5</td>\n",
       "    </tr>\n",
       "    <tr>\n",
       "      <th>Escuela 12</th>\n",
       "      <td>7</td>\n",
       "      <td>5</td>\n",
       "    </tr>\n",
       "    <tr>\n",
       "      <th>Escuela 13</th>\n",
       "      <td>2</td>\n",
       "      <td>2</td>\n",
       "    </tr>\n",
       "    <tr>\n",
       "      <th>Escuela 14</th>\n",
       "      <td>3</td>\n",
       "      <td>3</td>\n",
       "    </tr>\n",
       "    <tr>\n",
       "      <th>Escuela 15</th>\n",
       "      <td>8</td>\n",
       "      <td>5</td>\n",
       "    </tr>\n",
       "    <tr>\n",
       "      <th>Escuela 16</th>\n",
       "      <td>2</td>\n",
       "      <td>2</td>\n",
       "    </tr>\n",
       "    <tr>\n",
       "      <th>Escuela 17</th>\n",
       "      <td>2</td>\n",
       "      <td>2</td>\n",
       "    </tr>\n",
       "    <tr>\n",
       "      <th>Escuela 18</th>\n",
       "      <td>1</td>\n",
       "      <td>1</td>\n",
       "    </tr>\n",
       "    <tr>\n",
       "      <th>Escuela 19</th>\n",
       "      <td>5</td>\n",
       "      <td>5</td>\n",
       "    </tr>\n",
       "    <tr>\n",
       "      <th>Escuela 2</th>\n",
       "      <td>5</td>\n",
       "      <td>5</td>\n",
       "    </tr>\n",
       "    <tr>\n",
       "      <th>Escuela 20</th>\n",
       "      <td>7</td>\n",
       "      <td>5</td>\n",
       "    </tr>\n",
       "    <tr>\n",
       "      <th>Escuela 3</th>\n",
       "      <td>3</td>\n",
       "      <td>3</td>\n",
       "    </tr>\n",
       "    <tr>\n",
       "      <th>Escuela 4</th>\n",
       "      <td>6</td>\n",
       "      <td>5</td>\n",
       "    </tr>\n",
       "    <tr>\n",
       "      <th>Escuela 5</th>\n",
       "      <td>3</td>\n",
       "      <td>3</td>\n",
       "    </tr>\n",
       "    <tr>\n",
       "      <th>Escuela 6</th>\n",
       "      <td>5</td>\n",
       "      <td>5</td>\n",
       "    </tr>\n",
       "    <tr>\n",
       "      <th>Escuela 7</th>\n",
       "      <td>4</td>\n",
       "      <td>4</td>\n",
       "    </tr>\n",
       "    <tr>\n",
       "      <th>Escuela 8</th>\n",
       "      <td>2</td>\n",
       "      <td>2</td>\n",
       "    </tr>\n",
       "    <tr>\n",
       "      <th>Escuela 9</th>\n",
       "      <td>1</td>\n",
       "      <td>1</td>\n",
       "    </tr>\n",
       "  </tbody>\n",
       "</table>\n",
       "</div>"
      ],
      "text/plain": [
       "                            Furgón  Conteo\n",
       "Escuela a la que pertenece                \n",
       "Escuela 1                        1       1\n",
       "Escuela 10                       3       3\n",
       "Escuela 11                       5       5\n",
       "Escuela 12                       7       5\n",
       "Escuela 13                       2       2\n",
       "Escuela 14                       3       3\n",
       "Escuela 15                       8       5\n",
       "Escuela 16                       2       2\n",
       "Escuela 17                       2       2\n",
       "Escuela 18                       1       1\n",
       "Escuela 19                       5       5\n",
       "Escuela 2                        5       5\n",
       "Escuela 20                       7       5\n",
       "Escuela 3                        3       3\n",
       "Escuela 4                        6       5\n",
       "Escuela 5                        3       3\n",
       "Escuela 6                        5       5\n",
       "Escuela 7                        4       4\n",
       "Escuela 8                        2       2\n",
       "Escuela 9                        1       1"
      ]
     },
     "execution_count": 148,
     "metadata": {},
     "output_type": "execute_result"
    }
   ],
   "source": [
    "p2"
   ]
  },
  {
   "attachments": {},
   "cell_type": "markdown",
   "metadata": {},
   "source": [
    "# P3"
   ]
  },
  {
   "cell_type": "code",
   "execution_count": 153,
   "metadata": {},
   "outputs": [
    {
     "data": {
      "image/png": "[encoded data removed]",
      "text/plain": [
       "<Figure size 1500x800 with 2 Axes>"
      ]
     },
     "metadata": {},
     "output_type": "display_data"
    }
   ],
   "source": [
    "escuelas.plot.scatter(x='Ubicación en x', y='Ubicación en y', s='Cantidad de estudiantes', c = 'Cantidad de estudiantes', colormap = 'plasma', figsize = (15,8))\n",
    "plt.show()"
   ]
  },
  {
   "attachments": {},
   "cell_type": "markdown",
   "metadata": {},
   "source": [
    "# P4"
   ]
  },
  {
   "cell_type": "code",
   "execution_count": 154,
   "metadata": {},
   "outputs": [
    {
     "data": {
      "text/html": [
       "<div>\n",
       "<style scoped>\n",
       "    .dataframe tbody tr th:only-of-type {\n",
       "        vertical-align: middle;\n",
       "    }\n",
       "\n",
       "    .dataframe tbody tr th {\n",
       "        vertical-align: top;\n",
       "    }\n",
       "\n",
       "    .dataframe thead th {\n",
       "        text-align: right;\n",
       "    }\n",
       "</style>\n",
       "<table border=\"1\" class=\"dataframe\">\n",
       "  <thead>\n",
       "    <tr style=\"text-align: right;\">\n",
       "      <th></th>\n",
       "      <th>Furgón</th>\n",
       "      <th>Escuela a la que pertenece</th>\n",
       "      <th>Capacidad del furgón</th>\n",
       "      <th>Costo transporte alumno/año [MM$]</th>\n",
       "    </tr>\n",
       "  </thead>\n",
       "  <tbody>\n",
       "    <tr>\n",
       "      <th>0</th>\n",
       "      <td>Furgón 1</td>\n",
       "      <td>Escuela 15</td>\n",
       "      <td>30</td>\n",
       "      <td>0.008</td>\n",
       "    </tr>\n",
       "    <tr>\n",
       "      <th>1</th>\n",
       "      <td>Furgón 2</td>\n",
       "      <td>Escuela 7</td>\n",
       "      <td>35</td>\n",
       "      <td>0.007</td>\n",
       "    </tr>\n",
       "    <tr>\n",
       "      <th>2</th>\n",
       "      <td>Furgón 3</td>\n",
       "      <td>Escuela 8</td>\n",
       "      <td>35</td>\n",
       "      <td>0.007</td>\n",
       "    </tr>\n",
       "    <tr>\n",
       "      <th>3</th>\n",
       "      <td>Furgón 4</td>\n",
       "      <td>Escuela 10</td>\n",
       "      <td>20</td>\n",
       "      <td>0.008</td>\n",
       "    </tr>\n",
       "    <tr>\n",
       "      <th>4</th>\n",
       "      <td>Furgón 5</td>\n",
       "      <td>Escuela 13</td>\n",
       "      <td>35</td>\n",
       "      <td>0.009</td>\n",
       "    </tr>\n",
       "    <tr>\n",
       "      <th>...</th>\n",
       "      <td>...</td>\n",
       "      <td>...</td>\n",
       "      <td>...</td>\n",
       "      <td>...</td>\n",
       "    </tr>\n",
       "    <tr>\n",
       "      <th>70</th>\n",
       "      <td>Furgón 71</td>\n",
       "      <td>Escuela 15</td>\n",
       "      <td>20</td>\n",
       "      <td>0.008</td>\n",
       "    </tr>\n",
       "    <tr>\n",
       "      <th>71</th>\n",
       "      <td>Furgón 72</td>\n",
       "      <td>Escuela 20</td>\n",
       "      <td>30</td>\n",
       "      <td>0.006</td>\n",
       "    </tr>\n",
       "    <tr>\n",
       "      <th>72</th>\n",
       "      <td>Furgón 73</td>\n",
       "      <td>Escuela 16</td>\n",
       "      <td>20</td>\n",
       "      <td>0.006</td>\n",
       "    </tr>\n",
       "    <tr>\n",
       "      <th>73</th>\n",
       "      <td>Furgón 74</td>\n",
       "      <td>Escuela 16</td>\n",
       "      <td>30</td>\n",
       "      <td>0.004</td>\n",
       "    </tr>\n",
       "    <tr>\n",
       "      <th>74</th>\n",
       "      <td>Furgón 75</td>\n",
       "      <td>Escuela 7</td>\n",
       "      <td>30</td>\n",
       "      <td>0.006</td>\n",
       "    </tr>\n",
       "  </tbody>\n",
       "</table>\n",
       "<p>75 rows × 4 columns</p>\n",
       "</div>"
      ],
      "text/plain": [
       "       Furgón Escuela a la que pertenece  Capacidad del furgón  \\\n",
       "0    Furgón 1                 Escuela 15                    30   \n",
       "1    Furgón 2                  Escuela 7                    35   \n",
       "2    Furgón 3                  Escuela 8                    35   \n",
       "3    Furgón 4                 Escuela 10                    20   \n",
       "4    Furgón 5                 Escuela 13                    35   \n",
       "..        ...                        ...                   ...   \n",
       "70  Furgón 71                 Escuela 15                    20   \n",
       "71  Furgón 72                 Escuela 20                    30   \n",
       "72  Furgón 73                 Escuela 16                    20   \n",
       "73  Furgón 74                 Escuela 16                    30   \n",
       "74  Furgón 75                  Escuela 7                    30   \n",
       "\n",
       "    Costo transporte alumno/año [MM$]  \n",
       "0                               0.008  \n",
       "1                               0.007  \n",
       "2                               0.007  \n",
       "3                               0.008  \n",
       "4                               0.009  \n",
       "..                                ...  \n",
       "70                              0.008  \n",
       "71                              0.006  \n",
       "72                              0.006  \n",
       "73                              0.004  \n",
       "74                              0.006  \n",
       "\n",
       "[75 rows x 4 columns]"
      ]
     },
     "execution_count": 154,
     "metadata": {},
     "output_type": "execute_result"
    }
   ],
   "source": [
    "furgones"
   ]
  },
  {
   "cell_type": "code",
   "execution_count": 155,
   "metadata": {},
   "outputs": [],
   "source": [
    "furgones.columns = ['Furgón', 'Escuela_pertenece', 'Capacidad', 'Costo_alumno_año']"
   ]
  },
  {
   "cell_type": "code",
   "execution_count": 157,
   "metadata": {},
   "outputs": [
    {
     "data": {
      "text/html": [
       "<div>\n",
       "<style scoped>\n",
       "    .dataframe tbody tr th:only-of-type {\n",
       "        vertical-align: middle;\n",
       "    }\n",
       "\n",
       "    .dataframe tbody tr th {\n",
       "        vertical-align: top;\n",
       "    }\n",
       "\n",
       "    .dataframe thead th {\n",
       "        text-align: right;\n",
       "    }\n",
       "</style>\n",
       "<table border=\"1\" class=\"dataframe\">\n",
       "  <thead>\n",
       "    <tr style=\"text-align: right;\">\n",
       "      <th></th>\n",
       "      <th>Furgón</th>\n",
       "      <th>Escuela_pertenece</th>\n",
       "      <th>Capacidad</th>\n",
       "      <th>Costo_alumno_año</th>\n",
       "      <th>Costo_total</th>\n",
       "    </tr>\n",
       "  </thead>\n",
       "  <tbody>\n",
       "    <tr>\n",
       "      <th>0</th>\n",
       "      <td>Furgón 1</td>\n",
       "      <td>Escuela 15</td>\n",
       "      <td>30</td>\n",
       "      <td>0.008</td>\n",
       "      <td>0.240</td>\n",
       "    </tr>\n",
       "    <tr>\n",
       "      <th>1</th>\n",
       "      <td>Furgón 2</td>\n",
       "      <td>Escuela 7</td>\n",
       "      <td>35</td>\n",
       "      <td>0.007</td>\n",
       "      <td>0.245</td>\n",
       "    </tr>\n",
       "    <tr>\n",
       "      <th>2</th>\n",
       "      <td>Furgón 3</td>\n",
       "      <td>Escuela 8</td>\n",
       "      <td>35</td>\n",
       "      <td>0.007</td>\n",
       "      <td>0.245</td>\n",
       "    </tr>\n",
       "    <tr>\n",
       "      <th>3</th>\n",
       "      <td>Furgón 4</td>\n",
       "      <td>Escuela 10</td>\n",
       "      <td>20</td>\n",
       "      <td>0.008</td>\n",
       "      <td>0.160</td>\n",
       "    </tr>\n",
       "    <tr>\n",
       "      <th>4</th>\n",
       "      <td>Furgón 5</td>\n",
       "      <td>Escuela 13</td>\n",
       "      <td>35</td>\n",
       "      <td>0.009</td>\n",
       "      <td>0.315</td>\n",
       "    </tr>\n",
       "    <tr>\n",
       "      <th>...</th>\n",
       "      <td>...</td>\n",
       "      <td>...</td>\n",
       "      <td>...</td>\n",
       "      <td>...</td>\n",
       "      <td>...</td>\n",
       "    </tr>\n",
       "    <tr>\n",
       "      <th>70</th>\n",
       "      <td>Furgón 71</td>\n",
       "      <td>Escuela 15</td>\n",
       "      <td>20</td>\n",
       "      <td>0.008</td>\n",
       "      <td>0.160</td>\n",
       "    </tr>\n",
       "    <tr>\n",
       "      <th>71</th>\n",
       "      <td>Furgón 72</td>\n",
       "      <td>Escuela 20</td>\n",
       "      <td>30</td>\n",
       "      <td>0.006</td>\n",
       "      <td>0.180</td>\n",
       "    </tr>\n",
       "    <tr>\n",
       "      <th>72</th>\n",
       "      <td>Furgón 73</td>\n",
       "      <td>Escuela 16</td>\n",
       "      <td>20</td>\n",
       "      <td>0.006</td>\n",
       "      <td>0.120</td>\n",
       "    </tr>\n",
       "    <tr>\n",
       "      <th>73</th>\n",
       "      <td>Furgón 74</td>\n",
       "      <td>Escuela 16</td>\n",
       "      <td>30</td>\n",
       "      <td>0.004</td>\n",
       "      <td>0.120</td>\n",
       "    </tr>\n",
       "    <tr>\n",
       "      <th>74</th>\n",
       "      <td>Furgón 75</td>\n",
       "      <td>Escuela 7</td>\n",
       "      <td>30</td>\n",
       "      <td>0.006</td>\n",
       "      <td>0.180</td>\n",
       "    </tr>\n",
       "  </tbody>\n",
       "</table>\n",
       "<p>75 rows × 5 columns</p>\n",
       "</div>"
      ],
      "text/plain": [
       "       Furgón Escuela_pertenece  Capacidad  Costo_alumno_año  Costo_total\n",
       "0    Furgón 1        Escuela 15         30             0.008        0.240\n",
       "1    Furgón 2         Escuela 7         35             0.007        0.245\n",
       "2    Furgón 3         Escuela 8         35             0.007        0.245\n",
       "3    Furgón 4        Escuela 10         20             0.008        0.160\n",
       "4    Furgón 5        Escuela 13         35             0.009        0.315\n",
       "..        ...               ...        ...               ...          ...\n",
       "70  Furgón 71        Escuela 15         20             0.008        0.160\n",
       "71  Furgón 72        Escuela 20         30             0.006        0.180\n",
       "72  Furgón 73        Escuela 16         20             0.006        0.120\n",
       "73  Furgón 74        Escuela 16         30             0.004        0.120\n",
       "74  Furgón 75         Escuela 7         30             0.006        0.180\n",
       "\n",
       "[75 rows x 5 columns]"
      ]
     },
     "execution_count": 157,
     "metadata": {},
     "output_type": "execute_result"
    }
   ],
   "source": [
    "furgones['Costo_total'] = furgones.apply(lambda row: row.Capacidad*row.Costo_alumno_año, axis = 1)\n",
    "furgones"
   ]
  },
  {
   "cell_type": "code",
   "execution_count": 158,
   "metadata": {},
   "outputs": [
    {
     "data": {
      "image/png": "[encoded data removed]",
      "text/plain": [
       "<Figure size 1000x600 with 1 Axes>"
      ]
     },
     "metadata": {},
     "output_type": "display_data"
    }
   ],
   "source": [
    "furgones[['Escuela_pertenece', 'Costo_total']].groupby('Escuela_pertenece').sum().sort_values(by = 'Costo_total', ascending = True).plot(kind = 'bar', figsize = (10,6))\n",
    "plt.ylabel('Costo total [MM$]')\n",
    "plt.show()"
   ]
  },
  {
   "attachments": {},
   "cell_type": "markdown",
   "metadata": {},
   "source": [
    "# P5"
   ]
  },
  {
   "cell_type": "code",
   "execution_count": 172,
   "metadata": {},
   "outputs": [
    {
     "data": {
      "application/vnd.plotly.v1+json": {
       "config": {
        "plotlyServerURL": "https://plot.ly"
       },
       "data": [
        {
         "branchvalues": "total",
         "domain": {
          "x": [
           0,
           1
          ],
          "y": [
           0,
           1
          ]
         },
         "hovertemplate": "labels=%{label}<br>Escuela_pertenece=%{value}<br>parent=%{parent}<br>id=%{id}<extra></extra>",
         "ids": [
          "35/11",
          "20/13",
          "30/18",
          "20",
          "30",
          "35"
         ],
         "labels": [
          "11",
          "13",
          "18",
          "20",
          "30",
          "35"
         ],
         "name": "",
         "parents": [
          "35",
          "20",
          "30",
          "",
          "",
          ""
         ],
         "type": "treemap",
         "values": [
          11,
          13,
          18,
          13,
          18,
          11
         ]
        }
       ],
       "layout": {
        "legend": {
         "tracegroupgap": 0
        },
        "margin": {
         "b": 25,
         "l": 25,
         "r": 25,
         "t": 50
        },
        "template": {
         "data": {
          "bar": [
           {
            "error_x": {
             "color": "#2a3f5f"
            },
            "error_y": {
             "color": "#2a3f5f"
            },
            "marker": {
             "line": {
              "color": "#E5ECF6",
              "width": 0.5
             },
             "pattern": {
              "fillmode": "overlay",
              "size": 10,
              "solidity": 0.2
             }
            },
            "type": "bar"
           }
          ],
          "barpolar": [
           {
            "marker": {
             "line": {
              "color": "#E5ECF6",
              "width": 0.5
             },
             "pattern": {
              "fillmode": "overlay",
              "size": 10,
              "solidity": 0.2
             }
            },
            "type": "barpolar"
           }
          ],
          "carpet": [
           {
            "aaxis": {
             "endlinecolor": "#2a3f5f",
             "gridcolor": "white",
             "linecolor": "white",
             "minorgridcolor": "white",
             "startlinecolor": "#2a3f5f"
            },
            "baxis": {
             "endlinecolor": "#2a3f5f",
             "gridcolor": "white",
             "linecolor": "white",
             "minorgridcolor": "white",
             "startlinecolor": "#2a3f5f"
            },
            "type": "carpet"
           }
          ],
          "choropleth": [
           {
            "colorbar": {
             "outlinewidth": 0,
             "ticks": ""
            },
            "type": "choropleth"
           }
          ],
          "contour": [
           {
            "colorbar": {
             "outlinewidth": 0,
             "ticks": ""
            },
            "colorscale": [
             [
              0,
              "#0d0887"
             ],
             [
              0.1111111111111111,
              "#46039f"
             ],
             [
              0.2222222222222222,
              "#7201a8"
             ],
             [
              0.3333333333333333,
              "#9c179e"
             ],
             [
              0.4444444444444444,
              "#bd3786"
             ],
             [
              0.5555555555555556,
              "#d8576b"
             ],
             [
              0.6666666666666666,
              "#ed7953"
             ],
             [
              0.7777777777777778,
              "#fb9f3a"
             ],
             [
              0.8888888888888888,
              "#fdca26"
             ],
             [
              1,
              "#f0f921"
             ]
            ],
            "type": "contour"
           }
          ],
          "contourcarpet": [
           {
            "colorbar": {
             "outlinewidth": 0,
             "ticks": ""
            },
            "type": "contourcarpet"
           }
          ],
          "heatmap": [
           {
            "colorbar": {
             "outlinewidth": 0,
             "ticks": ""
            },
            "colorscale": [
             [
              0,
              "#0d0887"
             ],
             [
              0.1111111111111111,
              "#46039f"
             ],
             [
              0.2222222222222222,
              "#7201a8"
             ],
             [
              0.3333333333333333,
              "#9c179e"
             ],
             [
              0.4444444444444444,
              "#bd3786"
             ],
             [
              0.5555555555555556,
              "#d8576b"
             ],
             [
              0.6666666666666666,
              "#ed7953"
             ],
             [
              0.7777777777777778,
              "#fb9f3a"
             ],
             [
              0.8888888888888888,
              "#fdca26"
             ],
             [
              1,
              "#f0f921"
             ]
            ],
            "type": "heatmap"
           }
          ],
          "heatmapgl": [
           {
            "colorbar": {
             "outlinewidth": 0,
             "ticks": ""
            },
            "colorscale": [
             [
              0,
              "#0d0887"
             ],
             [
              0.1111111111111111,
              "#46039f"
             ],
             [
              0.2222222222222222,
              "#7201a8"
             ],
             [
              0.3333333333333333,
              "#9c179e"
             ],
             [
              0.4444444444444444,
              "#bd3786"
             ],
             [
              0.5555555555555556,
              "#d8576b"
             ],
             [
              0.6666666666666666,
              "#ed7953"
             ],
             [
              0.7777777777777778,
              "#fb9f3a"
             ],
             [
              0.8888888888888888,
              "#fdca26"
             ],
             [
              1,
              "#f0f921"
             ]
            ],
            "type": "heatmapgl"
           }
          ],
          "histogram": [
           {
            "marker": {
             "pattern": {
              "fillmode": "overlay",
              "size": 10,
              "solidity": 0.2
             }
            },
            "type": "histogram"
           }
          ],
          "histogram2d": [
           {
            "colorbar": {
             "outlinewidth": 0,
             "ticks": ""
            },
            "colorscale": [
             [
              0,
              "#0d0887"
             ],
             [
              0.1111111111111111,
              "#46039f"
             ],
             [
              0.2222222222222222,
              "#7201a8"
             ],
             [
              0.3333333333333333,
              "#9c179e"
             ],
             [
              0.4444444444444444,
              "#bd3786"
             ],
             [
              0.5555555555555556,
              "#d8576b"
             ],
             [
              0.6666666666666666,
              "#ed7953"
             ],
             [
              0.7777777777777778,
              "#fb9f3a"
             ],
             [
              0.8888888888888888,
              "#fdca26"
             ],
             [
              1,
              "#f0f921"
             ]
            ],
            "type": "histogram2d"
           }
          ],
          "histogram2dcontour": [
           {
            "colorbar": {
             "outlinewidth": 0,
             "ticks": ""
            },
            "colorscale": [
             [
              0,
              "#0d0887"
             ],
             [
              0.1111111111111111,
              "#46039f"
             ],
             [
              0.2222222222222222,
              "#7201a8"
             ],
             [
              0.3333333333333333,
              "#9c179e"
             ],
             [
              0.4444444444444444,
              "#bd3786"
             ],
             [
              0.5555555555555556,
              "#d8576b"
             ],
             [
              0.6666666666666666,
              "#ed7953"
             ],
             [
              0.7777777777777778,
              "#fb9f3a"
             ],
             [
              0.8888888888888888,
              "#fdca26"
             ],
             [
              1,
              "#f0f921"
             ]
            ],
            "type": "histogram2dcontour"
           }
          ],
          "mesh3d": [
           {
            "colorbar": {
             "outlinewidth": 0,
             "ticks": ""
            },
            "type": "mesh3d"
           }
          ],
          "parcoords": [
           {
            "line": {
             "colorbar": {
              "outlinewidth": 0,
              "ticks": ""
             }
            },
            "type": "parcoords"
           }
          ],
          "pie": [
           {
            "automargin": true,
            "type": "pie"
           }
          ],
          "scatter": [
           {
            "fillpattern": {
             "fillmode": "overlay",
             "size": 10,
             "solidity": 0.2
            },
            "type": "scatter"
           }
          ],
          "scatter3d": [
           {
            "line": {
             "colorbar": {
              "outlinewidth": 0,
              "ticks": ""
             }
            },
            "marker": {
             "colorbar": {
              "outlinewidth": 0,
              "ticks": ""
             }
            },
            "type": "scatter3d"
           }
          ],
          "scattercarpet": [
           {
            "marker": {
             "colorbar": {
              "outlinewidth": 0,
              "ticks": ""
             }
            },
            "type": "scattercarpet"
           }
          ],
          "scattergeo": [
           {
            "marker": {
             "colorbar": {
              "outlinewidth": 0,
              "ticks": ""
             }
            },
            "type": "scattergeo"
           }
          ],
          "scattergl": [
           {
            "marker": {
             "colorbar": {
              "outlinewidth": 0,
              "ticks": ""
             }
            },
            "type": "scattergl"
           }
          ],
          "scattermapbox": [
           {
            "marker": {
             "colorbar": {
              "outlinewidth": 0,
              "ticks": ""
             }
            },
            "type": "scattermapbox"
           }
          ],
          "scatterpolar": [
           {
            "marker": {
             "colorbar": {
              "outlinewidth": 0,
              "ticks": ""
             }
            },
            "type": "scatterpolar"
           }
          ],
          "scatterpolargl": [
           {
            "marker": {
             "colorbar": {
              "outlinewidth": 0,
              "ticks": ""
             }
            },
            "type": "scatterpolargl"
           }
          ],
          "scatterternary": [
           {
            "marker": {
             "colorbar": {
              "outlinewidth": 0,
              "ticks": ""
             }
            },
            "type": "scatterternary"
           }
          ],
          "surface": [
           {
            "colorbar": {
             "outlinewidth": 0,
             "ticks": ""
            },
            "colorscale": [
             [
              0,
              "#0d0887"
             ],
             [
              0.1111111111111111,
              "#46039f"
             ],
             [
              0.2222222222222222,
              "#7201a8"
             ],
             [
              0.3333333333333333,
              "#9c179e"
             ],
             [
              0.4444444444444444,
              "#bd3786"
             ],
             [
              0.5555555555555556,
              "#d8576b"
             ],
             [
              0.6666666666666666,
              "#ed7953"
             ],
             [
              0.7777777777777778,
              "#fb9f3a"
             ],
             [
              0.8888888888888888,
              "#fdca26"
             ],
             [
              1,
              "#f0f921"
             ]
            ],
            "type": "surface"
           }
          ],
          "table": [
           {
            "cells": {
             "fill": {
              "color": "#EBF0F8"
             },
             "line": {
              "color": "white"
             }
            },
            "header": {
             "fill": {
              "color": "#C8D4E3"
             },
             "line": {
              "color": "white"
             }
            },
            "type": "table"
           }
          ]
         },
         "layout": {
          "annotationdefaults": {
           "arrowcolor": "#2a3f5f",
           "arrowhead": 0,
           "arrowwidth": 1
          },
          "autotypenumbers": "strict",
          "coloraxis": {
           "colorbar": {
            "outlinewidth": 0,
            "ticks": ""
           }
          },
          "colorscale": {
           "diverging": [
            [
             0,
             "#8e0152"
            ],
            [
             0.1,
             "#c51b7d"
            ],
            [
             0.2,
             "#de77ae"
            ],
            [
             0.3,
             "#f1b6da"
            ],
            [
             0.4,
             "#fde0ef"
            ],
            [
             0.5,
             "#f7f7f7"
            ],
            [
             0.6,
             "#e6f5d0"
            ],
            [
             0.7,
             "#b8e186"
            ],
            [
             0.8,
             "#7fbc41"
            ],
            [
             0.9,
             "#4d9221"
            ],
            [
             1,
             "#276419"
            ]
           ],
           "sequential": [
            [
             0,
             "#0d0887"
            ],
            [
             0.1111111111111111,
             "#46039f"
            ],
            [
             0.2222222222222222,
             "#7201a8"
            ],
            [
             0.3333333333333333,
             "#9c179e"
            ],
            [
             0.4444444444444444,
             "#bd3786"
            ],
            [
             0.5555555555555556,
             "#d8576b"
            ],
            [
             0.6666666666666666,
             "#ed7953"
            ],
            [
             0.7777777777777778,
             "#fb9f3a"
            ],
            [
             0.8888888888888888,
             "#fdca26"
            ],
            [
             1,
             "#f0f921"
            ]
           ],
           "sequentialminus": [
            [
             0,
             "#0d0887"
            ],
            [
             0.1111111111111111,
             "#46039f"
            ],
            [
             0.2222222222222222,
             "#7201a8"
            ],
            [
             0.3333333333333333,
             "#9c179e"
            ],
            [
             0.4444444444444444,
             "#bd3786"
            ],
            [
             0.5555555555555556,
             "#d8576b"
            ],
            [
             0.6666666666666666,
             "#ed7953"
            ],
            [
             0.7777777777777778,
             "#fb9f3a"
            ],
            [
             0.8888888888888888,
             "#fdca26"
            ],
            [
             1,
             "#f0f921"
            ]
           ]
          },
          "colorway": [
           "#636efa",
           "#EF553B",
           "#00cc96",
           "#ab63fa",
           "#FFA15A",
           "#19d3f3",
           "#FF6692",
           "#B6E880",
           "#FF97FF",
           "#FECB52"
          ],
          "font": {
           "color": "#2a3f5f"
          },
          "geo": {
           "bgcolor": "white",
           "lakecolor": "white",
           "landcolor": "#E5ECF6",
           "showlakes": true,
           "showland": true,
           "subunitcolor": "white"
          },
          "hoverlabel": {
           "align": "left"
          },
          "hovermode": "closest",
          "mapbox": {
           "style": "light"
          },
          "paper_bgcolor": "white",
          "plot_bgcolor": "#E5ECF6",
          "polar": {
           "angularaxis": {
            "gridcolor": "white",
            "linecolor": "white",
            "ticks": ""
           },
           "bgcolor": "#E5ECF6",
           "radialaxis": {
            "gridcolor": "white",
            "linecolor": "white",
            "ticks": ""
           }
          },
          "scene": {
           "xaxis": {
            "backgroundcolor": "#E5ECF6",
            "gridcolor": "white",
            "gridwidth": 2,
            "linecolor": "white",
            "showbackground": true,
            "ticks": "",
            "zerolinecolor": "white"
           },
           "yaxis": {
            "backgroundcolor": "#E5ECF6",
            "gridcolor": "white",
            "gridwidth": 2,
            "linecolor": "white",
            "showbackground": true,
            "ticks": "",
            "zerolinecolor": "white"
           },
           "zaxis": {
            "backgroundcolor": "#E5ECF6",
            "gridcolor": "white",
            "gridwidth": 2,
            "linecolor": "white",
            "showbackground": true,
            "ticks": "",
            "zerolinecolor": "white"
           }
          },
          "shapedefaults": {
           "line": {
            "color": "#2a3f5f"
           }
          },
          "ternary": {
           "aaxis": {
            "gridcolor": "white",
            "linecolor": "white",
            "ticks": ""
           },
           "baxis": {
            "gridcolor": "white",
            "linecolor": "white",
            "ticks": ""
           },
           "bgcolor": "#E5ECF6",
           "caxis": {
            "gridcolor": "white",
            "linecolor": "white",
            "ticks": ""
           }
          },
          "title": {
           "x": 0.05
          },
          "xaxis": {
           "automargin": true,
           "gridcolor": "white",
           "linecolor": "white",
           "ticks": "",
           "title": {
            "standoff": 15
           },
           "zerolinecolor": "white",
           "zerolinewidth": 2
          },
          "yaxis": {
           "automargin": true,
           "gridcolor": "white",
           "linecolor": "white",
           "ticks": "",
           "title": {
            "standoff": 15
           },
           "zerolinecolor": "white",
           "zerolinewidth": 2
          }
         }
        }
       }
      }
     },
     "metadata": {},
     "output_type": "display_data"
    }
   ],
   "source": [
    "p5 = furgones[['Capacidad', 'Escuela_pertenece']].groupby(['Escuela_pertenece', 'Capacidad']).sum().reset_index()\n",
    "p5 = p5.groupby('Capacidad').count().reset_index()\n",
    "fig = px.treemap(p5, path=['Capacidad', 'Escuela_pertenece'], values='Escuela_pertenece')\n",
    "fig.update_layout(margin = dict(t=50, l=25, r=25, b=25))\n",
    "fig.show()"
   ]
  },
  {
   "cell_type": "code",
   "execution_count": null,
   "metadata": {},
   "outputs": [],
   "source": []
  }
 ],
 "metadata": {
  "kernelspec": {
   "display_name": "Python 3",
   "language": "python",
   "name": "python3"
  },
  "language_info": {
   "codemirror_mode": {
    "name": "ipython",
    "version": 3
   },
   "file_extension": ".py",
   "mimetype": "text/x-python",
   "name": "python",
   "nbconvert_exporter": "python",
   "pygments_lexer": "ipython3",
   "version": "3.11.3"
  },
  "orig_nbformat": 4,
  "vscode": {
   "interpreter": {
    "hash": "573546c1eada8c60b27f5300df4435af9ba2007194c80719d45c24c6ea4a493c"
   }
  }
 },
 "nbformat": 4,
 "nbformat_minor": 2
}
