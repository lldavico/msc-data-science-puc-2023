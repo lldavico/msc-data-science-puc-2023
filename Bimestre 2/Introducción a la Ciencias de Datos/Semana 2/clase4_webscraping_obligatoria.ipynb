{
  "cells": [
    {
      "cell_type": "markdown",
      "metadata": {
        "id": "F2J7R0UTG6K7"
      },
      "source": [
        "# <img style=\"float: left; padding: 0px 10px 0px 0px;\" src=\"https://upload.wikimedia.org/wikipedia/commons/thumb/8/84/Escudo_de_la_Pontificia_Universidad_Cat%C3%B3lica_de_Chile.svg/1920px-Escudo_de_la_Pontificia_Universidad_Cat%C3%B3lica_de_Chile.svg.png\"  width=\"80\" /> MCD2030 - Introducción a Ciencia de Datos\n",
        "**Pontificia Universidad Católica de Chile**<br>\n",
        "**Magister en Ciencia de Datos**<br>"
      ]
    },
    {
      "cell_type": "markdown",
      "metadata": {
        "id": "orvrldlvG6K-"
      },
      "source": [
        "# Clase 4: Webscraping.\n",
        "\n",
        "El proceso de webscrapping en su expresión mas básica consiste en la extracción de datos desde el texto plano que estructura la página web (HTML). Requests nos brinda herramientas para la extracción de la página, y a continuación podemos usar otras librerías como BeautifulSoup para la extracción de elementos o información contenida en el texto plano.\n",
        "\n",
        "Este Notebook contiene los códigos de ejemplo presentados en la videoclase titulada *\"Raspado de páginas web - webscraping\"*.\n"
      ]
    },
    {
      "cell_type": "code",
      "execution_count": 1,
      "metadata": {
        "id": "B1h9eqsIG6K_"
      },
      "outputs": [],
      "source": [
        "#Importación de librerías\n",
        "import requests\n",
        "from bs4 import BeautifulSoup \n",
        "import pandas as pd"
      ]
    },
    {
      "cell_type": "markdown",
      "metadata": {
        "id": "eDpowvVhG6LA"
      },
      "source": [
        "# 2.Código HTML\n",
        "\n",
        "Veamos primero un ejemplo simple de código HTML para comprender su estructura general.\n",
        "\n",
        "Se sugiere descargar el archivo HTML de ejemplo y abrirlo con un navegador (Firefox, Chrome, etc.), de manera de visualizarlo como pagina web."
      ]
    },
    {
      "cell_type": "code",
      "execution_count": 2,
      "metadata": {
        "id": "N4D8H5XjG6LB",
        "outputId": "a153a41d-9d42-493d-87f3-e796d53d1710"
      },
      "outputs": [
        {
          "data": {
            "text/plain": [
              "b'<html>\\n    <head>\\n        <title>Clase 4: Web Scrapping</title>\\n    </head>\\n    <body>\\n        <h1>C\\xc3\\xb3digo HTML</h1>\\n        <p> Este es un ejemplo para comprender la estructura de un documento HTML.\\n        \\n        Ac\\xc3\\xa1 vemos un ejemplo de lista con 3 elementos:\\n          <ul id=\\'list\\' class=\\'pasos\\'>\\n            <li> Elemento 1: 100</li>\\n            <li> Elemento 2: 200 </li>\\n            <li> Elemento 3: 300</li>\\n          </ul>\\n        </p>\\n\\n        <p>Tambi\\xc3\\xa9n podemos crear una tabla, por ejemplo con la informaci\\xc3\\xb3n de los cursos (sigla, cr\\xc3\\xa9ditos y n\\xc3\\xbamero de estudiantes) de un programa de estudios:\\n        <p></p>\\n          <table>\\n           <tr>\\n             <th>Curso</th>\\n             <th>Cr\\xc3\\xa9ditos</th>\\n             <th>N Estudiantes</th>\\n           </tr>\\n           <tr>\\n             <td style=\"text-align: center; vertical-align: middle;\">IMT2100</td>\\n             <td style=\"text-align: center; vertical-align: middle;\">10</td>\\n             <td style=\"text-align: center; vertical-align: middle;\">42</td>\\n           </tr>\\n           <tr>\\n             <td style=\"text-align: center; vertical-align: middle;\">IMT2200</td>\\n             <td style=\"text-align: center; vertical-align: middle;\">10</td>\\n             <td style=\"text-align: center; vertical-align: middle;\">25</td>\\n           </tr>\\n           <tr>\\n             <td style=\"text-align: center; vertical-align: middle;\">OFG1100</td>\\n             <td style=\"text-align: center; vertical-align: middle;\">5</td>\\n             <td style=\"text-align: center; vertical-align: middle;\">35</td>\\n           </tr>\\n           <tr>\\n             <td style=\"text-align: center; vertical-align: middle;\">OFG1200</td>\\n             <td style=\"text-align: center; vertical-align: middle;\">5</td>\\n             <td style=\"text-align: center; vertical-align: middle;\">28</td>\\n           </tr>\\n         </table>\\n         </p>\\n    </body>\\n</html>\\n\\n\\n'"
            ]
          },
          "execution_count": 2,
          "metadata": {},
          "output_type": "execute_result"
        }
      ],
      "source": [
        "#archivo HTML de ejemplo disponible en Github\n",
        "html_text=requests.get('https://raw.githubusercontent.com/paguirre-uc/mds3020_2022/main/semana2/ejemplo.html').content\n",
        "\n",
        "#alternativa si descargan el archivo HTML de ejemplo a su directorio local.\n",
        "#html_text=open('ejemplo.html','r').read()\n",
        "\n",
        "html_text"
      ]
    },
    {
      "cell_type": "code",
      "execution_count": 3,
      "metadata": {
        "id": "Me9_KkTzG6LB",
        "scrolled": true
      },
      "outputs": [],
      "source": [
        "from bs4 import BeautifulSoup \n",
        "\n",
        "#Creamos una \"sopa\" a partir del códiog HTML\n",
        "soup = BeautifulSoup(html_text)"
      ]
    },
    {
      "cell_type": "code",
      "execution_count": 4,
      "metadata": {
        "id": "4uXUtp7gG6LC",
        "outputId": "0ac7bd59-f351-4042-e500-8bd7cfcb5ee8"
      },
      "outputs": [
        {
          "data": {
            "text/plain": [
              "<table>\n",
              "<tr>\n",
              "<th>Curso</th>\n",
              "<th>Créditos</th>\n",
              "<th>N Estudiantes</th>\n",
              "</tr>\n",
              "<tr>\n",
              "<td style=\"text-align: center; vertical-align: middle;\">IMT2100</td>\n",
              "<td style=\"text-align: center; vertical-align: middle;\">10</td>\n",
              "<td style=\"text-align: center; vertical-align: middle;\">42</td>\n",
              "</tr>\n",
              "<tr>\n",
              "<td style=\"text-align: center; vertical-align: middle;\">IMT2200</td>\n",
              "<td style=\"text-align: center; vertical-align: middle;\">10</td>\n",
              "<td style=\"text-align: center; vertical-align: middle;\">25</td>\n",
              "</tr>\n",
              "<tr>\n",
              "<td style=\"text-align: center; vertical-align: middle;\">OFG1100</td>\n",
              "<td style=\"text-align: center; vertical-align: middle;\">5</td>\n",
              "<td style=\"text-align: center; vertical-align: middle;\">35</td>\n",
              "</tr>\n",
              "<tr>\n",
              "<td style=\"text-align: center; vertical-align: middle;\">OFG1200</td>\n",
              "<td style=\"text-align: center; vertical-align: middle;\">5</td>\n",
              "<td style=\"text-align: center; vertical-align: middle;\">28</td>\n",
              "</tr>\n",
              "</table>"
            ]
          },
          "execution_count": 4,
          "metadata": {},
          "output_type": "execute_result"
        }
      ],
      "source": [
        "#accedemos a la tabla de datos. Esto devuelve la primera tabla de datos del código.\n",
        "soup.table"
      ]
    },
    {
      "cell_type": "code",
      "execution_count": 5,
      "metadata": {
        "id": "vjOnmMB0G6LD",
        "outputId": "f12a30fa-8b30-411f-eda3-1c051eb3371b"
      },
      "outputs": [
        {
          "name": "stdout",
          "output_type": "stream",
          "text": [
            "<table>\n",
            "<tr>\n",
            "<th>Curso</th>\n",
            "<th>Créditos</th>\n",
            "<th>N Estudiantes</th>\n",
            "</tr>\n",
            "<tr>\n",
            "<td style=\"text-align: center; vertical-align: middle;\">IMT2100</td>\n",
            "<td style=\"text-align: center; vertical-align: middle;\">10</td>\n",
            "<td style=\"text-align: center; vertical-align: middle;\">42</td>\n",
            "</tr>\n",
            "<tr>\n",
            "<td style=\"text-align: center; vertical-align: middle;\">IMT2200</td>\n",
            "<td style=\"text-align: center; vertical-align: middle;\">10</td>\n",
            "<td style=\"text-align: center; vertical-align: middle;\">25</td>\n",
            "</tr>\n",
            "<tr>\n",
            "<td style=\"text-align: center; vertical-align: middle;\">OFG1100</td>\n",
            "<td style=\"text-align: center; vertical-align: middle;\">5</td>\n",
            "<td style=\"text-align: center; vertical-align: middle;\">35</td>\n",
            "</tr>\n",
            "<tr>\n",
            "<td style=\"text-align: center; vertical-align: middle;\">OFG1200</td>\n",
            "<td style=\"text-align: center; vertical-align: middle;\">5</td>\n",
            "<td style=\"text-align: center; vertical-align: middle;\">28</td>\n",
            "</tr>\n",
            "</table>\n"
          ]
        }
      ],
      "source": [
        "#Otra forma de extraer la tabla de datos.\n",
        "table=soup.find('table')\n",
        "print(table)"
      ]
    },
    {
      "cell_type": "markdown",
      "metadata": {
        "id": "3C7altunG6LD"
      },
      "source": [
        "El método `find()` devuelve el primer elemento encontrado. Para escanear todo el documento y extraer más de un elemento (por ejemplo, si en la página existieran varias tablas), se utiliza el método `find_all()`.\n",
        "\n",
        "Ver: https://beautiful-soup-4.readthedocs.io/en/latest/index.html?highlight=find#find\n",
        "\n",
        "Una vez extraída la tabla, usamos `find_all()` para encontrar todas las filas de la tabla (`'tr'`: table rows), e iteramos sobre las filas. Para cada fila, encontramos todos los campos de datos (`'td'`: table data), y vamos agregando los datos a un DataFrame especialmente creado para este fin."
      ]
    },
    {
      "cell_type": "code",
      "execution_count": 6,
      "metadata": {
        "id": "ht-p75s7G6LE",
        "outputId": "120985fa-cd07-4a90-bb92-2759f17b690a"
      },
      "outputs": [
        {
          "name": "stderr",
          "output_type": "stream",
          "text": [
            "/var/folders/5x/tlp5fd614dv9y_wn8nmtqv4rqq_frn/T/ipykernel_24896/412666707.py:23: FutureWarning: The frame.append method is deprecated and will be removed from pandas in a future version. Use pandas.concat instead.\n",
            "  df=df.append({'Curso':col_text[0],'Creditos':col_text[1],'nEstudiantes':col_text[2]},ignore_index=True)\n",
            "/var/folders/5x/tlp5fd614dv9y_wn8nmtqv4rqq_frn/T/ipykernel_24896/412666707.py:23: FutureWarning: The frame.append method is deprecated and will be removed from pandas in a future version. Use pandas.concat instead.\n",
            "  df=df.append({'Curso':col_text[0],'Creditos':col_text[1],'nEstudiantes':col_text[2]},ignore_index=True)\n",
            "/var/folders/5x/tlp5fd614dv9y_wn8nmtqv4rqq_frn/T/ipykernel_24896/412666707.py:23: FutureWarning: The frame.append method is deprecated and will be removed from pandas in a future version. Use pandas.concat instead.\n",
            "  df=df.append({'Curso':col_text[0],'Creditos':col_text[1],'nEstudiantes':col_text[2]},ignore_index=True)\n",
            "/var/folders/5x/tlp5fd614dv9y_wn8nmtqv4rqq_frn/T/ipykernel_24896/412666707.py:23: FutureWarning: The frame.append method is deprecated and will be removed from pandas in a future version. Use pandas.concat instead.\n",
            "  df=df.append({'Curso':col_text[0],'Creditos':col_text[1],'nEstudiantes':col_text[2]},ignore_index=True)\n"
          ]
        },
        {
          "data": {
            "text/html": [
              "<div>\n",
              "<style scoped>\n",
              "    .dataframe tbody tr th:only-of-type {\n",
              "        vertical-align: middle;\n",
              "    }\n",
              "\n",
              "    .dataframe tbody tr th {\n",
              "        vertical-align: top;\n",
              "    }\n",
              "\n",
              "    .dataframe thead th {\n",
              "        text-align: right;\n",
              "    }\n",
              "</style>\n",
              "<table border=\"1\" class=\"dataframe\">\n",
              "  <thead>\n",
              "    <tr style=\"text-align: right;\">\n",
              "      <th></th>\n",
              "      <th>Curso</th>\n",
              "      <th>Creditos</th>\n",
              "      <th>nEstudiantes</th>\n",
              "    </tr>\n",
              "  </thead>\n",
              "  <tbody>\n",
              "    <tr>\n",
              "      <th>0</th>\n",
              "      <td>IMT2100</td>\n",
              "      <td>10</td>\n",
              "      <td>42</td>\n",
              "    </tr>\n",
              "    <tr>\n",
              "      <th>1</th>\n",
              "      <td>IMT2200</td>\n",
              "      <td>10</td>\n",
              "      <td>25</td>\n",
              "    </tr>\n",
              "    <tr>\n",
              "      <th>2</th>\n",
              "      <td>OFG1100</td>\n",
              "      <td>5</td>\n",
              "      <td>35</td>\n",
              "    </tr>\n",
              "    <tr>\n",
              "      <th>3</th>\n",
              "      <td>OFG1200</td>\n",
              "      <td>5</td>\n",
              "      <td>28</td>\n",
              "    </tr>\n",
              "  </tbody>\n",
              "</table>\n",
              "</div>"
            ],
            "text/plain": [
              "     Curso Creditos nEstudiantes\n",
              "0  IMT2100       10           42\n",
              "1  IMT2200       10           25\n",
              "2  OFG1100        5           35\n",
              "3  OFG1200        5           28"
            ]
          },
          "execution_count": 6,
          "metadata": {},
          "output_type": "execute_result"
        }
      ],
      "source": [
        "import pandas as pd\n",
        "\n",
        "#creamos un DataFrame vacío con la estructura de columnas deseada. Lo completaremos con datos extraidos de la tabla.\n",
        "df=pd.DataFrame(columns=['Curso','Creditos','nEstudiantes'])\n",
        "\n",
        "#Buscar la tabla con datos\n",
        "table=soup.find('table')\n",
        "\n",
        "#Buscar todas las filas de la tabla\n",
        "rows=table.find_all('tr')\n",
        "\n",
        "#Iteramos para cada fila (excepto la primera que corresponde a los encabezados)\n",
        "\n",
        "for row in rows[1::]:\n",
        "    \n",
        "    #Buscar todos los campos de datos o columnas de la fila\n",
        "    cols = row.find_all(\"td\")\n",
        "    \n",
        "    #Para cada columna, extraigo el texto\n",
        "    col_text=[c.text for c in cols]\n",
        "    \n",
        "    #Agrego los datos como una nueva fila en el dataframe df\n",
        "    df=df.append({'Curso':col_text[0],'Creditos':col_text[1],'nEstudiantes':col_text[2]},ignore_index=True)\n",
        "df"
      ]
    },
    {
      "cell_type": "code",
      "execution_count": null,
      "metadata": {},
      "outputs": [],
      "source": []
    }
  ],
  "metadata": {
    "colab": {
      "provenance": []
    },
    "kernelspec": {
      "display_name": "Python 3",
      "language": "python",
      "name": "python3"
    },
    "language_info": {
      "codemirror_mode": {
        "name": "ipython",
        "version": 3
      },
      "file_extension": ".py",
      "mimetype": "text/x-python",
      "name": "python",
      "nbconvert_exporter": "python",
      "pygments_lexer": "ipython3",
      "version": "3.11.3"
    },
    "vscode": {
      "interpreter": {
        "hash": "b0fa6594d8f4cbf19f97940f81e996739fb7646882a419484c72d19e05852a7e"
      }
    }
  },
  "nbformat": 4,
  "nbformat_minor": 0
}
