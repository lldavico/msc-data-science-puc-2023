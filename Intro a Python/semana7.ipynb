{
 "cells": [
  {
   "cell_type": "code",
   "execution_count": 15,
   "metadata": {},
   "outputs": [
    {
     "ename": "TypeError",
     "evalue": "can only concatenate str (not \"int\") to str",
     "output_type": "error",
     "traceback": [
      "\u001b[0;31m---------------------------------------------------------------------------\u001b[0m",
      "\u001b[0;31mTypeError\u001b[0m                                 Traceback (most recent call last)",
      "Cell \u001b[0;32mIn[15], line 14\u001b[0m\n\u001b[1;32m     10\u001b[0m         \u001b[39mreturn\u001b[39;00m \u001b[39m'\u001b[39m\u001b[39multimo_digito no puede ser 1 ni 4\u001b[39m\u001b[39m'\u001b[39m\n\u001b[1;32m     12\u001b[0m     \u001b[39mreturn\u001b[39;00m func(a)\n\u001b[0;32m---> 14\u001b[0m \u001b[39mprint\u001b[39m( func(\u001b[39m33\u001b[39;49m) )\n",
      "Cell \u001b[0;32mIn[15], line 12\u001b[0m, in \u001b[0;36mfunc\u001b[0;34m(a)\u001b[0m\n\u001b[1;32m      9\u001b[0m \u001b[39mif\u001b[39;00m ultimo_digito \u001b[39m==\u001b[39m \u001b[39m1\u001b[39m \u001b[39mor\u001b[39;00m ultimo_digito \u001b[39m==\u001b[39m \u001b[39m4\u001b[39m:\n\u001b[1;32m     10\u001b[0m     \u001b[39mreturn\u001b[39;00m \u001b[39m'\u001b[39m\u001b[39multimo_digito no puede ser 1 ni 4\u001b[39m\u001b[39m'\u001b[39m\n\u001b[0;32m---> 12\u001b[0m \u001b[39mreturn\u001b[39;00m func(a)\n",
      "Cell \u001b[0;32mIn[15], line 2\u001b[0m, in \u001b[0;36mfunc\u001b[0;34m(a)\u001b[0m\n\u001b[1;32m      1\u001b[0m \u001b[39mdef\u001b[39;00m \u001b[39mfunc\u001b[39m( a ):\n\u001b[0;32m----> 2\u001b[0m     a \u001b[39m+\u001b[39;49m\u001b[39m=\u001b[39;49m \u001b[39m24\u001b[39;49m\n\u001b[1;32m      4\u001b[0m     \u001b[39mif\u001b[39;00m a \u001b[39m>\u001b[39m \u001b[39m100\u001b[39m:\n\u001b[1;32m      5\u001b[0m         \u001b[39mreturn\u001b[39;00m  \u001b[39m'\u001b[39m\u001b[39ma es muy grande\u001b[39m\u001b[39m'\u001b[39m\n",
      "\u001b[0;31mTypeError\u001b[0m: can only concatenate str (not \"int\") to str"
     ]
    }
   ],
   "source": [
    "def func( a ):\n",
    "    a += 24\n",
    "\n",
    "    if a > 100:\n",
    "        return  'a es muy grande'\n",
    "\n",
    "    a = str(a)\n",
    "    ultimo_digito = a[ len(a) - 1 ]\n",
    "    if ultimo_digito == 1 or ultimo_digito == 4:\n",
    "        return 'ultimo_digito no puede ser 1 ni 4'\n",
    "\n",
    "    return func(a)\n",
    "\n",
    "print( func(33) )"
   ]
  },
  {
   "cell_type": "code",
   "execution_count": 22,
   "metadata": {},
   "outputs": [],
   "source": [
    "equipos = [\n",
    "( 'Equipo 1 ', 5 ),\n",
    "( 'Equipo 2 ', 7 ),\n",
    "( 'Equipo 3 ', 8 ),\n",
    "( 'Equipo 4 ', 2 ),\n",
    "( 'Equipo 5 ', 9 ),\n",
    "( 'Equipo 6 ', 1 ),\n",
    "( 'Equipo 7 ', 3 ),\n",
    "( 'Equipo 8 ', 4 )\n",
    "]"
   ]
  },
  {
   "cell_type": "code",
   "execution_count": 39,
   "metadata": {},
   "outputs": [
    {
     "name": "stdout",
     "output_type": "stream",
     "text": [
      "[('Equipo 1 ', 5), ('Equipo 2 ', 7), ('Equipo 3 ', 8), ('Equipo 4 ', 2), ('Equipo 5 ', 9), ('Equipo 6 ', 1), ('Equipo 7 ', 3), ('Equipo 8 ', 4)]\n",
      "[('Equipo 1 ', 5), ('Equipo 2 ', 7), ('Equipo 3 ', 8), ('Equipo 4 ', 2)]\n",
      "[('Equipo 1 ', 5), ('Equipo 2 ', 7)]\n",
      "[('Equipo 1 ', 5)]\n",
      "[('Equipo 2 ', 7)]\n",
      "Gana: Equipo 2 \n",
      "[('Equipo 3 ', 8), ('Equipo 4 ', 2)]\n",
      "[('Equipo 3 ', 8)]\n",
      "[('Equipo 4 ', 2)]\n",
      "Gana: Equipo 3 \n",
      "Gana: Equipo 3 \n",
      "[('Equipo 5 ', 9), ('Equipo 6 ', 1), ('Equipo 7 ', 3), ('Equipo 8 ', 4)]\n",
      "[('Equipo 5 ', 9), ('Equipo 6 ', 1)]\n",
      "[('Equipo 5 ', 9)]\n",
      "[('Equipo 6 ', 1)]\n",
      "Gana: Equipo 5 \n",
      "[('Equipo 7 ', 3), ('Equipo 8 ', 4)]\n",
      "[('Equipo 7 ', 3)]\n",
      "[('Equipo 8 ', 4)]\n",
      "Gana: Equipo 8 \n",
      "Gana: Equipo 5 \n",
      "Gana: Equipo 5 \n"
     ]
    },
    {
     "data": {
      "text/plain": [
       "('Equipo 2 ', 7)"
      ]
     },
     "execution_count": 39,
     "metadata": {},
     "output_type": "execute_result"
    }
   ],
   "source": [
    "def partido( equipos ):\n",
    "    print(equipos)\n",
    "    if len(equipos) == 1:\n",
    "        return equipos[0]\n",
    "    else:\n",
    "        mitad = len(equipos)//2\n",
    "        gan_izq = partido( equipos[:mitad] )\n",
    "        gan_der = partido( equipos[mitad:] )\n",
    "        nom1, hab1 = gan_izq\n",
    "        nom2, hab2 = gan_der\n",
    "\n",
    "    if hab1 > hab2:\n",
    "        print('Gana: ' + nom1)\n",
    "        return equipos[0]\n",
    "    else:\n",
    "        print('Gana: ' + nom2)\n",
    "        return equipos[1]\n",
    "\n",
    "partido( equipos )\n"
   ]
  },
  {
   "cell_type": "code",
   "execution_count": 67,
   "metadata": {},
   "outputs": [],
   "source": [
    "jugadores = [ 'Bob', 'Patricio', 'Calamardo', 'Arenita' ]"
   ]
  },
  {
   "cell_type": "code",
   "execution_count": 68,
   "metadata": {},
   "outputs": [
    {
     "name": "stdout",
     "output_type": "stream",
     "text": [
      "Ganador: Bob\n"
     ]
    }
   ],
   "source": [
    "from random import randint\n",
    "\n",
    "def juego(jugadores):\n",
    "    if len(jugadores) == 1:\n",
    "        return 'Ganador: ' + jugadores[0]\n",
    "    jugador = jugadores.pop(0)\n",
    "    if randint(0,1) == 1:\n",
    "        jugadores.append(jugador)\n",
    "    return juego(jugadores)\n",
    "\n",
    "print( juego(jugadores) )\n"
   ]
  },
  {
   "cell_type": "code",
   "execution_count": 69,
   "metadata": {},
   "outputs": [],
   "source": [
    "lista = [0,0,0,1,1,1,2,2,2,3,3,3,4,4,4]"
   ]
  },
  {
   "cell_type": "code",
   "execution_count": 70,
   "metadata": {},
   "outputs": [
    {
     "name": "stdout",
     "output_type": "stream",
     "text": [
      "0\n",
      "0\n",
      "0\n",
      "1\n",
      "1\n",
      "1\n",
      "2\n",
      "2\n",
      "2\n",
      "3\n",
      "3\n",
      "3\n",
      "4\n",
      "4\n",
      "4\n"
     ]
    }
   ],
   "source": [
    "def imprimir(lista, pos):\n",
    "    if pos < len(lista):\n",
    "        print(lista[pos])\n",
    "        imprimir(lista, pos+1)\n",
    "\n",
    "imprimir(lista, 0)"
   ]
  },
  {
   "attachments": {},
   "cell_type": "markdown",
   "metadata": {},
   "source": [
    "# Sumativo"
   ]
  },
  {
   "attachments": {},
   "cell_type": "markdown",
   "metadata": {},
   "source": [
    "### Pregunta 1"
   ]
  },
  {
   "cell_type": "code",
   "execution_count": 4,
   "metadata": {},
   "outputs": [
    {
     "name": "stdout",
     "output_type": "stream",
     "text": [
      "['Alicia', 47, 3, 2, 1]\n"
     ]
    }
   ],
   "source": [
    "def agregar_enteros(lista, entero):\n",
    "    if entero == 0:\n",
    "        return lista\n",
    "    \n",
    "    lista.append(entero)\n",
    "    return agregar_enteros(lista, entero-1)\n",
    "\n",
    "lista = ['Alicia', 47]\n",
    "lista = agregar_enteros(lista, 3)\n",
    "print(lista)"
   ]
  },
  {
   "attachments": {},
   "cell_type": "markdown",
   "metadata": {},
   "source": [
    "### Pregunta 2"
   ]
  },
  {
   "cell_type": "code",
   "execution_count": 1,
   "metadata": {},
   "outputs": [],
   "source": [
    "def lists_not_found(lista):\n",
    "    for elem in lista:\n",
    "        if type(elem) == list:\n",
    "            return False\n",
    "    return True\n",
    "\n",
    "def en_orden(lista, ordenada):\n",
    "    if lists_not_found(lista):\n",
    "        ordenada.append(lista)\n",
    "        return ordenada\n",
    "\n",
    "    ordenada.append(lista)\n",
    "    for elem in lista:\n",
    "        if type(elem) == list:\n",
    "            ordenada = en_orden(elem, ordenada)\n",
    "\n",
    "    return ordenada\n",
    "    "
   ]
  },
  {
   "cell_type": "code",
   "execution_count": 2,
   "metadata": {},
   "outputs": [
    {
     "name": "stdout",
     "output_type": "stream",
     "text": [
      "[2, [[3], [2, 4]], [5, [4]]]\n",
      "[[3], [2, 4]]\n",
      "[3]\n",
      "[2, 4]\n",
      "[5, [4]]\n",
      "[4]\n"
     ]
    }
   ],
   "source": [
    "lista = [2,[[3], [2,4]],[5, [4]]]\n",
    "lista_ordenada = en_orden(lista, [])\n",
    "\n",
    "for elem in lista_ordenada:\n",
    "    print(elem)"
   ]
  },
  {
   "cell_type": "code",
   "execution_count": 61,
   "metadata": {},
   "outputs": [
    {
     "name": "stdout",
     "output_type": "stream",
     "text": [
      "[['a'], [['b'], 'c']]\n",
      "['a']\n",
      "[['b'], 'c']\n",
      "['b']\n"
     ]
    }
   ],
   "source": [
    "lista =  [['a'], [['b'], 'c']]\n",
    "lista_ordenada = en_orden(lista, [])\n",
    "assert lista == [['a'], [['b'], 'c']]\n",
    "\n",
    "for elem in lista_ordenada:\n",
    "    print(elem)"
   ]
  },
  {
   "cell_type": "code",
   "execution_count": 60,
   "metadata": {},
   "outputs": [
    {
     "name": "stdout",
     "output_type": "stream",
     "text": [
      "[[['a'], ['b', 'c']], ['d', ['e']], 'f', ['g', 'h']]\n",
      "[['a'], ['b', 'c']]\n",
      "['a']\n",
      "['b', 'c']\n",
      "['d', ['e']]\n",
      "['e']\n",
      "['g', 'h']\n"
     ]
    }
   ],
   "source": [
    "lista_1 = [\n",
    "        [['a'], ['b', 'c']],\n",
    "        ['d', ['e']],\n",
    "        'f',\n",
    "        ['g', 'h']\n",
    "]\n",
    "lista_ordenada = en_orden(lista_1, [])\n",
    "assert lista_1 == [\n",
    "        [['a'], ['b', 'c']],\n",
    "        ['d', ['e']],\n",
    "        'f',\n",
    "        ['g', 'h']\n",
    "]\n",
    "\n",
    "for elem in lista_ordenada:\n",
    "    print(elem)"
   ]
  },
  {
   "cell_type": "code",
   "execution_count": 59,
   "metadata": {},
   "outputs": [
    {
     "name": "stdout",
     "output_type": "stream",
     "text": [
      "[['f', 'g', 'h', 'i'], [[[[['j']]]]]]\n",
      "['f', 'g', 'h', 'i']\n",
      "[[[[['j']]]]]\n",
      "[[[['j']]]]\n",
      "[[['j']]]\n",
      "[['j']]\n",
      "['j']\n"
     ]
    }
   ],
   "source": [
    "lista_2 = [\n",
    "        ['f', 'g', 'h', 'i'],\n",
    "        [[[[['j']]]]]\n",
    "]\n",
    "\n",
    "lista_ordenada = en_orden(lista_2, [])\n",
    "assert lista_2 == [\n",
    "        ['f', 'g', 'h', 'i'],\n",
    "        [[[[['j']]]]]\n",
    "]\n",
    "\n",
    "\n",
    "for elem in lista_ordenada:\n",
    "    print(elem)"
   ]
  },
  {
   "attachments": {},
   "cell_type": "markdown",
   "metadata": {},
   "source": [
    "### Pregunta 3"
   ]
  },
  {
   "cell_type": "code",
   "execution_count": 85,
   "metadata": {},
   "outputs": [],
   "source": [
    "class Alcancia:\n",
    "    def __init__(self, nombre, dinero, alcancia):\n",
    "        self.nombre = nombre\n",
    "        self.dinero = dinero\n",
    "        self.siguiente_alcancia = alcancia\n",
    "\n",
    "    def __str__(self):\n",
    "        return f\"Alcancia '{self.nombre}' - Dinero: {self.dinero}\""
   ]
  },
  {
   "cell_type": "code",
   "execution_count": 105,
   "metadata": {},
   "outputs": [],
   "source": [
    "def sacar_dinero(alcancia, monto):\n",
    "    print(alcancia)\n",
    "    restante = alcancia.dinero - monto\n",
    "    if restante >= 0:\n",
    "        alcancia.dinero = restante\n",
    "        print(f\"Se resta ${monto} a {alcancia.nombre} -> dinero: {alcancia.dinero}\")\n",
    "    else:\n",
    "        alcancia.dinero = 0\n",
    "        restante *= (-1)\n",
    "        print(f\"Se resta ${monto} a '{alcancia.nombre}' -> dinero: {alcancia.dinero} , restante: {restante}\")\n",
    "        if alcancia.siguiente_alcancia is not None:\n",
    "            sacar_dinero(alcancia.siguiente_alcancia, restante)"
   ]
  },
  {
   "cell_type": "code",
   "execution_count": 104,
   "metadata": {},
   "outputs": [
    {
     "name": "stdout",
     "output_type": "stream",
     "text": [
      "Alcancia 'a4' - Dinero: 100\n",
      "Se resta $1500 a 'a4' -> dinero: 0 , restante: 1400\n",
      "Alcancia 'a3' - Dinero: 900\n",
      "Se resta $1400 a 'a3' -> dinero: 0 , restante: 500\n",
      "Alcancia 'a2' - Dinero: 300\n",
      "Se resta $500 a 'a2' -> dinero: 0 , restante: 200\n",
      "Alcancia 'a1' - Dinero: 150\n",
      "Se resta $200 a 'a1' -> dinero: 0 , restante: 50\n",
      "\n",
      "\n",
      "Comienzo!!!\n",
      "Alcancia 'a1' - Dinero: 0\n",
      "Alcancia 'a2' - Dinero: 0\n",
      "Alcancia 'a3' - Dinero: 0\n",
      "Alcancia 'a4' - Dinero: 0\n"
     ]
    }
   ],
   "source": [
    "a1 = Alcancia('a1', 150, None)\n",
    "a2 = Alcancia('a2', 300, a1)\n",
    "a3 = Alcancia('a3', 900, a2)\n",
    "a4 = Alcancia('a4', 100, a3)\n",
    "\n",
    "sacar_dinero(a4, 1500)\n",
    "\n",
    "alcancias = [a1, a2, a3, a4]\n",
    "print(\"\\n\\nComienzo!!!\")\n",
    "for alcancia in alcancias:\n",
    "    print(alcancia)"
   ]
  },
  {
   "attachments": {},
   "cell_type": "markdown",
   "metadata": {},
   "source": [
    "### Pregunta 4"
   ]
  },
  {
   "cell_type": "code",
   "execution_count": 97,
   "metadata": {},
   "outputs": [],
   "source": [
    "descendencia = ('Eligio', [\n",
    "                        ('Celestina', [\n",
    "                                ('Carmela', []),\n",
    "                                ('Rosendo', [\n",
    "                                        ('José', []),\n",
    "                                        ('Anastacia', [])\n",
    "                                ])\n",
    "                        ]),\n",
    "                        ('Julián', [\n",
    "                                ('Fabián', [\n",
    "                                        ('Berto', []),\n",
    "                                        ('Fausto', []),\n",
    "                                        ('Abel', []),\n",
    "                                        ('Florina', [])\n",
    "                                ]),\n",
    "                        ])\n",
    "])\n"
   ]
  },
  {
   "cell_type": "code",
   "execution_count": 98,
   "metadata": {},
   "outputs": [],
   "source": [
    "def names_in_tree(tree, names_set):\n",
    "    names_set.add(tree[0])\n",
    "\n",
    "    if len(tree[1]) == 0:\n",
    "        return names_set\n",
    "    \n",
    "    for child in tree[1]:\n",
    "        names_set = names_in_tree(child, names_set)\n",
    "\n",
    "    return names_set\n",
    "\n",
    "\n",
    "def is_name_in_tree(_name, _tree):\n",
    "    return _name in names_in_tree(_tree, set())\n",
    "\n",
    "\n",
    "def obtener_descendencia(_arbol, nombre, desc):\n",
    "\n",
    "    if not is_name_in_tree(nombre, _arbol) and len(desc) == 0:\n",
    "        return False\n",
    "    \n",
    "    elif nombre == _arbol[0]:\n",
    "        desc.append(nombre)\n",
    "        return desc\n",
    "    \n",
    "    elif is_name_in_tree(nombre, _arbol) and nombre != _arbol[0]:\n",
    "        desc.append(_arbol[0])\n",
    "        for child in _arbol[1]:\n",
    "            if is_name_in_tree(nombre, child):\n",
    "                desc = obtener_descendencia(child, nombre, desc)\n",
    "    return desc\n",
    "\n",
    "\n",
    "def encontrar_padres(arbol, nombre):\n",
    "    desce = obtener_descendencia(arbol, nombre, [])\n",
    "    if type(desce) == bool:\n",
    "        return False\n",
    "    return desce[::-1]"
   ]
  },
  {
   "attachments": {},
   "cell_type": "markdown",
   "metadata": {},
   "source": [
    "#### Tests pregunta 4"
   ]
  },
  {
   "cell_type": "code",
   "execution_count": 99,
   "metadata": {},
   "outputs": [
    {
     "name": "stdout",
     "output_type": "stream",
     "text": [
      "['Fausto', 'Fabián', 'Julián', 'Eligio']\n"
     ]
    }
   ],
   "source": [
    "respuesta_1 = encontrar_padres(descendencia,'Fausto')\n",
    "print(respuesta_1)\n",
    "assert respuesta_1 == ['Fausto', 'Fabián', 'Julián', 'Eligio']"
   ]
  },
  {
   "cell_type": "code",
   "execution_count": 100,
   "metadata": {},
   "outputs": [
    {
     "name": "stdout",
     "output_type": "stream",
     "text": [
      "False\n"
     ]
    }
   ],
   "source": [
    "respuesta_2 = encontrar_padres(descendencia,'Jorge')\n",
    "print(respuesta_2)\n",
    "assert respuesta_2 == False"
   ]
  },
  {
   "cell_type": "code",
   "execution_count": 101,
   "metadata": {},
   "outputs": [
    {
     "name": "stdout",
     "output_type": "stream",
     "text": [
      "['Celestina', 'Eligio']\n"
     ]
    }
   ],
   "source": [
    "respuesta_3 = encontrar_padres(descendencia, 'Celestina')\n",
    "print(respuesta_3)\n",
    "assert respuesta_3 == ['Celestina', 'Eligio']"
   ]
  },
  {
   "cell_type": "code",
   "execution_count": null,
   "metadata": {},
   "outputs": [],
   "source": []
  }
 ],
 "metadata": {
  "kernelspec": {
   "display_name": "Python 3",
   "language": "python",
   "name": "python3"
  },
  "language_info": {
   "codemirror_mode": {
    "name": "ipython",
    "version": 3
   },
   "file_extension": ".py",
   "mimetype": "text/x-python",
   "name": "python",
   "nbconvert_exporter": "python",
   "pygments_lexer": "ipython3",
   "version": "3.11.2"
  },
  "orig_nbformat": 4,
  "vscode": {
   "interpreter": {
    "hash": "b0fa6594d8f4cbf19f97940f81e996739fb7646882a419484c72d19e05852a7e"
   }
  }
 },
 "nbformat": 4,
 "nbformat_minor": 2
}
