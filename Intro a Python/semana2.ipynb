{
 "cells": [
  {
   "cell_type": "code",
   "execution_count": 8,
   "id": "41a90231",
   "metadata": {},
   "outputs": [],
   "source": [
    "tablero_ejemplo = [\n",
    "[0, 0, 1, 1, 1, 0, 0, 0],\n",
    "[0, 0, 1, 9, 1, 1, 1, 1],\n",
    "[0, 1, 2, 2, 1, 2, 9, 2],\n",
    "[0, 1, 9, 2, 1, 4, 9, 3],\n",
    "[1, 2, 2, 2, 9, 3, 9, 2],\n",
    "[1, 9, 2, 2, 2, 2, 1, 1],\n",
    "[2, 2, 2, 9, 2, 1, 1, 0],\n",
    "[9, 1, 1, 1, 2, 9, 1, 0]\n",
    "]"
   ]
  },
  {
   "cell_type": "code",
   "execution_count": 19,
   "id": "9b36212d",
   "metadata": {},
   "outputs": [
    {
     "name": "stdout",
     "output_type": "stream",
     "text": [
      "Lista obtenida:\n",
      "\n",
      "[0, 0, 1, 1, 1, 0, 0, 0]\n",
      "[0, 0, 1, 9, 1, 1, 1, 1]\n",
      "[0, 1, 2, 2, 1, 2, 9, 2]\n",
      "[0, 1, 9, 2, 1, 4, 9, 3]\n",
      "[1, 2, 2, 2, 9, 3, 9, 2]\n",
      "[1, 9, 2, 2, 2, 2, 1, 1]\n",
      "[2, 2, 2, 9, 2, 1, 1, 0]\n",
      "[9, 1, 1, 1, 2, 9, 1, 0]\n"
     ]
    }
   ],
   "source": [
    "def obtener_adyacentes(i, j, tablero):\n",
    "    pos1 = (i-1,j-1)\n",
    "    pos2 = (i-1,j)\n",
    "    pos3 = (i-1,j+1)\n",
    "    pos4 = (i,j-1)\n",
    "    pos6 = (i,j+1)\n",
    "    pos7 = (i+1,j-1)\n",
    "    pos8 = (i+1,j)\n",
    "    pos9 = (i+1,j+1)\n",
    "    \n",
    "    positions = [\n",
    "        pos1,\n",
    "        pos2,\n",
    "        pos3,\n",
    "        pos4,\n",
    "        pos6,\n",
    "        pos7,\n",
    "        pos8,\n",
    "        pos9\n",
    "    ]\n",
    "    \n",
    "    return [\n",
    "        pos for pos in positions if pos[0] >= 0 and pos[0] < len(tablero) and pos[1] >= 0 and pos[1] < len(tablero)]\n",
    "\n",
    "def contador_minas(pos_ady, tablero):\n",
    "    suma = 0\n",
    "    for i,j in pos_ady:\n",
    "        if tablero[i][j] == 9:\n",
    "            suma += 1\n",
    "    return suma\n",
    "    \n",
    "\n",
    "def colocar_numeros(tablero):\n",
    "    n = len(tablero)\n",
    "    for i in range(n):\n",
    "        for j in range(n):\n",
    "            # Si no estamos en una mina\n",
    "            if tablero[i][j] != 9:\n",
    "                # Obtenemos posiciones adyacentes\n",
    "                posiciones_ady = obtener_adyacentes(i,j,tablero)\n",
    "                \n",
    "                # Contamos las minas en estas posiciones\n",
    "                n_pos = contador_minas(posiciones_ady, tablero)\n",
    "                \n",
    "                # Asignamos el total de minas adyacentes en el valor de la casilla (i,j)\n",
    "                tablero[i][j] = n_pos\n",
    "    return tablero\n",
    "\n",
    "\n",
    "lista = [\n",
    "[0, 0, 0, 0, 0, 0, 0, 0],\n",
    "[0, 0, 0, 9, 0, 0, 0, 0],\n",
    "[0, 0, 0, 0, 0, 0, 9, 0],\n",
    "[0, 0, 9, 0, 0, 0, 9, 0],\n",
    "[0, 0, 0, 0, 9, 0, 9, 0],\n",
    "[0, 9, 0, 0, 0, 0, 0, 0],\n",
    "[0, 0, 0, 9, 0, 0, 0, 0],\n",
    "[9, 0, 0, 0, 0, 9, 0, 0]\n",
    "]\n",
    "\n",
    "lista_obtenida = colocar_numero(lista)\n",
    "\n",
    "print(\"Lista obtenida:\\n\")\n",
    "for row in lista_obtenida:\n",
    "    print(row)"
   ]
  },
  {
   "cell_type": "code",
   "execution_count": 20,
   "id": "868a5330",
   "metadata": {},
   "outputs": [
    {
     "name": "stdout",
     "output_type": "stream",
     "text": [
      "Lista esperada:\n",
      "\n",
      "[0, 0, 1, 1, 1, 0, 0, 0]\n",
      "[0, 0, 1, 9, 1, 1, 1, 1]\n",
      "[0, 1, 2, 2, 1, 2, 9, 2]\n",
      "[0, 1, 9, 2, 1, 4, 9, 3]\n",
      "[1, 2, 2, 2, 9, 3, 9, 2]\n",
      "[1, 9, 2, 2, 2, 2, 1, 1]\n",
      "[2, 2, 2, 9, 2, 1, 1, 0]\n",
      "[9, 1, 1, 1, 2, 9, 1, 0]\n"
     ]
    }
   ],
   "source": [
    "lista_esperada = [[0, 0, 1, 1, 1, 0, 0, 0],\n",
    "[0, 0, 1, 9, 1, 1, 1, 1],\n",
    "[0, 1, 2, 2, 1, 2, 9, 2],\n",
    "[0, 1, 9, 2, 1, 4, 9, 3],\n",
    "[1, 2, 2, 2, 9, 3, 9, 2],\n",
    "[1, 9, 2, 2, 2, 2, 1, 1],\n",
    "[2, 2, 2, 9, 2, 1, 1, 0],\n",
    "[9, 1, 1, 1, 2, 9, 1, 0]\n",
    "]\n",
    "\n",
    "print(\"Lista esperada:\\n\")\n",
    "for row in lista_esperada:\n",
    "    print(row)"
   ]
  },
  {
   "cell_type": "code",
   "execution_count": 21,
   "id": "203c9f3e",
   "metadata": {},
   "outputs": [
    {
     "data": {
      "text/plain": [
       "True"
      ]
     },
     "execution_count": 21,
     "metadata": {},
     "output_type": "execute_result"
    }
   ],
   "source": [
    "lista_obtenida == lista_esperada"
   ]
  },
  {
   "cell_type": "code",
   "execution_count": null,
   "id": "4fce8d60",
   "metadata": {},
   "outputs": [],
   "source": []
  }
 ],
 "metadata": {
  "kernelspec": {
   "display_name": "Python 3 (ipykernel)",
   "language": "python",
   "name": "python3"
  },
  "language_info": {
   "codemirror_mode": {
    "name": "ipython",
    "version": 3
   },
   "file_extension": ".py",
   "mimetype": "text/x-python",
   "name": "python",
   "nbconvert_exporter": "python",
   "pygments_lexer": "ipython3",
   "version": "3.11.2"
  }
 },
 "nbformat": 4,
 "nbformat_minor": 5
}
