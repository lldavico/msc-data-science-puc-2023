{
 "cells": [
  {
   "cell_type": "code",
   "execution_count": 2,
   "id": "7cf9975c",
   "metadata": {},
   "outputs": [],
   "source": [
    "lista = [1, 2, 7, 4, 5, 6, 3, 8, 9]"
   ]
  },
  {
   "cell_type": "code",
   "execution_count": 3,
   "id": "60e7234a",
   "metadata": {},
   "outputs": [],
   "source": [
    "lista[2] = 3\n",
    "lista[6] = 7"
   ]
  },
  {
   "cell_type": "code",
   "execution_count": 4,
   "id": "70649d77",
   "metadata": {},
   "outputs": [
    {
     "data": {
      "text/plain": [
       "[1, 2, 3, 4, 5, 6, 7, 8, 9]"
      ]
     },
     "execution_count": 4,
     "metadata": {},
     "output_type": "execute_result"
    }
   ],
   "source": [
    "lista"
   ]
  },
  {
   "cell_type": "code",
   "execution_count": 5,
   "id": "bb81ec50",
   "metadata": {},
   "outputs": [],
   "source": [
    "lista = ['Alicia', 1998, 'Bob', 1990, 'Carlos', 1986, 'David', 2001]"
   ]
  },
  {
   "cell_type": "code",
   "execution_count": 6,
   "id": "d74f5c7c",
   "metadata": {},
   "outputs": [
    {
     "name": "stdout",
     "output_type": "stream",
     "text": [
      "Alicia 1998\n",
      "1998 Bob\n",
      "Bob 1990\n",
      "1990 Carlos\n",
      "Carlos 1986\n",
      "1986 David\n",
      "David 2001\n"
     ]
    }
   ],
   "source": [
    "for i in range(len(lista)-1):\n",
    "    print(lista[i], lista[i+1])"
   ]
  },
  {
   "cell_type": "code",
   "execution_count": 7,
   "id": "7c8be8c9",
   "metadata": {},
   "outputs": [
    {
     "name": "stdout",
     "output_type": "stream",
     "text": [
      "David -1\n",
      "Alicia 1\n",
      "Bob 3\n",
      "Carlos 5\n"
     ]
    }
   ],
   "source": [
    "for i in range(len(lista)//2):\n",
    "    nombre = lista[ 2*(i - 1) ]\n",
    "    nacimiento = str( 2*(i - 1) + 1 )\n",
    "    print(nombre, nacimiento)"
   ]
  },
  {
   "cell_type": "code",
   "execution_count": 7,
   "id": "927c7e93",
   "metadata": {},
   "outputs": [
    {
     "name": "stdout",
     "output_type": "stream",
     "text": [
      "Alicia 1998\n",
      "Bob 1990\n",
      "Carlos 1986\n",
      "David 2001\n"
     ]
    }
   ],
   "source": [
    "for i in range(len(lista)//2):\n",
    "    nombre = lista[ 2*i ]\n",
    "    nacimiento = str( lista[ 2*i+1] )\n",
    "    print(nombre, nacimiento)"
   ]
  },
  {
   "cell_type": "code",
   "execution_count": 8,
   "id": "3c3cb3aa",
   "metadata": {},
   "outputs": [
    {
     "name": "stdout",
     "output_type": "stream",
     "text": [
      "Alicia 1998\n",
      "Bob 1990\n",
      "Carlos 1986\n",
      "David 2001\n"
     ]
    }
   ],
   "source": [
    "for i in range(len(lista)//2):\n",
    "    nombre = lista[ 2*i ]\n",
    "    nacimiento = str( lista[ 2*i+1] )\n",
    "    print(nombre, nacimiento)"
   ]
  },
  {
   "cell_type": "code",
   "execution_count": 9,
   "id": "83f8c034",
   "metadata": {},
   "outputs": [
    {
     "ename": "TypeError",
     "evalue": "can only concatenate str (not \"int\") to str",
     "output_type": "error",
     "traceback": [
      "\u001b[0;31m---------------------------------------------------------------------------\u001b[0m",
      "\u001b[0;31mTypeError\u001b[0m                                 Traceback (most recent call last)",
      "Cell \u001b[0;32mIn[9], line 3\u001b[0m\n\u001b[1;32m      1\u001b[0m \u001b[38;5;28;01mfor\u001b[39;00m cliente \u001b[38;5;129;01min\u001b[39;00m lista:\n\u001b[1;32m      2\u001b[0m     nombre \u001b[38;5;241m=\u001b[39m cliente\n\u001b[0;32m----> 3\u001b[0m     nacimiento \u001b[38;5;241m=\u001b[39m \u001b[43mcliente\u001b[49m\u001b[43m \u001b[49m\u001b[38;5;241;43m+\u001b[39;49m\u001b[43m \u001b[49m\u001b[38;5;241;43m1\u001b[39;49m\n\u001b[1;32m      4\u001b[0m     \u001b[38;5;28mprint\u001b[39m(nombre, nacimiento)\n",
      "\u001b[0;31mTypeError\u001b[0m: can only concatenate str (not \"int\") to str"
     ]
    }
   ],
   "source": [
    "for cliente in lista:\n",
    "    nombre = cliente\n",
    "    nacimiento = cliente + 1\n",
    "    print(nombre, nacimiento)"
   ]
  },
  {
   "cell_type": "code",
   "execution_count": 19,
   "id": "992acaaf",
   "metadata": {},
   "outputs": [],
   "source": [
    "lista = ['Alicia', 'Bob', 'Carlos', 'David']"
   ]
  },
  {
   "cell_type": "code",
   "execution_count": 16,
   "id": "3abfdc1d",
   "metadata": {},
   "outputs": [
    {
     "ename": "IndexError",
     "evalue": "pop index out of range",
     "output_type": "error",
     "traceback": [
      "\u001b[0;31m---------------------------------------------------------------------------\u001b[0m",
      "\u001b[0;31mIndexError\u001b[0m                                Traceback (most recent call last)",
      "Cell \u001b[0;32mIn[16], line 4\u001b[0m\n\u001b[1;32m      2\u001b[0m \u001b[38;5;28;01mwhile\u001b[39;00m \u001b[38;5;28mlen\u001b[39m(lista) \u001b[38;5;241m>\u001b[39m \u001b[38;5;241m0\u001b[39m:\n\u001b[1;32m      3\u001b[0m     ultimo_cliente \u001b[38;5;241m=\u001b[39m \u001b[38;5;28mlen\u001b[39m(lista)\n\u001b[0;32m----> 4\u001b[0m     cliente \u001b[38;5;241m=\u001b[39m \u001b[43mlista\u001b[49m\u001b[38;5;241;43m.\u001b[39;49m\u001b[43mpop\u001b[49m\u001b[43m(\u001b[49m\u001b[43multimo_cliente\u001b[49m\u001b[43m)\u001b[49m\n\u001b[1;32m      5\u001b[0m     lista2\u001b[38;5;241m.\u001b[39mappend(cliente)\n\u001b[1;32m      7\u001b[0m \u001b[38;5;28;01mfor\u001b[39;00m cliente \u001b[38;5;129;01min\u001b[39;00m lista2:\n",
      "\u001b[0;31mIndexError\u001b[0m: pop index out of range"
     ]
    }
   ],
   "source": [
    "lista2 = []\n",
    "while len(lista) > 0:\n",
    "    ultimo_cliente = len(lista)\n",
    "    cliente = lista.pop(ultimo_cliente)\n",
    "    lista2.append(cliente)\n",
    "\n",
    "for cliente in lista2:\n",
    "    print(cliente)"
   ]
  },
  {
   "cell_type": "code",
   "execution_count": 17,
   "id": "16688182",
   "metadata": {},
   "outputs": [
    {
     "name": "stdout",
     "output_type": "stream",
     "text": [
      "David\n",
      "Carlos\n",
      "Bob\n",
      "Alicia\n"
     ]
    }
   ],
   "source": [
    "while len(lista) > 0:\n",
    "    ultimo_cliente = len(lista) - 1\n",
    "    cliente = lista.pop(ultimo_cliente)\n",
    "    print(cliente)"
   ]
  },
  {
   "cell_type": "code",
   "execution_count": 20,
   "id": "84e17234",
   "metadata": {},
   "outputs": [
    {
     "ename": "IndexError",
     "evalue": "list index out of range",
     "output_type": "error",
     "traceback": [
      "\u001b[0;31m---------------------------------------------------------------------------\u001b[0m",
      "\u001b[0;31mIndexError\u001b[0m                                Traceback (most recent call last)",
      "Cell \u001b[0;32mIn[20], line 3\u001b[0m\n\u001b[1;32m      1\u001b[0m \u001b[38;5;28;01mfor\u001b[39;00m i \u001b[38;5;129;01min\u001b[39;00m \u001b[38;5;28mrange\u001b[39m( \u001b[38;5;28mlen\u001b[39m(lista) ):\n\u001b[1;32m      2\u001b[0m     ultimo_cliente \u001b[38;5;241m=\u001b[39m \u001b[38;5;28mlen\u001b[39m(lista) \u001b[38;5;241m-\u001b[39m i\n\u001b[0;32m----> 3\u001b[0m     cliente \u001b[38;5;241m=\u001b[39m \u001b[43mlista\u001b[49m\u001b[43m[\u001b[49m\u001b[43m \u001b[49m\u001b[43multimo_cliente\u001b[49m\u001b[43m \u001b[49m\u001b[43m]\u001b[49m\n\u001b[1;32m      4\u001b[0m     \u001b[38;5;28mprint\u001b[39m(cliente)\n",
      "\u001b[0;31mIndexError\u001b[0m: list index out of range"
     ]
    }
   ],
   "source": [
    "for i in range( len(lista) ):\n",
    "    ultimo_cliente = len(lista) - i\n",
    "    cliente = lista[ ultimo_cliente ]\n",
    "    print(cliente)"
   ]
  },
  {
   "cell_type": "code",
   "execution_count": 21,
   "id": "10b6a443",
   "metadata": {},
   "outputs": [],
   "source": [
    "d = ['Alicia', 'Bob', 'Carlos', 'David']\n",
    "m = ['Pelusa', 'Luke', 'Mickey', 'Madonna']"
   ]
  },
  {
   "cell_type": "code",
   "execution_count": 23,
   "id": "9d978474",
   "metadata": {},
   "outputs": [
    {
     "name": "stdout",
     "output_type": "stream",
     "text": [
      "Alicia Pelusa\n",
      "Bob Luke\n",
      "Carlos Mickey\n",
      "David Madonna\n"
     ]
    }
   ],
   "source": [
    "for i in range(len( d )):\n",
    "    print( d[i], m[i] )"
   ]
  },
  {
   "cell_type": "code",
   "execution_count": 25,
   "id": "e67c5396",
   "metadata": {},
   "outputs": [],
   "source": [
    "lista = ['soleado', 'nublado', 'soleado', 'lluvia', 2.4, 'lluvia', 0.1, 'nublado', 'lluvia', 0.8]"
   ]
  },
  {
   "cell_type": "code",
   "execution_count": 26,
   "id": "f1db4196",
   "metadata": {},
   "outputs": [],
   "source": [
    "tupla = (1,2,3,5,6,7,8,9)"
   ]
  },
  {
   "cell_type": "code",
   "execution_count": 27,
   "id": "bcc584b0",
   "metadata": {},
   "outputs": [],
   "source": [
    "def imprimir_hora(mes,dia,hora,minuto,segundo):\n",
    "    print('Hoy es '+ str(dia)+ ' de ' + str(mes) + ' y son las:')\n",
    "    print(str(hora) + ':'+str(minuto)+':' + str(segundo))"
   ]
  },
  {
   "cell_type": "code",
   "execution_count": 29,
   "id": "3735ce28",
   "metadata": {},
   "outputs": [],
   "source": [
    "m1 = ('Toy Story', 1995, '01:21', ['animacion', 'comedia'])"
   ]
  },
  {
   "cell_type": "code",
   "execution_count": 31,
   "id": "1478192b",
   "metadata": {},
   "outputs": [
    {
     "data": {
      "text/plain": [
       "['animacion', 'comedia']"
      ]
     },
     "execution_count": 31,
     "metadata": {},
     "output_type": "execute_result"
    }
   ],
   "source": [
    "m1[3]"
   ]
  },
  {
   "cell_type": "code",
   "execution_count": 32,
   "id": "0880f900",
   "metadata": {},
   "outputs": [],
   "source": [
    "m1[3].append('jajaja')"
   ]
  },
  {
   "cell_type": "code",
   "execution_count": 33,
   "id": "b43e9a40",
   "metadata": {},
   "outputs": [
    {
     "data": {
      "text/plain": [
       "('Toy Story', 1995, '01:21', ['animacion', 'comedia', 'jajaja'])"
      ]
     },
     "execution_count": 33,
     "metadata": {},
     "output_type": "execute_result"
    }
   ],
   "source": [
    "m1"
   ]
  },
  {
   "cell_type": "code",
   "execution_count": 34,
   "id": "3d26a7ea",
   "metadata": {},
   "outputs": [],
   "source": [
    "m1[3].append( 'infantil' )"
   ]
  },
  {
   "cell_type": "code",
   "execution_count": 35,
   "id": "7edd8c79",
   "metadata": {},
   "outputs": [
    {
     "data": {
      "text/plain": [
       "('Toy Story', 1995, '01:21', ['animacion', 'comedia', 'jajaja', 'infantil'])"
      ]
     },
     "execution_count": 35,
     "metadata": {},
     "output_type": "execute_result"
    }
   ],
   "source": [
    "m1"
   ]
  },
  {
   "cell_type": "code",
   "execution_count": 36,
   "id": "17323de9",
   "metadata": {},
   "outputs": [],
   "source": [
    "tupla = (2.0, 4.7, 6.8, 5.1)"
   ]
  },
  {
   "cell_type": "code",
   "execution_count": 37,
   "id": "5d2f7b48",
   "metadata": {},
   "outputs": [
    {
     "ename": "IndexError",
     "evalue": "list assignment index out of range",
     "output_type": "error",
     "traceback": [
      "\u001b[0;31m---------------------------------------------------------------------------\u001b[0m",
      "\u001b[0;31mIndexError\u001b[0m                                Traceback (most recent call last)",
      "Cell \u001b[0;32mIn[37], line 3\u001b[0m\n\u001b[1;32m      1\u001b[0m lista \u001b[38;5;241m=\u001b[39m []\n\u001b[1;32m      2\u001b[0m \u001b[38;5;28;01mfor\u001b[39;00m i \u001b[38;5;129;01min\u001b[39;00m \u001b[38;5;28mrange\u001b[39m(\u001b[38;5;28mlen\u001b[39m(tupla)):\n\u001b[0;32m----> 3\u001b[0m     \u001b[43mlista\u001b[49m\u001b[43m[\u001b[49m\u001b[43mi\u001b[49m\u001b[43m]\u001b[49m \u001b[38;5;241m=\u001b[39m tupla[i]\n\u001b[1;32m      4\u001b[0m lista[\u001b[38;5;241m0\u001b[39m] \u001b[38;5;241m=\u001b[39m \u001b[38;5;241m3.2\u001b[39m\n",
      "\u001b[0;31mIndexError\u001b[0m: list assignment index out of range"
     ]
    }
   ],
   "source": [
    "lista = []\n",
    "for i in range(len(tupla)):\n",
    "    lista[i] = tupla[i]\n",
    "lista[0] = 3.2"
   ]
  },
  {
   "cell_type": "code",
   "execution_count": 38,
   "id": "53740014",
   "metadata": {},
   "outputs": [
    {
     "ename": "TypeError",
     "evalue": "list indices must be integers or slices, not float",
     "output_type": "error",
     "traceback": [
      "\u001b[0;31m---------------------------------------------------------------------------\u001b[0m",
      "\u001b[0;31mTypeError\u001b[0m                                 Traceback (most recent call last)",
      "Cell \u001b[0;32mIn[38], line 3\u001b[0m\n\u001b[1;32m      1\u001b[0m lista \u001b[38;5;241m=\u001b[39m []\n\u001b[1;32m      2\u001b[0m \u001b[38;5;28;01mfor\u001b[39;00m nota \u001b[38;5;129;01min\u001b[39;00m tupla:\n\u001b[0;32m----> 3\u001b[0m     \u001b[43mlista\u001b[49m\u001b[43m[\u001b[49m\u001b[43mnota\u001b[49m\u001b[43m]\u001b[49m \u001b[38;5;241m=\u001b[39m nota\n\u001b[1;32m      4\u001b[0m lista[\u001b[38;5;241m0\u001b[39m] \u001b[38;5;241m=\u001b[39m \u001b[38;5;241m3.2\u001b[39m\n",
      "\u001b[0;31mTypeError\u001b[0m: list indices must be integers or slices, not float"
     ]
    }
   ],
   "source": [
    "lista = []\n",
    "for nota in tupla:\n",
    "    lista[nota] = nota\n",
    "lista[0] = 3.2"
   ]
  },
  {
   "cell_type": "code",
   "execution_count": 39,
   "id": "9ef66178",
   "metadata": {},
   "outputs": [],
   "source": [
    "lista = []\n",
    "for nota in tupla:\n",
    "    lista.append(nota)\n",
    "lista[0] = 3.2"
   ]
  },
  {
   "cell_type": "code",
   "execution_count": 40,
   "id": "f1627815",
   "metadata": {},
   "outputs": [
    {
     "data": {
      "text/plain": [
       "[3.2, 4.7, 6.8, 5.1]"
      ]
     },
     "execution_count": 40,
     "metadata": {},
     "output_type": "execute_result"
    }
   ],
   "source": [
    "lista"
   ]
  },
  {
   "cell_type": "code",
   "execution_count": 41,
   "id": "852d1bd9",
   "metadata": {},
   "outputs": [],
   "source": [
    "tupla = (0,1,2,2,2,4,2,1,2,4,4,4,0,0)"
   ]
  },
  {
   "cell_type": "code",
   "execution_count": 47,
   "id": "35eade08",
   "metadata": {},
   "outputs": [
    {
     "data": {
      "text/plain": [
       "14"
      ]
     },
     "execution_count": 47,
     "metadata": {},
     "output_type": "execute_result"
    }
   ],
   "source": [
    "len(tupla)"
   ]
  },
  {
   "cell_type": "code",
   "execution_count": 43,
   "id": "b09d3162",
   "metadata": {},
   "outputs": [
    {
     "data": {
      "text/plain": [
       "5"
      ]
     },
     "execution_count": 43,
     "metadata": {},
     "output_type": "execute_result"
    }
   ],
   "source": [
    "tupla.count(2)"
   ]
  },
  {
   "cell_type": "code",
   "execution_count": 44,
   "id": "938ed777",
   "metadata": {},
   "outputs": [
    {
     "data": {
      "text/plain": [
       "4"
      ]
     },
     "execution_count": 44,
     "metadata": {},
     "output_type": "execute_result"
    }
   ],
   "source": [
    "max(tupla)"
   ]
  },
  {
   "cell_type": "code",
   "execution_count": 45,
   "id": "59ffaa92",
   "metadata": {},
   "outputs": [],
   "source": [
    "lista = []\n",
    "i = 0\n",
    "while i <= max(tupla):\n",
    "    for j in range(tupla.count(i)):\n",
    "        lista.append(i)\n",
    "    i += 1"
   ]
  },
  {
   "cell_type": "code",
   "execution_count": 46,
   "id": "493236ac",
   "metadata": {},
   "outputs": [
    {
     "data": {
      "text/plain": [
       "[0, 0, 0, 1, 1, 2, 2, 2, 2, 2, 4, 4, 4, 4]"
      ]
     },
     "execution_count": 46,
     "metadata": {},
     "output_type": "execute_result"
    }
   ],
   "source": [
    "lista"
   ]
  },
  {
   "cell_type": "code",
   "execution_count": 48,
   "id": "61d037c9",
   "metadata": {},
   "outputs": [
    {
     "data": {
      "text/plain": [
       "14"
      ]
     },
     "execution_count": 48,
     "metadata": {},
     "output_type": "execute_result"
    }
   ],
   "source": [
    "len(lista)"
   ]
  },
  {
   "cell_type": "markdown",
   "id": "a7073b73",
   "metadata": {},
   "source": [
    "# Sumativa"
   ]
  },
  {
   "cell_type": "markdown",
   "id": "abe292f1",
   "metadata": {},
   "source": [
    "## 1."
   ]
  },
  {
   "cell_type": "code",
   "execution_count": 49,
   "id": "5c76d29e",
   "metadata": {},
   "outputs": [],
   "source": [
    "tupla = ('Camila', 5.0, 6.2, 4.8, 6.0)"
   ]
  },
  {
   "cell_type": "code",
   "execution_count": 51,
   "id": "05be5d84",
   "metadata": {},
   "outputs": [
    {
     "data": {
      "text/plain": [
       "('Camila', 5.5)"
      ]
     },
     "execution_count": 51,
     "metadata": {},
     "output_type": "execute_result"
    }
   ],
   "source": [
    "def sacar_promedio(tupla):\n",
    "    nombre, nota_1, nota_2, nota_3, nota_4 = tupla\n",
    "    promedio = sum([nota_1, nota_2, nota_3, nota_4]) / 4\n",
    "    return nombre, promedio\n",
    "\n",
    "sacar_promedio(tupla)\n",
    "    "
   ]
  },
  {
   "cell_type": "markdown",
   "id": "bccd34eb",
   "metadata": {},
   "source": [
    "## 2."
   ]
  },
  {
   "cell_type": "code",
   "execution_count": 68,
   "id": "0d1f49ef",
   "metadata": {},
   "outputs": [],
   "source": [
    "lista = [-40, -1, 1, 5, 16, 72, 100]"
   ]
  },
  {
   "cell_type": "code",
   "execution_count": 69,
   "id": "86b6239c",
   "metadata": {},
   "outputs": [
    {
     "data": {
      "text/plain": [
       "[-40, -1, 1, 5, 13, 16, 72, 100]"
      ]
     },
     "execution_count": 69,
     "metadata": {},
     "output_type": "execute_result"
    }
   ],
   "source": [
    "def agregar_entero(lista, entero):\n",
    "    # Si es el mayor numero de la lista se agrega al final\n",
    "    if entero > lista[-1]:\n",
    "        lista.append(entero)\n",
    "        return lista\n",
    "    \n",
    "    for i in range(len(lista)):\n",
    "        if lista[i] > entero:\n",
    "            index = i\n",
    "            break\n",
    "    lista.insert(index, entero)\n",
    "    return lista\n",
    "\n",
    "agregar_entero(lista, 13)"
   ]
  },
  {
   "cell_type": "code",
   "execution_count": 76,
   "id": "d457a67b",
   "metadata": {},
   "outputs": [],
   "source": [
    "lista_2 = [0, 4, 6, 6, 8]"
   ]
  },
  {
   "cell_type": "code",
   "execution_count": 77,
   "id": "e510f1af",
   "metadata": {},
   "outputs": [
    {
     "data": {
      "text/plain": [
       "[0, 1, 4, 6, 6, 8]"
      ]
     },
     "execution_count": 77,
     "metadata": {},
     "output_type": "execute_result"
    }
   ],
   "source": [
    "agregar_entero(lista_2, 1)"
   ]
  },
  {
   "cell_type": "markdown",
   "id": "a69b9a11",
   "metadata": {},
   "source": [
    "## 3."
   ]
  },
  {
   "cell_type": "code",
   "execution_count": 99,
   "id": "b7a101fe",
   "metadata": {},
   "outputs": [],
   "source": [
    "lista = [1,1,4,4,4,4,4,4,4,4,6,2,4,3,1,1,3,5,6,7,3,4,5,5,5,3,3,2,1,2,1,1,1,2,6,6]"
   ]
  },
  {
   "cell_type": "code",
   "execution_count": 100,
   "id": "6345bf6e",
   "metadata": {},
   "outputs": [],
   "source": [
    "def max_repetido(lista):\n",
    "    # Creamos una lista de todos los enteros que \n",
    "    # existen en la lista inicial\n",
    "    integers_in_list = list()\n",
    "    for elem in lista:\n",
    "        if elem not in integers_in_list:\n",
    "            integers_in_list.append(elem)\n",
    "    \n",
    "    # Chequeamos para cada entero existente si es el que mas se repite\n",
    "    count = 0\n",
    "    for i in integers_in_list:\n",
    "        if count < lista.count(i):\n",
    "            count = lista.count(i)\n",
    "    \n",
    "    return count"
   ]
  },
  {
   "cell_type": "code",
   "execution_count": 101,
   "id": "337fecfa",
   "metadata": {},
   "outputs": [
    {
     "data": {
      "text/plain": [
       "10"
      ]
     },
     "execution_count": 101,
     "metadata": {},
     "output_type": "execute_result"
    }
   ],
   "source": [
    "max_repetido(lista)"
   ]
  },
  {
   "cell_type": "markdown",
   "id": "7aaa033a",
   "metadata": {},
   "source": [
    "## 4."
   ]
  },
  {
   "cell_type": "code",
   "execution_count": 212,
   "id": "de185380",
   "metadata": {},
   "outputs": [
    {
     "data": {
      "text/plain": [
       "['Mario Avedaño',\n",
       " 'Policarpo Avedaño',\n",
       " 'Juan Bodoque',\n",
       " 'Juanin Harry',\n",
       " 'Mario Hugo',\n",
       " 'Dylan Manguera',\n",
       " 'Eusebio Manguera']"
      ]
     },
     "execution_count": 212,
     "metadata": {},
     "output_type": "execute_result"
    }
   ],
   "source": [
    "estudiantes = [\n",
    "'Mario Avedaño',\n",
    "'Policarpo Avedaño',\n",
    "'Juan Bodoque',\n",
    "'Juanin Harry',\n",
    "'Mario Hugo',\n",
    "'Dylan Manguera',\n",
    "'Eusebio Manguera'\n",
    "]\n",
    "\n",
    "estudiantes"
   ]
  },
  {
   "cell_type": "code",
   "execution_count": 213,
   "id": "cf633cb7",
   "metadata": {},
   "outputs": [],
   "source": [
    "def agregar_estudiante(lista, estudiante):\n",
    "    lista.append(estudiante)\n",
    "    \n",
    "    # Ordenamos la lista por apellido\n",
    "    lista.sort(key=lambda x: x.split(\" \")[1])\n",
    "    grouped_by_lastname = {}\n",
    "    \n",
    "    # Agrupamos por apellido los nombres como una lista(Nombre, Apellido) y ordenamos la lista por nombre\n",
    "    for elem in lista:\n",
    "        name, lastname = elem.split(\" \")\n",
    "        if lastname in grouped_by_lastname.keys():\n",
    "            grouped_by_lastname[lastname].append([name, lastname])\n",
    "            grouped_by_lastname[lastname].sort(key=lambda x: x[0]) # Ordenamos por nombre\n",
    "        else:\n",
    "            grouped_by_lastname[lastname] = [[name, lastname]]\n",
    "    \n",
    "    # Mapeamos los valores del diccionario a una lista unica\n",
    "    names_lists = []\n",
    "    for elem in grouped_by_lastname.values():\n",
    "        names_lists += elem\n",
    "    \n",
    "    # Formateamos la lista de lista en una lista de strings del tipo \"Nombre Apellido\"\n",
    "    names = [\" \".join(name) for name in names_lists]\n",
    "        \n",
    "    return names"
   ]
  },
  {
   "cell_type": "code",
   "execution_count": 215,
   "id": "c3e07b31",
   "metadata": {},
   "outputs": [
    {
     "data": {
      "text/plain": [
       "['Mario Avedaño',\n",
       " 'Policarpo Avedaño',\n",
       " 'Juan Bodoque',\n",
       " 'Juanin Harry',\n",
       " 'Mario Hugo',\n",
       " 'Dylan Manguera',\n",
       " 'Eliza Manguera',\n",
       " 'Eusebio Manguera',\n",
       " 'Madeleine Sequea']"
      ]
     },
     "execution_count": 215,
     "metadata": {},
     "output_type": "execute_result"
    }
   ],
   "source": [
    "agregar_estudiante(estudiantes, \"Madeleine Sequea\")"
   ]
  },
  {
   "cell_type": "code",
   "execution_count": 201,
   "id": "fd8f8879",
   "metadata": {},
   "outputs": [],
   "source": [
    "dicti = {\"b\": [203, 39], \"c\": \"aoka\", \"a\": [\"ss\", 23]}"
   ]
  },
  {
   "cell_type": "code",
   "execution_count": 202,
   "id": "c226fdc0",
   "metadata": {},
   "outputs": [
    {
     "ename": "AttributeError",
     "evalue": "'dict' object has no attribute 'sort'",
     "output_type": "error",
     "traceback": [
      "\u001b[0;31m---------------------------------------------------------------------------\u001b[0m",
      "\u001b[0;31mAttributeError\u001b[0m                            Traceback (most recent call last)",
      "Cell \u001b[0;32mIn[202], line 1\u001b[0m\n\u001b[0;32m----> 1\u001b[0m \u001b[43mdicti\u001b[49m\u001b[38;5;241;43m.\u001b[39;49m\u001b[43msort\u001b[49m()\n",
      "\u001b[0;31mAttributeError\u001b[0m: 'dict' object has no attribute 'sort'"
     ]
    }
   ],
   "source": []
  },
  {
   "cell_type": "code",
   "execution_count": null,
   "id": "f2d94eef",
   "metadata": {},
   "outputs": [],
   "source": []
  }
 ],
 "metadata": {
  "kernelspec": {
   "display_name": "Python 3",
   "language": "python",
   "name": "python3"
  },
  "language_info": {
   "codemirror_mode": {
    "name": "ipython",
    "version": 3
   },
   "file_extension": ".py",
   "mimetype": "text/x-python",
   "name": "python",
   "nbconvert_exporter": "python",
   "pygments_lexer": "ipython3",
   "version": "3.9.12"
  },
  "vscode": {
   "interpreter": {
    "hash": "486fa3dd6c666c5c8e48548af06066058fadab3f53231278f3a35dfe63e511b3"
   }
  }
 },
 "nbformat": 4,
 "nbformat_minor": 5
}
