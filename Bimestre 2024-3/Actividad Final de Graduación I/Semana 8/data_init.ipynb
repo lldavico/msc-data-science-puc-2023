{
 "cells": [
  {
   "cell_type": "code",
   "execution_count": 1,
   "metadata": {},
   "outputs": [],
   "source": [
    "import pandas as pd\n",
    "from datetime import datetime"
   ]
  },
  {
   "cell_type": "code",
   "execution_count": 2,
   "metadata": {},
   "outputs": [],
   "source": [
    "data_path = 'db.csv'"
   ]
  },
  {
   "cell_type": "code",
   "execution_count": 3,
   "metadata": {},
   "outputs": [
    {
     "name": "stdout",
     "output_type": "stream",
     "text": [
      "<class 'pandas.core.frame.DataFrame'>\n",
      "RangeIndex: 64765 entries, 0 to 64764\n",
      "Data columns (total 5 columns):\n",
      " #   Column             Non-Null Count  Dtype \n",
      "---  ------             --------------  ----- \n",
      " 0   Billing date       64765 non-null  int64 \n",
      " 1   Material           64765 non-null  int64 \n",
      " 2   Phisical quantity  64765 non-null  int64 \n",
      " 3   Country            64765 non-null  int64 \n",
      " 4   Net price          64765 non-null  object\n",
      "dtypes: int64(4), object(1)\n",
      "memory usage: 2.5+ MB\n"
     ]
    }
   ],
   "source": [
    "df = pd.read_csv(f'{data_path}', sep=',')\n",
    "df.info()"
   ]
  },
  {
   "cell_type": "code",
   "execution_count": 4,
   "metadata": {},
   "outputs": [
    {
     "data": {
      "text/html": [
       "<div>\n",
       "<style scoped>\n",
       "    .dataframe tbody tr th:only-of-type {\n",
       "        vertical-align: middle;\n",
       "    }\n",
       "\n",
       "    .dataframe tbody tr th {\n",
       "        vertical-align: top;\n",
       "    }\n",
       "\n",
       "    .dataframe thead th {\n",
       "        text-align: right;\n",
       "    }\n",
       "</style>\n",
       "<table border=\"1\" class=\"dataframe\">\n",
       "  <thead>\n",
       "    <tr style=\"text-align: right;\">\n",
       "      <th></th>\n",
       "      <th>Billing date</th>\n",
       "      <th>Material</th>\n",
       "      <th>Phisical quantity</th>\n",
       "      <th>Country</th>\n",
       "      <th>Net price</th>\n",
       "    </tr>\n",
       "  </thead>\n",
       "  <tbody>\n",
       "    <tr>\n",
       "      <th>0</th>\n",
       "      <td>10052022</td>\n",
       "      <td>1795</td>\n",
       "      <td>10</td>\n",
       "      <td>7511</td>\n",
       "      <td>2,865</td>\n",
       "    </tr>\n",
       "    <tr>\n",
       "      <th>1</th>\n",
       "      <td>10052022</td>\n",
       "      <td>1778</td>\n",
       "      <td>5</td>\n",
       "      <td>7511</td>\n",
       "      <td>0,66375</td>\n",
       "    </tr>\n",
       "    <tr>\n",
       "      <th>2</th>\n",
       "      <td>10052022</td>\n",
       "      <td>1778</td>\n",
       "      <td>15</td>\n",
       "      <td>7511</td>\n",
       "      <td>0,66375</td>\n",
       "    </tr>\n",
       "    <tr>\n",
       "      <th>3</th>\n",
       "      <td>10052022</td>\n",
       "      <td>9526</td>\n",
       "      <td>4</td>\n",
       "      <td>7511</td>\n",
       "      <td>36,31125</td>\n",
       "    </tr>\n",
       "    <tr>\n",
       "      <th>4</th>\n",
       "      <td>10052022</td>\n",
       "      <td>1778</td>\n",
       "      <td>11</td>\n",
       "      <td>7511</td>\n",
       "      <td>0,66375</td>\n",
       "    </tr>\n",
       "    <tr>\n",
       "      <th>5</th>\n",
       "      <td>10052022</td>\n",
       "      <td>1778</td>\n",
       "      <td>15</td>\n",
       "      <td>7511</td>\n",
       "      <td>0,66375</td>\n",
       "    </tr>\n",
       "    <tr>\n",
       "      <th>6</th>\n",
       "      <td>10052022</td>\n",
       "      <td>1778</td>\n",
       "      <td>5</td>\n",
       "      <td>7511</td>\n",
       "      <td>0,66375</td>\n",
       "    </tr>\n",
       "    <tr>\n",
       "      <th>7</th>\n",
       "      <td>10052022</td>\n",
       "      <td>2844</td>\n",
       "      <td>2</td>\n",
       "      <td>7511</td>\n",
       "      <td>35,185</td>\n",
       "    </tr>\n",
       "    <tr>\n",
       "      <th>8</th>\n",
       "      <td>10052022</td>\n",
       "      <td>4151</td>\n",
       "      <td>6</td>\n",
       "      <td>7511</td>\n",
       "      <td>31,47875</td>\n",
       "    </tr>\n",
       "    <tr>\n",
       "      <th>9</th>\n",
       "      <td>10052022</td>\n",
       "      <td>2844</td>\n",
       "      <td>2</td>\n",
       "      <td>7511</td>\n",
       "      <td>35,185</td>\n",
       "    </tr>\n",
       "  </tbody>\n",
       "</table>\n",
       "</div>"
      ],
      "text/plain": [
       "   Billing date  Material  Phisical quantity  Country Net price\n",
       "0      10052022      1795                 10     7511     2,865\n",
       "1      10052022      1778                  5     7511   0,66375\n",
       "2      10052022      1778                 15     7511   0,66375\n",
       "3      10052022      9526                  4     7511  36,31125\n",
       "4      10052022      1778                 11     7511   0,66375\n",
       "5      10052022      1778                 15     7511   0,66375\n",
       "6      10052022      1778                  5     7511   0,66375\n",
       "7      10052022      2844                  2     7511    35,185\n",
       "8      10052022      4151                  6     7511  31,47875\n",
       "9      10052022      2844                  2     7511    35,185"
      ]
     },
     "execution_count": 4,
     "metadata": {},
     "output_type": "execute_result"
    }
   ],
   "source": [
    "df.head(10)"
   ]
  },
  {
   "cell_type": "markdown",
   "metadata": {},
   "source": [
    "### Creamos una columna de fecha"
   ]
  },
  {
   "cell_type": "code",
   "execution_count": 23,
   "metadata": {},
   "outputs": [],
   "source": [
    "def process_date_str(number):\n",
    "    string = str(number)\n",
    "    if len(string) == 7:\n",
    "        string = '0' + string\n",
    "    return f'{string[4:]}-{string[2:4]}-{string[:2]}'"
   ]
  },
  {
   "cell_type": "code",
   "execution_count": 28,
   "metadata": {},
   "outputs": [
    {
     "data": {
      "text/html": [
       "<div>\n",
       "<style scoped>\n",
       "    .dataframe tbody tr th:only-of-type {\n",
       "        vertical-align: middle;\n",
       "    }\n",
       "\n",
       "    .dataframe tbody tr th {\n",
       "        vertical-align: top;\n",
       "    }\n",
       "\n",
       "    .dataframe thead th {\n",
       "        text-align: right;\n",
       "    }\n",
       "</style>\n",
       "<table border=\"1\" class=\"dataframe\">\n",
       "  <thead>\n",
       "    <tr style=\"text-align: right;\">\n",
       "      <th></th>\n",
       "      <th>Billing date</th>\n",
       "      <th>Material</th>\n",
       "      <th>Phisical quantity</th>\n",
       "      <th>Country</th>\n",
       "      <th>Net price</th>\n",
       "      <th>time</th>\n",
       "      <th>time_str</th>\n",
       "    </tr>\n",
       "  </thead>\n",
       "  <tbody>\n",
       "    <tr>\n",
       "      <th>0</th>\n",
       "      <td>10052022</td>\n",
       "      <td>1795</td>\n",
       "      <td>10</td>\n",
       "      <td>7511</td>\n",
       "      <td>2,865</td>\n",
       "      <td>2022-05-10</td>\n",
       "      <td>2022-05-10</td>\n",
       "    </tr>\n",
       "    <tr>\n",
       "      <th>1</th>\n",
       "      <td>10052022</td>\n",
       "      <td>1778</td>\n",
       "      <td>5</td>\n",
       "      <td>7511</td>\n",
       "      <td>0,66375</td>\n",
       "      <td>2022-05-10</td>\n",
       "      <td>2022-05-10</td>\n",
       "    </tr>\n",
       "    <tr>\n",
       "      <th>2</th>\n",
       "      <td>10052022</td>\n",
       "      <td>1778</td>\n",
       "      <td>15</td>\n",
       "      <td>7511</td>\n",
       "      <td>0,66375</td>\n",
       "      <td>2022-05-10</td>\n",
       "      <td>2022-05-10</td>\n",
       "    </tr>\n",
       "    <tr>\n",
       "      <th>3</th>\n",
       "      <td>10052022</td>\n",
       "      <td>9526</td>\n",
       "      <td>4</td>\n",
       "      <td>7511</td>\n",
       "      <td>36,31125</td>\n",
       "      <td>2022-05-10</td>\n",
       "      <td>2022-05-10</td>\n",
       "    </tr>\n",
       "    <tr>\n",
       "      <th>4</th>\n",
       "      <td>10052022</td>\n",
       "      <td>1778</td>\n",
       "      <td>11</td>\n",
       "      <td>7511</td>\n",
       "      <td>0,66375</td>\n",
       "      <td>2022-05-10</td>\n",
       "      <td>2022-05-10</td>\n",
       "    </tr>\n",
       "    <tr>\n",
       "      <th>...</th>\n",
       "      <td>...</td>\n",
       "      <td>...</td>\n",
       "      <td>...</td>\n",
       "      <td>...</td>\n",
       "      <td>...</td>\n",
       "      <td>...</td>\n",
       "      <td>...</td>\n",
       "    </tr>\n",
       "    <tr>\n",
       "      <th>64760</th>\n",
       "      <td>30042024</td>\n",
       "      <td>1634</td>\n",
       "      <td>100</td>\n",
       "      <td>1526</td>\n",
       "      <td>2,5175</td>\n",
       "      <td>2024-04-30</td>\n",
       "      <td>2024-04-30</td>\n",
       "    </tr>\n",
       "    <tr>\n",
       "      <th>64761</th>\n",
       "      <td>30042024</td>\n",
       "      <td>1634</td>\n",
       "      <td>2</td>\n",
       "      <td>1526</td>\n",
       "      <td>2,5175</td>\n",
       "      <td>2024-04-30</td>\n",
       "      <td>2024-04-30</td>\n",
       "    </tr>\n",
       "    <tr>\n",
       "      <th>64762</th>\n",
       "      <td>30042024</td>\n",
       "      <td>1634</td>\n",
       "      <td>60</td>\n",
       "      <td>1526</td>\n",
       "      <td>2,5175</td>\n",
       "      <td>2024-04-30</td>\n",
       "      <td>2024-04-30</td>\n",
       "    </tr>\n",
       "    <tr>\n",
       "      <th>64763</th>\n",
       "      <td>30042024</td>\n",
       "      <td>1679</td>\n",
       "      <td>2</td>\n",
       "      <td>1526</td>\n",
       "      <td>29,5575</td>\n",
       "      <td>2024-04-30</td>\n",
       "      <td>2024-04-30</td>\n",
       "    </tr>\n",
       "    <tr>\n",
       "      <th>64764</th>\n",
       "      <td>30042024</td>\n",
       "      <td>2847</td>\n",
       "      <td>104</td>\n",
       "      <td>1526</td>\n",
       "      <td>0,50375</td>\n",
       "      <td>2024-04-30</td>\n",
       "      <td>2024-04-30</td>\n",
       "    </tr>\n",
       "  </tbody>\n",
       "</table>\n",
       "<p>64765 rows × 7 columns</p>\n",
       "</div>"
      ],
      "text/plain": [
       "       Billing date  Material  Phisical quantity  Country Net price  \\\n",
       "0          10052022      1795                 10     7511     2,865   \n",
       "1          10052022      1778                  5     7511   0,66375   \n",
       "2          10052022      1778                 15     7511   0,66375   \n",
       "3          10052022      9526                  4     7511  36,31125   \n",
       "4          10052022      1778                 11     7511   0,66375   \n",
       "...             ...       ...                ...      ...       ...   \n",
       "64760      30042024      1634                100     1526    2,5175   \n",
       "64761      30042024      1634                  2     1526    2,5175   \n",
       "64762      30042024      1634                 60     1526    2,5175   \n",
       "64763      30042024      1679                  2     1526   29,5575   \n",
       "64764      30042024      2847                104     1526   0,50375   \n",
       "\n",
       "            time    time_str  \n",
       "0     2022-05-10  2022-05-10  \n",
       "1     2022-05-10  2022-05-10  \n",
       "2     2022-05-10  2022-05-10  \n",
       "3     2022-05-10  2022-05-10  \n",
       "4     2022-05-10  2022-05-10  \n",
       "...          ...         ...  \n",
       "64760 2024-04-30  2024-04-30  \n",
       "64761 2024-04-30  2024-04-30  \n",
       "64762 2024-04-30  2024-04-30  \n",
       "64763 2024-04-30  2024-04-30  \n",
       "64764 2024-04-30  2024-04-30  \n",
       "\n",
       "[64765 rows x 7 columns]"
      ]
     },
     "execution_count": 28,
     "metadata": {},
     "output_type": "execute_result"
    }
   ],
   "source": [
    "df['time_str'] = df['Billing date'].apply(process_date_str)\n",
    "df['time'] = pd.to_datetime(df['time_str'], format='%Y-%m-%d')\n",
    "df"
   ]
  },
  {
   "cell_type": "markdown",
   "metadata": {},
   "source": [
    "## Agrupacion de ventas"
   ]
  },
  {
   "cell_type": "code",
   "execution_count": 29,
   "metadata": {},
   "outputs": [
    {
     "data": {
      "text/plain": [
       "Timestamp('2018-08-24 00:00:00')"
      ]
     },
     "execution_count": 29,
     "metadata": {},
     "output_type": "execute_result"
    }
   ],
   "source": [
    "first_sale = df['time'].min()\n",
    "first_sale"
   ]
  },
  {
   "cell_type": "code",
   "execution_count": 30,
   "metadata": {},
   "outputs": [
    {
     "data": {
      "text/plain": [
       "Timestamp('2024-09-26 00:00:00')"
      ]
     },
     "execution_count": 30,
     "metadata": {},
     "output_type": "execute_result"
    }
   ],
   "source": [
    "last_sale = df['time'].max()\n",
    "last_sale"
   ]
  },
  {
   "cell_type": "code",
   "execution_count": 31,
   "metadata": {},
   "outputs": [],
   "source": [
    "def string_format(agg):\n",
    "    if agg == 'yearly':\n",
    "        return 'year', '%Y'\n",
    "    elif agg == 'monthly':\n",
    "        return 'year_month', '%Y%m'\n",
    "    elif agg == 'daily':\n",
    "        return 'year_month_day', '%Y%m%d'\n",
    "    elif agg == 'hourly':\n",
    "        return 'year_month_day_hour', '%Y%m%d %H'\n",
    "    else:\n",
    "        raise Exception(f'Invalid aggregation type: {agg}')"
   ]
  },
  {
   "cell_type": "markdown",
   "metadata": {},
   "source": [
    "### Agrupación de ventas por ítem"
   ]
  },
  {
   "cell_type": "markdown",
   "metadata": {},
   "source": [
    "Vemos la cantidad de ventas por ítem"
   ]
  },
  {
   "cell_type": "code",
   "execution_count": 32,
   "metadata": {},
   "outputs": [
    {
     "data": {
      "text/html": [
       "<div>\n",
       "<style scoped>\n",
       "    .dataframe tbody tr th:only-of-type {\n",
       "        vertical-align: middle;\n",
       "    }\n",
       "\n",
       "    .dataframe tbody tr th {\n",
       "        vertical-align: top;\n",
       "    }\n",
       "\n",
       "    .dataframe thead th {\n",
       "        text-align: right;\n",
       "    }\n",
       "</style>\n",
       "<table border=\"1\" class=\"dataframe\">\n",
       "  <thead>\n",
       "    <tr style=\"text-align: right;\">\n",
       "      <th></th>\n",
       "      <th>Material</th>\n",
       "      <th>Phisical quantity</th>\n",
       "    </tr>\n",
       "  </thead>\n",
       "  <tbody>\n",
       "    <tr>\n",
       "      <th>365</th>\n",
       "      <td>1872</td>\n",
       "      <td>375</td>\n",
       "    </tr>\n",
       "    <tr>\n",
       "      <th>1484</th>\n",
       "      <td>4488</td>\n",
       "      <td>311</td>\n",
       "    </tr>\n",
       "    <tr>\n",
       "      <th>957</th>\n",
       "      <td>3224</td>\n",
       "      <td>296</td>\n",
       "    </tr>\n",
       "    <tr>\n",
       "      <th>636</th>\n",
       "      <td>2489</td>\n",
       "      <td>286</td>\n",
       "    </tr>\n",
       "    <tr>\n",
       "      <th>2387</th>\n",
       "      <td>6633</td>\n",
       "      <td>261</td>\n",
       "    </tr>\n",
       "    <tr>\n",
       "      <th>...</th>\n",
       "      <td>...</td>\n",
       "      <td>...</td>\n",
       "    </tr>\n",
       "    <tr>\n",
       "      <th>2122</th>\n",
       "      <td>6000</td>\n",
       "      <td>1</td>\n",
       "    </tr>\n",
       "    <tr>\n",
       "      <th>797</th>\n",
       "      <td>2855</td>\n",
       "      <td>1</td>\n",
       "    </tr>\n",
       "    <tr>\n",
       "      <th>3132</th>\n",
       "      <td>8428</td>\n",
       "      <td>1</td>\n",
       "    </tr>\n",
       "    <tr>\n",
       "      <th>982</th>\n",
       "      <td>3295</td>\n",
       "      <td>1</td>\n",
       "    </tr>\n",
       "    <tr>\n",
       "      <th>2256</th>\n",
       "      <td>6333</td>\n",
       "      <td>1</td>\n",
       "    </tr>\n",
       "  </tbody>\n",
       "</table>\n",
       "<p>3817 rows × 2 columns</p>\n",
       "</div>"
      ],
      "text/plain": [
       "      Material  Phisical quantity\n",
       "365       1872                375\n",
       "1484      4488                311\n",
       "957       3224                296\n",
       "636       2489                286\n",
       "2387      6633                261\n",
       "...        ...                ...\n",
       "2122      6000                  1\n",
       "797       2855                  1\n",
       "3132      8428                  1\n",
       "982       3295                  1\n",
       "2256      6333                  1\n",
       "\n",
       "[3817 rows x 2 columns]"
      ]
     },
     "execution_count": 32,
     "metadata": {},
     "output_type": "execute_result"
    }
   ],
   "source": [
    "df.groupby('Material').count().reset_index()[['Material', 'Phisical quantity']].sort_values(by='Phisical quantity', ascending=False)"
   ]
  },
  {
   "cell_type": "markdown",
   "metadata": {},
   "source": [
    "Tomamos el material de ID `1872` que tiene un total de 375 ventas en total"
   ]
  },
  {
   "cell_type": "code",
   "execution_count": 34,
   "metadata": {},
   "outputs": [],
   "source": [
    "material_id = 1872"
   ]
  },
  {
   "cell_type": "markdown",
   "metadata": {},
   "source": [
    "#### Agrupación mensual"
   ]
  },
  {
   "cell_type": "code",
   "execution_count": 35,
   "metadata": {},
   "outputs": [
    {
     "data": {
      "text/html": [
       "<div>\n",
       "<style scoped>\n",
       "    .dataframe tbody tr th:only-of-type {\n",
       "        vertical-align: middle;\n",
       "    }\n",
       "\n",
       "    .dataframe tbody tr th {\n",
       "        vertical-align: top;\n",
       "    }\n",
       "\n",
       "    .dataframe thead th {\n",
       "        text-align: right;\n",
       "    }\n",
       "</style>\n",
       "<table border=\"1\" class=\"dataframe\">\n",
       "  <thead>\n",
       "    <tr style=\"text-align: right;\">\n",
       "      <th></th>\n",
       "      <th>Billing date</th>\n",
       "      <th>Material</th>\n",
       "      <th>Phisical quantity</th>\n",
       "      <th>Country</th>\n",
       "      <th>Net price</th>\n",
       "      <th>time</th>\n",
       "      <th>time_str</th>\n",
       "      <th>year_month</th>\n",
       "    </tr>\n",
       "  </thead>\n",
       "  <tbody>\n",
       "    <tr>\n",
       "      <th>0</th>\n",
       "      <td>10052022</td>\n",
       "      <td>1795</td>\n",
       "      <td>10</td>\n",
       "      <td>7511</td>\n",
       "      <td>2,865</td>\n",
       "      <td>2022-05-10</td>\n",
       "      <td>2022-05-10</td>\n",
       "      <td>202205</td>\n",
       "    </tr>\n",
       "    <tr>\n",
       "      <th>1</th>\n",
       "      <td>10052022</td>\n",
       "      <td>1778</td>\n",
       "      <td>5</td>\n",
       "      <td>7511</td>\n",
       "      <td>0,66375</td>\n",
       "      <td>2022-05-10</td>\n",
       "      <td>2022-05-10</td>\n",
       "      <td>202205</td>\n",
       "    </tr>\n",
       "    <tr>\n",
       "      <th>2</th>\n",
       "      <td>10052022</td>\n",
       "      <td>1778</td>\n",
       "      <td>15</td>\n",
       "      <td>7511</td>\n",
       "      <td>0,66375</td>\n",
       "      <td>2022-05-10</td>\n",
       "      <td>2022-05-10</td>\n",
       "      <td>202205</td>\n",
       "    </tr>\n",
       "    <tr>\n",
       "      <th>3</th>\n",
       "      <td>10052022</td>\n",
       "      <td>9526</td>\n",
       "      <td>4</td>\n",
       "      <td>7511</td>\n",
       "      <td>36,31125</td>\n",
       "      <td>2022-05-10</td>\n",
       "      <td>2022-05-10</td>\n",
       "      <td>202205</td>\n",
       "    </tr>\n",
       "    <tr>\n",
       "      <th>4</th>\n",
       "      <td>10052022</td>\n",
       "      <td>1778</td>\n",
       "      <td>11</td>\n",
       "      <td>7511</td>\n",
       "      <td>0,66375</td>\n",
       "      <td>2022-05-10</td>\n",
       "      <td>2022-05-10</td>\n",
       "      <td>202205</td>\n",
       "    </tr>\n",
       "    <tr>\n",
       "      <th>...</th>\n",
       "      <td>...</td>\n",
       "      <td>...</td>\n",
       "      <td>...</td>\n",
       "      <td>...</td>\n",
       "      <td>...</td>\n",
       "      <td>...</td>\n",
       "      <td>...</td>\n",
       "      <td>...</td>\n",
       "    </tr>\n",
       "    <tr>\n",
       "      <th>64760</th>\n",
       "      <td>30042024</td>\n",
       "      <td>1634</td>\n",
       "      <td>100</td>\n",
       "      <td>1526</td>\n",
       "      <td>2,5175</td>\n",
       "      <td>2024-04-30</td>\n",
       "      <td>2024-04-30</td>\n",
       "      <td>202404</td>\n",
       "    </tr>\n",
       "    <tr>\n",
       "      <th>64761</th>\n",
       "      <td>30042024</td>\n",
       "      <td>1634</td>\n",
       "      <td>2</td>\n",
       "      <td>1526</td>\n",
       "      <td>2,5175</td>\n",
       "      <td>2024-04-30</td>\n",
       "      <td>2024-04-30</td>\n",
       "      <td>202404</td>\n",
       "    </tr>\n",
       "    <tr>\n",
       "      <th>64762</th>\n",
       "      <td>30042024</td>\n",
       "      <td>1634</td>\n",
       "      <td>60</td>\n",
       "      <td>1526</td>\n",
       "      <td>2,5175</td>\n",
       "      <td>2024-04-30</td>\n",
       "      <td>2024-04-30</td>\n",
       "      <td>202404</td>\n",
       "    </tr>\n",
       "    <tr>\n",
       "      <th>64763</th>\n",
       "      <td>30042024</td>\n",
       "      <td>1679</td>\n",
       "      <td>2</td>\n",
       "      <td>1526</td>\n",
       "      <td>29,5575</td>\n",
       "      <td>2024-04-30</td>\n",
       "      <td>2024-04-30</td>\n",
       "      <td>202404</td>\n",
       "    </tr>\n",
       "    <tr>\n",
       "      <th>64764</th>\n",
       "      <td>30042024</td>\n",
       "      <td>2847</td>\n",
       "      <td>104</td>\n",
       "      <td>1526</td>\n",
       "      <td>0,50375</td>\n",
       "      <td>2024-04-30</td>\n",
       "      <td>2024-04-30</td>\n",
       "      <td>202404</td>\n",
       "    </tr>\n",
       "  </tbody>\n",
       "</table>\n",
       "<p>64765 rows × 8 columns</p>\n",
       "</div>"
      ],
      "text/plain": [
       "       Billing date  Material  Phisical quantity  Country Net price  \\\n",
       "0          10052022      1795                 10     7511     2,865   \n",
       "1          10052022      1778                  5     7511   0,66375   \n",
       "2          10052022      1778                 15     7511   0,66375   \n",
       "3          10052022      9526                  4     7511  36,31125   \n",
       "4          10052022      1778                 11     7511   0,66375   \n",
       "...             ...       ...                ...      ...       ...   \n",
       "64760      30042024      1634                100     1526    2,5175   \n",
       "64761      30042024      1634                  2     1526    2,5175   \n",
       "64762      30042024      1634                 60     1526    2,5175   \n",
       "64763      30042024      1679                  2     1526   29,5575   \n",
       "64764      30042024      2847                104     1526   0,50375   \n",
       "\n",
       "            time    time_str year_month  \n",
       "0     2022-05-10  2022-05-10     202205  \n",
       "1     2022-05-10  2022-05-10     202205  \n",
       "2     2022-05-10  2022-05-10     202205  \n",
       "3     2022-05-10  2022-05-10     202205  \n",
       "4     2022-05-10  2022-05-10     202205  \n",
       "...          ...         ...        ...  \n",
       "64760 2024-04-30  2024-04-30     202404  \n",
       "64761 2024-04-30  2024-04-30     202404  \n",
       "64762 2024-04-30  2024-04-30     202404  \n",
       "64763 2024-04-30  2024-04-30     202404  \n",
       "64764 2024-04-30  2024-04-30     202404  \n",
       "\n",
       "[64765 rows x 8 columns]"
      ]
     },
     "execution_count": 35,
     "metadata": {},
     "output_type": "execute_result"
    }
   ],
   "source": [
    "col_name, _string_format = string_format('monthly')\n",
    "\n",
    "df[col_name] = df['time'].apply(lambda x: x.strftime(_string_format))\n",
    "df"
   ]
  },
  {
   "cell_type": "code",
   "execution_count": 36,
   "metadata": {},
   "outputs": [
    {
     "data": {
      "text/plain": [
       "year_month\n",
       "201808     1\n",
       "201809     4\n",
       "201810     5\n",
       "201811     5\n",
       "201812    12\n",
       "          ..\n",
       "202404     2\n",
       "202405     6\n",
       "202406    10\n",
       "202407     4\n",
       "202408     6\n",
       "Name: Phisical quantity, Length: 70, dtype: int64"
      ]
     },
     "execution_count": 36,
     "metadata": {},
     "output_type": "execute_result"
    }
   ],
   "source": [
    "# Filtramos por el ítem y calculamos la distribución mensual de ventas\n",
    "agg_by_month_order = df[df.Material == material_id].groupby(col_name)['Phisical quantity'].count()\n",
    "agg_by_month_order"
   ]
  },
  {
   "cell_type": "markdown",
   "metadata": {},
   "source": [
    "#### Agrupación diaria"
   ]
  },
  {
   "cell_type": "code",
   "execution_count": 37,
   "metadata": {},
   "outputs": [],
   "source": [
    "col_name, _ = string_format('daily')\n",
    "\n",
    "df[col_name] = df['time'].apply(lambda x: x.date())"
   ]
  },
  {
   "cell_type": "code",
   "execution_count": 38,
   "metadata": {},
   "outputs": [
    {
     "data": {
      "text/plain": [
       "year_month_day\n",
       "2018-08-31    1\n",
       "2018-09-18    1\n",
       "2018-09-19    1\n",
       "2018-09-24    2\n",
       "2018-10-19    2\n",
       "             ..\n",
       "2024-07-19    1\n",
       "2024-07-23    1\n",
       "2024-08-21    1\n",
       "2024-08-30    2\n",
       "2024-08-31    3\n",
       "Name: Phisical quantity, Length: 176, dtype: int64"
      ]
     },
     "execution_count": 38,
     "metadata": {},
     "output_type": "execute_result"
    }
   ],
   "source": [
    "agg_by_day_order = df[df.Material == material_id].groupby(col_name)['Phisical quantity'].count()\n",
    "agg_by_day_order"
   ]
  },
  {
   "cell_type": "markdown",
   "metadata": {},
   "source": [
    "### Elegimos la serie a utilizar"
   ]
  },
  {
   "cell_type": "code",
   "execution_count": 39,
   "metadata": {},
   "outputs": [
    {
     "name": "stdout",
     "output_type": "stream",
     "text": [
      "<class 'pandas.core.series.Series'>\n",
      "Index: 176 entries, 2018-08-31 to 2024-08-31\n",
      "Series name: Phisical quantity\n",
      "Non-Null Count  Dtype\n",
      "--------------  -----\n",
      "176 non-null    int64\n",
      "dtypes: int64(1)\n",
      "memory usage: 6.8+ KB\n"
     ]
    }
   ],
   "source": [
    "serie = agg_by_day_order.copy()\n",
    "serie.info()"
   ]
  },
  {
   "cell_type": "code",
   "execution_count": 40,
   "metadata": {},
   "outputs": [
    {
     "data": {
      "text/plain": [
       "year_month_day\n",
       "2018-08-31    1\n",
       "2018-09-18    1\n",
       "2018-09-19    1\n",
       "2018-09-24    2\n",
       "2018-10-19    2\n",
       "             ..\n",
       "2024-07-19    1\n",
       "2024-07-23    1\n",
       "2024-08-21    1\n",
       "2024-08-30    2\n",
       "2024-08-31    3\n",
       "Name: Phisical quantity, Length: 176, dtype: int64"
      ]
     },
     "execution_count": 40,
     "metadata": {},
     "output_type": "execute_result"
    }
   ],
   "source": [
    "serie"
   ]
  },
  {
   "cell_type": "markdown",
   "metadata": {},
   "source": [
    "### Generamos el set de entrenamiento y set de test"
   ]
  },
  {
   "cell_type": "code",
   "execution_count": 43,
   "metadata": {},
   "outputs": [],
   "source": [
    "def split_in_train_test(data, threshold):\n",
    "    train = data[:threshold]\n",
    "    test = data[threshold:]\n",
    "\n",
    "    return train, test\n",
    "\n",
    "train_orders, test_orders = split_in_train_test(serie, datetime(2024, 1, 1).date())"
   ]
  },
  {
   "cell_type": "code",
   "execution_count": 45,
   "metadata": {},
   "outputs": [
    {
     "data": {
      "text/plain": [
       "year_month_day\n",
       "2018-08-31    1\n",
       "2018-09-18    1\n",
       "2018-09-19    1\n",
       "2018-09-24    2\n",
       "2018-10-19    2\n",
       "             ..\n",
       "2023-11-12    1\n",
       "2023-11-29    2\n",
       "2023-11-30    8\n",
       "2023-12-06    2\n",
       "2023-12-20    1\n",
       "Name: Phisical quantity, Length: 154, dtype: int64"
      ]
     },
     "execution_count": 45,
     "metadata": {},
     "output_type": "execute_result"
    }
   ],
   "source": [
    "train_orders"
   ]
  },
  {
   "cell_type": "code",
   "execution_count": 46,
   "metadata": {},
   "outputs": [
    {
     "data": {
      "text/plain": [
       "year_month_day\n",
       "2024-01-23    1\n",
       "2024-01-29    1\n",
       "2024-01-31    2\n",
       "2024-02-01    2\n",
       "2024-02-19    2\n",
       "2024-02-20    1\n",
       "2024-02-22    1\n",
       "2024-02-29    1\n",
       "2024-04-23    2\n",
       "2024-05-22    2\n",
       "2024-05-29    4\n",
       "2024-06-24    1\n",
       "2024-06-26    2\n",
       "2024-06-27    2\n",
       "2024-06-28    1\n",
       "2024-06-29    4\n",
       "2024-07-18    2\n",
       "2024-07-19    1\n",
       "2024-07-23    1\n",
       "2024-08-21    1\n",
       "2024-08-30    2\n",
       "2024-08-31    3\n",
       "Name: Phisical quantity, dtype: int64"
      ]
     },
     "execution_count": 46,
     "metadata": {},
     "output_type": "execute_result"
    }
   ],
   "source": [
    "test_orders"
   ]
  },
  {
   "cell_type": "markdown",
   "metadata": {},
   "source": [
    "## Gráficos"
   ]
  },
  {
   "cell_type": "code",
   "execution_count": 47,
   "metadata": {},
   "outputs": [],
   "source": [
    "import matplotlib.pyplot as plt\n",
    "import seaborn as sns"
   ]
  },
  {
   "cell_type": "code",
   "execution_count": 48,
   "metadata": {},
   "outputs": [
    {
     "data": {
      "image/png": "[encoded data removed]",
      "text/plain": [
       "<Figure size 700x300 with 1 Axes>"
      ]
     },
     "metadata": {},
     "output_type": "display_data"
    }
   ],
   "source": [
    "fig, ax=plt.subplots(figsize=(7, 3))\n",
    "train_orders.plot(ax=ax, label='train')\n",
    "test_orders.plot(ax=ax, label='test')\n",
    "ax.set_title('Ventas diarias')\n",
    "ax.legend();"
   ]
  },
  {
   "cell_type": "code",
   "execution_count": 49,
   "metadata": {},
   "outputs": [
    {
     "data": {
      "text/html": [
       "<div>\n",
       "<style scoped>\n",
       "    .dataframe tbody tr th:only-of-type {\n",
       "        vertical-align: middle;\n",
       "    }\n",
       "\n",
       "    .dataframe tbody tr th {\n",
       "        vertical-align: top;\n",
       "    }\n",
       "\n",
       "    .dataframe thead th {\n",
       "        text-align: right;\n",
       "    }\n",
       "</style>\n",
       "<table border=\"1\" class=\"dataframe\">\n",
       "  <thead>\n",
       "    <tr style=\"text-align: right;\">\n",
       "      <th></th>\n",
       "      <th>period</th>\n",
       "      <th>orders</th>\n",
       "    </tr>\n",
       "  </thead>\n",
       "  <tbody>\n",
       "    <tr>\n",
       "      <th>0</th>\n",
       "      <td>2018-08-31</td>\n",
       "      <td>1</td>\n",
       "    </tr>\n",
       "    <tr>\n",
       "      <th>1</th>\n",
       "      <td>2018-09-18</td>\n",
       "      <td>1</td>\n",
       "    </tr>\n",
       "    <tr>\n",
       "      <th>2</th>\n",
       "      <td>2018-09-19</td>\n",
       "      <td>1</td>\n",
       "    </tr>\n",
       "    <tr>\n",
       "      <th>3</th>\n",
       "      <td>2018-09-24</td>\n",
       "      <td>2</td>\n",
       "    </tr>\n",
       "    <tr>\n",
       "      <th>4</th>\n",
       "      <td>2018-10-19</td>\n",
       "      <td>2</td>\n",
       "    </tr>\n",
       "    <tr>\n",
       "      <th>...</th>\n",
       "      <td>...</td>\n",
       "      <td>...</td>\n",
       "    </tr>\n",
       "    <tr>\n",
       "      <th>149</th>\n",
       "      <td>2023-11-12</td>\n",
       "      <td>1</td>\n",
       "    </tr>\n",
       "    <tr>\n",
       "      <th>150</th>\n",
       "      <td>2023-11-29</td>\n",
       "      <td>2</td>\n",
       "    </tr>\n",
       "    <tr>\n",
       "      <th>151</th>\n",
       "      <td>2023-11-30</td>\n",
       "      <td>8</td>\n",
       "    </tr>\n",
       "    <tr>\n",
       "      <th>152</th>\n",
       "      <td>2023-12-06</td>\n",
       "      <td>2</td>\n",
       "    </tr>\n",
       "    <tr>\n",
       "      <th>153</th>\n",
       "      <td>2023-12-20</td>\n",
       "      <td>1</td>\n",
       "    </tr>\n",
       "  </tbody>\n",
       "</table>\n",
       "<p>154 rows × 2 columns</p>\n",
       "</div>"
      ],
      "text/plain": [
       "         period  orders\n",
       "0    2018-08-31       1\n",
       "1    2018-09-18       1\n",
       "2    2018-09-19       1\n",
       "3    2018-09-24       2\n",
       "4    2018-10-19       2\n",
       "..          ...     ...\n",
       "149  2023-11-12       1\n",
       "150  2023-11-29       2\n",
       "151  2023-11-30       8\n",
       "152  2023-12-06       2\n",
       "153  2023-12-20       1\n",
       "\n",
       "[154 rows x 2 columns]"
      ]
     },
     "execution_count": 49,
     "metadata": {},
     "output_type": "execute_result"
    }
   ],
   "source": [
    "train_df = pd.DataFrame()\n",
    "train_df['period'] = train_orders.index\n",
    "train_df['orders'] = train_orders.values\n",
    "\n",
    "train_df"
   ]
  },
  {
   "cell_type": "code",
   "execution_count": 50,
   "metadata": {},
   "outputs": [
    {
     "data": {
      "text/html": [
       "<div>\n",
       "<style scoped>\n",
       "    .dataframe tbody tr th:only-of-type {\n",
       "        vertical-align: middle;\n",
       "    }\n",
       "\n",
       "    .dataframe tbody tr th {\n",
       "        vertical-align: top;\n",
       "    }\n",
       "\n",
       "    .dataframe thead th {\n",
       "        text-align: right;\n",
       "    }\n",
       "</style>\n",
       "<table border=\"1\" class=\"dataframe\">\n",
       "  <thead>\n",
       "    <tr style=\"text-align: right;\">\n",
       "      <th></th>\n",
       "      <th>period</th>\n",
       "      <th>orders</th>\n",
       "    </tr>\n",
       "  </thead>\n",
       "  <tbody>\n",
       "    <tr>\n",
       "      <th>0</th>\n",
       "      <td>2018-08-31</td>\n",
       "      <td>1</td>\n",
       "    </tr>\n",
       "    <tr>\n",
       "      <th>1</th>\n",
       "      <td>2018-09-18</td>\n",
       "      <td>1</td>\n",
       "    </tr>\n",
       "    <tr>\n",
       "      <th>2</th>\n",
       "      <td>2018-09-19</td>\n",
       "      <td>1</td>\n",
       "    </tr>\n",
       "    <tr>\n",
       "      <th>3</th>\n",
       "      <td>2018-09-24</td>\n",
       "      <td>2</td>\n",
       "    </tr>\n",
       "    <tr>\n",
       "      <th>4</th>\n",
       "      <td>2018-10-19</td>\n",
       "      <td>2</td>\n",
       "    </tr>\n",
       "    <tr>\n",
       "      <th>...</th>\n",
       "      <td>...</td>\n",
       "      <td>...</td>\n",
       "    </tr>\n",
       "    <tr>\n",
       "      <th>149</th>\n",
       "      <td>2023-11-12</td>\n",
       "      <td>1</td>\n",
       "    </tr>\n",
       "    <tr>\n",
       "      <th>150</th>\n",
       "      <td>2023-11-29</td>\n",
       "      <td>2</td>\n",
       "    </tr>\n",
       "    <tr>\n",
       "      <th>151</th>\n",
       "      <td>2023-11-30</td>\n",
       "      <td>8</td>\n",
       "    </tr>\n",
       "    <tr>\n",
       "      <th>152</th>\n",
       "      <td>2023-12-06</td>\n",
       "      <td>2</td>\n",
       "    </tr>\n",
       "    <tr>\n",
       "      <th>153</th>\n",
       "      <td>2023-12-20</td>\n",
       "      <td>1</td>\n",
       "    </tr>\n",
       "  </tbody>\n",
       "</table>\n",
       "<p>154 rows × 2 columns</p>\n",
       "</div>"
      ],
      "text/plain": [
       "         period  orders\n",
       "0    2018-08-31       1\n",
       "1    2018-09-18       1\n",
       "2    2018-09-19       1\n",
       "3    2018-09-24       2\n",
       "4    2018-10-19       2\n",
       "..          ...     ...\n",
       "149  2023-11-12       1\n",
       "150  2023-11-29       2\n",
       "151  2023-11-30       8\n",
       "152  2023-12-06       2\n",
       "153  2023-12-20       1\n",
       "\n",
       "[154 rows x 2 columns]"
      ]
     },
     "execution_count": 50,
     "metadata": {},
     "output_type": "execute_result"
    }
   ],
   "source": [
    "train_df"
   ]
  },
  {
   "cell_type": "markdown",
   "metadata": {},
   "source": [
    "### Distribución diaria de compras"
   ]
  },
  {
   "cell_type": "code",
   "execution_count": 51,
   "metadata": {},
   "outputs": [
    {
     "data": {
      "image/png": "[encoded data removed]",
      "text/plain": [
       "<Figure size 640x480 with 1 Axes>"
      ]
     },
     "metadata": {},
     "output_type": "display_data"
    }
   ],
   "source": [
    "sns.lineplot(train_df, x='period', y='orders')\n",
    "plt.show()"
   ]
  },
  {
   "cell_type": "markdown",
   "metadata": {},
   "source": [
    "### Distribución mensual de compras"
   ]
  },
  {
   "cell_type": "code",
   "execution_count": 52,
   "metadata": {},
   "outputs": [
    {
     "data": {
      "image/png": "[encoded data removed]",
      "text/plain": [
       "<Figure size 640x480 with 1 Axes>"
      ]
     },
     "metadata": {},
     "output_type": "display_data"
    }
   ],
   "source": [
    "sns.lineplot(train_df, x='period', y='orders')\n",
    "plt.show()"
   ]
  },
  {
   "cell_type": "code",
   "execution_count": 53,
   "metadata": {},
   "outputs": [
    {
     "data": {
      "text/plain": [
       "<Axes: xlabel='Lag', ylabel='Autocorrelation'>"
      ]
     },
     "execution_count": 53,
     "metadata": {},
     "output_type": "execute_result"
    },
    {
     "data": {
      "image/png": "[encoded data removed]",
      "text/plain": [
       "<Figure size 640x480 with 1 Axes>"
      ]
     },
     "metadata": {},
     "output_type": "display_data"
    }
   ],
   "source": [
    "from pandas.plotting import autocorrelation_plot\n",
    "\n",
    "autocorrelation_plot(train_df['orders'])"
   ]
  },
  {
   "cell_type": "code",
   "execution_count": 54,
   "metadata": {},
   "outputs": [
    {
     "data": {
      "image/png": "[encoded data removed]",
      "text/plain": [
       "<Figure size 640x480 with 1 Axes>"
      ]
     },
     "metadata": {},
     "output_type": "display_data"
    }
   ],
   "source": [
    "from statsmodels.graphics.tsaplots import plot_acf\n",
    "\n",
    "plot_acf(train_df['orders'])\n",
    "plt.show()"
   ]
  },
  {
   "cell_type": "code",
   "execution_count": 55,
   "metadata": {},
   "outputs": [
    {
     "data": {
      "image/png": "[encoded data removed]",
      "text/plain": [
       "<Figure size 640x480 with 1 Axes>"
      ]
     },
     "metadata": {},
     "output_type": "display_data"
    }
   ],
   "source": [
    "from statsmodels.graphics.tsaplots import plot_pacf\n",
    "\n",
    "plot_pacf(train_df['orders'])\n",
    "plt.show()"
   ]
  },
  {
   "cell_type": "code",
   "execution_count": 56,
   "metadata": {},
   "outputs": [
    {
     "data": {
      "image/png": "[encoded data removed]",
      "text/plain": [
       "<Figure size 640x480 with 4 Axes>"
      ]
     },
     "metadata": {},
     "output_type": "display_data"
    }
   ],
   "source": [
    "from statsmodels.tsa.seasonal import seasonal_decompose\n",
    "\n",
    "\n",
    "decomposition = seasonal_decompose(train_df['orders'], model='additive', period=12)\n",
    "decomposition.plot()\n",
    "plt.show()"
   ]
  },
  {
   "cell_type": "markdown",
   "metadata": {},
   "source": [
    "### Entrenamos con SARIMA"
   ]
  },
  {
   "cell_type": "code",
   "execution_count": 57,
   "metadata": {},
   "outputs": [
    {
     "data": {
      "text/html": [
       "<div>\n",
       "<style scoped>\n",
       "    .dataframe tbody tr th:only-of-type {\n",
       "        vertical-align: middle;\n",
       "    }\n",
       "\n",
       "    .dataframe tbody tr th {\n",
       "        vertical-align: top;\n",
       "    }\n",
       "\n",
       "    .dataframe thead th {\n",
       "        text-align: right;\n",
       "    }\n",
       "</style>\n",
       "<table border=\"1\" class=\"dataframe\">\n",
       "  <thead>\n",
       "    <tr style=\"text-align: right;\">\n",
       "      <th></th>\n",
       "      <th>period</th>\n",
       "      <th>orders</th>\n",
       "    </tr>\n",
       "  </thead>\n",
       "  <tbody>\n",
       "    <tr>\n",
       "      <th>0</th>\n",
       "      <td>2024-01-23</td>\n",
       "      <td>1</td>\n",
       "    </tr>\n",
       "    <tr>\n",
       "      <th>1</th>\n",
       "      <td>2024-01-29</td>\n",
       "      <td>1</td>\n",
       "    </tr>\n",
       "    <tr>\n",
       "      <th>2</th>\n",
       "      <td>2024-01-31</td>\n",
       "      <td>2</td>\n",
       "    </tr>\n",
       "    <tr>\n",
       "      <th>3</th>\n",
       "      <td>2024-02-01</td>\n",
       "      <td>2</td>\n",
       "    </tr>\n",
       "    <tr>\n",
       "      <th>4</th>\n",
       "      <td>2024-02-19</td>\n",
       "      <td>2</td>\n",
       "    </tr>\n",
       "    <tr>\n",
       "      <th>5</th>\n",
       "      <td>2024-02-20</td>\n",
       "      <td>1</td>\n",
       "    </tr>\n",
       "    <tr>\n",
       "      <th>6</th>\n",
       "      <td>2024-02-22</td>\n",
       "      <td>1</td>\n",
       "    </tr>\n",
       "    <tr>\n",
       "      <th>7</th>\n",
       "      <td>2024-02-29</td>\n",
       "      <td>1</td>\n",
       "    </tr>\n",
       "    <tr>\n",
       "      <th>8</th>\n",
       "      <td>2024-04-23</td>\n",
       "      <td>2</td>\n",
       "    </tr>\n",
       "    <tr>\n",
       "      <th>9</th>\n",
       "      <td>2024-05-22</td>\n",
       "      <td>2</td>\n",
       "    </tr>\n",
       "  </tbody>\n",
       "</table>\n",
       "</div>"
      ],
      "text/plain": [
       "       period  orders\n",
       "0  2024-01-23       1\n",
       "1  2024-01-29       1\n",
       "2  2024-01-31       2\n",
       "3  2024-02-01       2\n",
       "4  2024-02-19       2\n",
       "5  2024-02-20       1\n",
       "6  2024-02-22       1\n",
       "7  2024-02-29       1\n",
       "8  2024-04-23       2\n",
       "9  2024-05-22       2"
      ]
     },
     "execution_count": 57,
     "metadata": {},
     "output_type": "execute_result"
    }
   ],
   "source": [
    "# Creamos el set de test\n",
    "test_df = pd.DataFrame()\n",
    "test_df['period'] = test_orders.index\n",
    "test_df['orders'] = test_orders.values\n",
    "\n",
    "test_df.head(10)"
   ]
  },
  {
   "cell_type": "code",
   "execution_count": 58,
   "metadata": {},
   "outputs": [
    {
     "data": {
      "text/html": [
       "<div>\n",
       "<style scoped>\n",
       "    .dataframe tbody tr th:only-of-type {\n",
       "        vertical-align: middle;\n",
       "    }\n",
       "\n",
       "    .dataframe tbody tr th {\n",
       "        vertical-align: top;\n",
       "    }\n",
       "\n",
       "    .dataframe thead th {\n",
       "        text-align: right;\n",
       "    }\n",
       "</style>\n",
       "<table border=\"1\" class=\"dataframe\">\n",
       "  <thead>\n",
       "    <tr style=\"text-align: right;\">\n",
       "      <th></th>\n",
       "      <th>period</th>\n",
       "      <th>orders</th>\n",
       "    </tr>\n",
       "  </thead>\n",
       "  <tbody>\n",
       "    <tr>\n",
       "      <th>0</th>\n",
       "      <td>2018-08-31</td>\n",
       "      <td>1</td>\n",
       "    </tr>\n",
       "    <tr>\n",
       "      <th>1</th>\n",
       "      <td>2018-09-18</td>\n",
       "      <td>1</td>\n",
       "    </tr>\n",
       "    <tr>\n",
       "      <th>2</th>\n",
       "      <td>2018-09-19</td>\n",
       "      <td>1</td>\n",
       "    </tr>\n",
       "    <tr>\n",
       "      <th>3</th>\n",
       "      <td>2018-09-24</td>\n",
       "      <td>2</td>\n",
       "    </tr>\n",
       "    <tr>\n",
       "      <th>4</th>\n",
       "      <td>2018-10-19</td>\n",
       "      <td>2</td>\n",
       "    </tr>\n",
       "    <tr>\n",
       "      <th>5</th>\n",
       "      <td>2018-10-30</td>\n",
       "      <td>2</td>\n",
       "    </tr>\n",
       "    <tr>\n",
       "      <th>6</th>\n",
       "      <td>2018-10-31</td>\n",
       "      <td>1</td>\n",
       "    </tr>\n",
       "    <tr>\n",
       "      <th>7</th>\n",
       "      <td>2018-11-26</td>\n",
       "      <td>1</td>\n",
       "    </tr>\n",
       "    <tr>\n",
       "      <th>8</th>\n",
       "      <td>2018-11-27</td>\n",
       "      <td>1</td>\n",
       "    </tr>\n",
       "    <tr>\n",
       "      <th>9</th>\n",
       "      <td>2018-11-30</td>\n",
       "      <td>3</td>\n",
       "    </tr>\n",
       "  </tbody>\n",
       "</table>\n",
       "</div>"
      ],
      "text/plain": [
       "       period  orders\n",
       "0  2018-08-31       1\n",
       "1  2018-09-18       1\n",
       "2  2018-09-19       1\n",
       "3  2018-09-24       2\n",
       "4  2018-10-19       2\n",
       "5  2018-10-30       2\n",
       "6  2018-10-31       1\n",
       "7  2018-11-26       1\n",
       "8  2018-11-27       1\n",
       "9  2018-11-30       3"
      ]
     },
     "execution_count": 58,
     "metadata": {},
     "output_type": "execute_result"
    }
   ],
   "source": [
    "train_df.head(10)"
   ]
  },
  {
   "cell_type": "code",
   "execution_count": 59,
   "metadata": {},
   "outputs": [
    {
     "name": "stdout",
     "output_type": "stream",
     "text": [
      "Performing stepwise search to minimize aic\n",
      " ARIMA(1,0,1)(1,0,1)[12] intercept   : AIC=inf, Time=0.93 sec\n",
      " ARIMA(0,0,0)(0,0,0)[12] intercept   : AIC=626.318, Time=0.01 sec\n",
      " ARIMA(1,0,0)(1,0,0)[12] intercept   : AIC=629.443, Time=0.06 sec\n",
      " ARIMA(0,0,1)(0,0,1)[12] intercept   : AIC=629.444, Time=0.08 sec\n",
      " ARIMA(0,0,0)(0,0,0)[12]             : AIC=761.007, Time=0.00 sec\n",
      " ARIMA(0,0,0)(1,0,0)[12] intercept   : AIC=627.613, Time=0.09 sec\n",
      " ARIMA(0,0,0)(0,0,1)[12] intercept   : AIC=627.605, Time=0.05 sec\n",
      " ARIMA(0,0,0)(1,0,1)[12] intercept   : AIC=inf, Time=0.32 sec\n",
      " ARIMA(1,0,0)(0,0,0)[12] intercept   : AIC=628.240, Time=0.02 sec\n",
      " ARIMA(0,0,1)(0,0,0)[12] intercept   : AIC=628.245, Time=0.02 sec\n",
      " ARIMA(1,0,1)(0,0,0)[12] intercept   : AIC=630.079, Time=0.04 sec\n",
      "\n",
      "Best model:  ARIMA(0,0,0)(0,0,0)[12] intercept\n",
      "Total fit time: 1.627 seconds\n"
     ]
    },
    {
     "name": "stderr",
     "output_type": "stream",
     "text": [
      "/opt/homebrew/lib/python3.11/site-packages/statsmodels/tsa/base/tsa_model.py:473: ValueWarning: A date index has been provided, but it has no associated frequency information and so will be ignored when e.g. forecasting.\n",
      "  self._init_dates(dates, freq)\n",
      "/opt/homebrew/lib/python3.11/site-packages/statsmodels/tsa/base/tsa_model.py:473: ValueWarning: A date index has been provided, but it has no associated frequency information and so will be ignored when e.g. forecasting.\n",
      "  self._init_dates(dates, freq)\n"
     ]
    }
   ],
   "source": [
    "import pmdarima as pmd\n",
    "from statsmodels.tsa.statespace.sarimax import SARIMAX\n",
    "\n",
    "model_autoarima = pmd.auto_arima(train_df['orders'],\n",
    "                     start_p=1,\n",
    "                     start_q=1,\n",
    "                     test='adf',\n",
    "                     m=12,\n",
    "                     seasonal=True,\n",
    "                     trace=True)\n",
    "\n",
    "\n",
    "model_autoarima = SARIMAX(endog = train_orders, order = (1, 1, 1), seasonal_order = (1, 1, 1, 12))\n",
    "modelo_res = model_autoarima.fit(disp=0)"
   ]
  },
  {
   "cell_type": "code",
   "execution_count": 60,
   "metadata": {},
   "outputs": [
    {
     "data": {
      "text/html": [
       "<div>\n",
       "<style scoped>\n",
       "    .dataframe tbody tr th:only-of-type {\n",
       "        vertical-align: middle;\n",
       "    }\n",
       "\n",
       "    .dataframe tbody tr th {\n",
       "        vertical-align: top;\n",
       "    }\n",
       "\n",
       "    .dataframe thead th {\n",
       "        text-align: right;\n",
       "    }\n",
       "</style>\n",
       "<table border=\"1\" class=\"dataframe\">\n",
       "  <thead>\n",
       "    <tr style=\"text-align: right;\">\n",
       "      <th></th>\n",
       "      <th>period</th>\n",
       "      <th>orders</th>\n",
       "    </tr>\n",
       "  </thead>\n",
       "  <tbody>\n",
       "    <tr>\n",
       "      <th>0</th>\n",
       "      <td>2024-01-23</td>\n",
       "      <td>1</td>\n",
       "    </tr>\n",
       "    <tr>\n",
       "      <th>1</th>\n",
       "      <td>2024-01-29</td>\n",
       "      <td>1</td>\n",
       "    </tr>\n",
       "    <tr>\n",
       "      <th>2</th>\n",
       "      <td>2024-01-31</td>\n",
       "      <td>2</td>\n",
       "    </tr>\n",
       "    <tr>\n",
       "      <th>3</th>\n",
       "      <td>2024-02-01</td>\n",
       "      <td>2</td>\n",
       "    </tr>\n",
       "    <tr>\n",
       "      <th>4</th>\n",
       "      <td>2024-02-19</td>\n",
       "      <td>2</td>\n",
       "    </tr>\n",
       "    <tr>\n",
       "      <th>5</th>\n",
       "      <td>2024-02-20</td>\n",
       "      <td>1</td>\n",
       "    </tr>\n",
       "    <tr>\n",
       "      <th>6</th>\n",
       "      <td>2024-02-22</td>\n",
       "      <td>1</td>\n",
       "    </tr>\n",
       "    <tr>\n",
       "      <th>7</th>\n",
       "      <td>2024-02-29</td>\n",
       "      <td>1</td>\n",
       "    </tr>\n",
       "    <tr>\n",
       "      <th>8</th>\n",
       "      <td>2024-04-23</td>\n",
       "      <td>2</td>\n",
       "    </tr>\n",
       "    <tr>\n",
       "      <th>9</th>\n",
       "      <td>2024-05-22</td>\n",
       "      <td>2</td>\n",
       "    </tr>\n",
       "  </tbody>\n",
       "</table>\n",
       "</div>"
      ],
      "text/plain": [
       "       period  orders\n",
       "0  2024-01-23       1\n",
       "1  2024-01-29       1\n",
       "2  2024-01-31       2\n",
       "3  2024-02-01       2\n",
       "4  2024-02-19       2\n",
       "5  2024-02-20       1\n",
       "6  2024-02-22       1\n",
       "7  2024-02-29       1\n",
       "8  2024-04-23       2\n",
       "9  2024-05-22       2"
      ]
     },
     "execution_count": 60,
     "metadata": {},
     "output_type": "execute_result"
    }
   ],
   "source": [
    "test_df.head(10)"
   ]
  },
  {
   "cell_type": "code",
   "execution_count": 61,
   "metadata": {},
   "outputs": [
    {
     "name": "stderr",
     "output_type": "stream",
     "text": [
      "/opt/homebrew/lib/python3.11/site-packages/statsmodels/tsa/base/tsa_model.py:836: ValueWarning: No supported index is available. Prediction results will be given with an integer index beginning at `start`.\n",
      "  return get_prediction_index(\n",
      "/opt/homebrew/lib/python3.11/site-packages/statsmodels/tsa/base/tsa_model.py:836: FutureWarning: No supported index is available. In the next version, calling this method in a model without a supported index will result in an exception.\n",
      "  return get_prediction_index(\n"
     ]
    }
   ],
   "source": [
    "predictions_statsmodels = modelo_res.get_forecast(steps=len(test_df)).predicted_mean.reset_index()['predicted_mean']"
   ]
  },
  {
   "cell_type": "code",
   "execution_count": 62,
   "metadata": {},
   "outputs": [
    {
     "data": {
      "text/html": [
       "<div>\n",
       "<style scoped>\n",
       "    .dataframe tbody tr th:only-of-type {\n",
       "        vertical-align: middle;\n",
       "    }\n",
       "\n",
       "    .dataframe tbody tr th {\n",
       "        vertical-align: top;\n",
       "    }\n",
       "\n",
       "    .dataframe thead th {\n",
       "        text-align: right;\n",
       "    }\n",
       "</style>\n",
       "<table border=\"1\" class=\"dataframe\">\n",
       "  <thead>\n",
       "    <tr style=\"text-align: right;\">\n",
       "      <th></th>\n",
       "      <th>period</th>\n",
       "      <th>orders</th>\n",
       "      <th>predicted</th>\n",
       "    </tr>\n",
       "  </thead>\n",
       "  <tbody>\n",
       "    <tr>\n",
       "      <th>0</th>\n",
       "      <td>2024-01-23</td>\n",
       "      <td>1</td>\n",
       "      <td>1.951513</td>\n",
       "    </tr>\n",
       "    <tr>\n",
       "      <th>1</th>\n",
       "      <td>2024-01-29</td>\n",
       "      <td>1</td>\n",
       "      <td>1.409295</td>\n",
       "    </tr>\n",
       "    <tr>\n",
       "      <th>2</th>\n",
       "      <td>2024-01-31</td>\n",
       "      <td>2</td>\n",
       "      <td>2.322767</td>\n",
       "    </tr>\n",
       "    <tr>\n",
       "      <th>3</th>\n",
       "      <td>2024-02-01</td>\n",
       "      <td>2</td>\n",
       "      <td>2.372901</td>\n",
       "    </tr>\n",
       "    <tr>\n",
       "      <th>4</th>\n",
       "      <td>2024-02-19</td>\n",
       "      <td>2</td>\n",
       "      <td>2.054120</td>\n",
       "    </tr>\n",
       "  </tbody>\n",
       "</table>\n",
       "</div>"
      ],
      "text/plain": [
       "       period  orders  predicted\n",
       "0  2024-01-23       1   1.951513\n",
       "1  2024-01-29       1   1.409295\n",
       "2  2024-01-31       2   2.322767\n",
       "3  2024-02-01       2   2.372901\n",
       "4  2024-02-19       2   2.054120"
      ]
     },
     "execution_count": 62,
     "metadata": {},
     "output_type": "execute_result"
    }
   ],
   "source": [
    "test_df['predicted'] = predictions_statsmodels\n",
    "test_df.head()"
   ]
  },
  {
   "cell_type": "code",
   "execution_count": 63,
   "metadata": {},
   "outputs": [
    {
     "data": {
      "text/html": [
       "<div>\n",
       "<style scoped>\n",
       "    .dataframe tbody tr th:only-of-type {\n",
       "        vertical-align: middle;\n",
       "    }\n",
       "\n",
       "    .dataframe tbody tr th {\n",
       "        vertical-align: top;\n",
       "    }\n",
       "\n",
       "    .dataframe thead th {\n",
       "        text-align: right;\n",
       "    }\n",
       "</style>\n",
       "<table border=\"1\" class=\"dataframe\">\n",
       "  <thead>\n",
       "    <tr style=\"text-align: right;\">\n",
       "      <th></th>\n",
       "      <th>period</th>\n",
       "      <th>variable</th>\n",
       "      <th>value</th>\n",
       "    </tr>\n",
       "  </thead>\n",
       "  <tbody>\n",
       "    <tr>\n",
       "      <th>0</th>\n",
       "      <td>2024-01-23</td>\n",
       "      <td>orders</td>\n",
       "      <td>1.000000</td>\n",
       "    </tr>\n",
       "    <tr>\n",
       "      <th>1</th>\n",
       "      <td>2024-01-29</td>\n",
       "      <td>orders</td>\n",
       "      <td>1.000000</td>\n",
       "    </tr>\n",
       "    <tr>\n",
       "      <th>2</th>\n",
       "      <td>2024-01-31</td>\n",
       "      <td>orders</td>\n",
       "      <td>2.000000</td>\n",
       "    </tr>\n",
       "    <tr>\n",
       "      <th>3</th>\n",
       "      <td>2024-02-01</td>\n",
       "      <td>orders</td>\n",
       "      <td>2.000000</td>\n",
       "    </tr>\n",
       "    <tr>\n",
       "      <th>4</th>\n",
       "      <td>2024-02-19</td>\n",
       "      <td>orders</td>\n",
       "      <td>2.000000</td>\n",
       "    </tr>\n",
       "    <tr>\n",
       "      <th>5</th>\n",
       "      <td>2024-02-20</td>\n",
       "      <td>orders</td>\n",
       "      <td>1.000000</td>\n",
       "    </tr>\n",
       "    <tr>\n",
       "      <th>6</th>\n",
       "      <td>2024-02-22</td>\n",
       "      <td>orders</td>\n",
       "      <td>1.000000</td>\n",
       "    </tr>\n",
       "    <tr>\n",
       "      <th>7</th>\n",
       "      <td>2024-02-29</td>\n",
       "      <td>orders</td>\n",
       "      <td>1.000000</td>\n",
       "    </tr>\n",
       "    <tr>\n",
       "      <th>8</th>\n",
       "      <td>2024-04-23</td>\n",
       "      <td>orders</td>\n",
       "      <td>2.000000</td>\n",
       "    </tr>\n",
       "    <tr>\n",
       "      <th>9</th>\n",
       "      <td>2024-05-22</td>\n",
       "      <td>orders</td>\n",
       "      <td>2.000000</td>\n",
       "    </tr>\n",
       "    <tr>\n",
       "      <th>10</th>\n",
       "      <td>2024-05-29</td>\n",
       "      <td>orders</td>\n",
       "      <td>4.000000</td>\n",
       "    </tr>\n",
       "    <tr>\n",
       "      <th>11</th>\n",
       "      <td>2024-06-24</td>\n",
       "      <td>orders</td>\n",
       "      <td>1.000000</td>\n",
       "    </tr>\n",
       "    <tr>\n",
       "      <th>12</th>\n",
       "      <td>2024-06-26</td>\n",
       "      <td>orders</td>\n",
       "      <td>2.000000</td>\n",
       "    </tr>\n",
       "    <tr>\n",
       "      <th>13</th>\n",
       "      <td>2024-06-27</td>\n",
       "      <td>orders</td>\n",
       "      <td>2.000000</td>\n",
       "    </tr>\n",
       "    <tr>\n",
       "      <th>14</th>\n",
       "      <td>2024-06-28</td>\n",
       "      <td>orders</td>\n",
       "      <td>1.000000</td>\n",
       "    </tr>\n",
       "    <tr>\n",
       "      <th>15</th>\n",
       "      <td>2024-06-29</td>\n",
       "      <td>orders</td>\n",
       "      <td>4.000000</td>\n",
       "    </tr>\n",
       "    <tr>\n",
       "      <th>16</th>\n",
       "      <td>2024-07-18</td>\n",
       "      <td>orders</td>\n",
       "      <td>2.000000</td>\n",
       "    </tr>\n",
       "    <tr>\n",
       "      <th>17</th>\n",
       "      <td>2024-07-19</td>\n",
       "      <td>orders</td>\n",
       "      <td>1.000000</td>\n",
       "    </tr>\n",
       "    <tr>\n",
       "      <th>18</th>\n",
       "      <td>2024-07-23</td>\n",
       "      <td>orders</td>\n",
       "      <td>1.000000</td>\n",
       "    </tr>\n",
       "    <tr>\n",
       "      <th>19</th>\n",
       "      <td>2024-08-21</td>\n",
       "      <td>orders</td>\n",
       "      <td>1.000000</td>\n",
       "    </tr>\n",
       "    <tr>\n",
       "      <th>20</th>\n",
       "      <td>2024-08-30</td>\n",
       "      <td>orders</td>\n",
       "      <td>2.000000</td>\n",
       "    </tr>\n",
       "    <tr>\n",
       "      <th>21</th>\n",
       "      <td>2024-08-31</td>\n",
       "      <td>orders</td>\n",
       "      <td>3.000000</td>\n",
       "    </tr>\n",
       "    <tr>\n",
       "      <th>22</th>\n",
       "      <td>2024-01-23</td>\n",
       "      <td>predicted</td>\n",
       "      <td>1.951513</td>\n",
       "    </tr>\n",
       "    <tr>\n",
       "      <th>23</th>\n",
       "      <td>2024-01-29</td>\n",
       "      <td>predicted</td>\n",
       "      <td>1.409295</td>\n",
       "    </tr>\n",
       "    <tr>\n",
       "      <th>24</th>\n",
       "      <td>2024-01-31</td>\n",
       "      <td>predicted</td>\n",
       "      <td>2.322767</td>\n",
       "    </tr>\n",
       "    <tr>\n",
       "      <th>25</th>\n",
       "      <td>2024-02-01</td>\n",
       "      <td>predicted</td>\n",
       "      <td>2.372901</td>\n",
       "    </tr>\n",
       "    <tr>\n",
       "      <th>26</th>\n",
       "      <td>2024-02-19</td>\n",
       "      <td>predicted</td>\n",
       "      <td>2.054120</td>\n",
       "    </tr>\n",
       "    <tr>\n",
       "      <th>27</th>\n",
       "      <td>2024-02-20</td>\n",
       "      <td>predicted</td>\n",
       "      <td>2.193696</td>\n",
       "    </tr>\n",
       "    <tr>\n",
       "      <th>28</th>\n",
       "      <td>2024-02-22</td>\n",
       "      <td>predicted</td>\n",
       "      <td>1.481553</td>\n",
       "    </tr>\n",
       "    <tr>\n",
       "      <th>29</th>\n",
       "      <td>2024-02-29</td>\n",
       "      <td>predicted</td>\n",
       "      <td>1.480183</td>\n",
       "    </tr>\n",
       "    <tr>\n",
       "      <th>30</th>\n",
       "      <td>2024-04-23</td>\n",
       "      <td>predicted</td>\n",
       "      <td>1.588859</td>\n",
       "    </tr>\n",
       "    <tr>\n",
       "      <th>31</th>\n",
       "      <td>2024-05-22</td>\n",
       "      <td>predicted</td>\n",
       "      <td>2.105842</td>\n",
       "    </tr>\n",
       "    <tr>\n",
       "      <th>32</th>\n",
       "      <td>2024-05-29</td>\n",
       "      <td>predicted</td>\n",
       "      <td>1.391240</td>\n",
       "    </tr>\n",
       "    <tr>\n",
       "      <th>33</th>\n",
       "      <td>2024-06-24</td>\n",
       "      <td>predicted</td>\n",
       "      <td>2.492049</td>\n",
       "    </tr>\n",
       "    <tr>\n",
       "      <th>34</th>\n",
       "      <td>2024-06-26</td>\n",
       "      <td>predicted</td>\n",
       "      <td>1.781829</td>\n",
       "    </tr>\n",
       "    <tr>\n",
       "      <th>35</th>\n",
       "      <td>2024-06-27</td>\n",
       "      <td>predicted</td>\n",
       "      <td>1.321792</td>\n",
       "    </tr>\n",
       "    <tr>\n",
       "      <th>36</th>\n",
       "      <td>2024-06-28</td>\n",
       "      <td>predicted</td>\n",
       "      <td>2.130032</td>\n",
       "    </tr>\n",
       "    <tr>\n",
       "      <th>37</th>\n",
       "      <td>2024-06-29</td>\n",
       "      <td>predicted</td>\n",
       "      <td>2.289329</td>\n",
       "    </tr>\n",
       "    <tr>\n",
       "      <th>38</th>\n",
       "      <td>2024-07-18</td>\n",
       "      <td>predicted</td>\n",
       "      <td>2.122104</td>\n",
       "    </tr>\n",
       "    <tr>\n",
       "      <th>39</th>\n",
       "      <td>2024-07-19</td>\n",
       "      <td>predicted</td>\n",
       "      <td>2.130719</td>\n",
       "    </tr>\n",
       "    <tr>\n",
       "      <th>40</th>\n",
       "      <td>2024-07-23</td>\n",
       "      <td>predicted</td>\n",
       "      <td>1.385495</td>\n",
       "    </tr>\n",
       "    <tr>\n",
       "      <th>41</th>\n",
       "      <td>2024-08-21</td>\n",
       "      <td>predicted</td>\n",
       "      <td>1.384282</td>\n",
       "    </tr>\n",
       "    <tr>\n",
       "      <th>42</th>\n",
       "      <td>2024-08-30</td>\n",
       "      <td>predicted</td>\n",
       "      <td>1.595390</td>\n",
       "    </tr>\n",
       "    <tr>\n",
       "      <th>43</th>\n",
       "      <td>2024-08-31</td>\n",
       "      <td>predicted</td>\n",
       "      <td>2.742485</td>\n",
       "    </tr>\n",
       "  </tbody>\n",
       "</table>\n",
       "</div>"
      ],
      "text/plain": [
       "        period   variable     value\n",
       "0   2024-01-23     orders  1.000000\n",
       "1   2024-01-29     orders  1.000000\n",
       "2   2024-01-31     orders  2.000000\n",
       "3   2024-02-01     orders  2.000000\n",
       "4   2024-02-19     orders  2.000000\n",
       "5   2024-02-20     orders  1.000000\n",
       "6   2024-02-22     orders  1.000000\n",
       "7   2024-02-29     orders  1.000000\n",
       "8   2024-04-23     orders  2.000000\n",
       "9   2024-05-22     orders  2.000000\n",
       "10  2024-05-29     orders  4.000000\n",
       "11  2024-06-24     orders  1.000000\n",
       "12  2024-06-26     orders  2.000000\n",
       "13  2024-06-27     orders  2.000000\n",
       "14  2024-06-28     orders  1.000000\n",
       "15  2024-06-29     orders  4.000000\n",
       "16  2024-07-18     orders  2.000000\n",
       "17  2024-07-19     orders  1.000000\n",
       "18  2024-07-23     orders  1.000000\n",
       "19  2024-08-21     orders  1.000000\n",
       "20  2024-08-30     orders  2.000000\n",
       "21  2024-08-31     orders  3.000000\n",
       "22  2024-01-23  predicted  1.951513\n",
       "23  2024-01-29  predicted  1.409295\n",
       "24  2024-01-31  predicted  2.322767\n",
       "25  2024-02-01  predicted  2.372901\n",
       "26  2024-02-19  predicted  2.054120\n",
       "27  2024-02-20  predicted  2.193696\n",
       "28  2024-02-22  predicted  1.481553\n",
       "29  2024-02-29  predicted  1.480183\n",
       "30  2024-04-23  predicted  1.588859\n",
       "31  2024-05-22  predicted  2.105842\n",
       "32  2024-05-29  predicted  1.391240\n",
       "33  2024-06-24  predicted  2.492049\n",
       "34  2024-06-26  predicted  1.781829\n",
       "35  2024-06-27  predicted  1.321792\n",
       "36  2024-06-28  predicted  2.130032\n",
       "37  2024-06-29  predicted  2.289329\n",
       "38  2024-07-18  predicted  2.122104\n",
       "39  2024-07-19  predicted  2.130719\n",
       "40  2024-07-23  predicted  1.385495\n",
       "41  2024-08-21  predicted  1.384282\n",
       "42  2024-08-30  predicted  1.595390\n",
       "43  2024-08-31  predicted  2.742485"
      ]
     },
     "execution_count": 63,
     "metadata": {},
     "output_type": "execute_result"
    }
   ],
   "source": [
    "# Plots the forecasts against the data\n",
    "melt_df = pd.melt(test_df, ['period'])\n",
    "melt_df"
   ]
  },
  {
   "cell_type": "code",
   "execution_count": 64,
   "metadata": {},
   "outputs": [
    {
     "data": {
      "image/png": "[encoded data removed]",
      "text/plain": [
       "<Figure size 640x480 with 1 Axes>"
      ]
     },
     "metadata": {},
     "output_type": "display_data"
    }
   ],
   "source": [
    "sns.lineplot(melt_df, x='period', y='value', hue='variable')\n",
    "plt.show()"
   ]
  },
  {
   "cell_type": "markdown",
   "metadata": {},
   "source": [
    "### Skforecast (es un wrapper de Statsmodels)"
   ]
  },
  {
   "cell_type": "code",
   "execution_count": 65,
   "metadata": {},
   "outputs": [],
   "source": [
    "from skforecast.Sarimax import Sarimax"
   ]
  },
  {
   "cell_type": "code",
   "execution_count": 66,
   "metadata": {},
   "outputs": [
    {
     "name": "stderr",
     "output_type": "stream",
     "text": [
      "/opt/homebrew/lib/python3.11/site-packages/statsmodels/tsa/base/tsa_model.py:473: ValueWarning: A date index has been provided, but it has no associated frequency information and so will be ignored when e.g. forecasting.\n",
      "  self._init_dates(dates, freq)\n",
      "/opt/homebrew/lib/python3.11/site-packages/statsmodels/tsa/base/tsa_model.py:473: ValueWarning: A date index has been provided, but it has no associated frequency information and so will be ignored when e.g. forecasting.\n",
      "  self._init_dates(dates, freq)\n"
     ]
    },
    {
     "data": {
      "text/html": [
       "<table class=\"simpletable\">\n",
       "<caption>SARIMAX Results</caption>\n",
       "<tr>\n",
       "  <th>Dep. Variable:</th>          <td>Phisical quantity</td>       <th>  No. Observations:  </th>    <td>154</td>  \n",
       "</tr>\n",
       "<tr>\n",
       "  <th>Model:</th>           <td>SARIMAX(1, 1, 1)x(1, 1, 1, 12)</td> <th>  Log Likelihood     </th> <td>-305.507</td>\n",
       "</tr>\n",
       "<tr>\n",
       "  <th>Date:</th>                   <td>Thu, 03 Oct 2024</td>        <th>  AIC                </th>  <td>621.015</td>\n",
       "</tr>\n",
       "<tr>\n",
       "  <th>Time:</th>                       <td>19:48:57</td>            <th>  BIC                </th>  <td>635.759</td>\n",
       "</tr>\n",
       "<tr>\n",
       "  <th>Sample:</th>                         <td>0</td>               <th>  HQIC               </th>  <td>627.006</td>\n",
       "</tr>\n",
       "<tr>\n",
       "  <th></th>                             <td> - 154</td>             <th>                     </th>     <td> </td>   \n",
       "</tr>\n",
       "<tr>\n",
       "  <th>Covariance Type:</th>               <td>opg</td>              <th>                     </th>     <td> </td>   \n",
       "</tr>\n",
       "</table>\n",
       "<table class=\"simpletable\">\n",
       "<tr>\n",
       "      <td></td>        <th>coef</th>     <th>std err</th>      <th>z</th>      <th>P>|z|</th>  <th>[0.025</th>    <th>0.975]</th>  \n",
       "</tr>\n",
       "<tr>\n",
       "  <th>ar.L1</th>    <td>   -0.0128</td> <td>    0.133</td> <td>   -0.097</td> <td> 0.923</td> <td>   -0.273</td> <td>    0.247</td>\n",
       "</tr>\n",
       "<tr>\n",
       "  <th>ma.L1</th>    <td>   -0.9993</td> <td>    2.074</td> <td>   -0.482</td> <td> 0.630</td> <td>   -5.065</td> <td>    3.066</td>\n",
       "</tr>\n",
       "<tr>\n",
       "  <th>ar.S.L12</th> <td>   -0.1149</td> <td>    0.101</td> <td>   -1.139</td> <td> 0.255</td> <td>   -0.313</td> <td>    0.083</td>\n",
       "</tr>\n",
       "<tr>\n",
       "  <th>ma.S.L12</th> <td>   -0.8355</td> <td>    0.166</td> <td>   -5.038</td> <td> 0.000</td> <td>   -1.161</td> <td>   -0.510</td>\n",
       "</tr>\n",
       "<tr>\n",
       "  <th>sigma2</th>   <td>    3.7606</td> <td>    7.879</td> <td>    0.477</td> <td> 0.633</td> <td>  -11.682</td> <td>   19.203</td>\n",
       "</tr>\n",
       "</table>\n",
       "<table class=\"simpletable\">\n",
       "<tr>\n",
       "  <th>Ljung-Box (L1) (Q):</th>     <td>0.00</td> <th>  Jarque-Bera (JB):  </th> <td>451.74</td>\n",
       "</tr>\n",
       "<tr>\n",
       "  <th>Prob(Q):</th>                <td>0.99</td> <th>  Prob(JB):          </th>  <td>0.00</td> \n",
       "</tr>\n",
       "<tr>\n",
       "  <th>Heteroskedasticity (H):</th> <td>0.58</td> <th>  Skew:              </th>  <td>2.15</td> \n",
       "</tr>\n",
       "<tr>\n",
       "  <th>Prob(H) (two-sided):</th>    <td>0.07</td> <th>  Kurtosis:          </th>  <td>10.64</td>\n",
       "</tr>\n",
       "</table><br/><br/>Warnings:<br/>[1] Covariance matrix calculated using the outer product of gradients (complex-step)."
      ],
      "text/latex": [
       "\\begin{center}\n",
       "\\begin{tabular}{lclc}\n",
       "\\toprule\n",
       "\\textbf{Dep. Variable:}          &       Phisical quantity        & \\textbf{  No. Observations:  } &    154      \\\\\n",
       "\\textbf{Model:}                  & SARIMAX(1, 1, 1)x(1, 1, 1, 12) & \\textbf{  Log Likelihood     } &  -305.507   \\\\\n",
       "\\textbf{Date:}                   &        Thu, 03 Oct 2024        & \\textbf{  AIC                } &  621.015    \\\\\n",
       "\\textbf{Time:}                   &            19:48:57            & \\textbf{  BIC                } &  635.759    \\\\\n",
       "\\textbf{Sample:}                 &               0                & \\textbf{  HQIC               } &  627.006    \\\\\n",
       "\\textbf{}                        &              - 154             & \\textbf{                     } &             \\\\\n",
       "\\textbf{Covariance Type:}        &              opg               & \\textbf{                     } &             \\\\\n",
       "\\bottomrule\n",
       "\\end{tabular}\n",
       "\\begin{tabular}{lcccccc}\n",
       "                  & \\textbf{coef} & \\textbf{std err} & \\textbf{z} & \\textbf{P$> |$z$|$} & \\textbf{[0.025} & \\textbf{0.975]}  \\\\\n",
       "\\midrule\n",
       "\\textbf{ar.L1}    &      -0.0128  &        0.133     &    -0.097  &         0.923        &       -0.273    &        0.247     \\\\\n",
       "\\textbf{ma.L1}    &      -0.9993  &        2.074     &    -0.482  &         0.630        &       -5.065    &        3.066     \\\\\n",
       "\\textbf{ar.S.L12} &      -0.1149  &        0.101     &    -1.139  &         0.255        &       -0.313    &        0.083     \\\\\n",
       "\\textbf{ma.S.L12} &      -0.8355  &        0.166     &    -5.038  &         0.000        &       -1.161    &       -0.510     \\\\\n",
       "\\textbf{sigma2}   &       3.7606  &        7.879     &     0.477  &         0.633        &      -11.682    &       19.203     \\\\\n",
       "\\bottomrule\n",
       "\\end{tabular}\n",
       "\\begin{tabular}{lclc}\n",
       "\\textbf{Ljung-Box (L1) (Q):}     & 0.00 & \\textbf{  Jarque-Bera (JB):  } & 451.74  \\\\\n",
       "\\textbf{Prob(Q):}                & 0.99 & \\textbf{  Prob(JB):          } &  0.00   \\\\\n",
       "\\textbf{Heteroskedasticity (H):} & 0.58 & \\textbf{  Skew:              } &  2.15   \\\\\n",
       "\\textbf{Prob(H) (two-sided):}    & 0.07 & \\textbf{  Kurtosis:          } & 10.64   \\\\\n",
       "\\bottomrule\n",
       "\\end{tabular}\n",
       "%\\caption{SARIMAX Results}\n",
       "\\end{center}\n",
       "\n",
       "Warnings: \\newline\n",
       " [1] Covariance matrix calculated using the outer product of gradients (complex-step)."
      ],
      "text/plain": [
       "<class 'statsmodels.iolib.summary.Summary'>\n",
       "\"\"\"\n",
       "                                     SARIMAX Results                                      \n",
       "==========================================================================================\n",
       "Dep. Variable:                  Phisical quantity   No. Observations:                  154\n",
       "Model:             SARIMAX(1, 1, 1)x(1, 1, 1, 12)   Log Likelihood                -305.507\n",
       "Date:                            Thu, 03 Oct 2024   AIC                            621.015\n",
       "Time:                                    19:48:57   BIC                            635.759\n",
       "Sample:                                         0   HQIC                           627.006\n",
       "                                            - 154                                         \n",
       "Covariance Type:                              opg                                         \n",
       "==============================================================================\n",
       "                 coef    std err          z      P>|z|      [0.025      0.975]\n",
       "------------------------------------------------------------------------------\n",
       "ar.L1         -0.0128      0.133     -0.097      0.923      -0.273       0.247\n",
       "ma.L1         -0.9993      2.074     -0.482      0.630      -5.065       3.066\n",
       "ar.S.L12      -0.1149      0.101     -1.139      0.255      -0.313       0.083\n",
       "ma.S.L12      -0.8355      0.166     -5.038      0.000      -1.161      -0.510\n",
       "sigma2         3.7606      7.879      0.477      0.633     -11.682      19.203\n",
       "===================================================================================\n",
       "Ljung-Box (L1) (Q):                   0.00   Jarque-Bera (JB):               451.74\n",
       "Prob(Q):                              0.99   Prob(JB):                         0.00\n",
       "Heteroskedasticity (H):               0.58   Skew:                             2.15\n",
       "Prob(H) (two-sided):                  0.07   Kurtosis:                        10.64\n",
       "===================================================================================\n",
       "\n",
       "Warnings:\n",
       "[1] Covariance matrix calculated using the outer product of gradients (complex-step).\n",
       "\"\"\""
      ]
     },
     "execution_count": 66,
     "metadata": {},
     "output_type": "execute_result"
    }
   ],
   "source": [
    "modelo_skforecast = Sarimax(order=(1, 1, 1), seasonal_order=(1, 1, 1, 12))\n",
    "modelo_skforecast.fit(y=train_orders)\n",
    "modelo_skforecast.summary()"
   ]
  },
  {
   "cell_type": "code",
   "execution_count": 67,
   "metadata": {},
   "outputs": [
    {
     "name": "stderr",
     "output_type": "stream",
     "text": [
      "/opt/homebrew/lib/python3.11/site-packages/statsmodels/tsa/base/tsa_model.py:836: ValueWarning: No supported index is available. Prediction results will be given with an integer index beginning at `start`.\n",
      "  return get_prediction_index(\n",
      "/opt/homebrew/lib/python3.11/site-packages/statsmodels/tsa/base/tsa_model.py:836: FutureWarning: No supported index is available. In the next version, calling this method in a model without a supported index will result in an exception.\n",
      "  return get_prediction_index(\n"
     ]
    },
    {
     "data": {
      "text/plain": [
       "0    1.951513\n",
       "1    1.409295\n",
       "2    2.322767\n",
       "3    2.372901\n",
       "4    2.054120\n",
       "5    2.193696\n",
       "6    1.481553\n",
       "7    1.480183\n",
       "8    1.588859\n",
       "9    2.105842\n",
       "Name: pred, dtype: float64"
      ]
     },
     "metadata": {},
     "output_type": "display_data"
    }
   ],
   "source": [
    "predictions_skforecast = modelo_skforecast.predict(steps=len(test_orders)).reset_index()['pred']\n",
    "display(predictions_skforecast.head(10))"
   ]
  },
  {
   "cell_type": "code",
   "execution_count": 68,
   "metadata": {},
   "outputs": [
    {
     "data": {
      "text/html": [
       "<div>\n",
       "<style scoped>\n",
       "    .dataframe tbody tr th:only-of-type {\n",
       "        vertical-align: middle;\n",
       "    }\n",
       "\n",
       "    .dataframe tbody tr th {\n",
       "        vertical-align: top;\n",
       "    }\n",
       "\n",
       "    .dataframe thead th {\n",
       "        text-align: right;\n",
       "    }\n",
       "</style>\n",
       "<table border=\"1\" class=\"dataframe\">\n",
       "  <thead>\n",
       "    <tr style=\"text-align: right;\">\n",
       "      <th></th>\n",
       "      <th>period</th>\n",
       "      <th>orders</th>\n",
       "      <th>predicted</th>\n",
       "    </tr>\n",
       "  </thead>\n",
       "  <tbody>\n",
       "    <tr>\n",
       "      <th>0</th>\n",
       "      <td>2024-01-23</td>\n",
       "      <td>1</td>\n",
       "      <td>1.951513</td>\n",
       "    </tr>\n",
       "    <tr>\n",
       "      <th>1</th>\n",
       "      <td>2024-01-29</td>\n",
       "      <td>1</td>\n",
       "      <td>1.409295</td>\n",
       "    </tr>\n",
       "    <tr>\n",
       "      <th>2</th>\n",
       "      <td>2024-01-31</td>\n",
       "      <td>2</td>\n",
       "      <td>2.322767</td>\n",
       "    </tr>\n",
       "    <tr>\n",
       "      <th>3</th>\n",
       "      <td>2024-02-01</td>\n",
       "      <td>2</td>\n",
       "      <td>2.372901</td>\n",
       "    </tr>\n",
       "    <tr>\n",
       "      <th>4</th>\n",
       "      <td>2024-02-19</td>\n",
       "      <td>2</td>\n",
       "      <td>2.054120</td>\n",
       "    </tr>\n",
       "  </tbody>\n",
       "</table>\n",
       "</div>"
      ],
      "text/plain": [
       "       period  orders  predicted\n",
       "0  2024-01-23       1   1.951513\n",
       "1  2024-01-29       1   1.409295\n",
       "2  2024-01-31       2   2.322767\n",
       "3  2024-02-01       2   2.372901\n",
       "4  2024-02-19       2   2.054120"
      ]
     },
     "execution_count": 68,
     "metadata": {},
     "output_type": "execute_result"
    }
   ],
   "source": [
    "test_df['predicted'] = predictions_skforecast\n",
    "melt_df = pd.melt(test_df, ['period'])\n",
    "test_df.head()"
   ]
  },
  {
   "cell_type": "code",
   "execution_count": 69,
   "metadata": {},
   "outputs": [
    {
     "data": {
      "image/png": "[encoded data removed]",
      "text/plain": [
       "<Figure size 640x480 with 1 Axes>"
      ]
     },
     "metadata": {},
     "output_type": "display_data"
    }
   ],
   "source": [
    "sns.lineplot(melt_df, x='period', y='value', hue='variable')\n",
    "plt.show()"
   ]
  },
  {
   "cell_type": "markdown",
   "metadata": {},
   "source": [
    "### Sarimax con pdmarima"
   ]
  },
  {
   "cell_type": "code",
   "execution_count": 70,
   "metadata": {},
   "outputs": [],
   "source": [
    "from pmdarima import ARIMA"
   ]
  },
  {
   "cell_type": "code",
   "execution_count": 71,
   "metadata": {},
   "outputs": [
    {
     "name": "stderr",
     "output_type": "stream",
     "text": [
      "/opt/homebrew/lib/python3.11/site-packages/statsmodels/tsa/base/tsa_model.py:473: ValueWarning: A date index has been provided, but it has no associated frequency information and so will be ignored when e.g. forecasting.\n",
      "  self._init_dates(dates, freq)\n",
      "/opt/homebrew/lib/python3.11/site-packages/statsmodels/tsa/base/tsa_model.py:473: ValueWarning: A date index has been provided, but it has no associated frequency information and so will be ignored when e.g. forecasting.\n",
      "  self._init_dates(dates, freq)\n"
     ]
    },
    {
     "data": {
      "text/html": [
       "<table class=\"simpletable\">\n",
       "<caption>SARIMAX Results</caption>\n",
       "<tr>\n",
       "  <th>Dep. Variable:</th>                  <td>y</td>               <th>  No. Observations:  </th>    <td>154</td>  \n",
       "</tr>\n",
       "<tr>\n",
       "  <th>Model:</th>           <td>SARIMAX(1, 1, 1)x(1, 1, 1, 12)</td> <th>  Log Likelihood     </th> <td>-305.704</td>\n",
       "</tr>\n",
       "<tr>\n",
       "  <th>Date:</th>                   <td>Thu, 03 Oct 2024</td>        <th>  AIC                </th>  <td>623.408</td>\n",
       "</tr>\n",
       "<tr>\n",
       "  <th>Time:</th>                       <td>19:49:18</td>            <th>  BIC                </th>  <td>641.101</td>\n",
       "</tr>\n",
       "<tr>\n",
       "  <th>Sample:</th>                         <td>0</td>               <th>  HQIC               </th>  <td>630.598</td>\n",
       "</tr>\n",
       "<tr>\n",
       "  <th></th>                             <td> - 154</td>             <th>                     </th>     <td> </td>   \n",
       "</tr>\n",
       "<tr>\n",
       "  <th>Covariance Type:</th>               <td>opg</td>              <th>                     </th>     <td> </td>   \n",
       "</tr>\n",
       "</table>\n",
       "<table class=\"simpletable\">\n",
       "<tr>\n",
       "      <td></td>         <th>coef</th>     <th>std err</th>      <th>z</th>      <th>P>|z|</th>  <th>[0.025</th>    <th>0.975]</th>  \n",
       "</tr>\n",
       "<tr>\n",
       "  <th>intercept</th> <td>   -0.0013</td> <td>    0.003</td> <td>   -0.403</td> <td> 0.687</td> <td>   -0.008</td> <td>    0.005</td>\n",
       "</tr>\n",
       "<tr>\n",
       "  <th>ar.L1</th>     <td>   -0.0132</td> <td>    0.142</td> <td>   -0.093</td> <td> 0.926</td> <td>   -0.291</td> <td>    0.264</td>\n",
       "</tr>\n",
       "<tr>\n",
       "  <th>ma.L1</th>     <td>   -0.9996</td> <td>    5.404</td> <td>   -0.185</td> <td> 0.853</td> <td>  -11.591</td> <td>    9.592</td>\n",
       "</tr>\n",
       "<tr>\n",
       "  <th>ar.S.L12</th>  <td>   -0.0602</td> <td>    0.096</td> <td>   -0.629</td> <td> 0.529</td> <td>   -0.248</td> <td>    0.127</td>\n",
       "</tr>\n",
       "<tr>\n",
       "  <th>ma.S.L12</th>  <td>   -0.9997</td> <td>   77.406</td> <td>   -0.013</td> <td> 0.990</td> <td> -152.713</td> <td>  150.714</td>\n",
       "</tr>\n",
       "<tr>\n",
       "  <th>sigma2</th>    <td>    3.3769</td> <td>  266.849</td> <td>    0.013</td> <td> 0.990</td> <td> -519.638</td> <td>  526.392</td>\n",
       "</tr>\n",
       "</table>\n",
       "<table class=\"simpletable\">\n",
       "<tr>\n",
       "  <th>Ljung-Box (L1) (Q):</th>     <td>0.02</td> <th>  Jarque-Bera (JB):  </th> <td>419.10</td>\n",
       "</tr>\n",
       "<tr>\n",
       "  <th>Prob(Q):</th>                <td>0.90</td> <th>  Prob(JB):          </th>  <td>0.00</td> \n",
       "</tr>\n",
       "<tr>\n",
       "  <th>Heteroskedasticity (H):</th> <td>0.62</td> <th>  Skew:              </th>  <td>2.10</td> \n",
       "</tr>\n",
       "<tr>\n",
       "  <th>Prob(H) (two-sided):</th>    <td>0.11</td> <th>  Kurtosis:          </th>  <td>10.33</td>\n",
       "</tr>\n",
       "</table><br/><br/>Warnings:<br/>[1] Covariance matrix calculated using the outer product of gradients (complex-step)."
      ],
      "text/latex": [
       "\\begin{center}\n",
       "\\begin{tabular}{lclc}\n",
       "\\toprule\n",
       "\\textbf{Dep. Variable:}          &               y                & \\textbf{  No. Observations:  } &    154      \\\\\n",
       "\\textbf{Model:}                  & SARIMAX(1, 1, 1)x(1, 1, 1, 12) & \\textbf{  Log Likelihood     } &  -305.704   \\\\\n",
       "\\textbf{Date:}                   &        Thu, 03 Oct 2024        & \\textbf{  AIC                } &  623.408    \\\\\n",
       "\\textbf{Time:}                   &            19:49:18            & \\textbf{  BIC                } &  641.101    \\\\\n",
       "\\textbf{Sample:}                 &               0                & \\textbf{  HQIC               } &  630.598    \\\\\n",
       "\\textbf{}                        &              - 154             & \\textbf{                     } &             \\\\\n",
       "\\textbf{Covariance Type:}        &              opg               & \\textbf{                     } &             \\\\\n",
       "\\bottomrule\n",
       "\\end{tabular}\n",
       "\\begin{tabular}{lcccccc}\n",
       "                   & \\textbf{coef} & \\textbf{std err} & \\textbf{z} & \\textbf{P$> |$z$|$} & \\textbf{[0.025} & \\textbf{0.975]}  \\\\\n",
       "\\midrule\n",
       "\\textbf{intercept} &      -0.0013  &        0.003     &    -0.403  &         0.687        &       -0.008    &        0.005     \\\\\n",
       "\\textbf{ar.L1}     &      -0.0132  &        0.142     &    -0.093  &         0.926        &       -0.291    &        0.264     \\\\\n",
       "\\textbf{ma.L1}     &      -0.9996  &        5.404     &    -0.185  &         0.853        &      -11.591    &        9.592     \\\\\n",
       "\\textbf{ar.S.L12}  &      -0.0602  &        0.096     &    -0.629  &         0.529        &       -0.248    &        0.127     \\\\\n",
       "\\textbf{ma.S.L12}  &      -0.9997  &       77.406     &    -0.013  &         0.990        &     -152.713    &      150.714     \\\\\n",
       "\\textbf{sigma2}    &       3.3769  &      266.849     &     0.013  &         0.990        &     -519.638    &      526.392     \\\\\n",
       "\\bottomrule\n",
       "\\end{tabular}\n",
       "\\begin{tabular}{lclc}\n",
       "\\textbf{Ljung-Box (L1) (Q):}     & 0.02 & \\textbf{  Jarque-Bera (JB):  } & 419.10  \\\\\n",
       "\\textbf{Prob(Q):}                & 0.90 & \\textbf{  Prob(JB):          } &  0.00   \\\\\n",
       "\\textbf{Heteroskedasticity (H):} & 0.62 & \\textbf{  Skew:              } &  2.10   \\\\\n",
       "\\textbf{Prob(H) (two-sided):}    & 0.11 & \\textbf{  Kurtosis:          } & 10.33   \\\\\n",
       "\\bottomrule\n",
       "\\end{tabular}\n",
       "%\\caption{SARIMAX Results}\n",
       "\\end{center}\n",
       "\n",
       "Warnings: \\newline\n",
       " [1] Covariance matrix calculated using the outer product of gradients (complex-step)."
      ],
      "text/plain": [
       "<class 'statsmodels.iolib.summary.Summary'>\n",
       "\"\"\"\n",
       "                                     SARIMAX Results                                      \n",
       "==========================================================================================\n",
       "Dep. Variable:                                  y   No. Observations:                  154\n",
       "Model:             SARIMAX(1, 1, 1)x(1, 1, 1, 12)   Log Likelihood                -305.704\n",
       "Date:                            Thu, 03 Oct 2024   AIC                            623.408\n",
       "Time:                                    19:49:18   BIC                            641.101\n",
       "Sample:                                         0   HQIC                           630.598\n",
       "                                            - 154                                         \n",
       "Covariance Type:                              opg                                         \n",
       "==============================================================================\n",
       "                 coef    std err          z      P>|z|      [0.025      0.975]\n",
       "------------------------------------------------------------------------------\n",
       "intercept     -0.0013      0.003     -0.403      0.687      -0.008       0.005\n",
       "ar.L1         -0.0132      0.142     -0.093      0.926      -0.291       0.264\n",
       "ma.L1         -0.9996      5.404     -0.185      0.853     -11.591       9.592\n",
       "ar.S.L12      -0.0602      0.096     -0.629      0.529      -0.248       0.127\n",
       "ma.S.L12      -0.9997     77.406     -0.013      0.990    -152.713     150.714\n",
       "sigma2         3.3769    266.849      0.013      0.990    -519.638     526.392\n",
       "===================================================================================\n",
       "Ljung-Box (L1) (Q):                   0.02   Jarque-Bera (JB):               419.10\n",
       "Prob(Q):                              0.90   Prob(JB):                         0.00\n",
       "Heteroskedasticity (H):               0.62   Skew:                             2.10\n",
       "Prob(H) (two-sided):                  0.11   Kurtosis:                        10.33\n",
       "===================================================================================\n",
       "\n",
       "Warnings:\n",
       "[1] Covariance matrix calculated using the outer product of gradients (complex-step).\n",
       "\"\"\""
      ]
     },
     "execution_count": 71,
     "metadata": {},
     "output_type": "execute_result"
    }
   ],
   "source": [
    "model_pdmarima = ARIMA(order=(1, 1, 1), seasonal_order=(1, 1, 1, 12))\n",
    "model_pdmarima.fit(y=train_orders)\n",
    "model_pdmarima.summary()"
   ]
  },
  {
   "cell_type": "code",
   "execution_count": 72,
   "metadata": {},
   "outputs": [
    {
     "name": "stderr",
     "output_type": "stream",
     "text": [
      "/opt/homebrew/lib/python3.11/site-packages/statsmodels/tsa/base/tsa_model.py:836: ValueWarning: No supported index is available. Prediction results will be given with an integer index beginning at `start`.\n",
      "  return get_prediction_index(\n",
      "/opt/homebrew/lib/python3.11/site-packages/statsmodels/tsa/base/tsa_model.py:836: FutureWarning: No supported index is available. In the next version, calling this method in a model without a supported index will result in an exception.\n",
      "  return get_prediction_index(\n"
     ]
    },
    {
     "data": {
      "text/plain": [
       "154    2.062874\n",
       "155    1.233246\n",
       "156    2.324015\n",
       "157    1.591725\n",
       "158    1.682199\n",
       "159    2.391496\n",
       "160    1.295388\n",
       "161    1.203954\n",
       "162    1.381381\n",
       "163    1.558641\n",
       "Name: predicciones_pdmarima, dtype: float64"
      ]
     },
     "execution_count": 72,
     "metadata": {},
     "output_type": "execute_result"
    }
   ],
   "source": [
    "predictions_pdmarima = model_pdmarima.predict(len(test_orders))\n",
    "predictions_pdmarima.name = 'predicciones_pdmarima'\n",
    "predictions_pdmarima.head(10)"
   ]
  },
  {
   "cell_type": "markdown",
   "metadata": {},
   "source": [
    "### Lightgbm"
   ]
  },
  {
   "cell_type": "code",
   "execution_count": null,
   "metadata": {},
   "outputs": [],
   "source": []
  },
  {
   "cell_type": "markdown",
   "metadata": {},
   "source": [
    "### Plots predicciones"
   ]
  },
  {
   "cell_type": "code",
   "execution_count": 73,
   "metadata": {},
   "outputs": [],
   "source": [
    "predictions_statsmodels.index = test_orders.index\n",
    "predictions_skforecast.index = test_orders.index\n",
    "predictions_pdmarima.index = test_orders.index"
   ]
  },
  {
   "cell_type": "code",
   "execution_count": 74,
   "metadata": {},
   "outputs": [
    {
     "data": {
      "image/png": "[encoded data removed]",
      "text/plain": [
       "<Figure size 700x300 with 1 Axes>"
      ]
     },
     "metadata": {},
     "output_type": "display_data"
    }
   ],
   "source": [
    "fig, ax = plt.subplots(figsize=(7, 3))\n",
    "train_orders.plot(ax=ax, label='train')\n",
    "test_orders.plot(ax=ax, label='test')\n",
    "predictions_skforecast.plot(ax=ax, label='skforecast')\n",
    "predictions_pdmarima.plot(ax=ax, label='pmdarima')\n",
    "ax.set_title('Predicciones con modelos ARIMA')\n",
    "ax.legend();"
   ]
  },
  {
   "cell_type": "markdown",
   "metadata": {},
   "source": [
    "### REF: https://cienciadedatos.net/documentos/py51-modelos-arima-sarimax-python"
   ]
  }
 ],
 "metadata": {
  "kernelspec": {
   "display_name": "Python 3",
   "language": "python",
   "name": "python3"
  },
  "language_info": {
   "codemirror_mode": {
    "name": "ipython",
    "version": 3
   },
   "file_extension": ".py",
   "mimetype": "text/x-python",
   "name": "python",
   "nbconvert_exporter": "python",
   "pygments_lexer": "ipython3",
   "version": "3.11.3"
  }
 },
 "nbformat": 4,
 "nbformat_minor": 2
}
