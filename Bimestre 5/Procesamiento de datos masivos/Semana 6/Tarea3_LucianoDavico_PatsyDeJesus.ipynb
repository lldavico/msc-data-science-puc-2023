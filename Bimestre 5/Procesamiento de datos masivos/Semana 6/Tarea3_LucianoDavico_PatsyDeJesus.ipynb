{
 "cells": [
  {
   "cell_type": "markdown",
   "metadata": {},
   "source": [
    "# Tarea 3 | Procesamiento de datos masivos\n",
    "---\n",
    "* **Luciano Davico**\n",
    "* **Patsy De Jesús**"
   ]
  },
  {
   "cell_type": "markdown",
   "metadata": {},
   "source": [
    "## Importamos los datos y librerías"
   ]
  },
  {
   "cell_type": "code",
   "execution_count": 2,
   "metadata": {},
   "outputs": [
    {
     "data": {
      "text/plain": [
       "4140"
      ]
     },
     "execution_count": 2,
     "metadata": {},
     "output_type": "execute_result"
    }
   ],
   "source": [
    "import csv\n",
    "\n",
    "file_name = 'canastas_tarea_3.csv'\n",
    "\n",
    "with open(file_name, 'r', newline='', encoding='utf-8') as csvfile:\n",
    "    reader = csv.reader(csvfile)\n",
    "    datos = [tuple(row) for row in reader]\n",
    "\n",
    "len(datos)"
   ]
  },
  {
   "cell_type": "code",
   "execution_count": 3,
   "metadata": {},
   "outputs": [],
   "source": [
    "from efficient_apriori import apriori "
   ]
  },
  {
   "cell_type": "markdown",
   "metadata": {},
   "source": [
    "## 1. 10 reglas de asociación más relevantes\n",
    "\n",
    "un programa que imprima en pantalla las 10 reglas de asociación con mayor soporte, siempre   y cuando tengan una confianza mayor a 0.1-."
   ]
  },
  {
   "cell_type": "code",
   "execution_count": 4,
   "metadata": {},
   "outputs": [
    {
     "name": "stdout",
     "output_type": "stream",
     "text": [
      "min_sup:  0.015\n",
      "itemsets:  4\n",
      "rules:  4130\n",
      "-------------------\n",
      "min_sup:  0.02\n",
      "itemsets:  4\n",
      "rules:  566\n",
      "-------------------\n",
      "min_sup:  0.025\n",
      "itemsets:  4\n",
      "rules:  194\n",
      "-------------------\n",
      "min_sup:  0.03\n",
      "itemsets:  3\n",
      "rules:  96\n",
      "-------------------\n",
      "min_sup:  0.035\n",
      "itemsets:  2\n",
      "rules:  16\n",
      "-------------------\n",
      "min_sup:  0.04\n",
      "itemsets:  2\n",
      "rules:  6\n",
      "-------------------\n"
     ]
    }
   ],
   "source": [
    "# Iteramos por niveles de minimo soporte de cada regla\n",
    "min_conf = 0.11\n",
    "init_min_sup = 0.01\n",
    "\n",
    "for i in range(1, 10):\n",
    "    min_sup = init_min_sup + i * 0.005\n",
    "    print('min_sup: ', min_sup)\n",
    "    itemsets, rules = apriori(datos, min_support=min_sup, min_confidence=min_conf)\n",
    "    print('itemsets: ', len(itemsets))\n",
    "    print('rules: ', len(rules))\n",
    "    print('-------------------')\n",
    "    if len(rules) < 10:\n",
    "        break\n"
   ]
  },
  {
   "cell_type": "code",
   "execution_count": 5,
   "metadata": {},
   "outputs": [
    {
     "name": "stdout",
     "output_type": "stream",
     "text": [
      "min_sup:  0.036000000000000004\n",
      "itemsets:  2\n",
      "rules:  10\n",
      "-------------------\n",
      "min_sup:  0.037000000000000005\n",
      "itemsets:  2\n",
      "rules:  8\n",
      "-------------------\n"
     ]
    }
   ],
   "source": [
    "# Vemos que entre un soporte mínimo de 0.035 y 0.04 pasamos de tener 16 a 6 reglas, por lo que iteramos\n",
    "for i in range(1, 10):\n",
    "    min_sup = 0.035 + i * 0.001\n",
    "    print('min_sup: ', min_sup)\n",
    "    itemsets, rules = apriori(datos, min_support=min_sup, min_confidence=min_conf)\n",
    "    print('itemsets: ', len(itemsets))\n",
    "    print('rules: ', len(rules))\n",
    "    print('-------------------')\n",
    "    if len(rules) < 10:\n",
    "        break"
   ]
  },
  {
   "cell_type": "markdown",
   "metadata": {},
   "source": [
    "Nos quedamos con el nivel óptimo de soporte mínimo, siendo `0.036`"
   ]
  },
  {
   "cell_type": "code",
   "execution_count": 6,
   "metadata": {},
   "outputs": [
    {
     "name": "stdout",
     "output_type": "stream",
     "text": [
      "{sal} -> {coliflor} (conf: 0.301, supp: 0.036, lift: 2.501, conv: 1.258)\n",
      "{coliflor} -> {sal} (conf: 0.303, supp: 0.036, lift: 2.501, conv: 1.261)\n",
      "{vinagre} -> {laurel} (conf: 0.311, supp: 0.037, lift: 3.812, conv: 1.333)\n",
      "{laurel} -> {vinagre} (conf: 0.459, supp: 0.037, lift: 3.812, conv: 1.625)\n",
      "{papayas} -> {maíz} (conf: 0.450, supp: 0.044, lift: 3.902, conv: 1.608)\n",
      "{maíz} -> {papayas} (conf: 0.384, supp: 0.044, lift: 3.902, conv: 1.463)\n",
      "{zanahorias} -> {plátanos} (conf: 0.462, supp: 0.043, lift: 3.747, conv: 1.628)\n",
      "{plátanos} -> {zanahorias} (conf: 0.353, supp: 0.043, lift: 3.747, conv: 1.400)\n",
      "{vinagre} -> {sal} (conf: 0.384, supp: 0.046, lift: 3.163, conv: 1.425)\n",
      "{sal} -> {vinagre} (conf: 0.380, supp: 0.046, lift: 3.163, conv: 1.420)\n"
     ]
    }
   ],
   "source": [
    "min_sup = 0.036\n",
    "min_conf = 0.11\n",
    "itemsets, rules = apriori(datos, min_support=min_sup, min_confidence=min_conf)\n",
    "\n",
    "for rule in rules:\n",
    "    print(rule)"
   ]
  },
  {
   "cell_type": "code",
   "execution_count": 7,
   "metadata": {},
   "outputs": [
    {
     "data": {
      "text/plain": [
       "2"
      ]
     },
     "execution_count": 7,
     "metadata": {},
     "output_type": "execute_result"
    }
   ],
   "source": [
    "len(itemsets)"
   ]
  },
  {
   "cell_type": "markdown",
   "metadata": {},
   "source": [
    "## 2. Cálculo del interés de las reglas\n",
    "\n",
    "Define el interés de una regla I -> j como la diferencia (S – F) entre el soporte de la regla (S) y la proporción (F) de canastas que contienen j en relación al total de canastas. Escribe un programa que calcule el interés de las 10 reglas que se encontraron en el punto 1-."
   ]
  },
  {
   "cell_type": "code",
   "execution_count": 8,
   "metadata": {},
   "outputs": [],
   "source": [
    "def compute_rule_interest(rule, itemsets):\n",
    "    '''\n",
    "    Función que calcula el interés de una regla.\n",
    "\n",
    "    Interés de una regla: soporte de la regla I -> J menos proporcion F de itemsets que \n",
    "    contienen j en relacion al total de itemsets\n",
    "    '''\n",
    "    rule_support = rule.support\n",
    "    \n",
    "    j_support = 0\n",
    "    itemsets = [set(i) for i in itemsets]\n",
    "    for itemset in itemsets:\n",
    "        j_set = set(rule.rhs)\n",
    "        if j_set.issubset(itemset):\n",
    "            j_support += 1\n",
    "\n",
    "    F_ratio = j_support / len(itemsets)\n",
    "    print(f'Support: {rule_support}, F_ratio: {F_ratio}')\n",
    "    return rule_support - F_ratio, F_ratio"
   ]
  },
  {
   "cell_type": "markdown",
   "metadata": {},
   "source": [
    "### Interés de cada regla"
   ]
  },
  {
   "cell_type": "code",
   "execution_count": 18,
   "metadata": {},
   "outputs": [
    {
     "name": "stdout",
     "output_type": "stream",
     "text": [
      "Support: 0.03647342995169082, F_ratio: 0.12028985507246377\n",
      "Rule {sal} -> {coliflor} (conf: 0.301, supp: 0.036, lift: 2.501, conv: 1.258) has interest -0.08381642512077295 and F_ratio 0.12028985507246377\n",
      "\n",
      "Support: 0.03647342995169082, F_ratio: 0.121256038647343\n",
      "Rule {coliflor} -> {sal} (conf: 0.303, supp: 0.036, lift: 2.501, conv: 1.261) has interest -0.08478260869565218 and F_ratio 0.121256038647343\n",
      "\n",
      "Support: 0.03743961352657005, F_ratio: 0.08164251207729468\n",
      "Rule {vinagre} -> {laurel} (conf: 0.311, supp: 0.037, lift: 3.812, conv: 1.333) has interest -0.04420289855072464 and F_ratio 0.08164251207729468\n",
      "\n",
      "Support: 0.03743961352657005, F_ratio: 0.12028985507246377\n",
      "Rule {laurel} -> {vinagre} (conf: 0.459, supp: 0.037, lift: 3.812, conv: 1.625) has interest -0.08285024154589372 and F_ratio 0.12028985507246377\n",
      "\n",
      "Support: 0.04420289855072464, F_ratio: 0.11521739130434783\n",
      "Rule {papayas} -> {maíz} (conf: 0.450, supp: 0.044, lift: 3.902, conv: 1.608) has interest -0.07101449275362319 and F_ratio 0.11521739130434783\n",
      "\n",
      "Support: 0.04420289855072464, F_ratio: 0.09830917874396135\n",
      "Rule {maíz} -> {papayas} (conf: 0.384, supp: 0.044, lift: 3.902, conv: 1.463) has interest -0.05410628019323671 and F_ratio 0.09830917874396135\n",
      "\n",
      "Support: 0.043478260869565216, F_ratio: 0.12318840579710146\n",
      "Rule {zanahorias} -> {plátanos} (conf: 0.462, supp: 0.043, lift: 3.747, conv: 1.628) has interest -0.07971014492753624 and F_ratio 0.12318840579710146\n",
      "\n",
      "Support: 0.043478260869565216, F_ratio: 0.09420289855072464\n",
      "Rule {plátanos} -> {zanahorias} (conf: 0.353, supp: 0.043, lift: 3.747, conv: 1.400) has interest -0.050724637681159424 and F_ratio 0.09420289855072464\n",
      "\n",
      "Support: 0.04613526570048309, F_ratio: 0.121256038647343\n",
      "Rule {vinagre} -> {sal} (conf: 0.384, supp: 0.046, lift: 3.163, conv: 1.425) has interest -0.0751207729468599 and F_ratio 0.121256038647343\n",
      "\n",
      "Support: 0.04613526570048309, F_ratio: 0.12028985507246377\n",
      "Rule {sal} -> {vinagre} (conf: 0.380, supp: 0.046, lift: 3.163, conv: 1.420) has interest -0.07415458937198069 and F_ratio 0.12028985507246377\n",
      "\n"
     ]
    }
   ],
   "source": [
    "# Iteramos por cada regla y calculamos su interés\n",
    "interests = []\n",
    "for rule in rules:\n",
    "    interest, F_ratio = compute_rule_interest(rule, datos)\n",
    "    print(f'Rule {rule} has interest {interest} and F_ratio {F_ratio}')\n",
    "    print()\n",
    "    interests.append((interest, F_ratio, rule, f'{rule.lhs} -> {rule.rhs}'))"
   ]
  },
  {
   "cell_type": "markdown",
   "metadata": {},
   "source": [
    "## 3. Discusión\n",
    "\n",
    "Imagina que el supermercado tiene un plan en el que solo puede tomar acción en base a dos reglas en particular. De las 10 reglas que se imprimieron, analiza y selecciona las dos reglas que consideres más beneficiosas para el supermercado. Explica las razones por las que crees que estas dos reglas pueden tener un mayor impacto y cómo podrían ayudar al supermercado en su estrategia de ventas o toma de decisiones."
   ]
  },
  {
   "cell_type": "markdown",
   "metadata": {},
   "source": [
    "### Respuesta"
   ]
  },
  {
   "cell_type": "markdown",
   "metadata": {},
   "source": [
    "Dados los datos de interés y otras métricas de cada regla que hemos obtenido, podemos analizar la relevancia de ciertas métricas que prevalezcan para la elección de reglas.\n",
    "\n",
    "En primer lugar, podemos ver primero pensar en considerar las reglas que tengan una mayor confianza. Para este caso, quizás la confianza podría no ser un indicador tan decisivo, dado que podría darse el caso que el elemento de la derecha sea muy frecuente en el total de las canastas, lo cual daría una confianza alta. Para lo anterior, podemos combinarla con el dato de la proporción `F`, el cual nos indica justamente la proporción de casos en que `j` está contenido en todas las canastas.\n",
    "\n",
    "Con lo anterior, podemos hacer un primer descarte, solo considerando los ítemes que tengan alta confianza y baja proporción F."
   ]
  },
  {
   "cell_type": "code",
   "execution_count": 31,
   "metadata": {},
   "outputs": [
    {
     "name": "stderr",
     "output_type": "stream",
     "text": [
      "No artists with labels found to put in legend.  Note that artists whose label start with an underscore are ignored when legend() is called with no argument.\n"
     ]
    },
    {
     "data": {
      "text/plain": [
       "<matplotlib.legend.Legend at 0x29fd70190>"
      ]
     },
     "execution_count": 31,
     "metadata": {},
     "output_type": "execute_result"
    },
    {
     "data": {
      "image/png": "[encoded data removed]",
      "text/plain": [
       "<Figure size 1170x827 with 1 Axes>"
      ]
     },
     "metadata": {},
     "output_type": "display_data"
    }
   ],
   "source": [
    "import seaborn as sns\n",
    "\n",
    "# Graficamos confianza versus proporción F\n",
    "ax = sns.scatterplot(x=[interest[2].confidence for interest in interests], y=[interest[1] for interest in interests])\n",
    "ax.set_title('Confidence vs F ratio')\n",
    "ax.set_xlabel('Confidence')\n",
    "ax.set_ylabel('F ratio')\n",
    "ax.legend()"
   ]
  },
  {
   "cell_type": "markdown",
   "metadata": {},
   "source": [
    "Para lo anterior, se logra ver con claridad que todos los ítemes de la derecha de cada regla tienen una proporción `F` baja, entre `0.08` y `0.12` aproximadamente, pero la confianza de las reglas tiene una variación más importante, entre 30% y 50%. Se puede entonces ver que en nuestras 10 reglas de asociación, el elemento de la derecha es poco común que aparezca en las compras, estando como máximo en un 13% de las compras. Dicho eso, a modo de interpretar, podemos comentar que **en todas nuestras reglas, el nuevo producto a \"ofrecer\" es un producto poco común**. Con lo anterior, entonces la elección de las mejores reglas se toma en base a aquellas que tengan la mayor probabilidad estimada de que el usuario \"eche\" cierto producto a su canasta, dado otros elementos ya existentes en su carro. Para lo anterior entonces **consideraremos las reglas con mayor confianza**, escogiendo así las canastas de más a la derecha.\n",
    "\n",
    "En el código siguiente observamos cuales son dichas reglas."
   ]
  },
  {
   "cell_type": "code",
   "execution_count": 36,
   "metadata": {},
   "outputs": [
    {
     "name": "stdout",
     "output_type": "stream",
     "text": [
      "{zanahorias} -> {plátanos} (conf: 0.462, supp: 0.043, lift: 3.747, conv: 1.628) Interest: -0.07971014492753624, F_ratio: 0.12318840579710146\n",
      "{laurel} -> {vinagre} (conf: 0.459, supp: 0.037, lift: 3.812, conv: 1.625) Interest: -0.08285024154589372, F_ratio: 0.12028985507246377\n"
     ]
    }
   ],
   "source": [
    "max_confidence_rules = sorted(interests, key=lambda x: x[2].confidence, reverse=True)[:2]\n",
    "for rule in max_confidence_rules:\n",
    "    print(rule[2], f'Interest: {rule[0]}, F_ratio: {rule[1]}')"
   ]
  },
  {
   "cell_type": "markdown",
   "metadata": {},
   "source": [
    "Luego, nos quedamos entonces con las reglas `{zanahorias} -> {plátanos}` y `{laurel} -> {vinagre}`."
   ]
  }
 ],
 "metadata": {
  "kernelspec": {
   "display_name": "Python 3",
   "language": "python",
   "name": "python3"
  },
  "language_info": {
   "codemirror_mode": {
    "name": "ipython",
    "version": 3
   },
   "file_extension": ".py",
   "mimetype": "text/x-python",
   "name": "python",
   "nbconvert_exporter": "python",
   "pygments_lexer": "ipython3",
   "version": "3.11.3"
  }
 },
 "nbformat": 4,
 "nbformat_minor": 2
}
