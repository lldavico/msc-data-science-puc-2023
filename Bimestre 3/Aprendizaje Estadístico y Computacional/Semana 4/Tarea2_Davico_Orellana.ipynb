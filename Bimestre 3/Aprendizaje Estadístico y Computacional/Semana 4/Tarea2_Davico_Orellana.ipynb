{
  "cells": [
    {
      "cell_type": "markdown",
      "metadata": {
        "id": "t3eFXvqhHCzW"
      },
      "source": [
        "# Tarea 2 | Pregunta 1 | Aprendizaje Estadístico y Computacional\n",
        "---\n",
        "#### Luciano Davico\n",
        "#### Richard Orellana"
      ]
    },
    {
      "cell_type": "markdown",
      "metadata": {
        "id": "YLPZd8NmHCzZ"
      },
      "source": [
        "## Caso 1: Dataset 'ozone'"
      ]
    },
    {
      "cell_type": "markdown",
      "metadata": {
        "id": "TJI_oluxHCza"
      },
      "source": [
        "Importamos el dataset 'ozone'"
      ]
    },
    {
      "cell_type": "code",
      "execution_count": 4,
      "metadata": {
        "colab": {
          "base_uri": "https://localhost:8080/"
        },
        "id": "oDmxT6UTITM3",
        "outputId": "545c56d6-802f-4dac-a7e5-8437a31a1561"
      },
      "outputs": [
        {
          "name": "stdout",
          "output_type": "stream",
          "text": [
            "Requirement already satisfied: faraway in /opt/homebrew/lib/python3.11/site-packages (0.0.6)\n",
            "\n",
            "\u001b[1m[\u001b[0m\u001b[34;49mnotice\u001b[0m\u001b[1;39;49m]\u001b[0m\u001b[39;49m A new release of pip is available: \u001b[0m\u001b[31;49m23.0.1\u001b[0m\u001b[39;49m -> \u001b[0m\u001b[32;49m23.2.1\u001b[0m\n",
            "\u001b[1m[\u001b[0m\u001b[34;49mnotice\u001b[0m\u001b[1;39;49m]\u001b[0m\u001b[39;49m To update, run: \u001b[0m\u001b[32;49mpython3.11 -m pip install --upgrade pip\u001b[0m\n"
          ]
        }
      ],
      "source": [
        "!pip install faraway"
      ]
    },
    {
      "cell_type": "markdown",
      "metadata": {
        "id": "KS-mKS58U_JY"
      },
      "source": [
        "Importamos las librerías"
      ]
    },
    {
      "cell_type": "code",
      "execution_count": 5,
      "metadata": {
        "id": "VZ_NE4IOHCza"
      },
      "outputs": [],
      "source": [
        "import pandas as pd\n",
        "import numpy as np\n",
        "import seaborn as sns\n",
        "from sklearn.model_selection import train_test_split, cross_val_score\n",
        "from sklearn.metrics import (accuracy_score, recall_score, precision_score, f1_score,\n",
        "    roc_auc_score, confusion_matrix\n",
        ")\n",
        "from sklearn.preprocessing import StandardScaler\n",
        "from faraway.datasets import ozone"
      ]
    },
    {
      "cell_type": "markdown",
      "metadata": {
        "id": "q8khpXQsVFLu"
      },
      "source": [
        "Creamos el DF"
      ]
    },
    {
      "cell_type": "code",
      "execution_count": 7,
      "metadata": {
        "colab": {
          "base_uri": "https://localhost:8080/",
          "height": 1000
        },
        "id": "CY_iF0EOHCzb",
        "outputId": "3589597c-a509-4357-df27-869fc40dc4fd"
      },
      "outputs": [
        {
          "data": {
            "text/html": [
              "<div>\n",
              "<style scoped>\n",
              "    .dataframe tbody tr th:only-of-type {\n",
              "        vertical-align: middle;\n",
              "    }\n",
              "\n",
              "    .dataframe tbody tr th {\n",
              "        vertical-align: top;\n",
              "    }\n",
              "\n",
              "    .dataframe thead th {\n",
              "        text-align: right;\n",
              "    }\n",
              "</style>\n",
              "<table border=\"1\" class=\"dataframe\">\n",
              "  <thead>\n",
              "    <tr style=\"text-align: right;\">\n",
              "      <th></th>\n",
              "      <th>O3</th>\n",
              "      <th>vh</th>\n",
              "      <th>wind</th>\n",
              "      <th>humidity</th>\n",
              "      <th>temp</th>\n",
              "      <th>ibh</th>\n",
              "      <th>dpg</th>\n",
              "      <th>ibt</th>\n",
              "      <th>vis</th>\n",
              "      <th>doy</th>\n",
              "    </tr>\n",
              "  </thead>\n",
              "  <tbody>\n",
              "    <tr>\n",
              "      <th>0</th>\n",
              "      <td>3</td>\n",
              "      <td>5710</td>\n",
              "      <td>4</td>\n",
              "      <td>28</td>\n",
              "      <td>40</td>\n",
              "      <td>2693</td>\n",
              "      <td>-25</td>\n",
              "      <td>87</td>\n",
              "      <td>250</td>\n",
              "      <td>33</td>\n",
              "    </tr>\n",
              "    <tr>\n",
              "      <th>1</th>\n",
              "      <td>5</td>\n",
              "      <td>5700</td>\n",
              "      <td>3</td>\n",
              "      <td>37</td>\n",
              "      <td>45</td>\n",
              "      <td>590</td>\n",
              "      <td>-24</td>\n",
              "      <td>128</td>\n",
              "      <td>100</td>\n",
              "      <td>34</td>\n",
              "    </tr>\n",
              "    <tr>\n",
              "      <th>2</th>\n",
              "      <td>5</td>\n",
              "      <td>5760</td>\n",
              "      <td>3</td>\n",
              "      <td>51</td>\n",
              "      <td>54</td>\n",
              "      <td>1450</td>\n",
              "      <td>25</td>\n",
              "      <td>139</td>\n",
              "      <td>60</td>\n",
              "      <td>35</td>\n",
              "    </tr>\n",
              "    <tr>\n",
              "      <th>3</th>\n",
              "      <td>6</td>\n",
              "      <td>5720</td>\n",
              "      <td>4</td>\n",
              "      <td>69</td>\n",
              "      <td>35</td>\n",
              "      <td>1568</td>\n",
              "      <td>15</td>\n",
              "      <td>121</td>\n",
              "      <td>60</td>\n",
              "      <td>36</td>\n",
              "    </tr>\n",
              "    <tr>\n",
              "      <th>4</th>\n",
              "      <td>4</td>\n",
              "      <td>5790</td>\n",
              "      <td>6</td>\n",
              "      <td>19</td>\n",
              "      <td>45</td>\n",
              "      <td>2631</td>\n",
              "      <td>-33</td>\n",
              "      <td>123</td>\n",
              "      <td>100</td>\n",
              "      <td>37</td>\n",
              "    </tr>\n",
              "    <tr>\n",
              "      <th>...</th>\n",
              "      <td>...</td>\n",
              "      <td>...</td>\n",
              "      <td>...</td>\n",
              "      <td>...</td>\n",
              "      <td>...</td>\n",
              "      <td>...</td>\n",
              "      <td>...</td>\n",
              "      <td>...</td>\n",
              "      <td>...</td>\n",
              "      <td>...</td>\n",
              "    </tr>\n",
              "    <tr>\n",
              "      <th>325</th>\n",
              "      <td>8</td>\n",
              "      <td>5630</td>\n",
              "      <td>4</td>\n",
              "      <td>50</td>\n",
              "      <td>50</td>\n",
              "      <td>2851</td>\n",
              "      <td>-5</td>\n",
              "      <td>100</td>\n",
              "      <td>70</td>\n",
              "      <td>384</td>\n",
              "    </tr>\n",
              "    <tr>\n",
              "      <th>326</th>\n",
              "      <td>2</td>\n",
              "      <td>5730</td>\n",
              "      <td>3</td>\n",
              "      <td>53</td>\n",
              "      <td>51</td>\n",
              "      <td>111</td>\n",
              "      <td>-14</td>\n",
              "      <td>225</td>\n",
              "      <td>200</td>\n",
              "      <td>387</td>\n",
              "    </tr>\n",
              "    <tr>\n",
              "      <th>327</th>\n",
              "      <td>3</td>\n",
              "      <td>5690</td>\n",
              "      <td>3</td>\n",
              "      <td>23</td>\n",
              "      <td>51</td>\n",
              "      <td>5000</td>\n",
              "      <td>-36</td>\n",
              "      <td>107</td>\n",
              "      <td>70</td>\n",
              "      <td>388</td>\n",
              "    </tr>\n",
              "    <tr>\n",
              "      <th>328</th>\n",
              "      <td>5</td>\n",
              "      <td>5650</td>\n",
              "      <td>3</td>\n",
              "      <td>61</td>\n",
              "      <td>50</td>\n",
              "      <td>3704</td>\n",
              "      <td>18</td>\n",
              "      <td>83</td>\n",
              "      <td>40</td>\n",
              "      <td>389</td>\n",
              "    </tr>\n",
              "    <tr>\n",
              "      <th>329</th>\n",
              "      <td>1</td>\n",
              "      <td>5550</td>\n",
              "      <td>4</td>\n",
              "      <td>85</td>\n",
              "      <td>39</td>\n",
              "      <td>5000</td>\n",
              "      <td>8</td>\n",
              "      <td>44</td>\n",
              "      <td>100</td>\n",
              "      <td>390</td>\n",
              "    </tr>\n",
              "  </tbody>\n",
              "</table>\n",
              "<p>330 rows × 10 columns</p>\n",
              "</div>"
            ],
            "text/plain": [
              "     O3    vh  wind  humidity  temp   ibh  dpg  ibt  vis  doy\n",
              "0     3  5710     4        28    40  2693  -25   87  250   33\n",
              "1     5  5700     3        37    45   590  -24  128  100   34\n",
              "2     5  5760     3        51    54  1450   25  139   60   35\n",
              "3     6  5720     4        69    35  1568   15  121   60   36\n",
              "4     4  5790     6        19    45  2631  -33  123  100   37\n",
              "..   ..   ...   ...       ...   ...   ...  ...  ...  ...  ...\n",
              "325   8  5630     4        50    50  2851   -5  100   70  384\n",
              "326   2  5730     3        53    51   111  -14  225  200  387\n",
              "327   3  5690     3        23    51  5000  -36  107   70  388\n",
              "328   5  5650     3        61    50  3704   18   83   40  389\n",
              "329   1  5550     4        85    39  5000    8   44  100  390\n",
              "\n",
              "[330 rows x 10 columns]"
            ]
          },
          "execution_count": 7,
          "metadata": {},
          "output_type": "execute_result"
        }
      ],
      "source": [
        "ozone_df = ozone.load()\n",
        "ozone_df"
      ]
    },
    {
      "cell_type": "markdown",
      "metadata": {
        "id": "gifm9IzAHCzd"
      },
      "source": [
        "### Pregunta 1: Descomposición del Dataset"
      ]
    },
    {
      "cell_type": "code",
      "execution_count": 8,
      "metadata": {
        "colab": {
          "base_uri": "https://localhost:8080/"
        },
        "id": "PHSvMjpMHCzd",
        "outputId": "b3088953-7bf6-4ea0-9f3f-92b4a957ada5"
      },
      "outputs": [
        {
          "name": "stdout",
          "output_type": "stream",
          "text": [
            "Tamaño del conjunto de entrenamiento (X): (231, 9)\n",
            "Tamaño del conjunto de prueba (X): (99, 9)\n",
            "Tamaño del conjunto de entrenamiento (Y): (231,)\n",
            "Tamaño del conjunto de prueba (Y): (99,)\n"
          ]
        }
      ],
      "source": [
        "import pandas as pd\n",
        "from sklearn.model_selection import train_test_split\n",
        "\n",
        "# Supongamos que ya tienes un DataFrame llamado 'ozone_df' con las variables explicativas y 'O3' como la variable respuesta\n",
        "\n",
        "# Definir la variable respuesta (Y) y las variables explicativas (X)\n",
        "Y = ozone_df['O3']\n",
        "X = ozone_df.drop(columns=['O3'])  # Mantener todas las variables explicativas\n",
        "\n",
        "# Proporción deseada para entrenamiento (70%) y prueba (30%)\n",
        "proporcion_entrenamiento = 0.7\n",
        "proporcion_prueba = 0.3\n",
        "\n",
        "# Realizar la descomposición aleatoria\n",
        "X_train, X_test, Y_train, Y_test = train_test_split(X, Y, test_size=proporcion_prueba, random_state=75)\n",
        "\n",
        "# Verificar las formas de los conjuntos resultantes\n",
        "print(\"Tamaño del conjunto de entrenamiento (X):\", X_train.shape)\n",
        "print(\"Tamaño del conjunto de prueba (X):\", X_test.shape)\n",
        "print(\"Tamaño del conjunto de entrenamiento (Y):\", Y_train.shape)\n",
        "print(\"Tamaño del conjunto de prueba (Y):\", Y_test.shape)\n",
        "\n"
      ]
    },
    {
      "cell_type": "markdown",
      "metadata": {
        "id": "Obogvav1HCzd"
      },
      "source": [
        "### Pregunta 2: Medida de desempeño a utilizar\n",
        "\n",
        "---\n",
        "\n"
      ]
    },
    {
      "cell_type": "code",
      "execution_count": 9,
      "metadata": {
        "colab": {
          "base_uri": "https://localhost:8080/"
        },
        "id": "LYoWFTd7LPpf",
        "outputId": "238416d1-1c76-458c-f4b5-2b60fcc7b0f7"
      },
      "outputs": [
        {
          "name": "stdout",
          "output_type": "stream",
          "text": [
            "Error Cuadrático Medio (MSE): 17.87444536985523\n"
          ]
        }
      ],
      "source": [
        "from sklearn.linear_model import LinearRegression  # Ejemplo de modelo de regresión lineal\n",
        "from sklearn.metrics import mean_squared_error\n",
        "\n",
        "# Crear un modelo de regresión (en este caso, un modelo lineal)\n",
        "modelo = LinearRegression()\n",
        "\n",
        "# Ajustar el modelo a los datos de entrenamiento\n",
        "modelo.fit(X_train, Y_train)\n",
        "\n",
        "# Realizar predicciones en el conjunto de prueba\n",
        "Y_pred = modelo.predict(X_test)\n",
        "\n",
        "# Calcular el Error Cuadrático Medio (MSE)\n",
        "mse = mean_squared_error(Y_test, Y_pred)\n",
        "\n",
        "print(\"Error Cuadrático Medio (MSE):\", mse)\n",
        "\n",
        "\n"
      ]
    },
    {
      "cell_type": "markdown",
      "metadata": {
        "id": "K9WiblY_VQnO"
      },
      "source": [
        "Justificación: con el conjunto de datos 'ozone', estamos trabajando con un problema de regresión en el que tratamos de predecir un valor numérico. Por lo cuál una medida de desempeño adecuada es indicar el error cuadrático medio, porque proporciona una medida de cuánto se desvían las predicciones del modelo de los valores reales."
      ]
    },
    {
      "attachments": {},
      "cell_type": "markdown",
      "metadata": {
        "id": "dYFpq-bLWaDY"
      },
      "source": [
        "### Pregunta 3: Creación de los modelos\n",
        "---"
      ]
    },
    {
      "cell_type": "code",
      "execution_count": 10,
      "metadata": {
        "colab": {
          "base_uri": "https://localhost:8080/"
        },
        "id": "TWCnF_-0MJMp",
        "outputId": "6d7cb287-7111-4f89-d5bb-75ac389fe939"
      },
      "outputs": [
        {
          "name": "stdout",
          "output_type": "stream",
          "text": [
            "MSE Promedio - Regresión Lineal: 22.410242868248826\n",
            "MSE Promedio - k-NN: 33.15718408880666\n",
            "MSE Promedio - Árbol de Regresión: 36.09019426456984\n"
          ]
        }
      ],
      "source": [
        "from sklearn.linear_model import LinearRegression\n",
        "from sklearn.neighbors import KNeighborsRegressor\n",
        "from sklearn.tree import DecisionTreeRegressor\n",
        "from sklearn.model_selection import cross_val_score\n",
        "\n",
        "# Defino los modelos\n",
        "modelo_lineal = LinearRegression()\n",
        "modelo_knn = KNeighborsRegressor()\n",
        "modelo_arbol = DecisionTreeRegressor()\n",
        "\n",
        "# indico la validación cruzada k-fold\n",
        "k_fold = 5\n",
        "\n",
        "# Evalúa los modelos utilizando la validación cruzada k-fold\n",
        "mse_lineal = -cross_val_score(modelo_lineal, X_train, Y_train, cv=k_fold, scoring='neg_mean_squared_error').mean()\n",
        "mse_knn = -cross_val_score(modelo_knn, X_train, Y_train, cv=k_fold, scoring='neg_mean_squared_error').mean()\n",
        "mse_arbol = -cross_val_score(modelo_arbol, X_train, Y_train, cv=k_fold, scoring='neg_mean_squared_error').mean()\n",
        "\n",
        "# Compara los resultados\n",
        "print(\"MSE Promedio - Regresión Lineal:\", mse_lineal)\n",
        "print(\"MSE Promedio - k-NN:\", mse_knn)\n",
        "print(\"MSE Promedio - Árbol de Regresión:\", mse_arbol)\n",
        "\n",
        "# El modelo con el MSE promedio más bajo es el que tiene el mejor resultado\n",
        "\n"
      ]
    },
    {
      "cell_type": "markdown",
      "metadata": {
        "id": "Q4qeVgXNSsoW"
      },
      "source": [
        "Según se observan los resultados de la validación cruzada k-fold, los modelos se ordenan así:\n",
        "1.- Modelo de regresión lineal, el cúal muestra el MSE promedio más bajo.\n",
        "2.- modelo k-NN.\n",
        "3.- Modelos del árbol de regresión.\n",
        "\n",
        "Esto implica que, en promedio, el modelo de regresión lineal se ajusta mejor a los datos de entrenamiento en comparación con los otros dos modelos.Por lo que éste sería el elegido."
      ]
    },
    {
      "attachments": {},
      "cell_type": "markdown",
      "metadata": {
        "id": "wRpttciDXWyp"
      },
      "source": [
        "### Pregunta 4\n",
        "---\n"
      ]
    },
    {
      "cell_type": "code",
      "execution_count": 11,
      "metadata": {
        "colab": {
          "base_uri": "https://localhost:8080/"
        },
        "id": "zwBRAPoCTkdN",
        "outputId": "180a755f-3798-47f4-85b9-769c219dbe53"
      },
      "outputs": [
        {
          "name": "stdout",
          "output_type": "stream",
          "text": [
            "Error Cuadrático Medio (MSE) en la muestra de prueba: 16.615737039100665\n"
          ]
        }
      ],
      "source": [
        "import pandas as pd\n",
        "from sklearn.linear_model import LinearRegression\n",
        "from sklearn.metrics import mean_squared_error\n",
        "\n",
        "\n",
        "# Definir la variable respuesta (Y) y las variables explicativas (X)\n",
        "Y = ozone_df['O3']\n",
        "X = ozone_df.drop(columns=['O3'])  # Mantener todas las variables explicativas\n",
        "\n",
        "# Crear un modelo de regresión (en este caso, un modelo lineal)\n",
        "modelo = LinearRegression()\n",
        "\n",
        "# Ajustar el modelo con toda la muestra de entrenamiento\n",
        "modelo.fit(X, Y)\n",
        "\n",
        "# Realizar predicciones en la muestra de prueba\n",
        "Y_pred = modelo.predict(X_test)\n",
        "\n",
        "# Calcular el Error Cuadrático Medio (MSE) en la muestra de prueba\n",
        "mse = mean_squared_error(Y_test, Y_pred)\n",
        "\n",
        "print(\"Error Cuadrático Medio (MSE) en la muestra de prueba:\", mse)\n"
      ]
    },
    {
      "cell_type": "markdown",
      "metadata": {
        "id": "ajdhTofSYxXk"
      },
      "source": [
        "Justificación: luego de que ajustamos y evaluamos el modelo utilizando la totalidad de la muestra de entrenamiento sin dividirla en conjuntos de entrenamiento y prueba, el modelo se beneficia al tener acceso a todos los datos disponibles. Esto obtuvo un ajuste más preciso, ya que el modelo tuvo la oportunidad de aprender a fondo la relación entre las variables explicativas y la variable objetivo al aprovechar toda la información disponible.\n",
        "\n",
        "por lo que nos arroja un mejor desempeño en su Error Cuadrático Medio (MSE) en la muestra de prueba: 16.615737039100665"
      ]
    },
    {
      "attachments": {},
      "cell_type": "markdown",
      "metadata": {},
      "source": [
        "## Caso 2: Dataset 'prostate'"
      ]
    },
    {
      "attachments": {},
      "cell_type": "markdown",
      "metadata": {},
      "source": [
        "Importamos el dataset 'Prostate'"
      ]
    },
    {
      "cell_type": "code",
      "execution_count": 13,
      "metadata": {},
      "outputs": [],
      "source": [
        "import pandas as pd\n",
        "import numpy as np\n",
        "import seaborn as sns\n",
        "from sklearn.model_selection import train_test_split, cross_val_score\n",
        "from sklearn.metrics import (accuracy_score, recall_score, precision_score, f1_score,\n",
        "    roc_auc_score, confusion_matrix\n",
        ")\n",
        "from sklearn.preprocessing import StandardScaler\n",
        "from faraway.datasets import prostate"
      ]
    },
    {
      "cell_type": "code",
      "execution_count": 14,
      "metadata": {},
      "outputs": [
        {
          "data": {
            "text/html": [
              "<div>\n",
              "<style scoped>\n",
              "    .dataframe tbody tr th:only-of-type {\n",
              "        vertical-align: middle;\n",
              "    }\n",
              "\n",
              "    .dataframe tbody tr th {\n",
              "        vertical-align: top;\n",
              "    }\n",
              "\n",
              "    .dataframe thead th {\n",
              "        text-align: right;\n",
              "    }\n",
              "</style>\n",
              "<table border=\"1\" class=\"dataframe\">\n",
              "  <thead>\n",
              "    <tr style=\"text-align: right;\">\n",
              "      <th></th>\n",
              "      <th>lcavol</th>\n",
              "      <th>lweight</th>\n",
              "      <th>age</th>\n",
              "      <th>lbph</th>\n",
              "      <th>svi</th>\n",
              "      <th>lcp</th>\n",
              "      <th>gleason</th>\n",
              "      <th>pgg45</th>\n",
              "      <th>lpsa</th>\n",
              "    </tr>\n",
              "  </thead>\n",
              "  <tbody>\n",
              "    <tr>\n",
              "      <th>0</th>\n",
              "      <td>-0.579819</td>\n",
              "      <td>2.7695</td>\n",
              "      <td>50</td>\n",
              "      <td>-1.386294</td>\n",
              "      <td>0</td>\n",
              "      <td>-1.38629</td>\n",
              "      <td>6</td>\n",
              "      <td>0</td>\n",
              "      <td>-0.43078</td>\n",
              "    </tr>\n",
              "    <tr>\n",
              "      <th>1</th>\n",
              "      <td>-0.994252</td>\n",
              "      <td>3.3196</td>\n",
              "      <td>58</td>\n",
              "      <td>-1.386294</td>\n",
              "      <td>0</td>\n",
              "      <td>-1.38629</td>\n",
              "      <td>6</td>\n",
              "      <td>0</td>\n",
              "      <td>-0.16252</td>\n",
              "    </tr>\n",
              "    <tr>\n",
              "      <th>2</th>\n",
              "      <td>-0.510826</td>\n",
              "      <td>2.6912</td>\n",
              "      <td>74</td>\n",
              "      <td>-1.386294</td>\n",
              "      <td>0</td>\n",
              "      <td>-1.38629</td>\n",
              "      <td>7</td>\n",
              "      <td>20</td>\n",
              "      <td>-0.16252</td>\n",
              "    </tr>\n",
              "    <tr>\n",
              "      <th>3</th>\n",
              "      <td>-1.203973</td>\n",
              "      <td>3.2828</td>\n",
              "      <td>58</td>\n",
              "      <td>-1.386294</td>\n",
              "      <td>0</td>\n",
              "      <td>-1.38629</td>\n",
              "      <td>6</td>\n",
              "      <td>0</td>\n",
              "      <td>-0.16252</td>\n",
              "    </tr>\n",
              "    <tr>\n",
              "      <th>4</th>\n",
              "      <td>0.751416</td>\n",
              "      <td>3.4324</td>\n",
              "      <td>62</td>\n",
              "      <td>-1.386294</td>\n",
              "      <td>0</td>\n",
              "      <td>-1.38629</td>\n",
              "      <td>6</td>\n",
              "      <td>0</td>\n",
              "      <td>0.37156</td>\n",
              "    </tr>\n",
              "    <tr>\n",
              "      <th>...</th>\n",
              "      <td>...</td>\n",
              "      <td>...</td>\n",
              "      <td>...</td>\n",
              "      <td>...</td>\n",
              "      <td>...</td>\n",
              "      <td>...</td>\n",
              "      <td>...</td>\n",
              "      <td>...</td>\n",
              "      <td>...</td>\n",
              "    </tr>\n",
              "    <tr>\n",
              "      <th>92</th>\n",
              "      <td>2.830268</td>\n",
              "      <td>3.8764</td>\n",
              "      <td>68</td>\n",
              "      <td>-1.386294</td>\n",
              "      <td>1</td>\n",
              "      <td>1.32176</td>\n",
              "      <td>7</td>\n",
              "      <td>60</td>\n",
              "      <td>4.38515</td>\n",
              "    </tr>\n",
              "    <tr>\n",
              "      <th>93</th>\n",
              "      <td>3.821004</td>\n",
              "      <td>3.8969</td>\n",
              "      <td>44</td>\n",
              "      <td>-1.386294</td>\n",
              "      <td>1</td>\n",
              "      <td>2.16905</td>\n",
              "      <td>7</td>\n",
              "      <td>40</td>\n",
              "      <td>4.68444</td>\n",
              "    </tr>\n",
              "    <tr>\n",
              "      <th>94</th>\n",
              "      <td>2.907447</td>\n",
              "      <td>3.3962</td>\n",
              "      <td>52</td>\n",
              "      <td>-1.386294</td>\n",
              "      <td>1</td>\n",
              "      <td>2.46385</td>\n",
              "      <td>7</td>\n",
              "      <td>10</td>\n",
              "      <td>5.14312</td>\n",
              "    </tr>\n",
              "    <tr>\n",
              "      <th>95</th>\n",
              "      <td>2.882564</td>\n",
              "      <td>3.7739</td>\n",
              "      <td>68</td>\n",
              "      <td>1.558145</td>\n",
              "      <td>1</td>\n",
              "      <td>1.55814</td>\n",
              "      <td>7</td>\n",
              "      <td>80</td>\n",
              "      <td>5.47751</td>\n",
              "    </tr>\n",
              "    <tr>\n",
              "      <th>96</th>\n",
              "      <td>3.471967</td>\n",
              "      <td>3.9750</td>\n",
              "      <td>68</td>\n",
              "      <td>0.438255</td>\n",
              "      <td>1</td>\n",
              "      <td>2.90417</td>\n",
              "      <td>7</td>\n",
              "      <td>20</td>\n",
              "      <td>5.58293</td>\n",
              "    </tr>\n",
              "  </tbody>\n",
              "</table>\n",
              "<p>97 rows × 9 columns</p>\n",
              "</div>"
            ],
            "text/plain": [
              "      lcavol  lweight  age      lbph  svi      lcp  gleason  pgg45     lpsa\n",
              "0  -0.579819   2.7695   50 -1.386294    0 -1.38629        6      0 -0.43078\n",
              "1  -0.994252   3.3196   58 -1.386294    0 -1.38629        6      0 -0.16252\n",
              "2  -0.510826   2.6912   74 -1.386294    0 -1.38629        7     20 -0.16252\n",
              "3  -1.203973   3.2828   58 -1.386294    0 -1.38629        6      0 -0.16252\n",
              "4   0.751416   3.4324   62 -1.386294    0 -1.38629        6      0  0.37156\n",
              "..       ...      ...  ...       ...  ...      ...      ...    ...      ...\n",
              "92  2.830268   3.8764   68 -1.386294    1  1.32176        7     60  4.38515\n",
              "93  3.821004   3.8969   44 -1.386294    1  2.16905        7     40  4.68444\n",
              "94  2.907447   3.3962   52 -1.386294    1  2.46385        7     10  5.14312\n",
              "95  2.882564   3.7739   68  1.558145    1  1.55814        7     80  5.47751\n",
              "96  3.471967   3.9750   68  0.438255    1  2.90417        7     20  5.58293\n",
              "\n",
              "[97 rows x 9 columns]"
            ]
          },
          "execution_count": 14,
          "metadata": {},
          "output_type": "execute_result"
        }
      ],
      "source": [
        "prostate_df = prostate.load()\n",
        "prostate_df"
      ]
    },
    {
      "attachments": {},
      "cell_type": "markdown",
      "metadata": {},
      "source": [
        "Definimos nuestras features y nuestro target"
      ]
    },
    {
      "cell_type": "code",
      "execution_count": 15,
      "metadata": {},
      "outputs": [],
      "source": [
        "features = ['lcavol', 'lweight', 'age', 'lbph', 'lcp', 'gleason', 'pgg45', 'lpsa']\n",
        "target = 'svi'\n",
        "\n",
        "X = prostate_df[features]\n",
        "y = prostate_df[target]"
      ]
    },
    {
      "cell_type": "code",
      "execution_count": 16,
      "metadata": {},
      "outputs": [
        {
          "data": {
            "text/html": [
              "<div>\n",
              "<style scoped>\n",
              "    .dataframe tbody tr th:only-of-type {\n",
              "        vertical-align: middle;\n",
              "    }\n",
              "\n",
              "    .dataframe tbody tr th {\n",
              "        vertical-align: top;\n",
              "    }\n",
              "\n",
              "    .dataframe thead th {\n",
              "        text-align: right;\n",
              "    }\n",
              "</style>\n",
              "<table border=\"1\" class=\"dataframe\">\n",
              "  <thead>\n",
              "    <tr style=\"text-align: right;\">\n",
              "      <th></th>\n",
              "      <th>lcavol</th>\n",
              "      <th>lweight</th>\n",
              "      <th>age</th>\n",
              "      <th>lbph</th>\n",
              "      <th>lcp</th>\n",
              "      <th>gleason</th>\n",
              "      <th>pgg45</th>\n",
              "      <th>lpsa</th>\n",
              "    </tr>\n",
              "  </thead>\n",
              "  <tbody>\n",
              "    <tr>\n",
              "      <th>0</th>\n",
              "      <td>-0.579819</td>\n",
              "      <td>2.7695</td>\n",
              "      <td>50</td>\n",
              "      <td>-1.386294</td>\n",
              "      <td>-1.38629</td>\n",
              "      <td>6</td>\n",
              "      <td>0</td>\n",
              "      <td>-0.43078</td>\n",
              "    </tr>\n",
              "    <tr>\n",
              "      <th>1</th>\n",
              "      <td>-0.994252</td>\n",
              "      <td>3.3196</td>\n",
              "      <td>58</td>\n",
              "      <td>-1.386294</td>\n",
              "      <td>-1.38629</td>\n",
              "      <td>6</td>\n",
              "      <td>0</td>\n",
              "      <td>-0.16252</td>\n",
              "    </tr>\n",
              "    <tr>\n",
              "      <th>2</th>\n",
              "      <td>-0.510826</td>\n",
              "      <td>2.6912</td>\n",
              "      <td>74</td>\n",
              "      <td>-1.386294</td>\n",
              "      <td>-1.38629</td>\n",
              "      <td>7</td>\n",
              "      <td>20</td>\n",
              "      <td>-0.16252</td>\n",
              "    </tr>\n",
              "    <tr>\n",
              "      <th>3</th>\n",
              "      <td>-1.203973</td>\n",
              "      <td>3.2828</td>\n",
              "      <td>58</td>\n",
              "      <td>-1.386294</td>\n",
              "      <td>-1.38629</td>\n",
              "      <td>6</td>\n",
              "      <td>0</td>\n",
              "      <td>-0.16252</td>\n",
              "    </tr>\n",
              "    <tr>\n",
              "      <th>4</th>\n",
              "      <td>0.751416</td>\n",
              "      <td>3.4324</td>\n",
              "      <td>62</td>\n",
              "      <td>-1.386294</td>\n",
              "      <td>-1.38629</td>\n",
              "      <td>6</td>\n",
              "      <td>0</td>\n",
              "      <td>0.37156</td>\n",
              "    </tr>\n",
              "  </tbody>\n",
              "</table>\n",
              "</div>"
            ],
            "text/plain": [
              "     lcavol  lweight  age      lbph      lcp  gleason  pgg45     lpsa\n",
              "0 -0.579819   2.7695   50 -1.386294 -1.38629        6      0 -0.43078\n",
              "1 -0.994252   3.3196   58 -1.386294 -1.38629        6      0 -0.16252\n",
              "2 -0.510826   2.6912   74 -1.386294 -1.38629        7     20 -0.16252\n",
              "3 -1.203973   3.2828   58 -1.386294 -1.38629        6      0 -0.16252\n",
              "4  0.751416   3.4324   62 -1.386294 -1.38629        6      0  0.37156"
            ]
          },
          "execution_count": 16,
          "metadata": {},
          "output_type": "execute_result"
        }
      ],
      "source": [
        "X.head()"
      ]
    },
    {
      "attachments": {},
      "cell_type": "markdown",
      "metadata": {},
      "source": [
        "### Pregunta 1: Descomposición en dataset de entrenamiento vs prueba en proporción 70:30"
      ]
    },
    {
      "cell_type": "code",
      "execution_count": 17,
      "metadata": {},
      "outputs": [
        {
          "data": {
            "text/html": [
              "<div>\n",
              "<style scoped>\n",
              "    .dataframe tbody tr th:only-of-type {\n",
              "        vertical-align: middle;\n",
              "    }\n",
              "\n",
              "    .dataframe tbody tr th {\n",
              "        vertical-align: top;\n",
              "    }\n",
              "\n",
              "    .dataframe thead th {\n",
              "        text-align: right;\n",
              "    }\n",
              "</style>\n",
              "<table border=\"1\" class=\"dataframe\">\n",
              "  <thead>\n",
              "    <tr style=\"text-align: right;\">\n",
              "      <th></th>\n",
              "      <th>lcavol</th>\n",
              "      <th>lweight</th>\n",
              "      <th>age</th>\n",
              "      <th>lbph</th>\n",
              "      <th>lcp</th>\n",
              "      <th>gleason</th>\n",
              "      <th>pgg45</th>\n",
              "      <th>lpsa</th>\n",
              "      <th>svi</th>\n",
              "    </tr>\n",
              "  </thead>\n",
              "  <tbody>\n",
              "    <tr>\n",
              "      <th>74</th>\n",
              "      <td>2.999226</td>\n",
              "      <td>3.8491</td>\n",
              "      <td>69</td>\n",
              "      <td>-1.386294</td>\n",
              "      <td>1.90954</td>\n",
              "      <td>7</td>\n",
              "      <td>20</td>\n",
              "      <td>3.27526</td>\n",
              "      <td>1</td>\n",
              "    </tr>\n",
              "    <tr>\n",
              "      <th>56</th>\n",
              "      <td>0.974560</td>\n",
              "      <td>2.8651</td>\n",
              "      <td>47</td>\n",
              "      <td>-1.386294</td>\n",
              "      <td>0.50078</td>\n",
              "      <td>7</td>\n",
              "      <td>4</td>\n",
              "      <td>2.78809</td>\n",
              "      <td>0</td>\n",
              "    </tr>\n",
              "    <tr>\n",
              "      <th>96</th>\n",
              "      <td>3.471967</td>\n",
              "      <td>3.9750</td>\n",
              "      <td>68</td>\n",
              "      <td>0.438255</td>\n",
              "      <td>2.90417</td>\n",
              "      <td>7</td>\n",
              "      <td>20</td>\n",
              "      <td>5.58293</td>\n",
              "      <td>1</td>\n",
              "    </tr>\n",
              "    <tr>\n",
              "      <th>44</th>\n",
              "      <td>1.486140</td>\n",
              "      <td>3.4095</td>\n",
              "      <td>66</td>\n",
              "      <td>1.749200</td>\n",
              "      <td>-0.43078</td>\n",
              "      <td>7</td>\n",
              "      <td>20</td>\n",
              "      <td>2.52172</td>\n",
              "      <td>0</td>\n",
              "    </tr>\n",
              "    <tr>\n",
              "      <th>54</th>\n",
              "      <td>3.153590</td>\n",
              "      <td>3.5160</td>\n",
              "      <td>59</td>\n",
              "      <td>-1.386294</td>\n",
              "      <td>-1.38629</td>\n",
              "      <td>7</td>\n",
              "      <td>5</td>\n",
              "      <td>2.70471</td>\n",
              "      <td>0</td>\n",
              "    </tr>\n",
              "    <tr>\n",
              "      <th>...</th>\n",
              "      <td>...</td>\n",
              "      <td>...</td>\n",
              "      <td>...</td>\n",
              "      <td>...</td>\n",
              "      <td>...</td>\n",
              "      <td>...</td>\n",
              "      <td>...</td>\n",
              "      <td>...</td>\n",
              "      <td>...</td>\n",
              "    </tr>\n",
              "    <tr>\n",
              "      <th>75</th>\n",
              "      <td>3.141131</td>\n",
              "      <td>3.2638</td>\n",
              "      <td>68</td>\n",
              "      <td>-0.051293</td>\n",
              "      <td>2.42037</td>\n",
              "      <td>7</td>\n",
              "      <td>50</td>\n",
              "      <td>3.33755</td>\n",
              "      <td>1</td>\n",
              "    </tr>\n",
              "    <tr>\n",
              "      <th>9</th>\n",
              "      <td>0.223144</td>\n",
              "      <td>3.2445</td>\n",
              "      <td>63</td>\n",
              "      <td>-1.386294</td>\n",
              "      <td>-1.38629</td>\n",
              "      <td>6</td>\n",
              "      <td>0</td>\n",
              "      <td>1.04732</td>\n",
              "      <td>0</td>\n",
              "    </tr>\n",
              "    <tr>\n",
              "      <th>72</th>\n",
              "      <td>1.214913</td>\n",
              "      <td>3.8254</td>\n",
              "      <td>69</td>\n",
              "      <td>-1.386294</td>\n",
              "      <td>0.22314</td>\n",
              "      <td>7</td>\n",
              "      <td>20</td>\n",
              "      <td>3.05636</td>\n",
              "      <td>1</td>\n",
              "    </tr>\n",
              "    <tr>\n",
              "      <th>12</th>\n",
              "      <td>1.613430</td>\n",
              "      <td>3.0229</td>\n",
              "      <td>63</td>\n",
              "      <td>-1.386294</td>\n",
              "      <td>-0.59784</td>\n",
              "      <td>7</td>\n",
              "      <td>30</td>\n",
              "      <td>1.26695</td>\n",
              "      <td>0</td>\n",
              "    </tr>\n",
              "    <tr>\n",
              "      <th>37</th>\n",
              "      <td>0.457425</td>\n",
              "      <td>2.3749</td>\n",
              "      <td>64</td>\n",
              "      <td>-1.386294</td>\n",
              "      <td>-1.38629</td>\n",
              "      <td>7</td>\n",
              "      <td>15</td>\n",
              "      <td>2.19165</td>\n",
              "      <td>0</td>\n",
              "    </tr>\n",
              "  </tbody>\n",
              "</table>\n",
              "<p>67 rows × 9 columns</p>\n",
              "</div>"
            ],
            "text/plain": [
              "      lcavol  lweight  age      lbph      lcp  gleason  pgg45     lpsa  svi\n",
              "74  2.999226   3.8491   69 -1.386294  1.90954        7     20  3.27526    1\n",
              "56  0.974560   2.8651   47 -1.386294  0.50078        7      4  2.78809    0\n",
              "96  3.471967   3.9750   68  0.438255  2.90417        7     20  5.58293    1\n",
              "44  1.486140   3.4095   66  1.749200 -0.43078        7     20  2.52172    0\n",
              "54  3.153590   3.5160   59 -1.386294 -1.38629        7      5  2.70471    0\n",
              "..       ...      ...  ...       ...      ...      ...    ...      ...  ...\n",
              "75  3.141131   3.2638   68 -0.051293  2.42037        7     50  3.33755    1\n",
              "9   0.223144   3.2445   63 -1.386294 -1.38629        6      0  1.04732    0\n",
              "72  1.214913   3.8254   69 -1.386294  0.22314        7     20  3.05636    1\n",
              "12  1.613430   3.0229   63 -1.386294 -0.59784        7     30  1.26695    0\n",
              "37  0.457425   2.3749   64 -1.386294 -1.38629        7     15  2.19165    0\n",
              "\n",
              "[67 rows x 9 columns]"
            ]
          },
          "execution_count": 17,
          "metadata": {},
          "output_type": "execute_result"
        }
      ],
      "source": [
        "X_train, X_test, y_train, y_test = train_test_split(X, y, test_size=0.3, random_state=1)\n",
        "train_df = pd.concat([X_train, y_train], axis=1)\n",
        "train_df"
      ]
    },
    {
      "attachments": {},
      "cell_type": "markdown",
      "metadata": {},
      "source": [
        "### Pregunta 2: Medida de desempeño a utilizar"
      ]
    },
    {
      "attachments": {},
      "cell_type": "markdown",
      "metadata": {},
      "source": [
        "En primer lugar, observamos los datos agrupando la cantidad de datos por cada caso del target."
      ]
    },
    {
      "cell_type": "code",
      "execution_count": 18,
      "metadata": {},
      "outputs": [
        {
          "data": {
            "text/plain": [
              "svi\n",
              "0    54\n",
              "1    13\n",
              "Name: svi, dtype: int64"
            ]
          },
          "execution_count": 18,
          "metadata": {},
          "output_type": "execute_result"
        }
      ],
      "source": [
        "train_df.groupby(target)[target].count()"
      ]
    },
    {
      "attachments": {},
      "cell_type": "markdown",
      "metadata": {},
      "source": [
        "Vemos que la clase 1 aparece en poco menos del 20% de los casos, por lo que podemos decir que estamos ante un problema de clases desbalanceadas. Dado lo anterior, se podría dar el caso que el modelo sea muy bueno en Accuracy (exactitud) por predecir correctamente la clase mayoritaria, pero con sin tener un buen desempeño en la predicción de la clase minoritaria, en este caso 1."
      ]
    },
    {
      "attachments": {},
      "cell_type": "markdown",
      "metadata": {},
      "source": [
        "Centrándonos en la semántica de los datos, nuestro dataset nos indica que el paciente padece de **cáncer de próstata si el SVI es 1 o no padece cáncer si el SVI es 0**. Dado lo anterior, es mucho más costoso tener un error en la predicción de indicar que la persona no tiene cancer cuando sí lo tiene (Falso Negativo) versus predecir que sí tiene cáncer cuando en realidad no lo tiene (Falso Positivo). Dado lo anterior, nos queremos centrar entonces en **maximizar la cantidad de predicciones correctas de la clase positiva del total de observaciones que efectivamente son positivas** del modelo, lo cual lo podemos realizar ajustando el modelo y eligiendo aquel que tenga una mejor medida de Sensibilidad (`Recall`)."
      ]
    },
    {
      "attachments": {},
      "cell_type": "markdown",
      "metadata": {},
      "source": [
        "### Pregunta 3: Cross validation y comparación de modelos"
      ]
    },
    {
      "attachments": {},
      "cell_type": "markdown",
      "metadata": {},
      "source": [
        "Importamos las librerías"
      ]
    },
    {
      "cell_type": "code",
      "execution_count": 19,
      "metadata": {},
      "outputs": [],
      "source": [
        "from sklearn.linear_model import LogisticRegression\n",
        "from sklearn.tree import DecisionTreeClassifier\n",
        "from sklearn.neighbors import KNeighborsClassifier"
      ]
    },
    {
      "attachments": {},
      "cell_type": "markdown",
      "metadata": {},
      "source": [
        "Estandarizamos los datos ya que el clasificador KNN es sensible a distancias"
      ]
    },
    {
      "cell_type": "code",
      "execution_count": 20,
      "metadata": {},
      "outputs": [
        {
          "data": {
            "text/html": [
              "<div>\n",
              "<style scoped>\n",
              "    .dataframe tbody tr th:only-of-type {\n",
              "        vertical-align: middle;\n",
              "    }\n",
              "\n",
              "    .dataframe tbody tr th {\n",
              "        vertical-align: top;\n",
              "    }\n",
              "\n",
              "    .dataframe thead th {\n",
              "        text-align: right;\n",
              "    }\n",
              "</style>\n",
              "<table border=\"1\" class=\"dataframe\">\n",
              "  <thead>\n",
              "    <tr style=\"text-align: right;\">\n",
              "      <th></th>\n",
              "      <th>lcavol</th>\n",
              "      <th>lweight</th>\n",
              "      <th>age</th>\n",
              "      <th>lbph</th>\n",
              "      <th>lcp</th>\n",
              "      <th>gleason</th>\n",
              "      <th>pgg45</th>\n",
              "      <th>lpsa</th>\n",
              "    </tr>\n",
              "  </thead>\n",
              "  <tbody>\n",
              "    <tr>\n",
              "      <th>0</th>\n",
              "      <td>1.406402</td>\n",
              "      <td>0.569539</td>\n",
              "      <td>0.802178</td>\n",
              "      <td>-0.906611</td>\n",
              "      <td>1.564598</td>\n",
              "      <td>0.469469</td>\n",
              "      <td>-0.080593</td>\n",
              "      <td>0.780197</td>\n",
              "    </tr>\n",
              "    <tr>\n",
              "      <th>1</th>\n",
              "      <td>-0.260332</td>\n",
              "      <td>-1.673707</td>\n",
              "      <td>-2.131843</td>\n",
              "      <td>-0.906611</td>\n",
              "      <td>0.506166</td>\n",
              "      <td>0.469469</td>\n",
              "      <td>-0.676426</td>\n",
              "      <td>0.365808</td>\n",
              "    </tr>\n",
              "    <tr>\n",
              "      <th>2</th>\n",
              "      <td>1.795569</td>\n",
              "      <td>0.856556</td>\n",
              "      <td>0.668813</td>\n",
              "      <td>0.380242</td>\n",
              "      <td>2.311885</td>\n",
              "      <td>0.469469</td>\n",
              "      <td>-0.080593</td>\n",
              "      <td>2.743115</td>\n",
              "    </tr>\n",
              "    <tr>\n",
              "      <th>3</th>\n",
              "      <td>0.160808</td>\n",
              "      <td>-0.432626</td>\n",
              "      <td>0.402084</td>\n",
              "      <td>1.304850</td>\n",
              "      <td>-0.193735</td>\n",
              "      <td>0.469469</td>\n",
              "      <td>-0.080593</td>\n",
              "      <td>0.139232</td>\n",
              "    </tr>\n",
              "    <tr>\n",
              "      <th>4</th>\n",
              "      <td>1.533477</td>\n",
              "      <td>-0.189836</td>\n",
              "      <td>-0.531468</td>\n",
              "      <td>-0.906611</td>\n",
              "      <td>-0.911630</td>\n",
              "      <td>0.469469</td>\n",
              "      <td>-0.639186</td>\n",
              "      <td>0.294884</td>\n",
              "    </tr>\n",
              "    <tr>\n",
              "      <th>...</th>\n",
              "      <td>...</td>\n",
              "      <td>...</td>\n",
              "      <td>...</td>\n",
              "      <td>...</td>\n",
              "      <td>...</td>\n",
              "      <td>...</td>\n",
              "      <td>...</td>\n",
              "      <td>...</td>\n",
              "    </tr>\n",
              "    <tr>\n",
              "      <th>62</th>\n",
              "      <td>1.523220</td>\n",
              "      <td>-0.764782</td>\n",
              "      <td>0.668813</td>\n",
              "      <td>0.034964</td>\n",
              "      <td>1.948396</td>\n",
              "      <td>0.469469</td>\n",
              "      <td>1.036594</td>\n",
              "      <td>0.833182</td>\n",
              "    </tr>\n",
              "    <tr>\n",
              "      <th>63</th>\n",
              "      <td>-0.878908</td>\n",
              "      <td>-0.808780</td>\n",
              "      <td>0.001991</td>\n",
              "      <td>-0.906611</td>\n",
              "      <td>-0.911630</td>\n",
              "      <td>-0.960277</td>\n",
              "      <td>-0.825384</td>\n",
              "      <td>-1.114901</td>\n",
              "    </tr>\n",
              "    <tr>\n",
              "      <th>64</th>\n",
              "      <td>-0.062470</td>\n",
              "      <td>0.515510</td>\n",
              "      <td>0.802178</td>\n",
              "      <td>-0.906611</td>\n",
              "      <td>0.297570</td>\n",
              "      <td>0.469469</td>\n",
              "      <td>-0.080593</td>\n",
              "      <td>0.594000</td>\n",
              "    </tr>\n",
              "    <tr>\n",
              "      <th>65</th>\n",
              "      <td>0.265595</td>\n",
              "      <td>-1.313967</td>\n",
              "      <td>0.001991</td>\n",
              "      <td>-0.906611</td>\n",
              "      <td>-0.319250</td>\n",
              "      <td>0.469469</td>\n",
              "      <td>0.291803</td>\n",
              "      <td>-0.928083</td>\n",
              "    </tr>\n",
              "    <tr>\n",
              "      <th>66</th>\n",
              "      <td>-0.686045</td>\n",
              "      <td>-2.791226</td>\n",
              "      <td>0.135355</td>\n",
              "      <td>-0.906611</td>\n",
              "      <td>-0.911630</td>\n",
              "      <td>0.469469</td>\n",
              "      <td>-0.266791</td>\n",
              "      <td>-0.141527</td>\n",
              "    </tr>\n",
              "  </tbody>\n",
              "</table>\n",
              "<p>67 rows × 8 columns</p>\n",
              "</div>"
            ],
            "text/plain": [
              "      lcavol   lweight       age      lbph       lcp   gleason     pgg45  \\\n",
              "0   1.406402  0.569539  0.802178 -0.906611  1.564598  0.469469 -0.080593   \n",
              "1  -0.260332 -1.673707 -2.131843 -0.906611  0.506166  0.469469 -0.676426   \n",
              "2   1.795569  0.856556  0.668813  0.380242  2.311885  0.469469 -0.080593   \n",
              "3   0.160808 -0.432626  0.402084  1.304850 -0.193735  0.469469 -0.080593   \n",
              "4   1.533477 -0.189836 -0.531468 -0.906611 -0.911630  0.469469 -0.639186   \n",
              "..       ...       ...       ...       ...       ...       ...       ...   \n",
              "62  1.523220 -0.764782  0.668813  0.034964  1.948396  0.469469  1.036594   \n",
              "63 -0.878908 -0.808780  0.001991 -0.906611 -0.911630 -0.960277 -0.825384   \n",
              "64 -0.062470  0.515510  0.802178 -0.906611  0.297570  0.469469 -0.080593   \n",
              "65  0.265595 -1.313967  0.001991 -0.906611 -0.319250  0.469469  0.291803   \n",
              "66 -0.686045 -2.791226  0.135355 -0.906611 -0.911630  0.469469 -0.266791   \n",
              "\n",
              "        lpsa  \n",
              "0   0.780197  \n",
              "1   0.365808  \n",
              "2   2.743115  \n",
              "3   0.139232  \n",
              "4   0.294884  \n",
              "..       ...  \n",
              "62  0.833182  \n",
              "63 -1.114901  \n",
              "64  0.594000  \n",
              "65 -0.928083  \n",
              "66 -0.141527  \n",
              "\n",
              "[67 rows x 8 columns]"
            ]
          },
          "execution_count": 20,
          "metadata": {},
          "output_type": "execute_result"
        }
      ],
      "source": [
        "scaler_prostate = StandardScaler()\n",
        "X_train_scaled = pd.DataFrame(scaler_prostate.fit_transform(X_train), columns=X_train.columns)\n",
        "X_train_scaled"
      ]
    },
    {
      "attachments": {},
      "cell_type": "markdown",
      "metadata": {},
      "source": [
        "Definimos nuestros clasificadores, el K de cross-validation y la métrica a observar. Para los clasificadores dejamos sus hiperparámetros por defecto."
      ]
    },
    {
      "cell_type": "code",
      "execution_count": 21,
      "metadata": {},
      "outputs": [],
      "source": [
        "# Cantidad de particiones para cross validation\n",
        "K = 10\n",
        "\n",
        "# Metrica a calcular en cross validation\n",
        "scoring_metric = 'recall'\n",
        "\n",
        "# Clasificadores (random_state=100 para siempre obtener los mismos resultados en logit y tree)\n",
        "logit_clf = LogisticRegression(random_state=100)\n",
        "tree_clf = DecisionTreeClassifier(random_state=100)\n",
        "knn_clf = KNeighborsClassifier()"
      ]
    },
    {
      "cell_type": "code",
      "execution_count": 22,
      "metadata": {},
      "outputs": [],
      "source": [
        "logit_cv = cross_val_score(estimator=logit_clf, X=X_train_scaled, y=y_train, cv=K, scoring=scoring_metric)\n",
        "tree_cv = cross_val_score(estimator=tree_clf, X=X_train_scaled, y=y_train, cv=K, scoring=scoring_metric)\n",
        "knn_cv = cross_val_score(estimator=knn_clf, X=X_train_scaled, y=y_train, cv=K, scoring=scoring_metric)"
      ]
    },
    {
      "attachments": {},
      "cell_type": "markdown",
      "metadata": {},
      "source": [
        "Calculamos el recall promedio obtenido para cada clasificador"
      ]
    },
    {
      "cell_type": "code",
      "execution_count": 23,
      "metadata": {},
      "outputs": [
        {
          "name": "stdout",
          "output_type": "stream",
          "text": [
            "Logistic Regression recall with 10-fold CV: 0.45\n",
            "Classification Tree recall with 10-fold CV: 0.7\n",
            "K Nearest Neighbours recall with 10-fold CV: 0.55\n"
          ]
        }
      ],
      "source": [
        "logit_recall_cv = np.mean(logit_cv)\n",
        "tree_recall_cv = np.mean(tree_cv)\n",
        "knn_recall_cv = np.mean(knn_cv)\n",
        "\n",
        "print(f'Logistic Regression recall with 10-fold CV: {logit_recall_cv}')\n",
        "print(f'Classification Tree recall with 10-fold CV: {tree_recall_cv}')\n",
        "print(f'K Nearest Neighbours recall with 10-fold CV: {knn_recall_cv}')"
      ]
    },
    {
      "attachments": {},
      "cell_type": "markdown",
      "metadata": {},
      "source": [
        "**Orden de clasificadores según `Recall`**\n",
        "\n",
        "1. Classification Tree: 0.7\n",
        "2. K Neighbors Classifier: 0.55\n",
        "3. Logistic Regression: 0.45"
      ]
    },
    {
      "attachments": {},
      "cell_type": "markdown",
      "metadata": {},
      "source": [
        "Observando los datos de recall después de realizar cross validation, observamos que el **árbol de clasificación obtiene el valor más alto de `recall`, siendo `recall=0.7`**, siendo este entonces el predictor más certero en no cometer error de no predecir que hay cáncer cuando sí lo hay."
      ]
    },
    {
      "attachments": {},
      "cell_type": "markdown",
      "metadata": {},
      "source": [
        "Clasificador escogido: **Árbol de Clasificación**"
      ]
    },
    {
      "attachments": {},
      "cell_type": "markdown",
      "metadata": {},
      "source": [
        "### Pregunta 4: Ajuste de hiperparámetros y calidad de ajuste"
      ]
    },
    {
      "attachments": {},
      "cell_type": "markdown",
      "metadata": {},
      "source": [
        "En el entrenamiento y validación cruzada anterior se utilizaron los valores por defecto de los hiperparámetros para los clasificadores. En el caso del árbol de clasificación, nos centraremos en los hiperparámetros de profundidad del árbol (`max_depth`) y máxima cantidad de hojas (`max_leaf_nodes`). Luego, haremos cross validation para cada un rango de posibles valores de profundidad y máximo de nodos hoja, obteniendo sus valores óptimos."
      ]
    },
    {
      "attachments": {},
      "cell_type": "markdown",
      "metadata": {},
      "source": [
        "#### a. Optimización de hiperparámetro de profundidad"
      ]
    },
    {
      "cell_type": "code",
      "execution_count": 24,
      "metadata": {},
      "outputs": [
        {
          "data": {
            "text/plain": [
              "[(1, 0.4),\n",
              " (2, 0.65),\n",
              " (3, 0.6),\n",
              " (4, 0.7),\n",
              " (5, 0.7),\n",
              " (6, 0.7),\n",
              " (7, 0.7),\n",
              " (8, 0.7),\n",
              " (9, 0.7),\n",
              " (10, 0.7),\n",
              " (11, 0.7),\n",
              " (12, 0.7),\n",
              " (13, 0.7),\n",
              " (14, 0.7),\n",
              " (15, 0.7),\n",
              " (16, 0.7),\n",
              " (17, 0.7),\n",
              " (18, 0.7),\n",
              " (19, 0.7),\n",
              " (20, 0.7)]"
            ]
          },
          "execution_count": 24,
          "metadata": {},
          "output_type": "execute_result"
        }
      ],
      "source": [
        "# Almacenamos en una lista la profundidad de cada árbol vs el recall obtenido por cross validation dado ese parámetros\n",
        "depth_recall = list()\n",
        "range_max_depth = 20\n",
        "\n",
        "# Probaremos la profundidad máxima del árbol con valores entre 1 y 20 nodos\n",
        "for n in range(1, range_max_depth+1):\n",
        "    clf = DecisionTreeClassifier(max_depth=n ,random_state=100)\n",
        "\n",
        "    # Realizamos validación cruzada con K=10 y métrica Recall\n",
        "    cv = cross_val_score(estimator=clf, X=X_train_scaled, y=y_train, cv=K, scoring=scoring_metric)\n",
        "    recall_clf = np.mean(cv)\n",
        "    depth_recall.append((n, recall_clf))\n",
        "\n",
        "depth_recall"
      ]
    },
    {
      "attachments": {},
      "cell_type": "markdown",
      "metadata": {},
      "source": [
        "Graficamos los resultados de recall en función de la máxima profundidad del árbol"
      ]
    },
    {
      "cell_type": "code",
      "execution_count": 25,
      "metadata": {},
      "outputs": [
        {
          "data": {
            "text/plain": [
              "Text(0.5, 1.0, 'Max Depth Tree vs Recall')"
            ]
          },
          "execution_count": 25,
          "metadata": {},
          "output_type": "execute_result"
        },
        {
          "data": {
            "image/png": "[encoded data removed]",
            "text/plain": [
              "<Figure size 640x480 with 1 Axes>"
            ]
          },
          "metadata": {},
          "output_type": "display_data"
        }
      ],
      "source": [
        "recall_df = pd.DataFrame(depth_recall, columns=['Max Depth Tree', 'Recall'])\n",
        "\n",
        "ax = sns.lineplot(data=recall_df, x='Max Depth Tree', y='Recall')\n",
        "ax.set_title('Max Depth Tree vs Recall')"
      ]
    },
    {
      "attachments": {},
      "cell_type": "markdown",
      "metadata": {},
      "source": [
        "Podemos ver que ya desde una máxima profundidad de 4, el `recall` se estabiliza en 70%. Dado lo anterior, preferimos mantener este **valor de profundidad igual a 4 como el elegido** dado que, en el caso de tener una profundidad muy grande el árbol, podemos caer en overfitting del modelo."
      ]
    },
    {
      "attachments": {},
      "cell_type": "markdown",
      "metadata": {},
      "source": [
        "#### b. Optimización de hiperparámetro de nodos hoja"
      ]
    },
    {
      "cell_type": "code",
      "execution_count": 26,
      "metadata": {},
      "outputs": [
        {
          "data": {
            "text/plain": [
              "[(2, 0.4),\n",
              " (3, 0.45),\n",
              " (4, 0.6),\n",
              " (5, 0.7),\n",
              " (6, 0.7),\n",
              " (7, 0.7),\n",
              " (8, 0.7),\n",
              " (9, 0.7),\n",
              " (10, 0.7),\n",
              " (11, 0.7),\n",
              " (12, 0.7),\n",
              " (13, 0.7),\n",
              " (14, 0.7),\n",
              " (15, 0.7),\n",
              " (16, 0.7),\n",
              " (17, 0.7),\n",
              " (18, 0.7),\n",
              " (19, 0.7),\n",
              " (20, 0.7)]"
            ]
          },
          "execution_count": 26,
          "metadata": {},
          "output_type": "execute_result"
        }
      ],
      "source": [
        "# Almacenamos en una lista la cantidad de nodos hojas de cada árbol vs el recall obtenido por cross validation dado ese parámetros\n",
        "leaf_recall = list()\n",
        "range_leaf = 20\n",
        "\n",
        "# Probaremos la profundidad máxima del árbol con valores entre 1 y 20 nodos\n",
        "for n in range(2, range_leaf+1):\n",
        "    clf = DecisionTreeClassifier(max_leaf_nodes=n ,random_state=100)\n",
        "\n",
        "    # Realizamos validación cruzada con K=10 y métrica Recall\n",
        "    cv = cross_val_score(estimator=clf, X=X_train_scaled, y=y_train, cv=K, scoring=scoring_metric)\n",
        "    recall_clf = np.mean(cv)\n",
        "    leaf_recall.append((n, recall_clf))\n",
        "\n",
        "leaf_recall"
      ]
    },
    {
      "attachments": {},
      "cell_type": "markdown",
      "metadata": {},
      "source": [
        "Similarmente, graficamos los resultados."
      ]
    },
    {
      "cell_type": "code",
      "execution_count": 27,
      "metadata": {},
      "outputs": [
        {
          "data": {
            "text/plain": [
              "Text(0.5, 1.0, 'Max Leaf Nodes Tree vs Recall')"
            ]
          },
          "execution_count": 27,
          "metadata": {},
          "output_type": "execute_result"
        },
        {
          "data": {
            "image/png": "[encoded data removed]",
            "text/plain": [
              "<Figure size 640x480 with 1 Axes>"
            ]
          },
          "metadata": {},
          "output_type": "display_data"
        }
      ],
      "source": [
        "recall_leaf_df = pd.DataFrame(leaf_recall, columns=['Max Leaf Nodes Tree', 'Recall'])\n",
        "\n",
        "ax = sns.lineplot(data=recall_leaf_df, x='Max Leaf Nodes Tree', y='Recall')\n",
        "ax.set_title('Max Leaf Nodes Tree vs Recall')"
      ]
    },
    {
      "attachments": {},
      "cell_type": "markdown",
      "metadata": {},
      "source": [
        "#### c. Optimización de hiperparámetro de costo de complejidad "
      ]
    },
    {
      "cell_type": "code",
      "execution_count": 28,
      "metadata": {},
      "outputs": [
        {
          "data": {
            "text/plain": [
              "[(0.21, 0.0),\n",
              " (0.2, 0.0),\n",
              " (0.19, 0.0),\n",
              " (0.18, 0.0),\n",
              " (0.17, 0.1),\n",
              " (0.16, 0.3),\n",
              " (0.15, 0.3),\n",
              " (0.14, 0.4),\n",
              " (0.13, 0.4),\n",
              " (0.12, 0.4),\n",
              " (0.11, 0.4),\n",
              " (0.1, 0.4),\n",
              " (0.09, 0.4),\n",
              " (0.08, 0.4),\n",
              " (0.07, 0.4),\n",
              " (0.06, 0.45),\n",
              " (0.05, 0.45),\n",
              " (0.04, 0.45),\n",
              " (0.03, 0.7),\n",
              " (0.02, 0.7),\n",
              " (0.01, 0.7)]"
            ]
          },
          "execution_count": 28,
          "metadata": {},
          "output_type": "execute_result"
        }
      ],
      "source": [
        "# Almacenamos en una lista la complejidad de cada árbol vs el recall obtenido por cross validation dado ese parámetros\n",
        "cp_recall = list()\n",
        "range_ccp = 20\n",
        "\n",
        "# Probaremos la profundidad máxima del árbol con valores entre 1 y 20 nodos\n",
        "for n in range(range_ccp+1, 0, -1):\n",
        "    alpha_n = 0.01 * n\n",
        "    clf = DecisionTreeClassifier(ccp_alpha=alpha_n ,random_state=100)\n",
        "\n",
        "    # Realizamos validación cruzada con K=10 y métrica Recall\n",
        "    cv = cross_val_score(estimator=clf, X=X_train_scaled, y=y_train, cv=K, scoring=scoring_metric)\n",
        "    recall_clf = np.mean(cv)\n",
        "    cp_recall.append((alpha_n, recall_clf))\n",
        "\n",
        "cp_recall"
      ]
    },
    {
      "cell_type": "code",
      "execution_count": 29,
      "metadata": {},
      "outputs": [
        {
          "data": {
            "text/plain": [
              "Text(0.5, 1.0, 'Cost Complexity Alpha Tree vs Recall')"
            ]
          },
          "execution_count": 29,
          "metadata": {},
          "output_type": "execute_result"
        },
        {
          "data": {
            "image/png": "[encoded data removed]",
            "text/plain": [
              "<Figure size 640x480 with 1 Axes>"
            ]
          },
          "metadata": {},
          "output_type": "display_data"
        }
      ],
      "source": [
        "recall_cp_df = pd.DataFrame(cp_recall, columns=['Cost Complexity Alpha Tree', 'Recall'])\n",
        "\n",
        "ax = sns.lineplot(data=recall_cp_df, x='Cost Complexity Alpha Tree', y='Recall')\n",
        "ax.set_title('Cost Complexity Alpha Tree vs Recall')"
      ]
    },
    {
      "attachments": {},
      "cell_type": "markdown",
      "metadata": {},
      "source": [
        "Podemos ver gráficamente que **el valor óptimo del costo de complejidad es 0.03**. Ahora procedemos a generar el clasificador con los hiperparámetros `ccp_alpha`, `max_depth` y `max_leaf_nodes` optimizados y realizamos una predicción sobre los datos de test para medir el ajuste."
      ]
    },
    {
      "cell_type": "code",
      "execution_count": 30,
      "metadata": {},
      "outputs": [],
      "source": [
        "max_leaf_nodes = 5\n",
        "max_depth = 4\n",
        "ccp_alpha = 0.03\n",
        "\n",
        "tree = DecisionTreeClassifier(max_depth=5, max_leaf_nodes=4, ccp_alpha=0.0, random_state=100)"
      ]
    },
    {
      "attachments": {},
      "cell_type": "markdown",
      "metadata": {},
      "source": [
        "En este caso, los algoritmos de árboles no son sensibles a distancias, sino que se basan en la entropía de los datos, por lo que no es necesario estandarizar los datos de prueba para este caso. Si estuviéramos ante el caso de un KNN, ahí si deberíamos estandarizar."
      ]
    },
    {
      "cell_type": "code",
      "execution_count": 31,
      "metadata": {},
      "outputs": [],
      "source": [
        "fitted_tree = tree.fit(X_train, y_train)"
      ]
    },
    {
      "attachments": {},
      "cell_type": "markdown",
      "metadata": {},
      "source": [
        "Generamos la predicción sobre los datos de prueba"
      ]
    },
    {
      "cell_type": "code",
      "execution_count": 32,
      "metadata": {},
      "outputs": [
        {
          "data": {
            "text/plain": [
              "array([0, 0, 0, 1, 0, 0, 0, 0, 0, 0, 1, 0, 1, 1, 0, 0, 0, 0, 0, 0, 0, 0,\n",
              "       0, 0, 0, 1, 0, 0, 1, 1])"
            ]
          },
          "execution_count": 32,
          "metadata": {},
          "output_type": "execute_result"
        }
      ],
      "source": [
        "y_pred = fitted_tree.predict(X_test)\n",
        "y_pred"
      ]
    },
    {
      "attachments": {},
      "cell_type": "markdown",
      "metadata": {},
      "source": [
        "Calculamos el recall y otras métricas para medir el desempeño del modelo"
      ]
    },
    {
      "cell_type": "code",
      "execution_count": 33,
      "metadata": {},
      "outputs": [
        {
          "name": "stdout",
          "output_type": "stream",
          "text": [
            "\n",
            "Recall: 0.625\n",
            "Accuracy: 0.8333333333333334\n",
            "Precision: 0.7142857142857143\n",
            "F1 Score: 0.6666666666666666\n",
            "AUC: 0.7670454545454546\n"
          ]
        }
      ],
      "source": [
        "recall = recall_score(y_test, y_pred)\n",
        "accuracy = accuracy_score(y_test, y_pred)\n",
        "precision = precision_score(y_test, y_pred)\n",
        "f1 = f1_score(y_test, y_pred)\n",
        "auc = roc_auc_score(y_test, y_pred)\n",
        "\n",
        "print(f'''\n",
        "Recall: {recall}\n",
        "Accuracy: {accuracy}\n",
        "Precision: {precision}\n",
        "F1 Score: {f1}\n",
        "AUC: {auc}''')"
      ]
    },
    {
      "attachments": {},
      "cell_type": "markdown",
      "metadata": {},
      "source": [
        "Matriz de confusión"
      ]
    },
    {
      "cell_type": "code",
      "execution_count": 34,
      "metadata": {},
      "outputs": [
        {
          "data": {
            "text/plain": [
              "array([[20,  2],\n",
              "       [ 3,  5]])"
            ]
          },
          "execution_count": 34,
          "metadata": {},
          "output_type": "execute_result"
        }
      ],
      "source": [
        "matrix = confusion_matrix(y_test, y_pred)\n",
        "matrix"
      ]
    },
    {
      "attachments": {},
      "cell_type": "markdown",
      "metadata": {},
      "source": [
        "##### Comentarios de las métricas obtenidas"
      ]
    },
    {
      "attachments": {},
      "cell_type": "markdown",
      "metadata": {},
      "source": [
        "Una vez ya con todos las métricas, podemos generar algunas observaciones."
      ]
    },
    {
      "attachments": {},
      "cell_type": "markdown",
      "metadata": {},
      "source": [
        "* De 30 observaciones, el modelo genera 20 Verdaderos Negativos, es decir, predice que la clase es 0 cuando realmente es 0 en 20 ocasiones\n",
        "* De 30 observaciones, el modelo genera 2 Falsos Positivos, es decir, predice que la clase es 1 cuando realmente es 0 en 2 ocasiones\n",
        "* De 30 observaciones, el modelo genera 3 Falsos Negativos, es decir, predice que la clase es 0 cuando realmente es 1 en 3 ocasiones\n",
        "* De 30 observaciones, el modelo genera 5 Verdaderos Positivos, es decir, predice que la clase es 1 cuando realmente es 1 en 5 ocasiones "
      ]
    },
    {
      "attachments": {},
      "cell_type": "markdown",
      "metadata": {},
      "source": [
        "El modelo tiene una exactitud (`Accuracy`) del 0.833, es decir, predice bien un 83.3% de los casos. Si bien esta métrica dice información sobre la calidad del ajuste, a veces tiende a estar sesgada en problemas de clases desbalanceadas, dado que para el modelo es muy sencillo clasificar la clase 0 debido a la desproporción para con la clase 1, por lo que el dato de `Accuracy` tiende a ser alto pero el dato de `Recall` tiende a ser considerablemente menor. En ciertos casos como el problema que estamos tratando ahora el costo de no predecir correctamente la clase 1 es muy alto, por lo que no sería un *approach* muy aconsejable el guiarse únicamente por `Accuracy`, sino más bien por el `Recall` o bien el `F1-Score` (promedio armónico entre `Recall` y `Precision`)."
      ]
    },
    {
      "cell_type": "markdown",
      "metadata": {},
      "source": [
        "Por otra parte, podemos calcular la métrica de especificidad, la cual mide la capacidad del modelo de predecir correctamente la clase 0. En este caso está dada por `VN / (VN + FP)` siendo esta `20 / (20 + 2) = 0.90`. Con lo anterior podemos decir que dado nuestro `Recall (Sensibilidad)` y nuestra `Especificidad`, el modelo clasifica bien en un 90.9% la clase 0 y en un 62.5% la clase 1. Lo anterior está consolidado por el valor de la métrica `AUC`, siendo esta el área bajo la curva de la curva ROC (Sensibilidad vs 1 - Especificidad). Tenemos que `AUC=0.767` lo que nos indica también que el modelo, en una predicción, es capaz de distinguir correctamente si estamos ante la clase 0 o la clase 1 con un 76.7% de probabilidad."
      ]
    }
  ],
  "metadata": {
    "colab": {
      "provenance": []
    },
    "kernelspec": {
      "display_name": "Python 3",
      "language": "python",
      "name": "python3"
    },
    "language_info": {
      "codemirror_mode": {
        "name": "ipython",
        "version": 3
      },
      "file_extension": ".py",
      "mimetype": "text/x-python",
      "name": "python",
      "nbconvert_exporter": "python",
      "pygments_lexer": "ipython3",
      "version": "3.11.3"
    },
    "orig_nbformat": 4,
    "vscode": {
      "interpreter": {
        "hash": "b0fa6594d8f4cbf19f97940f81e996739fb7646882a419484c72d19e05852a7e"
      }
    }
  },
  "nbformat": 4,
  "nbformat_minor": 0
}
