{
 "cells": [
  {
   "cell_type": "markdown",
   "metadata": {},
   "source": [
    "# Tarea 3 | Aprendizaje Estadístico y Computacional\n",
    "---\n",
    "#### Luciano Davico\n",
    "#### Richard Orellana"
   ]
  },
  {
   "cell_type": "markdown",
   "metadata": {},
   "source": [
    "---"
   ]
  },
  {
   "cell_type": "markdown",
   "metadata": {},
   "source": [
    "Importamos los datos"
   ]
  },
  {
   "cell_type": "code",
   "execution_count": 17,
   "metadata": {},
   "outputs": [],
   "source": [
    "import pandas as pd\n",
    "import numpy as np"
   ]
  },
  {
   "cell_type": "code",
   "execution_count": 18,
   "metadata": {},
   "outputs": [
    {
     "name": "stderr",
     "output_type": "stream",
     "text": [
      "/home/luciano/.local/lib/python3.8/site-packages/openpyxl/worksheet/_reader.py:329: UserWarning: Unknown extension is not supported and will be removed\n",
      "  warn(msg)\n"
     ]
    },
    {
     "data": {
      "text/html": [
       "<div>\n",
       "<style scoped>\n",
       "    .dataframe tbody tr th:only-of-type {\n",
       "        vertical-align: middle;\n",
       "    }\n",
       "\n",
       "    .dataframe tbody tr th {\n",
       "        vertical-align: top;\n",
       "    }\n",
       "\n",
       "    .dataframe thead th {\n",
       "        text-align: right;\n",
       "    }\n",
       "</style>\n",
       "<table border=\"1\" class=\"dataframe\">\n",
       "  <thead>\n",
       "    <tr style=\"text-align: right;\">\n",
       "      <th></th>\n",
       "      <th>EDAD</th>\n",
       "      <th>DIABETES</th>\n",
       "      <th>HOSPITALIZACIÓN ULTIMO MES</th>\n",
       "      <th>PSA</th>\n",
       "      <th>BIOPSIAS PREVIAS</th>\n",
       "      <th>VOLUMEN PROSTATICO</th>\n",
       "      <th>ANTIBIOTICO UTILIAZADO EN LA PROFILAXIS</th>\n",
       "      <th>NUMERO DE MUESTRAS TOMADAS</th>\n",
       "      <th>CUP</th>\n",
       "      <th>ENF. CRONICA PULMONAR OBSTRUCTIVA</th>\n",
       "      <th>BIOPSIA</th>\n",
       "      <th>NUMERO DE DIAS POST BIOPSIA EN QUE SE PRESENTA LA COMPLICACIÓN INFECCIOSA</th>\n",
       "      <th>FIEBRE</th>\n",
       "      <th>ITU</th>\n",
       "      <th>TIPO DE CULTIVO</th>\n",
       "      <th>AGENTE AISLADO</th>\n",
       "      <th>PATRON DE RESISTENCIA</th>\n",
       "      <th>HOSPITALIZACION</th>\n",
       "      <th>DIAS HOSPITALIZACION MQ</th>\n",
       "      <th>DIAS HOSPITALIZACIÓN UPC</th>\n",
       "    </tr>\n",
       "  </thead>\n",
       "  <tbody>\n",
       "    <tr>\n",
       "      <th>0</th>\n",
       "      <td>53</td>\n",
       "      <td>NO</td>\n",
       "      <td>NO</td>\n",
       "      <td>4.0</td>\n",
       "      <td>NO</td>\n",
       "      <td>SI</td>\n",
       "      <td>FLUOROQUINOLONA_AMINOGLICOSIDO</td>\n",
       "      <td>12</td>\n",
       "      <td>NO</td>\n",
       "      <td>NO</td>\n",
       "      <td>NEG</td>\n",
       "      <td>1</td>\n",
       "      <td>SI</td>\n",
       "      <td>NO</td>\n",
       "      <td>NO</td>\n",
       "      <td>NO</td>\n",
       "      <td>NO</td>\n",
       "      <td>SI</td>\n",
       "      <td>2</td>\n",
       "      <td>0</td>\n",
       "    </tr>\n",
       "    <tr>\n",
       "      <th>1</th>\n",
       "      <td>56</td>\n",
       "      <td>NO</td>\n",
       "      <td>NO</td>\n",
       "      <td>7.7</td>\n",
       "      <td>NO</td>\n",
       "      <td>SI</td>\n",
       "      <td>FLUOROQUINOLONA_AMINOGLICOSIDO</td>\n",
       "      <td>12</td>\n",
       "      <td>NO</td>\n",
       "      <td>NO</td>\n",
       "      <td>NEG</td>\n",
       "      <td>1</td>\n",
       "      <td>SI</td>\n",
       "      <td>NO</td>\n",
       "      <td>NO</td>\n",
       "      <td>NO</td>\n",
       "      <td>NO</td>\n",
       "      <td>SI</td>\n",
       "      <td>5</td>\n",
       "      <td>0</td>\n",
       "    </tr>\n",
       "    <tr>\n",
       "      <th>2</th>\n",
       "      <td>53</td>\n",
       "      <td>NO</td>\n",
       "      <td>NO</td>\n",
       "      <td>7.0</td>\n",
       "      <td>NO</td>\n",
       "      <td>SI</td>\n",
       "      <td>FLUOROQUINOLONA_AMINOGLICOSIDO</td>\n",
       "      <td>12</td>\n",
       "      <td>NO</td>\n",
       "      <td>NO</td>\n",
       "      <td>NEG</td>\n",
       "      <td>2</td>\n",
       "      <td>SI</td>\n",
       "      <td>SI</td>\n",
       "      <td>UROCULTIVO</td>\n",
       "      <td>E.COLI</td>\n",
       "      <td>RESISTENTE A AMPI, CIPRO Y GENTA</td>\n",
       "      <td>SI</td>\n",
       "      <td>3</td>\n",
       "      <td>0</td>\n",
       "    </tr>\n",
       "    <tr>\n",
       "      <th>3</th>\n",
       "      <td>65</td>\n",
       "      <td>NO</td>\n",
       "      <td>NO</td>\n",
       "      <td>4.3</td>\n",
       "      <td>NO</td>\n",
       "      <td>NO</td>\n",
       "      <td>FLUOROQUINOLONA_AMINOGLICOSIDO</td>\n",
       "      <td>12</td>\n",
       "      <td>NO</td>\n",
       "      <td>NO</td>\n",
       "      <td>NEG</td>\n",
       "      <td>3</td>\n",
       "      <td>SI</td>\n",
       "      <td>NO</td>\n",
       "      <td>NO</td>\n",
       "      <td>NO</td>\n",
       "      <td>NO</td>\n",
       "      <td>SI</td>\n",
       "      <td>2</td>\n",
       "      <td>0</td>\n",
       "    </tr>\n",
       "    <tr>\n",
       "      <th>4</th>\n",
       "      <td>62</td>\n",
       "      <td>NO</td>\n",
       "      <td>NO</td>\n",
       "      <td>7.0</td>\n",
       "      <td>NO</td>\n",
       "      <td>SI</td>\n",
       "      <td>FLUOROQUINOLONA_AMINOGLICOSIDO</td>\n",
       "      <td>12</td>\n",
       "      <td>NO</td>\n",
       "      <td>NO</td>\n",
       "      <td>NEG</td>\n",
       "      <td>3</td>\n",
       "      <td>SI</td>\n",
       "      <td>NO</td>\n",
       "      <td>NO</td>\n",
       "      <td>NO</td>\n",
       "      <td>NO</td>\n",
       "      <td>SI</td>\n",
       "      <td>4</td>\n",
       "      <td>0</td>\n",
       "    </tr>\n",
       "  </tbody>\n",
       "</table>\n",
       "</div>"
      ],
      "text/plain": [
       "   EDAD DIABETES HOSPITALIZACIÓN ULTIMO MES  PSA BIOPSIAS PREVIAS  \\\n",
       "0    53       NO                         NO  4.0               NO   \n",
       "1    56       NO                         NO  7.7               NO   \n",
       "2    53       NO                         NO  7.0               NO   \n",
       "3    65       NO                         NO  4.3               NO   \n",
       "4    62       NO                         NO  7.0               NO   \n",
       "\n",
       "  VOLUMEN PROSTATICO ANTIBIOTICO UTILIAZADO EN LA PROFILAXIS  \\\n",
       "0                 SI          FLUOROQUINOLONA_AMINOGLICOSIDO   \n",
       "1                 SI          FLUOROQUINOLONA_AMINOGLICOSIDO   \n",
       "2                 SI          FLUOROQUINOLONA_AMINOGLICOSIDO   \n",
       "3                 NO          FLUOROQUINOLONA_AMINOGLICOSIDO   \n",
       "4                 SI          FLUOROQUINOLONA_AMINOGLICOSIDO   \n",
       "\n",
       "   NUMERO DE MUESTRAS TOMADAS CUP ENF. CRONICA PULMONAR OBSTRUCTIVA BIOPSIA  \\\n",
       "0                          12  NO                                NO     NEG   \n",
       "1                          12  NO                                NO     NEG   \n",
       "2                          12  NO                                NO     NEG   \n",
       "3                          12  NO                                NO     NEG   \n",
       "4                          12  NO                                NO     NEG   \n",
       "\n",
       "  NUMERO DE DIAS POST BIOPSIA EN QUE SE PRESENTA LA COMPLICACIÓN INFECCIOSA  \\\n",
       "0                                                  1                          \n",
       "1                                                  1                          \n",
       "2                                                  2                          \n",
       "3                                                  3                          \n",
       "4                                                  3                          \n",
       "\n",
       "  FIEBRE ITU TIPO DE CULTIVO AGENTE AISLADO             PATRON DE RESISTENCIA  \\\n",
       "0     SI  NO              NO             NO                                NO   \n",
       "1     SI  NO              NO             NO                                NO   \n",
       "2     SI  SI      UROCULTIVO         E.COLI  RESISTENTE A AMPI, CIPRO Y GENTA   \n",
       "3     SI  NO              NO             NO                                NO   \n",
       "4     SI  NO              NO             NO                                NO   \n",
       "\n",
       "  HOSPITALIZACION  DIAS HOSPITALIZACION MQ  DIAS HOSPITALIZACIÓN UPC  \n",
       "0              SI                        2                         0  \n",
       "1              SI                        5                         0  \n",
       "2              SI                        3                         0  \n",
       "3              SI                        2                         0  \n",
       "4              SI                        4                         0  "
      ]
     },
     "execution_count": 18,
     "metadata": {},
     "output_type": "execute_result"
    }
   ],
   "source": [
    "df = pd.read_excel('BBDD_post_pabellon.xlsx')\n",
    "df.head()"
   ]
  },
  {
   "cell_type": "code",
   "execution_count": 19,
   "metadata": {},
   "outputs": [
    {
     "name": "stdout",
     "output_type": "stream",
     "text": [
      "<class 'pandas.core.frame.DataFrame'>\n",
      "RangeIndex: 568 entries, 0 to 567\n",
      "Data columns (total 20 columns):\n",
      " #   Column                                                                     Non-Null Count  Dtype  \n",
      "---  ------                                                                     --------------  -----  \n",
      " 0   EDAD                                                                       568 non-null    int64  \n",
      " 1   DIABETES                                                                   568 non-null    object \n",
      " 2   HOSPITALIZACIÓN ULTIMO MES                                                 568 non-null    object \n",
      " 3   PSA                                                                        568 non-null    float64\n",
      " 4   BIOPSIAS PREVIAS                                                           568 non-null    object \n",
      " 5   VOLUMEN PROSTATICO                                                         568 non-null    object \n",
      " 6   ANTIBIOTICO UTILIAZADO EN LA PROFILAXIS                                    568 non-null    object \n",
      " 7   NUMERO DE MUESTRAS TOMADAS                                                 568 non-null    int64  \n",
      " 8   CUP                                                                        568 non-null    object \n",
      " 9   ENF. CRONICA PULMONAR OBSTRUCTIVA                                          568 non-null    object \n",
      " 10  BIOPSIA                                                                    568 non-null    object \n",
      " 11  NUMERO DE DIAS POST BIOPSIA EN QUE SE PRESENTA LA COMPLICACIÓN INFECCIOSA  568 non-null    object \n",
      " 12  FIEBRE                                                                     568 non-null    object \n",
      " 13  ITU                                                                        568 non-null    object \n",
      " 14  TIPO DE CULTIVO                                                            568 non-null    object \n",
      " 15  AGENTE AISLADO                                                             568 non-null    object \n",
      " 16  PATRON DE RESISTENCIA                                                      568 non-null    object \n",
      " 17  HOSPITALIZACION                                                            568 non-null    object \n",
      " 18  DIAS HOSPITALIZACION MQ                                                    568 non-null    int64  \n",
      " 19  DIAS HOSPITALIZACIÓN UPC                                                   568 non-null    int64  \n",
      "dtypes: float64(1), int64(4), object(15)\n",
      "memory usage: 88.9+ KB\n"
     ]
    }
   ],
   "source": [
    "df.info()"
   ]
  },
  {
   "cell_type": "markdown",
   "metadata": {},
   "source": [
    "### 1. Descomposición 70:30 en datos de entrenamiento y test"
   ]
  },
  {
   "cell_type": "code",
   "execution_count": 20,
   "metadata": {},
   "outputs": [],
   "source": [
    "from sklearn.model_selection import train_test_split"
   ]
  },
  {
   "cell_type": "code",
   "execution_count": 21,
   "metadata": {},
   "outputs": [],
   "source": [
    "target = 'HOSPITALIZACION'"
   ]
  },
  {
   "cell_type": "markdown",
   "metadata": {},
   "source": [
    "Vemos la distribución del target"
   ]
  },
  {
   "cell_type": "code",
   "execution_count": 22,
   "metadata": {},
   "outputs": [
    {
     "data": {
      "text/plain": [
       "HOSPITALIZACION\n",
       "NO    544\n",
       "SI     24\n",
       "Name: HOSPITALIZACION, dtype: int64"
      ]
     },
     "execution_count": 22,
     "metadata": {},
     "output_type": "execute_result"
    }
   ],
   "source": [
    "df.groupby(target)[target].count()"
   ]
  },
  {
   "cell_type": "markdown",
   "metadata": {},
   "source": [
    "Sampleamos los datos SI y NO como 1 y 0 respectivamente, para efectos de uso computacional"
   ]
  },
  {
   "cell_type": "code",
   "execution_count": 23,
   "metadata": {},
   "outputs": [
    {
     "data": {
      "text/html": [
       "<div>\n",
       "<style scoped>\n",
       "    .dataframe tbody tr th:only-of-type {\n",
       "        vertical-align: middle;\n",
       "    }\n",
       "\n",
       "    .dataframe tbody tr th {\n",
       "        vertical-align: top;\n",
       "    }\n",
       "\n",
       "    .dataframe thead th {\n",
       "        text-align: right;\n",
       "    }\n",
       "</style>\n",
       "<table border=\"1\" class=\"dataframe\">\n",
       "  <thead>\n",
       "    <tr style=\"text-align: right;\">\n",
       "      <th></th>\n",
       "      <th>EDAD</th>\n",
       "      <th>DIABETES</th>\n",
       "      <th>HOSPITALIZACIÓN ULTIMO MES</th>\n",
       "      <th>PSA</th>\n",
       "      <th>BIOPSIAS PREVIAS</th>\n",
       "      <th>VOLUMEN PROSTATICO</th>\n",
       "      <th>ANTIBIOTICO UTILIAZADO EN LA PROFILAXIS</th>\n",
       "      <th>NUMERO DE MUESTRAS TOMADAS</th>\n",
       "      <th>CUP</th>\n",
       "      <th>ENF. CRONICA PULMONAR OBSTRUCTIVA</th>\n",
       "      <th>BIOPSIA</th>\n",
       "      <th>NUMERO DE DIAS POST BIOPSIA EN QUE SE PRESENTA LA COMPLICACIÓN INFECCIOSA</th>\n",
       "      <th>FIEBRE</th>\n",
       "      <th>ITU</th>\n",
       "      <th>TIPO DE CULTIVO</th>\n",
       "      <th>AGENTE AISLADO</th>\n",
       "      <th>PATRON DE RESISTENCIA</th>\n",
       "      <th>HOSPITALIZACION</th>\n",
       "      <th>DIAS HOSPITALIZACION MQ</th>\n",
       "      <th>DIAS HOSPITALIZACIÓN UPC</th>\n",
       "    </tr>\n",
       "  </thead>\n",
       "  <tbody>\n",
       "    <tr>\n",
       "      <th>0</th>\n",
       "      <td>53</td>\n",
       "      <td>NO</td>\n",
       "      <td>NO</td>\n",
       "      <td>4.0</td>\n",
       "      <td>NO</td>\n",
       "      <td>SI</td>\n",
       "      <td>FLUOROQUINOLONA_AMINOGLICOSIDO</td>\n",
       "      <td>12</td>\n",
       "      <td>NO</td>\n",
       "      <td>NO</td>\n",
       "      <td>NEG</td>\n",
       "      <td>1</td>\n",
       "      <td>SI</td>\n",
       "      <td>NO</td>\n",
       "      <td>NO</td>\n",
       "      <td>NO</td>\n",
       "      <td>NO</td>\n",
       "      <td>1</td>\n",
       "      <td>2</td>\n",
       "      <td>0</td>\n",
       "    </tr>\n",
       "    <tr>\n",
       "      <th>1</th>\n",
       "      <td>56</td>\n",
       "      <td>NO</td>\n",
       "      <td>NO</td>\n",
       "      <td>7.7</td>\n",
       "      <td>NO</td>\n",
       "      <td>SI</td>\n",
       "      <td>FLUOROQUINOLONA_AMINOGLICOSIDO</td>\n",
       "      <td>12</td>\n",
       "      <td>NO</td>\n",
       "      <td>NO</td>\n",
       "      <td>NEG</td>\n",
       "      <td>1</td>\n",
       "      <td>SI</td>\n",
       "      <td>NO</td>\n",
       "      <td>NO</td>\n",
       "      <td>NO</td>\n",
       "      <td>NO</td>\n",
       "      <td>1</td>\n",
       "      <td>5</td>\n",
       "      <td>0</td>\n",
       "    </tr>\n",
       "    <tr>\n",
       "      <th>2</th>\n",
       "      <td>53</td>\n",
       "      <td>NO</td>\n",
       "      <td>NO</td>\n",
       "      <td>7.0</td>\n",
       "      <td>NO</td>\n",
       "      <td>SI</td>\n",
       "      <td>FLUOROQUINOLONA_AMINOGLICOSIDO</td>\n",
       "      <td>12</td>\n",
       "      <td>NO</td>\n",
       "      <td>NO</td>\n",
       "      <td>NEG</td>\n",
       "      <td>2</td>\n",
       "      <td>SI</td>\n",
       "      <td>SI</td>\n",
       "      <td>UROCULTIVO</td>\n",
       "      <td>E.COLI</td>\n",
       "      <td>RESISTENTE A AMPI, CIPRO Y GENTA</td>\n",
       "      <td>1</td>\n",
       "      <td>3</td>\n",
       "      <td>0</td>\n",
       "    </tr>\n",
       "    <tr>\n",
       "      <th>3</th>\n",
       "      <td>65</td>\n",
       "      <td>NO</td>\n",
       "      <td>NO</td>\n",
       "      <td>4.3</td>\n",
       "      <td>NO</td>\n",
       "      <td>NO</td>\n",
       "      <td>FLUOROQUINOLONA_AMINOGLICOSIDO</td>\n",
       "      <td>12</td>\n",
       "      <td>NO</td>\n",
       "      <td>NO</td>\n",
       "      <td>NEG</td>\n",
       "      <td>3</td>\n",
       "      <td>SI</td>\n",
       "      <td>NO</td>\n",
       "      <td>NO</td>\n",
       "      <td>NO</td>\n",
       "      <td>NO</td>\n",
       "      <td>1</td>\n",
       "      <td>2</td>\n",
       "      <td>0</td>\n",
       "    </tr>\n",
       "    <tr>\n",
       "      <th>4</th>\n",
       "      <td>62</td>\n",
       "      <td>NO</td>\n",
       "      <td>NO</td>\n",
       "      <td>7.0</td>\n",
       "      <td>NO</td>\n",
       "      <td>SI</td>\n",
       "      <td>FLUOROQUINOLONA_AMINOGLICOSIDO</td>\n",
       "      <td>12</td>\n",
       "      <td>NO</td>\n",
       "      <td>NO</td>\n",
       "      <td>NEG</td>\n",
       "      <td>3</td>\n",
       "      <td>SI</td>\n",
       "      <td>NO</td>\n",
       "      <td>NO</td>\n",
       "      <td>NO</td>\n",
       "      <td>NO</td>\n",
       "      <td>1</td>\n",
       "      <td>4</td>\n",
       "      <td>0</td>\n",
       "    </tr>\n",
       "  </tbody>\n",
       "</table>\n",
       "</div>"
      ],
      "text/plain": [
       "   EDAD DIABETES HOSPITALIZACIÓN ULTIMO MES  PSA BIOPSIAS PREVIAS  \\\n",
       "0    53       NO                         NO  4.0               NO   \n",
       "1    56       NO                         NO  7.7               NO   \n",
       "2    53       NO                         NO  7.0               NO   \n",
       "3    65       NO                         NO  4.3               NO   \n",
       "4    62       NO                         NO  7.0               NO   \n",
       "\n",
       "  VOLUMEN PROSTATICO ANTIBIOTICO UTILIAZADO EN LA PROFILAXIS  \\\n",
       "0                 SI          FLUOROQUINOLONA_AMINOGLICOSIDO   \n",
       "1                 SI          FLUOROQUINOLONA_AMINOGLICOSIDO   \n",
       "2                 SI          FLUOROQUINOLONA_AMINOGLICOSIDO   \n",
       "3                 NO          FLUOROQUINOLONA_AMINOGLICOSIDO   \n",
       "4                 SI          FLUOROQUINOLONA_AMINOGLICOSIDO   \n",
       "\n",
       "   NUMERO DE MUESTRAS TOMADAS CUP ENF. CRONICA PULMONAR OBSTRUCTIVA BIOPSIA  \\\n",
       "0                          12  NO                                NO     NEG   \n",
       "1                          12  NO                                NO     NEG   \n",
       "2                          12  NO                                NO     NEG   \n",
       "3                          12  NO                                NO     NEG   \n",
       "4                          12  NO                                NO     NEG   \n",
       "\n",
       "  NUMERO DE DIAS POST BIOPSIA EN QUE SE PRESENTA LA COMPLICACIÓN INFECCIOSA  \\\n",
       "0                                                  1                          \n",
       "1                                                  1                          \n",
       "2                                                  2                          \n",
       "3                                                  3                          \n",
       "4                                                  3                          \n",
       "\n",
       "  FIEBRE ITU TIPO DE CULTIVO AGENTE AISLADO             PATRON DE RESISTENCIA  \\\n",
       "0     SI  NO              NO             NO                                NO   \n",
       "1     SI  NO              NO             NO                                NO   \n",
       "2     SI  SI      UROCULTIVO         E.COLI  RESISTENTE A AMPI, CIPRO Y GENTA   \n",
       "3     SI  NO              NO             NO                                NO   \n",
       "4     SI  NO              NO             NO                                NO   \n",
       "\n",
       "   HOSPITALIZACION  DIAS HOSPITALIZACION MQ  DIAS HOSPITALIZACIÓN UPC  \n",
       "0                1                        2                         0  \n",
       "1                1                        5                         0  \n",
       "2                1                        3                         0  \n",
       "3                1                        2                         0  \n",
       "4                1                        4                         0  "
      ]
     },
     "execution_count": 23,
     "metadata": {},
     "output_type": "execute_result"
    }
   ],
   "source": [
    "df[target] = df[target].apply(lambda x: 1 if x == 'SI' else 0)\n",
    "df.head()"
   ]
  },
  {
   "cell_type": "markdown",
   "metadata": {},
   "source": [
    "Mapeamos los datos categóricos a numéricos, utilizando LabelEncoder de scikit learn. Acá solo debemos tener en consideración que el modelo podría no ser preciso respecto al entendimiento semántico de las variables, al asignar arbitrariamente valor numéricos a datos que no sean ordinales."
   ]
  },
  {
   "cell_type": "code",
   "execution_count": 24,
   "metadata": {},
   "outputs": [],
   "source": [
    "from sklearn.preprocessing import LabelEncoder"
   ]
  },
  {
   "cell_type": "code",
   "execution_count": 25,
   "metadata": {},
   "outputs": [],
   "source": [
    "categorical_features = ['DIABETES', \n",
    "                        'HOSPITALIZACIÓN ULTIMO MES',\n",
    "                        'BIOPSIAS PREVIAS',\n",
    "                        'VOLUMEN PROSTATICO',\n",
    "                        'ANTIBIOTICO UTILIAZADO EN LA PROFILAXIS',\n",
    "                        'CUP',\n",
    "                        'ENF. CRONICA PULMONAR OBSTRUCTIVA',\n",
    "                        'BIOPSIA',\n",
    "                        'FIEBRE',\n",
    "                        'ITU',\n",
    "                        'TIPO DE CULTIVO',\n",
    "                        'AGENTE AISLADO',\n",
    "                        'PATRON DE RESISTENCIA',\n",
    "                        ]"
   ]
  },
  {
   "cell_type": "code",
   "execution_count": 26,
   "metadata": {},
   "outputs": [
    {
     "data": {
      "text/html": [
       "<div>\n",
       "<style scoped>\n",
       "    .dataframe tbody tr th:only-of-type {\n",
       "        vertical-align: middle;\n",
       "    }\n",
       "\n",
       "    .dataframe tbody tr th {\n",
       "        vertical-align: top;\n",
       "    }\n",
       "\n",
       "    .dataframe thead th {\n",
       "        text-align: right;\n",
       "    }\n",
       "</style>\n",
       "<table border=\"1\" class=\"dataframe\">\n",
       "  <thead>\n",
       "    <tr style=\"text-align: right;\">\n",
       "      <th></th>\n",
       "      <th>EDAD</th>\n",
       "      <th>DIABETES</th>\n",
       "      <th>HOSPITALIZACIÓN ULTIMO MES</th>\n",
       "      <th>PSA</th>\n",
       "      <th>BIOPSIAS PREVIAS</th>\n",
       "      <th>VOLUMEN PROSTATICO</th>\n",
       "      <th>ANTIBIOTICO UTILIAZADO EN LA PROFILAXIS</th>\n",
       "      <th>NUMERO DE MUESTRAS TOMADAS</th>\n",
       "      <th>CUP</th>\n",
       "      <th>ENF. CRONICA PULMONAR OBSTRUCTIVA</th>\n",
       "      <th>BIOPSIA</th>\n",
       "      <th>NUMERO DE DIAS POST BIOPSIA EN QUE SE PRESENTA LA COMPLICACIÓN INFECCIOSA</th>\n",
       "      <th>FIEBRE</th>\n",
       "      <th>ITU</th>\n",
       "      <th>TIPO DE CULTIVO</th>\n",
       "      <th>AGENTE AISLADO</th>\n",
       "      <th>PATRON DE RESISTENCIA</th>\n",
       "      <th>HOSPITALIZACION</th>\n",
       "      <th>DIAS HOSPITALIZACION MQ</th>\n",
       "      <th>DIAS HOSPITALIZACIÓN UPC</th>\n",
       "    </tr>\n",
       "  </thead>\n",
       "  <tbody>\n",
       "    <tr>\n",
       "      <th>0</th>\n",
       "      <td>53</td>\n",
       "      <td>0</td>\n",
       "      <td>0</td>\n",
       "      <td>4.0</td>\n",
       "      <td>0</td>\n",
       "      <td>1</td>\n",
       "      <td>1</td>\n",
       "      <td>12</td>\n",
       "      <td>0</td>\n",
       "      <td>0</td>\n",
       "      <td>9</td>\n",
       "      <td>1</td>\n",
       "      <td>1</td>\n",
       "      <td>0</td>\n",
       "      <td>2</td>\n",
       "      <td>1</td>\n",
       "      <td>2</td>\n",
       "      <td>1</td>\n",
       "      <td>2</td>\n",
       "      <td>0</td>\n",
       "    </tr>\n",
       "    <tr>\n",
       "      <th>1</th>\n",
       "      <td>56</td>\n",
       "      <td>0</td>\n",
       "      <td>0</td>\n",
       "      <td>7.7</td>\n",
       "      <td>0</td>\n",
       "      <td>1</td>\n",
       "      <td>1</td>\n",
       "      <td>12</td>\n",
       "      <td>0</td>\n",
       "      <td>0</td>\n",
       "      <td>9</td>\n",
       "      <td>1</td>\n",
       "      <td>1</td>\n",
       "      <td>0</td>\n",
       "      <td>2</td>\n",
       "      <td>1</td>\n",
       "      <td>2</td>\n",
       "      <td>1</td>\n",
       "      <td>5</td>\n",
       "      <td>0</td>\n",
       "    </tr>\n",
       "    <tr>\n",
       "      <th>2</th>\n",
       "      <td>53</td>\n",
       "      <td>0</td>\n",
       "      <td>0</td>\n",
       "      <td>7.0</td>\n",
       "      <td>0</td>\n",
       "      <td>1</td>\n",
       "      <td>1</td>\n",
       "      <td>12</td>\n",
       "      <td>0</td>\n",
       "      <td>0</td>\n",
       "      <td>9</td>\n",
       "      <td>2</td>\n",
       "      <td>1</td>\n",
       "      <td>1</td>\n",
       "      <td>3</td>\n",
       "      <td>0</td>\n",
       "      <td>3</td>\n",
       "      <td>1</td>\n",
       "      <td>3</td>\n",
       "      <td>0</td>\n",
       "    </tr>\n",
       "    <tr>\n",
       "      <th>3</th>\n",
       "      <td>65</td>\n",
       "      <td>0</td>\n",
       "      <td>0</td>\n",
       "      <td>4.3</td>\n",
       "      <td>0</td>\n",
       "      <td>0</td>\n",
       "      <td>1</td>\n",
       "      <td>12</td>\n",
       "      <td>0</td>\n",
       "      <td>0</td>\n",
       "      <td>9</td>\n",
       "      <td>3</td>\n",
       "      <td>1</td>\n",
       "      <td>0</td>\n",
       "      <td>2</td>\n",
       "      <td>1</td>\n",
       "      <td>2</td>\n",
       "      <td>1</td>\n",
       "      <td>2</td>\n",
       "      <td>0</td>\n",
       "    </tr>\n",
       "    <tr>\n",
       "      <th>4</th>\n",
       "      <td>62</td>\n",
       "      <td>0</td>\n",
       "      <td>0</td>\n",
       "      <td>7.0</td>\n",
       "      <td>0</td>\n",
       "      <td>1</td>\n",
       "      <td>1</td>\n",
       "      <td>12</td>\n",
       "      <td>0</td>\n",
       "      <td>0</td>\n",
       "      <td>9</td>\n",
       "      <td>3</td>\n",
       "      <td>1</td>\n",
       "      <td>0</td>\n",
       "      <td>2</td>\n",
       "      <td>1</td>\n",
       "      <td>2</td>\n",
       "      <td>1</td>\n",
       "      <td>4</td>\n",
       "      <td>0</td>\n",
       "    </tr>\n",
       "  </tbody>\n",
       "</table>\n",
       "</div>"
      ],
      "text/plain": [
       "   EDAD  DIABETES  HOSPITALIZACIÓN ULTIMO MES  PSA  BIOPSIAS PREVIAS  \\\n",
       "0    53         0                           0  4.0                 0   \n",
       "1    56         0                           0  7.7                 0   \n",
       "2    53         0                           0  7.0                 0   \n",
       "3    65         0                           0  4.3                 0   \n",
       "4    62         0                           0  7.0                 0   \n",
       "\n",
       "   VOLUMEN PROSTATICO  ANTIBIOTICO UTILIAZADO EN LA PROFILAXIS  \\\n",
       "0                   1                                        1   \n",
       "1                   1                                        1   \n",
       "2                   1                                        1   \n",
       "3                   0                                        1   \n",
       "4                   1                                        1   \n",
       "\n",
       "   NUMERO DE MUESTRAS TOMADAS  CUP  ENF. CRONICA PULMONAR OBSTRUCTIVA  \\\n",
       "0                          12    0                                  0   \n",
       "1                          12    0                                  0   \n",
       "2                          12    0                                  0   \n",
       "3                          12    0                                  0   \n",
       "4                          12    0                                  0   \n",
       "\n",
       "   BIOPSIA  \\\n",
       "0        9   \n",
       "1        9   \n",
       "2        9   \n",
       "3        9   \n",
       "4        9   \n",
       "\n",
       "  NUMERO DE DIAS POST BIOPSIA EN QUE SE PRESENTA LA COMPLICACIÓN INFECCIOSA  \\\n",
       "0                                                  1                          \n",
       "1                                                  1                          \n",
       "2                                                  2                          \n",
       "3                                                  3                          \n",
       "4                                                  3                          \n",
       "\n",
       "   FIEBRE  ITU  TIPO DE CULTIVO  AGENTE AISLADO  PATRON DE RESISTENCIA  \\\n",
       "0       1    0                2               1                      2   \n",
       "1       1    0                2               1                      2   \n",
       "2       1    1                3               0                      3   \n",
       "3       1    0                2               1                      2   \n",
       "4       1    0                2               1                      2   \n",
       "\n",
       "   HOSPITALIZACION  DIAS HOSPITALIZACION MQ  DIAS HOSPITALIZACIÓN UPC  \n",
       "0                1                        2                         0  \n",
       "1                1                        5                         0  \n",
       "2                1                        3                         0  \n",
       "3                1                        2                         0  \n",
       "4                1                        4                         0  "
      ]
     },
     "execution_count": 26,
     "metadata": {},
     "output_type": "execute_result"
    }
   ],
   "source": [
    "df[categorical_features] = df[categorical_features].apply(LabelEncoder().fit_transform)\n",
    "df.head()"
   ]
  },
  {
   "cell_type": "markdown",
   "metadata": {},
   "source": [
    "Limpiamos un poco más nuestro dataset."
   ]
  },
  {
   "cell_type": "code",
   "execution_count": 27,
   "metadata": {},
   "outputs": [
    {
     "name": "stdout",
     "output_type": "stream",
     "text": [
      "<class 'pandas.core.frame.DataFrame'>\n",
      "RangeIndex: 568 entries, 0 to 567\n",
      "Data columns (total 20 columns):\n",
      " #   Column                                                                     Non-Null Count  Dtype  \n",
      "---  ------                                                                     --------------  -----  \n",
      " 0   EDAD                                                                       568 non-null    int64  \n",
      " 1   DIABETES                                                                   568 non-null    int64  \n",
      " 2   HOSPITALIZACIÓN ULTIMO MES                                                 568 non-null    int64  \n",
      " 3   PSA                                                                        568 non-null    float64\n",
      " 4   BIOPSIAS PREVIAS                                                           568 non-null    int64  \n",
      " 5   VOLUMEN PROSTATICO                                                         568 non-null    int64  \n",
      " 6   ANTIBIOTICO UTILIAZADO EN LA PROFILAXIS                                    568 non-null    int64  \n",
      " 7   NUMERO DE MUESTRAS TOMADAS                                                 568 non-null    int64  \n",
      " 8   CUP                                                                        568 non-null    int64  \n",
      " 9   ENF. CRONICA PULMONAR OBSTRUCTIVA                                          568 non-null    int64  \n",
      " 10  BIOPSIA                                                                    568 non-null    int64  \n",
      " 11  NUMERO DE DIAS POST BIOPSIA EN QUE SE PRESENTA LA COMPLICACIÓN INFECCIOSA  568 non-null    object \n",
      " 12  FIEBRE                                                                     568 non-null    int64  \n",
      " 13  ITU                                                                        568 non-null    int64  \n",
      " 14  TIPO DE CULTIVO                                                            568 non-null    int64  \n",
      " 15  AGENTE AISLADO                                                             568 non-null    int64  \n",
      " 16  PATRON DE RESISTENCIA                                                      568 non-null    int64  \n",
      " 17  HOSPITALIZACION                                                            568 non-null    int64  \n",
      " 18  DIAS HOSPITALIZACION MQ                                                    568 non-null    int64  \n",
      " 19  DIAS HOSPITALIZACIÓN UPC                                                   568 non-null    int64  \n",
      "dtypes: float64(1), int64(18), object(1)\n",
      "memory usage: 88.9+ KB\n"
     ]
    }
   ],
   "source": [
    "df.info()"
   ]
  },
  {
   "cell_type": "code",
   "execution_count": 28,
   "metadata": {},
   "outputs": [
    {
     "data": {
      "text/plain": [
       "array([1, 2, 3, 5, 9, 0])"
      ]
     },
     "execution_count": 28,
     "metadata": {},
     "output_type": "execute_result"
    }
   ],
   "source": [
    "n_days_post_biopsia_name = 'NUMERO DE DIAS POST BIOPSIA EN QUE SE PRESENTA LA COMPLICACIÓN INFECCIOSA'\n",
    "df[n_days_post_biopsia_name] = df[n_days_post_biopsia_name].apply(lambda x: 0 if x == 'NO' else x)\n",
    "df[n_days_post_biopsia_name].unique()"
   ]
  },
  {
   "cell_type": "code",
   "execution_count": 29,
   "metadata": {},
   "outputs": [
    {
     "name": "stdout",
     "output_type": "stream",
     "text": [
      "<class 'pandas.core.frame.DataFrame'>\n",
      "RangeIndex: 568 entries, 0 to 567\n",
      "Data columns (total 20 columns):\n",
      " #   Column                                                                     Non-Null Count  Dtype  \n",
      "---  ------                                                                     --------------  -----  \n",
      " 0   EDAD                                                                       568 non-null    int64  \n",
      " 1   DIABETES                                                                   568 non-null    int64  \n",
      " 2   HOSPITALIZACIÓN ULTIMO MES                                                 568 non-null    int64  \n",
      " 3   PSA                                                                        568 non-null    float64\n",
      " 4   BIOPSIAS PREVIAS                                                           568 non-null    int64  \n",
      " 5   VOLUMEN PROSTATICO                                                         568 non-null    int64  \n",
      " 6   ANTIBIOTICO UTILIAZADO EN LA PROFILAXIS                                    568 non-null    int64  \n",
      " 7   NUMERO DE MUESTRAS TOMADAS                                                 568 non-null    int64  \n",
      " 8   CUP                                                                        568 non-null    int64  \n",
      " 9   ENF. CRONICA PULMONAR OBSTRUCTIVA                                          568 non-null    int64  \n",
      " 10  BIOPSIA                                                                    568 non-null    int64  \n",
      " 11  NUMERO DE DIAS POST BIOPSIA EN QUE SE PRESENTA LA COMPLICACIÓN INFECCIOSA  568 non-null    int64  \n",
      " 12  FIEBRE                                                                     568 non-null    int64  \n",
      " 13  ITU                                                                        568 non-null    int64  \n",
      " 14  TIPO DE CULTIVO                                                            568 non-null    int64  \n",
      " 15  AGENTE AISLADO                                                             568 non-null    int64  \n",
      " 16  PATRON DE RESISTENCIA                                                      568 non-null    int64  \n",
      " 17  HOSPITALIZACION                                                            568 non-null    int64  \n",
      " 18  DIAS HOSPITALIZACION MQ                                                    568 non-null    int64  \n",
      " 19  DIAS HOSPITALIZACIÓN UPC                                                   568 non-null    int64  \n",
      "dtypes: float64(1), int64(19)\n",
      "memory usage: 88.9 KB\n"
     ]
    }
   ],
   "source": [
    "df.info()"
   ]
  },
  {
   "cell_type": "markdown",
   "metadata": {},
   "source": [
    "Descomponemos en 70:30"
   ]
  },
  {
   "cell_type": "code",
   "execution_count": 30,
   "metadata": {},
   "outputs": [],
   "source": [
    "y = df[target]\n",
    "X = df.drop(columns=[target])"
   ]
  },
  {
   "cell_type": "code",
   "execution_count": 31,
   "metadata": {},
   "outputs": [],
   "source": [
    "test_size = 0.3\n",
    "X_train, X_test, y_train, y_test = train_test_split(X, y, test_size=test_size, random_state=1)"
   ]
  },
  {
   "cell_type": "code",
   "execution_count": 32,
   "metadata": {},
   "outputs": [
    {
     "data": {
      "text/html": [
       "<div>\n",
       "<style scoped>\n",
       "    .dataframe tbody tr th:only-of-type {\n",
       "        vertical-align: middle;\n",
       "    }\n",
       "\n",
       "    .dataframe tbody tr th {\n",
       "        vertical-align: top;\n",
       "    }\n",
       "\n",
       "    .dataframe thead th {\n",
       "        text-align: right;\n",
       "    }\n",
       "</style>\n",
       "<table border=\"1\" class=\"dataframe\">\n",
       "  <thead>\n",
       "    <tr style=\"text-align: right;\">\n",
       "      <th></th>\n",
       "      <th>EDAD</th>\n",
       "      <th>DIABETES</th>\n",
       "      <th>HOSPITALIZACIÓN ULTIMO MES</th>\n",
       "      <th>PSA</th>\n",
       "      <th>BIOPSIAS PREVIAS</th>\n",
       "      <th>VOLUMEN PROSTATICO</th>\n",
       "      <th>ANTIBIOTICO UTILIAZADO EN LA PROFILAXIS</th>\n",
       "      <th>NUMERO DE MUESTRAS TOMADAS</th>\n",
       "      <th>CUP</th>\n",
       "      <th>ENF. CRONICA PULMONAR OBSTRUCTIVA</th>\n",
       "      <th>BIOPSIA</th>\n",
       "      <th>NUMERO DE DIAS POST BIOPSIA EN QUE SE PRESENTA LA COMPLICACIÓN INFECCIOSA</th>\n",
       "      <th>FIEBRE</th>\n",
       "      <th>ITU</th>\n",
       "      <th>TIPO DE CULTIVO</th>\n",
       "      <th>AGENTE AISLADO</th>\n",
       "      <th>PATRON DE RESISTENCIA</th>\n",
       "      <th>HOSPITALIZACION</th>\n",
       "      <th>DIAS HOSPITALIZACION MQ</th>\n",
       "      <th>DIAS HOSPITALIZACIÓN UPC</th>\n",
       "    </tr>\n",
       "  </thead>\n",
       "  <tbody>\n",
       "    <tr>\n",
       "      <th>0</th>\n",
       "      <td>53</td>\n",
       "      <td>0</td>\n",
       "      <td>0</td>\n",
       "      <td>4.0</td>\n",
       "      <td>0</td>\n",
       "      <td>1</td>\n",
       "      <td>1</td>\n",
       "      <td>12</td>\n",
       "      <td>0</td>\n",
       "      <td>0</td>\n",
       "      <td>9</td>\n",
       "      <td>1</td>\n",
       "      <td>1</td>\n",
       "      <td>0</td>\n",
       "      <td>2</td>\n",
       "      <td>1</td>\n",
       "      <td>2</td>\n",
       "      <td>1</td>\n",
       "      <td>2</td>\n",
       "      <td>0</td>\n",
       "    </tr>\n",
       "    <tr>\n",
       "      <th>1</th>\n",
       "      <td>56</td>\n",
       "      <td>0</td>\n",
       "      <td>0</td>\n",
       "      <td>7.7</td>\n",
       "      <td>0</td>\n",
       "      <td>1</td>\n",
       "      <td>1</td>\n",
       "      <td>12</td>\n",
       "      <td>0</td>\n",
       "      <td>0</td>\n",
       "      <td>9</td>\n",
       "      <td>1</td>\n",
       "      <td>1</td>\n",
       "      <td>0</td>\n",
       "      <td>2</td>\n",
       "      <td>1</td>\n",
       "      <td>2</td>\n",
       "      <td>1</td>\n",
       "      <td>5</td>\n",
       "      <td>0</td>\n",
       "    </tr>\n",
       "    <tr>\n",
       "      <th>2</th>\n",
       "      <td>53</td>\n",
       "      <td>0</td>\n",
       "      <td>0</td>\n",
       "      <td>7.0</td>\n",
       "      <td>0</td>\n",
       "      <td>1</td>\n",
       "      <td>1</td>\n",
       "      <td>12</td>\n",
       "      <td>0</td>\n",
       "      <td>0</td>\n",
       "      <td>9</td>\n",
       "      <td>2</td>\n",
       "      <td>1</td>\n",
       "      <td>1</td>\n",
       "      <td>3</td>\n",
       "      <td>0</td>\n",
       "      <td>3</td>\n",
       "      <td>1</td>\n",
       "      <td>3</td>\n",
       "      <td>0</td>\n",
       "    </tr>\n",
       "    <tr>\n",
       "      <th>3</th>\n",
       "      <td>65</td>\n",
       "      <td>0</td>\n",
       "      <td>0</td>\n",
       "      <td>4.3</td>\n",
       "      <td>0</td>\n",
       "      <td>0</td>\n",
       "      <td>1</td>\n",
       "      <td>12</td>\n",
       "      <td>0</td>\n",
       "      <td>0</td>\n",
       "      <td>9</td>\n",
       "      <td>3</td>\n",
       "      <td>1</td>\n",
       "      <td>0</td>\n",
       "      <td>2</td>\n",
       "      <td>1</td>\n",
       "      <td>2</td>\n",
       "      <td>1</td>\n",
       "      <td>2</td>\n",
       "      <td>0</td>\n",
       "    </tr>\n",
       "    <tr>\n",
       "      <th>4</th>\n",
       "      <td>62</td>\n",
       "      <td>0</td>\n",
       "      <td>0</td>\n",
       "      <td>7.0</td>\n",
       "      <td>0</td>\n",
       "      <td>1</td>\n",
       "      <td>1</td>\n",
       "      <td>12</td>\n",
       "      <td>0</td>\n",
       "      <td>0</td>\n",
       "      <td>9</td>\n",
       "      <td>3</td>\n",
       "      <td>1</td>\n",
       "      <td>0</td>\n",
       "      <td>2</td>\n",
       "      <td>1</td>\n",
       "      <td>2</td>\n",
       "      <td>1</td>\n",
       "      <td>4</td>\n",
       "      <td>0</td>\n",
       "    </tr>\n",
       "  </tbody>\n",
       "</table>\n",
       "</div>"
      ],
      "text/plain": [
       "   EDAD  DIABETES  HOSPITALIZACIÓN ULTIMO MES  PSA  BIOPSIAS PREVIAS  \\\n",
       "0    53         0                           0  4.0                 0   \n",
       "1    56         0                           0  7.7                 0   \n",
       "2    53         0                           0  7.0                 0   \n",
       "3    65         0                           0  4.3                 0   \n",
       "4    62         0                           0  7.0                 0   \n",
       "\n",
       "   VOLUMEN PROSTATICO  ANTIBIOTICO UTILIAZADO EN LA PROFILAXIS  \\\n",
       "0                   1                                        1   \n",
       "1                   1                                        1   \n",
       "2                   1                                        1   \n",
       "3                   0                                        1   \n",
       "4                   1                                        1   \n",
       "\n",
       "   NUMERO DE MUESTRAS TOMADAS  CUP  ENF. CRONICA PULMONAR OBSTRUCTIVA  \\\n",
       "0                          12    0                                  0   \n",
       "1                          12    0                                  0   \n",
       "2                          12    0                                  0   \n",
       "3                          12    0                                  0   \n",
       "4                          12    0                                  0   \n",
       "\n",
       "   BIOPSIA  \\\n",
       "0        9   \n",
       "1        9   \n",
       "2        9   \n",
       "3        9   \n",
       "4        9   \n",
       "\n",
       "   NUMERO DE DIAS POST BIOPSIA EN QUE SE PRESENTA LA COMPLICACIÓN INFECCIOSA  \\\n",
       "0                                                  1                           \n",
       "1                                                  1                           \n",
       "2                                                  2                           \n",
       "3                                                  3                           \n",
       "4                                                  3                           \n",
       "\n",
       "   FIEBRE  ITU  TIPO DE CULTIVO  AGENTE AISLADO  PATRON DE RESISTENCIA  \\\n",
       "0       1    0                2               1                      2   \n",
       "1       1    0                2               1                      2   \n",
       "2       1    1                3               0                      3   \n",
       "3       1    0                2               1                      2   \n",
       "4       1    0                2               1                      2   \n",
       "\n",
       "   HOSPITALIZACION  DIAS HOSPITALIZACION MQ  DIAS HOSPITALIZACIÓN UPC  \n",
       "0                1                        2                         0  \n",
       "1                1                        5                         0  \n",
       "2                1                        3                         0  \n",
       "3                1                        2                         0  \n",
       "4                1                        4                         0  "
      ]
     },
     "execution_count": 32,
     "metadata": {},
     "output_type": "execute_result"
    }
   ],
   "source": [
    "df.head()"
   ]
  },
  {
   "cell_type": "markdown",
   "metadata": {},
   "source": [
    "### 2. Selección de medida de desempeño, validación cruzada y tres técnicas de clasificación"
   ]
  },
  {
   "cell_type": "markdown",
   "metadata": {},
   "source": [
    "Dado una distribución del target en el cual tenemos 544 casos en que no hay hospitalización, lo cual es un 95 % de los casos y 24 casos en los cuales sí hay hospitalización (5 %) sería adecuado enfocarnos en crear un modelo con una buena medida de desempeño para la clase minoritaria, la cual implicaría hospitalización y, en dicho caso, si no somos buenos clasificando este caso, el costo pudiera ser muy alto, como lo sería una vida humana. Dicho lo anterior, consideraremos el **f1-score** como una buena medida de desempeño. \n",
    "\n",
    "Respecto a Cross Validation, dado que no estamos ante una base de datos relativamente pequeña, es más aconsejable utilizar una **validación cruzada con 10 particiones** para poder obtener una buena generalización al entrenar y validar, además de que siendo un dataset pequeño el costo computacional de realizarlo no es elevado en recursos.\n",
    "\n",
    "Las técnicas de clasificación que utilizaremos son: **Support Vector Machine**, **Random Forest** y **Naive Bayes**.\n",
    "Seleccionamos Random Forest como uno de los modelos interesantes a utilizar dado que tiene un enfoque basado en árboles y suele ser robusto ante el overfitting, además de ser robusto en casos que no tengamos un gran volumen de datos. También, seleccionamos Naive Bayes ya que suele tener un buen rendimiento al tener muchos predictores, debido al supuesto de independencia entre dichos predictores, lo cual genera que ante datasets de pocos predictores, el asumir independencia genere que el modelo sea poco preciso."
   ]
  },
  {
   "cell_type": "markdown",
   "metadata": {},
   "source": [
    "### 3. Validación cruzada y comparación de modelos"
   ]
  },
  {
   "cell_type": "markdown",
   "metadata": {},
   "source": [
    "Definimos funciones para la validacion cruzada y el entrenamiento de modelos"
   ]
  },
  {
   "cell_type": "code",
   "execution_count": 33,
   "metadata": {},
   "outputs": [],
   "source": [
    "from sklearn.model_selection import cross_val_score\n",
    "from sklearn.ensemble import RandomForestClassifier\n",
    "from sklearn.naive_bayes import GaussianNB\n",
    "from sklearn.svm import SVC"
   ]
  },
  {
   "cell_type": "code",
   "execution_count": 34,
   "metadata": {},
   "outputs": [],
   "source": [
    "def cross_validation(estimator, X, y, scoring_metric, K=10):\n",
    "    score = cross_val_score(estimator=estimator, X=X, y=y, cv=K, scoring=scoring_metric)\n",
    "    return np.mean(score)"
   ]
  },
  {
   "cell_type": "markdown",
   "metadata": {},
   "source": [
    "Definimos los estimadores. Utilizaremos un kernel lineal para el Support Vector Machine y 100 árboles para Random Forest."
   ]
  },
  {
   "cell_type": "code",
   "execution_count": 35,
   "metadata": {},
   "outputs": [],
   "source": [
    "clf_svm = SVC(kernel='linear', C=1)\n",
    "clf_nb = GaussianNB()\n",
    "clf_rf = RandomForestClassifier(n_estimators=100)"
   ]
  },
  {
   "cell_type": "markdown",
   "metadata": {},
   "source": [
    "Definimos la medida de desempeño y la cantidad de particiones a utilizar para la validación cruzada."
   ]
  },
  {
   "cell_type": "code",
   "execution_count": 36,
   "metadata": {},
   "outputs": [],
   "source": [
    "score_metric = 'f1' # F1-Score\n",
    "K = 10"
   ]
  },
  {
   "cell_type": "markdown",
   "metadata": {},
   "source": [
    "Aplicamos validación cruzada."
   ]
  },
  {
   "cell_type": "code",
   "execution_count": 37,
   "metadata": {},
   "outputs": [
    {
     "data": {
      "text/plain": [
       "{SVC(C=1, kernel='linear'): 0.8666666666666666,\n",
       " GaussianNB(): 0.9133333333333333,\n",
       " RandomForestClassifier(): 1.0}"
      ]
     },
     "execution_count": 37,
     "metadata": {},
     "output_type": "execute_result"
    }
   ],
   "source": [
    "clfs = {\n",
    "    clf_svm: cross_validation(clf_svm, X_train, y_train, score_metric, K),\n",
    "    clf_nb: cross_validation(clf_nb, X_train, y_train, score_metric, K),\n",
    "    clf_rf: cross_validation(clf_rf, X_train, y_train, score_metric, K)\n",
    "}\n",
    "clfs"
   ]
  },
  {
   "cell_type": "markdown",
   "metadata": {},
   "source": [
    "Observamos que el método con mejor valor de `f1-score` es `Random Forest`, el cual es 1.0. Podríamos estar ante un caso de overfitting, dado que el modelo obtiene una buena clasificación de los datos de entrenamiento pero su generalización es pobre ante nuevos datos. Podemos solucionar lo anterior probando al disminuir la cantidad de árboles utilizados por `RandomForest`"
   ]
  },
  {
   "cell_type": "code",
   "execution_count": 38,
   "metadata": {},
   "outputs": [
    {
     "data": {
      "text/plain": [
       "1.0"
      ]
     },
     "execution_count": 38,
     "metadata": {},
     "output_type": "execute_result"
    }
   ],
   "source": [
    "clf_rf_50t = RandomForestClassifier(n_estimators=50)\n",
    "cross_validation(clf_rf_50t, X_train, y_train, score_metric, K)"
   ]
  },
  {
   "cell_type": "markdown",
   "metadata": {},
   "source": [
    "Obtenemos el mismo valor. Tomamos este modelo como el mejor clasificador por el momento."
   ]
  },
  {
   "cell_type": "markdown",
   "metadata": {},
   "source": [
    "### 4. Técnicas de Undersampling"
   ]
  },
  {
   "cell_type": "markdown",
   "metadata": {},
   "source": [
    "Trataremos el set de entrenamiento con dos técnicas de `undersampling` vistas en clases, las cuales son eliminación de datos aleatoria y ENN."
   ]
  },
  {
   "cell_type": "markdown",
   "metadata": {},
   "source": [
    "Debemos forzar a tener la versión `scikit-learn==1.2.1` para que funcione la librería que utilizaremos, la cual es `imblearn`"
   ]
  },
  {
   "cell_type": "code",
   "execution_count": 39,
   "metadata": {},
   "outputs": [
    {
     "name": "stdout",
     "output_type": "stream",
     "text": [
      "Name: scikit-learn\n",
      "Version: 1.2.1\n",
      "Summary: A set of python modules for machine learning and data mining\n",
      "Home-page: http://scikit-learn.org\n",
      "Author: None\n",
      "Author-email: None\n",
      "License: new BSD\n",
      "Location: /home/luciano/.local/lib/python3.8/site-packages\n",
      "Requires: scipy, numpy, threadpoolctl, joblib\n",
      "Required-by: imbalanced-learn\n"
     ]
    }
   ],
   "source": [
    "!pip show scikit-learn"
   ]
  },
  {
   "cell_type": "code",
   "execution_count": 40,
   "metadata": {},
   "outputs": [],
   "source": [
    "from imblearn.under_sampling import EditedNearestNeighbours"
   ]
  },
  {
   "cell_type": "code",
   "execution_count": 41,
   "metadata": {},
   "outputs": [],
   "source": [
    "enn = EditedNearestNeighbours(sampling_strategy='auto', n_neighbors=10)"
   ]
  },
  {
   "cell_type": "code",
   "execution_count": 42,
   "metadata": {},
   "outputs": [],
   "source": [
    "X_train_enn, y_train_enn = enn.fit_resample(X_train, y_train)"
   ]
  },
  {
   "cell_type": "markdown",
   "metadata": {},
   "source": [
    "Vemos como se redujo la cantidad de datos de la clase mayoritaria con ENN"
   ]
  },
  {
   "cell_type": "code",
   "execution_count": 43,
   "metadata": {},
   "outputs": [],
   "source": [
    "df_train_enn = pd.concat([X_train_enn, y_train_enn], axis=1)"
   ]
  },
  {
   "cell_type": "code",
   "execution_count": 44,
   "metadata": {},
   "outputs": [
    {
     "data": {
      "text/plain": [
       "HOSPITALIZACION\n",
       "0    368\n",
       "1     14\n",
       "Name: HOSPITALIZACION, dtype: int64"
      ]
     },
     "execution_count": 44,
     "metadata": {},
     "output_type": "execute_result"
    }
   ],
   "source": [
    "df_train_enn.groupby(target)[target].count()"
   ]
  },
  {
   "cell_type": "markdown",
   "metadata": {},
   "source": [
    "Ahora procedemos a aplicar undersampling aleatorio. Queremos tener una proporción 60:40, por lo que solo necesitamos 21 datos de la clase mayoritaria."
   ]
  },
  {
   "cell_type": "code",
   "execution_count": 45,
   "metadata": {},
   "outputs": [
    {
     "data": {
      "text/html": [
       "<div>\n",
       "<style scoped>\n",
       "    .dataframe tbody tr th:only-of-type {\n",
       "        vertical-align: middle;\n",
       "    }\n",
       "\n",
       "    .dataframe tbody tr th {\n",
       "        vertical-align: top;\n",
       "    }\n",
       "\n",
       "    .dataframe thead th {\n",
       "        text-align: right;\n",
       "    }\n",
       "</style>\n",
       "<table border=\"1\" class=\"dataframe\">\n",
       "  <thead>\n",
       "    <tr style=\"text-align: right;\">\n",
       "      <th></th>\n",
       "      <th>EDAD</th>\n",
       "      <th>DIABETES</th>\n",
       "      <th>HOSPITALIZACIÓN ULTIMO MES</th>\n",
       "      <th>PSA</th>\n",
       "      <th>BIOPSIAS PREVIAS</th>\n",
       "      <th>VOLUMEN PROSTATICO</th>\n",
       "      <th>ANTIBIOTICO UTILIAZADO EN LA PROFILAXIS</th>\n",
       "      <th>NUMERO DE MUESTRAS TOMADAS</th>\n",
       "      <th>CUP</th>\n",
       "      <th>ENF. CRONICA PULMONAR OBSTRUCTIVA</th>\n",
       "      <th>BIOPSIA</th>\n",
       "      <th>NUMERO DE DIAS POST BIOPSIA EN QUE SE PRESENTA LA COMPLICACIÓN INFECCIOSA</th>\n",
       "      <th>FIEBRE</th>\n",
       "      <th>ITU</th>\n",
       "      <th>TIPO DE CULTIVO</th>\n",
       "      <th>AGENTE AISLADO</th>\n",
       "      <th>PATRON DE RESISTENCIA</th>\n",
       "      <th>DIAS HOSPITALIZACION MQ</th>\n",
       "      <th>DIAS HOSPITALIZACIÓN UPC</th>\n",
       "      <th>HOSPITALIZACION</th>\n",
       "    </tr>\n",
       "  </thead>\n",
       "  <tbody>\n",
       "    <tr>\n",
       "      <th>301</th>\n",
       "      <td>74</td>\n",
       "      <td>0</td>\n",
       "      <td>0</td>\n",
       "      <td>5.8</td>\n",
       "      <td>0</td>\n",
       "      <td>0</td>\n",
       "      <td>1</td>\n",
       "      <td>12</td>\n",
       "      <td>0</td>\n",
       "      <td>0</td>\n",
       "      <td>4</td>\n",
       "      <td>0</td>\n",
       "      <td>0</td>\n",
       "      <td>0</td>\n",
       "      <td>2</td>\n",
       "      <td>1</td>\n",
       "      <td>2</td>\n",
       "      <td>0</td>\n",
       "      <td>0</td>\n",
       "      <td>0</td>\n",
       "    </tr>\n",
       "    <tr>\n",
       "      <th>122</th>\n",
       "      <td>70</td>\n",
       "      <td>0</td>\n",
       "      <td>0</td>\n",
       "      <td>12.0</td>\n",
       "      <td>1</td>\n",
       "      <td>1</td>\n",
       "      <td>0</td>\n",
       "      <td>18</td>\n",
       "      <td>0</td>\n",
       "      <td>0</td>\n",
       "      <td>2</td>\n",
       "      <td>0</td>\n",
       "      <td>0</td>\n",
       "      <td>0</td>\n",
       "      <td>2</td>\n",
       "      <td>1</td>\n",
       "      <td>2</td>\n",
       "      <td>0</td>\n",
       "      <td>0</td>\n",
       "      <td>0</td>\n",
       "    </tr>\n",
       "    <tr>\n",
       "      <th>228</th>\n",
       "      <td>64</td>\n",
       "      <td>0</td>\n",
       "      <td>0</td>\n",
       "      <td>8.0</td>\n",
       "      <td>0</td>\n",
       "      <td>1</td>\n",
       "      <td>1</td>\n",
       "      <td>12</td>\n",
       "      <td>0</td>\n",
       "      <td>0</td>\n",
       "      <td>2</td>\n",
       "      <td>0</td>\n",
       "      <td>0</td>\n",
       "      <td>0</td>\n",
       "      <td>2</td>\n",
       "      <td>1</td>\n",
       "      <td>2</td>\n",
       "      <td>0</td>\n",
       "      <td>0</td>\n",
       "      <td>0</td>\n",
       "    </tr>\n",
       "    <tr>\n",
       "      <th>257</th>\n",
       "      <td>66</td>\n",
       "      <td>0</td>\n",
       "      <td>0</td>\n",
       "      <td>8.0</td>\n",
       "      <td>0</td>\n",
       "      <td>1</td>\n",
       "      <td>3</td>\n",
       "      <td>12</td>\n",
       "      <td>0</td>\n",
       "      <td>0</td>\n",
       "      <td>9</td>\n",
       "      <td>0</td>\n",
       "      <td>0</td>\n",
       "      <td>0</td>\n",
       "      <td>2</td>\n",
       "      <td>1</td>\n",
       "      <td>2</td>\n",
       "      <td>0</td>\n",
       "      <td>0</td>\n",
       "      <td>0</td>\n",
       "    </tr>\n",
       "    <tr>\n",
       "      <th>102</th>\n",
       "      <td>67</td>\n",
       "      <td>0</td>\n",
       "      <td>0</td>\n",
       "      <td>8.8</td>\n",
       "      <td>0</td>\n",
       "      <td>1</td>\n",
       "      <td>1</td>\n",
       "      <td>12</td>\n",
       "      <td>0</td>\n",
       "      <td>0</td>\n",
       "      <td>9</td>\n",
       "      <td>0</td>\n",
       "      <td>0</td>\n",
       "      <td>0</td>\n",
       "      <td>2</td>\n",
       "      <td>1</td>\n",
       "      <td>2</td>\n",
       "      <td>0</td>\n",
       "      <td>0</td>\n",
       "      <td>0</td>\n",
       "    </tr>\n",
       "    <tr>\n",
       "      <th>147</th>\n",
       "      <td>53</td>\n",
       "      <td>0</td>\n",
       "      <td>0</td>\n",
       "      <td>6.0</td>\n",
       "      <td>1</td>\n",
       "      <td>0</td>\n",
       "      <td>1</td>\n",
       "      <td>24</td>\n",
       "      <td>0</td>\n",
       "      <td>0</td>\n",
       "      <td>9</td>\n",
       "      <td>0</td>\n",
       "      <td>0</td>\n",
       "      <td>0</td>\n",
       "      <td>2</td>\n",
       "      <td>1</td>\n",
       "      <td>2</td>\n",
       "      <td>0</td>\n",
       "      <td>0</td>\n",
       "      <td>0</td>\n",
       "    </tr>\n",
       "    <tr>\n",
       "      <th>234</th>\n",
       "      <td>68</td>\n",
       "      <td>0</td>\n",
       "      <td>0</td>\n",
       "      <td>29.0</td>\n",
       "      <td>0</td>\n",
       "      <td>1</td>\n",
       "      <td>1</td>\n",
       "      <td>12</td>\n",
       "      <td>0</td>\n",
       "      <td>0</td>\n",
       "      <td>9</td>\n",
       "      <td>0</td>\n",
       "      <td>0</td>\n",
       "      <td>0</td>\n",
       "      <td>2</td>\n",
       "      <td>1</td>\n",
       "      <td>2</td>\n",
       "      <td>0</td>\n",
       "      <td>0</td>\n",
       "      <td>0</td>\n",
       "    </tr>\n",
       "    <tr>\n",
       "      <th>78</th>\n",
       "      <td>71</td>\n",
       "      <td>0</td>\n",
       "      <td>0</td>\n",
       "      <td>9.0</td>\n",
       "      <td>0</td>\n",
       "      <td>1</td>\n",
       "      <td>2</td>\n",
       "      <td>12</td>\n",
       "      <td>0</td>\n",
       "      <td>0</td>\n",
       "      <td>1</td>\n",
       "      <td>0</td>\n",
       "      <td>0</td>\n",
       "      <td>0</td>\n",
       "      <td>2</td>\n",
       "      <td>1</td>\n",
       "      <td>2</td>\n",
       "      <td>0</td>\n",
       "      <td>0</td>\n",
       "      <td>0</td>\n",
       "    </tr>\n",
       "    <tr>\n",
       "      <th>312</th>\n",
       "      <td>70</td>\n",
       "      <td>0</td>\n",
       "      <td>0</td>\n",
       "      <td>18.0</td>\n",
       "      <td>0</td>\n",
       "      <td>1</td>\n",
       "      <td>1</td>\n",
       "      <td>12</td>\n",
       "      <td>0</td>\n",
       "      <td>0</td>\n",
       "      <td>9</td>\n",
       "      <td>0</td>\n",
       "      <td>0</td>\n",
       "      <td>0</td>\n",
       "      <td>2</td>\n",
       "      <td>1</td>\n",
       "      <td>2</td>\n",
       "      <td>0</td>\n",
       "      <td>0</td>\n",
       "      <td>0</td>\n",
       "    </tr>\n",
       "    <tr>\n",
       "      <th>5</th>\n",
       "      <td>63</td>\n",
       "      <td>1</td>\n",
       "      <td>0</td>\n",
       "      <td>21.0</td>\n",
       "      <td>0</td>\n",
       "      <td>1</td>\n",
       "      <td>0</td>\n",
       "      <td>24</td>\n",
       "      <td>0</td>\n",
       "      <td>0</td>\n",
       "      <td>9</td>\n",
       "      <td>0</td>\n",
       "      <td>0</td>\n",
       "      <td>0</td>\n",
       "      <td>2</td>\n",
       "      <td>1</td>\n",
       "      <td>2</td>\n",
       "      <td>0</td>\n",
       "      <td>0</td>\n",
       "      <td>0</td>\n",
       "    </tr>\n",
       "    <tr>\n",
       "      <th>131</th>\n",
       "      <td>58</td>\n",
       "      <td>0</td>\n",
       "      <td>0</td>\n",
       "      <td>7.0</td>\n",
       "      <td>0</td>\n",
       "      <td>0</td>\n",
       "      <td>1</td>\n",
       "      <td>12</td>\n",
       "      <td>0</td>\n",
       "      <td>0</td>\n",
       "      <td>9</td>\n",
       "      <td>0</td>\n",
       "      <td>0</td>\n",
       "      <td>0</td>\n",
       "      <td>2</td>\n",
       "      <td>1</td>\n",
       "      <td>2</td>\n",
       "      <td>0</td>\n",
       "      <td>0</td>\n",
       "      <td>0</td>\n",
       "    </tr>\n",
       "    <tr>\n",
       "      <th>344</th>\n",
       "      <td>63</td>\n",
       "      <td>0</td>\n",
       "      <td>0</td>\n",
       "      <td>8.0</td>\n",
       "      <td>0</td>\n",
       "      <td>0</td>\n",
       "      <td>3</td>\n",
       "      <td>18</td>\n",
       "      <td>0</td>\n",
       "      <td>0</td>\n",
       "      <td>9</td>\n",
       "      <td>0</td>\n",
       "      <td>0</td>\n",
       "      <td>0</td>\n",
       "      <td>2</td>\n",
       "      <td>1</td>\n",
       "      <td>2</td>\n",
       "      <td>0</td>\n",
       "      <td>0</td>\n",
       "      <td>0</td>\n",
       "    </tr>\n",
       "    <tr>\n",
       "      <th>175</th>\n",
       "      <td>64</td>\n",
       "      <td>1</td>\n",
       "      <td>0</td>\n",
       "      <td>7.0</td>\n",
       "      <td>0</td>\n",
       "      <td>1</td>\n",
       "      <td>0</td>\n",
       "      <td>12</td>\n",
       "      <td>0</td>\n",
       "      <td>0</td>\n",
       "      <td>4</td>\n",
       "      <td>0</td>\n",
       "      <td>0</td>\n",
       "      <td>0</td>\n",
       "      <td>2</td>\n",
       "      <td>1</td>\n",
       "      <td>2</td>\n",
       "      <td>0</td>\n",
       "      <td>0</td>\n",
       "      <td>0</td>\n",
       "    </tr>\n",
       "    <tr>\n",
       "      <th>62</th>\n",
       "      <td>64</td>\n",
       "      <td>0</td>\n",
       "      <td>0</td>\n",
       "      <td>13.0</td>\n",
       "      <td>1</td>\n",
       "      <td>0</td>\n",
       "      <td>1</td>\n",
       "      <td>24</td>\n",
       "      <td>0</td>\n",
       "      <td>0</td>\n",
       "      <td>4</td>\n",
       "      <td>0</td>\n",
       "      <td>1</td>\n",
       "      <td>0</td>\n",
       "      <td>2</td>\n",
       "      <td>1</td>\n",
       "      <td>2</td>\n",
       "      <td>0</td>\n",
       "      <td>0</td>\n",
       "      <td>0</td>\n",
       "    </tr>\n",
       "    <tr>\n",
       "      <th>261</th>\n",
       "      <td>61</td>\n",
       "      <td>0</td>\n",
       "      <td>0</td>\n",
       "      <td>6.2</td>\n",
       "      <td>0</td>\n",
       "      <td>1</td>\n",
       "      <td>1</td>\n",
       "      <td>12</td>\n",
       "      <td>0</td>\n",
       "      <td>0</td>\n",
       "      <td>2</td>\n",
       "      <td>0</td>\n",
       "      <td>0</td>\n",
       "      <td>0</td>\n",
       "      <td>2</td>\n",
       "      <td>1</td>\n",
       "      <td>2</td>\n",
       "      <td>0</td>\n",
       "      <td>0</td>\n",
       "      <td>0</td>\n",
       "    </tr>\n",
       "    <tr>\n",
       "      <th>132</th>\n",
       "      <td>79</td>\n",
       "      <td>0</td>\n",
       "      <td>0</td>\n",
       "      <td>10.6</td>\n",
       "      <td>0</td>\n",
       "      <td>1</td>\n",
       "      <td>1</td>\n",
       "      <td>6</td>\n",
       "      <td>0</td>\n",
       "      <td>0</td>\n",
       "      <td>6</td>\n",
       "      <td>0</td>\n",
       "      <td>0</td>\n",
       "      <td>0</td>\n",
       "      <td>2</td>\n",
       "      <td>1</td>\n",
       "      <td>2</td>\n",
       "      <td>0</td>\n",
       "      <td>0</td>\n",
       "      <td>0</td>\n",
       "    </tr>\n",
       "    <tr>\n",
       "      <th>95</th>\n",
       "      <td>67</td>\n",
       "      <td>0</td>\n",
       "      <td>0</td>\n",
       "      <td>5.8</td>\n",
       "      <td>0</td>\n",
       "      <td>0</td>\n",
       "      <td>1</td>\n",
       "      <td>18</td>\n",
       "      <td>0</td>\n",
       "      <td>0</td>\n",
       "      <td>4</td>\n",
       "      <td>0</td>\n",
       "      <td>0</td>\n",
       "      <td>0</td>\n",
       "      <td>2</td>\n",
       "      <td>1</td>\n",
       "      <td>2</td>\n",
       "      <td>0</td>\n",
       "      <td>0</td>\n",
       "      <td>0</td>\n",
       "    </tr>\n",
       "    <tr>\n",
       "      <th>365</th>\n",
       "      <td>60</td>\n",
       "      <td>0</td>\n",
       "      <td>0</td>\n",
       "      <td>6.5</td>\n",
       "      <td>0</td>\n",
       "      <td>1</td>\n",
       "      <td>1</td>\n",
       "      <td>18</td>\n",
       "      <td>0</td>\n",
       "      <td>0</td>\n",
       "      <td>10</td>\n",
       "      <td>0</td>\n",
       "      <td>0</td>\n",
       "      <td>0</td>\n",
       "      <td>2</td>\n",
       "      <td>1</td>\n",
       "      <td>2</td>\n",
       "      <td>0</td>\n",
       "      <td>0</td>\n",
       "      <td>0</td>\n",
       "    </tr>\n",
       "    <tr>\n",
       "      <th>98</th>\n",
       "      <td>71</td>\n",
       "      <td>0</td>\n",
       "      <td>0</td>\n",
       "      <td>5.4</td>\n",
       "      <td>0</td>\n",
       "      <td>1</td>\n",
       "      <td>1</td>\n",
       "      <td>12</td>\n",
       "      <td>0</td>\n",
       "      <td>0</td>\n",
       "      <td>9</td>\n",
       "      <td>0</td>\n",
       "      <td>0</td>\n",
       "      <td>0</td>\n",
       "      <td>2</td>\n",
       "      <td>1</td>\n",
       "      <td>2</td>\n",
       "      <td>0</td>\n",
       "      <td>0</td>\n",
       "      <td>0</td>\n",
       "    </tr>\n",
       "    <tr>\n",
       "      <th>258</th>\n",
       "      <td>63</td>\n",
       "      <td>0</td>\n",
       "      <td>0</td>\n",
       "      <td>21.3</td>\n",
       "      <td>1</td>\n",
       "      <td>1</td>\n",
       "      <td>3</td>\n",
       "      <td>24</td>\n",
       "      <td>0</td>\n",
       "      <td>0</td>\n",
       "      <td>9</td>\n",
       "      <td>0</td>\n",
       "      <td>1</td>\n",
       "      <td>0</td>\n",
       "      <td>2</td>\n",
       "      <td>1</td>\n",
       "      <td>2</td>\n",
       "      <td>0</td>\n",
       "      <td>0</td>\n",
       "      <td>0</td>\n",
       "    </tr>\n",
       "    <tr>\n",
       "      <th>81</th>\n",
       "      <td>69</td>\n",
       "      <td>0</td>\n",
       "      <td>0</td>\n",
       "      <td>17.0</td>\n",
       "      <td>1</td>\n",
       "      <td>1</td>\n",
       "      <td>0</td>\n",
       "      <td>12</td>\n",
       "      <td>0</td>\n",
       "      <td>1</td>\n",
       "      <td>9</td>\n",
       "      <td>0</td>\n",
       "      <td>0</td>\n",
       "      <td>0</td>\n",
       "      <td>2</td>\n",
       "      <td>1</td>\n",
       "      <td>2</td>\n",
       "      <td>0</td>\n",
       "      <td>0</td>\n",
       "      <td>0</td>\n",
       "    </tr>\n",
       "  </tbody>\n",
       "</table>\n",
       "</div>"
      ],
      "text/plain": [
       "     EDAD  DIABETES  HOSPITALIZACIÓN ULTIMO MES   PSA  BIOPSIAS PREVIAS  \\\n",
       "301    74         0                           0   5.8                 0   \n",
       "122    70         0                           0  12.0                 1   \n",
       "228    64         0                           0   8.0                 0   \n",
       "257    66         0                           0   8.0                 0   \n",
       "102    67         0                           0   8.8                 0   \n",
       "147    53         0                           0   6.0                 1   \n",
       "234    68         0                           0  29.0                 0   \n",
       "78     71         0                           0   9.0                 0   \n",
       "312    70         0                           0  18.0                 0   \n",
       "5      63         1                           0  21.0                 0   \n",
       "131    58         0                           0   7.0                 0   \n",
       "344    63         0                           0   8.0                 0   \n",
       "175    64         1                           0   7.0                 0   \n",
       "62     64         0                           0  13.0                 1   \n",
       "261    61         0                           0   6.2                 0   \n",
       "132    79         0                           0  10.6                 0   \n",
       "95     67         0                           0   5.8                 0   \n",
       "365    60         0                           0   6.5                 0   \n",
       "98     71         0                           0   5.4                 0   \n",
       "258    63         0                           0  21.3                 1   \n",
       "81     69         0                           0  17.0                 1   \n",
       "\n",
       "     VOLUMEN PROSTATICO  ANTIBIOTICO UTILIAZADO EN LA PROFILAXIS  \\\n",
       "301                   0                                        1   \n",
       "122                   1                                        0   \n",
       "228                   1                                        1   \n",
       "257                   1                                        3   \n",
       "102                   1                                        1   \n",
       "147                   0                                        1   \n",
       "234                   1                                        1   \n",
       "78                    1                                        2   \n",
       "312                   1                                        1   \n",
       "5                     1                                        0   \n",
       "131                   0                                        1   \n",
       "344                   0                                        3   \n",
       "175                   1                                        0   \n",
       "62                    0                                        1   \n",
       "261                   1                                        1   \n",
       "132                   1                                        1   \n",
       "95                    0                                        1   \n",
       "365                   1                                        1   \n",
       "98                    1                                        1   \n",
       "258                   1                                        3   \n",
       "81                    1                                        0   \n",
       "\n",
       "     NUMERO DE MUESTRAS TOMADAS  CUP  ENF. CRONICA PULMONAR OBSTRUCTIVA  \\\n",
       "301                          12    0                                  0   \n",
       "122                          18    0                                  0   \n",
       "228                          12    0                                  0   \n",
       "257                          12    0                                  0   \n",
       "102                          12    0                                  0   \n",
       "147                          24    0                                  0   \n",
       "234                          12    0                                  0   \n",
       "78                           12    0                                  0   \n",
       "312                          12    0                                  0   \n",
       "5                            24    0                                  0   \n",
       "131                          12    0                                  0   \n",
       "344                          18    0                                  0   \n",
       "175                          12    0                                  0   \n",
       "62                           24    0                                  0   \n",
       "261                          12    0                                  0   \n",
       "132                           6    0                                  0   \n",
       "95                           18    0                                  0   \n",
       "365                          18    0                                  0   \n",
       "98                           12    0                                  0   \n",
       "258                          24    0                                  0   \n",
       "81                           12    0                                  1   \n",
       "\n",
       "     BIOPSIA  \\\n",
       "301        4   \n",
       "122        2   \n",
       "228        2   \n",
       "257        9   \n",
       "102        9   \n",
       "147        9   \n",
       "234        9   \n",
       "78         1   \n",
       "312        9   \n",
       "5          9   \n",
       "131        9   \n",
       "344        9   \n",
       "175        4   \n",
       "62         4   \n",
       "261        2   \n",
       "132        6   \n",
       "95         4   \n",
       "365       10   \n",
       "98         9   \n",
       "258        9   \n",
       "81         9   \n",
       "\n",
       "     NUMERO DE DIAS POST BIOPSIA EN QUE SE PRESENTA LA COMPLICACIÓN INFECCIOSA  \\\n",
       "301                                                  0                           \n",
       "122                                                  0                           \n",
       "228                                                  0                           \n",
       "257                                                  0                           \n",
       "102                                                  0                           \n",
       "147                                                  0                           \n",
       "234                                                  0                           \n",
       "78                                                   0                           \n",
       "312                                                  0                           \n",
       "5                                                    0                           \n",
       "131                                                  0                           \n",
       "344                                                  0                           \n",
       "175                                                  0                           \n",
       "62                                                   0                           \n",
       "261                                                  0                           \n",
       "132                                                  0                           \n",
       "95                                                   0                           \n",
       "365                                                  0                           \n",
       "98                                                   0                           \n",
       "258                                                  0                           \n",
       "81                                                   0                           \n",
       "\n",
       "     FIEBRE  ITU  TIPO DE CULTIVO  AGENTE AISLADO  PATRON DE RESISTENCIA  \\\n",
       "301       0    0                2               1                      2   \n",
       "122       0    0                2               1                      2   \n",
       "228       0    0                2               1                      2   \n",
       "257       0    0                2               1                      2   \n",
       "102       0    0                2               1                      2   \n",
       "147       0    0                2               1                      2   \n",
       "234       0    0                2               1                      2   \n",
       "78        0    0                2               1                      2   \n",
       "312       0    0                2               1                      2   \n",
       "5         0    0                2               1                      2   \n",
       "131       0    0                2               1                      2   \n",
       "344       0    0                2               1                      2   \n",
       "175       0    0                2               1                      2   \n",
       "62        1    0                2               1                      2   \n",
       "261       0    0                2               1                      2   \n",
       "132       0    0                2               1                      2   \n",
       "95        0    0                2               1                      2   \n",
       "365       0    0                2               1                      2   \n",
       "98        0    0                2               1                      2   \n",
       "258       1    0                2               1                      2   \n",
       "81        0    0                2               1                      2   \n",
       "\n",
       "     DIAS HOSPITALIZACION MQ  DIAS HOSPITALIZACIÓN UPC  HOSPITALIZACION  \n",
       "301                        0                         0                0  \n",
       "122                        0                         0                0  \n",
       "228                        0                         0                0  \n",
       "257                        0                         0                0  \n",
       "102                        0                         0                0  \n",
       "147                        0                         0                0  \n",
       "234                        0                         0                0  \n",
       "78                         0                         0                0  \n",
       "312                        0                         0                0  \n",
       "5                          0                         0                0  \n",
       "131                        0                         0                0  \n",
       "344                        0                         0                0  \n",
       "175                        0                         0                0  \n",
       "62                         0                         0                0  \n",
       "261                        0                         0                0  \n",
       "132                        0                         0                0  \n",
       "95                         0                         0                0  \n",
       "365                        0                         0                0  \n",
       "98                         0                         0                0  \n",
       "258                        0                         0                0  \n",
       "81                         0                         0                0  "
      ]
     },
     "execution_count": 45,
     "metadata": {},
     "output_type": "execute_result"
    }
   ],
   "source": [
    "df_train_us_class0 = df_train_enn[df_train_enn[target] == 0].sample(n=21, random_state=1)\n",
    "df_train_us_class0"
   ]
  },
  {
   "cell_type": "markdown",
   "metadata": {},
   "source": [
    "Creamos el dataframe"
   ]
  },
  {
   "cell_type": "code",
   "execution_count": 46,
   "metadata": {},
   "outputs": [
    {
     "data": {
      "text/plain": [
       "HOSPITALIZACION\n",
       "0    21\n",
       "1    14\n",
       "Name: HOSPITALIZACION, dtype: int64"
      ]
     },
     "execution_count": 46,
     "metadata": {},
     "output_type": "execute_result"
    }
   ],
   "source": [
    "df_train_4 = pd.concat([df_train_us_class0, df_train_enn[df_train_enn[target] == 1]], axis=0)\n",
    "df_train_4.groupby(target)[target].count()"
   ]
  },
  {
   "cell_type": "markdown",
   "metadata": {},
   "source": [
    "Separamos los predictores del target y los almacenamos en variables"
   ]
  },
  {
   "cell_type": "code",
   "execution_count": 47,
   "metadata": {},
   "outputs": [],
   "source": [
    "X_train_4 = df_train_4.drop(columns=target)\n",
    "y_train_4 = df_train_4[target]"
   ]
  },
  {
   "cell_type": "markdown",
   "metadata": {},
   "source": [
    "#### Resultados Undersampling Aleatorio combinado con ENN"
   ]
  },
  {
   "cell_type": "code",
   "execution_count": 48,
   "metadata": {},
   "outputs": [
    {
     "data": {
      "text/plain": [
       "{SVC(C=1, kernel='linear'): 1.0,\n",
       " GaussianNB(): 1.0,\n",
       " RandomForestClassifier(): 1.0}"
      ]
     },
     "execution_count": 48,
     "metadata": {},
     "output_type": "execute_result"
    }
   ],
   "source": [
    "clfs_4 = {\n",
    "    clf_svm: cross_validation(clf_svm, X_train_4, y_train_4, score_metric, K),\n",
    "    clf_nb: cross_validation(clf_nb, X_train_4, y_train_4, score_metric, K),\n",
    "    clf_rf: cross_validation(clf_rf, X_train_4, y_train_4, score_metric, K)\n",
    "}\n",
    "clfs_4"
   ]
  },
  {
   "cell_type": "markdown",
   "metadata": {},
   "source": [
    "Podemos ver que combinando Undersampling Aleatorio con ENN, tenemos que los 3 modelos de clasificación tienen un rendimiento perfecto. Lo anterior puede deberse a una situación de overfitting, o bien, que el modelo tiene buena capacidad de generalización basado en predictores que tienen muy buen rendimiento."
   ]
  },
  {
   "cell_type": "markdown",
   "metadata": {},
   "source": [
    "### 5. Técnicas de Oversampling"
   ]
  },
  {
   "cell_type": "markdown",
   "metadata": {},
   "source": [
    "Utilizaremos las técnicas de resampleo aleatorio de datos y SMOTE combinadamente"
   ]
  },
  {
   "cell_type": "markdown",
   "metadata": {},
   "source": [
    "Obtendremos aleatoriamente 10 datos de la clase minoritaria y luego aplicamos SMOTE."
   ]
  },
  {
   "cell_type": "code",
   "execution_count": 49,
   "metadata": {},
   "outputs": [],
   "source": [
    "df_train = pd.concat([X_train, y_train], axis=1)"
   ]
  },
  {
   "cell_type": "code",
   "execution_count": 50,
   "metadata": {},
   "outputs": [
    {
     "data": {
      "text/plain": [
       "HOSPITALIZACION\n",
       "0    383\n",
       "1     14\n",
       "Name: HOSPITALIZACION, dtype: int64"
      ]
     },
     "execution_count": 50,
     "metadata": {},
     "output_type": "execute_result"
    }
   ],
   "source": [
    "df_train.groupby(target)[target].count()"
   ]
  },
  {
   "cell_type": "code",
   "execution_count": 51,
   "metadata": {},
   "outputs": [],
   "source": [
    "samples_minority_df = df_train[df_train[target] == 1].sample(n=10, random_state=1)"
   ]
  },
  {
   "cell_type": "markdown",
   "metadata": {},
   "source": [
    "Unimos estos datos al dataset de entrenamiento, para luego aplicar SMOTE."
   ]
  },
  {
   "cell_type": "code",
   "execution_count": 52,
   "metadata": {},
   "outputs": [
    {
     "data": {
      "text/plain": [
       "HOSPITALIZACION\n",
       "0    383\n",
       "1     24\n",
       "Name: HOSPITALIZACION, dtype: int64"
      ]
     },
     "execution_count": 52,
     "metadata": {},
     "output_type": "execute_result"
    }
   ],
   "source": [
    "df_train_5 = pd.concat([df_train, samples_minority_df], axis=0)\n",
    "df_train_5.groupby(target)[target].count()"
   ]
  },
  {
   "cell_type": "markdown",
   "metadata": {},
   "source": [
    "Aplicamos SMOTE"
   ]
  },
  {
   "cell_type": "code",
   "execution_count": 53,
   "metadata": {},
   "outputs": [],
   "source": [
    "from imblearn.over_sampling import SMOTE"
   ]
  },
  {
   "cell_type": "code",
   "execution_count": 54,
   "metadata": {},
   "outputs": [],
   "source": [
    "smote = SMOTE(random_state=1)\n",
    "X_train_5_random = df_train_5.drop(columns=target)\n",
    "y_train_5_random = df_train_5[target]"
   ]
  },
  {
   "cell_type": "code",
   "execution_count": 55,
   "metadata": {},
   "outputs": [],
   "source": [
    "X_train_5, y_train_5 = smote.fit_resample(X_train_5_random, y_train_5_random)"
   ]
  },
  {
   "cell_type": "code",
   "execution_count": 56,
   "metadata": {},
   "outputs": [
    {
     "data": {
      "text/plain": [
       "HOSPITALIZACION\n",
       "0    383\n",
       "1    383\n",
       "Name: HOSPITALIZACION, dtype: int64"
      ]
     },
     "execution_count": 56,
     "metadata": {},
     "output_type": "execute_result"
    }
   ],
   "source": [
    "pd.concat([X_train_5, y_train_5], axis=1).groupby(target)[target].count()"
   ]
  },
  {
   "cell_type": "markdown",
   "metadata": {},
   "source": [
    "##### Resultados Oversampling aleatorio combinado con SMOTE"
   ]
  },
  {
   "cell_type": "code",
   "execution_count": 57,
   "metadata": {},
   "outputs": [
    {
     "data": {
      "text/plain": [
       "{SVC(C=1, kernel='linear'): 0.9974999999999999,\n",
       " GaussianNB(): 0.9936367746177872,\n",
       " RandomForestClassifier(): 1.0}"
      ]
     },
     "execution_count": 57,
     "metadata": {},
     "output_type": "execute_result"
    }
   ],
   "source": [
    "clfs_5 = {\n",
    "    clf_svm: cross_validation(clf_svm, X_train_5, y_train_5, score_metric, K),\n",
    "    clf_nb: cross_validation(clf_nb, X_train_5, y_train_5, score_metric, K),\n",
    "    clf_rf: cross_validation(clf_rf, X_train_5, y_train_5, score_metric, K)\n",
    "}\n",
    "clfs_5"
   ]
  },
  {
   "cell_type": "markdown",
   "metadata": {},
   "source": [
    "Podemos ver que tenemos resultados muy buenos respecto al `F1-Score` para los tres modelos, en el cual tenemos que el mejor modelo es `Random Forest`."
   ]
  },
  {
   "cell_type": "markdown",
   "metadata": {},
   "source": [
    "### 6. Técnica de undersampling con oversampling al mismo tiempo"
   ]
  },
  {
   "cell_type": "markdown",
   "metadata": {},
   "source": [
    "Para este caso, también utilizando la librería `emblearn`, podemos utilizar `SMOTE` combinado con `ENN` y evaluaremos nuestros modelos en base a la métrica `F1-score`."
   ]
  },
  {
   "cell_type": "code",
   "execution_count": 58,
   "metadata": {},
   "outputs": [],
   "source": [
    "from imblearn.combine import SMOTEENN"
   ]
  },
  {
   "cell_type": "code",
   "execution_count": 59,
   "metadata": {},
   "outputs": [],
   "source": [
    "# Usamos la misma configuración para ENN que antes\n",
    "enn = EditedNearestNeighbours(sampling_strategy='auto', n_neighbors=10)\n",
    "smoteenn = SMOTEENN(enn=enn, random_state=1)"
   ]
  },
  {
   "cell_type": "code",
   "execution_count": 60,
   "metadata": {},
   "outputs": [],
   "source": [
    "X_train_6, y_train_6 = smoteenn.fit_resample(X_train, y_train)"
   ]
  },
  {
   "cell_type": "code",
   "execution_count": 61,
   "metadata": {},
   "outputs": [
    {
     "data": {
      "text/plain": [
       "HOSPITALIZACION\n",
       "0    383\n",
       "1    378\n",
       "Name: HOSPITALIZACION, dtype: int64"
      ]
     },
     "execution_count": 61,
     "metadata": {},
     "output_type": "execute_result"
    }
   ],
   "source": [
    "pd.concat([X_train_6, y_train_6], axis=1).groupby(target)[target].count()"
   ]
  },
  {
   "cell_type": "markdown",
   "metadata": {},
   "source": [
    "Para lo anterior, obtenemos una proporción 50:50 aproximadamente, entre ambas clases. Veremos los resultados obtenidos."
   ]
  },
  {
   "cell_type": "code",
   "execution_count": 62,
   "metadata": {},
   "outputs": [
    {
     "data": {
      "text/plain": [
       "{SVC(C=1, kernel='linear'): 0.9974358974358974,\n",
       " GaussianNB(): 0.9974358974358974,\n",
       " RandomForestClassifier(): 1.0}"
      ]
     },
     "execution_count": 62,
     "metadata": {},
     "output_type": "execute_result"
    }
   ],
   "source": [
    "clfs_6 = {\n",
    "    clf_svm: cross_validation(clf_svm, X_train_6, y_train_6, score_metric, K),\n",
    "    clf_nb: cross_validation(clf_nb, X_train_6, y_train_6, score_metric, K),\n",
    "    clf_rf: cross_validation(clf_rf, X_train_6, y_train_6, score_metric, K)\n",
    "}\n",
    "clfs_6"
   ]
  },
  {
   "cell_type": "markdown",
   "metadata": {},
   "source": [
    "Similar al caso anterior, el mejor modelo de clasificación que obtenemos combinando una técnica de undersampling (ENN) y oversampling (SMOTE) es `Random Forest`, al considerar la métrica `F1-Score`."
   ]
  },
  {
   "cell_type": "markdown",
   "metadata": {},
   "source": [
    "### 7. Determinar mejor estrategia y ajuste del mejor modelo."
   ]
  },
  {
   "cell_type": "markdown",
   "metadata": {},
   "source": [
    "Observando las estrategias anteriores hay varios puntos a considerar."
   ]
  },
  {
   "cell_type": "markdown",
   "metadata": {},
   "source": [
    "En primer lugar, la cantidad de datos que tenemos de nuestro dataset en particular es bastante baja. En dicho caso, se puede ver que el dataset de entrenamiento tiene `397` casos, por lo que no sería aconsejable en este caso aplicar undersampling. Dicho lo anterior, podemos descartar que la `estrategia 4`. Aún así, si vemos las métricas de `f1-score` para dicha estrategia, son las mejores, pero eso puede ser explicado por otro motivo. "
   ]
  },
  {
   "cell_type": "markdown",
   "metadata": {},
   "source": [
    "En segundo lugar, la `estrategia 3` se podría descartar ya que tiene visiblemente las peores métricas y es evidente que se puede deber a no tener un buen desempeño en predecir la clase minoritaria."
   ]
  },
  {
   "cell_type": "markdown",
   "metadata": {},
   "source": [
    "En último lugar podemos ver que la `estrategia 6` y `estrategia 5` son muy similares en `F1-Score`, siendo la `estrategia 6` mejor en `Naive Bayes` y la `estrategia 5` mejor en `SVC`. "
   ]
  },
  {
   "cell_type": "markdown",
   "metadata": {},
   "source": [
    "Dicho lo anterior, debido a la característica del dataset con el que contamos, no sería aconsejable disminuir nuestra masa de datos debido a lo poco que tenemos, sin embargo en las técnicas de `undersampling` se obtuvieron los mejores rendimientos. Esto se puede deber a que quizás estemos en la situación de que ciertas columnas generen que la variable target sea la clase minoritaria de forma casi determinística. En este caso, quizás pueden haber variables que por protocolo médico indique que debe haber hospitalización, por lo que en tal caso la `estrategia 4` de `undersampling` puede funcionar mejor, dado que tenemos una correlación muy fuerte. "
   ]
  },
  {
   "cell_type": "markdown",
   "metadata": {},
   "source": [
    "Podemos ver el caso de la variable `NUMERO DE DIAS POST BIOPSIA EN QUE SE PRESENTA LA COMPLICACIÓN INFECCIOSA` por ejemplo, en el que cuando esta variable es mayor a 0, el target es 1, y cuando es menor a 0 el target es 0. Dado lo anterior, como tenemos una muestra pequeña para la `estrategia 4` en que esto ocurre al 100%, puede que estemos ante un caso determinístico y por ende, las métricas de clasificación serán muy elevadas.\n",
    "\n",
    "Es por esto que metodológicamente hablando, la estrategia mejor a considerar debiera ser la que utilice `oversampling` siempre para este caso y aumentar la masa de datos. De esa forma, la `estrategia 5` puede ser la más adecuada."
   ]
  },
  {
   "cell_type": "code",
   "execution_count": 66,
   "metadata": {},
   "outputs": [
    {
     "data": {
      "text/html": [
       "<div>\n",
       "<style scoped>\n",
       "    .dataframe tbody tr th:only-of-type {\n",
       "        vertical-align: middle;\n",
       "    }\n",
       "\n",
       "    .dataframe tbody tr th {\n",
       "        vertical-align: top;\n",
       "    }\n",
       "\n",
       "    .dataframe thead th {\n",
       "        text-align: right;\n",
       "    }\n",
       "</style>\n",
       "<table border=\"1\" class=\"dataframe\">\n",
       "  <thead>\n",
       "    <tr style=\"text-align: right;\">\n",
       "      <th></th>\n",
       "      <th>NUMERO DE DIAS POST BIOPSIA EN QUE SE PRESENTA LA COMPLICACIÓN INFECCIOSA</th>\n",
       "      <th>HOSPITALIZACION</th>\n",
       "    </tr>\n",
       "  </thead>\n",
       "  <tbody>\n",
       "    <tr>\n",
       "      <th>301</th>\n",
       "      <td>0</td>\n",
       "      <td>0</td>\n",
       "    </tr>\n",
       "    <tr>\n",
       "      <th>122</th>\n",
       "      <td>0</td>\n",
       "      <td>0</td>\n",
       "    </tr>\n",
       "    <tr>\n",
       "      <th>228</th>\n",
       "      <td>0</td>\n",
       "      <td>0</td>\n",
       "    </tr>\n",
       "    <tr>\n",
       "      <th>257</th>\n",
       "      <td>0</td>\n",
       "      <td>0</td>\n",
       "    </tr>\n",
       "    <tr>\n",
       "      <th>102</th>\n",
       "      <td>0</td>\n",
       "      <td>0</td>\n",
       "    </tr>\n",
       "    <tr>\n",
       "      <th>147</th>\n",
       "      <td>0</td>\n",
       "      <td>0</td>\n",
       "    </tr>\n",
       "    <tr>\n",
       "      <th>234</th>\n",
       "      <td>0</td>\n",
       "      <td>0</td>\n",
       "    </tr>\n",
       "    <tr>\n",
       "      <th>78</th>\n",
       "      <td>0</td>\n",
       "      <td>0</td>\n",
       "    </tr>\n",
       "    <tr>\n",
       "      <th>312</th>\n",
       "      <td>0</td>\n",
       "      <td>0</td>\n",
       "    </tr>\n",
       "    <tr>\n",
       "      <th>5</th>\n",
       "      <td>0</td>\n",
       "      <td>0</td>\n",
       "    </tr>\n",
       "    <tr>\n",
       "      <th>131</th>\n",
       "      <td>0</td>\n",
       "      <td>0</td>\n",
       "    </tr>\n",
       "    <tr>\n",
       "      <th>344</th>\n",
       "      <td>0</td>\n",
       "      <td>0</td>\n",
       "    </tr>\n",
       "    <tr>\n",
       "      <th>175</th>\n",
       "      <td>0</td>\n",
       "      <td>0</td>\n",
       "    </tr>\n",
       "    <tr>\n",
       "      <th>62</th>\n",
       "      <td>0</td>\n",
       "      <td>0</td>\n",
       "    </tr>\n",
       "    <tr>\n",
       "      <th>261</th>\n",
       "      <td>0</td>\n",
       "      <td>0</td>\n",
       "    </tr>\n",
       "    <tr>\n",
       "      <th>132</th>\n",
       "      <td>0</td>\n",
       "      <td>0</td>\n",
       "    </tr>\n",
       "    <tr>\n",
       "      <th>95</th>\n",
       "      <td>0</td>\n",
       "      <td>0</td>\n",
       "    </tr>\n",
       "    <tr>\n",
       "      <th>365</th>\n",
       "      <td>0</td>\n",
       "      <td>0</td>\n",
       "    </tr>\n",
       "    <tr>\n",
       "      <th>98</th>\n",
       "      <td>0</td>\n",
       "      <td>0</td>\n",
       "    </tr>\n",
       "    <tr>\n",
       "      <th>258</th>\n",
       "      <td>0</td>\n",
       "      <td>0</td>\n",
       "    </tr>\n",
       "    <tr>\n",
       "      <th>81</th>\n",
       "      <td>0</td>\n",
       "      <td>0</td>\n",
       "    </tr>\n",
       "    <tr>\n",
       "      <th>368</th>\n",
       "      <td>3</td>\n",
       "      <td>1</td>\n",
       "    </tr>\n",
       "    <tr>\n",
       "      <th>369</th>\n",
       "      <td>3</td>\n",
       "      <td>1</td>\n",
       "    </tr>\n",
       "    <tr>\n",
       "      <th>370</th>\n",
       "      <td>1</td>\n",
       "      <td>1</td>\n",
       "    </tr>\n",
       "    <tr>\n",
       "      <th>371</th>\n",
       "      <td>1</td>\n",
       "      <td>1</td>\n",
       "    </tr>\n",
       "    <tr>\n",
       "      <th>372</th>\n",
       "      <td>2</td>\n",
       "      <td>1</td>\n",
       "    </tr>\n",
       "    <tr>\n",
       "      <th>373</th>\n",
       "      <td>2</td>\n",
       "      <td>1</td>\n",
       "    </tr>\n",
       "    <tr>\n",
       "      <th>374</th>\n",
       "      <td>2</td>\n",
       "      <td>1</td>\n",
       "    </tr>\n",
       "    <tr>\n",
       "      <th>375</th>\n",
       "      <td>2</td>\n",
       "      <td>1</td>\n",
       "    </tr>\n",
       "    <tr>\n",
       "      <th>376</th>\n",
       "      <td>2</td>\n",
       "      <td>1</td>\n",
       "    </tr>\n",
       "    <tr>\n",
       "      <th>377</th>\n",
       "      <td>2</td>\n",
       "      <td>1</td>\n",
       "    </tr>\n",
       "    <tr>\n",
       "      <th>378</th>\n",
       "      <td>2</td>\n",
       "      <td>1</td>\n",
       "    </tr>\n",
       "    <tr>\n",
       "      <th>379</th>\n",
       "      <td>2</td>\n",
       "      <td>1</td>\n",
       "    </tr>\n",
       "    <tr>\n",
       "      <th>380</th>\n",
       "      <td>3</td>\n",
       "      <td>1</td>\n",
       "    </tr>\n",
       "    <tr>\n",
       "      <th>381</th>\n",
       "      <td>5</td>\n",
       "      <td>1</td>\n",
       "    </tr>\n",
       "  </tbody>\n",
       "</table>\n",
       "</div>"
      ],
      "text/plain": [
       "     NUMERO DE DIAS POST BIOPSIA EN QUE SE PRESENTA LA COMPLICACIÓN INFECCIOSA  \\\n",
       "301                                                  0                           \n",
       "122                                                  0                           \n",
       "228                                                  0                           \n",
       "257                                                  0                           \n",
       "102                                                  0                           \n",
       "147                                                  0                           \n",
       "234                                                  0                           \n",
       "78                                                   0                           \n",
       "312                                                  0                           \n",
       "5                                                    0                           \n",
       "131                                                  0                           \n",
       "344                                                  0                           \n",
       "175                                                  0                           \n",
       "62                                                   0                           \n",
       "261                                                  0                           \n",
       "132                                                  0                           \n",
       "95                                                   0                           \n",
       "365                                                  0                           \n",
       "98                                                   0                           \n",
       "258                                                  0                           \n",
       "81                                                   0                           \n",
       "368                                                  3                           \n",
       "369                                                  3                           \n",
       "370                                                  1                           \n",
       "371                                                  1                           \n",
       "372                                                  2                           \n",
       "373                                                  2                           \n",
       "374                                                  2                           \n",
       "375                                                  2                           \n",
       "376                                                  2                           \n",
       "377                                                  2                           \n",
       "378                                                  2                           \n",
       "379                                                  2                           \n",
       "380                                                  3                           \n",
       "381                                                  5                           \n",
       "\n",
       "     HOSPITALIZACION  \n",
       "301                0  \n",
       "122                0  \n",
       "228                0  \n",
       "257                0  \n",
       "102                0  \n",
       "147                0  \n",
       "234                0  \n",
       "78                 0  \n",
       "312                0  \n",
       "5                  0  \n",
       "131                0  \n",
       "344                0  \n",
       "175                0  \n",
       "62                 0  \n",
       "261                0  \n",
       "132                0  \n",
       "95                 0  \n",
       "365                0  \n",
       "98                 0  \n",
       "258                0  \n",
       "81                 0  \n",
       "368                1  \n",
       "369                1  \n",
       "370                1  \n",
       "371                1  \n",
       "372                1  \n",
       "373                1  \n",
       "374                1  \n",
       "375                1  \n",
       "376                1  \n",
       "377                1  \n",
       "378                1  \n",
       "379                1  \n",
       "380                1  \n",
       "381                1  "
      ]
     },
     "execution_count": 66,
     "metadata": {},
     "output_type": "execute_result"
    }
   ],
   "source": [
    "df_4 = pd.concat([X_train_4, y_train_4], axis=1)\n",
    "df_4[['NUMERO DE DIAS POST BIOPSIA EN QUE SE PRESENTA LA COMPLICACIÓN INFECCIOSA', 'HOSPITALIZACION']]"
   ]
  },
  {
   "cell_type": "markdown",
   "metadata": {},
   "source": [
    "#### Ajustamos los hiperparámetros de los modelos y aplicamos la estrategia 5"
   ]
  },
  {
   "cell_type": "markdown",
   "metadata": {},
   "source": [
    "#### Random Forest"
   ]
  },
  {
   "cell_type": "code",
   "execution_count": 68,
   "metadata": {},
   "outputs": [],
   "source": [
    "estimators = list()\n",
    "range_estimators = 200\n",
    "\n",
    "for n in range(50, range_estimators+1):\n",
    "    clf = RandomForestClassifier(n_estimators=n ,random_state=100)\n",
    "\n",
    "    # Realizamos validación cruzada con K=10 y métrica F1-Score\n",
    "    cv = cross_validation(clf, X_train_5, y_train_5, score_metric, K)\n",
    "    f1_rf = np.mean(cv)\n",
    "    estimators.append((n, f1_rf))"
   ]
  },
  {
   "cell_type": "code",
   "execution_count": 69,
   "metadata": {},
   "outputs": [],
   "source": [
    "import seaborn as sns"
   ]
  },
  {
   "cell_type": "code",
   "execution_count": 70,
   "metadata": {},
   "outputs": [
    {
     "data": {
      "text/plain": [
       "Text(0.5, 1.0, 'Random Forest | Number of Trees vs F1 Score')"
      ]
     },
     "execution_count": 70,
     "metadata": {},
     "output_type": "execute_result"
    },
    {
     "data": {
      "image/png": "[encoded data removed]",
      "text/plain": [
       "<Figure size 640x480 with 1 Axes>"
      ]
     },
     "metadata": {},
     "output_type": "display_data"
    }
   ],
   "source": [
    "f1_df = pd.DataFrame(estimators, columns=['Number of Trees', 'F1 Score'])\n",
    "\n",
    "ax = sns.lineplot(data=f1_df, x='Number of Trees', y='F1 Score')\n",
    "ax.set_title('Random Forest | Number of Trees vs F1 Score')"
   ]
  },
  {
   "cell_type": "markdown",
   "metadata": {},
   "source": [
    "#### Support Vector Classifier"
   ]
  },
  {
   "cell_type": "code",
   "execution_count": 79,
   "metadata": {},
   "outputs": [],
   "source": [
    "C_values = list()\n",
    "range_C_values = 100\n",
    "\n",
    "for c in range(1, range_C_values+1):\n",
    "    clf = SVC(kernel='linear', C=c*0.1, random_state=1)\n",
    "\n",
    "    # Realizamos validación cruzada con K=10 y métrica F1-Score\n",
    "    cv = cross_validation(clf, X_train_5, y_train_5, score_metric, K)\n",
    "    f1_svc = np.mean(cv)\n",
    "    C_values.append((c, f1_svc))"
   ]
  },
  {
   "cell_type": "code",
   "execution_count": 80,
   "metadata": {},
   "outputs": [
    {
     "data": {
      "text/plain": [
       "Text(0.5, 1.0, 'Support Vector Machine | C Values vs F1 Score')"
      ]
     },
     "execution_count": 80,
     "metadata": {},
     "output_type": "execute_result"
    },
    {
     "data": {
      "image/png": "[encoded data removed]",
      "text/plain": [
       "<Figure size 640x480 with 1 Axes>"
      ]
     },
     "metadata": {},
     "output_type": "display_data"
    }
   ],
   "source": [
    "C_df = pd.DataFrame(C_values, columns=['C Values', 'F1 Score'])\n",
    "\n",
    "ax = sns.lineplot(data=C_df, x='C Values', y='F1 Score')\n",
    "ax.set_title('Support Vector Machine | C Values vs F1 Score')"
   ]
  },
  {
   "cell_type": "markdown",
   "metadata": {},
   "source": [
    "Vemos que es independiente los parámetros de la cantidad de ajuste del modelo. Lo anterior se puede deber a que estemos ante una posible correlación entre alguno de los predictores y el target."
   ]
  },
  {
   "cell_type": "markdown",
   "metadata": {},
   "source": [
    "#### Ajuste en muestra test"
   ]
  },
  {
   "cell_type": "markdown",
   "metadata": {},
   "source": [
    "Instanciamos nuestros modelos, los entrenamos y los probamos con la muestra test."
   ]
  },
  {
   "cell_type": "code",
   "execution_count": 82,
   "metadata": {},
   "outputs": [
    {
     "data": {
      "text/html": [
       "<style>#sk-container-id-1 {color: black;background-color: white;}#sk-container-id-1 pre{padding: 0;}#sk-container-id-1 div.sk-toggleable {background-color: white;}#sk-container-id-1 label.sk-toggleable__label {cursor: pointer;display: block;width: 100%;margin-bottom: 0;padding: 0.3em;box-sizing: border-box;text-align: center;}#sk-container-id-1 label.sk-toggleable__label-arrow:before {content: \"▸\";float: left;margin-right: 0.25em;color: #696969;}#sk-container-id-1 label.sk-toggleable__label-arrow:hover:before {color: black;}#sk-container-id-1 div.sk-estimator:hover label.sk-toggleable__label-arrow:before {color: black;}#sk-container-id-1 div.sk-toggleable__content {max-height: 0;max-width: 0;overflow: hidden;text-align: left;background-color: #f0f8ff;}#sk-container-id-1 div.sk-toggleable__content pre {margin: 0.2em;color: black;border-radius: 0.25em;background-color: #f0f8ff;}#sk-container-id-1 input.sk-toggleable__control:checked~div.sk-toggleable__content {max-height: 200px;max-width: 100%;overflow: auto;}#sk-container-id-1 input.sk-toggleable__control:checked~label.sk-toggleable__label-arrow:before {content: \"▾\";}#sk-container-id-1 div.sk-estimator input.sk-toggleable__control:checked~label.sk-toggleable__label {background-color: #d4ebff;}#sk-container-id-1 div.sk-label input.sk-toggleable__control:checked~label.sk-toggleable__label {background-color: #d4ebff;}#sk-container-id-1 input.sk-hidden--visually {border: 0;clip: rect(1px 1px 1px 1px);clip: rect(1px, 1px, 1px, 1px);height: 1px;margin: -1px;overflow: hidden;padding: 0;position: absolute;width: 1px;}#sk-container-id-1 div.sk-estimator {font-family: monospace;background-color: #f0f8ff;border: 1px dotted black;border-radius: 0.25em;box-sizing: border-box;margin-bottom: 0.5em;}#sk-container-id-1 div.sk-estimator:hover {background-color: #d4ebff;}#sk-container-id-1 div.sk-parallel-item::after {content: \"\";width: 100%;border-bottom: 1px solid gray;flex-grow: 1;}#sk-container-id-1 div.sk-label:hover label.sk-toggleable__label {background-color: #d4ebff;}#sk-container-id-1 div.sk-serial::before {content: \"\";position: absolute;border-left: 1px solid gray;box-sizing: border-box;top: 0;bottom: 0;left: 50%;z-index: 0;}#sk-container-id-1 div.sk-serial {display: flex;flex-direction: column;align-items: center;background-color: white;padding-right: 0.2em;padding-left: 0.2em;position: relative;}#sk-container-id-1 div.sk-item {position: relative;z-index: 1;}#sk-container-id-1 div.sk-parallel {display: flex;align-items: stretch;justify-content: center;background-color: white;position: relative;}#sk-container-id-1 div.sk-item::before, #sk-container-id-1 div.sk-parallel-item::before {content: \"\";position: absolute;border-left: 1px solid gray;box-sizing: border-box;top: 0;bottom: 0;left: 50%;z-index: -1;}#sk-container-id-1 div.sk-parallel-item {display: flex;flex-direction: column;z-index: 1;position: relative;background-color: white;}#sk-container-id-1 div.sk-parallel-item:first-child::after {align-self: flex-end;width: 50%;}#sk-container-id-1 div.sk-parallel-item:last-child::after {align-self: flex-start;width: 50%;}#sk-container-id-1 div.sk-parallel-item:only-child::after {width: 0;}#sk-container-id-1 div.sk-dashed-wrapped {border: 1px dashed gray;margin: 0 0.4em 0.5em 0.4em;box-sizing: border-box;padding-bottom: 0.4em;background-color: white;}#sk-container-id-1 div.sk-label label {font-family: monospace;font-weight: bold;display: inline-block;line-height: 1.2em;}#sk-container-id-1 div.sk-label-container {text-align: center;}#sk-container-id-1 div.sk-container {/* jupyter's `normalize.less` sets `[hidden] { display: none; }` but bootstrap.min.css set `[hidden] { display: none !important; }` so we also need the `!important` here to be able to override the default hidden behavior on the sphinx rendered scikit-learn.org. See: https://github.com/scikit-learn/scikit-learn/issues/21755 */display: inline-block !important;position: relative;}#sk-container-id-1 div.sk-text-repr-fallback {display: none;}</style><div id=\"sk-container-id-1\" class=\"sk-top-container\"><div class=\"sk-text-repr-fallback\"><pre>GaussianNB()</pre><b>In a Jupyter environment, please rerun this cell to show the HTML representation or trust the notebook. <br />On GitHub, the HTML representation is unable to render, please try loading this page with nbviewer.org.</b></div><div class=\"sk-container\" hidden><div class=\"sk-item\"><div class=\"sk-estimator sk-toggleable\"><input class=\"sk-toggleable__control sk-hidden--visually\" id=\"sk-estimator-id-1\" type=\"checkbox\" checked><label for=\"sk-estimator-id-1\" class=\"sk-toggleable__label sk-toggleable__label-arrow\">GaussianNB</label><div class=\"sk-toggleable__content\"><pre>GaussianNB()</pre></div></div></div></div></div>"
      ],
      "text/plain": [
       "GaussianNB()"
      ]
     },
     "execution_count": 82,
     "metadata": {},
     "output_type": "execute_result"
    }
   ],
   "source": [
    "clf_svm.fit(X_train_5, y_train_5)\n",
    "clf_rf.fit(X_train_5, y_train_5)\n",
    "clf_nb.fit(X_train_5, y_train_5)"
   ]
  },
  {
   "cell_type": "markdown",
   "metadata": {},
   "source": [
    "Generamos las predicciones"
   ]
  },
  {
   "cell_type": "code",
   "execution_count": 86,
   "metadata": {},
   "outputs": [],
   "source": [
    "y_pred_svm = clf_svm.predict(X_test)\n",
    "y_pred_rf = clf_rf.predict(X_test)\n",
    "y_pred_nb = clf_nb.predict(X_test)"
   ]
  },
  {
   "cell_type": "markdown",
   "metadata": {},
   "source": [
    "Analizamos las métricas de cada clasificador"
   ]
  },
  {
   "cell_type": "code",
   "execution_count": 87,
   "metadata": {},
   "outputs": [],
   "source": [
    "from sklearn.metrics import (accuracy_score, recall_score, precision_score, f1_score,\n",
    "    roc_auc_score, confusion_matrix\n",
    ")"
   ]
  },
  {
   "cell_type": "code",
   "execution_count": 88,
   "metadata": {},
   "outputs": [],
   "source": [
    "def print_metrics(y_test, y_pred):\n",
    "    recall = recall_score(y_test, y_pred)\n",
    "    accuracy = accuracy_score(y_test, y_pred)\n",
    "    precision = precision_score(y_test, y_pred)\n",
    "    f1 = f1_score(y_test, y_pred)\n",
    "    auc = roc_auc_score(y_test, y_pred)\n",
    "\n",
    "    print(f'''\n",
    "    Recall: {recall}\n",
    "    Accuracy: {accuracy}\n",
    "    Precision: {precision}\n",
    "    F1 Score: {f1}\n",
    "    AUC: {auc}''')\n",
    "\n",
    "    display(confusion_matrix(y_test, y_pred))"
   ]
  },
  {
   "cell_type": "markdown",
   "metadata": {},
   "source": [
    "#### Métricas SVC"
   ]
  },
  {
   "cell_type": "code",
   "execution_count": 89,
   "metadata": {},
   "outputs": [
    {
     "name": "stdout",
     "output_type": "stream",
     "text": [
      "\n",
      "    Recall: 1.0\n",
      "    Accuracy: 1.0\n",
      "    Precision: 1.0\n",
      "    F1 Score: 1.0\n",
      "    AUC: 1.0\n"
     ]
    },
    {
     "data": {
      "text/plain": [
       "array([[161,   0],\n",
       "       [  0,  10]])"
      ]
     },
     "metadata": {},
     "output_type": "display_data"
    }
   ],
   "source": [
    "print_metrics(y_test, y_pred_svm)"
   ]
  },
  {
   "cell_type": "markdown",
   "metadata": {},
   "source": [
    "#### Métricas Random Forest"
   ]
  },
  {
   "cell_type": "code",
   "execution_count": 90,
   "metadata": {},
   "outputs": [
    {
     "name": "stdout",
     "output_type": "stream",
     "text": [
      "\n",
      "    Recall: 1.0\n",
      "    Accuracy: 1.0\n",
      "    Precision: 1.0\n",
      "    F1 Score: 1.0\n",
      "    AUC: 1.0\n"
     ]
    },
    {
     "data": {
      "text/plain": [
       "array([[161,   0],\n",
       "       [  0,  10]])"
      ]
     },
     "metadata": {},
     "output_type": "display_data"
    }
   ],
   "source": [
    "print_metrics(y_test, y_pred_rf)"
   ]
  },
  {
   "cell_type": "markdown",
   "metadata": {},
   "source": [
    "#### Métricas Naive Bayes"
   ]
  },
  {
   "cell_type": "code",
   "execution_count": 91,
   "metadata": {},
   "outputs": [
    {
     "name": "stdout",
     "output_type": "stream",
     "text": [
      "\n",
      "    Recall: 1.0\n",
      "    Accuracy: 0.9941520467836257\n",
      "    Precision: 0.9090909090909091\n",
      "    F1 Score: 0.9523809523809523\n",
      "    AUC: 0.9968944099378881\n"
     ]
    },
    {
     "data": {
      "text/plain": [
       "array([[160,   1],\n",
       "       [  0,  10]])"
      ]
     },
     "metadata": {},
     "output_type": "display_data"
    }
   ],
   "source": [
    "print_metrics(y_test, y_pred_nb)"
   ]
  },
  {
   "cell_type": "markdown",
   "metadata": {},
   "source": [
    "Podemos ver que en los 3 clasificadores las predicciones son prácticamente perfectas. Este caso generalmente no es común que ocurre y ante todo, podría ser que estemos ante una situación en que la variable del target tenga colinealidad con alguno de los predictores. Con lo anterior, nos referimos a que el valor de alguno de los predictores puede influir determinísticamente en el valor 0 o 1 del target."
   ]
  },
  {
   "cell_type": "markdown",
   "metadata": {},
   "source": [
    "Para determinar los predictores más importantes, se podría consultar en el `Random Forest` las variables más utilizadas de los árboles que se generaron aleatoriamente y hacer un análisis sobre el peso que estas tenían para determinar una clase. En tal caso, es muy probable que veamos una o dos variables que sean las únicas necesarias para determinar la decisión de Hospitalizar."
   ]
  },
  {
   "cell_type": "code",
   "execution_count": null,
   "metadata": {},
   "outputs": [],
   "source": []
  }
 ],
 "metadata": {
  "kernelspec": {
   "display_name": "Python 3",
   "language": "python",
   "name": "python3"
  },
  "language_info": {
   "codemirror_mode": {
    "name": "ipython",
    "version": 3
   },
   "file_extension": ".py",
   "mimetype": "text/x-python",
   "name": "python",
   "nbconvert_exporter": "python",
   "pygments_lexer": "ipython3",
   "version": "3.11.2"
  },
  "orig_nbformat": 4,
  "vscode": {
   "interpreter": {
    "hash": "3cd4badaf0e37cda5664d5b81d987f40a27d89b089e43c5b5e91c1ec2a905f60"
   }
  }
 },
 "nbformat": 4,
 "nbformat_minor": 2
}
