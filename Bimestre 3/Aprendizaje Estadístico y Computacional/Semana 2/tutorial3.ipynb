{
  "cells": [
    {
      "cell_type": "code",
      "execution_count": 1,
      "metadata": {
        "id": "s_rxVjMeub96"
      },
      "outputs": [],
      "source": [
        "import numpy as np\n",
        "import pandas as pd\n",
        "from sklearn.linear_model import LinearRegression\n",
        "from sklearn.feature_selection import f_regression"
      ]
    },
    {
      "cell_type": "code",
      "execution_count": 3,
      "metadata": {
        "id": "QrxihhVZx3XP"
      },
      "outputs": [],
      "source": [
        "# Sample input data\n",
        "dataset = pd.read_csv('datos/50_Startups.csv')\n",
        "X = dataset.iloc[:, 0:3].values\n",
        "y = dataset.iloc[:, -1].values\n",
        "X_back = X"
      ]
    },
    {
      "cell_type": "code",
      "execution_count": 4,
      "metadata": {
        "id": "ZgpOCPxQvKyg"
      },
      "outputs": [],
      "source": [
        "# Fit the model using the backward elimination method\n",
        "num_vars = X_back.shape[1]\n",
        "for i in range(num_vars, 0, -1):\n",
        "    # Fit model with i variables\n",
        "    model = LinearRegression()\n",
        "    model.fit(X_back[:, :i], y)\n",
        "\n",
        "    # Check p-values of the model\n",
        "    p_values = f_regression(X_back, y)[1]\n",
        "    max_p_value = np.max(p_values)\n",
        "\n",
        "    # If the maximum p-value is greater than the threshold, remove the variable\n",
        "    # with the highest p-value\n",
        "    if max_p_value > 0.05:\n",
        "        var_to_remove = np.argmax(p_values)\n",
        "        X_back = np.delete(X_back, var_to_remove, 1)"
      ]
    },
    {
      "cell_type": "code",
      "execution_count": 8,
      "metadata": {},
      "outputs": [
        {
          "data": {
            "text/plain": [
              "array([[165349.2 , 471784.1 ],\n",
              "       [162597.7 , 443898.53],\n",
              "       [153441.51, 407934.54],\n",
              "       [144372.41, 383199.62],\n",
              "       [142107.34, 366168.42],\n",
              "       [131876.9 , 362861.36],\n",
              "       [134615.46, 127716.82],\n",
              "       [130298.13, 323876.68],\n",
              "       [120542.52, 311613.29],\n",
              "       [123334.88, 304981.62],\n",
              "       [101913.08, 229160.95],\n",
              "       [100671.96, 249744.55],\n",
              "       [ 93863.75, 249839.44],\n",
              "       [ 91992.39, 252664.93],\n",
              "       [119943.24, 256512.92],\n",
              "       [114523.61, 261776.23],\n",
              "       [ 78013.11, 264346.06],\n",
              "       [ 94657.16, 282574.31],\n",
              "       [ 91749.16, 294919.57],\n",
              "       [ 86419.7 ,      0.  ],\n",
              "       [ 76253.86, 298664.47],\n",
              "       [ 78389.47, 299737.29],\n",
              "       [ 73994.56, 303319.26],\n",
              "       [ 67532.53, 304768.73],\n",
              "       [ 77044.01, 140574.81],\n",
              "       [ 64664.71, 137962.62],\n",
              "       [ 75328.87, 134050.07],\n",
              "       [ 72107.6 , 353183.81],\n",
              "       [ 66051.52, 118148.2 ],\n",
              "       [ 65605.48, 107138.38],\n",
              "       [ 61994.48,  91131.24],\n",
              "       [ 61136.38,  88218.23],\n",
              "       [ 63408.86,  46085.25],\n",
              "       [ 55493.95, 214634.81],\n",
              "       [ 46426.07, 210797.67],\n",
              "       [ 46014.02, 205517.64],\n",
              "       [ 28663.76, 201126.82],\n",
              "       [ 44069.95, 197029.42],\n",
              "       [ 20229.59, 185265.1 ],\n",
              "       [ 38558.51, 174999.3 ],\n",
              "       [ 28754.33, 172795.67],\n",
              "       [ 27892.92, 164470.71],\n",
              "       [ 23640.93, 148001.11],\n",
              "       [ 15505.73,  35534.17],\n",
              "       [ 22177.74,  28334.72],\n",
              "       [  1000.23,   1903.93],\n",
              "       [  1315.46, 297114.46],\n",
              "       [     0.  ,      0.  ],\n",
              "       [   542.05,      0.  ],\n",
              "       [     0.  ,  45173.06]])"
            ]
          },
          "execution_count": 8,
          "metadata": {},
          "output_type": "execute_result"
        }
      ],
      "source": [
        "X_back"
      ]
    },
    {
      "cell_type": "code",
      "execution_count": 5,
      "metadata": {
        "colab": {
          "base_uri": "https://localhost:8080/"
        },
        "id": "JG5KPBsJx7jr",
        "outputId": "053828a2-f5e0-40da-d95a-f62933c8dfff"
      },
      "outputs": [
        {
          "name": "stdout",
          "output_type": "stream",
          "text": [
            "[[165349.2  471784.1 ]\n",
            " [162597.7  443898.53]\n",
            " [153441.51 407934.54]\n",
            " [144372.41 383199.62]\n",
            " [142107.34 366168.42]\n",
            " [131876.9  362861.36]\n",
            " [134615.46 127716.82]\n",
            " [130298.13 323876.68]\n",
            " [120542.52 311613.29]\n",
            " [123334.88 304981.62]\n",
            " [101913.08 229160.95]\n",
            " [100671.96 249744.55]\n",
            " [ 93863.75 249839.44]\n",
            " [ 91992.39 252664.93]\n",
            " [119943.24 256512.92]\n",
            " [114523.61 261776.23]\n",
            " [ 78013.11 264346.06]\n",
            " [ 94657.16 282574.31]\n",
            " [ 91749.16 294919.57]\n",
            " [ 86419.7       0.  ]\n",
            " [ 76253.86 298664.47]\n",
            " [ 78389.47 299737.29]\n",
            " [ 73994.56 303319.26]\n",
            " [ 67532.53 304768.73]\n",
            " [ 77044.01 140574.81]\n",
            " [ 64664.71 137962.62]\n",
            " [ 75328.87 134050.07]\n",
            " [ 72107.6  353183.81]\n",
            " [ 66051.52 118148.2 ]\n",
            " [ 65605.48 107138.38]\n",
            " [ 61994.48  91131.24]\n",
            " [ 61136.38  88218.23]\n",
            " [ 63408.86  46085.25]\n",
            " [ 55493.95 214634.81]\n",
            " [ 46426.07 210797.67]\n",
            " [ 46014.02 205517.64]\n",
            " [ 28663.76 201126.82]\n",
            " [ 44069.95 197029.42]\n",
            " [ 20229.59 185265.1 ]\n",
            " [ 38558.51 174999.3 ]\n",
            " [ 28754.33 172795.67]\n",
            " [ 27892.92 164470.71]\n",
            " [ 23640.93 148001.11]\n",
            " [ 15505.73  35534.17]\n",
            " [ 22177.74  28334.72]\n",
            " [  1000.23   1903.93]\n",
            " [  1315.46 297114.46]\n",
            " [     0.        0.  ]\n",
            " [   542.05      0.  ]\n",
            " [     0.    45173.06]]\n"
          ]
        }
      ],
      "source": [
        "# Print the selected variables\n",
        "print(X_back)"
      ]
    },
    {
      "cell_type": "code",
      "execution_count": 6,
      "metadata": {
        "id": "5xj2_vnuvXuF"
      },
      "outputs": [],
      "source": [
        "from sklearn.linear_model import Lasso\n",
        "\n",
        "# Create a Lasso model with a regularization strength of 0.1\n",
        "model = Lasso(alpha=0.1)\n",
        "\n",
        "# Fit the model to the data\n",
        "model.fit(X, y)\n",
        "\n",
        "# The Lasso model will have eliminated some of the variables in the original data\n",
        "# The remaining variables can be accessed by looking at the non-zero coefficients\n",
        "# of the model\n",
        "selected_variables = np.where(model.coef_ != 0)[0]"
      ]
    },
    {
      "cell_type": "code",
      "execution_count": 7,
      "metadata": {
        "colab": {
          "base_uri": "https://localhost:8080/"
        },
        "id": "x4zdiTs5x-KJ",
        "outputId": "07833298-c2ef-4f77-a089-82b35c35d017"
      },
      "outputs": [
        {
          "name": "stdout",
          "output_type": "stream",
          "text": [
            "[[165349.2  136897.8  471784.1 ]\n",
            " [162597.7  151377.59 443898.53]\n",
            " [153441.51 101145.55 407934.54]\n",
            " [144372.41 118671.85 383199.62]\n",
            " [142107.34  91391.77 366168.42]\n",
            " [131876.9   99814.71 362861.36]\n",
            " [134615.46 147198.87 127716.82]\n",
            " [130298.13 145530.06 323876.68]\n",
            " [120542.52 148718.95 311613.29]\n",
            " [123334.88 108679.17 304981.62]\n",
            " [101913.08 110594.11 229160.95]\n",
            " [100671.96  91790.61 249744.55]\n",
            " [ 93863.75 127320.38 249839.44]\n",
            " [ 91992.39 135495.07 252664.93]\n",
            " [119943.24 156547.42 256512.92]\n",
            " [114523.61 122616.84 261776.23]\n",
            " [ 78013.11 121597.55 264346.06]\n",
            " [ 94657.16 145077.58 282574.31]\n",
            " [ 91749.16 114175.79 294919.57]\n",
            " [ 86419.7  153514.11      0.  ]\n",
            " [ 76253.86 113867.3  298664.47]\n",
            " [ 78389.47 153773.43 299737.29]\n",
            " [ 73994.56 122782.75 303319.26]\n",
            " [ 67532.53 105751.03 304768.73]\n",
            " [ 77044.01  99281.34 140574.81]\n",
            " [ 64664.71 139553.16 137962.62]\n",
            " [ 75328.87 144135.98 134050.07]\n",
            " [ 72107.6  127864.55 353183.81]\n",
            " [ 66051.52 182645.56 118148.2 ]\n",
            " [ 65605.48 153032.06 107138.38]\n",
            " [ 61994.48 115641.28  91131.24]\n",
            " [ 61136.38 152701.92  88218.23]\n",
            " [ 63408.86 129219.61  46085.25]\n",
            " [ 55493.95 103057.49 214634.81]\n",
            " [ 46426.07 157693.92 210797.67]\n",
            " [ 46014.02  85047.44 205517.64]\n",
            " [ 28663.76 127056.21 201126.82]\n",
            " [ 44069.95  51283.14 197029.42]\n",
            " [ 20229.59  65947.93 185265.1 ]\n",
            " [ 38558.51  82982.09 174999.3 ]\n",
            " [ 28754.33 118546.05 172795.67]\n",
            " [ 27892.92  84710.77 164470.71]\n",
            " [ 23640.93  96189.63 148001.11]\n",
            " [ 15505.73 127382.3   35534.17]\n",
            " [ 22177.74 154806.14  28334.72]\n",
            " [  1000.23 124153.04   1903.93]\n",
            " [  1315.46 115816.21 297114.46]\n",
            " [     0.   135426.92      0.  ]\n",
            " [   542.05  51743.15      0.  ]\n",
            " [     0.   116983.8   45173.06]]\n"
          ]
        }
      ],
      "source": [
        "# Use the selected variables to create a new dataset containing only the\n",
        "# selected variables\n",
        "X_lasso = X[:, selected_variables]\n",
        "print(X_lasso)"
      ]
    },
    {
      "cell_type": "code",
      "execution_count": null,
      "metadata": {},
      "outputs": [],
      "source": []
    }
  ],
  "metadata": {
    "colab": {
      "provenance": []
    },
    "kernelspec": {
      "display_name": "Python 3",
      "language": "python",
      "name": "python3"
    },
    "language_info": {
      "codemirror_mode": {
        "name": "ipython",
        "version": 3
      },
      "file_extension": ".py",
      "mimetype": "text/x-python",
      "name": "python",
      "nbconvert_exporter": "python",
      "pygments_lexer": "ipython3",
      "version": "3.11.3"
    },
    "vscode": {
      "interpreter": {
        "hash": "573546c1eada8c60b27f5300df4435af9ba2007194c80719d45c24c6ea4a493c"
      }
    }
  },
  "nbformat": 4,
  "nbformat_minor": 0
}
