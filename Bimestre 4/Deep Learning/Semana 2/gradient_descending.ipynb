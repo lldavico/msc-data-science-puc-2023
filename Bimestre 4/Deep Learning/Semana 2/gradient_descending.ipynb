{
 "cells": [
  {
   "attachments": {},
   "cell_type": "markdown",
   "metadata": {},
   "source": [
    "### Descenso de gradiente"
   ]
  },
  {
   "cell_type": "code",
   "execution_count": 1,
   "metadata": {},
   "outputs": [],
   "source": [
    "import numpy as np"
   ]
  },
  {
   "attachments": {},
   "cell_type": "markdown",
   "metadata": {},
   "source": [
    "Definimos funciones de activación"
   ]
  },
  {
   "cell_type": "code",
   "execution_count": 2,
   "metadata": {},
   "outputs": [],
   "source": [
    "def sigmoide(z):\n",
    "    return 1 / (1 + np.exp(-z))\n",
    "\n",
    "def derivada_sigmoide(z):\n",
    "    return sigmoide(z) * (1 - sigmoide(z))"
   ]
  },
  {
   "cell_type": "code",
   "execution_count": 4,
   "metadata": {},
   "outputs": [],
   "source": [
    "# Inicialización aleatoria con valores entre -1 y 1\n",
    "w11, w21, w12, w22, w_n1, w_n2 = 2*np.random.random() - 1, 2*np.random.random() - 1, 2*np.random.random() - 1, 2*np.random.random() - 1, 2*np.random.random() - 1, 2*np.random.random() - 1\n",
    "b1, b2, b3 = 2*np.random.random() - 1, 2*np.random.random() - 1, 2*np.random.random() - 1"
   ]
  },
  {
   "cell_type": "code",
   "execution_count": 5,
   "metadata": {},
   "outputs": [],
   "source": [
    "# Datos XOR\n",
    "entradas = np.array([[0,0], [0,1], [1,0], [1,1]])\n",
    "salidas_deseadas = np.array([[0], [1], [1], [0]])"
   ]
  },
  {
   "cell_type": "code",
   "execution_count": 11,
   "metadata": {},
   "outputs": [],
   "source": [
    "tasa_aprendizaje = 0.0001\n",
    "num_epocas = 10000"
   ]
  },
  {
   "attachments": {},
   "cell_type": "markdown",
   "metadata": {},
   "source": [
    "Ejecutamos descenso de gradiente con 10000 iteraciones"
   ]
  },
  {
   "cell_type": "code",
   "execution_count": 12,
   "metadata": {},
   "outputs": [
    {
     "name": "stdout",
     "output_type": "stream",
     "text": [
      "Época 0: Error 0.2503312106831911\n",
      "Época 1000: Error 0.2503318536283133\n",
      "Época 2000: Error 0.2503325036315787\n",
      "Época 3000: Error 0.2503331605185001\n",
      "Época 4000: Error 0.2503338241222414\n",
      "Época 5000: Error 0.25033449428329824\n",
      "Época 6000: Error 0.25033517084919055\n",
      "Época 7000: Error 0.2503358536741702\n",
      "Época 8000: Error 0.2503365426189401\n",
      "Época 9000: Error 0.2503372375503859\n"
     ]
    }
   ],
   "source": [
    "for epoch in range(num_epocas):\n",
    "    for x, y in zip(entradas, salidas_deseadas):\n",
    "        # Propagación hacia adelante\n",
    "        z1 = w11*x[0] + w21*x[1] + b1\n",
    "        n1 = sigmoide(z1)\n",
    "\n",
    "        z2 = w12*x[0] + w22*x[1] + b2\n",
    "        n2 = sigmoide(z2)\n",
    "\n",
    "        z3 = n1*w_n1 + n2*w_n2 + b3\n",
    "        n3 = sigmoide(z3)\n",
    "\n",
    "        # Error\n",
    "        error = y - n3\n",
    "\n",
    "        # Propagación hacia atrás\n",
    "        dL_dn3 = -error\n",
    "        dL_dw_n1 = dL_dn3 * derivada_sigmoide(z3) * n1\n",
    "        dL_dw_n2 = dL_dn3 * derivada_sigmoide(z3) * n2\n",
    "        dL_db3 = dL_dn3 * derivada_sigmoide(z3)\n",
    "\n",
    "        dL_dn1 = dL_dn3 * derivada_sigmoide(z3) * w_n1\n",
    "        dL_dw11 = dL_dn1 * derivada_sigmoide(z1) * x[0]\n",
    "        dL_dw21 = dL_dn1 * derivada_sigmoide(z1) * x[1]\n",
    "        dL_db1 = dL_dn1 * derivada_sigmoide(z1)\n",
    "\n",
    "        dL_dn2 = dL_dn3 * derivada_sigmoide(z3) * w_n2\n",
    "        dL_dw12 = dL_dn2 * derivada_sigmoide(z2) * x[0]\n",
    "        dL_dw22 = dL_dn2 * derivada_sigmoide(z2) * x[1]\n",
    "        dL_db2 = dL_dn2 * derivada_sigmoide(z2)\n",
    "\n",
    "        # Actualizar pesos y sesgos\n",
    "        w11 -= tasa_aprendizaje * dL_dw11\n",
    "        w21 -= tasa_aprendizaje * dL_dw21\n",
    "        w12 -= tasa_aprendizaje * dL_dw12\n",
    "        w22 -= tasa_aprendizaje * dL_dw22\n",
    "        w_n1 -= tasa_aprendizaje * dL_dw_n1\n",
    "        w_n2 -= tasa_aprendizaje * dL_dw_n2\n",
    "\n",
    "        b1 -= tasa_aprendizaje * dL_db1\n",
    "        b2 -= tasa_aprendizaje * dL_db2\n",
    "        b3 -= tasa_aprendizaje * dL_db3\n",
    "\n",
    "    # Cada 1000 épocas, mostrar el error\n",
    "    if epoch % 1000 == 0:\n",
    "        perdida_total = np.mean(np.square(salidas_deseadas - [sigmoide(n1*w_n1 + n2*w_n2 + b3) for x in entradas]))\n",
    "        print(f\"Época {epoch}: Error {perdida_total}\")"
   ]
  },
  {
   "cell_type": "code",
   "execution_count": 10,
   "metadata": {},
   "outputs": [
    {
     "data": {
      "text/plain": [
       "array([0.48182845])"
      ]
     },
     "execution_count": 10,
     "metadata": {},
     "output_type": "execute_result"
    }
   ],
   "source": [
    "sigmoide(n1*w_n1 + n2*w_n2 + b3)"
   ]
  },
  {
   "cell_type": "code",
   "execution_count": null,
   "metadata": {},
   "outputs": [],
   "source": []
  }
 ],
 "metadata": {
  "kernelspec": {
   "display_name": "Python 3",
   "language": "python",
   "name": "python3"
  },
  "language_info": {
   "codemirror_mode": {
    "name": "ipython",
    "version": 3
   },
   "file_extension": ".py",
   "mimetype": "text/x-python",
   "name": "python",
   "nbconvert_exporter": "python",
   "pygments_lexer": "ipython3",
   "version": "3.11.3"
  },
  "orig_nbformat": 4,
  "vscode": {
   "interpreter": {
    "hash": "573546c1eada8c60b27f5300df4435af9ba2007194c80719d45c24c6ea4a493c"
   }
  }
 },
 "nbformat": 4,
 "nbformat_minor": 2
}
