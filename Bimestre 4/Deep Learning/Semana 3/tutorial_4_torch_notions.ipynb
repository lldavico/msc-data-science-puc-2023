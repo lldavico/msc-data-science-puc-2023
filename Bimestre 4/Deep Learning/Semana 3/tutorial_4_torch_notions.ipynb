{
 "cells": [
  {
   "cell_type": "markdown",
   "id": "c76c66d3",
   "metadata": {},
   "source": [
    "# Conceptos Básicos de PyTorch\n",
    "\n",
    "En este tutorial, cubriremos los conceptos básicos en PyTorch, incluyendo Tensores, la operación Squeeze, Operaciones Matemáticas con Torch, Capas y Modelos Simples.\n"
   ]
  },
  {
   "cell_type": "markdown",
   "id": "12d92f41",
   "metadata": {},
   "source": [
    "## Tensores\n",
    "\n",
    "Los tensores son los bloques de construcción fundamentales en PyTorch. Se pueden considerar como matrices multidimensionales.\n"
   ]
  },
  {
   "cell_type": "code",
   "execution_count": 2,
   "metadata": {},
   "outputs": [
    {
     "name": "stdout",
     "output_type": "stream",
     "text": [
      "Tensor x: tensor([[1, 2, 3],\n",
      "        [2, 3, 4]])\n",
      "y = x + x: tensor([[2, 4, 6],\n",
      "        [4, 6, 8]])\n",
      "y = x + x: tensor([[1, 2, 3],\n",
      "        [2, 3, 4],\n",
      "        [1, 2, 3],\n",
      "        [2, 3, 4]])\n"
     ]
    }
   ],
   "source": [
    "# Importar y installar PyTorch\n",
    "try:\n",
    "    import torch\n",
    "except ModuleNotFoundError:\n",
    "    import os\n",
    "    os.system('pip install torch')\n",
    "    import torch\n",
    "\n",
    "# Crear un tensor\n",
    "x = torch.tensor([[1, 2, 3]])\n",
    "print(\"Tensor x:\", x)\n",
    "\n",
    "# Operaciones básicas\n",
    "y = x + x\n",
    "print(\"y = x + x:\", y)\n",
    "y = torch.cat((x, x))\n",
    "print(\"y = x + x:\", y)\n"
   ]
  },
  {
   "cell_type": "markdown",
   "id": "3e644165",
   "metadata": {},
   "source": [
    "## Operación Squeeze\n",
    "\n",
    "La función `squeeze()` se utiliza para eliminar dimensiones singleton de un tensor.\n",
    "\n",
    "muchas veces necesitamos eliminar dimensiones singleton de un tensor. Por ejemplo, si tenemos un tensor de tamaño 1x5x1x4x1, podemos usar la función `squeeze()` para eliminar las dimensiones singleton y obtener un tensor de tamaño 5x4."
   ]
  },
  {
   "cell_type": "code",
   "execution_count": 4,
   "id": "fe52970f",
   "metadata": {},
   "outputs": [
    {
     "name": "stdout",
     "output_type": "stream",
     "text": [
      "x original: tensor([[[0.],\n",
      "         [0.],\n",
      "         [0.]]]) dim =  3\n",
      "y comprimido: tensor([0., 0., 0.]) dim =  1\n",
      "y expandido: tensor([[0.],\n",
      "        [0.],\n",
      "        [0.]]) dim =  2\n"
     ]
    }
   ],
   "source": [
    "# Crear un tensor con dimensiones adicionales\n",
    "x = torch.zeros(1, 3, 1)\n",
    "print(\"x original:\", x, \"dim = \", x.dim())\n",
    "\n",
    "# Comprimir el tensor\n",
    "y = torch.squeeze(x)\n",
    "print(\"y comprimido:\", y, \"dim = \", y.dim())\n",
    "\n",
    "# Expandir el tensor\n",
    "z = torch.unsqueeze(y, dim=1)\n",
    "#torch unsqueeze parameters: torch.unsqueeze(input, dim) \n",
    "print(\"y expandido:\", z, \"dim = \", z.dim())\n"
   ]
  },
  {
   "cell_type": "markdown",
   "id": "b027d58c",
   "metadata": {},
   "source": [
    "## Operaciones Matemáticas con Torch\n",
    "\n",
    "PyTorch ofrece una variedad de operaciones matemáticas que se pueden realizar en tensores.\n"
   ]
  },
  {
   "cell_type": "code",
   "execution_count": 7,
   "id": "1f8c8a53",
   "metadata": {},
   "outputs": [
    {
     "name": "stdout",
     "output_type": "stream",
     "text": [
      "a + b: tensor([4, 6])\n",
      "a + b: tensor([4, 6])\n",
      "a - b: tensor([-2, -2])\n",
      "a / b: tensor([0.3333, 0.5000])\n"
     ]
    }
   ],
   "source": [
    "# Crear tensores\n",
    "a = torch.tensor([1, 2])\n",
    "b = torch.tensor([3, 4])\n",
    "# Crear tensor aleatorio\n",
    "\n",
    "# Operaciones matemáticas\n",
    "print(\"a + b:\", torch.add(a, b))\n",
    "print(\"a + b:\", a + b)\n",
    "\n",
    "print(\"a - b:\", torch.sub(a, b))\n",
    "print(\"a / b:\", torch.div(a, b))\n",
    "\n"
   ]
  },
  {
   "cell_type": "code",
   "execution_count": 10,
   "id": "c942e242",
   "metadata": {},
   "outputs": [
    {
     "name": "stdout",
     "output_type": "stream",
     "text": [
      "a * c: tensor([[ 1.4064,  2.8129],\n",
      "        [-0.9519, -1.9038],\n",
      "        [ 0.7119,  1.4238]])\n"
     ]
    }
   ],
   "source": [
    "c = torch.randn(3)\n",
    "c = torch.unsqueeze(c, dim=1)\n",
    "\n",
    "print(\"a * c:\", torch.mul(a, c))\n"
   ]
  },
  {
   "cell_type": "markdown",
   "id": "96466b07",
   "metadata": {},
   "source": [
    "## Capas\n",
    "\n",
    "En PyTorch, las capas se pueden definir fácilmente utilizando el módulo `nn`.\n",
    "\n",
    "Torch además de nos permitir crear tensores que ya canculan el grandiente, nos proviene una gran variedad de capas que nos permiten crear modelos de una manera muy sencilla. #https://pytorch.org/docs/stable/nn.html\n"
   ]
  },
  {
   "cell_type": "code",
   "execution_count": 11,
   "id": "3dd85743",
   "metadata": {},
   "outputs": [
    {
     "name": "stdout",
     "output_type": "stream",
     "text": [
      "Linear(in_features=2, out_features=3, bias=False)\n"
     ]
    }
   ],
   "source": [
    "# Importar módulo nn\n",
    "from torch import nn\n",
    "\n",
    "# Definir una capa lineal\n",
    "capa_lineal = nn.Linear(2, 3) # entra 2, sale 3 y aún agrega los sesgos para nosotros, beautiful!\n",
    "\n",
    "print(capa_lineal)"
   ]
  },
  {
   "cell_type": "markdown",
   "id": "b2e95f58",
   "metadata": {},
   "source": [
    "## Modelos Simples\n",
    "\n",
    "Definamos una red neuronal feed-forward simple usando `nn.Module`.\n"
   ]
  },
  {
   "cell_type": "code",
   "execution_count": 34,
   "id": "710d6c50",
   "metadata": {},
   "outputs": [
    {
     "data": {
      "text/plain": [
       "{'training': True,\n",
       " '_parameters': OrderedDict(),\n",
       " '_buffers': OrderedDict(),\n",
       " '_non_persistent_buffers_set': set(),\n",
       " '_backward_pre_hooks': OrderedDict(),\n",
       " '_backward_hooks': OrderedDict(),\n",
       " '_is_full_backward_hook': None,\n",
       " '_forward_hooks': OrderedDict(),\n",
       " '_forward_hooks_with_kwargs': OrderedDict(),\n",
       " '_forward_hooks_always_called': OrderedDict(),\n",
       " '_forward_pre_hooks': OrderedDict(),\n",
       " '_forward_pre_hooks_with_kwargs': OrderedDict(),\n",
       " '_state_dict_hooks': OrderedDict(),\n",
       " '_state_dict_pre_hooks': OrderedDict(),\n",
       " '_load_state_dict_pre_hooks': OrderedDict(),\n",
       " '_load_state_dict_post_hooks': OrderedDict(),\n",
       " '_modules': OrderedDict([('capa1',\n",
       "               Linear(in_features=2, out_features=3, bias=True))])}"
      ]
     },
     "execution_count": 34,
     "metadata": {},
     "output_type": "execute_result"
    }
   ],
   "source": [
    "# Definir una red neuronal feed-forward simple\n",
    "class ModeloSimple(nn.Module):\n",
    "    def __init__(self):\n",
    "        super().__init__()\n",
    "        self.capa1 = nn.Linear(2, 3)\n",
    "        \n",
    "    def forward(self, x):\n",
    "        x = self.capa1(x)\n",
    "        return x\n",
    "\n",
    "# Instanciar el modelo\n",
    "modelo = ModeloSimple()\n",
    "modelo.__dict__"
   ]
  },
  {
   "cell_type": "markdown",
   "id": "1002c56d",
   "metadata": {},
   "source": []
  },
  {
   "cell_type": "markdown",
   "id": "9ae6c73c",
   "metadata": {},
   "source": [
    "## What is a Tensor?\n",
    "\n",
    "- A) A type of variable\n",
    "- B) A multi-dimensional array\n",
    "- C) A single number\n",
    "- D) None of the above\n",
    "\n",
    "## What does squeeze() do?\n",
    "\n",
    "- A) Adds dimensions\n",
    "- B) Removes singleton dimensions\n",
    "- C) Multiplies dimensions\n",
    "- D) None of the above\n",
    "\n",
    "## Which PyTorch module is commonly used for layers?\n",
    "\n",
    "- A) torch.Tensor\n",
    "- B) torch.nn\n",
    "- C) torch.add\n",
    "- D) torch.squeeze"
   ]
  },
  {
   "cell_type": "markdown",
   "id": "fecfc626",
   "metadata": {},
   "source": [
    "## Conclusión y Próximos Pasos\n",
    "\n",
    "En este tutorial, cubrimos los bloques de construcción básicos en PyTorch. Para el próximo tutorial, profundizaremos en el entrenamiento de redes neuronales.\n"
   ]
  },
  {
   "cell_type": "markdown",
   "id": "8ae89b71",
   "metadata": {},
   "source": [
    "### Les dejo de tarea que implementen nuestra rede XoR con PyTorch, para que vean lo sencillo que es. En la proxima clase veremos funciones de activación y como implementarlas en PyTorch."
   ]
  },
  {
   "cell_type": "markdown",
   "id": "cb320ac4",
   "metadata": {},
   "source": []
  }
 ],
 "metadata": {
  "kernelspec": {
   "display_name": "Python 3",
   "language": "python",
   "name": "python3"
  },
  "language_info": {
   "codemirror_mode": {
    "name": "ipython",
    "version": 3
   },
   "file_extension": ".py",
   "mimetype": "text/x-python",
   "name": "python",
   "nbconvert_exporter": "python",
   "pygments_lexer": "ipython3",
   "version": "3.11.4"
  }
 },
 "nbformat": 4,
 "nbformat_minor": 5
}
