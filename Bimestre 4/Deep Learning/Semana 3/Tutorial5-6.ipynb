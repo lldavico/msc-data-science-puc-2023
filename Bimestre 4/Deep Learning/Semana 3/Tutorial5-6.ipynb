{
 "cells": [
  {
   "cell_type": "markdown",
   "id": "8b8e8dbc",
   "metadata": {},
   "source": [
    "### Descenso de Gradiente Estocástico (SGD):\n",
    "\n",
    "- **Descenso de Gradiente (GD)**: Esta es la forma básica de algoritmo de optimización. La idea es calcular los gradientes para todo el conjunto de datos en cada iteración y luego actualizar los pesos. Es computacionalmente costoso para grandes conjuntos de datos.\n",
    "\n",
    "- **Descenso de Gradiente Estocástico (SGD)**: En lugar de calcular los gradientes para todo el conjunto de datos, el SGD elige aleatoriamente un punto de datos del conjunto de datos en cada iteración para calcular el gradiente y actualizar los pesos. Esto introduce ruido en el proceso de optimización, lo que puede tener el efecto beneficioso de escapar de mínimos locales, pero también puede hacer que el proceso de optimización sea más errático."
   ]
  },
  {
   "cell_type": "code",
   "execution_count": 1,
   "id": "18243302",
   "metadata": {},
   "outputs": [],
   "source": [
    "import torch\n",
    "import torch.nn as nn\n",
    "import torch.optim as optim\n",
    "\n",
    "class Xor_NN(nn.Module):\n",
    "    def __init__(self):\n",
    "        super().__init__()\n",
    "        self.layer1 = nn.Linear(2, 2)  # capa de entrada: 2 neuronas, capa oculta: 2 neuronas\n",
    "        self.layer2 = nn.Linear(2, 1)  # Hidden layer: 2 neurons, Output layer: 1 neuron\n",
    "    \n",
    "    def forward(self, x):\n",
    "        x = torch.sigmoid(self.layer1(x))\n",
    "        x = torch.sigmoid(self.layer2(x))\n",
    "        return x\n",
    "\n",
    "\n",
    "# Initialize the network, loss, and optimizer\n",
    "net = Xor_NN()\n",
    "criterion = nn.MSELoss()\n",
    "optimizer = optim.SGD(net.parameters(), lr=0.5)\n",
    "\n"
   ]
  },
  {
   "cell_type": "markdown",
   "id": "0b9f3088",
   "metadata": {},
   "source": [
    "### Explicación del Código:\n",
    "\n",
    "1. **optimizer.zero_grad()**: Antes de calcular los gradientes durante la retropropagación, es esencial anular cualquier gradiente previamente calculado. Esto evita la acumulación de gradientes de iteraciones anteriores. Si no anulas los gradientes, el modelo seguirá sumando a los gradientes almacenados previamente, lo cual generalmente no es deseable.\n",
    "\n",
    "2. **loss.backward()**: Esta línea es donde ocurre la magia de la retropropagación. Una vez que el paso hacia adelante calcula la pérdida de la red, `loss.backward()` calcula el gradiente de la pérdida con respecto a los parámetros (o pesos) del modelo usando la regla de la cadena. Estos gradientes se utilizan para actualizar los pesos de la red.\n",
    "\n",
    "3. **optimizer.step()**: Después de calcular los gradientes en el paso hacia atrás, esta línea actualiza los pesos del modelo. La forma en que se actualizan estos pesos está determinada por el algoritmo de optimización utilizado, que en este caso es el Descenso de Gradiente Estocástico (SGD).\n"
   ]
  },
  {
   "cell_type": "code",
   "execution_count": 2,
   "id": "e2bb6b7f",
   "metadata": {},
   "outputs": [
    {
     "name": "stdout",
     "output_type": "stream",
     "text": [
      "Epoch 0 Loss: 0.3094574213027954\n",
      "Epoch 1000 Loss: 0.24992233514785767\n",
      "Epoch 2000 Loss: 0.24916668236255646\n",
      "Epoch 3000 Loss: 0.1948108673095703\n",
      "Epoch 4000 Loss: 0.011173807084560394\n",
      "Epoch 5000 Loss: 0.004030774813145399\n",
      "Epoch 6000 Loss: 0.0023741782642900944\n",
      "Epoch 7000 Loss: 0.0016630621394142509\n",
      "Epoch 8000 Loss: 0.0012726725544780493\n",
      "Epoch 9000 Loss: 0.0010274974629282951\n",
      "Test output: tensor([[0.0294],\n",
      "        [0.9720],\n",
      "        [0.9668],\n",
      "        [0.0262]])\n"
     ]
    }
   ],
   "source": [
    "\n",
    "# Prepare data\n",
    "X = torch.FloatTensor([[0, 0], [0, 1], [1, 0], [1, 1]])  # Input\n",
    "Y = torch.FloatTensor([[0], [1], [1], [0]])              # Target output\n",
    "\n",
    "# Training loop\n",
    "for epoch in range(10000):\n",
    "    optimizer.zero_grad()\n",
    "    output = net(X)\n",
    "    loss = criterion(output, Y)\n",
    "    loss.backward()\n",
    "    optimizer.step()\n",
    "    \n",
    "    if epoch % 1000 == 0:\n",
    "        print(f'Epoch {epoch} Loss: {loss.item()}')\n",
    "\n",
    "# Testing\n",
    "with torch.no_grad():\n",
    "    test_data = torch.FloatTensor([[0, 0], [0, 1], [1, 0], [1, 1]])\n",
    "    test_output = net(test_data)\n",
    "    print(f'Test output: {test_output}')\n"
   ]
  },
  {
   "cell_type": "markdown",
   "id": "2e8b1484",
   "metadata": {},
   "source": [
    "# Tutorial 6: Building a Simple Neural Network with PyTorch\n",
    "## Objective\n",
    "In this tutorial, we will build a simple neural network using PyTorch to solve a real-world problem. We will focus on using just linear layers and activation functions, without any dropout or regularization techniques.\n",
    "## Dataset\n",
    "Vamos usar uno de los datasets más ~~viejos~~ usado de todos, Iris flower data set, caso no conozca (https://es.wikipedia.org/wiki/Conjunto_de_datos_flor_iris) la gracía es que es un dataset muy simple y conocido, iremos utilizarlo para ir construyendo nuestro modelo sin tener que estar tan pendiente de los datos."
   ]
  },
  {
   "cell_type": "code",
   "execution_count": 3,
   "id": "931cd05c",
   "metadata": {},
   "outputs": [
    {
     "name": "stdout",
     "output_type": "stream",
     "text": [
      "150\n"
     ]
    }
   ],
   "source": [
    "from sklearn.datasets import load_iris\n",
    "import torch\n",
    "\n",
    "data = load_iris()\n",
    "print(len(data['data']))\n",
    "test_size = int(2* len(data['data'])/3)\n",
    "\n",
    "train_data = data['data'][0:test_size]\n",
    "train_traget = data['target'][0:test_size]\n",
    "\n",
    "\n",
    "X = torch.tensor(train_data, dtype=torch.float32)\n",
    "y = torch.tensor(train_traget, dtype=torch.long)\n"
   ]
  },
  {
   "cell_type": "code",
   "execution_count": 6,
   "id": "aaaea1ad",
   "metadata": {},
   "outputs": [],
   "source": [
    "import torch.nn as nn\n",
    "import torch.nn.functional as F\n",
    "\n",
    "class SimpleNN(nn.Module):\n",
    "    def __init__(self):\n",
    "        super(SimpleNN, self).__init__()\n",
    "        self.fc1 = nn.Linear(4, 128)\n",
    "        self.fc2 = nn.Linear(128, 64)\n",
    "        self.fc3 = nn.Linear(64, 3)\n",
    "\n",
    "    # def forward(self, x):\n",
    "    #     x = F.tanh(self.fc1(x))\n",
    "    #     x = F.tanh(self.fc2(x))\n",
    "    #     x = self.fc3(x)\n",
    "    #     return x\n",
    "    \n",
    "    #Sigmoide\n",
    "    # def forward(self, x):\n",
    "    #     x = F.sigmoid(self.fc1(x))\n",
    "    #     x = F.sigmoid(self.fc2(x))\n",
    "    #     x = self.fc3(x)\n",
    "    #     return x\n",
    "\n",
    "    def forward(self, x):\n",
    "        x = F.relu(self.fc1(x))\n",
    "        x = F.relu(self.fc2(x))\n",
    "        x = self.fc3(x)\n",
    "        return x\n"
   ]
  },
  {
   "cell_type": "code",
   "execution_count": 7,
   "id": "9f8df6fb",
   "metadata": {},
   "outputs": [
    {
     "name": "stdout",
     "output_type": "stream",
     "text": [
      "Epoch 1, Loss: 1.3693209886550903\n",
      "Epoch 101, Loss: 0.11115957051515579\n",
      "Epoch 201, Loss: 0.03326087072491646\n",
      "Epoch 301, Loss: 0.01737337000668049\n",
      "Epoch 401, Loss: 0.01131724938750267\n",
      "Epoch 501, Loss: 0.008259166032075882\n",
      "Epoch 601, Loss: 0.006442344281822443\n",
      "Epoch 701, Loss: 0.00525512034073472\n",
      "Epoch 801, Loss: 0.0044226995669305325\n",
      "Epoch 901, Loss: 0.0038084560073912144\n",
      "Epoch 1000, Loss: 0.0033423281274735928\n"
     ]
    }
   ],
   "source": [
    "from torch.optim import SGD\n",
    "\n",
    "model = SimpleNN()\n",
    "criterion = nn.CrossEntropyLoss()\n",
    "optimizer = SGD(model.parameters(), lr=0.01)\n",
    "\n",
    "epoch_loss = []\n",
    "\n",
    "for epoch in range(1000):\n",
    "    optimizer.zero_grad()\n",
    "    output = model(X)\n",
    "    loss = criterion(output, y)\n",
    "    loss.backward()\n",
    "    optimizer.step()\n",
    "    if epoch % 100 == 0:\n",
    "        print(f\"Epoch {epoch+1}, Loss: {loss.item()}\")\n",
    "    epoch_loss.append(loss.item())\n",
    "print(f\"Epoch {epoch+1}, Loss: {loss.item()}\")\n"
   ]
  },
  {
   "cell_type": "code",
   "execution_count": 14,
   "id": "027fa113",
   "metadata": {},
   "outputs": [
    {
     "data": {
      "image/png": "[encoded data removed]",
      "text/plain": [
       "<Figure size 640x480 with 1 Axes>"
      ]
     },
     "metadata": {},
     "output_type": "display_data"
    },
    {
     "name": "stdout",
     "output_type": "stream",
     "text": [
      "Accuracy: 100.0%\n",
      "Accuracy: 0.0%\n"
     ]
    }
   ],
   "source": [
    "\n",
    "import matplotlib.pyplot as plt\n",
    "plt.plot(epoch_loss)\n",
    "plt.xlabel('Epoch')\n",
    "plt.ylabel('Loss')\n",
    "plt.show()\n",
    "\n",
    "# feedforward for unseen data\n",
    "test_data = data['data'][test_size:]\n",
    "test_traget = data['target'][test_size:]\n",
    "# eval\n",
    "X_test = torch.tensor(test_data, dtype=torch.float32)\n",
    "y_test = torch.tensor(test_traget, dtype=torch.long)\n",
    "\n",
    "test_losses = []\n",
    "\n",
    "import torch.nn.functional as F\n",
    "\n",
    "with torch.no_grad():\n",
    "    # Forward pass\n",
    "    outputs = model(X)\n",
    "    \n",
    "    # Apply Softmax to get probabilities\n",
    "    probabilities = F.softmax(outputs, dim=1)\n",
    "    \n",
    "    # Get the predicted class\n",
    "    _, predicted_class = torch.max(probabilities, 1)\n",
    "\n",
    "correct = (predicted_class == y).sum().item()\n",
    "total = y.size(0)\n",
    "accuracy = correct / total\n",
    "print(f'Accuracy: {accuracy * 100}%')\n",
    "\n",
    "# . . . . . \n",
    "\n",
    "with torch.no_grad():\n",
    "    # Forward pass\n",
    "    outputs = model(X_test)\n",
    "    \n",
    "    # Apply Softmax to get probabilities\n",
    "    probabilities = F.softmax(outputs, dim=1)\n",
    "    \n",
    "    # Get the predicted class\n",
    "    _, predicted_class = torch.max(probabilities, 1)\n",
    "\n",
    "correct = (predicted_class == y_test).sum().item()\n",
    "total = y_test.size(0)\n",
    "accuracy = correct / total\n",
    "print(f'Accuracy: {accuracy * 100}%')\n",
    "\n",
    "\n",
    "\n"
   ]
  },
  {
   "cell_type": "markdown",
   "id": "b513c592",
   "metadata": {},
   "source": []
  },
  {
   "cell_type": "markdown",
   "id": "d726d6f5",
   "metadata": {},
   "source": []
  },
  {
   "cell_type": "markdown",
   "id": "52050170",
   "metadata": {},
   "source": []
  },
  {
   "cell_type": "markdown",
   "id": "368daf26",
   "metadata": {},
   "source": []
  }
 ],
 "metadata": {
  "kernelspec": {
   "display_name": "Python 3 (ipykernel)",
   "language": "python",
   "name": "python3"
  },
  "language_info": {
   "codemirror_mode": {
    "name": "ipython",
    "version": 3
   },
   "file_extension": ".py",
   "mimetype": "text/x-python",
   "name": "python",
   "nbconvert_exporter": "python",
   "pygments_lexer": "ipython3",
   "version": "3.11.4"
  }
 },
 "nbformat": 4,
 "nbformat_minor": 5
}
