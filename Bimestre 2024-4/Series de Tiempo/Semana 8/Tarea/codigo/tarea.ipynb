{
 "cells": [
  {
   "cell_type": "markdown",
   "metadata": {},
   "source": [
    "# Tarea Final Series de Tiempo - MCD - UC\n",
    "---"
   ]
  },
  {
   "cell_type": "markdown",
   "metadata": {},
   "source": [
    "### Importamos los datos"
   ]
  },
  {
   "cell_type": "markdown",
   "metadata": {},
   "source": [
    "Tenemos 7 series de tiempo con el valor (CLP) de la UF diaria desde el 1 de enero de 2014 hasta el 9 de diciembre de 2024. La UF o unidad de fomento por su sigla, es una medida del valor de un bien o servicio, indexado a la medida de la inflación de Chile, dado por el IPC. \n",
    "\n",
    "Estos datos son rescatados desde el sitio web del Banco Central de Chile.\n",
    "\n",
    "Link bases de datos: https://si3.bcentral.cl/Indicadoressiete/secure/Serie.aspx?gcode=UF&param=RABmAFYAWQB3AGYAaQBuAEkALQAzADUAbgBNAGgAaAAkADUAVwBQAC4AbQBYADAARwBOAGUAYwBjACMAQQBaAHAARgBhAGcAUABTAGUAYwBsAEMAMQA0AE0AawBLAF8AdQBDACQASABzAG0AXwA2AHQAawBvAFcAZwBKAEwAegBzAF8AbgBMAHIAYgBDAC4ARQA3AFUAVwB4AFIAWQBhAEEAOABkAHkAZwAxAEEARAA%3d"
   ]
  },
  {
   "cell_type": "code",
   "execution_count": 2,
   "metadata": {},
   "outputs": [],
   "source": [
    "import pandas as pd"
   ]
  },
  {
   "cell_type": "code",
   "execution_count": 3,
   "metadata": {},
   "outputs": [
    {
     "name": "stdout",
     "output_type": "stream",
     "text": [
      "WARNING *** file size (76906) not 512 + multiple of sector size (512)\n",
      "WARNING *** file size (76906) not 512 + multiple of sector size (512)\n",
      "WARNING *** file size (76906) not 512 + multiple of sector size (512)\n",
      "WARNING *** file size (76906) not 512 + multiple of sector size (512)\n",
      "WARNING *** file size (76906) not 512 + multiple of sector size (512)\n",
      "WARNING *** file size (76906) not 512 + multiple of sector size (512)\n",
      "WARNING *** file size (76906) not 512 + multiple of sector size (512)\n",
      "WARNING *** file size (76906) not 512 + multiple of sector size (512)\n",
      "WARNING *** file size (76906) not 512 + multiple of sector size (512)\n",
      "WARNING *** file size (76906) not 512 + multiple of sector size (512)\n",
      "WARNING *** file size (75882) not 512 + multiple of sector size (512)\n",
      "<class 'pandas.core.frame.DataFrame'>\n",
      "RangeIndex: 3996 entries, 0 to 3995\n",
      "Data columns (total 2 columns):\n",
      " #   Column  Non-Null Count  Dtype         \n",
      "---  ------  --------------  -----         \n",
      " 0   Dia     3996 non-null   datetime64[ns]\n",
      " 1   Valor   3996 non-null   float64       \n",
      "dtypes: datetime64[ns](1), float64(1)\n",
      "memory usage: 62.6 KB\n"
     ]
    }
   ],
   "source": [
    "years = [\n",
    "    2014,\n",
    "    2015,\n",
    "    2016,\n",
    "    2017,\n",
    "    2018,\n",
    "    2019,\n",
    "    2020,\n",
    "    2021,\n",
    "    2022,\n",
    "    2023,\n",
    "    2024\n",
    "]\n",
    "\n",
    "df = pd.DataFrame()\n",
    "\n",
    "for y in years:\n",
    "    year_df = pd.read_excel(f'../data/uf_{y}.xls', header=3)\n",
    "    df = pd.concat([df, year_df], axis=0)\n",
    "\n",
    "df.reset_index(drop=True, inplace=True)\n",
    "df.info()"
   ]
  },
  {
   "cell_type": "code",
   "execution_count": 4,
   "metadata": {},
   "outputs": [
    {
     "data": {
      "text/html": [
       "<div>\n",
       "<style scoped>\n",
       "    .dataframe tbody tr th:only-of-type {\n",
       "        vertical-align: middle;\n",
       "    }\n",
       "\n",
       "    .dataframe tbody tr th {\n",
       "        vertical-align: top;\n",
       "    }\n",
       "\n",
       "    .dataframe thead th {\n",
       "        text-align: right;\n",
       "    }\n",
       "</style>\n",
       "<table border=\"1\" class=\"dataframe\">\n",
       "  <thead>\n",
       "    <tr style=\"text-align: right;\">\n",
       "      <th></th>\n",
       "      <th>Dia</th>\n",
       "      <th>Valor</th>\n",
       "    </tr>\n",
       "  </thead>\n",
       "  <tbody>\n",
       "    <tr>\n",
       "      <th>0</th>\n",
       "      <td>2014-01-01</td>\n",
       "      <td>23312.57</td>\n",
       "    </tr>\n",
       "    <tr>\n",
       "      <th>1</th>\n",
       "      <td>2014-01-02</td>\n",
       "      <td>23315.57</td>\n",
       "    </tr>\n",
       "    <tr>\n",
       "      <th>2</th>\n",
       "      <td>2014-01-03</td>\n",
       "      <td>23318.57</td>\n",
       "    </tr>\n",
       "    <tr>\n",
       "      <th>3</th>\n",
       "      <td>2014-01-04</td>\n",
       "      <td>23321.57</td>\n",
       "    </tr>\n",
       "    <tr>\n",
       "      <th>4</th>\n",
       "      <td>2014-01-05</td>\n",
       "      <td>23324.58</td>\n",
       "    </tr>\n",
       "    <tr>\n",
       "      <th>...</th>\n",
       "      <td>...</td>\n",
       "      <td>...</td>\n",
       "    </tr>\n",
       "    <tr>\n",
       "      <th>3991</th>\n",
       "      <td>2024-12-05</td>\n",
       "      <td>38311.40</td>\n",
       "    </tr>\n",
       "    <tr>\n",
       "      <th>3992</th>\n",
       "      <td>2024-12-06</td>\n",
       "      <td>38324.11</td>\n",
       "    </tr>\n",
       "    <tr>\n",
       "      <th>3993</th>\n",
       "      <td>2024-12-07</td>\n",
       "      <td>38336.83</td>\n",
       "    </tr>\n",
       "    <tr>\n",
       "      <th>3994</th>\n",
       "      <td>2024-12-08</td>\n",
       "      <td>38349.54</td>\n",
       "    </tr>\n",
       "    <tr>\n",
       "      <th>3995</th>\n",
       "      <td>2024-12-09</td>\n",
       "      <td>38362.26</td>\n",
       "    </tr>\n",
       "  </tbody>\n",
       "</table>\n",
       "<p>3996 rows × 2 columns</p>\n",
       "</div>"
      ],
      "text/plain": [
       "            Dia     Valor\n",
       "0    2014-01-01  23312.57\n",
       "1    2014-01-02  23315.57\n",
       "2    2014-01-03  23318.57\n",
       "3    2014-01-04  23321.57\n",
       "4    2014-01-05  23324.58\n",
       "...         ...       ...\n",
       "3991 2024-12-05  38311.40\n",
       "3992 2024-12-06  38324.11\n",
       "3993 2024-12-07  38336.83\n",
       "3994 2024-12-08  38349.54\n",
       "3995 2024-12-09  38362.26\n",
       "\n",
       "[3996 rows x 2 columns]"
      ]
     },
     "execution_count": 4,
     "metadata": {},
     "output_type": "execute_result"
    }
   ],
   "source": [
    "df"
   ]
  },
  {
   "cell_type": "markdown",
   "metadata": {},
   "source": [
    "### Descripción del dataset\n",
    "\n",
    "* `Dia`: fecha en el cual se midió el valor de la UF, según el Banco Central de Chile. El dato está parseado como `datetime64` en nuestro dataset.\n",
    "* `Valor`: Valor de una UF, en pesos chileno, para el día en cuestión. El dato está parseado como un `float64` en nuestro dataset."
   ]
  },
  {
   "cell_type": "markdown",
   "metadata": {},
   "source": [
    "##### Para efectos de nuestro análisis, manejaremos la serie de forma mensual, tomando el último valor del mes como el valor del mes"
   ]
  },
  {
   "cell_type": "code",
   "execution_count": 5,
   "metadata": {},
   "outputs": [
    {
     "name": "stderr",
     "output_type": "stream",
     "text": [
      "/var/folders/5x/tlp5fd614dv9y_wn8nmtqv4rqq_frn/T/ipykernel_22833/457773021.py:5: SettingWithCopyWarning: \n",
      "A value is trying to be set on a copy of a slice from a DataFrame.\n",
      "Try using .loc[row_indexer,col_indexer] = value instead\n",
      "\n",
      "See the caveats in the documentation: https://pandas.pydata.org/pandas-docs/stable/user_guide/indexing.html#returning-a-view-versus-a-copy\n",
      "  month_df['mes'] = month_df['Dia'].dt.to_period('M').dt.start_time\n"
     ]
    },
    {
     "data": {
      "text/html": [
       "<div>\n",
       "<style scoped>\n",
       "    .dataframe tbody tr th:only-of-type {\n",
       "        vertical-align: middle;\n",
       "    }\n",
       "\n",
       "    .dataframe tbody tr th {\n",
       "        vertical-align: top;\n",
       "    }\n",
       "\n",
       "    .dataframe thead th {\n",
       "        text-align: right;\n",
       "    }\n",
       "</style>\n",
       "<table border=\"1\" class=\"dataframe\">\n",
       "  <thead>\n",
       "    <tr style=\"text-align: right;\">\n",
       "      <th></th>\n",
       "      <th>mes</th>\n",
       "      <th>Valor</th>\n",
       "    </tr>\n",
       "  </thead>\n",
       "  <tbody>\n",
       "    <tr>\n",
       "      <th>0</th>\n",
       "      <td>2014-01-01</td>\n",
       "      <td>23435.87</td>\n",
       "    </tr>\n",
       "    <tr>\n",
       "      <th>1</th>\n",
       "      <td>2014-02-01</td>\n",
       "      <td>23508.46</td>\n",
       "    </tr>\n",
       "    <tr>\n",
       "      <th>2</th>\n",
       "      <td>2014-03-01</td>\n",
       "      <td>23606.97</td>\n",
       "    </tr>\n",
       "    <tr>\n",
       "      <th>3</th>\n",
       "      <td>2014-04-01</td>\n",
       "      <td>23773.41</td>\n",
       "    </tr>\n",
       "    <tr>\n",
       "      <th>4</th>\n",
       "      <td>2014-05-01</td>\n",
       "      <td>23931.69</td>\n",
       "    </tr>\n",
       "    <tr>\n",
       "      <th>...</th>\n",
       "      <td>...</td>\n",
       "      <td>...</td>\n",
       "    </tr>\n",
       "    <tr>\n",
       "      <th>126</th>\n",
       "      <td>2024-07-01</td>\n",
       "      <td>37578.95</td>\n",
       "    </tr>\n",
       "    <tr>\n",
       "      <th>127</th>\n",
       "      <td>2024-08-01</td>\n",
       "      <td>37754.47</td>\n",
       "    </tr>\n",
       "    <tr>\n",
       "      <th>128</th>\n",
       "      <td>2024-09-01</td>\n",
       "      <td>37910.42</td>\n",
       "    </tr>\n",
       "    <tr>\n",
       "      <th>129</th>\n",
       "      <td>2024-10-01</td>\n",
       "      <td>37971.42</td>\n",
       "    </tr>\n",
       "    <tr>\n",
       "      <th>130</th>\n",
       "      <td>2024-11-01</td>\n",
       "      <td>38247.92</td>\n",
       "    </tr>\n",
       "  </tbody>\n",
       "</table>\n",
       "<p>131 rows × 2 columns</p>\n",
       "</div>"
      ],
      "text/plain": [
       "           mes     Valor\n",
       "0   2014-01-01  23435.87\n",
       "1   2014-02-01  23508.46\n",
       "2   2014-03-01  23606.97\n",
       "3   2014-04-01  23773.41\n",
       "4   2014-05-01  23931.69\n",
       "..         ...       ...\n",
       "126 2024-07-01  37578.95\n",
       "127 2024-08-01  37754.47\n",
       "128 2024-09-01  37910.42\n",
       "129 2024-10-01  37971.42\n",
       "130 2024-11-01  38247.92\n",
       "\n",
       "[131 rows x 2 columns]"
      ]
     },
     "execution_count": 5,
     "metadata": {},
     "output_type": "execute_result"
    }
   ],
   "source": [
    "from datetime import timedelta\n",
    "\n",
    "df['last_day_of_month'] = df['Dia'].apply(lambda x: True if (x + timedelta(days=1)).day == 1 else False)\n",
    "month_df = df[df['last_day_of_month'] == True]\n",
    "month_df['mes'] = month_df['Dia'].dt.to_period('M').dt.start_time\n",
    "\n",
    "month_df = month_df[['mes', 'Valor']].reset_index(drop=True)\n",
    "month_df\n"
   ]
  },
  {
   "cell_type": "markdown",
   "metadata": {},
   "source": [
    "## Análisis Exploratorio"
   ]
  },
  {
   "cell_type": "code",
   "execution_count": 6,
   "metadata": {},
   "outputs": [],
   "source": [
    "from darts import TimeSeries\n",
    "from darts.utils.statistics import plot_acf, plot_pacf\n",
    "import matplotlib.pyplot as plt\n",
    "import numpy as np"
   ]
  },
  {
   "cell_type": "code",
   "execution_count": 7,
   "metadata": {},
   "outputs": [
    {
     "data": {
      "text/html": [
       "<div>\n",
       "<style scoped>\n",
       "    .dataframe tbody tr th:only-of-type {\n",
       "        vertical-align: middle;\n",
       "    }\n",
       "\n",
       "    .dataframe tbody tr th {\n",
       "        vertical-align: top;\n",
       "    }\n",
       "\n",
       "    .dataframe thead th {\n",
       "        text-align: right;\n",
       "    }\n",
       "</style>\n",
       "<table border=\"1\" class=\"dataframe\">\n",
       "  <thead>\n",
       "    <tr style=\"text-align: right;\">\n",
       "      <th></th>\n",
       "      <th>Valor</th>\n",
       "    </tr>\n",
       "    <tr>\n",
       "      <th>mes</th>\n",
       "      <th></th>\n",
       "    </tr>\n",
       "  </thead>\n",
       "  <tbody>\n",
       "    <tr>\n",
       "      <th>2014-01-01</th>\n",
       "      <td>23435.87</td>\n",
       "    </tr>\n",
       "    <tr>\n",
       "      <th>2014-02-01</th>\n",
       "      <td>23508.46</td>\n",
       "    </tr>\n",
       "    <tr>\n",
       "      <th>2014-03-01</th>\n",
       "      <td>23606.97</td>\n",
       "    </tr>\n",
       "    <tr>\n",
       "      <th>2014-04-01</th>\n",
       "      <td>23773.41</td>\n",
       "    </tr>\n",
       "    <tr>\n",
       "      <th>2014-05-01</th>\n",
       "      <td>23931.69</td>\n",
       "    </tr>\n",
       "    <tr>\n",
       "      <th>...</th>\n",
       "      <td>...</td>\n",
       "    </tr>\n",
       "    <tr>\n",
       "      <th>2024-07-01</th>\n",
       "      <td>37578.95</td>\n",
       "    </tr>\n",
       "    <tr>\n",
       "      <th>2024-08-01</th>\n",
       "      <td>37754.47</td>\n",
       "    </tr>\n",
       "    <tr>\n",
       "      <th>2024-09-01</th>\n",
       "      <td>37910.42</td>\n",
       "    </tr>\n",
       "    <tr>\n",
       "      <th>2024-10-01</th>\n",
       "      <td>37971.42</td>\n",
       "    </tr>\n",
       "    <tr>\n",
       "      <th>2024-11-01</th>\n",
       "      <td>38247.92</td>\n",
       "    </tr>\n",
       "  </tbody>\n",
       "</table>\n",
       "<p>131 rows × 1 columns</p>\n",
       "</div>"
      ],
      "text/plain": [
       "               Valor\n",
       "mes                 \n",
       "2014-01-01  23435.87\n",
       "2014-02-01  23508.46\n",
       "2014-03-01  23606.97\n",
       "2014-04-01  23773.41\n",
       "2014-05-01  23931.69\n",
       "...              ...\n",
       "2024-07-01  37578.95\n",
       "2024-08-01  37754.47\n",
       "2024-09-01  37910.42\n",
       "2024-10-01  37971.42\n",
       "2024-11-01  38247.92\n",
       "\n",
       "[131 rows x 1 columns]"
      ]
     },
     "execution_count": 7,
     "metadata": {},
     "output_type": "execute_result"
    }
   ],
   "source": [
    "uf_df = month_df.set_index(month_df['mes'])[['Valor']]\n",
    "uf_df"
   ]
  },
  {
   "cell_type": "markdown",
   "metadata": {},
   "source": [
    "##### Transformamos la serie al formato que nos entrega la librería `darts` y graficamos"
   ]
  },
  {
   "cell_type": "code",
   "execution_count": 8,
   "metadata": {},
   "outputs": [
    {
     "data": {
      "image/png": "[encoded data removed]",
      "text/plain": [
       "<Figure size 640x480 with 1 Axes>"
      ]
     },
     "metadata": {},
     "output_type": "display_data"
    }
   ],
   "source": [
    "serie = TimeSeries.from_dataframe(uf_df)\n",
    "serie.plot()\n",
    "plt.title('Valor UF mensual (2014 - 2024)')\n",
    "plt.show()\n"
   ]
  },
  {
   "cell_type": "markdown",
   "metadata": {},
   "source": [
    "##### Es posible ver que hay una clara tendencia en los datos de la serie de la UF. En este caso, vemos que el precio de la UF ha ido aumentando de forma lineal entre el año 2014 y 2022, para luego tener una subida más pronunciada entre 2022 y 2023, pero luego volviendo a tener el crecimiento normal entre 2023 y 2024. Esto tiene concordancia con que en Chile se experimentó una alta inflación anual cercana al 14% entre 2022 y 2023, lo que elevó la tasa de crecimiento de la UF en dichos años. Dado que la tendencia podría tender a ser lineal, tiene más sentido que utilicemos una serie diferenciada para eliminar esta tendencia."
   ]
  },
  {
   "cell_type": "markdown",
   "metadata": {},
   "source": [
    "#### Creamos la serie diferenciada para eliminar la tendencia de la serie"
   ]
  },
  {
   "cell_type": "code",
   "execution_count": 9,
   "metadata": {},
   "outputs": [
    {
     "data": {
      "image/png": "[encoded data removed]",
      "text/plain": [
       "<Figure size 640x480 with 1 Axes>"
      ]
     },
     "metadata": {},
     "output_type": "display_data"
    }
   ],
   "source": [
    "serie\n",
    "\n",
    "diff_serie = serie.diff()\n",
    "diff_serie.plot()\n",
    "\n",
    "plt.title('Valor UF diario (2014 - 2024) -  Serie Diferenciada')\n",
    "plt.show()"
   ]
  },
  {
   "cell_type": "markdown",
   "metadata": {},
   "source": [
    "##### Se puede ver que la varianza tiende a descontrolarse en la serie para el año 2022, 2023 y 2024. Esto tiene que ver con los efectos anteriores de la inflación inusual experimentada en Chile entre dichos años. Debemos analizar la estacionariedad de la serie y revisar por medio del test de Dickey-Fuller. Quizás debemos diferenciar por segundo orden."
   ]
  },
  {
   "cell_type": "markdown",
   "metadata": {},
   "source": [
    "### Análisis de estacionariedad\n",
    "\n",
    "##### Veremos si la serie cumple con el criterio de estacionariedad, es decir, si tenemos una media y varianza constante en la serie. Para lo anterior usamos el test de Dickey-Fuller en la serie original y en la serie diferenciada, en que buscaremos que el valor-p sea menor a 0.05 para rechazar la hipótesis nula de que la serie no es estacionaria."
   ]
  },
  {
   "cell_type": "code",
   "execution_count": 10,
   "metadata": {},
   "outputs": [],
   "source": [
    "from statsmodels.tsa.stattools import adfuller"
   ]
  },
  {
   "cell_type": "markdown",
   "metadata": {},
   "source": [
    "##### Test estacionariedad serie original"
   ]
  },
  {
   "cell_type": "code",
   "execution_count": 11,
   "metadata": {},
   "outputs": [
    {
     "name": "stdout",
     "output_type": "stream",
     "text": [
      "Valor p: 0.997723314040838\n"
     ]
    }
   ],
   "source": [
    "adfuller_result_1 = adfuller(serie.pd_series())\n",
    "pvalue_adfuller_1 = adfuller_result_1[1]\n",
    "print(f'Valor p: {pvalue_adfuller_1}')"
   ]
  },
  {
   "cell_type": "markdown",
   "metadata": {},
   "source": [
    "##### Vemos que la serie original no es estacionaria (valor-p 0.99 > 0.05). Ahora vemos la estacionariedad para la serie diferenciada y la serie diferenciada por segundo orden"
   ]
  },
  {
   "cell_type": "code",
   "execution_count": 12,
   "metadata": {},
   "outputs": [
    {
     "name": "stdout",
     "output_type": "stream",
     "text": [
      "Valor p: 0.09430174953513581\n"
     ]
    }
   ],
   "source": [
    "adfuller_result_2 = adfuller(diff_serie.pd_series())\n",
    "pvalue_adfuller_2 = adfuller_result_2[1]\n",
    "print(f'Valor p: {pvalue_adfuller_2}')"
   ]
  },
  {
   "cell_type": "markdown",
   "metadata": {},
   "source": [
    "##### Tenemos un valor p mayor a 0.05, por lo tanto tenemos que nuestra serie diferenciada no es estacionaria. Diferenciamos por segundo orden para ver si logramos que sea estacionaria y así poder trabajar la serie de mejor forma."
   ]
  },
  {
   "cell_type": "code",
   "execution_count": 13,
   "metadata": {},
   "outputs": [
    {
     "data": {
      "text/plain": [
       "<Axes: xlabel='mes'>"
      ]
     },
     "execution_count": 13,
     "metadata": {},
     "output_type": "execute_result"
    },
    {
     "data": {
      "image/png": "[encoded data removed]",
      "text/plain": [
       "<Figure size 640x480 with 1 Axes>"
      ]
     },
     "metadata": {},
     "output_type": "display_data"
    }
   ],
   "source": [
    "diff_2_serie = diff_serie.diff()\n",
    "diff_2_serie.plot()"
   ]
  },
  {
   "cell_type": "code",
   "execution_count": 14,
   "metadata": {},
   "outputs": [
    {
     "name": "stdout",
     "output_type": "stream",
     "text": [
      "Valor p: 0.07129664514890789\n"
     ]
    }
   ],
   "source": [
    "adfuller_result_3 = adfuller(diff_2_serie.pd_series())\n",
    "pvalue_adfuller_3 = adfuller_result_3[1]\n",
    "print(f'Valor p: {pvalue_adfuller_3}')"
   ]
  },
  {
   "cell_type": "markdown",
   "metadata": {},
   "source": [
    "##### Aún tenemos que la serie no es estacionaria. Procedemos a descomponer estacionalmente la serie y luego aplicar una diferenciación a los residuos"
   ]
  },
  {
   "cell_type": "code",
   "execution_count": 30,
   "metadata": {},
   "outputs": [
    {
     "data": {
      "image/png": "[encoded data removed]",
      "text/plain": [
       "<Figure size 640x480 with 1 Axes>"
      ]
     },
     "metadata": {},
     "output_type": "display_data"
    }
   ],
   "source": [
    "from statsmodels.tsa.seasonal import seasonal_decompose\n",
    "\n",
    "# Decomposición de la serie en componentes estacionales\n",
    "decomposition = seasonal_decompose(uf_df['Valor'], model='additive', period=3)\n",
    "trend = decomposition.trend\n",
    "seasonal = decomposition.seasonal\n",
    "residual = decomposition.resid\n",
    "\n",
    "residual.plot()\n",
    "plt.show()"
   ]
  },
  {
   "cell_type": "code",
   "execution_count": 32,
   "metadata": {},
   "outputs": [
    {
     "data": {
      "text/plain": [
       "mes\n",
       "2014-01-01          NaN\n",
       "2014-02-01   -18.595969\n",
       "2014-03-01   -28.058295\n",
       "2014-04-01    18.090930\n",
       "2014-05-01    12.164031\n",
       "                ...    \n",
       "2024-07-01   -40.772403\n",
       "2024-08-01    -3.432636\n",
       "2024-09-01    26.235039\n",
       "2024-10-01   -56.462403\n",
       "2024-11-01          NaN\n",
       "Name: resid, Length: 131, dtype: float64"
      ]
     },
     "execution_count": 32,
     "metadata": {},
     "output_type": "execute_result"
    }
   ],
   "source": [
    "residual"
   ]
  },
  {
   "cell_type": "markdown",
   "metadata": {},
   "source": [
    "##### Graficamos la serie residual diferenciada"
   ]
  },
  {
   "cell_type": "code",
   "execution_count": 33,
   "metadata": {},
   "outputs": [
    {
     "data": {
      "text/plain": [
       "<Axes: xlabel='mes'>"
      ]
     },
     "execution_count": 33,
     "metadata": {},
     "output_type": "execute_result"
    },
    {
     "data": {
      "image/png": "[encoded data removed]",
      "text/plain": [
       "<Figure size 640x480 with 1 Axes>"
      ]
     },
     "metadata": {},
     "output_type": "display_data"
    }
   ],
   "source": [
    "residual_diff = residual.diff()\n",
    "residual_diff.plot()"
   ]
  },
  {
   "cell_type": "markdown",
   "metadata": {},
   "source": [
    "##### Verificamos que esta serie sea estacionaria por medio del test Dickey-Fuller"
   ]
  },
  {
   "cell_type": "code",
   "execution_count": 34,
   "metadata": {},
   "outputs": [
    {
     "name": "stdout",
     "output_type": "stream",
     "text": [
      "Valor p: 1.684733816458117e-10\n"
     ]
    }
   ],
   "source": [
    "adfuller_result_4 = adfuller(residual_diff.dropna())\n",
    "pvalue_adfuller_4 = adfuller_result_4[1]\n",
    "print(f'Valor p: {pvalue_adfuller_4}')"
   ]
  },
  {
   "cell_type": "markdown",
   "metadata": {},
   "source": [
    "##### Ahora sí, tenemos que la **serie residual diferenciada sí es estacionaria**, mientras que **nuestra serie original no es estacionaria**."
   ]
  },
  {
   "cell_type": "markdown",
   "metadata": {},
   "source": [
    "### Autocorrelación y autocorrelación Parcial"
   ]
  },
  {
   "cell_type": "markdown",
   "metadata": {},
   "source": [
    "##### Ahora analizaremos la autocorrelación y autocorrelación parcial de la serie normal"
   ]
  },
  {
   "cell_type": "code",
   "execution_count": 35,
   "metadata": {},
   "outputs": [
    {
     "data": {
      "image/png": "[encoded data removed]",
      "text/plain": [
       "<Figure size 1500x500 with 2 Axes>"
      ]
     },
     "metadata": {},
     "output_type": "display_data"
    }
   ],
   "source": [
    "fig, axes = plt.subplots(1, 2, figsize=(15, 5))\n",
    "\n",
    "plot_acf(serie, axis=axes[0])\n",
    "axes[0].set_title('ACF Serie Original')\n",
    "\n",
    "plot_pacf(serie, axis=axes[1])\n",
    "axes[1].set_title('PACF Serie Original')\n",
    "plt.show()"
   ]
  },
  {
   "cell_type": "markdown",
   "metadata": {},
   "source": [
    "#### Ahora analizaremos la autocorrelación y autocorrelación parcial de la serie transformada"
   ]
  },
  {
   "cell_type": "code",
   "execution_count": 36,
   "metadata": {},
   "outputs": [
    {
     "data": {
      "image/png": "[encoded data removed]",
      "text/plain": [
       "<Figure size 1500x500 with 2 Axes>"
      ]
     },
     "metadata": {},
     "output_type": "display_data"
    }
   ],
   "source": [
    "residual_diff_serie = TimeSeries.from_series(residual_diff.dropna())\n",
    "\n",
    "fig, axes = plt.subplots(1, 2, figsize=(15, 5))\n",
    "\n",
    "plot_acf(residual_diff_serie, axis=axes[0])\n",
    "axes[0].set_title('ACF Serie Transformada')\n",
    "\n",
    "plot_pacf(residual_diff_serie, axis=axes[1])\n",
    "axes[1].set_title('PACF Serie Transformada')\n",
    "plt.show()"
   ]
  },
  {
   "cell_type": "markdown",
   "metadata": {},
   "source": [
    "##### Podemos ver que tanto en el ACF de la serie normal como la serie transformada, tenemos correlaciones significativas para `t=1` y `t=9`, lo que nos permite indicar que existe una dependencia temporal en la serie con rezago 1 y 9. Luego, en la autocorrelación parcial de la serie transformada podemos ver que hay rezagos significativos para `t=1`, `t=2`, `t=3`, `t=4` y `t=5`"
   ]
  },
  {
   "cell_type": "markdown",
   "metadata": {},
   "source": [
    "##### Para comprobar estadísticamente lo comentado según las gráficas, ejecutamos una prueba de Ljung-Box en el que trataremos de rechazar la hipótesis nula, en que estamos ante ruido blanco e indicamos que hay autocorrelación significativa si el valor `p` es menor a 0.05"
   ]
  },
  {
   "cell_type": "code",
   "execution_count": 37,
   "metadata": {},
   "outputs": [],
   "source": [
    "from statsmodels.stats.diagnostic import acorr_ljungbox"
   ]
  },
  {
   "cell_type": "code",
   "execution_count": 38,
   "metadata": {},
   "outputs": [
    {
     "name": "stdout",
     "output_type": "stream",
     "text": [
      "0.0\n"
     ]
    }
   ],
   "source": [
    "ljung_box_serie_pvalue = acorr_ljungbox(serie.pd_series(), lags=[25], return_df=True)['lb_pvalue'][25]\n",
    "print(ljung_box_serie_pvalue)"
   ]
  },
  {
   "cell_type": "code",
   "execution_count": 39,
   "metadata": {},
   "outputs": [
    {
     "name": "stdout",
     "output_type": "stream",
     "text": [
      "8.271745248828943e-14\n"
     ]
    }
   ],
   "source": [
    "ljung_box_trans_pvalue = acorr_ljungbox(residual_diff_serie.pd_series(), lags=[25], return_df=True)['lb_pvalue'][25]\n",
    "print(ljung_box_trans_pvalue)\n"
   ]
  },
  {
   "cell_type": "markdown",
   "metadata": {},
   "source": [
    "##### Podemos comprobar con esto que la serie transformada no es ruido blanco, sino que tiene dependencia temporal"
   ]
  },
  {
   "cell_type": "markdown",
   "metadata": {},
   "source": [
    "## Propuesta de modelos a utilizar"
   ]
  },
  {
   "cell_type": "markdown",
   "metadata": {},
   "source": [
    "##### Dado que validamos que tenemos una dependencia temporal, debemos considerar una componente autorregresiva en nuestros modelos. Para lo anterior, se podría considerar que debemos tener una **componente autorregresiva**, teniendo los rezagos 1, 2, 3, 4, 5 en la PACF serie transformada, por lo que se podría tener una componente `AR(1)`, `AR(2)`, `AR(3)`, `AR(4)` o `AR(5)`. \n",
    "\n",
    "##### Por otra parte, en la serie original podemos ver que claramente no es estacionaria al presentar una tendencia, además de que el ACF decae lentamente y presenta rezagos significativos al principio. De esta forma, podríamos aplicar al menos una diferenciación, teniendo `d=1`\n",
    "\n",
    "##### Similarmente, en la serie transformada y el ACF podemos tener una componente `MA(1)`, `MA(9)`"
   ]
  },
  {
   "cell_type": "markdown",
   "metadata": {},
   "source": [
    "##### Definimos los modelos con sus combinaciones, considerando un periodo 12"
   ]
  },
  {
   "cell_type": "code",
   "execution_count": 40,
   "metadata": {},
   "outputs": [],
   "source": [
    "model_params_orders = {\n",
    "    'model_1': (1, 1, 1),\n",
    "    'model_2': (2, 1, 1),\n",
    "    'model_3': (3, 1, 1),\n",
    "    'model_4': (4, 1, 1),\n",
    "    'model_5': (5, 1, 1),\n",
    "    'model_6': (1, 1, 9),\n",
    "    'model_7': (2, 1, 9),\n",
    "    'model_8': (4, 1, 9),\n",
    "}\n",
    "s = 12\n"
   ]
  },
  {
   "cell_type": "markdown",
   "metadata": {},
   "source": [
    "##### Definimos un set de entrenamiento y uno de validación con la serie transformada. Validaremos con todo el año 2024 y haremos predicciones para el año 2025."
   ]
  },
  {
   "cell_type": "code",
   "execution_count": 41,
   "metadata": {},
   "outputs": [
    {
     "data": {
      "text/plain": [
       "mes\n",
       "2014-03-01    -9.462326\n",
       "2014-04-01    46.149225\n",
       "2014-05-01    -5.926899\n",
       "2014-06-01     0.174341\n",
       "2014-07-01     2.205891\n",
       "                ...    \n",
       "2024-06-01    31.834341\n",
       "2024-07-01   -77.310775\n",
       "2024-08-01    37.339767\n",
       "2024-09-01    29.667674\n",
       "2024-10-01   -82.697442\n",
       "Name: resid, Length: 128, dtype: float64"
      ]
     },
     "execution_count": 41,
     "metadata": {},
     "output_type": "execute_result"
    }
   ],
   "source": [
    "residual_diff.dropna()"
   ]
  },
  {
   "cell_type": "code",
   "execution_count": 42,
   "metadata": {},
   "outputs": [],
   "source": [
    "uf = residual_diff.dropna()\n",
    "uf_train = uf.loc[:'2022-12-01']\n",
    "uf_val = uf.loc['2023-01-01':]"
   ]
  },
  {
   "cell_type": "code",
   "execution_count": 43,
   "metadata": {},
   "outputs": [
    {
     "data": {
      "text/plain": [
       "((106,), (22,))"
      ]
     },
     "execution_count": 43,
     "metadata": {},
     "output_type": "execute_result"
    }
   ],
   "source": [
    "uf_train.shape, uf_val.shape "
   ]
  },
  {
   "cell_type": "markdown",
   "metadata": {},
   "source": [
    "##### Instanciamos y entrenamos los modelos SARIMAX con las configuraciones"
   ]
  },
  {
   "cell_type": "code",
   "execution_count": 44,
   "metadata": {},
   "outputs": [],
   "source": [
    "from statsmodels.tsa.statespace.sarimax import SARIMAX"
   ]
  },
  {
   "cell_type": "code",
   "execution_count": 45,
   "metadata": {},
   "outputs": [
    {
     "name": "stderr",
     "output_type": "stream",
     "text": [
      "/opt/homebrew/lib/python3.11/site-packages/statsmodels/tsa/base/tsa_model.py:473: ValueWarning: No frequency information was provided, so inferred frequency MS will be used.\n",
      "  self._init_dates(dates, freq)\n",
      "/opt/homebrew/lib/python3.11/site-packages/statsmodels/tsa/base/tsa_model.py:473: ValueWarning: No frequency information was provided, so inferred frequency MS will be used.\n",
      "  self._init_dates(dates, freq)\n",
      " This problem is unconstrained.\n",
      "/opt/homebrew/lib/python3.11/site-packages/statsmodels/tsa/base/tsa_model.py:473: ValueWarning: No frequency information was provided, so inferred frequency MS will be used.\n",
      "  self._init_dates(dates, freq)\n",
      "/opt/homebrew/lib/python3.11/site-packages/statsmodels/tsa/base/tsa_model.py:473: ValueWarning: No frequency information was provided, so inferred frequency MS will be used.\n",
      "  self._init_dates(dates, freq)\n",
      " This problem is unconstrained.\n",
      "/opt/homebrew/lib/python3.11/site-packages/statsmodels/tsa/base/tsa_model.py:473: ValueWarning: No frequency information was provided, so inferred frequency MS will be used.\n",
      "  self._init_dates(dates, freq)\n",
      "/opt/homebrew/lib/python3.11/site-packages/statsmodels/tsa/base/tsa_model.py:473: ValueWarning: No frequency information was provided, so inferred frequency MS will be used.\n",
      "  self._init_dates(dates, freq)\n",
      " This problem is unconstrained.\n",
      "/opt/homebrew/lib/python3.11/site-packages/statsmodels/tsa/base/tsa_model.py:473: ValueWarning: No frequency information was provided, so inferred frequency MS will be used.\n",
      "  self._init_dates(dates, freq)\n",
      "/opt/homebrew/lib/python3.11/site-packages/statsmodels/tsa/base/tsa_model.py:473: ValueWarning: No frequency information was provided, so inferred frequency MS will be used.\n",
      "  self._init_dates(dates, freq)\n",
      " This problem is unconstrained.\n",
      "/opt/homebrew/lib/python3.11/site-packages/statsmodels/tsa/base/tsa_model.py:473: ValueWarning: No frequency information was provided, so inferred frequency MS will be used.\n",
      "  self._init_dates(dates, freq)\n",
      "/opt/homebrew/lib/python3.11/site-packages/statsmodels/tsa/base/tsa_model.py:473: ValueWarning: No frequency information was provided, so inferred frequency MS will be used.\n",
      "  self._init_dates(dates, freq)\n",
      "/opt/homebrew/lib/python3.11/site-packages/statsmodels/tsa/statespace/sarimax.py:966: UserWarning: Non-stationary starting autoregressive parameters found. Using zeros as starting parameters.\n",
      "  warn('Non-stationary starting autoregressive parameters'\n",
      "/opt/homebrew/lib/python3.11/site-packages/statsmodels/tsa/statespace/sarimax.py:978: UserWarning: Non-invertible starting MA parameters found. Using zeros as starting parameters.\n",
      "  warn('Non-invertible starting MA parameters found.'\n",
      " This problem is unconstrained.\n",
      "/opt/homebrew/lib/python3.11/site-packages/statsmodels/tsa/base/tsa_model.py:473: ValueWarning: No frequency information was provided, so inferred frequency MS will be used.\n",
      "  self._init_dates(dates, freq)\n",
      "/opt/homebrew/lib/python3.11/site-packages/statsmodels/tsa/base/tsa_model.py:473: ValueWarning: No frequency information was provided, so inferred frequency MS will be used.\n",
      "  self._init_dates(dates, freq)\n",
      "/opt/homebrew/lib/python3.11/site-packages/statsmodels/tsa/statespace/sarimax.py:978: UserWarning: Non-invertible starting MA parameters found. Using zeros as starting parameters.\n",
      "  warn('Non-invertible starting MA parameters found.'\n",
      " This problem is unconstrained.\n"
     ]
    },
    {
     "name": "stdout",
     "output_type": "stream",
     "text": [
      "RUNNING THE L-BFGS-B CODE\n",
      "\n",
      "           * * *\n",
      "\n",
      "Machine precision = 2.220D-16\n",
      " N =            3     M =           10\n",
      "\n",
      "At X0         0 variables are exactly at the bounds\n",
      "\n",
      "At iterate    0    f=  4.86861D+00    |proj g|=  1.95388D-01\n",
      "\n",
      "At iterate    5    f=  4.82354D+00    |proj g|=  2.02300D-02\n",
      "\n",
      "At iterate   10    f=  4.78718D+00    |proj g|=  1.13067D-03\n",
      "\n",
      "At iterate   15    f=  4.78716D+00    |proj g|=  1.14230D-03\n",
      "\n",
      "At iterate   20    f=  4.78707D+00    |proj g|=  5.25608D-05\n",
      "\n",
      "At iterate   25    f=  4.78706D+00    |proj g|=  5.87455D-05\n",
      "\n",
      "           * * *\n",
      "\n",
      "Tit   = total number of iterations\n",
      "Tnf   = total number of function evaluations\n",
      "Tnint = total number of segments explored during Cauchy searches\n",
      "Skip  = number of BFGS updates skipped\n",
      "Nact  = number of active bounds at final generalized Cauchy point\n",
      "Projg = norm of the final projected gradient\n",
      "F     = final function value\n",
      "\n",
      "           * * *\n",
      "\n",
      "   N    Tit     Tnf  Tnint  Skip  Nact     Projg        F\n",
      "    3     28     34      1     0     0   8.391D-06   4.787D+00\n",
      "  F =   4.7870630926743738     \n",
      "\n",
      "CONVERGENCE: NORM_OF_PROJECTED_GRADIENT_<=_PGTOL            \n",
      "RUNNING THE L-BFGS-B CODE\n",
      "\n",
      "           * * *\n",
      "\n",
      "Machine precision = 2.220D-16\n",
      " N =            4     M =           10\n",
      "\n",
      "At X0         0 variables are exactly at the bounds\n",
      "\n",
      "At iterate    0    f=  4.87681D+00    |proj g|=  1.39730D-01\n",
      "\n",
      "At iterate    5    f=  4.78048D+00    |proj g|=  1.18271D-02\n",
      "\n",
      "At iterate   10    f=  4.71918D+00    |proj g|=  2.42013D-02\n",
      "\n",
      "At iterate   15    f=  4.71742D+00    |proj g|=  4.53545D-05\n",
      "\n",
      "           * * *\n",
      "\n",
      "Tit   = total number of iterations\n",
      "Tnf   = total number of function evaluations\n",
      "Tnint = total number of segments explored during Cauchy searches\n",
      "Skip  = number of BFGS updates skipped\n",
      "Nact  = number of active bounds at final generalized Cauchy point\n",
      "Projg = norm of the final projected gradient\n",
      "F     = final function value\n",
      "\n",
      "           * * *\n",
      "\n",
      "   N    Tit     Tnf  Tnint  Skip  Nact     Projg        F\n",
      "    4     16     20      1     0     0   2.466D-05   4.717D+00\n",
      "  F =   4.7174179357216257     \n",
      "\n",
      "CONVERGENCE: REL_REDUCTION_OF_F_<=_FACTR*EPSMCH             \n",
      "RUNNING THE L-BFGS-B CODE\n",
      "\n",
      "           * * *\n",
      "\n",
      "Machine precision = 2.220D-16\n",
      " N =            5     M =           10\n",
      "\n",
      "At X0         0 variables are exactly at the bounds\n",
      "\n",
      "At iterate    0    f=  4.87775D+00    |proj g|=  1.60815D-01\n",
      "\n",
      "At iterate    5    f=  4.76473D+00    |proj g|=  5.70731D-02\n",
      "\n",
      "At iterate   10    f=  4.68364D+00    |proj g|=  9.88072D-03\n",
      "\n",
      "At iterate   15    f=  4.68345D+00    |proj g|=  2.03596D-05\n",
      "\n",
      "           * * *\n",
      "\n",
      "Tit   = total number of iterations\n",
      "Tnf   = total number of function evaluations\n",
      "Tnint = total number of segments explored during Cauchy searches\n",
      "Skip  = number of BFGS updates skipped\n",
      "Nact  = number of active bounds at final generalized Cauchy point\n",
      "Projg = norm of the final projected gradient\n",
      "F     = final function value\n",
      "\n",
      "           * * *\n",
      "\n",
      "   N    Tit     Tnf  Tnint  Skip  Nact     Projg        F\n",
      "    5     16     20      1     0     0   6.831D-06   4.683D+00\n",
      "  F =   4.6834522510855381     \n",
      "\n",
      "CONVERGENCE: NORM_OF_PROJECTED_GRADIENT_<=_PGTOL            \n",
      "RUNNING THE L-BFGS-B CODE\n",
      "\n",
      "           * * *\n",
      "\n",
      "Machine precision = 2.220D-16\n",
      " N =            6     M =           10\n",
      "\n",
      "At X0         0 variables are exactly at the bounds\n",
      "\n",
      "At iterate    0    f=  4.79398D+00    |proj g|=  3.24831D-01\n",
      "\n",
      "At iterate    5    f=  4.69901D+00    |proj g|=  5.89384D-02\n",
      "\n",
      "At iterate   10    f=  4.62362D+00    |proj g|=  6.63499D-02\n",
      "\n",
      "At iterate   15    f=  4.61895D+00    |proj g|=  2.30066D-04\n",
      "\n",
      "           * * *\n",
      "\n",
      "Tit   = total number of iterations\n",
      "Tnf   = total number of function evaluations\n",
      "Tnint = total number of segments explored during Cauchy searches\n",
      "Skip  = number of BFGS updates skipped\n",
      "Nact  = number of active bounds at final generalized Cauchy point\n",
      "Projg = norm of the final projected gradient\n",
      "F     = final function value\n",
      "\n",
      "           * * *\n",
      "\n",
      "   N    Tit     Tnf  Tnint  Skip  Nact     Projg        F\n",
      "    6     17     19      1     0     0   1.027D-05   4.619D+00\n",
      "  F =   4.6189502259592619     \n",
      "\n",
      "CONVERGENCE: REL_REDUCTION_OF_F_<=_FACTR*EPSMCH             \n",
      "RUNNING THE L-BFGS-B CODE\n",
      "\n",
      "           * * *\n",
      "\n",
      "Machine precision = 2.220D-16\n",
      " N =            7     M =           10\n",
      "\n",
      "At X0         0 variables are exactly at the bounds\n",
      "\n",
      "At iterate    0    f=  5.94886D+00    |proj g|=  1.93007D+00\n",
      "\n",
      "At iterate    5    f=  4.65818D+00    |proj g|=  1.04221D-01\n",
      "\n",
      "At iterate   10    f=  4.63568D+00    |proj g|=  3.66645D-02\n",
      "\n",
      "At iterate   15    f=  4.56844D+00    |proj g|=  5.02204D-02\n",
      "\n",
      "At iterate   20    f=  4.56064D+00    |proj g|=  5.36973D-04\n",
      "\n",
      "           * * *\n",
      "\n",
      "Tit   = total number of iterations\n",
      "Tnf   = total number of function evaluations\n",
      "Tnint = total number of segments explored during Cauchy searches\n",
      "Skip  = number of BFGS updates skipped\n",
      "Nact  = number of active bounds at final generalized Cauchy point\n",
      "Projg = norm of the final projected gradient\n",
      "F     = final function value\n",
      "\n",
      "           * * *\n",
      "\n",
      "   N    Tit     Tnf  Tnint  Skip  Nact     Projg        F\n",
      "    7     23     25      1     0     0   2.242D-05   4.561D+00\n",
      "  F =   4.5606378612806164     \n",
      "\n",
      "CONVERGENCE: REL_REDUCTION_OF_F_<=_FACTR*EPSMCH             \n",
      "RUNNING THE L-BFGS-B CODE\n",
      "\n",
      "           * * *\n",
      "\n",
      "Machine precision = 2.220D-16\n",
      " N =           11     M =           10\n",
      "\n",
      "At X0         0 variables are exactly at the bounds\n",
      "\n",
      "At iterate    0    f=  5.52753D+00    |proj g|=  1.12295D+00\n",
      "\n",
      "At iterate    5    f=  4.59793D+00    |proj g|=  8.38518D-02\n",
      "\n",
      "At iterate   10    f=  4.54210D+00    |proj g|=  1.35177D-02\n",
      "\n",
      "At iterate   15    f=  4.52165D+00    |proj g|=  3.29665D-02\n",
      "\n",
      "At iterate   20    f=  4.49114D+00    |proj g|=  6.39618D-02\n",
      "\n",
      "At iterate   25    f=  4.48227D+00    |proj g|=  6.00727D-03\n",
      "\n",
      "At iterate   30    f=  4.48226D+00    |proj g|=  1.55271D-04\n",
      "\n",
      "           * * *\n",
      "\n",
      "Tit   = total number of iterations\n",
      "Tnf   = total number of function evaluations\n",
      "Tnint = total number of segments explored during Cauchy searches\n",
      "Skip  = number of BFGS updates skipped\n",
      "Nact  = number of active bounds at final generalized Cauchy point\n",
      "Projg = norm of the final projected gradient\n",
      "F     = final function value\n",
      "\n",
      "           * * *\n",
      "\n",
      "   N    Tit     Tnf  Tnint  Skip  Nact     Projg        F\n",
      "   11     32     33      1     0     0   5.027D-05   4.482D+00\n",
      "  F =   4.4822586068254040     \n",
      "\n",
      "CONVERGENCE: REL_REDUCTION_OF_F_<=_FACTR*EPSMCH             \n",
      "RUNNING THE L-BFGS-B CODE\n",
      "\n",
      "           * * *\n",
      "\n",
      "Machine precision = 2.220D-16\n",
      " N =           12     M =           10\n",
      "\n",
      "At X0         0 variables are exactly at the bounds\n",
      "\n",
      "At iterate    0    f=  5.29251D+00    |proj g|=  1.05163D+00\n",
      "\n"
     ]
    },
    {
     "name": "stderr",
     "output_type": "stream",
     "text": [
      "/opt/homebrew/lib/python3.11/site-packages/statsmodels/tsa/base/tsa_model.py:473: ValueWarning: No frequency information was provided, so inferred frequency MS will be used.\n",
      "  self._init_dates(dates, freq)\n",
      "/opt/homebrew/lib/python3.11/site-packages/statsmodels/tsa/base/tsa_model.py:473: ValueWarning: No frequency information was provided, so inferred frequency MS will be used.\n",
      "  self._init_dates(dates, freq)\n",
      "/opt/homebrew/lib/python3.11/site-packages/statsmodels/tsa/statespace/sarimax.py:978: UserWarning: Non-invertible starting MA parameters found. Using zeros as starting parameters.\n",
      "  warn('Non-invertible starting MA parameters found.'\n",
      " This problem is unconstrained.\n"
     ]
    },
    {
     "name": "stdout",
     "output_type": "stream",
     "text": [
      "At iterate    5    f=  4.69090D+00    |proj g|=  1.96614D-01\n",
      "\n",
      "At iterate   10    f=  4.51847D+00    |proj g|=  4.07339D-02\n",
      "\n",
      "At iterate   15    f=  4.50143D+00    |proj g|=  2.92489D-02\n",
      "\n",
      "At iterate   20    f=  4.49014D+00    |proj g|=  1.68870D-02\n",
      "\n",
      "At iterate   25    f=  4.46396D+00    |proj g|=  1.40039D-02\n",
      "\n",
      "At iterate   30    f=  4.46217D+00    |proj g|=  1.23484D-02\n",
      "\n",
      "At iterate   35    f=  4.46012D+00    |proj g|=  3.59841D-03\n",
      "\n",
      "At iterate   40    f=  4.46008D+00    |proj g|=  8.06054D-04\n",
      "\n",
      "At iterate   45    f=  4.46006D+00    |proj g|=  1.40221D-03\n",
      "\n",
      "At iterate   50    f=  4.46000D+00    |proj g|=  1.51606D-03\n",
      "\n",
      "           * * *\n",
      "\n",
      "Tit   = total number of iterations\n",
      "Tnf   = total number of function evaluations\n",
      "Tnint = total number of segments explored during Cauchy searches\n",
      "Skip  = number of BFGS updates skipped\n",
      "Nact  = number of active bounds at final generalized Cauchy point\n",
      "Projg = norm of the final projected gradient\n",
      "F     = final function value\n",
      "\n",
      "           * * *\n",
      "\n",
      "   N    Tit     Tnf  Tnint  Skip  Nact     Projg        F\n",
      "   12     50     54      1     0     0   1.516D-03   4.460D+00\n",
      "  F =   4.4600032373029466     \n",
      "\n",
      "STOP: TOTAL NO. of ITERATIONS REACHED LIMIT                 \n",
      "RUNNING THE L-BFGS-B CODE\n",
      "\n",
      "           * * *\n",
      "\n",
      "Machine precision = 2.220D-16\n",
      " N =           14     M =           10\n",
      "\n",
      "At X0         0 variables are exactly at the bounds\n",
      "\n",
      "At iterate    0    f=  5.10176D+00    |proj g|=  6.99240D-01\n",
      "\n",
      "At iterate    5    f=  4.51663D+00    |proj g|=  5.58378D-02\n"
     ]
    },
    {
     "name": "stderr",
     "output_type": "stream",
     "text": [
      "/opt/homebrew/lib/python3.11/site-packages/statsmodels/base/model.py:607: ConvergenceWarning: Maximum Likelihood optimization failed to converge. Check mle_retvals\n",
      "  warnings.warn(\"Maximum Likelihood optimization failed to \"\n",
      "/opt/homebrew/lib/python3.11/site-packages/statsmodels/tsa/base/tsa_model.py:473: ValueWarning: No frequency information was provided, so inferred frequency MS will be used.\n",
      "  self._init_dates(dates, freq)\n",
      "/opt/homebrew/lib/python3.11/site-packages/statsmodels/tsa/base/tsa_model.py:473: ValueWarning: No frequency information was provided, so inferred frequency MS will be used.\n",
      "  self._init_dates(dates, freq)\n",
      "/opt/homebrew/lib/python3.11/site-packages/statsmodels/tsa/statespace/sarimax.py:978: UserWarning: Non-invertible starting MA parameters found. Using zeros as starting parameters.\n",
      "  warn('Non-invertible starting MA parameters found.'\n",
      " This problem is unconstrained.\n"
     ]
    },
    {
     "name": "stdout",
     "output_type": "stream",
     "text": [
      "\n",
      "At iterate   10    f=  4.47924D+00    |proj g|=  2.72207D-02\n",
      "\n",
      "At iterate   15    f=  4.47235D+00    |proj g|=  2.81629D-02\n",
      "\n",
      "At iterate   20    f=  4.46842D+00    |proj g|=  3.32836D-02\n",
      "\n",
      "At iterate   25    f=  4.46228D+00    |proj g|=  1.94407D-02\n",
      "\n",
      "At iterate   30    f=  4.46010D+00    |proj g|=  2.00211D-02\n",
      "\n",
      "At iterate   35    f=  4.45408D+00    |proj g|=  3.63196D-02\n",
      "\n",
      "At iterate   40    f=  4.44824D+00    |proj g|=  6.95155D-02\n",
      "\n",
      "At iterate   45    f=  4.44578D+00    |proj g|=  3.55566D-02\n",
      "\n",
      "At iterate   50    f=  4.44002D+00    |proj g|=  2.28289D-02\n",
      "\n",
      "           * * *\n",
      "\n",
      "Tit   = total number of iterations\n",
      "Tnf   = total number of function evaluations\n",
      "Tnint = total number of segments explored during Cauchy searches\n",
      "Skip  = number of BFGS updates skipped\n",
      "Nact  = number of active bounds at final generalized Cauchy point\n",
      "Projg = norm of the final projected gradient\n",
      "F     = final function value\n",
      "\n",
      "           * * *\n",
      "\n",
      "   N    Tit     Tnf  Tnint  Skip  Nact     Projg        F\n",
      "   14     50     57      1     0     0   2.283D-02   4.440D+00\n",
      "  F =   4.4400236953187742     \n",
      "\n",
      "STOP: TOTAL NO. of ITERATIONS REACHED LIMIT                 \n"
     ]
    },
    {
     "name": "stderr",
     "output_type": "stream",
     "text": [
      "/opt/homebrew/lib/python3.11/site-packages/statsmodels/base/model.py:607: ConvergenceWarning: Maximum Likelihood optimization failed to converge. Check mle_retvals\n",
      "  warnings.warn(\"Maximum Likelihood optimization failed to \"\n"
     ]
    }
   ],
   "source": [
    "models = {}\n",
    "for mod, order in model_params_orders.items():\n",
    "    model = SARIMAX(uf_train, order=order, seasonal_order=(0, 0, 0, s))\n",
    "    results = model.fit()\n",
    "    models[mod] = {\n",
    "        'model': results,\n",
    "        'AIC': results.aic,\n",
    "        'order': order,\n",
    "    }"
   ]
  },
  {
   "cell_type": "code",
   "execution_count": 46,
   "metadata": {},
   "outputs": [
    {
     "data": {
      "text/plain": [
       "{'model_1': {'model': <statsmodels.tsa.statespace.sarimax.SARIMAXResultsWrapper at 0x307b158d0>,\n",
       "  'AIC': 1020.8573756469672,\n",
       "  'order': (1, 1, 1)},\n",
       " 'model_2': {'model': <statsmodels.tsa.statespace.sarimax.SARIMAXResultsWrapper at 0x3078862d0>,\n",
       "  'AIC': 1008.0926023729847,\n",
       "  'order': (2, 1, 1)},\n",
       " 'model_3': {'model': <statsmodels.tsa.statespace.sarimax.SARIMAXResultsWrapper at 0x307864190>,\n",
       "  'AIC': 1002.8918772301341,\n",
       "  'order': (3, 1, 1)},\n",
       " 'model_4': {'model': <statsmodels.tsa.statespace.sarimax.SARIMAXResultsWrapper at 0x3078da390>,\n",
       "  'AIC': 991.2174479033636,\n",
       "  'order': (4, 1, 1)},\n",
       " 'model_5': {'model': <statsmodels.tsa.statespace.sarimax.SARIMAXResultsWrapper at 0x307a30590>,\n",
       "  'AIC': 980.8552265914907,\n",
       "  'order': (5, 1, 1)},\n",
       " 'model_6': {'model': <statsmodels.tsa.statespace.sarimax.SARIMAXResultsWrapper at 0x307872690>,\n",
       "  'AIC': 972.2388246469856,\n",
       "  'order': (1, 1, 9)},\n",
       " 'model_7': {'model': <statsmodels.tsa.statespace.sarimax.SARIMAXResultsWrapper at 0x3078bc910>,\n",
       "  'AIC': 969.5206863082246,\n",
       "  'order': (2, 1, 9)},\n",
       " 'model_8': {'model': <statsmodels.tsa.statespace.sarimax.SARIMAXResultsWrapper at 0x3078f4910>,\n",
       "  'AIC': 969.2850234075802,\n",
       "  'order': (4, 1, 9)}}"
      ]
     },
     "execution_count": 46,
     "metadata": {},
     "output_type": "execute_result"
    }
   ],
   "source": [
    "models"
   ]
  },
  {
   "cell_type": "markdown",
   "metadata": {},
   "source": [
    "##### Ahora calculamos el RMSE realizando predicciones con los modelos entrenados."
   ]
  },
  {
   "cell_type": "code",
   "execution_count": 47,
   "metadata": {},
   "outputs": [],
   "source": [
    "from sklearn.metrics import mean_squared_error"
   ]
  },
  {
   "cell_type": "code",
   "execution_count": 48,
   "metadata": {},
   "outputs": [],
   "source": [
    "for key, data in models.items():\n",
    "    pred = data['model'].forecast(steps=len(uf_val)) \n",
    "    rmse = np.sqrt(mean_squared_error(uf_val, pred))\n",
    "    models[key]['rmse'] = rmse"
   ]
  },
  {
   "cell_type": "code",
   "execution_count": 49,
   "metadata": {},
   "outputs": [
    {
     "data": {
      "text/html": [
       "<div>\n",
       "<style scoped>\n",
       "    .dataframe tbody tr th:only-of-type {\n",
       "        vertical-align: middle;\n",
       "    }\n",
       "\n",
       "    .dataframe tbody tr th {\n",
       "        vertical-align: top;\n",
       "    }\n",
       "\n",
       "    .dataframe thead th {\n",
       "        text-align: right;\n",
       "    }\n",
       "</style>\n",
       "<table border=\"1\" class=\"dataframe\">\n",
       "  <thead>\n",
       "    <tr style=\"text-align: right;\">\n",
       "      <th></th>\n",
       "      <th>model_1</th>\n",
       "      <th>model_2</th>\n",
       "      <th>model_3</th>\n",
       "      <th>model_4</th>\n",
       "      <th>model_5</th>\n",
       "      <th>model_6</th>\n",
       "      <th>model_7</th>\n",
       "      <th>model_8</th>\n",
       "    </tr>\n",
       "  </thead>\n",
       "  <tbody>\n",
       "    <tr>\n",
       "      <th>model</th>\n",
       "      <td>&lt;statsmodels.tsa.statespace.sarimax.SARIMAXRes...</td>\n",
       "      <td>&lt;statsmodels.tsa.statespace.sarimax.SARIMAXRes...</td>\n",
       "      <td>&lt;statsmodels.tsa.statespace.sarimax.SARIMAXRes...</td>\n",
       "      <td>&lt;statsmodels.tsa.statespace.sarimax.SARIMAXRes...</td>\n",
       "      <td>&lt;statsmodels.tsa.statespace.sarimax.SARIMAXRes...</td>\n",
       "      <td>&lt;statsmodels.tsa.statespace.sarimax.SARIMAXRes...</td>\n",
       "      <td>&lt;statsmodels.tsa.statespace.sarimax.SARIMAXRes...</td>\n",
       "      <td>&lt;statsmodels.tsa.statespace.sarimax.SARIMAXRes...</td>\n",
       "    </tr>\n",
       "    <tr>\n",
       "      <th>AIC</th>\n",
       "      <td>1020.857376</td>\n",
       "      <td>1008.092602</td>\n",
       "      <td>1002.891877</td>\n",
       "      <td>991.217448</td>\n",
       "      <td>980.855227</td>\n",
       "      <td>972.238825</td>\n",
       "      <td>969.520686</td>\n",
       "      <td>969.285023</td>\n",
       "    </tr>\n",
       "    <tr>\n",
       "      <th>order</th>\n",
       "      <td>(1, 1, 1)</td>\n",
       "      <td>(2, 1, 1)</td>\n",
       "      <td>(3, 1, 1)</td>\n",
       "      <td>(4, 1, 1)</td>\n",
       "      <td>(5, 1, 1)</td>\n",
       "      <td>(1, 1, 9)</td>\n",
       "      <td>(2, 1, 9)</td>\n",
       "      <td>(4, 1, 9)</td>\n",
       "    </tr>\n",
       "    <tr>\n",
       "      <th>rmse</th>\n",
       "      <td>62.673101</td>\n",
       "      <td>66.602173</td>\n",
       "      <td>62.333028</td>\n",
       "      <td>66.991631</td>\n",
       "      <td>65.786378</td>\n",
       "      <td>59.110246</td>\n",
       "      <td>63.013846</td>\n",
       "      <td>64.466264</td>\n",
       "    </tr>\n",
       "  </tbody>\n",
       "</table>\n",
       "</div>"
      ],
      "text/plain": [
       "                                                 model_1  \\\n",
       "model  <statsmodels.tsa.statespace.sarimax.SARIMAXRes...   \n",
       "AIC                                          1020.857376   \n",
       "order                                          (1, 1, 1)   \n",
       "rmse                                           62.673101   \n",
       "\n",
       "                                                 model_2  \\\n",
       "model  <statsmodels.tsa.statespace.sarimax.SARIMAXRes...   \n",
       "AIC                                          1008.092602   \n",
       "order                                          (2, 1, 1)   \n",
       "rmse                                           66.602173   \n",
       "\n",
       "                                                 model_3  \\\n",
       "model  <statsmodels.tsa.statespace.sarimax.SARIMAXRes...   \n",
       "AIC                                          1002.891877   \n",
       "order                                          (3, 1, 1)   \n",
       "rmse                                           62.333028   \n",
       "\n",
       "                                                 model_4  \\\n",
       "model  <statsmodels.tsa.statespace.sarimax.SARIMAXRes...   \n",
       "AIC                                           991.217448   \n",
       "order                                          (4, 1, 1)   \n",
       "rmse                                           66.991631   \n",
       "\n",
       "                                                 model_5  \\\n",
       "model  <statsmodels.tsa.statespace.sarimax.SARIMAXRes...   \n",
       "AIC                                           980.855227   \n",
       "order                                          (5, 1, 1)   \n",
       "rmse                                           65.786378   \n",
       "\n",
       "                                                 model_6  \\\n",
       "model  <statsmodels.tsa.statespace.sarimax.SARIMAXRes...   \n",
       "AIC                                           972.238825   \n",
       "order                                          (1, 1, 9)   \n",
       "rmse                                           59.110246   \n",
       "\n",
       "                                                 model_7  \\\n",
       "model  <statsmodels.tsa.statespace.sarimax.SARIMAXRes...   \n",
       "AIC                                           969.520686   \n",
       "order                                          (2, 1, 9)   \n",
       "rmse                                           63.013846   \n",
       "\n",
       "                                                 model_8  \n",
       "model  <statsmodels.tsa.statespace.sarimax.SARIMAXRes...  \n",
       "AIC                                           969.285023  \n",
       "order                                          (4, 1, 9)  \n",
       "rmse                                           64.466264  "
      ]
     },
     "execution_count": 49,
     "metadata": {},
     "output_type": "execute_result"
    }
   ],
   "source": [
    "models_df = pd.DataFrame(models)\n",
    "models_df"
   ]
  },
  {
   "cell_type": "markdown",
   "metadata": {},
   "source": [
    "##### Con respecto al RMSE, el mejor modelo es el `(1, 1, 9) (0, 0, 0) (12)`; con respecto al AIC, el mejor modelo es el `(4, 1, 9) (0, 0, 0) (12)`\n",
    "\n",
    "##### Ahora, utilizamos autorima para verificar si podemos obtener un mejor modelo"
   ]
  },
  {
   "cell_type": "code",
   "execution_count": 50,
   "metadata": {},
   "outputs": [],
   "source": [
    "import pmdarima as pm"
   ]
  },
  {
   "cell_type": "code",
   "execution_count": 51,
   "metadata": {},
   "outputs": [
    {
     "name": "stdout",
     "output_type": "stream",
     "text": [
      "Performing stepwise search to minimize aic\n",
      " ARIMA(2,0,2)(0,0,0)[0] intercept   : AIC=958.641, Time=0.08 sec\n",
      " ARIMA(0,0,0)(0,0,0)[0] intercept   : AIC=1045.404, Time=0.00 sec\n",
      " ARIMA(1,0,0)(0,0,0)[0] intercept   : AIC=1024.065, Time=0.01 sec\n",
      " ARIMA(0,0,1)(0,0,0)[0] intercept   : AIC=inf, Time=0.02 sec\n",
      " ARIMA(0,0,0)(0,0,0)[0]             : AIC=1043.430, Time=0.00 sec\n",
      " ARIMA(1,0,2)(0,0,0)[0] intercept   : AIC=inf, Time=0.03 sec\n",
      " ARIMA(2,0,1)(0,0,0)[0] intercept   : AIC=inf, Time=0.05 sec\n",
      " ARIMA(3,0,2)(0,0,0)[0] intercept   : AIC=inf, Time=0.06 sec\n",
      " ARIMA(2,0,3)(0,0,0)[0] intercept   : AIC=inf, Time=0.07 sec\n",
      " ARIMA(1,0,1)(0,0,0)[0] intercept   : AIC=inf, Time=0.04 sec\n",
      " ARIMA(1,0,3)(0,0,0)[0] intercept   : AIC=inf, Time=0.08 sec\n",
      " ARIMA(3,0,1)(0,0,0)[0] intercept   : AIC=inf, Time=0.03 sec\n",
      " ARIMA(3,0,3)(0,0,0)[0] intercept   : AIC=960.705, Time=0.09 sec\n",
      " ARIMA(2,0,2)(0,0,0)[0]             : AIC=958.470, Time=0.04 sec\n",
      " ARIMA(1,0,2)(0,0,0)[0]             : AIC=inf, Time=0.02 sec\n",
      " ARIMA(2,0,1)(0,0,0)[0]             : AIC=inf, Time=0.03 sec\n",
      " ARIMA(3,0,2)(0,0,0)[0]             : AIC=inf, Time=0.05 sec\n",
      " ARIMA(2,0,3)(0,0,0)[0]             : AIC=inf, Time=0.06 sec\n",
      " ARIMA(1,0,1)(0,0,0)[0]             : AIC=inf, Time=0.02 sec\n",
      " ARIMA(1,0,3)(0,0,0)[0]             : AIC=959.195, Time=0.04 sec\n",
      " ARIMA(3,0,1)(0,0,0)[0]             : AIC=inf, Time=0.02 sec\n",
      " ARIMA(3,0,3)(0,0,0)[0]             : AIC=960.113, Time=0.08 sec\n",
      "\n",
      "Best model:  ARIMA(2,0,2)(0,0,0)[0]          \n",
      "Total fit time: 0.943 seconds\n"
     ]
    }
   ],
   "source": [
    "mod_autoarima = pm.auto_arima(uf_train,\n",
    "                     m=1,\n",
    "                     trace=True\n",
    "                    )\n",
    "aic_autoarima = mod_autoarima.aic()"
   ]
  },
  {
   "cell_type": "code",
   "execution_count": 52,
   "metadata": {},
   "outputs": [],
   "source": [
    "order_autoarima = (2,0,2)"
   ]
  },
  {
   "cell_type": "markdown",
   "metadata": {},
   "source": [
    "##### Realizamos predicciones con el modelo para calcular el RMSE"
   ]
  },
  {
   "cell_type": "code",
   "execution_count": 53,
   "metadata": {},
   "outputs": [
    {
     "data": {
      "text/plain": [
       "64.32325111655535"
      ]
     },
     "execution_count": 53,
     "metadata": {},
     "output_type": "execute_result"
    }
   ],
   "source": [
    "pred_autoarima = mod_autoarima.predict(n_periods=len(uf_val))\n",
    "rmse_autoarima = np.sqrt(mean_squared_error(uf_val, pred_autoarima))\n",
    "rmse_autoarima"
   ]
  },
  {
   "cell_type": "code",
   "execution_count": 54,
   "metadata": {},
   "outputs": [
    {
     "data": {
      "text/plain": [
       "{'model_1': {'model': <statsmodels.tsa.statespace.sarimax.SARIMAXResultsWrapper at 0x307b158d0>,\n",
       "  'AIC': 1020.8573756469672,\n",
       "  'order': (1, 1, 1),\n",
       "  'rmse': 62.673101175081776},\n",
       " 'model_2': {'model': <statsmodels.tsa.statespace.sarimax.SARIMAXResultsWrapper at 0x3078862d0>,\n",
       "  'AIC': 1008.0926023729847,\n",
       "  'order': (2, 1, 1),\n",
       "  'rmse': 66.60217267229417},\n",
       " 'model_3': {'model': <statsmodels.tsa.statespace.sarimax.SARIMAXResultsWrapper at 0x307864190>,\n",
       "  'AIC': 1002.8918772301341,\n",
       "  'order': (3, 1, 1),\n",
       "  'rmse': 62.33302781325154},\n",
       " 'model_4': {'model': <statsmodels.tsa.statespace.sarimax.SARIMAXResultsWrapper at 0x3078da390>,\n",
       "  'AIC': 991.2174479033636,\n",
       "  'order': (4, 1, 1),\n",
       "  'rmse': 66.99163108794718},\n",
       " 'model_5': {'model': <statsmodels.tsa.statespace.sarimax.SARIMAXResultsWrapper at 0x307a30590>,\n",
       "  'AIC': 980.8552265914907,\n",
       "  'order': (5, 1, 1),\n",
       "  'rmse': 65.78637785709203},\n",
       " 'model_6': {'model': <statsmodels.tsa.statespace.sarimax.SARIMAXResultsWrapper at 0x307872690>,\n",
       "  'AIC': 972.2388246469856,\n",
       "  'order': (1, 1, 9),\n",
       "  'rmse': 59.110246304092314},\n",
       " 'model_7': {'model': <statsmodels.tsa.statespace.sarimax.SARIMAXResultsWrapper at 0x3078bc910>,\n",
       "  'AIC': 969.5206863082246,\n",
       "  'order': (2, 1, 9),\n",
       "  'rmse': 63.013845848382196},\n",
       " 'model_8': {'model': <statsmodels.tsa.statespace.sarimax.SARIMAXResultsWrapper at 0x3078f4910>,\n",
       "  'AIC': 969.2850234075802,\n",
       "  'order': (4, 1, 9),\n",
       "  'rmse': 64.46626360413401},\n",
       " 'model_autoarima': {'model': ARIMA(order=(2, 0, 2), scoring_args={}, suppress_warnings=True,\n",
       "        with_intercept=False),\n",
       "  'AIC': 958.4700368050945,\n",
       "  'order': (2, 0, 2),\n",
       "  'rmse': 64.32325111655535}}"
      ]
     },
     "execution_count": 54,
     "metadata": {},
     "output_type": "execute_result"
    }
   ],
   "source": [
    "models['model_autoarima'] = {\n",
    "    'model': mod_autoarima,\n",
    "    'AIC': aic_autoarima,\n",
    "    'order': order_autoarima,\n",
    "    'rmse': rmse_autoarima\n",
    "}\n",
    "models"
   ]
  },
  {
   "cell_type": "code",
   "execution_count": 55,
   "metadata": {},
   "outputs": [
    {
     "data": {
      "text/html": [
       "<div>\n",
       "<style scoped>\n",
       "    .dataframe tbody tr th:only-of-type {\n",
       "        vertical-align: middle;\n",
       "    }\n",
       "\n",
       "    .dataframe tbody tr th {\n",
       "        vertical-align: top;\n",
       "    }\n",
       "\n",
       "    .dataframe thead th {\n",
       "        text-align: right;\n",
       "    }\n",
       "</style>\n",
       "<table border=\"1\" class=\"dataframe\">\n",
       "  <thead>\n",
       "    <tr style=\"text-align: right;\">\n",
       "      <th></th>\n",
       "      <th>model_1</th>\n",
       "      <th>model_2</th>\n",
       "      <th>model_3</th>\n",
       "      <th>model_4</th>\n",
       "      <th>model_5</th>\n",
       "      <th>model_6</th>\n",
       "      <th>model_7</th>\n",
       "      <th>model_8</th>\n",
       "      <th>model_autoarima</th>\n",
       "    </tr>\n",
       "  </thead>\n",
       "  <tbody>\n",
       "    <tr>\n",
       "      <th>model</th>\n",
       "      <td>&lt;statsmodels.tsa.statespace.sarimax.SARIMAXRes...</td>\n",
       "      <td>&lt;statsmodels.tsa.statespace.sarimax.SARIMAXRes...</td>\n",
       "      <td>&lt;statsmodels.tsa.statespace.sarimax.SARIMAXRes...</td>\n",
       "      <td>&lt;statsmodels.tsa.statespace.sarimax.SARIMAXRes...</td>\n",
       "      <td>&lt;statsmodels.tsa.statespace.sarimax.SARIMAXRes...</td>\n",
       "      <td>&lt;statsmodels.tsa.statespace.sarimax.SARIMAXRes...</td>\n",
       "      <td>&lt;statsmodels.tsa.statespace.sarimax.SARIMAXRes...</td>\n",
       "      <td>&lt;statsmodels.tsa.statespace.sarimax.SARIMAXRes...</td>\n",
       "      <td>ARIMA(2,0,2)(0,0,0)[0]</td>\n",
       "    </tr>\n",
       "    <tr>\n",
       "      <th>AIC</th>\n",
       "      <td>1020.857376</td>\n",
       "      <td>1008.092602</td>\n",
       "      <td>1002.891877</td>\n",
       "      <td>991.217448</td>\n",
       "      <td>980.855227</td>\n",
       "      <td>972.238825</td>\n",
       "      <td>969.520686</td>\n",
       "      <td>969.285023</td>\n",
       "      <td>958.470037</td>\n",
       "    </tr>\n",
       "    <tr>\n",
       "      <th>order</th>\n",
       "      <td>(1, 1, 1)</td>\n",
       "      <td>(2, 1, 1)</td>\n",
       "      <td>(3, 1, 1)</td>\n",
       "      <td>(4, 1, 1)</td>\n",
       "      <td>(5, 1, 1)</td>\n",
       "      <td>(1, 1, 9)</td>\n",
       "      <td>(2, 1, 9)</td>\n",
       "      <td>(4, 1, 9)</td>\n",
       "      <td>(2, 0, 2)</td>\n",
       "    </tr>\n",
       "    <tr>\n",
       "      <th>rmse</th>\n",
       "      <td>62.673101</td>\n",
       "      <td>66.602173</td>\n",
       "      <td>62.333028</td>\n",
       "      <td>66.991631</td>\n",
       "      <td>65.786378</td>\n",
       "      <td>59.110246</td>\n",
       "      <td>63.013846</td>\n",
       "      <td>64.466264</td>\n",
       "      <td>64.323251</td>\n",
       "    </tr>\n",
       "  </tbody>\n",
       "</table>\n",
       "</div>"
      ],
      "text/plain": [
       "                                                 model_1  \\\n",
       "model  <statsmodels.tsa.statespace.sarimax.SARIMAXRes...   \n",
       "AIC                                          1020.857376   \n",
       "order                                          (1, 1, 1)   \n",
       "rmse                                           62.673101   \n",
       "\n",
       "                                                 model_2  \\\n",
       "model  <statsmodels.tsa.statespace.sarimax.SARIMAXRes...   \n",
       "AIC                                          1008.092602   \n",
       "order                                          (2, 1, 1)   \n",
       "rmse                                           66.602173   \n",
       "\n",
       "                                                 model_3  \\\n",
       "model  <statsmodels.tsa.statespace.sarimax.SARIMAXRes...   \n",
       "AIC                                          1002.891877   \n",
       "order                                          (3, 1, 1)   \n",
       "rmse                                           62.333028   \n",
       "\n",
       "                                                 model_4  \\\n",
       "model  <statsmodels.tsa.statespace.sarimax.SARIMAXRes...   \n",
       "AIC                                           991.217448   \n",
       "order                                          (4, 1, 1)   \n",
       "rmse                                           66.991631   \n",
       "\n",
       "                                                 model_5  \\\n",
       "model  <statsmodels.tsa.statespace.sarimax.SARIMAXRes...   \n",
       "AIC                                           980.855227   \n",
       "order                                          (5, 1, 1)   \n",
       "rmse                                           65.786378   \n",
       "\n",
       "                                                 model_6  \\\n",
       "model  <statsmodels.tsa.statespace.sarimax.SARIMAXRes...   \n",
       "AIC                                           972.238825   \n",
       "order                                          (1, 1, 9)   \n",
       "rmse                                           59.110246   \n",
       "\n",
       "                                                 model_7  \\\n",
       "model  <statsmodels.tsa.statespace.sarimax.SARIMAXRes...   \n",
       "AIC                                           969.520686   \n",
       "order                                          (2, 1, 9)   \n",
       "rmse                                           63.013846   \n",
       "\n",
       "                                                 model_8  \\\n",
       "model  <statsmodels.tsa.statespace.sarimax.SARIMAXRes...   \n",
       "AIC                                           969.285023   \n",
       "order                                          (4, 1, 9)   \n",
       "rmse                                           64.466264   \n",
       "\n",
       "                         model_autoarima  \n",
       "model   ARIMA(2,0,2)(0,0,0)[0]            \n",
       "AIC                           958.470037  \n",
       "order                          (2, 0, 2)  \n",
       "rmse                           64.323251  "
      ]
     },
     "execution_count": 55,
     "metadata": {},
     "output_type": "execute_result"
    }
   ],
   "source": [
    "models_df = pd.DataFrame(models)\n",
    "models_df"
   ]
  },
  {
   "cell_type": "markdown",
   "metadata": {},
   "source": [
    "##### Considerando el modelo de autoarima, tenemos que el mejor modelo respecto a AIC sigue siendo el `(4, 1, 9) (0, 0, 0) (12)`, al igual que para el RMSE el mejor modelo sigue siendo el `(1, 1, 9) (0, 0, 0) (12)`"
   ]
  },
  {
   "cell_type": "markdown",
   "metadata": {},
   "source": [
    "##### Considerando el mejor modelo como el `(1, 1, 9) (0, 0, 0) (12)`, el cual es el modelo 6, aplicamos las predicciones para todo 2025"
   ]
  },
  {
   "cell_type": "code",
   "execution_count": 77,
   "metadata": {},
   "outputs": [
    {
     "name": "stderr",
     "output_type": "stream",
     "text": [
      "/opt/homebrew/lib/python3.11/site-packages/statsmodels/tsa/base/tsa_model.py:473: ValueWarning: No frequency information was provided, so inferred frequency MS will be used.\n",
      "  self._init_dates(dates, freq)\n",
      "/opt/homebrew/lib/python3.11/site-packages/statsmodels/tsa/base/tsa_model.py:473: ValueWarning: No frequency information was provided, so inferred frequency MS will be used.\n",
      "  self._init_dates(dates, freq)\n",
      "/opt/homebrew/lib/python3.11/site-packages/statsmodels/tsa/statespace/sarimax.py:978: UserWarning: Non-invertible starting MA parameters found. Using zeros as starting parameters.\n",
      "  warn('Non-invertible starting MA parameters found.'\n",
      " This problem is unconstrained.\n"
     ]
    },
    {
     "name": "stdout",
     "output_type": "stream",
     "text": [
      "RUNNING THE L-BFGS-B CODE\n",
      "\n",
      "           * * *\n",
      "\n",
      "Machine precision = 2.220D-16\n",
      " N =           11     M =           10\n",
      "\n",
      "At X0         0 variables are exactly at the bounds\n",
      "\n",
      "At iterate    0    f=  5.52753D+00    |proj g|=  1.12295D+00\n",
      "\n",
      "At iterate    5    f=  4.59793D+00    |proj g|=  8.38518D-02\n",
      "\n",
      "At iterate   10    f=  4.54210D+00    |proj g|=  1.35177D-02\n",
      "\n",
      "At iterate   15    f=  4.52165D+00    |proj g|=  3.29665D-02\n",
      "\n",
      "At iterate   20    f=  4.49114D+00    |proj g|=  6.39618D-02\n",
      "\n",
      "At iterate   25    f=  4.48227D+00    |proj g|=  6.00727D-03\n",
      "\n",
      "At iterate   30    f=  4.48226D+00    |proj g|=  1.55271D-04\n",
      "\n",
      "           * * *\n",
      "\n",
      "Tit   = total number of iterations\n",
      "Tnf   = total number of function evaluations\n",
      "Tnint = total number of segments explored during Cauchy searches\n",
      "Skip  = number of BFGS updates skipped\n",
      "Nact  = number of active bounds at final generalized Cauchy point\n",
      "Projg = norm of the final projected gradient\n",
      "F     = final function value\n",
      "\n",
      "           * * *\n",
      "\n",
      "   N    Tit     Tnf  Tnint  Skip  Nact     Projg        F\n",
      "   11     32     33      1     0     0   5.027D-05   4.482D+00\n",
      "  F =   4.4822586068254040     \n",
      "\n",
      "CONVERGENCE: REL_REDUCTION_OF_F_<=_FACTR*EPSMCH             \n"
     ]
    }
   ],
   "source": [
    "modfinal_order = models['model_6']['order']\n",
    "\n",
    "modfinal = SARIMAX(uf_train,\n",
    "               order=modfinal_order,\n",
    "               seasonal_order=(0, 0, 0, s)\n",
    "              )\n",
    "modfinal = modfinal.fit()"
   ]
  },
  {
   "cell_type": "code",
   "execution_count": 79,
   "metadata": {},
   "outputs": [
    {
     "data": {
      "text/plain": [
       "2023-01-01   -59.986097\n",
       "2023-02-01    47.550094\n",
       "2023-03-01   -10.357481\n",
       "2023-04-01     6.768670\n",
       "2023-05-01     0.698937\n",
       "2023-06-01    12.271708\n",
       "2023-07-01   -18.944129\n",
       "2023-08-01    20.686475\n",
       "2023-09-01   -15.730327\n",
       "2023-10-01    12.595875\n",
       "2023-11-01    -9.437189\n",
       "2023-12-01     7.700863\n",
       "2024-01-01    -5.629685\n",
       "2024-02-01     4.739260\n",
       "2024-03-01    -3.326051\n",
       "2024-04-01     2.947416\n",
       "2024-05-01    -1.932296\n",
       "2024-06-01     1.863307\n",
       "2024-07-01    -1.089040\n",
       "2024-08-01     1.207394\n",
       "2024-09-01    -0.578849\n",
       "2024-10-01     0.810550\n",
       "Freq: MS, Name: predicted_mean, dtype: float64"
      ]
     },
     "execution_count": 79,
     "metadata": {},
     "output_type": "execute_result"
    }
   ],
   "source": [
    "preds_final = modfinal.forecast(steps=22)\n",
    "preds_final"
   ]
  },
  {
   "cell_type": "markdown",
   "metadata": {},
   "source": [
    "#### Aplicamos la transformación inversa"
   ]
  },
  {
   "cell_type": "code",
   "execution_count": 81,
   "metadata": {},
   "outputs": [],
   "source": [
    "pred_inverse_diff = preds_final.cumsum()"
   ]
  },
  {
   "cell_type": "code",
   "execution_count": 85,
   "metadata": {},
   "outputs": [],
   "source": [
    "fixed_trend = [trend[i] for i in pred_inverse_diff.index.astype(str) if i in trend.index]\n",
    "fixed_seasonal = [seasonal[i] for i in pred_inverse_diff.index.astype(str) if i in seasonal.index]"
   ]
  },
  {
   "cell_type": "code",
   "execution_count": 94,
   "metadata": {},
   "outputs": [
    {
     "name": "stderr",
     "output_type": "stream",
     "text": [
      "/var/folders/5x/tlp5fd614dv9y_wn8nmtqv4rqq_frn/T/ipykernel_22833/151442660.py:4: FutureWarning: Series.__getitem__ treating keys as positions is deprecated. In a future version, integer keys will always be treated as labels (consistent with DataFrame behavior). To access a value by position, use `ser.iloc[pos]`\n",
      "  pred_inverse_diff[i]\n"
     ]
    },
    {
     "data": {
      "text/plain": [
       "[35227.36297325247,\n",
       " 35455.07330030013,\n",
       " 35623.85814520994,\n",
       " 35784.2442575346,\n",
       " 35981.60342701237,\n",
       " 36059.500794045234,\n",
       " 36052.24410723007,\n",
       " 36134.274147660675,\n",
       " 36227.00947972273,\n",
       " 36363.33946356898,\n",
       " 36576.505840402366,\n",
       " 36694.65569559472,\n",
       " 36765.78345221027,\n",
       " 36897.236277647055,\n",
       " 37065.68255184005,\n",
       " 37241.98074336791,\n",
       " 37424.822013256475,\n",
       " 37527.80097910196,\n",
       " 37611.112714728355,\n",
       " 37750.50034124954,\n",
       " 37876.2038182364,\n",
       " 38020.71181051268]"
      ]
     },
     "execution_count": 94,
     "metadata": {},
     "output_type": "execute_result"
    }
   ],
   "source": [
    "preds_real = [\n",
    "    fixed_trend[i] +\n",
    "    fixed_seasonal[i] +\n",
    "    pred_inverse_diff[i] \n",
    "    for i in range(len(pred_inverse_diff))\n",
    "]\n",
    "\n",
    "preds_real"
   ]
  },
  {
   "cell_type": "markdown",
   "metadata": {},
   "source": [
    "### Obtenemos el dataset con el valor real versus las predicciones"
   ]
  },
  {
   "cell_type": "code",
   "execution_count": 105,
   "metadata": {},
   "outputs": [
    {
     "name": "stderr",
     "output_type": "stream",
     "text": [
      "/var/folders/5x/tlp5fd614dv9y_wn8nmtqv4rqq_frn/T/ipykernel_22833/2873979751.py:2: SettingWithCopyWarning: \n",
      "A value is trying to be set on a copy of a slice from a DataFrame.\n",
      "Try using .loc[row_indexer,col_indexer] = value instead\n",
      "\n",
      "See the caveats in the documentation: https://pandas.pydata.org/pandas-docs/stable/user_guide/indexing.html#returning-a-view-versus-a-copy\n",
      "  predictions_df['Predicciones'] = preds_real\n"
     ]
    },
    {
     "data": {
      "text/html": [
       "<div>\n",
       "<style scoped>\n",
       "    .dataframe tbody tr th:only-of-type {\n",
       "        vertical-align: middle;\n",
       "    }\n",
       "\n",
       "    .dataframe tbody tr th {\n",
       "        vertical-align: top;\n",
       "    }\n",
       "\n",
       "    .dataframe thead th {\n",
       "        text-align: right;\n",
       "    }\n",
       "</style>\n",
       "<table border=\"1\" class=\"dataframe\">\n",
       "  <thead>\n",
       "    <tr style=\"text-align: right;\">\n",
       "      <th></th>\n",
       "      <th>Valor</th>\n",
       "      <th>Predicciones</th>\n",
       "    </tr>\n",
       "    <tr>\n",
       "      <th>mes</th>\n",
       "      <th></th>\n",
       "      <th></th>\n",
       "    </tr>\n",
       "  </thead>\n",
       "  <tbody>\n",
       "    <tr>\n",
       "      <th>2023-01-01</th>\n",
       "      <td>35287.50</td>\n",
       "      <td>35227.362973</td>\n",
       "    </tr>\n",
       "    <tr>\n",
       "      <th>2023-02-01</th>\n",
       "      <td>35509.68</td>\n",
       "      <td>35455.073300</td>\n",
       "    </tr>\n",
       "    <tr>\n",
       "      <th>2023-03-01</th>\n",
       "      <td>35575.48</td>\n",
       "      <td>35623.858145</td>\n",
       "    </tr>\n",
       "    <tr>\n",
       "      <th>2023-04-01</th>\n",
       "      <td>35838.55</td>\n",
       "      <td>35784.244258</td>\n",
       "    </tr>\n",
       "    <tr>\n",
       "      <th>2023-05-01</th>\n",
       "      <td>36032.89</td>\n",
       "      <td>35981.603427</td>\n",
       "    </tr>\n",
       "    <tr>\n",
       "      <th>2023-06-01</th>\n",
       "      <td>36089.48</td>\n",
       "      <td>36059.500794</td>\n",
       "    </tr>\n",
       "    <tr>\n",
       "      <th>2023-07-01</th>\n",
       "      <td>36049.05</td>\n",
       "      <td>36052.244107</td>\n",
       "    </tr>\n",
       "    <tr>\n",
       "      <th>2023-08-01</th>\n",
       "      <td>36130.31</td>\n",
       "      <td>36134.274148</td>\n",
       "    </tr>\n",
       "    <tr>\n",
       "      <th>2023-09-01</th>\n",
       "      <td>36197.53</td>\n",
       "      <td>36227.009480</td>\n",
       "    </tr>\n",
       "    <tr>\n",
       "      <th>2023-10-01</th>\n",
       "      <td>36388.07</td>\n",
       "      <td>36363.339464</td>\n",
       "    </tr>\n",
       "    <tr>\n",
       "      <th>2023-11-01</th>\n",
       "      <td>36563.87</td>\n",
       "      <td>36576.505840</td>\n",
       "    </tr>\n",
       "    <tr>\n",
       "      <th>2023-12-01</th>\n",
       "      <td>36789.36</td>\n",
       "      <td>36694.655696</td>\n",
       "    </tr>\n",
       "    <tr>\n",
       "      <th>2024-01-01</th>\n",
       "      <td>36733.04</td>\n",
       "      <td>36765.783452</td>\n",
       "    </tr>\n",
       "    <tr>\n",
       "      <th>2024-02-01</th>\n",
       "      <td>36856.50</td>\n",
       "      <td>36897.236278</td>\n",
       "    </tr>\n",
       "    <tr>\n",
       "      <th>2024-03-01</th>\n",
       "      <td>37093.52</td>\n",
       "      <td>37065.682552</td>\n",
       "    </tr>\n",
       "    <tr>\n",
       "      <th>2024-04-01</th>\n",
       "      <td>37261.98</td>\n",
       "      <td>37241.980743</td>\n",
       "    </tr>\n",
       "    <tr>\n",
       "      <th>2024-05-01</th>\n",
       "      <td>37438.91</td>\n",
       "      <td>37424.822013</td>\n",
       "    </tr>\n",
       "    <tr>\n",
       "      <th>2024-06-01</th>\n",
       "      <td>37571.86</td>\n",
       "      <td>37527.800979</td>\n",
       "    </tr>\n",
       "    <tr>\n",
       "      <th>2024-07-01</th>\n",
       "      <td>37578.95</td>\n",
       "      <td>37611.112715</td>\n",
       "    </tr>\n",
       "    <tr>\n",
       "      <th>2024-08-01</th>\n",
       "      <td>37754.47</td>\n",
       "      <td>37750.500341</td>\n",
       "    </tr>\n",
       "    <tr>\n",
       "      <th>2024-09-01</th>\n",
       "      <td>37910.42</td>\n",
       "      <td>37876.203818</td>\n",
       "    </tr>\n",
       "    <tr>\n",
       "      <th>2024-10-01</th>\n",
       "      <td>37971.42</td>\n",
       "      <td>38020.711811</td>\n",
       "    </tr>\n",
       "  </tbody>\n",
       "</table>\n",
       "</div>"
      ],
      "text/plain": [
       "               Valor  Predicciones\n",
       "mes                               \n",
       "2023-01-01  35287.50  35227.362973\n",
       "2023-02-01  35509.68  35455.073300\n",
       "2023-03-01  35575.48  35623.858145\n",
       "2023-04-01  35838.55  35784.244258\n",
       "2023-05-01  36032.89  35981.603427\n",
       "2023-06-01  36089.48  36059.500794\n",
       "2023-07-01  36049.05  36052.244107\n",
       "2023-08-01  36130.31  36134.274148\n",
       "2023-09-01  36197.53  36227.009480\n",
       "2023-10-01  36388.07  36363.339464\n",
       "2023-11-01  36563.87  36576.505840\n",
       "2023-12-01  36789.36  36694.655696\n",
       "2024-01-01  36733.04  36765.783452\n",
       "2024-02-01  36856.50  36897.236278\n",
       "2024-03-01  37093.52  37065.682552\n",
       "2024-04-01  37261.98  37241.980743\n",
       "2024-05-01  37438.91  37424.822013\n",
       "2024-06-01  37571.86  37527.800979\n",
       "2024-07-01  37578.95  37611.112715\n",
       "2024-08-01  37754.47  37750.500341\n",
       "2024-09-01  37910.42  37876.203818\n",
       "2024-10-01  37971.42  38020.711811"
      ]
     },
     "execution_count": 105,
     "metadata": {},
     "output_type": "execute_result"
    }
   ],
   "source": [
    "predictions_df = uf_df.loc['2023-01-01':'2024-10-01']\n",
    "predictions_df['Predicciones'] = preds_real\n",
    "predictions_df"
   ]
  },
  {
   "cell_type": "markdown",
   "metadata": {},
   "source": [
    "### Finalmente, calculamos el RMSE"
   ]
  },
  {
   "cell_type": "code",
   "execution_count": 107,
   "metadata": {},
   "outputs": [
    {
     "data": {
      "text/html": [
       "<div>\n",
       "<style scoped>\n",
       "    .dataframe tbody tr th:only-of-type {\n",
       "        vertical-align: middle;\n",
       "    }\n",
       "\n",
       "    .dataframe tbody tr th {\n",
       "        vertical-align: top;\n",
       "    }\n",
       "\n",
       "    .dataframe thead th {\n",
       "        text-align: right;\n",
       "    }\n",
       "</style>\n",
       "<table border=\"1\" class=\"dataframe\">\n",
       "  <thead>\n",
       "    <tr style=\"text-align: right;\">\n",
       "      <th></th>\n",
       "      <th>Valor</th>\n",
       "      <th>Predicciones</th>\n",
       "    </tr>\n",
       "    <tr>\n",
       "      <th>mes</th>\n",
       "      <th></th>\n",
       "      <th></th>\n",
       "    </tr>\n",
       "  </thead>\n",
       "  <tbody>\n",
       "    <tr>\n",
       "      <th>2023-01-01</th>\n",
       "      <td>35287.50</td>\n",
       "      <td>35227.362973</td>\n",
       "    </tr>\n",
       "    <tr>\n",
       "      <th>2023-02-01</th>\n",
       "      <td>35509.68</td>\n",
       "      <td>35455.073300</td>\n",
       "    </tr>\n",
       "    <tr>\n",
       "      <th>2023-03-01</th>\n",
       "      <td>35575.48</td>\n",
       "      <td>35623.858145</td>\n",
       "    </tr>\n",
       "    <tr>\n",
       "      <th>2023-04-01</th>\n",
       "      <td>35838.55</td>\n",
       "      <td>35784.244258</td>\n",
       "    </tr>\n",
       "    <tr>\n",
       "      <th>2023-05-01</th>\n",
       "      <td>36032.89</td>\n",
       "      <td>35981.603427</td>\n",
       "    </tr>\n",
       "    <tr>\n",
       "      <th>2023-06-01</th>\n",
       "      <td>36089.48</td>\n",
       "      <td>36059.500794</td>\n",
       "    </tr>\n",
       "    <tr>\n",
       "      <th>2023-07-01</th>\n",
       "      <td>36049.05</td>\n",
       "      <td>36052.244107</td>\n",
       "    </tr>\n",
       "    <tr>\n",
       "      <th>2023-08-01</th>\n",
       "      <td>36130.31</td>\n",
       "      <td>36134.274148</td>\n",
       "    </tr>\n",
       "    <tr>\n",
       "      <th>2023-09-01</th>\n",
       "      <td>36197.53</td>\n",
       "      <td>36227.009480</td>\n",
       "    </tr>\n",
       "    <tr>\n",
       "      <th>2023-10-01</th>\n",
       "      <td>36388.07</td>\n",
       "      <td>36363.339464</td>\n",
       "    </tr>\n",
       "    <tr>\n",
       "      <th>2023-11-01</th>\n",
       "      <td>36563.87</td>\n",
       "      <td>36576.505840</td>\n",
       "    </tr>\n",
       "    <tr>\n",
       "      <th>2023-12-01</th>\n",
       "      <td>36789.36</td>\n",
       "      <td>36694.655696</td>\n",
       "    </tr>\n",
       "    <tr>\n",
       "      <th>2024-01-01</th>\n",
       "      <td>36733.04</td>\n",
       "      <td>36765.783452</td>\n",
       "    </tr>\n",
       "    <tr>\n",
       "      <th>2024-02-01</th>\n",
       "      <td>36856.50</td>\n",
       "      <td>36897.236278</td>\n",
       "    </tr>\n",
       "    <tr>\n",
       "      <th>2024-03-01</th>\n",
       "      <td>37093.52</td>\n",
       "      <td>37065.682552</td>\n",
       "    </tr>\n",
       "    <tr>\n",
       "      <th>2024-04-01</th>\n",
       "      <td>37261.98</td>\n",
       "      <td>37241.980743</td>\n",
       "    </tr>\n",
       "    <tr>\n",
       "      <th>2024-05-01</th>\n",
       "      <td>37438.91</td>\n",
       "      <td>37424.822013</td>\n",
       "    </tr>\n",
       "    <tr>\n",
       "      <th>2024-06-01</th>\n",
       "      <td>37571.86</td>\n",
       "      <td>37527.800979</td>\n",
       "    </tr>\n",
       "    <tr>\n",
       "      <th>2024-07-01</th>\n",
       "      <td>37578.95</td>\n",
       "      <td>37611.112715</td>\n",
       "    </tr>\n",
       "    <tr>\n",
       "      <th>2024-08-01</th>\n",
       "      <td>37754.47</td>\n",
       "      <td>37750.500341</td>\n",
       "    </tr>\n",
       "    <tr>\n",
       "      <th>2024-09-01</th>\n",
       "      <td>37910.42</td>\n",
       "      <td>37876.203818</td>\n",
       "    </tr>\n",
       "    <tr>\n",
       "      <th>2024-10-01</th>\n",
       "      <td>37971.42</td>\n",
       "      <td>38020.711811</td>\n",
       "    </tr>\n",
       "  </tbody>\n",
       "</table>\n",
       "</div>"
      ],
      "text/plain": [
       "               Valor  Predicciones\n",
       "mes                               \n",
       "2023-01-01  35287.50  35227.362973\n",
       "2023-02-01  35509.68  35455.073300\n",
       "2023-03-01  35575.48  35623.858145\n",
       "2023-04-01  35838.55  35784.244258\n",
       "2023-05-01  36032.89  35981.603427\n",
       "2023-06-01  36089.48  36059.500794\n",
       "2023-07-01  36049.05  36052.244107\n",
       "2023-08-01  36130.31  36134.274148\n",
       "2023-09-01  36197.53  36227.009480\n",
       "2023-10-01  36388.07  36363.339464\n",
       "2023-11-01  36563.87  36576.505840\n",
       "2023-12-01  36789.36  36694.655696\n",
       "2024-01-01  36733.04  36765.783452\n",
       "2024-02-01  36856.50  36897.236278\n",
       "2024-03-01  37093.52  37065.682552\n",
       "2024-04-01  37261.98  37241.980743\n",
       "2024-05-01  37438.91  37424.822013\n",
       "2024-06-01  37571.86  37527.800979\n",
       "2024-07-01  37578.95  37611.112715\n",
       "2024-08-01  37754.47  37750.500341\n",
       "2024-09-01  37910.42  37876.203818\n",
       "2024-10-01  37971.42  38020.711811"
      ]
     },
     "execution_count": 107,
     "metadata": {},
     "output_type": "execute_result"
    }
   ],
   "source": [
    "predictions_df"
   ]
  },
  {
   "cell_type": "code",
   "execution_count": 108,
   "metadata": {},
   "outputs": [
    {
     "data": {
      "text/plain": [
       "40.870567216342764"
      ]
     },
     "execution_count": 108,
     "metadata": {},
     "output_type": "execute_result"
    }
   ],
   "source": [
    "rmse_final = np.sqrt(mean_squared_error(predictions_df['Valor'], predictions_df['Predicciones']))\n",
    "rmse_final"
   ]
  },
  {
   "cell_type": "code",
   "execution_count": null,
   "metadata": {},
   "outputs": [],
   "source": []
  }
 ],
 "metadata": {
  "kernelspec": {
   "display_name": "Python 3",
   "language": "python",
   "name": "python3"
  },
  "language_info": {
   "codemirror_mode": {
    "name": "ipython",
    "version": 3
   },
   "file_extension": ".py",
   "mimetype": "text/x-python",
   "name": "python",
   "nbconvert_exporter": "python",
   "pygments_lexer": "ipython3",
   "version": "3.11.3"
  }
 },
 "nbformat": 4,
 "nbformat_minor": 2
}
