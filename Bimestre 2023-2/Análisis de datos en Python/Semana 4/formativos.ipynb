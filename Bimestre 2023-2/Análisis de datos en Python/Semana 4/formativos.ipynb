{
 "cells": [
  {
   "cell_type": "code",
   "execution_count": 2,
   "metadata": {},
   "outputs": [],
   "source": [
    "# -*- coding: utf-8 -*-\n",
    "import pandas as pd\n",
    "import numpy as np\n",
    "import re\n",
    "\n",
    "import warnings\n",
    "warnings.filterwarnings('ignore')"
   ]
  },
  {
   "cell_type": "code",
   "execution_count": 3,
   "metadata": {},
   "outputs": [
    {
     "data": {
      "text/html": [
       "<div>\n",
       "<style scoped>\n",
       "    .dataframe tbody tr th:only-of-type {\n",
       "        vertical-align: middle;\n",
       "    }\n",
       "\n",
       "    .dataframe tbody tr th {\n",
       "        vertical-align: top;\n",
       "    }\n",
       "\n",
       "    .dataframe thead th {\n",
       "        text-align: right;\n",
       "    }\n",
       "</style>\n",
       "<table border=\"1\" class=\"dataframe\">\n",
       "  <thead>\n",
       "    <tr style=\"text-align: right;\">\n",
       "      <th></th>\n",
       "      <th>Cajero</th>\n",
       "      <th>Coordenada en X</th>\n",
       "      <th>Coordenada en Y</th>\n",
       "      <th>Costo Fijo por Stock Out</th>\n",
       "      <th>Costo Variable por Stock Out</th>\n",
       "      <th>Duración de la recarga [Horas]</th>\n",
       "      <th>Lunes</th>\n",
       "      <th>Martes</th>\n",
       "      <th>Miércoles</th>\n",
       "      <th>Jueves</th>\n",
       "      <th>Viernes</th>\n",
       "      <th>Sábado</th>\n",
       "      <th>Domingo</th>\n",
       "      <th>Turno mañana</th>\n",
       "      <th>Turno tarde</th>\n",
       "      <th>Turno noche</th>\n",
       "    </tr>\n",
       "  </thead>\n",
       "  <tbody>\n",
       "    <tr>\n",
       "      <th>0</th>\n",
       "      <td>Cajero 1</td>\n",
       "      <td>50</td>\n",
       "      <td>104</td>\n",
       "      <td>0.39</td>\n",
       "      <td>0.04</td>\n",
       "      <td>0.2</td>\n",
       "      <td>1</td>\n",
       "      <td>1</td>\n",
       "      <td>1</td>\n",
       "      <td>1</td>\n",
       "      <td>1</td>\n",
       "      <td>1</td>\n",
       "      <td>1</td>\n",
       "      <td>0</td>\n",
       "      <td>0</td>\n",
       "      <td>1</td>\n",
       "    </tr>\n",
       "    <tr>\n",
       "      <th>1</th>\n",
       "      <td>Cajero 2</td>\n",
       "      <td>24</td>\n",
       "      <td>24</td>\n",
       "      <td>0.37</td>\n",
       "      <td>0.02</td>\n",
       "      <td>0.2</td>\n",
       "      <td>0</td>\n",
       "      <td>1</td>\n",
       "      <td>1</td>\n",
       "      <td>1</td>\n",
       "      <td>1</td>\n",
       "      <td>1</td>\n",
       "      <td>0</td>\n",
       "      <td>1</td>\n",
       "      <td>1</td>\n",
       "      <td>1</td>\n",
       "    </tr>\n",
       "    <tr>\n",
       "      <th>2</th>\n",
       "      <td>Cajero 3</td>\n",
       "      <td>9</td>\n",
       "      <td>48</td>\n",
       "      <td>0.44</td>\n",
       "      <td>0.05</td>\n",
       "      <td>0.3</td>\n",
       "      <td>1</td>\n",
       "      <td>1</td>\n",
       "      <td>1</td>\n",
       "      <td>1</td>\n",
       "      <td>0</td>\n",
       "      <td>0</td>\n",
       "      <td>1</td>\n",
       "      <td>1</td>\n",
       "      <td>1</td>\n",
       "      <td>1</td>\n",
       "    </tr>\n",
       "    <tr>\n",
       "      <th>3</th>\n",
       "      <td>Cajero 4</td>\n",
       "      <td>79</td>\n",
       "      <td>73</td>\n",
       "      <td>0.30</td>\n",
       "      <td>0.05</td>\n",
       "      <td>0.2</td>\n",
       "      <td>1</td>\n",
       "      <td>1</td>\n",
       "      <td>0</td>\n",
       "      <td>1</td>\n",
       "      <td>1</td>\n",
       "      <td>0</td>\n",
       "      <td>1</td>\n",
       "      <td>1</td>\n",
       "      <td>1</td>\n",
       "      <td>1</td>\n",
       "    </tr>\n",
       "    <tr>\n",
       "      <th>4</th>\n",
       "      <td>Cajero 5</td>\n",
       "      <td>13</td>\n",
       "      <td>20</td>\n",
       "      <td>0.23</td>\n",
       "      <td>0.04</td>\n",
       "      <td>0.3</td>\n",
       "      <td>1</td>\n",
       "      <td>1</td>\n",
       "      <td>0</td>\n",
       "      <td>1</td>\n",
       "      <td>1</td>\n",
       "      <td>1</td>\n",
       "      <td>1</td>\n",
       "      <td>1</td>\n",
       "      <td>1</td>\n",
       "      <td>1</td>\n",
       "    </tr>\n",
       "  </tbody>\n",
       "</table>\n",
       "</div>"
      ],
      "text/plain": [
       "     Cajero  Coordenada en X  Coordenada en Y  Costo Fijo por Stock Out  \\\n",
       "0  Cajero 1               50              104                      0.39   \n",
       "1  Cajero 2               24               24                      0.37   \n",
       "2  Cajero 3                9               48                      0.44   \n",
       "3  Cajero 4               79               73                      0.30   \n",
       "4  Cajero 5               13               20                      0.23   \n",
       "\n",
       "   Costo Variable por Stock Out  Duración de la recarga [Horas]  Lunes  \\\n",
       "0                          0.04                             0.2      1   \n",
       "1                          0.02                             0.2      0   \n",
       "2                          0.05                             0.3      1   \n",
       "3                          0.05                             0.2      1   \n",
       "4                          0.04                             0.3      1   \n",
       "\n",
       "   Martes  Miércoles  Jueves  Viernes  Sábado  Domingo  Turno mañana  \\\n",
       "0       1          1       1        1       1        1             0   \n",
       "1       1          1       1        1       1        0             1   \n",
       "2       1          1       1        0       0        1             1   \n",
       "3       1          0       1        1       0        1             1   \n",
       "4       1          0       1        1       1        1             1   \n",
       "\n",
       "   Turno tarde  Turno noche  \n",
       "0            0            1  \n",
       "1            1            1  \n",
       "2            1            1  \n",
       "3            1            1  \n",
       "4            1            1  "
      ]
     },
     "execution_count": 3,
     "metadata": {},
     "output_type": "execute_result"
    }
   ],
   "source": [
    "ubicacion_df = pd.read_excel(\"datos_cajero/DatosQF78.xlsx\", sheet_name=\"Ubicación Cajeros\")\n",
    "ubicacion_df.head()"
   ]
  },
  {
   "cell_type": "code",
   "execution_count": 4,
   "metadata": {},
   "outputs": [
    {
     "data": {
      "text/html": [
       "<div>\n",
       "<style scoped>\n",
       "    .dataframe tbody tr th:only-of-type {\n",
       "        vertical-align: middle;\n",
       "    }\n",
       "\n",
       "    .dataframe tbody tr th {\n",
       "        vertical-align: top;\n",
       "    }\n",
       "\n",
       "    .dataframe thead th {\n",
       "        text-align: right;\n",
       "    }\n",
       "</style>\n",
       "<table border=\"1\" class=\"dataframe\">\n",
       "  <thead>\n",
       "    <tr style=\"text-align: right;\">\n",
       "      <th></th>\n",
       "      <th>Día</th>\n",
       "      <th>Cajero</th>\n",
       "      <th>Monto</th>\n",
       "      <th>Hora de la transacción</th>\n",
       "    </tr>\n",
       "  </thead>\n",
       "  <tbody>\n",
       "    <tr>\n",
       "      <th>0</th>\n",
       "      <td>1</td>\n",
       "      <td>Cajero 196</td>\n",
       "      <td>2.70</td>\n",
       "      <td>0:0</td>\n",
       "    </tr>\n",
       "    <tr>\n",
       "      <th>1</th>\n",
       "      <td>1</td>\n",
       "      <td>Cajero 14</td>\n",
       "      <td>2.92</td>\n",
       "      <td>0:1</td>\n",
       "    </tr>\n",
       "    <tr>\n",
       "      <th>2</th>\n",
       "      <td>1</td>\n",
       "      <td>Cajero 143</td>\n",
       "      <td>5.69</td>\n",
       "      <td>0:3</td>\n",
       "    </tr>\n",
       "    <tr>\n",
       "      <th>3</th>\n",
       "      <td>1</td>\n",
       "      <td>Cajero 142</td>\n",
       "      <td>6.74</td>\n",
       "      <td>0:4</td>\n",
       "    </tr>\n",
       "    <tr>\n",
       "      <th>4</th>\n",
       "      <td>1</td>\n",
       "      <td>Cajero 214</td>\n",
       "      <td>2.40</td>\n",
       "      <td>0:6</td>\n",
       "    </tr>\n",
       "  </tbody>\n",
       "</table>\n",
       "</div>"
      ],
      "text/plain": [
       "   Día      Cajero  Monto Hora de la transacción\n",
       "0    1  Cajero 196   2.70                    0:0\n",
       "1    1   Cajero 14   2.92                    0:1\n",
       "2    1  Cajero 143   5.69                    0:3\n",
       "3    1  Cajero 142   6.74                    0:4\n",
       "4    1  Cajero 214   2.40                    0:6"
      ]
     },
     "execution_count": 4,
     "metadata": {},
     "output_type": "execute_result"
    }
   ],
   "source": [
    "retiros_df = pd.read_excel(\"datos_cajero/DatosQF78.xlsx\", sheet_name=\"Retiros\")\n",
    "retiros_df.head()"
   ]
  },
  {
   "attachments": {},
   "cell_type": "markdown",
   "metadata": {},
   "source": [
    "---\n",
    "# Formativo 1"
   ]
  },
  {
   "attachments": {},
   "cell_type": "markdown",
   "metadata": {},
   "source": [
    "# P1"
   ]
  },
  {
   "cell_type": "code",
   "execution_count": 5,
   "metadata": {},
   "outputs": [
    {
     "data": {
      "text/plain": [
       "212"
      ]
     },
     "execution_count": 5,
     "metadata": {},
     "output_type": "execute_result"
    }
   ],
   "source": [
    "dias_semana = ['Lunes', 'Martes', 'Miércoles', 'Jueves', 'Viernes', 'Sábado', 'Domingo']\n",
    "\n",
    "def at_least_n_days(row, n):\n",
    "    values = row.values.tolist()\n",
    "    if sum(values) >= n:\n",
    "        return 1\n",
    "    else: \n",
    "        return 0\n",
    "\n",
    "\n",
    "ubicacion_df['Reestablecido >=4 días'] = ubicacion_df[ubicacion_df.columns[6:13]].apply(lambda x: at_least_n_days(x, 4), axis=1)\n",
    "len(ubicacion_df[ubicacion_df['Reestablecido >=4 días'] == 1])"
   ]
  },
  {
   "attachments": {},
   "cell_type": "markdown",
   "metadata": {},
   "source": [
    "# P2"
   ]
  },
  {
   "cell_type": "code",
   "execution_count": 6,
   "metadata": {},
   "outputs": [
    {
     "data": {
      "text/plain": [
       "53"
      ]
     },
     "execution_count": 6,
     "metadata": {},
     "output_type": "execute_result"
    }
   ],
   "source": [
    "def at_least_n_days_wknd_notnight(row, n):\n",
    "    values = row.values.tolist()\n",
    "    cond_1 = sum(values[:7]) >= n # Al menos 4 dias de la semana\n",
    "    cond_2 = 1 in values[5:7] # Al menos un dia en fin de semana\n",
    "    cond_3 = values[-1] == 0 # Sin turno de noche\n",
    "    if cond_1 & cond_2 & cond_3:\n",
    "        return 1\n",
    "    else: \n",
    "        return 0\n",
    "    \n",
    "ubicacion_df['4days_wknd_notnight'] = ubicacion_df[ubicacion_df.columns[6:16]].apply(lambda x: at_least_n_days_wknd_notnight(x, 4), axis=1)\n",
    "len(ubicacion_df[ubicacion_df['4days_wknd_notnight'] == 1])"
   ]
  },
  {
   "attachments": {},
   "cell_type": "markdown",
   "metadata": {},
   "source": [
    "# P3"
   ]
  },
  {
   "cell_type": "code",
   "execution_count": 7,
   "metadata": {},
   "outputs": [
    {
     "data": {
      "text/plain": [
       "2072.49"
      ]
     },
     "execution_count": 7,
     "metadata": {},
     "output_type": "execute_result"
    }
   ],
   "source": [
    "def calculate_total_amount(cajero):\n",
    "    grouped_by_atm = retiros_df.groupby(['Cajero', 'Día']).sum()\n",
    "    amount = grouped_by_atm.loc[cajero]['Monto'].sum() \n",
    "    return amount\n",
    "\n",
    "calculate_total_amount('Cajero 214')"
   ]
  },
  {
   "attachments": {},
   "cell_type": "markdown",
   "metadata": {},
   "source": [
    "# P4"
   ]
  },
  {
   "cell_type": "code",
   "execution_count": 8,
   "metadata": {},
   "outputs": [
    {
     "data": {
      "text/plain": [
       "103"
      ]
     },
     "execution_count": 8,
     "metadata": {},
     "output_type": "execute_result"
    }
   ],
   "source": [
    "cajeros = ubicacion_df['Cajero'].unique().tolist()\n",
    "\n",
    "rentables = 0\n",
    "for caj in cajeros:\n",
    "    if calculate_total_amount(caj) > 2200:\n",
    "        rentables += 1\n",
    "\n",
    "rentables"
   ]
  },
  {
   "attachments": {},
   "cell_type": "markdown",
   "metadata": {},
   "source": [
    "# P5"
   ]
  },
  {
   "cell_type": "code",
   "execution_count": 9,
   "metadata": {},
   "outputs": [
    {
     "name": "stdout",
     "output_type": "stream",
     "text": [
      "<class 'pandas.core.frame.DataFrame'>\n",
      "RangeIndex: 98222 entries, 0 to 98221\n",
      "Data columns (total 4 columns):\n",
      " #   Column                  Non-Null Count  Dtype  \n",
      "---  ------                  --------------  -----  \n",
      " 0   Día                     98222 non-null  int64  \n",
      " 1   Cajero                  98222 non-null  object \n",
      " 2   Monto                   98222 non-null  float64\n",
      " 3   Hora de la transacción  98222 non-null  object \n",
      "dtypes: float64(1), int64(1), object(2)\n",
      "memory usage: 3.0+ MB\n"
     ]
    }
   ],
   "source": [
    "retiros_df.info()"
   ]
  },
  {
   "cell_type": "code",
   "execution_count": 10,
   "metadata": {},
   "outputs": [
    {
     "data": {
      "text/plain": [
       "4120"
      ]
     },
     "execution_count": 10,
     "metadata": {},
     "output_type": "execute_result"
    }
   ],
   "source": [
    "def cashout_2am(row):\n",
    "    hour_minute = row.split(':')\n",
    "    hour = int(hour_minute[0])\n",
    "    minute = int(hour_minute[1])\n",
    "    if hour == 2 and minute >= 0 and minute <= 59:\n",
    "        return 1\n",
    "    else:\n",
    "        return 0\n",
    "\n",
    "\n",
    "retiros_df['2-2:59'] = retiros_df['Hora de la transacción'].apply(cashout_2am)\n",
    "len(retiros_df[retiros_df['2-2:59'] == 1])"
   ]
  },
  {
   "attachments": {},
   "cell_type": "markdown",
   "metadata": {},
   "source": [
    "---\n",
    "# Formativo 2"
   ]
  },
  {
   "cell_type": "code",
   "execution_count": 15,
   "metadata": {},
   "outputs": [],
   "source": [
    "def cashout_by_hour(row_hour, given_hour):\n",
    "    hour_minute = row_hour.split(':')\n",
    "    hour = int(hour_minute[0])\n",
    "    minute = int(hour_minute[1])\n",
    "    if hour == given_hour and minute >= 0 and minute <= 59:\n",
    "        return 1\n",
    "    else:\n",
    "        return 0"
   ]
  },
  {
   "cell_type": "code",
   "execution_count": 19,
   "metadata": {},
   "outputs": [],
   "source": [
    "hours = [i for i in range(24)]\n",
    "for hour in hours:\n",
    "    retiros_df[f'{hour}-{hour}:59'] = retiros_df.apply(lambda x: cashout_by_hour(x['Hora de la transacción'], hour), axis=1)"
   ]
  },
  {
   "cell_type": "code",
   "execution_count": 29,
   "metadata": {},
   "outputs": [
    {
     "data": {
      "text/plain": [
       "13-13:59    4153\n",
       "17-17:59    4143\n",
       "14-14:59    4138\n",
       "23-23:59    4135\n",
       "3-3:59      4130\n",
       "20-20:59    4129\n",
       "2-2:59      4120\n",
       "9-9:59      4117\n",
       "7-7:59      4108\n",
       "6-6:59      4104\n",
       "16-16:59    4103\n",
       "15-15:59    4094\n",
       "11-11:59    4094\n",
       "10-10:59    4094\n",
       "4-4:59      4084\n",
       "12-12:59    4083\n",
       "21-21:59    4080\n",
       "5-5:59      4071\n",
       "8-8:59      4063\n",
       "18-18:59    4063\n",
       "19-19:59    4048\n",
       "22-22:59    4047\n",
       "1-1:59      4031\n",
       "0-0:59      3990\n",
       "dtype: int64"
      ]
     },
     "execution_count": 29,
     "metadata": {},
     "output_type": "execute_result"
    }
   ],
   "source": [
    "agrupado_por_hora = retiros_df[retiros_df.columns[4:]].sum().sort_values(ascending=False)\n",
    "agrupado_por_hora"
   ]
  },
  {
   "cell_type": "code",
   "execution_count": 34,
   "metadata": {},
   "outputs": [],
   "source": [
    "hora_mayor = agrupado_por_hora.index[0]\n",
    "hora_menor = agrupado_por_hora.index[-1]"
   ]
  },
  {
   "cell_type": "code",
   "execution_count": 35,
   "metadata": {},
   "outputs": [
    {
     "data": {
      "text/plain": [
       "'13-13:59'"
      ]
     },
     "execution_count": 35,
     "metadata": {},
     "output_type": "execute_result"
    }
   ],
   "source": [
    "hora_mayor"
   ]
  },
  {
   "cell_type": "code",
   "execution_count": 37,
   "metadata": {},
   "outputs": [
    {
     "data": {
      "text/plain": [
       "'0-0:59'"
      ]
     },
     "execution_count": 37,
     "metadata": {},
     "output_type": "execute_result"
    }
   ],
   "source": [
    "hora_menor"
   ]
  },
  {
   "cell_type": "code",
   "execution_count": null,
   "metadata": {},
   "outputs": [],
   "source": []
  }
 ],
 "metadata": {
  "kernelspec": {
   "display_name": "Python 3",
   "language": "python",
   "name": "python3"
  },
  "language_info": {
   "codemirror_mode": {
    "name": "ipython",
    "version": 3
   },
   "file_extension": ".py",
   "mimetype": "text/x-python",
   "name": "python",
   "nbconvert_exporter": "python",
   "pygments_lexer": "ipython3",
   "version": "3.11.3"
  },
  "orig_nbformat": 4,
  "vscode": {
   "interpreter": {
    "hash": "573546c1eada8c60b27f5300df4435af9ba2007194c80719d45c24c6ea4a493c"
   }
  }
 },
 "nbformat": 4,
 "nbformat_minor": 2
}
