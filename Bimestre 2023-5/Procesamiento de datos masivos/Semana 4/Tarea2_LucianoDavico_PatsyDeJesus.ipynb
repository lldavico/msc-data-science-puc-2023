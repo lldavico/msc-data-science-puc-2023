{
 "cells": [
  {
   "attachments": {},
   "cell_type": "markdown",
   "metadata": {},
   "source": [
    "# Tarea 2 | Procesamiento de datos masivos\n",
    "---\n",
    "* **Luciano Davico**\n",
    "* **Patsy De Jesús**"
   ]
  },
  {
   "attachments": {},
   "cell_type": "markdown",
   "metadata": {},
   "source": [
    "### Descargamos el html"
   ]
  },
  {
   "cell_type": "code",
   "execution_count": 106,
   "metadata": {},
   "outputs": [],
   "source": [
    "import requests\n",
    "from bs4 import BeautifulSoup"
   ]
  },
  {
   "cell_type": "code",
   "execution_count": 107,
   "metadata": {},
   "outputs": [],
   "source": [
    "def get_soup(url) -> BeautifulSoup:\n",
    "    source = requests.get(url)\n",
    "    html = source.content\n",
    "    soup = BeautifulSoup(html, \"html.parser\")\n",
    "    return soup\n"
   ]
  },
  {
   "attachments": {},
   "cell_type": "markdown",
   "metadata": {},
   "source": [
    "Definimos nuestra \"sopa\", donde tenemos parseado en memoria el html de la página"
   ]
  },
  {
   "cell_type": "code",
   "execution_count": 108,
   "metadata": {},
   "outputs": [],
   "source": [
    "url = 'http://books.toscrape.com/'\n",
    "soup = get_soup(url)"
   ]
  },
  {
   "attachments": {},
   "cell_type": "markdown",
   "metadata": {},
   "source": [
    "### 1. Links de todos los libros que tengan una calificación de 5 estrellas en la página 1"
   ]
  },
  {
   "cell_type": "code",
   "execution_count": 109,
   "metadata": {},
   "outputs": [],
   "source": [
    "# Definimos una lista donde almacenaremos los libros de 5 estrellas\n",
    "five_star_books = list()"
   ]
  },
  {
   "cell_type": "code",
   "execution_count": 110,
   "metadata": {},
   "outputs": [],
   "source": [
    "def get_product_list(soup):\n",
    "    # Definimos una lista donde almacenaremos todos los libros de la página\n",
    "    products_in_page = soup.find_all('article', class_='product_pod')\n",
    "    return products_in_page\n",
    "\n",
    "def filter_five_star(products):\n",
    "    # Aplicamos un filtro para obtener los productos de 5 estrellas\n",
    "    products_five_star = [product for product in products if product.find('p', class_='star-rating Five')]\n",
    "    return products_five_star\n",
    "\n",
    "def get_product_links(products):\n",
    "    links = [f\"{url}{p.find('a')['href']}\" for p in products]\n",
    "    return links\n"
   ]
  },
  {
   "attachments": {},
   "cell_type": "markdown",
   "metadata": {},
   "source": [
    "### Obtenemos los links de todos los productos con 5 estrellas"
   ]
  },
  {
   "cell_type": "code",
   "execution_count": 111,
   "metadata": {},
   "outputs": [
    {
     "data": {
      "text/plain": [
       "['http://books.toscrape.com/catalogue/sapiens-a-brief-history-of-humankind_996/index.html',\n",
       " 'http://books.toscrape.com/catalogue/set-me-free_988/index.html',\n",
       " 'http://books.toscrape.com/catalogue/scott-pilgrims-precious-little-life-scott-pilgrim-1_987/index.html',\n",
       " 'http://books.toscrape.com/catalogue/rip-it-up-and-start-again_986/index.html']"
      ]
     },
     "execution_count": 111,
     "metadata": {},
     "output_type": "execute_result"
    }
   ],
   "source": [
    "products = get_product_list(soup)\n",
    "five_star_products = filter_five_star(products)\n",
    "five_star_products_links = get_product_links(five_star_products)\n",
    "\n",
    "five_star_products_links"
   ]
  },
  {
   "attachments": {},
   "cell_type": "markdown",
   "metadata": {},
   "source": [
    "### 2. Todos los libros del catálogo completo (las 50 páginas) cuyo rating sea igual a 5 estrellas"
   ]
  },
  {
   "attachments": {},
   "cell_type": "markdown",
   "metadata": {},
   "source": [
    "Vemos que las páginas siguientes tienen la estructura del tipo\n",
    "\n",
    "`https://books.toscrape.com/catalogue/category/books_1/page-2.html`\n",
    "\n",
    "por lo que iremos parseando la url a medida que vamos iterando"
   ]
  },
  {
   "cell_type": "code",
   "execution_count": 112,
   "metadata": {},
   "outputs": [],
   "source": [
    "next_url_template = 'https://books.toscrape.com/catalogue/category/books_1/page-{n_page}.html'\n",
    "\n",
    "# Definimos el total de iteraciones que se tendrán que utilizar con range\n",
    "range_1000 = range(2, int(1000 / 20) + 1)"
   ]
  },
  {
   "cell_type": "code",
   "execution_count": 113,
   "metadata": {},
   "outputs": [
    {
     "data": {
      "text/plain": [
       "range(2, 51)"
      ]
     },
     "execution_count": 113,
     "metadata": {},
     "output_type": "execute_result"
    }
   ],
   "source": [
    "range_1000"
   ]
  },
  {
   "attachments": {},
   "cell_type": "markdown",
   "metadata": {},
   "source": [
    "Definimos un código para obtener los nombres de los productos"
   ]
  },
  {
   "cell_type": "code",
   "execution_count": 114,
   "metadata": {},
   "outputs": [],
   "source": [
    "def get_product_names(products):\n",
    "    links = [p.find('h3').find('a')['title'] for p in products]\n",
    "    return links"
   ]
  },
  {
   "attachments": {},
   "cell_type": "markdown",
   "metadata": {},
   "source": [
    "Construimos nuestro programa para obtener los nombres de todos los libros de 5 estrellas"
   ]
  },
  {
   "cell_type": "code",
   "execution_count": 115,
   "metadata": {},
   "outputs": [
    {
     "name": "stdout",
     "output_type": "stream",
     "text": [
      "Scraping page 2 --> https://books.toscrape.com/catalogue/category/books_1/page-2.html\n",
      "Scraping page 3 --> https://books.toscrape.com/catalogue/category/books_1/page-3.html\n",
      "Scraping page 4 --> https://books.toscrape.com/catalogue/category/books_1/page-4.html\n",
      "Scraping page 5 --> https://books.toscrape.com/catalogue/category/books_1/page-5.html\n",
      "Scraping page 6 --> https://books.toscrape.com/catalogue/category/books_1/page-6.html\n",
      "Scraping page 7 --> https://books.toscrape.com/catalogue/category/books_1/page-7.html\n",
      "Scraping page 8 --> https://books.toscrape.com/catalogue/category/books_1/page-8.html\n",
      "Scraping page 9 --> https://books.toscrape.com/catalogue/category/books_1/page-9.html\n",
      "Scraping page 10 --> https://books.toscrape.com/catalogue/category/books_1/page-10.html\n",
      "Scraping page 11 --> https://books.toscrape.com/catalogue/category/books_1/page-11.html\n",
      "Scraping page 12 --> https://books.toscrape.com/catalogue/category/books_1/page-12.html\n",
      "Scraping page 13 --> https://books.toscrape.com/catalogue/category/books_1/page-13.html\n",
      "Scraping page 14 --> https://books.toscrape.com/catalogue/category/books_1/page-14.html\n",
      "Scraping page 15 --> https://books.toscrape.com/catalogue/category/books_1/page-15.html\n",
      "Scraping page 16 --> https://books.toscrape.com/catalogue/category/books_1/page-16.html\n",
      "Scraping page 17 --> https://books.toscrape.com/catalogue/category/books_1/page-17.html\n",
      "Scraping page 18 --> https://books.toscrape.com/catalogue/category/books_1/page-18.html\n",
      "Scraping page 19 --> https://books.toscrape.com/catalogue/category/books_1/page-19.html\n",
      "Scraping page 20 --> https://books.toscrape.com/catalogue/category/books_1/page-20.html\n",
      "Scraping page 21 --> https://books.toscrape.com/catalogue/category/books_1/page-21.html\n",
      "Scraping page 22 --> https://books.toscrape.com/catalogue/category/books_1/page-22.html\n",
      "Scraping page 23 --> https://books.toscrape.com/catalogue/category/books_1/page-23.html\n",
      "Scraping page 24 --> https://books.toscrape.com/catalogue/category/books_1/page-24.html\n",
      "Scraping page 25 --> https://books.toscrape.com/catalogue/category/books_1/page-25.html\n",
      "Scraping page 26 --> https://books.toscrape.com/catalogue/category/books_1/page-26.html\n",
      "Scraping page 27 --> https://books.toscrape.com/catalogue/category/books_1/page-27.html\n",
      "Scraping page 28 --> https://books.toscrape.com/catalogue/category/books_1/page-28.html\n",
      "Scraping page 29 --> https://books.toscrape.com/catalogue/category/books_1/page-29.html\n",
      "Scraping page 30 --> https://books.toscrape.com/catalogue/category/books_1/page-30.html\n",
      "Scraping page 31 --> https://books.toscrape.com/catalogue/category/books_1/page-31.html\n",
      "Scraping page 32 --> https://books.toscrape.com/catalogue/category/books_1/page-32.html\n",
      "Scraping page 33 --> https://books.toscrape.com/catalogue/category/books_1/page-33.html\n",
      "Scraping page 34 --> https://books.toscrape.com/catalogue/category/books_1/page-34.html\n",
      "Scraping page 35 --> https://books.toscrape.com/catalogue/category/books_1/page-35.html\n",
      "Scraping page 36 --> https://books.toscrape.com/catalogue/category/books_1/page-36.html\n",
      "Scraping page 37 --> https://books.toscrape.com/catalogue/category/books_1/page-37.html\n",
      "Scraping page 38 --> https://books.toscrape.com/catalogue/category/books_1/page-38.html\n",
      "Scraping page 39 --> https://books.toscrape.com/catalogue/category/books_1/page-39.html\n",
      "Scraping page 40 --> https://books.toscrape.com/catalogue/category/books_1/page-40.html\n",
      "Scraping page 41 --> https://books.toscrape.com/catalogue/category/books_1/page-41.html\n",
      "Scraping page 42 --> https://books.toscrape.com/catalogue/category/books_1/page-42.html\n",
      "Scraping page 43 --> https://books.toscrape.com/catalogue/category/books_1/page-43.html\n",
      "Scraping page 44 --> https://books.toscrape.com/catalogue/category/books_1/page-44.html\n",
      "Scraping page 45 --> https://books.toscrape.com/catalogue/category/books_1/page-45.html\n",
      "Scraping page 46 --> https://books.toscrape.com/catalogue/category/books_1/page-46.html\n",
      "Scraping page 47 --> https://books.toscrape.com/catalogue/category/books_1/page-47.html\n",
      "Scraping page 48 --> https://books.toscrape.com/catalogue/category/books_1/page-48.html\n",
      "Scraping page 49 --> https://books.toscrape.com/catalogue/category/books_1/page-49.html\n",
      "Scraping page 50 --> https://books.toscrape.com/catalogue/category/books_1/page-50.html\n"
     ]
    }
   ],
   "source": [
    "five_star_products_names = list()\n",
    "\n",
    "products = get_product_list(soup)\n",
    "five_star_products = filter_five_star(products)\n",
    "five_star_products_names_page0 = get_product_names(five_star_products)\n",
    "\n",
    "five_star_products_names += five_star_products_names_page0\n",
    "\n",
    "for page_n in range_1000:\n",
    "    next_url = next_url_template.format(n_page=page_n)\n",
    "    print(f'Scraping page {page_n} --> {next_url}')\n",
    "    next_soup = get_soup(next_url)\n",
    "\n",
    "    products = get_product_list(next_soup)\n",
    "    five_star_products = filter_five_star(products)\n",
    "    five_star_products_names_page = get_product_names(five_star_products)\n",
    "\n",
    "    five_star_products_names += five_star_products_names_page"
   ]
  },
  {
   "attachments": {},
   "cell_type": "markdown",
   "metadata": {},
   "source": [
    "### Mostramos el listado total de nombres de productos con 5 estrellas"
   ]
  },
  {
   "cell_type": "code",
   "execution_count": 118,
   "metadata": {},
   "outputs": [
    {
     "name": "stdout",
     "output_type": "stream",
     "text": [
      "Total libros con 5 estrellas: 196\n",
      "\n"
     ]
    },
    {
     "data": {
      "text/plain": [
       "['Sapiens: A Brief History of Humankind',\n",
       " 'Set Me Free',\n",
       " \"Scott Pilgrim's Precious Little Life (Scott Pilgrim #1)\",\n",
       " 'Rip it Up and Start Again',\n",
       " 'Chase Me (Paris Nights #2)',\n",
       " 'Black Dust',\n",
       " 'Worlds Elsewhere: Journeys Around Shakespeare’s Globe',\n",
       " 'The Four Agreements: A Practical Guide to Personal Freedom',\n",
       " 'The Elephant Tree',\n",
       " \"Sophie's World\",\n",
       " 'Private Paris (Private #10)',\n",
       " '#HigherSelfie: Wake Up Your Life. Free Your Soul. Find Your Tribe.',\n",
       " 'We Love You, Charlie Freeman',\n",
       " 'Thirst',\n",
       " 'The Inefficiency Assassin: Time Management Tactics for Working Smarter, Not Longer',\n",
       " \"The Activist's Tao Te Ching: Ancient Advice for a Modern Revolution\",\n",
       " 'Princess Jellyfish 2-in-1 Omnibus, Vol. 01 (Princess Jellyfish 2-in-1 Omnibus #1)',\n",
       " 'Princess Between Worlds (Wide-Awake Princess #5)',\n",
       " 'Join',\n",
       " 'Immunity: How Elie Metchnikoff Changed the Course of Modern Medicine',\n",
       " 'Call the Nurse: True Stories of a Country Nurse on a Scottish Isle',\n",
       " 'A Piece of Sky, a Grain of Rice: A Memoir in Four Meditations',\n",
       " 'A Flight of Arrows (The Pathfinders #2)',\n",
       " '(Un)Qualified: How God Uses Broken People to Do Big Things',\n",
       " 'The Third Wave: An Entrepreneur’s Vision of the Future',\n",
       " 'The Regional Office Is Under Attack!',\n",
       " 'The Nerdy Nummies Cookbook: Sweet Treats for the Geek in All of Us',\n",
       " \"The Artist's Way: A Spiritual Path to Higher Creativity\",\n",
       " 'The Art of War',\n",
       " 'Scarlett Epstein Hates It Here',\n",
       " 'Redeeming Love',\n",
       " 'Mrs. Houdini',\n",
       " 'Modern Romance',\n",
       " 'Library of Souls (Miss Peregrine’s Peculiar Children #3)',\n",
       " 'Frostbite (Vampire Academy #2)',\n",
       " 'Finders Keepers (Bill Hodges Trilogy #2)',\n",
       " 'Done Rubbed Out (Reightman & Bailey #1)',\n",
       " 'Dark Notes',\n",
       " 'Batman: The Dark Knight Returns (Batman)',\n",
       " 'Amatus',\n",
       " 'Agnostic: A Spirited Manifesto',\n",
       " 'You (You #1)',\n",
       " \"Walt Disney's Alice in Wonderland\",\n",
       " \"The White Queen (The Cousins' War #1)\",\n",
       " 'The Time Keeper',\n",
       " 'The Star-Touched Queen',\n",
       " 'The Songs of the Gods',\n",
       " 'The Song of Achilles',\n",
       " 'The Darkest Lie',\n",
       " 'Superman Vol. 1: Before Truth (Superman by Gene Luen Yang #1)',\n",
       " 'Steve Jobs',\n",
       " 'Someone Like You (The Harrisons #2)',\n",
       " 'Quarter Life Poetry: Poems for the Young, Broke and Hangry',\n",
       " 'Old School (Diary of a Wimpy Kid #10)',\n",
       " 'Made to Stick: Why Some Ideas Survive and Others Die',\n",
       " 'Looking for Lovely: Collecting the Moments that Matter',\n",
       " 'Let It Out: A Journey Through Journaling',\n",
       " 'Lady Midnight (The Dark Artifices #1)',\n",
       " 'Hyperbole and a Half: Unfortunate Situations, Flawed Coping Mechanisms, Mayhem, and Other Things That Happened',\n",
       " 'Greek Mythic History',\n",
       " 'God: The Most Unpleasant Character in All Fiction',\n",
       " 'El Deafo',\n",
       " 'Eaternity: More than 150 Deliciously Easy Vegan Recipes for a Long, Healthy, Satisfied, Joyful Life',\n",
       " 'Demigods & Magicians: Percy and Annabeth Meet the Kanes (Percy Jackson & Kane Chronicles Crossover #1-3)',\n",
       " 'Dear Mr. Knightley',\n",
       " 'Brain on Fire: My Month of Madness',\n",
       " \"Barefoot Contessa at Home: Everyday Recipes You'll Make Over and Over Again\",\n",
       " 'All the Light We Cannot See',\n",
       " 'Abstract City',\n",
       " 'A Time of Torment (Charlie Parker #14)',\n",
       " 'The Star-Touched Queen',\n",
       " 'The Silent Sister (Riley MacPherson #1)',\n",
       " 'The Epidemic (The Program 0.6)',\n",
       " 'Psycho: Sanitarium (Psycho #1.5)',\n",
       " 'How to Speak Golf: An Illustrated Guide to Links Lingo',\n",
       " 'Everyday Italian: 125 Simple and Delicious Recipes',\n",
       " 'Eleanor & Park',\n",
       " 'Mother, Can You Not?',\n",
       " 'Born for This: How to Find the Work You Were Meant to Do',\n",
       " 'Adultery',\n",
       " \"A Gentleman's Position (Society of Gentlemen #3)\",\n",
       " '10-Day Green Smoothie Cleanse: Lose Up to 15 Pounds in 10 Days!',\n",
       " 'Without Shame',\n",
       " 'The New Brand You: Your New Image Makes the Sale for You',\n",
       " 'The Art and Science of Low Carbohydrate Living',\n",
       " 'Suzie Snowflake: One beautiful flake (a self-esteem story)',\n",
       " 'The Unlikely Pilgrimage of Harold Fry (Harold Fry #1)',\n",
       " 'Smarter Faster Better: The Secrets of Being Productive in Life and Business',\n",
       " 'Shadows of the Past (Logan Point #1)',\n",
       " 'Roller Girl',\n",
       " 'Out of Print: City Lights Spotlight No. 14',\n",
       " 'My Life Next Door (My Life Next Door )',\n",
       " 'Les Fleurs du Mal',\n",
       " \"Kill 'Em and Leave: Searching for James Brown and the American Soul\",\n",
       " 'Future Shock (Future Shock #1)',\n",
       " '\"Most Blessed of the Patriarchs\": Thomas Jefferson and the Empire of the Imagination',\n",
       " 'What Happened on Beale Street (Secrets of the South Mysteries #2)',\n",
       " \"The Bachelor Girl's Guide to Murder (Herringford and Watts Mysteries #1)\",\n",
       " 'Team of Rivals: The Political Genius of Abraham Lincoln',\n",
       " 'Naturally Lean: 125 Nourishing Gluten-Free, Plant-Based Recipes--All Under 300 Calories',\n",
       " 'Leave This Song Behind: Teen Poetry at Its Best',\n",
       " \"King's Folly (The Kinsman Chronicles #1)\",\n",
       " 'Good in Bed (Cannie Shapiro #1)',\n",
       " 'Every Heart a Doorway (Every Heart A Doorway #1)',\n",
       " 'Counted With the Stars (Out from Egypt #1)',\n",
       " 'At The Existentialist Café: Freedom, Being, and apricot cocktails with: Jean-Paul Sartre, Simone de Beauvoir, Albert Camus, Martin Heidegger, Edmund Husserl, Karl Jaspers, Maurice Merleau-Ponty and others',\n",
       " 'A Short History of Nearly Everything',\n",
       " 'The Sound Of Love',\n",
       " 'The Hobbit (Middle-Earth Universe)',\n",
       " 'The Collected Poems of W.B. Yeats (The Collected Works of W.B. Yeats #1)',\n",
       " 'The Barefoot Contessa Cookbook',\n",
       " 'How to Stop Worrying and Start Living',\n",
       " 'The Power Greens Cookbook: 140 Delicious Superfood Recipes',\n",
       " \"The Mathews Men: Seven Brothers and the War Against Hitler's U-boats\",\n",
       " 'The False Prince (The Ascendance Trilogy #1)',\n",
       " 'The Darkest Corners',\n",
       " 'Siddhartha',\n",
       " 'Shiver (The Wolves of Mercy Falls #1)',\n",
       " 'Mexican Today: New and Rediscovered Recipes for Contemporary Kitchens',\n",
       " 'Kill the Boy Band',\n",
       " 'Isla and the Happily Ever After (Anna and the French Kiss #3)',\n",
       " 'If I Stay (If I Stay #1)',\n",
       " 'Dracula the Un-Dead',\n",
       " 'Digital Fortress',\n",
       " 'Booked',\n",
       " 'Blue Lily, Lily Blue (The Raven Cycle #3)',\n",
       " 'Approval Junkie: Adventures in Caring Too Much',\n",
       " 'An Abundance of Katherines',\n",
       " 'The Passion of Dolssa',\n",
       " 'The Hunger Games (The Hunger Games #1)',\n",
       " 'The Beast (Black Dagger Brotherhood #14)',\n",
       " 'Some Women',\n",
       " 'Shopaholic Ties the Knot (Shopaholic #3)',\n",
       " 'Paper and Fire (The Great Library #2)',\n",
       " 'Outlander (Outlander #1)',\n",
       " 'No One Here Gets Out Alive',\n",
       " 'Harry Potter and the Half-Blood Prince (Harry Potter #6)',\n",
       " 'Atlas Shrugged',\n",
       " \"A New Earth: Awakening to Your Life's Purpose\",\n",
       " 'When You Are Engulfed in Flames',\n",
       " 'Voyager (Outlander #3)',\n",
       " 'The Silkworm (Cormoran Strike #2)',\n",
       " 'The Sandman, Vol. 3: Dream Country (The Sandman (volumes) #3)',\n",
       " 'The Red Tent',\n",
       " 'The Nanny Diaries (Nanny #1)',\n",
       " 'The Lonely Ones',\n",
       " \"The Husband's Secret\",\n",
       " 'The Disappearing Spoon: And Other True Tales of Madness, Love, and the History of the World from the Periodic Table of the Elements',\n",
       " 'The Day the Crayons Came Home (Crayons)',\n",
       " 'The Complete Poems',\n",
       " 'The Book of Basketball: The NBA According to The Sports Guy',\n",
       " 'The Blind Side: Evolution of a Game',\n",
       " 'Something Borrowed (Darcy & Rachel #1)',\n",
       " 'Saga, Volume 3 (Saga (Collected Editions) #3)',\n",
       " 'Life Without a Recipe',\n",
       " \"Lamb: The Gospel According to Biff, Christ's Childhood Pal\",\n",
       " 'Lady Renegades (Rebel Belle #3)',\n",
       " 'Into the Wild',\n",
       " 'Inferno (Robert Langdon #4)',\n",
       " 'Gratitude',\n",
       " 'Gone Girl',\n",
       " 'Fifty Shades Freed (Fifty Shades #3)',\n",
       " 'Disrupted: My Misadventure in the Start-Up Bubble',\n",
       " 'Dead Wake: The Last Crossing of the Lusitania',\n",
       " 'Dark Places',\n",
       " 'Crazy Rich Asians (Crazy Rich Asians #1)',\n",
       " 'Breaking Dawn (Twilight #4)',\n",
       " 'Brave Enough',\n",
       " 'Blink: The Power of Thinking Without Thinking',\n",
       " 'Between Shades of Gray',\n",
       " 'Beautiful Creatures (Caster Chronicles #1)',\n",
       " 'Annie on My Mind',\n",
       " 'A Visit from the Goon Squad',\n",
       " 'A Heartbreaking Work of Staggering Genius',\n",
       " 'Life',\n",
       " 'H is for Hawk',\n",
       " 'Fruits Basket, Vol. 2 (Fruits Basket #2)',\n",
       " 'While You Were Mine',\n",
       " 'Ways of Seeing',\n",
       " 'Travels with Charley: In Search of America',\n",
       " 'The Zombie Room',\n",
       " 'The Tumor',\n",
       " 'The Silent Wife',\n",
       " 'The Hook Up (Game On #1)',\n",
       " 'The Haters',\n",
       " 'The Girl You Lost',\n",
       " 'Rat Queens, Vol. 1: Sass & Sorcery (Rat Queens (Collected Editions) #1-5)',\n",
       " 'Off Sides (Off #1)',\n",
       " 'Kitchens of the Great Midwest',\n",
       " 'Jane Eyre',\n",
       " 'Fruits Basket, Vol. 1 (Fruits Basket #1)',\n",
       " 'Deep Under (Walker Security #1)',\n",
       " 'Bright Lines',\n",
       " 'Bleach, Vol. 1: Strawberry and the Soul Reapers (Bleach #1)',\n",
       " \"A Spy's Devotion (The Regency Spies of London #1)\",\n",
       " '1,000 Places to See Before You Die']"
      ]
     },
     "execution_count": 118,
     "metadata": {},
     "output_type": "execute_result"
    }
   ],
   "source": [
    "print(f'Total libros con 5 estrellas: {len(five_star_products_names)}')\n",
    "print()\n",
    "five_star_products_names"
   ]
  },
  {
   "cell_type": "code",
   "execution_count": null,
   "metadata": {},
   "outputs": [],
   "source": []
  }
 ],
 "metadata": {
  "kernelspec": {
   "display_name": "Python 3",
   "language": "python",
   "name": "python3"
  },
  "language_info": {
   "codemirror_mode": {
    "name": "ipython",
    "version": 3
   },
   "file_extension": ".py",
   "mimetype": "text/x-python",
   "name": "python",
   "nbconvert_exporter": "python",
   "pygments_lexer": "ipython3",
   "version": "3.11.2"
  },
  "orig_nbformat": 4,
  "vscode": {
   "interpreter": {
    "hash": "3cd4badaf0e37cda5664d5b81d987f40a27d89b089e43c5b5e91c1ec2a905f60"
   }
  }
 },
 "nbformat": 4,
 "nbformat_minor": 2
}
