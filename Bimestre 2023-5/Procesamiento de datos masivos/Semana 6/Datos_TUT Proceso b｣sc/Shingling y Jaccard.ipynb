{
 "cells": [
  {
   "cell_type": "markdown",
   "id": "0c31f7c6",
   "metadata": {},
   "source": [
    "# Shingling y comparación de conjuntos\n",
    "\n",
    "Vamos a aprender como comparar conjuntos usando la medida de simulitud de Jaccard, y como usar shingling para transformar texto a conjuntos, de forma de poder compararlos. "
   ]
  },
  {
   "cell_type": "markdown",
   "id": "a026ec79",
   "metadata": {},
   "source": [
    "## Shingling\n",
    "\n",
    "La técnica de *k*-shingling consiste en transformar un texto (es decir, un string) a un conjunto formado por todos los substring de tamaño *k* de ese texto, incluyendo espacios y otros caracteres no lexicográficos. \n",
    "\n",
    "Veamos como hacer esto para un conjunto de 10 poesías escritas por Pablo Neruda, parte de su obra de Odas Elementales. "
   ]
  },
  {
   "cell_type": "code",
   "execution_count": 9,
   "id": "dd0b3127",
   "metadata": {},
   "outputs": [
    {
     "name": "stdout",
     "output_type": "stream",
     "text": [
      "{'alegria': 'Alegría hoja verde caída en la ventana, minúscula claridad recién nacida, elefante sonoro, deslumbrante moneda, a veces ráfaga quebradiza, pero más bien pan permanente, esperanza cumplida, deber desarrollado. Te desdeñé, alegría. Fui mal aconsejado. La luna me llevó por sus caminos. Los antiguos poetas me prestaron anteojos y junto a cada cosa un nimbo oscuro puse, sobre la flor una corona negra, sobre la boca amada un triste beso. Aún es temprano. Déjame arrepentirme. Pensé que solamente si quemaba mi corazón la zarza del tormento, si mojaba la lluvia mi vestido en la comarca cárdena del luto, si cerraba los ojos a la rosa y tocaba la herida, si compartía todos los dolores, yo ayudaba a los hombres. No fui justo. Equivoqué mis pasos y hoy te llamo, alegría.  Como la tierra eres necesaria.  Como el fuego sustentas los hogares.  Como el pan eres pura.  Como el agua de un río eres sonora.  Como una abeja repartes miel volando.  Alegría, fui un joven taciturno, hallé tu cabellera escandalosa.  No era verdad, lo supe cuando en mi pecho desató su cascada.  Hoy, alegría, encontrada en la calle, lejos de todo libro, acompáñame:  contigo quiero ir de casa en casa, quiero ir de pueblo en pueblo, de bandera en bandera. No eres para mí solo. A las islas iremos, a los mares. A las minas iremos, a los bosques. No sólo leñadores solitarios, pobres lavanderas o erizados, augustos picapedreros, me van a recibir con tus racimos, sino los congregados, los reunidos, los sindicatos de mar o madera, los valientes muchachos en su lucha.  Contigo por el mundo! Con mi canto! Con el vuelo entreabierto de la estrella, y con el regocijo de la espuma!  Voy a cumplir con todos porque debo a todos mi alegría.  No se sorprenda nadie porque quiero entregar a los hombres los dones de la tierra, porque aprendí luchando que es mi deber terrestre propagar la alegría. Y cumplo mi destino con mi canto.', 'caldillo': 'En el mar tormentoso de Chile vive el rosado congrio, gigante anguila de nevada carne. Y en las ollas chilenas, en la costa, nació el caldillo grávido y suculento, provechoso. Lleven a la cocina el congrio desollado, su piel manchada cede como un guante y al descubierto queda entonces el racimo del mar, el congrio tierno reluce ya desnudo, preparado para nuestro apetito. Ahora recoges ajos, acaricia primero ese marfil precioso, huele su fragancia iracunda, entonces deja el ajo picado caer con la cebolla y el tomate hasta que la cebolla tenga color de oro. Mientras tanto se cuecen con el vapor los regios camarones marinos y cuando ya llegaron a su punto, cuando cuajó el sabor en una salsa formada por el jugo del océano y por el agua clara que desprendió la luz de la cebolla, entonces que entre el congrio y se sumerja en gloria, que en la olla se aceite, se contraiga y se impregne. Ya sólo es necesario dejar en el manjar caer la crema como una rosa espesa, y al fuego lentamente entregar el tesoro hasta que en el caldillo se calienten las esencias de Chile, y a la mesa lleguen recién casados los sabores del mar y de la tierra para que en ese plato tú conozcas el cielo.', 'feliz': 'Esta vez dejadme ser feliz, nada ha pasado a nadie, no estoy en parte alguna, sucede solamente que soy feliz por los cuatro costados del corazón, andando, durmiendo o escribiendo. Qué voy a hacerle, soy feliz. Soy más innumerable que el pasto en las praderas, siento la piel como un árbol rugoso y el agua abajo, los pájaros arriba, el mar como un anillo en mi cintura, hecha de pan y piedra la tierra el aire canta como una guitarra.  Tú a mi lado en la arena eres arena, tú cantas y eres canto, el mundo es hoy mi alma, canto y arena, el mundo es hoy tu boca, dejadme en tu boca y en la arena ser feliz, ser feliz porque si, porque respiro y porque tú respiras, ser feliz porque toco tu rodilla y es como si tocara la piel azul del cielo y su frescura.  Hoy dejadme a mí solo ser feliz, con todos o sin todos, ser feliz con el pasto y la arena, ser feliz con el aire y la tierra, ser feliz, contigo, con tu boca, ser feliz.', 'libro': 'Libro hermoso, libro, mínimo bosque, hoja tras hoja, huele tu papel a elemento, eres matutino y nocturno, cereal, oceánico, en tus antiguas páginas cazadores de osos, fogatas cerca del Mississippi, canoas en las islas, más tarde caminos y caminos, revelaciones, pueblos insurgentes, Rimbaud como un herido pez sangriento palpitando en el lodo, y la hermosura de la fraternidad, piedra por piedra sube el castillo humano, dolores que entretejen la firmeza, acciones solidarias, libro oculto de bolsillo en bolsillo, lámpara clandestina, estrella roja.  Nosotros los poetas caminantes exploramos el mundo, en cada puerta nos recibió la vida, participamos en la lucha terrestre. Cuál fue nuestra victoria? Un libro, un libro lleno de contactos humanos, de camisas, un libro sin soledad, con hombres y herramientas, un libro es la victoria. Vive y cae como todos los frutos, no sólo tiene luz, no sólo tiene sombra, se apaga, se deshoja, se pierde entre las calles, se desploma en la tierra. Libro de poesía de mañana, otra vez vuelve a tener nieve o musgo en tus páginas para que las pisadas o los ojos vayan grabando huellas: de nuevo descríbenos el mundo los manantiales entre la espesura, las altas arboledas, los planetas polares, y el hombre en los caminos, en los nuevos caminos, avanzando en la selva, en el agua, en el cielo, en la desnuda soledad marina, el hombre descubriendo los últimos secretos, el hombre regresando con un libro, el cazador de vuelta con un libro, el campesino arando con un libro. ', 'mar': 'Aquí en la isla el mar y cuánto mar se sale de sí mismo a cada rato, dice que sí, que no, que no, que no, que no, dice que si, en azul, en espuma, en galope, dice que no, que no. No puede estarse quieto, me llamo mar, repite pegando en una piedra sin lograr convencerla, entonces con siete lenguas verdes de siete perros verdes, de siete tigres verdes, de siete mares verdes, la recorre, la besa, la humedece y se golpea el pecho repitiendo su nombre. Oh mar, así te llamas, oh camarada océano, no pierdas tiempo y agua, no te sacudas tanto, ayúdanos, somos los pequeñitos pescadores, los hombres de la orilla, tenemos frío y hambre eres nuestro enemigo, no golpees tan fuerte, no grites de ese modo, abre tu caja verde y déjanos a todos en las manos tu regalo de plata: el pez de cada día.  Aquí en cada casa lo queremos y aunque sea de plata, de cristal o de luna, nació para las pobres cocinas de la tierra. No lo guardes, avaro, corriendo frío como relámpago mojado debajo de tus olas. Ven, ahora, ábrete y déjalo cerca de nuestras manos, ayúdanos, océano, padre verde y profundo, a terminar un día la pobreza terrestre. Déjanos cosechar la infinita plantación de tus vidas, tus trigos y tus uvas, tus bueyes, tus metales, el esplendor mojado y el fruto sumergido.  Padre mar, ya sabemos cómo te llamas, todas las gaviotas reparten tu nombre en las arenas: ahora, pórtate bien, no sacudas tus crines, no amenaces a nadie, no rompas contra el cielo tu bella dentadura, déjate por un rato de gloriosas historias, danos a cada hombre, a cada mujer y a cada niño, un pez grande o pequeño cada día. Sal por todas las calles del mundo a repartir pescado y entonces grita, grita para que te oigan todos los pobres que trabajan y digan, asomando a la boca de la mina: \"Ahí viene el viejo mar repartiendo pescado\". Y volverán abajo, a las tinieblas, sonriendo, y por las calles y los bosques sonreirán los hombres y la tierra con sonrisa marina. Pero si no lo quieres, si no te da la gana, espérate, espéranos, lo vamos a pensar, vamos en primer término a arreglar los asuntos humanos, los más grandes primero, todos los otros después, y entonces entraremos en ti, cortaremos las olas con cuchillo de fuego, en un caballo eléctrico saltaremos la espuma, cantando nos hundiremos hasta tocar el fondo de tus entrañas, un hilo atómico guardará tu cintura, plantaremos en tu jardín profundo plantas de cemento y acero, te amarraremos pies y manos, los hombres por tu piel pasearán escupiendo, sacándote racimos, construyéndote arneses, montándote y domándote dominándote el alma. Pero eso será cuando los hombres hayamos arreglado nuestro problema, el grande, el gran problema. Todo lo arreglaremos poco a poco: te obligaremos, mar, te obligaremos, tierra, a hacer milagros, porque en nosotros mismos, en la lucha, está el pez,  está el pan, está el milagro. ', 'poetas': 'Poetas naturales de la tierra, escondidos en surcos, cantando en las esquinas, ciegos de callejón, oh trovadores de las praderas y los almacenes, si al agua comprendiéramos tal vez corno vosotros hablaría, si las piedras dijeran su lamento o su silencio, con vuestra voz, hermanos, hablarían. Numerosos sois, como las raíces. En el antiguo corazón del pueblo habéis nacido y de allí viene vuestra voz sencilla. Tenéis la jerarquía del silencioso cántaro de greda perdido en los rincones, de pronto canta cuando se desborda y es sencillo su canto, es sólo tierra y agua.  Así quiero que canten mis poemas, que lleven tierra y agua, fertilidad y canto, a todo el mundo. Por eso, poetas de mi pueblo, saludo la antigua luz que sale de la tierra. El eterno hilo en que se juntaron pueblo y poesía, nunca se cortó este profundo hilo de piedra, viene desde tan lejos como la memoria del hombre. Vio con los ojos ciegos de los vates nacer la tumultuosa primavera, la sociedad humana, el primer beso, y en la guerra cantó sobre la sangre, allí estaba mi hermano barba roja, cabeza ensangrentada y ojos ciegos, con su lira, allí estaba cantando entre los muertos, Homero se llamaba o Pastor Pérez, o Reinaldo Donoso. Sus endechas eran allí y ahora un vuelo blanco, una paloma, eran la paz, la rama del árbol del aceite, y la continuidad de la hermosura. Más tarde los absorbió la calle, la campiña, los encontré cantando entre las reses, en la celebración del desafío, relatando las penas de los pobres, llevando las noticias de las inundaciones, detallando las ruinas del incendio o la noche nefanda de los asesinatos.  Ellos, los poetas de mi pueblo, errantes, pobres entre los pobres, sostuvieron sobre sus canciones la sonrisa, criticaron con sorna a los explotadores, contaron la miseria del minero y el destino implacable del soldado. Ellos, los poetas del pueblo, con guitarra harapienta y ojos conocedores de la vida, sostuvieron en su canto una rosa y la mostraron en los callejones para que se supiera que la vida no será siempre triste. Payadores, poetas humildemente altivos, a través de la historia y sus reveses, a través de la paz y de la guerra, de la noche y la aurora, sois vosotros los depositarios, los tejedores de la poesía, y ahora aquí en mi patria está el tesoro, el cristal de Castilla, la soledad de Chile, la pícara inocencia, y la guitarra contra el infortunio, la mano solidaria en el camino, la palabra repetida en el canto y transmitida, la voz de piedra y agua entre raíces, la rapsodia del viento, la voz que no requiere librerías, todo lo que debemos aprender los orgullosos: con la verdad del pueblo la eternidad del canto. ', 'tiempo': 'Dentro de ti tu edad creciendo, dentro de mí mi edad andando. El tiempo es decidido, no suena su campana, se acrecienta, camina, por dentro de nosotros, aparece como un agua profunda en la mirada y junto a las castañas quemadas de tus ojos una brizna, la huella de un minúsculo rio, una estrellita seca ascendiendo a tu boca. Sube el tiempo sus hilos a tu pelo, pero en mi corazón como una madreselva es tu fragancia, viviente como el fuego. Es bello como lo que vivimos envejecer viviendo. Cada dia fue piedra transparente, cada noche para nosotros fue una rosa negra, y este surco en tu rostro o en el mío son piedra o flor, recuerdo de un relámpago. Mis ojos se han gastado en tu hermosura, pero tú eres mis ojos. Yo fatigué tal vez bajo mis besos tu pecho duplicado, pero todos han visto en mi alegría tu resplandor secreto. Amor, qué importa que el tiempo, el mismo que elevó como dos llamas o espigas paralelas mi cuerpo y tu dulzura, mañana los mantenga o los desgrane y con sus mismos dedos invisibles borre la identidad que nos separa dándonos la victoria de un solo ser final bajo la tierra. ', 'tristeza': 'Tristeza, escarabajo de siete patas rotas, huevo de telaraña, rata descalabrada, esqueleto de perra: Aquí no entras. No pasas. Ándate. Vuelve al Sur con tu paraguas, vuelve al Norte con tus dientes de culebra. Aquí vive un poeta. La tristeza no puede entrar por estas puertas. Por las ventanas entra el aire del mundo, las rojas rosas nuevas, las banderas bordadas del pueblo y sus victorias. No puedes. Aquí no entras. Sacude tus alas de murciélago, yo pisaré las plumas que caen de tu manto, yo barreré los trozos de tu cadáver hacia las cuatro puntas del viento, yo te torceré el cuello, te coseré los ojos, cortaré tu mortaja y enterraré tus huesos roedores bajo la primavera de un manzano. ', 'valparaiso': 'Valparaíso, qué disparate eres, qué loco, puerto loco, qué cabeza con cerros, desgreñada, no acabas de peinarte, nunca tuviste tiempo de vestirte, siempre te sorprendió la vida, te despertó la muerte, en camisa, en largos calzoncillos con flecos de colores, desnudo con un nombre tatuado en la barriga, y con sombrero, te agarró el terremoto, corriste enloquecido, te quebraste las uñas, se movieron las aguas y las piedras, las veredas, el mar, la noche, tú dormías en tierra, cansado de tus navegaciones, y la tierra, furiosa, levantó su oleaje más tempestuoso que el vendaval marino, el polvo te cubría los ojos, las llamas quemaban tus zapatos, las sólidas casas de los banqueros trepidaban como heridas ballenas, mientras arriba las casas de los pobres saltaban al vacio como aves prisioneras que probando las alas se desploman.  Pronto, Valparaíso, marinero, te olvidas de las lágrimas, vuelves a colgar tus moradas, a pintar puertas verdes, ventanas amarillas, todo lo transformas en nave, eres la remendada proa de un pequeño, valeroso navío. La tempestad corona con espuma tus cordeles que cantan y la luz del océano hace temblar camisas y banderas en tu vacilación indestructible.  Estrella oscura eres de lejos, en la altura de la costa resplandeces y pronto entregas tu escondido fuego, el vaivén de tus sordos callejones, el desenfado de tu movimiento, la claridad de tu marinería. Aquí termino, es esta oda, Valparaíso, tan pequeña como una camiseta desvalida, colgando en tus ventanas harapientas meciéndose en el viento del océano, impregnándose de todos los dolores de tu suelo, recibiendo el rocío de los mares, el beso del ancho mar colérico que con toda su fuerza golpeándose en tu piedra no pudo derribarte, porque en tu pecho austral están tatuadas la lucha, la esperanza, la solidaridad y la alegría como anclas que resisten las olas de la tierra. ', 'vino': 'Vino color de día, vino color de noche, vino con pies de púrpura o sangre de topacio, vino, estrellado hijo de la tierra, vino, liso como una espada de oro, suave como un desordenado terciopelo, vino encaracolado y suspendido, amoroso, marino, nunca has cabido en una copa, en un canto, en un hombre, coral, gregario eres, y cuando menos, mutuo. A veces te nutres de recuerdos mortales, en tu ola vamos de tumba en tumba, picapedrero de sepulcro helado, y lloramos lágrimas transitorias, pero tu hermoso traje de primavera es diferente, el corazón sube a las ramas, el viento mueve el día, nada queda dentro de tu alma inmóvil. El vino mueve la primavera, crece como una planta la alegría, caen muros, peñascos, se cierran los abismos, nace el canto. Oh tú, jarra de vino, en el desierto con la sabrosa que amo, dijo el viejo poeta. Que el cántaro de vino al beso del amor sume su beso.  Amor mio, de pronto tu cadera es la curva colmada de la copa, tu pecho es el racimo, la luz del alcohol tu cabellera, las uvas tus pezones, tu ombligo sello puro estampado en tu vientre de vasija, y tu amor la cascada de vino inextinguible, la claridad que cae en mis sentidos, el esplendor terrestre de la vida.  Pero no sólo amor, beso quemante o corazón quemado eres, vino de vida, sino amistad de los seres, transparencia, coro de disciplina, abundancia de flores. Amo sobre una mesa, cuando se habla, la luz de una botella de inteligente vino. Que lo beban, que recuerden en cada gota de oro o copa de topacio o cuchara de púrpura que trabajó el otoño hasta llenar de vino las vasijas y aprenda el hombre oscuro, en el ceremonial de su negocio, a recordar la tierra y sus deberes, a propagar el cántico del fruto. '}\n"
     ]
    }
   ],
   "source": [
    "### Para almacenar los distintos textos creamos un diccionario. \n",
    "odas = {}\n",
    "\n",
    "### Vamos a subir cada texto indexado por un keyword distinto en este diccionario. \n",
    "### Para hacerlos más legibles, reemplazamos los fin de línea por un espacio. \n",
    "\n",
    "with open(\"oda_alegria.txt\", \"r\") as file:\n",
    "    text = file.read().replace('\\n', ' ')\n",
    "odas['alegria']=text\n",
    "\n",
    "with open(\"oda_caldillo.txt\", \"r\") as file:\n",
    "    text = file.read().replace('\\n', ' ')\n",
    "odas['caldillo']=text\n",
    "\n",
    "with open(\"oda_feliz.txt\", \"r\") as file:\n",
    "    text = file.read().replace('\\n', ' ')\n",
    "odas['feliz']=text\n",
    "\n",
    "with open(\"oda_libro.txt\", \"r\") as file:\n",
    "    text = file.read().replace('\\n', ' ')\n",
    "odas['libro']=text\n",
    "\n",
    "with open(\"oda_mar.txt\", \"r\") as file:\n",
    "    text = file.read().replace('\\n', ' ')\n",
    "odas['mar']=text\n",
    "\n",
    "with open(\"oda_poetas.txt\", \"r\") as file:\n",
    "    text = file.read().replace('\\n', ' ')\n",
    "odas['poetas']=text\n",
    "\n",
    "with open(\"oda_tiempo.txt\", \"r\") as file:\n",
    "    text = file.read().replace('\\n', ' ')\n",
    "odas['tiempo']=text\n",
    "\n",
    "with open(\"oda_tristeza.txt\", \"r\") as file:\n",
    "    text = file.read().replace('\\n', ' ')\n",
    "odas['tristeza']=text\n",
    "\n",
    "\n",
    "with open(\"oda_valparaiso.txt\", \"r\") as file:\n",
    "    text = file.read().replace('\\n', ' ')\n",
    "odas['valparaiso']=text\n",
    "\n",
    "\n",
    "with open(\"oda_vino.txt\", \"r\") as file:\n",
    "    text = file.read().replace('\\n', ' ')\n",
    "odas['vino']=text\n",
    "\n",
    "### Como vemos, el resultado es que cada uno de estos textos es un string, \n",
    "### indexado en el diccionario por un keyword diferente. \n",
    "\n",
    "print(odas)"
   ]
  },
  {
   "cell_type": "code",
   "execution_count": 5,
   "id": "9aa17f24",
   "metadata": {},
   "outputs": [],
   "source": [
    "### El siguiente pedazo de código genera un diccionario, indexado bajo los mismos keywords que los textos, \n",
    "### En este diccionario almacenamos el resultado de hacer k-shingling en el texto. \n",
    "\n",
    "### Probemos con k = 3\n",
    "\n",
    "odas_shingles = {}\n",
    "k = 3\n",
    "\n",
    "### iteramos sobre todas las odas\n",
    "for (name,text) in odas.items(): \n",
    "    \n",
    "    ### Es importante declarar los shingles como un set (conjunto), de forma que no hayan duplicados\n",
    "    odas_shingles[name] = set()\n",
    "    \n",
    "    ### y nos concentramos en todos los substrings entre las posiciones i y la i+k+1, para un \n",
    "    ### i que parte desde el inicio del texto \n",
    "    \n",
    "    for i in range(len(text) - k+1):\n",
    "        shingle = text[i:i+k]\n",
    "        odas_shingles[name].add(shingle)\n",
    "        "
   ]
  },
  {
   "cell_type": "code",
   "execution_count": 6,
   "id": "5ce6c2d5",
   "metadata": {},
   "outputs": [
    {
     "name": "stdout",
     "output_type": "stream",
     "text": [
      "{'ra,', ' to', 'go ', 'o p', 'ust', 'uto', 'epe', ' ni', 'ría', ' rá', 'use', ' er', 'rca', 's s', 'y, ', 'qué', 'azó', 'mo ', 'hoj', 'ert', ' ti', 'a y', 'rec', 'omp', ' Aú', 'est', 'ora', ' la', ' te', 'ara', 'dre', 'o. ', 'me.', 'ir ', 'tus', '. N', 'oy,', ' ac', 'bra', 'eoj', 'uem', 'ped', 'lad', 'ndo', 'lo ', ' ju', 'te ', 'hos', 'o l', 'a a', 'oqu', 'leg', 'r s', 'riz', 'én ', 'nes', ' do', 'Los', 'eña', 'uan', 'dic', 'rda', 'bes', 'sar', 'l m', ', h', 'val', 'e e', 'ire', ' Ho', ' mo', ' vu', 'mpr', 'cár', 'deb', ' A ', 'do!', 'a v', ' ve', 'oja', 'ono', 'y h', 'me:', '!  ', 'can', 'ron', ' ma', 'ues', 'pra', 'ivo', 'odo', 's y', 'los', 'do ', 'esd', 'sé ', 'n n', ' lu', 'é q', 'ega', 'uni', 'cit', ' qu', 'r c', 'mad', 'uda', ' No', 'rro', 'da,', 'ón ', 'nte', 'ibr', 'cim', '. F', ' tr', ' co', 'i c', 'ra ', 'sat', 'ueg', 'i m', ' ar', 'de ', 'e: ', 'hal', 'ntr', ' is', 'gra', 'ent', ' jo', 'uos', 'za,', 'evó', 'ia ', 'mpa', 'mis', '. L', 'dos', ', q', 's p', 's c', 'uro', 'jam', 'ran', ' fl', 'o f', 'tas', 'ia.', 'blo', 'apr', 'tod', 'ién', 'es,', 'ned', 'scu', 'osq', 'i v', 'pum', 'l t', 'amo', 'mí ', 'erm', 'ayu', 'ató', 'cas', 'e p', ' bi', 'lav', 'n e', 'i p', 'más', 'sus', 'lor', 'uvi', 'don', 'tía', 'uel', ' ay', ' ce', 'tri', 'ona', ' un', 'pen', ' Pe', 'ad,', 'leñ', 'tig', 'Déj', 'oga', ':  ', 'árd', 'ie ', 'ali', '  A', 'a u', 'lut', 'nta', 'oll', 'tu ', 'pic', 'n s', 'pob', 'ui ', 'mie', 'slu', 'lé ', 'ros', ' ag', ' pu', 'a t', 'las', 'ndi', 'os,', ' La', 'ban', 'e l', 'd r', 'ano', 'oy ', 'ica', 's m', ' so', ' ir', 'rol', 'tan', 'r a', 'e t', 'ons', 'mpl', 'eta', 'men', 's d', 'rea', ' Vo', 'dí ', 'olo', 'la ', 'bre', 'ele', 'nza', 'so.', 'gad', 'vol', 'ore', 'ebr', 'mo,', ' Lo', 'son', 'r t', 'pan', 'í s', 'ier', 'uiv', ' ra', 'lef', 'epa', 'anz', 'spu', 'ra.', 'mi ', ' an', ' má', 'A l', 'ant', ' cá', 'e b', 'dad', 'ba ', ' pi', 'des', 'Y c', 'sde', ' pr', 'via', ' ca', 'vec', 'n b', 'rpr', 'o q', 'no.', 'a r', 'l r', 'ape', 'al ', ' Y ', 'gre', 'za ', 'pli', 'lo.', 'r e', 'dor', 'rde', 'páñ', 's l', 'n r', ' ne', 'omo', 'cap', ' ba', 's a', 'tir', 'lit', ' ab', 'nco', '  N', ' mu', 'ó s', ' va', ' Te', 'ue ', 'mon', 'jad', 'ola', 'da ', 'dol', 'die', 'del', 'da.', 'es ', 's. ', 's o', 'y t', 'ego', 'cer', 'ato', 'cho', 'an ', 'spe', 'ío ', 'La ', 'ris', 'neg', 'ejo', 'toc', 'se ', 'inú', 'Voy', ' be', 'o, ', 'tem', 'to!', 'goc', 'bej', 'abe', 'rtí', 'asc', 'áfa', 'fui', 's n', 'i j', 'aso', 'do.', ' mi', 'ida', 'flo', 'aci', 'ama', 'ler', 'cié', 'ana', 'ga ', ' mí', 'cab', 'egr', 'ero', 'rep', 'ont', 'ída', '. T', 's t', ', a', 'deñ', 'arr', 'ar ', 'ún ', 'o d', 'zad', 'en ', 'a h', 'mar', 'cad', 'eri', 'luc', 'sla', 'emo', 'mbr', '  C', 'ebl', ' ap', 'ami', 'sor', 'ten', 'sa ', 'ura', 'to,', 'una', 's i', 'Pen', 'áña', ', p', 'l f', 'uie', 'ás ', 'hoy', 'o! ', 'hac', 'na ', 'alo', 'rem', 'end', 'mun', 'un ', 'ido', 'ras', 'uma', 'ndí', 'ava', 'rre', 'ren', 'cha', 's r', 'ove', 'to ', 'aba', 'gua', 'ro ', 'ong', 'jun', 'cat', 'que', 'her', 'tur', 'hog', 'ráf', ' he', 'eab', '. D', 'jos', ' au', 'osc', 'bo ', 'ter', ' en', 're ', 'bie', 'min', 'one', 'tac', 'ijo', 'ces', 'ane', 'lej', '  V', 'pro', ' cu', 'sti', 'Con', 'ema', 'a n', 'tó ', 'mpá', ', d', 'bos', ' Dé', 'a f', 'a l', 'Com', 'ha.', 'la,', 'í l', 'ino', ' re', 'ólo', 'opa', 'a b', 'eci', 'e. ', 'llu', ' se', 'van', 'ñad', 'eso', 'mab', 'r o', 'iel', 'irm', 'agu', 'Fui', 'lib', 'der', 'o e', '. A', 'y a', 'llé', 'd, ', 'a. ', 'rra', 'ach', 'yud', 'str', 'n c', 'to.', 'Te ', 'rop', 'lle', 'esp', 'se,', 'itu', 'esl', 'ñé,', 'ca ', 'lam', 'é t', 's e', 'y j', ', f', 'su ', ' su', 'sca', 'poe', 'lan', '.  ', 'a d', 'erd', 'cur', 'ita', 'tor', 'squ', 'e d', 'lla', 'enc', ' o ', 'rer', 'rac', 'ñam', 'ó p', 'río', 'cor', 'ado', 'arz', 'no,', 'tid', 'ué ', 'o i', 'ind', 'nac', 'ro,', 'us ', 'omb', 'ibi', 'e v', 'cua', 'ebo', 'lie', 'rma', 'sol', 'e m', 'guo', ' ll', ', l', 'esc', 'ada', 'con', 'umb', 'zón', 'raz', 'os.', ' Co', 'all', 'muc', 'rto', 'rel', 'ale', 'sin', 'nsé', 'jus', 'esa', 'sos', ' al', 'ien', 'and', 'ven', 'rid', 'boc', 'l v', ' es', 'reg', 'a m', 'err', 'emp', ', m', ', y', ' na', 'jo ', 'pag', 'rte', 's v', 'sob', ' Eq', 'l p', 'ere', 'l l', 'tre', 'n a', 'oca', 'rme', 'nec', 'rno', 'e, ', 'tes', 'n t', 'qui', 'oli', 'nús', 'tar', 'luv', 'grí', 'sta', 'i u', 'par', 'ade', 'imo', 'ver', 'e s', ' lo', 'reu', ' vo', 'gar', 'te,', ' me', 'lir', 'nos', '  H', 'are', 'es.', 'eñé', ' ta', 'oci', 'nim', 'rab', ' os', 'el ', 'ame', 'u l', ', e', ' de', 'fag', 'lun', 'tie', 'unt', ' ro', ' Al', 'bel', 'tin', 'u c', 'imb', 'ens', 'on ', 'o m', 'oro', 'o u', 'n p', 'aíd', 'caí', 'Aún', 'dal', 'nas', 'sup', 'rad', 'obr', 'isl', 'cum', 'ua ', 'mbo', ' yo', 'lev', 'pec', 'bir', 'no ', 'nen', 's h', ' el', 'oet', 'a, ', 'iza', 'ngr', 'i q', 'oma', 'No ', 'eja', ' po', 'cos', 'zar', 'asa', 'le,', 'efa', 'pre', 's, ', '. E', 'cal', 'ma!', 'mal', 'r l', 'com', 'i a', 'lum', ' ha', 'ina', 'ojo', 'ho ', 'na,', 'ía ', 'edr', ', s', 'ena', 'arc', 'osa', 'a c', 'upe', 'uch', 'rza', 'rqu', 'ja ', 'res', 'er ', 'yo ', 'sa,', 'vue', 'hom', 'si ', '. P', 'i d', 'y c', 'nor', 'é, ', 'pur', 'dab', ' le', 'por', ' cl', ' za', 'orq', 'diz', 'moj', ' só', 'aug', 'voq', 'ber', 'os ', ' rí', ' y ', 'rio', 'teo', 'n l', 'igu', 'sto', 'jov', 'igo', 'tra', 'mos', 'ump', 'sej', 'cam', 'den', 'eun', 'e q', 'man', 'ech', 'sól', 'han', 'ves', 'úsc', 'ist', 'pe ', 'ari', 'e c', 'ste', 'ueb', 'orp', 'Hoy', 'und', 'jab', 'pas', 'nad', ' Fu', 'ios', 'e a', ' am', 'r u', 'ell', 'eda', 'nda', 'sa.', 'nto', ' pa', 'gus', ' fu', 'pus', 'fue', '! C', '. Y', 'e u', '  c', 'n m', 'vó ', 'nid', 'lar', 'éja', 'aco', 'cid', 'cul', ' pe', 'aga', 'aro', 'is ', 'n j', 'ugu', 'a! ', ' ho', 'lid', 'adi', 'ria', ' li', 'ula', 'ía.', 'o o', 'r d', 'era', 'l a', 'or ', 'o c', 'nti', ' a ', 'cla', 'Equ', ' bo', 'a z', 's b', 'a q', 'tos', 'o s', 'as ', 'pue', 'ad ', 'cib', 'art', 'Ale', 'é m', 'a e', 'ía,', 'ece', 'me ', 'bro', 'elo', ' si', 'o a', ' oj', 'ebe', 'nde', 'cij', ' tu', 'fan', 'abi', 'plo', 'orm', 'urn', 'nse', 'lo,', 'per'}\n"
     ]
    }
   ],
   "source": [
    "### Este es el resultado de hacer shingling al primer texto, la Oda a la Alegría. \n",
    "\n",
    "print(odas_shingles['alegria'])"
   ]
  },
  {
   "cell_type": "markdown",
   "id": "a22dd2fa",
   "metadata": {},
   "source": [
    "## Jaccard Similarity\n",
    "\n",
    "Vamos a comparar cual de estas 10 odas es la más parecida entre sí, según la similitud de Jaccard. "
   ]
  },
  {
   "cell_type": "code",
   "execution_count": 10,
   "id": "6a720cd2",
   "metadata": {},
   "outputs": [],
   "source": [
    "### Lo primero es una funcion que calcula la similitud de Jaccard entre dos conjuntos. \n",
    "### Recordemos que se define como la proporcion entre el tamaño de la intersección de los conjuntos, \n",
    "### dividido por el tamaño de su unión. \n",
    "\n",
    "def jaccard_similarity(set1, set2):\n",
    "    # Computa la similitud de Jaccard entre dos sets\n",
    "    intersection = set1.intersection(set2)\n",
    "    union = set1.union(set2)\n",
    "    return len(intersection) / len(union)"
   ]
  },
  {
   "cell_type": "code",
   "execution_count": 11,
   "id": "8e9e2b1d",
   "metadata": {},
   "outputs": [
    {
     "name": "stdout",
     "output_type": "stream",
     "text": [
      "1.0\n",
      "0.0\n",
      "0.3007985803016859\n"
     ]
    }
   ],
   "source": [
    "### Un par de pruebas: \n",
    "### - La similitud de un conjunto con si mismo debe ser 1\n",
    "### - La similitud de un conjunto con el vacio debe ser cero\n",
    "### - Probamos cuanto es la similitud entre los primeros dos textos. \n",
    "\n",
    "print(jaccard_similarity(odas_shingles['alegria'],odas_shingles['alegria']))\n",
    "print(jaccard_similarity(odas_shingles['alegria'],{}))\n",
    "print(jaccard_similarity(odas_shingles['alegria'],odas_shingles['caldillo']))"
   ]
  },
  {
   "cell_type": "markdown",
   "id": "cf019cdb",
   "metadata": {},
   "source": [
    "Ahora vamos a calcular la similitud para todas las $10 \\choose 2$ combinaciones. \n",
    "El resultado irá a una matriz de 10x10, donde la entrada $[i][j]$ es el valor \n",
    "de la similitud entre la i-ésima oda y la j-ésima oda. "
   ]
  },
  {
   "cell_type": "code",
   "execution_count": 65,
   "id": "1dad8b17",
   "metadata": {},
   "outputs": [
    {
     "name": "stdout",
     "output_type": "stream",
     "text": [
      "[0, 0.3007985803016859, 0.2569778633301251, 0.32996632996632996, 0.3414285714285714, 0.34497816593886466, 0.32142857142857145, 0.2377285851780558, 0.3604183427192277, 0.3537190082644628]\n",
      "[0.3007985803016859, 0, 0.2625152625152625, 0.2924901185770751, 0.3110204081632653, 0.31333333333333335, 0.3045356371490281, 0.23809523809523808, 0.32369402985074625, 0.33528836754643204]\n",
      "[0.2569778633301251, 0.2625152625152625, 0, 0.24242424242424243, 0.27065026362038663, 0.25309734513274335, 0.28431372549019607, 0.23232323232323232, 0.2416173570019724, 0.25494276795005205]\n",
      "[0.32996632996632996, 0.2924901185770751, 0.24242424242424243, 0, 0.3200306983883346, 0.33280757097791797, 0.3128103277060576, 0.26033519553072626, 0.3365300784655623, 0.3120567375886525]\n",
      "[0.3414285714285714, 0.3110204081632653, 0.27065026362038663, 0.3200306983883346, 0, 0.35330156569094623, 0.2991178829190056, 0.24324324324324326, 0.36539895600298283, 0.35725190839694654]\n",
      "[0.34497816593886466, 0.31333333333333335, 0.25309734513274335, 0.33280757097791797, 0.35330156569094623, 0, 0.3064913722267872, 0.24642857142857144, 0.3643939393939394, 0.3581973581973582]\n",
      "[0.32142857142857145, 0.3045356371490281, 0.28431372549019607, 0.3128103277060576, 0.2991178829190056, 0.3064913722267872, 0, 0.2430471584038694, 0.3146788990825688, 0.350293542074364]\n",
      "[0.2377285851780558, 0.23809523809523808, 0.23232323232323232, 0.26033519553072626, 0.24324324324324326, 0.24642857142857144, 0.2430471584038694, 0, 0.24522613065326634, 0.23156801661474558]\n",
      "[0.3604183427192277, 0.32369402985074625, 0.2416173570019724, 0.3365300784655623, 0.36539895600298283, 0.3643939393939394, 0.3146788990825688, 0.24522613065326634, 0, 0.3609923011120616]\n",
      "[0.3537190082644628, 0.33528836754643204, 0.25494276795005205, 0.3120567375886525, 0.35725190839694654, 0.3581973581973582, 0.350293542074364, 0.23156801661474558, 0.3609923011120616, 0]\n"
     ]
    }
   ],
   "source": [
    "### Armamos la matriz \n",
    "\n",
    "n = len(odas_shingles)\n",
    "similarity_matrix = [[0 for i in range(n)] for j in range(n)]\n",
    "\n",
    "### con esto podemos usar names[i] para conseguir el nombre de la i-esima oda. \n",
    "names = list(odas_shingles.keys())\n",
    "\n",
    "### Llenamos la matriz\n",
    "for i in range(n):\n",
    "    for j in range(n):\n",
    "        if i != j:\n",
    "            similarity = jaccard_similarity(odas_shingles[names[i]], odas_shingles[names[j]])\n",
    "            similarity_matrix[i][j] = similarity\n",
    "            \n",
    "for row in similarity_matrix:\n",
    "    print(row)\n"
   ]
  },
  {
   "cell_type": "markdown",
   "id": "2bf24af1",
   "metadata": {},
   "source": [
    "En este caso lo podemos hacer de forma sencilla, ya que son solo 10 textos pequeños. Cuando la cantidad de conjuntos es muy grande, probar para todas las combinaciones es muy costoso, y debemos usar MinHashing. \n",
    "\n",
    "Para terminar, veamos cuales dos odas son las mas similares. "
   ]
  },
  {
   "cell_type": "code",
   "execution_count": 66,
   "id": "55637822",
   "metadata": {},
   "outputs": [
    {
     "name": "stdout",
     "output_type": "stream",
     "text": [
      "4 8 0.36539895600298283\n"
     ]
    }
   ],
   "source": [
    "maximo = 0\n",
    "for i in range(n):\n",
    "    for j in range(n):\n",
    "        valor = similarity_matrix[i][j]\n",
    "        if maximo < valor: \n",
    "            i_max = i\n",
    "            j_max = j\n",
    "            maximo = valor\n",
    "print(i_max,j_max,maximo)"
   ]
  },
  {
   "cell_type": "code",
   "execution_count": 67,
   "id": "e3b949ae",
   "metadata": {},
   "outputs": [
    {
     "data": {
      "text/plain": [
       "('mar', 'valparaiso')"
      ]
     },
     "execution_count": 67,
     "metadata": {},
     "output_type": "execute_result"
    }
   ],
   "source": [
    "names[4],names[8]"
   ]
  },
  {
   "cell_type": "markdown",
   "id": "8b02d808",
   "metadata": {},
   "source": [
    "Las mas similares son las odas al mar y a Valparaíso. \n",
    "Esto tiene sentido, ya que Valparaíso es una ciudad a orillas del mar, y por tanto a ratos se hablarán cosas parecidas. "
   ]
  },
  {
   "cell_type": "markdown",
   "id": "3d63e211",
   "metadata": {},
   "source": [
    "## Actividad propuesta\n",
    "\n",
    "Usa otros valores de *k* para hacer shingling. ¿Qué ocurre con la similitud de Jaccard en esos casos? ¿Es verdad que las odas al mar y a Valparaíso son siempre las más similares, o esto depende del *k* elegido?"
   ]
  },
  {
   "cell_type": "code",
   "execution_count": null,
   "id": "2df08cee",
   "metadata": {},
   "outputs": [],
   "source": []
  }
 ],
 "metadata": {
  "kernelspec": {
   "display_name": "Python 3 (ipykernel)",
   "language": "python",
   "name": "python3"
  },
  "language_info": {
   "codemirror_mode": {
    "name": "ipython",
    "version": 3
   },
   "file_extension": ".py",
   "mimetype": "text/x-python",
   "name": "python",
   "nbconvert_exporter": "python",
   "pygments_lexer": "ipython3",
   "version": "3.10.7"
  }
 },
 "nbformat": 4,
 "nbformat_minor": 5
}
