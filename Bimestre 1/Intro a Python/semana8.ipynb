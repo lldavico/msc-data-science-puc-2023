{
 "cells": [
  {
   "cell_type": "code",
   "execution_count": 1,
   "metadata": {},
   "outputs": [],
   "source": [
    "partida = [\n",
    "['Camila',12, 9, 5, 12, 9, 5, 5, 8, 7, 10, 6, 5, 1, 4, 9, 9, 3, 6],\n",
    "['Ernesto',6, 5, 8, 12, 8, 5, 7, 10, 2, 5, 1, 9, 4, 10, 2, 2, 1, 7],\n",
    "['Viviana',9, 4, 7, 5, 10, 3, 4, 1, 12, 11, 1, 1, 11, 3, 10, 8, 1, 3]\n",
    "]"
   ]
  },
  {
   "cell_type": "code",
   "execution_count": 2,
   "metadata": {},
   "outputs": [
    {
     "name": "stdout",
     "output_type": "stream",
     "text": [
      "Ganador: Ernesto\n"
     ]
    }
   ],
   "source": [
    "mejor = (0, '')\n",
    "for jug in partida:\n",
    "    nombre, golpes = jug[0], sum( jug[1:] )\n",
    "    if mejor[0] == 0 or mejor[0] > golpes:\n",
    "        mejor = (golpes, nombre)\n",
    "print('Ganador: '+mejor[1])"
   ]
  },
  {
   "cell_type": "code",
   "execution_count": 3,
   "metadata": {},
   "outputs": [],
   "source": [
    "postulantes = [{\n",
    "'nombre': 'Camila',\n",
    "'edad': 28,\n",
    "'telefono': 912341234,\n",
    "'correo': 'caguirre@gmail.com'\n",
    "},\n",
    "{'nombre': 'Ernesto',\n",
    "'edad': 30,\n",
    "'telefono': 912121212\n",
    "},\n",
    "{'nombre': 'Viviana',\n",
    "'edad': 27,\n",
    "'telefono': 911111111,\n",
    "'correo': 'vbarroso@gmail.com'\n",
    "}\n",
    "]"
   ]
  },
  {
   "cell_type": "code",
   "execution_count": 4,
   "metadata": {},
   "outputs": [],
   "source": [
    "class Vehiculo:\n",
    "    def __init__(self, r):\n",
    "        self.ruedas = r\n",
    "        self.kilometraje = 0\n",
    "\n",
    "    def avanzar(self):\n",
    "        self.kilometraje += 10\n",
    "\n",
    "    def tiempo_repacion(self):\n",
    "        if self.ruedas == 2:\n",
    "            return 5\n",
    "        if self.ruedas > 4:\n",
    "            return 20\n",
    "        return 10"
   ]
  },
  {
   "cell_type": "code",
   "execution_count": 5,
   "metadata": {},
   "outputs": [],
   "source": [
    "class Gema:\n",
    "    def __init__(self, nom, dur, vol):\n",
    "        self.nombre = nom\n",
    "        self.dureza = dur\n",
    "        self.volumen = vol\n",
    "\n",
    "    def precio(self):\n",
    "        return self.dureza * self.volumen * 500\n",
    "\n",
    "gemas = []\n",
    "#llenar_lista(gemas)"
   ]
  },
  {
   "cell_type": "markdown",
   "metadata": {},
   "source": [
    "# Semana 8"
   ]
  },
  {
   "attachments": {},
   "cell_type": "markdown",
   "metadata": {},
   "source": [
    "### Pregunta 1"
   ]
  },
  {
   "cell_type": "code",
   "execution_count": 26,
   "metadata": {},
   "outputs": [],
   "source": [
    "def distribucion_clientes(lista):\n",
    "    data_dict = {}\n",
    "    for status in (\"rich\", \"non_rich\"):\n",
    "        data_dict[status] = {\n",
    "            \"male\": {}, \"female\": {}\n",
    "        }\n",
    "        for gender in (\"male\", \"female\"):\n",
    "            data_dict[status][gender][\"less_30\"] = 0\n",
    "            data_dict[status][gender][\"30_53\"] = 0\n",
    "            data_dict[status][gender][\"more_53\"] = 0\n",
    "    \n",
    "    data = lista[1:]\n",
    "    for _, g, a, _as, _ in data:\n",
    "        status = \"rich\" if _as > 100000 else \"non_rich\"\n",
    "        gender = \"male\" if g == 'Male' else \"female\"\n",
    "        print(g, a, _as)\n",
    "        if a < 30:\n",
    "            print(\"a > 30\")\n",
    "            data_dict[status][gender][\"less_30\"] += 1\n",
    "        elif a >= 30 and a <= 53:\n",
    "            print(\"53 >= a => 30\")\n",
    "            data_dict[status][gender][\"30_53\"] += 1\n",
    "        else:\n",
    "            print(\"53 > a\")\n",
    "            data_dict[status][gender][\"more_53\"] += 1\n",
    "\n",
    "    summary = [[] for i in range(2)]\n",
    "    \n",
    "    summary[0].append(data_dict[\"non_rich\"][\"male\"][\"less_30\"])\n",
    "    summary[0].append(data_dict[\"non_rich\"][\"male\"][\"30_53\"])\n",
    "    summary[0].append(data_dict[\"non_rich\"][\"male\"][\"more_53\"])\n",
    "    summary[0].append(data_dict[\"rich\"][\"male\"][\"less_30\"])\n",
    "    summary[0].append(data_dict[\"rich\"][\"male\"][\"30_53\"])\n",
    "    summary[0].append(data_dict[\"rich\"][\"male\"][\"more_53\"])\n",
    "\n",
    "    summary[1].append(data_dict[\"non_rich\"][\"female\"][\"less_30\"])\n",
    "    summary[1].append(data_dict[\"non_rich\"][\"female\"][\"30_53\"])\n",
    "    summary[1].append(data_dict[\"non_rich\"][\"female\"][\"more_53\"])\n",
    "    summary[1].append(data_dict[\"rich\"][\"female\"][\"less_30\"])\n",
    "    summary[1].append(data_dict[\"rich\"][\"female\"][\"30_53\"])\n",
    "    summary[1].append(data_dict[\"rich\"][\"female\"][\"more_53\"])\n",
    "    \n",
    "\n",
    "    return summary\n"
   ]
  },
  {
   "cell_type": "code",
   "execution_count": 27,
   "metadata": {},
   "outputs": [],
   "source": [
    "lista = [['User ID', 'Gender', 'Age', 'AnnualSalary', 'Purchased'],\n",
    "[385, 'Male', 35, 20000, 0],\n",
    "[681, 'Female', 51, 43500, 0],\n",
    "[353, 'Female', 59, 74000, 0],\n",
    "[896, 'Male', 30, 10500, 1],\n",
    "[382, 'Male', 29, 20000, 0],\n",
    "[682, 'Female', 60, 43500, 0],\n",
    "[351, 'Female', 35, 107500, 0],\n",
    "[894, 'Male', 56, 107500, 1]\n",
    "]"
   ]
  },
  {
   "cell_type": "code",
   "execution_count": 28,
   "metadata": {},
   "outputs": [
    {
     "name": "stdout",
     "output_type": "stream",
     "text": [
      "Male 35 20000\n",
      "53 >= a => 30\n",
      "Female 51 43500\n",
      "53 >= a => 30\n",
      "Female 59 74000\n",
      "53 > a\n",
      "Male 30 10500\n",
      "53 >= a => 30\n",
      "Male 29 20000\n",
      "a > 30\n",
      "Female 60 43500\n",
      "53 > a\n",
      "Female 35 107500\n",
      "53 >= a => 30\n",
      "Male 56 107500\n",
      "53 > a\n"
     ]
    },
    {
     "data": {
      "text/plain": [
       "[[1, 2, 0, 0, 0, 1], [0, 1, 2, 0, 1, 0]]"
      ]
     },
     "execution_count": 28,
     "metadata": {},
     "output_type": "execute_result"
    }
   ],
   "source": [
    "distribucion_clientes(lista)"
   ]
  },
  {
   "attachments": {},
   "cell_type": "markdown",
   "metadata": {},
   "source": [
    "### Pregunta 2"
   ]
  },
  {
   "cell_type": "code",
   "execution_count": 35,
   "metadata": {},
   "outputs": [],
   "source": [
    "def prob_compra_edad(lista):\n",
    "    data_dict = {}\n",
    "    data = lista[1:]\n",
    "    for _, _, a, _, p in data:\n",
    "        if a < 10:\n",
    "            range_age = \"0-9\"\n",
    "        else:\n",
    "            str_age = str(a)\n",
    "            range_age = f\"{str_age[0]}0-{str_age[0]}9\"\n",
    "        \n",
    "        if range_age not in data_dict:\n",
    "            # Se crea una lista con el total de personas y una lista indicando si se compro o no\n",
    "            data_dict[range_age] = [1, [p]]\n",
    "        else:\n",
    "            data_dict[range_age][0] += 1\n",
    "            data_dict[range_age][1].append(p)\n",
    "\n",
    "    summary = {key: round(sum(value[1]) / value[0], 2) for key, value in data_dict.items()}\n",
    "\n",
    "    return summary\n"
   ]
  },
  {
   "cell_type": "code",
   "execution_count": 36,
   "metadata": {},
   "outputs": [],
   "source": [
    "lista_2 = [['User ID', 'Gender', 'Age', 'AnnualSalary', 'Purchased'],\n",
    "[385, 'Male', 35, 20000, 0],\n",
    "[681, 'Male', 50, 43500, 0],\n",
    "[353, 'Male', 59, 74000, 0],\n",
    "[895, 'Male', 53, 107500, 1]\n",
    "]"
   ]
  },
  {
   "cell_type": "code",
   "execution_count": 38,
   "metadata": {},
   "outputs": [
    {
     "data": {
      "text/plain": [
       "{'30-39': 0.33, '50-59': 0.33, '20-29': 0.0, '60-69': 0.0}"
      ]
     },
     "execution_count": 38,
     "metadata": {},
     "output_type": "execute_result"
    }
   ],
   "source": [
    "prob_compra_edad(lista)"
   ]
  },
  {
   "cell_type": "code",
   "execution_count": null,
   "metadata": {},
   "outputs": [],
   "source": []
  }
 ],
 "metadata": {
  "kernelspec": {
   "display_name": "Python 3",
   "language": "python",
   "name": "python3"
  },
  "language_info": {
   "codemirror_mode": {
    "name": "ipython",
    "version": 3
   },
   "file_extension": ".py",
   "mimetype": "text/x-python",
   "name": "python",
   "nbconvert_exporter": "python",
   "pygments_lexer": "ipython3",
   "version": "3.9.12"
  },
  "orig_nbformat": 4,
  "vscode": {
   "interpreter": {
    "hash": "486fa3dd6c666c5c8e48548af06066058fadab3f53231278f3a35dfe63e511b3"
   }
  }
 },
 "nbformat": 4,
 "nbformat_minor": 2
}
