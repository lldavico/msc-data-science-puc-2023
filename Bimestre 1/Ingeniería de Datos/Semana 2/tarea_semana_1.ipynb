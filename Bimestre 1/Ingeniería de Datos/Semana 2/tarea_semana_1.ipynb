{
  "nbformat": 4,
  "nbformat_minor": 0,
  "metadata": {
    "colab": {
      "name": "T1formulario.ipynb",
      "provenance": [],
      "collapsed_sections": []
    },
    "kernelspec": {
      "name": "python3",
      "display_name": "Python 3"
    },
    "language_info": {
      "name": "python"
    }
  },
  "cells": [
    {
      "cell_type": "markdown",
      "source": [
        "#Tarea 1 -- formulario de respuestas\n",
        "\n",
        "En este notebook pueden ingresar sus respuestas a las preguntas de tarea 1, y asegurarse que sus comandos SQL funcionan de manera adecuada."
      ],
      "metadata": {
        "id": "8BXXue8KDsQz"
      }
    },
    {
      "cell_type": "markdown",
      "source": [
        "### Iniciar el servidor\n",
        "\n",
        "Cómo siempre, para poder ocupar el notebook, lo deben subir a https://colab.research.google.com\n",
        "\n",
        "Luego, ejecutando el siguiente campo, se crea una instancia de servidor postgres, dónde pueden realizar sus consultas."
      ],
      "metadata": {
        "id": "-GIMqhcTEPx1"
      }
    },
    {
      "cell_type": "code",
      "source": [
        "# install\n",
        "!apt update\n",
        "!apt install postgresql postgresql-contrib &>log\n",
        "!service postgresql start\n",
        "!sudo -u postgres psql -c \"CREATE USER root WITH SUPERUSER\"\n",
        "# set connection\n",
        "%load_ext sql\n",
        "%config SqlMagic.feedback=False \n",
        "%config SqlMagic.autopandas=True\n",
        "%sql postgresql+psycopg2://@/postgres"
      ],
      "metadata": {
        "id": "GtDuYL0YEO_j"
      },
      "execution_count": null,
      "outputs": []
    },
    {
      "cell_type": "markdown",
      "source": [
        "##Pregunta 1\n",
        "\n",
        "La primera tarea que debes realizar es escribir un esquema relacional para nuestro caso de uso, especificando los nombres de las tablas, los tipos de atributos, y nombrar las llaves primarias en cada tabla.\n",
        "Adicionalmente, debes explicar cómo lograste guardar la información que una persona participa en un taller, y que un taller se realiza en un lugar específico.\n",
        "\n",
        "Cómo un ejemplo de cómo se debe ver tu solución, basta con escribir algo cómo:\n",
        "\n",
        "`País(id INT, nombre VARCHAR(50), población INT)`\n",
        "\n",
        "*Llave para la relación País:* id\n",
        "\n",
        "En caso de esquema para un país.\n",
        "\n",
        "Este esquema no necesita ser en SQL.\n",
        "\n",
        "La respuesta la pueden ingresar en el campo abajo:"
      ],
      "metadata": {
        "id": "Pwj39cMXFB9b"
      }
    },
    {
      "cell_type": "markdown",
      "source": [
        "## Respuesta 1:\n",
        "\n",
        "... (hacer doble click para empezar escribir) ..."
      ],
      "metadata": {
        "id": "yXEite0mEysO"
      }
    },
    {
      "cell_type": "markdown",
      "source": [
        "##Pregunta 2\n",
        "\n",
        "Con tu esquema en mano, debes escribir los comandos SQL para crear las tablas en tu esquema. Esto requiere tener cinco o más comandos de tipo “CREATE TABLE…” que deben poder ejecutarse correctamente en SQL. Quiere decir, si nosotros ejecutamos estos comandos, el motor de SQL no nos dará un error. Para esto, te recomendamos correr tus comandos directamente en el siguiente campo de Notebook en Google Colab:"
      ],
      "metadata": {
        "id": "yB4d1b1KFw3v"
      }
    },
    {
      "cell_type": "code",
      "source": [
        "%%sql\n",
        "\n"
      ],
      "metadata": {
        "id": "NcLY99I3F32R"
      },
      "execution_count": null,
      "outputs": []
    },
    {
      "cell_type": "markdown",
      "source": [
        "##Pregunta 3\n",
        "\n",
        "Con tus tablas creadas, ahora las vamos a llenar de datos. Te pedimos insertar la siguiente información, descrita de manera informal, a tu base de datos:\n",
        "\n",
        "Personas:\n",
        "-\tJohn Russo, rut: 883.111.6793-1, correo: john.russo@uc.cl, tel: 748-29-1038\n",
        "-\tMatthew Howard, rut: 323.654.56-1, correo:matthew.howard@uc.cl, tel: 004-11-7328\n",
        "-\tSusan Griffith, rut: 389.197.781-5, correo:susan.griffith@email.com, tel: 342-03-4478\n",
        "\n",
        "Todas estas personas participan en el taller con datos: \n",
        "- nombre: Taller de cocina, instructor: Gibson, fecha: 2021-12-28, hora: 12:00, valor: 9, duración: 1.5.\n",
        "\n",
        "También, disponemos de información que John Russo participa en el taller con datos: \n",
        "- nombre: Taller 11, instructor: Jonathan Duffy, fecha: 2022-12-11, hora: 13:00, valor: 7, duración: 1.0.\n",
        "\n",
        "Crea los comandos “INSERT INTO…” que inserta esta información a tus tablas. Estos comandos deben correr correctamente en SQL en el siguiente campo:\n"
      ],
      "metadata": {
        "id": "5ajnI5m7F9pI"
      }
    },
    {
      "cell_type": "code",
      "source": [
        "%%sql\n",
        "\n"
      ],
      "metadata": {
        "id": "dz23KWdDGU-n"
      },
      "execution_count": null,
      "outputs": []
    },
    {
      "cell_type": "markdown",
      "source": [
        "##Pregunta 4\n",
        "\n",
        "Escriba en SQL la consulta que sobre tu base de datos devuelve nombre de todos los talleres. Esta consulta se debe ejecutar correctamente sobre tu esquema, y los datos ingresados en la Pregunta 3, pero también en otras instancias de tu esquema relacional.\n",
        "\n",
        "La consulta la puedes ingresar al siguiente campo:"
      ],
      "metadata": {
        "id": "7OyQmth3GgJi"
      }
    },
    {
      "cell_type": "code",
      "source": [
        "%%sql\n",
        "\n"
      ],
      "metadata": {
        "id": "lQOBVFpoGn0R"
      },
      "execution_count": null,
      "outputs": []
    }
  ]
}
