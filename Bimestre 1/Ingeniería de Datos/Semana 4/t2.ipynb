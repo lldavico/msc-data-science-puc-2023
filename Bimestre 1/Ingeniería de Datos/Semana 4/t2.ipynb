{
  "nbformat": 4,
  "nbformat_minor": 0,
  "metadata": {
    "colab": {
      "provenance": [],
      "toc_visible": true
    },
    "kernelspec": {
      "name": "python3",
      "display_name": "Python 3"
    },
    "language_info": {
      "name": "python"
    }
  },
  "cells": [
    {
      "cell_type": "markdown",
      "source": [
        "#Tarea 2 -- formulario de carga de datos y respuestas\n",
        "\n",
        "En este notebook pueden ingresar sus respuestas a las preguntas de tarea 2, y asegurarse que sus comandos SQL funcionan de manera adecuada."
      ],
      "metadata": {
        "id": "8BXXue8KDsQz"
      }
    },
    {
      "cell_type": "markdown",
      "source": [
        "\n",
        "\n",
        "### Cargar SQLite y subir la base de datos a Google Colab\n",
        "\n",
        "Cómo siempre, para poder ocupar el notebook, lo deben subir a https://colab.research.google.com\n",
        "\n",
        "Luego, ejecutando el siguiente campo, se crea una instancia de servidor SQLite, se creará el esquema vista en el enunciado, y se cargarán los datos desde un google drive."
      ],
      "metadata": {
        "id": "-GIMqhcTEPx1"
      }
    },
    {
      "cell_type": "code",
      "source": [
        "!pip install SQLAlchemy==1.4.4"
      ],
      "metadata": {
        "colab": {
          "base_uri": "https://localhost:8080/"
        },
        "id": "TRQQfBpZlWBr",
        "outputId": "0f01ce42-0853-4836-b0ba-c838b0c9ffa3"
      },
      "execution_count": 1,
      "outputs": [
        {
          "output_type": "stream",
          "name": "stdout",
          "text": [
            "Looking in indexes: https://pypi.org/simple, https://us-python.pkg.dev/colab-wheels/public/simple/\n",
            "Requirement already satisfied: SQLAlchemy==1.4.4 in /usr/local/lib/python3.9/dist-packages (1.4.4)\n",
            "Requirement already satisfied: greenlet!=0.4.17 in /usr/local/lib/python3.9/dist-packages (from SQLAlchemy==1.4.4) (2.0.2)\n"
          ]
        }
      ]
    },
    {
      "cell_type": "code",
      "source": [
        "%reload_ext sql\n",
        "!wget -O datos_T2.db --no-check-certificate https://drive.google.com/uc\\?export\\=download\\&id\\=1XHbkX4QCDeHQTPy_mOw68Wo8rqYMyY6o\n",
        "\n",
        "%sql sqlite:///datos_T2.db"
      ],
      "metadata": {
        "id": "OVSDhz3-hrku",
        "colab": {
          "base_uri": "https://localhost:8080/"
        },
        "outputId": "d8af3308-8410-402c-cfed-3f6b0b287ce6"
      },
      "execution_count": 2,
      "outputs": [
        {
          "output_type": "stream",
          "name": "stdout",
          "text": [
            "--2023-04-14 21:05:05--  https://drive.google.com/uc?export=download&id=1XHbkX4QCDeHQTPy_mOw68Wo8rqYMyY6o\n",
            "Resolving drive.google.com (drive.google.com)... 74.125.31.102, 74.125.31.100, 74.125.31.138, ...\n",
            "Connecting to drive.google.com (drive.google.com)|74.125.31.102|:443... connected.\n",
            "HTTP request sent, awaiting response... 303 See Other\n",
            "Location: https://doc-00-88-docs.googleusercontent.com/docs/securesc/ha0ro937gcuc7l7deffksulhg5h7mbp1/8hbfcbjdeonddgvpc5jij9kupob8nrnf/1681506300000/10980901926740711681/*/1XHbkX4QCDeHQTPy_mOw68Wo8rqYMyY6o?e=download&uuid=6520b304-9fe7-433d-a131-7dcc48e7dfd3 [following]\n",
            "Warning: wildcards not supported in HTTP.\n",
            "--2023-04-14 21:05:05--  https://doc-00-88-docs.googleusercontent.com/docs/securesc/ha0ro937gcuc7l7deffksulhg5h7mbp1/8hbfcbjdeonddgvpc5jij9kupob8nrnf/1681506300000/10980901926740711681/*/1XHbkX4QCDeHQTPy_mOw68Wo8rqYMyY6o?e=download&uuid=6520b304-9fe7-433d-a131-7dcc48e7dfd3\n",
            "Resolving doc-00-88-docs.googleusercontent.com (doc-00-88-docs.googleusercontent.com)... 142.251.107.132, 2607:f8b0:400c:c32::84\n",
            "Connecting to doc-00-88-docs.googleusercontent.com (doc-00-88-docs.googleusercontent.com)|142.251.107.132|:443... connected.\n",
            "HTTP request sent, awaiting response... 200 OK\n",
            "Length: 118784 (116K) [application/octet-stream]\n",
            "Saving to: ‘datos_T2.db’\n",
            "\n",
            "datos_T2.db         100%[===================>] 116.00K  --.-KB/s    in 0.001s  \n",
            "\n",
            "2023-04-14 21:05:05 (76.8 MB/s) - ‘datos_T2.db’ saved [118784/118784]\n",
            "\n"
          ]
        }
      ]
    },
    {
      "cell_type": "markdown",
      "source": [
        "##Pregunta 1\n",
        "\n",
        "Para asegurarse qué la base de datos está cargada, en esta pregunta deben correr una serie de comandos de tipo:\n",
        "```\n",
        "SELECT *\n",
        "FROM NombreTabla\n",
        "LIMIT 5; \n",
        "```\n",
        "\n",
        "Por ejemplo, para ver la tabla `Persona`, puedes correr:\n",
        "\n",
        "```\n",
        "SELECT *\n",
        "FROM Persona\n",
        "LIMIT 5;\n",
        "```\n",
        "\n",
        "Dado que nuestras tablas tienen 100 o más tuplas, desplegaremos solo las primeras 5 con el comando `LIMIT 5`."
      ],
      "metadata": {
        "id": "Pwj39cMXFB9b"
      }
    },
    {
      "cell_type": "markdown",
      "source": [
        "### Persona"
      ],
      "metadata": {
        "id": "aSwZ4CYqmYQD"
      }
    },
    {
      "cell_type": "code",
      "source": [
        "%%sql\n",
        "\n",
        "SELECT *\n",
        "FROM Persona\n",
        "LIMIT 5;"
      ],
      "metadata": {
        "id": "8ZECs_9rhjNH",
        "colab": {
          "base_uri": "https://localhost:8080/",
          "height": 183
        },
        "outputId": "00c90b74-98bb-4ac7-a46e-4005ba1b7825"
      },
      "execution_count": 3,
      "outputs": [
        {
          "output_type": "stream",
          "name": "stdout",
          "text": [
            " * sqlite:///datos_T2.db\n",
            "Done.\n"
          ]
        },
        {
          "output_type": "execute_result",
          "data": {
            "text/plain": [
              "[('Brian Sanders', '442-30-8082', '127-998-7310', 'brian.sanders@mail.cl'),\n",
              " ('Caleb Simpson', '151-44-5451', '+1-741-621-2285', 'caleb.simpson@mail.cl'),\n",
              " ('Kelly Mccullough', '315-42-0080', '417-906-4707', 'kelly.mccullough@uc.cl'),\n",
              " ('Jason Martin', '562-11-8702', '5667649532', 'jason.martin@uc.cl'),\n",
              " ('Natalie Lane', '893-23-0369', '+1-942-497-5393x1664', 'natalie.lane@mail.cl')]"
            ],
            "text/html": [
              "<table>\n",
              "    <tr>\n",
              "        <th>nombre</th>\n",
              "        <th>rut</th>\n",
              "        <th>telefono</th>\n",
              "        <th>correo</th>\n",
              "    </tr>\n",
              "    <tr>\n",
              "        <td>Brian Sanders</td>\n",
              "        <td>442-30-8082</td>\n",
              "        <td>127-998-7310</td>\n",
              "        <td>brian.sanders@mail.cl</td>\n",
              "    </tr>\n",
              "    <tr>\n",
              "        <td>Caleb Simpson</td>\n",
              "        <td>151-44-5451</td>\n",
              "        <td>+1-741-621-2285</td>\n",
              "        <td>caleb.simpson@mail.cl</td>\n",
              "    </tr>\n",
              "    <tr>\n",
              "        <td>Kelly Mccullough</td>\n",
              "        <td>315-42-0080</td>\n",
              "        <td>417-906-4707</td>\n",
              "        <td>kelly.mccullough@uc.cl</td>\n",
              "    </tr>\n",
              "    <tr>\n",
              "        <td>Jason Martin</td>\n",
              "        <td>562-11-8702</td>\n",
              "        <td>5667649532</td>\n",
              "        <td>jason.martin@uc.cl</td>\n",
              "    </tr>\n",
              "    <tr>\n",
              "        <td>Natalie Lane</td>\n",
              "        <td>893-23-0369</td>\n",
              "        <td>+1-942-497-5393x1664</td>\n",
              "        <td>natalie.lane@mail.cl</td>\n",
              "    </tr>\n",
              "</table>"
            ]
          },
          "metadata": {},
          "execution_count": 3
        }
      ]
    },
    {
      "cell_type": "markdown",
      "source": [
        "### TallerDeportivo"
      ],
      "metadata": {
        "id": "nudHalmvmaHT"
      }
    },
    {
      "cell_type": "code",
      "source": [
        "%%sql\n",
        "\n",
        "SELECT *\n",
        "FROM TallerDeportivo\n",
        "LIMIT 5;"
      ],
      "metadata": {
        "colab": {
          "base_uri": "https://localhost:8080/",
          "height": 183
        },
        "id": "9bPMF4pymmbm",
        "outputId": "4e77b7a7-1943-478a-b8b8-d27a03e42266"
      },
      "execution_count": 6,
      "outputs": [
        {
          "output_type": "stream",
          "name": "stdout",
          "text": [
            " * sqlite:///datos_T2.db\n",
            "Done.\n"
          ]
        },
        {
          "output_type": "execute_result",
          "data": {
            "text/plain": [
              "[(1, 'Taller deportivo 1', 'Felicia Rivera', '2023-03-24', '17:00', 8, 1, 'Handbol', 2, 7),\n",
              " (2, 'Taller deportivo 2', 'Tyler Ferguson', '2023-05-09', '11:00', 8, 1.5, 'Handbol', 2, 7),\n",
              " (3, 'Taller deportivo 3', 'Chris Bryant', '2023-01-16', '15:00', 6, 2, 'Voleibol', 2, 6),\n",
              " (4, 'Taller deportivo 4', 'Gregg Thompson', '2023-03-22', '13:00', 8, 2, 'Handbol', 2, 7),\n",
              " (5, 'Taller deportivo 5', 'Joanna Washington', '2022-06-30', '13:00', 2, 2, 'Voleibol', 2, 6)]"
            ],
            "text/html": [
              "<table>\n",
              "    <tr>\n",
              "        <th>id</th>\n",
              "        <th>nombreTaller</th>\n",
              "        <th>nombreProfesor</th>\n",
              "        <th>fecha</th>\n",
              "        <th>hora</th>\n",
              "        <th>valor</th>\n",
              "        <th>duracionHrs</th>\n",
              "        <th>deporte</th>\n",
              "        <th>nrEquipos</th>\n",
              "        <th>nrPersonas</th>\n",
              "    </tr>\n",
              "    <tr>\n",
              "        <td>1</td>\n",
              "        <td>Taller deportivo 1</td>\n",
              "        <td>Felicia Rivera</td>\n",
              "        <td>2023-03-24</td>\n",
              "        <td>17:00</td>\n",
              "        <td>8</td>\n",
              "        <td>1</td>\n",
              "        <td>Handbol</td>\n",
              "        <td>2</td>\n",
              "        <td>7</td>\n",
              "    </tr>\n",
              "    <tr>\n",
              "        <td>2</td>\n",
              "        <td>Taller deportivo 2</td>\n",
              "        <td>Tyler Ferguson</td>\n",
              "        <td>2023-05-09</td>\n",
              "        <td>11:00</td>\n",
              "        <td>8</td>\n",
              "        <td>1.5</td>\n",
              "        <td>Handbol</td>\n",
              "        <td>2</td>\n",
              "        <td>7</td>\n",
              "    </tr>\n",
              "    <tr>\n",
              "        <td>3</td>\n",
              "        <td>Taller deportivo 3</td>\n",
              "        <td>Chris Bryant</td>\n",
              "        <td>2023-01-16</td>\n",
              "        <td>15:00</td>\n",
              "        <td>6</td>\n",
              "        <td>2</td>\n",
              "        <td>Voleibol</td>\n",
              "        <td>2</td>\n",
              "        <td>6</td>\n",
              "    </tr>\n",
              "    <tr>\n",
              "        <td>4</td>\n",
              "        <td>Taller deportivo 4</td>\n",
              "        <td>Gregg Thompson</td>\n",
              "        <td>2023-03-22</td>\n",
              "        <td>13:00</td>\n",
              "        <td>8</td>\n",
              "        <td>2</td>\n",
              "        <td>Handbol</td>\n",
              "        <td>2</td>\n",
              "        <td>7</td>\n",
              "    </tr>\n",
              "    <tr>\n",
              "        <td>5</td>\n",
              "        <td>Taller deportivo 5</td>\n",
              "        <td>Joanna Washington</td>\n",
              "        <td>2022-06-30</td>\n",
              "        <td>13:00</td>\n",
              "        <td>2</td>\n",
              "        <td>2</td>\n",
              "        <td>Voleibol</td>\n",
              "        <td>2</td>\n",
              "        <td>6</td>\n",
              "    </tr>\n",
              "</table>"
            ]
          },
          "metadata": {},
          "execution_count": 6
        }
      ]
    },
    {
      "cell_type": "markdown",
      "source": [
        "### TallerInstrumental"
      ],
      "metadata": {
        "id": "mk5lvpjWm0eg"
      }
    },
    {
      "cell_type": "code",
      "source": [
        "%%sql\n",
        "\n",
        "SELECT *\n",
        "FROM TallerInstrumental\n",
        "LIMIT 5;"
      ],
      "metadata": {
        "colab": {
          "base_uri": "https://localhost:8080/",
          "height": 183
        },
        "id": "NpSYnVPnm4I7",
        "outputId": "d7208533-218f-4942-df17-2eeaa427c4da"
      },
      "execution_count": 7,
      "outputs": [
        {
          "output_type": "stream",
          "name": "stdout",
          "text": [
            " * sqlite:///datos_T2.db\n",
            "Done.\n"
          ]
        },
        {
          "output_type": "execute_result",
          "data": {
            "text/plain": [
              "[(101, 'Taller Instrumental 1', 'Mr. Michael Mcguire', '2022-11-03', '11:00', 4, 1, 'Trompeta', 12),\n",
              " (102, 'Taller Instrumental 2', 'Cameron Evans', '2022-01-04', '15:00', 3, 1.5, 'Bajo', 2),\n",
              " (103, 'Taller Instrumental 3', 'Sheila Lewis', '2022-04-04', '13:00', 8, 1.5, 'Guitarra', 4),\n",
              " (104, 'Taller Instrumental 4', 'Ebony Smith', '2022-10-25', '14:00', 3, 1, 'Guitarra', 4),\n",
              " (105, 'Taller Instrumental 5', 'Jose Powell', '2022-05-09', '17:00', 5, 1.5, 'Bajo', 21)]"
            ],
            "text/html": [
              "<table>\n",
              "    <tr>\n",
              "        <th>id</th>\n",
              "        <th>nombreTaller</th>\n",
              "        <th>nombreProfesor</th>\n",
              "        <th>fecha</th>\n",
              "        <th>hora</th>\n",
              "        <th>valor</th>\n",
              "        <th>duracionHrs</th>\n",
              "        <th>instrumento</th>\n",
              "        <th>nrInstrumentos</th>\n",
              "    </tr>\n",
              "    <tr>\n",
              "        <td>101</td>\n",
              "        <td>Taller Instrumental 1</td>\n",
              "        <td>Mr. Michael Mcguire</td>\n",
              "        <td>2022-11-03</td>\n",
              "        <td>11:00</td>\n",
              "        <td>4</td>\n",
              "        <td>1</td>\n",
              "        <td>Trompeta</td>\n",
              "        <td>12</td>\n",
              "    </tr>\n",
              "    <tr>\n",
              "        <td>102</td>\n",
              "        <td>Taller Instrumental 2</td>\n",
              "        <td>Cameron Evans</td>\n",
              "        <td>2022-01-04</td>\n",
              "        <td>15:00</td>\n",
              "        <td>3</td>\n",
              "        <td>1.5</td>\n",
              "        <td>Bajo</td>\n",
              "        <td>2</td>\n",
              "    </tr>\n",
              "    <tr>\n",
              "        <td>103</td>\n",
              "        <td>Taller Instrumental 3</td>\n",
              "        <td>Sheila Lewis</td>\n",
              "        <td>2022-04-04</td>\n",
              "        <td>13:00</td>\n",
              "        <td>8</td>\n",
              "        <td>1.5</td>\n",
              "        <td>Guitarra</td>\n",
              "        <td>4</td>\n",
              "    </tr>\n",
              "    <tr>\n",
              "        <td>104</td>\n",
              "        <td>Taller Instrumental 4</td>\n",
              "        <td>Ebony Smith</td>\n",
              "        <td>2022-10-25</td>\n",
              "        <td>14:00</td>\n",
              "        <td>3</td>\n",
              "        <td>1</td>\n",
              "        <td>Guitarra</td>\n",
              "        <td>4</td>\n",
              "    </tr>\n",
              "    <tr>\n",
              "        <td>105</td>\n",
              "        <td>Taller Instrumental 5</td>\n",
              "        <td>Jose Powell</td>\n",
              "        <td>2022-05-09</td>\n",
              "        <td>17:00</td>\n",
              "        <td>5</td>\n",
              "        <td>1.5</td>\n",
              "        <td>Bajo</td>\n",
              "        <td>21</td>\n",
              "    </tr>\n",
              "</table>"
            ]
          },
          "metadata": {},
          "execution_count": 7
        }
      ]
    },
    {
      "cell_type": "markdown",
      "source": [
        "### Lugar"
      ],
      "metadata": {
        "id": "5myCedVOnf57"
      }
    },
    {
      "cell_type": "code",
      "source": [
        "%%sql\n",
        "\n",
        "SELECT *\n",
        "FROM Lugar\n",
        "LIMIT 5;"
      ],
      "metadata": {
        "colab": {
          "base_uri": "https://localhost:8080/",
          "height": 183
        },
        "id": "IvFrjI-KnkP2",
        "outputId": "9ee2f194-76af-442d-d4df-a2b1656bb60a"
      },
      "execution_count": 9,
      "outputs": [
        {
          "output_type": "stream",
          "name": "stdout",
          "text": [
            " * sqlite:///datos_T2.db\n",
            "Done.\n"
          ]
        },
        {
          "output_type": "execute_result",
          "data": {
            "text/plain": [
              "[(1, '8517 White Circle Suite 464West Christine, WY 25833', 54408, 92721, 'Glorialand', 'Syrian Arab Republic'),\n",
              " (2, '0394 Thompson Radial Apt. 440Martinburgh, WI 61668', 58837, 29150, 'Jacquelineborough', 'Saint Vincent and the Grenadines'),\n",
              " (3, '1241 Stevens Extension Suite 769Lopezshire, KS 78903', 23470, 49883, 'Troyberg', 'Bosnia and Herzegovina'),\n",
              " (4, '3031 Moore FallNorth Amandafort, HI 10818', 74384, 91003, 'East Eileenton', 'Palestinian Territory'),\n",
              " (5, '028 Julia StreamBarbaraburgh, FL 62048', 126, 75538, 'Port Katherineport', 'Marshall Islands')]"
            ],
            "text/html": [
              "<table>\n",
              "    <tr>\n",
              "        <th>id</th>\n",
              "        <th>calle</th>\n",
              "        <th>numero</th>\n",
              "        <th>codigo</th>\n",
              "        <th>nombreCiudad</th>\n",
              "        <th>nombrePais</th>\n",
              "    </tr>\n",
              "    <tr>\n",
              "        <td>1</td>\n",
              "        <td>8517 White Circle Suite 464West Christine, WY 25833</td>\n",
              "        <td>54408</td>\n",
              "        <td>92721</td>\n",
              "        <td>Glorialand</td>\n",
              "        <td>Syrian Arab Republic</td>\n",
              "    </tr>\n",
              "    <tr>\n",
              "        <td>2</td>\n",
              "        <td>0394 Thompson Radial Apt. 440Martinburgh, WI 61668</td>\n",
              "        <td>58837</td>\n",
              "        <td>29150</td>\n",
              "        <td>Jacquelineborough</td>\n",
              "        <td>Saint Vincent and the Grenadines</td>\n",
              "    </tr>\n",
              "    <tr>\n",
              "        <td>3</td>\n",
              "        <td>1241 Stevens Extension Suite 769Lopezshire, KS 78903</td>\n",
              "        <td>23470</td>\n",
              "        <td>49883</td>\n",
              "        <td>Troyberg</td>\n",
              "        <td>Bosnia and Herzegovina</td>\n",
              "    </tr>\n",
              "    <tr>\n",
              "        <td>4</td>\n",
              "        <td>3031 Moore FallNorth Amandafort, HI 10818</td>\n",
              "        <td>74384</td>\n",
              "        <td>91003</td>\n",
              "        <td>East Eileenton</td>\n",
              "        <td>Palestinian Territory</td>\n",
              "    </tr>\n",
              "    <tr>\n",
              "        <td>5</td>\n",
              "        <td>028 Julia StreamBarbaraburgh, FL 62048</td>\n",
              "        <td>126</td>\n",
              "        <td>75538</td>\n",
              "        <td>Port Katherineport</td>\n",
              "        <td>Marshall Islands</td>\n",
              "    </tr>\n",
              "</table>"
            ]
          },
          "metadata": {},
          "execution_count": 9
        }
      ]
    },
    {
      "cell_type": "markdown",
      "source": [
        "### Participa"
      ],
      "metadata": {
        "id": "VlQ0wABKn0RA"
      }
    },
    {
      "cell_type": "code",
      "source": [
        "%%sql\n",
        "\n",
        "SELECT *\n",
        "FROM Participa\n",
        "LIMIT 5;"
      ],
      "metadata": {
        "colab": {
          "base_uri": "https://localhost:8080/",
          "height": 183
        },
        "id": "KA9QdvzTn12F",
        "outputId": "fa1a85f2-21f0-4d9b-9eb5-c45bd53278f8"
      },
      "execution_count": 10,
      "outputs": [
        {
          "output_type": "stream",
          "name": "stdout",
          "text": [
            " * sqlite:///datos_T2.db\n",
            "Done.\n"
          ]
        },
        {
          "output_type": "execute_result",
          "data": {
            "text/plain": [
              "[('227-40-2546', 134),\n",
              " ('716-91-2023', 94),\n",
              " ('222-10-5678', 138),\n",
              " ('097-65-5254', 191),\n",
              " ('509-82-0904', 133)]"
            ],
            "text/html": [
              "<table>\n",
              "    <tr>\n",
              "        <th>rut</th>\n",
              "        <th>idTaller</th>\n",
              "    </tr>\n",
              "    <tr>\n",
              "        <td>227-40-2546</td>\n",
              "        <td>134</td>\n",
              "    </tr>\n",
              "    <tr>\n",
              "        <td>716-91-2023</td>\n",
              "        <td>94</td>\n",
              "    </tr>\n",
              "    <tr>\n",
              "        <td>222-10-5678</td>\n",
              "        <td>138</td>\n",
              "    </tr>\n",
              "    <tr>\n",
              "        <td>097-65-5254</td>\n",
              "        <td>191</td>\n",
              "    </tr>\n",
              "    <tr>\n",
              "        <td>509-82-0904</td>\n",
              "        <td>133</td>\n",
              "    </tr>\n",
              "</table>"
            ]
          },
          "metadata": {},
          "execution_count": 10
        }
      ]
    },
    {
      "cell_type": "markdown",
      "source": [
        "### EstáEn"
      ],
      "metadata": {
        "id": "atO5VSUrn6zY"
      }
    },
    {
      "cell_type": "code",
      "source": [
        "%%sql\n",
        "\n",
        "SELECT *\n",
        "FROM EstaEn\n",
        "LIMIT 5;"
      ],
      "metadata": {
        "colab": {
          "base_uri": "https://localhost:8080/",
          "height": 183
        },
        "id": "NOZtRz82n-C9",
        "outputId": "32c9f4c9-7db5-468d-e45d-435e91d154f6"
      },
      "execution_count": 63,
      "outputs": [
        {
          "output_type": "stream",
          "name": "stdout",
          "text": [
            " * sqlite:///datos_T2.db\n",
            "Done.\n"
          ]
        },
        {
          "output_type": "execute_result",
          "data": {
            "text/plain": [
              "[(1, 37), (2, 38), (3, 42), (4, 20), (5, 25)]"
            ],
            "text/html": [
              "<table>\n",
              "    <tr>\n",
              "        <th>idTaller</th>\n",
              "        <th>idLugar</th>\n",
              "    </tr>\n",
              "    <tr>\n",
              "        <td>1</td>\n",
              "        <td>37</td>\n",
              "    </tr>\n",
              "    <tr>\n",
              "        <td>2</td>\n",
              "        <td>38</td>\n",
              "    </tr>\n",
              "    <tr>\n",
              "        <td>3</td>\n",
              "        <td>42</td>\n",
              "    </tr>\n",
              "    <tr>\n",
              "        <td>4</td>\n",
              "        <td>20</td>\n",
              "    </tr>\n",
              "    <tr>\n",
              "        <td>5</td>\n",
              "        <td>25</td>\n",
              "    </tr>\n",
              "</table>"
            ]
          },
          "metadata": {},
          "execution_count": 63
        }
      ]
    },
    {
      "cell_type": "markdown",
      "source": [
        "##Pregunta 2\n",
        "\n",
        "Ahora que tenemos nuestra base de datos preparada, la podemos analizar en más detalles. En esta primera pregunta te pedimos encontrar la(s) persona(s) qué participa(n) en máxima cantidad de talleres que se realizan en **Honduras**. Se requiere escribir una consulta SQL que recupera esta información sobre nuestro esquema. Esto quiere decir que la consulta debe devolver esta misma información sobre cualquier instancia de nuestro esquema, y no solo con la instancia que estamos revisando."
      ],
      "metadata": {
        "id": "yB4d1b1KFw3v"
      }
    },
    {
      "cell_type": "markdown",
      "source": [
        "\n",
        "---\n",
        "**Talleres en Honduras**\n",
        "\n"
      ],
      "metadata": {
        "id": "2AameUDlpFuZ"
      }
    },
    {
      "cell_type": "code",
      "source": [
        "%%sql\n",
        "\n",
        "SELECT EstaEn.idTaller, Lugar.Id as LugarId\n",
        "FROM EstaEn \n",
        "LEFT JOIN TallerDeportivo ON EstaEn.IdTaller = TallerDeportivo.Id\n",
        "LEFT JOIN TallerInstrumental ON EstaEn.IdTaller = TallerInstrumental.Id\n",
        "LEFT JOIN Lugar ON EstaEn.idLugar = Lugar.Id\n",
        "WHERE Lugar.nombrePais = 'Honduras'\n"
      ],
      "metadata": {
        "id": "NcLY99I3F32R",
        "colab": {
          "base_uri": "https://localhost:8080/",
          "height": 183
        },
        "outputId": "4fb30a94-7fbd-4f5c-e504-ea3f7dd6e6dc"
      },
      "execution_count": 45,
      "outputs": [
        {
          "output_type": "stream",
          "name": "stdout",
          "text": [
            " * sqlite:///datos_T2.db\n",
            "Done.\n"
          ]
        },
        {
          "output_type": "execute_result",
          "data": {
            "text/plain": [
              "[(1, 37), (21, 37), (33, 37), (160, 37), (172, 37)]"
            ],
            "text/html": [
              "<table>\n",
              "    <tr>\n",
              "        <th>idTaller</th>\n",
              "        <th>LugarId</th>\n",
              "    </tr>\n",
              "    <tr>\n",
              "        <td>1</td>\n",
              "        <td>37</td>\n",
              "    </tr>\n",
              "    <tr>\n",
              "        <td>21</td>\n",
              "        <td>37</td>\n",
              "    </tr>\n",
              "    <tr>\n",
              "        <td>33</td>\n",
              "        <td>37</td>\n",
              "    </tr>\n",
              "    <tr>\n",
              "        <td>160</td>\n",
              "        <td>37</td>\n",
              "    </tr>\n",
              "    <tr>\n",
              "        <td>172</td>\n",
              "        <td>37</td>\n",
              "    </tr>\n",
              "</table>"
            ]
          },
          "metadata": {},
          "execution_count": 45
        }
      ]
    },
    {
      "cell_type": "markdown",
      "source": [
        "---\n",
        "**Cantidad de talleres realizados en Honduras**"
      ],
      "metadata": {
        "id": "PPz9PNc20zqW"
      }
    },
    {
      "cell_type": "code",
      "source": [
        "%%sql\n",
        "\n",
        "SELECT COUNT(*) AS Total\n",
        "FROM EstaEn \n",
        "LEFT JOIN TallerDeportivo ON EstaEn.IdTaller = TallerDeportivo.Id\n",
        "LEFT JOIN TallerInstrumental ON EstaEn.IdTaller = TallerInstrumental.Id\n",
        "LEFT JOIN Lugar ON EstaEn.idLugar = Lugar.Id\n",
        "WHERE Lugar.nombrePais = 'Honduras'"
      ],
      "metadata": {
        "colab": {
          "base_uri": "https://localhost:8080/",
          "height": 97
        },
        "id": "z5o9hF7t073J",
        "outputId": "cea7cb4a-248f-4002-c21b-f43c2423d589"
      },
      "execution_count": 79,
      "outputs": [
        {
          "output_type": "stream",
          "name": "stdout",
          "text": [
            " * sqlite:///datos_T2.db\n",
            "Done.\n"
          ]
        },
        {
          "output_type": "execute_result",
          "data": {
            "text/plain": [
              "[(5,)]"
            ],
            "text/html": [
              "<table>\n",
              "    <tr>\n",
              "        <th>Total</th>\n",
              "    </tr>\n",
              "    <tr>\n",
              "        <td>5</td>\n",
              "    </tr>\n",
              "</table>"
            ]
          },
          "metadata": {},
          "execution_count": 79
        }
      ]
    },
    {
      "cell_type": "markdown",
      "source": [
        "---\n",
        "**Cantidad de participaciones en talleres por persona en Honduras**"
      ],
      "metadata": {
        "id": "SY7eTUL9pu5I"
      }
    },
    {
      "cell_type": "code",
      "source": [
        "%%sql\n",
        "\n",
        "SELECT \n",
        "  Persona.rut,\n",
        "  Persona.nombre,\n",
        "  COUNT(*) AS ParticipacionPorPersonaEnTalleresDeHonduras\n",
        "FROM Persona\n",
        "JOIN Participa ON Persona.rut = Participa.rut\n",
        "JOIN (\n",
        "  SELECT EstaEn.idTaller AS TallerId, Lugar.Id AS LugarId\n",
        "  FROM EstaEn \n",
        "  LEFT JOIN TallerDeportivo ON EstaEn.IdTaller = TallerDeportivo.Id\n",
        "  LEFT JOIN TallerInstrumental ON EstaEn.IdTaller = TallerInstrumental.Id\n",
        "  LEFT JOIN Lugar ON EstaEn.idLugar = Lugar.Id\n",
        "  WHERE Lugar.nombrePais = 'Honduras'\n",
        ") AS TalleresEnHonduras\n",
        "ON Participa.idTaller = TalleresEnHonduras.TallerId\n",
        "GROUP BY Persona.rut"
      ],
      "metadata": {
        "colab": {
          "base_uri": "https://localhost:8080/",
          "height": 140
        },
        "id": "AcFGiQ1qpuFY",
        "outputId": "9c252a39-88b4-4ada-a7c6-01b7d5fd8532"
      },
      "execution_count": 80,
      "outputs": [
        {
          "output_type": "stream",
          "name": "stdout",
          "text": [
            " * sqlite:///datos_T2.db\n",
            "Done.\n"
          ]
        },
        {
          "output_type": "execute_result",
          "data": {
            "text/plain": [
              "[('114-10-5754', 'Brittany Mills', 1),\n",
              " ('757-47-6075', 'Crystal Mitchell', 1),\n",
              " ('853-31-9682', 'Laura Wallace', 1)]"
            ],
            "text/html": [
              "<table>\n",
              "    <tr>\n",
              "        <th>rut</th>\n",
              "        <th>nombre</th>\n",
              "        <th>ParticipacionPorPersonaEnTalleresDeHonduras</th>\n",
              "    </tr>\n",
              "    <tr>\n",
              "        <td>114-10-5754</td>\n",
              "        <td>Brittany Mills</td>\n",
              "        <td>1</td>\n",
              "    </tr>\n",
              "    <tr>\n",
              "        <td>757-47-6075</td>\n",
              "        <td>Crystal Mitchell</td>\n",
              "        <td>1</td>\n",
              "    </tr>\n",
              "    <tr>\n",
              "        <td>853-31-9682</td>\n",
              "        <td>Laura Wallace</td>\n",
              "        <td>1</td>\n",
              "    </tr>\n",
              "</table>"
            ]
          },
          "metadata": {},
          "execution_count": 80
        }
      ]
    },
    {
      "cell_type": "markdown",
      "source": [
        "---\n",
        "**Persona(s) que participa(n) en máxima cantidad de talleres que se realizan en Honduras.**\n",
        "Asumiendo que esto se refiere a:\n",
        "\n",
        "\"las personas que hayan participado mas veces en talleres ubicados en Honduras\""
      ],
      "metadata": {
        "id": "joaOCzRQzERn"
      }
    },
    {
      "cell_type": "code",
      "source": [
        "%%sql\n",
        "\n",
        "SELECT \n",
        "  Persona.rut,\n",
        "  Persona.nombre,\n",
        "  COUNT(*) AS ParticipacionPorPersonaEnTalleresDeHonduras\n",
        "FROM Persona\n",
        "JOIN Participa ON Persona.rut = Participa.rut\n",
        "JOIN (\n",
        "  SELECT EstaEn.idTaller AS TallerId, Lugar.Id AS LugarId\n",
        "  FROM EstaEn \n",
        "  LEFT JOIN TallerDeportivo ON EstaEn.IdTaller = TallerDeportivo.Id\n",
        "  LEFT JOIN TallerInstrumental ON EstaEn.IdTaller = TallerInstrumental.Id\n",
        "  LEFT JOIN Lugar ON EstaEn.idLugar = Lugar.Id\n",
        "  WHERE Lugar.nombrePais = 'Honduras'\n",
        ") AS TalleresEnHonduras\n",
        "ON Participa.idTaller = TalleresEnHonduras.TallerId\n",
        "GROUP BY Persona.rut\n",
        "HAVING ParticipacionPorPersonaEnTalleresDeHonduras = (\n",
        "  SELECT MAX(ParticipacionPorPersonaEnTalleresDeHonduras)\n",
        "  FROM (\n",
        "    SELECT \n",
        "    Persona.rut,\n",
        "    Persona.nombre,\n",
        "    COUNT(*) AS ParticipacionPorPersonaEnTalleresDeHonduras\n",
        "    FROM Persona\n",
        "    JOIN Participa ON Persona.rut = Participa.rut\n",
        "    JOIN (\n",
        "      SELECT EstaEn.idTaller AS TallerId, Lugar.Id AS LugarId\n",
        "      FROM EstaEn \n",
        "      LEFT JOIN TallerDeportivo ON EstaEn.IdTaller = TallerDeportivo.Id\n",
        "      LEFT JOIN TallerInstrumental ON EstaEn.IdTaller = TallerInstrumental.Id\n",
        "      LEFT JOIN Lugar ON EstaEn.idLugar = Lugar.Id\n",
        "      WHERE Lugar.nombrePais = 'Honduras'\n",
        "    ) AS TalleresEnHonduras\n",
        "    ON Participa.idTaller = TalleresEnHonduras.TallerId\n",
        "    GROUP BY Persona.rut\n",
        "  )\n",
        "\n",
        ")"
      ],
      "metadata": {
        "colab": {
          "base_uri": "https://localhost:8080/",
          "height": 140
        },
        "id": "KVaPgL1WzZ96",
        "outputId": "d18afee8-0d26-45f1-bf0d-66ff9a8b142d"
      },
      "execution_count": 83,
      "outputs": [
        {
          "output_type": "stream",
          "name": "stdout",
          "text": [
            " * sqlite:///datos_T2.db\n",
            "Done.\n"
          ]
        },
        {
          "output_type": "execute_result",
          "data": {
            "text/plain": [
              "[('114-10-5754', 'Brittany Mills', 1),\n",
              " ('757-47-6075', 'Crystal Mitchell', 1),\n",
              " ('853-31-9682', 'Laura Wallace', 1)]"
            ],
            "text/html": [
              "<table>\n",
              "    <tr>\n",
              "        <th>rut</th>\n",
              "        <th>nombre</th>\n",
              "        <th>ParticipacionPorPersonaEnTalleresDeHonduras</th>\n",
              "    </tr>\n",
              "    <tr>\n",
              "        <td>114-10-5754</td>\n",
              "        <td>Brittany Mills</td>\n",
              "        <td>1</td>\n",
              "    </tr>\n",
              "    <tr>\n",
              "        <td>757-47-6075</td>\n",
              "        <td>Crystal Mitchell</td>\n",
              "        <td>1</td>\n",
              "    </tr>\n",
              "    <tr>\n",
              "        <td>853-31-9682</td>\n",
              "        <td>Laura Wallace</td>\n",
              "        <td>1</td>\n",
              "    </tr>\n",
              "</table>"
            ]
          },
          "metadata": {},
          "execution_count": 83
        }
      ]
    },
    {
      "cell_type": "markdown",
      "source": [
        "##Pregunta 3\n",
        "\n",
        "Ahora nos interesaría encontrar el nombre del deporte más popular. Para esto, escriba la consulta SQL que encuentra el nombre de deporte de taller deportivo con la mayor cantidad de participantes. De nuevo, tu consulta debe funcionar sobre cualquier instancia de nuestro esquema.\n"
      ],
      "metadata": {
        "id": "5ajnI5m7F9pI"
      }
    },
    {
      "cell_type": "markdown",
      "source": [
        "---\n",
        "**Participación por taller deportivo**"
      ],
      "metadata": {
        "id": "xjrvVI726Wv5"
      }
    },
    {
      "cell_type": "code",
      "source": [
        "%%sql\n",
        "\n",
        "SELECT TallerDeportivo.nombreTaller AS nombre, COUNT(*) AS total\n",
        "FROM Persona\n",
        "JOIN Participa ON Persona.rut = Participa.rut\n",
        "JOIN TallerDeportivo ON Participa.idTaller = TallerDeportivo.id\n",
        "GROUP BY TallerDeportivo.nombreTaller\n",
        "LIMIT 5"
      ],
      "metadata": {
        "id": "dz23KWdDGU-n",
        "colab": {
          "base_uri": "https://localhost:8080/",
          "height": 183
        },
        "outputId": "94bd6d5f-2898-4f23-cb67-69abc17cd33e"
      },
      "execution_count": 110,
      "outputs": [
        {
          "output_type": "stream",
          "name": "stdout",
          "text": [
            " * sqlite:///datos_T2.db\n",
            "Done.\n"
          ]
        },
        {
          "output_type": "execute_result",
          "data": {
            "text/plain": [
              "[('Taller deportivo 11', 2),\n",
              " ('Taller deportivo 12', 1),\n",
              " ('Taller deportivo 13', 2),\n",
              " ('Taller deportivo 14', 1),\n",
              " ('Taller deportivo 15', 3)]"
            ],
            "text/html": [
              "<table>\n",
              "    <tr>\n",
              "        <th>nombre</th>\n",
              "        <th>total</th>\n",
              "    </tr>\n",
              "    <tr>\n",
              "        <td>Taller deportivo 11</td>\n",
              "        <td>2</td>\n",
              "    </tr>\n",
              "    <tr>\n",
              "        <td>Taller deportivo 12</td>\n",
              "        <td>1</td>\n",
              "    </tr>\n",
              "    <tr>\n",
              "        <td>Taller deportivo 13</td>\n",
              "        <td>2</td>\n",
              "    </tr>\n",
              "    <tr>\n",
              "        <td>Taller deportivo 14</td>\n",
              "        <td>1</td>\n",
              "    </tr>\n",
              "    <tr>\n",
              "        <td>Taller deportivo 15</td>\n",
              "        <td>3</td>\n",
              "    </tr>\n",
              "</table>"
            ]
          },
          "metadata": {},
          "execution_count": 110
        }
      ]
    },
    {
      "cell_type": "markdown",
      "source": [
        "---\n",
        "**Nombre de deporte de taller deportivo con la mayor cantidad de participantes**"
      ],
      "metadata": {
        "id": "3yULMnqJ6cXu"
      }
    },
    {
      "cell_type": "code",
      "source": [
        "%%sql\n",
        "\n",
        "SELECT nombre\n",
        "FROM (\n",
        "  SELECT TallerDeportivo.nombreTaller AS nombre, COUNT(*) AS total\n",
        "  FROM Persona\n",
        "  JOIN Participa ON Persona.rut = Participa.rut\n",
        "  JOIN TallerDeportivo ON Participa.idTaller = TallerDeportivo.id\n",
        "  GROUP BY TallerDeportivo.nombreTaller\n",
        ") AS ParticipacionPorTallerDeportivo\n",
        "WHERE total = (\n",
        "  SELECT MAX(total)\n",
        "  FROM (\n",
        "    SELECT TallerDeportivo.nombreTaller AS nombre, COUNT(*) AS total\n",
        "    FROM Persona\n",
        "    JOIN Participa ON Persona.rut = Participa.rut\n",
        "    JOIN TallerDeportivo ON Participa.idTaller = TallerDeportivo.id\n",
        "    GROUP BY TallerDeportivo.nombreTaller\n",
        "  )\n",
        ")"
      ],
      "metadata": {
        "colab": {
          "base_uri": "https://localhost:8080/",
          "height": 97
        },
        "id": "1Bg_kKgm6iOR",
        "outputId": "e6cb392d-f2b1-4b4d-b6ed-18814fc47c0e"
      },
      "execution_count": 108,
      "outputs": [
        {
          "output_type": "stream",
          "name": "stdout",
          "text": [
            " * sqlite:///datos_T2.db\n",
            "Done.\n"
          ]
        },
        {
          "output_type": "execute_result",
          "data": {
            "text/plain": [
              "[('Taller deportivo 89',)]"
            ],
            "text/html": [
              "<table>\n",
              "    <tr>\n",
              "        <th>nombre</th>\n",
              "    </tr>\n",
              "    <tr>\n",
              "        <td>Taller deportivo 89</td>\n",
              "    </tr>\n",
              "</table>"
            ]
          },
          "metadata": {},
          "execution_count": 108
        }
      ]
    },
    {
      "cell_type": "markdown",
      "source": [
        "##Pregunta 4\n",
        "\n",
        "Ahora para cada taller instrumental cuenta el número de gente con el correo “@uc” participando. Debes escribir una consulta SQL que devuelve el id del taller, nombre del instrumento, y el número de personas con el correo “@uc” inscritas a este taller. Para filtrar la gente participando, ocupa el comando LIKE, que permite buscar sobre un string."
      ],
      "metadata": {
        "id": "7OyQmth3GgJi"
      }
    },
    {
      "cell_type": "markdown",
      "source": [
        "---\n",
        "**Participacion de personas con correo uc en Taller Instrumental**"
      ],
      "metadata": {
        "id": "gg4Egjkr7AU9"
      }
    },
    {
      "cell_type": "code",
      "source": [
        "%%sql\n",
        "SELECT *\n",
        "FROM Persona\n",
        "JOIN Participa ON Persona.rut = Participa.rut\n",
        "JOIN TallerInstrumental ON Participa.idTaller = TallerInstrumental.id\n",
        "WHERE Persona.correo LIKE '%@uc.cl'\n",
        "LIMIT 5"
      ],
      "metadata": {
        "id": "lQOBVFpoGn0R",
        "colab": {
          "base_uri": "https://localhost:8080/",
          "height": 270
        },
        "outputId": "b3f28af6-9329-4d9a-ced9-6a63f6f1f23a"
      },
      "execution_count": 120,
      "outputs": [
        {
          "output_type": "stream",
          "name": "stdout",
          "text": [
            " * sqlite:///datos_T2.db\n",
            "Done.\n"
          ]
        },
        {
          "output_type": "execute_result",
          "data": {
            "text/plain": [
              "[('Stephen Brooks', '227-40-2546', '001-646-589-3749x296', 'stephen.brooks@uc.cl', '227-40-2546', 134, 134, 'Taller Instrumental 34', 'Vincent Farmer', '2021-09-01', '12:00', 10, 1.5, 'Piano', 8),\n",
              " ('Donna Fleming', '222-10-5678', '705.135.8662', 'donna.fleming@uc.cl', '222-10-5678', 138, 138, 'Taller Instrumental 38', 'Jacqueline Suarez', '2023-06-12', '13:00', 8, 2, 'Batería', 8),\n",
              " ('Penny Kelly', '509-82-0904', '8683303033', 'penny.kelly@uc.cl', '509-82-0904', 133, 133, 'Taller Instrumental 33', 'Nancy Hogan', '2022-09-18', '11:00', 5, 1.5, 'Bajo', 10),\n",
              " ('Tyler Andrade', '069-79-3655', '001-813-374-6268x56379', 'tyler.andrade@uc.cl', '069-79-3655', 170, 170, 'Taller Instrumental 70', 'Dennis Maxwell', '2021-08-31', '13:00', 3, 1.5, 'Bajo', 20),\n",
              " ('Brad Jensen', '468-06-1826', '+1-590-912-5053', 'brad.jensen@uc.cl', '468-06-1826', 136, 136, 'Taller Instrumental 36', 'Aaron Walker', '2023-06-10', '14:00', 8, 2, 'Guitarra', 23)]"
            ],
            "text/html": [
              "<table>\n",
              "    <tr>\n",
              "        <th>nombre</th>\n",
              "        <th>rut</th>\n",
              "        <th>telefono</th>\n",
              "        <th>correo</th>\n",
              "        <th>rut_1</th>\n",
              "        <th>idTaller</th>\n",
              "        <th>id</th>\n",
              "        <th>nombreTaller</th>\n",
              "        <th>nombreProfesor</th>\n",
              "        <th>fecha</th>\n",
              "        <th>hora</th>\n",
              "        <th>valor</th>\n",
              "        <th>duracionHrs</th>\n",
              "        <th>instrumento</th>\n",
              "        <th>nrInstrumentos</th>\n",
              "    </tr>\n",
              "    <tr>\n",
              "        <td>Stephen Brooks</td>\n",
              "        <td>227-40-2546</td>\n",
              "        <td>001-646-589-3749x296</td>\n",
              "        <td>stephen.brooks@uc.cl</td>\n",
              "        <td>227-40-2546</td>\n",
              "        <td>134</td>\n",
              "        <td>134</td>\n",
              "        <td>Taller Instrumental 34</td>\n",
              "        <td>Vincent Farmer</td>\n",
              "        <td>2021-09-01</td>\n",
              "        <td>12:00</td>\n",
              "        <td>10</td>\n",
              "        <td>1.5</td>\n",
              "        <td>Piano</td>\n",
              "        <td>8</td>\n",
              "    </tr>\n",
              "    <tr>\n",
              "        <td>Donna Fleming</td>\n",
              "        <td>222-10-5678</td>\n",
              "        <td>705.135.8662</td>\n",
              "        <td>donna.fleming@uc.cl</td>\n",
              "        <td>222-10-5678</td>\n",
              "        <td>138</td>\n",
              "        <td>138</td>\n",
              "        <td>Taller Instrumental 38</td>\n",
              "        <td>Jacqueline Suarez</td>\n",
              "        <td>2023-06-12</td>\n",
              "        <td>13:00</td>\n",
              "        <td>8</td>\n",
              "        <td>2</td>\n",
              "        <td>Batería</td>\n",
              "        <td>8</td>\n",
              "    </tr>\n",
              "    <tr>\n",
              "        <td>Penny Kelly</td>\n",
              "        <td>509-82-0904</td>\n",
              "        <td>8683303033</td>\n",
              "        <td>penny.kelly@uc.cl</td>\n",
              "        <td>509-82-0904</td>\n",
              "        <td>133</td>\n",
              "        <td>133</td>\n",
              "        <td>Taller Instrumental 33</td>\n",
              "        <td>Nancy Hogan</td>\n",
              "        <td>2022-09-18</td>\n",
              "        <td>11:00</td>\n",
              "        <td>5</td>\n",
              "        <td>1.5</td>\n",
              "        <td>Bajo</td>\n",
              "        <td>10</td>\n",
              "    </tr>\n",
              "    <tr>\n",
              "        <td>Tyler Andrade</td>\n",
              "        <td>069-79-3655</td>\n",
              "        <td>001-813-374-6268x56379</td>\n",
              "        <td>tyler.andrade@uc.cl</td>\n",
              "        <td>069-79-3655</td>\n",
              "        <td>170</td>\n",
              "        <td>170</td>\n",
              "        <td>Taller Instrumental 70</td>\n",
              "        <td>Dennis Maxwell</td>\n",
              "        <td>2021-08-31</td>\n",
              "        <td>13:00</td>\n",
              "        <td>3</td>\n",
              "        <td>1.5</td>\n",
              "        <td>Bajo</td>\n",
              "        <td>20</td>\n",
              "    </tr>\n",
              "    <tr>\n",
              "        <td>Brad Jensen</td>\n",
              "        <td>468-06-1826</td>\n",
              "        <td>+1-590-912-5053</td>\n",
              "        <td>brad.jensen@uc.cl</td>\n",
              "        <td>468-06-1826</td>\n",
              "        <td>136</td>\n",
              "        <td>136</td>\n",
              "        <td>Taller Instrumental 36</td>\n",
              "        <td>Aaron Walker</td>\n",
              "        <td>2023-06-10</td>\n",
              "        <td>14:00</td>\n",
              "        <td>8</td>\n",
              "        <td>2</td>\n",
              "        <td>Guitarra</td>\n",
              "        <td>23</td>\n",
              "    </tr>\n",
              "</table>"
            ]
          },
          "metadata": {},
          "execution_count": 120
        }
      ]
    },
    {
      "cell_type": "markdown",
      "source": [
        "---\n",
        "**Cantidad de personas de la uc inscritas por taller**"
      ],
      "metadata": {
        "id": "FfZBWG577rAD"
      }
    },
    {
      "cell_type": "code",
      "source": [
        "%%sql\n",
        "\n",
        "SELECT TallerInstrumental.id AS TallerId, TallerInstrumental.instrumento, COUNT(*) as participantesUC\n",
        "FROM Persona\n",
        "JOIN Participa ON Persona.rut = Participa.rut\n",
        "JOIN TallerInstrumental ON Participa.idTaller = TallerInstrumental.id\n",
        "WHERE Persona.correo LIKE '%@uc.cl'\n",
        "GROUP BY TallerInstrumental.nombreTaller"
      ],
      "metadata": {
        "colab": {
          "base_uri": "https://localhost:8080/",
          "height": 503
        },
        "id": "ZfUyWShm70Dx",
        "outputId": "b270e4fb-ca6e-451a-e297-1bc6a7fe8e6b"
      },
      "execution_count": 124,
      "outputs": [
        {
          "output_type": "stream",
          "name": "stdout",
          "text": [
            " * sqlite:///datos_T2.db\n",
            "Done.\n"
          ]
        },
        {
          "output_type": "execute_result",
          "data": {
            "text/plain": [
              "[(113, 'Batería', 1),\n",
              " (115, 'Batería', 1),\n",
              " (119, 'Violín', 1),\n",
              " (102, 'Bajo', 1),\n",
              " (130, 'Guitarra', 2),\n",
              " (133, 'Bajo', 1),\n",
              " (134, 'Piano', 1),\n",
              " (136, 'Guitarra', 1),\n",
              " (138, 'Batería', 1),\n",
              " (154, 'Batería', 1),\n",
              " (158, 'Piano', 1),\n",
              " (165, 'Guitarra', 1),\n",
              " (167, 'Violín', 1),\n",
              " (170, 'Bajo', 2),\n",
              " (179, 'Violín', 1),\n",
              " (188, 'Bajo', 1),\n",
              " (189, 'Piano', 1),\n",
              " (191, 'Guitarra', 1),\n",
              " (197, 'Trompeta', 1),\n",
              " (199, 'Piano', 1)]"
            ],
            "text/html": [
              "<table>\n",
              "    <tr>\n",
              "        <th>TallerId</th>\n",
              "        <th>instrumento</th>\n",
              "        <th>participantesUC</th>\n",
              "    </tr>\n",
              "    <tr>\n",
              "        <td>113</td>\n",
              "        <td>Batería</td>\n",
              "        <td>1</td>\n",
              "    </tr>\n",
              "    <tr>\n",
              "        <td>115</td>\n",
              "        <td>Batería</td>\n",
              "        <td>1</td>\n",
              "    </tr>\n",
              "    <tr>\n",
              "        <td>119</td>\n",
              "        <td>Violín</td>\n",
              "        <td>1</td>\n",
              "    </tr>\n",
              "    <tr>\n",
              "        <td>102</td>\n",
              "        <td>Bajo</td>\n",
              "        <td>1</td>\n",
              "    </tr>\n",
              "    <tr>\n",
              "        <td>130</td>\n",
              "        <td>Guitarra</td>\n",
              "        <td>2</td>\n",
              "    </tr>\n",
              "    <tr>\n",
              "        <td>133</td>\n",
              "        <td>Bajo</td>\n",
              "        <td>1</td>\n",
              "    </tr>\n",
              "    <tr>\n",
              "        <td>134</td>\n",
              "        <td>Piano</td>\n",
              "        <td>1</td>\n",
              "    </tr>\n",
              "    <tr>\n",
              "        <td>136</td>\n",
              "        <td>Guitarra</td>\n",
              "        <td>1</td>\n",
              "    </tr>\n",
              "    <tr>\n",
              "        <td>138</td>\n",
              "        <td>Batería</td>\n",
              "        <td>1</td>\n",
              "    </tr>\n",
              "    <tr>\n",
              "        <td>154</td>\n",
              "        <td>Batería</td>\n",
              "        <td>1</td>\n",
              "    </tr>\n",
              "    <tr>\n",
              "        <td>158</td>\n",
              "        <td>Piano</td>\n",
              "        <td>1</td>\n",
              "    </tr>\n",
              "    <tr>\n",
              "        <td>165</td>\n",
              "        <td>Guitarra</td>\n",
              "        <td>1</td>\n",
              "    </tr>\n",
              "    <tr>\n",
              "        <td>167</td>\n",
              "        <td>Violín</td>\n",
              "        <td>1</td>\n",
              "    </tr>\n",
              "    <tr>\n",
              "        <td>170</td>\n",
              "        <td>Bajo</td>\n",
              "        <td>2</td>\n",
              "    </tr>\n",
              "    <tr>\n",
              "        <td>179</td>\n",
              "        <td>Violín</td>\n",
              "        <td>1</td>\n",
              "    </tr>\n",
              "    <tr>\n",
              "        <td>188</td>\n",
              "        <td>Bajo</td>\n",
              "        <td>1</td>\n",
              "    </tr>\n",
              "    <tr>\n",
              "        <td>189</td>\n",
              "        <td>Piano</td>\n",
              "        <td>1</td>\n",
              "    </tr>\n",
              "    <tr>\n",
              "        <td>191</td>\n",
              "        <td>Guitarra</td>\n",
              "        <td>1</td>\n",
              "    </tr>\n",
              "    <tr>\n",
              "        <td>197</td>\n",
              "        <td>Trompeta</td>\n",
              "        <td>1</td>\n",
              "    </tr>\n",
              "    <tr>\n",
              "        <td>199</td>\n",
              "        <td>Piano</td>\n",
              "        <td>1</td>\n",
              "    </tr>\n",
              "</table>"
            ]
          },
          "metadata": {},
          "execution_count": 124
        }
      ]
    },
    {
      "cell_type": "markdown",
      "source": [
        "##Pregunta 5\n",
        "\n",
        "Para cada persona, computa la cantidad de talleres en cuales participa esta persona. Esto debe incluir tantos talleres deportivos, cómo talleres instrumentales. Una manera de resolver esta consulta es ocupando consultas anidadas en la cláusula `FROM`, computando dicho número para cada tipo de taller."
      ],
      "metadata": {
        "id": "VqoJcVwnjJHu"
      }
    },
    {
      "cell_type": "markdown",
      "source": [
        "---\n",
        "**Número de talleres deportivos por persona**"
      ],
      "metadata": {
        "id": "JUyifOML8xon"
      }
    },
    {
      "cell_type": "code",
      "source": [
        "%%sql\n",
        "\n",
        "SELECT Persona.rut as rut, COUNT(*) AS talleresDeportivos\n",
        "FROM Persona \n",
        "JOIN Participa ON Persona.rut = Participa.rut\n",
        "JOIN TallerDeportivo ON Participa.idTaller = TallerDeportivo.id\n",
        "GROUP BY Persona.rut\n",
        "LIMIT 5"
      ],
      "metadata": {
        "id": "THPoqjevjMr7",
        "colab": {
          "base_uri": "https://localhost:8080/",
          "height": 183
        },
        "outputId": "bfc776bf-2cd5-412c-f56f-595aae8430a5"
      },
      "execution_count": 138,
      "outputs": [
        {
          "output_type": "stream",
          "name": "stdout",
          "text": [
            " * sqlite:///datos_T2.db\n",
            "Done.\n"
          ]
        },
        {
          "output_type": "execute_result",
          "data": {
            "text/plain": [
              "[('001-41-3660', 1),\n",
              " ('014-15-4728', 1),\n",
              " ('021-88-4570', 2),\n",
              " ('040-28-7437', 1),\n",
              " ('045-60-3272', 1)]"
            ],
            "text/html": [
              "<table>\n",
              "    <tr>\n",
              "        <th>rut</th>\n",
              "        <th>talleresDeportivos</th>\n",
              "    </tr>\n",
              "    <tr>\n",
              "        <td>001-41-3660</td>\n",
              "        <td>1</td>\n",
              "    </tr>\n",
              "    <tr>\n",
              "        <td>014-15-4728</td>\n",
              "        <td>1</td>\n",
              "    </tr>\n",
              "    <tr>\n",
              "        <td>021-88-4570</td>\n",
              "        <td>2</td>\n",
              "    </tr>\n",
              "    <tr>\n",
              "        <td>040-28-7437</td>\n",
              "        <td>1</td>\n",
              "    </tr>\n",
              "    <tr>\n",
              "        <td>045-60-3272</td>\n",
              "        <td>1</td>\n",
              "    </tr>\n",
              "</table>"
            ]
          },
          "metadata": {},
          "execution_count": 138
        }
      ]
    },
    {
      "cell_type": "markdown",
      "source": [
        "---\n",
        "**Número de talleres instrumental por persona**"
      ],
      "metadata": {
        "id": "Tf4o7fA1LSHA"
      }
    },
    {
      "cell_type": "code",
      "source": [
        "%%sql\n",
        "\n",
        "SELECT Persona.rut as rut, COUNT(*) AS talleresInstrumentales\n",
        "FROM Persona \n",
        "JOIN Participa ON Persona.rut = Participa.rut\n",
        "JOIN TallerInstrumental ON Participa.idTaller = TallerInstrumental.id\n",
        "GROUP BY Persona.rut\n",
        "LIMIT 5"
      ],
      "metadata": {
        "colab": {
          "base_uri": "https://localhost:8080/",
          "height": 183
        },
        "id": "coYP-Urv9C4U",
        "outputId": "4bbb8bd2-4d12-41e8-c458-56d5fbae2927"
      },
      "execution_count": 141,
      "outputs": [
        {
          "output_type": "stream",
          "name": "stdout",
          "text": [
            " * sqlite:///datos_T2.db\n",
            "Done.\n"
          ]
        },
        {
          "output_type": "execute_result",
          "data": {
            "text/plain": [
              "[('028-31-7384', 1),\n",
              " ('045-60-3272', 1),\n",
              " ('046-78-2996', 2),\n",
              " ('056-10-7180', 1),\n",
              " ('069-79-3655', 1)]"
            ],
            "text/html": [
              "<table>\n",
              "    <tr>\n",
              "        <th>rut</th>\n",
              "        <th>talleresInstrumentales</th>\n",
              "    </tr>\n",
              "    <tr>\n",
              "        <td>028-31-7384</td>\n",
              "        <td>1</td>\n",
              "    </tr>\n",
              "    <tr>\n",
              "        <td>045-60-3272</td>\n",
              "        <td>1</td>\n",
              "    </tr>\n",
              "    <tr>\n",
              "        <td>046-78-2996</td>\n",
              "        <td>2</td>\n",
              "    </tr>\n",
              "    <tr>\n",
              "        <td>056-10-7180</td>\n",
              "        <td>1</td>\n",
              "    </tr>\n",
              "    <tr>\n",
              "        <td>069-79-3655</td>\n",
              "        <td>1</td>\n",
              "    </tr>\n",
              "</table>"
            ]
          },
          "metadata": {},
          "execution_count": 141
        }
      ]
    },
    {
      "cell_type": "markdown",
      "source": [
        "---\n",
        "**Número de talleres por persona**"
      ],
      "metadata": {
        "id": "XcE0cfK4LiLf"
      }
    },
    {
      "cell_type": "code",
      "source": [
        "%%sql\n",
        "\n",
        "SELECT \n",
        "  Persona.rut,\n",
        "  Persona.nombre,\n",
        "  DeportivoPersona.talleresDeportivos AS TalleresDeportivos, \n",
        "  InstrumentalPersona.talleresInstrumentales AS TalleresInstrumentales,\n",
        "  DeportivoPersona.talleresDeportivos + InstrumentalPersona.talleresInstrumentales AS TotalTalleres\n",
        "FROM Persona\n",
        "JOIN (\n",
        "  SELECT Persona.rut as rut, COUNT(*) AS talleresDeportivos\n",
        "  FROM Persona \n",
        "  JOIN Participa ON Persona.rut = Participa.rut\n",
        "  JOIN TallerDeportivo ON Participa.idTaller = TallerDeportivo.id\n",
        "  GROUP BY Persona.rut\n",
        ") AS DeportivoPersona ON Persona.rut = DeportivoPersona.rut\n",
        "JOIN (\n",
        "  SELECT Persona.rut as rut, COUNT(*) AS talleresInstrumentales\n",
        "  FROM Persona \n",
        "  JOIN Participa ON Persona.rut = Participa.rut\n",
        "  JOIN TallerInstrumental ON Participa.idTaller = TallerInstrumental.id\n",
        "  GROUP BY Persona.rut\n",
        ") AS InstrumentalPersona ON Persona.rut = InstrumentalPersona.rut\n",
        "LIMIT 5"
      ],
      "metadata": {
        "colab": {
          "base_uri": "https://localhost:8080/",
          "height": 183
        },
        "id": "n5AARTNkLQ-P",
        "outputId": "b968122d-0d34-400d-8b8b-840df34159e3"
      },
      "execution_count": 145,
      "outputs": [
        {
          "output_type": "stream",
          "name": "stdout",
          "text": [
            " * sqlite:///datos_T2.db\n",
            "Done.\n"
          ]
        },
        {
          "output_type": "execute_result",
          "data": {
            "text/plain": [
              "[('045-60-3272', 'Christopher Cruz', 1, 1, 2),\n",
              " ('046-78-2996', 'Ashley Peterson', 1, 2, 3),\n",
              " ('056-10-7180', 'Timothy Delgado', 1, 1, 2),\n",
              " ('106-26-6898', 'Michele Wolfe', 1, 1, 2),\n",
              " ('187-23-5065', 'Aaron Ford', 1, 1, 2)]"
            ],
            "text/html": [
              "<table>\n",
              "    <tr>\n",
              "        <th>rut</th>\n",
              "        <th>nombre</th>\n",
              "        <th>TalleresDeportivos</th>\n",
              "        <th>TalleresInstrumentales</th>\n",
              "        <th>TotalTalleres</th>\n",
              "    </tr>\n",
              "    <tr>\n",
              "        <td>045-60-3272</td>\n",
              "        <td>Christopher Cruz</td>\n",
              "        <td>1</td>\n",
              "        <td>1</td>\n",
              "        <td>2</td>\n",
              "    </tr>\n",
              "    <tr>\n",
              "        <td>046-78-2996</td>\n",
              "        <td>Ashley Peterson</td>\n",
              "        <td>1</td>\n",
              "        <td>2</td>\n",
              "        <td>3</td>\n",
              "    </tr>\n",
              "    <tr>\n",
              "        <td>056-10-7180</td>\n",
              "        <td>Timothy Delgado</td>\n",
              "        <td>1</td>\n",
              "        <td>1</td>\n",
              "        <td>2</td>\n",
              "    </tr>\n",
              "    <tr>\n",
              "        <td>106-26-6898</td>\n",
              "        <td>Michele Wolfe</td>\n",
              "        <td>1</td>\n",
              "        <td>1</td>\n",
              "        <td>2</td>\n",
              "    </tr>\n",
              "    <tr>\n",
              "        <td>187-23-5065</td>\n",
              "        <td>Aaron Ford</td>\n",
              "        <td>1</td>\n",
              "        <td>1</td>\n",
              "        <td>2</td>\n",
              "    </tr>\n",
              "</table>"
            ]
          },
          "metadata": {},
          "execution_count": 145
        }
      ]
    },
    {
      "cell_type": "markdown",
      "source": [
        "---\n",
        "**Número de talleres por persona versión 2**"
      ],
      "metadata": {
        "id": "DzdN994LOkL1"
      }
    },
    {
      "cell_type": "code",
      "source": [
        " %%sql\n",
        "\n",
        "SELECT \n",
        "  Persona.rut,\n",
        "  Persona.nombre,\n",
        "  COUNT(*) AS TotalTalleres\n",
        "FROM Persona\n",
        "JOIN Participa ON Persona.rut = Participa.rut\n",
        "GROUP BY Persona.rut\n",
        "LIMIT 5"
      ],
      "metadata": {
        "colab": {
          "base_uri": "https://localhost:8080/",
          "height": 183
        },
        "id": "ZHagBOz0LvBS",
        "outputId": "ff57a896-112a-4d5a-fa4c-a453f7d28464"
      },
      "execution_count": 146,
      "outputs": [
        {
          "output_type": "stream",
          "name": "stdout",
          "text": [
            " * sqlite:///datos_T2.db\n",
            "Done.\n"
          ]
        },
        {
          "output_type": "execute_result",
          "data": {
            "text/plain": [
              "[('001-41-3660', 'Nicholas Bean', 1),\n",
              " ('014-15-4728', 'Morgan Anderson', 1),\n",
              " ('021-88-4570', 'Michelle Donaldson', 2),\n",
              " ('028-31-7384', 'Mr. Richard Alexander', 1),\n",
              " ('040-28-7437', 'Andrew Hodges', 1)]"
            ],
            "text/html": [
              "<table>\n",
              "    <tr>\n",
              "        <th>rut</th>\n",
              "        <th>nombre</th>\n",
              "        <th>TotalTalleres</th>\n",
              "    </tr>\n",
              "    <tr>\n",
              "        <td>001-41-3660</td>\n",
              "        <td>Nicholas Bean</td>\n",
              "        <td>1</td>\n",
              "    </tr>\n",
              "    <tr>\n",
              "        <td>014-15-4728</td>\n",
              "        <td>Morgan Anderson</td>\n",
              "        <td>1</td>\n",
              "    </tr>\n",
              "    <tr>\n",
              "        <td>021-88-4570</td>\n",
              "        <td>Michelle Donaldson</td>\n",
              "        <td>2</td>\n",
              "    </tr>\n",
              "    <tr>\n",
              "        <td>028-31-7384</td>\n",
              "        <td>Mr. Richard Alexander</td>\n",
              "        <td>1</td>\n",
              "    </tr>\n",
              "    <tr>\n",
              "        <td>040-28-7437</td>\n",
              "        <td>Andrew Hodges</td>\n",
              "        <td>1</td>\n",
              "    </tr>\n",
              "</table>"
            ]
          },
          "metadata": {},
          "execution_count": 146
        }
      ]
    },
    {
      "cell_type": "code",
      "source": [],
      "metadata": {
        "id": "8I7R0v1QO8qF"
      },
      "execution_count": null,
      "outputs": []
    }
  ]
}