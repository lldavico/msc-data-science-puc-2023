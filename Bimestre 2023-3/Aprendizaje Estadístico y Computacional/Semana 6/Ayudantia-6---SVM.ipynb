{
 "cells": [
  {
   "cell_type": "code",
   "execution_count": 298,
   "id": "83c97ce9",
   "metadata": {},
   "outputs": [],
   "source": [
    "# Importamos librerías\n",
    "\n",
    "from sklearn import datasets\n",
    "from sklearn import svm\n",
    "from sklearn.model_selection import train_test_split\n",
    "import pandas as pd"
   ]
  },
  {
   "cell_type": "markdown",
   "id": "1d90bba7",
   "metadata": {},
   "source": [
    "En esta ocasión, haremos uso de mediciones realizadas en electrocardiogramas. Particularmente, nos interesará las distancias entre los puntos fiduciales más relevantes y la extensión de las curvas P y T."
   ]
  },
  {
   "attachments": {
    "ecg.png": {
     "image/png": "[encoded data removed]"
    }
   },
   "cell_type": "markdown",
   "id": "05002166",
   "metadata": {},
   "source": [
    "![ecg.png](attachment:ecg.png)"
   ]
  },
  {
   "cell_type": "code",
   "execution_count": 358,
   "id": "cbd40069",
   "metadata": {},
   "outputs": [
    {
     "name": "stdout",
     "output_type": "stream",
     "text": [
      "     QRS   PQ   QT    T    P\n",
      "0     91  193  371  174  121\n",
      "1     81  174  401  149   39\n",
      "2    138  163  386  185  102\n",
      "3    100  202  380  179  143\n",
      "4     88  181  360  177  103\n",
      "..   ...  ...  ...  ...  ...\n",
      "447   80  199  382  154  117\n",
      "448  100  137  361  201   73\n",
      "449  108  176  365  194  116\n",
      "450   93  106  386  218   63\n",
      "451   79  127  364  138   78\n",
      "\n",
      "[452 rows x 5 columns]\n"
     ]
    }
   ],
   "source": [
    "# Obtenemos la base de datos y la matriz X\n",
    "data =  pd.read_csv('arrhythmia.data', sep=\",\", header=None)\n",
    "X = data.iloc[:, 4:9]\n",
    "X.columns = ['QRS', 'PQ', 'QT', 'T', 'P']\n",
    "print(X)"
   ]
  },
  {
   "cell_type": "markdown",
   "id": "b66c7dfd",
   "metadata": {},
   "source": [
    "El vector \"y\", tiene una serie de etiquetas determinadas por el diagnóstico médico asociado a las mediciones. Por simplicidad, solo nos enfocaremos en distinguir entre exámenes normales de aquellos considerados \"No normales\"."
   ]
  },
  {
   "cell_type": "code",
   "execution_count": 339,
   "id": "18aeaf51",
   "metadata": {},
   "outputs": [
    {
     "name": "stdout",
     "output_type": "stream",
     "text": [
      "Antiguas etiquetas:\n",
      "0     8\n",
      "1     6\n",
      "2    10\n",
      "3     1\n",
      "4     7\n",
      "5    14\n",
      "6     1\n",
      "7     1\n",
      "8     1\n",
      "9    10\n",
      "Name: 279, dtype: int64\n",
      "Nuevas etiquetas:\n",
      "[0, 0, 0, 1, 0, 0, 1, 1, 1, 0]\n"
     ]
    }
   ],
   "source": [
    "# Obtenemos la etiqueta \"y\"\n",
    "Y = data.iloc[:, -1]\n",
    "print('Antiguas etiquetas:')\n",
    "print(Y.head(10))\n",
    "y = []\n",
    "for j in (Y):\n",
    "    # Sabemos que solo las mediciones con etiqueta 1 equivalen a exámenes normales\n",
    "    if int(j) != 1:\n",
    "        y.append(0)\n",
    "    else:\n",
    "        y.append(1)\n",
    "print('Nuevas etiquetas:')\n",
    "print(y[:10])"
   ]
  },
  {
   "cell_type": "markdown",
   "id": "edfa4205",
   "metadata": {},
   "source": [
    "Ahora tenemos con etiqueta 1 los exámenes normales y con etiqueta 0 a los que presentan algún diagnóstico alternativo."
   ]
  },
  {
   "cell_type": "code",
   "execution_count": 340,
   "id": "ec7b90c9",
   "metadata": {},
   "outputs": [
    {
     "data": {
      "text/plain": [
       "(245, 207)"
      ]
     },
     "execution_count": 340,
     "metadata": {},
     "output_type": "execute_result"
    }
   ],
   "source": [
    "y.count(1), y.count(0)"
   ]
  },
  {
   "cell_type": "code",
   "execution_count": 341,
   "id": "ed834f14",
   "metadata": {},
   "outputs": [],
   "source": [
    "X_train, X_test, y_train, y_test = train_test_split(X, y, test_size=0.1, random_state = 1)"
   ]
  },
  {
   "cell_type": "markdown",
   "id": "ed721cce",
   "metadata": {},
   "source": [
    "OJO! el parámetro C se puede definir de forma empírica. Trade off entre complejidad de modelo y cantidad de errores de clasificación permitidos:\n",
    "\n",
    "- C muy alto: Menos complejo y menos errores de clasificación, pero se arriesga sobreajuste.\n",
    "- C muy bajo: Más complejo, más errores de clasificación, pero se arriesga subajuste."
   ]
  },
  {
   "cell_type": "code",
   "execution_count": 342,
   "id": "c4664f87",
   "metadata": {},
   "outputs": [],
   "source": [
    "clf_linear = svm.SVC(kernel='linear', C=1)\n",
    "clf_rbf = svm.SVC(kernel='rbf', C=1)\n",
    "clf_poly = svm.SVC(kernel='poly', C=1)"
   ]
  },
  {
   "cell_type": "code",
   "execution_count": 343,
   "id": "4c5adb47",
   "metadata": {},
   "outputs": [
    {
     "data": {
      "text/plain": [
       "SVC(C=1, kernel='poly')"
      ]
     },
     "execution_count": 343,
     "metadata": {},
     "output_type": "execute_result"
    }
   ],
   "source": [
    "clf_linear.fit(X_train, y_train)\n",
    "clf_rbf.fit(X_train, y_train)\n",
    "clf_poly.fit(X_train, y_train)"
   ]
  },
  {
   "cell_type": "code",
   "execution_count": 344,
   "id": "5f570b4b",
   "metadata": {},
   "outputs": [],
   "source": [
    "y_pred_linear = clf_linear.predict(X_test)\n",
    "y_pred_rbf = clf_rbf.predict(X_test)\n",
    "y_pred_poly = clf_poly.predict(X_test)"
   ]
  },
  {
   "cell_type": "code",
   "execution_count": 345,
   "id": "b39bb8e8",
   "metadata": {},
   "outputs": [
    {
     "name": "stdout",
     "output_type": "stream",
     "text": [
      "Precisión Kernel Lineal: 0.7608695652173914\n",
      "Precisión Kernel Radial basis function: 0.717391304347826\n",
      "Precisión Kernel Polinomial: 0.7391304347826086\n"
     ]
    }
   ],
   "source": [
    "print(f'Precisión Kernel Lineal: {clf_linear.score(X_test, y_test)}')\n",
    "print(f'Precisión Kernel Radial basis function: {clf_rbf.score(X_test, y_test)}')\n",
    "print(f'Precisión Kernel Polinomial: {clf_poly.score(X_test, y_test)}')"
   ]
  },
  {
   "cell_type": "markdown",
   "id": "f4133754",
   "metadata": {},
   "source": [
    "¡SUPER! ya tenemos una precisión aceptable para predecir exámenes anormales o normales, pero... ¿Hemos considerado si las etiquetas están desbalanceadas? \n",
    "A continuación utilizaremos un método de Undersampling denominado Tomek Links"
   ]
  },
  {
   "cell_type": "code",
   "execution_count": 346,
   "id": "0f30971c",
   "metadata": {},
   "outputs": [
    {
     "name": "stdout",
     "output_type": "stream",
     "text": [
      "212 207\n"
     ]
    }
   ],
   "source": [
    "from imblearn.under_sampling import TomekLinks\n",
    "\n",
    "\n",
    "tl = TomekLinks()\n",
    "X_res, y_res = tl.fit_resample(X, y)\n",
    "print(y_res.count(1), y_res.count(0))"
   ]
  },
  {
   "cell_type": "code",
   "execution_count": 347,
   "id": "d7f2d5c9",
   "metadata": {},
   "outputs": [],
   "source": [
    "X_train_res, X_test_res, y_train_res, y_test_res = train_test_split(X_res, y_res, test_size=0.1, random_state = 1)"
   ]
  },
  {
   "cell_type": "code",
   "execution_count": 348,
   "id": "1c0e3af6",
   "metadata": {},
   "outputs": [],
   "source": [
    "clf_linear_res = svm.SVC(kernel='linear', C=1)\n",
    "clf_rbf_res = svm.SVC(kernel='rbf', C=1)\n",
    "clf_poly_res = svm.SVC(kernel='poly', C=1)"
   ]
  },
  {
   "cell_type": "code",
   "execution_count": 349,
   "id": "9f8ab0bf",
   "metadata": {},
   "outputs": [
    {
     "data": {
      "text/plain": [
       "SVC(C=1, kernel='poly')"
      ]
     },
     "execution_count": 349,
     "metadata": {},
     "output_type": "execute_result"
    }
   ],
   "source": [
    "clf_linear_res.fit(X_train_res, y_train_res)\n",
    "clf_rbf_res.fit(X_train_res, y_train_res)\n",
    "clf_poly_res.fit(X_train_res, y_train_res)"
   ]
  },
  {
   "cell_type": "code",
   "execution_count": 350,
   "id": "2aec8fb8",
   "metadata": {},
   "outputs": [],
   "source": [
    "y_pred_linear_res = clf_linear_res.predict(X_test_res)\n",
    "y_pred_rbf_res = clf_rbf_res.predict(X_test_res)\n",
    "y_pred_poly_res = clf_poly_res.predict(X_test_res)"
   ]
  },
  {
   "cell_type": "code",
   "execution_count": 351,
   "id": "4e3eeb85",
   "metadata": {},
   "outputs": [
    {
     "name": "stdout",
     "output_type": "stream",
     "text": [
      "Precisión Kernel Lineal: 0.7619047619047619\n",
      "Precisión Kernel Radial basis function: 0.7380952380952381\n",
      "Precisión Kernel Polinomial: 0.7380952380952381\n"
     ]
    }
   ],
   "source": [
    "print(f'Precisión Kernel Lineal: {clf_linear.score(X_test_res, y_test_res)}')\n",
    "print(f'Precisión Kernel Radial basis function: {clf_rbf.score(X_test_res, y_test_res)}')\n",
    "print(f'Precisión Kernel Polinomial: {clf_poly.score(X_test_res, y_test_res)}')"
   ]
  },
  {
   "cell_type": "markdown",
   "id": "e84bd1f2",
   "metadata": {},
   "source": [
    "Al comparar nuestras predicciones antes y después de realizar el proceso de Undersampling, se tiene:"
   ]
  },
  {
   "cell_type": "code",
   "execution_count": 352,
   "id": "53b9d70f",
   "metadata": {},
   "outputs": [
    {
     "name": "stdout",
     "output_type": "stream",
     "text": [
      "Kernel lineal ANTES de Undersampling\n",
      "              precision    recall  f1-score   support\n",
      "\n",
      "           0       0.77      0.56      0.65        18\n",
      "           1       0.76      0.89      0.82        28\n",
      "\n",
      "    accuracy                           0.76        46\n",
      "   macro avg       0.76      0.72      0.73        46\n",
      "weighted avg       0.76      0.76      0.75        46\n",
      "\n",
      "Kernel lineal DESPUÉS de Undersampling\n",
      "              precision    recall  f1-score   support\n",
      "\n",
      "           0       0.74      0.74      0.74        19\n",
      "           1       0.78      0.78      0.78        23\n",
      "\n",
      "    accuracy                           0.76        42\n",
      "   macro avg       0.76      0.76      0.76        42\n",
      "weighted avg       0.76      0.76      0.76        42\n",
      "\n"
     ]
    }
   ],
   "source": [
    "from sklearn.metrics import classification_report\n",
    "\n",
    "\n",
    "print('Kernel lineal ANTES de Undersampling')\n",
    "print(classification_report(y_test, y_pred_linear))\n",
    "print('Kernel lineal DESPUÉS de Undersampling')\n",
    "print(classification_report(y_test_res, y_pred_linear_res))"
   ]
  },
  {
   "cell_type": "code",
   "execution_count": 353,
   "id": "c26170b5",
   "metadata": {},
   "outputs": [
    {
     "name": "stdout",
     "output_type": "stream",
     "text": [
      "Kernel RBF (Radial Basis Function) ANTES de Undersampling\n",
      "              precision    recall  f1-score   support\n",
      "\n",
      "           0       0.78      0.39      0.52        18\n",
      "           1       0.70      0.93      0.80        28\n",
      "\n",
      "    accuracy                           0.72        46\n",
      "   macro avg       0.74      0.66      0.66        46\n",
      "weighted avg       0.73      0.72      0.69        46\n",
      "\n",
      "Kernel RBF (Radial Basis Function) DESPUÉS de Undersampling\n",
      "              precision    recall  f1-score   support\n",
      "\n",
      "           0       0.77      0.53      0.62        19\n",
      "           1       0.69      0.87      0.77        23\n",
      "\n",
      "    accuracy                           0.71        42\n",
      "   macro avg       0.73      0.70      0.70        42\n",
      "weighted avg       0.73      0.71      0.70        42\n",
      "\n"
     ]
    }
   ],
   "source": [
    "print('Kernel RBF (Radial Basis Function) ANTES de Undersampling')\n",
    "print(classification_report(y_test, y_pred_rbf))\n",
    "print('Kernel RBF (Radial Basis Function) DESPUÉS de Undersampling')\n",
    "print(classification_report(y_test_res, y_pred_rbf_res))"
   ]
  },
  {
   "cell_type": "code",
   "execution_count": 354,
   "id": "d32f12e8",
   "metadata": {},
   "outputs": [
    {
     "name": "stdout",
     "output_type": "stream",
     "text": [
      "Kernel Polinomial ANTES de Undersampling\n",
      "              precision    recall  f1-score   support\n",
      "\n",
      "           0       0.80      0.44      0.57        18\n",
      "           1       0.72      0.93      0.81        28\n",
      "\n",
      "    accuracy                           0.74        46\n",
      "   macro avg       0.76      0.69      0.69        46\n",
      "weighted avg       0.75      0.74      0.72        46\n",
      "\n",
      "Kernel Polinomial DESPUÉS de Undersampling\n",
      "              precision    recall  f1-score   support\n",
      "\n",
      "           0       0.75      0.63      0.69        19\n",
      "           1       0.73      0.83      0.78        23\n",
      "\n",
      "    accuracy                           0.74        42\n",
      "   macro avg       0.74      0.73      0.73        42\n",
      "weighted avg       0.74      0.74      0.73        42\n",
      "\n"
     ]
    }
   ],
   "source": [
    "print('Kernel Polinomial ANTES de Undersampling')\n",
    "print(classification_report(y_test, y_pred_poly))\n",
    "print('Kernel Polinomial DESPUÉS de Undersampling')\n",
    "print(classification_report(y_test_res, y_pred_poly_res))"
   ]
  },
  {
   "cell_type": "markdown",
   "id": "ff47e967",
   "metadata": {},
   "source": [
    "En general, los valores más aceptables se obtienen para el caso de kernel lineal con Undersampling. Ahora bien, seguramente te preguntas \"¿Y si quiero utilizar técnicas de Oversampling?\""
   ]
  },
  {
   "cell_type": "code",
   "execution_count": 355,
   "id": "26a5eefd",
   "metadata": {},
   "outputs": [
    {
     "name": "stdout",
     "output_type": "stream",
     "text": [
      "Data original: 245 207\n",
      "Undersampling: 212 207\n",
      "Oversampling: 245 245\n"
     ]
    }
   ],
   "source": [
    "from imblearn.over_sampling import SMOTE\n",
    "\n",
    "\n",
    "sm = SMOTE()\n",
    "X_oversm, y_oversm = sm.fit_resample(X, y)\n",
    "\n",
    "print('Data original:', y.count(1), y.count(0))\n",
    "print('Undersampling:', y_res.count(1), y_res.count(0))\n",
    "print('Oversampling:', y_oversm.count(1), y_oversm.count(0))"
   ]
  },
  {
   "cell_type": "code",
   "execution_count": 356,
   "id": "9400f16b",
   "metadata": {},
   "outputs": [],
   "source": [
    "X_train_oversm, X_test_oversm, y_train_oversm, y_test_oversm = train_test_split(X_oversm, y_oversm, test_size=0.1, random_state = 1)\n",
    "clf_linear_oversm = svm.SVC(kernel='linear', C=1)\n",
    "clf_linear_oversm.fit(X_train_oversm, y_train_oversm)\n",
    "y_pred_linear_oversm = clf_linear_oversm.predict(X_test_oversm)\n"
   ]
  },
  {
   "cell_type": "code",
   "execution_count": 357,
   "id": "038bba27",
   "metadata": {},
   "outputs": [
    {
     "name": "stdout",
     "output_type": "stream",
     "text": [
      "Kernel lineal con Undersampling\n",
      "              precision    recall  f1-score   support\n",
      "\n",
      "           0       0.74      0.74      0.74        19\n",
      "           1       0.78      0.78      0.78        23\n",
      "\n",
      "    accuracy                           0.76        42\n",
      "   macro avg       0.76      0.76      0.76        42\n",
      "weighted avg       0.76      0.76      0.76        42\n",
      "\n",
      "Kernel lineal con Oversampling\n",
      "              precision    recall  f1-score   support\n",
      "\n",
      "           0       0.78      0.52      0.62        27\n",
      "           1       0.58      0.82      0.68        22\n",
      "\n",
      "    accuracy                           0.65        49\n",
      "   macro avg       0.68      0.67      0.65        49\n",
      "weighted avg       0.69      0.65      0.65        49\n",
      "\n"
     ]
    }
   ],
   "source": [
    "print('Kernel lineal con Undersampling')\n",
    "print(classification_report(y_test_res, y_pred_linear_res))\n",
    "print('Kernel lineal con Oversampling')\n",
    "print(classification_report(y_test_oversm, y_pred_linear_oversm))"
   ]
  }
 ],
 "metadata": {
  "kernelspec": {
   "display_name": "Python 3 (ipykernel)",
   "language": "python",
   "name": "python3"
  },
  "language_info": {
   "codemirror_mode": {
    "name": "ipython",
    "version": 3
   },
   "file_extension": ".py",
   "mimetype": "text/x-python",
   "name": "python",
   "nbconvert_exporter": "python",
   "pygments_lexer": "ipython3",
   "version": "3.9.12"
  }
 },
 "nbformat": 4,
 "nbformat_minor": 5
}
