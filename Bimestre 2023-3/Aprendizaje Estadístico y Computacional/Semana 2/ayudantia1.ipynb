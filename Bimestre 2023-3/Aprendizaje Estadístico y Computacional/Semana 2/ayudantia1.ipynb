{
  "cells": [
    {
      "cell_type": "code",
      "execution_count": 13,
      "metadata": {
        "id": "eonEOKUA6iZg"
      },
      "outputs": [],
      "source": [
        "# Importar las bibliotecas necesarias\n",
        "import pandas as pd\n",
        "import matplotlib.pyplot as plt\n",
        "from sklearn.model_selection import train_test_split\n",
        "from sklearn.linear_model import LinearRegression, LogisticRegression\n",
        "from sklearn.metrics import mean_squared_error, r2_score, accuracy_score, confusion_matrix, roc_auc_score\n",
        "from sklearn.preprocessing import StandardScaler\n",
        "import statsmodels.api as sm"
      ]
    },
    {
      "cell_type": "code",
      "execution_count": 2,
      "metadata": {
        "id": "KTnWimXJ6n2D"
      },
      "outputs": [],
      "source": [
        "\n",
        "# Cargar los datos\n",
        "file_csv= 'datos/datos_pacientes.csv'\n",
        "data = pd.read_csv(file_csv)\n",
        "\n",
        "\n"
      ]
    },
    {
      "cell_type": "code",
      "execution_count": 3,
      "metadata": {
        "colab": {
          "base_uri": "https://localhost:8080/",
          "height": 363
        },
        "id": "J4ajgDpa7W3_",
        "outputId": "100a1b78-02dc-468b-f686-d95a1354bb52"
      },
      "outputs": [
        {
          "data": {
            "text/html": [
              "<div>\n",
              "<style scoped>\n",
              "    .dataframe tbody tr th:only-of-type {\n",
              "        vertical-align: middle;\n",
              "    }\n",
              "\n",
              "    .dataframe tbody tr th {\n",
              "        vertical-align: top;\n",
              "    }\n",
              "\n",
              "    .dataframe thead th {\n",
              "        text-align: right;\n",
              "    }\n",
              "</style>\n",
              "<table border=\"1\" class=\"dataframe\">\n",
              "  <thead>\n",
              "    <tr style=\"text-align: right;\">\n",
              "      <th></th>\n",
              "      <th>Edad</th>\n",
              "      <th>Peso</th>\n",
              "      <th>Presion_Arterial</th>\n",
              "      <th>Nivel_Colesterol</th>\n",
              "      <th>Diagnostico</th>\n",
              "    </tr>\n",
              "  </thead>\n",
              "  <tbody>\n",
              "    <tr>\n",
              "      <th>0</th>\n",
              "      <td>54.395244</td>\n",
              "      <td>59.271367</td>\n",
              "      <td>136.110184</td>\n",
              "      <td>112.378250</td>\n",
              "      <td>1</td>\n",
              "    </tr>\n",
              "    <tr>\n",
              "      <th>1</th>\n",
              "      <td>57.698225</td>\n",
              "      <td>58.709665</td>\n",
              "      <td>119.589796</td>\n",
              "      <td>107.449293</td>\n",
              "      <td>0</td>\n",
              "    </tr>\n",
              "    <tr>\n",
              "      <th>2</th>\n",
              "      <td>75.587083</td>\n",
              "      <td>55.921919</td>\n",
              "      <td>119.500045</td>\n",
              "      <td>124.237700</td>\n",
              "      <td>1</td>\n",
              "    </tr>\n",
              "    <tr>\n",
              "      <th>3</th>\n",
              "      <td>60.705084</td>\n",
              "      <td>54.212301</td>\n",
              "      <td>97.258986</td>\n",
              "      <td>122.389077</td>\n",
              "      <td>1</td>\n",
              "    </tr>\n",
              "    <tr>\n",
              "      <th>4</th>\n",
              "      <td>61.292877</td>\n",
              "      <td>63.442607</td>\n",
              "      <td>131.855780</td>\n",
              "      <td>132.473402</td>\n",
              "      <td>1</td>\n",
              "    </tr>\n",
              "    <tr>\n",
              "      <th>5</th>\n",
              "      <td>77.150650</td>\n",
              "      <td>74.967688</td>\n",
              "      <td>116.838987</td>\n",
              "      <td>110.325476</td>\n",
              "      <td>1</td>\n",
              "    </tr>\n",
              "    <tr>\n",
              "      <th>6</th>\n",
              "      <td>64.609162</td>\n",
              "      <td>39.786843</td>\n",
              "      <td>110.148856</td>\n",
              "      <td>124.759037</td>\n",
              "      <td>1</td>\n",
              "    </tr>\n",
              "    <tr>\n",
              "      <th>7</th>\n",
              "      <td>47.349388</td>\n",
              "      <td>73.179707</td>\n",
              "      <td>98.819613</td>\n",
              "      <td>98.492998</td>\n",
              "      <td>0</td>\n",
              "    </tr>\n",
              "    <tr>\n",
              "      <th>8</th>\n",
              "      <td>53.131471</td>\n",
              "      <td>88.550126</td>\n",
              "      <td>115.503563</td>\n",
              "      <td>108.994334</td>\n",
              "      <td>0</td>\n",
              "    </tr>\n",
              "    <tr>\n",
              "      <th>9</th>\n",
              "      <td>55.543380</td>\n",
              "      <td>100.563610</td>\n",
              "      <td>107.264083</td>\n",
              "      <td>102.785948</td>\n",
              "      <td>0</td>\n",
              "    </tr>\n",
              "  </tbody>\n",
              "</table>\n",
              "</div>"
            ],
            "text/plain": [
              "        Edad        Peso  Presion_Arterial  Nivel_Colesterol  Diagnostico\n",
              "0  54.395244   59.271367        136.110184        112.378250            1\n",
              "1  57.698225   58.709665        119.589796        107.449293            0\n",
              "2  75.587083   55.921919        119.500045        124.237700            1\n",
              "3  60.705084   54.212301         97.258986        122.389077            1\n",
              "4  61.292877   63.442607        131.855780        132.473402            1\n",
              "5  77.150650   74.967688        116.838987        110.325476            1\n",
              "6  64.609162   39.786843        110.148856        124.759037            1\n",
              "7  47.349388   73.179707         98.819613         98.492998            0\n",
              "8  53.131471   88.550126        115.503563        108.994334            0\n",
              "9  55.543380  100.563610        107.264083        102.785948            0"
            ]
          },
          "execution_count": 3,
          "metadata": {},
          "output_type": "execute_result"
        }
      ],
      "source": [
        "data.head(10)"
      ]
    },
    {
      "cell_type": "code",
      "execution_count": 4,
      "metadata": {
        "colab": {
          "base_uri": "https://localhost:8080/",
          "height": 452
        },
        "id": "r14iu4Dr7w2L",
        "outputId": "9bf02423-5ffe-4b90-d1ea-46a68c572efe"
      },
      "outputs": [
        {
          "data": {
            "image/png": "[encoded data removed]",
            "text/plain": [
              "<Figure size 640x480 with 1 Axes>"
            ]
          },
          "metadata": {},
          "output_type": "display_data"
        }
      ],
      "source": [
        "\n",
        "# Visualizar los boxplots de las variables continuas\n",
        "continuous_variables = ['Edad', 'Peso', 'Presion_Arterial', 'Nivel_Colesterol']\n",
        "data[continuous_variables].boxplot()\n",
        "plt.title('Boxplots de Variables Continuas')\n",
        "plt.show()\n"
      ]
    },
    {
      "cell_type": "code",
      "execution_count": 6,
      "metadata": {
        "colab": {
          "base_uri": "https://localhost:8080/",
          "height": 473
        },
        "id": "wgrDyC_ABt4v",
        "outputId": "f14fa4ca-8b68-41c3-df6a-6e568c8d289f"
      },
      "outputs": [
        {
          "data": {
            "image/png": "[encoded data removed]",
            "text/plain": [
              "<Figure size 640x480 with 1 Axes>"
            ]
          },
          "metadata": {},
          "output_type": "display_data"
        }
      ],
      "source": [
        "# Contar la frecuencia de cada valor en la columna 'Diagnostico'\n",
        "diagnosis_counts = data['Diagnostico'].value_counts()\n",
        "\n",
        "# Crear un gráfico de barras\n",
        "plt.bar(diagnosis_counts.index, diagnosis_counts.values)\n",
        "\n",
        "# Añadir etiquetas y título\n",
        "plt.xlabel('Diagnóstico')\n",
        "plt.ylabel('Frecuencia')\n",
        "plt.title('Distribución de los Datos de Diagnóstico')\n",
        "\n",
        "# Mostrar el gráfico\n",
        "plt.show()"
      ]
    },
    {
      "cell_type": "code",
      "execution_count": 10,
      "metadata": {
        "id": "i465w7Pp7yB9"
      },
      "outputs": [],
      "source": [
        "\n",
        "# Estandarizar las variables\n",
        "scaler = StandardScaler()\n",
        "data_scaled = data.copy()\n",
        "data_scaled[continuous_variables] = scaler.fit_transform(data[continuous_variables])"
      ]
    },
    {
      "cell_type": "code",
      "execution_count": 11,
      "metadata": {},
      "outputs": [
        {
          "data": {
            "text/html": [
              "<div>\n",
              "<style scoped>\n",
              "    .dataframe tbody tr th:only-of-type {\n",
              "        vertical-align: middle;\n",
              "    }\n",
              "\n",
              "    .dataframe tbody tr th {\n",
              "        vertical-align: top;\n",
              "    }\n",
              "\n",
              "    .dataframe thead th {\n",
              "        text-align: right;\n",
              "    }\n",
              "</style>\n",
              "<table border=\"1\" class=\"dataframe\">\n",
              "  <thead>\n",
              "    <tr style=\"text-align: right;\">\n",
              "      <th></th>\n",
              "      <th>Edad</th>\n",
              "      <th>Peso</th>\n",
              "      <th>Presion_Arterial</th>\n",
              "      <th>Nivel_Colesterol</th>\n",
              "    </tr>\n",
              "  </thead>\n",
              "  <tbody>\n",
              "    <tr>\n",
              "      <th>0</th>\n",
              "      <td>54.395244</td>\n",
              "      <td>59.271367</td>\n",
              "      <td>136.110184</td>\n",
              "      <td>112.378250</td>\n",
              "    </tr>\n",
              "    <tr>\n",
              "      <th>1</th>\n",
              "      <td>57.698225</td>\n",
              "      <td>58.709665</td>\n",
              "      <td>119.589796</td>\n",
              "      <td>107.449293</td>\n",
              "    </tr>\n",
              "    <tr>\n",
              "      <th>2</th>\n",
              "      <td>75.587083</td>\n",
              "      <td>55.921919</td>\n",
              "      <td>119.500045</td>\n",
              "      <td>124.237700</td>\n",
              "    </tr>\n",
              "    <tr>\n",
              "      <th>3</th>\n",
              "      <td>60.705084</td>\n",
              "      <td>54.212301</td>\n",
              "      <td>97.258986</td>\n",
              "      <td>122.389077</td>\n",
              "    </tr>\n",
              "    <tr>\n",
              "      <th>4</th>\n",
              "      <td>61.292877</td>\n",
              "      <td>63.442607</td>\n",
              "      <td>131.855780</td>\n",
              "      <td>132.473402</td>\n",
              "    </tr>\n",
              "    <tr>\n",
              "      <th>...</th>\n",
              "      <td>...</td>\n",
              "      <td>...</td>\n",
              "      <td>...</td>\n",
              "      <td>...</td>\n",
              "    </tr>\n",
              "    <tr>\n",
              "      <th>295</th>\n",
              "      <td>60.667009</td>\n",
              "      <td>52.661252</td>\n",
              "      <td>109.484946</td>\n",
              "      <td>111.510573</td>\n",
              "    </tr>\n",
              "    <tr>\n",
              "      <th>296</th>\n",
              "      <td>78.668518</td>\n",
              "      <td>68.092771</td>\n",
              "      <td>123.615689</td>\n",
              "      <td>132.495006</td>\n",
              "    </tr>\n",
              "    <tr>\n",
              "      <th>297</th>\n",
              "      <td>46.490973</td>\n",
              "      <td>40.877224</td>\n",
              "      <td>114.713202</td>\n",
              "      <td>99.617444</td>\n",
              "    </tr>\n",
              "    <tr>\n",
              "      <th>298</th>\n",
              "      <td>60.209836</td>\n",
              "      <td>87.717713</td>\n",
              "      <td>125.567219</td>\n",
              "      <td>108.076851</td>\n",
              "    </tr>\n",
              "    <tr>\n",
              "      <th>299</th>\n",
              "      <td>72.499146</td>\n",
              "      <td>97.898663</td>\n",
              "      <td>123.652991</td>\n",
              "      <td>111.504600</td>\n",
              "    </tr>\n",
              "  </tbody>\n",
              "</table>\n",
              "<p>300 rows × 4 columns</p>\n",
              "</div>"
            ],
            "text/plain": [
              "          Edad       Peso  Presion_Arterial  Nivel_Colesterol\n",
              "0    54.395244  59.271367        136.110184        112.378250\n",
              "1    57.698225  58.709665        119.589796        107.449293\n",
              "2    75.587083  55.921919        119.500045        124.237700\n",
              "3    60.705084  54.212301         97.258986        122.389077\n",
              "4    61.292877  63.442607        131.855780        132.473402\n",
              "..         ...        ...               ...               ...\n",
              "295  60.667009  52.661252        109.484946        111.510573\n",
              "296  78.668518  68.092771        123.615689        132.495006\n",
              "297  46.490973  40.877224        114.713202         99.617444\n",
              "298  60.209836  87.717713        125.567219        108.076851\n",
              "299  72.499146  97.898663        123.652991        111.504600\n",
              "\n",
              "[300 rows x 4 columns]"
            ]
          },
          "execution_count": 11,
          "metadata": {},
          "output_type": "execute_result"
        }
      ],
      "source": [
        "data[continuous_variables]"
      ]
    },
    {
      "cell_type": "code",
      "execution_count": 12,
      "metadata": {},
      "outputs": [
        {
          "data": {
            "text/html": [
              "<div>\n",
              "<style scoped>\n",
              "    .dataframe tbody tr th:only-of-type {\n",
              "        vertical-align: middle;\n",
              "    }\n",
              "\n",
              "    .dataframe tbody tr th {\n",
              "        vertical-align: top;\n",
              "    }\n",
              "\n",
              "    .dataframe thead th {\n",
              "        text-align: right;\n",
              "    }\n",
              "</style>\n",
              "<table border=\"1\" class=\"dataframe\">\n",
              "  <thead>\n",
              "    <tr style=\"text-align: right;\">\n",
              "      <th></th>\n",
              "      <th>Edad</th>\n",
              "      <th>Peso</th>\n",
              "      <th>Presion_Arterial</th>\n",
              "      <th>Nivel_Colesterol</th>\n",
              "    </tr>\n",
              "  </thead>\n",
              "  <tbody>\n",
              "    <tr>\n",
              "      <th>0</th>\n",
              "      <td>-0.630074</td>\n",
              "      <td>-0.733736</td>\n",
              "      <td>1.024889</td>\n",
              "      <td>-0.123827</td>\n",
              "    </tr>\n",
              "    <tr>\n",
              "      <th>1</th>\n",
              "      <td>-0.280257</td>\n",
              "      <td>-0.771668</td>\n",
              "      <td>-0.042602</td>\n",
              "      <td>-0.498183</td>\n",
              "    </tr>\n",
              "    <tr>\n",
              "      <th>2</th>\n",
              "      <td>1.614344</td>\n",
              "      <td>-0.959926</td>\n",
              "      <td>-0.048401</td>\n",
              "      <td>0.776903</td>\n",
              "    </tr>\n",
              "    <tr>\n",
              "      <th>3</th>\n",
              "      <td>0.038198</td>\n",
              "      <td>-1.075377</td>\n",
              "      <td>-1.485541</td>\n",
              "      <td>0.636500</td>\n",
              "    </tr>\n",
              "    <tr>\n",
              "      <th>4</th>\n",
              "      <td>0.100451</td>\n",
              "      <td>-0.452051</td>\n",
              "      <td>0.749984</td>\n",
              "      <td>1.402408</td>\n",
              "    </tr>\n",
              "    <tr>\n",
              "      <th>...</th>\n",
              "      <td>...</td>\n",
              "      <td>...</td>\n",
              "      <td>...</td>\n",
              "      <td>...</td>\n",
              "    </tr>\n",
              "    <tr>\n",
              "      <th>295</th>\n",
              "      <td>0.034166</td>\n",
              "      <td>-1.180120</td>\n",
              "      <td>-0.695542</td>\n",
              "      <td>-0.189727</td>\n",
              "    </tr>\n",
              "    <tr>\n",
              "      <th>296</th>\n",
              "      <td>1.940697</td>\n",
              "      <td>-0.138023</td>\n",
              "      <td>0.217538</td>\n",
              "      <td>1.404049</td>\n",
              "    </tr>\n",
              "    <tr>\n",
              "      <th>297</th>\n",
              "      <td>-1.467211</td>\n",
              "      <td>-1.975900</td>\n",
              "      <td>-0.357710</td>\n",
              "      <td>-1.093016</td>\n",
              "    </tr>\n",
              "    <tr>\n",
              "      <th>298</th>\n",
              "      <td>-0.014253</td>\n",
              "      <td>1.187257</td>\n",
              "      <td>0.343639</td>\n",
              "      <td>-0.450520</td>\n",
              "    </tr>\n",
              "    <tr>\n",
              "      <th>299</th>\n",
              "      <td>1.287302</td>\n",
              "      <td>1.874781</td>\n",
              "      <td>0.219948</td>\n",
              "      <td>-0.190181</td>\n",
              "    </tr>\n",
              "  </tbody>\n",
              "</table>\n",
              "<p>300 rows × 4 columns</p>\n",
              "</div>"
            ],
            "text/plain": [
              "         Edad      Peso  Presion_Arterial  Nivel_Colesterol\n",
              "0   -0.630074 -0.733736          1.024889         -0.123827\n",
              "1   -0.280257 -0.771668         -0.042602         -0.498183\n",
              "2    1.614344 -0.959926         -0.048401          0.776903\n",
              "3    0.038198 -1.075377         -1.485541          0.636500\n",
              "4    0.100451 -0.452051          0.749984          1.402408\n",
              "..        ...       ...               ...               ...\n",
              "295  0.034166 -1.180120         -0.695542         -0.189727\n",
              "296  1.940697 -0.138023          0.217538          1.404049\n",
              "297 -1.467211 -1.975900         -0.357710         -1.093016\n",
              "298 -0.014253  1.187257          0.343639         -0.450520\n",
              "299  1.287302  1.874781          0.219948         -0.190181\n",
              "\n",
              "[300 rows x 4 columns]"
            ]
          },
          "execution_count": 12,
          "metadata": {},
          "output_type": "execute_result"
        }
      ],
      "source": [
        "data_scaled[continuous_variables]"
      ]
    },
    {
      "cell_type": "code",
      "execution_count": 29,
      "metadata": {
        "colab": {
          "base_uri": "https://localhost:8080/",
          "height": 452
        },
        "id": "J66_xwGq9EDS",
        "outputId": "9dbf84ce-e021-4702-97ff-d485f38e06f2"
      },
      "outputs": [
        {
          "data": {
            "image/png": "[encoded data removed]",
            "text/plain": [
              "<Figure size 640x480 with 1 Axes>"
            ]
          },
          "metadata": {},
          "output_type": "display_data"
        }
      ],
      "source": [
        "# Visualizar los boxplots de las variables continuas\n",
        "data_scaled[continuous_variables].boxplot()\n",
        "plt.title('Boxplots de Variables Continuas')\n",
        "plt.show()"
      ]
    },
    {
      "cell_type": "markdown",
      "metadata": {
        "id": "6F_FqnAjqFhw"
      },
      "source": [
        "## Regresión Lineal Multiple"
      ]
    },
    {
      "cell_type": "code",
      "execution_count": 30,
      "metadata": {
        "id": "e7aV9wzl6rKc"
      },
      "outputs": [],
      "source": [
        "\n",
        "# Dividir los datos en entrenamiento y prueba\n",
        "X_linear = data_scaled[['Edad', 'Peso', 'Presion_Arterial']]\n",
        "y_linear = data_scaled['Nivel_Colesterol']\n",
        "X_train_linear, X_test_linear, y_train_linear, y_test_linear = train_test_split(X_linear, y_linear, test_size=0.2, random_state=12)\n"
      ]
    },
    {
      "cell_type": "code",
      "execution_count": 31,
      "metadata": {
        "id": "tyyq51z39LhC"
      },
      "outputs": [],
      "source": [
        "# Crear y ajustar el modelo\n",
        "linear_model = LinearRegression()\n",
        "linear_model.fit(X_train_linear, y_train_linear)\n",
        "y_pred_linear = linear_model.predict(X_test_linear)"
      ]
    },
    {
      "cell_type": "code",
      "execution_count": 32,
      "metadata": {
        "colab": {
          "base_uri": "https://localhost:8080/"
        },
        "id": "NXEYcWpj6ulF",
        "outputId": "d84aab4c-4df1-49a3-9ebb-3bc252665cb3"
      },
      "outputs": [
        {
          "name": "stdout",
          "output_type": "stream",
          "text": [
            "Regresión Lineal - R^2: 0.3278173914478336 MSE: 0.5654431744172526\n"
          ]
        }
      ],
      "source": [
        "\n",
        "# Calcular R^2 y MSE\n",
        "r2_linear = r2_score(y_test_linear, y_pred_linear)\n",
        "mse_linear = mean_squared_error(y_test_linear, y_pred_linear)\n",
        "\n",
        "# Imprimir resultados\n",
        "print(\"Regresión Lineal - R^2:\", r2_linear, \"MSE:\", mse_linear)"
      ]
    },
    {
      "cell_type": "markdown",
      "metadata": {
        "id": "fkMgct3ZqAUB"
      },
      "source": [
        "## Regresión Logística"
      ]
    },
    {
      "cell_type": "code",
      "execution_count": 33,
      "metadata": {
        "id": "dwCfoR-F6xU2"
      },
      "outputs": [],
      "source": [
        "# Regresión Logística\n",
        "# Dividir los datos en entrenamiento y prueba\n",
        "X_logistic = data_scaled[['Edad', 'Peso', 'Presion_Arterial', 'Nivel_Colesterol']]\n",
        "y_logistic = data['Diagnostico']\n",
        "X_train_logistic, X_test_logistic, y_train_logistic, y_test_logistic = train_test_split(X_logistic, y_logistic, test_size=0.2, random_state=42)\n",
        "\n",
        "# Crear y ajustar el modelo\n",
        "logistic_model = LogisticRegression()\n",
        "logistic_model.fit(X_train_logistic, y_train_logistic)\n",
        "y_pred_logistic = logistic_model.predict(X_test_logistic)\n"
      ]
    },
    {
      "cell_type": "code",
      "execution_count": 34,
      "metadata": {
        "id": "FkFWr6dB60XC"
      },
      "outputs": [],
      "source": [
        "\n",
        "# Calcular precisión, matriz de confusión y AUC\n",
        "accuracy_logistic = accuracy_score(y_test_logistic, y_pred_logistic)\n",
        "confusion_mat_logistic = confusion_matrix(y_test_logistic, y_pred_logistic)\n",
        "auc_logistic = roc_auc_score(y_test_logistic, y_pred_logistic)\n"
      ]
    },
    {
      "cell_type": "code",
      "execution_count": 35,
      "metadata": {
        "colab": {
          "base_uri": "https://localhost:8080/"
        },
        "id": "DmKZr0YO620R",
        "outputId": "f120e0a8-8ae4-4e54-d0f1-964d6720e478"
      },
      "outputs": [
        {
          "name": "stdout",
          "output_type": "stream",
          "text": [
            "Regresión Logística - Precisión: 0.9833333333333333\n",
            "Regresión Logística - Matriz de Confusión: [[34  1]\n",
            " [ 0 25]]\n",
            "Regresión Logística - AUC: 0.9857142857142857\n"
          ]
        }
      ],
      "source": [
        "\n",
        "# Imprimir resultados\n",
        "print(\"Regresión Logística - Precisión:\", accuracy_logistic)\n",
        "print(\"Regresión Logística - Matriz de Confusión:\", confusion_mat_logistic)\n",
        "print(\"Regresión Logística - AUC:\", auc_logistic)"
      ]
    },
    {
      "cell_type": "markdown",
      "metadata": {
        "id": "m0fmUXc57Ca6"
      },
      "source": [
        "# Nueva sección"
      ]
    }
  ],
  "metadata": {
    "colab": {
      "provenance": []
    },
    "kernelspec": {
      "display_name": "Python 3",
      "language": "python",
      "name": "python3"
    },
    "language_info": {
      "codemirror_mode": {
        "name": "ipython",
        "version": 3
      },
      "file_extension": ".py",
      "mimetype": "text/x-python",
      "name": "python",
      "nbconvert_exporter": "python",
      "pygments_lexer": "ipython3",
      "version": "3.11.3"
    },
    "vscode": {
      "interpreter": {
        "hash": "573546c1eada8c60b27f5300df4435af9ba2007194c80719d45c24c6ea4a493c"
      }
    }
  },
  "nbformat": 4,
  "nbformat_minor": 0
}
