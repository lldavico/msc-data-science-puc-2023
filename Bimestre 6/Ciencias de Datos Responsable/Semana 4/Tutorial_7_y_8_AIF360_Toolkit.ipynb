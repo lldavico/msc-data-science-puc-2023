{
  "cells": [
    {
      "cell_type": "markdown",
      "metadata": {
        "id": "oFYSEWjrpAKZ"
      },
      "source": [
        "<center><h1> MCD - Ciencia de Datos Responsable </h1><center>\n",
        "<center><h2> Tutorial 6: AIF360 Toolkit<h2></center>\n",
        "\n",
        "\n",
        "![AIF360](https://opengraph.githubassets.com/4b7ff9fccf4e6cafd9e59f42921b31a0f7f6696b009c8519e584be278094769d/Trusted-AI/AIF360)"
      ]
    },
    {
      "cell_type": "code",
      "execution_count": null,
      "metadata": {
        "id": "QUzbzPo-uKDY"
      },
      "outputs": [],
      "source": [
        "#@title Instalar la librería\n",
        "%%capture\n",
        "!pip install aif360['all']"
      ]
    },
    {
      "cell_type": "code",
      "execution_count": null,
      "metadata": {
        "colab": {
          "base_uri": "https://localhost:8080/"
        },
        "id": "Ow1qvDLLu8li",
        "outputId": "8902aba5-beee-4d94-b5ec-245d4ce9d340"
      },
      "outputs": [
        {
          "name": "stderr",
          "output_type": "stream",
          "text": [
            "Using `tqdm.autonotebook.tqdm` in notebook mode. Use `tqdm.tqdm` instead to force console mode (e.g. in jupyter console)\n"
          ]
        }
      ],
      "source": [
        "#@title Importación de librerías\n",
        "\n",
        "\n",
        "# elementales\n",
        "\n",
        "import numpy as np\n",
        "import pandas as pd\n",
        "from matplotlib import pyplot as plt\n",
        "%matplotlib inline\n",
        "\n",
        "import seaborn as sns\n",
        "\n",
        "# sklearn\n",
        "\n",
        "from sklearn.linear_model import LogisticRegressionCV, LogisticRegression\n",
        "from sklearn.model_selection import train_test_split, GridSearchCV\n",
        "from sklearn.metrics import accuracy_score, confusion_matrix, plot_roc_curve, recall_score, precision_score, f1_score, roc_auc_score, roc_curve\n",
        "\n",
        "# aif360\n",
        "\n",
        "from aif360.sklearn.datasets import fetch_german\n",
        "from aif360.metrics import BinaryLabelDatasetMetric, ClassificationMetric\n",
        "from aif360.datasets import BinaryLabelDataset, StandardDataset\n",
        "\n"
      ]
    },
    {
      "cell_type": "markdown",
      "metadata": {
        "id": "DVHzMS1jzv3e"
      },
      "source": [
        "## Obtención y manipulación de los datos"
      ]
    },
    {
      "cell_type": "markdown",
      "metadata": {
        "id": "7ZU5n2qI0gBC"
      },
      "source": [
        "Estaremos utilizando el dataset 'German Credit Data'."
      ]
    },
    {
      "cell_type": "code",
      "execution_count": null,
      "metadata": {
        "colab": {
          "base_uri": "https://localhost:8080/",
          "height": 339
        },
        "id": "WGkk12m4zFsF",
        "outputId": "e5922b71-f2b9-4111-d5e5-65a39dc24354"
      },
      "outputs": [
        {
          "data": {
            "text/html": [
              "\n",
              "  <div id=\"df-be76af23-ee60-471b-9c77-79a30b14330b\" class=\"colab-df-container\">\n",
              "    <div>\n",
              "<style scoped>\n",
              "    .dataframe tbody tr th:only-of-type {\n",
              "        vertical-align: middle;\n",
              "    }\n",
              "\n",
              "    .dataframe tbody tr th {\n",
              "        vertical-align: top;\n",
              "    }\n",
              "\n",
              "    .dataframe thead th {\n",
              "        text-align: right;\n",
              "    }\n",
              "</style>\n",
              "<table border=\"1\" class=\"dataframe\">\n",
              "  <thead>\n",
              "    <tr style=\"text-align: right;\">\n",
              "      <th></th>\n",
              "      <th></th>\n",
              "      <th></th>\n",
              "      <th>checking_status</th>\n",
              "      <th>duration</th>\n",
              "      <th>credit_history</th>\n",
              "      <th>purpose</th>\n",
              "      <th>credit_amount</th>\n",
              "      <th>savings_status</th>\n",
              "      <th>employment</th>\n",
              "      <th>installment_commitment</th>\n",
              "      <th>other_parties</th>\n",
              "      <th>residence_since</th>\n",
              "      <th>...</th>\n",
              "      <th>age</th>\n",
              "      <th>other_payment_plans</th>\n",
              "      <th>housing</th>\n",
              "      <th>existing_credits</th>\n",
              "      <th>job</th>\n",
              "      <th>num_dependents</th>\n",
              "      <th>own_telephone</th>\n",
              "      <th>foreign_worker</th>\n",
              "      <th>sex</th>\n",
              "      <th>marital_status</th>\n",
              "    </tr>\n",
              "    <tr>\n",
              "      <th>sex</th>\n",
              "      <th>age</th>\n",
              "      <th>foreign_worker</th>\n",
              "      <th></th>\n",
              "      <th></th>\n",
              "      <th></th>\n",
              "      <th></th>\n",
              "      <th></th>\n",
              "      <th></th>\n",
              "      <th></th>\n",
              "      <th></th>\n",
              "      <th></th>\n",
              "      <th></th>\n",
              "      <th></th>\n",
              "      <th></th>\n",
              "      <th></th>\n",
              "      <th></th>\n",
              "      <th></th>\n",
              "      <th></th>\n",
              "      <th></th>\n",
              "      <th></th>\n",
              "      <th></th>\n",
              "      <th></th>\n",
              "      <th></th>\n",
              "    </tr>\n",
              "  </thead>\n",
              "  <tbody>\n",
              "    <tr>\n",
              "      <th>male</th>\n",
              "      <th>aged</th>\n",
              "      <th>yes</th>\n",
              "      <td>&lt;0</td>\n",
              "      <td>6.0</td>\n",
              "      <td>critical/other existing credit</td>\n",
              "      <td>radio/tv</td>\n",
              "      <td>1169.0</td>\n",
              "      <td>no known savings</td>\n",
              "      <td>&gt;=7</td>\n",
              "      <td>4.0</td>\n",
              "      <td>none</td>\n",
              "      <td>4.0</td>\n",
              "      <td>...</td>\n",
              "      <td>67.0</td>\n",
              "      <td>none</td>\n",
              "      <td>own</td>\n",
              "      <td>2.0</td>\n",
              "      <td>skilled</td>\n",
              "      <td>1.0</td>\n",
              "      <td>yes</td>\n",
              "      <td>yes</td>\n",
              "      <td>male</td>\n",
              "      <td>single</td>\n",
              "    </tr>\n",
              "    <tr>\n",
              "      <th>female</th>\n",
              "      <th>young</th>\n",
              "      <th>yes</th>\n",
              "      <td>0&lt;=X&lt;200</td>\n",
              "      <td>48.0</td>\n",
              "      <td>existing paid</td>\n",
              "      <td>radio/tv</td>\n",
              "      <td>5951.0</td>\n",
              "      <td>&lt;100</td>\n",
              "      <td>1&lt;=X&lt;4</td>\n",
              "      <td>2.0</td>\n",
              "      <td>none</td>\n",
              "      <td>2.0</td>\n",
              "      <td>...</td>\n",
              "      <td>22.0</td>\n",
              "      <td>none</td>\n",
              "      <td>own</td>\n",
              "      <td>1.0</td>\n",
              "      <td>skilled</td>\n",
              "      <td>1.0</td>\n",
              "      <td>none</td>\n",
              "      <td>yes</td>\n",
              "      <td>female</td>\n",
              "      <td>div/dep/mar</td>\n",
              "    </tr>\n",
              "    <tr>\n",
              "      <th rowspan=\"3\" valign=\"top\">male</th>\n",
              "      <th rowspan=\"3\" valign=\"top\">aged</th>\n",
              "      <th>yes</th>\n",
              "      <td>no checking</td>\n",
              "      <td>12.0</td>\n",
              "      <td>critical/other existing credit</td>\n",
              "      <td>education</td>\n",
              "      <td>2096.0</td>\n",
              "      <td>&lt;100</td>\n",
              "      <td>4&lt;=X&lt;7</td>\n",
              "      <td>2.0</td>\n",
              "      <td>none</td>\n",
              "      <td>3.0</td>\n",
              "      <td>...</td>\n",
              "      <td>49.0</td>\n",
              "      <td>none</td>\n",
              "      <td>own</td>\n",
              "      <td>1.0</td>\n",
              "      <td>unskilled resident</td>\n",
              "      <td>2.0</td>\n",
              "      <td>none</td>\n",
              "      <td>yes</td>\n",
              "      <td>male</td>\n",
              "      <td>single</td>\n",
              "    </tr>\n",
              "    <tr>\n",
              "      <th>yes</th>\n",
              "      <td>&lt;0</td>\n",
              "      <td>42.0</td>\n",
              "      <td>existing paid</td>\n",
              "      <td>furniture/equipment</td>\n",
              "      <td>7882.0</td>\n",
              "      <td>&lt;100</td>\n",
              "      <td>4&lt;=X&lt;7</td>\n",
              "      <td>2.0</td>\n",
              "      <td>guarantor</td>\n",
              "      <td>4.0</td>\n",
              "      <td>...</td>\n",
              "      <td>45.0</td>\n",
              "      <td>none</td>\n",
              "      <td>for free</td>\n",
              "      <td>1.0</td>\n",
              "      <td>skilled</td>\n",
              "      <td>2.0</td>\n",
              "      <td>none</td>\n",
              "      <td>yes</td>\n",
              "      <td>male</td>\n",
              "      <td>single</td>\n",
              "    </tr>\n",
              "    <tr>\n",
              "      <th>yes</th>\n",
              "      <td>&lt;0</td>\n",
              "      <td>24.0</td>\n",
              "      <td>delayed previously</td>\n",
              "      <td>new car</td>\n",
              "      <td>4870.0</td>\n",
              "      <td>&lt;100</td>\n",
              "      <td>1&lt;=X&lt;4</td>\n",
              "      <td>3.0</td>\n",
              "      <td>none</td>\n",
              "      <td>4.0</td>\n",
              "      <td>...</td>\n",
              "      <td>53.0</td>\n",
              "      <td>none</td>\n",
              "      <td>for free</td>\n",
              "      <td>2.0</td>\n",
              "      <td>skilled</td>\n",
              "      <td>2.0</td>\n",
              "      <td>none</td>\n",
              "      <td>yes</td>\n",
              "      <td>male</td>\n",
              "      <td>single</td>\n",
              "    </tr>\n",
              "  </tbody>\n",
              "</table>\n",
              "<p>5 rows × 21 columns</p>\n",
              "</div>\n",
              "    <div class=\"colab-df-buttons\">\n",
              "\n",
              "  <div class=\"colab-df-container\">\n",
              "    <button class=\"colab-df-convert\" onclick=\"convertToInteractive('df-be76af23-ee60-471b-9c77-79a30b14330b')\"\n",
              "            title=\"Convert this dataframe to an interactive table.\"\n",
              "            style=\"display:none;\">\n",
              "\n",
              "  <svg xmlns=\"http://www.w3.org/2000/svg\" height=\"24px\" viewBox=\"0 -960 960 960\">\n",
              "    <path d=\"M120-120v-720h720v720H120Zm60-500h600v-160H180v160Zm220 220h160v-160H400v160Zm0 220h160v-160H400v160ZM180-400h160v-160H180v160Zm440 0h160v-160H620v160ZM180-180h160v-160H180v160Zm440 0h160v-160H620v160Z\"/>\n",
              "  </svg>\n",
              "    </button>\n",
              "\n",
              "  <style>\n",
              "    .colab-df-container {\n",
              "      display:flex;\n",
              "      gap: 12px;\n",
              "    }\n",
              "\n",
              "    .colab-df-convert {\n",
              "      background-color: #E8F0FE;\n",
              "      border: none;\n",
              "      border-radius: 50%;\n",
              "      cursor: pointer;\n",
              "      display: none;\n",
              "      fill: #1967D2;\n",
              "      height: 32px;\n",
              "      padding: 0 0 0 0;\n",
              "      width: 32px;\n",
              "    }\n",
              "\n",
              "    .colab-df-convert:hover {\n",
              "      background-color: #E2EBFA;\n",
              "      box-shadow: 0px 1px 2px rgba(60, 64, 67, 0.3), 0px 1px 3px 1px rgba(60, 64, 67, 0.15);\n",
              "      fill: #174EA6;\n",
              "    }\n",
              "\n",
              "    .colab-df-buttons div {\n",
              "      margin-bottom: 4px;\n",
              "    }\n",
              "\n",
              "    [theme=dark] .colab-df-convert {\n",
              "      background-color: #3B4455;\n",
              "      fill: #D2E3FC;\n",
              "    }\n",
              "\n",
              "    [theme=dark] .colab-df-convert:hover {\n",
              "      background-color: #434B5C;\n",
              "      box-shadow: 0px 1px 3px 1px rgba(0, 0, 0, 0.15);\n",
              "      filter: drop-shadow(0px 1px 2px rgba(0, 0, 0, 0.3));\n",
              "      fill: #FFFFFF;\n",
              "    }\n",
              "  </style>\n",
              "\n",
              "    <script>\n",
              "      const buttonEl =\n",
              "        document.querySelector('#df-be76af23-ee60-471b-9c77-79a30b14330b button.colab-df-convert');\n",
              "      buttonEl.style.display =\n",
              "        google.colab.kernel.accessAllowed ? 'block' : 'none';\n",
              "\n",
              "      async function convertToInteractive(key) {\n",
              "        const element = document.querySelector('#df-be76af23-ee60-471b-9c77-79a30b14330b');\n",
              "        const dataTable =\n",
              "          await google.colab.kernel.invokeFunction('convertToInteractive',\n",
              "                                                    [key], {});\n",
              "        if (!dataTable) return;\n",
              "\n",
              "        const docLinkHtml = 'Like what you see? Visit the ' +\n",
              "          '<a target=\"_blank\" href=https://colab.research.google.com/notebooks/data_table.ipynb>data table notebook</a>'\n",
              "          + ' to learn more about interactive tables.';\n",
              "        element.innerHTML = '';\n",
              "        dataTable['output_type'] = 'display_data';\n",
              "        await google.colab.output.renderOutput(dataTable, element);\n",
              "        const docLink = document.createElement('div');\n",
              "        docLink.innerHTML = docLinkHtml;\n",
              "        element.appendChild(docLink);\n",
              "      }\n",
              "    </script>\n",
              "  </div>\n",
              "\n",
              "\n",
              "<div id=\"df-f01b02f4-db3a-4189-86aa-c28460cca94f\">\n",
              "  <button class=\"colab-df-quickchart\" onclick=\"quickchart('df-f01b02f4-db3a-4189-86aa-c28460cca94f')\"\n",
              "            title=\"Suggest charts.\"\n",
              "            style=\"display:none;\">\n",
              "\n",
              "<svg xmlns=\"http://www.w3.org/2000/svg\" height=\"24px\"viewBox=\"0 0 24 24\"\n",
              "     width=\"24px\">\n",
              "    <g>\n",
              "        <path d=\"M19 3H5c-1.1 0-2 .9-2 2v14c0 1.1.9 2 2 2h14c1.1 0 2-.9 2-2V5c0-1.1-.9-2-2-2zM9 17H7v-7h2v7zm4 0h-2V7h2v10zm4 0h-2v-4h2v4z\"/>\n",
              "    </g>\n",
              "</svg>\n",
              "  </button>\n",
              "\n",
              "<style>\n",
              "  .colab-df-quickchart {\n",
              "    background-color: #E8F0FE;\n",
              "    border: none;\n",
              "    border-radius: 50%;\n",
              "    cursor: pointer;\n",
              "    display: none;\n",
              "    fill: #1967D2;\n",
              "    height: 32px;\n",
              "    padding: 0 0 0 0;\n",
              "    width: 32px;\n",
              "  }\n",
              "\n",
              "  .colab-df-quickchart:hover {\n",
              "    background-color: #E2EBFA;\n",
              "    box-shadow: 0px 1px 2px rgba(60, 64, 67, 0.3), 0px 1px 3px 1px rgba(60, 64, 67, 0.15);\n",
              "    fill: #174EA6;\n",
              "  }\n",
              "\n",
              "  [theme=dark] .colab-df-quickchart {\n",
              "    background-color: #3B4455;\n",
              "    fill: #D2E3FC;\n",
              "  }\n",
              "\n",
              "  [theme=dark] .colab-df-quickchart:hover {\n",
              "    background-color: #434B5C;\n",
              "    box-shadow: 0px 1px 3px 1px rgba(0, 0, 0, 0.15);\n",
              "    filter: drop-shadow(0px 1px 2px rgba(0, 0, 0, 0.3));\n",
              "    fill: #FFFFFF;\n",
              "  }\n",
              "</style>\n",
              "\n",
              "  <script>\n",
              "    async function quickchart(key) {\n",
              "      const charts = await google.colab.kernel.invokeFunction(\n",
              "          'suggestCharts', [key], {});\n",
              "    }\n",
              "    (() => {\n",
              "      let quickchartButtonEl =\n",
              "        document.querySelector('#df-f01b02f4-db3a-4189-86aa-c28460cca94f button');\n",
              "      quickchartButtonEl.style.display =\n",
              "        google.colab.kernel.accessAllowed ? 'block' : 'none';\n",
              "    })();\n",
              "  </script>\n",
              "</div>\n",
              "    </div>\n",
              "  </div>\n"
            ],
            "text/plain": [
              "                            checking_status  duration  \\\n",
              "sex    age   foreign_worker                             \n",
              "male   aged  yes                         <0       6.0   \n",
              "female young yes                   0<=X<200      48.0   \n",
              "male   aged  yes                no checking      12.0   \n",
              "             yes                         <0      42.0   \n",
              "             yes                         <0      24.0   \n",
              "\n",
              "                                             credit_history  \\\n",
              "sex    age   foreign_worker                                   \n",
              "male   aged  yes             critical/other existing credit   \n",
              "female young yes                              existing paid   \n",
              "male   aged  yes             critical/other existing credit   \n",
              "             yes                              existing paid   \n",
              "             yes                         delayed previously   \n",
              "\n",
              "                                         purpose  credit_amount  \\\n",
              "sex    age   foreign_worker                                       \n",
              "male   aged  yes                        radio/tv         1169.0   \n",
              "female young yes                        radio/tv         5951.0   \n",
              "male   aged  yes                       education         2096.0   \n",
              "             yes             furniture/equipment         7882.0   \n",
              "             yes                         new car         4870.0   \n",
              "\n",
              "                               savings_status employment  \\\n",
              "sex    age   foreign_worker                                \n",
              "male   aged  yes             no known savings        >=7   \n",
              "female young yes                         <100     1<=X<4   \n",
              "male   aged  yes                         <100     4<=X<7   \n",
              "             yes                         <100     4<=X<7   \n",
              "             yes                         <100     1<=X<4   \n",
              "\n",
              "                             installment_commitment other_parties  \\\n",
              "sex    age   foreign_worker                                         \n",
              "male   aged  yes                                4.0          none   \n",
              "female young yes                                2.0          none   \n",
              "male   aged  yes                                2.0          none   \n",
              "             yes                                2.0     guarantor   \n",
              "             yes                                3.0          none   \n",
              "\n",
              "                             residence_since  ...   age  other_payment_plans  \\\n",
              "sex    age   foreign_worker                   ...                              \n",
              "male   aged  yes                         4.0  ...  67.0                 none   \n",
              "female young yes                         2.0  ...  22.0                 none   \n",
              "male   aged  yes                         3.0  ...  49.0                 none   \n",
              "             yes                         4.0  ...  45.0                 none   \n",
              "             yes                         4.0  ...  53.0                 none   \n",
              "\n",
              "                              housing existing_credits                 job  \\\n",
              "sex    age   foreign_worker                                                  \n",
              "male   aged  yes                  own              2.0             skilled   \n",
              "female young yes                  own              1.0             skilled   \n",
              "male   aged  yes                  own              1.0  unskilled resident   \n",
              "             yes             for free              1.0             skilled   \n",
              "             yes             for free              2.0             skilled   \n",
              "\n",
              "                            num_dependents  own_telephone foreign_worker  \\\n",
              "sex    age   foreign_worker                                                \n",
              "male   aged  yes                       1.0            yes            yes   \n",
              "female young yes                       1.0           none            yes   \n",
              "male   aged  yes                       2.0           none            yes   \n",
              "             yes                       2.0           none            yes   \n",
              "             yes                       2.0           none            yes   \n",
              "\n",
              "                                sex marital_status  \n",
              "sex    age   foreign_worker                         \n",
              "male   aged  yes               male         single  \n",
              "female young yes             female    div/dep/mar  \n",
              "male   aged  yes               male         single  \n",
              "             yes               male         single  \n",
              "             yes               male         single  \n",
              "\n",
              "[5 rows x 21 columns]"
            ]
          },
          "execution_count": 3,
          "metadata": {},
          "output_type": "execute_result"
        }
      ],
      "source": [
        "# Obtenemos los datos.\n",
        "\n",
        "X, y = fetch_german()\n",
        "X.head()"
      ]
    },
    {
      "cell_type": "code",
      "execution_count": null,
      "metadata": {
        "colab": {
          "base_uri": "https://localhost:8080/",
          "height": 325
        },
        "id": "Sc6D3yZqzbnh",
        "outputId": "62e6db45-aa49-449a-958b-6fc158abb15b"
      },
      "outputs": [
        {
          "data": {
            "text/html": [
              "\n",
              "  <div id=\"df-99540556-bf02-433c-95ac-46d180055ea6\" class=\"colab-df-container\">\n",
              "    <div>\n",
              "<style scoped>\n",
              "    .dataframe tbody tr th:only-of-type {\n",
              "        vertical-align: middle;\n",
              "    }\n",
              "\n",
              "    .dataframe tbody tr th {\n",
              "        vertical-align: top;\n",
              "    }\n",
              "\n",
              "    .dataframe thead th {\n",
              "        text-align: right;\n",
              "    }\n",
              "</style>\n",
              "<table border=\"1\" class=\"dataframe\">\n",
              "  <thead>\n",
              "    <tr style=\"text-align: right;\">\n",
              "      <th></th>\n",
              "      <th>sex</th>\n",
              "      <th>age</th>\n",
              "      <th>foreign_worker</th>\n",
              "      <th>checking_status</th>\n",
              "      <th>duration</th>\n",
              "      <th>credit_history</th>\n",
              "      <th>purpose</th>\n",
              "      <th>credit_amount</th>\n",
              "      <th>savings_status</th>\n",
              "      <th>employment</th>\n",
              "      <th>...</th>\n",
              "      <th>property_magnitude</th>\n",
              "      <th>age_numeric</th>\n",
              "      <th>other_payment_plans</th>\n",
              "      <th>housing</th>\n",
              "      <th>existing_credits</th>\n",
              "      <th>job</th>\n",
              "      <th>num_dependents</th>\n",
              "      <th>own_telephone</th>\n",
              "      <th>marital_status</th>\n",
              "      <th>credit-risk</th>\n",
              "    </tr>\n",
              "  </thead>\n",
              "  <tbody>\n",
              "    <tr>\n",
              "      <th>0</th>\n",
              "      <td>male</td>\n",
              "      <td>aged</td>\n",
              "      <td>yes</td>\n",
              "      <td>&lt;0</td>\n",
              "      <td>6.0</td>\n",
              "      <td>critical/other existing credit</td>\n",
              "      <td>radio/tv</td>\n",
              "      <td>1169.0</td>\n",
              "      <td>no known savings</td>\n",
              "      <td>&gt;=7</td>\n",
              "      <td>...</td>\n",
              "      <td>real estate</td>\n",
              "      <td>67.0</td>\n",
              "      <td>none</td>\n",
              "      <td>own</td>\n",
              "      <td>2.0</td>\n",
              "      <td>skilled</td>\n",
              "      <td>1.0</td>\n",
              "      <td>yes</td>\n",
              "      <td>single</td>\n",
              "      <td>good</td>\n",
              "    </tr>\n",
              "    <tr>\n",
              "      <th>1</th>\n",
              "      <td>female</td>\n",
              "      <td>young</td>\n",
              "      <td>yes</td>\n",
              "      <td>0&lt;=X&lt;200</td>\n",
              "      <td>48.0</td>\n",
              "      <td>existing paid</td>\n",
              "      <td>radio/tv</td>\n",
              "      <td>5951.0</td>\n",
              "      <td>&lt;100</td>\n",
              "      <td>1&lt;=X&lt;4</td>\n",
              "      <td>...</td>\n",
              "      <td>real estate</td>\n",
              "      <td>22.0</td>\n",
              "      <td>none</td>\n",
              "      <td>own</td>\n",
              "      <td>1.0</td>\n",
              "      <td>skilled</td>\n",
              "      <td>1.0</td>\n",
              "      <td>none</td>\n",
              "      <td>div/dep/mar</td>\n",
              "      <td>bad</td>\n",
              "    </tr>\n",
              "    <tr>\n",
              "      <th>2</th>\n",
              "      <td>male</td>\n",
              "      <td>aged</td>\n",
              "      <td>yes</td>\n",
              "      <td>no checking</td>\n",
              "      <td>12.0</td>\n",
              "      <td>critical/other existing credit</td>\n",
              "      <td>education</td>\n",
              "      <td>2096.0</td>\n",
              "      <td>&lt;100</td>\n",
              "      <td>4&lt;=X&lt;7</td>\n",
              "      <td>...</td>\n",
              "      <td>real estate</td>\n",
              "      <td>49.0</td>\n",
              "      <td>none</td>\n",
              "      <td>own</td>\n",
              "      <td>1.0</td>\n",
              "      <td>unskilled resident</td>\n",
              "      <td>2.0</td>\n",
              "      <td>none</td>\n",
              "      <td>single</td>\n",
              "      <td>good</td>\n",
              "    </tr>\n",
              "    <tr>\n",
              "      <th>3</th>\n",
              "      <td>male</td>\n",
              "      <td>aged</td>\n",
              "      <td>yes</td>\n",
              "      <td>&lt;0</td>\n",
              "      <td>42.0</td>\n",
              "      <td>existing paid</td>\n",
              "      <td>furniture/equipment</td>\n",
              "      <td>7882.0</td>\n",
              "      <td>&lt;100</td>\n",
              "      <td>4&lt;=X&lt;7</td>\n",
              "      <td>...</td>\n",
              "      <td>life insurance</td>\n",
              "      <td>45.0</td>\n",
              "      <td>none</td>\n",
              "      <td>for free</td>\n",
              "      <td>1.0</td>\n",
              "      <td>skilled</td>\n",
              "      <td>2.0</td>\n",
              "      <td>none</td>\n",
              "      <td>single</td>\n",
              "      <td>good</td>\n",
              "    </tr>\n",
              "    <tr>\n",
              "      <th>4</th>\n",
              "      <td>male</td>\n",
              "      <td>aged</td>\n",
              "      <td>yes</td>\n",
              "      <td>&lt;0</td>\n",
              "      <td>24.0</td>\n",
              "      <td>delayed previously</td>\n",
              "      <td>new car</td>\n",
              "      <td>4870.0</td>\n",
              "      <td>&lt;100</td>\n",
              "      <td>1&lt;=X&lt;4</td>\n",
              "      <td>...</td>\n",
              "      <td>no known property</td>\n",
              "      <td>53.0</td>\n",
              "      <td>none</td>\n",
              "      <td>for free</td>\n",
              "      <td>2.0</td>\n",
              "      <td>skilled</td>\n",
              "      <td>2.0</td>\n",
              "      <td>none</td>\n",
              "      <td>single</td>\n",
              "      <td>bad</td>\n",
              "    </tr>\n",
              "  </tbody>\n",
              "</table>\n",
              "<p>5 rows × 23 columns</p>\n",
              "</div>\n",
              "    <div class=\"colab-df-buttons\">\n",
              "\n",
              "  <div class=\"colab-df-container\">\n",
              "    <button class=\"colab-df-convert\" onclick=\"convertToInteractive('df-99540556-bf02-433c-95ac-46d180055ea6')\"\n",
              "            title=\"Convert this dataframe to an interactive table.\"\n",
              "            style=\"display:none;\">\n",
              "\n",
              "  <svg xmlns=\"http://www.w3.org/2000/svg\" height=\"24px\" viewBox=\"0 -960 960 960\">\n",
              "    <path d=\"M120-120v-720h720v720H120Zm60-500h600v-160H180v160Zm220 220h160v-160H400v160Zm0 220h160v-160H400v160ZM180-400h160v-160H180v160Zm440 0h160v-160H620v160ZM180-180h160v-160H180v160Zm440 0h160v-160H620v160Z\"/>\n",
              "  </svg>\n",
              "    </button>\n",
              "\n",
              "  <style>\n",
              "    .colab-df-container {\n",
              "      display:flex;\n",
              "      gap: 12px;\n",
              "    }\n",
              "\n",
              "    .colab-df-convert {\n",
              "      background-color: #E8F0FE;\n",
              "      border: none;\n",
              "      border-radius: 50%;\n",
              "      cursor: pointer;\n",
              "      display: none;\n",
              "      fill: #1967D2;\n",
              "      height: 32px;\n",
              "      padding: 0 0 0 0;\n",
              "      width: 32px;\n",
              "    }\n",
              "\n",
              "    .colab-df-convert:hover {\n",
              "      background-color: #E2EBFA;\n",
              "      box-shadow: 0px 1px 2px rgba(60, 64, 67, 0.3), 0px 1px 3px 1px rgba(60, 64, 67, 0.15);\n",
              "      fill: #174EA6;\n",
              "    }\n",
              "\n",
              "    .colab-df-buttons div {\n",
              "      margin-bottom: 4px;\n",
              "    }\n",
              "\n",
              "    [theme=dark] .colab-df-convert {\n",
              "      background-color: #3B4455;\n",
              "      fill: #D2E3FC;\n",
              "    }\n",
              "\n",
              "    [theme=dark] .colab-df-convert:hover {\n",
              "      background-color: #434B5C;\n",
              "      box-shadow: 0px 1px 3px 1px rgba(0, 0, 0, 0.15);\n",
              "      filter: drop-shadow(0px 1px 2px rgba(0, 0, 0, 0.3));\n",
              "      fill: #FFFFFF;\n",
              "    }\n",
              "  </style>\n",
              "\n",
              "    <script>\n",
              "      const buttonEl =\n",
              "        document.querySelector('#df-99540556-bf02-433c-95ac-46d180055ea6 button.colab-df-convert');\n",
              "      buttonEl.style.display =\n",
              "        google.colab.kernel.accessAllowed ? 'block' : 'none';\n",
              "\n",
              "      async function convertToInteractive(key) {\n",
              "        const element = document.querySelector('#df-99540556-bf02-433c-95ac-46d180055ea6');\n",
              "        const dataTable =\n",
              "          await google.colab.kernel.invokeFunction('convertToInteractive',\n",
              "                                                    [key], {});\n",
              "        if (!dataTable) return;\n",
              "\n",
              "        const docLinkHtml = 'Like what you see? Visit the ' +\n",
              "          '<a target=\"_blank\" href=https://colab.research.google.com/notebooks/data_table.ipynb>data table notebook</a>'\n",
              "          + ' to learn more about interactive tables.';\n",
              "        element.innerHTML = '';\n",
              "        dataTable['output_type'] = 'display_data';\n",
              "        await google.colab.output.renderOutput(dataTable, element);\n",
              "        const docLink = document.createElement('div');\n",
              "        docLink.innerHTML = docLinkHtml;\n",
              "        element.appendChild(docLink);\n",
              "      }\n",
              "    </script>\n",
              "  </div>\n",
              "\n",
              "\n",
              "<div id=\"df-b3840e48-934e-4bdb-867a-c5f2807ed660\">\n",
              "  <button class=\"colab-df-quickchart\" onclick=\"quickchart('df-b3840e48-934e-4bdb-867a-c5f2807ed660')\"\n",
              "            title=\"Suggest charts.\"\n",
              "            style=\"display:none;\">\n",
              "\n",
              "<svg xmlns=\"http://www.w3.org/2000/svg\" height=\"24px\"viewBox=\"0 0 24 24\"\n",
              "     width=\"24px\">\n",
              "    <g>\n",
              "        <path d=\"M19 3H5c-1.1 0-2 .9-2 2v14c0 1.1.9 2 2 2h14c1.1 0 2-.9 2-2V5c0-1.1-.9-2-2-2zM9 17H7v-7h2v7zm4 0h-2V7h2v10zm4 0h-2v-4h2v4z\"/>\n",
              "    </g>\n",
              "</svg>\n",
              "  </button>\n",
              "\n",
              "<style>\n",
              "  .colab-df-quickchart {\n",
              "    background-color: #E8F0FE;\n",
              "    border: none;\n",
              "    border-radius: 50%;\n",
              "    cursor: pointer;\n",
              "    display: none;\n",
              "    fill: #1967D2;\n",
              "    height: 32px;\n",
              "    padding: 0 0 0 0;\n",
              "    width: 32px;\n",
              "  }\n",
              "\n",
              "  .colab-df-quickchart:hover {\n",
              "    background-color: #E2EBFA;\n",
              "    box-shadow: 0px 1px 2px rgba(60, 64, 67, 0.3), 0px 1px 3px 1px rgba(60, 64, 67, 0.15);\n",
              "    fill: #174EA6;\n",
              "  }\n",
              "\n",
              "  [theme=dark] .colab-df-quickchart {\n",
              "    background-color: #3B4455;\n",
              "    fill: #D2E3FC;\n",
              "  }\n",
              "\n",
              "  [theme=dark] .colab-df-quickchart:hover {\n",
              "    background-color: #434B5C;\n",
              "    box-shadow: 0px 1px 3px 1px rgba(0, 0, 0, 0.15);\n",
              "    filter: drop-shadow(0px 1px 2px rgba(0, 0, 0, 0.3));\n",
              "    fill: #FFFFFF;\n",
              "  }\n",
              "</style>\n",
              "\n",
              "  <script>\n",
              "    async function quickchart(key) {\n",
              "      const charts = await google.colab.kernel.invokeFunction(\n",
              "          'suggestCharts', [key], {});\n",
              "    }\n",
              "    (() => {\n",
              "      let quickchartButtonEl =\n",
              "        document.querySelector('#df-b3840e48-934e-4bdb-867a-c5f2807ed660 button');\n",
              "      quickchartButtonEl.style.display =\n",
              "        google.colab.kernel.accessAllowed ? 'block' : 'none';\n",
              "    })();\n",
              "  </script>\n",
              "</div>\n",
              "    </div>\n",
              "  </div>\n"
            ],
            "text/plain": [
              "      sex    age foreign_worker checking_status  duration  \\\n",
              "0    male   aged            yes              <0       6.0   \n",
              "1  female  young            yes        0<=X<200      48.0   \n",
              "2    male   aged            yes     no checking      12.0   \n",
              "3    male   aged            yes              <0      42.0   \n",
              "4    male   aged            yes              <0      24.0   \n",
              "\n",
              "                   credit_history              purpose  credit_amount  \\\n",
              "0  critical/other existing credit             radio/tv         1169.0   \n",
              "1                   existing paid             radio/tv         5951.0   \n",
              "2  critical/other existing credit            education         2096.0   \n",
              "3                   existing paid  furniture/equipment         7882.0   \n",
              "4              delayed previously              new car         4870.0   \n",
              "\n",
              "     savings_status employment  ...  property_magnitude age_numeric  \\\n",
              "0  no known savings        >=7  ...         real estate        67.0   \n",
              "1              <100     1<=X<4  ...         real estate        22.0   \n",
              "2              <100     4<=X<7  ...         real estate        49.0   \n",
              "3              <100     4<=X<7  ...      life insurance        45.0   \n",
              "4              <100     1<=X<4  ...   no known property        53.0   \n",
              "\n",
              "   other_payment_plans   housing  existing_credits                 job  \\\n",
              "0                 none       own               2.0             skilled   \n",
              "1                 none       own               1.0             skilled   \n",
              "2                 none       own               1.0  unskilled resident   \n",
              "3                 none  for free               1.0             skilled   \n",
              "4                 none  for free               2.0             skilled   \n",
              "\n",
              "  num_dependents  own_telephone marital_status  credit-risk  \n",
              "0            1.0            yes         single         good  \n",
              "1            1.0           none    div/dep/mar          bad  \n",
              "2            2.0           none         single         good  \n",
              "3            2.0           none         single         good  \n",
              "4            2.0           none         single          bad  \n",
              "\n",
              "[5 rows x 23 columns]"
            ]
          },
          "execution_count": 4,
          "metadata": {},
          "output_type": "execute_result"
        }
      ],
      "source": [
        "# Los manipularemos para dejarlos en el formato habitual.\n",
        "\n",
        "df = pd.concat([X,y], axis=1).drop(columns=['sex',  'foreign_worker']).rename(columns={'age': 'age_numeric'}).reset_index()\n",
        "df.head()"
      ]
    },
    {
      "cell_type": "code",
      "execution_count": null,
      "metadata": {
        "colab": {
          "base_uri": "https://localhost:8080/"
        },
        "id": "_tY9Vjen1StS",
        "outputId": "c85eef73-979f-490b-9f54-332fcb841f6f"
      },
      "outputs": [
        {
          "name": "stdout",
          "output_type": "stream",
          "text": [
            "<class 'pandas.core.frame.DataFrame'>\n",
            "RangeIndex: 1000 entries, 0 to 999\n",
            "Data columns (total 23 columns):\n",
            " #   Column                  Non-Null Count  Dtype   \n",
            "---  ------                  --------------  -----   \n",
            " 0   sex                     1000 non-null   category\n",
            " 1   age_cat                 1000 non-null   category\n",
            " 2   foreign_worker          1000 non-null   category\n",
            " 3   checking_status         1000 non-null   category\n",
            " 4   duration                1000 non-null   float64 \n",
            " 5   credit_history          1000 non-null   category\n",
            " 6   purpose                 1000 non-null   category\n",
            " 7   credit_amount           1000 non-null   float64 \n",
            " 8   savings_status          1000 non-null   category\n",
            " 9   employment              1000 non-null   category\n",
            " 10  installment_commitment  1000 non-null   float64 \n",
            " 11  other_parties           1000 non-null   category\n",
            " 12  residence_since         1000 non-null   float64 \n",
            " 13  property_magnitude      1000 non-null   category\n",
            " 14  age                     1000 non-null   float64 \n",
            " 15  other_payment_plans     1000 non-null   category\n",
            " 16  housing                 1000 non-null   category\n",
            " 17  existing_credits        1000 non-null   float64 \n",
            " 18  job                     1000 non-null   category\n",
            " 19  num_dependents          1000 non-null   float64 \n",
            " 20  own_telephone           1000 non-null   category\n",
            " 21  marital_status          1000 non-null   category\n",
            " 22  credit-risk             1000 non-null   category\n",
            "dtypes: category(16), float64(7)\n",
            "memory usage: 71.3 KB\n"
          ]
        }
      ],
      "source": [
        "df = df.rename(columns={'age': 'age_cat', 'age_numeric': 'age'})\n",
        "df.info()"
      ]
    },
    {
      "cell_type": "markdown",
      "metadata": {
        "id": "zZVIYFC929se"
      },
      "source": [
        "### Descripción de las columnas.\n",
        "\n",
        "**Atributos Numéricos**\n",
        "\n",
        "- `duration`: Duración en meses. Rango (4,72).\n",
        "- `credit_amount`: Cantidad de crédito solicitada. Rango (250, 18424) en DM - Marco alemán.\n",
        "- `installment_commitment`: Tasa de cuota en porcentaje del ingreso disponible. Rango (1,4).\n",
        "- `residence_since`: Tiempo de residencia actual. Rango (1,4).\n",
        "- `age`: Edad en años. Rango (19, 75).\n",
        "- `existing_credits`: Número de créditos existentes en este banco. Rango (1,4) en DM - Marco alemán.\n",
        "- `num_dependents`: Número de personas responsables de proveer el mantenimiento. Rango (1,2).\n",
        "\n",
        "**Atributos Categóricos**\n",
        "\n",
        "- `checking_status`: Valores `'0<=X<200', '<0', '>=200', 'no checking'`.\n",
        "- `credit_history`: Historial crediticio del solicitante. Valores `['all paid', 'critical/other existing credit', 'delayed previously', 'existing paid', 'no credits/all paid']`.\n",
        "- `purpose`: Motivo por el cual el solicitante solicitó un préstamo. Valores `['business', 'domestic appliance', 'education', 'furniture/equipment', 'new car', 'other', 'radio/tv', 'repairs', 'retraining', 'used car']`.\n",
        "- `savings_status`: Cuenta de ahorros/bonos. Valores `['100<=X<500', '500<=X<1000', '<100', '>=1000', 'no known savings']`.\n",
        "- `employment`: Empleo actual desde (en años). Valores `['1<=X<4', '4<=X<7', '<1', '>=7', 'unemployed']`.\n",
        "- `other_parties`: Otros deudores / garantes. Valores `['co applicant', 'guarantor', 'none']`.\n",
        "- `property_magnitude`: Bienes del solicitante. Valores `['car', 'life insurance', 'no known property', 'real estate']`.\n",
        "- `other_payment_plans`: Otros planes de pago a plazos. Valores `['bank', 'none', 'stores']`.\n",
        "- `housing`: Situación de vivienda del solicitante. Valores `['for free', 'own', 'rent']`.\n",
        "- `job`: Categorías de empleo definidas por el banco. Valores `['high qualif/self emp/mgmt', 'skilled', 'unemp/unskilled non res', 'unskilled resident']`.\n",
        "- `own_telephone`: Si hay un teléfono registrado a nombre del cliente. Valores `['none', 'yes']`.\n",
        "- `foreign_worker`: **Atributo protegido**. Valores `['no', 'yes']`.\n",
        "- `sex`: **Atributo protegido**. Valores `['female', 'male']`.\n",
        "- `marital_status`: Estado civil. Valores `['div/dep/mar', 'div/sep', 'mar/wid', 'single']`.\n",
        "\n",
        "**Etiqueta**\n",
        "\n",
        "- `credit-risk`: `'good'` (favorable) o `'bad'` (desfavorable)."
      ]
    },
    {
      "cell_type": "markdown",
      "metadata": {
        "id": "KeKoweugLwtt"
      },
      "source": [
        "## Pre-procesamiento\n",
        "\n",
        "Haremos el pre-procesamiento de nuestros datos para poder trabajar con los algoritmos."
      ]
    },
    {
      "cell_type": "code",
      "execution_count": null,
      "metadata": {
        "colab": {
          "base_uri": "https://localhost:8080/"
        },
        "id": "46NPwjzAO7ej",
        "outputId": "1ee7a7f4-534b-4e2a-e7e6-4dac262c4fc9"
      },
      "outputs": [
        {
          "name": "stdout",
          "output_type": "stream",
          "text": [
            "<class 'pandas.core.frame.DataFrame'>\n",
            "RangeIndex: 1000 entries, 0 to 999\n",
            "Data columns (total 23 columns):\n",
            " #   Column                  Non-Null Count  Dtype   \n",
            "---  ------                  --------------  -----   \n",
            " 0   sex                     1000 non-null   category\n",
            " 1   age_cat                 1000 non-null   category\n",
            " 2   foreign_worker          1000 non-null   category\n",
            " 3   checking_status         1000 non-null   category\n",
            " 4   duration                1000 non-null   float64 \n",
            " 5   credit_history          1000 non-null   category\n",
            " 6   purpose                 1000 non-null   category\n",
            " 7   credit_amount           1000 non-null   float64 \n",
            " 8   savings_status          1000 non-null   category\n",
            " 9   employment              1000 non-null   category\n",
            " 10  installment_commitment  1000 non-null   float64 \n",
            " 11  other_parties           1000 non-null   category\n",
            " 12  residence_since         1000 non-null   float64 \n",
            " 13  property_magnitude      1000 non-null   category\n",
            " 14  age                     1000 non-null   float64 \n",
            " 15  other_payment_plans     1000 non-null   category\n",
            " 16  housing                 1000 non-null   category\n",
            " 17  existing_credits        1000 non-null   float64 \n",
            " 18  job                     1000 non-null   category\n",
            " 19  num_dependents          1000 non-null   float64 \n",
            " 20  own_telephone           1000 non-null   category\n",
            " 21  marital_status          1000 non-null   category\n",
            " 22  credit-risk             1000 non-null   category\n",
            "dtypes: category(16), float64(7)\n",
            "memory usage: 71.3 KB\n"
          ]
        }
      ],
      "source": [
        "df.info()"
      ]
    },
    {
      "cell_type": "code",
      "execution_count": null,
      "metadata": {
        "id": "OEoJ76ZpMOEI"
      },
      "outputs": [],
      "source": [
        "# Binarización de algunas variables.\n",
        "\n",
        "df['sex'] = df['sex'].map({'male': 1, 'female': 0})\n",
        "df['age_cat'] = df['age_cat'].map({'aged': 1, 'young': 0})\n",
        "df['foreign_worker'] = df['foreign_worker'].map({'no': 1, 'yes': 0})\n",
        "df['credit-risk'] = df['credit-risk'].map({'good': 1, 'bad': 0})"
      ]
    },
    {
      "cell_type": "code",
      "execution_count": null,
      "metadata": {
        "id": "fGEMzR7vKx59"
      },
      "outputs": [],
      "source": [
        "# Separamos X e Y.\n",
        "\n",
        "X = df.loc[:, df.columns != 'credit-risk']\n",
        "y = df.loc[:, df.columns == 'credit-risk']"
      ]
    },
    {
      "cell_type": "code",
      "execution_count": null,
      "metadata": {
        "id": "0k7IKSRnSLAb"
      },
      "outputs": [],
      "source": [
        "df1 = X.copy()"
      ]
    },
    {
      "cell_type": "code",
      "execution_count": null,
      "metadata": {
        "colab": {
          "base_uri": "https://localhost:8080/",
          "height": 290
        },
        "id": "oTR9PWjhP1sh",
        "outputId": "57042ac5-edbb-4967-f79e-349deca58691"
      },
      "outputs": [
        {
          "data": {
            "text/html": [
              "\n",
              "  <div id=\"df-b5591436-af10-4b4d-94a6-9e37e4df9ca8\" class=\"colab-df-container\">\n",
              "    <div>\n",
              "<style scoped>\n",
              "    .dataframe tbody tr th:only-of-type {\n",
              "        vertical-align: middle;\n",
              "    }\n",
              "\n",
              "    .dataframe tbody tr th {\n",
              "        vertical-align: top;\n",
              "    }\n",
              "\n",
              "    .dataframe thead th {\n",
              "        text-align: right;\n",
              "    }\n",
              "</style>\n",
              "<table border=\"1\" class=\"dataframe\">\n",
              "  <thead>\n",
              "    <tr style=\"text-align: right;\">\n",
              "      <th></th>\n",
              "      <th>sex</th>\n",
              "      <th>age_cat</th>\n",
              "      <th>foreign_worker</th>\n",
              "      <th>duration</th>\n",
              "      <th>credit_amount</th>\n",
              "      <th>installment_commitment</th>\n",
              "      <th>residence_since</th>\n",
              "      <th>age</th>\n",
              "      <th>existing_credits</th>\n",
              "      <th>num_dependents</th>\n",
              "      <th>...</th>\n",
              "      <th>job_unemp/unskilled non res</th>\n",
              "      <th>job_unskilled resident</th>\n",
              "      <th>job_skilled</th>\n",
              "      <th>job_high qualif/self emp/mgmt</th>\n",
              "      <th>own_telephone_none</th>\n",
              "      <th>own_telephone_yes</th>\n",
              "      <th>marital_status_div/dep/mar</th>\n",
              "      <th>marital_status_div/sep</th>\n",
              "      <th>marital_status_mar/wid</th>\n",
              "      <th>marital_status_single</th>\n",
              "    </tr>\n",
              "  </thead>\n",
              "  <tbody>\n",
              "    <tr>\n",
              "      <th>0</th>\n",
              "      <td>1</td>\n",
              "      <td>1</td>\n",
              "      <td>0</td>\n",
              "      <td>6.0</td>\n",
              "      <td>1169.0</td>\n",
              "      <td>4.0</td>\n",
              "      <td>4.0</td>\n",
              "      <td>67.0</td>\n",
              "      <td>2.0</td>\n",
              "      <td>1.0</td>\n",
              "      <td>...</td>\n",
              "      <td>0</td>\n",
              "      <td>0</td>\n",
              "      <td>1</td>\n",
              "      <td>0</td>\n",
              "      <td>0</td>\n",
              "      <td>1</td>\n",
              "      <td>0</td>\n",
              "      <td>0</td>\n",
              "      <td>0</td>\n",
              "      <td>1</td>\n",
              "    </tr>\n",
              "    <tr>\n",
              "      <th>1</th>\n",
              "      <td>0</td>\n",
              "      <td>0</td>\n",
              "      <td>0</td>\n",
              "      <td>48.0</td>\n",
              "      <td>5951.0</td>\n",
              "      <td>2.0</td>\n",
              "      <td>2.0</td>\n",
              "      <td>22.0</td>\n",
              "      <td>1.0</td>\n",
              "      <td>1.0</td>\n",
              "      <td>...</td>\n",
              "      <td>0</td>\n",
              "      <td>0</td>\n",
              "      <td>1</td>\n",
              "      <td>0</td>\n",
              "      <td>1</td>\n",
              "      <td>0</td>\n",
              "      <td>1</td>\n",
              "      <td>0</td>\n",
              "      <td>0</td>\n",
              "      <td>0</td>\n",
              "    </tr>\n",
              "    <tr>\n",
              "      <th>2</th>\n",
              "      <td>1</td>\n",
              "      <td>1</td>\n",
              "      <td>0</td>\n",
              "      <td>12.0</td>\n",
              "      <td>2096.0</td>\n",
              "      <td>2.0</td>\n",
              "      <td>3.0</td>\n",
              "      <td>49.0</td>\n",
              "      <td>1.0</td>\n",
              "      <td>2.0</td>\n",
              "      <td>...</td>\n",
              "      <td>0</td>\n",
              "      <td>1</td>\n",
              "      <td>0</td>\n",
              "      <td>0</td>\n",
              "      <td>1</td>\n",
              "      <td>0</td>\n",
              "      <td>0</td>\n",
              "      <td>0</td>\n",
              "      <td>0</td>\n",
              "      <td>1</td>\n",
              "    </tr>\n",
              "    <tr>\n",
              "      <th>3</th>\n",
              "      <td>1</td>\n",
              "      <td>1</td>\n",
              "      <td>0</td>\n",
              "      <td>42.0</td>\n",
              "      <td>7882.0</td>\n",
              "      <td>2.0</td>\n",
              "      <td>4.0</td>\n",
              "      <td>45.0</td>\n",
              "      <td>1.0</td>\n",
              "      <td>2.0</td>\n",
              "      <td>...</td>\n",
              "      <td>0</td>\n",
              "      <td>0</td>\n",
              "      <td>1</td>\n",
              "      <td>0</td>\n",
              "      <td>1</td>\n",
              "      <td>0</td>\n",
              "      <td>0</td>\n",
              "      <td>0</td>\n",
              "      <td>0</td>\n",
              "      <td>1</td>\n",
              "    </tr>\n",
              "    <tr>\n",
              "      <th>4</th>\n",
              "      <td>1</td>\n",
              "      <td>1</td>\n",
              "      <td>0</td>\n",
              "      <td>24.0</td>\n",
              "      <td>4870.0</td>\n",
              "      <td>3.0</td>\n",
              "      <td>4.0</td>\n",
              "      <td>53.0</td>\n",
              "      <td>2.0</td>\n",
              "      <td>2.0</td>\n",
              "      <td>...</td>\n",
              "      <td>0</td>\n",
              "      <td>0</td>\n",
              "      <td>1</td>\n",
              "      <td>0</td>\n",
              "      <td>1</td>\n",
              "      <td>0</td>\n",
              "      <td>0</td>\n",
              "      <td>0</td>\n",
              "      <td>0</td>\n",
              "      <td>1</td>\n",
              "    </tr>\n",
              "  </tbody>\n",
              "</table>\n",
              "<p>5 rows × 62 columns</p>\n",
              "</div>\n",
              "    <div class=\"colab-df-buttons\">\n",
              "\n",
              "  <div class=\"colab-df-container\">\n",
              "    <button class=\"colab-df-convert\" onclick=\"convertToInteractive('df-b5591436-af10-4b4d-94a6-9e37e4df9ca8')\"\n",
              "            title=\"Convert this dataframe to an interactive table.\"\n",
              "            style=\"display:none;\">\n",
              "\n",
              "  <svg xmlns=\"http://www.w3.org/2000/svg\" height=\"24px\" viewBox=\"0 -960 960 960\">\n",
              "    <path d=\"M120-120v-720h720v720H120Zm60-500h600v-160H180v160Zm220 220h160v-160H400v160Zm0 220h160v-160H400v160ZM180-400h160v-160H180v160Zm440 0h160v-160H620v160ZM180-180h160v-160H180v160Zm440 0h160v-160H620v160Z\"/>\n",
              "  </svg>\n",
              "    </button>\n",
              "\n",
              "  <style>\n",
              "    .colab-df-container {\n",
              "      display:flex;\n",
              "      gap: 12px;\n",
              "    }\n",
              "\n",
              "    .colab-df-convert {\n",
              "      background-color: #E8F0FE;\n",
              "      border: none;\n",
              "      border-radius: 50%;\n",
              "      cursor: pointer;\n",
              "      display: none;\n",
              "      fill: #1967D2;\n",
              "      height: 32px;\n",
              "      padding: 0 0 0 0;\n",
              "      width: 32px;\n",
              "    }\n",
              "\n",
              "    .colab-df-convert:hover {\n",
              "      background-color: #E2EBFA;\n",
              "      box-shadow: 0px 1px 2px rgba(60, 64, 67, 0.3), 0px 1px 3px 1px rgba(60, 64, 67, 0.15);\n",
              "      fill: #174EA6;\n",
              "    }\n",
              "\n",
              "    .colab-df-buttons div {\n",
              "      margin-bottom: 4px;\n",
              "    }\n",
              "\n",
              "    [theme=dark] .colab-df-convert {\n",
              "      background-color: #3B4455;\n",
              "      fill: #D2E3FC;\n",
              "    }\n",
              "\n",
              "    [theme=dark] .colab-df-convert:hover {\n",
              "      background-color: #434B5C;\n",
              "      box-shadow: 0px 1px 3px 1px rgba(0, 0, 0, 0.15);\n",
              "      filter: drop-shadow(0px 1px 2px rgba(0, 0, 0, 0.3));\n",
              "      fill: #FFFFFF;\n",
              "    }\n",
              "  </style>\n",
              "\n",
              "    <script>\n",
              "      const buttonEl =\n",
              "        document.querySelector('#df-b5591436-af10-4b4d-94a6-9e37e4df9ca8 button.colab-df-convert');\n",
              "      buttonEl.style.display =\n",
              "        google.colab.kernel.accessAllowed ? 'block' : 'none';\n",
              "\n",
              "      async function convertToInteractive(key) {\n",
              "        const element = document.querySelector('#df-b5591436-af10-4b4d-94a6-9e37e4df9ca8');\n",
              "        const dataTable =\n",
              "          await google.colab.kernel.invokeFunction('convertToInteractive',\n",
              "                                                    [key], {});\n",
              "        if (!dataTable) return;\n",
              "\n",
              "        const docLinkHtml = 'Like what you see? Visit the ' +\n",
              "          '<a target=\"_blank\" href=https://colab.research.google.com/notebooks/data_table.ipynb>data table notebook</a>'\n",
              "          + ' to learn more about interactive tables.';\n",
              "        element.innerHTML = '';\n",
              "        dataTable['output_type'] = 'display_data';\n",
              "        await google.colab.output.renderOutput(dataTable, element);\n",
              "        const docLink = document.createElement('div');\n",
              "        docLink.innerHTML = docLinkHtml;\n",
              "        element.appendChild(docLink);\n",
              "      }\n",
              "    </script>\n",
              "  </div>\n",
              "\n",
              "\n",
              "<div id=\"df-a6469c40-bd10-41bb-92a6-dbf1c7f6401a\">\n",
              "  <button class=\"colab-df-quickchart\" onclick=\"quickchart('df-a6469c40-bd10-41bb-92a6-dbf1c7f6401a')\"\n",
              "            title=\"Suggest charts.\"\n",
              "            style=\"display:none;\">\n",
              "\n",
              "<svg xmlns=\"http://www.w3.org/2000/svg\" height=\"24px\"viewBox=\"0 0 24 24\"\n",
              "     width=\"24px\">\n",
              "    <g>\n",
              "        <path d=\"M19 3H5c-1.1 0-2 .9-2 2v14c0 1.1.9 2 2 2h14c1.1 0 2-.9 2-2V5c0-1.1-.9-2-2-2zM9 17H7v-7h2v7zm4 0h-2V7h2v10zm4 0h-2v-4h2v4z\"/>\n",
              "    </g>\n",
              "</svg>\n",
              "  </button>\n",
              "\n",
              "<style>\n",
              "  .colab-df-quickchart {\n",
              "    background-color: #E8F0FE;\n",
              "    border: none;\n",
              "    border-radius: 50%;\n",
              "    cursor: pointer;\n",
              "    display: none;\n",
              "    fill: #1967D2;\n",
              "    height: 32px;\n",
              "    padding: 0 0 0 0;\n",
              "    width: 32px;\n",
              "  }\n",
              "\n",
              "  .colab-df-quickchart:hover {\n",
              "    background-color: #E2EBFA;\n",
              "    box-shadow: 0px 1px 2px rgba(60, 64, 67, 0.3), 0px 1px 3px 1px rgba(60, 64, 67, 0.15);\n",
              "    fill: #174EA6;\n",
              "  }\n",
              "\n",
              "  [theme=dark] .colab-df-quickchart {\n",
              "    background-color: #3B4455;\n",
              "    fill: #D2E3FC;\n",
              "  }\n",
              "\n",
              "  [theme=dark] .colab-df-quickchart:hover {\n",
              "    background-color: #434B5C;\n",
              "    box-shadow: 0px 1px 3px 1px rgba(0, 0, 0, 0.15);\n",
              "    filter: drop-shadow(0px 1px 2px rgba(0, 0, 0, 0.3));\n",
              "    fill: #FFFFFF;\n",
              "  }\n",
              "</style>\n",
              "\n",
              "  <script>\n",
              "    async function quickchart(key) {\n",
              "      const charts = await google.colab.kernel.invokeFunction(\n",
              "          'suggestCharts', [key], {});\n",
              "    }\n",
              "    (() => {\n",
              "      let quickchartButtonEl =\n",
              "        document.querySelector('#df-a6469c40-bd10-41bb-92a6-dbf1c7f6401a button');\n",
              "      quickchartButtonEl.style.display =\n",
              "        google.colab.kernel.accessAllowed ? 'block' : 'none';\n",
              "    })();\n",
              "  </script>\n",
              "</div>\n",
              "    </div>\n",
              "  </div>\n"
            ],
            "text/plain": [
              "  sex age_cat foreign_worker  duration  credit_amount  installment_commitment  \\\n",
              "0   1       1              0       6.0         1169.0                     4.0   \n",
              "1   0       0              0      48.0         5951.0                     2.0   \n",
              "2   1       1              0      12.0         2096.0                     2.0   \n",
              "3   1       1              0      42.0         7882.0                     2.0   \n",
              "4   1       1              0      24.0         4870.0                     3.0   \n",
              "\n",
              "   residence_since   age  existing_credits  num_dependents  ...  \\\n",
              "0              4.0  67.0               2.0             1.0  ...   \n",
              "1              2.0  22.0               1.0             1.0  ...   \n",
              "2              3.0  49.0               1.0             2.0  ...   \n",
              "3              4.0  45.0               1.0             2.0  ...   \n",
              "4              4.0  53.0               2.0             2.0  ...   \n",
              "\n",
              "   job_unemp/unskilled non res  job_unskilled resident  job_skilled  \\\n",
              "0                            0                       0            1   \n",
              "1                            0                       0            1   \n",
              "2                            0                       1            0   \n",
              "3                            0                       0            1   \n",
              "4                            0                       0            1   \n",
              "\n",
              "   job_high qualif/self emp/mgmt  own_telephone_none  own_telephone_yes  \\\n",
              "0                              0                   0                  1   \n",
              "1                              0                   1                  0   \n",
              "2                              0                   1                  0   \n",
              "3                              0                   1                  0   \n",
              "4                              0                   1                  0   \n",
              "\n",
              "   marital_status_div/dep/mar  marital_status_div/sep  marital_status_mar/wid  \\\n",
              "0                           0                       0                       0   \n",
              "1                           1                       0                       0   \n",
              "2                           0                       0                       0   \n",
              "3                           0                       0                       0   \n",
              "4                           0                       0                       0   \n",
              "\n",
              "   marital_status_single  \n",
              "0                      1  \n",
              "1                      0  \n",
              "2                      1  \n",
              "3                      1  \n",
              "4                      1  \n",
              "\n",
              "[5 rows x 62 columns]"
            ]
          },
          "execution_count": 10,
          "metadata": {},
          "output_type": "execute_result"
        }
      ],
      "source": [
        "# Obtenemos variables dummies\n",
        "\n",
        "ignore = ['sex', 'age_cat', 'foreign_worker']\n",
        "for catcol in df1.select_dtypes(include='category').columns:\n",
        "  if catcol in ignore:\n",
        "    pass\n",
        "  else:\n",
        "    dummies = pd.get_dummies(X[catcol])\n",
        "    dummies.columns = [catcol+ '_' + x for x in dummies.columns]\n",
        "    X = pd.concat([X, dummies], axis=1).drop(columns=[catcol])\n",
        "\n",
        "X.head()"
      ]
    },
    {
      "cell_type": "code",
      "execution_count": null,
      "metadata": {
        "id": "9f0k_lwPMArJ"
      },
      "outputs": [],
      "source": [
        "# Datos de entrenamiento y prueba\n",
        "\n",
        "X_train, X_test, y_train, y_test = train_test_split(X, y, test_size=0.2, random_state=908)"
      ]
    },
    {
      "cell_type": "code",
      "execution_count": null,
      "metadata": {
        "id": "jG0-6a2HW50u"
      },
      "outputs": [],
      "source": [
        "# No utilizaremos la edad\n",
        "\n",
        "X_train.drop(columns=['age'], inplace=True)\n",
        "X_test.drop(columns=['age'], inplace=True)"
      ]
    },
    {
      "cell_type": "markdown",
      "metadata": {
        "id": "xYEoybk_jnPV"
      },
      "source": [
        "## ¿Discriminación en nuestros datos?\n",
        "\n",
        "Una forma de medir la discriminación en nuestros datos es a través de AIF360, que nos facilita el cálculo de métricas. Para ello debemos seguir una serie de pasos para instanciar un BinaryLabelDatasetMetric.\n",
        "\n",
        "- #### **Statistical Parity Difference**.\n",
        "\n",
        "Corresponde a la diferencia entre la probabilidad de pertenecer a la clase positiva dado que se pertenece a la clase no privilegiada y  la probabilidad de pertenecer a la clase positiva dado que se pertenece a la clase privilegiada, es decir:\n",
        "\n",
        "$SP = Pr(Y = 1 | D = \\text{unprivileged})- Pr(Y = 1 | D = \\text{privileged})$\n",
        "\n",
        "Valores negativos de esta métrica podrían indicar la presencia de sesgo.\n",
        "\n",
        "- #### **Disparate Impact**.\n",
        "\n",
        "Es una métrica para medir fairness que compara la proporción de individuos que reciben un resultado positivo para el grupo privilegiado y el grupo no privilegiado. El cálculo es la proporción del grupo no privilegiado que recibe un resultado positivo dividida por la proporción del grupo privilegiado que recibe un resultado positivo.\n",
        "\n",
        "\n",
        "$DI = \\frac{Pr(Y = 1 | D = \\text{unprivileged})}{Pr(Y = 1 | D = \\text{privileged})}$\n",
        "\n"
      ]
    },
    {
      "cell_type": "code",
      "execution_count": null,
      "metadata": {
        "id": "wG8o689Rnl4w"
      },
      "outputs": [],
      "source": [
        "# Necesitamos los datos de entrenamiento en conjunto con la etiqueta.\n",
        "\n",
        "df_train = X_train.copy()\n",
        "df_train['credit-score'] = y_train"
      ]
    },
    {
      "cell_type": "markdown",
      "metadata": {
        "id": "LMcyEisSzDwv"
      },
      "source": [
        "### Métricas de Fairness para los datos: por categoría de edad."
      ]
    },
    {
      "cell_type": "code",
      "execution_count": null,
      "metadata": {
        "id": "rqbdgqWujq-C"
      },
      "outputs": [],
      "source": [
        "# Debemos definir nuestros grupos privilegiados y no privilegiados.\n",
        "\n",
        "privileged_groups = [{'age_cat': 1}]\n",
        "unprivileged_groups = [{'age_cat': 0}]"
      ]
    },
    {
      "cell_type": "code",
      "execution_count": null,
      "metadata": {
        "id": "TPzWidzmmSbt"
      },
      "outputs": [],
      "source": [
        "# Instanciamos BinaryLabelDataset con edad como atributo protegido\n",
        "\n",
        "attributes_params = dict(protected_attribute_names=['age_cat'], label_names=['credit-score'])\n",
        "dt_train = BinaryLabelDataset(df=df_train, **attributes_params)"
      ]
    },
    {
      "cell_type": "code",
      "execution_count": null,
      "metadata": {
        "id": "bl0P6Nd4kCEN"
      },
      "outputs": [],
      "source": [
        "# Finalmente, la instancia de BinaryLabelDatasetMetric con la edad como atributo protegido.\n",
        "\n",
        "metric_age_train = BinaryLabelDatasetMetric(dt_train,\n",
        "                                             unprivileged_groups=unprivileged_groups,\n",
        "                                             privileged_groups=privileged_groups)"
      ]
    },
    {
      "cell_type": "markdown",
      "metadata": {
        "id": "lVnqeFkK0s5a"
      },
      "source": [
        "#### Métricas"
      ]
    },
    {
      "cell_type": "code",
      "execution_count": null,
      "metadata": {
        "colab": {
          "base_uri": "https://localhost:8080/"
        },
        "id": "WKxlmLaOkKW6",
        "outputId": "9d9fbf27-6e06-41e5-a9de-5bf26e106429"
      },
      "outputs": [
        {
          "name": "stdout",
          "output_type": "stream",
          "text": [
            "Train Statistical Parity Difference (age): -0.13278706925580863\n"
          ]
        }
      ],
      "source": [
        "print(f'Train Statistical Parity Difference (age): {metric_age_train.mean_difference()}')"
      ]
    },
    {
      "cell_type": "code",
      "execution_count": null,
      "metadata": {
        "id": "uVg8C8v6H1lv"
      },
      "outputs": [],
      "source": [
        "from aif360.explainers import MetricTextExplainer, MetricJSONExplainer\n",
        "import pprint"
      ]
    },
    {
      "cell_type": "code",
      "execution_count": null,
      "metadata": {
        "colab": {
          "base_uri": "https://localhost:8080/",
          "height": 35
        },
        "id": "FZLI85a6H6bG",
        "outputId": "648d702d-77dd-4b86-c152-14f6e47390b8"
      },
      "outputs": [
        {
          "data": {
            "application/vnd.google.colaboratory.intrinsic+json": {
              "type": "string"
            },
            "text/plain": [
              "'Mean difference (mean label value on unprivileged instances - mean label value on privileged instances): -0.13278706925580863'"
            ]
          },
          "execution_count": 19,
          "metadata": {},
          "output_type": "execute_result"
        }
      ],
      "source": [
        "MetricTextExplainer(metric_age_train).mean_difference()"
      ]
    },
    {
      "cell_type": "code",
      "execution_count": null,
      "metadata": {
        "colab": {
          "base_uri": "https://localhost:8080/"
        },
        "id": "SFgii1_vIqsO",
        "outputId": "22aff925-d514-4a76-ec9c-6568ba9de6df"
      },
      "outputs": [
        {
          "name": "stdout",
          "output_type": "stream",
          "text": [
            "('{\"metric\": \"Disparate Impact\", \"message\": \"Disparate impact (probability of '\n",
            " 'favorable outcome for unprivileged instances / probability of favorable '\n",
            " 'outcome for privileged instances): 0.8178037886955184\", '\n",
            " '\"numPositivePredictionsUnprivileged\": 90.0, \"numUnprivileged\": 151.0, '\n",
            " '\"numPositivePredictionsPrivileged\": 473.0, \"numPrivileged\": 649.0, '\n",
            " '\"description\": \"Computed as the ratio of rate of favorable outcome for the '\n",
            " 'unprivileged group to that of the privileged group.\", \"ideal\": \"The ideal '\n",
            " 'value of this metric is 1.0 A value < 1 implies higher benefit for the '\n",
            " 'privileged group and a value >1 implies a higher benefit for the '\n",
            " 'unprivileged group.\"}')\n"
          ]
        }
      ],
      "source": [
        "pprint.pp(MetricJSONExplainer(metric_age_train).disparate_impact())"
      ]
    },
    {
      "cell_type": "markdown",
      "metadata": {
        "id": "1jA7JFyjAY0Y"
      },
      "source": [
        "**Pregunta**: Las métricas nos indican que existe sesgo con respecto a la edad en nuestros datos de entrenamiento. Supongamos que entrenamos un modelo con estos datos. ¿Que sucederá con estos sesgos dentro del modelo? ¿Serán replicados, ignorados o amplificados?"
      ]
    },
    {
      "cell_type": "code",
      "execution_count": null,
      "metadata": {
        "colab": {
          "base_uri": "https://localhost:8080/",
          "height": 75
        },
        "id": "CHtJ59iWUkX4",
        "outputId": "b085fea8-dc61-4296-87a0-4667a9e50e5a"
      },
      "outputs": [
        {
          "data": {
            "text/html": [
              "<style>#sk-container-id-1 {color: black;background-color: white;}#sk-container-id-1 pre{padding: 0;}#sk-container-id-1 div.sk-toggleable {background-color: white;}#sk-container-id-1 label.sk-toggleable__label {cursor: pointer;display: block;width: 100%;margin-bottom: 0;padding: 0.3em;box-sizing: border-box;text-align: center;}#sk-container-id-1 label.sk-toggleable__label-arrow:before {content: \"▸\";float: left;margin-right: 0.25em;color: #696969;}#sk-container-id-1 label.sk-toggleable__label-arrow:hover:before {color: black;}#sk-container-id-1 div.sk-estimator:hover label.sk-toggleable__label-arrow:before {color: black;}#sk-container-id-1 div.sk-toggleable__content {max-height: 0;max-width: 0;overflow: hidden;text-align: left;background-color: #f0f8ff;}#sk-container-id-1 div.sk-toggleable__content pre {margin: 0.2em;color: black;border-radius: 0.25em;background-color: #f0f8ff;}#sk-container-id-1 input.sk-toggleable__control:checked~div.sk-toggleable__content {max-height: 200px;max-width: 100%;overflow: auto;}#sk-container-id-1 input.sk-toggleable__control:checked~label.sk-toggleable__label-arrow:before {content: \"▾\";}#sk-container-id-1 div.sk-estimator input.sk-toggleable__control:checked~label.sk-toggleable__label {background-color: #d4ebff;}#sk-container-id-1 div.sk-label input.sk-toggleable__control:checked~label.sk-toggleable__label {background-color: #d4ebff;}#sk-container-id-1 input.sk-hidden--visually {border: 0;clip: rect(1px 1px 1px 1px);clip: rect(1px, 1px, 1px, 1px);height: 1px;margin: -1px;overflow: hidden;padding: 0;position: absolute;width: 1px;}#sk-container-id-1 div.sk-estimator {font-family: monospace;background-color: #f0f8ff;border: 1px dotted black;border-radius: 0.25em;box-sizing: border-box;margin-bottom: 0.5em;}#sk-container-id-1 div.sk-estimator:hover {background-color: #d4ebff;}#sk-container-id-1 div.sk-parallel-item::after {content: \"\";width: 100%;border-bottom: 1px solid gray;flex-grow: 1;}#sk-container-id-1 div.sk-label:hover label.sk-toggleable__label {background-color: #d4ebff;}#sk-container-id-1 div.sk-serial::before {content: \"\";position: absolute;border-left: 1px solid gray;box-sizing: border-box;top: 0;bottom: 0;left: 50%;z-index: 0;}#sk-container-id-1 div.sk-serial {display: flex;flex-direction: column;align-items: center;background-color: white;padding-right: 0.2em;padding-left: 0.2em;position: relative;}#sk-container-id-1 div.sk-item {position: relative;z-index: 1;}#sk-container-id-1 div.sk-parallel {display: flex;align-items: stretch;justify-content: center;background-color: white;position: relative;}#sk-container-id-1 div.sk-item::before, #sk-container-id-1 div.sk-parallel-item::before {content: \"\";position: absolute;border-left: 1px solid gray;box-sizing: border-box;top: 0;bottom: 0;left: 50%;z-index: -1;}#sk-container-id-1 div.sk-parallel-item {display: flex;flex-direction: column;z-index: 1;position: relative;background-color: white;}#sk-container-id-1 div.sk-parallel-item:first-child::after {align-self: flex-end;width: 50%;}#sk-container-id-1 div.sk-parallel-item:last-child::after {align-self: flex-start;width: 50%;}#sk-container-id-1 div.sk-parallel-item:only-child::after {width: 0;}#sk-container-id-1 div.sk-dashed-wrapped {border: 1px dashed gray;margin: 0 0.4em 0.5em 0.4em;box-sizing: border-box;padding-bottom: 0.4em;background-color: white;}#sk-container-id-1 div.sk-label label {font-family: monospace;font-weight: bold;display: inline-block;line-height: 1.2em;}#sk-container-id-1 div.sk-label-container {text-align: center;}#sk-container-id-1 div.sk-container {/* jupyter's `normalize.less` sets `[hidden] { display: none; }` but bootstrap.min.css set `[hidden] { display: none !important; }` so we also need the `!important` here to be able to override the default hidden behavior on the sphinx rendered scikit-learn.org. See: https://github.com/scikit-learn/scikit-learn/issues/21755 */display: inline-block !important;position: relative;}#sk-container-id-1 div.sk-text-repr-fallback {display: none;}</style><div id=\"sk-container-id-1\" class=\"sk-top-container\"><div class=\"sk-text-repr-fallback\"><pre>LogisticRegressionCV(cv=10, random_state=908, solver=&#x27;liblinear&#x27;)</pre><b>In a Jupyter environment, please rerun this cell to show the HTML representation or trust the notebook. <br />On GitHub, the HTML representation is unable to render, please try loading this page with nbviewer.org.</b></div><div class=\"sk-container\" hidden><div class=\"sk-item\"><div class=\"sk-estimator sk-toggleable\"><input class=\"sk-toggleable__control sk-hidden--visually\" id=\"sk-estimator-id-1\" type=\"checkbox\" checked><label for=\"sk-estimator-id-1\" class=\"sk-toggleable__label sk-toggleable__label-arrow\">LogisticRegressionCV</label><div class=\"sk-toggleable__content\"><pre>LogisticRegressionCV(cv=10, random_state=908, solver=&#x27;liblinear&#x27;)</pre></div></div></div></div></div>"
            ],
            "text/plain": [
              "LogisticRegressionCV(cv=10, random_state=908, solver='liblinear')"
            ]
          },
          "execution_count": 21,
          "metadata": {},
          "output_type": "execute_result"
        }
      ],
      "source": [
        "# Regresión logística\n",
        "\n",
        "lr = LogisticRegressionCV(solver='liblinear', cv=10, random_state=908)\n",
        "lr.fit(X_train, np.ravel(y_train))"
      ]
    },
    {
      "cell_type": "code",
      "execution_count": null,
      "metadata": {
        "colab": {
          "base_uri": "https://localhost:8080/"
        },
        "id": "1sU0CqHlcfQY",
        "outputId": "3b8d38ce-14bb-42a0-d8d2-6c8ff1190de8"
      },
      "outputs": [
        {
          "name": "stdout",
          "output_type": "stream",
          "text": [
            "Accuracy: 0.735\n",
            "Recall: 0.8613138686131386\n",
            "F1: 0.8166089965397924\n"
          ]
        }
      ],
      "source": [
        "#@title Métricas modelo base\n",
        "\n",
        "y_pred_proba = lr.predict_proba(X_test)[:,1]\n",
        "y_pred = y_pred_proba >= 0.5\n",
        "\n",
        "print(f\"Accuracy: {accuracy_score(y_test, y_pred)}\")\n",
        "print(f\"Recall: {recall_score(y_test, y_pred)}\")\n",
        "print(f\"F1: {f1_score(y_test, y_pred)}\")"
      ]
    },
    {
      "cell_type": "markdown",
      "metadata": {
        "id": "vUCTvexy8yMf"
      },
      "source": [
        "### Métricas de Fairness para las predicciones.\n",
        "\n",
        "\n"
      ]
    },
    {
      "cell_type": "code",
      "execution_count": null,
      "metadata": {
        "id": "SGxOZ0Dr9rmh"
      },
      "outputs": [],
      "source": [
        "# Para facilitar el proceso\n",
        "\n",
        "def get_aif_metrics(attr, df, label_names):\n",
        "\n",
        "  privileged_groups = [{attr: 1}]\n",
        "  unprivileged_groups = [{attr: 0}]\n",
        "\n",
        "  attributes_params = dict(protected_attribute_names=[attr], label_names=label_names)\n",
        "  dt = BinaryLabelDataset(df=df, **attributes_params, favorable_label=1, unfavorable_label=0)\n",
        "\n",
        "  metric = BinaryLabelDatasetMetric(dt,\n",
        "                                    unprivileged_groups=unprivileged_groups,\n",
        "                                    privileged_groups=privileged_groups)\n",
        "\n",
        "  return metric, dt"
      ]
    },
    {
      "cell_type": "markdown",
      "metadata": {
        "id": "fXArZ2uS87ql"
      },
      "source": [
        "#### Métricas de Fairness por categoría de edad."
      ]
    },
    {
      "cell_type": "code",
      "execution_count": null,
      "metadata": {
        "colab": {
          "base_uri": "https://localhost:8080/"
        },
        "id": "PQnbsM_4-6WI",
        "outputId": "c5857e64-529e-45c1-a926-8a1108ea23c7"
      },
      "outputs": [
        {
          "name": "stdout",
          "output_type": "stream",
          "text": [
            "Train Statistical Parity Difference (age): -0.13278706925580863\n",
            "Train Disparate Impact (age): 0.8178037886955184\n"
          ]
        }
      ],
      "source": [
        "metric_age_train, train_aifdf = get_aif_metrics('age_cat', df_train, ['credit-score'])\n",
        "print(f'Train Statistical Parity Difference (age): {metric_age_train.mean_difference()}')\n",
        "print(f'Train Disparate Impact (age): {metric_age_train.disparate_impact()}')\n"
      ]
    },
    {
      "cell_type": "code",
      "execution_count": null,
      "metadata": {
        "id": "VuyJh-LOKVlU"
      },
      "outputs": [],
      "source": [
        "y_train_pred_proba = lr.predict_proba(X_train)[:,1]\n",
        "y_train_pred = y_train_pred_proba >= 0.5"
      ]
    },
    {
      "cell_type": "code",
      "execution_count": null,
      "metadata": {
        "id": "Y5TfbNEVJX2j"
      },
      "outputs": [],
      "source": [
        "df_pred = X_train.copy()\n",
        "df_pred['credit-score'] = y_train_pred"
      ]
    },
    {
      "cell_type": "code",
      "execution_count": null,
      "metadata": {
        "colab": {
          "base_uri": "https://localhost:8080/"
        },
        "id": "zLXK_pL6J-Oa",
        "outputId": "71928eaf-63e7-485b-ea11-5e6d72db7790"
      },
      "outputs": [
        {
          "name": "stdout",
          "output_type": "stream",
          "text": [
            "Pred Statistical Parity Difference (age): -0.18487943754528113\n",
            "Pred Disparate Impact (age): 0.7710176431929628\n"
          ]
        }
      ],
      "source": [
        "metric_age_pred, pred_aifdf = get_aif_metrics('age_cat', df_pred, ['credit-score'])\n",
        "print(f'Pred Statistical Parity Difference (age): {metric_age_pred.mean_difference()}')\n",
        "print(f'Pred Disparate Impact (age): {metric_age_pred.disparate_impact()}')"
      ]
    },
    {
      "cell_type": "code",
      "execution_count": null,
      "metadata": {
        "id": "e1pb8r6hJYE6"
      },
      "outputs": [],
      "source": [
        "orig_vs_pred = ClassificationMetric(train_aifdf, pred_aifdf,\n",
        "                                                    unprivileged_groups=unprivileged_groups,\n",
        "                                                    privileged_groups=privileged_groups)"
      ]
    },
    {
      "cell_type": "code",
      "execution_count": null,
      "metadata": {
        "colab": {
          "base_uri": "https://localhost:8080/"
        },
        "id": "WDPDXSeMKiGc",
        "outputId": "3d664f86-9e10-414e-95d5-4b1534719844"
      },
      "outputs": [
        {
          "name": "stdout",
          "output_type": "stream",
          "text": [
            "Error rate difference (unprivileged error rate - privileged error rate)= 0.10803171460933281\n",
            "\n",
            "False negative rate for privileged groups = 0.07188160676532769\n",
            "False negative rate for unprivileged groups = 0.2222222222222222\n",
            "False negative rate ratio = 3.0915032679738563\n",
            "\n",
            "False positive rate for privileged groups = 0.48295454545454547\n",
            "False positive rate for unprivileged groups = 0.39344262295081966\n",
            "False positive rate ratio = 0.8146576663452266\n"
          ]
        }
      ],
      "source": [
        "print(f'Error rate difference (unprivileged error rate - privileged error rate)= {orig_vs_pred.error_rate_difference()}\\n')\n",
        "\n",
        "print(f'False negative rate for privileged groups = {orig_vs_pred.false_negative_rate(privileged=True)}')\n",
        "print(f'False negative rate for unprivileged groups = {orig_vs_pred.false_negative_rate(privileged=False)}')\n",
        "print(f'False negative rate ratio = {orig_vs_pred.false_negative_rate_ratio()}\\n')\n",
        "\n",
        "print(f'False positive rate for privileged groups = {orig_vs_pred.false_positive_rate(privileged=True)}')\n",
        "print(f'False positive rate for unprivileged groups = {orig_vs_pred.false_positive_rate(privileged=False)}')\n",
        "print(f'False positive rate ratio = {orig_vs_pred.false_positive_rate_ratio()}')"
      ]
    },
    {
      "cell_type": "markdown",
      "metadata": {
        "id": "tnNBX0Iv-RcA"
      },
      "source": [
        "<center><h1> MCD - Ciencia de Datos Responsable </h1><center>\n",
        "<center><h2> Tutorial 7: AIF360 Toolkit<h2></center>\n"
      ]
    },
    {
      "cell_type": "markdown",
      "metadata": {
        "id": "nIG0qG-8Iw6y"
      },
      "source": [
        "En el presente tutorial continuaremos con la presentación de la librería AIF360. En particular, veremos como implementar algunos de los algoritmos de mitigación de sesgo que se incluyen en AIF360, y cuales son algunas de las consideraciones que se deben tomar en cuenta a la hora de implementar este tipo de algoritmos.\n",
        "\n"
      ]
    },
    {
      "cell_type": "markdown",
      "metadata": {
        "id": "bcSVLl-3SnxK"
      },
      "source": [
        "## ¿Qué son los algoritmos de mitigación de sesgo?\n",
        "\n",
        "Son un conjunto de técnicas que buscan ajustar las predicciones del modelo de acuerdo a varias definiciones estadísticas de Fairness, es decir, buscan disminuir el sesgo no deseado en los modelos.\n",
        "\n",
        "Diferentes algoritmos para manejar el sesgo intervienen en distintas partes del ciclo de vida del modelo. Al respecto, tenemos 3 caminos para la meta de hacer predicciones justas:\n",
        "\n",
        "- Fair Pre-Processing: Se basan en modificar los datos de entrenamiento del modelo. Entre ellos encontramos el algoritmo de Reweighing, que genera pesos para los las tuplas de los datos de entrenamiento dependiendo de su combinación de (grupo, etiqueta).\n",
        "\n",
        "- Fair In-Processing: En este caso se modifica el algoritmo de aprendizaje. Uno de los más conocidos es Adversiarial Debiasing, donde el objetivo del predictor es maximizar el accuracy mientras se disminuye la capacidad del adversario para deducir el valor de un atributo protegido.\n",
        "\n",
        "- Fair Post-Processing: En este caso se modifican las predicciones del algoritmo. Un ejemplo es el algoritmo de RejectOptionClassification, que se basa en la idea de que el sesgo es \"más probable de ocurrir\" cerca de los límites de la clasificación. Se entregan outcomes favorables al grupo no privilegiado y outcomes no favorables al grupo privilegiado dentro de un intervalo alrededor del límite de clasificación. Como consecuencia, obtendremos límites de clasificación distintos para cada grupo.\n",
        "\n",
        "Entender cómo, cuando y por qué ocupar uno u otro algoritmo de manejo del sesgo es desafiante incluso para los expertos en el tema. Las preguntas que debemos responder al respecto son:\n",
        "\n",
        "- ¿Deberíamos eliminar el sesgo de los datos de entrenamiento? (Pre-Processing)\n",
        "- ¿Deberíamos crear nuevos clasificadores que aprenden modelos no sesgados? (In-Processing)\n",
        "- ¿Es mejor corregir las predicciones del modelo? (Post-Processing)\n",
        "\n",
        "El contexto dictará las ventajas y desventajas de ocupar uno u otro algoritmo. En este tutorial enseñamos la implementación del algoritmo EqOddsPostprocessing. Una de las ventajas de los algoritmos de Post-processing es que se pueden utilizar cuando no se tiene acceso directo al modelo en sí, sino solo a sus predicciones.\n",
        "\n",
        "En el tutorial anterior ya entrenamos un modelo de Regresión Logística.\n"
      ]
    },
    {
      "cell_type": "code",
      "execution_count": null,
      "metadata": {
        "colab": {
          "base_uri": "https://localhost:8080/",
          "height": 75
        },
        "id": "vr0hsJBJXsQT",
        "outputId": "3c772013-d8ca-4ff2-8f12-3ac010a4d3e9"
      },
      "outputs": [
        {
          "data": {
            "text/html": [
              "<style>#sk-container-id-2 {color: black;background-color: white;}#sk-container-id-2 pre{padding: 0;}#sk-container-id-2 div.sk-toggleable {background-color: white;}#sk-container-id-2 label.sk-toggleable__label {cursor: pointer;display: block;width: 100%;margin-bottom: 0;padding: 0.3em;box-sizing: border-box;text-align: center;}#sk-container-id-2 label.sk-toggleable__label-arrow:before {content: \"▸\";float: left;margin-right: 0.25em;color: #696969;}#sk-container-id-2 label.sk-toggleable__label-arrow:hover:before {color: black;}#sk-container-id-2 div.sk-estimator:hover label.sk-toggleable__label-arrow:before {color: black;}#sk-container-id-2 div.sk-toggleable__content {max-height: 0;max-width: 0;overflow: hidden;text-align: left;background-color: #f0f8ff;}#sk-container-id-2 div.sk-toggleable__content pre {margin: 0.2em;color: black;border-radius: 0.25em;background-color: #f0f8ff;}#sk-container-id-2 input.sk-toggleable__control:checked~div.sk-toggleable__content {max-height: 200px;max-width: 100%;overflow: auto;}#sk-container-id-2 input.sk-toggleable__control:checked~label.sk-toggleable__label-arrow:before {content: \"▾\";}#sk-container-id-2 div.sk-estimator input.sk-toggleable__control:checked~label.sk-toggleable__label {background-color: #d4ebff;}#sk-container-id-2 div.sk-label input.sk-toggleable__control:checked~label.sk-toggleable__label {background-color: #d4ebff;}#sk-container-id-2 input.sk-hidden--visually {border: 0;clip: rect(1px 1px 1px 1px);clip: rect(1px, 1px, 1px, 1px);height: 1px;margin: -1px;overflow: hidden;padding: 0;position: absolute;width: 1px;}#sk-container-id-2 div.sk-estimator {font-family: monospace;background-color: #f0f8ff;border: 1px dotted black;border-radius: 0.25em;box-sizing: border-box;margin-bottom: 0.5em;}#sk-container-id-2 div.sk-estimator:hover {background-color: #d4ebff;}#sk-container-id-2 div.sk-parallel-item::after {content: \"\";width: 100%;border-bottom: 1px solid gray;flex-grow: 1;}#sk-container-id-2 div.sk-label:hover label.sk-toggleable__label {background-color: #d4ebff;}#sk-container-id-2 div.sk-serial::before {content: \"\";position: absolute;border-left: 1px solid gray;box-sizing: border-box;top: 0;bottom: 0;left: 50%;z-index: 0;}#sk-container-id-2 div.sk-serial {display: flex;flex-direction: column;align-items: center;background-color: white;padding-right: 0.2em;padding-left: 0.2em;position: relative;}#sk-container-id-2 div.sk-item {position: relative;z-index: 1;}#sk-container-id-2 div.sk-parallel {display: flex;align-items: stretch;justify-content: center;background-color: white;position: relative;}#sk-container-id-2 div.sk-item::before, #sk-container-id-2 div.sk-parallel-item::before {content: \"\";position: absolute;border-left: 1px solid gray;box-sizing: border-box;top: 0;bottom: 0;left: 50%;z-index: -1;}#sk-container-id-2 div.sk-parallel-item {display: flex;flex-direction: column;z-index: 1;position: relative;background-color: white;}#sk-container-id-2 div.sk-parallel-item:first-child::after {align-self: flex-end;width: 50%;}#sk-container-id-2 div.sk-parallel-item:last-child::after {align-self: flex-start;width: 50%;}#sk-container-id-2 div.sk-parallel-item:only-child::after {width: 0;}#sk-container-id-2 div.sk-dashed-wrapped {border: 1px dashed gray;margin: 0 0.4em 0.5em 0.4em;box-sizing: border-box;padding-bottom: 0.4em;background-color: white;}#sk-container-id-2 div.sk-label label {font-family: monospace;font-weight: bold;display: inline-block;line-height: 1.2em;}#sk-container-id-2 div.sk-label-container {text-align: center;}#sk-container-id-2 div.sk-container {/* jupyter's `normalize.less` sets `[hidden] { display: none; }` but bootstrap.min.css set `[hidden] { display: none !important; }` so we also need the `!important` here to be able to override the default hidden behavior on the sphinx rendered scikit-learn.org. See: https://github.com/scikit-learn/scikit-learn/issues/21755 */display: inline-block !important;position: relative;}#sk-container-id-2 div.sk-text-repr-fallback {display: none;}</style><div id=\"sk-container-id-2\" class=\"sk-top-container\"><div class=\"sk-text-repr-fallback\"><pre>LogisticRegressionCV(cv=10, random_state=908, solver=&#x27;liblinear&#x27;)</pre><b>In a Jupyter environment, please rerun this cell to show the HTML representation or trust the notebook. <br />On GitHub, the HTML representation is unable to render, please try loading this page with nbviewer.org.</b></div><div class=\"sk-container\" hidden><div class=\"sk-item\"><div class=\"sk-estimator sk-toggleable\"><input class=\"sk-toggleable__control sk-hidden--visually\" id=\"sk-estimator-id-2\" type=\"checkbox\" checked><label for=\"sk-estimator-id-2\" class=\"sk-toggleable__label sk-toggleable__label-arrow\">LogisticRegressionCV</label><div class=\"sk-toggleable__content\"><pre>LogisticRegressionCV(cv=10, random_state=908, solver=&#x27;liblinear&#x27;)</pre></div></div></div></div></div>"
            ],
            "text/plain": [
              "LogisticRegressionCV(cv=10, random_state=908, solver='liblinear')"
            ]
          },
          "execution_count": 30,
          "metadata": {},
          "output_type": "execute_result"
        }
      ],
      "source": [
        "lr"
      ]
    },
    {
      "cell_type": "markdown",
      "metadata": {
        "id": "BfrUH0lLaFqx"
      },
      "source": [
        "Obtengamos las predicciones para los datos de prueba, además de su accuracy:"
      ]
    },
    {
      "cell_type": "code",
      "execution_count": null,
      "metadata": {
        "colab": {
          "base_uri": "https://localhost:8080/"
        },
        "id": "ZAazofkNYrpL",
        "outputId": "7bbf5701-771f-4ce1-847a-de52214ff6f7"
      },
      "outputs": [
        {
          "name": "stdout",
          "output_type": "stream",
          "text": [
            "Accuracy: 0.735\n"
          ]
        }
      ],
      "source": [
        "y_pred_proba = lr.predict_proba(X_test)[:,1]\n",
        "y_pred = y_pred_proba >= 0.5\n",
        "\n",
        "print(f\"Accuracy: {accuracy_score(y_test, y_pred)}\")"
      ]
    },
    {
      "cell_type": "markdown",
      "metadata": {
        "id": "oGhBBPlkaQyD"
      },
      "source": [
        "Ahora, añadimos las predicciones a los datos de testeo para formar un nuevo dataframe. Además restauraremos los datos de testeo originales (atributos + etiquetas)."
      ]
    },
    {
      "cell_type": "code",
      "execution_count": null,
      "metadata": {
        "id": "75tNLoFNaP8v"
      },
      "outputs": [],
      "source": [
        "# Dataframe test con predicciones\n",
        "df_test_pred = X_test.copy()\n",
        "df_test_pred['credit-score'] = y_pred\n",
        "\n",
        "# Dataframe test con etiquetas\n",
        "df_test = X_test.copy()\n",
        "df_test['credit-score'] = y_test"
      ]
    },
    {
      "cell_type": "markdown",
      "metadata": {
        "id": "ooxrI3qxsvw0"
      },
      "source": [
        "Supongamos que en el contexto de nuestro problema nos interesa mejorar la igualdad de oportunidades (diferencia entre TPR) en nuestras predicciones. Veamos cual es el valor de esta métrica en las predicciones originales del modelo:"
      ]
    },
    {
      "cell_type": "code",
      "execution_count": null,
      "metadata": {
        "colab": {
          "base_uri": "https://localhost:8080/"
        },
        "id": "5850K_7jaMlR",
        "outputId": "ad77e889-cb03-4728-e752-430e76596dce"
      },
      "outputs": [
        {
          "name": "stdout",
          "output_type": "stream",
          "text": [
            "('{\"metric\": \"Mean Difference\", \"message\": \"Mean difference (mean label value '\n",
            " 'on unprivileged instances - mean label value on privileged instances): '\n",
            " '-0.30705526357700275\", \"numPositivesUnprivileged\": 20.0, '\n",
            " '\"numInstancesUnprivileged\": 39.0, \"numPositivesPrivileged\": 132.0, '\n",
            " '\"numInstancesPrivileged\": 161.0, \"description\": \"Computed as the difference '\n",
            " 'of the rate of favorable outcomes received by the unprivileged group to the '\n",
            " 'privileged group.\", \"ideal\": \"The ideal value of this metric is 0.0\"}')\n"
          ]
        }
      ],
      "source": [
        "metric_age_test_pred, test_pred_aifdf = get_aif_metrics('age_cat', df_test_pred, ['credit-score'])\n",
        "_, test_aifdf = get_aif_metrics('age_cat', df_test, ['credit-score'])"
      ]
    },
    {
      "cell_type": "code",
      "execution_count": null,
      "metadata": {
        "id": "55h2fKxHxEsX"
      },
      "outputs": [],
      "source": [
        "cm_pred_test = ClassificationMetric(test_aifdf, test_pred_aifdf,\n",
        "                             unprivileged_groups=unprivileged_groups,\n",
        "                             privileged_groups=privileged_groups)"
      ]
    },
    {
      "cell_type": "code",
      "execution_count": null,
      "metadata": {
        "colab": {
          "base_uri": "https://localhost:8080/"
        },
        "id": "j7tAWbODxQ2W",
        "outputId": "2d0e0939-56d4-4046-cdd6-db759da0807e"
      },
      "outputs": [
        {
          "data": {
            "text/plain": [
              "-0.24743589743589745"
            ]
          },
          "execution_count": 36,
          "metadata": {},
          "output_type": "execute_result"
        }
      ],
      "source": [
        "cm_pred_test.equal_opportunity_difference()"
      ]
    },
    {
      "cell_type": "markdown",
      "metadata": {
        "id": "s7gwS6KXs8HS"
      },
      "source": [
        "Ahora implementemos el algoritmo de EqOddsPostprocessing. Para esto, debemos instanciarlo de forma bastante similar a lo que hemos visto en las estructuras de AIF360, indicando grupos privilegiados y no privilegiados. Este algoritmo resuelve un problema de optimización lineal para cambiar las etiquetas en post de mejorar la igualdad en términos de TPR y FPR."
      ]
    },
    {
      "cell_type": "code",
      "execution_count": null,
      "metadata": {
        "id": "4DHHfAgza59Q"
      },
      "outputs": [],
      "source": [
        "from aif360.algorithms.postprocessing.eq_odds_postprocessing import EqOddsPostprocessing"
      ]
    },
    {
      "cell_type": "code",
      "execution_count": null,
      "metadata": {
        "colab": {
          "base_uri": "https://localhost:8080/"
        },
        "id": "URBqNvpQcYcZ",
        "outputId": "531faee8-4744-4994-ab15-dd2df75c613c"
      },
      "outputs": [
        {
          "data": {
            "text/plain": [
              "<aif360.algorithms.postprocessing.eq_odds_postprocessing.EqOddsPostprocessing at 0x7c0714ef6fb0>"
            ]
          },
          "execution_count": 57,
          "metadata": {},
          "output_type": "execute_result"
        }
      ],
      "source": [
        "roc = EqOddsPostprocessing(unprivileged_groups=unprivileged_groups,\n",
        "                                 privileged_groups=privileged_groups,\n",
        "                           seed = 103)\n",
        "roc.fit(test_aifdf, test_pred_aifdf)"
      ]
    },
    {
      "cell_type": "code",
      "execution_count": null,
      "metadata": {
        "id": "rOjn492Rc2wk"
      },
      "outputs": [],
      "source": [
        "df = roc.predict(test_pred_aifdf)"
      ]
    },
    {
      "cell_type": "code",
      "execution_count": null,
      "metadata": {
        "id": "M8UFtxVleCyU"
      },
      "outputs": [],
      "source": [
        "privileged_groups = [{'age_cat': 1}]\n",
        "unprivileged_groups = [{'age_cat': 0}]\n",
        "\n",
        "\n",
        "metric = BinaryLabelDatasetMetric(df,\n",
        "                                  unprivileged_groups=unprivileged_groups,\n",
        "                                  privileged_groups=privileged_groups)"
      ]
    },
    {
      "cell_type": "code",
      "execution_count": null,
      "metadata": {
        "id": "tEPCh4nswWig"
      },
      "outputs": [],
      "source": [
        "cm_pred_test_post = ClassificationMetric(test_aifdf, df,\n",
        "                             unprivileged_groups=unprivileged_groups,\n",
        "                             privileged_groups=privileged_groups)"
      ]
    },
    {
      "cell_type": "code",
      "execution_count": null,
      "metadata": {
        "colab": {
          "base_uri": "https://localhost:8080/"
        },
        "id": "QZWO_Vf-xYRr",
        "outputId": "58056ce4-c12c-4977-f0e6-6975414367e0"
      },
      "outputs": [
        {
          "data": {
            "text/plain": [
              "0.007692307692307665"
            ]
          },
          "execution_count": 61,
          "metadata": {},
          "output_type": "execute_result"
        }
      ],
      "source": [
        "cm_pred_test_post.equal_opportunity_difference()"
      ]
    },
    {
      "cell_type": "markdown",
      "metadata": {
        "id": "jTsR9U2C6UlB"
      },
      "source": [
        "<center><h1> MCD - Ciencia de Datos Responsable </h1><center>\n",
        "<center><h2> Tutorial 8: AIF360 Toolkit<h2></center>\n",
        "\n",
        "En este tutorial mostraremos como implementar el algoritmo de Reweighing en los datos de entrenamiento, con el objetivo de mitigar el sesgo presente en los datos y disminuir el sesgo indeseado en las predicciones del modelo."
      ]
    },
    {
      "cell_type": "code",
      "execution_count": null,
      "metadata": {
        "colab": {
          "base_uri": "https://localhost:8080/",
          "height": 75
        },
        "id": "5-sp1OTI67_G",
        "outputId": "76b2db81-2e0d-4b8a-cfd2-ef78491b7bda"
      },
      "outputs": [
        {
          "data": {
            "text/html": [
              "<style>#sk-container-id-3 {color: black;background-color: white;}#sk-container-id-3 pre{padding: 0;}#sk-container-id-3 div.sk-toggleable {background-color: white;}#sk-container-id-3 label.sk-toggleable__label {cursor: pointer;display: block;width: 100%;margin-bottom: 0;padding: 0.3em;box-sizing: border-box;text-align: center;}#sk-container-id-3 label.sk-toggleable__label-arrow:before {content: \"▸\";float: left;margin-right: 0.25em;color: #696969;}#sk-container-id-3 label.sk-toggleable__label-arrow:hover:before {color: black;}#sk-container-id-3 div.sk-estimator:hover label.sk-toggleable__label-arrow:before {color: black;}#sk-container-id-3 div.sk-toggleable__content {max-height: 0;max-width: 0;overflow: hidden;text-align: left;background-color: #f0f8ff;}#sk-container-id-3 div.sk-toggleable__content pre {margin: 0.2em;color: black;border-radius: 0.25em;background-color: #f0f8ff;}#sk-container-id-3 input.sk-toggleable__control:checked~div.sk-toggleable__content {max-height: 200px;max-width: 100%;overflow: auto;}#sk-container-id-3 input.sk-toggleable__control:checked~label.sk-toggleable__label-arrow:before {content: \"▾\";}#sk-container-id-3 div.sk-estimator input.sk-toggleable__control:checked~label.sk-toggleable__label {background-color: #d4ebff;}#sk-container-id-3 div.sk-label input.sk-toggleable__control:checked~label.sk-toggleable__label {background-color: #d4ebff;}#sk-container-id-3 input.sk-hidden--visually {border: 0;clip: rect(1px 1px 1px 1px);clip: rect(1px, 1px, 1px, 1px);height: 1px;margin: -1px;overflow: hidden;padding: 0;position: absolute;width: 1px;}#sk-container-id-3 div.sk-estimator {font-family: monospace;background-color: #f0f8ff;border: 1px dotted black;border-radius: 0.25em;box-sizing: border-box;margin-bottom: 0.5em;}#sk-container-id-3 div.sk-estimator:hover {background-color: #d4ebff;}#sk-container-id-3 div.sk-parallel-item::after {content: \"\";width: 100%;border-bottom: 1px solid gray;flex-grow: 1;}#sk-container-id-3 div.sk-label:hover label.sk-toggleable__label {background-color: #d4ebff;}#sk-container-id-3 div.sk-serial::before {content: \"\";position: absolute;border-left: 1px solid gray;box-sizing: border-box;top: 0;bottom: 0;left: 50%;z-index: 0;}#sk-container-id-3 div.sk-serial {display: flex;flex-direction: column;align-items: center;background-color: white;padding-right: 0.2em;padding-left: 0.2em;position: relative;}#sk-container-id-3 div.sk-item {position: relative;z-index: 1;}#sk-container-id-3 div.sk-parallel {display: flex;align-items: stretch;justify-content: center;background-color: white;position: relative;}#sk-container-id-3 div.sk-item::before, #sk-container-id-3 div.sk-parallel-item::before {content: \"\";position: absolute;border-left: 1px solid gray;box-sizing: border-box;top: 0;bottom: 0;left: 50%;z-index: -1;}#sk-container-id-3 div.sk-parallel-item {display: flex;flex-direction: column;z-index: 1;position: relative;background-color: white;}#sk-container-id-3 div.sk-parallel-item:first-child::after {align-self: flex-end;width: 50%;}#sk-container-id-3 div.sk-parallel-item:last-child::after {align-self: flex-start;width: 50%;}#sk-container-id-3 div.sk-parallel-item:only-child::after {width: 0;}#sk-container-id-3 div.sk-dashed-wrapped {border: 1px dashed gray;margin: 0 0.4em 0.5em 0.4em;box-sizing: border-box;padding-bottom: 0.4em;background-color: white;}#sk-container-id-3 div.sk-label label {font-family: monospace;font-weight: bold;display: inline-block;line-height: 1.2em;}#sk-container-id-3 div.sk-label-container {text-align: center;}#sk-container-id-3 div.sk-container {/* jupyter's `normalize.less` sets `[hidden] { display: none; }` but bootstrap.min.css set `[hidden] { display: none !important; }` so we also need the `!important` here to be able to override the default hidden behavior on the sphinx rendered scikit-learn.org. See: https://github.com/scikit-learn/scikit-learn/issues/21755 */display: inline-block !important;position: relative;}#sk-container-id-3 div.sk-text-repr-fallback {display: none;}</style><div id=\"sk-container-id-3\" class=\"sk-top-container\"><div class=\"sk-text-repr-fallback\"><pre>LogisticRegressionCV(cv=10, random_state=908, solver=&#x27;liblinear&#x27;)</pre><b>In a Jupyter environment, please rerun this cell to show the HTML representation or trust the notebook. <br />On GitHub, the HTML representation is unable to render, please try loading this page with nbviewer.org.</b></div><div class=\"sk-container\" hidden><div class=\"sk-item\"><div class=\"sk-estimator sk-toggleable\"><input class=\"sk-toggleable__control sk-hidden--visually\" id=\"sk-estimator-id-3\" type=\"checkbox\" checked><label for=\"sk-estimator-id-3\" class=\"sk-toggleable__label sk-toggleable__label-arrow\">LogisticRegressionCV</label><div class=\"sk-toggleable__content\"><pre>LogisticRegressionCV(cv=10, random_state=908, solver=&#x27;liblinear&#x27;)</pre></div></div></div></div></div>"
            ],
            "text/plain": [
              "LogisticRegressionCV(cv=10, random_state=908, solver='liblinear')"
            ]
          },
          "execution_count": 65,
          "metadata": {},
          "output_type": "execute_result"
        }
      ],
      "source": [
        "lr"
      ]
    },
    {
      "cell_type": "code",
      "execution_count": null,
      "metadata": {
        "colab": {
          "base_uri": "https://localhost:8080/",
          "height": 290
        },
        "id": "NlpwIGCd6Ydp",
        "outputId": "25317cd3-64b0-4ea3-f7f8-4fa137502f9b"
      },
      "outputs": [
        {
          "data": {
            "text/html": [
              "\n",
              "  <div id=\"df-00c94fd1-9a1b-4a38-bd7b-4fac6c74b5e0\" class=\"colab-df-container\">\n",
              "    <div>\n",
              "<style scoped>\n",
              "    .dataframe tbody tr th:only-of-type {\n",
              "        vertical-align: middle;\n",
              "    }\n",
              "\n",
              "    .dataframe tbody tr th {\n",
              "        vertical-align: top;\n",
              "    }\n",
              "\n",
              "    .dataframe thead th {\n",
              "        text-align: right;\n",
              "    }\n",
              "</style>\n",
              "<table border=\"1\" class=\"dataframe\">\n",
              "  <thead>\n",
              "    <tr style=\"text-align: right;\">\n",
              "      <th></th>\n",
              "      <th>sex</th>\n",
              "      <th>age_cat</th>\n",
              "      <th>foreign_worker</th>\n",
              "      <th>duration</th>\n",
              "      <th>credit_amount</th>\n",
              "      <th>installment_commitment</th>\n",
              "      <th>residence_since</th>\n",
              "      <th>existing_credits</th>\n",
              "      <th>num_dependents</th>\n",
              "      <th>checking_status_&lt;0</th>\n",
              "      <th>...</th>\n",
              "      <th>job_unskilled resident</th>\n",
              "      <th>job_skilled</th>\n",
              "      <th>job_high qualif/self emp/mgmt</th>\n",
              "      <th>own_telephone_none</th>\n",
              "      <th>own_telephone_yes</th>\n",
              "      <th>marital_status_div/dep/mar</th>\n",
              "      <th>marital_status_div/sep</th>\n",
              "      <th>marital_status_mar/wid</th>\n",
              "      <th>marital_status_single</th>\n",
              "      <th>credit-score</th>\n",
              "    </tr>\n",
              "  </thead>\n",
              "  <tbody>\n",
              "    <tr>\n",
              "      <th>589</th>\n",
              "      <td>1</td>\n",
              "      <td>1</td>\n",
              "      <td>0</td>\n",
              "      <td>12.0</td>\n",
              "      <td>2246.0</td>\n",
              "      <td>3.0</td>\n",
              "      <td>3.0</td>\n",
              "      <td>2.0</td>\n",
              "      <td>1.0</td>\n",
              "      <td>1</td>\n",
              "      <td>...</td>\n",
              "      <td>0</td>\n",
              "      <td>1</td>\n",
              "      <td>0</td>\n",
              "      <td>1</td>\n",
              "      <td>0</td>\n",
              "      <td>0</td>\n",
              "      <td>0</td>\n",
              "      <td>0</td>\n",
              "      <td>1</td>\n",
              "      <td>0</td>\n",
              "    </tr>\n",
              "    <tr>\n",
              "      <th>336</th>\n",
              "      <td>0</td>\n",
              "      <td>0</td>\n",
              "      <td>0</td>\n",
              "      <td>13.0</td>\n",
              "      <td>2101.0</td>\n",
              "      <td>2.0</td>\n",
              "      <td>4.0</td>\n",
              "      <td>1.0</td>\n",
              "      <td>1.0</td>\n",
              "      <td>0</td>\n",
              "      <td>...</td>\n",
              "      <td>1</td>\n",
              "      <td>0</td>\n",
              "      <td>0</td>\n",
              "      <td>1</td>\n",
              "      <td>0</td>\n",
              "      <td>1</td>\n",
              "      <td>0</td>\n",
              "      <td>0</td>\n",
              "      <td>0</td>\n",
              "      <td>1</td>\n",
              "    </tr>\n",
              "    <tr>\n",
              "      <th>446</th>\n",
              "      <td>0</td>\n",
              "      <td>1</td>\n",
              "      <td>0</td>\n",
              "      <td>36.0</td>\n",
              "      <td>1842.0</td>\n",
              "      <td>4.0</td>\n",
              "      <td>4.0</td>\n",
              "      <td>1.0</td>\n",
              "      <td>1.0</td>\n",
              "      <td>1</td>\n",
              "      <td>...</td>\n",
              "      <td>0</td>\n",
              "      <td>1</td>\n",
              "      <td>0</td>\n",
              "      <td>0</td>\n",
              "      <td>1</td>\n",
              "      <td>1</td>\n",
              "      <td>0</td>\n",
              "      <td>0</td>\n",
              "      <td>0</td>\n",
              "      <td>0</td>\n",
              "    </tr>\n",
              "    <tr>\n",
              "      <th>997</th>\n",
              "      <td>1</td>\n",
              "      <td>1</td>\n",
              "      <td>0</td>\n",
              "      <td>12.0</td>\n",
              "      <td>804.0</td>\n",
              "      <td>4.0</td>\n",
              "      <td>4.0</td>\n",
              "      <td>1.0</td>\n",
              "      <td>1.0</td>\n",
              "      <td>0</td>\n",
              "      <td>...</td>\n",
              "      <td>0</td>\n",
              "      <td>1</td>\n",
              "      <td>0</td>\n",
              "      <td>1</td>\n",
              "      <td>0</td>\n",
              "      <td>0</td>\n",
              "      <td>0</td>\n",
              "      <td>0</td>\n",
              "      <td>1</td>\n",
              "      <td>1</td>\n",
              "    </tr>\n",
              "    <tr>\n",
              "      <th>917</th>\n",
              "      <td>1</td>\n",
              "      <td>1</td>\n",
              "      <td>0</td>\n",
              "      <td>6.0</td>\n",
              "      <td>14896.0</td>\n",
              "      <td>1.0</td>\n",
              "      <td>4.0</td>\n",
              "      <td>1.0</td>\n",
              "      <td>1.0</td>\n",
              "      <td>1</td>\n",
              "      <td>...</td>\n",
              "      <td>0</td>\n",
              "      <td>0</td>\n",
              "      <td>1</td>\n",
              "      <td>0</td>\n",
              "      <td>1</td>\n",
              "      <td>0</td>\n",
              "      <td>0</td>\n",
              "      <td>0</td>\n",
              "      <td>1</td>\n",
              "      <td>0</td>\n",
              "    </tr>\n",
              "  </tbody>\n",
              "</table>\n",
              "<p>5 rows × 62 columns</p>\n",
              "</div>\n",
              "    <div class=\"colab-df-buttons\">\n",
              "\n",
              "  <div class=\"colab-df-container\">\n",
              "    <button class=\"colab-df-convert\" onclick=\"convertToInteractive('df-00c94fd1-9a1b-4a38-bd7b-4fac6c74b5e0')\"\n",
              "            title=\"Convert this dataframe to an interactive table.\"\n",
              "            style=\"display:none;\">\n",
              "\n",
              "  <svg xmlns=\"http://www.w3.org/2000/svg\" height=\"24px\" viewBox=\"0 -960 960 960\">\n",
              "    <path d=\"M120-120v-720h720v720H120Zm60-500h600v-160H180v160Zm220 220h160v-160H400v160Zm0 220h160v-160H400v160ZM180-400h160v-160H180v160Zm440 0h160v-160H620v160ZM180-180h160v-160H180v160Zm440 0h160v-160H620v160Z\"/>\n",
              "  </svg>\n",
              "    </button>\n",
              "\n",
              "  <style>\n",
              "    .colab-df-container {\n",
              "      display:flex;\n",
              "      gap: 12px;\n",
              "    }\n",
              "\n",
              "    .colab-df-convert {\n",
              "      background-color: #E8F0FE;\n",
              "      border: none;\n",
              "      border-radius: 50%;\n",
              "      cursor: pointer;\n",
              "      display: none;\n",
              "      fill: #1967D2;\n",
              "      height: 32px;\n",
              "      padding: 0 0 0 0;\n",
              "      width: 32px;\n",
              "    }\n",
              "\n",
              "    .colab-df-convert:hover {\n",
              "      background-color: #E2EBFA;\n",
              "      box-shadow: 0px 1px 2px rgba(60, 64, 67, 0.3), 0px 1px 3px 1px rgba(60, 64, 67, 0.15);\n",
              "      fill: #174EA6;\n",
              "    }\n",
              "\n",
              "    .colab-df-buttons div {\n",
              "      margin-bottom: 4px;\n",
              "    }\n",
              "\n",
              "    [theme=dark] .colab-df-convert {\n",
              "      background-color: #3B4455;\n",
              "      fill: #D2E3FC;\n",
              "    }\n",
              "\n",
              "    [theme=dark] .colab-df-convert:hover {\n",
              "      background-color: #434B5C;\n",
              "      box-shadow: 0px 1px 3px 1px rgba(0, 0, 0, 0.15);\n",
              "      filter: drop-shadow(0px 1px 2px rgba(0, 0, 0, 0.3));\n",
              "      fill: #FFFFFF;\n",
              "    }\n",
              "  </style>\n",
              "\n",
              "    <script>\n",
              "      const buttonEl =\n",
              "        document.querySelector('#df-00c94fd1-9a1b-4a38-bd7b-4fac6c74b5e0 button.colab-df-convert');\n",
              "      buttonEl.style.display =\n",
              "        google.colab.kernel.accessAllowed ? 'block' : 'none';\n",
              "\n",
              "      async function convertToInteractive(key) {\n",
              "        const element = document.querySelector('#df-00c94fd1-9a1b-4a38-bd7b-4fac6c74b5e0');\n",
              "        const dataTable =\n",
              "          await google.colab.kernel.invokeFunction('convertToInteractive',\n",
              "                                                    [key], {});\n",
              "        if (!dataTable) return;\n",
              "\n",
              "        const docLinkHtml = 'Like what you see? Visit the ' +\n",
              "          '<a target=\"_blank\" href=https://colab.research.google.com/notebooks/data_table.ipynb>data table notebook</a>'\n",
              "          + ' to learn more about interactive tables.';\n",
              "        element.innerHTML = '';\n",
              "        dataTable['output_type'] = 'display_data';\n",
              "        await google.colab.output.renderOutput(dataTable, element);\n",
              "        const docLink = document.createElement('div');\n",
              "        docLink.innerHTML = docLinkHtml;\n",
              "        element.appendChild(docLink);\n",
              "      }\n",
              "    </script>\n",
              "  </div>\n",
              "\n",
              "\n",
              "<div id=\"df-2f6da2ab-9749-4f52-af02-89ab5e69a320\">\n",
              "  <button class=\"colab-df-quickchart\" onclick=\"quickchart('df-2f6da2ab-9749-4f52-af02-89ab5e69a320')\"\n",
              "            title=\"Suggest charts.\"\n",
              "            style=\"display:none;\">\n",
              "\n",
              "<svg xmlns=\"http://www.w3.org/2000/svg\" height=\"24px\"viewBox=\"0 0 24 24\"\n",
              "     width=\"24px\">\n",
              "    <g>\n",
              "        <path d=\"M19 3H5c-1.1 0-2 .9-2 2v14c0 1.1.9 2 2 2h14c1.1 0 2-.9 2-2V5c0-1.1-.9-2-2-2zM9 17H7v-7h2v7zm4 0h-2V7h2v10zm4 0h-2v-4h2v4z\"/>\n",
              "    </g>\n",
              "</svg>\n",
              "  </button>\n",
              "\n",
              "<style>\n",
              "  .colab-df-quickchart {\n",
              "    background-color: #E8F0FE;\n",
              "    border: none;\n",
              "    border-radius: 50%;\n",
              "    cursor: pointer;\n",
              "    display: none;\n",
              "    fill: #1967D2;\n",
              "    height: 32px;\n",
              "    padding: 0 0 0 0;\n",
              "    width: 32px;\n",
              "  }\n",
              "\n",
              "  .colab-df-quickchart:hover {\n",
              "    background-color: #E2EBFA;\n",
              "    box-shadow: 0px 1px 2px rgba(60, 64, 67, 0.3), 0px 1px 3px 1px rgba(60, 64, 67, 0.15);\n",
              "    fill: #174EA6;\n",
              "  }\n",
              "\n",
              "  [theme=dark] .colab-df-quickchart {\n",
              "    background-color: #3B4455;\n",
              "    fill: #D2E3FC;\n",
              "  }\n",
              "\n",
              "  [theme=dark] .colab-df-quickchart:hover {\n",
              "    background-color: #434B5C;\n",
              "    box-shadow: 0px 1px 3px 1px rgba(0, 0, 0, 0.15);\n",
              "    filter: drop-shadow(0px 1px 2px rgba(0, 0, 0, 0.3));\n",
              "    fill: #FFFFFF;\n",
              "  }\n",
              "</style>\n",
              "\n",
              "  <script>\n",
              "    async function quickchart(key) {\n",
              "      const charts = await google.colab.kernel.invokeFunction(\n",
              "          'suggestCharts', [key], {});\n",
              "    }\n",
              "    (() => {\n",
              "      let quickchartButtonEl =\n",
              "        document.querySelector('#df-2f6da2ab-9749-4f52-af02-89ab5e69a320 button');\n",
              "      quickchartButtonEl.style.display =\n",
              "        google.colab.kernel.accessAllowed ? 'block' : 'none';\n",
              "    })();\n",
              "  </script>\n",
              "</div>\n",
              "    </div>\n",
              "  </div>\n"
            ],
            "text/plain": [
              "    sex age_cat foreign_worker  duration  credit_amount  \\\n",
              "589   1       1              0      12.0         2246.0   \n",
              "336   0       0              0      13.0         2101.0   \n",
              "446   0       1              0      36.0         1842.0   \n",
              "997   1       1              0      12.0          804.0   \n",
              "917   1       1              0       6.0        14896.0   \n",
              "\n",
              "     installment_commitment  residence_since  existing_credits  \\\n",
              "589                     3.0              3.0               2.0   \n",
              "336                     2.0              4.0               1.0   \n",
              "446                     4.0              4.0               1.0   \n",
              "997                     4.0              4.0               1.0   \n",
              "917                     1.0              4.0               1.0   \n",
              "\n",
              "     num_dependents  checking_status_<0  ...  job_unskilled resident  \\\n",
              "589             1.0                   1  ...                       0   \n",
              "336             1.0                   0  ...                       1   \n",
              "446             1.0                   1  ...                       0   \n",
              "997             1.0                   0  ...                       0   \n",
              "917             1.0                   1  ...                       0   \n",
              "\n",
              "     job_skilled  job_high qualif/self emp/mgmt  own_telephone_none  \\\n",
              "589            1                              0                   1   \n",
              "336            0                              0                   1   \n",
              "446            1                              0                   0   \n",
              "997            1                              0                   1   \n",
              "917            0                              1                   0   \n",
              "\n",
              "     own_telephone_yes  marital_status_div/dep/mar  marital_status_div/sep  \\\n",
              "589                  0                           0                       0   \n",
              "336                  0                           1                       0   \n",
              "446                  1                           1                       0   \n",
              "997                  0                           0                       0   \n",
              "917                  1                           0                       0   \n",
              "\n",
              "     marital_status_mar/wid  marital_status_single  credit-score  \n",
              "589                       0                      1             0  \n",
              "336                       0                      0             1  \n",
              "446                       0                      0             0  \n",
              "997                       0                      1             1  \n",
              "917                       0                      1             0  \n",
              "\n",
              "[5 rows x 62 columns]"
            ]
          },
          "execution_count": 64,
          "metadata": {},
          "output_type": "execute_result"
        }
      ],
      "source": [
        "df_train.head()"
      ]
    },
    {
      "cell_type": "code",
      "execution_count": null,
      "metadata": {
        "id": "vinvla5y6yzq"
      },
      "outputs": [],
      "source": [
        "y_train_pred_proba = lr.predict_proba(X_train)[:,1]\n",
        "y_train_pred = y_train_pred_proba >= 0.5"
      ]
    },
    {
      "cell_type": "code",
      "execution_count": null,
      "metadata": {
        "id": "RnYtwLPo695K"
      },
      "outputs": [],
      "source": [
        "df_pred = X_train.copy()\n",
        "df_pred['credit-score'] = y_train_pred"
      ]
    },
    {
      "cell_type": "code",
      "execution_count": null,
      "metadata": {
        "colab": {
          "base_uri": "https://localhost:8080/"
        },
        "id": "20yPdyoU7mg8",
        "outputId": "be7b4bcd-aef5-47eb-cf3f-b4f91c9f72f0"
      },
      "outputs": [
        {
          "name": "stdout",
          "output_type": "stream",
          "text": [
            "Statistical Parity Difference (age): -0.13278706925580863\n",
            "Disparate Impact (age): 0.8178037886955184\n"
          ]
        }
      ],
      "source": [
        "metric_age_train, train_aifdf = get_aif_metrics('age_cat', df_train, ['credit-score'])\n",
        "print(f'Statistical Parity Difference (age): {metric_age_train.mean_difference()}')\n",
        "print(f'Disparate Impact (age): {metric_age_train.disparate_impact()}')"
      ]
    },
    {
      "cell_type": "code",
      "execution_count": null,
      "metadata": {
        "colab": {
          "base_uri": "https://localhost:8080/"
        },
        "id": "O80NEVqK7Ci0",
        "outputId": "80288a80-da8d-4dce-91bc-a89d232bd47e"
      },
      "outputs": [
        {
          "name": "stdout",
          "output_type": "stream",
          "text": [
            "Pred Statistical Parity Difference (age): -0.18487943754528113\n",
            "Pred Disparate Impact (age): 0.7710176431929628\n"
          ]
        }
      ],
      "source": [
        "metric_age_pred, pred_aifdf = get_aif_metrics('age_cat', df_pred, ['credit-score'])\n",
        "print(f'Pred Statistical Parity Difference (age): {metric_age_pred.mean_difference()}')\n",
        "print(f'Pred Disparate Impact (age): {metric_age_pred.disparate_impact()}')"
      ]
    },
    {
      "cell_type": "markdown",
      "metadata": {
        "id": "92BGRu7C8uFm"
      },
      "source": [
        "Los algoritmos de preprocesamiento tienden a cambiar las distribuciones de las variables protegidas en las muestras, o en términos más amplios, aplican cambios particulares a los datos para eliminar cualquier sesgo **en los datos de entrenamiento**. Estos cambios podrían ser, por ejemplo, cambiar la etiqueta de ciertos registros. El concepto fundamental es entrenar un modelo utilizando un conjunto de datos que ha sido \"corregido\".\n",
        "\n",
        "En particular, estaremos aplicando la tecnica de **Reweighing**. Esta es una técnica de pre-procesamiento de datos que genera pesos para cada tupla según la combinación (grupo, etiqueta), para intentar mitigar el sesgo con respecto a los atributos sensibles antes de la clasificación.\n",
        "\n",
        "En primer lugar, veamos como el Reweighing puede ayudar a eliminar el sesgo en los datos de entrenamiento."
      ]
    },
    {
      "cell_type": "code",
      "execution_count": null,
      "metadata": {
        "id": "v3pnniud7iTx"
      },
      "outputs": [],
      "source": [
        "from aif360.algorithms.preprocessing import Reweighing"
      ]
    },
    {
      "cell_type": "code",
      "execution_count": null,
      "metadata": {
        "colab": {
          "base_uri": "https://localhost:8080/"
        },
        "id": "2yNG8hsY8kBk",
        "outputId": "7abc9be8-c1ba-401c-ea07-43fdd86930c5"
      },
      "outputs": [
        {
          "data": {
            "text/plain": [
              "array([1., 1., 1., 1., 1., 1., 1., 1., 1., 1., 1., 1., 1., 1., 1., 1., 1.,\n",
              "       1., 1., 1., 1., 1., 1., 1., 1., 1., 1., 1., 1., 1.])"
            ]
          },
          "execution_count": 76,
          "metadata": {},
          "output_type": "execute_result"
        }
      ],
      "source": [
        "# Originalmente todas las tuplas tienen peso 1.\n",
        "\n",
        "train_aifdf.instance_weights[0:30]"
      ]
    },
    {
      "cell_type": "markdown",
      "metadata": {
        "id": "LJmfPX6r9AG4"
      },
      "source": [
        "En este caso, estaremos enfocados en aplicar esta técnica para disminuir el sesgo con respecto a la categoría de edad."
      ]
    },
    {
      "cell_type": "code",
      "execution_count": null,
      "metadata": {
        "id": "BH4vFZcf81Sq"
      },
      "outputs": [],
      "source": [
        "# Debemos definir nuestros grupos privilegiados y no privilegiados.\n",
        "\n",
        "privileged_groups = [{'age_cat': 1}]\n",
        "unprivileged_groups = [{'age_cat': 0}]\n",
        "\n",
        "# Instanciamos algoritmo de Reweighing\n",
        "\n",
        "reweight = Reweighing(unprivileged_groups=unprivileged_groups,\n",
        "                privileged_groups=privileged_groups)\n",
        "\n",
        "# Obtenemos los nuevos datos de entrenamiento (en formato BinaryLabelDataset)\n",
        "\n",
        "reweighted = reweight.fit_transform(train_aifdf)"
      ]
    },
    {
      "cell_type": "code",
      "execution_count": null,
      "metadata": {
        "colab": {
          "base_uri": "https://localhost:8080/"
        },
        "id": "zlnyLJmL9K5v",
        "outputId": "bf526b71-823e-40f5-c529-8d8319645dc5"
      },
      "outputs": [
        {
          "data": {
            "text/plain": [
              "array([1.09242188, 1.18073611, 1.09242188, 0.96561047, 1.09242188,\n",
              "       0.96561047, 1.09242188, 1.18073611, 0.73334016, 0.96561047,\n",
              "       0.96561047, 0.96561047, 0.96561047, 0.96561047, 0.96561047,\n",
              "       1.09242188, 0.96561047, 0.96561047, 1.09242188, 0.96561047,\n",
              "       0.96561047, 0.96561047, 0.73334016, 0.96561047, 0.96561047,\n",
              "       0.96561047, 1.09242188, 0.96561047, 0.96561047, 0.96561047])"
            ]
          },
          "execution_count": 78,
          "metadata": {},
          "output_type": "execute_result"
        }
      ],
      "source": [
        "# Veamos que los pesos han cambiado\n",
        "\n",
        "reweighted.instance_weights[0:30]"
      ]
    },
    {
      "cell_type": "code",
      "execution_count": null,
      "metadata": {
        "colab": {
          "base_uri": "https://localhost:8080/"
        },
        "id": "2rFHpLCkJiQO",
        "outputId": "b05a037e-aeac-4924-d32e-bd0b575023e5"
      },
      "outputs": [
        {
          "data": {
            "text/plain": [
              "True"
            ]
          },
          "execution_count": 100,
          "metadata": {},
          "output_type": "execute_result"
        }
      ],
      "source": [
        "type(reweight) == type(Reweighing(privileged_groups=[], unprivileged_groups=[]))"
      ]
    },
    {
      "cell_type": "code",
      "execution_count": null,
      "metadata": {
        "colab": {
          "base_uri": "https://localhost:8080/"
        },
        "id": "jdrB3yheJv8M",
        "outputId": "bb414292-7e84-4cd4-8630-e381f5108ecb"
      },
      "outputs": [
        {
          "data": {
            "text/plain": [
              "aif360.decorating_metaclass.factory.<locals>.ApplyDecoratorMeta"
            ]
          },
          "execution_count": 98,
          "metadata": {},
          "output_type": "execute_result"
        }
      ],
      "source": [
        "type(Reweighing)"
      ]
    },
    {
      "cell_type": "code",
      "execution_count": null,
      "metadata": {
        "id": "mwrzP9U09Nft"
      },
      "outputs": [],
      "source": [
        "# Miremos las métricas para estos datos\n",
        "\n",
        "reweighted_metrics = BinaryLabelDatasetMetric(reweighted,\n",
        "                                              unprivileged_groups=unprivileged_groups,\n",
        "                                              privileged_groups=privileged_groups)"
      ]
    },
    {
      "cell_type": "code",
      "execution_count": null,
      "metadata": {
        "colab": {
          "base_uri": "https://localhost:8080/"
        },
        "id": "4fpw-MUv9TuZ",
        "outputId": "990ce1b7-d4aa-4283-b03d-5532941c2588"
      },
      "outputs": [
        {
          "name": "stdout",
          "output_type": "stream",
          "text": [
            "Reweighted Train Statistical Parity Difference (age): -3.3306690738754696e-16\n"
          ]
        }
      ],
      "source": [
        "print(f'Reweighted Train Statistical Parity Difference (age): {reweighted_metrics.mean_difference()}')"
      ]
    },
    {
      "cell_type": "code",
      "execution_count": null,
      "metadata": {
        "colab": {
          "base_uri": "https://localhost:8080/",
          "height": 75
        },
        "id": "Ry2066pM9nmh",
        "outputId": "84765294-ed16-454e-ef9d-6a9ae3f22394"
      },
      "outputs": [
        {
          "data": {
            "text/html": [
              "<style>#sk-container-id-4 {color: black;background-color: white;}#sk-container-id-4 pre{padding: 0;}#sk-container-id-4 div.sk-toggleable {background-color: white;}#sk-container-id-4 label.sk-toggleable__label {cursor: pointer;display: block;width: 100%;margin-bottom: 0;padding: 0.3em;box-sizing: border-box;text-align: center;}#sk-container-id-4 label.sk-toggleable__label-arrow:before {content: \"▸\";float: left;margin-right: 0.25em;color: #696969;}#sk-container-id-4 label.sk-toggleable__label-arrow:hover:before {color: black;}#sk-container-id-4 div.sk-estimator:hover label.sk-toggleable__label-arrow:before {color: black;}#sk-container-id-4 div.sk-toggleable__content {max-height: 0;max-width: 0;overflow: hidden;text-align: left;background-color: #f0f8ff;}#sk-container-id-4 div.sk-toggleable__content pre {margin: 0.2em;color: black;border-radius: 0.25em;background-color: #f0f8ff;}#sk-container-id-4 input.sk-toggleable__control:checked~div.sk-toggleable__content {max-height: 200px;max-width: 100%;overflow: auto;}#sk-container-id-4 input.sk-toggleable__control:checked~label.sk-toggleable__label-arrow:before {content: \"▾\";}#sk-container-id-4 div.sk-estimator input.sk-toggleable__control:checked~label.sk-toggleable__label {background-color: #d4ebff;}#sk-container-id-4 div.sk-label input.sk-toggleable__control:checked~label.sk-toggleable__label {background-color: #d4ebff;}#sk-container-id-4 input.sk-hidden--visually {border: 0;clip: rect(1px 1px 1px 1px);clip: rect(1px, 1px, 1px, 1px);height: 1px;margin: -1px;overflow: hidden;padding: 0;position: absolute;width: 1px;}#sk-container-id-4 div.sk-estimator {font-family: monospace;background-color: #f0f8ff;border: 1px dotted black;border-radius: 0.25em;box-sizing: border-box;margin-bottom: 0.5em;}#sk-container-id-4 div.sk-estimator:hover {background-color: #d4ebff;}#sk-container-id-4 div.sk-parallel-item::after {content: \"\";width: 100%;border-bottom: 1px solid gray;flex-grow: 1;}#sk-container-id-4 div.sk-label:hover label.sk-toggleable__label {background-color: #d4ebff;}#sk-container-id-4 div.sk-serial::before {content: \"\";position: absolute;border-left: 1px solid gray;box-sizing: border-box;top: 0;bottom: 0;left: 50%;z-index: 0;}#sk-container-id-4 div.sk-serial {display: flex;flex-direction: column;align-items: center;background-color: white;padding-right: 0.2em;padding-left: 0.2em;position: relative;}#sk-container-id-4 div.sk-item {position: relative;z-index: 1;}#sk-container-id-4 div.sk-parallel {display: flex;align-items: stretch;justify-content: center;background-color: white;position: relative;}#sk-container-id-4 div.sk-item::before, #sk-container-id-4 div.sk-parallel-item::before {content: \"\";position: absolute;border-left: 1px solid gray;box-sizing: border-box;top: 0;bottom: 0;left: 50%;z-index: -1;}#sk-container-id-4 div.sk-parallel-item {display: flex;flex-direction: column;z-index: 1;position: relative;background-color: white;}#sk-container-id-4 div.sk-parallel-item:first-child::after {align-self: flex-end;width: 50%;}#sk-container-id-4 div.sk-parallel-item:last-child::after {align-self: flex-start;width: 50%;}#sk-container-id-4 div.sk-parallel-item:only-child::after {width: 0;}#sk-container-id-4 div.sk-dashed-wrapped {border: 1px dashed gray;margin: 0 0.4em 0.5em 0.4em;box-sizing: border-box;padding-bottom: 0.4em;background-color: white;}#sk-container-id-4 div.sk-label label {font-family: monospace;font-weight: bold;display: inline-block;line-height: 1.2em;}#sk-container-id-4 div.sk-label-container {text-align: center;}#sk-container-id-4 div.sk-container {/* jupyter's `normalize.less` sets `[hidden] { display: none; }` but bootstrap.min.css set `[hidden] { display: none !important; }` so we also need the `!important` here to be able to override the default hidden behavior on the sphinx rendered scikit-learn.org. See: https://github.com/scikit-learn/scikit-learn/issues/21755 */display: inline-block !important;position: relative;}#sk-container-id-4 div.sk-text-repr-fallback {display: none;}</style><div id=\"sk-container-id-4\" class=\"sk-top-container\"><div class=\"sk-text-repr-fallback\"><pre>LogisticRegressionCV(cv=10, random_state=908, solver=&#x27;liblinear&#x27;)</pre><b>In a Jupyter environment, please rerun this cell to show the HTML representation or trust the notebook. <br />On GitHub, the HTML representation is unable to render, please try loading this page with nbviewer.org.</b></div><div class=\"sk-container\" hidden><div class=\"sk-item\"><div class=\"sk-estimator sk-toggleable\"><input class=\"sk-toggleable__control sk-hidden--visually\" id=\"sk-estimator-id-4\" type=\"checkbox\" checked><label for=\"sk-estimator-id-4\" class=\"sk-toggleable__label sk-toggleable__label-arrow\">LogisticRegressionCV</label><div class=\"sk-toggleable__content\"><pre>LogisticRegressionCV(cv=10, random_state=908, solver=&#x27;liblinear&#x27;)</pre></div></div></div></div></div>"
            ],
            "text/plain": [
              "LogisticRegressionCV(cv=10, random_state=908, solver='liblinear')"
            ]
          },
          "execution_count": 81,
          "metadata": {},
          "output_type": "execute_result"
        }
      ],
      "source": [
        "# Regresión logística\n",
        "\n",
        "lr = LogisticRegressionCV(solver='liblinear', cv=10, random_state=908)\n",
        "\n",
        "# Al entrenar (fit) entregamos los pesos calculados por el algoritmo de Reweighing\n",
        "\n",
        "lr.fit(X_train, np.ravel(y_train), sample_weight=reweighted.instance_weights)"
      ]
    },
    {
      "cell_type": "code",
      "execution_count": null,
      "metadata": {
        "colab": {
          "base_uri": "https://localhost:8080/"
        },
        "id": "INY9MAwg9r6x",
        "outputId": "742082ec-cac5-43ed-abcd-bd0b62fd229a"
      },
      "outputs": [
        {
          "name": "stdout",
          "output_type": "stream",
          "text": [
            "Accuracy: 0.715\n"
          ]
        }
      ],
      "source": [
        "# ¿Cómo afectó la mitigación de sesgo al accuracy?\n",
        "\n",
        "y_pred_proba = lr.predict_proba(X_test)[:,1]\n",
        "y_pred = y_pred_proba >= 0.5\n",
        "\n",
        "print(f\"Accuracy: {accuracy_score(y_test, y_pred)}\")"
      ]
    },
    {
      "cell_type": "code",
      "execution_count": null,
      "metadata": {
        "id": "uIssIcll95lp"
      },
      "outputs": [],
      "source": [
        "df_test_rw = X_test.copy()\n",
        "df_test_rw['credit-score'] = y_pred"
      ]
    },
    {
      "cell_type": "code",
      "execution_count": null,
      "metadata": {
        "colab": {
          "base_uri": "https://localhost:8080/"
        },
        "id": "_qSdpzz7-By8",
        "outputId": "5d8d48ad-93d9-48d1-9830-da76fae4a60a"
      },
      "outputs": [
        {
          "name": "stdout",
          "output_type": "stream",
          "text": [
            "Reweighted: Test Statistical Parity Difference (age): 0.02707437490046183\n",
            "Reweighted: Test Disparate Impact (age): 1.032051282051282\n"
          ]
        }
      ],
      "source": [
        "metric_age_test_rw, rw_test_pred_aifdf = get_aif_metrics('age_cat', df_test_rw, ['credit-score'])\n",
        "print(f'Reweighted: Test Statistical Parity Difference (age): {metric_age_test_rw.mean_difference()}')\n",
        "print(f'Reweighted: Test Disparate Impact (age): {metric_age_test_rw.disparate_impact()}')"
      ]
    },
    {
      "cell_type": "code",
      "execution_count": null,
      "metadata": {
        "id": "caZk-I_R-FEZ"
      },
      "outputs": [],
      "source": [
        "cm_pred_test_rw = ClassificationMetric(test_aifdf, rw_test_pred_aifdf,\n",
        "                             unprivileged_groups=unprivileged_groups,\n",
        "                             privileged_groups=privileged_groups)"
      ]
    },
    {
      "cell_type": "code",
      "execution_count": null,
      "metadata": {
        "colab": {
          "base_uri": "https://localhost:8080/"
        },
        "id": "dZYaMUmE-ZIL",
        "outputId": "65382417-5868-4544-9188-60126c270d70"
      },
      "outputs": [
        {
          "data": {
            "text/plain": [
              "0.04401709401709397"
            ]
          },
          "execution_count": 90,
          "metadata": {},
          "output_type": "execute_result"
        }
      ],
      "source": [
        "cm_pred_test_rw.equal_opportunity_difference()"
      ]
    }
  ],
  "metadata": {
    "colab": {
      "provenance": []
    },
    "kernelspec": {
      "display_name": "Python 3",
      "name": "python3"
    },
    "language_info": {
      "name": "python",
      "version": "3.11.3"
    }
  },
  "nbformat": 4,
  "nbformat_minor": 0
}
