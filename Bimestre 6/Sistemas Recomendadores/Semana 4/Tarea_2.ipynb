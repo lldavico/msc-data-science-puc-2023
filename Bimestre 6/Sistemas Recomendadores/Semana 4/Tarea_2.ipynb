{
 "cells": [
  {
   "cell_type": "markdown",
   "metadata": {
    "id": "NC-ceGb8LRLT"
   },
   "source": [
    "# Tarea 2 - MAN3160"
   ]
  },
  {
   "cell_type": "markdown",
   "metadata": {
    "id": "mACJbcW8T35p"
   },
   "source": [
    "\n",
    "\n",
    "**Profesor**: Denis Parra\n",
    "\n",
    "**Ayudante**: Álvaro Labarca.\n"
   ]
  },
  {
   "cell_type": "markdown",
   "metadata": {
    "id": "lcqqkI9yZ2tL"
   },
   "source": [
    "En esta tarea, utilizaremos la librería Implicit vista en los tutoriales del curso para comparar el rendimiento de los modelos ALS y BPR.\n",
    "Para realizar la tarea, deberán leer y ejecutar todas las celdas del notebook y completar/responder las actividades que serán dadas."
   ]
  },
  {
   "cell_type": "markdown",
   "metadata": {},
   "source": [
    "## Descarga del dataset"
   ]
  },
  {
   "cell_type": "markdown",
   "metadata": {
    "id": "GSEH7nJw6ecN"
   },
   "source": [
    "Al igual que en la tarea 1 y los tutoriales del curso, vamos a descargar el dataset [MovieLens-100k](https://grouplens.org/).\n",
    "\n",
    "Podemos descargar el dataset directamente con el comando wget."
   ]
  },
  {
   "cell_type": "code",
   "execution_count": null,
   "metadata": {
    "colab": {
     "base_uri": "https://localhost:8080/"
    },
    "id": "mPCUqeZNb2-D",
    "outputId": "55d2ce6a-4951-44c7-b592-206030b24efe"
   },
   "outputs": [],
   "source": [
    "!pip install wget\n",
    "!pip install zipfile36\n",
    "!pip3 install implicit --upgrade\n",
    "!python -m wget http://files.grouplens.org/datasets/movielens/ml-100k.zip"
   ]
  },
  {
   "cell_type": "code",
   "execution_count": null,
   "metadata": {},
   "outputs": [],
   "source": [
    "import zipfile\n",
    "with zipfile.ZipFile(\"ml-100k.zip\", 'r') as zip_ref:\n",
    "    zip_ref.extractall(\".\")"
   ]
  },
  {
   "cell_type": "code",
   "execution_count": null,
   "metadata": {},
   "outputs": [],
   "source": [
    "import pandas as pd\n",
    "import matplotlib.pyplot as plt\n",
    "import zipfile\n",
    "import numpy as np\n",
    "import implicit\n",
    "import scipy.sparse as sparse\n",
    "import time"
   ]
  },
  {
   "cell_type": "code",
   "execution_count": null,
   "metadata": {
    "id": "ZjGe47htbMmF"
   },
   "outputs": [],
   "source": [
    "train_dir = \"ml-100k/u3.base\"\n",
    "test_dir = \"ml-100k/u3.test\""
   ]
  },
  {
   "cell_type": "code",
   "execution_count": null,
   "metadata": {
    "colab": {
     "base_uri": "https://localhost:8080/",
     "height": 206
    },
    "id": "10N9GHcw5AeV",
    "outputId": "323f55a2-7cb4-470e-dcf3-ce14747f88a3"
   },
   "outputs": [],
   "source": [
    "import pandas as pd\n",
    "\n",
    "train_file = pd.read_csv(train_dir, sep='\\t', names = ['userid', 'itemid', 'rating', 'timestamp'], header=None)\n",
    "\n",
    "train_file.head()"
   ]
  },
  {
   "cell_type": "code",
   "execution_count": null,
   "metadata": {},
   "outputs": [],
   "source": [
    "info_cols = [ 'movieid', 'title', 'release_date', 'video_release_date', 'IMDb_URL', \\\n",
    "              'unknown', 'Action', 'Adventure', 'Animation', 'Children', 'Comedy', \\\n",
    "              'Crime', 'Documentary', 'Drama', 'Fantasy', 'Film-Noir', 'Horror', \\\n",
    "              'Musical', 'Mystery', 'Romance', 'Sci-Fi', 'Thriller', 'War', 'Western' ]\n",
    "\n",
    "pd.options.display.max_columns = None\n",
    "\n",
    "info_file = pd.read_csv('ml-100k/u.item', sep='|', index_col = 0, names = info_cols, header=None, encoding='latin-1')\n",
    "\n",
    "info_file.head()"
   ]
  },
  {
   "cell_type": "markdown",
   "metadata": {},
   "source": [
    "## Funciones"
   ]
  },
  {
   "cell_type": "code",
   "execution_count": null,
   "metadata": {},
   "outputs": [],
   "source": [
    "# Definicion de métricas (No editar)\n",
    "# Obtenido de https://gist.github.com/bwhite/3726239\n",
    "\n",
    "def precision_at_k(r, k):\n",
    "    assert k >= 1\n",
    "    r = np.asarray(r)[:k] != 0\n",
    "    if r.size != k:\n",
    "        raise ValueError('Relevance score length < k')\n",
    "    return np.mean(r)\n",
    "\n",
    "def average_precision(r):\n",
    "    r = np.asarray(r) != 0\n",
    "    out = [precision_at_k(r, k + 1) for k in range(r.size) if r[k]]\n",
    "    if not out:\n",
    "        return 0.\n",
    "    return np.mean(out)\n",
    "\n",
    "def mean_average_precision(rs):\n",
    "    return np.mean([average_precision(r) for r in rs])\n",
    "\n",
    "def dcg_at_k(r, k):\n",
    "    r = np.asfarray(r)[:k]\n",
    "    if r.size:\n",
    "        return np.sum(np.subtract(np.power(2, r), 1) / np.log2(np.arange(2, r.size + 2)))\n",
    "    return 0.\n",
    "\n",
    "\n",
    "def ndcg_at_k(r, k):\n",
    "    idcg = dcg_at_k(sorted(r, reverse=True), k)\n",
    "\n",
    "    if not idcg:\n",
    "        return 0.\n",
    "    return dcg_at_k(r, k) / idcg"
   ]
  },
  {
   "cell_type": "code",
   "execution_count": null,
   "metadata": {},
   "outputs": [],
   "source": [
    "def evaluate_model(model, n):\n",
    "    mean_map = 0.\n",
    "    mean_ndcg = 0.\n",
    "    for u in user_items_test.keys():\n",
    "        rec = model.recommend(user_ids[u], user_item_matrix[user_ids[u]], n)[0]\n",
    "        rec = [itemset[r] for r in rec]\n",
    "        rel_vector = [np.isin(rec, user_items_test[u], assume_unique=True).astype(int)]\n",
    "        mean_map += mean_average_precision(rel_vector)\n",
    "        mean_ndcg += ndcg_at_k(rel_vector, n)\n",
    "\n",
    "    mean_map /= len(user_items_test)\n",
    "    mean_ndcg /= len(user_items_test)\n",
    "\n",
    "    return mean_map, mean_ndcg"
   ]
  },
  {
   "cell_type": "code",
   "execution_count": null,
   "metadata": {},
   "outputs": [],
   "source": [
    "def show_recommendations(model, user, n):\n",
    "    recommendations = model.recommend(userid=user_ids[user], user_items=user_item_matrix[user_ids[user]], N=n)\n",
    "    return df_items.loc[recommendations[0]]['title']"
   ]
  },
  {
   "cell_type": "markdown",
   "metadata": {},
   "source": [
    "# Actividades"
   ]
  },
  {
   "cell_type": "markdown",
   "metadata": {
    "id": "ylqxKuF6tsX2"
   },
   "source": [
    "### Actividad 1: Preparación del dataset\n",
    "\n",
    "Prepare el dataset para que este pueda ser utilizado por los algoritmos de la librería Implicit. (Puede utilizar de base los tutoriales del curso), hasta generar la matriz user_items en formato csr. Puede importar/utilizar cualquier librería adicional que desée."
   ]
  },
  {
   "cell_type": "markdown",
   "metadata": {
    "id": "G14TbCAeuk3G"
   },
   "source": [
    "#### Respuesta:\n",
    "\n",
    "Ingrese su respuesta en código a continuación. Puede utilizar todas las celdas de código que estime necesaria. Al finalizar, añada una celda de texto (Markdown en Jupyter) explicando qué contiene la matriz csr generada, qué representan sus columnas, sus filas y sus celdas internas."
   ]
  },
  {
   "cell_type": "markdown",
   "metadata": {
    "id": "qKHFLAfIusZm"
   },
   "source": [
    "### Actividad 2: Entrenamiento de modelo ALS\n",
    "\n",
    "Entrene el modelo ALS con el set de entrenamiento y realice un estudio de hiperparámetros sobre al menos 2 hiperparámetros del modelo. Despliegue el gráfico sobre la variación del rendimiento (en base a las métricas nDCG y MAP) según el valor del hiperparámetro y explique explícitamente la forma de los gráficos, las conclusiones obtenidas de ellos y la mejor combinación de hiperparámetros en su opinión. Registre y haga un gráfico del tiempo de entrenamiento de cada método. Se recomienda usar la librería _time_ para esto."
   ]
  },
  {
   "cell_type": "markdown",
   "metadata": {},
   "source": [
    "#### Respuesta:\n",
    "\n",
    "Ingrese su respuesta continuación. Recuerde terminar su respuesta con una celda de código con sus conclusiones y respuestas."
   ]
  },
  {
   "cell_type": "markdown",
   "metadata": {},
   "source": [
    "### Actividad 3: Entrenamiento de modelo BPR\n",
    "\n",
    "Repita el procedimiento de la Actividad 2 para el modelo BPR. Recuerde realizar un estudio de hiperparámetros sobre dos hiperparámetros distintos y exponer sus observaciones, elecciones como mejor combinación de hiperparámetros y realizar un análisis del tiempo de entrenamiento."
   ]
  },
  {
   "cell_type": "markdown",
   "metadata": {},
   "source": [
    "#### Respuesta:\n",
    "\n",
    "Ingrese su respuesta continuación. Recuerde terminar su respuesta con una celda de código con sus conclusiones y respuestas."
   ]
  },
  {
   "cell_type": "markdown",
   "metadata": {},
   "source": [
    "### Actividad 4: Comparación de modelos.\n",
    "\n",
    "Entrene modelos ALS y BPR con la combinación de hiperparámetros seleccionadas de las actividades 2 y 3. Genere una tabla exponiendo los resultados de ambos modelos al evaluarlos según nDCG@k y MAP@k proporcionadas (son libres de elegir el valor de k). Incluya también el valor del tiempo de entrenamiento empleado.\n",
    "\n",
    "Además, implemente y agregue a su tabla los resultados usando una métrica adicional estudiada en el curso. Esta métrica puede ser programada por ustedes o usando una función de una librería externa.\n",
    "\n",
    "Finalmente comente sobre los resultados de la tabla y concluya qué método entregó los mejores resultados para el set de datos utilizado."
   ]
  },
  {
   "cell_type": "markdown",
   "metadata": {},
   "source": [
    "#### Respuesta:\n",
    "\n",
    "Ingrese su respuesta continuación. Recuerde terminar su respuesta con una celda de código con sus conclusiones y respuestas."
   ]
  },
  {
   "cell_type": "markdown",
   "metadata": {},
   "source": [
    "### Actividad 5: Comparación de modelos con modelo de feedback explícito.\n",
    "\n",
    "Programe y evalúe un método de filtrado colaborativo de su elección sobre el mismo dataset. Evalúe este sistema y compare su rendimiento con los métodos de ALS y BPR entrenados en actividades anteriores. Recuerde que no todas las métricas son aplicables a sistemas de feedback explícito e implícito, por esto, seleccione al menos una métrica que permita realizar esta comparación. Justifique sus elecciones y concluya en base a los resultados dados."
   ]
  },
  {
   "cell_type": "markdown",
   "metadata": {},
   "source": [
    "#### Respuesta:\n",
    "\n",
    "Ingrese su respuesta continuación. Recuerde terminar su respuesta con una celda de código con sus conclusiones y respuestas."
   ]
  }
 ],
 "metadata": {
  "accelerator": "GPU",
  "colab": {
   "provenance": []
  },
  "kernelspec": {
   "display_name": "Python 3 (ipykernel)",
   "language": "python",
   "name": "python3"
  },
  "language_info": {
   "codemirror_mode": {
    "name": "ipython",
    "version": 3
   },
   "file_extension": ".py",
   "mimetype": "text/x-python",
   "name": "python",
   "nbconvert_exporter": "python",
   "pygments_lexer": "ipython3",
   "version": "3.11.3"
  },
  "varInspector": {
   "cols": {
    "lenName": 16,
    "lenType": 16,
    "lenVar": 40
   },
   "kernels_config": {
    "python": {
     "delete_cmd_postfix": "",
     "delete_cmd_prefix": "del ",
     "library": "var_list.py",
     "varRefreshCmd": "print(var_dic_list())"
    },
    "r": {
     "delete_cmd_postfix": ") ",
     "delete_cmd_prefix": "rm(",
     "library": "var_list.r",
     "varRefreshCmd": "cat(var_dic_list()) "
    }
   },
   "types_to_exclude": [
    "module",
    "function",
    "builtin_function_or_method",
    "instance",
    "_Feature"
   ],
   "window_display": false
  }
 },
 "nbformat": 4,
 "nbformat_minor": 1
}
