{
 "cells": [
  {
   "cell_type": "markdown",
   "metadata": {
    "id": "NC-ceGb8LRLT"
   },
   "source": [
    "# Tarea 1 - MAN3160"
   ]
  },
  {
   "cell_type": "markdown",
   "metadata": {
    "id": "mACJbcW8T35p"
   },
   "source": [
    "\n",
    "\n",
    "**Profesor**: Denis Parra\n",
    "\n",
    "**Ayudante**: Álvaro Labarca.\n"
   ]
  },
  {
   "cell_type": "markdown",
   "metadata": {
    "id": "lcqqkI9yZ2tL"
   },
   "source": [
    "En esta tarea, aplicaremos los conocimientos aprendidos en el curso para evaluar el funcionamiento de distintos algoritmos de recomendación sobre el dataset de películas MovieLens. Para realizar la tarea, deberán leer y ejecutar todas las celdas del notebook y completar/responder las actividades que serán dadas."
   ]
  },
  {
   "cell_type": "markdown",
   "metadata": {
    "id": "bkU4OWMGbKb3"
   },
   "source": [
    "# Setup inicial"
   ]
  },
  {
   "cell_type": "markdown",
   "metadata": {},
   "source": [
    "## Instalación Visual C++ Build Tools (Windows)"
   ]
  },
  {
   "cell_type": "markdown",
   "metadata": {},
   "source": [
    "Para poder instalar la librería Surprise que será utilzada en la tarea en un sistema operativo Windows, se necesitan tener instaladas las Visual C++ Build Tools.\n",
    "\n",
    "Estas pueden ser descargadas a través de [este link](https://visualstudio.microsoft.com/es/visual-cpp-build-tools/). Una vez que hayan descargado el ejecutable, asegúrense de marcar la opción **Desarrollo para el escritorio con C++** y reiniciar su equipo una vez finalice la descarga"
   ]
  },
  {
   "cell_type": "markdown",
   "metadata": {},
   "source": [
    "## Descarga del dataset"
   ]
  },
  {
   "cell_type": "markdown",
   "metadata": {
    "id": "GSEH7nJw6ecN"
   },
   "source": [
    "Vamos a descargar el dataset MovieLens-100k proporcionado de manera abierta por [GroupLens de la Universidad de Minnesota](https://grouplens.org/). Este dataset consiste en $100.000$ *ratings* de $943$ usuarios de la plataforma [MovieLens](https://movielens.org/home) en $1.682$ películas.\n",
    "\n",
    "Podemos descargar el dataset directamente con el comando wget."
   ]
  },
  {
   "cell_type": "code",
   "execution_count": null,
   "metadata": {
    "colab": {
     "base_uri": "https://localhost:8080/"
    },
    "id": "mPCUqeZNb2-D",
    "outputId": "55d2ce6a-4951-44c7-b592-206030b24efe"
   },
   "outputs": [],
   "source": [
    "!pip install wget\n",
    "!pip install zipfile36\n",
    "!python -m wget http://files.grouplens.org/datasets/movielens/ml-100k.zip"
   ]
  },
  {
   "cell_type": "code",
   "execution_count": null,
   "metadata": {},
   "outputs": [],
   "source": [
    "import zipfile\n",
    "with zipfile.ZipFile(\"ml-100k.zip\", 'r') as zip_ref:\n",
    "    zip_ref.extractall(\".\")"
   ]
  },
  {
   "cell_type": "markdown",
   "metadata": {
    "id": "snkyT9qv9sQz"
   },
   "source": [
    "El archivo *u.data* contiene los $100.000$ ratings. Además, el dataset contiene divisiones de entrenamiento y testeo en los archivos *.base* y *.test*. Los archivos desde u1 hasta u5 corresponden a *splits* del 80% / 20% del dataset original.\n",
    "\n",
    "Para efectos de esta tarea, solo trabajaremos con los archivos *u1.base* y *u1.test*, por lo que guardaremos su ruta."
   ]
  },
  {
   "cell_type": "code",
   "execution_count": null,
   "metadata": {
    "id": "ZjGe47htbMmF"
   },
   "outputs": [],
   "source": [
    "train_dir = \"ml-100k/u1.base\"\n",
    "test_dir = \"ml-100k/u1.test\""
   ]
  },
  {
   "cell_type": "markdown",
   "metadata": {
    "id": "9qKTQ2V5VKSX"
   },
   "source": [
    "# Dataset\n",
    "\n",
    "Las siguientes celdas les permitirá descargar el dataset MovieLens 100k de manera local."
   ]
  },
  {
   "cell_type": "markdown",
   "metadata": {
    "id": "liJ3L2kl4g1o"
   },
   "source": [
    "Los archivos **u1.base** y **u1.test** tienen tuplas {usuario, item, rating, timestamp}, que es la información de preferencias de usuarios sobre películas en una muestra del dataset [MovieLens](https://grouplens.org/datasets/movielens/).\n",
    "\n",
    "## Revisar archivos descargados\n",
    "\n",
    "Revisemos la información contenida en el set de entrenamiento. Para esto, usaremos la librería Pandas, que nos permite manejar bases de datos."
   ]
  },
  {
   "cell_type": "code",
   "execution_count": null,
   "metadata": {
    "colab": {
     "base_uri": "https://localhost:8080/",
     "height": 206
    },
    "id": "10N9GHcw5AeV",
    "outputId": "323f55a2-7cb4-470e-dcf3-ce14747f88a3"
   },
   "outputs": [],
   "source": [
    "import pandas as pd\n",
    "\n",
    "train_file = pd.read_csv(train_dir, sep='\\t', names = ['userid', 'itemid', 'rating', 'timestamp'], header=None)\n",
    "\n",
    "train_file.head()"
   ]
  },
  {
   "cell_type": "markdown",
   "metadata": {
    "id": "ylqxKuF6tsX2"
   },
   "source": [
    "### Pregunta 1 (6 puntos):\n",
    "\n",
    "Podemos ver que los archivos *u.base* contienen información del usuario, el item, el rating y el timestamp. ¿A qué tipo de información corresponde esto? (Por ejemplo, feedback implícito/explícito, contextual, de contenido, etc).\n",
    "\n",
    "En base a esto, ¿Qué método de recomendación visto en clase sugiere usar para recomendar películas nuevas a los usuarios?"
   ]
  },
  {
   "cell_type": "markdown",
   "metadata": {
    "id": "G14TbCAeuk3G"
   },
   "source": [
    "#### Respuesta:\n",
    "\n",
    "Ingrese su respuesta en esta celda"
   ]
  },
  {
   "cell_type": "markdown",
   "metadata": {
    "id": "qKHFLAfIusZm"
   },
   "source": [
    "### Pregunta 2 (6 puntos):\n",
    "\n",
    "Observemos ahora cómo se distribuyen la cantidad de interacciones por usuario y la cantidad de interacciones por ítem."
   ]
  },
  {
   "cell_type": "code",
   "execution_count": null,
   "metadata": {
    "colab": {
     "base_uri": "https://localhost:8080/",
     "height": 524
    },
    "id": "OIFM4kyLwroC",
    "outputId": "4731a1ff-2dc0-433a-b90c-9df4eeee0963"
   },
   "outputs": [],
   "source": [
    "import matplotlib.pyplot as plt\n",
    "\n",
    "distrib = train_file.groupby(['userid']).count().sort_values(by=['itemid'], ascending=False)\n",
    "x = distrib['itemid']\n",
    "plt.hist(x)\n",
    "plt.gca().set(title='Número de interacciones por usuario', xlabel='Cantidad de items', ylabel='Cantidad de usuarios')"
   ]
  },
  {
   "cell_type": "code",
   "execution_count": null,
   "metadata": {
    "colab": {
     "base_uri": "https://localhost:8080/",
     "height": 524
    },
    "id": "yOrxo9dFxEM8",
    "outputId": "3e2e128c-ee04-4609-f0a6-e6e62a5c1861"
   },
   "outputs": [],
   "source": [
    "distrib_item = train_file.groupby(['itemid']).count().sort_values(by=['userid'], ascending=False)\n",
    "x = distrib_item['userid']\n",
    "plt.hist(x)\n",
    "plt.gca().set(title='Número de interacciones por item', xlabel='Cantidad de interacciones', ylabel='Numero de items')"
   ]
  },
  {
   "cell_type": "markdown",
   "metadata": {
    "id": "nIVYK0cJyP4v"
   },
   "source": [
    "Representando la data como histogramas, podemos observar la distribución de las interacciones. Por ejemplo, la primera barra del primer histograma nos indica cuántos usuarios del dataset tienen entre $0$ y $50$ interacciones.\n",
    "\n",
    "Observe estos datos y comente acerca de la forma de los gráficos y qué significa esta forma en el contexto, tanto para los usuarios como para los ítems. ¿Qué problema podría significar esto para un sistema recomendador?"
   ]
  },
  {
   "cell_type": "markdown",
   "metadata": {
    "id": "pYlDw0v4yqqX"
   },
   "source": [
    "#### Respuesta:\n",
    "\n",
    "Ingrese su respuesta en esta celda"
   ]
  },
  {
   "cell_type": "markdown",
   "metadata": {
    "id": "vcYNPcJ5y3YM"
   },
   "source": [
    "## Como ver la información de una o más películas"
   ]
  },
  {
   "cell_type": "markdown",
   "metadata": {
    "id": "RnqkwSlSAxQ7"
   },
   "source": [
    "Ahora vamos a aprender algunos métodos de la biblioteca de Pandas que nos permiten ver los detalles de algunas interacciones"
   ]
  },
  {
   "cell_type": "code",
   "execution_count": null,
   "metadata": {
    "colab": {
     "base_uri": "https://localhost:8080/",
     "height": 175
    },
    "id": "wi4TSVE3atjZ",
    "outputId": "62a0a928-b25d-479f-f4d9-f9e23b87ff8c"
   },
   "outputs": [],
   "source": [
    "# Ver la o las filas específicas del usuario con id = 310\n",
    "train_file[train_file['userid'] == 310]"
   ]
  },
  {
   "cell_type": "markdown",
   "metadata": {
    "id": "iC8fe_QdBW-b"
   },
   "source": [
    "Podemos ver que el usuario con ID $310$ tiene $4$ interacciones en el set de entrenamiento"
   ]
  },
  {
   "cell_type": "markdown",
   "metadata": {
    "id": "BKOrcfaiEdqM"
   },
   "source": [
    "El archivo *u.item* contiene información adicional de cada película, tal como *título*, *fecha de lanzamiento*, *género*, etc.\n",
    "\n",
    "La columna *movieid* corresponde a la columna *itemid* de nuestra tabla *train_file*, lo que nos permite conectar la información de esta tabla con nuestro dataset original."
   ]
  },
  {
   "cell_type": "code",
   "execution_count": null,
   "metadata": {
    "colab": {
     "base_uri": "https://localhost:8080/",
     "height": 440
    },
    "id": "bVtvxJnr_yeK",
    "outputId": "13839acb-ca59-4f77-f48d-10043265eac6"
   },
   "outputs": [],
   "source": [
    "info_cols = [ 'movieid', 'title', 'release_date', 'video_release_date', 'IMDb_URL', \\\n",
    "              'unknown', 'Action', 'Adventure', 'Animation', 'Children', 'Comedy', \\\n",
    "              'Crime', 'Documentary', 'Drama', 'Fantasy', 'Film-Noir', 'Horror', \\\n",
    "              'Musical', 'Mystery', 'Romance', 'Sci-Fi', 'Thriller', 'War', 'Western' ]\n",
    "\n",
    "pd.options.display.max_columns = None\n",
    "\n",
    "info_file = pd.read_csv('ml-100k/u.item', sep='|', index_col = 0, names = info_cols, header=None, encoding='latin-1')\n",
    "\n",
    "info_file.head()"
   ]
  },
  {
   "cell_type": "markdown",
   "metadata": {
    "id": "LW3ngD1aXffG"
   },
   "source": [
    "El comando `pd.options.display.max_columns = None` permite que la tabla se pueda mostrar completamente de forma horizontal, es decir, que muestre todas sus columnas."
   ]
  },
  {
   "cell_type": "code",
   "execution_count": null,
   "metadata": {
    "colab": {
     "base_uri": "https://localhost:8080/"
    },
    "id": "nHxPjm-hXffH",
    "outputId": "b524d2d5-42e2-42d0-cf8b-73458191dba1"
   },
   "outputs": [],
   "source": [
    "info_file.info()"
   ]
  },
  {
   "cell_type": "code",
   "execution_count": null,
   "metadata": {
    "colab": {
     "base_uri": "https://localhost:8080/",
     "height": 364
    },
    "id": "Ktd24wI4XffJ",
    "outputId": "7c652a8c-2a58-48ca-aa4f-ca1b756e82e1"
   },
   "outputs": [],
   "source": [
    "info_file.describe()"
   ]
  },
  {
   "cell_type": "markdown",
   "metadata": {
    "id": "X4Gm60h1XffL"
   },
   "source": [
    "Con las funciones `info` y `describe` de ***pandas*** es una buena forma de analizar a grandes rasgos un dataset."
   ]
  },
  {
   "cell_type": "markdown",
   "metadata": {
    "id": "jqXxj773Foo8"
   },
   "source": [
    "\n",
    "Para ver la información de más de una película, se realizan los siguientes pasos\n",
    "1. Determinar los índices de las películas\n",
    "2. Pedir a `info_file` las columnas\n",
    "3. (adicional) Indicar alguna columna en específico"
   ]
  },
  {
   "cell_type": "markdown",
   "metadata": {
    "id": "VnX9yeFcCpu7"
   },
   "source": [
    "Por ejemplo, veamos cuáles fueron las $4$ películas que vio el usuario $310$"
   ]
  },
  {
   "cell_type": "code",
   "execution_count": null,
   "metadata": {
    "colab": {
     "base_uri": "https://localhost:8080/",
     "height": 461
    },
    "id": "3JsjHzBFGqQI",
    "outputId": "7274ec85-6f97-431c-a8c9-db2e5b9af0d5"
   },
   "outputs": [],
   "source": [
    "# Ejemplo de cómo visualizar titulos de peliculas en base a sus IDs\n",
    "\n",
    "# Paso 1\n",
    "pelis = [50,294,1142,1386]\n",
    "# Paso 2\n",
    "info_file.loc[pelis]"
   ]
  },
  {
   "cell_type": "markdown",
   "metadata": {
    "id": "2YDbWo18GwAT"
   },
   "source": [
    "Para éste código:\n",
    "1. `pelis = [50,294,1142,1386]` indica que queremos imprimir los detalles de las películas con estos índices. (En este caso, el índice corresponde al movieid)\n",
    "2. `info_file.loc[pelis]` el método `loc` permite acceder a esas columna\n",
    "A continuación se verá como obtener una columna en específico. Para esto solo es necesario agregar corchetes y el nombre de la columna"
   ]
  },
  {
   "cell_type": "code",
   "execution_count": null,
   "metadata": {
    "colab": {
     "base_uri": "https://localhost:8080/"
    },
    "id": "gZZ3g-n7G9EY",
    "outputId": "acb0c1ea-ef52-4005-f826-2edb37e8d50d"
   },
   "outputs": [],
   "source": [
    "# Paso 3, acceder solo a columnas específicas\n",
    "info_file.loc[pelis]['title']"
   ]
  },
  {
   "cell_type": "markdown",
   "metadata": {
    "id": "P3K5VPZoGSYX"
   },
   "source": [
    "## Preparar entorno\n",
    "Para generar los modelos recomendadores, utilizaremos la librería [***Surprise***](https://github.com/NicolasHug/Surprise) desarrollada por Nicolas Hug."
   ]
  },
  {
   "cell_type": "code",
   "execution_count": null,
   "metadata": {
    "colab": {
     "base_uri": "https://localhost:8080/"
    },
    "id": "nbtrMHvG6uIt",
    "outputId": "96c0325a-bb36-4f84-f702-0b2d716b1743"
   },
   "outputs": [],
   "source": [
    "!pip install scikit-surprise==1.1.3"
   ]
  },
  {
   "cell_type": "markdown",
   "metadata": {
    "id": "8xjAMaNz-4dO"
   },
   "source": [
    "Luego necesitamos importar Surprise y numpy, librerías que utilizaremos en esta tarea"
   ]
  },
  {
   "cell_type": "code",
   "execution_count": null,
   "metadata": {
    "id": "nv7g1e_i6wBY"
   },
   "outputs": [],
   "source": [
    "import surprise\n",
    "print(surprise.__version__)\n",
    "from surprise.model_selection import PredefinedKFold\n",
    "import numpy as np\n",
    "from collections import defaultdict"
   ]
  },
  {
   "cell_type": "markdown",
   "metadata": {
    "id": "2e0ZeZXzMhU3"
   },
   "source": [
    "## UserKNN\n",
    "\n",
    "Probar método de recomendación basado en ***UserKNN***"
   ]
  },
  {
   "cell_type": "markdown",
   "metadata": {
    "id": "OUf74KsDM9Z0"
   },
   "source": [
    "Antes de generar el recomendador, hay que convertir los datos a un formato que sea soportado por la librería Surprise. Para esto, utilizamos la función Reader que convierte una base de datos de un archivo al formato deseado."
   ]
  },
  {
   "cell_type": "code",
   "execution_count": null,
   "metadata": {
    "id": "ePh4orfJNe12"
   },
   "outputs": [],
   "source": [
    "reader = surprise.Reader(line_format='user item rating timestamp', sep='\\t', rating_scale=(1,5))\n",
    "data = surprise.Dataset.load_from_folds([(train_dir, test_dir)], reader=reader)\n",
    "pkf = PredefinedKFold()\n",
    "trainset, testset = next(pkf.split(data))"
   ]
  },
  {
   "cell_type": "markdown",
   "metadata": {
    "id": "0GDTGMWENkQ8"
   },
   "source": [
    "Se puede ver que al objeto Reader le estamos entregando:\n",
    "* ***line_format:*** El orden de las columnas que representan cada elemento del dataset (debe tener el formato que se muestra y estar separadas por espacios).\n",
    "* ***sep:*** El delimitador del archivo, en este caso las columnas estan separadas por un tab (\\t)\n",
    "* ***rating_scale:*** La escala usada en los ratings (en este caso los ratings van del $1$ al $5$)"
   ]
  },
  {
   "cell_type": "markdown",
   "metadata": {
    "id": "DgzvLQunO13c"
   },
   "source": [
    "Luego, usamos el módulo Dataset de Surprise para usar el objeto Reader para leer los datos de un archivo. En este caso, ya que tenemos el set de entrenamiento y testeo en archivos separados, usamos la función ***load_from_folds*** que recibe una lista de tuplas con los nombres de los archivos de entrenamiento y testeo. Existen también funciones que permiten leer todos los items de un solo archivo, cargar datasets predefinidos o importarlos desde un dataframe de Pandas. Pueden leer estas aplicaciones en la [_documentación_](https://surprise.readthedocs.io/en/stable/dataset.html#surprise.dataset.Dataset.load_builtin).\n",
    "\n",
    "Finalmente, la función ***pkf.split*** entrega un generador que itera sobre los archivos de entrenamiento y testeo que definimos en la lista que le entregamos a ***load_from_folds***. En este caso, como solo contamos con un archivo de entrenamiento y uno de testeo, invocamos la función ***next*** para definir los datasets como el primer output del generador."
   ]
  },
  {
   "cell_type": "markdown",
   "metadata": {
    "id": "KtIh8S9JQCUv"
   },
   "source": [
    "Finalmente declaramos el objeto recomendador que vamos a usar:"
   ]
  },
  {
   "cell_type": "code",
   "execution_count": null,
   "metadata": {
    "id": "ONuL2UkwaqPH"
   },
   "outputs": [],
   "source": [
    "# Declarar el objeto recomendador UserKnn\n",
    "myUserKnn = surprise.KNNBasic(k=7, sim_options={'name': 'pearson', 'user_based': True})"
   ]
  },
  {
   "cell_type": "markdown",
   "metadata": {
    "id": "yA1wZymAZtjR"
   },
   "source": [
    "Se puede ver que al objeto recomendador le estamos entregando:\n",
    "* ***k***: La cantidad de vecinos que se considerarán.\n",
    "* ***sim_options:*** Diccionario que contiene los detalles de la función de similaridad que se usará. Dentro de este, definimos:\n",
    "  * ***name:*** La función de similitud. Puede ser Pearson, Cosine, etc.\n",
    "  * ***user_based:*** Booleano que define si el método será basado en usuarios o items."
   ]
  },
  {
   "cell_type": "code",
   "execution_count": null,
   "metadata": {
    "colab": {
     "base_uri": "https://localhost:8080/"
    },
    "id": "uhjC9eRYaqPK",
    "outputId": "99976b50-299e-4ec3-b05b-9d25397cd3d0"
   },
   "outputs": [],
   "source": [
    "# Entrenamos el modelo con los datos existentes usando la función fit del objeto recomendador.\n",
    "\n",
    "myUserKnn.fit(trainset)"
   ]
  },
  {
   "cell_type": "markdown",
   "metadata": {
    "id": "lEx2TVc1B5wk"
   },
   "source": [
    "## Predecir el rating que le dará un usuario a un cierto item"
   ]
  },
  {
   "cell_type": "markdown",
   "metadata": {
    "id": "I-iqQvAdTTCP"
   },
   "source": [
    "Según el modelo de recomendación UserKnn, qué rating le dará el usuario 457 al item 37?\n",
    "\n"
   ]
  },
  {
   "cell_type": "code",
   "execution_count": null,
   "metadata": {
    "colab": {
     "base_uri": "https://localhost:8080/"
    },
    "id": "rGrmht_6JfFG",
    "outputId": "beaa26a2-7f00-4090-d883-5731ce03b519"
   },
   "outputs": [],
   "source": [
    "myUserKnn.predict(\"457\", \"37\")"
   ]
  },
  {
   "cell_type": "markdown",
   "metadata": {
    "id": "fMgObtdvbjfN"
   },
   "source": [
    "El valor de `est` es la estimación que el modelo hace para el usuario y objeto correspondiente. En este caso, el modelo predice que el usuario $457$ le daría una calificación de $2.44$ al item $37$.\n",
    "\n",
    "El valor de `r_ui` es el valor real que el usuario le dio al objeto. Si en el set de entrenamiento, existiera un registro de la calificación que le dio el usuario $457$ al item $37$, esta se vería reflejada en ese valor, el cual no necesariamente será el mismo que el valor predicho por el agente. En eeste caso, como el usuario $457$ no ha visto el item $37$, este valor es `None`"
   ]
  },
  {
   "cell_type": "markdown",
   "metadata": {
    "id": "dIVXNsQ8CCJV"
   },
   "source": [
    "## Generar una lista de recomendaciones para un usuario"
   ]
  },
  {
   "cell_type": "markdown",
   "metadata": {
    "id": "Wp-2JLSBJhPv"
   },
   "source": [
    "Generar lista de 10 recomendaciones para el usuario con ID 457. Indique qué películas son con todas sus columnas. (Recuerde el comando `loc` vista anteriormete)"
   ]
  },
  {
   "cell_type": "markdown",
   "metadata": {
    "id": "0iOjLv3-FJNv"
   },
   "source": [
    "Para obtener las predicciones de una lista de elementos, se debe llamar a la función ***.test()*** de el objeto recomendador. Sin embargo, esta función solo recibe objetos del tipo testset de la misma librería.\n",
    "\n",
    "Para esto, se usa la función ***.build_anti_testset()*** a partir de un objeto trainset que entrega un objeto ***testset*** con todos los pares usuario-item que no tengan un valor fijado en el trainset."
   ]
  },
  {
   "cell_type": "code",
   "execution_count": null,
   "metadata": {
    "id": "xgco7a1tFHaY"
   },
   "outputs": [],
   "source": [
    "a_testset = trainset.build_anti_testset()\n",
    "predictions = myUserKnn.test(a_testset)"
   ]
  },
  {
   "cell_type": "markdown",
   "metadata": {
    "id": "zb-sXkn7GRMd"
   },
   "source": [
    "Luego, usamos la función ***get_top_n*** sugerida en la [documentación](https://surprise.readthedocs.io/en/stable/FAQ.html) la cual recibe todas las predicciones para cada item-usuario desconocido (que tenemos guardado en la variable ***predictions***) y retorna un diccionario que recibe de llave el *id* de un usuario y retorna una lista de tuplas con el id de los items recomendados y su rating predicho."
   ]
  },
  {
   "cell_type": "code",
   "execution_count": null,
   "metadata": {
    "id": "2td2vyiRvPdL"
   },
   "outputs": [],
   "source": [
    "def get_top_n(predictions, n=10):\n",
    "    \"\"\"Devuelve las N-mejores recomendaciones para cada usuario de un set de predicción.\n",
    "\n",
    "    Args:\n",
    "        predictions(lista de objetos Prediction): La lista de predicción obtenida del método test.\n",
    "        n(int): El número de recomendaciónes por usuario\n",
    "\n",
    "    Returns:\n",
    "    Un diccionario donde las llaves son ids de usuario y los valores son listas de tuplas:\n",
    "        [(item id, rating estimation), ...] de tamaño n.\n",
    "    \"\"\"\n",
    "\n",
    "    # First map the predictions to each user.\n",
    "    top_n = defaultdict(list)\n",
    "    for uid, iid, true_r, est, _ in predictions:\n",
    "        top_n[uid].append((iid, est))\n",
    "\n",
    "    # Then sort the predictions for each user and retrieve the k highest ones.\n",
    "    for uid, user_ratings in top_n.items():\n",
    "        user_ratings.sort(key=lambda x: x[1], reverse=True)\n",
    "        top_n[uid] = user_ratings[:n]\n",
    "\n",
    "    return top_n"
   ]
  },
  {
   "cell_type": "code",
   "execution_count": null,
   "metadata": {
    "colab": {
     "base_uri": "https://localhost:8080/"
    },
    "id": "otr7zq1jaqPR",
    "outputId": "087ea56f-2f2f-49e4-b374-be42a84d5b32"
   },
   "outputs": [],
   "source": [
    "top_n = get_top_n(predictions, n=10)\n",
    "print(top_n[\"457\"])"
   ]
  },
  {
   "cell_type": "markdown",
   "metadata": {
    "id": "UVNTYc-jj0JP"
   },
   "source": [
    "Cada item de la lista `top_n` representa una tupla de el ID del ítem recomendado y su calificación predicha."
   ]
  },
  {
   "cell_type": "markdown",
   "metadata": {
    "id": "4_bmhO_2kD3j"
   },
   "source": [
    "Usemos ahora la función `.loc` para analizar las películas recomendadas."
   ]
  },
  {
   "cell_type": "code",
   "execution_count": null,
   "metadata": {
    "colab": {
     "base_uri": "https://localhost:8080/",
     "height": 926
    },
    "id": "MIDZpLd-5EsQ",
    "outputId": "e088cd53-db1c-4bca-9bba-03e0e12965ce"
   },
   "outputs": [],
   "source": [
    "info_file.loc[[int(m[0]) for m in top_n[\"457\"]]]"
   ]
  },
  {
   "cell_type": "markdown",
   "metadata": {
    "id": "6_Kp3zRwJ9gv"
   },
   "source": [
    "## Explorar los hiperparámetros del modelo UserKnn"
   ]
  },
  {
   "cell_type": "markdown",
   "metadata": {
    "id": "yl2F77nHCcws"
   },
   "source": [
    "Uno de los parámetros que vamos a explorar es el número de vecinos escogidos (Usuarios), para esto calculamos el error del modelo con varios valores de vecinos y observamos cómo es el comportamiento del error."
   ]
  },
  {
   "cell_type": "markdown",
   "metadata": {
    "id": "9OAu4nWor7sT"
   },
   "source": [
    "La biblioteca Surprise tiene un modulo `accuracy` que permite calcular distintas métricas de error, entre ellas el RMSE y el MAE.\n",
    "\n",
    "Para evaluar un modelo entrenado, utilizamos la función `.test()` sobre el testset, lo que nos permite calcular la diferencia entre los valores predichos y los valores reales para los elementos del set de testeo."
   ]
  },
  {
   "cell_type": "code",
   "execution_count": null,
   "metadata": {
    "colab": {
     "base_uri": "https://localhost:8080/"
    },
    "id": "C-te1p0oaUU_",
    "outputId": "9bee666a-9144-4ea6-944f-66a8eacfe1ff"
   },
   "outputs": [],
   "source": [
    "from surprise import accuracy\n",
    "\n",
    "k_values = [5, 10, 15] # definir distintos valores de vecinos (k)\n",
    "mae_values = [] # para almacenar resultados de MAE\n",
    "rmse_values = [] # para almacenar valores de RMSE\n",
    "\n",
    "for k in k_values:\n",
    "  myUserKnn = surprise.KNNBasic(k=k, sim_options={'name': 'cosine', 'user_based': True})\n",
    "  myUserKnn.fit(trainset)\n",
    "  predictions = myUserKnn.test(testset)\n",
    "  rmse_values.append(accuracy.rmse(predictions))\n",
    "  mae_values.append(accuracy.mae(predictions))\n",
    "\n",
    "print('RMSE:', rmse_values)\n",
    "print('MAE:', mae_values)"
   ]
  },
  {
   "cell_type": "markdown",
   "metadata": {
    "id": "g55SDLmqCpUo"
   },
   "source": [
    "### Evaluar en base a error de prediccion (RMSE y MAE)"
   ]
  },
  {
   "cell_type": "code",
   "execution_count": null,
   "metadata": {
    "colab": {
     "base_uri": "https://localhost:8080/",
     "height": 451
    },
    "id": "q9E0YClOjPGb",
    "outputId": "0947f4c1-0eae-4fc5-8f74-c9ce32c9f6b4"
   },
   "outputs": [],
   "source": [
    "import matplotlib.pyplot as plt\n",
    "%matplotlib inline\n",
    "\n",
    "plt.plot(k_values, rmse_values, 'r-')\n",
    "plt.plot(k_values, rmse_values, 'bo')\n",
    "plt.xlabel(\"k\")\n",
    "plt.ylabel(\"RMSE\")\n",
    "plt.show()"
   ]
  },
  {
   "cell_type": "code",
   "execution_count": null,
   "metadata": {
    "colab": {
     "base_uri": "https://localhost:8080/",
     "height": 449
    },
    "id": "5Mdf79WsDfWX",
    "outputId": "8fbb892b-0848-4c17-d02d-bc5c4a313aa0"
   },
   "outputs": [],
   "source": [
    "plt.plot(k_values, mae_values, 'y-')\n",
    "plt.plot(k_values, mae_values, 'go')\n",
    "plt.xlabel(\"k\")\n",
    "plt.ylabel(\"MAE\")\n",
    "plt.show()"
   ]
  },
  {
   "cell_type": "markdown",
   "metadata": {
    "id": "jrjMzM5zioaP"
   },
   "source": [
    "Entrenamos un nuevo agente con valores de `k = 5, 10, 15` y podemos observar que tanto el valor del RMSE y del MAE disminuyeron con un mayor valor de `k`."
   ]
  },
  {
   "cell_type": "markdown",
   "metadata": {
    "id": "kzndG2b1uBeC"
   },
   "source": [
    "### Pregunta 3 (12 puntos):\n",
    "\n",
    "Continúe el estudio de los hiperparámetros para los valores de `k = 5, 10, 30, 50, 70, 100 y 150`. Grafique sus resultados y conteste:\n",
    "\n",
    "* Explique, en sus propias palabras, qué se mide con las métricas de RMSE y MAE.\n",
    "* Qué valor de `k` entrega los mejores resultados.\n",
    "* Comente acerca de la forma del gráfico y explique por qué se obtiene un gráfico de esta forma."
   ]
  },
  {
   "cell_type": "markdown",
   "metadata": {},
   "source": [
    "#### Respuesta:"
   ]
  },
  {
   "cell_type": "code",
   "execution_count": null,
   "metadata": {
    "id": "f-86Djz6vIKu"
   },
   "outputs": [],
   "source": [
    "k_values = [5, 10, 30, 50, 70, 100] # definir distintos valores de vecinos (k)\n",
    "mae_values = [] # para almacenar resultados de MAE\n",
    "rmse_values = [] # para almacenar valores de RMSE\n",
    "\n",
    "for k in k_values:\n",
    "  # Complete el código.\n",
    "  break # Eliminar"
   ]
  },
  {
   "cell_type": "markdown",
   "metadata": {},
   "source": [
    "Escriba su respuesta en esta celda"
   ]
  },
  {
   "cell_type": "markdown",
   "metadata": {
    "id": "VYUq3kSJz0AK"
   },
   "source": [
    "### Pregunta 4 (12 puntos):\n",
    "\n",
    "Repita el experimento anterior, pero utilizando los algoritmos de IKNN y [FunkSVD](https://surprise.readthedocs.io/en/stable/matrix_factorization.html#surprise.prediction_algorithms.matrix_factorization.SVD) de la biblioteca Surprise. Recuerde evaluar el rendimiento de sus modelos para las métricas de RMSE y MAE\n",
    "\n",
    "* Para el caso de IKnn vuelva a realizar un análisis con los valores de `k = 5, 10, 30, 50, 70, 100` e identifique el valor que entrega el mejor resultado."
   ]
  },
  {
   "cell_type": "markdown",
   "metadata": {},
   "source": [
    "#### Respuesta:"
   ]
  },
  {
   "cell_type": "markdown",
   "metadata": {
    "id": "DQBfzM_nw3vn"
   },
   "source": [
    "### Pregunta 5 (12 puntos):\n",
    "\n",
    "Genere una tabla que compare los resultados de los métodos de UKnn, IKnn y FunkSVD tanto para RMSE como para MAE. En el caso de IKnn y UKnn, solo utilice el modelo con el valor de `k` que haya entregado los mejores resultados. Identifique qué método logró el mejor resultado para ambas métricas.\n",
    "\n",
    "Comente acerca de estos resultados. Explique por qué cree que se obtuvieron estos resultados utilizando la materia aprendida en el curso respecto al funcionamiento de cada método."
   ]
  },
  {
   "cell_type": "markdown",
   "metadata": {},
   "source": [
    "#### Respuesta:"
   ]
  },
  {
   "cell_type": "markdown",
   "metadata": {
    "id": "H94h1l5mxZKW"
   },
   "source": [
    "### Pregunta 6 (12 puntos):\n",
    "\n",
    "Escoja un usuario del set de datos e imprima los títulos de las películas que ha visto (según el set de entrenamiento) y su calificación. Luego, imprima una lista de 5 recomendaciones entregadas para este usuario por cada uno de los $3$ modelos entrenados y compare estas listas. Comparando los gustos en la historia del usuario y las recomendaciones entregadas por los modelos, le hacen sentido estas recomendaciones. (Su respuesta no necesariamente debe coincidir con las conclusiones finales de la sección experimental).\n",
    "\n",
    "Evite usar a los usuarios 457 y 310 que ya fueron estudiados en la tarea. Recuerde imprimir al menos los títulos de cada película, tanto en la historia del usuario como en las recomendaciones para poder identificarlas correctamente."
   ]
  },
  {
   "cell_type": "markdown",
   "metadata": {},
   "source": [
    "#### Respuesta:"
   ]
  }
 ],
 "metadata": {
  "accelerator": "GPU",
  "colab": {
   "provenance": []
  },
  "kernelspec": {
   "display_name": "Python 3 (ipykernel)",
   "language": "python",
   "name": "python3"
  },
  "language_info": {
   "codemirror_mode": {
    "name": "ipython",
    "version": 3
   },
   "file_extension": ".py",
   "mimetype": "text/x-python",
   "name": "python",
   "nbconvert_exporter": "python",
   "pygments_lexer": "ipython3",
   "version": "3.11.3"
  },
  "varInspector": {
   "cols": {
    "lenName": 16,
    "lenType": 16,
    "lenVar": 40
   },
   "kernels_config": {
    "python": {
     "delete_cmd_postfix": "",
     "delete_cmd_prefix": "del ",
     "library": "var_list.py",
     "varRefreshCmd": "print(var_dic_list())"
    },
    "r": {
     "delete_cmd_postfix": ") ",
     "delete_cmd_prefix": "rm(",
     "library": "var_list.r",
     "varRefreshCmd": "cat(var_dic_list()) "
    }
   },
   "types_to_exclude": [
    "module",
    "function",
    "builtin_function_or_method",
    "instance",
    "_Feature"
   ],
   "window_display": false
  }
 },
 "nbformat": 4,
 "nbformat_minor": 1
}
