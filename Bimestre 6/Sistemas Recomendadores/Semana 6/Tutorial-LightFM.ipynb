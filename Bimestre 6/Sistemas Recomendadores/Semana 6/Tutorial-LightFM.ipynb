{
 "cells": [
  {
   "cell_type": "markdown",
   "metadata": {
    "id": "-xFADzCKvytx"
   },
   "source": [
    "# Tutorial LightFM\n",
    "\n",
    "MAN 3160 - Sistemas Recomendadores\n",
    "\n",
    "En este tutorial vamos a utilizar la librería LightFM para generar máquinas de factorización para recomendación."
   ]
  },
  {
   "cell_type": "markdown",
   "metadata": {},
   "source": [
    "## Importar Librerías"
   ]
  },
  {
   "cell_type": "code",
   "execution_count": 46,
   "metadata": {},
   "outputs": [
    {
     "name": "stdout",
     "output_type": "stream",
     "text": [
      "Requirement already satisfied: lightfm in c:\\users\\alfi9\\appdata\\local\\programs\\python\\python39\\lib\\site-packages (1.17)\n",
      "Requirement already satisfied: numpy in c:\\users\\alfi9\\appdata\\local\\programs\\python\\python39\\lib\\site-packages (from lightfm) (1.22.1)\n",
      "Requirement already satisfied: scipy>=0.17.0 in c:\\users\\alfi9\\appdata\\local\\programs\\python\\python39\\lib\\site-packages (from lightfm) (1.8.0)\n",
      "Requirement already satisfied: requests in c:\\users\\alfi9\\appdata\\local\\programs\\python\\python39\\lib\\site-packages (from lightfm) (2.31.0)\n",
      "Requirement already satisfied: scikit-learn in c:\\users\\alfi9\\appdata\\local\\programs\\python\\python39\\lib\\site-packages (from lightfm) (1.0.2)\n",
      "Requirement already satisfied: charset-normalizer<4,>=2 in c:\\users\\alfi9\\appdata\\local\\programs\\python\\python39\\lib\\site-packages (from requests->lightfm) (2.0.10)\n",
      "Requirement already satisfied: idna<4,>=2.5 in c:\\users\\alfi9\\appdata\\local\\programs\\python\\python39\\lib\\site-packages (from requests->lightfm) (3.3)\n",
      "Requirement already satisfied: urllib3<3,>=1.21.1 in c:\\users\\alfi9\\appdata\\local\\programs\\python\\python39\\lib\\site-packages (from requests->lightfm) (1.26.8)\n",
      "Requirement already satisfied: certifi>=2017.4.17 in c:\\users\\alfi9\\appdata\\local\\programs\\python\\python39\\lib\\site-packages (from requests->lightfm) (2021.10.8)\n",
      "Requirement already satisfied: joblib>=0.11 in c:\\users\\alfi9\\appdata\\local\\programs\\python\\python39\\lib\\site-packages (from scikit-learn->lightfm) (1.1.0)\n",
      "Requirement already satisfied: threadpoolctl>=2.0.0 in c:\\users\\alfi9\\appdata\\local\\programs\\python\\python39\\lib\\site-packages (from scikit-learn->lightfm) (3.1.0)\n"
     ]
    },
    {
     "name": "stderr",
     "output_type": "stream",
     "text": [
      "WARNING: Ignoring invalid distribution -rotobuf (c:\\users\\alfi9\\appdata\\local\\programs\\python\\python39\\lib\\site-packages)\n",
      "WARNING: Ignoring invalid distribution -rotobuf (c:\\users\\alfi9\\appdata\\local\\programs\\python\\python39\\lib\\site-packages)\n"
     ]
    }
   ],
   "source": [
    "# Instalamos librerías para descarcar y descomprimir archivos.\n",
    "\n",
    "!pip install lightfm"
   ]
  },
  {
   "cell_type": "code",
   "execution_count": 47,
   "metadata": {},
   "outputs": [
    {
     "name": "stdout",
     "output_type": "stream",
     "text": [
      "System version: 3.9.0 (tags/v3.9.0:9cf6752, Oct  5 2020, 15:34:40) [MSC v.1927 64 bit (AMD64)]\n",
      "LightFM version: 1.17\n"
     ]
    }
   ],
   "source": [
    "import sys\n",
    "import os\n",
    "\n",
    "import itertools\n",
    "import pandas as pd\n",
    "import numpy as np\n",
    "import matplotlib.pyplot as plt\n",
    "\n",
    "import lightfm\n",
    "from lightfm import LightFM\n",
    "from lightfm.data import Dataset\n",
    "from lightfm import cross_validation\n",
    "\n",
    "# Import LightFM's evaluation metrics\n",
    "from lightfm.evaluation import precision_at_k as lightfm_prec_at_k\n",
    "from lightfm.evaluation import recall_at_k as lightfm_recall_at_k\n",
    "\n",
    "print(\"System version: {}\".format(sys.version))\n",
    "print(\"LightFM version: {}\".format(lightfm.__version__))"
   ]
  },
  {
   "cell_type": "markdown",
   "metadata": {},
   "source": [
    "## Descarga y análisis de dataset"
   ]
  },
  {
   "cell_type": "markdown",
   "metadata": {},
   "source": [
    "Vamos a utilizar el dataset de MovieLens. A diferencia de métodos anteriores, LightFM funciona mejor si se define la partición train/test mediante funciones de la misma librería, por lo que esta vez no vamos a utilizar una partición pre-definida y vamos a importar el dataset entero (u.data)"
   ]
  },
  {
   "cell_type": "code",
   "execution_count": 48,
   "metadata": {},
   "outputs": [],
   "source": [
    "dir_train = 'ml-100k'\n",
    "\n",
    "# Generamos los títulos de las columnas del archivo items.\n",
    "\n",
    "columns = ['movieid', 'title', 'release_date', 'video_release_date', \\\n",
    "           'IMDb_URL', 'unknown', 'Action', 'Adventure', 'Animation', \\\n",
    "           'Children', 'Comedy', 'Crime', 'Documentary', 'Drama', 'Fantasy', \\\n",
    "           'Film-Noir', 'Horror', 'Musical', 'Mystery', 'Romance', 'Sci-Fi', \\\n",
    "           'Thriller', 'War', 'Western']"
   ]
  },
  {
   "cell_type": "code",
   "execution_count": 49,
   "metadata": {},
   "outputs": [],
   "source": [
    "# Primero creamos el dataframe con los datos\n",
    "df = pd.read_csv(f'{dir_train}/u.data',\n",
    "                         sep='\\t',\n",
    "                         names=['userid', 'itemid', 'rating', 'timestamp'],\n",
    "                         header=None)"
   ]
  },
  {
   "cell_type": "code",
   "execution_count": 50,
   "metadata": {},
   "outputs": [],
   "source": [
    "# Cargamos el dataset con los items\n",
    "df_items = pd.read_csv(f'{dir_train}/u.item',\n",
    "                        sep='|',\n",
    "                        index_col=0,\n",
    "                        names = columns,\n",
    "                        header=None,\n",
    "                        encoding='latin-1')"
   ]
  },
  {
   "cell_type": "markdown",
   "metadata": {},
   "source": [
    "MovieLens 100k viene también con metadata de los usuarios, como su edad y su ocupación, los cuales están disponibles en el archivo u.user"
   ]
  },
  {
   "cell_type": "code",
   "execution_count": 51,
   "metadata": {},
   "outputs": [],
   "source": [
    "columns_user = ['userid', 'age', 'gender', 'occupation', 'zip_code']"
   ]
  },
  {
   "cell_type": "code",
   "execution_count": 52,
   "metadata": {},
   "outputs": [],
   "source": [
    "df_users = pd.read_csv(f'{dir_train}/u.user',\n",
    "                        sep='|',\n",
    "                        index_col=0,\n",
    "                        names = columns_user,\n",
    "                        header=None,\n",
    "                        encoding='latin-1')"
   ]
  },
  {
   "cell_type": "code",
   "execution_count": 53,
   "metadata": {},
   "outputs": [
    {
     "data": {
      "text/html": [
       "<div>\n",
       "<style scoped>\n",
       "    .dataframe tbody tr th:only-of-type {\n",
       "        vertical-align: middle;\n",
       "    }\n",
       "\n",
       "    .dataframe tbody tr th {\n",
       "        vertical-align: top;\n",
       "    }\n",
       "\n",
       "    .dataframe thead th {\n",
       "        text-align: right;\n",
       "    }\n",
       "</style>\n",
       "<table border=\"1\" class=\"dataframe\">\n",
       "  <thead>\n",
       "    <tr style=\"text-align: right;\">\n",
       "      <th></th>\n",
       "      <th>age</th>\n",
       "      <th>gender</th>\n",
       "      <th>occupation</th>\n",
       "      <th>zip_code</th>\n",
       "    </tr>\n",
       "    <tr>\n",
       "      <th>userid</th>\n",
       "      <th></th>\n",
       "      <th></th>\n",
       "      <th></th>\n",
       "      <th></th>\n",
       "    </tr>\n",
       "  </thead>\n",
       "  <tbody>\n",
       "    <tr>\n",
       "      <th>1</th>\n",
       "      <td>24</td>\n",
       "      <td>M</td>\n",
       "      <td>technician</td>\n",
       "      <td>85711</td>\n",
       "    </tr>\n",
       "    <tr>\n",
       "      <th>2</th>\n",
       "      <td>53</td>\n",
       "      <td>F</td>\n",
       "      <td>other</td>\n",
       "      <td>94043</td>\n",
       "    </tr>\n",
       "    <tr>\n",
       "      <th>3</th>\n",
       "      <td>23</td>\n",
       "      <td>M</td>\n",
       "      <td>writer</td>\n",
       "      <td>32067</td>\n",
       "    </tr>\n",
       "    <tr>\n",
       "      <th>4</th>\n",
       "      <td>24</td>\n",
       "      <td>M</td>\n",
       "      <td>technician</td>\n",
       "      <td>43537</td>\n",
       "    </tr>\n",
       "    <tr>\n",
       "      <th>5</th>\n",
       "      <td>33</td>\n",
       "      <td>F</td>\n",
       "      <td>other</td>\n",
       "      <td>15213</td>\n",
       "    </tr>\n",
       "  </tbody>\n",
       "</table>\n",
       "</div>"
      ],
      "text/plain": [
       "        age gender  occupation zip_code\n",
       "userid                                 \n",
       "1        24      M  technician    85711\n",
       "2        53      F       other    94043\n",
       "3        23      M      writer    32067\n",
       "4        24      M  technician    43537\n",
       "5        33      F       other    15213"
      ]
     },
     "execution_count": 53,
     "metadata": {},
     "output_type": "execute_result"
    }
   ],
   "source": [
    "df_users.head()"
   ]
  },
  {
   "cell_type": "code",
   "execution_count": 54,
   "metadata": {},
   "outputs": [],
   "source": [
    "# Generamos una instancia de un objeto Dataset, la cual es la clase de LightFM para generar particiones y darle el formato\n",
    "# apropiado a el set de datos\n",
    "\n",
    "dataset = Dataset()"
   ]
  },
  {
   "cell_type": "code",
   "execution_count": 55,
   "metadata": {},
   "outputs": [
    {
     "name": "stdout",
     "output_type": "stream",
     "text": [
      "Num users: 943, num_items: 1682.\n"
     ]
    }
   ],
   "source": [
    "# Se ajusta el objeto dataset con la información de usuarios e ítems\n",
    "\n",
    "dataset.fit(users=df['userid'], \n",
    "            items=df['itemid'])\n",
    "\n",
    "# A partir de esto, podemos determinar fácilmente el número de usuarios e ítems únicos.\n",
    "num_users, num_items = dataset.interactions_shape()\n",
    "print(f'Num users: {num_users}, num_items: {num_items}.')"
   ]
  },
  {
   "cell_type": "markdown",
   "metadata": {},
   "source": [
    "El método build_interactions(), agrega las interacciones al objeto Dataset. Este método recibe como datos el id de usuario, id de ítem y rating, los cuales, en nuestro caso corresponden a las columnas 0-3 del dataset"
   ]
  },
  {
   "cell_type": "code",
   "execution_count": 11,
   "metadata": {},
   "outputs": [],
   "source": [
    "(interactions, weights) = dataset.build_interactions(df.iloc[:, 0:3].values)"
   ]
  },
  {
   "cell_type": "markdown",
   "metadata": {},
   "source": [
    "La función random_train_test_split genera el split. El parámetro test_percentage=0.25 indica que el 25% de las interacciones totales quedarán en el set de testeo."
   ]
  },
  {
   "cell_type": "code",
   "execution_count": 12,
   "metadata": {},
   "outputs": [],
   "source": [
    "train_interactions, test_interactions = cross_validation.random_train_test_split(\n",
    "    interactions, test_percentage=0.25)"
   ]
  },
  {
   "cell_type": "markdown",
   "metadata": {},
   "source": [
    "A diferencia de otros métodos, los objetos de test y train se mantienen con una shape del tamaño |usuarios|x|items|"
   ]
  },
  {
   "cell_type": "code",
   "execution_count": 13,
   "metadata": {},
   "outputs": [
    {
     "name": "stdout",
     "output_type": "stream",
     "text": [
      "Shape of train interactions: (943, 1682)\n",
      "Shape of test interactions: (943, 1682)\n"
     ]
    }
   ],
   "source": [
    "print(f\"Shape of train interactions: {train_interactions.shape}\")\n",
    "print(f\"Shape of test interactions: {test_interactions.shape}\")"
   ]
  },
  {
   "cell_type": "markdown",
   "metadata": {},
   "source": [
    "### Entrenando el modelo.\n",
    "\n",
    "Para entrenar el modelo, lo único que se debe hacer es generar una instancia de LightFM() y usar el método .fit() para entrenarlo con los elementos que se desean. En este momento vamos a realizar un entrenamiento utilizando solo las interacciones."
   ]
  },
  {
   "cell_type": "code",
   "execution_count": 56,
   "metadata": {},
   "outputs": [],
   "source": [
    "model1 = LightFM(no_components=15, loss='logistic')"
   ]
  },
  {
   "cell_type": "code",
   "execution_count": 57,
   "metadata": {},
   "outputs": [
    {
     "data": {
      "text/plain": [
       "<lightfm.lightfm.LightFM at 0x21b48f5abe0>"
      ]
     },
     "execution_count": 57,
     "metadata": {},
     "output_type": "execute_result"
    }
   ],
   "source": [
    "model1.fit(interactions=train_interactions, epochs=5)"
   ]
  },
  {
   "cell_type": "markdown",
   "metadata": {},
   "source": [
    "# Agregando contenido"
   ]
  },
  {
   "cell_type": "markdown",
   "metadata": {},
   "source": [
    "La librería LightFM ofrece la opción de añadir características (meta-data) tanto para los ítems como para los usuarios. De esta forma puede combinar recomendación por retroalimentación con recomendación basada en contenido."
   ]
  },
  {
   "cell_type": "markdown",
   "metadata": {},
   "source": [
    "El primer paso que debemos tomar es ajustar nuestro objeto de dataset para incluir las características que deseamos incluir."
   ]
  },
  {
   "cell_type": "code",
   "execution_count": 58,
   "metadata": {},
   "outputs": [],
   "source": [
    "all_genres = ['Action', 'Adventure', 'Animation', 'Children', 'Comedy', 'Crime', 'Documentary', 'Drama', 'Fantasy', \\\n",
    "              'Film-Noir', 'Horror', 'Musical', 'Mystery', 'Romance', 'Sci-Fi', 'Thriller', 'War', 'Western']"
   ]
  },
  {
   "cell_type": "code",
   "execution_count": 59,
   "metadata": {},
   "outputs": [],
   "source": [
    "item_feats = []\n",
    "for idx, row in df_items.iterrows():\n",
    "    genres = []\n",
    "    for genre in df_items.columns[5:]:\n",
    "        if row[genre] == 1:\n",
    "            genres.append(genre)\n",
    "    item_feats.append((idx, genres))"
   ]
  },
  {
   "cell_type": "code",
   "execution_count": 18,
   "metadata": {
    "scrolled": false
   },
   "outputs": [
    {
     "data": {
      "text/plain": [
       "[(1, ['Animation', 'Children', 'Comedy']),\n",
       " (2, ['Action', 'Adventure', 'Thriller']),\n",
       " (3, ['Thriller']),\n",
       " (4, ['Action', 'Comedy', 'Drama']),\n",
       " (5, ['Crime', 'Drama', 'Thriller']),\n",
       " (6, ['Drama']),\n",
       " (7, ['Drama', 'Sci-Fi']),\n",
       " (8, ['Children', 'Comedy', 'Drama']),\n",
       " (9, ['Drama']),\n",
       " (10, ['Drama', 'War'])]"
      ]
     },
     "execution_count": 18,
     "metadata": {},
     "output_type": "execute_result"
    }
   ],
   "source": [
    "item_feats[:10]"
   ]
  },
  {
   "cell_type": "markdown",
   "metadata": {},
   "source": [
    "Hacemos lo mismo con las características de los usuarios."
   ]
  },
  {
   "cell_type": "code",
   "execution_count": 60,
   "metadata": {},
   "outputs": [],
   "source": [
    "all_occupations = sorted(list(set(df_users['occupation'])))"
   ]
  },
  {
   "cell_type": "code",
   "execution_count": 61,
   "metadata": {},
   "outputs": [
    {
     "data": {
      "text/plain": [
       "['administrator',\n",
       " 'artist',\n",
       " 'doctor',\n",
       " 'educator',\n",
       " 'engineer',\n",
       " 'entertainment',\n",
       " 'executive',\n",
       " 'healthcare',\n",
       " 'homemaker',\n",
       " 'lawyer',\n",
       " 'librarian',\n",
       " 'marketing',\n",
       " 'none',\n",
       " 'other',\n",
       " 'programmer',\n",
       " 'retired',\n",
       " 'salesman',\n",
       " 'scientist',\n",
       " 'student',\n",
       " 'technician',\n",
       " 'writer']"
      ]
     },
     "execution_count": 61,
     "metadata": {},
     "output_type": "execute_result"
    }
   ],
   "source": [
    "all_occupations"
   ]
  },
  {
   "cell_type": "code",
   "execution_count": 62,
   "metadata": {},
   "outputs": [],
   "source": [
    "df_users = df_users.reset_index()"
   ]
  },
  {
   "cell_type": "code",
   "execution_count": 63,
   "metadata": {},
   "outputs": [],
   "source": [
    "user_feats = [(x, [y]) for x,y in zip(df_users.userid, df_users['occupation'])]"
   ]
  },
  {
   "cell_type": "code",
   "execution_count": 64,
   "metadata": {},
   "outputs": [
    {
     "data": {
      "text/plain": [
       "[(1, ['technician']),\n",
       " (2, ['other']),\n",
       " (3, ['writer']),\n",
       " (4, ['technician']),\n",
       " (5, ['other']),\n",
       " (6, ['executive']),\n",
       " (7, ['administrator']),\n",
       " (8, ['administrator']),\n",
       " (9, ['student']),\n",
       " (10, ['lawyer'])]"
      ]
     },
     "execution_count": 64,
     "metadata": {},
     "output_type": "execute_result"
    }
   ],
   "source": [
    "user_feats[:10]"
   ]
  },
  {
   "cell_type": "code",
   "execution_count": 65,
   "metadata": {},
   "outputs": [],
   "source": [
    "dataset_contenido = Dataset()\n",
    "dataset_contenido.fit(users=df['userid'], \n",
    "                      items=df['itemid'], \n",
    "                      item_features=all_genres,\n",
    "                      user_features=all_occupations)"
   ]
  },
  {
   "cell_type": "code",
   "execution_count": 66,
   "metadata": {},
   "outputs": [],
   "source": [
    "item_features = dataset_contenido.build_item_features(item_feats)"
   ]
  },
  {
   "cell_type": "code",
   "execution_count": 67,
   "metadata": {},
   "outputs": [],
   "source": [
    "user_features = dataset_contenido.build_user_features(user_feats)"
   ]
  },
  {
   "cell_type": "code",
   "execution_count": 68,
   "metadata": {},
   "outputs": [],
   "source": [
    "(interactions2, weights2) = dataset_contenido.build_interactions(df.iloc[:, 0:3].values)"
   ]
  },
  {
   "cell_type": "code",
   "execution_count": 69,
   "metadata": {},
   "outputs": [],
   "source": [
    "train_interactions2, test_interactions2 = cross_validation.random_train_test_split(\n",
    "    interactions2, \n",
    "    test_percentage=0.25\n",
    ")"
   ]
  },
  {
   "cell_type": "code",
   "execution_count": 70,
   "metadata": {},
   "outputs": [
    {
     "data": {
      "text/plain": [
       "<lightfm.lightfm.LightFM at 0x21b48eaefd0>"
      ]
     },
     "execution_count": 70,
     "metadata": {},
     "output_type": "execute_result"
    }
   ],
   "source": [
    "model2 = LightFM(no_components=15, loss='logistic')\n",
    "model2.fit(interactions=train_interactions2, epochs=5)"
   ]
  },
  {
   "cell_type": "markdown",
   "metadata": {},
   "source": [
    "# Agregando contexto"
   ]
  },
  {
   "cell_type": "markdown",
   "metadata": {},
   "source": [
    "LightFM se enfoca únicamente en agregar característica a los usuarios e ítems, por lo que no proporciona la opción de agregar información contextual que sea distinta de interacción a interacción. Sin embargo, existen algunos trucos para realizar recomendaciones basadas en contexto. Acá se muestra un método de prefiltrado contextual para los usuarios, en base a la hora en la que se realizó la calificación."
   ]
  },
  {
   "cell_type": "code",
   "execution_count": 71,
   "metadata": {},
   "outputs": [
    {
     "data": {
      "text/html": [
       "<div>\n",
       "<style scoped>\n",
       "    .dataframe tbody tr th:only-of-type {\n",
       "        vertical-align: middle;\n",
       "    }\n",
       "\n",
       "    .dataframe tbody tr th {\n",
       "        vertical-align: top;\n",
       "    }\n",
       "\n",
       "    .dataframe thead th {\n",
       "        text-align: right;\n",
       "    }\n",
       "</style>\n",
       "<table border=\"1\" class=\"dataframe\">\n",
       "  <thead>\n",
       "    <tr style=\"text-align: right;\">\n",
       "      <th></th>\n",
       "      <th>userid</th>\n",
       "      <th>itemid</th>\n",
       "      <th>rating</th>\n",
       "      <th>timestamp</th>\n",
       "    </tr>\n",
       "  </thead>\n",
       "  <tbody>\n",
       "    <tr>\n",
       "      <th>0</th>\n",
       "      <td>196</td>\n",
       "      <td>242</td>\n",
       "      <td>3</td>\n",
       "      <td>881250949</td>\n",
       "    </tr>\n",
       "    <tr>\n",
       "      <th>1</th>\n",
       "      <td>186</td>\n",
       "      <td>302</td>\n",
       "      <td>3</td>\n",
       "      <td>891717742</td>\n",
       "    </tr>\n",
       "    <tr>\n",
       "      <th>2</th>\n",
       "      <td>22</td>\n",
       "      <td>377</td>\n",
       "      <td>1</td>\n",
       "      <td>878887116</td>\n",
       "    </tr>\n",
       "    <tr>\n",
       "      <th>3</th>\n",
       "      <td>244</td>\n",
       "      <td>51</td>\n",
       "      <td>2</td>\n",
       "      <td>880606923</td>\n",
       "    </tr>\n",
       "    <tr>\n",
       "      <th>4</th>\n",
       "      <td>166</td>\n",
       "      <td>346</td>\n",
       "      <td>1</td>\n",
       "      <td>886397596</td>\n",
       "    </tr>\n",
       "    <tr>\n",
       "      <th>...</th>\n",
       "      <td>...</td>\n",
       "      <td>...</td>\n",
       "      <td>...</td>\n",
       "      <td>...</td>\n",
       "    </tr>\n",
       "    <tr>\n",
       "      <th>99995</th>\n",
       "      <td>880</td>\n",
       "      <td>476</td>\n",
       "      <td>3</td>\n",
       "      <td>880175444</td>\n",
       "    </tr>\n",
       "    <tr>\n",
       "      <th>99996</th>\n",
       "      <td>716</td>\n",
       "      <td>204</td>\n",
       "      <td>5</td>\n",
       "      <td>879795543</td>\n",
       "    </tr>\n",
       "    <tr>\n",
       "      <th>99997</th>\n",
       "      <td>276</td>\n",
       "      <td>1090</td>\n",
       "      <td>1</td>\n",
       "      <td>874795795</td>\n",
       "    </tr>\n",
       "    <tr>\n",
       "      <th>99998</th>\n",
       "      <td>13</td>\n",
       "      <td>225</td>\n",
       "      <td>2</td>\n",
       "      <td>882399156</td>\n",
       "    </tr>\n",
       "    <tr>\n",
       "      <th>99999</th>\n",
       "      <td>12</td>\n",
       "      <td>203</td>\n",
       "      <td>3</td>\n",
       "      <td>879959583</td>\n",
       "    </tr>\n",
       "  </tbody>\n",
       "</table>\n",
       "<p>100000 rows × 4 columns</p>\n",
       "</div>"
      ],
      "text/plain": [
       "       userid  itemid  rating  timestamp\n",
       "0         196     242       3  881250949\n",
       "1         186     302       3  891717742\n",
       "2          22     377       1  878887116\n",
       "3         244      51       2  880606923\n",
       "4         166     346       1  886397596\n",
       "...       ...     ...     ...        ...\n",
       "99995     880     476       3  880175444\n",
       "99996     716     204       5  879795543\n",
       "99997     276    1090       1  874795795\n",
       "99998      13     225       2  882399156\n",
       "99999      12     203       3  879959583\n",
       "\n",
       "[100000 rows x 4 columns]"
      ]
     },
     "execution_count": 71,
     "metadata": {},
     "output_type": "execute_result"
    }
   ],
   "source": [
    "df"
   ]
  },
  {
   "cell_type": "code",
   "execution_count": 72,
   "metadata": {},
   "outputs": [
    {
     "name": "stdout",
     "output_type": "stream",
     "text": [
      "       userid  itemid  rating  timestamp            datetime  Year  Month  \\\n",
      "0         196     242       3  881250949 1997-12-04 15:55:49  1997     12   \n",
      "1         186     302       3  891717742 1998-04-04 19:22:22  1998      4   \n",
      "2          22     377       1  878887116 1997-11-07 07:18:36  1997     11   \n",
      "3         244      51       2  880606923 1997-11-27 05:02:03  1997     11   \n",
      "4         166     346       1  886397596 1998-02-02 05:33:16  1998      2   \n",
      "...       ...     ...     ...        ...                 ...   ...    ...   \n",
      "99995     880     476       3  880175444 1997-11-22 05:10:44  1997     11   \n",
      "99996     716     204       5  879795543 1997-11-17 19:39:03  1997     11   \n",
      "99997     276    1090       1  874795795 1997-09-20 22:49:55  1997      9   \n",
      "99998      13     225       2  882399156 1997-12-17 22:52:36  1997     12   \n",
      "99999      12     203       3  879959583 1997-11-19 17:13:03  1997     11   \n",
      "\n",
      "       Weekday      Time  Hour  \n",
      "0            3  15:55:49    15  \n",
      "1            5  19:22:22    19  \n",
      "2            4  07:18:36     7  \n",
      "3            3  05:02:03     5  \n",
      "4            0  05:33:16     5  \n",
      "...        ...       ...   ...  \n",
      "99995        5  05:10:44     5  \n",
      "99996        0  19:39:03    19  \n",
      "99997        5  22:49:55    22  \n",
      "99998        2  22:52:36    22  \n",
      "99999        2  17:13:03    17  \n",
      "\n",
      "[100000 rows x 10 columns]\n"
     ]
    }
   ],
   "source": [
    "df['datetime'] = pd.to_datetime(df['timestamp'], unit='s')  # Convert the column to datetime format if it's not\n",
    "\n",
    "# Create new columns\n",
    "df['Year'] = df['datetime'].dt.year\n",
    "df['Month'] = df['datetime'].dt.month\n",
    "df['Weekday'] = df['datetime'].dt.weekday  # Monday=0, Sunday=6\n",
    "df['Time'] = df['datetime'].dt.time\n",
    "df['Hour'] = df['datetime'].dt.hour\n",
    "print(df)"
   ]
  },
  {
   "cell_type": "code",
   "execution_count": 73,
   "metadata": {},
   "outputs": [],
   "source": [
    "def definir_bloque_horario(hour):\n",
    "    if 6 <= hour < 12:\n",
    "        return 'Mañana'\n",
    "    elif 12 <= hour < 19:\n",
    "        return 'Tarde'\n",
    "    else:\n",
    "        return 'Noche'"
   ]
  },
  {
   "cell_type": "code",
   "execution_count": 74,
   "metadata": {},
   "outputs": [],
   "source": [
    "df['Horario'] = df['Hour'].apply(definir_bloque_horario)"
   ]
  },
  {
   "cell_type": "code",
   "execution_count": 75,
   "metadata": {},
   "outputs": [
    {
     "data": {
      "text/html": [
       "<div>\n",
       "<style scoped>\n",
       "    .dataframe tbody tr th:only-of-type {\n",
       "        vertical-align: middle;\n",
       "    }\n",
       "\n",
       "    .dataframe tbody tr th {\n",
       "        vertical-align: top;\n",
       "    }\n",
       "\n",
       "    .dataframe thead th {\n",
       "        text-align: right;\n",
       "    }\n",
       "</style>\n",
       "<table border=\"1\" class=\"dataframe\">\n",
       "  <thead>\n",
       "    <tr style=\"text-align: right;\">\n",
       "      <th></th>\n",
       "      <th>userid</th>\n",
       "      <th>itemid</th>\n",
       "      <th>rating</th>\n",
       "      <th>timestamp</th>\n",
       "      <th>datetime</th>\n",
       "      <th>Year</th>\n",
       "      <th>Month</th>\n",
       "      <th>Weekday</th>\n",
       "      <th>Time</th>\n",
       "      <th>Hour</th>\n",
       "      <th>Horario</th>\n",
       "    </tr>\n",
       "  </thead>\n",
       "  <tbody>\n",
       "    <tr>\n",
       "      <th>0</th>\n",
       "      <td>196</td>\n",
       "      <td>242</td>\n",
       "      <td>3</td>\n",
       "      <td>881250949</td>\n",
       "      <td>1997-12-04 15:55:49</td>\n",
       "      <td>1997</td>\n",
       "      <td>12</td>\n",
       "      <td>3</td>\n",
       "      <td>15:55:49</td>\n",
       "      <td>15</td>\n",
       "      <td>Tarde</td>\n",
       "    </tr>\n",
       "    <tr>\n",
       "      <th>1</th>\n",
       "      <td>186</td>\n",
       "      <td>302</td>\n",
       "      <td>3</td>\n",
       "      <td>891717742</td>\n",
       "      <td>1998-04-04 19:22:22</td>\n",
       "      <td>1998</td>\n",
       "      <td>4</td>\n",
       "      <td>5</td>\n",
       "      <td>19:22:22</td>\n",
       "      <td>19</td>\n",
       "      <td>Noche</td>\n",
       "    </tr>\n",
       "    <tr>\n",
       "      <th>2</th>\n",
       "      <td>22</td>\n",
       "      <td>377</td>\n",
       "      <td>1</td>\n",
       "      <td>878887116</td>\n",
       "      <td>1997-11-07 07:18:36</td>\n",
       "      <td>1997</td>\n",
       "      <td>11</td>\n",
       "      <td>4</td>\n",
       "      <td>07:18:36</td>\n",
       "      <td>7</td>\n",
       "      <td>Mañana</td>\n",
       "    </tr>\n",
       "    <tr>\n",
       "      <th>3</th>\n",
       "      <td>244</td>\n",
       "      <td>51</td>\n",
       "      <td>2</td>\n",
       "      <td>880606923</td>\n",
       "      <td>1997-11-27 05:02:03</td>\n",
       "      <td>1997</td>\n",
       "      <td>11</td>\n",
       "      <td>3</td>\n",
       "      <td>05:02:03</td>\n",
       "      <td>5</td>\n",
       "      <td>Noche</td>\n",
       "    </tr>\n",
       "    <tr>\n",
       "      <th>4</th>\n",
       "      <td>166</td>\n",
       "      <td>346</td>\n",
       "      <td>1</td>\n",
       "      <td>886397596</td>\n",
       "      <td>1998-02-02 05:33:16</td>\n",
       "      <td>1998</td>\n",
       "      <td>2</td>\n",
       "      <td>0</td>\n",
       "      <td>05:33:16</td>\n",
       "      <td>5</td>\n",
       "      <td>Noche</td>\n",
       "    </tr>\n",
       "  </tbody>\n",
       "</table>\n",
       "</div>"
      ],
      "text/plain": [
       "   userid  itemid  rating  timestamp            datetime  Year  Month  \\\n",
       "0     196     242       3  881250949 1997-12-04 15:55:49  1997     12   \n",
       "1     186     302       3  891717742 1998-04-04 19:22:22  1998      4   \n",
       "2      22     377       1  878887116 1997-11-07 07:18:36  1997     11   \n",
       "3     244      51       2  880606923 1997-11-27 05:02:03  1997     11   \n",
       "4     166     346       1  886397596 1998-02-02 05:33:16  1998      2   \n",
       "\n",
       "   Weekday      Time  Hour Horario  \n",
       "0        3  15:55:49    15   Tarde  \n",
       "1        5  19:22:22    19   Noche  \n",
       "2        4  07:18:36     7  Mañana  \n",
       "3        3  05:02:03     5   Noche  \n",
       "4        0  05:33:16     5   Noche  "
      ]
     },
     "execution_count": 75,
     "metadata": {},
     "output_type": "execute_result"
    }
   ],
   "source": [
    "df.head()"
   ]
  },
  {
   "cell_type": "code",
   "execution_count": 76,
   "metadata": {},
   "outputs": [],
   "source": [
    "df['userid'] = df['userid'].astype(str) + '_' + df['Horario'].astype(str)"
   ]
  },
  {
   "cell_type": "code",
   "execution_count": 77,
   "metadata": {},
   "outputs": [
    {
     "data": {
      "text/html": [
       "<div>\n",
       "<style scoped>\n",
       "    .dataframe tbody tr th:only-of-type {\n",
       "        vertical-align: middle;\n",
       "    }\n",
       "\n",
       "    .dataframe tbody tr th {\n",
       "        vertical-align: top;\n",
       "    }\n",
       "\n",
       "    .dataframe thead th {\n",
       "        text-align: right;\n",
       "    }\n",
       "</style>\n",
       "<table border=\"1\" class=\"dataframe\">\n",
       "  <thead>\n",
       "    <tr style=\"text-align: right;\">\n",
       "      <th></th>\n",
       "      <th>userid</th>\n",
       "      <th>itemid</th>\n",
       "      <th>rating</th>\n",
       "      <th>timestamp</th>\n",
       "      <th>datetime</th>\n",
       "      <th>Year</th>\n",
       "      <th>Month</th>\n",
       "      <th>Weekday</th>\n",
       "      <th>Time</th>\n",
       "      <th>Hour</th>\n",
       "      <th>Horario</th>\n",
       "    </tr>\n",
       "  </thead>\n",
       "  <tbody>\n",
       "    <tr>\n",
       "      <th>0</th>\n",
       "      <td>196_Tarde</td>\n",
       "      <td>242</td>\n",
       "      <td>3</td>\n",
       "      <td>881250949</td>\n",
       "      <td>1997-12-04 15:55:49</td>\n",
       "      <td>1997</td>\n",
       "      <td>12</td>\n",
       "      <td>3</td>\n",
       "      <td>15:55:49</td>\n",
       "      <td>15</td>\n",
       "      <td>Tarde</td>\n",
       "    </tr>\n",
       "    <tr>\n",
       "      <th>1</th>\n",
       "      <td>186_Noche</td>\n",
       "      <td>302</td>\n",
       "      <td>3</td>\n",
       "      <td>891717742</td>\n",
       "      <td>1998-04-04 19:22:22</td>\n",
       "      <td>1998</td>\n",
       "      <td>4</td>\n",
       "      <td>5</td>\n",
       "      <td>19:22:22</td>\n",
       "      <td>19</td>\n",
       "      <td>Noche</td>\n",
       "    </tr>\n",
       "    <tr>\n",
       "      <th>2</th>\n",
       "      <td>22_Mañana</td>\n",
       "      <td>377</td>\n",
       "      <td>1</td>\n",
       "      <td>878887116</td>\n",
       "      <td>1997-11-07 07:18:36</td>\n",
       "      <td>1997</td>\n",
       "      <td>11</td>\n",
       "      <td>4</td>\n",
       "      <td>07:18:36</td>\n",
       "      <td>7</td>\n",
       "      <td>Mañana</td>\n",
       "    </tr>\n",
       "    <tr>\n",
       "      <th>3</th>\n",
       "      <td>244_Noche</td>\n",
       "      <td>51</td>\n",
       "      <td>2</td>\n",
       "      <td>880606923</td>\n",
       "      <td>1997-11-27 05:02:03</td>\n",
       "      <td>1997</td>\n",
       "      <td>11</td>\n",
       "      <td>3</td>\n",
       "      <td>05:02:03</td>\n",
       "      <td>5</td>\n",
       "      <td>Noche</td>\n",
       "    </tr>\n",
       "    <tr>\n",
       "      <th>4</th>\n",
       "      <td>166_Noche</td>\n",
       "      <td>346</td>\n",
       "      <td>1</td>\n",
       "      <td>886397596</td>\n",
       "      <td>1998-02-02 05:33:16</td>\n",
       "      <td>1998</td>\n",
       "      <td>2</td>\n",
       "      <td>0</td>\n",
       "      <td>05:33:16</td>\n",
       "      <td>5</td>\n",
       "      <td>Noche</td>\n",
       "    </tr>\n",
       "  </tbody>\n",
       "</table>\n",
       "</div>"
      ],
      "text/plain": [
       "      userid  itemid  rating  timestamp            datetime  Year  Month  \\\n",
       "0  196_Tarde     242       3  881250949 1997-12-04 15:55:49  1997     12   \n",
       "1  186_Noche     302       3  891717742 1998-04-04 19:22:22  1998      4   \n",
       "2  22_Mañana     377       1  878887116 1997-11-07 07:18:36  1997     11   \n",
       "3  244_Noche      51       2  880606923 1997-11-27 05:02:03  1997     11   \n",
       "4  166_Noche     346       1  886397596 1998-02-02 05:33:16  1998      2   \n",
       "\n",
       "   Weekday      Time  Hour Horario  \n",
       "0        3  15:55:49    15   Tarde  \n",
       "1        5  19:22:22    19   Noche  \n",
       "2        4  07:18:36     7  Mañana  \n",
       "3        3  05:02:03     5   Noche  \n",
       "4        0  05:33:16     5   Noche  "
      ]
     },
     "execution_count": 77,
     "metadata": {},
     "output_type": "execute_result"
    }
   ],
   "source": [
    "df.head()"
   ]
  },
  {
   "cell_type": "code",
   "execution_count": 78,
   "metadata": {},
   "outputs": [],
   "source": [
    "df_prefiltrado = df[['userid', 'itemid', 'rating']]"
   ]
  },
  {
   "cell_type": "code",
   "execution_count": 79,
   "metadata": {},
   "outputs": [
    {
     "data": {
      "text/html": [
       "<div>\n",
       "<style scoped>\n",
       "    .dataframe tbody tr th:only-of-type {\n",
       "        vertical-align: middle;\n",
       "    }\n",
       "\n",
       "    .dataframe tbody tr th {\n",
       "        vertical-align: top;\n",
       "    }\n",
       "\n",
       "    .dataframe thead th {\n",
       "        text-align: right;\n",
       "    }\n",
       "</style>\n",
       "<table border=\"1\" class=\"dataframe\">\n",
       "  <thead>\n",
       "    <tr style=\"text-align: right;\">\n",
       "      <th></th>\n",
       "      <th>userid</th>\n",
       "      <th>itemid</th>\n",
       "      <th>rating</th>\n",
       "    </tr>\n",
       "  </thead>\n",
       "  <tbody>\n",
       "    <tr>\n",
       "      <th>0</th>\n",
       "      <td>196_Tarde</td>\n",
       "      <td>242</td>\n",
       "      <td>3</td>\n",
       "    </tr>\n",
       "    <tr>\n",
       "      <th>1</th>\n",
       "      <td>186_Noche</td>\n",
       "      <td>302</td>\n",
       "      <td>3</td>\n",
       "    </tr>\n",
       "    <tr>\n",
       "      <th>2</th>\n",
       "      <td>22_Mañana</td>\n",
       "      <td>377</td>\n",
       "      <td>1</td>\n",
       "    </tr>\n",
       "    <tr>\n",
       "      <th>3</th>\n",
       "      <td>244_Noche</td>\n",
       "      <td>51</td>\n",
       "      <td>2</td>\n",
       "    </tr>\n",
       "    <tr>\n",
       "      <th>4</th>\n",
       "      <td>166_Noche</td>\n",
       "      <td>346</td>\n",
       "      <td>1</td>\n",
       "    </tr>\n",
       "  </tbody>\n",
       "</table>\n",
       "</div>"
      ],
      "text/plain": [
       "      userid  itemid  rating\n",
       "0  196_Tarde     242       3\n",
       "1  186_Noche     302       3\n",
       "2  22_Mañana     377       1\n",
       "3  244_Noche      51       2\n",
       "4  166_Noche     346       1"
      ]
     },
     "execution_count": 79,
     "metadata": {},
     "output_type": "execute_result"
    }
   ],
   "source": [
    "df_prefiltrado.head()"
   ]
  },
  {
   "cell_type": "code",
   "execution_count": 80,
   "metadata": {},
   "outputs": [],
   "source": [
    "dataset_contexto = Dataset()\n",
    "dataset_contexto.fit(users=df['userid'], \n",
    "                      items=df['itemid'], \n",
    "                      item_features=all_genres,\n",
    "                      user_features=all_occupations)"
   ]
  },
  {
   "cell_type": "code",
   "execution_count": 81,
   "metadata": {},
   "outputs": [
    {
     "data": {
      "text/html": [
       "<div>\n",
       "<style scoped>\n",
       "    .dataframe tbody tr th:only-of-type {\n",
       "        vertical-align: middle;\n",
       "    }\n",
       "\n",
       "    .dataframe tbody tr th {\n",
       "        vertical-align: top;\n",
       "    }\n",
       "\n",
       "    .dataframe thead th {\n",
       "        text-align: right;\n",
       "    }\n",
       "</style>\n",
       "<table border=\"1\" class=\"dataframe\">\n",
       "  <thead>\n",
       "    <tr style=\"text-align: right;\">\n",
       "      <th></th>\n",
       "      <th>userid</th>\n",
       "      <th>itemid</th>\n",
       "      <th>rating</th>\n",
       "      <th>timestamp</th>\n",
       "      <th>datetime</th>\n",
       "      <th>Year</th>\n",
       "      <th>Month</th>\n",
       "      <th>Weekday</th>\n",
       "      <th>Time</th>\n",
       "      <th>Hour</th>\n",
       "      <th>Horario</th>\n",
       "    </tr>\n",
       "  </thead>\n",
       "  <tbody>\n",
       "    <tr>\n",
       "      <th>0</th>\n",
       "      <td>196_Tarde</td>\n",
       "      <td>242</td>\n",
       "      <td>3</td>\n",
       "      <td>881250949</td>\n",
       "      <td>1997-12-04 15:55:49</td>\n",
       "      <td>1997</td>\n",
       "      <td>12</td>\n",
       "      <td>3</td>\n",
       "      <td>15:55:49</td>\n",
       "      <td>15</td>\n",
       "      <td>Tarde</td>\n",
       "    </tr>\n",
       "    <tr>\n",
       "      <th>1</th>\n",
       "      <td>186_Noche</td>\n",
       "      <td>302</td>\n",
       "      <td>3</td>\n",
       "      <td>891717742</td>\n",
       "      <td>1998-04-04 19:22:22</td>\n",
       "      <td>1998</td>\n",
       "      <td>4</td>\n",
       "      <td>5</td>\n",
       "      <td>19:22:22</td>\n",
       "      <td>19</td>\n",
       "      <td>Noche</td>\n",
       "    </tr>\n",
       "    <tr>\n",
       "      <th>2</th>\n",
       "      <td>22_Mañana</td>\n",
       "      <td>377</td>\n",
       "      <td>1</td>\n",
       "      <td>878887116</td>\n",
       "      <td>1997-11-07 07:18:36</td>\n",
       "      <td>1997</td>\n",
       "      <td>11</td>\n",
       "      <td>4</td>\n",
       "      <td>07:18:36</td>\n",
       "      <td>7</td>\n",
       "      <td>Mañana</td>\n",
       "    </tr>\n",
       "    <tr>\n",
       "      <th>3</th>\n",
       "      <td>244_Noche</td>\n",
       "      <td>51</td>\n",
       "      <td>2</td>\n",
       "      <td>880606923</td>\n",
       "      <td>1997-11-27 05:02:03</td>\n",
       "      <td>1997</td>\n",
       "      <td>11</td>\n",
       "      <td>3</td>\n",
       "      <td>05:02:03</td>\n",
       "      <td>5</td>\n",
       "      <td>Noche</td>\n",
       "    </tr>\n",
       "    <tr>\n",
       "      <th>4</th>\n",
       "      <td>166_Noche</td>\n",
       "      <td>346</td>\n",
       "      <td>1</td>\n",
       "      <td>886397596</td>\n",
       "      <td>1998-02-02 05:33:16</td>\n",
       "      <td>1998</td>\n",
       "      <td>2</td>\n",
       "      <td>0</td>\n",
       "      <td>05:33:16</td>\n",
       "      <td>5</td>\n",
       "      <td>Noche</td>\n",
       "    </tr>\n",
       "    <tr>\n",
       "      <th>...</th>\n",
       "      <td>...</td>\n",
       "      <td>...</td>\n",
       "      <td>...</td>\n",
       "      <td>...</td>\n",
       "      <td>...</td>\n",
       "      <td>...</td>\n",
       "      <td>...</td>\n",
       "      <td>...</td>\n",
       "      <td>...</td>\n",
       "      <td>...</td>\n",
       "      <td>...</td>\n",
       "    </tr>\n",
       "    <tr>\n",
       "      <th>99995</th>\n",
       "      <td>880_Noche</td>\n",
       "      <td>476</td>\n",
       "      <td>3</td>\n",
       "      <td>880175444</td>\n",
       "      <td>1997-11-22 05:10:44</td>\n",
       "      <td>1997</td>\n",
       "      <td>11</td>\n",
       "      <td>5</td>\n",
       "      <td>05:10:44</td>\n",
       "      <td>5</td>\n",
       "      <td>Noche</td>\n",
       "    </tr>\n",
       "    <tr>\n",
       "      <th>99996</th>\n",
       "      <td>716_Noche</td>\n",
       "      <td>204</td>\n",
       "      <td>5</td>\n",
       "      <td>879795543</td>\n",
       "      <td>1997-11-17 19:39:03</td>\n",
       "      <td>1997</td>\n",
       "      <td>11</td>\n",
       "      <td>0</td>\n",
       "      <td>19:39:03</td>\n",
       "      <td>19</td>\n",
       "      <td>Noche</td>\n",
       "    </tr>\n",
       "    <tr>\n",
       "      <th>99997</th>\n",
       "      <td>276_Noche</td>\n",
       "      <td>1090</td>\n",
       "      <td>1</td>\n",
       "      <td>874795795</td>\n",
       "      <td>1997-09-20 22:49:55</td>\n",
       "      <td>1997</td>\n",
       "      <td>9</td>\n",
       "      <td>5</td>\n",
       "      <td>22:49:55</td>\n",
       "      <td>22</td>\n",
       "      <td>Noche</td>\n",
       "    </tr>\n",
       "    <tr>\n",
       "      <th>99998</th>\n",
       "      <td>13_Noche</td>\n",
       "      <td>225</td>\n",
       "      <td>2</td>\n",
       "      <td>882399156</td>\n",
       "      <td>1997-12-17 22:52:36</td>\n",
       "      <td>1997</td>\n",
       "      <td>12</td>\n",
       "      <td>2</td>\n",
       "      <td>22:52:36</td>\n",
       "      <td>22</td>\n",
       "      <td>Noche</td>\n",
       "    </tr>\n",
       "    <tr>\n",
       "      <th>99999</th>\n",
       "      <td>12_Tarde</td>\n",
       "      <td>203</td>\n",
       "      <td>3</td>\n",
       "      <td>879959583</td>\n",
       "      <td>1997-11-19 17:13:03</td>\n",
       "      <td>1997</td>\n",
       "      <td>11</td>\n",
       "      <td>2</td>\n",
       "      <td>17:13:03</td>\n",
       "      <td>17</td>\n",
       "      <td>Tarde</td>\n",
       "    </tr>\n",
       "  </tbody>\n",
       "</table>\n",
       "<p>100000 rows × 11 columns</p>\n",
       "</div>"
      ],
      "text/plain": [
       "          userid  itemid  rating  timestamp            datetime  Year  Month  \\\n",
       "0      196_Tarde     242       3  881250949 1997-12-04 15:55:49  1997     12   \n",
       "1      186_Noche     302       3  891717742 1998-04-04 19:22:22  1998      4   \n",
       "2      22_Mañana     377       1  878887116 1997-11-07 07:18:36  1997     11   \n",
       "3      244_Noche      51       2  880606923 1997-11-27 05:02:03  1997     11   \n",
       "4      166_Noche     346       1  886397596 1998-02-02 05:33:16  1998      2   \n",
       "...          ...     ...     ...        ...                 ...   ...    ...   \n",
       "99995  880_Noche     476       3  880175444 1997-11-22 05:10:44  1997     11   \n",
       "99996  716_Noche     204       5  879795543 1997-11-17 19:39:03  1997     11   \n",
       "99997  276_Noche    1090       1  874795795 1997-09-20 22:49:55  1997      9   \n",
       "99998   13_Noche     225       2  882399156 1997-12-17 22:52:36  1997     12   \n",
       "99999   12_Tarde     203       3  879959583 1997-11-19 17:13:03  1997     11   \n",
       "\n",
       "       Weekday      Time  Hour Horario  \n",
       "0            3  15:55:49    15   Tarde  \n",
       "1            5  19:22:22    19   Noche  \n",
       "2            4  07:18:36     7  Mañana  \n",
       "3            3  05:02:03     5   Noche  \n",
       "4            0  05:33:16     5   Noche  \n",
       "...        ...       ...   ...     ...  \n",
       "99995        5  05:10:44     5   Noche  \n",
       "99996        0  19:39:03    19   Noche  \n",
       "99997        5  22:49:55    22   Noche  \n",
       "99998        2  22:52:36    22   Noche  \n",
       "99999        2  17:13:03    17   Tarde  \n",
       "\n",
       "[100000 rows x 11 columns]"
      ]
     },
     "execution_count": 81,
     "metadata": {},
     "output_type": "execute_result"
    }
   ],
   "source": [
    "df"
   ]
  },
  {
   "cell_type": "code",
   "execution_count": 82,
   "metadata": {},
   "outputs": [],
   "source": [
    "user_feats2 = []\n",
    "horas = ['Mañana', 'Tarde', 'Noche']\n",
    "usuarios = df['userid'].unique()\n",
    "for uid, feats in user_feats:\n",
    "    for h in horas:\n",
    "        if f'{uid}_{h}' in usuarios:\n",
    "            user_feats2.append((f'{uid}_{h}', feats))"
   ]
  },
  {
   "cell_type": "code",
   "execution_count": 83,
   "metadata": {},
   "outputs": [
    {
     "data": {
      "text/plain": [
       "[('1_Mañana', ['technician']),\n",
       " ('1_Noche', ['technician']),\n",
       " ('2_Noche', ['other']),\n",
       " ('3_Noche', ['writer']),\n",
       " ('4_Noche', ['technician']),\n",
       " ('5_Tarde', ['other']),\n",
       " ('5_Noche', ['other']),\n",
       " ('6_Noche', ['executive']),\n",
       " ('7_Tarde', ['administrator']),\n",
       " ('7_Noche', ['administrator'])]"
      ]
     },
     "execution_count": 83,
     "metadata": {},
     "output_type": "execute_result"
    }
   ],
   "source": [
    "user_feats2[:10]"
   ]
  },
  {
   "cell_type": "code",
   "execution_count": 84,
   "metadata": {},
   "outputs": [],
   "source": [
    "item_features3 = dataset_contexto.build_item_features(item_feats)\n",
    "user_features3 = dataset_contexto.build_user_features(user_feats2)\n",
    "(interactions3, weights3) = dataset_contexto.build_interactions(df.iloc[:, 0:3].values)\n",
    "train_interactions3, test_interactions3 = cross_validation.random_train_test_split(\n",
    "    interactions3, \n",
    "    test_percentage=0.25\n",
    ")"
   ]
  },
  {
   "cell_type": "code",
   "execution_count": 85,
   "metadata": {},
   "outputs": [
    {
     "data": {
      "text/plain": [
       "<lightfm.lightfm.LightFM at 0x21b48eaeb20>"
      ]
     },
     "execution_count": 85,
     "metadata": {},
     "output_type": "execute_result"
    }
   ],
   "source": [
    "model3 = LightFM(no_components=15, loss='logistic')\n",
    "model3.fit(interactions=train_interactions3, epochs=5)"
   ]
  },
  {
   "cell_type": "markdown",
   "metadata": {},
   "source": [
    "# Evaluar los modelos"
   ]
  },
  {
   "cell_type": "markdown",
   "metadata": {},
   "source": [
    "La librería LightFM tiene un modulo _evaluation_ que permite evaluar el modelo con métricas como Precision, recall, AUC y MRR de forma directa. Comparemos los resultados de los 3 modelos que entrenamos con las métricas de recall y AUC"
   ]
  },
  {
   "cell_type": "code",
   "execution_count": 86,
   "metadata": {},
   "outputs": [],
   "source": [
    "from lightfm.evaluation import auc_score, recall_at_k"
   ]
  },
  {
   "cell_type": "code",
   "execution_count": 87,
   "metadata": {},
   "outputs": [
    {
     "name": "stdout",
     "output_type": "stream",
     "text": [
      "Evaluando modelo original.\n",
      "AUC score: 0.8627685904502869\n",
      "Recall at 20: 0.17130893508593684\n",
      "\n",
      "Evaluando modelo con contenido.\n",
      "AUC score: 0.8646020889282227\n",
      "Recall at 20: 0.1713260672269536\n",
      "\n",
      "Evaluando modelo con contenido y contexto.\n",
      "AUC score: 0.8521642088890076\n",
      "Recall at 20: 0.15398255041525963\n",
      "\n"
     ]
    }
   ],
   "source": [
    "print(f'Evaluando modelo original.')\n",
    "print(f'AUC score: {auc_score(model1, test_interactions, train_interactions=train_interactions).mean()}')\n",
    "print(f'Recall at 20: {recall_at_k(model1, test_interactions, train_interactions=train_interactions, k=20).mean()}\\n')\n",
    "\n",
    "print(f'Evaluando modelo con contenido.')\n",
    "print(f'AUC score: {auc_score(model2, test_interactions2, train_interactions=train_interactions2).mean()}')\n",
    "print(f'Recall at 20: {recall_at_k(model2, test_interactions2, train_interactions=train_interactions2, k=20).mean()}\\n')\n",
    "\n",
    "print(f'Evaluando modelo con contenido y contexto.')\n",
    "print(f'AUC score: {auc_score(model3, test_interactions3, train_interactions=train_interactions3).mean()}')\n",
    "print(f'Recall at 20: {recall_at_k(model3, test_interactions3, train_interactions=train_interactions3, k=20).mean()}\\n')"
   ]
  },
  {
   "cell_type": "markdown",
   "metadata": {},
   "source": [
    "### Material adicional"
   ]
  },
  {
   "cell_type": "markdown",
   "metadata": {},
   "source": [
    "Si desean profundizar más y explorar ejemplos adicionales, pueden revisar la [documentación oficial de LightFM](https://making.lyst.com/lightfm/docs/index.html).\n",
    "\n",
    "Para otros tutoriales y ejemplos, existen:\n",
    "* [El cuadernillo lightfm_deep_dive proporcionado por los desarrolladores de la librería recommenders](https://github.com/recommenders-team/recommenders/blob/main/examples/02_model_hybrid/lightfm_deep_dive.ipynb)\n",
    "* [Los cuadernillos de ejemplos oficiales de la librería LightFM](https://github.com/lyst/lightfm/tree/master/examples)"
   ]
  }
 ],
 "metadata": {
  "colab": {
   "provenance": []
  },
  "kernelspec": {
   "display_name": "Python 3 (ipykernel)",
   "language": "python",
   "name": "python3"
  },
  "language_info": {
   "codemirror_mode": {
    "name": "ipython",
    "version": 3
   },
   "file_extension": ".py",
   "mimetype": "text/x-python",
   "name": "python",
   "nbconvert_exporter": "python",
   "pygments_lexer": "ipython3",
   "version": "3.9.0"
  },
  "toc": {
   "base_numbering": 1,
   "nav_menu": {},
   "number_sections": true,
   "sideBar": true,
   "skip_h1_title": false,
   "title_cell": "Table of Contents",
   "title_sidebar": "Contents",
   "toc_cell": false,
   "toc_position": {},
   "toc_section_display": true,
   "toc_window_display": false
  },
  "widgets": {
   "application/vnd.jupyter.widget-state+json": {
    "065bb3bef4a34bbab8ef2f3c3832a4a2": {
     "model_module": "@jupyter-widgets/base",
     "model_module_version": "1.2.0",
     "model_name": "LayoutModel",
     "state": {
      "_model_module": "@jupyter-widgets/base",
      "_model_module_version": "1.2.0",
      "_model_name": "LayoutModel",
      "_view_count": null,
      "_view_module": "@jupyter-widgets/base",
      "_view_module_version": "1.2.0",
      "_view_name": "LayoutView",
      "align_content": null,
      "align_items": null,
      "align_self": null,
      "border": null,
      "bottom": null,
      "display": null,
      "flex": null,
      "flex_flow": null,
      "grid_area": null,
      "grid_auto_columns": null,
      "grid_auto_flow": null,
      "grid_auto_rows": null,
      "grid_column": null,
      "grid_gap": null,
      "grid_row": null,
      "grid_template_areas": null,
      "grid_template_columns": null,
      "grid_template_rows": null,
      "height": null,
      "justify_content": null,
      "justify_items": null,
      "left": null,
      "margin": null,
      "max_height": null,
      "max_width": null,
      "min_height": null,
      "min_width": null,
      "object_fit": null,
      "object_position": null,
      "order": null,
      "overflow": null,
      "overflow_x": null,
      "overflow_y": null,
      "padding": null,
      "right": null,
      "top": null,
      "visibility": null,
      "width": null
     }
    },
    "08694115d4e049109ca63c0aeb21166e": {
     "model_module": "@jupyter-widgets/controls",
     "model_module_version": "1.5.0",
     "model_name": "ProgressStyleModel",
     "state": {
      "_model_module": "@jupyter-widgets/controls",
      "_model_module_version": "1.5.0",
      "_model_name": "ProgressStyleModel",
      "_view_count": null,
      "_view_module": "@jupyter-widgets/base",
      "_view_module_version": "1.2.0",
      "_view_name": "StyleView",
      "bar_color": null,
      "description_width": ""
     }
    },
    "15a3f8c0e12a4983a0dd4d4d1d261d6e": {
     "model_module": "@jupyter-widgets/controls",
     "model_module_version": "1.5.0",
     "model_name": "DescriptionStyleModel",
     "state": {
      "_model_module": "@jupyter-widgets/controls",
      "_model_module_version": "1.5.0",
      "_model_name": "DescriptionStyleModel",
      "_view_count": null,
      "_view_module": "@jupyter-widgets/base",
      "_view_module_version": "1.2.0",
      "_view_name": "StyleView",
      "description_width": ""
     }
    },
    "22ce478e3e814c98a3f769e87cb36d53": {
     "model_module": "@jupyter-widgets/controls",
     "model_module_version": "1.5.0",
     "model_name": "HTMLModel",
     "state": {
      "_dom_classes": [],
      "_model_module": "@jupyter-widgets/controls",
      "_model_module_version": "1.5.0",
      "_model_name": "HTMLModel",
      "_view_count": null,
      "_view_module": "@jupyter-widgets/controls",
      "_view_module_version": "1.5.0",
      "_view_name": "HTMLView",
      "description": "",
      "description_tooltip": null,
      "layout": "IPY_MODEL_30cd6b03c29443f085137d385791dad6",
      "placeholder": "​",
      "style": "IPY_MODEL_15a3f8c0e12a4983a0dd4d4d1d261d6e",
      "value": " 40/40 [00:03&lt;00:00, 13.27it/s, train_auc=75.85%, skipped=24.49%]"
     }
    },
    "2bedab3b4c6242669116632eed1b2923": {
     "model_module": "@jupyter-widgets/controls",
     "model_module_version": "1.5.0",
     "model_name": "FloatProgressModel",
     "state": {
      "_dom_classes": [],
      "_model_module": "@jupyter-widgets/controls",
      "_model_module_version": "1.5.0",
      "_model_name": "FloatProgressModel",
      "_view_count": null,
      "_view_module": "@jupyter-widgets/controls",
      "_view_module_version": "1.5.0",
      "_view_name": "ProgressView",
      "bar_style": "success",
      "description": "",
      "description_tooltip": null,
      "layout": "IPY_MODEL_dcb7692a641f40908a63f2d42bd827f6",
      "max": 40,
      "min": 0,
      "orientation": "horizontal",
      "style": "IPY_MODEL_08694115d4e049109ca63c0aeb21166e",
      "value": 40
     }
    },
    "30cd6b03c29443f085137d385791dad6": {
     "model_module": "@jupyter-widgets/base",
     "model_module_version": "1.2.0",
     "model_name": "LayoutModel",
     "state": {
      "_model_module": "@jupyter-widgets/base",
      "_model_module_version": "1.2.0",
      "_model_name": "LayoutModel",
      "_view_count": null,
      "_view_module": "@jupyter-widgets/base",
      "_view_module_version": "1.2.0",
      "_view_name": "LayoutView",
      "align_content": null,
      "align_items": null,
      "align_self": null,
      "border": null,
      "bottom": null,
      "display": null,
      "flex": null,
      "flex_flow": null,
      "grid_area": null,
      "grid_auto_columns": null,
      "grid_auto_flow": null,
      "grid_auto_rows": null,
      "grid_column": null,
      "grid_gap": null,
      "grid_row": null,
      "grid_template_areas": null,
      "grid_template_columns": null,
      "grid_template_rows": null,
      "height": null,
      "justify_content": null,
      "justify_items": null,
      "left": null,
      "margin": null,
      "max_height": null,
      "max_width": null,
      "min_height": null,
      "min_width": null,
      "object_fit": null,
      "object_position": null,
      "order": null,
      "overflow": null,
      "overflow_x": null,
      "overflow_y": null,
      "padding": null,
      "right": null,
      "top": null,
      "visibility": null,
      "width": null
     }
    },
    "31682b08b4f24a22a67f765ce781eb63": {
     "model_module": "@jupyter-widgets/controls",
     "model_module_version": "1.5.0",
     "model_name": "HBoxModel",
     "state": {
      "_dom_classes": [],
      "_model_module": "@jupyter-widgets/controls",
      "_model_module_version": "1.5.0",
      "_model_name": "HBoxModel",
      "_view_count": null,
      "_view_module": "@jupyter-widgets/controls",
      "_view_module_version": "1.5.0",
      "_view_name": "HBoxView",
      "box_style": "",
      "children": [
       "IPY_MODEL_6cffd6817fad442a8c6055865a7a3ca3",
       "IPY_MODEL_5290262101ba4cafbbdc96ca69cb4dff",
       "IPY_MODEL_f050a1f323bf4ca3a21c7ff8b0f56f01"
      ],
      "layout": "IPY_MODEL_b47972aa90e34d619db1d0433ded96fe"
     }
    },
    "4030a4d1f8884bf395d7b7ca8002c3a2": {
     "model_module": "@jupyter-widgets/controls",
     "model_module_version": "1.5.0",
     "model_name": "HBoxModel",
     "state": {
      "_dom_classes": [],
      "_model_module": "@jupyter-widgets/controls",
      "_model_module_version": "1.5.0",
      "_model_name": "HBoxModel",
      "_view_count": null,
      "_view_module": "@jupyter-widgets/controls",
      "_view_module_version": "1.5.0",
      "_view_name": "HBoxView",
      "box_style": "",
      "children": [
       "IPY_MODEL_b443712c165c4c4b816967685fcdad7d",
       "IPY_MODEL_2bedab3b4c6242669116632eed1b2923",
       "IPY_MODEL_22ce478e3e814c98a3f769e87cb36d53"
      ],
      "layout": "IPY_MODEL_5fddbca398bc45a4ae5241611c89b221"
     }
    },
    "5290262101ba4cafbbdc96ca69cb4dff": {
     "model_module": "@jupyter-widgets/controls",
     "model_module_version": "1.5.0",
     "model_name": "FloatProgressModel",
     "state": {
      "_dom_classes": [],
      "_model_module": "@jupyter-widgets/controls",
      "_model_module_version": "1.5.0",
      "_model_name": "FloatProgressModel",
      "_view_count": null,
      "_view_module": "@jupyter-widgets/controls",
      "_view_module_version": "1.5.0",
      "_view_name": "ProgressView",
      "bar_style": "success",
      "description": "",
      "description_tooltip": null,
      "layout": "IPY_MODEL_065bb3bef4a34bbab8ef2f3c3832a4a2",
      "max": 10,
      "min": 0,
      "orientation": "horizontal",
      "style": "IPY_MODEL_7e03ed65a9aa4f85a4928f350f9d07e4",
      "value": 10
     }
    },
    "5fddbca398bc45a4ae5241611c89b221": {
     "model_module": "@jupyter-widgets/base",
     "model_module_version": "1.2.0",
     "model_name": "LayoutModel",
     "state": {
      "_model_module": "@jupyter-widgets/base",
      "_model_module_version": "1.2.0",
      "_model_name": "LayoutModel",
      "_view_count": null,
      "_view_module": "@jupyter-widgets/base",
      "_view_module_version": "1.2.0",
      "_view_name": "LayoutView",
      "align_content": null,
      "align_items": null,
      "align_self": null,
      "border": null,
      "bottom": null,
      "display": null,
      "flex": null,
      "flex_flow": null,
      "grid_area": null,
      "grid_auto_columns": null,
      "grid_auto_flow": null,
      "grid_auto_rows": null,
      "grid_column": null,
      "grid_gap": null,
      "grid_row": null,
      "grid_template_areas": null,
      "grid_template_columns": null,
      "grid_template_rows": null,
      "height": null,
      "justify_content": null,
      "justify_items": null,
      "left": null,
      "margin": null,
      "max_height": null,
      "max_width": null,
      "min_height": null,
      "min_width": null,
      "object_fit": null,
      "object_position": null,
      "order": null,
      "overflow": null,
      "overflow_x": null,
      "overflow_y": null,
      "padding": null,
      "right": null,
      "top": null,
      "visibility": null,
      "width": null
     }
    },
    "66ed84b7702f4e3a9fc1b264213638b1": {
     "model_module": "@jupyter-widgets/base",
     "model_module_version": "1.2.0",
     "model_name": "LayoutModel",
     "state": {
      "_model_module": "@jupyter-widgets/base",
      "_model_module_version": "1.2.0",
      "_model_name": "LayoutModel",
      "_view_count": null,
      "_view_module": "@jupyter-widgets/base",
      "_view_module_version": "1.2.0",
      "_view_name": "LayoutView",
      "align_content": null,
      "align_items": null,
      "align_self": null,
      "border": null,
      "bottom": null,
      "display": null,
      "flex": null,
      "flex_flow": null,
      "grid_area": null,
      "grid_auto_columns": null,
      "grid_auto_flow": null,
      "grid_auto_rows": null,
      "grid_column": null,
      "grid_gap": null,
      "grid_row": null,
      "grid_template_areas": null,
      "grid_template_columns": null,
      "grid_template_rows": null,
      "height": null,
      "justify_content": null,
      "justify_items": null,
      "left": null,
      "margin": null,
      "max_height": null,
      "max_width": null,
      "min_height": null,
      "min_width": null,
      "object_fit": null,
      "object_position": null,
      "order": null,
      "overflow": null,
      "overflow_x": null,
      "overflow_y": null,
      "padding": null,
      "right": null,
      "top": null,
      "visibility": null,
      "width": null
     }
    },
    "6cffd6817fad442a8c6055865a7a3ca3": {
     "model_module": "@jupyter-widgets/controls",
     "model_module_version": "1.5.0",
     "model_name": "HTMLModel",
     "state": {
      "_dom_classes": [],
      "_model_module": "@jupyter-widgets/controls",
      "_model_module_version": "1.5.0",
      "_model_name": "HTMLModel",
      "_view_count": null,
      "_view_module": "@jupyter-widgets/controls",
      "_view_module_version": "1.5.0",
      "_view_name": "HTMLView",
      "description": "",
      "description_tooltip": null,
      "layout": "IPY_MODEL_dbc96b10461e447e9e1f166f19848ce4",
      "placeholder": "​",
      "style": "IPY_MODEL_6fbc59bbb7da4a1a8fc90552383031e6",
      "value": "100%"
     }
    },
    "6fbc59bbb7da4a1a8fc90552383031e6": {
     "model_module": "@jupyter-widgets/controls",
     "model_module_version": "1.5.0",
     "model_name": "DescriptionStyleModel",
     "state": {
      "_model_module": "@jupyter-widgets/controls",
      "_model_module_version": "1.5.0",
      "_model_name": "DescriptionStyleModel",
      "_view_count": null,
      "_view_module": "@jupyter-widgets/base",
      "_view_module_version": "1.2.0",
      "_view_name": "StyleView",
      "description_width": ""
     }
    },
    "7e03ed65a9aa4f85a4928f350f9d07e4": {
     "model_module": "@jupyter-widgets/controls",
     "model_module_version": "1.5.0",
     "model_name": "ProgressStyleModel",
     "state": {
      "_model_module": "@jupyter-widgets/controls",
      "_model_module_version": "1.5.0",
      "_model_name": "ProgressStyleModel",
      "_view_count": null,
      "_view_module": "@jupyter-widgets/base",
      "_view_module_version": "1.2.0",
      "_view_name": "StyleView",
      "bar_color": null,
      "description_width": ""
     }
    },
    "b443712c165c4c4b816967685fcdad7d": {
     "model_module": "@jupyter-widgets/controls",
     "model_module_version": "1.5.0",
     "model_name": "HTMLModel",
     "state": {
      "_dom_classes": [],
      "_model_module": "@jupyter-widgets/controls",
      "_model_module_version": "1.5.0",
      "_model_name": "HTMLModel",
      "_view_count": null,
      "_view_module": "@jupyter-widgets/controls",
      "_view_module_version": "1.5.0",
      "_view_name": "HTMLView",
      "description": "",
      "description_tooltip": null,
      "layout": "IPY_MODEL_bd3f817134474d859695c1300e3f3d3f",
      "placeholder": "​",
      "style": "IPY_MODEL_d57aa26ad8a74612ae8c2a002e10dd95",
      "value": "100%"
     }
    },
    "b47972aa90e34d619db1d0433ded96fe": {
     "model_module": "@jupyter-widgets/base",
     "model_module_version": "1.2.0",
     "model_name": "LayoutModel",
     "state": {
      "_model_module": "@jupyter-widgets/base",
      "_model_module_version": "1.2.0",
      "_model_name": "LayoutModel",
      "_view_count": null,
      "_view_module": "@jupyter-widgets/base",
      "_view_module_version": "1.2.0",
      "_view_name": "LayoutView",
      "align_content": null,
      "align_items": null,
      "align_self": null,
      "border": null,
      "bottom": null,
      "display": null,
      "flex": null,
      "flex_flow": null,
      "grid_area": null,
      "grid_auto_columns": null,
      "grid_auto_flow": null,
      "grid_auto_rows": null,
      "grid_column": null,
      "grid_gap": null,
      "grid_row": null,
      "grid_template_areas": null,
      "grid_template_columns": null,
      "grid_template_rows": null,
      "height": null,
      "justify_content": null,
      "justify_items": null,
      "left": null,
      "margin": null,
      "max_height": null,
      "max_width": null,
      "min_height": null,
      "min_width": null,
      "object_fit": null,
      "object_position": null,
      "order": null,
      "overflow": null,
      "overflow_x": null,
      "overflow_y": null,
      "padding": null,
      "right": null,
      "top": null,
      "visibility": null,
      "width": null
     }
    },
    "bd3f817134474d859695c1300e3f3d3f": {
     "model_module": "@jupyter-widgets/base",
     "model_module_version": "1.2.0",
     "model_name": "LayoutModel",
     "state": {
      "_model_module": "@jupyter-widgets/base",
      "_model_module_version": "1.2.0",
      "_model_name": "LayoutModel",
      "_view_count": null,
      "_view_module": "@jupyter-widgets/base",
      "_view_module_version": "1.2.0",
      "_view_name": "LayoutView",
      "align_content": null,
      "align_items": null,
      "align_self": null,
      "border": null,
      "bottom": null,
      "display": null,
      "flex": null,
      "flex_flow": null,
      "grid_area": null,
      "grid_auto_columns": null,
      "grid_auto_flow": null,
      "grid_auto_rows": null,
      "grid_column": null,
      "grid_gap": null,
      "grid_row": null,
      "grid_template_areas": null,
      "grid_template_columns": null,
      "grid_template_rows": null,
      "height": null,
      "justify_content": null,
      "justify_items": null,
      "left": null,
      "margin": null,
      "max_height": null,
      "max_width": null,
      "min_height": null,
      "min_width": null,
      "object_fit": null,
      "object_position": null,
      "order": null,
      "overflow": null,
      "overflow_x": null,
      "overflow_y": null,
      "padding": null,
      "right": null,
      "top": null,
      "visibility": null,
      "width": null
     }
    },
    "d57aa26ad8a74612ae8c2a002e10dd95": {
     "model_module": "@jupyter-widgets/controls",
     "model_module_version": "1.5.0",
     "model_name": "DescriptionStyleModel",
     "state": {
      "_model_module": "@jupyter-widgets/controls",
      "_model_module_version": "1.5.0",
      "_model_name": "DescriptionStyleModel",
      "_view_count": null,
      "_view_module": "@jupyter-widgets/base",
      "_view_module_version": "1.2.0",
      "_view_name": "StyleView",
      "description_width": ""
     }
    },
    "dbc96b10461e447e9e1f166f19848ce4": {
     "model_module": "@jupyter-widgets/base",
     "model_module_version": "1.2.0",
     "model_name": "LayoutModel",
     "state": {
      "_model_module": "@jupyter-widgets/base",
      "_model_module_version": "1.2.0",
      "_model_name": "LayoutModel",
      "_view_count": null,
      "_view_module": "@jupyter-widgets/base",
      "_view_module_version": "1.2.0",
      "_view_name": "LayoutView",
      "align_content": null,
      "align_items": null,
      "align_self": null,
      "border": null,
      "bottom": null,
      "display": null,
      "flex": null,
      "flex_flow": null,
      "grid_area": null,
      "grid_auto_columns": null,
      "grid_auto_flow": null,
      "grid_auto_rows": null,
      "grid_column": null,
      "grid_gap": null,
      "grid_row": null,
      "grid_template_areas": null,
      "grid_template_columns": null,
      "grid_template_rows": null,
      "height": null,
      "justify_content": null,
      "justify_items": null,
      "left": null,
      "margin": null,
      "max_height": null,
      "max_width": null,
      "min_height": null,
      "min_width": null,
      "object_fit": null,
      "object_position": null,
      "order": null,
      "overflow": null,
      "overflow_x": null,
      "overflow_y": null,
      "padding": null,
      "right": null,
      "top": null,
      "visibility": null,
      "width": null
     }
    },
    "dcb7692a641f40908a63f2d42bd827f6": {
     "model_module": "@jupyter-widgets/base",
     "model_module_version": "1.2.0",
     "model_name": "LayoutModel",
     "state": {
      "_model_module": "@jupyter-widgets/base",
      "_model_module_version": "1.2.0",
      "_model_name": "LayoutModel",
      "_view_count": null,
      "_view_module": "@jupyter-widgets/base",
      "_view_module_version": "1.2.0",
      "_view_name": "LayoutView",
      "align_content": null,
      "align_items": null,
      "align_self": null,
      "border": null,
      "bottom": null,
      "display": null,
      "flex": null,
      "flex_flow": null,
      "grid_area": null,
      "grid_auto_columns": null,
      "grid_auto_flow": null,
      "grid_auto_rows": null,
      "grid_column": null,
      "grid_gap": null,
      "grid_row": null,
      "grid_template_areas": null,
      "grid_template_columns": null,
      "grid_template_rows": null,
      "height": null,
      "justify_content": null,
      "justify_items": null,
      "left": null,
      "margin": null,
      "max_height": null,
      "max_width": null,
      "min_height": null,
      "min_width": null,
      "object_fit": null,
      "object_position": null,
      "order": null,
      "overflow": null,
      "overflow_x": null,
      "overflow_y": null,
      "padding": null,
      "right": null,
      "top": null,
      "visibility": null,
      "width": null
     }
    },
    "e9688991c7db4e77a6c2e758bded7fcb": {
     "model_module": "@jupyter-widgets/controls",
     "model_module_version": "1.5.0",
     "model_name": "DescriptionStyleModel",
     "state": {
      "_model_module": "@jupyter-widgets/controls",
      "_model_module_version": "1.5.0",
      "_model_name": "DescriptionStyleModel",
      "_view_count": null,
      "_view_module": "@jupyter-widgets/base",
      "_view_module_version": "1.2.0",
      "_view_name": "StyleView",
      "description_width": ""
     }
    },
    "f050a1f323bf4ca3a21c7ff8b0f56f01": {
     "model_module": "@jupyter-widgets/controls",
     "model_module_version": "1.5.0",
     "model_name": "HTMLModel",
     "state": {
      "_dom_classes": [],
      "_model_module": "@jupyter-widgets/controls",
      "_model_module_version": "1.5.0",
      "_model_name": "HTMLModel",
      "_view_count": null,
      "_view_module": "@jupyter-widgets/controls",
      "_view_module_version": "1.5.0",
      "_view_name": "HTMLView",
      "description": "",
      "description_tooltip": null,
      "layout": "IPY_MODEL_66ed84b7702f4e3a9fc1b264213638b1",
      "placeholder": "​",
      "style": "IPY_MODEL_e9688991c7db4e77a6c2e758bded7fcb",
      "value": " 10/10 [00:03&lt;00:00,  3.51it/s]"
     }
    }
   }
  }
 },
 "nbformat": 4,
 "nbformat_minor": 1
}
