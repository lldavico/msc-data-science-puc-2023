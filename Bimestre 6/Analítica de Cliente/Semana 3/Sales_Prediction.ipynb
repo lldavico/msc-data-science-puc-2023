{
  "cells": [
    {
      "cell_type": "markdown",
      "metadata": {
        "id": "VGzXJyj6JMae"
      },
      "source": [
        "La data viene de https://www.kaggle.com/datasets/carrie1/ecommerce-data?rvi=1"
      ]
    },
    {
      "cell_type": "code",
      "execution_count": 2,
      "metadata": {
        "id": "D_FHyXMhzJpt"
      },
      "outputs": [],
      "source": [
        "import pandas as pd\n",
        "df=pd.read_csv(\"content/data.csv\", encoding=\"ISO-8859-1\", dtype={'CustomerID': str})"
      ]
    },
    {
      "cell_type": "code",
      "execution_count": 3,
      "metadata": {
        "colab": {
          "base_uri": "https://localhost:8080/"
        },
        "id": "IDx9of2h2tuO",
        "outputId": "12104efd-1554-4f52-a862-81b49f54938a"
      },
      "outputs": [
        {
          "data": {
            "text/plain": [
              "(541909, 8)"
            ]
          },
          "execution_count": 3,
          "metadata": {},
          "output_type": "execute_result"
        }
      ],
      "source": [
        "df.shape"
      ]
    },
    {
      "cell_type": "code",
      "execution_count": 4,
      "metadata": {
        "colab": {
          "base_uri": "https://localhost:8080/"
        },
        "id": "hKFm73ki2dLr",
        "outputId": "06da24d4-d914-49c1-c262-93493697a7f4"
      },
      "outputs": [
        {
          "data": {
            "text/plain": [
              "InvoiceNo       0.000000\n",
              "StockCode       0.000000\n",
              "Description     0.268311\n",
              "Quantity        0.000000\n",
              "InvoiceDate     0.000000\n",
              "UnitPrice       0.000000\n",
              "CustomerID     24.926694\n",
              "Country         0.000000\n",
              "dtype: float64"
            ]
          },
          "execution_count": 4,
          "metadata": {},
          "output_type": "execute_result"
        }
      ],
      "source": [
        "missing_percentage = df.isnull().sum() / df.shape[0] * 100\n",
        "missing_percentage"
      ]
    },
    {
      "cell_type": "code",
      "execution_count": 5,
      "metadata": {
        "colab": {
          "base_uri": "https://localhost:8080/"
        },
        "id": "E1wQSyv8Lc2F",
        "outputId": "a4881ac1-5d8a-437e-a2a5-504070a58bff"
      },
      "outputs": [
        {
          "data": {
            "text/plain": [
              "InvoiceNo      0.0\n",
              "StockCode      0.0\n",
              "Description    0.0\n",
              "Quantity       0.0\n",
              "InvoiceDate    0.0\n",
              "UnitPrice      0.0\n",
              "CustomerID     0.0\n",
              "Country        0.0\n",
              "dtype: float64"
            ]
          },
          "execution_count": 5,
          "metadata": {},
          "output_type": "execute_result"
        }
      ],
      "source": [
        "df=df.dropna(axis=0)\n",
        "missing_percentage = df.isnull().sum() / df.shape[0] * 100\n",
        "missing_percentage"
      ]
    },
    {
      "cell_type": "code",
      "execution_count": 7,
      "metadata": {
        "colab": {
          "base_uri": "https://localhost:8080/"
        },
        "id": "De3iQ3-GLrdH",
        "outputId": "7c861f15-fcc8-494b-e65f-b5a1ec471368"
      },
      "outputs": [
        {
          "data": {
            "text/html": [
              "<div>\n",
              "<style scoped>\n",
              "    .dataframe tbody tr th:only-of-type {\n",
              "        vertical-align: middle;\n",
              "    }\n",
              "\n",
              "    .dataframe tbody tr th {\n",
              "        vertical-align: top;\n",
              "    }\n",
              "\n",
              "    .dataframe thead th {\n",
              "        text-align: right;\n",
              "    }\n",
              "</style>\n",
              "<table border=\"1\" class=\"dataframe\">\n",
              "  <thead>\n",
              "    <tr style=\"text-align: right;\">\n",
              "      <th></th>\n",
              "      <th>InvoiceNo</th>\n",
              "      <th>StockCode</th>\n",
              "      <th>Description</th>\n",
              "      <th>Quantity</th>\n",
              "      <th>InvoiceDate</th>\n",
              "      <th>UnitPrice</th>\n",
              "      <th>CustomerID</th>\n",
              "      <th>Country</th>\n",
              "    </tr>\n",
              "  </thead>\n",
              "  <tbody>\n",
              "    <tr>\n",
              "      <th>0</th>\n",
              "      <td>536365</td>\n",
              "      <td>85123A</td>\n",
              "      <td>WHITE HANGING HEART T-LIGHT HOLDER</td>\n",
              "      <td>6</td>\n",
              "      <td>12/1/2010 8:26</td>\n",
              "      <td>2.55</td>\n",
              "      <td>17850</td>\n",
              "      <td>United Kingdom</td>\n",
              "    </tr>\n",
              "    <tr>\n",
              "      <th>1</th>\n",
              "      <td>536365</td>\n",
              "      <td>71053</td>\n",
              "      <td>WHITE METAL LANTERN</td>\n",
              "      <td>6</td>\n",
              "      <td>12/1/2010 8:26</td>\n",
              "      <td>3.39</td>\n",
              "      <td>17850</td>\n",
              "      <td>United Kingdom</td>\n",
              "    </tr>\n",
              "    <tr>\n",
              "      <th>2</th>\n",
              "      <td>536365</td>\n",
              "      <td>84406B</td>\n",
              "      <td>CREAM CUPID HEARTS COAT HANGER</td>\n",
              "      <td>8</td>\n",
              "      <td>12/1/2010 8:26</td>\n",
              "      <td>2.75</td>\n",
              "      <td>17850</td>\n",
              "      <td>United Kingdom</td>\n",
              "    </tr>\n",
              "    <tr>\n",
              "      <th>3</th>\n",
              "      <td>536365</td>\n",
              "      <td>84029G</td>\n",
              "      <td>KNITTED UNION FLAG HOT WATER BOTTLE</td>\n",
              "      <td>6</td>\n",
              "      <td>12/1/2010 8:26</td>\n",
              "      <td>3.39</td>\n",
              "      <td>17850</td>\n",
              "      <td>United Kingdom</td>\n",
              "    </tr>\n",
              "    <tr>\n",
              "      <th>4</th>\n",
              "      <td>536365</td>\n",
              "      <td>84029E</td>\n",
              "      <td>RED WOOLLY HOTTIE WHITE HEART.</td>\n",
              "      <td>6</td>\n",
              "      <td>12/1/2010 8:26</td>\n",
              "      <td>3.39</td>\n",
              "      <td>17850</td>\n",
              "      <td>United Kingdom</td>\n",
              "    </tr>\n",
              "  </tbody>\n",
              "</table>\n",
              "</div>"
            ],
            "text/plain": [
              "  InvoiceNo StockCode                          Description  Quantity  \\\n",
              "0    536365    85123A   WHITE HANGING HEART T-LIGHT HOLDER         6   \n",
              "1    536365     71053                  WHITE METAL LANTERN         6   \n",
              "2    536365    84406B       CREAM CUPID HEARTS COAT HANGER         8   \n",
              "3    536365    84029G  KNITTED UNION FLAG HOT WATER BOTTLE         6   \n",
              "4    536365    84029E       RED WOOLLY HOTTIE WHITE HEART.         6   \n",
              "\n",
              "      InvoiceDate  UnitPrice CustomerID         Country  \n",
              "0  12/1/2010 8:26       2.55      17850  United Kingdom  \n",
              "1  12/1/2010 8:26       3.39      17850  United Kingdom  \n",
              "2  12/1/2010 8:26       2.75      17850  United Kingdom  \n",
              "3  12/1/2010 8:26       3.39      17850  United Kingdom  \n",
              "4  12/1/2010 8:26       3.39      17850  United Kingdom  "
            ]
          },
          "execution_count": 7,
          "metadata": {},
          "output_type": "execute_result"
        }
      ],
      "source": [
        "df.head()"
      ]
    },
    {
      "cell_type": "code",
      "execution_count": 8,
      "metadata": {
        "colab": {
          "base_uri": "https://localhost:8080/"
        },
        "id": "zRjwvp_l3L7r",
        "outputId": "901f7b82-0a1b-41f2-a06f-94129728271d"
      },
      "outputs": [
        {
          "data": {
            "text/plain": [
              "WHITE HANGING HEART T-LIGHT HOLDER    2070\n",
              "REGENCY CAKESTAND 3 TIER              1905\n",
              "JUMBO BAG RED RETROSPOT               1662\n",
              "ASSORTED COLOUR BIRD ORNAMENT         1418\n",
              "PARTY BUNTING                         1416\n",
              "Name: Description, dtype: int64"
            ]
          },
          "execution_count": 8,
          "metadata": {},
          "output_type": "execute_result"
        }
      ],
      "source": [
        "top_products=df['Description'].value_counts().nlargest(5)\n",
        "top_products"
      ]
    },
    {
      "cell_type": "code",
      "execution_count": null,
      "metadata": {
        "id": "G2XmD063L5Wy"
      },
      "outputs": [],
      "source": []
    },
    {
      "cell_type": "markdown",
      "metadata": {
        "id": "hQn9Eu8KJ25q"
      },
      "source": [
        "Generaremos columnas con los valores más comunes, para perfilar el tipo de compra de cada cliente."
      ]
    },
    {
      "cell_type": "code",
      "execution_count": 9,
      "metadata": {
        "colab": {
          "base_uri": "https://localhost:8080/",
          "height": 423
        },
        "id": "7bOIuwYOL6fq",
        "outputId": "868f2d9a-4672-4776-e6ea-ae1114b0af5a"
      },
      "outputs": [
        {
          "data": {
            "text/html": [
              "<div>\n",
              "<style scoped>\n",
              "    .dataframe tbody tr th:only-of-type {\n",
              "        vertical-align: middle;\n",
              "    }\n",
              "\n",
              "    .dataframe tbody tr th {\n",
              "        vertical-align: top;\n",
              "    }\n",
              "\n",
              "    .dataframe thead th {\n",
              "        text-align: right;\n",
              "    }\n",
              "</style>\n",
              "<table border=\"1\" class=\"dataframe\">\n",
              "  <thead>\n",
              "    <tr style=\"text-align: right;\">\n",
              "      <th></th>\n",
              "      <th>CustomerID</th>\n",
              "      <th>Description</th>\n",
              "      <th>ItemCount</th>\n",
              "    </tr>\n",
              "  </thead>\n",
              "  <tbody>\n",
              "    <tr>\n",
              "      <th>0</th>\n",
              "      <td>12346</td>\n",
              "      <td>MEDIUM CERAMIC TOP STORAGE JAR</td>\n",
              "      <td>2</td>\n",
              "    </tr>\n",
              "    <tr>\n",
              "      <th>1</th>\n",
              "      <td>12347</td>\n",
              "      <td>3D DOG PICTURE PLAYING CARDS</td>\n",
              "      <td>5</td>\n",
              "    </tr>\n",
              "    <tr>\n",
              "      <th>2</th>\n",
              "      <td>12347</td>\n",
              "      <td>3D SHEET OF CAT STICKERS</td>\n",
              "      <td>1</td>\n",
              "    </tr>\n",
              "    <tr>\n",
              "      <th>3</th>\n",
              "      <td>12347</td>\n",
              "      <td>3D SHEET OF DOG STICKERS</td>\n",
              "      <td>1</td>\n",
              "    </tr>\n",
              "    <tr>\n",
              "      <th>4</th>\n",
              "      <td>12347</td>\n",
              "      <td>60 TEATIME FAIRY CAKE CASES</td>\n",
              "      <td>3</td>\n",
              "    </tr>\n",
              "    <tr>\n",
              "      <th>...</th>\n",
              "      <td>...</td>\n",
              "      <td>...</td>\n",
              "      <td>...</td>\n",
              "    </tr>\n",
              "    <tr>\n",
              "      <th>269152</th>\n",
              "      <td>18287</td>\n",
              "      <td>STAR T-LIGHT HOLDER WILLIE WINKIE</td>\n",
              "      <td>1</td>\n",
              "    </tr>\n",
              "    <tr>\n",
              "      <th>269153</th>\n",
              "      <td>18287</td>\n",
              "      <td>STRAWBERRY BATH SPONGE</td>\n",
              "      <td>1</td>\n",
              "    </tr>\n",
              "    <tr>\n",
              "      <th>269154</th>\n",
              "      <td>18287</td>\n",
              "      <td>STRAWBERRY CERAMIC TRINKET BOX</td>\n",
              "      <td>1</td>\n",
              "    </tr>\n",
              "    <tr>\n",
              "      <th>269155</th>\n",
              "      <td>18287</td>\n",
              "      <td>SWISS CHALET TREE DECORATION</td>\n",
              "      <td>2</td>\n",
              "    </tr>\n",
              "    <tr>\n",
              "      <th>269156</th>\n",
              "      <td>18287</td>\n",
              "      <td>TREE T-LIGHT HOLDER WILLIE WINKIE</td>\n",
              "      <td>1</td>\n",
              "    </tr>\n",
              "  </tbody>\n",
              "</table>\n",
              "<p>269157 rows × 3 columns</p>\n",
              "</div>"
            ],
            "text/plain": [
              "       CustomerID                        Description  ItemCount\n",
              "0           12346     MEDIUM CERAMIC TOP STORAGE JAR          2\n",
              "1           12347       3D DOG PICTURE PLAYING CARDS          5\n",
              "2           12347           3D SHEET OF CAT STICKERS          1\n",
              "3           12347           3D SHEET OF DOG STICKERS          1\n",
              "4           12347        60 TEATIME FAIRY CAKE CASES          3\n",
              "...           ...                                ...        ...\n",
              "269152      18287  STAR T-LIGHT HOLDER WILLIE WINKIE          1\n",
              "269153      18287            STRAWBERRY BATH SPONGE           1\n",
              "269154      18287     STRAWBERRY CERAMIC TRINKET BOX          1\n",
              "269155      18287      SWISS CHALET TREE DECORATION           2\n",
              "269156      18287  TREE T-LIGHT HOLDER WILLIE WINKIE          1\n",
              "\n",
              "[269157 rows x 3 columns]"
            ]
          },
          "execution_count": 9,
          "metadata": {},
          "output_type": "execute_result"
        }
      ],
      "source": [
        "dfGroupedItem=df.groupby(['CustomerID','Description']).agg(ItemCount=('InvoiceNo', 'count')).reset_index()\n",
        "dfGroupedItem"
      ]
    },
    {
      "cell_type": "code",
      "execution_count": 8,
      "metadata": {
        "id": "Xz_TVhjLKcCx"
      },
      "outputs": [],
      "source": [
        "# Create a new DataFrame with a column for each of the top products\n",
        "pivot_df = pd.pivot_table(dfGroupedItem, index=dfGroupedItem.index, columns='Description', aggfunc=lambda x: 1 if x.iloc[0] in top_products else 0)\n",
        "\n",
        "# Fill NaN values with 0\n",
        "pivot_df = pivot_df.fillna(0)\n",
        "\n",
        "pivot_df.head()"
      ]
    },
    {
      "cell_type": "code",
      "execution_count": 10,
      "metadata": {
        "id": "9UK2DEM8-ItO"
      },
      "outputs": [],
      "source": [
        "df['TotalValue']=df['UnitPrice']*df['Quantity']"
      ]
    },
    {
      "cell_type": "code",
      "execution_count": 11,
      "metadata": {
        "id": "5ynyBjMB_dEq"
      },
      "outputs": [
        {
          "data": {
            "text/html": [
              "<div>\n",
              "<style scoped>\n",
              "    .dataframe tbody tr th:only-of-type {\n",
              "        vertical-align: middle;\n",
              "    }\n",
              "\n",
              "    .dataframe tbody tr th {\n",
              "        vertical-align: top;\n",
              "    }\n",
              "\n",
              "    .dataframe thead th {\n",
              "        text-align: right;\n",
              "    }\n",
              "</style>\n",
              "<table border=\"1\" class=\"dataframe\">\n",
              "  <thead>\n",
              "    <tr style=\"text-align: right;\">\n",
              "      <th></th>\n",
              "      <th>CustomerID</th>\n",
              "      <th>InvoiceNo</th>\n",
              "      <th>InvoiceDate</th>\n",
              "      <th>TotalValue</th>\n",
              "    </tr>\n",
              "  </thead>\n",
              "  <tbody>\n",
              "    <tr>\n",
              "      <th>0</th>\n",
              "      <td>12346</td>\n",
              "      <td>541431</td>\n",
              "      <td>1/18/2011 10:01</td>\n",
              "      <td>77183.60</td>\n",
              "    </tr>\n",
              "    <tr>\n",
              "      <th>1</th>\n",
              "      <td>12346</td>\n",
              "      <td>C541433</td>\n",
              "      <td>1/18/2011 10:17</td>\n",
              "      <td>-77183.60</td>\n",
              "    </tr>\n",
              "    <tr>\n",
              "      <th>2</th>\n",
              "      <td>12347</td>\n",
              "      <td>537626</td>\n",
              "      <td>12/7/2010 14:57</td>\n",
              "      <td>711.79</td>\n",
              "    </tr>\n",
              "    <tr>\n",
              "      <th>3</th>\n",
              "      <td>12347</td>\n",
              "      <td>542237</td>\n",
              "      <td>1/26/2011 14:30</td>\n",
              "      <td>475.39</td>\n",
              "    </tr>\n",
              "    <tr>\n",
              "      <th>4</th>\n",
              "      <td>12347</td>\n",
              "      <td>549222</td>\n",
              "      <td>4/7/2011 10:43</td>\n",
              "      <td>636.25</td>\n",
              "    </tr>\n",
              "  </tbody>\n",
              "</table>\n",
              "</div>"
            ],
            "text/plain": [
              "  CustomerID InvoiceNo      InvoiceDate  TotalValue\n",
              "0      12346    541431  1/18/2011 10:01    77183.60\n",
              "1      12346   C541433  1/18/2011 10:17   -77183.60\n",
              "2      12347    537626  12/7/2010 14:57      711.79\n",
              "3      12347    542237  1/26/2011 14:30      475.39\n",
              "4      12347    549222   4/7/2011 10:43      636.25"
            ]
          },
          "execution_count": 11,
          "metadata": {},
          "output_type": "execute_result"
        }
      ],
      "source": [
        "df_grouped=df.groupby(['CustomerID', 'InvoiceNo']).agg({'InvoiceDate':'first', 'TotalValue':'sum'}).reset_index()\n",
        "\n",
        "df_grouped.head()"
      ]
    },
    {
      "cell_type": "code",
      "execution_count": 12,
      "metadata": {
        "id": "eUCnQOTlAdXS"
      },
      "outputs": [],
      "source": [
        "df_grouped['InvoiceDate']=pd.to_datetime(df_grouped['InvoiceDate'])\n",
        "df_grouped=df_grouped.sort_values(['CustomerID', 'InvoiceDate'])"
      ]
    },
    {
      "cell_type": "markdown",
      "metadata": {
        "id": "lflkENwxdoNO"
      },
      "source": []
    },
    {
      "cell_type": "code",
      "execution_count": 13,
      "metadata": {
        "colab": {
          "base_uri": "https://localhost:8080/",
          "height": 206
        },
        "id": "VZ88lyw1CEif",
        "outputId": "5e29734d-592d-4432-84b9-d953f76afb03"
      },
      "outputs": [
        {
          "data": {
            "text/html": [
              "<div>\n",
              "<style scoped>\n",
              "    .dataframe tbody tr th:only-of-type {\n",
              "        vertical-align: middle;\n",
              "    }\n",
              "\n",
              "    .dataframe tbody tr th {\n",
              "        vertical-align: top;\n",
              "    }\n",
              "\n",
              "    .dataframe thead th {\n",
              "        text-align: right;\n",
              "    }\n",
              "</style>\n",
              "<table border=\"1\" class=\"dataframe\">\n",
              "  <thead>\n",
              "    <tr style=\"text-align: right;\">\n",
              "      <th></th>\n",
              "      <th>CustomerID</th>\n",
              "      <th>InvoiceNo</th>\n",
              "      <th>InvoiceDate</th>\n",
              "      <th>TotalValue</th>\n",
              "    </tr>\n",
              "  </thead>\n",
              "  <tbody>\n",
              "    <tr>\n",
              "      <th>0</th>\n",
              "      <td>12346</td>\n",
              "      <td>541431</td>\n",
              "      <td>2011-01-18 10:01:00</td>\n",
              "      <td>77183.60</td>\n",
              "    </tr>\n",
              "    <tr>\n",
              "      <th>1</th>\n",
              "      <td>12346</td>\n",
              "      <td>C541433</td>\n",
              "      <td>2011-01-18 10:17:00</td>\n",
              "      <td>-77183.60</td>\n",
              "    </tr>\n",
              "    <tr>\n",
              "      <th>2</th>\n",
              "      <td>12347</td>\n",
              "      <td>537626</td>\n",
              "      <td>2010-12-07 14:57:00</td>\n",
              "      <td>711.79</td>\n",
              "    </tr>\n",
              "    <tr>\n",
              "      <th>3</th>\n",
              "      <td>12347</td>\n",
              "      <td>542237</td>\n",
              "      <td>2011-01-26 14:30:00</td>\n",
              "      <td>475.39</td>\n",
              "    </tr>\n",
              "    <tr>\n",
              "      <th>4</th>\n",
              "      <td>12347</td>\n",
              "      <td>549222</td>\n",
              "      <td>2011-04-07 10:43:00</td>\n",
              "      <td>636.25</td>\n",
              "    </tr>\n",
              "  </tbody>\n",
              "</table>\n",
              "</div>"
            ],
            "text/plain": [
              "  CustomerID InvoiceNo         InvoiceDate  TotalValue\n",
              "0      12346    541431 2011-01-18 10:01:00    77183.60\n",
              "1      12346   C541433 2011-01-18 10:17:00   -77183.60\n",
              "2      12347    537626 2010-12-07 14:57:00      711.79\n",
              "3      12347    542237 2011-01-26 14:30:00      475.39\n",
              "4      12347    549222 2011-04-07 10:43:00      636.25"
            ]
          },
          "execution_count": 13,
          "metadata": {},
          "output_type": "execute_result"
        }
      ],
      "source": [
        "df_grouped.head()"
      ]
    },
    {
      "cell_type": "code",
      "execution_count": 14,
      "metadata": {
        "cellView": "form",
        "colab": {
          "base_uri": "https://localhost:8080/",
          "height": 452
        },
        "id": "chOMaQEJPjDq",
        "outputId": "c352a042-d7ec-464d-80f2-51733316d338"
      },
      "outputs": [
        {
          "data": {
            "image/png": "[encoded data removed]",
            "text/plain": [
              "<Figure size 640x480 with 1 Axes>"
            ]
          },
          "metadata": {},
          "output_type": "display_data"
        }
      ],
      "source": [
        "# @title TotalValue\n",
        "\n",
        "from matplotlib import pyplot as plt\n",
        "df_grouped['TotalValue'].plot(kind='hist', bins=20, title='TotalValue')\n",
        "plt.gca().spines[['top', 'right',]].set_visible(False)"
      ]
    },
    {
      "cell_type": "code",
      "execution_count": 15,
      "metadata": {
        "colab": {
          "base_uri": "https://localhost:8080/",
          "height": 300
        },
        "id": "gvJQwrXBPeQx",
        "outputId": "7ae41d0a-bdc8-4a98-bbea-d4fc21f2aaef"
      },
      "outputs": [
        {
          "data": {
            "text/html": [
              "<div>\n",
              "<style scoped>\n",
              "    .dataframe tbody tr th:only-of-type {\n",
              "        vertical-align: middle;\n",
              "    }\n",
              "\n",
              "    .dataframe tbody tr th {\n",
              "        vertical-align: top;\n",
              "    }\n",
              "\n",
              "    .dataframe thead th {\n",
              "        text-align: right;\n",
              "    }\n",
              "</style>\n",
              "<table border=\"1\" class=\"dataframe\">\n",
              "  <thead>\n",
              "    <tr style=\"text-align: right;\">\n",
              "      <th></th>\n",
              "      <th>Quantity</th>\n",
              "      <th>UnitPrice</th>\n",
              "      <th>TotalValue</th>\n",
              "    </tr>\n",
              "  </thead>\n",
              "  <tbody>\n",
              "    <tr>\n",
              "      <th>count</th>\n",
              "      <td>406829.000000</td>\n",
              "      <td>406829.000000</td>\n",
              "      <td>406829.000000</td>\n",
              "    </tr>\n",
              "    <tr>\n",
              "      <th>mean</th>\n",
              "      <td>12.061303</td>\n",
              "      <td>3.460471</td>\n",
              "      <td>20.401854</td>\n",
              "    </tr>\n",
              "    <tr>\n",
              "      <th>std</th>\n",
              "      <td>248.693370</td>\n",
              "      <td>69.315162</td>\n",
              "      <td>427.591718</td>\n",
              "    </tr>\n",
              "    <tr>\n",
              "      <th>min</th>\n",
              "      <td>-80995.000000</td>\n",
              "      <td>0.000000</td>\n",
              "      <td>-168469.600000</td>\n",
              "    </tr>\n",
              "    <tr>\n",
              "      <th>25%</th>\n",
              "      <td>2.000000</td>\n",
              "      <td>1.250000</td>\n",
              "      <td>4.200000</td>\n",
              "    </tr>\n",
              "    <tr>\n",
              "      <th>50%</th>\n",
              "      <td>5.000000</td>\n",
              "      <td>1.950000</td>\n",
              "      <td>11.100000</td>\n",
              "    </tr>\n",
              "    <tr>\n",
              "      <th>75%</th>\n",
              "      <td>12.000000</td>\n",
              "      <td>3.750000</td>\n",
              "      <td>19.500000</td>\n",
              "    </tr>\n",
              "    <tr>\n",
              "      <th>max</th>\n",
              "      <td>80995.000000</td>\n",
              "      <td>38970.000000</td>\n",
              "      <td>168469.600000</td>\n",
              "    </tr>\n",
              "  </tbody>\n",
              "</table>\n",
              "</div>"
            ],
            "text/plain": [
              "            Quantity      UnitPrice     TotalValue\n",
              "count  406829.000000  406829.000000  406829.000000\n",
              "mean       12.061303       3.460471      20.401854\n",
              "std       248.693370      69.315162     427.591718\n",
              "min    -80995.000000       0.000000 -168469.600000\n",
              "25%         2.000000       1.250000       4.200000\n",
              "50%         5.000000       1.950000      11.100000\n",
              "75%        12.000000       3.750000      19.500000\n",
              "max     80995.000000   38970.000000  168469.600000"
            ]
          },
          "execution_count": 15,
          "metadata": {},
          "output_type": "execute_result"
        }
      ],
      "source": [
        "df.describe()"
      ]
    },
    {
      "cell_type": "code",
      "execution_count": 17,
      "metadata": {
        "id": "VYsz_mdkBinq"
      },
      "outputs": [
        {
          "data": {
            "text/html": [
              "<div>\n",
              "<style scoped>\n",
              "    .dataframe tbody tr th:only-of-type {\n",
              "        vertical-align: middle;\n",
              "    }\n",
              "\n",
              "    .dataframe tbody tr th {\n",
              "        vertical-align: top;\n",
              "    }\n",
              "\n",
              "    .dataframe thead th {\n",
              "        text-align: right;\n",
              "    }\n",
              "</style>\n",
              "<table border=\"1\" class=\"dataframe\">\n",
              "  <thead>\n",
              "    <tr style=\"text-align: right;\">\n",
              "      <th></th>\n",
              "      <th>CustomerID</th>\n",
              "      <th>InvoiceNo</th>\n",
              "      <th>InvoiceDate</th>\n",
              "      <th>TotalValue</th>\n",
              "      <th>DateDiff</th>\n",
              "    </tr>\n",
              "  </thead>\n",
              "  <tbody>\n",
              "    <tr>\n",
              "      <th>0</th>\n",
              "      <td>12346</td>\n",
              "      <td>541431</td>\n",
              "      <td>2011-01-18 10:01:00</td>\n",
              "      <td>77183.60</td>\n",
              "      <td>NaN</td>\n",
              "    </tr>\n",
              "    <tr>\n",
              "      <th>1</th>\n",
              "      <td>12346</td>\n",
              "      <td>C541433</td>\n",
              "      <td>2011-01-18 10:17:00</td>\n",
              "      <td>-77183.60</td>\n",
              "      <td>0.0</td>\n",
              "    </tr>\n",
              "    <tr>\n",
              "      <th>2</th>\n",
              "      <td>12347</td>\n",
              "      <td>537626</td>\n",
              "      <td>2010-12-07 14:57:00</td>\n",
              "      <td>711.79</td>\n",
              "      <td>NaN</td>\n",
              "    </tr>\n",
              "    <tr>\n",
              "      <th>3</th>\n",
              "      <td>12347</td>\n",
              "      <td>542237</td>\n",
              "      <td>2011-01-26 14:30:00</td>\n",
              "      <td>475.39</td>\n",
              "      <td>49.0</td>\n",
              "    </tr>\n",
              "    <tr>\n",
              "      <th>4</th>\n",
              "      <td>12347</td>\n",
              "      <td>549222</td>\n",
              "      <td>2011-04-07 10:43:00</td>\n",
              "      <td>636.25</td>\n",
              "      <td>70.0</td>\n",
              "    </tr>\n",
              "    <tr>\n",
              "      <th>...</th>\n",
              "      <td>...</td>\n",
              "      <td>...</td>\n",
              "      <td>...</td>\n",
              "      <td>...</td>\n",
              "      <td>...</td>\n",
              "    </tr>\n",
              "    <tr>\n",
              "      <th>22185</th>\n",
              "      <td>18283</td>\n",
              "      <td>579673</td>\n",
              "      <td>2011-11-30 12:59:00</td>\n",
              "      <td>223.61</td>\n",
              "      <td>6.0</td>\n",
              "    </tr>\n",
              "    <tr>\n",
              "      <th>22186</th>\n",
              "      <td>18283</td>\n",
              "      <td>580872</td>\n",
              "      <td>2011-12-06 12:02:00</td>\n",
              "      <td>208.00</td>\n",
              "      <td>5.0</td>\n",
              "    </tr>\n",
              "    <tr>\n",
              "      <th>22187</th>\n",
              "      <td>18287</td>\n",
              "      <td>554065</td>\n",
              "      <td>2011-05-22 10:39:00</td>\n",
              "      <td>765.28</td>\n",
              "      <td>NaN</td>\n",
              "    </tr>\n",
              "    <tr>\n",
              "      <th>22188</th>\n",
              "      <td>18287</td>\n",
              "      <td>570715</td>\n",
              "      <td>2011-10-12 10:23:00</td>\n",
              "      <td>1001.32</td>\n",
              "      <td>142.0</td>\n",
              "    </tr>\n",
              "    <tr>\n",
              "      <th>22189</th>\n",
              "      <td>18287</td>\n",
              "      <td>573167</td>\n",
              "      <td>2011-10-28 09:29:00</td>\n",
              "      <td>70.68</td>\n",
              "      <td>15.0</td>\n",
              "    </tr>\n",
              "  </tbody>\n",
              "</table>\n",
              "<p>22190 rows × 5 columns</p>\n",
              "</div>"
            ],
            "text/plain": [
              "      CustomerID InvoiceNo         InvoiceDate  TotalValue  DateDiff\n",
              "0          12346    541431 2011-01-18 10:01:00    77183.60       NaN\n",
              "1          12346   C541433 2011-01-18 10:17:00   -77183.60       0.0\n",
              "2          12347    537626 2010-12-07 14:57:00      711.79       NaN\n",
              "3          12347    542237 2011-01-26 14:30:00      475.39      49.0\n",
              "4          12347    549222 2011-04-07 10:43:00      636.25      70.0\n",
              "...          ...       ...                 ...         ...       ...\n",
              "22185      18283    579673 2011-11-30 12:59:00      223.61       6.0\n",
              "22186      18283    580872 2011-12-06 12:02:00      208.00       5.0\n",
              "22187      18287    554065 2011-05-22 10:39:00      765.28       NaN\n",
              "22188      18287    570715 2011-10-12 10:23:00     1001.32     142.0\n",
              "22189      18287    573167 2011-10-28 09:29:00       70.68      15.0\n",
              "\n",
              "[22190 rows x 5 columns]"
            ]
          },
          "execution_count": 17,
          "metadata": {},
          "output_type": "execute_result"
        }
      ],
      "source": [
        "df_grouped['DateDiff'] = df_grouped.groupby('CustomerID')['InvoiceDate'].diff().dt.days\n",
        "df_grouped"
      ]
    },
    {
      "cell_type": "code",
      "execution_count": 19,
      "metadata": {
        "colab": {
          "base_uri": "https://localhost:8080/"
        },
        "id": "1OsW82D2CIS4",
        "outputId": "030c3a49-c143-4199-dc19-5117f5998012"
      },
      "outputs": [
        {
          "data": {
            "text/plain": [
              "CustomerID      0.000000\n",
              "InvoiceNo       0.000000\n",
              "InvoiceDate     0.000000\n",
              "TotalValue      0.000000\n",
              "DateDiff       19.702569\n",
              "dtype: float64"
            ]
          },
          "execution_count": 19,
          "metadata": {},
          "output_type": "execute_result"
        }
      ],
      "source": [
        "missing_percentage = df_grouped.isnull().sum() / df_grouped.shape[0] * 100\n",
        "missing_percentage"
      ]
    },
    {
      "cell_type": "code",
      "execution_count": 20,
      "metadata": {
        "colab": {
          "base_uri": "https://localhost:8080/"
        },
        "id": "_rqk1GwT-CsG",
        "outputId": "29ad61a4-263a-4294-d602-414c8dd91ad1"
      },
      "outputs": [
        {
          "data": {
            "text/plain": [
              "CustomerID     0.0\n",
              "InvoiceNo      0.0\n",
              "InvoiceDate    0.0\n",
              "TotalValue     0.0\n",
              "DateDiff       0.0\n",
              "dtype: float64"
            ]
          },
          "execution_count": 20,
          "metadata": {},
          "output_type": "execute_result"
        }
      ],
      "source": [
        "# Drop columns with missing values\n",
        "df_grouped = df_grouped.dropna(axis=0)\n",
        "missing_percentage = df_grouped.isnull().sum() / df_grouped.shape[0] * 100\n",
        "missing_percentage"
      ]
    },
    {
      "cell_type": "code",
      "execution_count": 22,
      "metadata": {
        "colab": {
          "base_uri": "https://localhost:8080/",
          "height": 300
        },
        "id": "SJIpP8ypSSqH",
        "outputId": "0173ced1-c478-4770-f066-1824f6e679cd"
      },
      "outputs": [
        {
          "data": {
            "text/html": [
              "<div>\n",
              "<style scoped>\n",
              "    .dataframe tbody tr th:only-of-type {\n",
              "        vertical-align: middle;\n",
              "    }\n",
              "\n",
              "    .dataframe tbody tr th {\n",
              "        vertical-align: top;\n",
              "    }\n",
              "\n",
              "    .dataframe thead th {\n",
              "        text-align: right;\n",
              "    }\n",
              "</style>\n",
              "<table border=\"1\" class=\"dataframe\">\n",
              "  <thead>\n",
              "    <tr style=\"text-align: right;\">\n",
              "      <th></th>\n",
              "      <th>CustomerID</th>\n",
              "      <th>InvoiceNo</th>\n",
              "      <th>InvoiceDate</th>\n",
              "      <th>TotalValue</th>\n",
              "      <th>DateDiff</th>\n",
              "    </tr>\n",
              "  </thead>\n",
              "  <tbody>\n",
              "    <tr>\n",
              "      <th>1</th>\n",
              "      <td>12346</td>\n",
              "      <td>C541433</td>\n",
              "      <td>2011-01-18 10:17:00</td>\n",
              "      <td>-77183.60</td>\n",
              "      <td>0.0</td>\n",
              "    </tr>\n",
              "    <tr>\n",
              "      <th>3</th>\n",
              "      <td>12347</td>\n",
              "      <td>542237</td>\n",
              "      <td>2011-01-26 14:30:00</td>\n",
              "      <td>475.39</td>\n",
              "      <td>49.0</td>\n",
              "    </tr>\n",
              "    <tr>\n",
              "      <th>4</th>\n",
              "      <td>12347</td>\n",
              "      <td>549222</td>\n",
              "      <td>2011-04-07 10:43:00</td>\n",
              "      <td>636.25</td>\n",
              "      <td>70.0</td>\n",
              "    </tr>\n",
              "    <tr>\n",
              "      <th>5</th>\n",
              "      <td>12347</td>\n",
              "      <td>556201</td>\n",
              "      <td>2011-06-09 13:01:00</td>\n",
              "      <td>382.52</td>\n",
              "      <td>63.0</td>\n",
              "    </tr>\n",
              "    <tr>\n",
              "      <th>6</th>\n",
              "      <td>12347</td>\n",
              "      <td>562032</td>\n",
              "      <td>2011-08-02 08:48:00</td>\n",
              "      <td>584.91</td>\n",
              "      <td>53.0</td>\n",
              "    </tr>\n",
              "    <tr>\n",
              "      <th>...</th>\n",
              "      <td>...</td>\n",
              "      <td>...</td>\n",
              "      <td>...</td>\n",
              "      <td>...</td>\n",
              "      <td>...</td>\n",
              "    </tr>\n",
              "    <tr>\n",
              "      <th>22184</th>\n",
              "      <td>18283</td>\n",
              "      <td>578262</td>\n",
              "      <td>2011-11-23 13:27:00</td>\n",
              "      <td>313.65</td>\n",
              "      <td>12.0</td>\n",
              "    </tr>\n",
              "    <tr>\n",
              "      <th>22185</th>\n",
              "      <td>18283</td>\n",
              "      <td>579673</td>\n",
              "      <td>2011-11-30 12:59:00</td>\n",
              "      <td>223.61</td>\n",
              "      <td>6.0</td>\n",
              "    </tr>\n",
              "    <tr>\n",
              "      <th>22186</th>\n",
              "      <td>18283</td>\n",
              "      <td>580872</td>\n",
              "      <td>2011-12-06 12:02:00</td>\n",
              "      <td>208.00</td>\n",
              "      <td>5.0</td>\n",
              "    </tr>\n",
              "    <tr>\n",
              "      <th>22188</th>\n",
              "      <td>18287</td>\n",
              "      <td>570715</td>\n",
              "      <td>2011-10-12 10:23:00</td>\n",
              "      <td>1001.32</td>\n",
              "      <td>142.0</td>\n",
              "    </tr>\n",
              "    <tr>\n",
              "      <th>22189</th>\n",
              "      <td>18287</td>\n",
              "      <td>573167</td>\n",
              "      <td>2011-10-28 09:29:00</td>\n",
              "      <td>70.68</td>\n",
              "      <td>15.0</td>\n",
              "    </tr>\n",
              "  </tbody>\n",
              "</table>\n",
              "<p>17818 rows × 5 columns</p>\n",
              "</div>"
            ],
            "text/plain": [
              "      CustomerID InvoiceNo         InvoiceDate  TotalValue  DateDiff\n",
              "1          12346   C541433 2011-01-18 10:17:00   -77183.60       0.0\n",
              "3          12347    542237 2011-01-26 14:30:00      475.39      49.0\n",
              "4          12347    549222 2011-04-07 10:43:00      636.25      70.0\n",
              "5          12347    556201 2011-06-09 13:01:00      382.52      63.0\n",
              "6          12347    562032 2011-08-02 08:48:00      584.91      53.0\n",
              "...          ...       ...                 ...         ...       ...\n",
              "22184      18283    578262 2011-11-23 13:27:00      313.65      12.0\n",
              "22185      18283    579673 2011-11-30 12:59:00      223.61       6.0\n",
              "22186      18283    580872 2011-12-06 12:02:00      208.00       5.0\n",
              "22188      18287    570715 2011-10-12 10:23:00     1001.32     142.0\n",
              "22189      18287    573167 2011-10-28 09:29:00       70.68      15.0\n",
              "\n",
              "[17818 rows x 5 columns]"
            ]
          },
          "execution_count": 22,
          "metadata": {},
          "output_type": "execute_result"
        }
      ],
      "source": [
        "df_grouped.describe()\n",
        "df_grouped"
      ]
    },
    {
      "cell_type": "code",
      "execution_count": 23,
      "metadata": {
        "colab": {
          "base_uri": "https://localhost:8080/"
        },
        "id": "g1uRXjviTj4H",
        "outputId": "605769ec-4033-4439-eebe-cbd452964832"
      },
      "outputs": [
        {
          "data": {
            "text/plain": [
              "(14339, 5)"
            ]
          },
          "execution_count": 23,
          "metadata": {},
          "output_type": "execute_result"
        }
      ],
      "source": [
        "df_grouped = df_grouped[(df_grouped['TotalValue'] > 0)]\n",
        "df_grouped.shape"
      ]
    },
    {
      "cell_type": "code",
      "execution_count": 25,
      "metadata": {},
      "outputs": [
        {
          "data": {
            "text/html": [
              "<div>\n",
              "<style scoped>\n",
              "    .dataframe tbody tr th:only-of-type {\n",
              "        vertical-align: middle;\n",
              "    }\n",
              "\n",
              "    .dataframe tbody tr th {\n",
              "        vertical-align: top;\n",
              "    }\n",
              "\n",
              "    .dataframe thead th {\n",
              "        text-align: right;\n",
              "    }\n",
              "</style>\n",
              "<table border=\"1\" class=\"dataframe\">\n",
              "  <thead>\n",
              "    <tr style=\"text-align: right;\">\n",
              "      <th></th>\n",
              "      <th>CustomerID</th>\n",
              "      <th>InvoiceNo</th>\n",
              "      <th>InvoiceDate</th>\n",
              "      <th>TotalValue</th>\n",
              "      <th>DateDiff</th>\n",
              "    </tr>\n",
              "  </thead>\n",
              "  <tbody>\n",
              "    <tr>\n",
              "      <th>3</th>\n",
              "      <td>12347</td>\n",
              "      <td>542237</td>\n",
              "      <td>2011-01-26 14:30:00</td>\n",
              "      <td>475.39</td>\n",
              "      <td>49.0</td>\n",
              "    </tr>\n",
              "    <tr>\n",
              "      <th>4</th>\n",
              "      <td>12347</td>\n",
              "      <td>549222</td>\n",
              "      <td>2011-04-07 10:43:00</td>\n",
              "      <td>636.25</td>\n",
              "      <td>70.0</td>\n",
              "    </tr>\n",
              "    <tr>\n",
              "      <th>5</th>\n",
              "      <td>12347</td>\n",
              "      <td>556201</td>\n",
              "      <td>2011-06-09 13:01:00</td>\n",
              "      <td>382.52</td>\n",
              "      <td>63.0</td>\n",
              "    </tr>\n",
              "    <tr>\n",
              "      <th>6</th>\n",
              "      <td>12347</td>\n",
              "      <td>562032</td>\n",
              "      <td>2011-08-02 08:48:00</td>\n",
              "      <td>584.91</td>\n",
              "      <td>53.0</td>\n",
              "    </tr>\n",
              "    <tr>\n",
              "      <th>7</th>\n",
              "      <td>12347</td>\n",
              "      <td>573511</td>\n",
              "      <td>2011-10-31 12:25:00</td>\n",
              "      <td>1294.32</td>\n",
              "      <td>90.0</td>\n",
              "    </tr>\n",
              "    <tr>\n",
              "      <th>...</th>\n",
              "      <td>...</td>\n",
              "      <td>...</td>\n",
              "      <td>...</td>\n",
              "      <td>...</td>\n",
              "      <td>...</td>\n",
              "    </tr>\n",
              "    <tr>\n",
              "      <th>22184</th>\n",
              "      <td>18283</td>\n",
              "      <td>578262</td>\n",
              "      <td>2011-11-23 13:27:00</td>\n",
              "      <td>313.65</td>\n",
              "      <td>12.0</td>\n",
              "    </tr>\n",
              "    <tr>\n",
              "      <th>22185</th>\n",
              "      <td>18283</td>\n",
              "      <td>579673</td>\n",
              "      <td>2011-11-30 12:59:00</td>\n",
              "      <td>223.61</td>\n",
              "      <td>6.0</td>\n",
              "    </tr>\n",
              "    <tr>\n",
              "      <th>22186</th>\n",
              "      <td>18283</td>\n",
              "      <td>580872</td>\n",
              "      <td>2011-12-06 12:02:00</td>\n",
              "      <td>208.00</td>\n",
              "      <td>5.0</td>\n",
              "    </tr>\n",
              "    <tr>\n",
              "      <th>22188</th>\n",
              "      <td>18287</td>\n",
              "      <td>570715</td>\n",
              "      <td>2011-10-12 10:23:00</td>\n",
              "      <td>1001.32</td>\n",
              "      <td>142.0</td>\n",
              "    </tr>\n",
              "    <tr>\n",
              "      <th>22189</th>\n",
              "      <td>18287</td>\n",
              "      <td>573167</td>\n",
              "      <td>2011-10-28 09:29:00</td>\n",
              "      <td>70.68</td>\n",
              "      <td>15.0</td>\n",
              "    </tr>\n",
              "  </tbody>\n",
              "</table>\n",
              "<p>14339 rows × 5 columns</p>\n",
              "</div>"
            ],
            "text/plain": [
              "      CustomerID InvoiceNo         InvoiceDate  TotalValue  DateDiff\n",
              "3          12347    542237 2011-01-26 14:30:00      475.39      49.0\n",
              "4          12347    549222 2011-04-07 10:43:00      636.25      70.0\n",
              "5          12347    556201 2011-06-09 13:01:00      382.52      63.0\n",
              "6          12347    562032 2011-08-02 08:48:00      584.91      53.0\n",
              "7          12347    573511 2011-10-31 12:25:00     1294.32      90.0\n",
              "...          ...       ...                 ...         ...       ...\n",
              "22184      18283    578262 2011-11-23 13:27:00      313.65      12.0\n",
              "22185      18283    579673 2011-11-30 12:59:00      223.61       6.0\n",
              "22186      18283    580872 2011-12-06 12:02:00      208.00       5.0\n",
              "22188      18287    570715 2011-10-12 10:23:00     1001.32     142.0\n",
              "22189      18287    573167 2011-10-28 09:29:00       70.68      15.0\n",
              "\n",
              "[14339 rows x 5 columns]"
            ]
          },
          "execution_count": 25,
          "metadata": {},
          "output_type": "execute_result"
        }
      ],
      "source": [
        "df_grouped"
      ]
    },
    {
      "cell_type": "code",
      "execution_count": 28,
      "metadata": {
        "colab": {
          "base_uri": "https://localhost:8080/",
          "height": 773
        },
        "id": "zhP5GjqnHnL-",
        "outputId": "83501c06-7664-4efc-da9f-499a874c31d7"
      },
      "outputs": [
        {
          "name": "stderr",
          "output_type": "stream",
          "text": [
            "/var/folders/5x/tlp5fd614dv9y_wn8nmtqv4rqq_frn/T/ipykernel_72104/2470266219.py:7: SettingWithCopyWarning: \n",
            "A value is trying to be set on a copy of a slice from a DataFrame.\n",
            "Try using .loc[row_indexer,col_indexer] = value instead\n",
            "\n",
            "See the caveats in the documentation: https://pandas.pydata.org/pandas-docs/stable/user_guide/indexing.html#returning-a-view-versus-a-copy\n",
            "  df_grouped[['TotalValue', 'DateDiff']] = scaler.fit_transform(df_grouped[['TotalValue', 'DateDiff']])\n"
          ]
        },
        {
          "data": {
            "text/html": [
              "<div>\n",
              "<style scoped>\n",
              "    .dataframe tbody tr th:only-of-type {\n",
              "        vertical-align: middle;\n",
              "    }\n",
              "\n",
              "    .dataframe tbody tr th {\n",
              "        vertical-align: top;\n",
              "    }\n",
              "\n",
              "    .dataframe thead th {\n",
              "        text-align: right;\n",
              "    }\n",
              "</style>\n",
              "<table border=\"1\" class=\"dataframe\">\n",
              "  <thead>\n",
              "    <tr style=\"text-align: right;\">\n",
              "      <th></th>\n",
              "      <th>CustomerID</th>\n",
              "      <th>InvoiceNo</th>\n",
              "      <th>InvoiceDate</th>\n",
              "      <th>TotalValue</th>\n",
              "      <th>DateDiff</th>\n",
              "    </tr>\n",
              "  </thead>\n",
              "  <tbody>\n",
              "    <tr>\n",
              "      <th>3</th>\n",
              "      <td>12347</td>\n",
              "      <td>542237</td>\n",
              "      <td>2011-01-26 14:30:00</td>\n",
              "      <td>-0.012347</td>\n",
              "      <td>0.225187</td>\n",
              "    </tr>\n",
              "    <tr>\n",
              "      <th>4</th>\n",
              "      <td>12347</td>\n",
              "      <td>549222</td>\n",
              "      <td>2011-04-07 10:43:00</td>\n",
              "      <td>0.078471</td>\n",
              "      <td>0.632322</td>\n",
              "    </tr>\n",
              "    <tr>\n",
              "      <th>5</th>\n",
              "      <td>12347</td>\n",
              "      <td>556201</td>\n",
              "      <td>2011-06-09 13:01:00</td>\n",
              "      <td>-0.064779</td>\n",
              "      <td>0.496610</td>\n",
              "    </tr>\n",
              "    <tr>\n",
              "      <th>6</th>\n",
              "      <td>12347</td>\n",
              "      <td>562032</td>\n",
              "      <td>2011-08-02 08:48:00</td>\n",
              "      <td>0.049485</td>\n",
              "      <td>0.302736</td>\n",
              "    </tr>\n",
              "    <tr>\n",
              "      <th>7</th>\n",
              "      <td>12347</td>\n",
              "      <td>573511</td>\n",
              "      <td>2011-10-31 12:25:00</td>\n",
              "      <td>0.449999</td>\n",
              "      <td>1.020069</td>\n",
              "    </tr>\n",
              "  </tbody>\n",
              "</table>\n",
              "</div>"
            ],
            "text/plain": [
              "  CustomerID InvoiceNo         InvoiceDate  TotalValue  DateDiff\n",
              "3      12347    542237 2011-01-26 14:30:00   -0.012347  0.225187\n",
              "4      12347    549222 2011-04-07 10:43:00    0.078471  0.632322\n",
              "5      12347    556201 2011-06-09 13:01:00   -0.064779  0.496610\n",
              "6      12347    562032 2011-08-02 08:48:00    0.049485  0.302736\n",
              "7      12347    573511 2011-10-31 12:25:00    0.449999  1.020069"
            ]
          },
          "metadata": {},
          "output_type": "display_data"
        },
        {
          "name": "stderr",
          "output_type": "stream",
          "text": [
            "/opt/homebrew/lib/python3.11/site-packages/sklearn/cluster/_kmeans.py:870: FutureWarning: The default value of `n_init` will change from 10 to 'auto' in 1.4. Set the value of `n_init` explicitly to suppress the warning\n",
            "  warnings.warn(\n"
          ]
        },
        {
          "data": {
            "image/png": "[encoded data removed]",
            "text/plain": [
              "<Figure size 1000x800 with 1 Axes>"
            ]
          },
          "metadata": {},
          "output_type": "display_data"
        }
      ],
      "source": [
        "# prompt: cluster and graph TotalValue y DateDiff from df_grouped, remember to normalize variables, plot the clusters without the scaling\n",
        "\n",
        "import matplotlib.pyplot as plt\n",
        "# Normalize the variables\n",
        "from sklearn.preprocessing import StandardScaler\n",
        "scaler = StandardScaler()\n",
        "df_grouped[['TotalValue', 'DateDiff']] = scaler.fit_transform(df_grouped[['TotalValue', 'DateDiff']])\n",
        "display(df_grouped.head())\n",
        "\n",
        "# Perform clustering\n",
        "from sklearn.cluster import KMeans\n",
        "kmeans = KMeans(n_clusters=3)\n",
        "kmeans.fit(df_grouped[['TotalValue', 'DateDiff']])\n",
        "\n",
        "# Plot the clusters\n",
        "plt.figure(figsize=(10, 8))\n",
        "plt.scatter(df_grouped['TotalValue'], df_grouped['DateDiff'], c=kmeans.labels_, cmap='rainbow')\n",
        "plt.xlabel('TotalValue')\n",
        "plt.ylabel('DateDiff')\n",
        "plt.title('Customer Clusters')\n",
        "plt.show()\n"
      ]
    },
    {
      "cell_type": "code",
      "execution_count": 29,
      "metadata": {
        "colab": {
          "base_uri": "https://localhost:8080/"
        },
        "id": "KKvZW8idT6wB",
        "outputId": "51c4cda6-3a65-4603-923b-dba0e099f20f"
      },
      "outputs": [
        {
          "name": "stdout",
          "output_type": "stream",
          "text": [
            "Score: 0.9989539748953975\n"
          ]
        }
      ],
      "source": [
        "from sklearn.model_selection import train_test_split\n",
        "\n",
        "# Separate into training and evaluation datasets\n",
        "X_train, X_test, y_train, y_test = train_test_split(\n",
        "    df_grouped[['TotalValue', 'DateDiff']],\n",
        "    kmeans.labels_,\n",
        "    test_size=0.2,\n",
        "    random_state=42\n",
        ")\n",
        "\n",
        "# Create a machine learning classifier\n",
        "from sklearn.linear_model import LogisticRegression\n",
        "classifier = LogisticRegression()\n",
        "\n",
        "# Train the classifier\n",
        "classifier.fit(X_train, y_train)\n",
        "\n",
        "# Evaluate the classifier\n",
        "score = classifier.score(X_test, y_test)\n",
        "print(\"Score:\", score)\n"
      ]
    },
    {
      "cell_type": "code",
      "execution_count": 30,
      "metadata": {
        "colab": {
          "base_uri": "https://localhost:8080/",
          "height": 773
        },
        "id": "J6XDbH57UexW",
        "outputId": "353b2968-1aef-40e1-df90-7cef37eecf91"
      },
      "outputs": [
        {
          "name": "stderr",
          "output_type": "stream",
          "text": [
            "/opt/homebrew/lib/python3.11/site-packages/sklearn/base.py:439: UserWarning: X does not have valid feature names, but LogisticRegression was fitted with feature names\n",
            "  warnings.warn(\n"
          ]
        },
        {
          "data": {
            "image/png": "[encoded data removed]",
            "text/plain": [
              "<Figure size 1000x800 with 1 Axes>"
            ]
          },
          "metadata": {},
          "output_type": "display_data"
        }
      ],
      "source": [
        "# prompt: plot according the results from the previous model\n",
        "\n",
        "import matplotlib.pyplot as plt\n",
        "import numpy as np\n",
        "# Plot the decision boundary\n",
        "plt.figure(figsize=(10, 8))\n",
        "plt.scatter(df_grouped['TotalValue'], df_grouped['DateDiff'], c=kmeans.labels_, cmap='rainbow')\n",
        "plt.xlabel('TotalValue')\n",
        "plt.ylabel('DateDiff')\n",
        "plt.title('Customer Clusters')\n",
        "\n",
        "# Plot the decision boundary\n",
        "x_min, x_max = df_grouped['TotalValue'].min() - 1, df_grouped['TotalValue'].max() + 1\n",
        "y_min, y_max = df_grouped['DateDiff'].min() - 1, df_grouped['DateDiff'].max() + 1\n",
        "xx, yy = np.meshgrid(np.arange(x_min, x_max, 0.1), np.arange(y_min, y_max, 0.1))\n",
        "Z = classifier.predict(np.c_[xx.ravel(), yy.ravel()])\n",
        "Z = Z.reshape(xx.shape)\n",
        "plt.contour(xx, yy, Z, cmap='rainbow')\n",
        "\n",
        "plt.show()\n"
      ]
    },
    {
      "cell_type": "code",
      "execution_count": null,
      "metadata": {},
      "outputs": [],
      "source": []
    }
  ],
  "metadata": {
    "colab": {
      "provenance": []
    },
    "kernelspec": {
      "display_name": "Python 3",
      "name": "python3"
    },
    "language_info": {
      "codemirror_mode": {
        "name": "ipython",
        "version": 3
      },
      "file_extension": ".py",
      "mimetype": "text/x-python",
      "name": "python",
      "nbconvert_exporter": "python",
      "pygments_lexer": "ipython3",
      "version": "3.11.3"
    }
  },
  "nbformat": 4,
  "nbformat_minor": 0
}
